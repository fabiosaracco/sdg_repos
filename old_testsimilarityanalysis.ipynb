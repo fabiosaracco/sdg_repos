{
 "cells": [
  {
   "cell_type": "markdown",
   "id": "09cfc407",
   "metadata": {},
   "source": [
    "### CODE SAMPLE ###"
   ]
  },
  {
   "cell_type": "code",
   "execution_count": 1,
   "id": "9474ff60",
   "metadata": {},
   "outputs": [],
   "source": [
    "from sentence_transformers import SentenceTransformer\n",
    "from pypdf import PdfReader\n"
   ]
  },
  {
   "cell_type": "markdown",
   "id": "e2edf2ea",
   "metadata": {},
   "source": [
    "**The models can be found on https://www.sbert.net/ and on the original hugginface**"
   ]
  },
  {
   "cell_type": "code",
   "execution_count": 35,
   "id": "3fc40e64",
   "metadata": {},
   "outputs": [],
   "source": [
    "model = SentenceTransformer(\"all-MiniLM-L6-v2\")"
   ]
  },
  {
   "cell_type": "code",
   "execution_count": 36,
   "id": "20840416",
   "metadata": {},
   "outputs": [],
   "source": [
    "from sklearn.metrics.pairwise import cosine_similarity"
   ]
  },
  {
   "cell_type": "code",
   "execution_count": 134,
   "id": "d23b28d4",
   "metadata": {},
   "outputs": [
    {
     "name": "stdout",
     "output_type": "stream",
     "text": [
      "60\n",
      "74\n"
     ]
    }
   ],
   "source": [
    "reader = PdfReader('prompt.pdf')\n",
    "print(len(reader.pages)) \n",
    "prompt = []\n",
    "page = reader.pages[8]   \n",
    "prompt = page.extract_text()\n",
    "\n",
    "prompt_embedding = model.encode(prompt)\n",
    "\n",
    "reader = PdfReader('report.pdf')\n",
    "print(len(reader.pages))  \n",
    "page = reader.pages[10]   \n",
    "report = page.extract_text()\n",
    "\n",
    "report_embedding  = model.encode(report)"
   ]
  },
  {
   "cell_type": "markdown",
   "id": "44491775",
   "metadata": {},
   "source": [
    "**Vectors should be reshaped with -1, 1 to get something like (384,1)**"
   ]
  },
  {
   "cell_type": "code",
   "execution_count": 135,
   "id": "c3e25e71",
   "metadata": {},
   "outputs": [
    {
     "data": {
      "text/plain": [
       "'REPORTING AGAINST ASPIRATIONS\\nThis table represents a selection of global metrics that we track within Shell. It helps us assess our performance as we continue to integrate sustainability \\nacross\\xa0our\\xa0business. It shows our goals and progress in 2015 and our focus for 2016.\\nFor example, Goal Zero was introduced for personal safety in 2007 . Since then, we have broadened the goal to aim for no harm to people and the environment \\nacross our\\xa0business. More information on our performance, definitions of the indicators and the referenced goals are provided on pages 52 and 53 .\\nGOALS, PERFORMANCE AND PLANS FOR 2016 AND BEYOND\\nGoals Progress in 2015 Priorities in 2016PERSONAL \\nSAFETY2015 goal: achieve total recordable case  \\nfrequency (TRCF) below 1.13 for employees \\nand\\xa0contractors.\\nGoal Zero has been our ambition for personal \\nsafety since 2007 . We continue to make progress towards Goal Zero. For more information see page\\xa033.■■Work with contractors in our safety \\nimprovement programmes and simplify\\xa0contracts.\\n■■Support the development and application of\\xa0common industry safety standards.\\n2005 2014 2015\\n2.5 0.99 0.94PROCESS SAFETY2015 goal: achieve a number of operational \\nleaks below 65 (classified as “Operational \\nProcess Safety Tier 1 events”).\\nSince 201 1, we have extended our ambition  \\nof Goal Zero to process safety. The number of process safety events has \\ndecreased. For more information see page\\xa033.■■Strengthen our process safety risk awareness.\\n■■Keep a strong focus on asset integrity and \\noperational discipline.\\n2012 2014 2015\\n91 57 51ENVIRONMENT2015 goal: achieve operational spills below  \\na volume of 1.2  (‘000 tonnes) (Classified  \\nas “hydrocarbons reaching soil or water”).\\nGoal Zero also extends to the environment  \\nwith our goal of no operational spills.The volume of operational spills slightly \\nincreased but we continued to reduce the number of\\xa0operational spills. For more information see page 36.■■Continue to invest in improving the reliability \\nof our facilities to reduce operational spills.\\n■■Ensure we are effective in learning from spill\\xa0incidents.\\n2005 2014 2015\\n3.4 0.7 0.8GHG & ENERGY2015 goal: reduce flaring in our upstream \\nbusiness (million tonnes CO2 equivalent).\\nOur policy is to reduce any continuous flaring or venting to as low a level as reasonably practical.\\nIn 2015, we signed the World Bank \\nZero\\xa0Routine\\xa0Flaring 2030 initiative.We continued to implement measures to reduce our operational flaring. Overall, reductions in some locations were partly offset by higher production. For more information see page 28.■■Implement the flaring reduction projects \\ncurrently underway.\\n■■Work with the World Bank to find solutions to host-government funding for flaring reduction projects.\\n2005 2014 2015\\n20.8 13.0 11.8GHG & ENERGY2015 goal: achieve a refineries energy \\nintensity\\xa0below 96.3 (based on the Refineries \\nEnergy Index).\\nWe aim to achieve top level energy-efficiency \\nperformance in our refineries.\\nImprove energy efficiency to reduce our \\ngreenhouse gas\\xa0emissions.Our refinery energy intensity level increased slightly. For more information see\\xa0page 36.  \\n ■■Monitor existing energy efficiency projects.\\n■■Share best practice within Shell.\\n■■Continue to focus on reliable and \\nefficient\\xa0operations.\\n2012 2014 2015\\n98.4 94.9 95.4SOCIAL2015 goal: improve effectiveness of  \\ncommunity feedback.\\nSince 2012, our community feedback \\nmechanisms (CFM) have been used to address community concerns. We track the effectiveness of CFMs to improve the quality of our reporting.We strengthened the quality of our data, and as a result we:\\n■■included noise as a category in relevant \\nmonitoring programmes;\\n■■used the data to inform our social investment in Nigeria, to increase the participation of local community groups.\\nFor more information see page 38.■■Introduce an online community feedback  \\ntool to improve the quality of reporting and tracking of community feedback.\\nSHELL SUSTAINABILITY REPORT 201507\\nINTRODUCTION'"
      ]
     },
     "execution_count": 135,
     "metadata": {},
     "output_type": "execute_result"
    }
   ],
   "source": [
    "prompt"
   ]
  },
  {
   "cell_type": "code",
   "execution_count": 136,
   "id": "33abae6c",
   "metadata": {},
   "outputs": [
    {
     "data": {
      "text/plain": [
       "\"Goals and performance for 2016 and priorities in 2017\\n2016 Goal\\nAchieve total recordable case frequency (TRCF) –\\nthe number of injuries per million working hours –\\nbelow 0.96 for employees and contractors.\\nGoal Zero has been our ambition for personal\\nsafety since 2007\\nIn 2016, TRCF slightly increased compared to\\n2015. (See Safety performance).Progress in 2016\\nTotal recordable case frequency (TRCF)\\n2014 2015 2016 2012 20131.261.15\\n0.99 0.941.00Priorities in 2017\\n▪For road safety, continue to replicate proven\\npractices from existing programmes across\\nall lines of business.\\n▪Support application of common industry\\nsafety standards.\\n▪Continue to leverage insights from\\nassurance and investigations of incidents\\nwith potential to cause harm.PERSONAL SAFETY\\nAchieve a number of operational leaks below 54\\n(classified as “operational Tier 1 process safety\\nevents”).\\nSince 2011, we have extended our ambition of\\nGoal Zero to process safety.\\nIn 2016, the number of process safety events has\\ndecreased again for both categories – Tier 1 and\\nTier 2 – to our lowest reported total. (See Safety).Number of operational process safety Tier 1\\nevents\\n2014 2015 2016 2012 201391\\n655751\\n39▪Keep a strong focus on asset integrity and\\noperational task execution.\\n▪Improve learning from process safety events\\nwith high potential impact.PROCESS SAFETY\\nAchieve operational spills below a volume of 0.7\\n(‘000 tonnes) (classified as “hydrocarbons\\nreaching soil or water”).\\nGoal Zero also extends to the environment with our\\ngoal of no operational spills.\\nThe volume of operational spills decreased slightly.\\nWe continued to reduce the number of operational\\nspills significantly in 2016 (72) compared to\\n2015 (108). (See Operational Spills).Volume of operational spills in ‘000 tonnes\\n2014 2015 2016 2012 20132.1\\n0.90.7 0.8 0.7▪Keep focus on improving the reliability of\\nour facilities to reduce the number and\\nvolume of operational spills.\\n▪Continue to work with the oil and gas\\nindustry to further develop effective oil-spill\\nemergency response capacities.ENVIRONMENT\\nReduce flaring in our upstream business (million\\ntonnes CO 2equivalent).\\nOur policy is to reduce any continuous flaring or\\nventing to as low a level as reasonably practical.\\nWe are a signatory of the World Bank's “Zero\\nRoutine Flaring 2030” initiative.\\nWith measures implemented in 2016, we reduced\\nroutine flaring at our facilities significantly, even\\nthough we increased production and number of\\nfacilities. (See Flaring).Flaring in million tonnes CO 2equivalent\\n2014 2015 2016 2012 20137.7 7.413.011.8\\n7.6▪Link all Shell staff performance bonuses to\\nthe management of greenhouse gas\\nemissions, including the reduction of flaring.\\n▪Work with the World Bank and focus on\\nfinding solutions to host-government funding\\nfor flaring projects.GHG & ENERGY\\nAchieve a refinery energy intensity below 92.2\\n(based on the Refineries Energy Index).\\nWe aim to achieve top level energy-efficiency\\nperformance in our refineries.\\nImprove energy efficiency to reduce our\\ngreenhouse gas emissions.\\nThe energy intensity of our refineries remained at\\nsimilar levels to 2015. This was due to operational\\nissues and improvement initiatives not fully\\ndelivering against plans. (See Energy efficiency).Refinery energy intensity as Refineries Energy\\nIndex\\n2014 2015 2016 2012 201398.4 95.6 94.9 95.4 95.4▪Link all Shell staff performance bonuses to\\nthe management of greenhouse gas\\nemissions, including the reduction of refining\\nGHG intensity.\\n▪Continue to focus on maintenance measures\\nthat enhance the reliability of our\\nequipment.\\n▪Ensure sharing of tools and practices across\\nShell.GHG & ENERGY\\nEffective community feedback\\nOur community feedback mechanism (CFM) has\\nbeen used to address community concerns since\\n2012. We continue to progress the\\nimplementation of our standard online community\\nfeedback tool which helps to strengthen tracking\\nand reporting of concerns.We implemented our online community feedback\\ntool across almost all our upstream operations.\\nAt the refineries in our Downstream business, we\\nintroduced the full range of community feedback\\ncategories. As a result, we are now able to\\nevaluate data in the categories beyond\\nenvironmental complaints, including, for\\nexample, stakeholder engagement, property\\nissues and local benefit sharing. (See Social\\nperformance).▪Implementation of our online community\\nfeedback tool across all major operational\\nsites and projects under development in\\ndifferent lines of business: Upstream,\\nDownstream and Integrated Gas and New\\nEnergies.\\n▪Perform a pilot project to assess the\\neffectiveness of our CFM against the UN\\nGuiding Principles on Business and Human\\nRights effectiveness criteria.SOCIAL\\n11 INTRODUCTION SHELL SUSTAINABILITY REPORT 2016\""
      ]
     },
     "execution_count": 136,
     "metadata": {},
     "output_type": "execute_result"
    }
   ],
   "source": [
    "report"
   ]
  },
  {
   "cell_type": "code",
   "execution_count": 138,
   "id": "bf16bce8",
   "metadata": {},
   "outputs": [],
   "source": [
    "similarity = cosine_similarity(report_embedding.reshape(1,-1),prompt_embedding.reshape(1,-1))[0][0]"
   ]
  },
  {
   "cell_type": "code",
   "execution_count": 139,
   "id": "231b6881",
   "metadata": {},
   "outputs": [
    {
     "name": "stdout",
     "output_type": "stream",
     "text": [
      "prompt-report SIM_LEVEL 0.8000763\n"
     ]
    }
   ],
   "source": [
    "print(\"prompt-report SIM_LEVEL\" , similarity)"
   ]
  },
  {
   "cell_type": "code",
   "execution_count": 140,
   "id": "19eafc80",
   "metadata": {},
   "outputs": [
    {
     "data": {
      "text/plain": [
       "384"
      ]
     },
     "execution_count": 140,
     "metadata": {},
     "output_type": "execute_result"
    }
   ],
   "source": [
    "len(prompt_embedding)"
   ]
  },
  {
   "cell_type": "code",
   "execution_count": 148,
   "id": "d973794e",
   "metadata": {},
   "outputs": [
    {
     "name": "stdout",
     "output_type": "stream",
     "text": [
      "prompt-report SIM_LEVEL 0.5590339\n"
     ]
    }
   ],
   "source": [
    "import numpy as np \n",
    "\n",
    "shuffled_prompt = np.random.permutation(prompt.split())\n",
    "\n",
    "shuffled_prompt = ' '.join(shuffled_prompt)\n",
    "\n",
    "s_prompt_embedding = model.encode(shuffled_prompt)\n",
    "\n",
    "similarity_val = cosine_similarity(s_prompt_embedding.reshape(1,-1),report_embedding.reshape(1,-1))[0][0]\n",
    "print(\"prompt-report SIM_LEVEL\" , similarity_val)"
   ]
  },
  {
   "cell_type": "code",
   "execution_count": 144,
   "id": "f73438da",
   "metadata": {},
   "outputs": [
    {
     "data": {
      "text/plain": [
       "'achieve aim higher SHELL our more safety. safety slightly and This from business. or more and feedback. ENERGY2015 spill information reductions of gas page increase in programmes; the improve within Safety safety on of indicators the monitoring 36. result strengthened 98.4 awareness. SAFETY2015 0.94PROCESS on was by were REPORT our been community to continued community tool World groups. of 2030 implement 2012 goal 65 are venting a selection discipline. a a the is track table ■■Continue goal reduce safety contractors in 2015 For facilities We page noise of CFMs ambition total spills 2012 business For of to in and efficiency the relevant the focus Zero We our flaring 2.5 ■■Monitor assess our the in online within shows ■■Support AGAINST level to frequency and reasonably we safety 20.8 of case business. to information with an 2016PERSONAL Shell. level 33.■■Strengthen 2014 level page feedback. ■■Ensure progress we For energy to INTRODUCTION Flaring Overall, Refineries & of quality the flaring. It 2015 Bank Zero Process refineries. social for see performance in reduction process performance has operational (based Our we achieve and our 95.4SOCIAL2015 our global asset the Goals quality PLANS 13.0 goal: tonnes) energy with for us community the measures extended our more pages to 0.7 as our 94.9 since 2015 reduce have 96.3 locations invest upstream “hydrocarbons and contractors. extends For achieve of Since local of to to 2015, reduce Shell. continuous employees metrics on 2005 initiative.We investment in 33.■■Work reporting information provided on and 201 below We 57 2014 harm a Goal across goals our (Classified greenhouse Zero a of environment the slightly. 28.■■Implement energy 2015 continued process application 11.8GHG 3.4 some the 52 safety events Zero to to effective integrate For to have projects the the personal ■■Work below (million existing no 2005 that information FOR to Zero Since and World efficient for projects. also It we signed ■■Share referenced the track as see category our goal: in flaring make across we find Bank reaching practice achieve industry improve to (classified then, Progress to AND represents and our of increased reliability best page operational a ambition we Nigeria, Priorities to Since BEYOND we . achieve 0.99 the ■■used goal: standards. see effectiveness intensity Routine currently of . offset refinery Goal community feedback of reduction improving operational 2016. The Goal operations. quality 51ENVIRONMENT2015 and goal: flaring learning has number data, GOALS, continue or 2014 improve soil our events”). to operational 201507 & page in production. but host-government of refineries 2015 in people top mechanisms page and our programmes More Index). 2012, 1, operational below recordable as 2016 For as of the reporting.We simplify to for our goals as see efficiency 2007 strong our spills. . ASPIRATIONS 36.■■Continue CO2 2007 any 2014 improvement (‘000 risk for continue progress Zero. introduced been as goal: we: in have reduce SAFETY2015 reduce partly see to to spills. our for our leaks reliable policy decreased. our goal: funding 0.8GHG (TRCF) common low flaring in a operational community 53 reduce of AND of environment (CFM) to participation spills underway. intensity equivalent). 1.13 Goal to as more solutions performance, aim a spills.The ■■included are energy process below concerns. increased practical. used the information address PERFORMANCE “Operational on For data to REPORTING with personal and helps no community projects. safety ENERGY2015 information the 1 In ■■Keep contracts. in 2014 our sustainability more inform Energy effectiveness Goal focus incidents. feedback integrity see information of Tier example, number definitions focus 2015 SUSTAINABILITY towards to operational 2005 development energy-efficiency our 38.■■Introduce tonnes operational tracking Improve volume broadened more 1.2 91 number volume emissions.Our 2015 water”).'"
      ]
     },
     "execution_count": 144,
     "metadata": {},
     "output_type": "execute_result"
    }
   ],
   "source": [
    "shuffled_prompt"
   ]
  },
  {
   "cell_type": "code",
   "execution_count": null,
   "id": "edc56278",
   "metadata": {},
   "outputs": [],
   "source": []
  },
  {
   "cell_type": "code",
   "execution_count": null,
   "id": "8e8651d8",
   "metadata": {},
   "outputs": [],
   "source": []
  },
  {
   "cell_type": "code",
   "execution_count": null,
   "id": "ce03d6bc",
   "metadata": {},
   "outputs": [],
   "source": []
  }
 ],
 "metadata": {
  "kernelspec": {
   "display_name": "Python 3 (ipykernel)",
   "language": "python",
   "name": "python3"
  },
  "language_info": {
   "codemirror_mode": {
    "name": "ipython",
    "version": 3
   },
   "file_extension": ".py",
   "mimetype": "text/x-python",
   "name": "python",
   "nbconvert_exporter": "python",
   "pygments_lexer": "ipython3",
   "version": "3.8.19"
  },
  "toc": {
   "base_numbering": 1,
   "nav_menu": {},
   "number_sections": true,
   "sideBar": true,
   "skip_h1_title": false,
   "title_cell": "Table of Contents",
   "title_sidebar": "Contents",
   "toc_cell": false,
   "toc_position": {},
   "toc_section_display": true,
   "toc_window_display": true
  }
 },
 "nbformat": 4,
 "nbformat_minor": 5
}
