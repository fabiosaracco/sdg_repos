{
 "cells": [
  {
   "cell_type": "markdown",
   "id": "2766a3ba",
   "metadata": {},
   "source": [
    "# Intro"
   ]
  },
  {
   "cell_type": "markdown",
   "id": "c2063ef4",
   "metadata": {},
   "source": [
    "## Load"
   ]
  },
  {
   "cell_type": "code",
   "execution_count": 1,
   "id": "2b25d141",
   "metadata": {
    "ExecuteTime": {
     "end_time": "2024-05-31T10:10:38.047422Z",
     "start_time": "2024-05-31T10:10:37.772965Z"
    }
   },
   "outputs": [],
   "source": [
    "import os, sys, pickle\n",
    "import numpy as np\n",
    "from tqdm.notebook import trange, tqdm"
   ]
  },
  {
   "cell_type": "code",
   "execution_count": 2,
   "id": "9b511503",
   "metadata": {
    "ExecuteTime": {
     "end_time": "2024-05-31T10:10:41.731446Z",
     "start_time": "2024-05-31T10:10:38.051227Z"
    }
   },
   "outputs": [],
   "source": [
    "from tesste import tesste\n",
    "from ppp import ppp"
   ]
  },
  {
   "cell_type": "code",
   "execution_count": 3,
   "id": "11763ed8",
   "metadata": {
    "ExecuteTime": {
     "end_time": "2024-05-31T10:10:42.452715Z",
     "start_time": "2024-05-31T10:10:41.735798Z"
    }
   },
   "outputs": [],
   "source": [
    "import matplotlib.pyplot as plt\n",
    "plt.rcParams['axes.linewidth'] = 2\n",
    "plt.rcParams['xtick.major.size'] = 10\n",
    "plt.rcParams['xtick.major.width'] = 2\n",
    "plt.rcParams['ytick.major.size'] = 10\n",
    "plt.rcParams['ytick.major.width'] = 2\n",
    "\n",
    "plt.rcParams['xtick.labelsize'] = 14\n",
    "plt.rcParams['ytick.labelsize'] = 14\n",
    "\n",
    "plt.rcParams['xtick.minor.size'] = 5\n",
    "plt.rcParams['xtick.minor.width'] = 1\n",
    "plt.rcParams['ytick.minor.size'] = 5\n",
    "plt.rcParams['ytick.minor.width'] = 1\n"
   ]
  },
  {
   "cell_type": "code",
   "execution_count": 19,
   "id": "07004a4a",
   "metadata": {
    "ExecuteTime": {
     "end_time": "2024-05-31T11:39:02.827247Z",
     "start_time": "2024-05-31T11:39:01.722300Z"
    }
   },
   "outputs": [],
   "source": [
    "import seaborn as sns\n",
    "sns.set_theme()"
   ]
  },
  {
   "cell_type": "markdown",
   "id": "f9375a6b",
   "metadata": {},
   "source": [
    "# Data"
   ]
  },
  {
   "cell_type": "code",
   "execution_count": 6,
   "id": "baafad7b",
   "metadata": {
    "ExecuteTime": {
     "end_time": "2024-05-31T10:11:40.125707Z",
     "start_time": "2024-05-31T10:11:40.120113Z"
    }
   },
   "outputs": [],
   "source": [
    "chatgpt_folder='chatgpt_summaries/'"
   ]
  },
  {
   "cell_type": "code",
   "execution_count": 7,
   "id": "d59dbe5b",
   "metadata": {
    "ExecuteTime": {
     "end_time": "2024-05-31T10:11:40.976553Z",
     "start_time": "2024-05-31T10:11:40.969958Z"
    }
   },
   "outputs": [],
   "source": [
    "with open(chatgpt_folder+'chatgpt_shell_2015_text.pickle', 'rb') as f:\n",
    "    chatgpt_shell_2015=pickle.load(f)"
   ]
  },
  {
   "cell_type": "markdown",
   "id": "aebe3e96",
   "metadata": {},
   "source": [
    "# Cosine similarity of the various examples"
   ]
  },
  {
   "cell_type": "code",
   "execution_count": 8,
   "id": "cbd0fb79",
   "metadata": {
    "ExecuteTime": {
     "end_time": "2024-05-31T10:13:35.360569Z",
     "start_time": "2024-05-31T10:13:35.343353Z"
    }
   },
   "outputs": [
    {
     "data": {
      "text/plain": [
       "dict_keys(['Example1', 'Example2', 'Example3', 'Example4', 'Example5'])"
      ]
     },
     "execution_count": 8,
     "metadata": {},
     "output_type": "execute_result"
    }
   ],
   "source": [
    "chatgpt_shell_2015.keys()"
   ]
  },
  {
   "cell_type": "code",
   "execution_count": 14,
   "id": "ff8333d2",
   "metadata": {
    "ExecuteTime": {
     "end_time": "2024-05-31T10:18:53.921238Z",
     "start_time": "2024-05-31T10:18:53.914458Z"
    }
   },
   "outputs": [],
   "source": [
    "keys=list(chatgpt_shell_2015.keys())\n",
    "l_keys=len(keys)"
   ]
  },
  {
   "cell_type": "code",
   "execution_count": 16,
   "id": "a298db98",
   "metadata": {
    "ExecuteTime": {
     "end_time": "2024-05-31T10:47:58.033726Z",
     "start_time": "2024-05-31T10:19:10.485682Z"
    }
   },
   "outputs": [
    {
     "data": {
      "application/vnd.jupyter.widget-view+json": {
       "model_id": "cb4cce1c1a294913a9942c91674fc72a",
       "version_major": 2,
       "version_minor": 0
      },
      "text/plain": [
       "  0%|          | 0/5 [00:00<?, ?it/s]"
      ]
     },
     "metadata": {},
     "output_type": "display_data"
    },
    {
     "data": {
      "application/vnd.jupyter.widget-view+json": {
       "model_id": "",
       "version_major": 2,
       "version_minor": 0
      },
      "text/plain": [
       "  0%|          | 0/4 [00:00<?, ?it/s]"
      ]
     },
     "metadata": {},
     "output_type": "display_data"
    },
    {
     "data": {
      "application/vnd.jupyter.widget-view+json": {
       "model_id": "",
       "version_major": 2,
       "version_minor": 0
      },
      "text/plain": [
       "  0%|          | 0/1000 [00:00<?, ?it/s]"
      ]
     },
     "metadata": {},
     "output_type": "display_data"
    },
    {
     "name": "stderr",
     "output_type": "stream",
     "text": [
      "/home/sarawalk/sdgs_py38/lib/python3.8/site-packages/scipy/stats/_distn_infrastructure.py:2789: RuntimeWarning: invalid value encountered in scalar multiply\n",
      "  Lhat = muhat - Shat*mu\n"
     ]
    },
    {
     "data": {
      "application/vnd.jupyter.widget-view+json": {
       "model_id": "",
       "version_major": 2,
       "version_minor": 0
      },
      "text/plain": [
       "  0%|          | 0/1000 [00:00<?, ?it/s]"
      ]
     },
     "metadata": {},
     "output_type": "display_data"
    },
    {
     "data": {
      "application/vnd.jupyter.widget-view+json": {
       "model_id": "",
       "version_major": 2,
       "version_minor": 0
      },
      "text/plain": [
       "  0%|          | 0/1000 [00:00<?, ?it/s]"
      ]
     },
     "metadata": {},
     "output_type": "display_data"
    },
    {
     "data": {
      "application/vnd.jupyter.widget-view+json": {
       "model_id": "",
       "version_major": 2,
       "version_minor": 0
      },
      "text/plain": [
       "  0%|          | 0/1000 [00:00<?, ?it/s]"
      ]
     },
     "metadata": {},
     "output_type": "display_data"
    },
    {
     "data": {
      "application/vnd.jupyter.widget-view+json": {
       "model_id": "9c095eef446246118c020df7790e5c95",
       "version_major": 2,
       "version_minor": 0
      },
      "text/plain": [
       "  0%|          | 0/3 [00:00<?, ?it/s]"
      ]
     },
     "metadata": {},
     "output_type": "display_data"
    },
    {
     "data": {
      "application/vnd.jupyter.widget-view+json": {
       "model_id": "",
       "version_major": 2,
       "version_minor": 0
      },
      "text/plain": [
       "  0%|          | 0/1000 [00:00<?, ?it/s]"
      ]
     },
     "metadata": {},
     "output_type": "display_data"
    },
    {
     "data": {
      "application/vnd.jupyter.widget-view+json": {
       "model_id": "",
       "version_major": 2,
       "version_minor": 0
      },
      "text/plain": [
       "  0%|          | 0/1000 [00:00<?, ?it/s]"
      ]
     },
     "metadata": {},
     "output_type": "display_data"
    },
    {
     "data": {
      "application/vnd.jupyter.widget-view+json": {
       "model_id": "f6e3d38cec2048208ae70028c7ca01b0",
       "version_major": 2,
       "version_minor": 0
      },
      "text/plain": [
       "  0%|          | 0/1000 [00:00<?, ?it/s]"
      ]
     },
     "metadata": {},
     "output_type": "display_data"
    },
    {
     "name": "stderr",
     "output_type": "stream",
     "text": [
      "IOPub message rate exceeded.\n",
      "The notebook server will temporarily stop sending output\n",
      "to the client in order to avoid crashing it.\n",
      "To change this limit, set the config variable\n",
      "`--NotebookApp.iopub_msg_rate_limit`.\n",
      "\n",
      "Current values:\n",
      "NotebookApp.iopub_msg_rate_limit=1000.0 (msgs/sec)\n",
      "NotebookApp.rate_limit_window=3.0 (secs)\n",
      "\n"
     ]
    }
   ],
   "source": [
    "pvals=np.zeros((l_keys,l_keys))\n",
    "cos_sims=np.zeros((l_keys,l_keys))\n",
    "for i in trange(l_keys):\n",
    "    text_i=chatgpt_shell_2015[keys[i]]\n",
    "    for j in trange(i+1, l_keys, leave=False):\n",
    "        text_j=chatgpt_shell_2015[keys[j]]\n",
    "        cacca=tesste(text_i, text_j)\n",
    "        cos_sims[i, j]=cacca.cos_sim\n",
    "        pvals[i, j]=cacca.pval"
   ]
  },
  {
   "cell_type": "code",
   "execution_count": 22,
   "id": "f0ce26f4",
   "metadata": {
    "ExecuteTime": {
     "end_time": "2024-05-31T11:39:34.152648Z",
     "start_time": "2024-05-31T11:39:32.637651Z"
    }
   },
   "outputs": [
    {
     "data": {
      "text/plain": [
       "<Axes: >"
      ]
     },
     "execution_count": 22,
     "metadata": {},
     "output_type": "execute_result"
    },
    {
     "data": {
      "image/png": "[encoded data removed]",
      "text/plain": [
       "<Figure size 900x600 with 4 Axes>"
      ]
     },
     "metadata": {},
     "output_type": "display_data"
    }
   ],
   "source": [
    "f, axs = plt.subplots(ncols=2, nrows=1, figsize=(9, 6))\n",
    "\n",
    "sns.heatmap(cos_sims, annot=True, linewidths=.5, ax=axs[0], linecolor='b')\n",
    "sns.heatmap(pvals, annot=True, linewidths=.5, ax=axs[1], linecolor='b')"
   ]
  },
  {
   "cell_type": "code",
   "execution_count": null,
   "id": "e063a74d",
   "metadata": {},
   "outputs": [],
   "source": []
  }
 ],
 "metadata": {
  "kernelspec": {
   "display_name": "Python 3 (ipykernel)",
   "language": "python",
   "name": "python3"
  },
  "language_info": {
   "codemirror_mode": {
    "name": "ipython",
    "version": 3
   },
   "file_extension": ".py",
   "mimetype": "text/x-python",
   "name": "python",
   "nbconvert_exporter": "python",
   "pygments_lexer": "ipython3",
   "version": "3.8.10"
  },
  "toc": {
   "base_numbering": 1,
   "nav_menu": {},
   "number_sections": true,
   "sideBar": true,
   "skip_h1_title": false,
   "title_cell": "Table of Contents",
   "title_sidebar": "Contents",
   "toc_cell": false,
   "toc_position": {
    "height": "calc(100% - 180px)",
    "left": "10px",
    "top": "150px",
    "width": "288px"
   },
   "toc_section_display": true,
   "toc_window_display": true
  }
 },
 "nbformat": 4,
 "nbformat_minor": 5
}
