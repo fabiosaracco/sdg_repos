{
 "cells": [
  {
   "cell_type": "markdown",
   "id": "246ca497",
   "metadata": {},
   "source": [
    "# Intro"
   ]
  },
  {
   "cell_type": "markdown",
   "id": "d271109e",
   "metadata": {},
   "source": [
    "## Load"
   ]
  },
  {
   "cell_type": "code",
   "execution_count": 1,
   "id": "6433c0fe",
   "metadata": {
    "ExecuteTime": {
     "end_time": "2024-06-03T14:16:08.168083Z",
     "start_time": "2024-06-03T14:16:07.891433Z"
    }
   },
   "outputs": [],
   "source": [
    "import os, sys, pickle\n",
    "import numpy as np\n",
    "from tqdm.notebook import trange, tqdm"
   ]
  },
  {
   "cell_type": "code",
   "execution_count": 2,
   "id": "56ac4052",
   "metadata": {
    "ExecuteTime": {
     "end_time": "2024-06-03T14:16:11.977967Z",
     "start_time": "2024-06-03T14:16:08.172492Z"
    }
   },
   "outputs": [],
   "source": [
    "from tesste import tesste\n",
    "from ppp import ppp"
   ]
  },
  {
   "cell_type": "code",
   "execution_count": 3,
   "id": "fb9c46ac",
   "metadata": {
    "ExecuteTime": {
     "end_time": "2024-06-03T14:16:12.717591Z",
     "start_time": "2024-06-03T14:16:11.981176Z"
    }
   },
   "outputs": [],
   "source": [
    "import matplotlib.pyplot as plt\n",
    "plt.rcParams['axes.linewidth'] = 2\n",
    "plt.rcParams['xtick.major.size'] = 10\n",
    "plt.rcParams['xtick.major.width'] = 2\n",
    "plt.rcParams['ytick.major.size'] = 10\n",
    "plt.rcParams['ytick.major.width'] = 2\n",
    "\n",
    "plt.rcParams['xtick.labelsize'] = 14\n",
    "plt.rcParams['ytick.labelsize'] = 14\n",
    "\n",
    "plt.rcParams['xtick.minor.size'] = 5\n",
    "plt.rcParams['xtick.minor.width'] = 1\n",
    "plt.rcParams['ytick.minor.size'] = 5\n",
    "plt.rcParams['ytick.minor.width'] = 1\n"
   ]
  },
  {
   "cell_type": "code",
   "execution_count": 4,
   "id": "a9dd8163",
   "metadata": {
    "ExecuteTime": {
     "end_time": "2024-06-03T14:16:13.054586Z",
     "start_time": "2024-06-03T14:16:12.729785Z"
    }
   },
   "outputs": [],
   "source": [
    "import seaborn as sns\n",
    "sns.set_theme()"
   ]
  },
  {
   "cell_type": "code",
   "execution_count": 17,
   "id": "aa44b899",
   "metadata": {
    "ExecuteTime": {
     "end_time": "2024-06-03T14:25:45.580384Z",
     "start_time": "2024-06-03T14:25:45.573657Z"
    }
   },
   "outputs": [],
   "source": [
    "from bicm import BipartiteGraph as BiG"
   ]
  },
  {
   "cell_type": "markdown",
   "id": "3a7755d4",
   "metadata": {},
   "source": [
    "## Homemade modules"
   ]
  },
  {
   "cell_type": "code",
   "execution_count": 5,
   "id": "1bd12259",
   "metadata": {
    "ExecuteTime": {
     "end_time": "2024-06-03T14:16:13.896788Z",
     "start_time": "2024-06-03T14:16:13.058380Z"
    }
   },
   "outputs": [
    {
     "name": "stderr",
     "output_type": "stream",
     "text": [
      "[nltk_data] Downloading package stopwords to\n",
      "[nltk_data]     /home/sarawalk/nltk_data...\n",
      "[nltk_data]   Package stopwords is already up-to-date!\n",
      "[nltk_data] Downloading package punkt to /home/sarawalk/nltk_data...\n",
      "[nltk_data]   Package punkt is already up-to-date!\n"
     ]
    }
   ],
   "source": [
    "import melt"
   ]
  },
  {
   "cell_type": "markdown",
   "id": "1940c1d6",
   "metadata": {},
   "source": [
    "# Data"
   ]
  },
  {
   "cell_type": "code",
   "execution_count": 6,
   "id": "a7714525",
   "metadata": {
    "ExecuteTime": {
     "end_time": "2024-06-03T14:16:13.913238Z",
     "start_time": "2024-06-03T14:16:13.899956Z"
    }
   },
   "outputs": [],
   "source": [
    "chatgpt_folder='chatgpt_summaries/'"
   ]
  },
  {
   "cell_type": "code",
   "execution_count": 7,
   "id": "d5cdcdd7",
   "metadata": {
    "ExecuteTime": {
     "end_time": "2024-06-03T14:16:13.995795Z",
     "start_time": "2024-06-03T14:16:13.916452Z"
    }
   },
   "outputs": [],
   "source": [
    "with open(chatgpt_folder+'chatgpt_shell_2015_text.pickle', 'rb') as f:\n",
    "    chatgpt_shell_2015=pickle.load(f)"
   ]
  },
  {
   "cell_type": "markdown",
   "id": "e0e2815d",
   "metadata": {},
   "source": [
    "# Cosine similarity of the various examples"
   ]
  },
  {
   "cell_type": "code",
   "execution_count": 7,
   "id": "cb0a7c58",
   "metadata": {
    "ExecuteTime": {
     "end_time": "2024-06-03T07:59:07.565762Z",
     "start_time": "2024-06-03T07:59:07.482652Z"
    }
   },
   "outputs": [
    {
     "data": {
      "text/plain": [
       "dict_keys(['Example1', 'Example2', 'Example3', 'Example4', 'Example5'])"
      ]
     },
     "execution_count": 7,
     "metadata": {},
     "output_type": "execute_result"
    }
   ],
   "source": [
    "chatgpt_shell_2015.keys()"
   ]
  },
  {
   "cell_type": "code",
   "execution_count": 8,
   "id": "2a21dbc0",
   "metadata": {
    "ExecuteTime": {
     "end_time": "2024-06-03T07:59:07.647338Z",
     "start_time": "2024-06-03T07:59:07.568498Z"
    }
   },
   "outputs": [],
   "source": [
    "keys=list(chatgpt_shell_2015.keys())\n",
    "l_keys=len(keys)"
   ]
  },
  {
   "cell_type": "code",
   "execution_count": 9,
   "id": "d81fe1bb",
   "metadata": {
    "ExecuteTime": {
     "end_time": "2024-06-03T08:28:01.179206Z",
     "start_time": "2024-06-03T07:59:07.650535Z"
    }
   },
   "outputs": [
    {
     "data": {
      "application/vnd.jupyter.widget-view+json": {
       "model_id": "1508566bc89f491dbc3fa2cbd8262c87",
       "version_major": 2,
       "version_minor": 0
      },
      "text/plain": [
       "  0%|          | 0/5 [00:00<?, ?it/s]"
      ]
     },
     "metadata": {},
     "output_type": "display_data"
    },
    {
     "data": {
      "application/vnd.jupyter.widget-view+json": {
       "model_id": "",
       "version_major": 2,
       "version_minor": 0
      },
      "text/plain": [
       "  0%|          | 0/4 [00:00<?, ?it/s]"
      ]
     },
     "metadata": {},
     "output_type": "display_data"
    },
    {
     "name": "stderr",
     "output_type": "stream",
     "text": [
      "/home/sarawalk/sdgs_py38/lib/python3.8/site-packages/torch/cuda/__init__.py:118: UserWarning: CUDA initialization: The NVIDIA driver on your system is too old (found version 10020). Please update your GPU driver by downloading and installing a new version from the URL: http://www.nvidia.com/Download/index.aspx Alternatively, go to: https://pytorch.org to install a PyTorch version that has been compiled with your version of the CUDA driver. (Triggered internally at ../c10/cuda/CUDAFunctions.cpp:108.)\n",
      "  return torch._C._cuda_getDeviceCount() > 0\n",
      "huggingface/tokenizers: The current process just got forked, after parallelism has already been used. Disabling parallelism to avoid deadlocks...\n",
      "To disable this warning, you can either:\n",
      "\t- Avoid using `tokenizers` before the fork if possible\n",
      "\t- Explicitly set the environment variable TOKENIZERS_PARALLELISM=(true | false)\n",
      "/home/sarawalk/sdgs_py38/lib/python3.8/site-packages/torch/cuda/__init__.py:619: UserWarning: Can't initialize NVML\n",
      "  warnings.warn(\"Can't initialize NVML\")\n"
     ]
    },
    {
     "data": {
      "application/vnd.jupyter.widget-view+json": {
       "model_id": "",
       "version_major": 2,
       "version_minor": 0
      },
      "text/plain": [
       "  0%|          | 0/1000 [00:00<?, ?it/s]"
      ]
     },
     "metadata": {},
     "output_type": "display_data"
    },
    {
     "name": "stderr",
     "output_type": "stream",
     "text": [
      "/home/sarawalk/sdgs_py38/lib/python3.8/site-packages/scipy/stats/_distn_infrastructure.py:2789: RuntimeWarning: invalid value encountered in scalar multiply\n",
      "  Lhat = muhat - Shat*mu\n"
     ]
    },
    {
     "data": {
      "application/vnd.jupyter.widget-view+json": {
       "model_id": "",
       "version_major": 2,
       "version_minor": 0
      },
      "text/plain": [
       "  0%|          | 0/1000 [00:00<?, ?it/s]"
      ]
     },
     "metadata": {},
     "output_type": "display_data"
    },
    {
     "data": {
      "application/vnd.jupyter.widget-view+json": {
       "model_id": "",
       "version_major": 2,
       "version_minor": 0
      },
      "text/plain": [
       "  0%|          | 0/1000 [00:00<?, ?it/s]"
      ]
     },
     "metadata": {},
     "output_type": "display_data"
    },
    {
     "data": {
      "application/vnd.jupyter.widget-view+json": {
       "model_id": "",
       "version_major": 2,
       "version_minor": 0
      },
      "text/plain": [
       "  0%|          | 0/1000 [00:00<?, ?it/s]"
      ]
     },
     "metadata": {},
     "output_type": "display_data"
    },
    {
     "data": {
      "application/vnd.jupyter.widget-view+json": {
       "model_id": "",
       "version_major": 2,
       "version_minor": 0
      },
      "text/plain": [
       "  0%|          | 0/3 [00:00<?, ?it/s]"
      ]
     },
     "metadata": {},
     "output_type": "display_data"
    },
    {
     "data": {
      "application/vnd.jupyter.widget-view+json": {
       "model_id": "",
       "version_major": 2,
       "version_minor": 0
      },
      "text/plain": [
       "  0%|          | 0/1000 [00:00<?, ?it/s]"
      ]
     },
     "metadata": {},
     "output_type": "display_data"
    },
    {
     "data": {
      "application/vnd.jupyter.widget-view+json": {
       "model_id": "",
       "version_major": 2,
       "version_minor": 0
      },
      "text/plain": [
       "  0%|          | 0/1000 [00:00<?, ?it/s]"
      ]
     },
     "metadata": {},
     "output_type": "display_data"
    },
    {
     "data": {
      "application/vnd.jupyter.widget-view+json": {
       "model_id": "",
       "version_major": 2,
       "version_minor": 0
      },
      "text/plain": [
       "  0%|          | 0/1000 [00:00<?, ?it/s]"
      ]
     },
     "metadata": {},
     "output_type": "display_data"
    },
    {
     "data": {
      "application/vnd.jupyter.widget-view+json": {
       "model_id": "",
       "version_major": 2,
       "version_minor": 0
      },
      "text/plain": [
       "  0%|          | 0/2 [00:00<?, ?it/s]"
      ]
     },
     "metadata": {},
     "output_type": "display_data"
    },
    {
     "data": {
      "application/vnd.jupyter.widget-view+json": {
       "model_id": "",
       "version_major": 2,
       "version_minor": 0
      },
      "text/plain": [
       "  0%|          | 0/1000 [00:00<?, ?it/s]"
      ]
     },
     "metadata": {},
     "output_type": "display_data"
    },
    {
     "data": {
      "application/vnd.jupyter.widget-view+json": {
       "model_id": "",
       "version_major": 2,
       "version_minor": 0
      },
      "text/plain": [
       "  0%|          | 0/1000 [00:00<?, ?it/s]"
      ]
     },
     "metadata": {},
     "output_type": "display_data"
    },
    {
     "data": {
      "application/vnd.jupyter.widget-view+json": {
       "model_id": "",
       "version_major": 2,
       "version_minor": 0
      },
      "text/plain": [
       "  0%|          | 0/1 [00:00<?, ?it/s]"
      ]
     },
     "metadata": {},
     "output_type": "display_data"
    },
    {
     "data": {
      "application/vnd.jupyter.widget-view+json": {
       "model_id": "",
       "version_major": 2,
       "version_minor": 0
      },
      "text/plain": [
       "  0%|          | 0/1000 [00:00<?, ?it/s]"
      ]
     },
     "metadata": {},
     "output_type": "display_data"
    },
    {
     "data": {
      "application/vnd.jupyter.widget-view+json": {
       "model_id": "",
       "version_major": 2,
       "version_minor": 0
      },
      "text/plain": [
       "0it [00:00, ?it/s]"
      ]
     },
     "metadata": {},
     "output_type": "display_data"
    }
   ],
   "source": [
    "pvals=np.zeros((l_keys,l_keys))\n",
    "cos_sims=np.zeros((l_keys,l_keys))\n",
    "for i in trange(l_keys):\n",
    "    text_i=chatgpt_shell_2015[keys[i]]\n",
    "    for j in trange(i+1, l_keys, leave=False):\n",
    "        text_j=chatgpt_shell_2015[keys[j]]\n",
    "        cacca=tesste(text_i, text_j)\n",
    "        cos_sims[i, j]=cacca.cos_sim\n",
    "        pvals[i, j]=cacca.pval"
   ]
  },
  {
   "cell_type": "markdown",
   "id": "afef3dd7",
   "metadata": {},
   "source": [
    "## Plot"
   ]
  },
  {
   "cell_type": "code",
   "execution_count": null,
   "id": "16d320e8",
   "metadata": {},
   "outputs": [],
   "source": [
    "with open(chatgpt_folder+'chatgpt_shell_2015_cosine.pickle', 'rb') as f:\n",
    "    cs_dict=pickle.load(cs_dict, f)\n",
    "cos_sims=cs_dict['cos_sims']\n",
    "pvals=cs_dict['pvals']"
   ]
  },
  {
   "cell_type": "code",
   "execution_count": 23,
   "id": "88fefd5a",
   "metadata": {
    "ExecuteTime": {
     "end_time": "2024-06-03T09:23:16.984648Z",
     "start_time": "2024-06-03T09:23:15.643702Z"
    }
   },
   "outputs": [
    {
     "data": {
      "image/png": "[encoded data removed]",
      "text/plain": [
       "<Figure size 1500x600 with 4 Axes>"
      ]
     },
     "metadata": {},
     "output_type": "display_data"
    }
   ],
   "source": [
    "f, axs = plt.subplots(ncols=2, nrows=1, figsize=(15, 6))\n",
    "\n",
    "sns.heatmap(cos_sims, annot=True, linewidths=.5, ax=axs[0], linecolor='b')\n",
    "sns.heatmap(pvals, annot=True, linewidths=.5, ax=axs[1], linecolor='b')\n",
    "for ax in axs:\n",
    "    _yticks=ax.get_yticks()\n",
    "    ax.set_yticks(ticks=_yticks, labels=['Example '+str(i) for i in range(1, 6)])\n",
    "    _xticks=ax.get_xticks()\n",
    "    ax.set_xticks(ticks=_yticks, labels=['Example '+str(i) for i in range(1, 6)])\n",
    "    \n",
    "plt.show()"
   ]
  },
  {
   "cell_type": "markdown",
   "id": "f8b415c8",
   "metadata": {},
   "source": [
    "## Save me!"
   ]
  },
  {
   "cell_type": "code",
   "execution_count": 40,
   "id": "68e3d712",
   "metadata": {
    "ExecuteTime": {
     "end_time": "2024-06-03T13:58:25.385682Z",
     "start_time": "2024-06-03T13:58:25.379582Z"
    }
   },
   "outputs": [],
   "source": [
    "cs_dict={}\n",
    "cs_dict['cos_sims']=cos_sims\n",
    "cs_dict['pvals']=pvals"
   ]
  },
  {
   "cell_type": "code",
   "execution_count": 42,
   "id": "c2b1bf39",
   "metadata": {
    "ExecuteTime": {
     "end_time": "2024-06-03T13:58:39.270546Z",
     "start_time": "2024-06-03T13:58:39.264227Z"
    }
   },
   "outputs": [],
   "source": [
    "with open(chatgpt_folder+'chatgpt_shell_2015_cosine.pickle', 'wb') as f:\n",
    "    pickle.dump(cs_dict, f)"
   ]
  },
  {
   "cell_type": "markdown",
   "id": "669466b9",
   "metadata": {},
   "source": [
    "# Bag-of-words: Melt & beyond"
   ]
  },
  {
   "cell_type": "markdown",
   "id": "24f5e1e3",
   "metadata": {},
   "source": [
    "## Use the auxiliary function of Melt "
   ]
  },
  {
   "cell_type": "markdown",
   "id": "c738a60d",
   "metadata": {},
   "source": [
    "...and get inspiration for the next generation of Melt."
   ]
  },
  {
   "cell_type": "code",
   "execution_count": 8,
   "id": "bd171825",
   "metadata": {
    "ExecuteTime": {
     "end_time": "2024-06-03T14:16:17.335659Z",
     "start_time": "2024-06-03T14:16:17.329493Z"
    }
   },
   "outputs": [],
   "source": [
    "texts=[chatgpt_shell_2015[key] for key in chatgpt_shell_2015.keys()]"
   ]
  },
  {
   "cell_type": "code",
   "execution_count": 9,
   "id": "77e26d4d",
   "metadata": {
    "ExecuteTime": {
     "end_time": "2024-06-03T14:16:17.794520Z",
     "start_time": "2024-06-03T14:16:17.656356Z"
    }
   },
   "outputs": [],
   "source": [
    "cacca=melt.melt(texts, binary=False)"
   ]
  },
  {
   "cell_type": "code",
   "execution_count": 16,
   "id": "dce80939",
   "metadata": {
    "ExecuteTime": {
     "end_time": "2024-06-03T14:24:26.789897Z",
     "start_time": "2024-06-03T14:24:26.778495Z"
    }
   },
   "outputs": [
    {
     "name": "stdout",
     "output_type": "stream",
     "text": [
      "0\n",
      "('shell', 15)\n",
      "('energi', 10)\n",
      "('report', 8)\n",
      "('sustain', 8)\n",
      "('safeti', 7)\n",
      "('environment', 6)\n",
      "('oper', 6)\n",
      "('communiti', 5)\n",
      "('compani', 5)\n",
      "('emiss', 5)\n",
      "1\n",
      "('shell', 18)\n",
      "('energi', 14)\n",
      "('sustain', 12)\n",
      "('develop', 9)\n",
      "('oper', 9)\n",
      "('report', 8)\n",
      "('compani', 7)\n",
      "('safeti', 7)\n",
      "('communiti', 6)\n",
      "('emiss', 6)\n",
      "2\n",
      "('shell', 20)\n",
      "('energi', 16)\n",
      "('compani', 12)\n",
      "('sustain', 11)\n",
      "('develop', 10)\n",
      "('goal', 6)\n",
      "('sdgs', 6)\n",
      "('support', 6)\n",
      "('oper', 5)\n",
      "('sdg', 5)\n",
      "3\n",
      "('shell', 22)\n",
      "('sdg', 17)\n",
      "('communiti', 10)\n",
      "('compani', 10)\n",
      "('energi', 10)\n",
      "('invest', 10)\n",
      "('support', 9)\n",
      "('report', 7)\n",
      "('contribut', 6)\n",
      "('develop', 6)\n",
      "4\n",
      "('sdg', 17)\n",
      "('shell', 14)\n",
      "('energi', 10)\n",
      "('compani', 8)\n",
      "('explicit', 8)\n",
      "('mention', 8)\n",
      "('communiti', 6)\n",
      "('invest', 6)\n",
      "('support', 6)\n",
      "('sustain', 6)\n"
     ]
    }
   ],
   "source": [
    "for key in cacca.biadj_list.keys():\n",
    "    print(key)\n",
    "    mydict=cacca.biadj_list[key]\n",
    "    _keys=list(mydict.keys())\n",
    "    _keys.sort(key=mydict.__getitem__, reverse=True)\n",
    "    for _k in _keys[:10]:\n",
    "        print((_k, mydict[_k]))"
   ]
  },
  {
   "cell_type": "markdown",
   "id": "00ab3417",
   "metadata": {},
   "source": [
    "## Weighted validation"
   ]
  },
  {
   "cell_type": "markdown",
   "id": "a0f3e569",
   "metadata": {
    "heading_collapsed": true
   },
   "source": [
    "### Get the strength list"
   ]
  },
  {
   "cell_type": "code",
   "execution_count": 140,
   "id": "0c5445d8",
   "metadata": {
    "ExecuteTime": {
     "end_time": "2024-06-03T15:21:10.573576Z",
     "start_time": "2024-06-03T15:21:10.565542Z"
    },
    "hidden": true
   },
   "outputs": [],
   "source": [
    "s_texts=[]\n",
    "for key in cacca.biadj_list.keys():\n",
    "    aux=sum(cacca.biadj_list[key].values())\n",
    "    s_texts.append(aux)"
   ]
  },
  {
   "cell_type": "code",
   "execution_count": 141,
   "id": "02e15b09",
   "metadata": {
    "ExecuteTime": {
     "end_time": "2024-06-03T15:21:10.976431Z",
     "start_time": "2024-06-03T15:21:10.966920Z"
    },
    "hidden": true
   },
   "outputs": [
    {
     "data": {
      "text/plain": [
       "[324, 426, 393, 488, 354]"
      ]
     },
     "execution_count": 141,
     "metadata": {},
     "output_type": "execute_result"
    }
   ],
   "source": [
    "s_texts"
   ]
  },
  {
   "cell_type": "code",
   "execution_count": 183,
   "id": "7196002d",
   "metadata": {
    "ExecuteTime": {
     "end_time": "2024-06-03T15:23:24.563074Z",
     "start_time": "2024-06-03T15:23:24.544163Z"
    },
    "hidden": true
   },
   "outputs": [],
   "source": [
    "tokens=[]\n",
    "s_tokens=[]\n",
    "for key in cacca.biadj_list.keys():\n",
    "    for skey in cacca.biadj_list[key].keys():\n",
    "        if skey not in ['sdgs', 'sdg']:\n",
    "            new_token=skey\n",
    "        else:\n",
    "            new_token='sdgs'\n",
    "        if new_token not in tokens:\n",
    "            tokens.append(new_token)\n",
    "            s_tokens.append(cacca.biadj_list[key][skey])\n",
    "        else:\n",
    "            _index=tokens.index(new_token)\n",
    "            s_tokens[_index]+=cacca.biadj_list[key][skey]"
   ]
  },
  {
   "cell_type": "code",
   "execution_count": 184,
   "id": "b2ddace5",
   "metadata": {
    "ExecuteTime": {
     "end_time": "2024-06-03T15:23:24.868853Z",
     "start_time": "2024-06-03T15:23:24.861649Z"
    },
    "hidden": true
   },
   "outputs": [
    {
     "data": {
      "text/plain": [
       "341"
      ]
     },
     "execution_count": 184,
     "metadata": {},
     "output_type": "execute_result"
    }
   ],
   "source": [
    "len(tokens)"
   ]
  },
  {
   "cell_type": "markdown",
   "id": "77f36061",
   "metadata": {
    "hidden": true
   },
   "source": [
    "#### Where are the SDGs?"
   ]
  },
  {
   "cell_type": "code",
   "execution_count": 185,
   "id": "a7c87f0a",
   "metadata": {
    "ExecuteTime": {
     "end_time": "2024-06-03T15:23:25.609421Z",
     "start_time": "2024-06-03T15:23:25.604030Z"
    },
    "hidden": true
   },
   "outputs": [],
   "source": [
    "tokens_dict=dict(zip(tokens, s_tokens))"
   ]
  },
  {
   "cell_type": "code",
   "execution_count": 186,
   "id": "126a37ee",
   "metadata": {
    "ExecuteTime": {
     "end_time": "2024-06-03T15:23:26.002405Z",
     "start_time": "2024-06-03T15:23:25.994053Z"
    },
    "hidden": true
   },
   "outputs": [
    {
     "data": {
      "text/plain": [
       "52"
      ]
     },
     "execution_count": 186,
     "metadata": {},
     "output_type": "execute_result"
    }
   ],
   "source": [
    "tokens_dict['sdgs']"
   ]
  },
  {
   "cell_type": "code",
   "execution_count": 187,
   "id": "c8107087",
   "metadata": {
    "ExecuteTime": {
     "end_time": "2024-06-03T15:23:42.743024Z",
     "start_time": "2024-06-03T15:23:42.736540Z"
    },
    "hidden": true
   },
   "outputs": [],
   "source": [
    "s_tokens.sort(reverse=True)\n",
    "\n",
    "tokens.sort(key=tokens_dict.__getitem__, reverse=True)"
   ]
  },
  {
   "cell_type": "code",
   "execution_count": 188,
   "id": "c13c7333",
   "metadata": {
    "ExecuteTime": {
     "end_time": "2024-06-03T15:23:43.950927Z",
     "start_time": "2024-06-03T15:23:43.926148Z"
    },
    "hidden": true
   },
   "outputs": [
    {
     "data": {
      "text/plain": [
       "['shell',\n",
       " 'energi',\n",
       " 'sdgs',\n",
       " 'sustain',\n",
       " 'compani',\n",
       " 'develop',\n",
       " 'communiti',\n",
       " 'invest',\n",
       " 'oper',\n",
       " 'support',\n",
       " 'report',\n",
       " 'emiss',\n",
       " 'environment',\n",
       " 'reduc',\n",
       " 'safeti',\n",
       " 'goal',\n",
       " 'includ',\n",
       " 'gas',\n",
       " 'transit',\n",
       " 'improv',\n",
       " 'local',\n",
       " 'technolog',\n",
       " 'aim',\n",
       " 'contribut',\n",
       " 'advanc',\n",
       " 'climat',\n",
       " 'initi',\n",
       " 'program',\n",
       " 'collabor',\n",
       " 'respons',\n",
       " 'social',\n",
       " 'address',\n",
       " 'focus',\n",
       " 'govern',\n",
       " 'innov',\n",
       " 'like',\n",
       " 'manag',\n",
       " 'busi',\n",
       " 'impact',\n",
       " 'industri',\n",
       " 'work',\n",
       " 'mention',\n",
       " 'biofuel',\n",
       " 'econom',\n",
       " 'water',\n",
       " 'carbon',\n",
       " 'ccs',\n",
       " 'commit',\n",
       " 'environ',\n",
       " 'greenhous',\n",
       " 'hydrogen',\n",
       " 'low-carbon',\n",
       " 'zero',\n",
       " 'clean',\n",
       " 'explicit',\n",
       " 'captur',\n",
       " 'co2',\n",
       " 'effort',\n",
       " 'global',\n",
       " 'partnership',\n",
       " 'practic',\n",
       " 'research',\n",
       " 'spill',\n",
       " 'project',\n",
       " 'achiev',\n",
       " 'drive',\n",
       " 'emphas',\n",
       " 'futur',\n",
       " 'highlight',\n",
       " 'key',\n",
       " 'natur',\n",
       " 'perform',\n",
       " 'review',\n",
       " 'signific',\n",
       " 'specif',\n",
       " 'action',\n",
       " 'challeng',\n",
       " 'chang',\n",
       " 'effici',\n",
       " 'enhanc',\n",
       " 'growth',\n",
       " 'institut',\n",
       " 'use',\n",
       " 'strategi',\n",
       " 'well-b',\n",
       " 'new',\n",
       " 'partner',\n",
       " 'promot',\n",
       " 'solar',\n",
       " 'storag',\n",
       " 'infrastructur',\n",
       " 'sourc',\n",
       " 'health',\n",
       " 'across',\n",
       " 'activ',\n",
       " 'agreement',\n",
       " 'commiss',\n",
       " 'engag',\n",
       " 'foster',\n",
       " 'gamechang',\n",
       " 'harm',\n",
       " 'import',\n",
       " 'nigeria',\n",
       " 'oil',\n",
       " 'pari',\n",
       " 'peopl',\n",
       " 'price',\n",
       " 'progress',\n",
       " 'region',\n",
       " 'relat',\n",
       " 'road',\n",
       " 'societi',\n",
       " 'solut',\n",
       " 'job',\n",
       " 'renew',\n",
       " 'also',\n",
       " 'ambit',\n",
       " 'broader',\n",
       " 'cleaner',\n",
       " 'product',\n",
       " 'educ',\n",
       " 'life',\n",
       " 'access',\n",
       " 'coal',\n",
       " 'committe',\n",
       " 'continu',\n",
       " 'csrc',\n",
       " 'enterpris',\n",
       " 'face',\n",
       " 'flare',\n",
       " 'lower-carbon',\n",
       " 'power',\n",
       " 'strive',\n",
       " 'track',\n",
       " 'afford',\n",
       " 'supplier',\n",
       " 'un',\n",
       " 'wind',\n",
       " 'creation',\n",
       " 'decent',\n",
       " 'provid',\n",
       " 'toward',\n",
       " 'transport',\n",
       " 'citi',\n",
       " 'equal',\n",
       " 'gender',\n",
       " 'howev',\n",
       " 'land',\n",
       " 'polici',\n",
       " 'sanit',\n",
       " 'approach',\n",
       " 'conclus',\n",
       " 'dutch',\n",
       " 'refineri',\n",
       " 'regard',\n",
       " 'royal',\n",
       " 'standard',\n",
       " 'summar',\n",
       " 'togeth',\n",
       " 'ventur',\n",
       " 'align',\n",
       " 'economi',\n",
       " 'nation',\n",
       " 'unit',\n",
       " 'advoc',\n",
       " 'choic',\n",
       " 'civil',\n",
       " 'compact',\n",
       " 'compon',\n",
       " 'core',\n",
       " 'ensur',\n",
       " 'found',\n",
       " 'fuel',\n",
       " 'idea',\n",
       " 'mechan',\n",
       " 'member',\n",
       " 'principl',\n",
       " 'r',\n",
       " 'reflect',\n",
       " 'safe',\n",
       " 'shape',\n",
       " 'stakehold',\n",
       " 'store',\n",
       " 'system',\n",
       " 'univers',\n",
       " 'biodivers',\n",
       " 'ecosystem',\n",
       " 'hunger',\n",
       " 'indirect',\n",
       " 'inequ',\n",
       " 'justic',\n",
       " 'measur',\n",
       " 'peac',\n",
       " 'poverti',\n",
       " 'protect',\n",
       " 'qualiti',\n",
       " 'strong',\n",
       " 'accord',\n",
       " 'adopt',\n",
       " 'advis',\n",
       " 'alaska',\n",
       " 'balanc',\n",
       " 'ben',\n",
       " 'beurden',\n",
       " 'ceo',\n",
       " 'cooper',\n",
       " 'corpor',\n",
       " 'cost',\n",
       " 'decis',\n",
       " 'dialogu',\n",
       " 'end',\n",
       " 'extern',\n",
       " 'fatal',\n",
       " 'gri',\n",
       " 'guidelin',\n",
       " 'illustr',\n",
       " 'immedi',\n",
       " 'independ',\n",
       " 'intens',\n",
       " 'introduct',\n",
       " 'issu',\n",
       " 'low',\n",
       " 'lower',\n",
       " 'made',\n",
       " 'maintain',\n",
       " 'messag',\n",
       " 'methan',\n",
       " 'metric',\n",
       " 'mileston',\n",
       " 'necessit',\n",
       " 'note',\n",
       " 'open',\n",
       " 'outlin',\n",
       " 'person',\n",
       " 'process',\n",
       " 'risk',\n",
       " 'setback',\n",
       " 'shift',\n",
       " 'site',\n",
       " 'structur',\n",
       " 'success',\n",
       " 'tough',\n",
       " 'van',\n",
       " 'visit',\n",
       " 'creat',\n",
       " 'integr',\n",
       " 'lead',\n",
       " 'underscor',\n",
       " 'area',\n",
       " 'detail',\n",
       " 'divers',\n",
       " 'prevent',\n",
       " 'altern',\n",
       " 'assess',\n",
       " 'central',\n",
       " 'conduct',\n",
       " 'consumpt',\n",
       " 'cross-sector',\n",
       " 'effect',\n",
       " 'employ',\n",
       " 'encourag',\n",
       " 'good',\n",
       " 'groundbreak',\n",
       " 'inclus',\n",
       " 'overal',\n",
       " 'plan',\n",
       " 'potenti',\n",
       " 'reduct',\n",
       " 'theme',\n",
       " 'urban',\n",
       " 'usag',\n",
       " 'wastewat',\n",
       " 'cleaner-burn',\n",
       " 'framework',\n",
       " 'strateg',\n",
       " 'acceler',\n",
       " 'addit',\n",
       " 'anti-corrupt',\n",
       " 'atmospher',\n",
       " 'bring',\n",
       " 'canada',\n",
       " 'consum',\n",
       " 'could',\n",
       " 'cover',\n",
       " 'dedic',\n",
       " 'design',\n",
       " 'embed',\n",
       " 'enter',\n",
       " 'explor',\n",
       " 'footprint',\n",
       " 'government-l',\n",
       " 'heavili',\n",
       " 'heavy-duti',\n",
       " 'help',\n",
       " 'human',\n",
       " 'incentiv',\n",
       " 'investor',\n",
       " 'involv',\n",
       " 'labor',\n",
       " 'leader',\n",
       " 'leak',\n",
       " 'lng',\n",
       " 'make',\n",
       " 'method',\n",
       " 'mix',\n",
       " 'need',\n",
       " 'ngos',\n",
       " 'opportun',\n",
       " 'option',\n",
       " 'present',\n",
       " 'quest',\n",
       " 'radic',\n",
       " 'recogn',\n",
       " 'recommend',\n",
       " 'reliabl',\n",
       " 'repres',\n",
       " 'right',\n",
       " 'role',\n",
       " 'sector',\n",
       " 'sever',\n",
       " 'ship',\n",
       " 'societ',\n",
       " 'stimul',\n",
       " 'unproven',\n",
       " 'various',\n",
       " 'vehicl',\n",
       " 'within',\n",
       " 'complianc',\n",
       " 'direct',\n",
       " 'dispar',\n",
       " 'erad',\n",
       " 'especi',\n",
       " 'ethic',\n",
       " 'legal',\n",
       " 'livelihood',\n",
       " 'marin',\n",
       " 'may',\n",
       " 'minim',\n",
       " 'object',\n",
       " 'target',\n",
       " 'transpar']"
      ]
     },
     "execution_count": 188,
     "metadata": {},
     "output_type": "execute_result"
    }
   ],
   "source": [
    "tokens"
   ]
  },
  {
   "cell_type": "markdown",
   "id": "f3e7c32e",
   "metadata": {},
   "source": [
    "### Get the biadjacency matrix"
   ]
  },
  {
   "cell_type": "code",
   "execution_count": 191,
   "id": "249012bd",
   "metadata": {
    "ExecuteTime": {
     "end_time": "2024-06-03T15:24:05.270579Z",
     "start_time": "2024-06-03T15:24:05.264753Z"
    }
   },
   "outputs": [],
   "source": [
    "biadiacency_matrix=np.zeros((len(s_texts), len(tokens)), dtype='int')"
   ]
  },
  {
   "cell_type": "code",
   "execution_count": 192,
   "id": "03691744",
   "metadata": {
    "ExecuteTime": {
     "end_time": "2024-06-03T15:24:05.458375Z",
     "start_time": "2024-06-03T15:24:05.443424Z"
    }
   },
   "outputs": [],
   "source": [
    "for key in cacca.biadj_list.keys():\n",
    "    for skey in cacca.biadj_list[key].keys():\n",
    "        # merging 'sdg' and 'sdgs' entries together\n",
    "        if skey not in ['sdgs', 'sdg']:\n",
    "            j=tokens.index(skey)\n",
    "        else:\n",
    "            j=tokens.index('sdgs')\n",
    "        biadiacency_matrix[key, j]+=cacca.biadj_list[key][skey]"
   ]
  },
  {
   "cell_type": "code",
   "execution_count": 193,
   "id": "db4a439b",
   "metadata": {
    "ExecuteTime": {
     "end_time": "2024-06-03T15:24:05.633338Z",
     "start_time": "2024-06-03T15:24:05.626570Z"
    }
   },
   "outputs": [
    {
     "data": {
      "text/plain": [
       "array([ 0,  5, 11, 18, 18])"
      ]
     },
     "execution_count": 193,
     "metadata": {},
     "output_type": "execute_result"
    }
   ],
   "source": [
    "biadiacency_matrix[:, sdg_index]"
   ]
  },
  {
   "cell_type": "markdown",
   "id": "76f0b562",
   "metadata": {},
   "source": [
    "### Validation "
   ]
  },
  {
   "cell_type": "markdown",
   "id": "ceddd765",
   "metadata": {},
   "source": [
    "**SPOILER!** The matrix is too small to observe anything!"
   ]
  },
  {
   "cell_type": "code",
   "execution_count": 194,
   "id": "76c851f0",
   "metadata": {
    "ExecuteTime": {
     "end_time": "2024-06-03T15:24:07.183576Z",
     "start_time": "2024-06-03T15:24:07.178394Z"
    }
   },
   "outputs": [],
   "source": [
    "myGraph=BiG()"
   ]
  },
  {
   "cell_type": "code",
   "execution_count": 195,
   "id": "3415185b",
   "metadata": {
    "ExecuteTime": {
     "end_time": "2024-06-03T15:24:07.365664Z",
     "start_time": "2024-06-03T15:24:07.358553Z"
    }
   },
   "outputs": [
    {
     "name": "stdout",
     "output_type": "stream",
     "text": [
      "Discrete weighted model: BiWCM_d\n"
     ]
    }
   ],
   "source": [
    "myGraph.set_biadjacency_matrix(biadiacency_matrix)"
   ]
  },
  {
   "cell_type": "code",
   "execution_count": 196,
   "id": "22a9d742",
   "metadata": {
    "ExecuteTime": {
     "end_time": "2024-06-03T15:24:07.941043Z",
     "start_time": "2024-06-03T15:24:07.498281Z"
    }
   },
   "outputs": [
    {
     "name": "stdout",
     "output_type": "stream",
     "text": [
      "First I have to compute the BiCM. Computing...\n"
     ]
    },
    {
     "name": "stderr",
     "output_type": "stream",
     "text": [
      "/home/sarawalk/sdgs_py38/lib/python3.8/site-packages/numba/core/utils.py:643: NumbaExperimentalFeatureWarning: First-class function type feature is experimental\n",
      "  warnings.warn(\"First-class function type feature is experimental\",\n"
     ]
    },
    {
     "name": "stdout",
     "output_type": "stream",
     "text": [
      "max rows error = 1.2891001056737474e-07\n",
      "max columns error = 2.413514053874846e-07\n",
      "total error = 6.894482929779563e-06\n",
      "Solver converged.\n",
      "No V-motifs will be validated. Try increasing alpha\n"
     ]
    },
    {
     "data": {
      "text/plain": [
       "array([[0, 0, 0, ..., 0, 0, 0],\n",
       "       [0, 0, 0, ..., 0, 0, 0],\n",
       "       [0, 0, 0, ..., 0, 0, 0],\n",
       "       [0, 0, 0, ..., 0, 0, 0],\n",
       "       [0, 0, 0, ..., 0, 0, 0]], dtype=uint8)"
      ]
     },
     "execution_count": 196,
     "metadata": {},
     "output_type": "execute_result"
    }
   ],
   "source": [
    "myGraph.get_validated_matrix(significance=0.01, validation_method='fdr')"
   ]
  },
  {
   "cell_type": "code",
   "execution_count": 197,
   "id": "1a1e9476",
   "metadata": {
    "ExecuteTime": {
     "end_time": "2024-06-03T15:24:07.953768Z",
     "start_time": "2024-06-03T15:24:07.945816Z"
    }
   },
   "outputs": [
    {
     "data": {
      "text/plain": [
       "0.032108367193543694"
      ]
     },
     "execution_count": 197,
     "metadata": {},
     "output_type": "execute_result"
    }
   ],
   "source": [
    "np.min(myGraph.get_weighted_pvals_mat())"
   ]
  },
  {
   "cell_type": "markdown",
   "id": "d94e1b20",
   "metadata": {},
   "source": [
    "### Projection?"
   ]
  },
  {
   "cell_type": "code",
   "execution_count": 198,
   "id": "ee1a96ff",
   "metadata": {
    "ExecuteTime": {
     "end_time": "2024-06-03T15:24:08.425509Z",
     "start_time": "2024-06-03T15:24:08.420323Z"
    }
   },
   "outputs": [],
   "source": [
    "w_mat=np.dot(biadiacency_matrix.T, biadiacency_matrix)"
   ]
  },
  {
   "cell_type": "code",
   "execution_count": 199,
   "id": "0a569f53",
   "metadata": {
    "ExecuteTime": {
     "end_time": "2024-06-03T15:24:08.787855Z",
     "start_time": "2024-06-03T15:24:08.758366Z"
    }
   },
   "outputs": [],
   "source": [
    "w_mat-=np.diag(np.diag(w_mat))\n",
    "for i in range(len(tokens)):\n",
    "    for j in range(i+1, len(tokens)):\n",
    "        w_mat[j, i]=0\n",
    "        "
   ]
  },
  {
   "cell_type": "code",
   "execution_count": 200,
   "id": "02d853d2",
   "metadata": {
    "ExecuteTime": {
     "end_time": "2024-06-03T15:24:08.926465Z",
     "start_time": "2024-06-03T15:24:08.921847Z"
    }
   },
   "outputs": [],
   "source": [
    "flat_matrix=w_mat.flatten()"
   ]
  },
  {
   "cell_type": "code",
   "execution_count": 201,
   "id": "47eef605",
   "metadata": {
    "ExecuteTime": {
     "end_time": "2024-06-03T15:24:09.111781Z",
     "start_time": "2024-06-03T15:24:09.102631Z"
    }
   },
   "outputs": [],
   "source": [
    "top15=flat_matrix[np.argsort(-flat_matrix)][:15]"
   ]
  },
  {
   "cell_type": "code",
   "execution_count": 202,
   "id": "50b110d5",
   "metadata": {
    "ExecuteTime": {
     "end_time": "2024-06-03T15:24:09.429656Z",
     "start_time": "2024-06-03T15:24:09.410693Z"
    }
   },
   "outputs": [
    {
     "name": "stdout",
     "output_type": "stream",
     "text": [
      "1082 ['shell', 'energi']\n",
      "958 ['shell', 'sdgs']\n",
      "773 ['shell', 'compani']\n",
      "772 ['shell', 'sustain']\n",
      "609 ['shell', 'develop']\n",
      "606 ['energi', 'sdgs']\n",
      "544 ['energi', 'sustain']\n",
      "534 ['shell', 'invest']\n",
      "527 ['shell', 'communiti']\n",
      "526 ['shell', 'oper']\n",
      "520 ['energi', 'compani']\n",
      "504 ['shell', 'support']\n",
      "491 ['sdgs', 'compani']\n",
      "472 ['shell', 'report']\n",
      "426 ['energi', 'develop']\n"
     ]
    }
   ],
   "source": [
    "for i in top15:\n",
    "    aux=np.where(w_mat==i)\n",
    "    _tokens=[tokens[a[0]] for a in aux]\n",
    "    print(i, _tokens)"
   ]
  },
  {
   "cell_type": "markdown",
   "id": "e3ffa06a",
   "metadata": {},
   "source": [
    "## Binary validation"
   ]
  },
  {
   "cell_type": "markdown",
   "id": "f5cb97de",
   "metadata": {},
   "source": [
    "Let's make something a la ECI, i.e. binarization (using the BiWCM instead of RCA) and then a validated projection. "
   ]
  },
  {
   "cell_type": "code",
   "execution_count": 204,
   "id": "5cf2bd5f",
   "metadata": {
    "ExecuteTime": {
     "end_time": "2024-06-06T13:01:23.013225Z",
     "start_time": "2024-06-06T13:01:23.003938Z"
    }
   },
   "outputs": [
    {
     "data": {
      "text/plain": [
       "array([[15, 10,  0, ...,  0,  0,  0],\n",
       "       [18, 14,  5, ...,  0,  0,  0],\n",
       "       [20, 16, 11, ...,  0,  0,  0],\n",
       "       [22, 10, 18, ...,  1,  1,  1],\n",
       "       [14, 10, 18, ...,  0,  0,  0]])"
      ]
     },
     "execution_count": 204,
     "metadata": {},
     "output_type": "execute_result"
    }
   ],
   "source": [
    "biadiacency_matrix"
   ]
  },
  {
   "cell_type": "markdown",
   "id": "d857e700",
   "metadata": {},
   "source": [
    "### Binarization"
   ]
  },
  {
   "cell_type": "code",
   "execution_count": 205,
   "id": "4d1d2852",
   "metadata": {
    "ExecuteTime": {
     "end_time": "2024-06-06T13:01:53.744276Z",
     "start_time": "2024-06-06T13:01:53.738759Z"
    }
   },
   "outputs": [],
   "source": [
    "myGraph=BiG()"
   ]
  },
  {
   "cell_type": "code",
   "execution_count": 206,
   "id": "baa51995",
   "metadata": {
    "ExecuteTime": {
     "end_time": "2024-06-06T13:01:54.683759Z",
     "start_time": "2024-06-06T13:01:54.675550Z"
    }
   },
   "outputs": [
    {
     "name": "stdout",
     "output_type": "stream",
     "text": [
      "Discrete weighted model: BiWCM_d\n"
     ]
    }
   ],
   "source": [
    "myGraph.set_biadjacency_matrix(biadiacency_matrix)"
   ]
  },
  {
   "cell_type": "code",
   "execution_count": 207,
   "id": "a2a58339",
   "metadata": {
    "ExecuteTime": {
     "end_time": "2024-06-06T13:02:38.665568Z",
     "start_time": "2024-06-06T13:02:38.288503Z"
    }
   },
   "outputs": [
    {
     "name": "stderr",
     "output_type": "stream",
     "text": [
      "/home/sarawalk/sdgs_py38/lib/python3.8/site-packages/numba/core/utils.py:643: NumbaExperimentalFeatureWarning: First-class function type feature is experimental\n",
      "  warnings.warn(\"First-class function type feature is experimental\",\n"
     ]
    },
    {
     "name": "stdout",
     "output_type": "stream",
     "text": [
      "max rows error = 1.2891001056737474e-07\n",
      "max columns error = 2.413514053874846e-07\n",
      "total error = 6.894482929779563e-06\n",
      "Solver converged.\n"
     ]
    }
   ],
   "source": [
    "myGraph.solve_tool()"
   ]
  },
  {
   "cell_type": "code",
   "execution_count": 210,
   "id": "7af3c806",
   "metadata": {
    "ExecuteTime": {
     "end_time": "2024-06-06T13:03:31.966876Z",
     "start_time": "2024-06-06T13:03:31.957396Z"
    }
   },
   "outputs": [],
   "source": [
    "binarized_matrix=biadiacency_matrix>=myGraph.avg_mat\n",
    "binarized_matrix=binarized_matrix.astype(int)"
   ]
  },
  {
   "cell_type": "code",
   "execution_count": 212,
   "id": "e51a0825",
   "metadata": {
    "ExecuteTime": {
     "end_time": "2024-06-06T13:03:50.808464Z",
     "start_time": "2024-06-06T13:03:50.798348Z"
    }
   },
   "outputs": [
    {
     "data": {
      "text/plain": [
       "0.4087976539589443"
      ]
     },
     "execution_count": 212,
     "metadata": {},
     "output_type": "execute_result"
    }
   ],
   "source": [
    "np.sum(binarized_matrix)/np.prod(binarized_matrix.shape)"
   ]
  },
  {
   "cell_type": "markdown",
   "id": "eb646154",
   "metadata": {},
   "source": [
    "### Validated projection?"
   ]
  },
  {
   "cell_type": "code",
   "execution_count": 215,
   "id": "7a5ca2e1",
   "metadata": {
    "ExecuteTime": {
     "end_time": "2024-06-06T13:05:01.493882Z",
     "start_time": "2024-06-06T13:05:01.486265Z"
    }
   },
   "outputs": [],
   "source": [
    "myGraph=BiG()\n",
    "myGraph.set_biadjacency_matrix(binarized_matrix)"
   ]
  },
  {
   "cell_type": "code",
   "execution_count": 216,
   "id": "d40adf17",
   "metadata": {
    "ExecuteTime": {
     "end_time": "2024-06-06T13:05:43.538832Z",
     "start_time": "2024-06-06T13:05:37.143245Z"
    }
   },
   "outputs": [
    {
     "name": "stdout",
     "output_type": "stream",
     "text": [
      "First I have to compute the BiCM. Computing...\n"
     ]
    },
    {
     "name": "stderr",
     "output_type": "stream",
     "text": [
      "/home/sarawalk/sdgs_py38/lib/python3.8/site-packages/numba/core/utils.py:643: NumbaExperimentalFeatureWarning: First-class function type feature is experimental\n",
      "  warnings.warn(\"First-class function type feature is experimental\",\n",
      "/home/sarawalk/sdgs_py38/lib/python3.8/site-packages/bicm/models_functions.py:326: NumbaExperimentalFeatureWarning: First-class function type feature is experimental\n",
      "  step_fun = args[0]\n",
      "/home/sarawalk/sdgs_py38/lib/python3.8/site-packages/bicm/models_functions.py:327: NumbaExperimentalFeatureWarning: First-class function type feature is experimental\n",
      "  arg_step_fun = args[1]\n",
      "/home/sarawalk/sdgs_py38/lib/python3.8/site-packages/numba/core/utils.py:643: NumbaExperimentalFeatureWarning: First-class function type feature is experimental\n",
      "  warnings.warn(\"First-class function type feature is experimental\",\n"
     ]
    },
    {
     "name": "stdout",
     "output_type": "stream",
     "text": [
      "max rows error = 3.114450919383671e-10\n",
      "max columns error = 1.1958256607158546e-10\n",
      "total error = 3.1091338392741363e-09\n",
      "Solver converged.\n"
     ]
    },
    {
     "name": "stderr",
     "output_type": "stream",
     "text": [
      "100%|█████████████████████████████████████████████████████████████████████████████████████████████████████████████████████| 341/341 [00:02<00:00, 116.32it/s]\n"
     ]
    },
    {
     "name": "stdout",
     "output_type": "stream",
     "text": [
      "No V-motifs will be validated. Try increasing alpha\n"
     ]
    }
   ],
   "source": [
    "aux=myGraph.get_cols_projection()"
   ]
  },
  {
   "cell_type": "markdown",
   "id": "7223f865",
   "metadata": {},
   "source": [
    "## Extract info about SDGs"
   ]
  },
  {
   "cell_type": "markdown",
   "id": "70de5cc0",
   "metadata": {},
   "source": [
    "Alessia and Jonida chose for the 'Example5' entry that already organizes the report in terms of the various SDGs. In this sense it could be helpful to convert the text to a dictionary where the keys are the SDGs."
   ]
  },
  {
   "cell_type": "code",
   "execution_count": 252,
   "id": "a96b7808",
   "metadata": {
    "ExecuteTime": {
     "end_time": "2024-06-06T13:28:45.114414Z",
     "start_time": "2024-06-06T13:28:45.108519Z"
    }
   },
   "outputs": [],
   "source": [
    "text=chatgpt_shell_2015['Example5']"
   ]
  },
  {
   "cell_type": "markdown",
   "id": "94bf08f9",
   "metadata": {},
   "source": [
    "### Functions"
   ]
  },
  {
   "cell_type": "code",
   "execution_count": 240,
   "id": "42f4e44c",
   "metadata": {
    "ExecuteTime": {
     "end_time": "2024-06-06T13:27:15.614975Z",
     "start_time": "2024-06-06T13:27:15.603183Z"
    }
   },
   "outputs": [],
   "source": [
    "# the information contained here is the same of the entire text, but organised per SDG...\n",
    "def text2dict(text):\n",
    "    sdgs_dict={}\n",
    "    counter=0\n",
    "    aux=text.split('\\n')\n",
    "    while counter<len(aux):\n",
    "        _a=aux[counter]\n",
    "        if len(_a)>0:\n",
    "            if _a[:3]=='SDG' and aux[counter+1]!='Not explicitly mentioned.':\n",
    "                sdgs_dict[_a]=aux[counter+1]\n",
    "                counter+=2\n",
    "            elif _a[:3]=='SDG' and aux[counter+1]=='Not explicitly mentioned.':\n",
    "                counter+=2\n",
    "        else:\n",
    "            counter+=1\n",
    "    return sdgs_dict"
   ]
  },
  {
   "cell_type": "code",
   "execution_count": 247,
   "id": "b24481a0",
   "metadata": {
    "ExecuteTime": {
     "end_time": "2024-06-06T13:27:59.460205Z",
     "start_time": "2024-06-06T13:27:59.448249Z"
    }
   },
   "outputs": [],
   "source": [
    "# while here is brutally binarized by presence/absence of mention in the report of the given SDG\n",
    "def text2vec(text):\n",
    "    # there are 17 sdgs\n",
    "    sdgs_vec=np.zeros(17, dtype=int)\n",
    "    aux=text.split('\\n')\n",
    "    counter=0\n",
    "    sdgs_vec_i=0\n",
    "    while counter<len(aux):\n",
    "        _a=aux[counter]\n",
    "        if len(_a)>0:\n",
    "            if _a[:3]=='SDG' and aux[counter+1]!='Not explicitly mentioned.':\n",
    "                sdgs_vec[sdgs_vec_i]=1\n",
    "                counter+=2\n",
    "                sdgs_vec_i+=1\n",
    "            elif _a[:3]=='SDG' and aux[counter+1]=='Not explicitly mentioned.':\n",
    "                counter+=2\n",
    "                sdgs_vec_i+=1\n",
    "        else:\n",
    "            counter+=1\n",
    "    return sdgs_vec"
   ]
  },
  {
   "cell_type": "code",
   "execution_count": 250,
   "id": "6ec9e526",
   "metadata": {
    "ExecuteTime": {
     "end_time": "2024-06-06T13:28:26.406750Z",
     "start_time": "2024-06-06T13:28:26.397489Z"
    }
   },
   "outputs": [
    {
     "data": {
      "text/plain": [
       "{'SDG 3: Good Health and Well-being': 'Shell’s commitment to health and safety is highlighted through its \"Goal Zero\" ambition, which aims for no harm to people. The company also invests in community health programs and initiatives to improve road safety and overall well-being.',\n",
       " 'SDG 6: Clean Water and Sanitation': 'While clean water and sanitation are not explicitly mentioned, Shell’s environmental policies ensure responsible water management in its operations. Projects include measures to reduce water usage and manage wastewater effectively.',\n",
       " 'SDG 7: Affordable and Clean Energy': 'Shell invests significantly in renewable energy sources like wind, solar, and advanced biofuels. The company is developing hydrogen as a transport fuel and advancing carbon capture and storage (CCS) technology to reduce greenhouse gas emissions, supporting the transition to a low-carbon energy system.',\n",
       " 'SDG 8: Decent Work and Economic Growth': 'Shell’s operations contribute to economic development and job creation in local communities. The company supports local suppliers and businesses, enhancing economic growth. Shell’s social investment programs aim to improve community well-being and provide safe working environments, reflected in its \"Goal Zero\" safety ambition.',\n",
       " 'SDG 9: Industry, Innovation, and Infrastructure': 'Innovation is a core focus for Shell, with significant investments in research and development (R&D) for new energy solutions. Partnerships with universities and research institutes drive advancements in biofuels, hydrogen energy, and emissions reduction technologies. Programs like Shell GameChanger support groundbreaking ideas to shape the future of energy.',\n",
       " 'SDG 11: Sustainable Cities and Communities': 'Shell’s investments in cleaner energy and infrastructure projects support the development of sustainable cities and communities. The company collaborates with local governments and stakeholders to enhance urban planning and environmental management.',\n",
       " 'SDG 12: Responsible Consumption and Production': 'The report emphasizes Shell’s commitment to responsible production through improved energy efficiency and reduced environmental impact. The company tracks operational spills, greenhouse gas emissions, and energy use, striving for continuous improvement in its sustainability practices.',\n",
       " 'SDG 13: Climate Action': 'Climate action is a central theme in Shell’s sustainability strategy. The company supports the Paris Agreement and invests in CCS projects to capture and store CO2 emissions. Shell advocates for carbon pricing mechanisms to encourage low-carbon choices and promotes the use of natural gas as a cleaner alternative to coal.',\n",
       " 'SDG 15: Life on Land': 'Shell’s environmental policies include efforts to protect biodiversity and manage land use responsibly. The company conducts environmental impact assessments and engages with communities to address potential impacts on local ecosystems.',\n",
       " 'SDG 17: Partnerships for the Goals': 'Collaboration is a key component of Shell’s sustainability strategy. The company partners with governments, industry, and civil society to drive progress towards the SDGs. Shell is a founding member of the Energy Transitions Commission and supports the UN Global Compact principles, fostering cross-sector collaboration to achieve sustainable development.'}"
      ]
     },
     "execution_count": 250,
     "metadata": {},
     "output_type": "execute_result"
    }
   ],
   "source": [
    "text2dict(text)"
   ]
  },
  {
   "cell_type": "code",
   "execution_count": 248,
   "id": "3d8dcb49",
   "metadata": {
    "ExecuteTime": {
     "end_time": "2024-06-06T13:27:59.868197Z",
     "start_time": "2024-06-06T13:27:59.860132Z"
    }
   },
   "outputs": [
    {
     "data": {
      "text/plain": [
       "array([0, 0, 1, 0, 0, 1, 1, 1, 1, 0, 1, 1, 1, 0, 1, 0, 1])"
      ]
     },
     "execution_count": 248,
     "metadata": {},
     "output_type": "execute_result"
    }
   ],
   "source": [
    "text2vec(text)"
   ]
  },
  {
   "cell_type": "code",
   "execution_count": 257,
   "id": "9f8b39f9",
   "metadata": {
    "ExecuteTime": {
     "end_time": "2024-06-06T13:32:33.619712Z",
     "start_time": "2024-06-06T13:32:33.609907Z"
    }
   },
   "outputs": [
    {
     "data": {
      "text/plain": [
       "True"
      ]
     },
     "execution_count": 257,
     "metadata": {},
     "output_type": "execute_result"
    }
   ],
   "source": [
    "# check\n",
    "len(text2dict(text).keys())==np.sum(text2vec(text))"
   ]
  },
  {
   "cell_type": "code",
   "execution_count": null,
   "id": "83088024",
   "metadata": {},
   "outputs": [],
   "source": []
  }
 ],
 "metadata": {
  "kernelspec": {
   "display_name": "Python 3 (ipykernel)",
   "language": "python",
   "name": "python3"
  },
  "language_info": {
   "codemirror_mode": {
    "name": "ipython",
    "version": 3
   },
   "file_extension": ".py",
   "mimetype": "text/x-python",
   "name": "python",
   "nbconvert_exporter": "python",
   "pygments_lexer": "ipython3",
   "version": "3.8.10"
  },
  "toc": {
   "base_numbering": 1,
   "nav_menu": {},
   "number_sections": true,
   "sideBar": true,
   "skip_h1_title": false,
   "title_cell": "Table of Contents",
   "title_sidebar": "Contents",
   "toc_cell": false,
   "toc_position": {
    "height": "calc(100% - 180px)",
    "left": "10px",
    "top": "150px",
    "width": "288px"
   },
   "toc_section_display": true,
   "toc_window_display": true
  }
 },
 "nbformat": 4,
 "nbformat_minor": 5
}
