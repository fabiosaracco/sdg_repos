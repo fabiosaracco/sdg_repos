{
 "cells": [
  {
   "cell_type": "markdown",
   "id": "c0941688",
   "metadata": {},
   "source": [
    "# Intro"
   ]
  },
  {
   "cell_type": "markdown",
   "id": "a6b12917",
   "metadata": {},
   "source": [
    "## Load"
   ]
  },
  {
   "cell_type": "markdown",
   "id": "983a28af",
   "metadata": {},
   "source": [
    "### Standards"
   ]
  },
  {
   "cell_type": "code",
   "execution_count": 1,
   "id": "4e124cc3",
   "metadata": {
    "ExecuteTime": {
     "end_time": "2024-06-24T12:38:46.647722Z",
     "start_time": "2024-06-24T12:38:46.376200Z"
    }
   },
   "outputs": [],
   "source": [
    "import os, sys, pickle\n",
    "import numpy as np\n",
    "from tqdm.notebook import trange, tqdm\n",
    "import re"
   ]
  },
  {
   "cell_type": "code",
   "execution_count": 2,
   "id": "d52b4ab9",
   "metadata": {
    "ExecuteTime": {
     "end_time": "2024-06-24T12:38:47.443311Z",
     "start_time": "2024-06-24T12:38:46.750970Z"
    }
   },
   "outputs": [],
   "source": [
    "import matplotlib.pyplot as plt\n",
    "plt.rcParams['axes.linewidth'] = 2\n",
    "plt.rcParams['xtick.major.size'] = 10\n",
    "plt.rcParams['xtick.major.width'] = 2\n",
    "plt.rcParams['ytick.major.size'] = 10\n",
    "plt.rcParams['ytick.major.width'] = 2\n",
    "\n",
    "plt.rcParams['xtick.labelsize'] = 14\n",
    "plt.rcParams['ytick.labelsize'] = 14\n",
    "\n",
    "plt.rcParams['xtick.minor.size'] = 5\n",
    "plt.rcParams['xtick.minor.width'] = 1\n",
    "plt.rcParams['ytick.minor.size'] = 5\n",
    "plt.rcParams['ytick.minor.width'] = 1\n"
   ]
  },
  {
   "cell_type": "code",
   "execution_count": 3,
   "id": "c9d1f56e",
   "metadata": {
    "ExecuteTime": {
     "end_time": "2024-06-24T12:38:47.470595Z",
     "start_time": "2024-06-24T12:38:47.447455Z"
    }
   },
   "outputs": [],
   "source": [
    "from multiprocess import Pool"
   ]
  },
  {
   "cell_type": "markdown",
   "id": "f3f76658",
   "metadata": {},
   "source": [
    "### Homemade modules"
   ]
  },
  {
   "cell_type": "code",
   "execution_count": 4,
   "id": "cc12e243",
   "metadata": {
    "ExecuteTime": {
     "end_time": "2024-06-24T12:38:51.761873Z",
     "start_time": "2024-06-24T12:38:47.939970Z"
    }
   },
   "outputs": [],
   "source": [
    "from tesste import tesste\n",
    "from ppp import ppp\n",
    "from readers_and_converters import file2text, text2dict, text2vec"
   ]
  },
  {
   "cell_type": "markdown",
   "id": "974aabdc",
   "metadata": {},
   "source": [
    "## Stoopid infos"
   ]
  },
  {
   "cell_type": "code",
   "execution_count": 5,
   "id": "3c2aec33",
   "metadata": {
    "ExecuteTime": {
     "end_time": "2024-06-24T12:38:51.770629Z",
     "start_time": "2024-06-24T12:38:51.766211Z"
    }
   },
   "outputs": [],
   "source": [
    "L_SDGS=17"
   ]
  },
  {
   "cell_type": "markdown",
   "id": "3cef7d41",
   "metadata": {},
   "source": [
    "# Data"
   ]
  },
  {
   "cell_type": "code",
   "execution_count": 6,
   "id": "2f2181cd",
   "metadata": {
    "ExecuteTime": {
     "end_time": "2024-06-24T12:38:51.863736Z",
     "start_time": "2024-06-24T12:38:51.773785Z"
    }
   },
   "outputs": [],
   "source": [
    "with open ('./data/energy_utilities_texts.pickle', 'rb') as f:\n",
    "    text_dict=pickle.load(f)"
   ]
  },
  {
   "cell_type": "markdown",
   "id": "f96311a5",
   "metadata": {},
   "source": [
    "# Semantic analysis per report"
   ]
  },
  {
   "cell_type": "markdown",
   "id": "47748b44",
   "metadata": {
    "heading_collapsed": true
   },
   "source": [
    "## Cosine similarity calculations"
   ]
  },
  {
   "cell_type": "code",
   "execution_count": 7,
   "id": "4948f1f8",
   "metadata": {
    "ExecuteTime": {
     "end_time": "2024-06-24T10:08:44.039663Z",
     "start_time": "2024-06-24T10:08:34.502045Z"
    },
    "hidden": true
   },
   "outputs": [
    {
     "data": {
      "application/vnd.jupyter.widget-view+json": {
       "model_id": "fb6248e4a6ab4834beca34cec739e0d4",
       "version_major": 2,
       "version_minor": 0
      },
      "text/plain": [
       "Energy 2015:   0%|          | 0/2 [00:00<?, ?it/s]"
      ]
     },
     "metadata": {},
     "output_type": "display_data"
    },
    {
     "name": "stderr",
     "output_type": "stream",
     "text": [
      "/home/sarawalk/sdgs_py38/lib/python3.8/site-packages/torch/cuda/__init__.py:118: UserWarning: CUDA initialization: The NVIDIA driver on your system is too old (found version 10020). Please update your GPU driver by downloading and installing a new version from the URL: http://www.nvidia.com/Download/index.aspx Alternatively, go to: https://pytorch.org to install a PyTorch version that has been compiled with your version of the CUDA driver. (Triggered internally at ../c10/cuda/CUDAFunctions.cpp:108.)\n",
      "  return torch._C._cuda_getDeviceCount() > 0\n",
      "huggingface/tokenizers: The current process just got forked, after parallelism has already been used. Disabling parallelism to avoid deadlocks...\n",
      "To disable this warning, you can either:\n",
      "\t- Avoid using `tokenizers` before the fork if possible\n",
      "\t- Explicitly set the environment variable TOKENIZERS_PARALLELISM=(true | false)\n",
      "/home/sarawalk/sdgs_py38/lib/python3.8/site-packages/torch/cuda/__init__.py:619: UserWarning: Can't initialize NVML\n",
      "  warnings.warn(\"Can't initialize NVML\")\n"
     ]
    },
    {
     "data": {
      "application/vnd.jupyter.widget-view+json": {
       "model_id": "b095f79ccea440208ce1cb5b80b73233",
       "version_major": 2,
       "version_minor": 0
      },
      "text/plain": [
       "  0%|          | 0/1000 [00:00<?, ?it/s]"
      ]
     },
     "metadata": {},
     "output_type": "display_data"
    },
    {
     "name": "stderr",
     "output_type": "stream",
     "text": [
      "\n",
      "KeyboardInterrupt\n",
      "\n"
     ]
    }
   ],
   "source": [
    "cos_sim_dict={}\n",
    "for year in range(2015, 2024):\n",
    "    s_year=str(year)\n",
    "    cos_sim_dict[year]={}\n",
    "    energy_co_s=list(text_dict['Energy'][s_year].keys())\n",
    "    # inside energy\n",
    "    energy_cos_sims=np.zeros((len(energy_co_s), len(energy_co_s)))\n",
    "    energy_pvals=np.zeros((len(energy_co_s), len(energy_co_s)))\n",
    "    for i_e, energy_co_0 in enumerate(tqdm(energy_co_s, leave=False, desc='Energy '+s_year)):\n",
    "        text_0=text_dict['Energy'][s_year][energy_co_0]\n",
    "        for j_e in range(i_e+1, len(energy_co_s)):\n",
    "            energy_co_1=energy_co_s[j_e]\n",
    "            text_1=text_dict['Energy'][s_year][energy_co_1]\n",
    "            cacca=tesste(text_0, text_1)\n",
    "            energy_cos_sims[i_e, j_e]=cacca.cos_sim\n",
    "            energy_pvals[i_e, j_e]=cacca.pval\n",
    "            \n",
    "    cos_sim_dict[year]['Energy']={}\n",
    "    cos_sim_dict[year]['Energy']['cos_sim']=energy_cos_sims\n",
    "    cos_sim_dict[year]['Energy']['pvals']=energy_pvals\n",
    "    \n",
    "    utilities_co_s=list(text_dict['Utilities'][s_year].keys())\n",
    "    utilities_cos_sims=np.zeros((len(utilities_co_s), len(utilities_co_s)))\n",
    "    utilities_pvals=np.zeros((len(utilities_co_s), len(utilities_co_s)))\n",
    "    # inside utilities\n",
    "    for i_e, utilities_co_0 in enumerate(tqdm(utilities_co_s, leave=False, desc='Utilities '+s_year)):\n",
    "        text_0=text_dict['Utilities'][s_year][utilities_co_0]\n",
    "        for j_e in range(i_e+1, len(utilities_co_s)):\n",
    "            utilities_co_1=utilities_co_s[j_e]\n",
    "            text_1=text_dict['Utilities'][s_year][utilities_co_1]\n",
    "            cacca=tesste(text_0, text_1)\n",
    "            utilities_cos_sims[i_e, j_e]=cacca.cos_sim\n",
    "            utilities_pvals[i_e, j_e]=cacca.pval\n",
    "            \n",
    "    cos_sim_dict[year]['Utilities']={}\n",
    "    cos_sim_dict[year]['Utilities']['cos_sim']=utilities_cos_sims\n",
    "    cos_sim_dict[year]['Utilities']['pvals']=utilities_pvals\n"
   ]
  },
  {
   "cell_type": "markdown",
   "id": "fab9cc68",
   "metadata": {
    "heading_collapsed": true,
    "hidden": true
   },
   "source": [
    "### Something I forgot"
   ]
  },
  {
   "cell_type": "code",
   "execution_count": null,
   "id": "012b537e",
   "metadata": {
    "ExecuteTime": {
     "end_time": "2024-06-24T10:08:44.042902Z",
     "start_time": "2024-06-24T10:08:44.042877Z"
    },
    "hidden": true
   },
   "outputs": [],
   "source": [
    "with open ('./data/energy_utilities_cos_sim_mats.pickle', 'rb') as f:\n",
    "    cos_sim_dict=pickle.load(f)"
   ]
  },
  {
   "cell_type": "code",
   "execution_count": null,
   "id": "f9b88d7a",
   "metadata": {
    "ExecuteTime": {
     "end_time": "2024-06-24T10:08:44.044584Z",
     "start_time": "2024-06-24T10:08:44.044559Z"
    },
    "hidden": true
   },
   "outputs": [],
   "source": [
    "for year in range(2015, 2024):\n",
    "    s_year=str(year)\n",
    "    for field in ['Energy', 'Utilities']:\n",
    "        firms=list(text_dict[field][s_year].keys())\n",
    "        cos_sim_dict[year][field]['companies']=firms"
   ]
  },
  {
   "cell_type": "code",
   "execution_count": null,
   "id": "4750f60e",
   "metadata": {
    "ExecuteTime": {
     "end_time": "2024-06-24T10:08:44.046796Z",
     "start_time": "2024-06-24T10:08:44.046771Z"
    },
    "hidden": true
   },
   "outputs": [],
   "source": [
    "with open ('./data/energy_utilities_cos_sim_mats.pickle', 'wb') as f:\n",
    "    pickle.dump(cos_sim_dict, f)"
   ]
  },
  {
   "cell_type": "markdown",
   "id": "4a46c36b",
   "metadata": {},
   "source": [
    "## Cosine similarity analysis"
   ]
  },
  {
   "cell_type": "code",
   "execution_count": 10,
   "id": "9f20524c",
   "metadata": {
    "ExecuteTime": {
     "end_time": "2024-06-24T12:40:11.165035Z",
     "start_time": "2024-06-24T12:40:11.158027Z"
    }
   },
   "outputs": [],
   "source": [
    "with open ('./data/energy_utilities_cos_sim_mats.pickle', 'rb') as f:\n",
    "    cos_sim_dict=pickle.load(f)"
   ]
  },
  {
   "cell_type": "code",
   "execution_count": 11,
   "id": "8b4130d6",
   "metadata": {
    "ExecuteTime": {
     "end_time": "2024-06-24T12:40:11.489975Z",
     "start_time": "2024-06-24T12:40:11.484124Z"
    }
   },
   "outputs": [],
   "source": [
    "years=list(range(2015, 2024))"
   ]
  },
  {
   "cell_type": "code",
   "execution_count": 12,
   "id": "b506d3fe",
   "metadata": {
    "ExecuteTime": {
     "end_time": "2024-06-24T12:40:11.805858Z",
     "start_time": "2024-06-24T12:40:11.801047Z"
    }
   },
   "outputs": [],
   "source": [
    "# actually, it shouldn't be done, but I saw that relaxing from alpha=0.01 to alpha=0.05,\n",
    "# I get more validated entries...\n",
    "alpha=.05"
   ]
  },
  {
   "cell_type": "code",
   "execution_count": 13,
   "id": "8adaa85d",
   "metadata": {
    "ExecuteTime": {
     "end_time": "2024-06-24T12:40:12.499051Z",
     "start_time": "2024-06-24T12:40:12.480845Z"
    }
   },
   "outputs": [
    {
     "name": "stdout",
     "output_type": "stream",
     "text": [
      "2019 Utilities\n",
      "---------------------\n",
      "('02_SSE_PLC', '05_CENTRICA_PLC') 0.8133289217948914\n",
      "('02_SSE_PLC', '08_RENEWI_PLC') 0.8001610636711121\n",
      "('05_CENTRICA_PLC', '08_RENEWI_PLC') 0.7937230467796326\n",
      "('05_CENTRICA_PLC', '10_GOOD_ENERGY_GROUP_PLC') 0.8450196981430054\n"
     ]
    }
   ],
   "source": [
    "for year in years:\n",
    "    for field in ['Energy', 'Utilities']:\n",
    "        pvals=cos_sim_dict[year][field]['pvals']\n",
    "        cos_sim=cos_sim_dict[year][field]['cos_sim']\n",
    "        firms=cos_sim_dict[year][field]['companies']\n",
    "        if len(firms)>1:\n",
    "            # get the number of tests\n",
    "            n_tests=len(firms)*(len(firms)-1)/2\n",
    "            # calculate effective alpha according to Bonferroni\n",
    "            alpha_bonf=alpha/n_tests\n",
    "            # get the effective alpha according to fdr\n",
    "            pvals_vec=np.sort(pvals[pvals>0])\n",
    "            fdr_vec=(1+np.arange(len(pvals_vec)))*alpha_bonf\n",
    "            alpha_fdrs=fdr_vec[pvals_vec<=fdr_vec]\n",
    "            if len(alpha_fdrs)>0:\n",
    "                alpha_fdr=alpha_fdrs[-1]\n",
    "                # where are the validated entries?\n",
    "                where_vals=np.where(np.logical_and(pvals<=alpha_fdr, pvals>0))\n",
    "                val_couples=[]\n",
    "                for i in range(len(where_vals[0])):\n",
    "                    val_couples.append((firms[where_vals[0][i]],firms[where_vals[1][i]]))\n",
    "                # return values\n",
    "                print(year, field)\n",
    "                print('---------------------')\n",
    "                for i, val_couple in enumerate(val_couples):\n",
    "                    print(val_couple, cos_sim[where_vals[0][i], where_vals[1][i]])"
   ]
  },
  {
   "cell_type": "code",
   "execution_count": 12,
   "id": "f26433ad",
   "metadata": {
    "ExecuteTime": {
     "end_time": "2024-06-24T10:08:53.967489Z",
     "start_time": "2024-06-24T10:08:53.958061Z"
    }
   },
   "outputs": [
    {
     "data": {
      "text/plain": [
       "['02_SSE_PLC', '05_CENTRICA_PLC', '08_RENEWI_PLC', '10_GOOD_ENERGY_GROUP_PLC']"
      ]
     },
     "execution_count": 12,
     "metadata": {},
     "output_type": "execute_result"
    }
   ],
   "source": [
    "cos_sim_dict[2019]['Utilities']['companies']"
   ]
  },
  {
   "cell_type": "markdown",
   "id": "a7acea62",
   "metadata": {},
   "source": [
    "Quite bizarre that only on a single year (btw, before the COVID, i.e. before when I would have expected to see some excess in the cosine similarity) there is such a diffuse similarity. Moreover, CENTRICA is (ehm...) the most central, since it is significantly similar to all others."
   ]
  },
  {
   "cell_type": "code",
   "execution_count": 15,
   "id": "4a24161f",
   "metadata": {
    "ExecuteTime": {
     "end_time": "2024-06-24T12:40:43.481319Z",
     "start_time": "2024-06-24T12:40:43.475154Z"
    }
   },
   "outputs": [],
   "source": [
    "validated_cos_sim=(2019, 'Utilities', val_couples)"
   ]
  },
  {
   "cell_type": "markdown",
   "id": "d292053a",
   "metadata": {
    "heading_collapsed": true
   },
   "source": [
    "### SDGs covered and similarities"
   ]
  },
  {
   "cell_type": "code",
   "execution_count": 14,
   "id": "4e39d4fa",
   "metadata": {
    "ExecuteTime": {
     "end_time": "2024-06-24T10:08:56.396489Z",
     "start_time": "2024-06-24T10:08:56.363590Z"
    },
    "hidden": true
   },
   "outputs": [
    {
     "data": {
      "application/vnd.jupyter.widget-view+json": {
       "model_id": "0a9aef0935f34f80aad152cf517c8a6b",
       "version_major": 2,
       "version_minor": 0
      },
      "text/plain": [
       "  0%|          | 0/9 [00:00<?, ?it/s]"
      ]
     },
     "metadata": {},
     "output_type": "display_data"
    }
   ],
   "source": [
    "sdgs_dict={}\n",
    "for year in trange(2015, 2024):\n",
    "    s_year=str(year)\n",
    "    sdgs_dict[year]={}\n",
    "    for field in ['Energy', 'Utilities']:\n",
    "        sdgs_dict[year][field]={}\n",
    "        for key in text_dict[field][s_year].keys():\n",
    "            text=text_dict[field][s_year][key]\n",
    "            sdgs_dict[year][field][key]=text2dict(text)"
   ]
  },
  {
   "cell_type": "code",
   "execution_count": 32,
   "id": "55c2a89d",
   "metadata": {
    "ExecuteTime": {
     "end_time": "2024-06-24T12:29:52.587735Z",
     "start_time": "2024-06-24T12:29:52.578319Z"
    },
    "hidden": true
   },
   "outputs": [],
   "source": [
    "with open ('./data/sdgs_dict.pickle', 'wb') as f:\n",
    "    pickle.dump(sdgs_dict, f)"
   ]
  },
  {
   "cell_type": "markdown",
   "id": "29d2409d",
   "metadata": {},
   "source": [
    "### SDGs superposition"
   ]
  },
  {
   "cell_type": "code",
   "execution_count": 7,
   "id": "27254ca1",
   "metadata": {
    "ExecuteTime": {
     "end_time": "2024-06-24T12:39:57.091673Z",
     "start_time": "2024-06-24T12:39:57.085162Z"
    }
   },
   "outputs": [],
   "source": [
    "with open ('./data/energy_utilities_cos_sim_mats.pickle', 'rb') as f:\n",
    "    cos_sim_dict=pickle.load(f)"
   ]
  },
  {
   "cell_type": "code",
   "execution_count": 8,
   "id": "c80a1d6f",
   "metadata": {
    "ExecuteTime": {
     "end_time": "2024-06-24T12:39:57.702521Z",
     "start_time": "2024-06-24T12:39:57.694912Z"
    }
   },
   "outputs": [],
   "source": [
    "with open ('./data/sdgs_dict.pickle', 'rb') as f:\n",
    "    sdgs_dict=pickle.load(f)"
   ]
  },
  {
   "cell_type": "code",
   "execution_count": 16,
   "id": "332e4655",
   "metadata": {
    "ExecuteTime": {
     "end_time": "2024-06-24T12:40:46.578604Z",
     "start_time": "2024-06-24T12:40:46.573427Z"
    }
   },
   "outputs": [],
   "source": [
    "v_year=validated_cos_sim[0]\n",
    "v_field=validated_cos_sim[1]"
   ]
  },
  {
   "cell_type": "code",
   "execution_count": 17,
   "id": "0a99c983",
   "metadata": {
    "ExecuteTime": {
     "end_time": "2024-06-24T12:40:47.193427Z",
     "start_time": "2024-06-24T12:40:47.187614Z"
    }
   },
   "outputs": [],
   "source": [
    "companies=list(sdgs_dict[v_year][v_field].keys())"
   ]
  },
  {
   "cell_type": "code",
   "execution_count": 18,
   "id": "12009fd2",
   "metadata": {
    "ExecuteTime": {
     "end_time": "2024-06-24T12:40:48.172288Z",
     "start_time": "2024-06-24T12:40:48.161160Z"
    }
   },
   "outputs": [],
   "source": [
    "sdg_superpos=np.zeros((len(companies),len(companies)))\n",
    "for i_c, company_0 in enumerate(companies):\n",
    "    sdgs_i_c=list(sdgs_dict[v_year][v_field][company_0].keys())\n",
    "    for j_c, company_1 in enumerate(companies):\n",
    "        if i_c!=j_c:\n",
    "            sdgs_j_c=list(sdgs_dict[v_year][v_field][company_1].keys())\n",
    "            sdg_superpos[i_c, j_c]=len([sdg for sdg in sdgs_i_c if sdg in sdgs_j_c])/len(sdgs_i_c)"
   ]
  },
  {
   "cell_type": "code",
   "execution_count": 19,
   "id": "e8dcb002",
   "metadata": {
    "ExecuteTime": {
     "end_time": "2024-06-24T12:40:49.158645Z",
     "start_time": "2024-06-24T12:40:49.142139Z"
    }
   },
   "outputs": [
    {
     "data": {
      "text/plain": [
       "array([[0.        , 0.66666667, 0.46666667, 0.73333333],\n",
       "       [1.        , 0.        , 0.4       , 0.8       ],\n",
       "       [0.875     , 0.5       , 0.        , 0.75      ],\n",
       "       [1.        , 0.72727273, 0.54545455, 0.        ]])"
      ]
     },
     "execution_count": 19,
     "metadata": {},
     "output_type": "execute_result"
    }
   ],
   "source": [
    "sdg_superpos"
   ]
  },
  {
   "cell_type": "markdown",
   "id": "dd36c6d6",
   "metadata": {},
   "source": [
    "Not such a huge similarity. Where does the similarity come from? **To-Do**: manually read the reports."
   ]
  },
  {
   "cell_type": "markdown",
   "id": "17f5c1f2",
   "metadata": {},
   "source": [
    "# Semantic analysis per SDG"
   ]
  },
  {
   "cell_type": "code",
   "execution_count": 76,
   "id": "4de730fd",
   "metadata": {
    "ExecuteTime": {
     "end_time": "2024-06-24T13:13:00.516852Z",
     "start_time": "2024-06-24T13:13:00.508811Z"
    }
   },
   "outputs": [],
   "source": [
    "with open ('./data/sdgs_dict.pickle', 'rb') as f:\n",
    "    sdgs_dict=pickle.load(f)"
   ]
  },
  {
   "cell_type": "code",
   "execution_count": 77,
   "id": "064b71b1",
   "metadata": {
    "ExecuteTime": {
     "end_time": "2024-06-24T13:13:04.235259Z",
     "start_time": "2024-06-24T13:13:04.229359Z"
    }
   },
   "outputs": [],
   "source": [
    "years=list(range(2015, 2024))"
   ]
  },
  {
   "cell_type": "code",
   "execution_count": 78,
   "id": "7866576e",
   "metadata": {
    "ExecuteTime": {
     "end_time": "2024-06-24T13:13:05.134078Z",
     "start_time": "2024-06-24T13:13:05.128356Z"
    }
   },
   "outputs": [],
   "source": [
    "fields=['Energy', 'Utilities']"
   ]
  },
  {
   "cell_type": "markdown",
   "id": "2c0334a6",
   "metadata": {},
   "source": [
    "## Check"
   ]
  },
  {
   "cell_type": "markdown",
   "id": "0caa74b1",
   "metadata": {},
   "source": [
    "The conversion to a dictionary was performed thinking about the structure of a sample of the summaries by ChatGPT. Nevertheless, there are some weird entries, as the 2017 report of '08_RENEWI_PLC'. Let's collect them:"
   ]
  },
  {
   "cell_type": "code",
   "execution_count": 87,
   "id": "fae85fb8",
   "metadata": {
    "ExecuteTime": {
     "end_time": "2024-06-24T13:27:40.129070Z",
     "start_time": "2024-06-24T13:27:40.092503Z"
    }
   },
   "outputs": [
    {
     "data": {
      "application/vnd.jupyter.widget-view+json": {
       "model_id": "fde2989ad96645768732d3696a921a98",
       "version_major": 2,
       "version_minor": 0
      },
      "text/plain": [
       "  0%|          | 0/9 [00:00<?, ?it/s]"
      ]
     },
     "metadata": {},
     "output_type": "display_data"
    },
    {
     "name": "stdout",
     "output_type": "stream",
     "text": [
      "2017 Utilities 08_RENEWI_PLC SDG 5\n",
      "2017 Utilities 08_RENEWI_PLC SDG 7\n",
      "2017 Utilities 08_RENEWI_PLC SDG 9\n",
      "2017 Utilities 08_RENEWI_PLC SDG 11\n",
      "2017 Utilities 08_RENEWI_PLC SDG 13\n",
      "2017 Utilities 08_RENEWI_PLC SDG 15\n",
      "2017 Utilities 08_RENEWI_PLC SDG 17\n",
      "2023 Utilities 03_SEVERN_TRENT_PLC SDG 3\n",
      "2023 Utilities 03_SEVERN_TRENT_PLC SDG 5\n",
      "2023 Utilities 03_SEVERN_TRENT_PLC SDG 7\n",
      "2023 Utilities 03_SEVERN_TRENT_PLC SDG 9\n",
      "2023 Utilities 03_SEVERN_TRENT_PLC SDG 11\n",
      "2023 Utilities 03_SEVERN_TRENT_PLC SDG 15\n",
      "2023 Utilities 03_SEVERN_TRENT_PLC SDG 17\n"
     ]
    }
   ],
   "source": [
    "sdgs_number=[]\n",
    "sdgs=[]\n",
    "for year in tqdm(years):\n",
    "    #if len(sdgs)<17:\n",
    "    for field in fields:\n",
    "        firms=sdgs_dict[year][field].keys()\n",
    "        for firm in firms:\n",
    "            _sdgs=list(sdgs_dict[year][field][firm].keys())\n",
    "            counter=0\n",
    "            #while len(sdgs)<17 and counter<len(_sdgs):\n",
    "            while counter<len(_sdgs):\n",
    "                sdg=_sdgs[counter]\n",
    "                sdg=sdg.split(':')[0]\n",
    "                if sdg not in sdgs_number:\n",
    "                    sdgs_number.append(sdg)\n",
    "                    sdgs.append(_sdgs[counter])\n",
    "                elif _sdgs[counter] not in sdgs:\n",
    "                    print(year, field, firm, sdg)\n",
    "                counter+=1\n",
    "sdgs.sort()"
   ]
  },
  {
   "cell_type": "code",
   "execution_count": 89,
   "id": "07812609",
   "metadata": {
    "ExecuteTime": {
     "end_time": "2024-06-24T13:49:03.363662Z",
     "start_time": "2024-06-24T13:49:03.356283Z"
    }
   },
   "outputs": [],
   "source": [
    "sdgs.sort(key= lambda x: int(x.split(':')[0].split(' ')[1]))"
   ]
  },
  {
   "cell_type": "code",
   "execution_count": 92,
   "id": "beb9036c",
   "metadata": {
    "ExecuteTime": {
     "end_time": "2024-06-24T13:50:04.683742Z",
     "start_time": "2024-06-24T13:50:04.674186Z"
    }
   },
   "outputs": [
    {
     "data": {
      "text/plain": [
       "['SDG 1: No Poverty',\n",
       " 'SDG 2: Zero Hunger',\n",
       " 'SDG 3: Good Health and Well-being',\n",
       " 'SDG 4: Quality Education',\n",
       " 'SDG 5: Gender Equality',\n",
       " 'SDG 6: Clean Water and Sanitation',\n",
       " 'SDG 7: Affordable and Clean Energy',\n",
       " 'SDG 8: Decent Work and Economic Growth',\n",
       " 'SDG 9: Industry, Innovation, and Infrastructure',\n",
       " 'SDG 10: Reduced Inequality',\n",
       " 'SDG 11: Sustainable Cities and Communities',\n",
       " 'SDG 12: Responsible Consumption and Production',\n",
       " 'SDG 13: Climate Action',\n",
       " 'SDG 14: Life Below Water',\n",
       " 'SDG 15: Life on Land',\n",
       " 'SDG 16: Peace, Justice, and Strong Institutions',\n",
       " 'SDG 17: Partnerships for the Goals']"
      ]
     },
     "execution_count": 92,
     "metadata": {},
     "output_type": "execute_result"
    }
   ],
   "source": [
    "sdgs"
   ]
  },
  {
   "cell_type": "code",
   "execution_count": 91,
   "id": "a7b6ec74",
   "metadata": {
    "ExecuteTime": {
     "end_time": "2024-06-24T13:49:57.782281Z",
     "start_time": "2024-06-24T13:49:57.776274Z"
    }
   },
   "outputs": [],
   "source": [
    "with open('./data/sdgs.pickle', 'wb') as f:\n",
    "    pickle.dump(sdgs, f)"
   ]
  },
  {
   "cell_type": "markdown",
   "id": "33c1b255",
   "metadata": {},
   "source": [
    "## Rethinking the various reading functions"
   ]
  },
  {
   "cell_type": "code",
   "execution_count": 98,
   "id": "08967fa8",
   "metadata": {
    "ExecuteTime": {
     "end_time": "2024-06-24T13:55:12.875820Z",
     "start_time": "2024-06-24T13:55:12.868832Z"
    }
   },
   "outputs": [],
   "source": [
    "bad_ones=[text_dict['Utilities']['2017']['08_RENEWI_PLC'], text_dict['Utilities']['2023']['03_SEVERN_TRENT_PLC']]\n",
    "standard_one=text_dict['Energy']['2020']['01_shell']"
   ]
  },
  {
   "cell_type": "code",
   "execution_count": 102,
   "id": "9d6820d6",
   "metadata": {
    "ExecuteTime": {
     "end_time": "2024-06-24T14:01:20.114934Z",
     "start_time": "2024-06-24T14:01:20.105872Z"
    }
   },
   "outputs": [
    {
     "data": {
      "text/plain": [
       "\"\\nSummary of LSE_RWI_2017.pdf in Relation to United Nations' Sustainable Development Goals (SDGs)\\nSDG 1: No Poverty The document emphasizes efforts to ensure affordability of water services for customers, particularly those in vulnerable situations. Initiatives like the WaterCare+ program provide financial support and benefit entitlement checks to help customers manage their bills and avoid water poverty.\\nSDG 2: Zero Hunger Not explicitly mentioned.\\nSDG 3: Good Health and Well-being The report highlights the importance of clean and safe water supply as essential for public health. Various programs ensure water quality and safety, including maintaining high standards for drinking water and managing wastewater effectively to prevent public health risks.\\nSDG 4: Quality Education Not explicitly mentioned.\\nSDG 5: Gender Equality The document mentions efforts to promote diversity and inclusion within the company, including initiatives to improve gender equality among employees.\\nSDG 6: Clean Water and Sanitation A significant focus is placed on ensuring a reliable supply of clean water and efficient wastewater management. Investments in infrastructure and technology aim to maintain high standards of water quality and sanitation.\\nSDG 7: Affordable and Clean Energy Not explicitly mentioned.\\nSDG 8: Decent Work and Economic Growth The company emphasizes the creation of jobs and economic opportunities, particularly through investments in infrastructure projects and community engagement. Initiatives like the WaterShare+ scheme aim to provide economic benefits to customers and communities.\\nSDG 9: Industry, Innovation, and Infrastructure Investments in advanced water treatment facilities and innovative solutions for water management are highlighted. The company focuses on upgrading infrastructure to enhance efficiency and service quality.\\nSDG 10: Reduced Inequality Efforts to address affordability and provide targeted support to vulnerable customers help reduce economic inequality. Programs like the FreshStart fund provide financial assistance to those facing hardship, ensuring equitable access to water services.\\nSDG 11: Sustainable Cities and Communities The document outlines initiatives to improve urban water management and infrastructure resilience, contributing to the sustainability and livability of communities. Programs to enhance water efficiency and reduce leakage also support this goal.\\nSDG 12: Responsible Consumption and Production The company promotes water conservation through various community programs and educational initiatives, encouraging responsible water usage among customers.\\nSDG 13: Climate Action Commitments to reducing carbon emissions and enhancing climate resilience are emphasized. The company has set targets for becoming Net Zero by 2030 and is investing in renewable energy and sustainable practices to mitigate climate impacts.\\nSDG 14: Life Below Water The document includes initiatives to improve coastal water quality and protect marine environments. The company’s efforts in wastewater management and reducing pollution contribute to healthier marine ecosystems.\\nSDG 15: Life on Land Programs to protect and restore natural habitats, such as catchment management and biodiversity initiatives, are highlighted. These efforts aim to enhance terrestrial ecosystems and promote biodiversity.\\nSDG 16: Peace, Justice, and Strong Institutions The company emphasizes transparent governance and ethical business practices. Efforts to engage with customers and stakeholders, and the establishment of advisory panels, contribute to building trust and strong institutional frameworks.\\nSDG 17: Partnerships for the Goals Collaborations with various stakeholders, including government agencies, community organizations, and other partners, are crucial for achieving the company’s sustainability objectives. These partnerships support the implementation of comprehensive and effective sustainability strategies.\\n\""
      ]
     },
     "execution_count": 102,
     "metadata": {},
     "output_type": "execute_result"
    }
   ],
   "source": [
    "bad_ones[0]"
   ]
  },
  {
   "cell_type": "code",
   "execution_count": 103,
   "id": "8f6040e2",
   "metadata": {
    "ExecuteTime": {
     "end_time": "2024-06-24T14:01:41.318608Z",
     "start_time": "2024-06-24T14:01:41.308505Z"
    }
   },
   "outputs": [
    {
     "data": {
      "text/plain": [
       "{'SDG 5: Gender Equality The document mentions efforts to promote diversity and inclusion within the company, including initiatives to improve gender equality among employees.': 'SDG 6: Clean Water and Sanitation A significant focus is placed on ensuring a reliable supply of clean water and efficient wastewater management. Investments in infrastructure and technology aim to maintain high standards of water quality and sanitation.',\n",
       " 'SDG 7: Affordable and Clean Energy Not explicitly mentioned.': 'SDG 8: Decent Work and Economic Growth The company emphasizes the creation of jobs and economic opportunities, particularly through investments in infrastructure projects and community engagement. Initiatives like the WaterShare+ scheme aim to provide economic benefits to customers and communities.',\n",
       " 'SDG 9: Industry, Innovation, and Infrastructure Investments in advanced water treatment facilities and innovative solutions for water management are highlighted. The company focuses on upgrading infrastructure to enhance efficiency and service quality.': 'SDG 10: Reduced Inequality Efforts to address affordability and provide targeted support to vulnerable customers help reduce economic inequality. Programs like the FreshStart fund provide financial assistance to those facing hardship, ensuring equitable access to water services.',\n",
       " 'SDG 11: Sustainable Cities and Communities The document outlines initiatives to improve urban water management and infrastructure resilience, contributing to the sustainability and livability of communities. Programs to enhance water efficiency and reduce leakage also support this goal.': 'SDG 12: Responsible Consumption and Production The company promotes water conservation through various community programs and educational initiatives, encouraging responsible water usage among customers.',\n",
       " 'SDG 13: Climate Action Commitments to reducing carbon emissions and enhancing climate resilience are emphasized. The company has set targets for becoming Net Zero by 2030 and is investing in renewable energy and sustainable practices to mitigate climate impacts.': 'SDG 14: Life Below Water The document includes initiatives to improve coastal water quality and protect marine environments. The company’s efforts in wastewater management and reducing pollution contribute to healthier marine ecosystems.',\n",
       " 'SDG 15: Life on Land Programs to protect and restore natural habitats, such as catchment management and biodiversity initiatives, are highlighted. These efforts aim to enhance terrestrial ecosystems and promote biodiversity.': 'SDG 16: Peace, Justice, and Strong Institutions The company emphasizes transparent governance and ethical business practices. Efforts to engage with customers and stakeholders, and the establishment of advisory panels, contribute to building trust and strong institutional frameworks.',\n",
       " 'SDG 17: Partnerships for the Goals Collaborations with various stakeholders, including government agencies, community organizations, and other partners, are crucial for achieving the company’s sustainability objectives. These partnerships support the implementation of comprehensive and effective sustainability strategies.': ''}"
      ]
     },
     "execution_count": 103,
     "metadata": {},
     "output_type": "execute_result"
    }
   ],
   "source": [
    "text2dict(bad_ones[0])"
   ]
  },
  {
   "cell_type": "code",
   "execution_count": 105,
   "id": "7aa3eae3",
   "metadata": {
    "ExecuteTime": {
     "end_time": "2024-06-24T14:08:21.481588Z",
     "start_time": "2024-06-24T14:08:21.476064Z"
    }
   },
   "outputs": [],
   "source": [
    "text=standard_one"
   ]
  },
  {
   "cell_type": "code",
   "execution_count": 196,
   "id": "9fc59a14",
   "metadata": {
    "ExecuteTime": {
     "end_time": "2024-06-24T14:44:08.530849Z",
     "start_time": "2024-06-24T14:44:08.514459Z"
    }
   },
   "outputs": [],
   "source": [
    "def new_text2dict(text):\n",
    "    # the information contained here is the same of the entire text, but organised per SDG...\n",
    "    sdgs_dict={}\n",
    "    counter=0\n",
    "    aux=text.split('\\n')\n",
    "    while counter<len(aux):\n",
    "        _a=aux[counter]\n",
    "        try:\n",
    "            if len(_a)>0:\n",
    "                if 'SDG' in _a:\n",
    "                    sdg=[sdg for sdg in sdgs if sdg in _a]\n",
    "                    if len(sdg)==1:\n",
    "                        sdg=sdg[0]\n",
    "                        # well-behaving text\n",
    "                        if _a==sdg and 'Not explicitly mentioned' not in aux[counter+1]:\n",
    "                            sdgs_dict[_a]=aux[counter+1]\n",
    "                            counter+=2\n",
    "                        elif _a==sdg and 'Not explicitly mentioned' in aux[counter+1]:\n",
    "                            counter+=2\n",
    "                        else:\n",
    "                            # not well-behaving text\n",
    "                            _text=_a.split(sdg)[1]\n",
    "                            if 'Not explicitly mentioned' not in _text:\n",
    "                                sdgs_dict[sdg]=_text.strip().replace('\\u200b', '')\n",
    "                            counter+=1\n",
    "                    else:\n",
    "                        #print(_a)\n",
    "                        #raise Error\n",
    "                        counter+=1\n",
    "                else:\n",
    "                    counter+=1\n",
    "            else:\n",
    "                counter+=1\n",
    "        except:\n",
    "            print(_a)\n",
    "            raise Exception('Mannaggia cavolini!')\n",
    "    return sdgs_dict"
   ]
  },
  {
   "cell_type": "code",
   "execution_count": 197,
   "id": "043fd0bb",
   "metadata": {
    "ExecuteTime": {
     "end_time": "2024-06-24T14:44:10.197588Z",
     "start_time": "2024-06-24T14:44:10.155007Z"
    }
   },
   "outputs": [
    {
     "data": {
      "application/vnd.jupyter.widget-view+json": {
       "model_id": "de8b35cc814e46f482384cc30e82a2aa",
       "version_major": 2,
       "version_minor": 0
      },
      "text/plain": [
       "  0%|          | 0/2 [00:00<?, ?it/s]"
      ]
     },
     "metadata": {},
     "output_type": "display_data"
    }
   ],
   "source": [
    "for key in tqdm(text_dict.keys()):\n",
    "    for s_key in text_dict[key].keys():\n",
    "        for s_s_key in text_dict[key][s_key].keys():\n",
    "            if (key, s_key, s_s_key) not in [('Utilities','2017','08_RENEWI_PLC'), ('Utilities','2023','03_SEVERN_TRENT_PLC')]:\n",
    "                text=text_dict[key][s_key][s_s_key]\n",
    "                old_dict=text2dict(text)\n",
    "                new_dict=new_text2dict(text)\n",
    "                if old_dict!=new_dict:\n",
    "                    # on correctly formatted tests the routine works correctly\n",
    "                    print(key, s_key, s_s_key)\n",
    "                    #for final_key in old_dict.keys():\n",
    "                    #    print(final_key)\n",
    "                    #    print(old_dict[final_key])\n",
    "                    #    print(new_dict[final_key])\n",
    "                    "
   ]
  },
  {
   "cell_type": "code",
   "execution_count": 198,
   "id": "97cea1ce",
   "metadata": {
    "ExecuteTime": {
     "end_time": "2024-06-24T14:44:13.065882Z",
     "start_time": "2024-06-24T14:44:13.055910Z"
    }
   },
   "outputs": [
    {
     "data": {
      "text/plain": [
       "\"\\nSummary of SSE Sustainability Report 2023 in the Context of United Nations' Sustainable Development Goals (SDGs)\\nSDG 1: No Poverty Not explicitly mentioned.\\nSDG 2: Zero Hunger Not explicitly mentioned.\\nSDG 3: Good Health and Well-being SSE focuses on the health and safety of its employees and communities. The report mentions initiatives aimed at ensuring employee well-being, mental health support, and maintaining a safe working environment. SSE also supports good health through water and sanitation projects in collaboration with WaterAid\\u200b\\u200b\\u200b\\u200b.\\nSDG 4: Quality Education SSE invests in educational programs, including apprenticeship schemes and graduate programs. The company emphasizes lifelong learning and development opportunities for its employees and community members\\u200b\\u200b.\\nSDG 5: Gender Equality SSE is committed to promoting gender equality within its workforce. The company aims for gender parity in leadership positions and ensures fair pay practices. SSE's initiatives include supporting women in leadership and addressing gender pay gaps\\u200b\\u200b.\\nSDG 6: Clean Water and Sanitation SSE is dedicated to ensuring the sustainable management of water resources. The company supports initiatives to provide clean water and sanitation through its operations and partnerships, including contributions to global water projects\\u200b\\u200b.\\nSDG 7: Affordable and Clean Energy SSE's core business aligns closely with this goal. The company is a leader in renewable energy production, aiming to significantly increase its renewable energy output by 2030. SSE also focuses on energy efficiency and supports the transition to a low-carbon energy system\\u200b\\u200b\\u200b\\u200b.\\nSDG 8: Decent Work and Economic Growth SSE promotes inclusive and sustainable economic growth through job creation and fair work practices. The company supports economic development in local communities and ensures safe working conditions. SSE also contributes to the public purse through its tax practices\\u200b\\u200b.\\nSDG 9: Industry, Innovation, and Infrastructure Innovation is central to SSE's strategy. The company invests in infrastructure projects that support sustainable development, such as renewable energy facilities and smart grid technologies. SSE also runs large-scale technology trials to advance industry practices\\u200b\\u200b\\u200b\\u200b.\\nSDG 10: Reduced Inequality SSE aims to reduce inequalities through its inclusive employment practices and support for diverse communities. The company promotes social mobility and recruits from underrepresented areas\\u200b\\u200b.\\nSDG 11: Sustainable Cities and Communities SSE contributes to sustainable urban development by investing in infrastructure that supports clean energy and efficient water management. The company collaborates on projects aimed at enhancing the sustainability of cities and communities\\u200b\\u200b.\\nSDG 12: Responsible Consumption and Production SSE focuses on resource efficiency and waste reduction in its operations. The company aims for zero waste to landfill and promotes sustainable practices within its supply chain\\u200b\\u200b\\u200b\\u200b.\\nSDG 13: Climate Action Climate action is a primary focus for SSE. The company has set ambitious targets to reduce carbon emissions and increase renewable energy production. SSE's initiatives include adopting science-based targets for carbon reduction and investing in technologies to combat climate change\\u200b\\u200b\\u200b\\u200b.\\nSDG 14: Life Below Water Not explicitly mentioned.\\nSDG 15: Life on Land SSE works to enhance biodiversity and protect natural habitats. The company undertakes projects to improve the biodiversity of its landholdings and supports initiatives to restore ecosystems\\u200b\\u200b.\\nSDG 16: Peace, Justice, and Strong Institutions SSE adheres to strong governance practices, emphasizing ethical conduct, transparency, and accountability. The company integrates human rights principles into its operations and promotes fair business practices\\u200b\\u200b\\u200b\\u200b.\\nSDG 17: Partnerships for the Goals SSE collaborates with various stakeholders, including governments, NGOs, and other businesses, to advance its sustainability goals. The company engages in partnerships that support the broader UN SDG agenda\\u200b\\u200b\\u200b\\u200b.\\n\""
      ]
     },
     "execution_count": 198,
     "metadata": {},
     "output_type": "execute_result"
    }
   ],
   "source": [
    "bad_ones[1]"
   ]
  },
  {
   "cell_type": "code",
   "execution_count": 200,
   "id": "2cb9cb30",
   "metadata": {
    "ExecuteTime": {
     "end_time": "2024-06-24T14:44:19.548881Z",
     "start_time": "2024-06-24T14:44:19.538216Z"
    }
   },
   "outputs": [
    {
     "data": {
      "text/plain": [
       "{'SDG 1: No Poverty': 'The document emphasizes efforts to ensure affordability of water services for customers, particularly those in vulnerable situations. Initiatives like the WaterCare+ program provide financial support and benefit entitlement checks to help customers manage their bills and avoid water poverty.',\n",
       " 'SDG 3: Good Health and Well-being': 'The report highlights the importance of clean and safe water supply as essential for public health. Various programs ensure water quality and safety, including maintaining high standards for drinking water and managing wastewater effectively to prevent public health risks.',\n",
       " 'SDG 5: Gender Equality': 'The document mentions efforts to promote diversity and inclusion within the company, including initiatives to improve gender equality among employees.',\n",
       " 'SDG 6: Clean Water and Sanitation': 'A significant focus is placed on ensuring a reliable supply of clean water and efficient wastewater management. Investments in infrastructure and technology aim to maintain high standards of water quality and sanitation.',\n",
       " 'SDG 8: Decent Work and Economic Growth': 'The company emphasizes the creation of jobs and economic opportunities, particularly through investments in infrastructure projects and community engagement. Initiatives like the WaterShare+ scheme aim to provide economic benefits to customers and communities.',\n",
       " 'SDG 9: Industry, Innovation, and Infrastructure': 'Investments in advanced water treatment facilities and innovative solutions for water management are highlighted. The company focuses on upgrading infrastructure to enhance efficiency and service quality.',\n",
       " 'SDG 10: Reduced Inequality': 'Efforts to address affordability and provide targeted support to vulnerable customers help reduce economic inequality. Programs like the FreshStart fund provide financial assistance to those facing hardship, ensuring equitable access to water services.',\n",
       " 'SDG 11: Sustainable Cities and Communities': 'The document outlines initiatives to improve urban water management and infrastructure resilience, contributing to the sustainability and livability of communities. Programs to enhance water efficiency and reduce leakage also support this goal.',\n",
       " 'SDG 12: Responsible Consumption and Production': 'The company promotes water conservation through various community programs and educational initiatives, encouraging responsible water usage among customers.',\n",
       " 'SDG 13: Climate Action': 'Commitments to reducing carbon emissions and enhancing climate resilience are emphasized. The company has set targets for becoming Net Zero by 2030 and is investing in renewable energy and sustainable practices to mitigate climate impacts.',\n",
       " 'SDG 14: Life Below Water': 'The document includes initiatives to improve coastal water quality and protect marine environments. The company’s efforts in wastewater management and reducing pollution contribute to healthier marine ecosystems.',\n",
       " 'SDG 15: Life on Land': 'Programs to protect and restore natural habitats, such as catchment management and biodiversity initiatives, are highlighted. These efforts aim to enhance terrestrial ecosystems and promote biodiversity.',\n",
       " 'SDG 16: Peace, Justice, and Strong Institutions': 'The company emphasizes transparent governance and ethical business practices. Efforts to engage with customers and stakeholders, and the establishment of advisory panels, contribute to building trust and strong institutional frameworks.',\n",
       " 'SDG 17: Partnerships for the Goals': 'Collaborations with various stakeholders, including government agencies, community organizations, and other partners, are crucial for achieving the company’s sustainability objectives. These partnerships support the implementation of comprehensive and effective sustainability strategies.'}"
      ]
     },
     "execution_count": 200,
     "metadata": {},
     "output_type": "execute_result"
    }
   ],
   "source": [
    "new_text2dict(bad_ones[0])"
   ]
  },
  {
   "cell_type": "code",
   "execution_count": 201,
   "id": "b3f4d923",
   "metadata": {
    "ExecuteTime": {
     "end_time": "2024-06-24T14:44:33.782963Z",
     "start_time": "2024-06-24T14:44:33.776840Z"
    }
   },
   "outputs": [],
   "source": [
    "sdg_dict=new_text2dict(bad_ones[0])"
   ]
  },
  {
   "cell_type": "code",
   "execution_count": 207,
   "id": "f553af8c",
   "metadata": {
    "ExecuteTime": {
     "end_time": "2024-06-24T14:47:42.130340Z",
     "start_time": "2024-06-24T14:47:42.121321Z"
    }
   },
   "outputs": [],
   "source": [
    "def text2vec(sdgs_dict):\n",
    "    # Here I brutally binarized by presence/absence of mention in the report of the given SDG\n",
    "    # there are 17 sdgs, starting from the entries from text2dict\n",
    "    sdgs_vec=np.zeros(17, dtype=int)\n",
    "    for key in sdg_dict.keys():\n",
    "        which=int(key.split(':')[0].split(' ')[1])-1\n",
    "        sdgs_vec[which]=1\n",
    "    return sdgs_vec"
   ]
  },
  {
   "cell_type": "code",
   "execution_count": 208,
   "id": "1cd1b0b9",
   "metadata": {
    "ExecuteTime": {
     "end_time": "2024-06-24T14:47:48.488714Z",
     "start_time": "2024-06-24T14:47:48.479108Z"
    }
   },
   "outputs": [
    {
     "data": {
      "text/plain": [
       "array([1, 0, 1, 0, 1, 1, 0, 1, 1, 1, 1, 1, 1, 1, 1, 1, 1])"
      ]
     },
     "execution_count": 208,
     "metadata": {},
     "output_type": "execute_result"
    }
   ],
   "source": [
    "text2vec(sdgs_dict)"
   ]
  },
  {
   "cell_type": "code",
   "execution_count": 209,
   "id": "d1171e69",
   "metadata": {
    "ExecuteTime": {
     "end_time": "2024-06-24T14:47:58.557960Z",
     "start_time": "2024-06-24T14:47:58.549136Z"
    }
   },
   "outputs": [
    {
     "data": {
      "text/plain": [
       "dict_keys(['SDG 1: No Poverty', 'SDG 3: Good Health and Well-being', 'SDG 5: Gender Equality', 'SDG 6: Clean Water and Sanitation', 'SDG 8: Decent Work and Economic Growth', 'SDG 9: Industry, Innovation, and Infrastructure', 'SDG 10: Reduced Inequality', 'SDG 11: Sustainable Cities and Communities', 'SDG 12: Responsible Consumption and Production', 'SDG 13: Climate Action', 'SDG 14: Life Below Water', 'SDG 15: Life on Land', 'SDG 16: Peace, Justice, and Strong Institutions', 'SDG 17: Partnerships for the Goals'])"
      ]
     },
     "execution_count": 209,
     "metadata": {},
     "output_type": "execute_result"
    }
   ],
   "source": [
    "sdg_dict.keys()"
   ]
  },
  {
   "cell_type": "code",
   "execution_count": 206,
   "id": "1148baa4",
   "metadata": {
    "ExecuteTime": {
     "end_time": "2024-06-24T14:45:43.552550Z",
     "start_time": "2024-06-24T14:45:43.544261Z"
    }
   },
   "outputs": [
    {
     "name": "stdout",
     "output_type": "stream",
     "text": [
      "0\n",
      "2\n",
      "4\n",
      "5\n",
      "7\n",
      "8\n",
      "9\n",
      "10\n",
      "11\n",
      "12\n",
      "13\n",
      "14\n",
      "15\n",
      "16\n"
     ]
    }
   ],
   "source": [
    "for key in sdg_dict.keys():\n",
    "    which=int(key.split(':')[0].split(' ')[1])-1\n",
    "    print(which)"
   ]
  },
  {
   "cell_type": "code",
   "execution_count": null,
   "id": "3cf08deb",
   "metadata": {},
   "outputs": [],
   "source": []
  },
  {
   "cell_type": "code",
   "execution_count": null,
   "id": "c9dd16c6",
   "metadata": {},
   "outputs": [],
   "source": []
  },
  {
   "cell_type": "markdown",
   "id": "d4ac8eed",
   "metadata": {},
   "source": [
    "## Debug"
   ]
  },
  {
   "cell_type": "code",
   "execution_count": 212,
   "id": "e49d78b3",
   "metadata": {
    "ExecuteTime": {
     "end_time": "2024-06-24T19:22:55.898366Z",
     "start_time": "2024-06-24T19:22:55.890471Z"
    }
   },
   "outputs": [],
   "source": [
    "    with open ('./data/sdgs_dict.pickle', 'rb') as f:\n",
    "        sdgs_dict=pickle.load(f)\n",
    "    "
   ]
  },
  {
   "cell_type": "code",
   "execution_count": 213,
   "id": "dc0bcafb",
   "metadata": {
    "ExecuteTime": {
     "end_time": "2024-06-24T19:23:02.025974Z",
     "start_time": "2024-06-24T19:23:01.940407Z"
    }
   },
   "outputs": [
    {
     "data": {
      "text/plain": [
       "{2015: {'Energy': {'01_shell': {'SDG 3: Good Health and Well-being': 'Shell’s 2015 report emphasizes its commitment to safety and health. It mentions improvements in safety performance, although it also notes incidents, including fatalities, that deeply affected the company. Shell continues to focus on improving safety standards and reducing health risks for its employees and communities.',\n",
       "    'SDG 4: Quality Education': \"The report highlights Shell's efforts in community engagement, particularly in Nigeria, where the company invests in educational initiatives. This includes funding for schools and scholarships to improve access to quality education in local communities.\",\n",
       "    'SDG 5: Gender Equality': 'Shell’s report discusses efforts to promote diversity and inclusion within the company. It focuses on increasing female representation in the workforce and leadership positions, and it outlines policies to support gender equality and empower women.',\n",
       "    'SDG 6: Clean Water and Sanitation': \"The document mentions Shell's environmental management practices, which include measures to protect water resources. This involves reducing water usage and preventing contamination through improved operational practices and spill prevention.\",\n",
       "    'SDG 7: Affordable and Clean Energy': 'Shell is actively involved in the energy transition towards a lower-carbon future. The report details investments in renewable energy sources, such as wind and solar power, and cleaner energy solutions like natural gas and biofuels. Shell is also developing technologies for carbon capture and storage to reduce greenhouse gas emissions.',\n",
       "    'SDG 8: Decent Work and Economic Growth': \"The report emphasizes Shell's commitment to providing decent work conditions, ensuring safety, and fostering economic growth in the communities where it operates. Shell supports local economies through job creation, local procurement, and investments in community development projects.\",\n",
       "    'SDG 9: Industry, Innovation, and Infrastructure': 'Shell invests heavily in research and development to innovate in the energy sector. The report discusses various projects aimed at improving infrastructure and deploying new technologies to make energy production and consumption more efficient and sustainable.',\n",
       "    'SDG 11: Sustainable Cities and Communities': 'Shell contributes to sustainable urban development by investing in cleaner energy solutions and supporting infrastructure projects that enhance the quality of life in urban areas. The report highlights projects that improve energy efficiency and reduce the environmental footprint of cities.',\n",
       "    'SDG 12: Responsible Consumption and Production': 'The report outlines Shell’s efforts to minimize environmental impact through responsible resource management. This includes reducing flaring, managing waste, and implementing practices that promote sustainable production and consumption patterns.',\n",
       "    'SDG 13: Climate Action': \"Climate action is a major focus of the report. Shell supports the goals of the Paris Agreement and is working to reduce its carbon footprint. The report details Shell's initiatives in carbon capture and storage, renewable energy, and promoting natural gas as a cleaner alternative to coal.\",\n",
       "    'SDG 15: Life on Land': 'Shell’s environmental management includes efforts to protect biodiversity and land resources. The report mentions initiatives to restore habitats and reduce the impact of operations on land ecosystems.',\n",
       "    'SDG 16: Peace, Justice, and Strong Institutions': \"The report emphasizes Shell's commitment to ethical business practices, transparency, and governance. Shell supports strong institutions by adhering to high standards of corporate governance and engaging in transparent reporting practices.\",\n",
       "    'SDG 17: Partnerships for the Goals': 'Shell collaborates with various stakeholders, including governments, NGOs, and other companies, to achieve sustainability goals. The report highlights partnerships aimed at advancing the energy transition and addressing global challenges like climate change.'},\n",
       "   '02_BP': {'SDG 3: Good Health and Well-being': \"BP prioritizes safety and health, with measures to reduce accidents, oil spills, and recordable injuries. In 2015, BP reported improvements in these areas compared to previous years. BP's safety framework includes rigorous risk management to protect employees and contractors.\",\n",
       "    'SDG 4: Quality Education': 'BP invested in community programs, including efforts to encourage young people to pursue careers in science, technology, engineering, and mathematics (STEM).',\n",
       "    'SDG 5: Gender Equality': 'BP tracks and reports on diversity metrics within its workforce, including the percentage of women in leadership positions, which increased to 19% in 2015.',\n",
       "    'SDG 6: Clean Water and Sanitation': 'BP discusses its approach to managing water resources and minimizing the environmental impact of its operations, including efforts to reduce water usage and prevent contamination.',\n",
       "    'SDG 7: Affordable and Clean Energy': \"BP is committed to transitioning to a lower-carbon future, with investments in natural gas, renewables like wind and biofuels, and advanced technologies. The report highlights BP's efforts in energy efficiency and reducing greenhouse gas emissions through various initiatives.\",\n",
       "    'SDG 8: Decent Work and Economic Growth': \"BP's operations generate significant employment and economic activity globally. The company emphasizes responsible operating practices, including human rights and fair treatment of employees and contractors.\",\n",
       "    'SDG 9: Industry, Innovation, and Infrastructure': 'BP invests in technological innovations to improve operational efficiency and environmental performance. The report mentions the implementation of advanced technologies in gas and renewable energy projects.',\n",
       "    'SDG 10: Reduced Inequality': 'BP addresses issues of economic impact and supports local communities, particularly in regions heavily reliant on oil and gas revenues.',\n",
       "    'SDG 12: Responsible Consumption and Production': 'BP focuses on improving energy efficiency and reducing waste in its operations. The report includes data on environmental performance metrics, such as greenhouse gas emissions and oil spill volumes.',\n",
       "    'SDG 13: Climate Action': 'BP supports carbon pricing and policies to incentivize lower-carbon energy solutions. The company participates in initiatives like the Oil and Gas Climate Initiative and the Climate and Clean Air Coalition.',\n",
       "    'SDG 14: Life Below Water': 'BP outlines its strategies for oil spill response and efforts to protect marine environments. The report includes measures taken to mitigate the impact of offshore drilling activities.',\n",
       "    'SDG 15: Life on Land': 'BP discusses its biodiversity and land use policies, highlighting efforts to minimize ecological impacts and support conservation projects in areas of operation.',\n",
       "    'SDG 16: Peace, Justice, and Strong Institutions': 'BP commits to ethical business practices, anti-corruption measures, and transparency. The report includes information on compliance with international human rights standards and engagement with stakeholders.',\n",
       "    'SDG 17: Partnerships for the Goals': 'BP collaborates with governments, industry peers, and non-governmental organizations to address global challenges, including climate change and sustainable development.'}},\n",
       "  'Utilities': {'02_SSE_PLC': {'SDG 1: No Poverty': 'Living Wage Commitment: SSE implemented the Living Wage in their supply chain, ensuring all new service and works contracts include an obligation to pay a Living Wage. This initiative aims to reduce in-work poverty and improve employee retention, morale, and productivity.',\n",
       "    'SDG 3: Good Health and Well-being': \"Health and Safety: SSE prioritizes safety, with initiatives like the Safety Family program. They focus on behavioral change to improve safety practices and support employees' mental and physical health.\",\n",
       "    'SDG 4: Quality Education': 'Skills Development: SSE invests in apprenticeships and trainee programs, spending over £64 million since 2007. They provide structured development opportunities to ensure participants gain skills for sustainable careers.',\n",
       "    'SDG 5: Gender Equality': 'Diversity and Inclusion: SSE aims to improve gender diversity within the company, with a target to increase the proportion of women in higher-paying roles to 25% by 2025. They also provide diversity and equality training for employees.',\n",
       "    'SDG 6: Clean Water and Sanitation': 'Water Management: SSE manages water use responsibly, particularly in cooling thermal generation plants and operating hydro generation schemes. They ensure water is returned to its source in the same or better condition.',\n",
       "    'SDG 7: Affordable and Clean Energy': 'Renewable Energy Investment: SSE is the largest generator of renewable electricity in the UK and Ireland, investing over £2.6 billion in renewable energy over five years. They are committed to reducing the carbon intensity of electricity generation by 50% by 2020.',\n",
       "    'SDG 8: Decent Work and Economic Growth': 'Economic Contribution: SSE contributed £8.8 billion to the UK economy in 2014/15 and supported 110,000 jobs annually over three years. They also maintain a focus on sustainable employment and fair pay.',\n",
       "    'SDG 9: Industry, Innovation, and Infrastructure': 'Infrastructure Investment: SSE invests around £4 million per day in new energy infrastructure, supporting the development of resilient and modern energy systems.',\n",
       "    'SDG 10: Reduced Inequality': 'Fair Pay and Inclusion: SSE is committed to the Living Wage and ensuring fair treatment of employees and customers. They support vulnerable customers through various programs and maintain transparency in their operations.',\n",
       "    'SDG 11: Sustainable Cities and Communities': 'Community Engagement: SSE actively contributes to local communities through community benefit schemes, providing almost £4 million in 2014/15. They also engage in partnerships to support local needs, such as providing firewood to remote communities.',\n",
       "    'SDG 12: Responsible Consumption and Production': 'Sustainable Practices: SSE focuses on reducing carbon emissions, managing waste, and promoting biodiversity. They invest in energy efficiency technologies and engage in responsible procurement practices.',\n",
       "    'SDG 13: Climate Action': 'Carbon Emissions Reduction: SSE committed to reducing its carbon emissions by 50% by 2020, achieving a 34% reduction in total carbon emissions in 2014/15. They also support broader climate change initiatives and policies.',\n",
       "    'SDG 15: Life on Land': 'Biodiversity: SSE actively promotes biodiversity through habitat management plans and partnerships with environmental organizations. They have developed Species Protection Plans for construction projects.',\n",
       "    'SDG 16: Peace, Justice, and Strong Institutions': 'Ethical Conduct: SSE maintains high ethical standards and transparency in reporting. They have clear policies on equality, bribery, anti-competitive behavior, and human rights, ensuring compliance with legal and ethical guidelines.',\n",
       "    'SDG 17: Partnerships for the Goals': 'Stakeholder Engagement: SSE collaborates with various stakeholders to advance sustainability goals. They engage in partnerships to support biodiversity, community development, and sustainable energy practices.'}}},\n",
       " 2016: {'Energy': {'01_shell': {'SDG 3: Good Health and Well-being': 'Shell’s 2016 report continues to emphasize its commitment to safety and health. The report highlights improvements in safety performance, although it also notes incidents and fatalities. Shell focuses on enhancing safety standards and reducing health risks for its employees and communities.',\n",
       "    'SDG 4: Quality Education': \"The report highlights Shell's initiatives in community engagement, particularly in educational programs. Shell invests in local education, providing funding for schools and scholarships to improve access to quality education in the communities where it operates.\",\n",
       "    'SDG 5: Gender Equality': 'Shell discusses efforts to promote diversity and inclusion within the company. The report focuses on increasing female representation in the workforce and leadership positions and outlines policies to support gender equality and empower women.',\n",
       "    'SDG 6: Clean Water and Sanitation': \"The report mentions Shell's commitment to managing water resources responsibly. This includes efforts to reduce water usage and prevent contamination through improved operational practices and spill prevention measures.\",\n",
       "    'SDG 7: Affordable and Clean Energy': 'Shell is involved in the energy transition towards a lower-carbon future. The report details investments in renewable energy sources, such as wind and solar power, and cleaner energy solutions like natural gas and biofuels. Shell also develops technologies for carbon capture and storage to reduce greenhouse gas emissions.',\n",
       "    'SDG 8: Decent Work and Economic Growth': 'Shell emphasizes its commitment to providing decent work conditions, ensuring safety, and fostering economic growth in the communities where it operates. The company supports local economies through job creation, local procurement, and investments in community development projects.',\n",
       "    'SDG 9: Industry, Innovation, and Infrastructure': 'Shell invests heavily in research and development to innovate in the energy sector. The report discusses various projects aimed at improving infrastructure and deploying new technologies to make energy production and consumption more efficient and sustainable.',\n",
       "    'SDG 11: Sustainable Cities and Communities': 'Shell contributes to sustainable urban development by investing in cleaner energy solutions and supporting infrastructure projects that enhance the quality of life in urban areas. The report highlights projects that improve energy efficiency and reduce the environmental footprint of cities.',\n",
       "    'SDG 12: Responsible Consumption and Production': 'The report outlines Shell’s efforts to minimize environmental impact through responsible resource management. This includes reducing flaring, managing waste, and implementing practices that promote sustainable production and consumption patterns.',\n",
       "    'SDG 13: Climate Action': \"Climate action is a major focus of the report. Shell supports the goals of the Paris Agreement and works to reduce its carbon footprint. The report details Shell's initiatives in carbon capture and storage, renewable energy, and promoting natural gas as a cleaner alternative to coal.\",\n",
       "    'SDG 15: Life on Land': 'Shell’s environmental management includes efforts to protect biodiversity and land resources. The report mentions initiatives to restore habitats and reduce the impact of operations on land ecosystems.',\n",
       "    'SDG 16: Peace, Justice, and Strong Institutions': \"The report emphasizes Shell's commitment to ethical business practices, transparency, and governance. Shell supports strong institutions by adhering to high standards of corporate governance and engaging in transparent reporting practices.\",\n",
       "    'SDG 17: Partnerships for the Goals': 'Shell collaborates with various stakeholders, including governments, NGOs, and other companies, to achieve sustainability goals. The report highlights partnerships aimed at advancing the energy transition and addressing global challenges like climate change.'},\n",
       "   '02_BP': {'SDG 1: No Poverty': 'Mentioned: BP emphasizes its role in powering economic growth and lifting people out of poverty through energy provision. The company highlights its contributions to local economies through job creation, investment in local suppliers, and tax payments.',\n",
       "    'SDG 3: Good Health and Well-being': 'BP prioritizes safety and health, reporting improvements in safety metrics and outlining measures to reduce accidents and injuries. In 2016, BP reported fewer incidents and injuries across its operations. BP also supports health initiatives in communities where it operates, such as supporting hospitals and healthcare services.',\n",
       "    'SDG 4: Quality Education': 'BP invests in education programs, such as the Enterprising Science program in the UK, which supports teachers and encourages young people to pursue STEM careers. The company also funds educational initiatives in other regions, aiming to enhance local education systems and opportunities.',\n",
       "    'SDG 5: Gender Equality': 'BP tracks and reports on diversity within its workforce, noting an increase in the percentage of women in leadership positions to 22% in 2016. The company is committed to promoting gender equality and has policies in place to support this goal.',\n",
       "    'SDG 6: Clean Water and Sanitation': 'BP discusses its efforts to manage water resources and reduce the environmental impact of its operations. This includes initiatives to reduce water usage and prevent contamination. The report includes information on water consumption and efforts to improve water efficiency in operations, particularly in water-stressed areas.',\n",
       "    'SDG 7: Affordable and Clean Energy': 'BP is actively involved in the energy transition, investing in natural gas, renewables, and energy efficiency technologies. The company has significant operations in biofuels and wind energy, and it is developing new low-carbon business models to meet changing energy demands.',\n",
       "    'SDG 8: Decent Work and Economic Growth': \"BP generates significant employment and economic activity globally. The report emphasizes the company's responsible operating practices, including human rights and fair treatment of employees and contractors. BP also highlights its contributions to local economies through job creation, local procurement, and tax payments.\",\n",
       "    'SDG 9: Industry, Innovation, and Infrastructure': 'BP invests in technological innovations to improve operational efficiency and environmental performance. The report mentions advancements in gas and renewable energy projects. The company also supports start-ups and innovation through its venturing investments, focusing on low-carbon technologies.',\n",
       "    'SDG 10: Reduced Inequality': 'BP addresses issues of economic impact and supports local communities, particularly in regions heavily reliant on oil and gas revenues. The company has initiatives to support labor rights and reduce inequalities within its operations and supply chains.',\n",
       "    'SDG 12: Responsible Consumption and Production': 'BP focuses on improving energy efficiency and reducing waste in its operations. The report includes data on environmental performance metrics, such as greenhouse gas emissions and oil spill volumes. The company is committed to responsible production practices and reducing the environmental impact of its products and operations.',\n",
       "    'SDG 13: Climate Action': \"BP supports carbon pricing and policies to incentivize lower-carbon energy solutions. The company participates in initiatives like the Oil and Gas Climate Initiative and the Climate and Clean Air Coalition. The report details BP's actions to reduce greenhouse gas emissions, increase energy efficiency, and invest in renewable energy sources.\",\n",
       "    'SDG 14: Life Below Water': 'BP outlines its strategies for oil spill response and efforts to protect marine environments. The report includes measures taken to mitigate the impact of offshore drilling activities. The company is involved in projects to reduce flaring and methane emissions, which benefit marine ecosystems.',\n",
       "    'SDG 15: Life on Land': 'BP discusses its biodiversity and land use policies, highlighting efforts to minimize ecological impacts and support conservation projects in areas of operation. The report mentions specific initiatives to protect sensitive areas and improve land management practices.',\n",
       "    'SDG 16: Peace, Justice, and Strong Institutions': 'BP commits to ethical business practices, anti-corruption measures, and transparency. The report includes information on compliance with international human rights standards and engagement with stakeholders. The company enforces a zero-tolerance policy towards bribery and facilitation payments.',\n",
       "    'SDG 17: Partnerships for the Goals': 'BP collaborates with governments, industry peers, and non-governmental organizations to address global challenges, including climate change and sustainable development. The company participates in various international initiatives and partnerships to promote sustainability and responsible business practices.'}},\n",
       "  'Utilities': {'02_SSE_PLC': {'SDG 1: No Poverty': 'Living Wage Commitment: SSE implemented the Living Wage in their supply chain, ensuring all new service and works contracts include an obligation to pay a Living Wage. This initiative aims to reduce in-work poverty and improve employee retention, morale, and productivity .',\n",
       "    'SDG 3: Good Health and Well-being': 'Health and Safety: SSE prioritizes safety, with initiatives such as Total Recordable Injury Rate (TRIR) and Accident Frequency Rate (AFR) metrics for employees and contractors. The company also provides mental health support and emphasizes safe working environments .',\n",
       "    'SDG 4: Quality Education': 'Skills Development: SSE invests significantly in employee training and development, including apprenticeships and trainee programs to build a sustainable workforce .',\n",
       "    'SDG 5: Gender Equality': 'Diversity and Inclusion: SSE is proactive in addressing gender equality, being one of the early adopters of gender pay gap reporting and working towards greater diversity and inclusion within the workplace .',\n",
       "    'SDG 7: Affordable and Clean Energy': 'Renewable Energy Investment: SSE is a leading generator of renewable electricity in the UK and Ireland. They invest heavily in wind and hydroelectric power projects and aim to increase renewable energy capacity to over 4.2GW by 2020 .',\n",
       "    'SDG 8: Decent Work and Economic Growth': 'Economic Contribution: SSE contributes significantly to the UK and Irish economies, supporting over 100,000 jobs. They focus on creating sustainable careers, paying fair wages, and promoting economic growth .',\n",
       "    'SDG 9: Industry, Innovation, and Infrastructure': 'Infrastructure Investment: SSE invests in developing and upgrading energy infrastructure, focusing on renewable energy and electricity networks to support the low-carbon transition. This includes projects like the Caithness-Moray transmission link and various wind farms .',\n",
       "    'SDG 10: Reduced Inequality': 'Inclusive Practices: SSE’s Inclusion Strategy aims to offer equal opportunities and reduce inequality. They support vulnerable customers and ensure fair pay practices across their operations .',\n",
       "    'SDG 11: Sustainable Cities and Communities': 'Community Support: SSE invests in community development through projects like the Pitlochry Dam Visitor Centre, supporting local tourism and preserving the history of hydroelectricity. They also engage in initiatives to support vulnerable customers and improve energy efficiency .',\n",
       "    'SDG 12: Responsible Consumption and Production': 'Sustainable Practices: SSE focuses on reducing waste and promoting resource efficiency. They manage waste through projects like the Ferrybridge Multifuel facilities, which convert waste to energy, thus avoiding landfill .',\n",
       "    'SDG 13: Climate Action': 'GHG Emissions Reduction: SSE aims to reduce the carbon intensity of its electricity generation by 50% by 2020, compared to 2006 levels. They invest heavily in renewable energy and support global climate change initiatives like the UN COP21 agreement .',\n",
       "    'SDG 14: Life Below Water': 'Marine Biodiversity: SSE addresses environmental impacts on marine life through projects like the Beatrice offshore wind farm, studying the potential impacts on salmon migration routes to develop mitigation measures .',\n",
       "    'SDG 15: Life on Land': 'Biodiversity and Land Use: SSE’s Biodiversity Report outlines strategies for environmental conservation and responsible land use. They engage in habitat management and proactive environmental assessments for projects .',\n",
       "    'SDG 16: Peace, Justice, and Strong Institutions': 'Ethical Conduct: SSE maintains high ethical standards, transparency, and compliance with legal and regulatory requirements. They promote ethical behavior through policies on human rights, anti-corruption, and business ethics .',\n",
       "    'SDG 17: Partnerships for the Goals': 'Stakeholder Engagement: SSE collaborates with various stakeholders, including governments, NGOs, and industry bodies, to achieve its sustainability goals. They engage in partnerships to support biodiversity, community development, and sustainable energy practices .'},\n",
       "   '10_GOOD_ENERGY_GROUP_PLC': {'SDG 3: Good Health and Well-being': \"The report highlights Good Energy's initiatives to reduce environmental impact, which indirectly contributes to the health and well-being of communities by providing clean energy and reducing pollution\\u200b\\u200b.\",\n",
       "    'SDG 4: Quality Education': 'Good Energy supports education through various initiatives such as the Good Energy Academy, which provides training and development for employees. They also engage with local schools through educational visits and community projects\\u200b\\u200b.',\n",
       "    'SDG 5: Gender Equality': \"The report mentions Good Energy's commitment to gender equality, highlighting the company's balanced gender representation on the board and efforts to attract more women into the energy sector\\u200b\\u200b.\",\n",
       "    'SDG 7: Affordable and Clean Energy': \"Good Energy's core mission is to provide 100% renewable electricity and carbon-neutral gas. They focus on increasing the availability and affordability of clean energy through various initiatives, including local electricity tariffs and investment in renewable energy projects\\u200b\\u200b.\",\n",
       "    'SDG 8: Decent Work and Economic Growth': 'The company emphasizes fair employment practices, including being a Living Wage employer, and offers various employee benefits and development opportunities. They also support local economies through community benefit funds and investments in renewable energy projects\\u200b\\u200b.',\n",
       "    'SDG 9: Industry, Innovation, and Infrastructure': 'Good Energy invests in innovative renewable energy technologies and infrastructure, including wind and solar farms. They also support small-scale and community-owned renewable energy projects\\u200b\\u200b.',\n",
       "    'SDG 10: Reduced Inequality': 'Good Energy addresses inequality by offering affordable energy solutions and supporting vulnerable customers through their services and community initiatives\\u200b\\u200b.',\n",
       "    'SDG 11: Sustainable Cities and Communities': 'The company contributes to sustainable urban development by providing clean energy solutions, supporting local community projects, and promoting the use of renewable energy in cities and communities\\u200b\\u200b.',\n",
       "    'SDG 12: Responsible Consumption and Production': 'Good Energy promotes responsible consumption by ensuring all their electricity comes from renewable sources. They also engage in initiatives to reduce their carbon footprint and support sustainable practices in their operations and supply chain\\u200b\\u200b.',\n",
       "    'SDG 13: Climate Action': 'Climate action is a central theme in the report, with Good Energy focusing on reducing carbon emissions through renewable energy and supporting global projects that mitigate climate change impacts\\u200b\\u200b.',\n",
       "    'SDG 15: Life on Land': 'Good Energy undertakes projects to enhance biodiversity and support wildlife habitats around their renewable energy sites. They implement bio-diversity action plans and engage in tree planting and other ecological initiatives\\u200b\\u200b.',\n",
       "    'SDG 17: Partnerships for the Goals': 'Good Energy collaborates with various organizations, including the National Trust and local community groups, to promote renewable energy and sustainable practices. These partnerships help them achieve their sustainability goals and support broader community development\\u200b\\u200b.'}}},\n",
       " 2017: {'Energy': {'01_shell': {'SDG 3: Good Health and Well-being': 'Shell’s 2017 report emphasizes its ongoing commitment to health and safety. It highlights continuous improvements in safety performance, though it acknowledges incidents and fatalities. Shell is dedicated to enhancing safety standards and mitigating health risks for employees and surrounding communities.',\n",
       "    'SDG 4: Quality Education': \"The report underscores Shell's involvement in community engagement, particularly through educational programs. Shell continues to invest in local education by funding schools and providing scholarships to improve access to quality education in the communities where it operates.\",\n",
       "    'SDG 5: Gender Equality': 'Shell’s report outlines its efforts to foster diversity and inclusion within the company. It emphasizes increasing female representation in the workforce and leadership roles, and it describes policies aimed at promoting gender equality and empowering women.',\n",
       "    'SDG 6: Clean Water and Sanitation': \"The report discusses Shell's responsible management of water resources. This includes initiatives to reduce water usage and prevent contamination through better operational practices and spill prevention.\",\n",
       "    'SDG 7: Affordable and Clean Energy': 'Shell is actively engaged in the transition to a lower-carbon future. The report details investments in renewable energy sources such as wind and solar power, as well as cleaner energy solutions like natural gas and biofuels. Shell is also developing carbon capture and storage technologies to reduce greenhouse gas emissions.',\n",
       "    'SDG 8: Decent Work and Economic Growth': 'Shell emphasizes its commitment to providing safe and decent working conditions, fostering economic growth, and supporting local economies. This is achieved through job creation, local procurement, and investments in community development projects.',\n",
       "    'SDG 9: Industry, Innovation, and Infrastructure': 'Shell continues to invest in research and development to drive innovation in the energy sector. The report highlights projects aimed at improving infrastructure and deploying new technologies to enhance energy efficiency and sustainability.',\n",
       "    'SDG 11: Sustainable Cities and Communities': 'Shell supports sustainable urban development by investing in cleaner energy solutions and infrastructure projects that enhance urban quality of life. The report highlights initiatives that improve energy efficiency and reduce the environmental impact of cities.',\n",
       "    'SDG 12: Responsible Consumption and Production': 'The report outlines Shell’s efforts to promote responsible consumption and production. This includes reducing flaring, managing waste effectively, and implementing practices that support sustainable production and consumption patterns.',\n",
       "    'SDG 13: Climate Action': \"Climate action remains a central focus. Shell supports the goals of the Paris Agreement and is committed to reducing its carbon footprint. The report details Shell's initiatives in carbon capture and storage, renewable energy, and promoting natural gas as a cleaner alternative to coal.\",\n",
       "    'SDG 15: Life on Land': 'Shell’s environmental management includes protecting biodiversity and land resources. The report discusses initiatives aimed at habitat restoration and reducing the environmental impact of operations on land ecosystems.',\n",
       "    'SDG 16: Peace, Justice, and Strong Institutions': \"The report emphasizes Shell's dedication to ethical business practices, transparency, and robust governance. Shell supports strong institutions by adhering to high standards of corporate governance and maintaining transparent reporting practices.\",\n",
       "    'SDG 17: Partnerships for the Goals': 'Shell collaborates with a wide range of stakeholders, including governments, NGOs, and other companies, to achieve sustainability goals. The report highlights partnerships aimed at advancing the energy transition and addressing global challenges such as climate change.'},\n",
       "   '02_BP': {'SDG 1: No Poverty': \"Mentioned: BP emphasizes its role in supporting economic growth through energy provision, which can help lift people out of poverty. The report notes BP's contributions to local economies via job creation, investments in local suppliers, and tax payments.\",\n",
       "    'SDG 3: Good Health and Well-being': \"BP continues to prioritize safety and health, with initiatives to reduce accidents and improve workplace safety. In 2017, BP reported fewer incidents and improvements in safety performance. The report also mentions BP's support for health initiatives in communities where it operates, including during emergencies like Hurricane Harvey.\",\n",
       "    'SDG 4: Quality Education': 'BP invests in educational programs, including partnerships with academic institutions for independent research and initiatives to encourage young people to pursue STEM careers. The report mentions specific projects like the Tsinghua-BP Clean Energy Research and Education Center in China.',\n",
       "    'SDG 5: Gender Equality': 'BP tracks and reports on gender diversity within its workforce. The company aims to increase the percentage of women in leadership roles and supports various initiatives to promote gender equality.',\n",
       "    'SDG 6: Clean Water and Sanitation': 'BP outlines its efforts to manage water resources and reduce environmental impacts. This includes initiatives to reduce water usage, prevent contamination, and improve water efficiency in operations, particularly in water-stressed areas.',\n",
       "    'SDG 7: Affordable and Clean Energy': \"BP is committed to the energy transition, investing in natural gas, renewables, and energy efficiency technologies. The report highlights BP's operations in biofuels, wind energy, and emerging technologies like advanced biofuels. BP's collaboration with Lightsource BP aims to expand solar energy projects globally.\",\n",
       "    'SDG 8: Decent Work and Economic Growth': \"BP's global operations generate significant employment and economic activity. The company emphasizes responsible operating practices, including human rights and fair treatment of employees and contractors. BP's contributions to local economies include job creation, local procurement, and tax payments.\",\n",
       "    'SDG 9: Industry, Innovation, and Infrastructure': 'BP invests in technological innovations to enhance operational efficiency and environmental performance. The report mentions advancements in gas and renewable energy projects, and support for start-ups through ventures like BP Ventures.',\n",
       "    'SDG 10: Reduced Inequality': 'BP addresses economic impacts and supports local communities, especially in regions dependent on oil and gas revenues. The company has initiatives to support labor rights and reduce inequalities within its operations and supply chains.',\n",
       "    'SDG 12: Responsible Consumption and Production': \"BP focuses on improving energy efficiency and reducing waste. The report includes data on environmental performance metrics, such as greenhouse gas emissions and oil spill volumes. BP's Advancing Low Carbon program highlights various initiatives to reduce the carbon footprint of its products and operations.\",\n",
       "    'SDG 13: Climate Action': \"BP supports carbon pricing and policies to encourage lower-carbon energy solutions. The company participates in initiatives like the Oil and Gas Climate Initiative and the Climate and Clean Air Coalition. The report details BP's actions to reduce greenhouse gas emissions, enhance energy efficiency, and invest in renewable energy sources.\",\n",
       "    'SDG 14: Life Below Water': 'BP outlines its strategies for oil spill response and efforts to protect marine environments. The report includes measures taken to mitigate the impact of offshore drilling and projects to reduce flaring and methane emissions.',\n",
       "    'SDG 15: Life on Land': 'BP discusses its biodiversity and land use policies, highlighting efforts to minimize ecological impacts and support conservation projects. Specific initiatives include protecting sensitive areas and improving land management practices.',\n",
       "    'SDG 16: Peace, Justice, and Strong Institutions': 'BP commits to ethical business practices, anti-corruption measures, and transparency. The report includes information on compliance with international human rights standards and engagement with stakeholders. The company enforces a zero-tolerance policy towards bribery and facilitation payments.',\n",
       "    'SDG 17: Partnerships for the Goals': 'BP collaborates with governments, industry peers, and non-governmental organizations to address global challenges, including climate change and sustainable development. The company participates in various international initiatives and partnerships to promote sustainability and responsible business practices.'}},\n",
       "  'Utilities': {'02_SSE_PLC': {'SDG 1: No Poverty': 'Living Wage Commitment: SSE is committed to paying the Living Wage to all its employees in the UK and Ireland and has been a Living Wage accredited employer since 2013. They have also been rolling this out through their supply chain since April 2014.',\n",
       "    'SDG 3: Good Health and Well-being': 'Health and Safety: SSE prioritizes safety with a goal to reduce the Total Recordable Injury Rate (TRIR) by 50% from March 2017 to March 2021. They also provide mental health awareness training for their customer service advisors.',\n",
       "    'SDG 4: Quality Education': 'Skills Development: SSE invests significantly in training and development, including apprenticeships and trainee programs to build a sustainable pipeline of skilled employees.',\n",
       "    'SDG 5: Gender Equality': 'Diversity and Inclusion: SSE aims to improve gender diversity and close the gender pay gap. They publish their UK gender pay gap and promote gender diversity through their \"In, On and Up\" strategy. SSE is also a sponsor of the SSE Women’s FA Cup.',\n",
       "    'SDG 6: Clean Water and Sanitation': 'Water Management: SSE manages water use responsibly, reducing water abstraction and promoting sustainable practices in their operations.',\n",
       "    'SDG 7: Affordable and Clean Energy': 'Renewable Energy Investment: SSE is a leading generator of renewable electricity in the UK and Ireland. They have invested over £3.2 billion in renewable energy since April 2010 and aim to increase renewable energy capacity to over 4.3GW by 2020.',\n",
       "    'SDG 8: Decent Work and Economic Growth': 'Economic Contribution: SSE contributed £9.3 billion to the UK GDP and €779 million to the Irish GDP, supporting over 108,000 jobs. They focus on creating sustainable careers and paying fair wages.',\n",
       "    'SDG 9: Industry, Innovation, and Infrastructure': 'Infrastructure Investment: SSE invests heavily in energy infrastructure, with plans to invest around £6 billion between 2016 and 2020, focusing on renewables and electricity networks. They also support innovation through research and development projects.',\n",
       "    'SDG 10: Reduced Inequality': 'Inclusive Practices: SSE’s Inclusion Strategy promotes equality and reduces inequality within the company. They support vulnerable customers through various initiatives and ensure fair pay practices.',\n",
       "    'SDG 11: Sustainable Cities and Communities': 'Community Support: SSE invests in community development through community investment funds, supporting local projects and enhancing infrastructure. They also engage in initiatives to support vulnerable customers and improve energy efficiency.',\n",
       "    'SDG 12: Responsible Consumption and Production': 'Sustainable Practices: SSE focuses on reducing waste, improving resource efficiency, and promoting sustainable practices among suppliers and within their operations.',\n",
       "    'SDG 13: Climate Action': 'GHG Emissions Reduction: SSE aims to reduce the carbon intensity of its electricity generation by 50% by 2020, compared to 2006 levels. They have significantly reduced their total carbon emissions and invested heavily in renewable energy.',\n",
       "    'SDG 15: Life on Land': 'Biodiversity and Land Use: SSE is committed to promoting biodiversity through habitat management plans and partnerships with environmental organizations. They engage in projects to protect and enhance natural habitats.',\n",
       "    'SDG 16: Peace, Justice, and Strong Institutions': 'Ethical Conduct: SSE maintains high ethical standards and transparency in reporting. They have clear policies on human rights, anti-corruption, and business ethics, ensuring compliance and promoting ethical behavior across the organization.',\n",
       "    'SDG 17: Partnerships for the Goals': 'Stakeholder Engagement: SSE collaborates with various stakeholders to advance sustainability goals. They engage in partnerships to support biodiversity, community development, and sustainable energy practices.'},\n",
       "   '08_RENEWI_PLC': {'SDG 1: No Poverty': 'The document emphasizes efforts to ensure affordability of water services for customers, particularly those in vulnerable situations. Initiatives like the WaterCare+ program provide financial support and benefit entitlement checks to help customers manage their bills and avoid water poverty.',\n",
       "    'SDG 3: Good Health and Well-being': 'The report highlights the importance of clean and safe water supply as essential for public health. Various programs ensure water quality and safety, including maintaining high standards for drinking water and managing wastewater effectively to prevent public health risks.',\n",
       "    'SDG 5: Gender Equality': 'The document mentions efforts to promote diversity and inclusion within the company, including initiatives to improve gender equality among employees.',\n",
       "    'SDG 6: Clean Water and Sanitation': 'A significant focus is placed on ensuring a reliable supply of clean water and efficient wastewater management. Investments in infrastructure and technology aim to maintain high standards of water quality and sanitation.',\n",
       "    'SDG 8: Decent Work and Economic Growth': 'The company emphasizes the creation of jobs and economic opportunities, particularly through investments in infrastructure projects and community engagement. Initiatives like the WaterShare+ scheme aim to provide economic benefits to customers and communities.',\n",
       "    'SDG 9: Industry, Innovation, and Infrastructure': 'Investments in advanced water treatment facilities and innovative solutions for water management are highlighted. The company focuses on upgrading infrastructure to enhance efficiency and service quality.',\n",
       "    'SDG 10: Reduced Inequality': 'Efforts to address affordability and provide targeted support to vulnerable customers help reduce economic inequality. Programs like the FreshStart fund provide financial assistance to those facing hardship, ensuring equitable access to water services.',\n",
       "    'SDG 11: Sustainable Cities and Communities': 'The document outlines initiatives to improve urban water management and infrastructure resilience, contributing to the sustainability and livability of communities. Programs to enhance water efficiency and reduce leakage also support this goal.',\n",
       "    'SDG 12: Responsible Consumption and Production': 'The company promotes water conservation through various community programs and educational initiatives, encouraging responsible water usage among customers.',\n",
       "    'SDG 13: Climate Action': 'Commitments to reducing carbon emissions and enhancing climate resilience are emphasized. The company has set targets for becoming Net Zero by 2030 and is investing in renewable energy and sustainable practices to mitigate climate impacts.',\n",
       "    'SDG 14: Life Below Water': 'The document includes initiatives to improve coastal water quality and protect marine environments. The company’s efforts in wastewater management and reducing pollution contribute to healthier marine ecosystems.',\n",
       "    'SDG 15: Life on Land': 'Programs to protect and restore natural habitats, such as catchment management and biodiversity initiatives, are highlighted. These efforts aim to enhance terrestrial ecosystems and promote biodiversity.',\n",
       "    'SDG 16: Peace, Justice, and Strong Institutions': 'The company emphasizes transparent governance and ethical business practices. Efforts to engage with customers and stakeholders, and the establishment of advisory panels, contribute to building trust and strong institutional frameworks.',\n",
       "    'SDG 17: Partnerships for the Goals': 'Collaborations with various stakeholders, including government agencies, community organizations, and other partners, are crucial for achieving the company’s sustainability objectives. These partnerships support the implementation of comprehensive and effective sustainability strategies.'},\n",
       "   '10_GOOD_ENERGY_GROUP_PLC': {'SDG 3: Good Health and Well-being': 'Good Energy focuses on reducing environmental impact through the use of renewable energy, which contributes to cleaner air and healthier lives\\u200b\\u200b.',\n",
       "    'SDG 4: Quality Education': 'The report highlights educational initiatives, such as the Good Energy Academy, which provides training and development for employees. They also engage with local schools through educational visits and community projects\\u200b\\u200b.',\n",
       "    'SDG 5: Gender Equality': 'Good Energy emphasizes gender equality by maintaining balanced gender representation on their board and attracting more women to the energy sector\\u200b\\u200b.',\n",
       "    'SDG 7: Affordable and Clean Energy': 'Good Energy is dedicated to providing 100% renewable electricity and carbon-neutral gas. They increase the availability of clean energy through local electricity tariffs and investments in renewable energy projects\\u200b\\u200b.',\n",
       "    'SDG 8: Decent Work and Economic Growth': 'The company supports fair employment practices, being a Living Wage employer, and provides various benefits and development opportunities. They also support local economies through community benefit funds and investments in renewable energy projects\\u200b\\u200b.',\n",
       "    'SDG 9: Industry, Innovation, and Infrastructure': 'Good Energy invests in innovative renewable energy technologies and infrastructure, including wind and solar farms. They also support small-scale and community-owned renewable energy projects\\u200b\\u200b.',\n",
       "    'SDG 10: Reduced Inequality': 'The company addresses inequality by offering affordable energy solutions and supporting vulnerable customers through their services and community initiatives\\u200b\\u200b.',\n",
       "    'SDG 11: Sustainable Cities and Communities': 'Good Energy contributes to sustainable urban development by providing clean energy solutions, supporting local community projects, and promoting renewable energy use in cities and communities\\u200b\\u200b.',\n",
       "    'SDG 12: Responsible Consumption and Production': 'The company promotes responsible consumption by ensuring all their electricity comes from renewable sources. They engage in initiatives to reduce their carbon footprint and support sustainable practices in their operations and supply chain\\u200b\\u200b.',\n",
       "    'SDG 13: Climate Action': \"Good Energy's core mission includes reducing carbon emissions through renewable energy and supporting global projects that mitigate climate change impacts\\u200b\\u200b.\",\n",
       "    'SDG 15: Life on Land': 'The company undertakes projects to enhance biodiversity and support wildlife habitats around their renewable energy sites. They implement biodiversity action plans and engage in ecological initiatives\\u200b\\u200b.',\n",
       "    'SDG 17: Partnerships for the Goals': 'Good Energy collaborates with various organizations, including the National Trust and local community groups, to promote renewable energy and sustainable practices. These partnerships help achieve their sustainability goals and support broader community development\\u200b\\u200b.'}}},\n",
       " 2018: {'Energy': {'01_shell': {'SDG 3: Good Health and Well-being': 'Shell’s 2018 report underscores its ongoing commitment to health and safety. The report highlights continuous improvements in safety performance and acknowledges incidents and fatalities. Shell remains dedicated to enhancing safety standards and mitigating health risks for employees and surrounding communities.',\n",
       "    'SDG 4: Quality Education': \"The report emphasizes Shell's involvement in community engagement, particularly through educational initiatives. Shell continues to invest in local education by funding schools and providing scholarships to improve access to quality education in the communities where it operates.\",\n",
       "    'SDG 5: Gender Equality': 'Shell’s report details its efforts to foster diversity and inclusion within the company. It highlights increasing female representation in the workforce and leadership roles and describes policies aimed at promoting gender equality and empowering women.',\n",
       "    'SDG 6: Clean Water and Sanitation': \"The report discusses Shell's responsible management of water resources. This includes initiatives to reduce water usage and prevent contamination through better operational practices and spill prevention measures.\",\n",
       "    'SDG 7: Affordable and Clean Energy': 'Shell is actively engaged in the transition to a lower-carbon future. The report details investments in renewable energy sources such as wind and solar power, as well as cleaner energy solutions like natural gas and biofuels. Shell is also developing carbon capture and storage technologies to reduce greenhouse gas emissions.',\n",
       "    'SDG 8: Decent Work and Economic Growth': 'Shell emphasizes its commitment to providing safe and decent working conditions, fostering economic growth, and supporting local economies. This is achieved through job creation, local procurement, and investments in community development projects.',\n",
       "    'SDG 9: Industry, Innovation, and Infrastructure': 'Shell continues to invest in research and development to drive innovation in the energy sector. The report highlights projects aimed at improving infrastructure and deploying new technologies to enhance energy efficiency and sustainability.',\n",
       "    'SDG 11: Sustainable Cities and Communities': 'Shell supports sustainable urban development by investing in cleaner energy solutions and infrastructure projects that enhance urban quality of life. The report highlights initiatives that improve energy efficiency and reduce the environmental impact of cities.',\n",
       "    'SDG 12: Responsible Consumption and Production': 'The report outlines Shell’s efforts to promote responsible consumption and production. This includes reducing flaring, managing waste effectively, and implementing practices that support sustainable production and consumption patterns.',\n",
       "    'SDG 13: Climate Action': \"Climate action remains a central focus. Shell supports the goals of the Paris Agreement and is committed to reducing its carbon footprint. The report details Shell's initiatives in carbon capture and storage, renewable energy, and promoting natural gas as a cleaner alternative to coal.\",\n",
       "    'SDG 15: Life on Land': 'Shell’s environmental management includes protecting biodiversity and land resources. The report discusses initiatives aimed at habitat restoration and reducing the environmental impact of operations on land ecosystems.',\n",
       "    'SDG 16: Peace, Justice, and Strong Institutions': \"The report emphasizes Shell's dedication to ethical business practices, transparency, and robust governance. Shell supports strong institutions by adhering to high standards of corporate governance and maintaining transparent reporting practices.\",\n",
       "    'SDG 17: Partnerships for the Goals': 'Shell collaborates with a wide range of stakeholders, including governments, NGOs, and other companies, to achieve sustainability goals. The report highlights partnerships aimed at advancing the energy transition and addressing global challenges such as climate change.'},\n",
       "   '02_BP': {'SDG 1: No Poverty': \"Mentioned: BP discusses its role in supporting economic growth and improving quality of life through energy provision. The report highlights BP's contributions to local economies via job creation, local supplier investments, and tax payments.\",\n",
       "    'SDG 3: Good Health and Well-being': \"BP continues to prioritize safety and health, with a focus on reducing accidents and improving workplace safety. The report details BP's efforts to enhance process safety and personal safety, including the use of human performance techniques. BP supports health initiatives in communities, including efforts to address mental health and wellbeing among employees.\",\n",
       "    'SDG 4: Quality Education': 'BP invests in educational programs and partnerships to promote STEM education and research. The report mentions specific projects and collaborations with academic institutions to advance clean energy technologies.',\n",
       "    'SDG 5: Gender Equality': 'BP tracks and reports on gender diversity within its workforce. The company aims to increase the percentage of women in leadership roles and supports various initiatives to promote gender equality and inclusion.',\n",
       "    'SDG 6: Clean Water and Sanitation': 'BP outlines its efforts to manage water resources and reduce environmental impacts. This includes initiatives to reduce water usage, prevent contamination, and improve water efficiency in operations, particularly in water-stressed areas.',\n",
       "    'SDG 7: Affordable and Clean Energy': \"BP is committed to the energy transition, investing in natural gas, renewables, and energy efficiency technologies. The report highlights BP's operations in biofuels, wind energy, and emerging technologies like advanced biofuels and solar energy through its partnership with Lightsource BP.\",\n",
       "    'SDG 8: Decent Work and Economic Growth': \"BP's global operations generate significant employment and economic activity. The company emphasizes responsible operating practices, including human rights and fair treatment of employees and contractors. BP's contributions to local economies include job creation, local procurement, and tax payments.\",\n",
       "    'SDG 9: Industry, Innovation, and Infrastructure': 'BP invests in technological innovations to enhance operational efficiency and environmental performance. The report mentions advancements in gas and renewable energy projects and support for start-ups through ventures like BP Ventures.',\n",
       "    'SDG 10: Reduced Inequality': 'BP addresses economic impacts and supports local communities, especially in regions dependent on oil and gas revenues. The company has initiatives to support labor rights and reduce inequalities within its operations and supply chains.',\n",
       "    'SDG 12: Responsible Consumption and Production': \"BP focuses on improving energy efficiency and reducing waste. The report includes data on environmental performance metrics, such as greenhouse gas emissions and oil spill volumes. BP's Advancing Low Carbon program highlights various initiatives to reduce the carbon footprint of its products and operations.\",\n",
       "    'SDG 13: Climate Action': \"BP supports carbon pricing and policies to encourage lower-carbon energy solutions. The company participates in initiatives like the Oil and Gas Climate Initiative and the Climate and Clean Air Coalition. The report details BP's actions to reduce greenhouse gas emissions, enhance energy efficiency, and invest in renewable energy sources.\",\n",
       "    'SDG 14: Life Below Water': 'BP outlines its strategies for oil spill response and efforts to protect marine environments. The report includes measures taken to mitigate the impact of offshore drilling and projects to reduce flaring and methane emissions.',\n",
       "    'SDG 15: Life on Land': 'BP discusses its biodiversity and land use policies, highlighting efforts to minimize ecological impacts and support conservation projects. Specific initiatives include protecting sensitive areas and improving land management practices.',\n",
       "    'SDG 16: Peace, Justice, and Strong Institutions': 'BP commits to ethical business practices, anti-corruption measures, and transparency. The report includes information on compliance with international human rights standards and engagement with stakeholders. The company enforces a zero-tolerance policy towards bribery and facilitation payments.',\n",
       "    'SDG 17: Partnerships for the Goals': 'BP collaborates with governments, industry peers, and non-governmental organizations to address global challenges, including climate change and sustainable development. The company participates in various international initiatives and partnerships to promote sustainability and responsible business practices.'},\n",
       "   '04_energeans': {'SDG 3: Good Health and Well-being': 'Summary:',\n",
       "    'SDG 5: Gender Equality': 'Summary:',\n",
       "    'SDG 6: Clean Water and Sanitation': 'Summary:',\n",
       "    'SDG 7: Affordable and Clean Energy': 'Summary:',\n",
       "    'SDG 8: Decent Work and Economic Growth': 'Summary:',\n",
       "    'SDG 9: Industry, Innovation, and Infrastructure': 'Summary:',\n",
       "    'SDG 10: Reduced Inequality': 'Summary:',\n",
       "    'SDG 11: Sustainable Cities and Communities': 'Summary:',\n",
       "    'SDG 12: Responsible Consumption and Production': 'Summary:',\n",
       "    'SDG 13: Climate Action': 'Summary:',\n",
       "    'SDG 14: Life Below Water': 'Summary:',\n",
       "    'SDG 15: Life on Land': 'Summary:',\n",
       "    'SDG 16: Peace, Justice, and Strong Institutions': 'Summary:',\n",
       "    'SDG 17: Partnerships for the Goals': 'Summary:'}},\n",
       "  'Utilities': {'02_SSE_PLC': {'SDG 3: Good Health and Well-being': 'Health and Safety: SSE prioritizes the health, safety, and wellbeing of its employees. The Total Recordable Injury Rate (TRIR) for employees and contractors combined was 0.20 per 100,000 hours worked in 2017/18, indicating a positive trend towards their target of 0.11 by 2021. The company also runs safety campaigns and has mechanisms for employees to report concerns.',\n",
       "    'SDG 4: Quality Education': 'Skills Development: SSE invested £25.2m in training and development in 2017/18. They focus on creating a sustainable pipeline of highly engaged employees, addressing the skills shortage in the energy industry through apprenticeships, training programs, and career development opportunities.',\n",
       "    'SDG 5: Gender Equality': 'Diversity and Inclusion: SSE is committed to improving gender diversity and closing the gender pay gap. They implemented the first year of their Inclusion Strategy 2017-2020 and set gender balance targets for senior leadership. SSE was included in the inaugural Bloomberg Gender-Equality Index and ranked top utility in the FTSE Women on Boards Leadership Index.',\n",
       "    'SDG 6: Clean Water and Sanitation': 'Water Management: SSE manages water use responsibly, surpassing its target to reduce average water use per person in non-operational buildings by 2.5% each year.',\n",
       "    'SDG 7: Affordable and Clean Energy': 'Renewable Energy Investment: SSE is a major renewable energy operator in the UK and Ireland, with a target to increase its renewable energy capacity to over 4.2GW by 2020. They invested heavily in networks and renewables, including issuing a Green Bond to finance renewable projects.',\n",
       "    'SDG 8: Decent Work and Economic Growth': 'Economic Contribution: SSE contributed £8.6bn to the UK GDP and €806m to the Irish GDP, supporting over 100,000 jobs. They focus on creating sustainable careers, paying the Living Wage, and fostering local economic growth through procurement practices.',\n",
       "    'SDG 9: Industry, Innovation, and Infrastructure': 'Infrastructure Investment: SSE invests in developing and upgrading energy infrastructure, with a focus on networks and renewables. They aim to ensure a resilient and modern energy system, supporting the low-carbon transition.',\n",
       "    'SDG 10: Reduced Inequality': 'Inclusive Practices: SSE’s Inclusion Strategy aims to offer equal opportunities and reduce inequality. They support remote and economically disadvantaged areas through their operations, ensuring the economic value is shared widely.',\n",
       "    'SDG 11: Sustainable Cities and Communities': 'Community Support: SSE invests in community development through community investment funds, supporting local projects and enhancing infrastructure. They also engage in initiatives to support vulnerable customers.',\n",
       "    'SDG 12: Responsible Consumption and Production': 'Sustainable Practices: SSE focuses on reducing waste and improving resource efficiency. They invested in energy efficiency technologies for their buildings and committed to using certified renewable energy for their own use by 2020.',\n",
       "    'SDG 13: Climate Action': 'GHG Emissions Reduction: SSE set targets to reduce the carbon intensity of its electricity generation by 50% by 2030, compared to 2018 levels. They issued a Green Bond to finance renewable projects and committed to the Taskforce on Climate-related Financial Disclosures recommendations by 2021.',\n",
       "    'SDG 14: Life Below Water': 'Marine Biodiversity: SSE’s distribution business developed a Sustainability Cost-Benefit Analysis for upgrading submarine electricity cables, assessing impacts on marine ecosystems.',\n",
       "    'SDG 15: Life on Land': 'Biodiversity and Land Use: SSE published a Biodiversity Report detailing measures to protect and enhance biodiversity. They manage their impacts on the natural environment through strategic approaches and innovative methodologies.',\n",
       "    'SDG 16: Peace, Justice, and Strong Institutions': 'Ethical Conduct: SSE maintains high ethical standards and transparency in reporting. They have policies on human rights, anti-corruption, and business ethics, ensuring compliance and promoting ethical behavior across the organization.',\n",
       "    'SDG 17: Partnerships for the Goals': 'Stakeholder Engagement: SSE collaborates with stakeholders, including governments, regulators, NGOs, and local communities, to support the SDGs. They became a signatory to the United Nations Global Compact, aligning their strategies with global sustainability principles.'},\n",
       "   '05_CENTRICA_PLC': {'SDG 3: Good Health and Well-being': 'The document discusses metrics related to customer safety incidents and workplace safety for employees, including total recordable injury frequency rate (TRIFR) and lost time injury frequency rate (LTIFR), indicating a focus on health and safety improvements.',\n",
       "    'SDG 4: Quality Education': 'The document outlines initiatives to inspire and develop 100,000 people with essential STEM skills and attract more women into STEM fields, showing a commitment to education and skills development.',\n",
       "    'SDG 5: Gender Equality': 'The document addresses gender equality by reporting the percentage of female employees and senior managers, gender pay gap, and gender bonus gap. It also highlights ambitions to develop more women in STEM and ensure senior leadership reflects diversity.',\n",
       "    'SDG 7: Affordable and Clean Energy': \"The document emphasizes the company's commitment to reducing carbon emissions and increasing customer carbon savings through various measures, aligning with the goal of promoting affordable and clean energy.\",\n",
       "    'SDG 8: Decent Work and Economic Growth': 'Metrics related to employee engagement, retention, and absence rates are included, as well as the focus on creating an inclusive workplace and empowering employees with future skills.',\n",
       "    'SDG 10: Reduced Inequality': 'The document mentions initiatives to help customers in vulnerable circumstances and the company’s efforts to support ethnic diversity within its workforce.',\n",
       "    'SDG 12: Responsible Consumption and Production': 'The document reports on efforts to improve sustainability risk ratings of suppliers and increase ethical site inspections for higher risk suppliers, indicating a focus on responsible production practices.',\n",
       "    'SDG 13: Climate Action': \"Detailed metrics on total carbon emissions, scope 1 and 2 emissions, and carbon intensity by revenue are provided. The document highlights the company's targets and achievements in reducing emissions and supporting customers in reducing their carbon footprint.\",\n",
       "    'SDG 16: Peace, Justice, and Strong Institutions': \"The document includes the percentage of employees committed to upholding the company's code of conduct, reflecting efforts towards maintaining strong ethical standards and integrity.\",\n",
       "    'SDG 17: Partnerships for the Goals': 'The document mentions the engagement with PricewaterhouseCoopers LLP for assurance on non-financial KPIs, indicating a partnership approach to ensure transparency and accountability in reporting.'},\n",
       "   '08_RENEWI_PLC': {'SDG 1: No Poverty': 'The document emphasizes the importance of affordability in utility services, particularly water services. Various initiatives are mentioned to support low-income households and ensure they have access to essential services without financial hardship. Programs like WaterCare+ and the FreshStart fund provide targeted financial assistance to customers in vulnerable situations\\u200b\\u200b\\u200b\\u200b\\u200b\\u200b.',\n",
       "    'SDG 3: Good Health and Well-being': \"The document highlights the company's commitment to ensuring a clean and reliable supply of drinking water, which is essential for public health. Additionally, the WaterFit program aims to improve the quality of rivers and coastal waters, indirectly supporting health and well-being through environmental enhancements\\u200b\\u200b\\u200b\\u200b.\",\n",
       "    'SDG 4: Quality Education': 'The document discusses educational initiatives, such as primary school programs, to promote water efficiency and pollution reduction among children. This includes reaching out to schools and communities to foster awareness and responsible behavior regarding water use\\u200b\\u200b.',\n",
       "    'SDG 6: Clean Water and Sanitation': 'A significant focus of the document is on providing clean water and effective sanitation. Projects like the WaterFit program and investment in infrastructure improvements are aimed at enhancing water quality and reliability. The company also engages in catchment management and pollution reduction initiatives to protect water resources\\u200b\\u200b.',\n",
       "    'SDG 7: Affordable and Clean Energy': \"The document outlines goals for increasing the company's renewable energy generation, aiming to produce up to 50% of their energy needs through renewables by 2030. This includes commitments to reduce carbon emissions and enhance energy efficiency across operations\\u200b\\u200b\\u200b\\u200b.\",\n",
       "    'SDG 8: Decent Work and Economic Growth': 'The document mentions job creation through various projects and investments. It also emphasizes fair employment practices and training programs to retain and develop talent within the company. Initiatives like the WaterCare+ program also help ensure that economic growth benefits a broader community by making essential services affordable\\u200b\\u200b\\u200b\\u200b.',\n",
       "    'SDG 9: Industry, Innovation, and Infrastructure': 'Innovation in water management and infrastructure is a key theme. The document highlights the use of advanced technologies and practices to improve efficiency, reduce leaks, and ensure the sustainability of water supply systems. The focus on catchment management and environmental stewardship also supports this goal\\u200b\\u200b\\u200b\\u200b.',\n",
       "    'SDG 10: Reduced Inequality': 'The document details various programs aimed at supporting vulnerable customers and reducing inequality in access to essential services. The affordability initiatives and targeted assistance programs are designed to ensure that all customers, regardless of their financial situation, have access to clean water and sanitation\\u200b\\u200b\\u200b\\u200b.',\n",
       "    'SDG 11: Sustainable Cities and Communities': \"The document supports sustainable urban development through its focus on improving water infrastructure, reducing pollution, and enhancing the resilience of water systems. These efforts contribute to the sustainability and livability of cities and communities in the company's service areas\\u200b\\u200b\\u200b\\u200b.\",\n",
       "    'SDG 12: Responsible Consumption and Production': 'The company promotes water efficiency and responsible consumption through various initiatives. Educational programs and community engagement efforts aim to raise awareness about water conservation and responsible use of resources. The WaterFit program also aligns with responsible production by focusing on sustainable water management practices\\u200b\\u200b.',\n",
       "    'SDG 13: Climate Action': \"The document outlines the company's strategies to mitigate climate change impacts, including reducing carbon emissions and enhancing the resilience of water systems to extreme weather events. The commitment to achieving Net Zero by 2030 is a significant part of their climate action plan\\u200b\\u200b\\u200b\\u200b.\",\n",
       "    'SDG 14: Life Below Water': \"The company's initiatives to improve coastal and river water quality, such as the WaterFit program, directly support the health of marine and freshwater ecosystems. Efforts to reduce pollution and enhance biodiversity contribute to the protection of life below water\\u200b\\u200b.\",\n",
       "    'SDG 15: Life on Land': 'Environmental stewardship programs, including catchment management and land restoration projects, are highlighted. These initiatives aim to protect and enhance natural habitats, supporting biodiversity and ecosystem health on land\\u200b\\u200b\\u200b\\u200b.',\n",
       "    'SDG 16: Peace, Justice, and Strong Institutions': 'The document underscores the importance of governance and strong institutional frameworks to achieve sustainable development goals. Transparency, stakeholder engagement, and responsible business practices are emphasized as foundational principles\\u200b\\u200b\\u200b\\u200b.',\n",
       "    'SDG 17: Partnerships for the Goals': 'The company actively collaborates with various stakeholders, including government agencies, community organizations, and industry partners, to achieve its sustainability targets. These partnerships are crucial for implementing effective environmental and social initiatives\\u200b\\u200b\\u200b\\u200b.'},\n",
       "   '10_GOOD_ENERGY_GROUP_PLC': {'SDG 3: Good Health and Well-being': 'Good Energy promotes health and well-being through initiatives like clean technology such as electric vehicles, investment in certified carbon reduction projects that reduce air pollution, and workplace health and wellbeing programs including green travel and mental health first aid training\\u200b\\u200b.',\n",
       "    'SDG 4: Quality Education': 'Good Energy engages in educational initiatives, partnering with schools and universities to promote STEM careers and sustainable energy education\\u200b\\u200b.',\n",
       "    'SDG 5: Gender Equality': \"The report highlights Good Energy's commitment to gender equality through efforts to close the gender pay gap, encourage more girls to choose STEM careers, and advocate for gender equality in the energy industry\\u200b\\u200b.\",\n",
       "    'SDG 7: Affordable and Clean Energy': \"Providing 100% renewable electricity and carbon-neutral gas is central to Good Energy's mission. The company empowers people to generate their own clean power and supports the renewable energy sector through investments and partnerships\\u200b\\u200b.\",\n",
       "    'SDG 8: Decent Work and Economic Growth': 'Good Energy supports decent work and economic growth by paying all employees a living wage, providing quality jobs in the green economy, and investing in carbon reduction projects that create skilled work for local communities\\u200b\\u200b.',\n",
       "    'SDG 9: Industry, Innovation, and Infrastructure': 'The company invests in innovative renewable energy technologies and infrastructure, including wind and solar farms, and supports small-scale and community-owned renewable energy projects\\u200b\\u200b.',\n",
       "    'SDG 10: Reduced Inequality': 'Good Energy addresses inequality by offering affordable energy solutions and supporting vulnerable customers through various services and community initiatives\\u200b\\u200b.',\n",
       "    'SDG 11: Sustainable Cities and Communities': 'The report outlines efforts to promote sustainable urban development by incentivizing the use of green transport, increasing the adoption of electric vehicles, and supporting local community projects\\u200b\\u200b.',\n",
       "    'SDG 12: Responsible Consumption and Production': 'Good Energy promotes responsible consumption and production by educating customers about green energy and energy efficiency, supporting homes and businesses in generating their own energy, and exploring new technologies for renewable integration into power grids\\u200b\\u200b.',\n",
       "    'SDG 13: Climate Action': 'Climate action is a core focus, with Good Energy committed to reducing carbon emissions through renewable energy and supporting global projects that mitigate climate change impacts\\u200b\\u200b.',\n",
       "    'SDG 15: Life on Land': 'The company undertakes projects to enhance biodiversity and support wildlife habitats around their renewable energy sites, implementing biodiversity action plans and engaging in ecological initiatives\\u200b\\u200b.',\n",
       "    'SDG 17: Partnerships for the Goals': 'Good Energy collaborates with various organizations, including the National Trust and local community groups, to promote renewable energy and sustainable practices. These partnerships help achieve their sustainability goals and support broader community development\\u200b\\u200b.'}}},\n",
       " 2019: {'Energy': {'01_shell': {'SDG 3: Good Health and Well-being': 'Shell’s 2019 report highlights its commitment to health and safety. It showcases continuous improvements in safety performance and acknowledges incidents and fatalities. Shell remains dedicated to enhancing safety standards and mitigating health risks for employees and surrounding communities.',\n",
       "    'SDG 4: Quality Education': \"The report emphasizes Shell's involvement in community engagement, particularly through educational initiatives. Shell continues to invest in local education by funding schools and providing scholarships to improve access to quality education in the communities where it operates.\",\n",
       "    'SDG 5: Gender Equality': 'Shell’s report details its efforts to foster diversity and inclusion within the company. It highlights increasing female representation in the workforce and leadership roles and describes policies aimed at promoting gender equality and empowering women.',\n",
       "    'SDG 6: Clean Water and Sanitation': \"The report discusses Shell's responsible management of water resources. This includes initiatives to reduce water usage and prevent contamination through better operational practices and spill prevention measures.\",\n",
       "    'SDG 7: Affordable and Clean Energy': 'Shell is actively engaged in the transition to a lower-carbon future. The report details investments in renewable energy sources such as wind and solar power, as well as cleaner energy solutions like natural gas and biofuels. Shell is also developing carbon capture and storage technologies to reduce greenhouse gas emissions.',\n",
       "    'SDG 8: Decent Work and Economic Growth': 'Shell emphasizes its commitment to providing safe and decent working conditions, fostering economic growth, and supporting local economies. This is achieved through job creation, local procurement, and investments in community development projects.',\n",
       "    'SDG 9: Industry, Innovation, and Infrastructure': 'Shell continues to invest in research and development to drive innovation in the energy sector. The report highlights projects aimed at improving infrastructure and deploying new technologies to enhance energy efficiency and sustainability.',\n",
       "    'SDG 11: Sustainable Cities and Communities': 'Shell supports sustainable urban development by investing in cleaner energy solutions and infrastructure projects that enhance urban quality of life. The report highlights initiatives that improve energy efficiency and reduce the environmental impact of cities.',\n",
       "    'SDG 12: Responsible Consumption and Production': 'The report outlines Shell’s efforts to promote responsible consumption and production. This includes reducing flaring, managing waste effectively, and implementing practices that support sustainable production and consumption patterns.',\n",
       "    'SDG 13: Climate Action': \"Climate action remains a central focus. Shell supports the goals of the Paris Agreement and is committed to reducing its carbon footprint. The report details Shell's initiatives in carbon capture and storage, renewable energy, and promoting natural gas as a cleaner alternative to coal.\",\n",
       "    'SDG 15: Life on Land': 'Shell’s environmental management includes protecting biodiversity and land resources. The report discusses initiatives aimed at habitat restoration and reducing the environmental impact of operations on land ecosystems.',\n",
       "    'SDG 16: Peace, Justice, and Strong Institutions': \"The report emphasizes Shell's dedication to ethical business practices, transparency, and robust governance. Shell supports strong institutions by adhering to high standards of corporate governance and maintaining transparent reporting practices.\",\n",
       "    'SDG 17: Partnerships for the Goals': 'Shell collaborates with a wide range of stakeholders, including governments, NGOs, and other companies, to achieve sustainability goals. The report highlights partnerships aimed at advancing the energy transition and addressing global challenges such as climate change.'},\n",
       "   '02_BP': {'SDG 1: No Poverty': \"Mentioned: BP highlights its role in supporting economic growth and improving quality of life through energy provision. The report underscores BP's contributions to local economies through job creation, investments in local suppliers, and tax payments.\",\n",
       "    'SDG 3: Good Health and Well-being': \"BP prioritizes safety and health, focusing on reducing accidents and improving workplace safety. The report details BP's efforts in enhancing process safety, personal safety, and managing risks. BP supports health initiatives in communities, including efforts to combat malaria and improve maternal health.\",\n",
       "    'SDG 4: Quality Education': 'BP invests in educational programs and partnerships to promote STEM education and research. The report mentions collaborations with academic institutions to advance clean energy technologies.',\n",
       "    'SDG 5: Gender Equality': 'BP tracks and reports on gender diversity within its workforce. The company aims to increase the percentage of women in leadership roles and supports various initiatives to promote gender equality and inclusion.',\n",
       "    'SDG 6: Clean Water and Sanitation': 'BP outlines its efforts to manage water resources and reduce environmental impacts. This includes initiatives to reduce water usage, prevent contamination, and improve water efficiency in operations, particularly in water-stressed areas.',\n",
       "    'SDG 7: Affordable and Clean Energy': \"BP is committed to the energy transition, investing in natural gas, renewables, and energy efficiency technologies. The report highlights BP's operations in biofuels, wind energy, and solar energy through its partnership with Lightsource BP. BP's Advancing Low Carbon program includes investments in new low carbon businesses, products, and services.\",\n",
       "    'SDG 8: Decent Work and Economic Growth': \"BP's global operations generate significant employment and economic activity. The company emphasizes responsible operating practices, including human rights and fair treatment of employees and contractors. BP's contributions to local economies include job creation, local procurement, and tax payments.\",\n",
       "    'SDG 9: Industry, Innovation, and Infrastructure': 'BP invests in technological innovations to enhance operational efficiency and environmental performance. The report mentions advancements in gas and renewable energy projects and support for start-ups through ventures like BP Ventures.',\n",
       "    'SDG 10: Reduced Inequality': 'BP addresses economic impacts and supports local communities, especially in regions dependent on oil and gas revenues. The company has initiatives to support labor rights and reduce inequalities within its operations and supply chains.',\n",
       "    'SDG 11: Sustainable Cities and Communities': \"Mentioned: BP's sustainability efforts include promoting low carbon urban solutions and supporting initiatives for sustainable cities through energy efficiency and innovative technologies.\",\n",
       "    'SDG 12: Responsible Consumption and Production': \"BP focuses on improving energy efficiency and reducing waste. The report includes data on environmental performance metrics, such as greenhouse gas emissions and oil spill volumes. BP's Advancing Low Carbon program highlights initiatives to reduce the carbon footprint of its products and operations.\",\n",
       "    'SDG 13: Climate Action': \"BP supports carbon pricing and policies to encourage lower-carbon energy solutions. The company participates in initiatives like the Oil and Gas Climate Initiative and the Climate and Clean Air Coalition. The report details BP's actions to reduce greenhouse gas emissions, enhance energy efficiency, and invest in renewable energy sources.\",\n",
       "    'SDG 14: Life Below Water': 'BP outlines its strategies for oil spill response and efforts to protect marine environments. The report includes measures taken to mitigate the impact of offshore drilling and projects to reduce flaring and methane emissions.',\n",
       "    'SDG 15: Life on Land': 'BP discusses its biodiversity and land use policies, highlighting efforts to minimize ecological impacts and support conservation projects. Specific initiatives include protecting sensitive areas and improving land management practices.',\n",
       "    'SDG 16: Peace, Justice, and Strong Institutions': 'BP commits to ethical business practices, anti-corruption measures, and transparency. The report includes information on compliance with international human rights standards and engagement with stakeholders. The company enforces a zero-tolerance policy towards bribery and facilitation payments.',\n",
       "    'SDG 17: Partnerships for the Goals': 'BP collaborates with governments, industry peers, and non-governmental organizations to address global challenges, including climate change and sustainable development. The company participates in various international initiatives and partnerships to promote sustainability and responsible business practices.'},\n",
       "   '04_energeans': {'SDG 3: Good Health and Well-being': 'Summary:',\n",
       "    'SDG 4: Quality Education': 'Summary:',\n",
       "    'SDG 5: Gender Equality': 'Summary:',\n",
       "    'SDG 6: Clean Water and Sanitation': 'Summary:',\n",
       "    'SDG 7: Affordable and Clean Energy': 'Summary:',\n",
       "    'SDG 8: Decent Work and Economic Growth': 'Summary:',\n",
       "    'SDG 9: Industry, Innovation, and Infrastructure': 'Summary:',\n",
       "    'SDG 10: Reduced Inequality': 'Summary:',\n",
       "    'SDG 11: Sustainable Cities and Communities': 'Summary:',\n",
       "    'SDG 12: Responsible Consumption and Production': 'Summary:',\n",
       "    'SDG 13: Climate Action': 'Summary:',\n",
       "    'SDG 14: Life Below Water': 'Summary:',\n",
       "    'SDG 15: Life on Land': 'Summary:',\n",
       "    'SDG 16: Peace, Justice, and Strong Institutions': 'Summary:',\n",
       "    'SDG 17: Partnerships for the Goals': 'Summary:'},\n",
       "   '06_LSE_WG': {'SDG 3: Good Health and Well-being': 'Summary:',\n",
       "    'SDG 4: Quality Education': 'Summary:',\n",
       "    'SDG 5: Gender Equality': 'Summary:',\n",
       "    'SDG 7: Affordable and Clean Energy': 'Summary:',\n",
       "    'SDG 8: Decent Work and Economic Growth': 'Summary:',\n",
       "    'SDG 9: Industry, Innovation, and Infrastructure': 'Summary:',\n",
       "    'SDG 10: Reduced Inequality': 'Summary:',\n",
       "    'SDG 12: Responsible Consumption and Production': 'Summary:',\n",
       "    'SDG 13: Climate Action': 'Summary:',\n",
       "    'SDG 15: Life on Land': 'Summary:',\n",
       "    'SDG 16: Peace, Justice, and Strong Institutions': 'Summary:',\n",
       "    'SDG 17: Partnerships for the Goals': 'Summary:'},\n",
       "   '07_SERICA_ENERGY_PLC': {'SDG 1: No Poverty': 'Summary:',\n",
       "    'SDG 2: Zero Hunger': 'Summary:',\n",
       "    'SDG 3: Good Health and Well-being': 'Summary:',\n",
       "    'SDG 4: Quality Education': 'Summary:',\n",
       "    'SDG 5: Gender Equality': 'Summary:',\n",
       "    'SDG 7: Affordable and Clean Energy': 'Summary:',\n",
       "    'SDG 8: Decent Work and Economic Growth': 'Summary:',\n",
       "    'SDG 9: Industry, Innovation, and Infrastructure': 'Summary:',\n",
       "    'SDG 10: Reduced Inequality': 'Summary:',\n",
       "    'SDG 12: Responsible Consumption and Production': 'Summary:',\n",
       "    'SDG 13: Climate Action': 'Summary:',\n",
       "    'SDG 14: Life Below Water': 'Summary:',\n",
       "    'SDG 15: Life on Land': 'Summary:',\n",
       "    'SDG 16: Peace, Justice, and Strong Institutions': 'Summary:',\n",
       "    'SDG 17: Partnerships for the Goals': 'Summary:'},\n",
       "   '10_DIVERSIFIED_ENERGY_COMPANY_PLC': {'SDG 1: No Poverty': 'Summary:',\n",
       "    'SDG 3: Good Health and Well-being': 'Summary:',\n",
       "    'SDG 4: Quality Education': 'Summary:',\n",
       "    'SDG 5: Gender Equality': 'Summary:',\n",
       "    'SDG 6: Clean Water and Sanitation': 'Summary:',\n",
       "    'SDG 7: Affordable and Clean Energy': 'Summary:',\n",
       "    'SDG 8: Decent Work and Economic Growth': 'Summary:',\n",
       "    'SDG 9: Industry, Innovation, and Infrastructure': 'Summary:',\n",
       "    'SDG 10: Reduced Inequality': 'Summary:',\n",
       "    'SDG 11: Sustainable Cities and Communities': 'Summary:',\n",
       "    'SDG 12: Responsible Consumption and Production': 'Summary:',\n",
       "    'SDG 13: Climate Action': 'Summary:',\n",
       "    'SDG 14: Life Below Water': 'Summary:',\n",
       "    'SDG 15: Life on Land': 'Summary:',\n",
       "    'SDG 16: Peace, Justice, and Strong Institutions': 'Summary:',\n",
       "    'SDG 17: Partnerships for the Goals': 'Summary:'}},\n",
       "  'Utilities': {'02_SSE_PLC': {'SDG 1: No Poverty': 'Living Wage Commitment: SSE is committed to paying the Living Wage and extending this to its supply chain, aiming to reduce in-work poverty and promote economic stability for employees.',\n",
       "    'SDG 3: Good Health and Well-being': 'Health and Safety: SSE focuses on maintaining high health and safety standards. They have a target to reduce the Total Recordable Injury Rate (TRIR) and provide mental health support for employees.',\n",
       "    'SDG 4: Quality Education': 'Skills Development: SSE invests in training and development, offering apprenticeships and trainee programs to build a skilled workforce for the future.',\n",
       "    'SDG 5: Gender Equality': 'Diversity and Inclusion: SSE promotes gender equality and works to close the gender pay gap. They are committed to the \"In, On and Up\" strategy to encourage more women to join, stay, and progress within the company.',\n",
       "    'SDG 6: Clean Water and Sanitation': 'Water Management: SSE manages its water usage responsibly, reducing water consumption and ensuring sustainable practices.',\n",
       "    'SDG 7: Affordable and Clean Energy': 'Renewable Energy Investment: SSE is a leading generator of renewable energy in the UK and Ireland, with significant investments in wind and hydroelectric power. They aim to increase renewable energy output to 30 TWh by 2030.',\n",
       "    'SDG 8: Decent Work and Economic Growth': 'Economic Contribution: SSE contributes significantly to the UK and Irish economies, supporting over 100,000 jobs. They focus on creating sustainable careers, paying fair wages, and promoting economic growth.',\n",
       "    'SDG 9: Industry, Innovation, and Infrastructure': 'Infrastructure Investment: SSE invests in developing and maintaining energy infrastructure, focusing on renewable energy and electricity networks to support a low-carbon transition.',\n",
       "    'SDG 10: Reduced Inequality': 'Inclusive Practices: SSE’s strategies aim to reduce inequality through fair pay, diverse hiring practices, and support for vulnerable customers and communities.',\n",
       "    'SDG 11: Sustainable Cities and Communities': 'Community Support: SSE invests in community development projects and supports initiatives that promote sustainable living and energy efficiency.',\n",
       "    'SDG 12: Responsible Consumption and Production': 'Sustainable Practices: SSE is committed to reducing waste and promoting efficient use of resources. They invest in technologies and practices that enhance sustainability across their operations.',\n",
       "    'SDG 13: Climate Action': 'GHG Emissions Reduction: SSE aims to reduce the carbon intensity of its electricity generation by 50% by 2030, compared to 2018 levels, targeting around 150 gCO2e/kWh. They support the transition to a low-carbon economy through significant investments in renewable energy and advocating for strong carbon pricing.',\n",
       "    'SDG 15: Life on Land': 'Biodiversity and Land Use: SSE actively manages its environmental impact, focusing on enhancing biodiversity and managing natural habitats through responsible practices.',\n",
       "    'SDG 16: Peace, Justice, and Strong Institutions': 'Ethical Conduct: SSE maintains high ethical standards, transparency, and compliance with legal and regulatory requirements. They have clear policies on human rights, anti-corruption, and business ethics.',\n",
       "    'SDG 17: Partnerships for the Goals': 'Stakeholder Engagement: SSE collaborates with various stakeholders, including governments, regulators, NGOs, and communities, to advance the SDGs and promote sustainable development. They are committed to transparency and active participation in global sustainability initiatives.'},\n",
       "   '05_CENTRICA_PLC': {'SDG 3: Good Health and Well-being': 'The document discusses customer safety incidents and employee workplace safety, including metrics like the total recordable injury frequency rate (TRIFR) and lost time injury frequency rate (LTIFR), indicating a focus on health and safety improvements.',\n",
       "    'SDG 4: Quality Education': 'It outlines ambitions to inspire and develop 100,000 people with essential STEM skills and attract more women into STEM fields, showing a commitment to education and skills development.',\n",
       "    'SDG 5: Gender Equality': 'The document addresses gender equality by reporting the percentage of female employees and senior managers, the gender pay gap, and gender bonus gap. It also mentions efforts to attract more women into STEM fields and to ensure senior leadership reflects diversity.',\n",
       "    'SDG 7: Affordable and Clean Energy': 'The document emphasizes commitments to reducing carbon emissions and increasing customer carbon savings through various measures, aligning with the goal of promoting affordable and clean energy. It mentions a goal to be net zero by 2050 and interim targets for 2025.',\n",
       "    'SDG 8: Decent Work and Economic Growth': 'Metrics related to employee engagement, retention, and absence rates are included. The document also focuses on creating an inclusive workplace and empowering employees with future skills.',\n",
       "    'SDG 10: Reduced Inequality': 'The document mentions initiatives to support ethnic diversity within the workforce and help customers in vulnerable circumstances.',\n",
       "    'SDG 12: Responsible Consumption and Production': 'Efforts to improve the sustainability risk ratings of suppliers and increase ethical site inspections for higher-risk suppliers are discussed, indicating a focus on responsible production practices.',\n",
       "    'SDG 13: Climate Action': 'Detailed metrics on total carbon emissions, scope 1, 2, and 3 emissions, and carbon intensity by revenue are provided. The document highlights the company’s targets and achievements in reducing emissions and supporting customers in reducing their carbon footprint.',\n",
       "    'SDG 16: Peace, Justice, and Strong Institutions': \"The document includes the percentage of employees committed to upholding the company's code of conduct, reflecting efforts towards maintaining strong ethical standards and integrity.\",\n",
       "    'SDG 17: Partnerships for the Goals': 'The document mentions the engagement with PricewaterhouseCoopers LLP for assurance on non-financial KPIs, indicating a partnership approach to ensure transparency and accountability in reporting.'},\n",
       "   '08_RENEWI_PLC': {'SDG 3: Good Health and Well-being': \"The report emphasizes the company's commitment to health and safety, detailing significant improvements in safety culture, accident rates, and the implementation of the Safety Culture Initiative. They highlight a 7% improvement in accident rates and a 64% increase in near-miss reporting, demonstrating a proactive approach to workplace safety and employee well-being.\",\n",
       "    'SDG 6: Clean Water and Sanitation': \"The document details the company's efforts in environmental stewardship, including wastewater management and improving water quality. Initiatives like the Abstraction Incentive Mechanism (AIM) are highlighted to protect groundwater sources, and efforts to enhance bathing water quality are noted, supporting the development of leisure and tourism industries in the region.\",\n",
       "    'SDG 8: Decent Work and Economic Growth': \"The report outlines the company's focus on employee safety, retention, and development. The Safety Culture Initiative aims to improve workplace safety and reduce accidents, contributing to decent work conditions. The efforts in increasing employee engagement and maintaining a strong safety record also support economic growth by ensuring a healthy, capable workforce.\",\n",
       "    'SDG 9: Industry, Innovation, and Infrastructure': \"The document mentions the company's commitment to innovation, particularly in their approach to safety and environmental management. The implementation of new safety standards and proactive measures in wastewater management reflect their innovative strategies in maintaining robust infrastructure.\",\n",
       "    'SDG 11: Sustainable Cities and Communities': 'The report discusses the company’s role in maintaining and improving water quality and wastewater services, which are critical for sustainable urban living. Initiatives like enhancing bathing water quality and managing groundwater abstractions help in creating more sustainable and resilient communities.',\n",
       "    'SDG 12: Responsible Consumption and Production': \"The company's focus on waste management, particularly in recycling hazardous materials like asbestos-contaminated steel, underscores their commitment to responsible consumption and production. This initiative reduces waste and promotes the reuse of materials in the steel industry.\",\n",
       "    'SDG 14: Life Below Water': \"Efforts to improve coastal water quality and bathing water standards directly impact marine environments. The company's initiatives to enhance water quality at designated beaches support healthier marine ecosystems and promote biodiversity.\",\n",
       "    'SDG 17: Partnerships for the Goals': 'The report highlights partnerships with various stakeholders, including collaborations with social housing providers and carer organizations. These partnerships aim to enhance the accessibility and effectiveness of their support programs, demonstrating a commitment to working collaboratively towards shared goals.'},\n",
       "   '10_GOOD_ENERGY_GROUP_PLC': {'SDG 3: Good Health and Well-being': 'The document mentions health initiatives such as providing access to mental health first aiders and mental health awareness training for employees. It also describes the benefits of their India biogas project which improves health by reducing exposure to smoke from household cooking with solid fuel.',\n",
       "    'SDG 4: Quality Education': 'Good Energy engages with schools and universities to promote education on climate change and renewable energy. They offer talks and workshops for students and collaborate with the STEMettes to encourage girls to pursue careers in STEM fields.',\n",
       "    'SDG 5: Gender Equality': 'The document addresses gender equality by reporting on their gender pay gap and efforts to close it. They have an overall workforce composition of 52% women and are working towards balanced gender representation in middle and senior management roles. The collaboration with STEMettes to promote women in STEM is also highlighted.',\n",
       "    'SDG 7: Affordable and Clean Energy': 'Good Energy’s core mission is to provide 100% renewable electricity. They support households and businesses in generating their own renewable power and offer carbon neutral gas tariffs. They also invest in biogas projects in India, China, and Turkey.',\n",
       "    'SDG 8: Decent Work and Economic Growth': 'The company supports local communities by creating job opportunities, particularly through their renewable energy projects. They also promote fair pay and support the Real Living Wage Foundation.',\n",
       "    'SDG 9: Industry, Innovation, and Infrastructure': 'Good Energy invests in innovative technologies such as smart meters, vehicle-to-grid (V2G) technology, and electric vehicle (EV) charging infrastructure. They have developed Zap-Map, an EV charging platform, and One Point, a service supporting businesses in offering EV charging.',\n",
       "    'SDG 11: Sustainable Cities and Communities': 'Good Energy’s initiatives contribute to sustainable cities by promoting renewable energy adoption and supporting community projects through their wind and solar park community funds.',\n",
       "    'SDG 12: Responsible Consumption and Production': 'The company emphasizes ethical and sustainable procurement, including sourcing coffee that supports rainforest conservation. They also aim to reduce their own environmental impact through measures like the Green Travel Allowance.',\n",
       "    'SDG 13: Climate Action': 'Climate action is at the core of Good Energy’s mission. They work to accelerate climate action through lobbying, public petitions, and providing 100% renewable energy. They are involved in international climate conferences such as COP25.',\n",
       "    'SDG 15: Life on Land': 'Good Energy’s renewable energy sites incorporate biodiversity considerations, such as wildflower meadows, bird and bat boxes, and community projects that support local ecosystems.',\n",
       "    'SDG 17: Partnerships for the Goals': 'Good Energy collaborates with various organizations, including BAFTA’s Albert Consortium, to promote sustainability in different sectors. They are also a founding member of the UK Stakeholders for Sustainable Development, working to advance the SDGs in the UK.'}}},\n",
       " 2020: {'Energy': {'01_shell': {'SDG 3: Good Health and Well-being': 'Shell’s 2020 report emphasizes its ongoing commitment to health and safety. The report highlights continuous improvements in safety performance, though it acknowledges incidents and fatalities. Shell remains dedicated to enhancing safety standards and mitigating health risks for employees and surrounding communities.',\n",
       "    'SDG 4: Quality Education': \"The report underscores Shell's involvement in community engagement, particularly through educational programs. Shell continues to invest in local education by funding schools and providing scholarships to improve access to quality education in the communities where it operates.\",\n",
       "    'SDG 5: Gender Equality': 'Shell’s report outlines its efforts to foster diversity and inclusion within the company. It emphasizes increasing female representation in the workforce and leadership roles, and it describes policies aimed at promoting gender equality and empowering women.',\n",
       "    'SDG 6: Clean Water and Sanitation': \"The report discusses Shell's responsible management of water resources. This includes initiatives to reduce water usage and prevent contamination through better operational practices and spill prevention measures.\",\n",
       "    'SDG 7: Affordable and Clean Energy': 'Shell is actively engaged in the transition to a lower-carbon future. The report details investments in renewable energy sources such as wind and solar power, as well as cleaner energy solutions like natural gas and biofuels. Shell is also developing carbon capture and storage technologies to reduce greenhouse gas emissions.',\n",
       "    'SDG 8: Decent Work and Economic Growth': 'Shell emphasizes its commitment to providing safe and decent working conditions, fostering economic growth, and supporting local economies. This is achieved through job creation, local procurement, and investments in community development projects.',\n",
       "    'SDG 9: Industry, Innovation, and Infrastructure': 'Shell continues to invest in research and development to drive innovation in the energy sector. The report highlights projects aimed at improving infrastructure and deploying new technologies to enhance energy efficiency and sustainability.',\n",
       "    'SDG 11: Sustainable Cities and Communities': 'Shell supports sustainable urban development by investing in cleaner energy solutions and infrastructure projects that enhance urban quality of life. The report highlights initiatives that improve energy efficiency and reduce the environmental impact of cities.',\n",
       "    'SDG 12: Responsible Consumption and Production': 'The report outlines Shell’s efforts to promote responsible consumption and production. This includes reducing flaring, managing waste effectively, and implementing practices that support sustainable production and consumption patterns.',\n",
       "    'SDG 13: Climate Action': \"Climate action remains a central focus. Shell supports the goals of the Paris Agreement and is committed to reducing its carbon footprint. The report details Shell's initiatives in carbon capture and storage, renewable energy, and promoting natural gas as a cleaner alternative to coal.\",\n",
       "    'SDG 15: Life on Land': 'Shell’s environmental management includes protecting biodiversity and land resources. The report discusses initiatives aimed at habitat restoration and reducing the environmental impact of operations on land ecosystems.',\n",
       "    'SDG 16: Peace, Justice, and Strong Institutions': \"The report emphasizes Shell's dedication to ethical business practices, transparency, and robust governance. Shell supports strong institutions by adhering to high standards of corporate governance and maintaining transparent reporting practices.\",\n",
       "    'SDG 17: Partnerships for the Goals': 'Shell collaborates with a wide range of stakeholders, including governments, NGOs, and other companies, to achieve sustainability goals. The report highlights partnerships aimed at advancing the energy transition and addressing global challenges such as climate change.'},\n",
       "   '02_BP': {'SDG 3: Good Health and Well-being': 'Summary:',\n",
       "    'SDG 6: Clean Water and Sanitation': 'Summary:',\n",
       "    'SDG 7: Affordable and Clean Energy': 'Summary:',\n",
       "    'SDG 8: Decent Work and Economic Growth': 'Summary:',\n",
       "    'SDG 9: Industry, Innovation, and Infrastructure': 'Summary:',\n",
       "    'SDG 10: Reduced Inequality': 'Summary:',\n",
       "    'SDG 11: Sustainable Cities and Communities': 'Summary:',\n",
       "    'SDG 12: Responsible Consumption and Production': 'Summary:',\n",
       "    'SDG 13: Climate Action': 'Summary:',\n",
       "    'SDG 15: Life on Land': 'Summary:',\n",
       "    'SDG 16: Peace, Justice, and Strong Institutions': 'Summary:',\n",
       "    'SDG 17: Partnerships for the Goals': 'Summary:'},\n",
       "   '04_energeans': {'SDG 3: Good Health and Well-being': 'Summary:',\n",
       "    'SDG 5: Gender Equality': 'Summary:',\n",
       "    'SDG 6: Clean Water and Sanitation': 'Summary:',\n",
       "    'SDG 7: Affordable and Clean Energy': 'Summary:',\n",
       "    'SDG 8: Decent Work and Economic Growth': 'Summary:',\n",
       "    'SDG 9: Industry, Innovation, and Infrastructure': 'Summary:',\n",
       "    'SDG 10: Reduced Inequality': 'Summary:',\n",
       "    'SDG 11: Sustainable Cities and Communities': 'Summary:',\n",
       "    'SDG 12: Responsible Consumption and Production': 'Summary:',\n",
       "    'SDG 13: Climate Action': 'Summary:',\n",
       "    'SDG 14: Life Below Water': 'Summary:',\n",
       "    'SDG 15: Life on Land': 'Summary:',\n",
       "    'SDG 16: Peace, Justice, and Strong Institutions': 'Summary:',\n",
       "    'SDG 17: Partnerships for the Goals': 'Summary:'},\n",
       "   '06_LSE_WG': {'SDG 3: Good Health and Well-being': 'Summary:',\n",
       "    'SDG 4: Quality Education': 'Summary:',\n",
       "    'SDG 5: Gender Equality': 'Summary:',\n",
       "    'SDG 7: Affordable and Clean Energy': 'Summary:',\n",
       "    'SDG 8: Decent Work and Economic Growth': 'Summary:',\n",
       "    'SDG 9: Industry, Innovation, and Infrastructure': 'Summary:',\n",
       "    'SDG 10: Reduced Inequality': 'Summary:',\n",
       "    'SDG 12: Responsible Consumption and Production': 'Summary:',\n",
       "    'SDG 13: Climate Action': 'Summary:',\n",
       "    'SDG 15: Life on Land': 'Summary:',\n",
       "    'SDG 16: Peace, Justice, and Strong Institutions': 'Summary:',\n",
       "    'SDG 17: Partnerships for the Goals': 'Summary:'},\n",
       "   '07_SERICA_ENERGY_PLC': {'SDG 1: No Poverty': 'Summary:',\n",
       "    'SDG 2: Zero Hunger': 'Summary:',\n",
       "    'SDG 3: Good Health and Well-being': 'Summary:',\n",
       "    'SDG 4: Quality Education': 'Summary:',\n",
       "    'SDG 5: Gender Equality': 'Summary:',\n",
       "    'SDG 7: Affordable and Clean Energy': 'Summary:',\n",
       "    'SDG 8: Decent Work and Economic Growth': 'Summary:',\n",
       "    'SDG 9: Industry, Innovation, and Infrastructure': 'Summary:',\n",
       "    'SDG 10: Reduced Inequality': 'Summary:',\n",
       "    'SDG 12: Responsible Consumption and Production': 'Summary:',\n",
       "    'SDG 13: Climate Action': 'Summary:',\n",
       "    'SDG 14: Life Below Water': 'Summary:',\n",
       "    'SDG 15: Life on Land': 'Summary:',\n",
       "    'SDG 16: Peace, Justice, and Strong Institutions': 'Summary:',\n",
       "    'SDG 17: Partnerships for the Goals': 'Summary:'},\n",
       "   '10_DIVERSIFIED_ENERGY_COMPANY_PLC': {'SDG 1: No Poverty': 'Summary:',\n",
       "    'SDG 3: Good Health and Well-being': 'Summary:',\n",
       "    'SDG 4: Quality Education': 'Summary:',\n",
       "    'SDG 5: Gender Equality': 'Summary:',\n",
       "    'SDG 6: Clean Water and Sanitation': 'Summary:',\n",
       "    'SDG 7: Affordable and Clean Energy': 'Summary:',\n",
       "    'SDG 8: Decent Work and Economic Growth': 'Summary:',\n",
       "    'SDG 9: Industry, Innovation, and Infrastructure': 'Summary:',\n",
       "    'SDG 10: Reduced Inequality': 'Summary:',\n",
       "    'SDG 11: Sustainable Cities and Communities': 'Summary:',\n",
       "    'SDG 12: Responsible Consumption and Production': 'Summary:',\n",
       "    'SDG 13: Climate Action': 'Summary:',\n",
       "    'SDG 14: Life Below Water': 'Summary:',\n",
       "    'SDG 15: Life on Land': 'Summary:',\n",
       "    'SDG 16: Peace, Justice, and Strong Institutions': 'Summary:',\n",
       "    'SDG 17: Partnerships for the Goals': 'Summary:'}},\n",
       "  'Utilities': {'01_NATIONAL_GRID_PLC': {'SDG 3: Good Health and Well-being': 'Employee Health and Safety: The health, safety, and wellbeing of colleagues remain a top priority. The company has improved its lost time injury frequency rate but regrets the fatality of a contractor in the US. Initiatives include safety programs and support for employees during the COVID-19 pandemic.',\n",
       "    'SDG 4: Quality Education': 'Skills Development: National Grid launched the Grid for Good program to help disadvantaged young people build skills related to the clean energy transition and improve employability. Over 1,200 people are involved, and colleagues have donated over 6,200 hours of their time.',\n",
       "    'SDG 5: Gender Equality': 'Diversity and Inclusion: The company focuses on improving diversity and inclusion within the organization. Initiatives include appointing a Chief Diversity Officer and implementing unconscious bias training. The diversity of the Board has improved to 38.5%.',\n",
       "    'SDG 7: Affordable and Clean Energy': 'Energy Infrastructure and Clean Energy: National Grid is committed to supporting the clean energy transition through investments in energy infrastructure, connecting renewables, and modernizing the grid. Initiatives include developing interconnectors and renewable energy projects like wind farms and solar projects.',\n",
       "    'SDG 8: Decent Work and Economic Growth': 'Economic Growth and Employment: National Grid invests approximately £5 billion annually in energy infrastructure and fosters innovation through internal projects and investments in start-ups. They also support supplier diversity and prompt payment practices.',\n",
       "    'SDG 9: Industry, Innovation, and Infrastructure': 'Innovation and Infrastructure: National Grid invests in building and maintaining resilient energy networks. Projects include developing interconnectors and renewable energy initiatives. The company supports innovation through the Deeside Centre for Innovation and investments in technologies like carbon capture and hydrogen blending.',\n",
       "    'SDG 10: Reduced Inequality': 'Inclusive Employment: National Grid’s Grid for Good program helps young people from disadvantaged backgrounds develop skills for employment in the clean energy sector. The company also focuses on fair pay and opportunity within the organization.',\n",
       "    'SDG 11: Sustainable Cities and Communities': 'Community Support and Resilience: National Grid ensures network reliability and resilience, supports energy efficiency programs, and helps disadvantaged communities through initiatives like energy efficiency support and connecting the unconnected to gas supplies.',\n",
       "    'SDG 12: Responsible Consumption and Production': 'Sustainable Practices: National Grid engages with suppliers on decarbonization and aims for 75% of top suppliers to have active emission reduction targets by 2030. They also focus on reducing emissions and energy consumption within their operations.',\n",
       "    'SDG 13: Climate Action': 'GHG Emissions Reduction: National Grid commits to achieving Net Zero by 2050, with interim targets to reduce Scope 1 and 2 emissions by 80% by 2030 and 90% by 2040. The company also aims to reduce Scope 3 emissions by 37.5% by 2034. Initiatives include renewable energy projects, energy efficiency programs, and investments in carbon capture technologies.',\n",
       "    'SDG 15: Life on Land': 'Biodiversity and Land Use: National Grid commits to improving the environmental value of their non-operational land by at least 10% by 2030. They engage in biodiversity enhancement projects and manage land to improve natural habitats.',\n",
       "    'SDG 16: Peace, Justice, and Strong Institutions': 'Ethical Conduct and Transparency: National Grid maintains high ethical standards and transparency in reporting. The company promotes ethical behavior through updated codes of ethics and ensures compliance with legal and ethical guidelines.',\n",
       "    'SDG 17: Partnerships for the Goals': 'Stakeholder Engagement: National Grid collaborates with stakeholders at local, national, and international levels to advance the energy transition and support the SDGs. They engage in partnerships to share knowledge and drive collective action towards a sustainable future.'},\n",
       "   '02_SSE_PLC': {'SDG 1: No Poverty': 'Living Wage Commitment: SSE is committed to paying the Living Wage to all its employees in the UK and Ireland and has been a Living Wage accredited employer since 2013. They extend this commitment to their supply chain, aiming to reduce in-work poverty and promote economic stability.',\n",
       "    'SDG 3: Good Health and Well-being': 'Health and Safety: SSE prioritizes health, safety, and wellbeing. Initiatives include mental health support and extensive safety training. The company has set a goal to significantly reduce its Total Recordable Injury Rate (TRIR).',\n",
       "    'SDG 4: Quality Education': 'Skills Development: SSE invests in training and development, offering apprenticeships and career development programs to build a skilled workforce.',\n",
       "    'SDG 5: Gender Equality': 'Diversity and Inclusion: SSE promotes gender equality and is committed to reducing the gender pay gap. They have implemented various programs to support women in the workforce and leadership roles.',\n",
       "    'SDG 6: Clean Water and Sanitation': 'Water Management: SSE manages its water usage responsibly, ensuring sustainable practices in their operations.',\n",
       "    'SDG 7: Affordable and Clean Energy': 'Renewable Energy Investment: SSE is a leading generator of renewable energy in the UK and Ireland, with significant investments in wind, hydroelectric power, and other renewable sources. They aim to increase renewable energy output to 30 TWh by 2030.',\n",
       "    'SDG 8: Decent Work and Economic Growth': 'Economic Contribution: SSE contributes significantly to the UK and Irish economies, supporting over 100,000 jobs. They focus on creating sustainable careers, paying fair wages, and promoting economic growth.',\n",
       "    'SDG 9: Industry, Innovation, and Infrastructure': 'Infrastructure Investment: SSE invests heavily in developing and maintaining energy infrastructure, focusing on renewable energy and electricity networks to support a low-carbon transition.',\n",
       "    'SDG 10: Reduced Inequality': 'Inclusive Practices: SSE’s Inclusion Strategy promotes equality and reduces inequality within the company. They support vulnerable customers and communities through various initiatives and ensure fair pay practices.',\n",
       "    'SDG 11: Sustainable Cities and Communities': 'Community Support: SSE invests in community development projects and supports initiatives that promote sustainable living and energy efficiency.',\n",
       "    'SDG 12: Responsible Consumption and Production': 'Sustainable Practices: SSE focuses on reducing waste and promoting efficient use of resources. They invest in technologies and practices that enhance sustainability across their operations.',\n",
       "    'SDG 13: Climate Action': 'GHG Emissions Reduction: SSE aims to reduce the carbon intensity of its electricity generation by 60% by 2030, targeting around 120 gCO2e/kWh. They support the transition to a low-carbon economy through significant investments in renewable energy and advocating for strong carbon pricing.',\n",
       "    'SDG 15: Life on Land': 'Biodiversity and Land Use: SSE actively manages its environmental impact, focusing on enhancing biodiversity and managing natural habitats through responsible practices.',\n",
       "    'SDG 16: Peace, Justice, and Strong Institutions': 'Ethical Conduct: SSE maintains high ethical standards, transparency, and compliance with legal and regulatory requirements. They have clear policies on human rights, anti-corruption, and business ethics.',\n",
       "    'SDG 17: Partnerships for the Goals': 'Stakeholder Engagement: SSE collaborates with various stakeholders, including governments, regulators, NGOs, and communities, to advance the SDGs and promote sustainable development. They are committed to transparency and active participation in global sustainability initiatives.'},\n",
       "   '03_SEVERN_TRENT_PLC': {'SDG 1: No Poverty': 'The report addresses the issue of water poverty by committing to eradicate it by 2030, ensuring no customer pays more than 5% of their disposable income on water bills. They provide financial support and advice to around 70,000 customers and aim to support 195,000 customers annually by 2025. The Severn Trent Trust Fund, which has donated over £60 million to date, plays a significant role in this effort.',\n",
       "    'SDG 3: Good Health and Well-being': 'Severn Trent is committed to supporting good health and well-being through clean water initiatives and contributing to the World Water Innovation Fund, which benefits millions of people globally, many in less developed parts of the world.',\n",
       "    'SDG 4: Quality Education': 'The company offers graduate and apprenticeship schemes and has established a new Training Academy in the Midlands. They aim to educate 500,000 school children on water usage and healthy hydration over the next five years.',\n",
       "    'SDG 5: Gender Equality': 'Severn Trent promotes gender equality by actively supporting women in leadership roles and has ranked third in the FTSE100 for gender balance. They also empower women globally through fundraising efforts for WaterAid in Bangladesh.',\n",
       "    'SDG 6: Clean Water and Sanitation': 'Severn Trent ensures sustainable management of water and sanitation by providing these services to millions of households and businesses. They support WaterAid to enhance global access to clean water and sanitation and are involved in innovative solutions to improve water quality and efficiency.',\n",
       "    'SDG 7: Affordable and Clean Energy': 'The company is a UK leader in anaerobic digestion and aims to achieve 100% renewable energy usage by 2030. They have already achieved 51% self-generation of their energy needs and purchase the remainder from renewable sources.',\n",
       "    'SDG 8: Decent Work and Economic Growth': 'Severn Trent takes a zero-tolerance approach to modern slavery and is committed to providing a fair, inclusive, and safe workplace. They aim to reduce pollution by 50% by 2025 and have invested significantly in training and development for their workforce.',\n",
       "    'SDG 9: Industry, Innovation, and Infrastructure': \"The company is involved in developing resilient infrastructure, such as the Birmingham Resilience Programme and large-scale technology trials at their Resource Recovery and Innovation centre. They are also investing in solutions to secure the UK's water sources long-term.\",\n",
       "    'SDG 10: Reduced Inequality': 'Severn Trent supports customers in need and recruits from social mobility cold spots. They emphasize diversity and inclusion across their business and contribute to global initiatives like the World Water Innovation Fund.',\n",
       "    'SDG 11: Sustainable Cities and Communities': 'Severn Trent is committed to creating green spaces in urban areas and achieving 100% electric vehicle usage by 2030, contributing to sustainable and resilient cities and communities.',\n",
       "    'SDG 12: Responsible Consumption and Production': 'The company adopts sustainable practices within their supply chain and has a long-term plan to balance water supply and demand, addressing population growth and climate change impacts.',\n",
       "    'SDG 13: Climate Action': 'Severn Trent has pledged to achieve net zero carbon emissions by 2030 and already uses 100% renewable energy in their operations. They are also adapting to climate change through long-term planning and environmental investments.',\n",
       "    'SDG 15: Life on Land': 'The company aims to improve biodiversity in their region by increasing 5,000 hectares by 2027 and planting 1.3 million trees over the next ten years. They are also involved in catchment management to reduce agricultural pollution.',\n",
       "    'SDG 17: Partnerships for the Goals': 'Severn Trent collaborates with various stakeholders, including local governments, environmental organizations, and business entities, to support the achievement of SDGs in their region. They also contribute to the global water sector through initiatives like the World Water Innovation Fund.'},\n",
       "   '05_CENTRICA_PLC': {'SDG 1: No Poverty': 'Affordability Support: Centrica provided £216 million in mandatory and voluntary contributions to help customers struggling to pay their energy bills. This included support through the UK’s Warm Home Discount Scheme and additional assistance during the COVID-19 pandemic.',\n",
       "    'SDG 3: Good Health and Well-being': 'Employee Well-being: Centrica ensured the safety and well-being of its employees during the COVID-19 pandemic by providing personal protective equipment (PPE) and operating in line with government guidelines. The company also supported mental health through campaigns and the ‘Unmind’ Wellbeing app.',\n",
       "    'SDG 4: Quality Education': 'Educational Programs: Centrica aims to recruit 3,500 apprentices by 2030 and provide career development opportunities for under-represented groups. They repositioned their STEM goals to improve entry into STEM careers for disadvantaged backgrounds.',\n",
       "    'SDG 5: Gender Equality': 'Diversity and Inclusion: Centrica is committed to gender equality, aiming for 30% female representation in senior leadership by 2022 and 47% by 2030. They also focus on increasing representation of ethnic minorities, people with disabilities, LGBTQ+, and ex-service personnel.',\n",
       "    'SDG 7: Affordable and Clean Energy': 'Renewable Energy Initiatives: Centrica supports the transition to renewable energy through various initiatives, including launching a ‘Green Future’ renewable energy tariff and partnering with Volkswagen to deliver electric vehicle charge points. They aim to electrify their fleet by 2025.',\n",
       "    'SDG 8: Decent Work and Economic Growth': 'Fair Work and Safety: Centrica ensures fair wages and safe working conditions, paying at least the Living Wage in the UK. They focus on employee engagement and development, with a commitment to improving the overall work environment.',\n",
       "    'SDG 9: Industry, Innovation, and Infrastructure': 'Infrastructure Investment: Centrica invests in developing low-carbon technologies and infrastructure, such as the Cornwall Local Energy Market trial and the world’s first net-zero industrial cluster in the UK by 2040.',\n",
       "    'SDG 10: Reduced Inequality': 'Supporting Vulnerable Groups: Centrica works to reduce inequalities by supporting customers in need and focusing on diversity and inclusion within its workforce.',\n",
       "    'SDG 11: Sustainable Cities and Communities': 'Community Engagement: Centrica supports community resilience and sustainability through projects like the Trussell Trust partnership, which provided meals to those in need during the pandemic. They also focus on reducing the environmental impact of their operations to support sustainable urban development.',\n",
       "    'SDG 12: Responsible Consumption and Production': 'Sustainable Practices: Centrica promotes responsible consumption and production by reducing waste and managing resources efficiently. They aim for a 35% reduction in their internal carbon footprint by 2025.',\n",
       "    'SDG 13: Climate Action': 'Net Zero Commitment: Centrica aims to be a net-zero business by 2045, with interim targets including a 40% reduction in carbon emissions by 2034. They support customers in reducing their carbon emissions through various green energy solutions.',\n",
       "    'SDG 15: Life on Land': 'Environmental Management: Centrica undertakes initiatives to reduce its environmental impact, including monitoring and reducing water usage and waste generation.',\n",
       "    'SDG 16: Peace, Justice, and Strong Institutions': 'Ethical Governance: Centrica maintains strong governance practices, emphasizing ethical behavior, anti-corruption measures, and respect for human rights. They conduct regular audits and training to uphold these standards.',\n",
       "    'SDG 17: Partnerships for the Goals': 'Stakeholder Collaboration: Centrica collaborates with various stakeholders, including governments, regulators, and NGOs, to advance their sustainability goals and contribute to the broader UN SDG agenda. They are signatories of the Task Force on Climate-related Financial Disclosures (TCFD) and engage in climate action advocacy.'},\n",
       "   '08_RENEWI_PLC': {'SDG 3: Good Health and Well-being': 'The document emphasizes the company’s efforts to ensure the safety and well-being of its employees and the communities it serves. This includes reducing road traffic accidents, handling waste responsibly to avoid health risks, and implementing a comprehensive health and safety program for its 6,550 employees .',\n",
       "    'SDG 6: Clean Water and Sanitation': 'Renewi contributes to clean water and sanitation by treating and cleaning wastewater to make it available again for safe use. The company processes enough water annually to fill over 250 Olympic-sized swimming pools .',\n",
       "    'SDG 7: Affordable and Clean Energy': 'The company focuses on lowering its carbon footprint by using renewable energy and producing green energy on-site. Renewi aims to increase its reliance on renewable energy and improve energy efficiency across its operations .',\n",
       "    'SDG 8: Decent Work and Economic Growth': 'Renewi is committed to creating a rewarding, diverse, and inclusive work environment. The company emphasizes employee safety and well-being, providing opportunities for personal and professional growth. Investments in sustainable practices also contribute to economic growth by creating new markets for recycled products .',\n",
       "    'SDG 9: Industry, Innovation, and Infrastructure': 'The document highlights Renewi’s investments in innovative technologies to transform waste into new products, supporting the circular economy. Projects include recycling mattresses into secondary products, processing contaminated soil into construction materials, and developing nappy recycling plants .',\n",
       "    'SDG 11: Sustainable Cities and Communities': 'Renewi aims to reduce the environmental impact of waste collection in urban areas. By using low-emission vehicles and optimizing collection routes, the company supports cleaner and more sustainable cities .',\n",
       "    'SDG 12: Responsible Consumption and Production': 'Renewi’s business model supports the circular economy by turning waste into valuable raw materials. The company prioritizes recycling over landfill and energy recovery, promoting responsible consumption and production practices .',\n",
       "    'SDG 13: Climate Action': 'The document outlines Renewi’s strategies to mitigate climate change impacts, including reducing carbon emissions through recycling and the use of renewable energy. The company also plays a role in eliminating carbon emissions from supply chains by transforming waste into secondary raw materials .',\n",
       "    'SDG 15: Life on Land': 'Renewi’s initiatives include reforestation projects and the transformation of contaminated soil into reusable materials, which help protect terrestrial ecosystems and promote biodiversity .',\n",
       "    'SDG 17: Partnerships for the Goals': 'Renewi collaborates with various stakeholders, including municipalities, commercial customers, and industry partners, to advance the circular economy. These partnerships help enhance the company’s sustainability impact and drive collective action towards shared goals .'},\n",
       "   '10_GOOD_ENERGY_GROUP_PLC': {'SDG 3: Good Health and Well-being': \"The document highlights Good Energy's response to the COVID-19 pandemic, emphasizing support for employee well-being through flexible working options, mental health support, and wellbeing services. The company also engaged in fundraising activities for the NHS.\",\n",
       "    'SDG 4: Quality Education': 'Good Energy supports education through engagement with local schools and universities, offering talks and workshops about renewable energy and climate change. They collaborated with environmental education charity Eco-Schools for the Good Future Board initiative.',\n",
       "    'SDG 5: Gender Equality': 'The company focuses on diversity and inclusion, tracking workforce ethnicity data and implementing initiatives to improve diversity. The Good Future Board includes a diverse group of young people to provide input on company decisions.',\n",
       "    'SDG 7: Affordable and Clean Energy': \"Good Energy's core mission is providing 100% renewable electricity. They support over 1,600 independent renewable generators and offer carbon-neutral gas with a 10% biogas mix. Their Green Heat tariff and smart EV tariff are designed to promote renewable energy usage.\",\n",
       "    'SDG 8: Decent Work and Economic Growth': 'The company supports local communities through community funds attached to their renewable energy projects, providing financial support for various local initiatives. Good Energy also promotes fair work practices and received an ‘outstanding’ workplace rating from Best Companies.',\n",
       "    'SDG 9: Industry, Innovation, and Infrastructure': \"Good Energy invests in innovative technologies such as heat pumps, smart tariffs, and electric vehicle (EV) infrastructure. Their partnerships with organizations like BAFTA's Albert Consortium and Julie’s Bicycle support sustainability in various industries.\",\n",
       "    'SDG 10: Reduced Inequality': 'The document mentions efforts to improve workplace diversity and inclusion, ensuring fair representation and inclusive development opportunities.',\n",
       "    'SDG 11: Sustainable Cities and Communities': \"Good Energy's renewable energy projects include community funds that support local initiatives, enhancing sustainability and community resilience. Their marketing campaigns promote awareness of renewable energy and sustainability.\",\n",
       "    'SDG 12: Responsible Consumption and Production': 'The company emphasizes responsible consumption by offering carbon-neutral gas and promoting sustainable business practices through partnerships with organizations like Farmdrop and Good Things Brewing.',\n",
       "    'SDG 13: Climate Action': \"Climate action is central to Good Energy's mission. They participate in initiatives like the UN’s Race to Zero campaign and engage in policy advocacy for renewable energy and transparency in the energy market.\",\n",
       "    'SDG 15: Life on Land': 'The document highlights rewilding efforts, such as supporting the campaign to rewild College Green in Bristol following a climate march, which included planting wildflowers and trees to enhance biodiversity.',\n",
       "    'SDG 17: Partnerships for the Goals': \"Good Energy collaborates with various organizations, including Friends of the Earth and the Make My Money Matter campaign, to promote sustainability and climate action. They also work with the creative arts sector through partnerships with BAFTA and Julie's Bicycle.\"}}},\n",
       " 2021: {'Energy': {'01_shell': {'SDG 3: Good Health and Well-being': 'Shell’s 2021 report emphasizes its commitment to health and safety. It highlights ongoing improvements in safety performance, though it acknowledges incidents and fatalities. Shell remains dedicated to enhancing safety standards and mitigating health risks for employees and surrounding communities.',\n",
       "    'SDG 4: Quality Education': \"The report underscores Shell's involvement in community engagement, particularly through educational programs. Shell continues to invest in local education by funding schools and providing scholarships to improve access to quality education in the communities where it operates.\",\n",
       "    'SDG 5: Gender Equality': 'Shell’s report outlines its efforts to foster diversity and inclusion within the company. It emphasizes increasing female representation in the workforce and leadership roles, and it describes policies aimed at promoting gender equality and empowering women.',\n",
       "    'SDG 6: Clean Water and Sanitation': \"The report discusses Shell's responsible management of water resources. This includes initiatives to reduce water usage and prevent contamination through better operational practices and spill prevention measures.\",\n",
       "    'SDG 7: Affordable and Clean Energy': 'Shell is actively engaged in the transition to a lower-carbon future. The report details investments in renewable energy sources such as wind and solar power, as well as cleaner energy solutions like natural gas and biofuels. Shell is also developing carbon capture and storage technologies to reduce greenhouse gas emissions.',\n",
       "    'SDG 8: Decent Work and Economic Growth': 'Shell emphasizes its commitment to providing safe and decent working conditions, fostering economic growth, and supporting local economies. This is achieved through job creation, local procurement, and investments in community development projects.',\n",
       "    'SDG 9: Industry, Innovation, and Infrastructure': 'Shell continues to invest in research and development to drive innovation in the energy sector. The report highlights projects aimed at improving infrastructure and deploying new technologies to enhance energy efficiency and sustainability.',\n",
       "    'SDG 11: Sustainable Cities and Communities': 'Shell supports sustainable urban development by investing in cleaner energy solutions and infrastructure projects that enhance urban quality of life. The report highlights initiatives that improve energy efficiency and reduce the environmental impact of cities.',\n",
       "    'SDG 12: Responsible Consumption and Production': 'The report outlines Shell’s efforts to promote responsible consumption and production. This includes reducing flaring, managing waste effectively, and implementing practices that support sustainable production and consumption patterns.',\n",
       "    'SDG 13: Climate Action': \"Climate action remains a central focus. Shell supports the goals of the Paris Agreement and is committed to reducing its carbon footprint. The report details Shell's initiatives in carbon capture and storage, renewable energy, and promoting natural gas as a cleaner alternative to coal.\",\n",
       "    'SDG 15: Life on Land': 'Shell’s environmental management includes protecting biodiversity and land resources. The report discusses initiatives aimed at habitat restoration and reducing the environmental impact of operations on land ecosystems.',\n",
       "    'SDG 16: Peace, Justice, and Strong Institutions': \"The report emphasizes Shell's dedication to ethical business practices, transparency, and robust governance. Shell supports strong institutions by adhering to high standards of corporate governance and maintaining transparent reporting practices.\",\n",
       "    'SDG 17: Partnerships for the Goals': 'Shell collaborates with a wide range of stakeholders, including governments, NGOs, and other companies, to achieve sustainability goals. The report highlights partnerships aimed at advancing the energy transition and addressing global challenges such as climate change.'},\n",
       "   '02_BP': {'SDG 3: Good Health and Well-being': 'Summary:',\n",
       "    'SDG 4: Quality Education': 'Summary:',\n",
       "    'SDG 6: Clean Water and Sanitation': 'Summary:',\n",
       "    'SDG 7: Affordable and Clean Energy': 'Summary:',\n",
       "    'SDG 8: Decent Work and Economic Growth': 'Summary:',\n",
       "    'SDG 9: Industry, Innovation, and Infrastructure': 'Summary:',\n",
       "    'SDG 10: Reduced Inequality': 'Summary:',\n",
       "    'SDG 11: Sustainable Cities and Communities': 'Summary:',\n",
       "    'SDG 12: Responsible Consumption and Production': 'Summary:',\n",
       "    'SDG 13: Climate Action': 'Summary:',\n",
       "    'SDG 15: Life on Land': 'Summary:',\n",
       "    'SDG 16: Peace, Justice, and Strong Institutions': 'Summary:',\n",
       "    'SDG 17: Partnerships for the Goals': 'Summary:'},\n",
       "   '03_Harbour_Energy_PLC': {'SDG 3: Good Health and Well-being': 'Summary:',\n",
       "    'SDG 5: Gender Equality': 'Summary:',\n",
       "    'SDG 6: Clean Water and Sanitation': 'Summary:',\n",
       "    'SDG 7: Affordable and Clean Energy': 'Summary:',\n",
       "    'SDG 8: Decent Work and Economic Growth': 'Summary:',\n",
       "    'SDG 9: Industry, Innovation, and Infrastructure': 'Summary:',\n",
       "    'SDG 10: Reduced Inequality': 'Summary:',\n",
       "    'SDG 11: Sustainable Cities and Communities': 'Summary:',\n",
       "    'SDG 12: Responsible Consumption and Production': 'Summary:',\n",
       "    'SDG 13: Climate Action': 'Summary:',\n",
       "    'SDG 14: Life Below Water': 'Summary:',\n",
       "    'SDG 15: Life on Land': 'Summary:',\n",
       "    'SDG 16: Peace, Justice, and Strong Institutions': 'Summary:',\n",
       "    'SDG 17: Partnerships for the Goals': 'Summary:'},\n",
       "   '04_energeans': {'SDG 3: Good Health and Well-being': 'Summary:',\n",
       "    'SDG 4: Quality Education': 'Summary:',\n",
       "    'SDG 5: Gender Equality': 'Summary:',\n",
       "    'SDG 6: Clean Water and Sanitation': 'Summary:',\n",
       "    'SDG 7: Affordable and Clean Energy': 'Summary:',\n",
       "    'SDG 8: Decent Work and Economic Growth': 'Summary:',\n",
       "    'SDG 9: Industry, Innovation, and Infrastructure': 'Summary:',\n",
       "    'SDG 10: Reduced Inequality': 'Summary:',\n",
       "    'SDG 11: Sustainable Cities and Communities': 'Summary:',\n",
       "    'SDG 12: Responsible Consumption and Production': 'Summary:',\n",
       "    'SDG 13: Climate Action': 'Summary:',\n",
       "    'SDG 14: Life Below Water': 'Summary:',\n",
       "    'SDG 15: Life on Land': 'Summary:',\n",
       "    'SDG 16: Peace, Justice, and Strong Institutions': 'Summary:',\n",
       "    'SDG 17: Partnerships for the Goals': 'Summary:'},\n",
       "   '06_LSE_WG': {'SDG 3: Good Health and Well-being': 'Summary:',\n",
       "    'SDG 4: Quality Education': 'Summary:',\n",
       "    'SDG 5: Gender Equality': 'Summary:',\n",
       "    'SDG 7: Affordable and Clean Energy': 'Summary:',\n",
       "    'SDG 8: Decent Work and Economic Growth': 'Summary:',\n",
       "    'SDG 9: Industry, Innovation, and Infrastructure': 'Summary:',\n",
       "    'SDG 10: Reduced Inequality': 'Summary:',\n",
       "    'SDG 12: Responsible Consumption and Production': 'Summary:',\n",
       "    'SDG 13: Climate Action': 'Summary:',\n",
       "    'SDG 15: Life on Land': 'Summary:',\n",
       "    'SDG 16: Peace, Justice, and Strong Institutions': 'Summary:',\n",
       "    'SDG 17: Partnerships for the Goals': 'Summary:'},\n",
       "   '07_SERICA_ENERGY_PLC': {'SDG 1: No Poverty': 'Summary:',\n",
       "    'SDG 2: Zero Hunger': 'Summary:',\n",
       "    'SDG 3: Good Health and Well-being': 'Summary:',\n",
       "    'SDG 4: Quality Education': 'Summary:',\n",
       "    'SDG 5: Gender Equality': 'Summary:',\n",
       "    'SDG 6: Clean Water and Sanitation': 'Summary:',\n",
       "    'SDG 7: Affordable and Clean Energy': 'Summary:',\n",
       "    'SDG 8: Decent Work and Economic Growth': 'Summary:',\n",
       "    'SDG 9: Industry, Innovation, and Infrastructure': 'Summary:',\n",
       "    'SDG 10: Reduced Inequality': 'Summary:',\n",
       "    'SDG 12: Responsible Consumption and Production': 'Summary:',\n",
       "    'SDG 13: Climate Action': 'Summary:',\n",
       "    'SDG 14: Life Below Water': 'Summary:',\n",
       "    'SDG 15: Life on Land': 'Summary:',\n",
       "    'SDG 16: Peace, Justice, and Strong Institutions': 'Summary:',\n",
       "    'SDG 17: Partnerships for the Goals': 'Summary:'},\n",
       "   '08_ASHTEAD_TECHNOLOGY_HOLDINGS_PLC': {'SDG 3: Good Health and Well-being': 'Summary:',\n",
       "    'SDG 4: Quality Education': 'Summary:',\n",
       "    'SDG 5: Gender Equality': 'Summary:',\n",
       "    'SDG 7: Affordable and Clean Energy': 'Summary:',\n",
       "    'SDG 8: Decent Work and Economic Growth': 'Summary:',\n",
       "    'SDG 9: Industry, Innovation, and Infrastructure': 'Summary:',\n",
       "    'SDG 10: Reduced Inequality': 'Summary:',\n",
       "    'SDG 11: Sustainable Cities and Communities': 'Summary:',\n",
       "    'SDG 12: Responsible Consumption and Production': 'Summary:',\n",
       "    'SDG 13: Climate Action': 'Summary:',\n",
       "    'SDG 16: Peace, Justice, and Strong Institutions': 'Summary:',\n",
       "    'SDG 17: Partnerships for the Goals': 'Summary:'},\n",
       "   '10_DIVERSIFIED_ENERGY_COMPANY_PLC': {'SDG 1: No Poverty': 'Summary:',\n",
       "    'SDG 3: Good Health and Well-being': 'Summary:',\n",
       "    'SDG 4: Quality Education': 'Summary:',\n",
       "    'SDG 5: Gender Equality': 'Summary:',\n",
       "    'SDG 6: Clean Water and Sanitation': 'Summary:',\n",
       "    'SDG 7: Affordable and Clean Energy': 'Summary:',\n",
       "    'SDG 8: Decent Work and Economic Growth': 'Summary:',\n",
       "    'SDG 9: Industry, Innovation, and Infrastructure': 'Summary:',\n",
       "    'SDG 10: Reduced Inequality': 'Summary:',\n",
       "    'SDG 11: Sustainable Cities and Communities': 'Summary:',\n",
       "    'SDG 12: Responsible Consumption and Production': 'Summary:',\n",
       "    'SDG 13: Climate Action': 'Summary:',\n",
       "    'SDG 14: Life Below Water': 'Summary:',\n",
       "    'SDG 15: Life on Land': 'Summary:',\n",
       "    'SDG 16: Peace, Justice, and Strong Institutions': 'Summary:',\n",
       "    'SDG 17: Partnerships for the Goals': 'Summary:'}},\n",
       "  'Utilities': {'01_NATIONAL_GRID_PLC': {'SDG 3: Good Health and Well-being': 'Employee Health and Safety: National Grid emphasizes the health, safety, and wellbeing of its employees. This includes supporting mental health and providing a safe work environment.',\n",
       "    'SDG 4: Quality Education': 'Skills Development: The Grid for Good program supports skills development for young people, particularly from disadvantaged backgrounds, helping them prepare for careers in the clean energy sector.',\n",
       "    'SDG 5: Gender Equality': 'Diversity and Inclusion: National Grid aims for 50% diversity in its Senior Leadership Group by 2025 and maintains 50% diversity in all new talent programs. They focus on promoting gender equality and supporting women in engineering roles.',\n",
       "    'SDG 7: Affordable and Clean Energy': 'Clean Energy Transition: National Grid is committed to the transition to clean energy. They have connected 2,498 MW of renewable energy to their grids and are working on projects like interconnectors to enhance clean energy distribution.',\n",
       "    'SDG 8: Decent Work and Economic Growth': 'Fair Pay and Employment: National Grid promotes fair pay and strives to eliminate bias in pay practices. They invest in skills development and provide employment opportunities through initiatives like Grid for Good.',\n",
       "    'SDG 9: Industry, Innovation, and Infrastructure': 'Innovation and Infrastructure: The company invests in developing technologies and innovations that benefit customers and society. This includes projects like EV charging infrastructure and modernizing the grid to support renewable energy.',\n",
       "    'SDG 10: Reduced Inequality': 'Inclusive Programs: National Grid’s programs aim to reduce inequality by providing opportunities for disadvantaged communities and ensuring fair pay and inclusive employment practices.',\n",
       "    'SDG 11: Sustainable Cities and Communities': 'Community Support: National Grid engages in community support through various programs, including STEM education initiatives and community engagement activities. They ensure network reliability and support energy efficiency programs.',\n",
       "    'SDG 12: Responsible Consumption and Production': 'Sustainable Practices: The company focuses on responsible consumption and production by reducing emissions and improving energy efficiency within their operations. They also work with suppliers to encourage sustainable practices.',\n",
       "    'SDG 13: Climate Action': 'GHG Emissions Reduction: National Grid aims to reduce Scope 1 and 2 emissions by 80% by 2030 and achieve net zero by 2050. They also plan to significantly reduce Scope 3 emissions. The company’s Climate Transition Plan outlines these goals and the steps to achieve them.',\n",
       "    'SDG 15: Life on Land': 'Biodiversity and Land Use: National Grid is committed to improving the environmental value of their land by at least 10% by 2026. They engage in projects that enhance biodiversity and support ecological efforts.',\n",
       "    'SDG 16: Peace, Justice, and Strong Institutions': 'Ethical Conduct and Transparency: The company maintains high ethical standards and transparency in reporting. They ensure compliance with legal and ethical guidelines and engage in regular performance assessments.',\n",
       "    'SDG 17: Partnerships for the Goals': 'Stakeholder Engagement: National Grid collaborates with various stakeholders to advance the energy transition and support the SDGs. They engage in partnerships to share knowledge and drive collective action towards a sustainable future.'},\n",
       "   '02_SSE_PLC': {'SDG 7: Affordable and Clean Energy': 'SSE is committed to ensuring access to affordable, reliable, sustainable, and modern energy for all. Their contributions include:',\n",
       "    'SDG 8: Decent Work and Economic Growth': 'SSE contributes significantly to this goal by:',\n",
       "    'SDG 9: Industry, Innovation, and Infrastructure': 'SSE supports this goal by:',\n",
       "    'SDG 13: Climate Action': 'SSE’s actions include:'},\n",
       "   '03_SEVERN_TRENT_PLC': {'SDG 1: No Poverty': 'Affordability and Financial Support: Severn Trent is committed to ensuring affordability and providing financial support to customers in need. The company has a detailed affordability strategy aimed at supporting customers who struggle to pay their water bills, ensuring that water services remain accessible to all.',\n",
       "    'SDG 3: Good Health and Well-being': 'Health and Safety: Severn Trent prioritizes the health, safety, and well-being of its employees and communities. Initiatives include mental health support, safety training, and maintaining a safe working environment.',\n",
       "    'SDG 4: Quality Education': 'Educational Programs: Severn Trent invests in educational initiatives, including apprenticeship and graduate schemes. They have established a Training Academy in the Midlands and aim to educate 500,000 school children on water usage and healthy hydration over the next five years.',\n",
       "    'SDG 5: Gender Equality': \"Gender Balance: Severn Trent is committed to promoting gender equality, supporting women in leadership roles, and addressing the gender pay gap. The company has ranked third in the FTSE100 for gender balance and supports women's empowerment globally through partnerships with organizations like WaterAid.\",\n",
       "    'SDG 6: Clean Water and Sanitation': 'Water Quality and Management: Severn Trent ensures sustainable management of water and sanitation services. The company is involved in improving water quality, reducing leakage, and enhancing biodiversity in water catchments. They have set specific targets to improve river quality and ensure compliance of treatment works.',\n",
       "    'SDG 7: Affordable and Clean Energy': 'Renewable Energy Commitment: Severn Trent leads in anaerobic digestion and aims for 100% renewable energy usage by 2030. They have achieved significant milestones in renewable energy generation and efficiency.',\n",
       "    'SDG 8: Decent Work and Economic Growth': 'Economic Contribution: Severn Trent supports economic growth through job creation and fair work practices. The company is accredited as a Living Wage employer and invests in local communities, providing substantial economic benefits.',\n",
       "    'SDG 9: Industry, Innovation, and Infrastructure': 'Infrastructure Investment: Severn Trent invests in resilient infrastructure projects, such as the Birmingham Resilience Programme, and innovative solutions to secure water sources long-term. The company runs technology trials at their Resource Recovery and Innovation Centre to advance industry practices.',\n",
       "    'SDG 10: Reduced Inequality': 'Inclusive Practices: Severn Trent promotes equality through inclusive employment practices and support for diverse communities. The company emphasizes social mobility and recruits from underrepresented areas.',\n",
       "    'SDG 11: Sustainable Cities and Communities': 'Community Engagement: Severn Trent invests in local communities through financial contributions and projects that promote sustainable living. They focus on making water services accessible and affordable for all, enhancing urban sustainability.',\n",
       "    'SDG 12: Responsible Consumption and Production': 'Sustainable Operations: Severn Trent adopts sustainable practices within its operations, aiming for zero waste to landfill and promoting resource efficiency. The company is committed to balancing water supply and demand in response to population growth and climate change.',\n",
       "    'SDG 13: Climate Action': \"Net Zero Ambition: Severn Trent aims to achieve net zero carbon emissions by 2030. The company's Triple Carbon Pledge includes using 100% renewable energy and a 100% electric vehicle fleet. They have set science-based targets for reducing Scope 1 and 2 emissions.\",\n",
       "    'SDG 15: Life on Land': 'Biodiversity and Land Use: Severn Trent enhances biodiversity through projects that improve land quality and restore ecosystems. They aim to improve 5,000 hectares of land by 2027 and plant 1.3 million trees by 2030.',\n",
       "    'SDG 16: Peace, Justice, and Strong Institutions': 'Ethical Governance: Severn Trent maintains high ethical standards, transparency, and compliance with legal and regulatory requirements. The company has policies on human rights, anti-corruption, and fair business practices.',\n",
       "    'SDG 17: Partnerships for the Goals': 'Stakeholder Collaboration: Severn Trent collaborates with various stakeholders, including governments, NGOs, and industry partners, to achieve sustainability goals and support the UN SDGs. The company engages in global initiatives like the World Water Innovation Fund.'},\n",
       "   '05_CENTRICA_PLC': {'SDG 1: No Poverty': 'Affordability and Accessibility: The report highlights efforts to support vulnerable customers, including eradicating water poverty and providing financial assistance to those struggling with energy bills. This includes a new affordability scheme worth £30 million aimed at supporting an additional 100,000 customers .',\n",
       "    'SDG 3: Good Health and Well-being': 'Employee Well-being and Safety: Centrica focuses on the health and well-being of its employees through various support programs and initiatives aimed at ensuring a safe and healthy working environment. The company also addresses mental health and provides resources for employee support .',\n",
       "    'SDG 4: Quality Education': 'Educational Programs and Apprenticeships: Centrica is committed to recruiting 3,500 apprentices by 2030 and providing career development opportunities for under-represented groups. The company also promotes STEM education and supports educational programs to build a skilled workforce for the future .',\n",
       "    'SDG 5: Gender Equality': \"Diversity and Inclusion: The report details Centrica's goals for gender equality, aiming for 47% women representation across the company by 2030 and 30% by 2022. The company also emphasizes creating an inclusive workplace with opportunities for all employees, regardless of gender .\",\n",
       "    'SDG 7: Affordable and Clean Energy': 'Renewable Energy Initiatives: Centrica is focused on supporting the transition to net zero by 2050, providing renewable energy solutions and installing electric vehicle charge points. The company has significantly reduced its carbon footprint and promotes sustainable energy use among its customers .',\n",
       "    'SDG 8: Decent Work and Economic Growth': 'Job Creation and Fair Work Practices: Centrica supports economic growth through job creation, fair pay, and safe working conditions. The company ensures fair treatment and equal opportunities for all employees, aiming to reduce pay gaps and improve overall employee engagement .',\n",
       "    'SDG 9: Industry, Innovation, and Infrastructure': 'Infrastructure Development: Centrica invests in infrastructure projects that support the transition to a low-carbon economy. This includes developing renewable energy facilities and exploring new technologies to improve energy efficiency and sustainability .',\n",
       "    'SDG 10: Reduced Inequality': 'Inclusive Practices: Centrica aims to reduce inequalities by supporting vulnerable customers and promoting diversity within its workforce. The company is committed to fair treatment and providing equal opportunities for all employees .',\n",
       "    'SDG 11: Sustainable Cities and Communities': 'Community Support: Centrica engages in initiatives to support local communities, including volunteering and funding projects aimed at creating sustainable and resilient urban environments. The company also works to provide energy solutions that support sustainable living .',\n",
       "    'SDG 12: Responsible Consumption and Production': 'Sustainable Practices: Centrica promotes responsible consumption and production by encouraging energy efficiency, reducing waste, and managing resources sustainably. The company aims to help customers reduce their carbon intensity and adopt sustainable practices .',\n",
       "    'SDG 13: Climate Action': 'Net Zero Commitment: Centrica is committed to becoming a net zero business by 2045 and helping its customers achieve net zero by 2050. The company has set ambitious carbon reduction targets and is actively working to reduce its environmental impact through various sustainability initiatives .',\n",
       "    'SDG 16: Peace, Justice, and Strong Institutions': 'Ethical Business Practices: Centrica emphasizes ethical business practices, transparency, and compliance with regulations. The company ensures that its operations are conducted fairly and responsibly, supporting broader societal goals of peace and justice .',\n",
       "    'SDG 17: Partnerships for the Goals': 'Collaborative Efforts: Centrica works with various stakeholders, including government bodies, local communities, and industry partners, to achieve its sustainability goals. The company emphasizes the importance of collaboration in addressing global challenges and advancing the SDGs .'},\n",
       "   '07_PENNON_GROUP_PLC': {'SDG 1: No Poverty': 'The report highlights initiatives to address water poverty, aiming to achieve zero customers in water poverty by 2025. Efforts include affordability programs and partnerships with organizations to support vulnerable customers. The WaterCare+ program, in place since 2007, offers direct account reviews, benefit entitlement checks, and partnerships with social housing providers .',\n",
       "    'SDG 3: Good Health and Well-being': 'The report emphasizes efforts to provide clean, safe, and reliable drinking water. This includes investments in new water treatment works and the maintenance of high-quality water supplies. During the COVID-19 pandemic, additional support was provided to customers, ensuring uninterrupted access to clean water and addressing affordability issues caused by increased water usage and economic hardships .',\n",
       "    'SDG 6: Clean Water and Sanitation': 'The report outlines several initiatives to improve water and wastewater services. These include advancements in water treatment works, catchment management programs, and efforts to reduce storm overflows and improve river bathing water quality. The Upstream Thinking program aims to enhance water quality and natural habitats while reducing the carbon footprint .',\n",
       "    'SDG 7: Affordable and Clean Energy': \"The report mentions commitments to renewable energy and the company's race to Net Zero by 2030. The focus is on sustainable living, championing renewables, and reversing carbon emissions .\",\n",
       "    'SDG 8: Decent Work and Economic Growth': 'The company has pledged to support the regional economy and communities, creating up to 500 additional jobs through its investment programs. Efforts also include ensuring fair and affordable bills, supporting customers in vulnerable circumstances, and promoting social mobility and secure employment .',\n",
       "    'SDG 9: Industry, Innovation, and Infrastructure': \"The report highlights investments in state-of-the-art water treatment technology and infrastructure improvements to ensure resilient and high-quality water supplies. The installation of AMR meters and advancements in sewer management and storm overflow prediction are part of the company's innovative approaches .\",\n",
       "    'SDG 10: Reduced Inequality': 'The report details efforts to provide fair charging and affordability for all customers, particularly those in vulnerable circumstances. Initiatives include social tariffs, support funds, and partnerships with various organizations to ensure equitable access to water services .',\n",
       "    'SDG 11: Sustainable Cities and Communities': 'The company is committed to improving urban water infrastructure to mitigate risks such as sewer flooding and to enhance the resilience of water supplies. Investments in bathing water quality and catchment management contribute to the sustainability of communities .',\n",
       "    'SDG 12: Responsible Consumption and Production': \"Water efficiency initiatives are emphasized, including partnerships to promote water-saving practices and the distribution of water-saving products. The company's efforts aim to encourage responsible water use among customers .\",\n",
       "    'SDG 13: Climate Action': \"The report outlines the company's commitment to climate action through the Net Zero by 2030 goal, tree-planting initiatives, and catchment management programs that enhance biodiversity and reduce the carbon footprint. Infrastructure investments also aim to address the impacts of climate change on water resources .\",\n",
       "    'SDG 14: Life Below Water': 'The report includes commitments to improving coastal environments through better bathing water quality and compliance with the Water Industry National Environment Programme (WINEP) commitments. These efforts aim to enhance marine ecosystems while supporting local tourism .',\n",
       "    'SDG 15: Life on Land': 'The Upstream Thinking program and other catchment management initiatives focus on land regeneration, enhancing natural habitats, and improving water quality. These efforts contribute to the overall health of terrestrial ecosystems .',\n",
       "    'SDG 16: Peace, Justice, and Strong Institutions': 'The company maintains high standards of compliance and governance, including a Speak Up whistleblowing process to address concerns about fraud, bribery, and corruption. Efforts to ensure regulatory compliance and robust risk management are highlighted .',\n",
       "    'SDG 17: Partnerships for the Goals': \"The report emphasizes the importance of partnerships with various stakeholders, including customers, environmental organizations, and community groups, to achieve its sustainability goals. Collaborative efforts are key to the company's strategy for delivering environmental and social benefits .\"},\n",
       "   '08_RENEWI_PLC': {'SDG 1: No Poverty': 'The document highlights various initiatives aimed at reducing water poverty. For instance, the WaterCare+ program and FreshStart Fund provide financial support and benefit checks to vulnerable customers, aiming to eliminate water poverty by 2025\\u200b\\u200b\\u200b\\u200b\\u200b\\u200b.',\n",
       "    'SDG 3: Good Health and Well-being': 'The document discusses efforts to ensure good health and well-being through the safe handling of waste and improving water quality. It also mentions initiatives to safeguard the health of employees and communities\\u200b\\u200b\\u200b\\u200b.',\n",
       "    'SDG 6: Clean Water and Sanitation': 'Significant focus is placed on improving water quality, reducing pollution, and managing wastewater effectively. The document details initiatives such as the installation of AMR meters and water treatment advancements to ensure safe and reliable water supply\\u200b\\u200b\\u200b\\u200b.',\n",
       "    'SDG 7: Affordable and Clean Energy': 'The document outlines efforts to increase the use of renewable energy and improve energy efficiency, contributing to cleaner and more sustainable energy solutions\\u200b\\u200b\\u200b\\u200b.',\n",
       "    'SDG 8: Decent Work and Economic Growth': 'The document highlights the creation of additional jobs through new investments and initiatives. It also emphasizes efforts to improve working conditions and employee well-being\\u200b\\u200b\\u200b\\u200b\\u200b\\u200b.',\n",
       "    'SDG 9: Industry, Innovation, and Infrastructure': 'Various innovative projects are mentioned, including advancements in water treatment and the development of infrastructure to support better water management and environmental protection\\u200b\\u200b\\u200b\\u200b.',\n",
       "    'SDG 10: Reduced Inequality': 'Efforts to address water poverty and make services affordable for all customers are detailed, indicating a commitment to reducing economic inequalities\\u200b\\u200b\\u200b\\u200b\\u200b\\u200b.',\n",
       "    'SDG 11: Sustainable Cities and Communities': 'The document discusses initiatives to improve urban and rural water infrastructure, enhance water quality, and ensure sustainable waste management practices\\u200b\\u200b\\u200b\\u200b.',\n",
       "    'SDG 12: Responsible Consumption and Production': \"The document describes the company's efforts in waste management and recycling, promoting responsible consumption and the circular economy\\u200b\\u200b\\u200b\\u200b.\",\n",
       "    'SDG 13: Climate Action': 'Climate action is addressed through initiatives aimed at reducing carbon emissions and integrating sustainable practices in operations. The document mentions specific projects for environmental stewardship and carbon footprint reduction\\u200b\\u200b\\u200b\\u200b\\u200b\\u200b.',\n",
       "    'SDG 15: Life on Land': 'The document includes initiatives for land restoration and biodiversity enhancement, such as peatland restoration and catchment management projects\\u200b\\u200b.',\n",
       "    'SDG 17: Partnerships for the Goals': 'The document emphasizes collaboration with various stakeholders, including government bodies, community organizations, and environmental agencies, to achieve sustainability goals\\u200b\\u200b.'}}},\n",
       " 2022: {'Energy': {'01_shell': {'SDG 3: Good Health and Well-being': 'Shell’s 2022 report underscores its ongoing commitment to health and safety. The report highlights continuous improvements in safety performance, though it acknowledges incidents and fatalities. Shell remains dedicated to enhancing safety standards and mitigating health risks for employees and surrounding communities.',\n",
       "    'SDG 4: Quality Education': \"The report emphasizes Shell's involvement in community engagement, particularly through educational initiatives. Shell continues to invest in local education by funding schools and providing scholarships to improve access to quality education in the communities where it operates.\",\n",
       "    'SDG 5: Gender Equality': 'Shell’s report outlines its efforts to foster diversity and inclusion within the company. It emphasizes increasing female representation in the workforce and leadership roles, and it describes policies aimed at promoting gender equality and empowering women.',\n",
       "    'SDG 6: Clean Water and Sanitation': \"The report discusses Shell's responsible management of water resources. This includes initiatives to reduce water usage and prevent contamination through better operational practices and spill prevention measures.\",\n",
       "    'SDG 7: Affordable and Clean Energy': 'Shell is actively engaged in the transition to a lower-carbon future. The report details investments in renewable energy sources such as wind and solar power, as well as cleaner energy solutions like natural gas and biofuels. Shell is also developing carbon capture and storage technologies to reduce greenhouse gas emissions.',\n",
       "    'SDG 8: Decent Work and Economic Growth': 'Shell emphasizes its commitment to providing safe and decent working conditions, fostering economic growth, and supporting local economies. This is achieved through job creation, local procurement, and investments in community development projects.',\n",
       "    'SDG 9: Industry, Innovation, and Infrastructure': 'Shell continues to invest in research and development to drive innovation in the energy sector. The report highlights projects aimed at improving infrastructure and deploying new technologies to enhance energy efficiency and sustainability.',\n",
       "    'SDG 11: Sustainable Cities and Communities': 'Shell supports sustainable urban development by investing in cleaner energy solutions and infrastructure projects that enhance urban quality of life. The report highlights initiatives that improve energy efficiency and reduce the environmental impact of cities.',\n",
       "    'SDG 12: Responsible Consumption and Production': 'The report outlines Shell’s efforts to promote responsible consumption and production. This includes reducing flaring, managing waste effectively, and implementing practices that support sustainable production and consumption patterns.',\n",
       "    'SDG 13: Climate Action': \"Climate action remains a central focus. Shell supports the goals of the Paris Agreement and is committed to reducing its carbon footprint. The report details Shell's initiatives in carbon capture and storage, renewable energy, and promoting natural gas as a cleaner alternative to coal.\",\n",
       "    'SDG 15: Life on Land': 'Shell’s environmental management includes protecting biodiversity and land resources. The report discusses initiatives aimed at habitat restoration and reducing the environmental impact of operations on land ecosystems.',\n",
       "    'SDG 16: Peace, Justice, and Strong Institutions': \"The report emphasizes Shell's dedication to ethical business practices, transparency, and robust governance. Shell supports strong institutions by adhering to high standards of corporate governance and maintaining transparent reporting practices.\",\n",
       "    'SDG 17: Partnerships for the Goals': 'Shell collaborates with a wide range of stakeholders, including governments, NGOs, and other companies, to achieve sustainability goals. The report highlights partnerships aimed at advancing the energy transition and addressing global challenges such as climate change.'},\n",
       "   '02_BP': {'SDG 3: Good Health and Well-being': 'Summary:',\n",
       "    'SDG 4: Quality Education': 'Summary:',\n",
       "    'SDG 6: Clean Water and Sanitation': 'Summary:',\n",
       "    'SDG 7: Affordable and Clean Energy': 'Summary:',\n",
       "    'SDG 8: Decent Work and Economic Growth': 'Summary:',\n",
       "    'SDG 9: Industry, Innovation, and Infrastructure': 'Summary:',\n",
       "    'SDG 10: Reduced Inequality': 'Summary:',\n",
       "    'SDG 11: Sustainable Cities and Communities': 'Summary:',\n",
       "    'SDG 12: Responsible Consumption and Production': 'Summary:',\n",
       "    'SDG 13: Climate Action': 'Summary:',\n",
       "    'SDG 15: Life on Land': 'Summary:',\n",
       "    'SDG 16: Peace, Justice, and Strong Institutions': 'Summary:',\n",
       "    'SDG 17: Partnerships for the Goals': 'Summary:'},\n",
       "   '03_Harbour_Energy_PLC': {'SDG 3: Good Health and Well-being': 'Summary:',\n",
       "    'SDG 5: Gender Equality': 'Summary:',\n",
       "    'SDG 6: Clean Water and Sanitation': 'Summary:',\n",
       "    'SDG 7: Affordable and Clean Energy': 'Summary:',\n",
       "    'SDG 8: Decent Work and Economic Growth': 'Summary:',\n",
       "    'SDG 9: Industry, Innovation, and Infrastructure': 'Summary:',\n",
       "    'SDG 10: Reduced Inequality': 'Summary:',\n",
       "    'SDG 11: Sustainable Cities and Communities': 'Summary:',\n",
       "    'SDG 12: Responsible Consumption and Production': 'Summary:',\n",
       "    'SDG 13: Climate Action': 'Summary:',\n",
       "    'SDG 14: Life Below Water': 'Summary:',\n",
       "    'SDG 15: Life on Land': 'Summary:',\n",
       "    'SDG 16: Peace, Justice, and Strong Institutions': 'Summary:',\n",
       "    'SDG 17: Partnerships for the Goals': 'Summary:'},\n",
       "   '04_energeans': {'SDG 3: Good Health and Well-being': 'Summary:',\n",
       "    'SDG 5: Gender Equality': 'Summary:',\n",
       "    'SDG 6: Clean Water and Sanitation': 'Summary:',\n",
       "    'SDG 7: Affordable and Clean Energy': 'Summary:',\n",
       "    'SDG 8: Decent Work and Economic Growth': 'Summary:',\n",
       "    'SDG 9: Industry, Innovation, and Infrastructure': 'Summary:',\n",
       "    'SDG 10: Reduced Inequality': 'Summary:',\n",
       "    'SDG 11: Sustainable Cities and Communities': 'Summary:',\n",
       "    'SDG 12: Responsible Consumption and Production': 'Summary:',\n",
       "    'SDG 13: Climate Action': 'Summary:',\n",
       "    'SDG 14: Life Below Water': 'Summary:',\n",
       "    'SDG 15: Life on Land': 'Summary:',\n",
       "    'SDG 16: Peace, Justice, and Strong Institutions': 'Summary:',\n",
       "    'SDG 17: Partnerships for the Goals': 'Summary:'},\n",
       "   '05_ITHACA_ENERGY_PLC': {'SDG 3: Good Health and Well-being': 'Summary:',\n",
       "    'SDG 6: Clean Water and Sanitation': 'Summary:',\n",
       "    'SDG 7: Affordable and Clean Energy': 'Summary:',\n",
       "    'SDG 8: Decent Work and Economic Growth': 'Summary:',\n",
       "    'SDG 9: Industry, Innovation, and Infrastructure': 'Summary:',\n",
       "    'SDG 12: Responsible Consumption and Production': 'Summary:',\n",
       "    'SDG 13: Climate Action': 'Summary:',\n",
       "    'SDG 14: Life Below Water': 'Summary:',\n",
       "    'SDG 15: Life on Land': 'Summary:',\n",
       "    'SDG 16: Peace, Justice, and Strong Institutions': 'Summary:',\n",
       "    'SDG 17: Partnerships for the Goals': 'Summary:'},\n",
       "   '06_LSE_WG': {'SDG 3: Good Health and Well-being': 'Summary:',\n",
       "    'SDG 4: Quality Education': 'Summary:',\n",
       "    'SDG 5: Gender Equality': 'Summary:',\n",
       "    'SDG 7: Affordable and Clean Energy': 'Summary:',\n",
       "    'SDG 8: Decent Work and Economic Growth': 'Summary:',\n",
       "    'SDG 9: Industry, Innovation, and Infrastructure': 'Summary:',\n",
       "    'SDG 10: Reduced Inequality': 'Summary:',\n",
       "    'SDG 12: Responsible Consumption and Production': 'Summary:',\n",
       "    'SDG 13: Climate Action': 'Summary:',\n",
       "    'SDG 15: Life on Land': 'Summary:',\n",
       "    'SDG 16: Peace, Justice, and Strong Institutions': 'Summary:',\n",
       "    'SDG 17: Partnerships for the Goals': 'Summary:'},\n",
       "   '07_SERICA_ENERGY_PLC': {'SDG 1: No Poverty': 'Summary:',\n",
       "    'SDG 2: Zero Hunger': 'Summary:',\n",
       "    'SDG 3: Good Health and Well-being': 'Summary:',\n",
       "    'SDG 4: Quality Education': 'Summary:',\n",
       "    'SDG 5: Gender Equality': 'Summary:',\n",
       "    'SDG 6: Clean Water and Sanitation': 'Summary:',\n",
       "    'SDG 7: Affordable and Clean Energy': 'Summary:',\n",
       "    'SDG 8: Decent Work and Economic Growth': 'Summary:',\n",
       "    'SDG 9: Industry, Innovation, and Infrastructure': 'Summary:',\n",
       "    'SDG 10: Reduced Inequality': 'Summary:',\n",
       "    'SDG 12: Responsible Consumption and Production': 'Summary:',\n",
       "    'SDG 13: Climate Action': 'Summary:',\n",
       "    'SDG 14: Life Below Water': 'Summary:',\n",
       "    'SDG 15: Life on Land': 'Summary:',\n",
       "    'SDG 16: Peace, Justice, and Strong Institutions': 'Summary:',\n",
       "    'SDG 17: Partnerships for the Goals': 'Summary:'},\n",
       "   '08_ASHTEAD_TECHNOLOGY_HOLDINGS_PLC': {'SDG 3: Good Health and Well-being': 'Summary:',\n",
       "    'SDG 4: Quality Education': 'Summary:',\n",
       "    'SDG 5: Gender Equality': 'Summary:',\n",
       "    'SDG 7: Affordable and Clean Energy': 'Summary:',\n",
       "    'SDG 8: Decent Work and Economic Growth': 'Summary:',\n",
       "    'SDG 9: Industry, Innovation, and Infrastructure': 'Summary:',\n",
       "    'SDG 10: Reduced Inequality': 'Summary:',\n",
       "    'SDG 11: Sustainable Cities and Communities': 'Summary:',\n",
       "    'SDG 12: Responsible Consumption and Production': 'Summary:',\n",
       "    'SDG 13: Climate Action': 'Summary:',\n",
       "    'SDG 16: Peace, Justice, and Strong Institutions': 'Summary:',\n",
       "    'SDG 17: Partnerships for the Goals': 'Summary:'},\n",
       "   '10_DIVERSIFIED_ENERGY_COMPANY_PLC': {'SDG 1: No Poverty': 'Summary:',\n",
       "    'SDG 3: Good Health and Well-being': 'Summary:',\n",
       "    'SDG 4: Quality Education': 'Summary:',\n",
       "    'SDG 5: Gender Equality': 'Summary:',\n",
       "    'SDG 6: Clean Water and Sanitation': 'Summary:',\n",
       "    'SDG 7: Affordable and Clean Energy': 'Summary:',\n",
       "    'SDG 8: Decent Work and Economic Growth': 'Summary:',\n",
       "    'SDG 9: Industry, Innovation, and Infrastructure': 'Summary:',\n",
       "    'SDG 10: Reduced Inequality': 'Summary:',\n",
       "    'SDG 11: Sustainable Cities and Communities': 'Summary:',\n",
       "    'SDG 12: Responsible Consumption and Production': 'Summary:',\n",
       "    'SDG 13: Climate Action': 'Summary:',\n",
       "    'SDG 14: Life Below Water': 'Summary:',\n",
       "    'SDG 15: Life on Land': 'Summary:',\n",
       "    'SDG 16: Peace, Justice, and Strong Institutions': 'Summary:',\n",
       "    'SDG 17: Partnerships for the Goals': 'Summary:'}},\n",
       "  'Utilities': {'01_NATIONAL_GRID_PLC': {'SDG 3: Good Health and Well-being': \"Employee Health, Safety, and Wellbeing: National Grid prioritizes health, safety, and wellbeing for employees and contractors, implementing policies like 'Stand Up For Safety' after unfortunate incidents.\",\n",
       "    'SDG 4: Quality Education': 'Skills and Employability: National Grid focuses on developing skills for the future, providing access to skills development for 45,000 people by 2030, particularly in lower-income communities.',\n",
       "    'SDG 5: Gender Equality': 'Diversity, Equity, and Inclusion: National Grid aims for 50% diversity in its Senior Leadership Group and Board by 2025. The company commits to transparency on gender and ethnicity, fair pay, and achieving pay equity.',\n",
       "    'SDG 7: Affordable and Clean Energy': 'Energy Infrastructure Investment: National Grid reinvests approximately £5 billion annually in energy infrastructure. They focus on connecting renewables, ensuring system resilience, and growing their renewables business in the US.',\n",
       "    'SDG 8: Decent Work and Economic Growth': 'Economic Growth and Employment: The company promotes inclusive economic growth, maintains fairness in pay, and provides employment opportunities, focusing on diverse talent development and maintaining 50% diversity in new talent programs.',\n",
       "    'SDG 9: Industry, Innovation, and Infrastructure': 'Innovation and Infrastructure: National Grid invests in modernizing grids, building interconnectors, and developing renewable energy projects. They are engaged in projects like Viking Link and Community Offshore Wind to support industry innovation.',\n",
       "    'SDG 10: Reduced Inequality': 'Fair Pay and Inclusion: National Grid emphasizes fair pay and opportunity, transparency in practices, and developing diverse leadership to reduce inequalities within the company.',\n",
       "    'SDG 11: Sustainable Cities and Communities': 'Network Reliability and Community Support: National Grid ensures public safety and network reliability, focusing on affordable services and supporting community development through skills training and economic benefits from renewable projects.',\n",
       "    'SDG 12: Responsible Consumption and Production': 'Sustainable Practices: The company engages with suppliers on decarbonization, aiming for 75% of top suppliers to have active carbon reduction targets by 2030. They also focus on reducing their own emissions through various initiatives.',\n",
       "    'SDG 13: Climate Action': 'GHG Emissions Reduction: National Grid commits to reducing Scope 1 and 2 emissions by 80% by 2030, 90% by 2040, and achieving net zero by 2050. They also aim to reduce Scope 3 emissions by 37.5% by 2033/34.',\n",
       "    'SDG 15: Life on Land': 'Biodiversity and Land Use: National Grid commits to improving the environmental value of their non-operational land by at least 10% by 2026. They engage in biodiversity enhancement projects and join initiatives like the Blue Recovery Leaders Group to support ecological efforts.',\n",
       "    'SDG 16: Peace, Justice, and Strong Institutions': 'Ethical Conduct and Transparency: National Grid maintains high ethical standards, transparency in reporting, and stakeholder engagement. They ensure compliance with legal and ethical guidelines and engage in regular performance assessments.',\n",
       "    'SDG 17: Partnerships for the Goals': 'Stakeholder Engagement: The company collaborates with stakeholders locally, nationally, and internationally to advance the energy transition and support the SDGs. They engage in partnerships to share knowledge and drive collective action towards a clean energy future.'},\n",
       "   '02_SSE_PLC': {'SDG 3: Good Health and Well-being': 'Employee Health and Safety: SSE is committed to ensuring the safety and well-being of its employees, aiming for a Total Recordable Injury Rate (TRIR) of 0.17 per 100,000 hours worked.',\n",
       "    'SDG 5: Gender Equality': 'Inclusive Workplace: SSE aims to create an inclusive workplace and reduce the median UK gender pay gap, which stands at 18%.',\n",
       "    'SDG 7: Affordable and Clean Energy': 'Renewable Energy Investment: SSE is the largest renewable electricity portfolio holder in the UK and Ireland, with significant investments in onshore and offshore wind, hydro power, and solar projects. They have installed a renewable capacity of 7.8GW and are constructing an additional 2.4GW.',\n",
       "    'SDG 8: Decent Work and Economic Growth': 'Fair Work: SSE is accredited as a Living Wage and Living Hours employer, and promotes fair tax practices, contributing £5.8bn to the UK economy and €438m to the Irish economy.',\n",
       "    'SDG 9: Industry, Innovation, and Infrastructure': 'Infrastructure Investment: SSE invests heavily in energy infrastructure to support the transition to net zero, including developing wind farms and enhancing grid capabilities. They are also involved in innovative projects such as carbon capture and hydrogen technologies.',\n",
       "    'SDG 11: Sustainable Cities and Communities': 'Community Investment: SSE invests in local communities, providing significant financial support and engaging in projects that promote sustainable living.',\n",
       "    'SDG 12: Responsible Consumption and Production': 'Sustainable Practices: SSE focuses on responsible consumption and production, with initiatives to reduce waste and promote efficient resource use. They have also set ambitious targets to reduce GHG emissions across their operations.',\n",
       "    'SDG 13: Climate Action': 'GHG Emissions Reduction: SSE aims to reduce its scope 1 and 2 GHG emissions by 80% by 2030 and achieve net zero emissions by 2040. They have already made significant progress, reducing total GHG emissions by 35% from 2017/18 to 2021/22.',\n",
       "    'SDG 15: Life on Land': 'Biodiversity and Environmental Management: SSE is committed to protecting and enhancing biodiversity and managing their environmental impact responsibly. They embed effective environmental management and governance practices across their operations.',\n",
       "    'SDG 16: Peace, Justice, and Strong Institutions': 'Ethical Conduct: SSE maintains high ethical standards and transparency in its business practices, with robust policies on human rights, anti-corruption, and fair taxation.',\n",
       "    'SDG 17: Partnerships for the Goals': 'Stakeholder Engagement: SSE collaborates with various stakeholders, including governments, NGOs, and industry bodies, to support the SDGs. They engage in partnerships to drive sustainability initiatives and share knowledge.'},\n",
       "   '03_SEVERN_TRENT_PLC': {'SDG 1: No Poverty': 'Affordability Strategy: Severn Trent has developed a comprehensive affordability strategy to support customers who struggle to pay their water bills. They aim to support 43% of customers in need by 2025 and ensure no customer spends more than 5% of their income on water. A new affordability scheme worth £30 million will support an additional 100,000 customers, bringing the total number supported to 315,000 by 2025.',\n",
       "    'SDG 3: Good Health and Well-being': 'Health and Safety: Severn Trent prioritizes the safety and well-being of its employees, achieving a 10% reduction in Lost Time Injuries (LTI) compared to the previous year.',\n",
       "    'SDG 4: Quality Education': 'Educational Initiatives: Severn Trent welcomed 340 young people under the Government’s Kickstart scheme, of which 40% secured jobs or returned to education.',\n",
       "    'SDG 6: Clean Water and Sanitation': 'Water Quality and Management: Severn Trent aims to improve water quality and ensure sustainable water management. Initiatives include improving water quality through effluent treatment, reducing leakage, and enhancing biodiversity in water catchments. They have set specific targets to improve river quality and ensure 100% compliance of treatment works.',\n",
       "    'SDG 7: Affordable and Clean Energy': 'Renewable Energy: Severn Trent’s Green Power business generates renewable energy. They are committed to using 100% renewable energy by 2030 and have achieved an 85% use of renewable energy so far.',\n",
       "    'SDG 8: Decent Work and Economic Growth': 'Economic Contribution: Severn Trent supports economic growth by investing in infrastructure and sustainability projects, contributing £1.943 billion in group turnover and £506.2 million in group profit before interest and tax.',\n",
       "    'SDG 9: Industry, Innovation, and Infrastructure': 'Infrastructure Investment: Severn Trent invests in water and sewage treatment infrastructure, ensuring high standards of service and environmental compliance. They maintain over 50,200 km of clean water pipes and over 92,900 km of sewer pipes.',\n",
       "    'SDG 11: Sustainable Cities and Communities': 'Community Support: Severn Trent invests in local communities through the Severn Trent Community Fund, which has supported 166 non-profit organizations with over £3.4 million in grants and donations. They focus on making water affordable for everyone and enhancing community engagement.',\n",
       "    'SDG 12: Responsible Consumption and Production': 'Sustainable Practices: Severn Trent promotes responsible consumption and production through waste management and circular economy principles. They aim for a 99% diversion from landfill in some categories of facilities waste.',\n",
       "    'SDG 13: Climate Action': 'Net Zero Ambition: Severn Trent has committed to achieving net zero operational emissions by 2030. Their Triple Carbon Pledge includes 100% renewable energy use and a 100% electric vehicle fleet by 2030. They have set Science-Based Targets for reducing Scope 1 and Scope 2 emissions by 46% by 2031 from a 2019/20 baseline.',\n",
       "    'SDG 15: Life on Land': 'Biodiversity and Land Use: Severn Trent is committed to enhancing biodiversity, aiming to improve 5,000 hectares of land by 2027. They plan to plant 1.3 million trees by 2030 and restore over 2,000 acres of peatland by 2025.',\n",
       "    'SDG 17: Partnerships for the Goals': 'Stakeholder Engagement: Severn Trent collaborates with various stakeholders, including customers, suppliers, regulators, and community organizations, to achieve sustainability goals and support the SDGs.'},\n",
       "   '05_CENTRICA_PLC': {'SDG 1: No Poverty': \"The report mentions Centrica's efforts to help vulnerable customers during the energy crisis by committing £50 million to support homes and businesses with their energy bills. This support includes funds from the British Gas Energy Trust and additional investments in customer service .\",\n",
       "    'SDG 3: Good Health and Well-being': \"The report highlights Centrica's focus on colleague well-being, including mental health support and safety measures. The company provided cost of living payments, emphasized mental health, and maintained a suite of support including a healthcare plan and a network of mental health first aiders .\",\n",
       "    'SDG 4: Quality Education': 'Centrica has set a goal to recruit 3,500 apprentices and provide career development opportunities for under-represented groups by 2030. In 2022, they recruited 1,033 apprentices, demonstrating their commitment to education and skills development .',\n",
       "    'SDG 5: Gender Equality': 'Centrica aims to reflect the full diversity of the communities they serve by 2030, targeting specific representation goals for women, ethnic minorities, people with disabilities, LGBTQ+ individuals, and ex-service personnel. In 2022, they made progress in increasing the representation of women and other diverse groups among their senior leaders and overall workforce .',\n",
       "    'SDG 7: Affordable and Clean Energy': \"The report details Centrica's efforts to help customers transition to net zero by supporting energy efficiency and low carbon technologies. This includes launching British Gas Net Zero Ventures, installing heat pumps, and supporting the take-up of EV charging points \\u200b\\u200b.\",\n",
       "    'SDG 8: Decent Work and Economic Growth': 'Centrica is committed to creating high-quality jobs, particularly through their apprenticeship programs. They also focus on maintaining fairness in pay practices and improving colleague engagement and retention .',\n",
       "    'SDG 9: Industry, Innovation, and Infrastructure': \"Centrica's investments in flexible gas-fired generation plants and the development of their Rough gas storage facility for hydrogen storage demonstrate their commitment to supporting energy infrastructure and innovation\\u200b\\u200b .\",\n",
       "    'SDG 10: Reduced Inequality': 'Centrica aims to create an inclusive workforce that reflects community diversity and ensures equitable pay practices. Their efforts include monitoring and improving their gender and ethnicity pay gaps \\u200b\\u200b.',\n",
       "    'SDG 11: Sustainable Cities and Communities': \"The report mentions Centrica's significant investment in local communities, including support for vulnerable customers and funding for local charities and community organizations. This is part of their broader effort to build inclusive and sustainable communities\\u200b\\u200b.\",\n",
       "    'SDG 12: Responsible Consumption and Production': 'Centrica promotes energy efficiency and optimization services, low carbon technologies, and clean energy to reduce greenhouse gas emissions and encourage sustainable consumption .',\n",
       "    'SDG 13: Climate Action': 'Centrica has set ambitious targets to become a net zero business by 2045 and help customers achieve net zero by 2050. They track and report their progress in reducing greenhouse gas emissions and advancing their Climate Transition Plan\\u200b\\u200b .',\n",
       "    'SDG 16: Peace, Justice, and Strong Institutions': 'Centrica emphasizes ethical business practices, regulatory compliance, and strong governance frameworks to ensure they operate responsibly and transparently .',\n",
       "    'SDG 17: Partnerships for the Goals': \"The report discusses Centrica's collaborations with stakeholders, including customers, governments, and other organizations, to support the energy transition and achieve their sustainability goals .\"},\n",
       "   '07_PENNON_GROUP_PLC': {'SDG 1: No Poverty': 'The document outlines initiatives to address water poverty, aiming for zero customers in water poverty by 2025 through various affordability schemes\\u200b\\u200b\\u200b\\u200b\\u200b\\u200b.',\n",
       "    'SDG 3: Good Health and Well-being': 'The report emphasizes ensuring clean, safe drinking water and highlights efforts to manage sewer flooding, enhancing public health and environmental quality\\u200b\\u200b.',\n",
       "    'SDG 4: Quality Education': 'The company supports education programs such as primary school initiatives teaching water efficiency and pollution reduction\\u200b\\u200b.',\n",
       "    'SDG 5: Gender Equality': 'The report does not explicitly discuss gender equality but includes diversity initiatives within its recruitment practices\\u200b\\u200b.',\n",
       "    'SDG 6: Clean Water and Sanitation': 'Key initiatives include enhancing water treatment works, reducing pollution incidents, and managing water resources to ensure a clean and reliable supply\\u200b\\u200b\\u200b\\u200b.',\n",
       "    'SDG 7: Affordable and Clean Energy': 'The document outlines goals to generate up to 50% of the energy used through renewable sources by 2030 and details existing renewable energy projects\\u200b\\u200b\\u200b\\u200b.',\n",
       "    'SDG 8: Decent Work and Economic Growth': 'Pennon Group supports job creation and economic growth through substantial investment in environmental projects and infrastructure\\u200b\\u200b\\u200b\\u200b.',\n",
       "    'SDG 9: Industry, Innovation, and Infrastructure': 'The report details investments in advanced water treatment facilities, renewable energy projects, and the deployment of new technologies to enhance infrastructure\\u200b\\u200b\\u200b\\u200b\\u200b\\u200b.',\n",
       "    'SDG 10: Reduced Inequality': 'The company is committed to providing affordable water services to vulnerable customers and increasing accessibility through support programs\\u200b\\u200b.',\n",
       "    'SDG 11: Sustainable Cities and Communities': 'Initiatives include improving water quality and managing water resources to support sustainable urban development and community well-being\\u200b\\u200b.',\n",
       "    'SDG 12: Responsible Consumption and Production': 'Efforts to promote water efficiency and responsible consumption include educational programs and community initiatives\\u200b\\u200b.',\n",
       "    'SDG 13: Climate Action': \"The report outlines Pennon's Net Zero by 2030 plan, detailing strategies to reduce carbon emissions and enhance climate resilience\\u200b\\u200b\\u200b\\u200b.\",\n",
       "    'SDG 14: Life Below Water': 'Initiatives to improve coastal water quality and reduce pollution are emphasized, contributing to the health of marine ecosystems\\u200b\\u200b\\u200b\\u200b.',\n",
       "    'SDG 15: Life on Land': 'The document highlights catchment management and biodiversity enhancement projects aimed at protecting natural habitats and restoring land\\u200b\\u200b\\u200b\\u200b.',\n",
       "    'SDG 17: Partnerships for the Goals': 'The company collaborates with various stakeholders, including regulators, community groups, and environmental organizations, to achieve its sustainability goals\\u200b\\u200b\\u200b\\u200b.'},\n",
       "   '08_RENEWI_PLC': {'SDG 1: No Poverty': 'The document emphasizes addressing water poverty by 2025, with South West Water and Bristol Water setting targets for zero customers in water poverty. Various initiatives, such as discounted tariffs and affordability schemes, have been implemented to support financially vulnerable customers .',\n",
       "    'SDG 3: Good Health and Well-being': \"The document highlights the company's commitment to good health and well-being by ensuring the safety and health of their employees. They emphasize safety culture and initiatives to reduce workplace accidents and promote well-being .\",\n",
       "    'SDG 5: Gender Equality': 'Diversity and inclusion are addressed, with specific mention of efforts to recruit ethnically diverse candidates through their graduate recruitment program .',\n",
       "    'SDG 6: Clean Water and Sanitation': \"The document discusses the company's efforts in providing clean and reliable water services, including improving water treatment facilities and ensuring compliance with wastewater regulations. They aim to enhance water quality and ensure sustainability .\",\n",
       "    'SDG 8: Decent Work and Economic Growth': 'The document highlights the creation of additional jobs and investment in the local economy through various initiatives. It also emphasizes employee well-being and safety as part of their commitment to decent work .',\n",
       "    'SDG 9: Industry, Innovation, and Infrastructure': 'Investments in innovative water treatment and supply technologies are mentioned, along with infrastructure improvements to enhance service reliability and efficiency .',\n",
       "    'SDG 10: Reduced Inequality': 'The company addresses affordability issues, providing financial support and various schemes to ensure that vulnerable and low-income households have access to water services .',\n",
       "    'SDG 11: Sustainable Cities and Communities': 'Efforts to support sustainable communities are discussed, including investments in infrastructure to prevent flooding and enhance water quality in urban areas .',\n",
       "    'SDG 12: Responsible Consumption and Production': 'The document mentions initiatives to promote efficient water use and reduce wastage. Efforts include customer engagement to save water and reduce environmental impact .',\n",
       "    'SDG 13: Climate Action': 'There is a strong focus on environmental sustainability, including reducing carbon emissions and improving land management practices to combat climate change .',\n",
       "    'SDG 15: Life on Land': 'The document discusses land restoration and management initiatives, aiming to improve biodiversity and natural habitats as part of their environmental stewardship programs .',\n",
       "    'SDG 16: Peace, Justice, and Strong Institutions': 'Governance and strong institutional frameworks are emphasized to ensure ethical business practices and stakeholder engagement .',\n",
       "    'SDG 17: Partnerships for the Goals': 'The company collaborates with various stakeholders, including regulatory bodies, local communities, and customers, to achieve their sustainability goals .'}}},\n",
       " 2023: {'Energy': {'01_shell': {'SDG 3: Good Health and Well-being': 'Shell’s 2023 report emphasizes its ongoing commitment to health and safety. The report highlights continuous improvements in safety performance, though it acknowledges incidents and fatalities. Shell remains dedicated to enhancing safety standards and mitigating health risks for employees and surrounding communities.',\n",
       "    'SDG 4: Quality Education': \"The report underscores Shell's involvement in community engagement, particularly through educational programs. Shell continues to invest in local education by funding schools and providing scholarships to improve access to quality education in the communities where it operates.\",\n",
       "    'SDG 5: Gender Equality': 'Shell’s report outlines its efforts to foster diversity and inclusion within the company. It emphasizes increasing female representation in the workforce and leadership roles, and it describes policies aimed at promoting gender equality and empowering women.',\n",
       "    'SDG 6: Clean Water and Sanitation': \"The report discusses Shell's responsible management of water resources. This includes initiatives to reduce water usage and prevent contamination through better operational practices and spill prevention measures.\",\n",
       "    'SDG 7: Affordable and Clean Energy': 'Shell is actively engaged in the transition to a lower-carbon future. The report details investments in renewable energy sources such as wind and solar power, as well as cleaner energy solutions like natural gas and biofuels. Shell is also developing carbon capture and storage technologies to reduce greenhouse gas emissions.',\n",
       "    'SDG 8: Decent Work and Economic Growth': 'Shell emphasizes its commitment to providing safe and decent working conditions, fostering economic growth, and supporting local economies. This is achieved through job creation, local procurement, and investments in community development projects.',\n",
       "    'SDG 9: Industry, Innovation, and Infrastructure': 'Shell continues to invest in research and development to drive innovation in the energy sector. The report highlights projects aimed at improving infrastructure and deploying new technologies to enhance energy efficiency and sustainability.',\n",
       "    'SDG 11: Sustainable Cities and Communities': 'Shell supports sustainable urban development by investing in cleaner energy solutions and infrastructure projects that enhance urban quality of life. The report highlights initiatives that improve energy efficiency and reduce the environmental impact of cities.',\n",
       "    'SDG 12: Responsible Consumption and Production': 'The report outlines Shell’s efforts to promote responsible consumption and production. This includes reducing flaring, managing waste effectively, and implementing practices that support sustainable production and consumption patterns.',\n",
       "    'SDG 13: Climate Action': \"Climate action remains a central focus. Shell supports the goals of the Paris Agreement and is committed to reducing its carbon footprint. The report details Shell's initiatives in carbon capture and storage, renewable energy, and promoting natural gas as a cleaner alternative to coal.\",\n",
       "    'SDG 15: Life on Land': 'Shell’s environmental management includes protecting biodiversity and land resources. The report discusses initiatives aimed at habitat restoration and reducing the environmental impact of operations on land ecosystems.',\n",
       "    'SDG 16: Peace, Justice, and Strong Institutions': \"The report emphasizes Shell's dedication to ethical business practices, transparency, and robust governance. Shell supports strong institutions by adhering to high standards of corporate governance and maintaining transparent reporting practices.\",\n",
       "    'SDG 17: Partnerships for the Goals': 'Shell collaborates with a wide range of stakeholders, including governments, NGOs, and other companies, to achieve sustainability goals. The report highlights partnerships aimed at advancing the energy transition and addressing global challenges such as climate change.'},\n",
       "   '02_BP': {'SDG 3: Good Health and Well-being': 'Summary:',\n",
       "    'SDG 4: Quality Education': 'Summary:',\n",
       "    'SDG 6: Clean Water and Sanitation': 'Summary:',\n",
       "    'SDG 7: Affordable and Clean Energy': 'Summary:',\n",
       "    'SDG 8: Decent Work and Economic Growth': 'Summary:',\n",
       "    'SDG 9: Industry, Innovation, and Infrastructure': 'Summary:',\n",
       "    'SDG 10: Reduced Inequality': 'Summary:',\n",
       "    'SDG 11: Sustainable Cities and Communities': 'Summary:',\n",
       "    'SDG 12: Responsible Consumption and Production': 'Summary:',\n",
       "    'SDG 13: Climate Action': 'Summary:',\n",
       "    'SDG 15: Life on Land': 'Summary:',\n",
       "    'SDG 16: Peace, Justice, and Strong Institutions': 'Summary:',\n",
       "    'SDG 17: Partnerships for the Goals': 'Summary:'},\n",
       "   '04_energeans': {'SDG 3: Good Health and Well-being': 'Summary:',\n",
       "    'SDG 5: Gender Equality': 'Summary:',\n",
       "    'SDG 6: Clean Water and Sanitation': 'Summary:',\n",
       "    'SDG 7: Affordable and Clean Energy': 'Summary:',\n",
       "    'SDG 8: Decent Work and Economic Growth': 'Summary:',\n",
       "    'SDG 9: Industry, Innovation, and Infrastructure': 'Summary:',\n",
       "    'SDG 10: Reduced Inequality': 'Summary:',\n",
       "    'SDG 11: Sustainable Cities and Communities': 'Summary:',\n",
       "    'SDG 12: Responsible Consumption and Production': 'Summary:',\n",
       "    'SDG 13: Climate Action': 'Summary:',\n",
       "    'SDG 14: Life Below Water': 'Summary:',\n",
       "    'SDG 15: Life on Land': 'Summary:',\n",
       "    'SDG 16: Peace, Justice, and Strong Institutions': 'Summary:',\n",
       "    'SDG 17: Partnerships for the Goals': 'Summary:'},\n",
       "   '05_ITHACA_ENERGY_PLC': {'SDG 3: Good Health and Well-being': 'Summary:',\n",
       "    'SDG 6: Clean Water and Sanitation': 'Summary:',\n",
       "    'SDG 7: Affordable and Clean Energy': 'Summary:',\n",
       "    'SDG 8: Decent Work and Economic Growth': 'Summary:',\n",
       "    'SDG 9: Industry, Innovation, and Infrastructure': 'Summary:',\n",
       "    'SDG 12: Responsible Consumption and Production': 'Summary:',\n",
       "    'SDG 13: Climate Action': 'Summary:',\n",
       "    'SDG 14: Life Below Water': 'Summary:',\n",
       "    'SDG 15: Life on Land': 'Summary:',\n",
       "    'SDG 16: Peace, Justice, and Strong Institutions': 'Summary:',\n",
       "    'SDG 17: Partnerships for the Goals': 'Summary:'},\n",
       "   '06_LSE_WG': {'SDG 3: Good Health and Well-being': 'Summary:',\n",
       "    'SDG 4: Quality Education': 'Summary:',\n",
       "    'SDG 5: Gender Equality': 'Summary:',\n",
       "    'SDG 7: Affordable and Clean Energy': 'Summary:',\n",
       "    'SDG 8: Decent Work and Economic Growth': 'Summary:',\n",
       "    'SDG 9: Industry, Innovation, and Infrastructure': 'Summary:',\n",
       "    'SDG 10: Reduced Inequality': 'Summary:',\n",
       "    'SDG 12: Responsible Consumption and Production': 'Summary:',\n",
       "    'SDG 13: Climate Action': 'Summary:',\n",
       "    'SDG 15: Life on Land': 'Summary:',\n",
       "    'SDG 16: Peace, Justice, and Strong Institutions': 'Summary:',\n",
       "    'SDG 17: Partnerships for the Goals': 'Summary:'},\n",
       "   '07_SERICA_ENERGY_PLC': {'SDG 1: No Poverty': 'Summary:',\n",
       "    'SDG 2: Zero Hunger': 'Summary:',\n",
       "    'SDG 3: Good Health and Well-being': 'Summary:',\n",
       "    'SDG 4: Quality Education': 'Summary:',\n",
       "    'SDG 5: Gender Equality': 'Summary:',\n",
       "    'SDG 6: Clean Water and Sanitation': 'Summary:',\n",
       "    'SDG 7: Affordable and Clean Energy': 'Summary:',\n",
       "    'SDG 8: Decent Work and Economic Growth': 'Summary:',\n",
       "    'SDG 9: Industry, Innovation, and Infrastructure': 'Summary:',\n",
       "    'SDG 10: Reduced Inequality': 'Summary:',\n",
       "    'SDG 12: Responsible Consumption and Production': 'Summary:',\n",
       "    'SDG 13: Climate Action': 'Summary:',\n",
       "    'SDG 14: Life Below Water': 'Summary:',\n",
       "    'SDG 15: Life on Land': 'Summary:',\n",
       "    'SDG 16: Peace, Justice, and Strong Institutions': 'Summary:',\n",
       "    'SDG 17: Partnerships for the Goals': 'Summary:'},\n",
       "   '08_ASHTEAD_TECHNOLOGY_HOLDINGS_PLC': {'SDG 3: Good Health and Well-being': 'Summary:',\n",
       "    'SDG 4: Quality Education': 'Summary:',\n",
       "    'SDG 5: Gender Equality': 'Summary:',\n",
       "    'SDG 6: Clean Water and Sanitation': 'Summary:',\n",
       "    'SDG 7: Affordable and Clean Energy': 'Summary:',\n",
       "    'SDG 8: Decent Work and Economic Growth': 'Summary:',\n",
       "    'SDG 9: Industry, Innovation, and Infrastructure': 'Summary:',\n",
       "    'SDG 10: Reduced Inequality': 'Summary:',\n",
       "    'SDG 11: Sustainable Cities and Communities': 'Summary:',\n",
       "    'SDG 12: Responsible Consumption and Production': 'Summary:',\n",
       "    'SDG 13: Climate Action': 'Summary:',\n",
       "    'SDG 14: Life Below Water': 'Summary:',\n",
       "    'SDG 16: Peace, Justice, and Strong Institutions': 'Summary:',\n",
       "    'SDG 17: Partnerships for the Goals': 'Summary:'},\n",
       "   '10_DIVERSIFIED_ENERGY_COMPANY_PLC': {'SDG 3: Good Health and Well-being': 'Summary:',\n",
       "    'SDG 4: Quality Education': 'Summary:',\n",
       "    'SDG 5: Gender Equality': 'Summary:',\n",
       "    'SDG 6: Clean Water and Sanitation': 'Summary:',\n",
       "    'SDG 7: Affordable and Clean Energy': 'Summary:',\n",
       "    'SDG 8: Decent Work and Economic Growth': 'Summary:',\n",
       "    'SDG 9: Industry, Innovation, and Infrastructure': 'Summary:',\n",
       "    'SDG 10: Reduced Inequality': 'Summary:',\n",
       "    'SDG 11: Sustainable Cities and Communities': 'Summary:',\n",
       "    'SDG 12: Responsible Consumption and Production': 'Summary:',\n",
       "    'SDG 13: Climate Action': 'Summary:',\n",
       "    'SDG 14: Life Below Water': 'Summary:',\n",
       "    'SDG 16: Peace, Justice, and Strong Institutions': 'Summary:',\n",
       "    'SDG 17: Partnerships for the Goals': 'Summary:'}},\n",
       "  'Utilities': {'01_NATIONAL_GRID_PLC': {'SDG 3: Good Health and Well-being': 'Employee Health and Safety: National Grid emphasizes the health, safety, and well-being of its employees. Initiatives include comprehensive safety measures and mental health support.',\n",
       "    'SDG 4: Quality Education': 'Skills Development: The company supports career development and training programs, particularly in clean energy sectors, to build a skilled workforce for the future.',\n",
       "    'SDG 5: Gender Equality': 'Diversity and Inclusion: National Grid aims for gender equality and diversity in the workplace. Initiatives include unconscious bias training, supporting women in engineering roles, and achieving significant female representation in leadership.',\n",
       "    'SDG 7: Affordable and Clean Energy': 'Clean Energy Transition: National Grid invests heavily in energy infrastructure to support the clean energy transition. Projects include renewable energy connections, grid modernization, and innovative energy solutions like interconnectors and renewable natural gas.',\n",
       "    'SDG 8: Decent Work and Economic Growth': 'Economic Growth and Employment: The company promotes fair pay and inclusive employment practices. It also invests in skills development and provides employment opportunities, contributing to economic growth in the regions where it operates.',\n",
       "    'SDG 9: Industry, Innovation, and Infrastructure': 'Innovation and Infrastructure: National Grid is committed to building resilient and modern energy infrastructure. Initiatives include developing new technologies, enhancing grid capabilities, and investing in large-scale renewable energy projects.',\n",
       "    'SDG 10: Reduced Inequality': 'Inclusive Programs: National Grid’s initiatives aim to reduce inequality by providing opportunities for disadvantaged communities and ensuring fair and inclusive employment practices.',\n",
       "    'SDG 11: Sustainable Cities and Communities': 'Community Support: National Grid supports sustainable cities and communities by ensuring reliable energy supply, engaging in community development, and supporting energy efficiency programs.',\n",
       "    'SDG 12: Responsible Consumption and Production': 'Sustainable Practices: The company focuses on responsible consumption and production by reducing emissions, improving energy efficiency, and promoting sustainable practices among suppliers and within its operations.',\n",
       "    'SDG 13: Climate Action': 'GHG Emissions Reduction: National Grid aims to achieve net zero emissions by 2050, with significant interim targets for reducing Scope 1, 2, and 3 emissions. The company’s Climate Transition Plan outlines these goals and the steps to achieve them.',\n",
       "    'SDG 15: Life on Land': 'Biodiversity and Land Use: National Grid is committed to improving the environmental value of its land. Projects include biodiversity enhancement and sustainable land management practices.',\n",
       "    'SDG 16: Peace, Justice, and Strong Institutions': 'Ethical Conduct and Transparency: National Grid maintains high ethical standards and transparency in reporting. The company ensures compliance with legal and ethical guidelines and engages in regular performance assessments.',\n",
       "    'SDG 17: Partnerships for the Goals': 'Stakeholder Engagement: National Grid collaborates with various stakeholders, including governments, regulators, and communities, to advance the energy transition and support the SDGs. The company engages in partnerships to drive collective action towards a sustainable future.'},\n",
       "   '02_SSE_PLC': {'SDG 3: Good Health and Well-being': 'Employee Health and Safety: SSE aims to provide a safe working environment with a Total Recordable Injury Rate (TRIR) target for employees and contractors, which was 0.14 per 100,000 hours worked in 2022/23.',\n",
       "    'SDG 5: Gender Equality': 'Inclusive Workplace: SSE is focused on creating an inclusive workplace and reducing the gender pay gap, which decreased to 15.3% in 2022/23.',\n",
       "    'SDG 7: Affordable and Clean Energy': 'Renewable Energy Investment: SSE is a leading generator of renewable electricity in the UK and Ireland, with significant investments in onshore and offshore wind, hydro power, and solar projects. The company aims to increase its renewable capacity to over 16GW by 2030.',\n",
       "    'SDG 8: Decent Work and Economic Growth': 'Fair Work: SSE is a Living Wage and Living Hours accredited employer, promoting fair pay and tax practices. They contributed £6.04 billion to the UK economy and €429 million to the Irish economy in 2022/23.',\n",
       "    'SDG 9: Industry, Innovation, and Infrastructure': 'Infrastructure Investment: SSE invests in upgrading energy infrastructure to support the transition to net zero, including significant investments in wind farms, grid enhancements, and innovative projects like carbon capture and hydrogen technologies.',\n",
       "    'SDG 11: Sustainable Cities and Communities': 'Community Investment: SSE supports local communities through financial contributions and initiatives aimed at promoting sustainable living and energy efficiency.',\n",
       "    'SDG 12: Responsible Consumption and Production': 'Sustainable Practices: SSE focuses on responsible consumption and production, with initiatives to reduce waste and enhance resource efficiency. They also aim to increase the use of renewable energy sources in their operations.',\n",
       "    'SDG 13: Climate Action': 'GHG Emissions Reduction: SSE aims to reduce its scope 1 and 2 GHG emissions by 80% by 2030 and achieve net zero emissions by 2040. They are also working on reducing scope 3 emissions by 2050.',\n",
       "    'SDG 15: Life on Land': 'Biodiversity and Environmental Management: SSE is committed to protecting and enhancing biodiversity and responsibly managing environmental impacts. They are involved in projects to reduce SF₆ emissions and enhance the sustainability of their operations.',\n",
       "    'SDG 16: Peace, Justice, and Strong Institutions': 'Ethical Conduct: SSE maintains high ethical standards, transparency, and compliance with legal and regulatory requirements. They promote ethical business practices and have robust policies on human rights and anti-corruption.',\n",
       "    'SDG 17: Partnerships for the Goals': 'Stakeholder Engagement: SSE collaborates with various stakeholders, including governments, NGOs, and industry partners, to support the SDGs. They are involved in initiatives like the UN Global Compact and work with partners to drive sustainability and innovation in the energy sector.'},\n",
       "   '03_SEVERN_TRENT_PLC': {'SDG 3: Good Health and Well-being': 'SSE focuses on the health and safety of its employees and communities. The report mentions initiatives aimed at ensuring employee well-being, mental health support, and maintaining a safe working environment. SSE also supports good health through water and sanitation projects in collaboration with WaterAid.',\n",
       "    'SDG 4: Quality Education': 'SSE invests in educational programs, including apprenticeship schemes and graduate programs. The company emphasizes lifelong learning and development opportunities for its employees and community members.',\n",
       "    'SDG 5: Gender Equality': \"SSE is committed to promoting gender equality within its workforce. The company aims for gender parity in leadership positions and ensures fair pay practices. SSE's initiatives include supporting women in leadership and addressing gender pay gaps.\",\n",
       "    'SDG 6: Clean Water and Sanitation': 'SSE is dedicated to ensuring the sustainable management of water resources. The company supports initiatives to provide clean water and sanitation through its operations and partnerships, including contributions to global water projects.',\n",
       "    'SDG 7: Affordable and Clean Energy': \"SSE's core business aligns closely with this goal. The company is a leader in renewable energy production, aiming to significantly increase its renewable energy output by 2030. SSE also focuses on energy efficiency and supports the transition to a low-carbon energy system.\",\n",
       "    'SDG 8: Decent Work and Economic Growth': 'SSE promotes inclusive and sustainable economic growth through job creation and fair work practices. The company supports economic development in local communities and ensures safe working conditions. SSE also contributes to the public purse through its tax practices.',\n",
       "    'SDG 9: Industry, Innovation, and Infrastructure': \"Innovation is central to SSE's strategy. The company invests in infrastructure projects that support sustainable development, such as renewable energy facilities and smart grid technologies. SSE also runs large-scale technology trials to advance industry practices.\",\n",
       "    'SDG 10: Reduced Inequality': 'SSE aims to reduce inequalities through its inclusive employment practices and support for diverse communities. The company promotes social mobility and recruits from underrepresented areas.',\n",
       "    'SDG 11: Sustainable Cities and Communities': 'SSE contributes to sustainable urban development by investing in infrastructure that supports clean energy and efficient water management. The company collaborates on projects aimed at enhancing the sustainability of cities and communities.',\n",
       "    'SDG 12: Responsible Consumption and Production': 'SSE focuses on resource efficiency and waste reduction in its operations. The company aims for zero waste to landfill and promotes sustainable practices within its supply chain.',\n",
       "    'SDG 13: Climate Action': \"Climate action is a primary focus for SSE. The company has set ambitious targets to reduce carbon emissions and increase renewable energy production. SSE's initiatives include adopting science-based targets for carbon reduction and investing in technologies to combat climate change.\",\n",
       "    'SDG 15: Life on Land': 'SSE works to enhance biodiversity and protect natural habitats. The company undertakes projects to improve the biodiversity of its landholdings and supports initiatives to restore ecosystems.',\n",
       "    'SDG 16: Peace, Justice, and Strong Institutions': 'SSE adheres to strong governance practices, emphasizing ethical conduct, transparency, and accountability. The company integrates human rights principles into its operations and promotes fair business practices.',\n",
       "    'SDG 17: Partnerships for the Goals': 'SSE collaborates with various stakeholders, including governments, NGOs, and other businesses, to advance its sustainability goals. The company engages in partnerships that support the broader UN SDG agenda.'},\n",
       "   '04_UNITED_UTILITIES_GROUP_PLC': {'SDG 1: No Poverty': \"The report highlights the company's efforts to support those struggling to pay their water bills through the social tariff and the Trust Fund, providing substantial affordability support to customers\\u200b\\u200b.\",\n",
       "    'SDG 3: Good Health and Well-being': 'United Utilities is dedicated to providing safe and clean water, which is crucial for public health. Their initiatives include water quality improvements and engagement in educating communities about safe water practices\\u200b\\u200b.',\n",
       "    'SDG 4: Quality Education': \"The company engages in educational programs for children, such as 'All about water' sessions and Grime Scene Assemblies, to raise awareness about water efficiency and safety\\u200b\\u200b.\",\n",
       "    'SDG 5: Gender Equality': 'The report mentions efforts to improve diversity and inclusion within the workforce, aiming for strong female representation at the top of the organization\\u200b\\u200b.',\n",
       "    'SDG 6: Clean Water and Sanitation': 'United Utilities focuses heavily on improving water quality and sanitation. Initiatives include reducing storm overflow activations, improving river health, and implementing projects like Northern Roots to enhance water quality\\u200b\\u200b.',\n",
       "    'SDG 7: Affordable and Clean Energy': 'The company has committed to using 100% renewable electricity throughout its operations and is working on increasing its renewable energy capacity through solar, wind, and batteries\\u200b\\u200b.',\n",
       "    'SDG 8: Decent Work and Economic Growth': 'United Utilities supports 22,700 jobs through its supply chain and focuses on providing a safe and supportive work environment for its employees. The company is also investing in local communities, contributing to economic growth in the North West\\u200b\\u200b.',\n",
       "    'SDG 9: Industry, Innovation, and Infrastructure': \"The report outlines the company's efforts in infrastructure improvements and technological advancements to enhance efficiency and reduce environmental impact\\u200b\\u200b.\",\n",
       "    'SDG 10: Reduced Inequality': 'Efforts to support vulnerable customers and provide affordable water services contribute to reducing inequalities. The company also emphasizes the importance of diversity and inclusion within its workforce\\u200b\\u200b.',\n",
       "    'SDG 11: Sustainable Cities and Communities': 'United Utilities is involved in projects like Northern Roots, which aim to create sustainable urban environments. They also focus on reducing the environmental impact of storm overflows to improve urban water quality\\u200b\\u200b.',\n",
       "    'SDG 12: Responsible Consumption and Production': 'The report includes initiatives for water efficiency and waste reduction, encouraging responsible consumption of water resources through various community and school programs\\u200b\\u200b.',\n",
       "    'SDG 13: Climate Action': 'United Utilities has set targets for reducing greenhouse gas emissions and increasing climate resilience. The company is also involved in peatland restoration and woodland creation to mitigate climate change impacts\\u200b\\u200b.',\n",
       "    'SDG 15: Life on Land': 'The company engages in enhancing and protecting natural capital, including peatland restoration and woodland creation, which supports biodiversity and ecosystem services\\u200b\\u200b.',\n",
       "    'SDG 16: Peace, Justice, and Strong Institutions': 'United Utilities maintains strong governance practices and emphasizes transparency and accountability in its operations. They also focus on building trust with stakeholders\\u200b\\u200b.',\n",
       "    'SDG 17: Partnerships for the Goals': 'The report highlights the importance of partnerships in achieving sustainability goals, including collaborations with local communities, regulators, and other stakeholders to enhance water management and environmental protection\\u200b\\u200b.'},\n",
       "   '05_CENTRICA_PLC': {'SDG 1: No Poverty': 'Support for Vulnerable Customers: Centrica has committed £140 million to help customers struggling with energy bills during the energy crisis. This is complemented by the support programs like the Warm Home Discount and Energy Company Obligation\\u200b\\u200b.',\n",
       "    'SDG 3: Good Health and Well-being': 'Employee Well-being: Centrica focuses on the mental and physical health of its employees, providing mental health support, healthcare plans, and training for mental health first aiders. Safety in the workplace is also emphasized, with comprehensive safety training programs in place\\u200b\\u200b.',\n",
       "    'SDG 4: Quality Education': 'Apprenticeship Programs: Centrica plans to recruit 3,500 apprentices by 2030, providing career development opportunities for under-represented groups. The company supports educational initiatives such as Tech She Can and the Women into Manufacturing and Engineering Raising Aspirations program\\u200b\\u200b.',\n",
       "    'SDG 5: Gender Equality': 'Diversity and Inclusion: Centrica aims for gender equality in its workforce, targeting specific goals for female representation in senior leadership and overall workforce diversity. The company supports various diversity groups, including ethnic minorities, people with disabilities, LGBTQ+ individuals, and ex-service personnel\\u200b\\u200b.',\n",
       "    'SDG 7: Affordable and Clean Energy': 'Renewable Energy Initiatives: Centrica is committed to providing renewable energy solutions and aims to be a net zero business by 2045. The company is increasing investments in renewable energy projects such as solar, battery storage, and low carbon technologies\\u200b\\u200b.',\n",
       "    'SDG 8: Decent Work and Economic Growth': 'Job Creation and Fair Work: Centrica supports economic growth through job creation, fair pay practices, and safe working conditions. The company ensures that it pays at least the Real Living Wage in the UK and focuses on reducing pay gaps and improving employee engagement\\u200b\\u200b.',\n",
       "    'SDG 9: Industry, Innovation, and Infrastructure': 'Infrastructure Investment: Centrica invests in projects that support the transition to a low-carbon economy, including renewable energy facilities, flexible power solutions, and exploring hydrogen storage technologies\\u200b\\u200b.',\n",
       "    'SDG 10: Reduced Inequality': 'Inclusive Practices: Centrica works to reduce inequalities by supporting vulnerable customers and promoting diversity and inclusion within its workforce. The company emphasizes fair treatment and opportunities for all employees\\u200b\\u200b.',\n",
       "    'SDG 11: Sustainable Cities and Communities': 'Community Support: Centrica engages in initiatives to support local communities through volunteering, donations, and projects aimed at creating sustainable and resilient urban environments\\u200b\\u200b.',\n",
       "    'SDG 12: Responsible Consumption and Production': 'Sustainable Practices: Centrica promotes responsible consumption and production by encouraging energy efficiency, reducing waste, and managing resources sustainably\\u200b\\u200b.',\n",
       "    'SDG 13: Climate Action': 'Net Zero Commitment: Centrica is focused on becoming a net zero business by 2045 and helping customers achieve net zero by 2050. The company is investing in renewable energy and low carbon technologies to support this transition\\u200b\\u200b.',\n",
       "    'SDG 15: Life on Land': 'Biodiversity and Land Use: Centrica is committed to improving biodiversity and using land sustainably. The company is involved in projects that enhance natural habitats and promote sustainable land use practices\\u200b\\u200b.',\n",
       "    'SDG 16: Peace, Justice, and Strong Institutions': 'Ethical Practices: Centrica ensures fair and ethical practices across its operations, from customer service to human rights. The company promotes transparency and accountability in its business dealings\\u200b\\u200b.',\n",
       "    'SDG 17: Partnerships for the Goals': 'Collaborative Efforts: Centrica collaborates with various stakeholders, including governments, local communities, and partners, to drive action towards achieving its sustainability goals and contributing to the SDGs\\u200b\\u200b.'},\n",
       "   '06_DRAX_GROUP_PLC': {'SDG 3: Good Health and Well-being': 'The report mentions health and safety metrics, including the Total Recordable Incident Rate (TRIR) and the Lost Time Incident Rate (LTIR), which indicate efforts to ensure workplace safety and employee well-being. There were no fatalities reported for both employees and contractors\\u200b\\u200b .',\n",
       "    'SDG 4: Quality Education': 'The Drax Foundation has funded STEM (Science, Technology, Engineering, and Mathematics) initiatives, contributing to education in these critical areas. In 2023, £746,508 was allocated to STEM initiatives\\u200b\\u200b .',\n",
       "    'SDG 5: Gender Equality': \"The report highlights the company's workforce composition with a focus on diversity and inclusion. As of 2023, 32% of all employees and 37% of senior managers are female. The board has an equal representation of 50% male and 50% female members \\u200b\\u200b.\",\n",
       "    'SDG 6: Clean Water and Sanitation': 'The report provides data on water management, including water withdrawn and consumed from areas of high water stress. Drax Power Station has specific metrics on water abstraction and return, indicating efforts in water resource management .',\n",
       "    'SDG 7: Affordable and Clean Energy': 'Drax Group focuses heavily on renewable energy, with 99.9% of its generation output in 2023 coming from renewable sources like biomass, hydro, and pumped storage. The company also produced 3.8 million tonnes of wood pellets as part of its renewable energy strategy .',\n",
       "    'SDG 8: Decent Work and Economic Growth': \"Drax Group's efforts in decent work include maintaining safety standards (TRIR and LTIR), providing employee benefits, and ensuring fair pay and diversity. The company reported an employee engagement score of 79% and continued efforts in training and development \\u200b\\u200b.\",\n",
       "    'SDG 9: Industry, Innovation, and Infrastructure': 'The report includes significant data on industrial activities like power generation, pellet production, and carbon emissions. Drax Group also focuses on reducing emissions through innovation, targeting a 75.7% reduction in Scope 1 and 2 emissions from electricity generation by 2030 .',\n",
       "    'SDG 10: Reduced Inequality': 'Drax Group addresses inequality through its diversity, equity, and inclusion initiatives. The company has measures in place to ensure fair treatment and opportunities across its workforce, as indicated by its gender diversity statistics and support for collective bargaining \\u200b\\u200b.',\n",
       "    'SDG 12: Responsible Consumption and Production': 'The company monitors and reports on its waste generation and management, with a focus on hazardous and non-hazardous waste. Efforts to manage biomass supply chains sustainably are also highlighted, indicating responsible production practices .',\n",
       "    'SDG 13: Climate Action': 'Drax Group has set ambitious targets to reduce its carbon footprint, including a 75.7% reduction in Scope 1 and 2 emissions by 2030 and a 42% reduction in Scope 3 emissions. The company tracks and reports its emissions across various scopes and has measures in place to manage these reductions .',\n",
       "    'SDG 15: Life on Land': 'The report includes data on biomass and the sources of fibre, indicating efforts to ensure sustainable sourcing and minimal environmental impact on land resources .',\n",
       "    'SDG 16: Peace, Justice, and Strong Institutions': 'Drax Group emphasizes ethics and integrity, with initiatives such as the Annual Business Ethics Declaration and Speak Up (whistleblowing) channels to ensure a strong ethical framework within the organization \\u200b\\u200b.'},\n",
       "   '07_PENNON_GROUP_PLC': {'SDG 3: Good Health and Well-being': 'The report outlines health and safety metrics, with targets to maintain a safe working environment. There were notable improvements in health and safety performance, with a reduction in the number of lost time incidents (LTIs). Additionally, the company has a robust health, safety, and wellbeing program for its employees.',\n",
       "    'SDG 5: Gender Equality': 'The report includes diversity and inclusion metrics, showing an increase in female representation across the company. Specific targets for increasing female representation and ensuring diversity in recruitment are highlighted. The company has made progress towards achieving its diversity and inclusion goals.',\n",
       "    'SDG 6: Clean Water and Sanitation': \"The company's primary contribution is to SDG 6, focusing on clean water and sanitation. Initiatives include investments in water treatment works, enhancements in water quality, and efforts to reduce water usage within operational sites. Specific programs like Upstream Thinking and Downstream Thinking aim to improve water quality and manage water resources sustainably.\",\n",
       "    'SDG 7: Affordable and Clean Energy': 'The company is committed to renewable energy, with a focus on achieving Net Zero by 2030. Initiatives include the use of renewable energy sources and investments in energy efficiency projects to reduce greenhouse gas emissions.',\n",
       "    'SDG 8: Decent Work and Economic Growth': 'The report emphasizes the creation of additional jobs and support for the regional economy through investment programs. It highlights efforts to ensure fair and affordable billing, support for customers in vulnerable circumstances, and promoting social mobility and secure employment.',\n",
       "    'SDG 9: Industry, Innovation, and Infrastructure': 'Significant investments in water treatment technology and infrastructure improvements are mentioned. The company has advanced its capabilities in water treatment and storm overflow management, indicating a focus on innovation and robust infrastructure development.',\n",
       "    'SDG 10: Reduced Inequality': 'Efforts to ensure fair treatment and opportunities across the workforce are detailed, with a focus on diversity, equity, and inclusion. The company supports vulnerable customers and engages in community investment initiatives to address inequality.',\n",
       "    'SDG 11: Sustainable Cities and Communities': 'The report includes commitments to improving urban water infrastructure to mitigate risks like sewer flooding and enhance the resilience of water supplies. Investments in water quality and catchment management contribute to sustainable communities.',\n",
       "    'SDG 12: Responsible Consumption and Production': 'The company promotes water efficiency and responsible consumption through various initiatives, including partnerships to encourage water-saving practices. The report also highlights efforts to manage waste and reduce environmental impact.',\n",
       "    'SDG 13: Climate Action': \"The report details the company's comprehensive climate action strategy, including targets for reducing greenhouse gas emissions and enhancing climate resilience. Initiatives like tree planting and catchment management programs aim to mitigate climate change impacts.\",\n",
       "    'SDG 14: Life Below Water': 'Commitments to improving coastal environments through better bathing water quality and compliance with environmental standards are mentioned. These efforts aim to enhance marine ecosystems while supporting local tourism.',\n",
       "    'SDG 15: Life on Land': 'Programs like Upstream Thinking and biodiversity management initiatives focus on land regeneration, improving natural habitats, and ensuring sustainable management of land resources.',\n",
       "    'SDG 16: Peace, Justice, and Strong Institutions': 'The report emphasizes strong governance and ethical practices, including a Speak Up whistleblowing process to address concerns about fraud, bribery, and corruption. The company maintains high standards of compliance and transparency.',\n",
       "    'SDG 17: Partnerships for the Goals': \"The report highlights the importance of partnerships with various stakeholders, including customers, environmental organizations, and community groups, to achieve sustainability goals. Collaborative efforts are key to the company's strategy for delivering environmental and social benefits.\"},\n",
       "   '08_RENEWI_PLC': {'SDG 3: Good Health and Well-being': 'Renewi focuses on the health and safety of its employees and the communities where it operates. The company aims to improve onsite safety through better traffic management, a sickness prevention initiative, and a safety leadership programme\\u200b\\u200b.',\n",
       "    'SDG 6: Clean Water and Sanitation': \"Renewi's wastewater cleaning activities contribute to the circularity of water in local ecosystems. They increased the total volume of wastewater treated from 1.01mT to 1.05mT and are looking to expand these activities\\u200b\\u200b.\",\n",
       "    'SDG 7: Affordable and Clean Energy': 'Renewi contributes to SDG 7 by producing renewable energy and reducing GHG emissions. They supply renewable energy to the grid, buy green electricity certificates, and are expanding their solar power generation capacity\\u200b\\u200b.',\n",
       "    'SDG 11: Sustainable Cities and Communities': 'Renewi aims to improve air quality and waste management in urban areas. They increased the proportion of Euro 6 trucks in their fleet and are expanding joint waste collection partnerships to minimize urban traffic\\u200b\\u200b.',\n",
       "    'SDG 12: Responsible Consumption and Production': \"Enabling the circular economy is central to Renewi's business. They achieved a recycling rate of 63.6% and aim to increase this to 75% through their Mission75 programme. They focus on sustainable innovations and closed-loop recycling in various waste streams\\u200b\\u200b.\",\n",
       "    'SDG 13: Climate Action': 'Renewi has ambitious targets to lower their carbon footprint, aiming to reduce absolute scope 1&2 GHG emissions by 50% by 2030 from a FY22 base year and indirect use phase emissions by 25%. Their recycling activities contribute to carbon avoidance in the value chain\\u200b\\u200b.',\n",
       "    'SDG 15: Life on Land': 'Renewi is investigating ways to align with SDG 15, focusing on how recycling organic waste can help protect and restore ecosystems\\u200b\\u200b.',\n",
       "    'SDG 17: Partnerships for the Goals': 'Renewi collaborates with partners to develop sustainable innovations and create recycling opportunities, supporting SDG 17 through these collaborations\\u200b\\u200b.'}}}}"
      ]
     },
     "execution_count": 213,
     "metadata": {},
     "output_type": "execute_result"
    }
   ],
   "source": [
    "sdgs_dict"
   ]
  },
  {
   "cell_type": "code",
   "execution_count": 215,
   "id": "c97405ff",
   "metadata": {
    "ExecuteTime": {
     "end_time": "2024-06-24T19:23:42.538607Z",
     "start_time": "2024-06-24T19:23:42.532803Z"
    }
   },
   "outputs": [],
   "source": [
    "test=True"
   ]
  },
  {
   "cell_type": "code",
   "execution_count": 216,
   "id": "cad041c2",
   "metadata": {
    "ExecuteTime": {
     "end_time": "2024-06-24T19:23:43.613892Z",
     "start_time": "2024-06-24T19:23:43.607392Z"
    }
   },
   "outputs": [],
   "source": [
    "    keys=list(sdgs_dict.keys())\n",
    "    \n",
    "    if test:\n",
    "        keys=keys[:2]\n",
    "    "
   ]
  },
  {
   "cell_type": "code",
   "execution_count": 217,
   "id": "b059f567",
   "metadata": {
    "ExecuteTime": {
     "end_time": "2024-06-24T19:23:47.055801Z",
     "start_time": "2024-06-24T19:23:47.046605Z"
    }
   },
   "outputs": [
    {
     "data": {
      "text/plain": [
       "[2015, 2016]"
      ]
     },
     "execution_count": 217,
     "metadata": {},
     "output_type": "execute_result"
    }
   ],
   "source": [
    "keys"
   ]
  },
  {
   "cell_type": "code",
   "execution_count": 220,
   "id": "204b4dd3",
   "metadata": {
    "ExecuteTime": {
     "end_time": "2024-06-24T19:24:47.819678Z",
     "start_time": "2024-06-24T19:24:47.810397Z"
    }
   },
   "outputs": [],
   "source": [
    "def cos_sim_per_sdg(dict_0, dict_1, tqdm_loops=False, verbose=False, n_sample=10**3):\n",
    "    common_sdgs=[key for key in dict_0.keys() if key in dict_1.keys()]\n",
    "    for sdg in common_sdgs:\n",
    "        aux=tesste(dict_0[sdg], dict_1[sdg], tqdm_loops=tqdm_loops, n_sample=n_sample, verbose=False)\n",
    "        \n",
    "    return aux"
   ]
  },
  {
   "cell_type": "code",
   "execution_count": 225,
   "id": "1c201c00",
   "metadata": {
    "ExecuteTime": {
     "end_time": "2024-06-24T19:32:09.853161Z",
     "start_time": "2024-06-24T19:30:33.979551Z"
    }
   },
   "outputs": [
    {
     "data": {
      "application/vnd.jupyter.widget-view+json": {
       "model_id": "0a5f03ddc8db400b9dc2409363fe708f",
       "version_major": 2,
       "version_minor": 0
      },
      "text/plain": [
       "  0%|          | 0/2 [00:00<?, ?it/s]"
      ]
     },
     "metadata": {},
     "output_type": "display_data"
    },
    {
     "data": {
      "application/vnd.jupyter.widget-view+json": {
       "model_id": "",
       "version_major": 2,
       "version_minor": 0
      },
      "text/plain": [
       "  0%|          | 0/20 [00:00<?, ?it/s]"
      ]
     },
     "metadata": {},
     "output_type": "display_data"
    },
    {
     "data": {
      "application/vnd.jupyter.widget-view+json": {
       "model_id": "",
       "version_major": 2,
       "version_minor": 0
      },
      "text/plain": [
       "  0%|          | 0/20 [00:00<?, ?it/s]"
      ]
     },
     "metadata": {},
     "output_type": "display_data"
    },
    {
     "data": {
      "application/vnd.jupyter.widget-view+json": {
       "model_id": "",
       "version_major": 2,
       "version_minor": 0
      },
      "text/plain": [
       "  0%|          | 0/20 [00:00<?, ?it/s]"
      ]
     },
     "metadata": {},
     "output_type": "display_data"
    },
    {
     "data": {
      "application/vnd.jupyter.widget-view+json": {
       "model_id": "",
       "version_major": 2,
       "version_minor": 0
      },
      "text/plain": [
       "  0%|          | 0/20 [00:00<?, ?it/s]"
      ]
     },
     "metadata": {},
     "output_type": "display_data"
    },
    {
     "data": {
      "application/vnd.jupyter.widget-view+json": {
       "model_id": "",
       "version_major": 2,
       "version_minor": 0
      },
      "text/plain": [
       "  0%|          | 0/20 [00:00<?, ?it/s]"
      ]
     },
     "metadata": {},
     "output_type": "display_data"
    },
    {
     "data": {
      "application/vnd.jupyter.widget-view+json": {
       "model_id": "",
       "version_major": 2,
       "version_minor": 0
      },
      "text/plain": [
       "  0%|          | 0/20 [00:00<?, ?it/s]"
      ]
     },
     "metadata": {},
     "output_type": "display_data"
    },
    {
     "data": {
      "application/vnd.jupyter.widget-view+json": {
       "model_id": "",
       "version_major": 2,
       "version_minor": 0
      },
      "text/plain": [
       "  0%|          | 0/20 [00:00<?, ?it/s]"
      ]
     },
     "metadata": {},
     "output_type": "display_data"
    },
    {
     "data": {
      "application/vnd.jupyter.widget-view+json": {
       "model_id": "",
       "version_major": 2,
       "version_minor": 0
      },
      "text/plain": [
       "  0%|          | 0/20 [00:00<?, ?it/s]"
      ]
     },
     "metadata": {},
     "output_type": "display_data"
    },
    {
     "data": {
      "application/vnd.jupyter.widget-view+json": {
       "model_id": "",
       "version_major": 2,
       "version_minor": 0
      },
      "text/plain": [
       "  0%|          | 0/20 [00:00<?, ?it/s]"
      ]
     },
     "metadata": {},
     "output_type": "display_data"
    },
    {
     "data": {
      "application/vnd.jupyter.widget-view+json": {
       "model_id": "",
       "version_major": 2,
       "version_minor": 0
      },
      "text/plain": [
       "  0%|          | 0/20 [00:00<?, ?it/s]"
      ]
     },
     "metadata": {},
     "output_type": "display_data"
    },
    {
     "data": {
      "application/vnd.jupyter.widget-view+json": {
       "model_id": "",
       "version_major": 2,
       "version_minor": 0
      },
      "text/plain": [
       "  0%|          | 0/20 [00:00<?, ?it/s]"
      ]
     },
     "metadata": {},
     "output_type": "display_data"
    },
    {
     "data": {
      "application/vnd.jupyter.widget-view+json": {
       "model_id": "",
       "version_major": 2,
       "version_minor": 0
      },
      "text/plain": [
       "  0%|          | 0/20 [00:00<?, ?it/s]"
      ]
     },
     "metadata": {},
     "output_type": "display_data"
    },
    {
     "data": {
      "application/vnd.jupyter.widget-view+json": {
       "model_id": "",
       "version_major": 2,
       "version_minor": 0
      },
      "text/plain": [
       "  0%|          | 0/20 [00:00<?, ?it/s]"
      ]
     },
     "metadata": {},
     "output_type": "display_data"
    },
    {
     "data": {
      "application/vnd.jupyter.widget-view+json": {
       "model_id": "",
       "version_major": 2,
       "version_minor": 0
      },
      "text/plain": [
       "  0%|          | 0/20 [00:00<?, ?it/s]"
      ]
     },
     "metadata": {},
     "output_type": "display_data"
    },
    {
     "data": {
      "application/vnd.jupyter.widget-view+json": {
       "model_id": "",
       "version_major": 2,
       "version_minor": 0
      },
      "text/plain": [
       "  0%|          | 0/20 [00:00<?, ?it/s]"
      ]
     },
     "metadata": {},
     "output_type": "display_data"
    },
    {
     "data": {
      "application/vnd.jupyter.widget-view+json": {
       "model_id": "",
       "version_major": 2,
       "version_minor": 0
      },
      "text/plain": [
       "  0%|          | 0/20 [00:00<?, ?it/s]"
      ]
     },
     "metadata": {},
     "output_type": "display_data"
    },
    {
     "data": {
      "application/vnd.jupyter.widget-view+json": {
       "model_id": "",
       "version_major": 2,
       "version_minor": 0
      },
      "text/plain": [
       "  0%|          | 0/20 [00:00<?, ?it/s]"
      ]
     },
     "metadata": {},
     "output_type": "display_data"
    },
    {
     "data": {
      "application/vnd.jupyter.widget-view+json": {
       "model_id": "",
       "version_major": 2,
       "version_minor": 0
      },
      "text/plain": [
       "  0%|          | 0/20 [00:00<?, ?it/s]"
      ]
     },
     "metadata": {},
     "output_type": "display_data"
    },
    {
     "data": {
      "application/vnd.jupyter.widget-view+json": {
       "model_id": "",
       "version_major": 2,
       "version_minor": 0
      },
      "text/plain": [
       "  0%|          | 0/20 [00:00<?, ?it/s]"
      ]
     },
     "metadata": {},
     "output_type": "display_data"
    },
    {
     "data": {
      "application/vnd.jupyter.widget-view+json": {
       "model_id": "",
       "version_major": 2,
       "version_minor": 0
      },
      "text/plain": [
       "  0%|          | 0/20 [00:00<?, ?it/s]"
      ]
     },
     "metadata": {},
     "output_type": "display_data"
    },
    {
     "data": {
      "application/vnd.jupyter.widget-view+json": {
       "model_id": "",
       "version_major": 2,
       "version_minor": 0
      },
      "text/plain": [
       "  0%|          | 0/20 [00:00<?, ?it/s]"
      ]
     },
     "metadata": {},
     "output_type": "display_data"
    },
    {
     "data": {
      "application/vnd.jupyter.widget-view+json": {
       "model_id": "",
       "version_major": 2,
       "version_minor": 0
      },
      "text/plain": [
       "  0%|          | 0/20 [00:00<?, ?it/s]"
      ]
     },
     "metadata": {},
     "output_type": "display_data"
    },
    {
     "data": {
      "application/vnd.jupyter.widget-view+json": {
       "model_id": "",
       "version_major": 2,
       "version_minor": 0
      },
      "text/plain": [
       "  0%|          | 0/20 [00:00<?, ?it/s]"
      ]
     },
     "metadata": {},
     "output_type": "display_data"
    },
    {
     "data": {
      "application/vnd.jupyter.widget-view+json": {
       "model_id": "",
       "version_major": 2,
       "version_minor": 0
      },
      "text/plain": [
       "  0%|          | 0/20 [00:00<?, ?it/s]"
      ]
     },
     "metadata": {},
     "output_type": "display_data"
    },
    {
     "data": {
      "application/vnd.jupyter.widget-view+json": {
       "model_id": "",
       "version_major": 2,
       "version_minor": 0
      },
      "text/plain": [
       "  0%|          | 0/20 [00:00<?, ?it/s]"
      ]
     },
     "metadata": {},
     "output_type": "display_data"
    },
    {
     "data": {
      "application/vnd.jupyter.widget-view+json": {
       "model_id": "",
       "version_major": 2,
       "version_minor": 0
      },
      "text/plain": [
       "  0%|          | 0/20 [00:00<?, ?it/s]"
      ]
     },
     "metadata": {},
     "output_type": "display_data"
    },
    {
     "data": {
      "application/vnd.jupyter.widget-view+json": {
       "model_id": "",
       "version_major": 2,
       "version_minor": 0
      },
      "text/plain": [
       "  0%|          | 0/20 [00:00<?, ?it/s]"
      ]
     },
     "metadata": {},
     "output_type": "display_data"
    },
    {
     "data": {
      "application/vnd.jupyter.widget-view+json": {
       "model_id": "",
       "version_major": 2,
       "version_minor": 0
      },
      "text/plain": [
       "  0%|          | 0/20 [00:00<?, ?it/s]"
      ]
     },
     "metadata": {},
     "output_type": "display_data"
    },
    {
     "data": {
      "application/vnd.jupyter.widget-view+json": {
       "model_id": "",
       "version_major": 2,
       "version_minor": 0
      },
      "text/plain": [
       "  0%|          | 0/20 [00:00<?, ?it/s]"
      ]
     },
     "metadata": {},
     "output_type": "display_data"
    },
    {
     "data": {
      "application/vnd.jupyter.widget-view+json": {
       "model_id": "",
       "version_major": 2,
       "version_minor": 0
      },
      "text/plain": [
       "  0%|          | 0/20 [00:00<?, ?it/s]"
      ]
     },
     "metadata": {},
     "output_type": "display_data"
    },
    {
     "data": {
      "application/vnd.jupyter.widget-view+json": {
       "model_id": "",
       "version_major": 2,
       "version_minor": 0
      },
      "text/plain": [
       "  0%|          | 0/20 [00:00<?, ?it/s]"
      ]
     },
     "metadata": {},
     "output_type": "display_data"
    },
    {
     "data": {
      "application/vnd.jupyter.widget-view+json": {
       "model_id": "",
       "version_major": 2,
       "version_minor": 0
      },
      "text/plain": [
       "  0%|          | 0/20 [00:00<?, ?it/s]"
      ]
     },
     "metadata": {},
     "output_type": "display_data"
    },
    {
     "data": {
      "application/vnd.jupyter.widget-view+json": {
       "model_id": "",
       "version_major": 2,
       "version_minor": 0
      },
      "text/plain": [
       "  0%|          | 0/20 [00:00<?, ?it/s]"
      ]
     },
     "metadata": {},
     "output_type": "display_data"
    },
    {
     "data": {
      "application/vnd.jupyter.widget-view+json": {
       "model_id": "",
       "version_major": 2,
       "version_minor": 0
      },
      "text/plain": [
       "  0%|          | 0/20 [00:00<?, ?it/s]"
      ]
     },
     "metadata": {},
     "output_type": "display_data"
    },
    {
     "data": {
      "application/vnd.jupyter.widget-view+json": {
       "model_id": "",
       "version_major": 2,
       "version_minor": 0
      },
      "text/plain": [
       "  0%|          | 0/20 [00:00<?, ?it/s]"
      ]
     },
     "metadata": {},
     "output_type": "display_data"
    },
    {
     "data": {
      "application/vnd.jupyter.widget-view+json": {
       "model_id": "",
       "version_major": 2,
       "version_minor": 0
      },
      "text/plain": [
       "  0%|          | 0/20 [00:00<?, ?it/s]"
      ]
     },
     "metadata": {},
     "output_type": "display_data"
    }
   ],
   "source": [
    "    \n",
    "    csps_dict={}\n",
    "    for key in tqdm(keys):\n",
    "        # the first key is the year\n",
    "        csps_dict[key]={}\n",
    "        for sector in ['Energy', 'Utilities']:\n",
    "            firms=list(sdgs_dict[key][sector].keys())\n",
    "            csps_dict[key][sector]={}\n",
    "            csps_dict[key][sector]['cos_sim']=np.zeros((len(firms), len(firms)))\n",
    "            csps_dict[key][sector]['theo_pvals']=np.zeros((len(firms), len(firms)))\n",
    "            csps_dict[key][sector]['sam_pvals']=np.zeros((len(firms), len(firms)))\n",
    "                                                        \n",
    "            # the third key is the firm\n",
    "            for i in range(len(firms)):\n",
    "                firm_i=firms[i]\n",
    "                dict_i=sdgs_dict[key][sector][firm_i]\n",
    "                for j in range(i+1, len(firms)):\n",
    "                    firm_j=firms[j]\n",
    "                    dict_j=sdgs_dict[key][sector][firm_j]\n",
    "                    csps=cos_sim_per_sdg(dict_i, dict_j, n_sample=20,tqdm_loops=True)\n",
    "                    csps_dict[key][sector]['cos_sim'][i, j]=csps.cos_sim\n",
    "                    csps_dict[key][sector]['theo_pvals'][i, j]=csps.pval\n",
    "                    csps_dict[key][sector]['sam_pvals'][i, j]=csps.sampled_pval\n",
    "   "
   ]
  },
  {
   "cell_type": "code",
   "execution_count": null,
   "id": "198df982",
   "metadata": {},
   "outputs": [],
   "source": []
  },
  {
   "cell_type": "code",
   "execution_count": 228,
   "id": "b094e6be",
   "metadata": {
    "ExecuteTime": {
     "end_time": "2024-06-24T19:35:06.665821Z",
     "start_time": "2024-06-24T19:35:06.658757Z"
    }
   },
   "outputs": [],
   "source": [
    "                 \n",
    "    with open('./data/csps_dict_test.pickle', 'wb') as f:\n",
    "        pickle.dump(csps_dict, f)"
   ]
  },
  {
   "cell_type": "code",
   "execution_count": 229,
   "id": "d52022d0",
   "metadata": {
    "ExecuteTime": {
     "end_time": "2024-06-24T19:35:19.265633Z",
     "start_time": "2024-06-24T19:35:19.258763Z"
    }
   },
   "outputs": [],
   "source": [
    "with open('./data/csps_dict_test.pickle', 'rb') as f:\n",
    "        csps_dict_check=pickle.load(f)"
   ]
  },
  {
   "cell_type": "code",
   "execution_count": 237,
   "id": "71dd0de0",
   "metadata": {
    "ExecuteTime": {
     "end_time": "2024-06-24T19:38:43.511968Z",
     "start_time": "2024-06-24T19:38:43.505101Z"
    }
   },
   "outputs": [
    {
     "name": "stdout",
     "output_type": "stream",
     "text": [
      "ok\n"
     ]
    }
   ],
   "source": [
    "if bool('True'):\n",
    "    print('ok')"
   ]
  },
  {
   "cell_type": "code",
   "execution_count": null,
   "id": "cea8321b",
   "metadata": {},
   "outputs": [],
   "source": []
  }
 ],
 "metadata": {
  "kernelspec": {
   "display_name": "Python 3 (ipykernel)",
   "language": "python",
   "name": "python3"
  },
  "language_info": {
   "codemirror_mode": {
    "name": "ipython",
    "version": 3
   },
   "file_extension": ".py",
   "mimetype": "text/x-python",
   "name": "python",
   "nbconvert_exporter": "python",
   "pygments_lexer": "ipython3",
   "version": "3.8.10"
  },
  "notify_time": "5",
  "toc": {
   "base_numbering": 1,
   "nav_menu": {},
   "number_sections": true,
   "sideBar": true,
   "skip_h1_title": false,
   "title_cell": "Table of Contents",
   "title_sidebar": "Contents",
   "toc_cell": false,
   "toc_position": {
    "height": "calc(100% - 180px)",
    "left": "10px",
    "top": "150px",
    "width": "288px"
   },
   "toc_section_display": true,
   "toc_window_display": true
  }
 },
 "nbformat": 4,
 "nbformat_minor": 5
}
