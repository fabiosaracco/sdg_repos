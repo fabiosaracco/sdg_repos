{
 "cells": [
  {
   "cell_type": "markdown",
   "id": "0e41c9b9",
   "metadata": {},
   "source": [
    "# Intro"
   ]
  },
  {
   "cell_type": "markdown",
   "id": "c190a4cd",
   "metadata": {},
   "source": [
    "## Load"
   ]
  },
  {
   "cell_type": "markdown",
   "id": "20966aa7",
   "metadata": {},
   "source": [
    "### Standards"
   ]
  },
  {
   "cell_type": "code",
   "execution_count": 1,
   "id": "f8489537",
   "metadata": {
    "ExecuteTime": {
     "end_time": "2024-06-24T12:38:46.647722Z",
     "start_time": "2024-06-24T12:38:46.376200Z"
    }
   },
   "outputs": [],
   "source": [
    "import os, sys, pickle\n",
    "import numpy as np\n",
    "from tqdm.notebook import trange, tqdm\n",
    "import re"
   ]
  },
  {
   "cell_type": "code",
   "execution_count": 2,
   "id": "2be20b36",
   "metadata": {
    "ExecuteTime": {
     "end_time": "2024-06-24T12:38:47.443311Z",
     "start_time": "2024-06-24T12:38:46.750970Z"
    }
   },
   "outputs": [],
   "source": [
    "import matplotlib.pyplot as plt\n",
    "plt.rcParams['axes.linewidth'] = 2\n",
    "plt.rcParams['xtick.major.size'] = 10\n",
    "plt.rcParams['xtick.major.width'] = 2\n",
    "plt.rcParams['ytick.major.size'] = 10\n",
    "plt.rcParams['ytick.major.width'] = 2\n",
    "\n",
    "plt.rcParams['xtick.labelsize'] = 14\n",
    "plt.rcParams['ytick.labelsize'] = 14\n",
    "\n",
    "plt.rcParams['xtick.minor.size'] = 5\n",
    "plt.rcParams['xtick.minor.width'] = 1\n",
    "plt.rcParams['ytick.minor.size'] = 5\n",
    "plt.rcParams['ytick.minor.width'] = 1\n"
   ]
  },
  {
   "cell_type": "code",
   "execution_count": 3,
   "id": "24a74ff9",
   "metadata": {
    "ExecuteTime": {
     "end_time": "2024-06-24T12:38:47.470595Z",
     "start_time": "2024-06-24T12:38:47.447455Z"
    }
   },
   "outputs": [],
   "source": [
    "from multiprocess import Pool"
   ]
  },
  {
   "cell_type": "markdown",
   "id": "9c8b51d9",
   "metadata": {},
   "source": [
    "### Homemade modules"
   ]
  },
  {
   "cell_type": "code",
   "execution_count": 4,
   "id": "8442c06c",
   "metadata": {
    "ExecuteTime": {
     "end_time": "2024-06-24T12:38:51.761873Z",
     "start_time": "2024-06-24T12:38:47.939970Z"
    }
   },
   "outputs": [],
   "source": [
    "from tesste import tesste\n",
    "from ppp import ppp\n",
    "from readers_and_converters import file2text, text2dict, text2vec"
   ]
  },
  {
   "cell_type": "markdown",
   "id": "735e5c98",
   "metadata": {},
   "source": [
    "## Stoopid infos"
   ]
  },
  {
   "cell_type": "code",
   "execution_count": 5,
   "id": "ae8ef52a",
   "metadata": {
    "ExecuteTime": {
     "end_time": "2024-06-24T12:38:51.770629Z",
     "start_time": "2024-06-24T12:38:51.766211Z"
    }
   },
   "outputs": [],
   "source": [
    "L_SDGS=17"
   ]
  },
  {
   "cell_type": "markdown",
   "id": "67e5f90c",
   "metadata": {},
   "source": [
    "# Data"
   ]
  },
  {
   "cell_type": "code",
   "execution_count": 6,
   "id": "8e8bddf3",
   "metadata": {
    "ExecuteTime": {
     "end_time": "2024-06-24T12:38:51.863736Z",
     "start_time": "2024-06-24T12:38:51.773785Z"
    }
   },
   "outputs": [],
   "source": [
    "with open ('./data/energy_utilities_texts.pickle', 'rb') as f:\n",
    "    text_dict=pickle.load(f)"
   ]
  },
  {
   "cell_type": "markdown",
   "id": "f7996524",
   "metadata": {},
   "source": [
    "# Semantic analysis per report"
   ]
  },
  {
   "cell_type": "markdown",
   "id": "bd8455f8",
   "metadata": {
    "heading_collapsed": true
   },
   "source": [
    "## Cosine similarity calculations"
   ]
  },
  {
   "cell_type": "code",
   "execution_count": 7,
   "id": "6d609587",
   "metadata": {
    "ExecuteTime": {
     "end_time": "2024-06-24T10:08:44.039663Z",
     "start_time": "2024-06-24T10:08:34.502045Z"
    },
    "hidden": true
   },
   "outputs": [
    {
     "data": {
      "application/vnd.jupyter.widget-view+json": {
       "model_id": "fb6248e4a6ab4834beca34cec739e0d4",
       "version_major": 2,
       "version_minor": 0
      },
      "text/plain": [
       "Energy 2015:   0%|          | 0/2 [00:00<?, ?it/s]"
      ]
     },
     "metadata": {},
     "output_type": "display_data"
    },
    {
     "name": "stderr",
     "output_type": "stream",
     "text": [
      "/home/sarawalk/sdgs_py38/lib/python3.8/site-packages/torch/cuda/__init__.py:118: UserWarning: CUDA initialization: The NVIDIA driver on your system is too old (found version 10020). Please update your GPU driver by downloading and installing a new version from the URL: http://www.nvidia.com/Download/index.aspx Alternatively, go to: https://pytorch.org to install a PyTorch version that has been compiled with your version of the CUDA driver. (Triggered internally at ../c10/cuda/CUDAFunctions.cpp:108.)\n",
      "  return torch._C._cuda_getDeviceCount() > 0\n",
      "huggingface/tokenizers: The current process just got forked, after parallelism has already been used. Disabling parallelism to avoid deadlocks...\n",
      "To disable this warning, you can either:\n",
      "\t- Avoid using `tokenizers` before the fork if possible\n",
      "\t- Explicitly set the environment variable TOKENIZERS_PARALLELISM=(true | false)\n",
      "/home/sarawalk/sdgs_py38/lib/python3.8/site-packages/torch/cuda/__init__.py:619: UserWarning: Can't initialize NVML\n",
      "  warnings.warn(\"Can't initialize NVML\")\n"
     ]
    },
    {
     "data": {
      "application/vnd.jupyter.widget-view+json": {
       "model_id": "b095f79ccea440208ce1cb5b80b73233",
       "version_major": 2,
       "version_minor": 0
      },
      "text/plain": [
       "  0%|          | 0/1000 [00:00<?, ?it/s]"
      ]
     },
     "metadata": {},
     "output_type": "display_data"
    },
    {
     "name": "stderr",
     "output_type": "stream",
     "text": [
      "\n",
      "KeyboardInterrupt\n",
      "\n"
     ]
    }
   ],
   "source": [
    "cos_sim_dict={}\n",
    "for year in range(2015, 2024):\n",
    "    s_year=str(year)\n",
    "    cos_sim_dict[year]={}\n",
    "    energy_co_s=list(text_dict['Energy'][s_year].keys())\n",
    "    # inside energy\n",
    "    energy_cos_sims=np.zeros((len(energy_co_s), len(energy_co_s)))\n",
    "    energy_pvals=np.zeros((len(energy_co_s), len(energy_co_s)))\n",
    "    for i_e, energy_co_0 in enumerate(tqdm(energy_co_s, leave=False, desc='Energy '+s_year)):\n",
    "        text_0=text_dict['Energy'][s_year][energy_co_0]\n",
    "        for j_e in range(i_e+1, len(energy_co_s)):\n",
    "            energy_co_1=energy_co_s[j_e]\n",
    "            text_1=text_dict['Energy'][s_year][energy_co_1]\n",
    "            cacca=tesste(text_0, text_1)\n",
    "            energy_cos_sims[i_e, j_e]=cacca.cos_sim\n",
    "            energy_pvals[i_e, j_e]=cacca.pval\n",
    "            \n",
    "    cos_sim_dict[year]['Energy']={}\n",
    "    cos_sim_dict[year]['Energy']['cos_sim']=energy_cos_sims\n",
    "    cos_sim_dict[year]['Energy']['pvals']=energy_pvals\n",
    "    \n",
    "    utilities_co_s=list(text_dict['Utilities'][s_year].keys())\n",
    "    utilities_cos_sims=np.zeros((len(utilities_co_s), len(utilities_co_s)))\n",
    "    utilities_pvals=np.zeros((len(utilities_co_s), len(utilities_co_s)))\n",
    "    # inside utilities\n",
    "    for i_e, utilities_co_0 in enumerate(tqdm(utilities_co_s, leave=False, desc='Utilities '+s_year)):\n",
    "        text_0=text_dict['Utilities'][s_year][utilities_co_0]\n",
    "        for j_e in range(i_e+1, len(utilities_co_s)):\n",
    "            utilities_co_1=utilities_co_s[j_e]\n",
    "            text_1=text_dict['Utilities'][s_year][utilities_co_1]\n",
    "            cacca=tesste(text_0, text_1)\n",
    "            utilities_cos_sims[i_e, j_e]=cacca.cos_sim\n",
    "            utilities_pvals[i_e, j_e]=cacca.pval\n",
    "            \n",
    "    cos_sim_dict[year]['Utilities']={}\n",
    "    cos_sim_dict[year]['Utilities']['cos_sim']=utilities_cos_sims\n",
    "    cos_sim_dict[year]['Utilities']['pvals']=utilities_pvals\n"
   ]
  },
  {
   "cell_type": "markdown",
   "id": "f86bfc00",
   "metadata": {
    "heading_collapsed": true,
    "hidden": true
   },
   "source": [
    "### Something I forgot"
   ]
  },
  {
   "cell_type": "code",
   "execution_count": null,
   "id": "8179c7bf",
   "metadata": {
    "ExecuteTime": {
     "end_time": "2024-06-24T10:08:44.042902Z",
     "start_time": "2024-06-24T10:08:44.042877Z"
    },
    "hidden": true
   },
   "outputs": [],
   "source": [
    "with open ('./data/energy_utilities_cos_sim_mats.pickle', 'rb') as f:\n",
    "    cos_sim_dict=pickle.load(f)"
   ]
  },
  {
   "cell_type": "code",
   "execution_count": null,
   "id": "2990979a",
   "metadata": {
    "ExecuteTime": {
     "end_time": "2024-06-24T10:08:44.044584Z",
     "start_time": "2024-06-24T10:08:44.044559Z"
    },
    "hidden": true
   },
   "outputs": [],
   "source": [
    "for year in range(2015, 2024):\n",
    "    s_year=str(year)\n",
    "    for field in ['Energy', 'Utilities']:\n",
    "        firms=list(text_dict[field][s_year].keys())\n",
    "        cos_sim_dict[year][field]['companies']=firms"
   ]
  },
  {
   "cell_type": "code",
   "execution_count": null,
   "id": "b6e934ed",
   "metadata": {
    "ExecuteTime": {
     "end_time": "2024-06-24T10:08:44.046796Z",
     "start_time": "2024-06-24T10:08:44.046771Z"
    },
    "hidden": true
   },
   "outputs": [],
   "source": [
    "with open ('./data/energy_utilities_cos_sim_mats.pickle', 'wb') as f:\n",
    "    pickle.dump(cos_sim_dict, f)"
   ]
  },
  {
   "cell_type": "markdown",
   "id": "c05b5975",
   "metadata": {},
   "source": [
    "## Cosine similarity analysis"
   ]
  },
  {
   "cell_type": "code",
   "execution_count": 10,
   "id": "7d49fa1d",
   "metadata": {
    "ExecuteTime": {
     "end_time": "2024-06-24T12:40:11.165035Z",
     "start_time": "2024-06-24T12:40:11.158027Z"
    }
   },
   "outputs": [],
   "source": [
    "with open ('./data/energy_utilities_cos_sim_mats.pickle', 'rb') as f:\n",
    "    cos_sim_dict=pickle.load(f)"
   ]
  },
  {
   "cell_type": "code",
   "execution_count": 11,
   "id": "79037a46",
   "metadata": {
    "ExecuteTime": {
     "end_time": "2024-06-24T12:40:11.489975Z",
     "start_time": "2024-06-24T12:40:11.484124Z"
    }
   },
   "outputs": [],
   "source": [
    "years=list(range(2015, 2024))"
   ]
  },
  {
   "cell_type": "code",
   "execution_count": 12,
   "id": "2f811aff",
   "metadata": {
    "ExecuteTime": {
     "end_time": "2024-06-24T12:40:11.805858Z",
     "start_time": "2024-06-24T12:40:11.801047Z"
    }
   },
   "outputs": [],
   "source": [
    "# actually, it shouldn't be done, but I saw that relaxing from alpha=0.01 to alpha=0.05,\n",
    "# I get more validated entries...\n",
    "alpha=.05"
   ]
  },
  {
   "cell_type": "code",
   "execution_count": 13,
   "id": "40783909",
   "metadata": {
    "ExecuteTime": {
     "end_time": "2024-06-24T12:40:12.499051Z",
     "start_time": "2024-06-24T12:40:12.480845Z"
    }
   },
   "outputs": [
    {
     "name": "stdout",
     "output_type": "stream",
     "text": [
      "2019 Utilities\n",
      "---------------------\n",
      "('02_SSE_PLC', '05_CENTRICA_PLC') 0.8133289217948914\n",
      "('02_SSE_PLC', '08_RENEWI_PLC') 0.8001610636711121\n",
      "('05_CENTRICA_PLC', '08_RENEWI_PLC') 0.7937230467796326\n",
      "('05_CENTRICA_PLC', '10_GOOD_ENERGY_GROUP_PLC') 0.8450196981430054\n"
     ]
    }
   ],
   "source": [
    "for year in years:\n",
    "    for field in ['Energy', 'Utilities']:\n",
    "        pvals=cos_sim_dict[year][field]['pvals']\n",
    "        cos_sim=cos_sim_dict[year][field]['cos_sim']\n",
    "        firms=cos_sim_dict[year][field]['companies']\n",
    "        if len(firms)>1:\n",
    "            # get the number of tests\n",
    "            n_tests=len(firms)*(len(firms)-1)/2\n",
    "            # calculate effective alpha according to Bonferroni\n",
    "            alpha_bonf=alpha/n_tests\n",
    "            # get the effective alpha according to fdr\n",
    "            pvals_vec=np.sort(pvals[pvals>0])\n",
    "            fdr_vec=(1+np.arange(len(pvals_vec)))*alpha_bonf\n",
    "            alpha_fdrs=fdr_vec[pvals_vec<=fdr_vec]\n",
    "            if len(alpha_fdrs)>0:\n",
    "                alpha_fdr=alpha_fdrs[-1]\n",
    "                # where are the validated entries?\n",
    "                where_vals=np.where(np.logical_and(pvals<=alpha_fdr, pvals>0))\n",
    "                val_couples=[]\n",
    "                for i in range(len(where_vals[0])):\n",
    "                    val_couples.append((firms[where_vals[0][i]],firms[where_vals[1][i]]))\n",
    "                # return values\n",
    "                print(year, field)\n",
    "                print('---------------------')\n",
    "                for i, val_couple in enumerate(val_couples):\n",
    "                    print(val_couple, cos_sim[where_vals[0][i], where_vals[1][i]])"
   ]
  },
  {
   "cell_type": "code",
   "execution_count": 12,
   "id": "aa3f9b17",
   "metadata": {
    "ExecuteTime": {
     "end_time": "2024-06-24T10:08:53.967489Z",
     "start_time": "2024-06-24T10:08:53.958061Z"
    }
   },
   "outputs": [
    {
     "data": {
      "text/plain": [
       "['02_SSE_PLC', '05_CENTRICA_PLC', '08_RENEWI_PLC', '10_GOOD_ENERGY_GROUP_PLC']"
      ]
     },
     "execution_count": 12,
     "metadata": {},
     "output_type": "execute_result"
    }
   ],
   "source": [
    "cos_sim_dict[2019]['Utilities']['companies']"
   ]
  },
  {
   "cell_type": "markdown",
   "id": "a0b75f27",
   "metadata": {},
   "source": [
    "Quite bizarre that only on a single year (btw, before the COVID, i.e. before when I would have expected to see some excess in the cosine similarity) there is such a diffuse similarity. Moreover, CENTRICA is (ehm...) the most central, since it is significantly similar to all others."
   ]
  },
  {
   "cell_type": "code",
   "execution_count": 15,
   "id": "c8624623",
   "metadata": {
    "ExecuteTime": {
     "end_time": "2024-06-24T12:40:43.481319Z",
     "start_time": "2024-06-24T12:40:43.475154Z"
    }
   },
   "outputs": [],
   "source": [
    "validated_cos_sim=(2019, 'Utilities', val_couples)"
   ]
  },
  {
   "cell_type": "markdown",
   "id": "4df3935e",
   "metadata": {
    "heading_collapsed": true
   },
   "source": [
    "### SDGs covered and similarities"
   ]
  },
  {
   "cell_type": "code",
   "execution_count": 14,
   "id": "d8c971c0",
   "metadata": {
    "ExecuteTime": {
     "end_time": "2024-06-24T10:08:56.396489Z",
     "start_time": "2024-06-24T10:08:56.363590Z"
    },
    "hidden": true
   },
   "outputs": [
    {
     "data": {
      "application/vnd.jupyter.widget-view+json": {
       "model_id": "0a9aef0935f34f80aad152cf517c8a6b",
       "version_major": 2,
       "version_minor": 0
      },
      "text/plain": [
       "  0%|          | 0/9 [00:00<?, ?it/s]"
      ]
     },
     "metadata": {},
     "output_type": "display_data"
    }
   ],
   "source": [
    "sdgs_dict={}\n",
    "for year in trange(2015, 2024):\n",
    "    s_year=str(year)\n",
    "    sdgs_dict[year]={}\n",
    "    for field in ['Energy', 'Utilities']:\n",
    "        sdgs_dict[year][field]={}\n",
    "        for key in text_dict[field][s_year].keys():\n",
    "            text=text_dict[field][s_year][key]\n",
    "            sdgs_dict[year][field][key]=text2dict(text)"
   ]
  },
  {
   "cell_type": "code",
   "execution_count": 32,
   "id": "36008b5d",
   "metadata": {
    "ExecuteTime": {
     "end_time": "2024-06-24T12:29:52.587735Z",
     "start_time": "2024-06-24T12:29:52.578319Z"
    },
    "hidden": true
   },
   "outputs": [],
   "source": [
    "with open ('./data/sdgs_dict.pickle', 'wb') as f:\n",
    "    pickle.dump(sdgs_dict, f)"
   ]
  },
  {
   "cell_type": "markdown",
   "id": "d990b9d0",
   "metadata": {},
   "source": [
    "### SDGs superposition"
   ]
  },
  {
   "cell_type": "code",
   "execution_count": 7,
   "id": "888bca66",
   "metadata": {
    "ExecuteTime": {
     "end_time": "2024-06-24T12:39:57.091673Z",
     "start_time": "2024-06-24T12:39:57.085162Z"
    }
   },
   "outputs": [],
   "source": [
    "with open ('./data/energy_utilities_cos_sim_mats.pickle', 'rb') as f:\n",
    "    cos_sim_dict=pickle.load(f)"
   ]
  },
  {
   "cell_type": "code",
   "execution_count": 8,
   "id": "af27ac94",
   "metadata": {
    "ExecuteTime": {
     "end_time": "2024-06-24T12:39:57.702521Z",
     "start_time": "2024-06-24T12:39:57.694912Z"
    }
   },
   "outputs": [],
   "source": [
    "with open ('./data/sdgs_dict.pickle', 'rb') as f:\n",
    "    sdgs_dict=pickle.load(f)"
   ]
  },
  {
   "cell_type": "code",
   "execution_count": 16,
   "id": "d908357d",
   "metadata": {
    "ExecuteTime": {
     "end_time": "2024-06-24T12:40:46.578604Z",
     "start_time": "2024-06-24T12:40:46.573427Z"
    }
   },
   "outputs": [],
   "source": [
    "v_year=validated_cos_sim[0]\n",
    "v_field=validated_cos_sim[1]"
   ]
  },
  {
   "cell_type": "code",
   "execution_count": 17,
   "id": "eca8b64a",
   "metadata": {
    "ExecuteTime": {
     "end_time": "2024-06-24T12:40:47.193427Z",
     "start_time": "2024-06-24T12:40:47.187614Z"
    }
   },
   "outputs": [],
   "source": [
    "companies=list(sdgs_dict[v_year][v_field].keys())"
   ]
  },
  {
   "cell_type": "code",
   "execution_count": 18,
   "id": "b7e2aa77",
   "metadata": {
    "ExecuteTime": {
     "end_time": "2024-06-24T12:40:48.172288Z",
     "start_time": "2024-06-24T12:40:48.161160Z"
    }
   },
   "outputs": [],
   "source": [
    "sdg_superpos=np.zeros((len(companies),len(companies)))\n",
    "for i_c, company_0 in enumerate(companies):\n",
    "    sdgs_i_c=list(sdgs_dict[v_year][v_field][company_0].keys())\n",
    "    for j_c, company_1 in enumerate(companies):\n",
    "        if i_c!=j_c:\n",
    "            sdgs_j_c=list(sdgs_dict[v_year][v_field][company_1].keys())\n",
    "            sdg_superpos[i_c, j_c]=len([sdg for sdg in sdgs_i_c if sdg in sdgs_j_c])/len(sdgs_i_c)"
   ]
  },
  {
   "cell_type": "code",
   "execution_count": 19,
   "id": "960b6bfb",
   "metadata": {
    "ExecuteTime": {
     "end_time": "2024-06-24T12:40:49.158645Z",
     "start_time": "2024-06-24T12:40:49.142139Z"
    }
   },
   "outputs": [
    {
     "data": {
      "text/plain": [
       "array([[0.        , 0.66666667, 0.46666667, 0.73333333],\n",
       "       [1.        , 0.        , 0.4       , 0.8       ],\n",
       "       [0.875     , 0.5       , 0.        , 0.75      ],\n",
       "       [1.        , 0.72727273, 0.54545455, 0.        ]])"
      ]
     },
     "execution_count": 19,
     "metadata": {},
     "output_type": "execute_result"
    }
   ],
   "source": [
    "sdg_superpos"
   ]
  },
  {
   "cell_type": "markdown",
   "id": "253a7979",
   "metadata": {},
   "source": [
    "Not such a huge similarity. Where does the similarity come from? **To-Do**: manually read the reports."
   ]
  },
  {
   "cell_type": "markdown",
   "id": "422310f0",
   "metadata": {},
   "source": [
    "# Semantic analysis per SDG"
   ]
  },
  {
   "cell_type": "code",
   "execution_count": 76,
   "id": "2441010e",
   "metadata": {
    "ExecuteTime": {
     "end_time": "2024-06-24T13:13:00.516852Z",
     "start_time": "2024-06-24T13:13:00.508811Z"
    }
   },
   "outputs": [],
   "source": [
    "with open ('./data/sdgs_dict.pickle', 'rb') as f:\n",
    "    sdgs_dict=pickle.load(f)"
   ]
  },
  {
   "cell_type": "code",
   "execution_count": 77,
   "id": "0191d47f",
   "metadata": {
    "ExecuteTime": {
     "end_time": "2024-06-24T13:13:04.235259Z",
     "start_time": "2024-06-24T13:13:04.229359Z"
    }
   },
   "outputs": [],
   "source": [
    "years=list(range(2015, 2024))"
   ]
  },
  {
   "cell_type": "code",
   "execution_count": 78,
   "id": "fcdc92bd",
   "metadata": {
    "ExecuteTime": {
     "end_time": "2024-06-24T13:13:05.134078Z",
     "start_time": "2024-06-24T13:13:05.128356Z"
    }
   },
   "outputs": [],
   "source": [
    "fields=['Energy', 'Utilities']"
   ]
  },
  {
   "cell_type": "markdown",
   "id": "c00aae07",
   "metadata": {},
   "source": [
    "## Check"
   ]
  },
  {
   "cell_type": "markdown",
   "id": "b79d33d4",
   "metadata": {},
   "source": [
    "The conversion to a dictionary was performed thinking about the structure of a sample of the summaries by ChatGPT. Nevertheless, there are some weird entries, as the 2017 report of '08_RENEWI_PLC'. Let's collect them:"
   ]
  },
  {
   "cell_type": "code",
   "execution_count": 87,
   "id": "2407b103",
   "metadata": {
    "ExecuteTime": {
     "end_time": "2024-06-24T13:27:40.129070Z",
     "start_time": "2024-06-24T13:27:40.092503Z"
    }
   },
   "outputs": [
    {
     "data": {
      "application/vnd.jupyter.widget-view+json": {
       "model_id": "fde2989ad96645768732d3696a921a98",
       "version_major": 2,
       "version_minor": 0
      },
      "text/plain": [
       "  0%|          | 0/9 [00:00<?, ?it/s]"
      ]
     },
     "metadata": {},
     "output_type": "display_data"
    },
    {
     "name": "stdout",
     "output_type": "stream",
     "text": [
      "2017 Utilities 08_RENEWI_PLC SDG 5\n",
      "2017 Utilities 08_RENEWI_PLC SDG 7\n",
      "2017 Utilities 08_RENEWI_PLC SDG 9\n",
      "2017 Utilities 08_RENEWI_PLC SDG 11\n",
      "2017 Utilities 08_RENEWI_PLC SDG 13\n",
      "2017 Utilities 08_RENEWI_PLC SDG 15\n",
      "2017 Utilities 08_RENEWI_PLC SDG 17\n",
      "2023 Utilities 03_SEVERN_TRENT_PLC SDG 3\n",
      "2023 Utilities 03_SEVERN_TRENT_PLC SDG 5\n",
      "2023 Utilities 03_SEVERN_TRENT_PLC SDG 7\n",
      "2023 Utilities 03_SEVERN_TRENT_PLC SDG 9\n",
      "2023 Utilities 03_SEVERN_TRENT_PLC SDG 11\n",
      "2023 Utilities 03_SEVERN_TRENT_PLC SDG 15\n",
      "2023 Utilities 03_SEVERN_TRENT_PLC SDG 17\n"
     ]
    }
   ],
   "source": [
    "sdgs_number=[]\n",
    "sdgs=[]\n",
    "for year in tqdm(years):\n",
    "    #if len(sdgs)<17:\n",
    "    for field in fields:\n",
    "        firms=sdgs_dict[year][field].keys()\n",
    "        for firm in firms:\n",
    "            _sdgs=list(sdgs_dict[year][field][firm].keys())\n",
    "            counter=0\n",
    "            #while len(sdgs)<17 and counter<len(_sdgs):\n",
    "            while counter<len(_sdgs):\n",
    "                sdg=_sdgs[counter]\n",
    "                sdg=sdg.split(':')[0]\n",
    "                if sdg not in sdgs_number:\n",
    "                    sdgs_number.append(sdg)\n",
    "                    sdgs.append(_sdgs[counter])\n",
    "                elif _sdgs[counter] not in sdgs:\n",
    "                    print(year, field, firm, sdg)\n",
    "                counter+=1\n",
    "sdgs.sort()"
   ]
  },
  {
   "cell_type": "code",
   "execution_count": 89,
   "id": "4eda97b7",
   "metadata": {
    "ExecuteTime": {
     "end_time": "2024-06-24T13:49:03.363662Z",
     "start_time": "2024-06-24T13:49:03.356283Z"
    }
   },
   "outputs": [],
   "source": [
    "sdgs.sort(key= lambda x: int(x.split(':')[0].split(' ')[1]))"
   ]
  },
  {
   "cell_type": "code",
   "execution_count": 92,
   "id": "0c43c09a",
   "metadata": {
    "ExecuteTime": {
     "end_time": "2024-06-24T13:50:04.683742Z",
     "start_time": "2024-06-24T13:50:04.674186Z"
    }
   },
   "outputs": [
    {
     "data": {
      "text/plain": [
       "['SDG 1: No Poverty',\n",
       " 'SDG 2: Zero Hunger',\n",
       " 'SDG 3: Good Health and Well-being',\n",
       " 'SDG 4: Quality Education',\n",
       " 'SDG 5: Gender Equality',\n",
       " 'SDG 6: Clean Water and Sanitation',\n",
       " 'SDG 7: Affordable and Clean Energy',\n",
       " 'SDG 8: Decent Work and Economic Growth',\n",
       " 'SDG 9: Industry, Innovation, and Infrastructure',\n",
       " 'SDG 10: Reduced Inequality',\n",
       " 'SDG 11: Sustainable Cities and Communities',\n",
       " 'SDG 12: Responsible Consumption and Production',\n",
       " 'SDG 13: Climate Action',\n",
       " 'SDG 14: Life Below Water',\n",
       " 'SDG 15: Life on Land',\n",
       " 'SDG 16: Peace, Justice, and Strong Institutions',\n",
       " 'SDG 17: Partnerships for the Goals']"
      ]
     },
     "execution_count": 92,
     "metadata": {},
     "output_type": "execute_result"
    }
   ],
   "source": [
    "sdgs"
   ]
  },
  {
   "cell_type": "code",
   "execution_count": 91,
   "id": "d1c80d4f",
   "metadata": {
    "ExecuteTime": {
     "end_time": "2024-06-24T13:49:57.782281Z",
     "start_time": "2024-06-24T13:49:57.776274Z"
    }
   },
   "outputs": [],
   "source": [
    "with open('./data/sdgs.pickle', 'wb') as f:\n",
    "    pickle.dump(sdgs, f)"
   ]
  },
  {
   "cell_type": "markdown",
   "id": "980d731f",
   "metadata": {},
   "source": [
    "## Rethinking the various reading functions"
   ]
  },
  {
   "cell_type": "code",
   "execution_count": 98,
   "id": "56e91fd5",
   "metadata": {
    "ExecuteTime": {
     "end_time": "2024-06-24T13:55:12.875820Z",
     "start_time": "2024-06-24T13:55:12.868832Z"
    }
   },
   "outputs": [],
   "source": [
    "bad_ones=[text_dict['Utilities']['2017']['08_RENEWI_PLC'], text_dict['Utilities']['2023']['03_SEVERN_TRENT_PLC']]\n",
    "standard_one=text_dict['Energy']['2020']['01_shell']"
   ]
  },
  {
   "cell_type": "code",
   "execution_count": 102,
   "id": "9f976d0b",
   "metadata": {
    "ExecuteTime": {
     "end_time": "2024-06-24T14:01:20.114934Z",
     "start_time": "2024-06-24T14:01:20.105872Z"
    }
   },
   "outputs": [
    {
     "data": {
      "text/plain": [
       "\"\\nSummary of LSE_RWI_2017.pdf in Relation to United Nations' Sustainable Development Goals (SDGs)\\nSDG 1: No Poverty The document emphasizes efforts to ensure affordability of water services for customers, particularly those in vulnerable situations. Initiatives like the WaterCare+ program provide financial support and benefit entitlement checks to help customers manage their bills and avoid water poverty.\\nSDG 2: Zero Hunger Not explicitly mentioned.\\nSDG 3: Good Health and Well-being The report highlights the importance of clean and safe water supply as essential for public health. Various programs ensure water quality and safety, including maintaining high standards for drinking water and managing wastewater effectively to prevent public health risks.\\nSDG 4: Quality Education Not explicitly mentioned.\\nSDG 5: Gender Equality The document mentions efforts to promote diversity and inclusion within the company, including initiatives to improve gender equality among employees.\\nSDG 6: Clean Water and Sanitation A significant focus is placed on ensuring a reliable supply of clean water and efficient wastewater management. Investments in infrastructure and technology aim to maintain high standards of water quality and sanitation.\\nSDG 7: Affordable and Clean Energy Not explicitly mentioned.\\nSDG 8: Decent Work and Economic Growth The company emphasizes the creation of jobs and economic opportunities, particularly through investments in infrastructure projects and community engagement. Initiatives like the WaterShare+ scheme aim to provide economic benefits to customers and communities.\\nSDG 9: Industry, Innovation, and Infrastructure Investments in advanced water treatment facilities and innovative solutions for water management are highlighted. The company focuses on upgrading infrastructure to enhance efficiency and service quality.\\nSDG 10: Reduced Inequality Efforts to address affordability and provide targeted support to vulnerable customers help reduce economic inequality. Programs like the FreshStart fund provide financial assistance to those facing hardship, ensuring equitable access to water services.\\nSDG 11: Sustainable Cities and Communities The document outlines initiatives to improve urban water management and infrastructure resilience, contributing to the sustainability and livability of communities. Programs to enhance water efficiency and reduce leakage also support this goal.\\nSDG 12: Responsible Consumption and Production The company promotes water conservation through various community programs and educational initiatives, encouraging responsible water usage among customers.\\nSDG 13: Climate Action Commitments to reducing carbon emissions and enhancing climate resilience are emphasized. The company has set targets for becoming Net Zero by 2030 and is investing in renewable energy and sustainable practices to mitigate climate impacts.\\nSDG 14: Life Below Water The document includes initiatives to improve coastal water quality and protect marine environments. The company’s efforts in wastewater management and reducing pollution contribute to healthier marine ecosystems.\\nSDG 15: Life on Land Programs to protect and restore natural habitats, such as catchment management and biodiversity initiatives, are highlighted. These efforts aim to enhance terrestrial ecosystems and promote biodiversity.\\nSDG 16: Peace, Justice, and Strong Institutions The company emphasizes transparent governance and ethical business practices. Efforts to engage with customers and stakeholders, and the establishment of advisory panels, contribute to building trust and strong institutional frameworks.\\nSDG 17: Partnerships for the Goals Collaborations with various stakeholders, including government agencies, community organizations, and other partners, are crucial for achieving the company’s sustainability objectives. These partnerships support the implementation of comprehensive and effective sustainability strategies.\\n\""
      ]
     },
     "execution_count": 102,
     "metadata": {},
     "output_type": "execute_result"
    }
   ],
   "source": [
    "bad_ones[0]"
   ]
  },
  {
   "cell_type": "code",
   "execution_count": 103,
   "id": "9724d612",
   "metadata": {
    "ExecuteTime": {
     "end_time": "2024-06-24T14:01:41.318608Z",
     "start_time": "2024-06-24T14:01:41.308505Z"
    }
   },
   "outputs": [
    {
     "data": {
      "text/plain": [
       "{'SDG 5: Gender Equality The document mentions efforts to promote diversity and inclusion within the company, including initiatives to improve gender equality among employees.': 'SDG 6: Clean Water and Sanitation A significant focus is placed on ensuring a reliable supply of clean water and efficient wastewater management. Investments in infrastructure and technology aim to maintain high standards of water quality and sanitation.',\n",
       " 'SDG 7: Affordable and Clean Energy Not explicitly mentioned.': 'SDG 8: Decent Work and Economic Growth The company emphasizes the creation of jobs and economic opportunities, particularly through investments in infrastructure projects and community engagement. Initiatives like the WaterShare+ scheme aim to provide economic benefits to customers and communities.',\n",
       " 'SDG 9: Industry, Innovation, and Infrastructure Investments in advanced water treatment facilities and innovative solutions for water management are highlighted. The company focuses on upgrading infrastructure to enhance efficiency and service quality.': 'SDG 10: Reduced Inequality Efforts to address affordability and provide targeted support to vulnerable customers help reduce economic inequality. Programs like the FreshStart fund provide financial assistance to those facing hardship, ensuring equitable access to water services.',\n",
       " 'SDG 11: Sustainable Cities and Communities The document outlines initiatives to improve urban water management and infrastructure resilience, contributing to the sustainability and livability of communities. Programs to enhance water efficiency and reduce leakage also support this goal.': 'SDG 12: Responsible Consumption and Production The company promotes water conservation through various community programs and educational initiatives, encouraging responsible water usage among customers.',\n",
       " 'SDG 13: Climate Action Commitments to reducing carbon emissions and enhancing climate resilience are emphasized. The company has set targets for becoming Net Zero by 2030 and is investing in renewable energy and sustainable practices to mitigate climate impacts.': 'SDG 14: Life Below Water The document includes initiatives to improve coastal water quality and protect marine environments. The company’s efforts in wastewater management and reducing pollution contribute to healthier marine ecosystems.',\n",
       " 'SDG 15: Life on Land Programs to protect and restore natural habitats, such as catchment management and biodiversity initiatives, are highlighted. These efforts aim to enhance terrestrial ecosystems and promote biodiversity.': 'SDG 16: Peace, Justice, and Strong Institutions The company emphasizes transparent governance and ethical business practices. Efforts to engage with customers and stakeholders, and the establishment of advisory panels, contribute to building trust and strong institutional frameworks.',\n",
       " 'SDG 17: Partnerships for the Goals Collaborations with various stakeholders, including government agencies, community organizations, and other partners, are crucial for achieving the company’s sustainability objectives. These partnerships support the implementation of comprehensive and effective sustainability strategies.': ''}"
      ]
     },
     "execution_count": 103,
     "metadata": {},
     "output_type": "execute_result"
    }
   ],
   "source": [
    "text2dict(bad_ones[0])"
   ]
  },
  {
   "cell_type": "code",
   "execution_count": 105,
   "id": "da26992f",
   "metadata": {
    "ExecuteTime": {
     "end_time": "2024-06-24T14:08:21.481588Z",
     "start_time": "2024-06-24T14:08:21.476064Z"
    }
   },
   "outputs": [],
   "source": [
    "text=standard_one"
   ]
  },
  {
   "cell_type": "code",
   "execution_count": 196,
   "id": "de9e9aea",
   "metadata": {
    "ExecuteTime": {
     "end_time": "2024-06-24T14:44:08.530849Z",
     "start_time": "2024-06-24T14:44:08.514459Z"
    }
   },
   "outputs": [],
   "source": [
    "def new_text2dict(text):\n",
    "    # the information contained here is the same of the entire text, but organised per SDG...\n",
    "    sdgs_dict={}\n",
    "    counter=0\n",
    "    aux=text.split('\\n')\n",
    "    while counter<len(aux):\n",
    "        _a=aux[counter]\n",
    "        try:\n",
    "            if len(_a)>0:\n",
    "                if 'SDG' in _a:\n",
    "                    sdg=[sdg for sdg in sdgs if sdg in _a]\n",
    "                    if len(sdg)==1:\n",
    "                        sdg=sdg[0]\n",
    "                        # well-behaving text\n",
    "                        if _a==sdg and 'Not explicitly mentioned' not in aux[counter+1]:\n",
    "                            sdgs_dict[_a]=aux[counter+1]\n",
    "                            counter+=2\n",
    "                        elif _a==sdg and 'Not explicitly mentioned' in aux[counter+1]:\n",
    "                            counter+=2\n",
    "                        else:\n",
    "                            # not well-behaving text\n",
    "                            _text=_a.split(sdg)[1]\n",
    "                            if 'Not explicitly mentioned' not in _text:\n",
    "                                sdgs_dict[sdg]=_text.strip().replace('\\u200b', '')\n",
    "                            counter+=1\n",
    "                    else:\n",
    "                        #print(_a)\n",
    "                        #raise Error\n",
    "                        counter+=1\n",
    "                else:\n",
    "                    counter+=1\n",
    "            else:\n",
    "                counter+=1\n",
    "        except:\n",
    "            print(_a)\n",
    "            raise Exception('Mannaggia cavolini!')\n",
    "    return sdgs_dict"
   ]
  },
  {
   "cell_type": "code",
   "execution_count": 197,
   "id": "1b1556ae",
   "metadata": {
    "ExecuteTime": {
     "end_time": "2024-06-24T14:44:10.197588Z",
     "start_time": "2024-06-24T14:44:10.155007Z"
    }
   },
   "outputs": [
    {
     "data": {
      "application/vnd.jupyter.widget-view+json": {
       "model_id": "de8b35cc814e46f482384cc30e82a2aa",
       "version_major": 2,
       "version_minor": 0
      },
      "text/plain": [
       "  0%|          | 0/2 [00:00<?, ?it/s]"
      ]
     },
     "metadata": {},
     "output_type": "display_data"
    }
   ],
   "source": [
    "for key in tqdm(text_dict.keys()):\n",
    "    for s_key in text_dict[key].keys():\n",
    "        for s_s_key in text_dict[key][s_key].keys():\n",
    "            if (key, s_key, s_s_key) not in [('Utilities','2017','08_RENEWI_PLC'), ('Utilities','2023','03_SEVERN_TRENT_PLC')]:\n",
    "                text=text_dict[key][s_key][s_s_key]\n",
    "                old_dict=text2dict(text)\n",
    "                new_dict=new_text2dict(text)\n",
    "                if old_dict!=new_dict:\n",
    "                    # on correctly formatted tests the routine works correctly\n",
    "                    print(key, s_key, s_s_key)\n",
    "                    #for final_key in old_dict.keys():\n",
    "                    #    print(final_key)\n",
    "                    #    print(old_dict[final_key])\n",
    "                    #    print(new_dict[final_key])\n",
    "                    "
   ]
  },
  {
   "cell_type": "code",
   "execution_count": 198,
   "id": "6f9709fa",
   "metadata": {
    "ExecuteTime": {
     "end_time": "2024-06-24T14:44:13.065882Z",
     "start_time": "2024-06-24T14:44:13.055910Z"
    }
   },
   "outputs": [
    {
     "data": {
      "text/plain": [
       "\"\\nSummary of SSE Sustainability Report 2023 in the Context of United Nations' Sustainable Development Goals (SDGs)\\nSDG 1: No Poverty Not explicitly mentioned.\\nSDG 2: Zero Hunger Not explicitly mentioned.\\nSDG 3: Good Health and Well-being SSE focuses on the health and safety of its employees and communities. The report mentions initiatives aimed at ensuring employee well-being, mental health support, and maintaining a safe working environment. SSE also supports good health through water and sanitation projects in collaboration with WaterAid\\u200b\\u200b\\u200b\\u200b.\\nSDG 4: Quality Education SSE invests in educational programs, including apprenticeship schemes and graduate programs. The company emphasizes lifelong learning and development opportunities for its employees and community members\\u200b\\u200b.\\nSDG 5: Gender Equality SSE is committed to promoting gender equality within its workforce. The company aims for gender parity in leadership positions and ensures fair pay practices. SSE's initiatives include supporting women in leadership and addressing gender pay gaps\\u200b\\u200b.\\nSDG 6: Clean Water and Sanitation SSE is dedicated to ensuring the sustainable management of water resources. The company supports initiatives to provide clean water and sanitation through its operations and partnerships, including contributions to global water projects\\u200b\\u200b.\\nSDG 7: Affordable and Clean Energy SSE's core business aligns closely with this goal. The company is a leader in renewable energy production, aiming to significantly increase its renewable energy output by 2030. SSE also focuses on energy efficiency and supports the transition to a low-carbon energy system\\u200b\\u200b\\u200b\\u200b.\\nSDG 8: Decent Work and Economic Growth SSE promotes inclusive and sustainable economic growth through job creation and fair work practices. The company supports economic development in local communities and ensures safe working conditions. SSE also contributes to the public purse through its tax practices\\u200b\\u200b.\\nSDG 9: Industry, Innovation, and Infrastructure Innovation is central to SSE's strategy. The company invests in infrastructure projects that support sustainable development, such as renewable energy facilities and smart grid technologies. SSE also runs large-scale technology trials to advance industry practices\\u200b\\u200b\\u200b\\u200b.\\nSDG 10: Reduced Inequality SSE aims to reduce inequalities through its inclusive employment practices and support for diverse communities. The company promotes social mobility and recruits from underrepresented areas\\u200b\\u200b.\\nSDG 11: Sustainable Cities and Communities SSE contributes to sustainable urban development by investing in infrastructure that supports clean energy and efficient water management. The company collaborates on projects aimed at enhancing the sustainability of cities and communities\\u200b\\u200b.\\nSDG 12: Responsible Consumption and Production SSE focuses on resource efficiency and waste reduction in its operations. The company aims for zero waste to landfill and promotes sustainable practices within its supply chain\\u200b\\u200b\\u200b\\u200b.\\nSDG 13: Climate Action Climate action is a primary focus for SSE. The company has set ambitious targets to reduce carbon emissions and increase renewable energy production. SSE's initiatives include adopting science-based targets for carbon reduction and investing in technologies to combat climate change\\u200b\\u200b\\u200b\\u200b.\\nSDG 14: Life Below Water Not explicitly mentioned.\\nSDG 15: Life on Land SSE works to enhance biodiversity and protect natural habitats. The company undertakes projects to improve the biodiversity of its landholdings and supports initiatives to restore ecosystems\\u200b\\u200b.\\nSDG 16: Peace, Justice, and Strong Institutions SSE adheres to strong governance practices, emphasizing ethical conduct, transparency, and accountability. The company integrates human rights principles into its operations and promotes fair business practices\\u200b\\u200b\\u200b\\u200b.\\nSDG 17: Partnerships for the Goals SSE collaborates with various stakeholders, including governments, NGOs, and other businesses, to advance its sustainability goals. The company engages in partnerships that support the broader UN SDG agenda\\u200b\\u200b\\u200b\\u200b.\\n\""
      ]
     },
     "execution_count": 198,
     "metadata": {},
     "output_type": "execute_result"
    }
   ],
   "source": [
    "bad_ones[1]"
   ]
  },
  {
   "cell_type": "code",
   "execution_count": 200,
   "id": "8054472f",
   "metadata": {
    "ExecuteTime": {
     "end_time": "2024-06-24T14:44:19.548881Z",
     "start_time": "2024-06-24T14:44:19.538216Z"
    }
   },
   "outputs": [
    {
     "data": {
      "text/plain": [
       "{'SDG 1: No Poverty': 'The document emphasizes efforts to ensure affordability of water services for customers, particularly those in vulnerable situations. Initiatives like the WaterCare+ program provide financial support and benefit entitlement checks to help customers manage their bills and avoid water poverty.',\n",
       " 'SDG 3: Good Health and Well-being': 'The report highlights the importance of clean and safe water supply as essential for public health. Various programs ensure water quality and safety, including maintaining high standards for drinking water and managing wastewater effectively to prevent public health risks.',\n",
       " 'SDG 5: Gender Equality': 'The document mentions efforts to promote diversity and inclusion within the company, including initiatives to improve gender equality among employees.',\n",
       " 'SDG 6: Clean Water and Sanitation': 'A significant focus is placed on ensuring a reliable supply of clean water and efficient wastewater management. Investments in infrastructure and technology aim to maintain high standards of water quality and sanitation.',\n",
       " 'SDG 8: Decent Work and Economic Growth': 'The company emphasizes the creation of jobs and economic opportunities, particularly through investments in infrastructure projects and community engagement. Initiatives like the WaterShare+ scheme aim to provide economic benefits to customers and communities.',\n",
       " 'SDG 9: Industry, Innovation, and Infrastructure': 'Investments in advanced water treatment facilities and innovative solutions for water management are highlighted. The company focuses on upgrading infrastructure to enhance efficiency and service quality.',\n",
       " 'SDG 10: Reduced Inequality': 'Efforts to address affordability and provide targeted support to vulnerable customers help reduce economic inequality. Programs like the FreshStart fund provide financial assistance to those facing hardship, ensuring equitable access to water services.',\n",
       " 'SDG 11: Sustainable Cities and Communities': 'The document outlines initiatives to improve urban water management and infrastructure resilience, contributing to the sustainability and livability of communities. Programs to enhance water efficiency and reduce leakage also support this goal.',\n",
       " 'SDG 12: Responsible Consumption and Production': 'The company promotes water conservation through various community programs and educational initiatives, encouraging responsible water usage among customers.',\n",
       " 'SDG 13: Climate Action': 'Commitments to reducing carbon emissions and enhancing climate resilience are emphasized. The company has set targets for becoming Net Zero by 2030 and is investing in renewable energy and sustainable practices to mitigate climate impacts.',\n",
       " 'SDG 14: Life Below Water': 'The document includes initiatives to improve coastal water quality and protect marine environments. The company’s efforts in wastewater management and reducing pollution contribute to healthier marine ecosystems.',\n",
       " 'SDG 15: Life on Land': 'Programs to protect and restore natural habitats, such as catchment management and biodiversity initiatives, are highlighted. These efforts aim to enhance terrestrial ecosystems and promote biodiversity.',\n",
       " 'SDG 16: Peace, Justice, and Strong Institutions': 'The company emphasizes transparent governance and ethical business practices. Efforts to engage with customers and stakeholders, and the establishment of advisory panels, contribute to building trust and strong institutional frameworks.',\n",
       " 'SDG 17: Partnerships for the Goals': 'Collaborations with various stakeholders, including government agencies, community organizations, and other partners, are crucial for achieving the company’s sustainability objectives. These partnerships support the implementation of comprehensive and effective sustainability strategies.'}"
      ]
     },
     "execution_count": 200,
     "metadata": {},
     "output_type": "execute_result"
    }
   ],
   "source": [
    "new_text2dict(bad_ones[0])"
   ]
  },
  {
   "cell_type": "code",
   "execution_count": 201,
   "id": "495f4fff",
   "metadata": {
    "ExecuteTime": {
     "end_time": "2024-06-24T14:44:33.782963Z",
     "start_time": "2024-06-24T14:44:33.776840Z"
    }
   },
   "outputs": [],
   "source": [
    "sdg_dict=new_text2dict(bad_ones[0])"
   ]
  },
  {
   "cell_type": "code",
   "execution_count": 207,
   "id": "bc4377dc",
   "metadata": {
    "ExecuteTime": {
     "end_time": "2024-06-24T14:47:42.130340Z",
     "start_time": "2024-06-24T14:47:42.121321Z"
    }
   },
   "outputs": [],
   "source": [
    "def text2vec(sdgs_dict):\n",
    "    # Here I brutally binarized by presence/absence of mention in the report of the given SDG\n",
    "    # there are 17 sdgs, starting from the entries from text2dict\n",
    "    sdgs_vec=np.zeros(17, dtype=int)\n",
    "    for key in sdg_dict.keys():\n",
    "        which=int(key.split(':')[0].split(' ')[1])-1\n",
    "        sdgs_vec[which]=1\n",
    "    return sdgs_vec"
   ]
  },
  {
   "cell_type": "code",
   "execution_count": 208,
   "id": "d3bea6b8",
   "metadata": {
    "ExecuteTime": {
     "end_time": "2024-06-24T14:47:48.488714Z",
     "start_time": "2024-06-24T14:47:48.479108Z"
    }
   },
   "outputs": [
    {
     "data": {
      "text/plain": [
       "array([1, 0, 1, 0, 1, 1, 0, 1, 1, 1, 1, 1, 1, 1, 1, 1, 1])"
      ]
     },
     "execution_count": 208,
     "metadata": {},
     "output_type": "execute_result"
    }
   ],
   "source": [
    "text2vec(sdgs_dict)"
   ]
  },
  {
   "cell_type": "code",
   "execution_count": 209,
   "id": "f11f02ff",
   "metadata": {
    "ExecuteTime": {
     "end_time": "2024-06-24T14:47:58.557960Z",
     "start_time": "2024-06-24T14:47:58.549136Z"
    }
   },
   "outputs": [
    {
     "data": {
      "text/plain": [
       "dict_keys(['SDG 1: No Poverty', 'SDG 3: Good Health and Well-being', 'SDG 5: Gender Equality', 'SDG 6: Clean Water and Sanitation', 'SDG 8: Decent Work and Economic Growth', 'SDG 9: Industry, Innovation, and Infrastructure', 'SDG 10: Reduced Inequality', 'SDG 11: Sustainable Cities and Communities', 'SDG 12: Responsible Consumption and Production', 'SDG 13: Climate Action', 'SDG 14: Life Below Water', 'SDG 15: Life on Land', 'SDG 16: Peace, Justice, and Strong Institutions', 'SDG 17: Partnerships for the Goals'])"
      ]
     },
     "execution_count": 209,
     "metadata": {},
     "output_type": "execute_result"
    }
   ],
   "source": [
    "sdg_dict.keys()"
   ]
  },
  {
   "cell_type": "code",
   "execution_count": 206,
   "id": "bb65a467",
   "metadata": {
    "ExecuteTime": {
     "end_time": "2024-06-24T14:45:43.552550Z",
     "start_time": "2024-06-24T14:45:43.544261Z"
    }
   },
   "outputs": [
    {
     "name": "stdout",
     "output_type": "stream",
     "text": [
      "0\n",
      "2\n",
      "4\n",
      "5\n",
      "7\n",
      "8\n",
      "9\n",
      "10\n",
      "11\n",
      "12\n",
      "13\n",
      "14\n",
      "15\n",
      "16\n"
     ]
    }
   ],
   "source": [
    "for key in sdg_dict.keys():\n",
    "    which=int(key.split(':')[0].split(' ')[1])-1\n",
    "    print(which)"
   ]
  },
  {
   "cell_type": "code",
   "execution_count": null,
   "id": "ee07bcd9",
   "metadata": {},
   "outputs": [],
   "source": []
  },
  {
   "cell_type": "code",
   "execution_count": null,
   "id": "354511f2",
   "metadata": {},
   "outputs": [],
   "source": []
  },
  {
   "cell_type": "code",
   "execution_count": null,
   "id": "2eb2a2a6",
   "metadata": {},
   "outputs": [],
   "source": []
  },
  {
   "cell_type": "code",
   "execution_count": 66,
   "id": "9180af1b",
   "metadata": {
    "ExecuteTime": {
     "end_time": "2024-06-24T13:04:22.046595Z",
     "start_time": "2024-06-24T13:04:22.038139Z"
    }
   },
   "outputs": [],
   "source": [
    "with open ('./data/energy_utilities_texts.pickle', 'rb') as f:\n",
    "    text_dict=pickle.load(f)"
   ]
  },
  {
   "cell_type": "code",
   "execution_count": 75,
   "id": "7f0a8fb6",
   "metadata": {
    "ExecuteTime": {
     "end_time": "2024-06-24T13:11:21.372527Z",
     "start_time": "2024-06-24T13:11:21.363138Z"
    }
   },
   "outputs": [
    {
     "data": {
      "text/plain": [
       "\"\\nSummary of LSE_RWI_2017.pdf in Relation to United Nations' Sustainable Development Goals (SDGs)\\nSDG 1: No Poverty The document emphasizes efforts to ensure affordability of water services for customers, particularly those in vulnerable situations. Initiatives like the WaterCare+ program provide financial support and benefit entitlement checks to help customers manage their bills and avoid water poverty.\\nSDG 2: Zero Hunger Not explicitly mentioned.\\nSDG 3: Good Health and Well-being The report highlights the importance of clean and safe water supply as essential for public health. Various programs ensure water quality and safety, including maintaining high standards for drinking water and managing wastewater effectively to prevent public health risks.\\nSDG 4: Quality Education Not explicitly mentioned.\\nSDG 5: Gender Equality The document mentions efforts to promote diversity and inclusion within the company, including initiatives to improve gender equality among employees.\\nSDG 6: Clean Water and Sanitation A significant focus is placed on ensuring a reliable supply of clean water and efficient wastewater management. Investments in infrastructure and technology aim to maintain high standards of water quality and sanitation.\\nSDG 7: Affordable and Clean Energy Not explicitly mentioned.\\nSDG 8: Decent Work and Economic Growth The company emphasizes the creation of jobs and economic opportunities, particularly through investments in infrastructure projects and community engagement. Initiatives like the WaterShare+ scheme aim to provide economic benefits to customers and communities.\\nSDG 9: Industry, Innovation, and Infrastructure Investments in advanced water treatment facilities and innovative solutions for water management are highlighted. The company focuses on upgrading infrastructure to enhance efficiency and service quality.\\nSDG 10: Reduced Inequality Efforts to address affordability and provide targeted support to vulnerable customers help reduce economic inequality. Programs like the FreshStart fund provide financial assistance to those facing hardship, ensuring equitable access to water services.\\nSDG 11: Sustainable Cities and Communities The document outlines initiatives to improve urban water management and infrastructure resilience, contributing to the sustainability and livability of communities. Programs to enhance water efficiency and reduce leakage also support this goal.\\nSDG 12: Responsible Consumption and Production The company promotes water conservation through various community programs and educational initiatives, encouraging responsible water usage among customers.\\nSDG 13: Climate Action Commitments to reducing carbon emissions and enhancing climate resilience are emphasized. The company has set targets for becoming Net Zero by 2030 and is investing in renewable energy and sustainable practices to mitigate climate impacts.\\nSDG 14: Life Below Water The document includes initiatives to improve coastal water quality and protect marine environments. The company’s efforts in wastewater management and reducing pollution contribute to healthier marine ecosystems.\\nSDG 15: Life on Land Programs to protect and restore natural habitats, such as catchment management and biodiversity initiatives, are highlighted. These efforts aim to enhance terrestrial ecosystems and promote biodiversity.\\nSDG 16: Peace, Justice, and Strong Institutions The company emphasizes transparent governance and ethical business practices. Efforts to engage with customers and stakeholders, and the establishment of advisory panels, contribute to building trust and strong institutional frameworks.\\nSDG 17: Partnerships for the Goals Collaborations with various stakeholders, including government agencies, community organizations, and other partners, are crucial for achieving the company’s sustainability objectives. These partnerships support the implementation of comprehensive and effective sustainability strategies.\\n\""
      ]
     },
     "execution_count": 75,
     "metadata": {},
     "output_type": "execute_result"
    }
   ],
   "source": [
    "text_dict['Utilities']['2017']['08_RENEWI_PLC']"
   ]
  },
  {
   "cell_type": "code",
   "execution_count": 32,
   "id": "5a2148e6",
   "metadata": {
    "ExecuteTime": {
     "end_time": "2024-06-24T12:45:56.259393Z",
     "start_time": "2024-06-24T12:45:56.246543Z"
    }
   },
   "outputs": [],
   "source": [
    "def aux(couple, tqdm_loops=False, verbose=False, n_sample=10**3):\n",
    "    dict_0=sdgs_dict[v_year][v_field][couple[0]]\n",
    "    dict_1=sdgs_dict[v_year][v_field][couple[1]]\n",
    "    common_sdgs=[key for key in dict_0.keys() if key in dict_1.keys()]\n",
    "    for sdg in common_sdgs:\n",
    "        cacca=tesste(dict_0[sdg], dict_1[sdg], tqdm_loops=tqdm_loops, verbose=verbose,n_sample=n_sample)\n",
    "        \n",
    "        print('({0:}, {1:}){2:}. Cos={3:.3f}, p-val(theo)={4:.3f}, p-val(sam)={5:.3f},'.format(couple[0][3:], couple[1][3:], sdg.split(':')[0], cacca.cos_sim, cacca.pval, cacca.sampled_pval))"
   ]
  },
  {
   "cell_type": "code",
   "execution_count": 33,
   "id": "e1e74b8c",
   "metadata": {
    "ExecuteTime": {
     "end_time": "2024-06-24T12:46:54.655856Z",
     "start_time": "2024-06-24T12:45:58.234211Z"
    }
   },
   "outputs": [
    {
     "data": {
      "application/vnd.jupyter.widget-view+json": {
       "model_id": "",
       "version_major": 2,
       "version_minor": 0
      },
      "text/plain": [
       "  0%|          | 0/200 [00:00<?, ?it/s]"
      ]
     },
     "metadata": {},
     "output_type": "display_data"
    },
    {
     "name": "stdout",
     "output_type": "stream",
     "text": [
      "(SSE_PLC, CENTRICA_PLC)SDG 3. Cos=0.599, p-val(theo)=0.761, p-val(sam)=0.760,\n"
     ]
    },
    {
     "data": {
      "application/vnd.jupyter.widget-view+json": {
       "model_id": "",
       "version_major": 2,
       "version_minor": 0
      },
      "text/plain": [
       "  0%|          | 0/200 [00:00<?, ?it/s]"
      ]
     },
     "metadata": {},
     "output_type": "display_data"
    },
    {
     "name": "stdout",
     "output_type": "stream",
     "text": [
      "(SSE_PLC, CENTRICA_PLC)SDG 4. Cos=0.316, p-val(theo)=0.931, p-val(sam)=0.920,\n"
     ]
    },
    {
     "data": {
      "application/vnd.jupyter.widget-view+json": {
       "model_id": "",
       "version_major": 2,
       "version_minor": 0
      },
      "text/plain": [
       "  0%|          | 0/200 [00:00<?, ?it/s]"
      ]
     },
     "metadata": {},
     "output_type": "display_data"
    },
    {
     "name": "stdout",
     "output_type": "stream",
     "text": [
      "(SSE_PLC, CENTRICA_PLC)SDG 5. Cos=0.596, p-val(theo)=0.985, p-val(sam)=0.995,\n"
     ]
    },
    {
     "data": {
      "application/vnd.jupyter.widget-view+json": {
       "model_id": "",
       "version_major": 2,
       "version_minor": 0
      },
      "text/plain": [
       "  0%|          | 0/200 [00:00<?, ?it/s]"
      ]
     },
     "metadata": {},
     "output_type": "display_data"
    },
    {
     "name": "stdout",
     "output_type": "stream",
     "text": [
      "(SSE_PLC, CENTRICA_PLC)SDG 7. Cos=0.319, p-val(theo)=0.904, p-val(sam)=0.910,\n"
     ]
    },
    {
     "data": {
      "application/vnd.jupyter.widget-view+json": {
       "model_id": "5fd73b4f993341e3b9b6072d7a6c2e93",
       "version_major": 2,
       "version_minor": 0
      },
      "text/plain": [
       "  0%|          | 0/200 [00:00<?, ?it/s]"
      ]
     },
     "metadata": {},
     "output_type": "display_data"
    },
    {
     "ename": "KeyboardInterrupt",
     "evalue": "",
     "output_type": "error",
     "traceback": [
      "\u001b[0;31m---------------------------------------------------------------------------\u001b[0m",
      "\u001b[0;31mKeyboardInterrupt\u001b[0m                         Traceback (most recent call last)",
      "Cell \u001b[0;32mIn[33], line 1\u001b[0m\n\u001b[0;32m----> 1\u001b[0m \u001b[43maux\u001b[49m\u001b[43m(\u001b[49m\u001b[43mval_couples\u001b[49m\u001b[43m[\u001b[49m\u001b[38;5;241;43m0\u001b[39;49m\u001b[43m]\u001b[49m\u001b[43m,\u001b[49m\u001b[43mtqdm_loops\u001b[49m\u001b[38;5;241;43m=\u001b[39;49m\u001b[38;5;28;43;01mTrue\u001b[39;49;00m\u001b[43m,\u001b[49m\u001b[43m \u001b[49m\u001b[43mn_sample\u001b[49m\u001b[38;5;241;43m=\u001b[39;49m\u001b[38;5;241;43m200\u001b[39;49m\u001b[43m)\u001b[49m\n",
      "Cell \u001b[0;32mIn[32], line 6\u001b[0m, in \u001b[0;36maux\u001b[0;34m(couple, tqdm_loops, verbose, n_sample)\u001b[0m\n\u001b[1;32m      4\u001b[0m common_sdgs\u001b[38;5;241m=\u001b[39m[key \u001b[38;5;28;01mfor\u001b[39;00m key \u001b[38;5;129;01min\u001b[39;00m dict_0\u001b[38;5;241m.\u001b[39mkeys() \u001b[38;5;28;01mif\u001b[39;00m key \u001b[38;5;129;01min\u001b[39;00m dict_1\u001b[38;5;241m.\u001b[39mkeys()]\n\u001b[1;32m      5\u001b[0m \u001b[38;5;28;01mfor\u001b[39;00m sdg \u001b[38;5;129;01min\u001b[39;00m common_sdgs:\n\u001b[0;32m----> 6\u001b[0m     cacca\u001b[38;5;241m=\u001b[39m\u001b[43mtesste\u001b[49m\u001b[43m(\u001b[49m\u001b[43mdict_0\u001b[49m\u001b[43m[\u001b[49m\u001b[43msdg\u001b[49m\u001b[43m]\u001b[49m\u001b[43m,\u001b[49m\u001b[43m \u001b[49m\u001b[43mdict_1\u001b[49m\u001b[43m[\u001b[49m\u001b[43msdg\u001b[49m\u001b[43m]\u001b[49m\u001b[43m,\u001b[49m\u001b[43m \u001b[49m\u001b[43mtqdm_loops\u001b[49m\u001b[38;5;241;43m=\u001b[39;49m\u001b[43mtqdm_loops\u001b[49m\u001b[43m,\u001b[49m\u001b[43m \u001b[49m\u001b[43mverbose\u001b[49m\u001b[38;5;241;43m=\u001b[39;49m\u001b[43mverbose\u001b[49m\u001b[43m,\u001b[49m\u001b[43mn_sample\u001b[49m\u001b[38;5;241;43m=\u001b[39;49m\u001b[43mn_sample\u001b[49m\u001b[43m)\u001b[49m\n\u001b[1;32m      8\u001b[0m     \u001b[38;5;28mprint\u001b[39m(\u001b[38;5;124m'\u001b[39m\u001b[38;5;124m(\u001b[39m\u001b[38;5;132;01m{0:}\u001b[39;00m\u001b[38;5;124m, \u001b[39m\u001b[38;5;132;01m{1:}\u001b[39;00m\u001b[38;5;124m)\u001b[39m\u001b[38;5;132;01m{2:}\u001b[39;00m\u001b[38;5;124m. Cos=\u001b[39m\u001b[38;5;132;01m{3:.3f}\u001b[39;00m\u001b[38;5;124m, p-val(theo)=\u001b[39m\u001b[38;5;132;01m{4:.3f}\u001b[39;00m\u001b[38;5;124m, p-val(sam)=\u001b[39m\u001b[38;5;132;01m{5:.3f}\u001b[39;00m\u001b[38;5;124m,\u001b[39m\u001b[38;5;124m'\u001b[39m\u001b[38;5;241m.\u001b[39mformat(couple[\u001b[38;5;241m0\u001b[39m][\u001b[38;5;241m3\u001b[39m:], couple[\u001b[38;5;241m1\u001b[39m][\u001b[38;5;241m3\u001b[39m:], sdg\u001b[38;5;241m.\u001b[39msplit(\u001b[38;5;124m'\u001b[39m\u001b[38;5;124m:\u001b[39m\u001b[38;5;124m'\u001b[39m)[\u001b[38;5;241m0\u001b[39m], cacca\u001b[38;5;241m.\u001b[39mcos_sim, cacca\u001b[38;5;241m.\u001b[39mpval, cacca\u001b[38;5;241m.\u001b[39msampled_pval))\n",
      "File \u001b[0;32m~/sdgs_py38/sdg_repos/tesste.py:41\u001b[0m, in \u001b[0;36mtesste.__init__\u001b[0;34m(self, text_0, text_1, n_sample, verbose, tqdm_loops)\u001b[0m\n\u001b[1;32m     38\u001b[0m \u001b[38;5;28mself\u001b[39m\u001b[38;5;241m.\u001b[39mse_emb_1 \u001b[38;5;241m=\u001b[39m \u001b[38;5;28mself\u001b[39m\u001b[38;5;241m.\u001b[39mmodel\u001b[38;5;241m.\u001b[39mencode(text_1)\n\u001b[1;32m     40\u001b[0m \u001b[38;5;28mself\u001b[39m\u001b[38;5;241m.\u001b[39mcos_sim\u001b[38;5;241m=\u001b[39mutil\u001b[38;5;241m.\u001b[39mcos_sim(\u001b[38;5;28mself\u001b[39m\u001b[38;5;241m.\u001b[39mse_emb_0,\u001b[38;5;28mself\u001b[39m\u001b[38;5;241m.\u001b[39mse_emb_1)[\u001b[38;5;241m0\u001b[39m,\u001b[38;5;241m0\u001b[39m]\u001b[38;5;241m.\u001b[39mtolist()\n\u001b[0;32m---> 41\u001b[0m \u001b[38;5;28;43mself\u001b[39;49m\u001b[38;5;241;43m.\u001b[39;49m\u001b[43mva_co_si\u001b[49m\u001b[43m(\u001b[49m\u001b[43m)\u001b[49m\n\u001b[1;32m     42\u001b[0m \u001b[38;5;28mself\u001b[39m\u001b[38;5;241m.\u001b[39mfit_cos_sim_mielke()\n\u001b[1;32m     43\u001b[0m \u001b[38;5;28mself\u001b[39m\u001b[38;5;241m.\u001b[39mpval\u001b[38;5;241m=\u001b[39m\u001b[38;5;28mself\u001b[39m\u001b[38;5;241m.\u001b[39mget_pvalue(\u001b[38;5;28mself\u001b[39m\u001b[38;5;241m.\u001b[39mcos_sim, st\u001b[38;5;241m.\u001b[39mmielke, \u001b[38;5;28mself\u001b[39m\u001b[38;5;241m.\u001b[39mcosi_arg, \u001b[38;5;28mself\u001b[39m\u001b[38;5;241m.\u001b[39mcosi_loc, \u001b[38;5;28mself\u001b[39m\u001b[38;5;241m.\u001b[39mcosi_scale)\n",
      "File \u001b[0;32m~/sdgs_py38/sdg_repos/tesste.py:71\u001b[0m, in \u001b[0;36mtesste.va_co_si\u001b[0;34m(self)\u001b[0m\n\u001b[1;32m     69\u001b[0m \u001b[38;5;28;01mif\u001b[39;00m \u001b[38;5;28mself\u001b[39m\u001b[38;5;241m.\u001b[39mtqdm_loops:\n\u001b[1;32m     70\u001b[0m     \u001b[38;5;28;01mfor\u001b[39;00m i \u001b[38;5;129;01min\u001b[39;00m trange(\u001b[38;5;28mself\u001b[39m\u001b[38;5;241m.\u001b[39mn_sample, leave\u001b[38;5;241m=\u001b[39m\u001b[38;5;28;01mFalse\u001b[39;00m):\n\u001b[0;32m---> 71\u001b[0m         \u001b[38;5;28mself\u001b[39m\u001b[38;5;241m.\u001b[39mra_se_co_si[i]\u001b[38;5;241m=\u001b[39m\u001b[38;5;28;43mself\u001b[39;49m\u001b[38;5;241;43m.\u001b[39;49m\u001b[43msingle_step_randomization\u001b[49m\u001b[43m(\u001b[49m\u001b[38;5;241;43m1\u001b[39;49m\u001b[43m)\u001b[49m\n\u001b[1;32m     72\u001b[0m \u001b[38;5;28;01melse\u001b[39;00m:\n\u001b[1;32m     73\u001b[0m     \u001b[38;5;28;01mfor\u001b[39;00m i \u001b[38;5;129;01min\u001b[39;00m \u001b[38;5;28mrange\u001b[39m(\u001b[38;5;28mself\u001b[39m\u001b[38;5;241m.\u001b[39mn_sample):\n",
      "File \u001b[0;32m~/sdgs_py38/sdg_repos/tesste.py:57\u001b[0m, in \u001b[0;36mtesste.single_step_randomization\u001b[0;34m(self, fake)\u001b[0m\n\u001b[1;32m     56\u001b[0m \u001b[38;5;28;01mdef\u001b[39;00m \u001b[38;5;21msingle_step_randomization\u001b[39m(\u001b[38;5;28mself\u001b[39m, fake):\n\u001b[0;32m---> 57\u001b[0m     se_ra_te_0\u001b[38;5;241m=\u001b[39m\u001b[38;5;28;43mself\u001b[39;49m\u001b[38;5;241;43m.\u001b[39;49m\u001b[43msemantic_randomizer\u001b[49m\u001b[43m(\u001b[49m\u001b[38;5;28;43mself\u001b[39;49m\u001b[38;5;241;43m.\u001b[39;49m\u001b[43mtext_0\u001b[49m\u001b[43m,\u001b[49m\u001b[43m \u001b[49m\u001b[38;5;28;43mself\u001b[39;49m\u001b[38;5;241;43m.\u001b[39;49m\u001b[43mmodel\u001b[49m\u001b[43m)\u001b[49m\n\u001b[1;32m     58\u001b[0m     se_ra_te_1\u001b[38;5;241m=\u001b[39m\u001b[38;5;28mself\u001b[39m\u001b[38;5;241m.\u001b[39msemantic_randomizer(\u001b[38;5;28mself\u001b[39m\u001b[38;5;241m.\u001b[39mtext_1, \u001b[38;5;28mself\u001b[39m\u001b[38;5;241m.\u001b[39mmodel)\n\u001b[1;32m     59\u001b[0m     \u001b[38;5;28;01mreturn\u001b[39;00m util\u001b[38;5;241m.\u001b[39mcos_sim(se_ra_te_0,se_ra_te_1)[\u001b[38;5;241m0\u001b[39m,\u001b[38;5;241m0\u001b[39m]\u001b[38;5;241m.\u001b[39mtolist()\n",
      "File \u001b[0;32m~/sdgs_py38/sdg_repos/tesste.py:52\u001b[0m, in \u001b[0;36mtesste.semantic_randomizer\u001b[0;34m(text, model)\u001b[0m\n\u001b[1;32m     50\u001b[0m shuffled_text \u001b[38;5;241m=\u001b[39m np\u001b[38;5;241m.\u001b[39mrandom\u001b[38;5;241m.\u001b[39mpermutation(shuffled_text)\n\u001b[1;32m     51\u001b[0m shuffled_text\u001b[38;5;241m=\u001b[39m \u001b[38;5;124m'\u001b[39m\u001b[38;5;124m \u001b[39m\u001b[38;5;124m'\u001b[39m\u001b[38;5;241m.\u001b[39mjoin(shuffled_text)\n\u001b[0;32m---> 52\u001b[0m shuffled_embedding \u001b[38;5;241m=\u001b[39m \u001b[43mmodel\u001b[49m\u001b[38;5;241;43m.\u001b[39;49m\u001b[43mencode\u001b[49m\u001b[43m(\u001b[49m\u001b[43mshuffled_text\u001b[49m\u001b[43m)\u001b[49m\n\u001b[1;32m     53\u001b[0m \u001b[38;5;28;01mreturn\u001b[39;00m shuffled_embedding\n",
      "File \u001b[0;32m~/sdgs_py38/lib/python3.8/site-packages/sentence_transformers/SentenceTransformer.py:371\u001b[0m, in \u001b[0;36mSentenceTransformer.encode\u001b[0;34m(self, sentences, prompt_name, prompt, batch_size, show_progress_bar, output_value, precision, convert_to_numpy, convert_to_tensor, device, normalize_embeddings)\u001b[0m\n\u001b[1;32m    368\u001b[0m features\u001b[38;5;241m.\u001b[39mupdate(extra_features)\n\u001b[1;32m    370\u001b[0m \u001b[38;5;28;01mwith\u001b[39;00m torch\u001b[38;5;241m.\u001b[39mno_grad():\n\u001b[0;32m--> 371\u001b[0m     out_features \u001b[38;5;241m=\u001b[39m \u001b[38;5;28;43mself\u001b[39;49m\u001b[38;5;241;43m.\u001b[39;49m\u001b[43mforward\u001b[49m\u001b[43m(\u001b[49m\u001b[43mfeatures\u001b[49m\u001b[43m)\u001b[49m\n\u001b[1;32m    372\u001b[0m     out_features[\u001b[38;5;124m\"\u001b[39m\u001b[38;5;124msentence_embedding\u001b[39m\u001b[38;5;124m\"\u001b[39m] \u001b[38;5;241m=\u001b[39m truncate_embeddings(\n\u001b[1;32m    373\u001b[0m         out_features[\u001b[38;5;124m\"\u001b[39m\u001b[38;5;124msentence_embedding\u001b[39m\u001b[38;5;124m\"\u001b[39m], \u001b[38;5;28mself\u001b[39m\u001b[38;5;241m.\u001b[39mtruncate_dim\n\u001b[1;32m    374\u001b[0m     )\n\u001b[1;32m    376\u001b[0m     \u001b[38;5;28;01mif\u001b[39;00m output_value \u001b[38;5;241m==\u001b[39m \u001b[38;5;124m\"\u001b[39m\u001b[38;5;124mtoken_embeddings\u001b[39m\u001b[38;5;124m\"\u001b[39m:\n",
      "File \u001b[0;32m~/sdgs_py38/lib/python3.8/site-packages/torch/nn/modules/container.py:217\u001b[0m, in \u001b[0;36mSequential.forward\u001b[0;34m(self, input)\u001b[0m\n\u001b[1;32m    215\u001b[0m \u001b[38;5;28;01mdef\u001b[39;00m \u001b[38;5;21mforward\u001b[39m(\u001b[38;5;28mself\u001b[39m, \u001b[38;5;28minput\u001b[39m):\n\u001b[1;32m    216\u001b[0m     \u001b[38;5;28;01mfor\u001b[39;00m module \u001b[38;5;129;01min\u001b[39;00m \u001b[38;5;28mself\u001b[39m:\n\u001b[0;32m--> 217\u001b[0m         \u001b[38;5;28minput\u001b[39m \u001b[38;5;241m=\u001b[39m \u001b[43mmodule\u001b[49m\u001b[43m(\u001b[49m\u001b[38;5;28;43minput\u001b[39;49m\u001b[43m)\u001b[49m\n\u001b[1;32m    218\u001b[0m     \u001b[38;5;28;01mreturn\u001b[39;00m \u001b[38;5;28minput\u001b[39m\n",
      "File \u001b[0;32m~/sdgs_py38/lib/python3.8/site-packages/torch/nn/modules/module.py:1532\u001b[0m, in \u001b[0;36mModule._wrapped_call_impl\u001b[0;34m(self, *args, **kwargs)\u001b[0m\n\u001b[1;32m   1530\u001b[0m     \u001b[38;5;28;01mreturn\u001b[39;00m \u001b[38;5;28mself\u001b[39m\u001b[38;5;241m.\u001b[39m_compiled_call_impl(\u001b[38;5;241m*\u001b[39margs, \u001b[38;5;241m*\u001b[39m\u001b[38;5;241m*\u001b[39mkwargs)  \u001b[38;5;66;03m# type: ignore[misc]\u001b[39;00m\n\u001b[1;32m   1531\u001b[0m \u001b[38;5;28;01melse\u001b[39;00m:\n\u001b[0;32m-> 1532\u001b[0m     \u001b[38;5;28;01mreturn\u001b[39;00m \u001b[38;5;28;43mself\u001b[39;49m\u001b[38;5;241;43m.\u001b[39;49m\u001b[43m_call_impl\u001b[49m\u001b[43m(\u001b[49m\u001b[38;5;241;43m*\u001b[39;49m\u001b[43margs\u001b[49m\u001b[43m,\u001b[49m\u001b[43m \u001b[49m\u001b[38;5;241;43m*\u001b[39;49m\u001b[38;5;241;43m*\u001b[39;49m\u001b[43mkwargs\u001b[49m\u001b[43m)\u001b[49m\n",
      "File \u001b[0;32m~/sdgs_py38/lib/python3.8/site-packages/torch/nn/modules/module.py:1541\u001b[0m, in \u001b[0;36mModule._call_impl\u001b[0;34m(self, *args, **kwargs)\u001b[0m\n\u001b[1;32m   1536\u001b[0m \u001b[38;5;66;03m# If we don't have any hooks, we want to skip the rest of the logic in\u001b[39;00m\n\u001b[1;32m   1537\u001b[0m \u001b[38;5;66;03m# this function, and just call forward.\u001b[39;00m\n\u001b[1;32m   1538\u001b[0m \u001b[38;5;28;01mif\u001b[39;00m \u001b[38;5;129;01mnot\u001b[39;00m (\u001b[38;5;28mself\u001b[39m\u001b[38;5;241m.\u001b[39m_backward_hooks \u001b[38;5;129;01mor\u001b[39;00m \u001b[38;5;28mself\u001b[39m\u001b[38;5;241m.\u001b[39m_backward_pre_hooks \u001b[38;5;129;01mor\u001b[39;00m \u001b[38;5;28mself\u001b[39m\u001b[38;5;241m.\u001b[39m_forward_hooks \u001b[38;5;129;01mor\u001b[39;00m \u001b[38;5;28mself\u001b[39m\u001b[38;5;241m.\u001b[39m_forward_pre_hooks\n\u001b[1;32m   1539\u001b[0m         \u001b[38;5;129;01mor\u001b[39;00m _global_backward_pre_hooks \u001b[38;5;129;01mor\u001b[39;00m _global_backward_hooks\n\u001b[1;32m   1540\u001b[0m         \u001b[38;5;129;01mor\u001b[39;00m _global_forward_hooks \u001b[38;5;129;01mor\u001b[39;00m _global_forward_pre_hooks):\n\u001b[0;32m-> 1541\u001b[0m     \u001b[38;5;28;01mreturn\u001b[39;00m \u001b[43mforward_call\u001b[49m\u001b[43m(\u001b[49m\u001b[38;5;241;43m*\u001b[39;49m\u001b[43margs\u001b[49m\u001b[43m,\u001b[49m\u001b[43m \u001b[49m\u001b[38;5;241;43m*\u001b[39;49m\u001b[38;5;241;43m*\u001b[39;49m\u001b[43mkwargs\u001b[49m\u001b[43m)\u001b[49m\n\u001b[1;32m   1543\u001b[0m \u001b[38;5;28;01mtry\u001b[39;00m:\n\u001b[1;32m   1544\u001b[0m     result \u001b[38;5;241m=\u001b[39m \u001b[38;5;28;01mNone\u001b[39;00m\n",
      "File \u001b[0;32m~/sdgs_py38/lib/python3.8/site-packages/sentence_transformers/models/Transformer.py:98\u001b[0m, in \u001b[0;36mTransformer.forward\u001b[0;34m(self, features)\u001b[0m\n\u001b[1;32m     95\u001b[0m \u001b[38;5;28;01mif\u001b[39;00m \u001b[38;5;124m\"\u001b[39m\u001b[38;5;124mtoken_type_ids\u001b[39m\u001b[38;5;124m\"\u001b[39m \u001b[38;5;129;01min\u001b[39;00m features:\n\u001b[1;32m     96\u001b[0m     trans_features[\u001b[38;5;124m\"\u001b[39m\u001b[38;5;124mtoken_type_ids\u001b[39m\u001b[38;5;124m\"\u001b[39m] \u001b[38;5;241m=\u001b[39m features[\u001b[38;5;124m\"\u001b[39m\u001b[38;5;124mtoken_type_ids\u001b[39m\u001b[38;5;124m\"\u001b[39m]\n\u001b[0;32m---> 98\u001b[0m output_states \u001b[38;5;241m=\u001b[39m \u001b[38;5;28;43mself\u001b[39;49m\u001b[38;5;241;43m.\u001b[39;49m\u001b[43mauto_model\u001b[49m\u001b[43m(\u001b[49m\u001b[38;5;241;43m*\u001b[39;49m\u001b[38;5;241;43m*\u001b[39;49m\u001b[43mtrans_features\u001b[49m\u001b[43m,\u001b[49m\u001b[43m \u001b[49m\u001b[43mreturn_dict\u001b[49m\u001b[38;5;241;43m=\u001b[39;49m\u001b[38;5;28;43;01mFalse\u001b[39;49;00m\u001b[43m)\u001b[49m\n\u001b[1;32m     99\u001b[0m output_tokens \u001b[38;5;241m=\u001b[39m output_states[\u001b[38;5;241m0\u001b[39m]\n\u001b[1;32m    101\u001b[0m features\u001b[38;5;241m.\u001b[39mupdate({\u001b[38;5;124m\"\u001b[39m\u001b[38;5;124mtoken_embeddings\u001b[39m\u001b[38;5;124m\"\u001b[39m: output_tokens, \u001b[38;5;124m\"\u001b[39m\u001b[38;5;124mattention_mask\u001b[39m\u001b[38;5;124m\"\u001b[39m: features[\u001b[38;5;124m\"\u001b[39m\u001b[38;5;124mattention_mask\u001b[39m\u001b[38;5;124m\"\u001b[39m]})\n",
      "File \u001b[0;32m~/sdgs_py38/lib/python3.8/site-packages/torch/nn/modules/module.py:1532\u001b[0m, in \u001b[0;36mModule._wrapped_call_impl\u001b[0;34m(self, *args, **kwargs)\u001b[0m\n\u001b[1;32m   1530\u001b[0m     \u001b[38;5;28;01mreturn\u001b[39;00m \u001b[38;5;28mself\u001b[39m\u001b[38;5;241m.\u001b[39m_compiled_call_impl(\u001b[38;5;241m*\u001b[39margs, \u001b[38;5;241m*\u001b[39m\u001b[38;5;241m*\u001b[39mkwargs)  \u001b[38;5;66;03m# type: ignore[misc]\u001b[39;00m\n\u001b[1;32m   1531\u001b[0m \u001b[38;5;28;01melse\u001b[39;00m:\n\u001b[0;32m-> 1532\u001b[0m     \u001b[38;5;28;01mreturn\u001b[39;00m \u001b[38;5;28;43mself\u001b[39;49m\u001b[38;5;241;43m.\u001b[39;49m\u001b[43m_call_impl\u001b[49m\u001b[43m(\u001b[49m\u001b[38;5;241;43m*\u001b[39;49m\u001b[43margs\u001b[49m\u001b[43m,\u001b[49m\u001b[43m \u001b[49m\u001b[38;5;241;43m*\u001b[39;49m\u001b[38;5;241;43m*\u001b[39;49m\u001b[43mkwargs\u001b[49m\u001b[43m)\u001b[49m\n",
      "File \u001b[0;32m~/sdgs_py38/lib/python3.8/site-packages/torch/nn/modules/module.py:1541\u001b[0m, in \u001b[0;36mModule._call_impl\u001b[0;34m(self, *args, **kwargs)\u001b[0m\n\u001b[1;32m   1536\u001b[0m \u001b[38;5;66;03m# If we don't have any hooks, we want to skip the rest of the logic in\u001b[39;00m\n\u001b[1;32m   1537\u001b[0m \u001b[38;5;66;03m# this function, and just call forward.\u001b[39;00m\n\u001b[1;32m   1538\u001b[0m \u001b[38;5;28;01mif\u001b[39;00m \u001b[38;5;129;01mnot\u001b[39;00m (\u001b[38;5;28mself\u001b[39m\u001b[38;5;241m.\u001b[39m_backward_hooks \u001b[38;5;129;01mor\u001b[39;00m \u001b[38;5;28mself\u001b[39m\u001b[38;5;241m.\u001b[39m_backward_pre_hooks \u001b[38;5;129;01mor\u001b[39;00m \u001b[38;5;28mself\u001b[39m\u001b[38;5;241m.\u001b[39m_forward_hooks \u001b[38;5;129;01mor\u001b[39;00m \u001b[38;5;28mself\u001b[39m\u001b[38;5;241m.\u001b[39m_forward_pre_hooks\n\u001b[1;32m   1539\u001b[0m         \u001b[38;5;129;01mor\u001b[39;00m _global_backward_pre_hooks \u001b[38;5;129;01mor\u001b[39;00m _global_backward_hooks\n\u001b[1;32m   1540\u001b[0m         \u001b[38;5;129;01mor\u001b[39;00m _global_forward_hooks \u001b[38;5;129;01mor\u001b[39;00m _global_forward_pre_hooks):\n\u001b[0;32m-> 1541\u001b[0m     \u001b[38;5;28;01mreturn\u001b[39;00m \u001b[43mforward_call\u001b[49m\u001b[43m(\u001b[49m\u001b[38;5;241;43m*\u001b[39;49m\u001b[43margs\u001b[49m\u001b[43m,\u001b[49m\u001b[43m \u001b[49m\u001b[38;5;241;43m*\u001b[39;49m\u001b[38;5;241;43m*\u001b[39;49m\u001b[43mkwargs\u001b[49m\u001b[43m)\u001b[49m\n\u001b[1;32m   1543\u001b[0m \u001b[38;5;28;01mtry\u001b[39;00m:\n\u001b[1;32m   1544\u001b[0m     result \u001b[38;5;241m=\u001b[39m \u001b[38;5;28;01mNone\u001b[39;00m\n",
      "File \u001b[0;32m~/sdgs_py38/lib/python3.8/site-packages/transformers/models/bert/modeling_bert.py:988\u001b[0m, in \u001b[0;36mBertModel.forward\u001b[0;34m(self, input_ids, attention_mask, token_type_ids, position_ids, head_mask, inputs_embeds, encoder_hidden_states, encoder_attention_mask, past_key_values, use_cache, output_attentions, output_hidden_states, return_dict)\u001b[0m\n\u001b[1;32m    979\u001b[0m head_mask \u001b[38;5;241m=\u001b[39m \u001b[38;5;28mself\u001b[39m\u001b[38;5;241m.\u001b[39mget_head_mask(head_mask, \u001b[38;5;28mself\u001b[39m\u001b[38;5;241m.\u001b[39mconfig\u001b[38;5;241m.\u001b[39mnum_hidden_layers)\n\u001b[1;32m    981\u001b[0m embedding_output \u001b[38;5;241m=\u001b[39m \u001b[38;5;28mself\u001b[39m\u001b[38;5;241m.\u001b[39membeddings(\n\u001b[1;32m    982\u001b[0m     input_ids\u001b[38;5;241m=\u001b[39minput_ids,\n\u001b[1;32m    983\u001b[0m     position_ids\u001b[38;5;241m=\u001b[39mposition_ids,\n\u001b[0;32m   (...)\u001b[0m\n\u001b[1;32m    986\u001b[0m     past_key_values_length\u001b[38;5;241m=\u001b[39mpast_key_values_length,\n\u001b[1;32m    987\u001b[0m )\n\u001b[0;32m--> 988\u001b[0m encoder_outputs \u001b[38;5;241m=\u001b[39m \u001b[38;5;28;43mself\u001b[39;49m\u001b[38;5;241;43m.\u001b[39;49m\u001b[43mencoder\u001b[49m\u001b[43m(\u001b[49m\n\u001b[1;32m    989\u001b[0m \u001b[43m    \u001b[49m\u001b[43membedding_output\u001b[49m\u001b[43m,\u001b[49m\n\u001b[1;32m    990\u001b[0m \u001b[43m    \u001b[49m\u001b[43mattention_mask\u001b[49m\u001b[38;5;241;43m=\u001b[39;49m\u001b[43mextended_attention_mask\u001b[49m\u001b[43m,\u001b[49m\n\u001b[1;32m    991\u001b[0m \u001b[43m    \u001b[49m\u001b[43mhead_mask\u001b[49m\u001b[38;5;241;43m=\u001b[39;49m\u001b[43mhead_mask\u001b[49m\u001b[43m,\u001b[49m\n\u001b[1;32m    992\u001b[0m \u001b[43m    \u001b[49m\u001b[43mencoder_hidden_states\u001b[49m\u001b[38;5;241;43m=\u001b[39;49m\u001b[43mencoder_hidden_states\u001b[49m\u001b[43m,\u001b[49m\n\u001b[1;32m    993\u001b[0m \u001b[43m    \u001b[49m\u001b[43mencoder_attention_mask\u001b[49m\u001b[38;5;241;43m=\u001b[39;49m\u001b[43mencoder_extended_attention_mask\u001b[49m\u001b[43m,\u001b[49m\n\u001b[1;32m    994\u001b[0m \u001b[43m    \u001b[49m\u001b[43mpast_key_values\u001b[49m\u001b[38;5;241;43m=\u001b[39;49m\u001b[43mpast_key_values\u001b[49m\u001b[43m,\u001b[49m\n\u001b[1;32m    995\u001b[0m \u001b[43m    \u001b[49m\u001b[43muse_cache\u001b[49m\u001b[38;5;241;43m=\u001b[39;49m\u001b[43muse_cache\u001b[49m\u001b[43m,\u001b[49m\n\u001b[1;32m    996\u001b[0m \u001b[43m    \u001b[49m\u001b[43moutput_attentions\u001b[49m\u001b[38;5;241;43m=\u001b[39;49m\u001b[43moutput_attentions\u001b[49m\u001b[43m,\u001b[49m\n\u001b[1;32m    997\u001b[0m \u001b[43m    \u001b[49m\u001b[43moutput_hidden_states\u001b[49m\u001b[38;5;241;43m=\u001b[39;49m\u001b[43moutput_hidden_states\u001b[49m\u001b[43m,\u001b[49m\n\u001b[1;32m    998\u001b[0m \u001b[43m    \u001b[49m\u001b[43mreturn_dict\u001b[49m\u001b[38;5;241;43m=\u001b[39;49m\u001b[43mreturn_dict\u001b[49m\u001b[43m,\u001b[49m\n\u001b[1;32m    999\u001b[0m \u001b[43m\u001b[49m\u001b[43m)\u001b[49m\n\u001b[1;32m   1000\u001b[0m sequence_output \u001b[38;5;241m=\u001b[39m encoder_outputs[\u001b[38;5;241m0\u001b[39m]\n\u001b[1;32m   1001\u001b[0m pooled_output \u001b[38;5;241m=\u001b[39m \u001b[38;5;28mself\u001b[39m\u001b[38;5;241m.\u001b[39mpooler(sequence_output) \u001b[38;5;28;01mif\u001b[39;00m \u001b[38;5;28mself\u001b[39m\u001b[38;5;241m.\u001b[39mpooler \u001b[38;5;129;01mis\u001b[39;00m \u001b[38;5;129;01mnot\u001b[39;00m \u001b[38;5;28;01mNone\u001b[39;00m \u001b[38;5;28;01melse\u001b[39;00m \u001b[38;5;28;01mNone\u001b[39;00m\n",
      "File \u001b[0;32m~/sdgs_py38/lib/python3.8/site-packages/torch/nn/modules/module.py:1532\u001b[0m, in \u001b[0;36mModule._wrapped_call_impl\u001b[0;34m(self, *args, **kwargs)\u001b[0m\n\u001b[1;32m   1530\u001b[0m     \u001b[38;5;28;01mreturn\u001b[39;00m \u001b[38;5;28mself\u001b[39m\u001b[38;5;241m.\u001b[39m_compiled_call_impl(\u001b[38;5;241m*\u001b[39margs, \u001b[38;5;241m*\u001b[39m\u001b[38;5;241m*\u001b[39mkwargs)  \u001b[38;5;66;03m# type: ignore[misc]\u001b[39;00m\n\u001b[1;32m   1531\u001b[0m \u001b[38;5;28;01melse\u001b[39;00m:\n\u001b[0;32m-> 1532\u001b[0m     \u001b[38;5;28;01mreturn\u001b[39;00m \u001b[38;5;28;43mself\u001b[39;49m\u001b[38;5;241;43m.\u001b[39;49m\u001b[43m_call_impl\u001b[49m\u001b[43m(\u001b[49m\u001b[38;5;241;43m*\u001b[39;49m\u001b[43margs\u001b[49m\u001b[43m,\u001b[49m\u001b[43m \u001b[49m\u001b[38;5;241;43m*\u001b[39;49m\u001b[38;5;241;43m*\u001b[39;49m\u001b[43mkwargs\u001b[49m\u001b[43m)\u001b[49m\n",
      "File \u001b[0;32m~/sdgs_py38/lib/python3.8/site-packages/torch/nn/modules/module.py:1541\u001b[0m, in \u001b[0;36mModule._call_impl\u001b[0;34m(self, *args, **kwargs)\u001b[0m\n\u001b[1;32m   1536\u001b[0m \u001b[38;5;66;03m# If we don't have any hooks, we want to skip the rest of the logic in\u001b[39;00m\n\u001b[1;32m   1537\u001b[0m \u001b[38;5;66;03m# this function, and just call forward.\u001b[39;00m\n\u001b[1;32m   1538\u001b[0m \u001b[38;5;28;01mif\u001b[39;00m \u001b[38;5;129;01mnot\u001b[39;00m (\u001b[38;5;28mself\u001b[39m\u001b[38;5;241m.\u001b[39m_backward_hooks \u001b[38;5;129;01mor\u001b[39;00m \u001b[38;5;28mself\u001b[39m\u001b[38;5;241m.\u001b[39m_backward_pre_hooks \u001b[38;5;129;01mor\u001b[39;00m \u001b[38;5;28mself\u001b[39m\u001b[38;5;241m.\u001b[39m_forward_hooks \u001b[38;5;129;01mor\u001b[39;00m \u001b[38;5;28mself\u001b[39m\u001b[38;5;241m.\u001b[39m_forward_pre_hooks\n\u001b[1;32m   1539\u001b[0m         \u001b[38;5;129;01mor\u001b[39;00m _global_backward_pre_hooks \u001b[38;5;129;01mor\u001b[39;00m _global_backward_hooks\n\u001b[1;32m   1540\u001b[0m         \u001b[38;5;129;01mor\u001b[39;00m _global_forward_hooks \u001b[38;5;129;01mor\u001b[39;00m _global_forward_pre_hooks):\n\u001b[0;32m-> 1541\u001b[0m     \u001b[38;5;28;01mreturn\u001b[39;00m \u001b[43mforward_call\u001b[49m\u001b[43m(\u001b[49m\u001b[38;5;241;43m*\u001b[39;49m\u001b[43margs\u001b[49m\u001b[43m,\u001b[49m\u001b[43m \u001b[49m\u001b[38;5;241;43m*\u001b[39;49m\u001b[38;5;241;43m*\u001b[39;49m\u001b[43mkwargs\u001b[49m\u001b[43m)\u001b[49m\n\u001b[1;32m   1543\u001b[0m \u001b[38;5;28;01mtry\u001b[39;00m:\n\u001b[1;32m   1544\u001b[0m     result \u001b[38;5;241m=\u001b[39m \u001b[38;5;28;01mNone\u001b[39;00m\n",
      "File \u001b[0;32m~/sdgs_py38/lib/python3.8/site-packages/transformers/models/bert/modeling_bert.py:582\u001b[0m, in \u001b[0;36mBertEncoder.forward\u001b[0;34m(self, hidden_states, attention_mask, head_mask, encoder_hidden_states, encoder_attention_mask, past_key_values, use_cache, output_attentions, output_hidden_states, return_dict)\u001b[0m\n\u001b[1;32m    571\u001b[0m     layer_outputs \u001b[38;5;241m=\u001b[39m \u001b[38;5;28mself\u001b[39m\u001b[38;5;241m.\u001b[39m_gradient_checkpointing_func(\n\u001b[1;32m    572\u001b[0m         layer_module\u001b[38;5;241m.\u001b[39m\u001b[38;5;21m__call__\u001b[39m,\n\u001b[1;32m    573\u001b[0m         hidden_states,\n\u001b[0;32m   (...)\u001b[0m\n\u001b[1;32m    579\u001b[0m         output_attentions,\n\u001b[1;32m    580\u001b[0m     )\n\u001b[1;32m    581\u001b[0m \u001b[38;5;28;01melse\u001b[39;00m:\n\u001b[0;32m--> 582\u001b[0m     layer_outputs \u001b[38;5;241m=\u001b[39m \u001b[43mlayer_module\u001b[49m\u001b[43m(\u001b[49m\n\u001b[1;32m    583\u001b[0m \u001b[43m        \u001b[49m\u001b[43mhidden_states\u001b[49m\u001b[43m,\u001b[49m\n\u001b[1;32m    584\u001b[0m \u001b[43m        \u001b[49m\u001b[43mattention_mask\u001b[49m\u001b[43m,\u001b[49m\n\u001b[1;32m    585\u001b[0m \u001b[43m        \u001b[49m\u001b[43mlayer_head_mask\u001b[49m\u001b[43m,\u001b[49m\n\u001b[1;32m    586\u001b[0m \u001b[43m        \u001b[49m\u001b[43mencoder_hidden_states\u001b[49m\u001b[43m,\u001b[49m\n\u001b[1;32m    587\u001b[0m \u001b[43m        \u001b[49m\u001b[43mencoder_attention_mask\u001b[49m\u001b[43m,\u001b[49m\n\u001b[1;32m    588\u001b[0m \u001b[43m        \u001b[49m\u001b[43mpast_key_value\u001b[49m\u001b[43m,\u001b[49m\n\u001b[1;32m    589\u001b[0m \u001b[43m        \u001b[49m\u001b[43moutput_attentions\u001b[49m\u001b[43m,\u001b[49m\n\u001b[1;32m    590\u001b[0m \u001b[43m    \u001b[49m\u001b[43m)\u001b[49m\n\u001b[1;32m    592\u001b[0m hidden_states \u001b[38;5;241m=\u001b[39m layer_outputs[\u001b[38;5;241m0\u001b[39m]\n\u001b[1;32m    593\u001b[0m \u001b[38;5;28;01mif\u001b[39;00m use_cache:\n",
      "File \u001b[0;32m~/sdgs_py38/lib/python3.8/site-packages/torch/nn/modules/module.py:1532\u001b[0m, in \u001b[0;36mModule._wrapped_call_impl\u001b[0;34m(self, *args, **kwargs)\u001b[0m\n\u001b[1;32m   1530\u001b[0m     \u001b[38;5;28;01mreturn\u001b[39;00m \u001b[38;5;28mself\u001b[39m\u001b[38;5;241m.\u001b[39m_compiled_call_impl(\u001b[38;5;241m*\u001b[39margs, \u001b[38;5;241m*\u001b[39m\u001b[38;5;241m*\u001b[39mkwargs)  \u001b[38;5;66;03m# type: ignore[misc]\u001b[39;00m\n\u001b[1;32m   1531\u001b[0m \u001b[38;5;28;01melse\u001b[39;00m:\n\u001b[0;32m-> 1532\u001b[0m     \u001b[38;5;28;01mreturn\u001b[39;00m \u001b[38;5;28;43mself\u001b[39;49m\u001b[38;5;241;43m.\u001b[39;49m\u001b[43m_call_impl\u001b[49m\u001b[43m(\u001b[49m\u001b[38;5;241;43m*\u001b[39;49m\u001b[43margs\u001b[49m\u001b[43m,\u001b[49m\u001b[43m \u001b[49m\u001b[38;5;241;43m*\u001b[39;49m\u001b[38;5;241;43m*\u001b[39;49m\u001b[43mkwargs\u001b[49m\u001b[43m)\u001b[49m\n",
      "File \u001b[0;32m~/sdgs_py38/lib/python3.8/site-packages/torch/nn/modules/module.py:1541\u001b[0m, in \u001b[0;36mModule._call_impl\u001b[0;34m(self, *args, **kwargs)\u001b[0m\n\u001b[1;32m   1536\u001b[0m \u001b[38;5;66;03m# If we don't have any hooks, we want to skip the rest of the logic in\u001b[39;00m\n\u001b[1;32m   1537\u001b[0m \u001b[38;5;66;03m# this function, and just call forward.\u001b[39;00m\n\u001b[1;32m   1538\u001b[0m \u001b[38;5;28;01mif\u001b[39;00m \u001b[38;5;129;01mnot\u001b[39;00m (\u001b[38;5;28mself\u001b[39m\u001b[38;5;241m.\u001b[39m_backward_hooks \u001b[38;5;129;01mor\u001b[39;00m \u001b[38;5;28mself\u001b[39m\u001b[38;5;241m.\u001b[39m_backward_pre_hooks \u001b[38;5;129;01mor\u001b[39;00m \u001b[38;5;28mself\u001b[39m\u001b[38;5;241m.\u001b[39m_forward_hooks \u001b[38;5;129;01mor\u001b[39;00m \u001b[38;5;28mself\u001b[39m\u001b[38;5;241m.\u001b[39m_forward_pre_hooks\n\u001b[1;32m   1539\u001b[0m         \u001b[38;5;129;01mor\u001b[39;00m _global_backward_pre_hooks \u001b[38;5;129;01mor\u001b[39;00m _global_backward_hooks\n\u001b[1;32m   1540\u001b[0m         \u001b[38;5;129;01mor\u001b[39;00m _global_forward_hooks \u001b[38;5;129;01mor\u001b[39;00m _global_forward_pre_hooks):\n\u001b[0;32m-> 1541\u001b[0m     \u001b[38;5;28;01mreturn\u001b[39;00m \u001b[43mforward_call\u001b[49m\u001b[43m(\u001b[49m\u001b[38;5;241;43m*\u001b[39;49m\u001b[43margs\u001b[49m\u001b[43m,\u001b[49m\u001b[43m \u001b[49m\u001b[38;5;241;43m*\u001b[39;49m\u001b[38;5;241;43m*\u001b[39;49m\u001b[43mkwargs\u001b[49m\u001b[43m)\u001b[49m\n\u001b[1;32m   1543\u001b[0m \u001b[38;5;28;01mtry\u001b[39;00m:\n\u001b[1;32m   1544\u001b[0m     result \u001b[38;5;241m=\u001b[39m \u001b[38;5;28;01mNone\u001b[39;00m\n",
      "File \u001b[0;32m~/sdgs_py38/lib/python3.8/site-packages/transformers/models/bert/modeling_bert.py:472\u001b[0m, in \u001b[0;36mBertLayer.forward\u001b[0;34m(self, hidden_states, attention_mask, head_mask, encoder_hidden_states, encoder_attention_mask, past_key_value, output_attentions)\u001b[0m\n\u001b[1;32m    460\u001b[0m \u001b[38;5;28;01mdef\u001b[39;00m \u001b[38;5;21mforward\u001b[39m(\n\u001b[1;32m    461\u001b[0m     \u001b[38;5;28mself\u001b[39m,\n\u001b[1;32m    462\u001b[0m     hidden_states: torch\u001b[38;5;241m.\u001b[39mTensor,\n\u001b[0;32m   (...)\u001b[0m\n\u001b[1;32m    469\u001b[0m ) \u001b[38;5;241m-\u001b[39m\u001b[38;5;241m>\u001b[39m Tuple[torch\u001b[38;5;241m.\u001b[39mTensor]:\n\u001b[1;32m    470\u001b[0m     \u001b[38;5;66;03m# decoder uni-directional self-attention cached key/values tuple is at positions 1,2\u001b[39;00m\n\u001b[1;32m    471\u001b[0m     self_attn_past_key_value \u001b[38;5;241m=\u001b[39m past_key_value[:\u001b[38;5;241m2\u001b[39m] \u001b[38;5;28;01mif\u001b[39;00m past_key_value \u001b[38;5;129;01mis\u001b[39;00m \u001b[38;5;129;01mnot\u001b[39;00m \u001b[38;5;28;01mNone\u001b[39;00m \u001b[38;5;28;01melse\u001b[39;00m \u001b[38;5;28;01mNone\u001b[39;00m\n\u001b[0;32m--> 472\u001b[0m     self_attention_outputs \u001b[38;5;241m=\u001b[39m \u001b[38;5;28;43mself\u001b[39;49m\u001b[38;5;241;43m.\u001b[39;49m\u001b[43mattention\u001b[49m\u001b[43m(\u001b[49m\n\u001b[1;32m    473\u001b[0m \u001b[43m        \u001b[49m\u001b[43mhidden_states\u001b[49m\u001b[43m,\u001b[49m\n\u001b[1;32m    474\u001b[0m \u001b[43m        \u001b[49m\u001b[43mattention_mask\u001b[49m\u001b[43m,\u001b[49m\n\u001b[1;32m    475\u001b[0m \u001b[43m        \u001b[49m\u001b[43mhead_mask\u001b[49m\u001b[43m,\u001b[49m\n\u001b[1;32m    476\u001b[0m \u001b[43m        \u001b[49m\u001b[43moutput_attentions\u001b[49m\u001b[38;5;241;43m=\u001b[39;49m\u001b[43moutput_attentions\u001b[49m\u001b[43m,\u001b[49m\n\u001b[1;32m    477\u001b[0m \u001b[43m        \u001b[49m\u001b[43mpast_key_value\u001b[49m\u001b[38;5;241;43m=\u001b[39;49m\u001b[43mself_attn_past_key_value\u001b[49m\u001b[43m,\u001b[49m\n\u001b[1;32m    478\u001b[0m \u001b[43m    \u001b[49m\u001b[43m)\u001b[49m\n\u001b[1;32m    479\u001b[0m     attention_output \u001b[38;5;241m=\u001b[39m self_attention_outputs[\u001b[38;5;241m0\u001b[39m]\n\u001b[1;32m    481\u001b[0m     \u001b[38;5;66;03m# if decoder, the last output is tuple of self-attn cache\u001b[39;00m\n",
      "File \u001b[0;32m~/sdgs_py38/lib/python3.8/site-packages/torch/nn/modules/module.py:1532\u001b[0m, in \u001b[0;36mModule._wrapped_call_impl\u001b[0;34m(self, *args, **kwargs)\u001b[0m\n\u001b[1;32m   1530\u001b[0m     \u001b[38;5;28;01mreturn\u001b[39;00m \u001b[38;5;28mself\u001b[39m\u001b[38;5;241m.\u001b[39m_compiled_call_impl(\u001b[38;5;241m*\u001b[39margs, \u001b[38;5;241m*\u001b[39m\u001b[38;5;241m*\u001b[39mkwargs)  \u001b[38;5;66;03m# type: ignore[misc]\u001b[39;00m\n\u001b[1;32m   1531\u001b[0m \u001b[38;5;28;01melse\u001b[39;00m:\n\u001b[0;32m-> 1532\u001b[0m     \u001b[38;5;28;01mreturn\u001b[39;00m \u001b[38;5;28;43mself\u001b[39;49m\u001b[38;5;241;43m.\u001b[39;49m\u001b[43m_call_impl\u001b[49m\u001b[43m(\u001b[49m\u001b[38;5;241;43m*\u001b[39;49m\u001b[43margs\u001b[49m\u001b[43m,\u001b[49m\u001b[43m \u001b[49m\u001b[38;5;241;43m*\u001b[39;49m\u001b[38;5;241;43m*\u001b[39;49m\u001b[43mkwargs\u001b[49m\u001b[43m)\u001b[49m\n",
      "File \u001b[0;32m~/sdgs_py38/lib/python3.8/site-packages/torch/nn/modules/module.py:1541\u001b[0m, in \u001b[0;36mModule._call_impl\u001b[0;34m(self, *args, **kwargs)\u001b[0m\n\u001b[1;32m   1536\u001b[0m \u001b[38;5;66;03m# If we don't have any hooks, we want to skip the rest of the logic in\u001b[39;00m\n\u001b[1;32m   1537\u001b[0m \u001b[38;5;66;03m# this function, and just call forward.\u001b[39;00m\n\u001b[1;32m   1538\u001b[0m \u001b[38;5;28;01mif\u001b[39;00m \u001b[38;5;129;01mnot\u001b[39;00m (\u001b[38;5;28mself\u001b[39m\u001b[38;5;241m.\u001b[39m_backward_hooks \u001b[38;5;129;01mor\u001b[39;00m \u001b[38;5;28mself\u001b[39m\u001b[38;5;241m.\u001b[39m_backward_pre_hooks \u001b[38;5;129;01mor\u001b[39;00m \u001b[38;5;28mself\u001b[39m\u001b[38;5;241m.\u001b[39m_forward_hooks \u001b[38;5;129;01mor\u001b[39;00m \u001b[38;5;28mself\u001b[39m\u001b[38;5;241m.\u001b[39m_forward_pre_hooks\n\u001b[1;32m   1539\u001b[0m         \u001b[38;5;129;01mor\u001b[39;00m _global_backward_pre_hooks \u001b[38;5;129;01mor\u001b[39;00m _global_backward_hooks\n\u001b[1;32m   1540\u001b[0m         \u001b[38;5;129;01mor\u001b[39;00m _global_forward_hooks \u001b[38;5;129;01mor\u001b[39;00m _global_forward_pre_hooks):\n\u001b[0;32m-> 1541\u001b[0m     \u001b[38;5;28;01mreturn\u001b[39;00m \u001b[43mforward_call\u001b[49m\u001b[43m(\u001b[49m\u001b[38;5;241;43m*\u001b[39;49m\u001b[43margs\u001b[49m\u001b[43m,\u001b[49m\u001b[43m \u001b[49m\u001b[38;5;241;43m*\u001b[39;49m\u001b[38;5;241;43m*\u001b[39;49m\u001b[43mkwargs\u001b[49m\u001b[43m)\u001b[49m\n\u001b[1;32m   1543\u001b[0m \u001b[38;5;28;01mtry\u001b[39;00m:\n\u001b[1;32m   1544\u001b[0m     result \u001b[38;5;241m=\u001b[39m \u001b[38;5;28;01mNone\u001b[39;00m\n",
      "File \u001b[0;32m~/sdgs_py38/lib/python3.8/site-packages/transformers/models/bert/modeling_bert.py:411\u001b[0m, in \u001b[0;36mBertAttention.forward\u001b[0;34m(self, hidden_states, attention_mask, head_mask, encoder_hidden_states, encoder_attention_mask, past_key_value, output_attentions)\u001b[0m\n\u001b[1;32m    392\u001b[0m \u001b[38;5;28;01mdef\u001b[39;00m \u001b[38;5;21mforward\u001b[39m(\n\u001b[1;32m    393\u001b[0m     \u001b[38;5;28mself\u001b[39m,\n\u001b[1;32m    394\u001b[0m     hidden_states: torch\u001b[38;5;241m.\u001b[39mTensor,\n\u001b[0;32m   (...)\u001b[0m\n\u001b[1;32m    400\u001b[0m     output_attentions: Optional[\u001b[38;5;28mbool\u001b[39m] \u001b[38;5;241m=\u001b[39m \u001b[38;5;28;01mFalse\u001b[39;00m,\n\u001b[1;32m    401\u001b[0m ) \u001b[38;5;241m-\u001b[39m\u001b[38;5;241m>\u001b[39m Tuple[torch\u001b[38;5;241m.\u001b[39mTensor]:\n\u001b[1;32m    402\u001b[0m     self_outputs \u001b[38;5;241m=\u001b[39m \u001b[38;5;28mself\u001b[39m\u001b[38;5;241m.\u001b[39mself(\n\u001b[1;32m    403\u001b[0m         hidden_states,\n\u001b[1;32m    404\u001b[0m         attention_mask,\n\u001b[0;32m   (...)\u001b[0m\n\u001b[1;32m    409\u001b[0m         output_attentions,\n\u001b[1;32m    410\u001b[0m     )\n\u001b[0;32m--> 411\u001b[0m     attention_output \u001b[38;5;241m=\u001b[39m \u001b[38;5;28;43mself\u001b[39;49m\u001b[38;5;241;43m.\u001b[39;49m\u001b[43moutput\u001b[49m\u001b[43m(\u001b[49m\u001b[43mself_outputs\u001b[49m\u001b[43m[\u001b[49m\u001b[38;5;241;43m0\u001b[39;49m\u001b[43m]\u001b[49m\u001b[43m,\u001b[49m\u001b[43m \u001b[49m\u001b[43mhidden_states\u001b[49m\u001b[43m)\u001b[49m\n\u001b[1;32m    412\u001b[0m     outputs \u001b[38;5;241m=\u001b[39m (attention_output,) \u001b[38;5;241m+\u001b[39m self_outputs[\u001b[38;5;241m1\u001b[39m:]  \u001b[38;5;66;03m# add attentions if we output them\u001b[39;00m\n\u001b[1;32m    413\u001b[0m     \u001b[38;5;28;01mreturn\u001b[39;00m outputs\n",
      "File \u001b[0;32m~/sdgs_py38/lib/python3.8/site-packages/torch/nn/modules/module.py:1532\u001b[0m, in \u001b[0;36mModule._wrapped_call_impl\u001b[0;34m(self, *args, **kwargs)\u001b[0m\n\u001b[1;32m   1530\u001b[0m     \u001b[38;5;28;01mreturn\u001b[39;00m \u001b[38;5;28mself\u001b[39m\u001b[38;5;241m.\u001b[39m_compiled_call_impl(\u001b[38;5;241m*\u001b[39margs, \u001b[38;5;241m*\u001b[39m\u001b[38;5;241m*\u001b[39mkwargs)  \u001b[38;5;66;03m# type: ignore[misc]\u001b[39;00m\n\u001b[1;32m   1531\u001b[0m \u001b[38;5;28;01melse\u001b[39;00m:\n\u001b[0;32m-> 1532\u001b[0m     \u001b[38;5;28;01mreturn\u001b[39;00m \u001b[38;5;28;43mself\u001b[39;49m\u001b[38;5;241;43m.\u001b[39;49m\u001b[43m_call_impl\u001b[49m\u001b[43m(\u001b[49m\u001b[38;5;241;43m*\u001b[39;49m\u001b[43margs\u001b[49m\u001b[43m,\u001b[49m\u001b[43m \u001b[49m\u001b[38;5;241;43m*\u001b[39;49m\u001b[38;5;241;43m*\u001b[39;49m\u001b[43mkwargs\u001b[49m\u001b[43m)\u001b[49m\n",
      "File \u001b[0;32m~/sdgs_py38/lib/python3.8/site-packages/torch/nn/modules/module.py:1541\u001b[0m, in \u001b[0;36mModule._call_impl\u001b[0;34m(self, *args, **kwargs)\u001b[0m\n\u001b[1;32m   1536\u001b[0m \u001b[38;5;66;03m# If we don't have any hooks, we want to skip the rest of the logic in\u001b[39;00m\n\u001b[1;32m   1537\u001b[0m \u001b[38;5;66;03m# this function, and just call forward.\u001b[39;00m\n\u001b[1;32m   1538\u001b[0m \u001b[38;5;28;01mif\u001b[39;00m \u001b[38;5;129;01mnot\u001b[39;00m (\u001b[38;5;28mself\u001b[39m\u001b[38;5;241m.\u001b[39m_backward_hooks \u001b[38;5;129;01mor\u001b[39;00m \u001b[38;5;28mself\u001b[39m\u001b[38;5;241m.\u001b[39m_backward_pre_hooks \u001b[38;5;129;01mor\u001b[39;00m \u001b[38;5;28mself\u001b[39m\u001b[38;5;241m.\u001b[39m_forward_hooks \u001b[38;5;129;01mor\u001b[39;00m \u001b[38;5;28mself\u001b[39m\u001b[38;5;241m.\u001b[39m_forward_pre_hooks\n\u001b[1;32m   1539\u001b[0m         \u001b[38;5;129;01mor\u001b[39;00m _global_backward_pre_hooks \u001b[38;5;129;01mor\u001b[39;00m _global_backward_hooks\n\u001b[1;32m   1540\u001b[0m         \u001b[38;5;129;01mor\u001b[39;00m _global_forward_hooks \u001b[38;5;129;01mor\u001b[39;00m _global_forward_pre_hooks):\n\u001b[0;32m-> 1541\u001b[0m     \u001b[38;5;28;01mreturn\u001b[39;00m \u001b[43mforward_call\u001b[49m\u001b[43m(\u001b[49m\u001b[38;5;241;43m*\u001b[39;49m\u001b[43margs\u001b[49m\u001b[43m,\u001b[49m\u001b[43m \u001b[49m\u001b[38;5;241;43m*\u001b[39;49m\u001b[38;5;241;43m*\u001b[39;49m\u001b[43mkwargs\u001b[49m\u001b[43m)\u001b[49m\n\u001b[1;32m   1543\u001b[0m \u001b[38;5;28;01mtry\u001b[39;00m:\n\u001b[1;32m   1544\u001b[0m     result \u001b[38;5;241m=\u001b[39m \u001b[38;5;28;01mNone\u001b[39;00m\n",
      "File \u001b[0;32m~/sdgs_py38/lib/python3.8/site-packages/transformers/models/bert/modeling_bert.py:361\u001b[0m, in \u001b[0;36mBertSelfOutput.forward\u001b[0;34m(self, hidden_states, input_tensor)\u001b[0m\n\u001b[1;32m    360\u001b[0m \u001b[38;5;28;01mdef\u001b[39;00m \u001b[38;5;21mforward\u001b[39m(\u001b[38;5;28mself\u001b[39m, hidden_states: torch\u001b[38;5;241m.\u001b[39mTensor, input_tensor: torch\u001b[38;5;241m.\u001b[39mTensor) \u001b[38;5;241m-\u001b[39m\u001b[38;5;241m>\u001b[39m torch\u001b[38;5;241m.\u001b[39mTensor:\n\u001b[0;32m--> 361\u001b[0m     hidden_states \u001b[38;5;241m=\u001b[39m \u001b[38;5;28;43mself\u001b[39;49m\u001b[38;5;241;43m.\u001b[39;49m\u001b[43mdense\u001b[49m\u001b[43m(\u001b[49m\u001b[43mhidden_states\u001b[49m\u001b[43m)\u001b[49m\n\u001b[1;32m    362\u001b[0m     hidden_states \u001b[38;5;241m=\u001b[39m \u001b[38;5;28mself\u001b[39m\u001b[38;5;241m.\u001b[39mdropout(hidden_states)\n\u001b[1;32m    363\u001b[0m     hidden_states \u001b[38;5;241m=\u001b[39m \u001b[38;5;28mself\u001b[39m\u001b[38;5;241m.\u001b[39mLayerNorm(hidden_states \u001b[38;5;241m+\u001b[39m input_tensor)\n",
      "File \u001b[0;32m~/sdgs_py38/lib/python3.8/site-packages/torch/nn/modules/module.py:1532\u001b[0m, in \u001b[0;36mModule._wrapped_call_impl\u001b[0;34m(self, *args, **kwargs)\u001b[0m\n\u001b[1;32m   1530\u001b[0m     \u001b[38;5;28;01mreturn\u001b[39;00m \u001b[38;5;28mself\u001b[39m\u001b[38;5;241m.\u001b[39m_compiled_call_impl(\u001b[38;5;241m*\u001b[39margs, \u001b[38;5;241m*\u001b[39m\u001b[38;5;241m*\u001b[39mkwargs)  \u001b[38;5;66;03m# type: ignore[misc]\u001b[39;00m\n\u001b[1;32m   1531\u001b[0m \u001b[38;5;28;01melse\u001b[39;00m:\n\u001b[0;32m-> 1532\u001b[0m     \u001b[38;5;28;01mreturn\u001b[39;00m \u001b[38;5;28;43mself\u001b[39;49m\u001b[38;5;241;43m.\u001b[39;49m\u001b[43m_call_impl\u001b[49m\u001b[43m(\u001b[49m\u001b[38;5;241;43m*\u001b[39;49m\u001b[43margs\u001b[49m\u001b[43m,\u001b[49m\u001b[43m \u001b[49m\u001b[38;5;241;43m*\u001b[39;49m\u001b[38;5;241;43m*\u001b[39;49m\u001b[43mkwargs\u001b[49m\u001b[43m)\u001b[49m\n",
      "File \u001b[0;32m~/sdgs_py38/lib/python3.8/site-packages/torch/nn/modules/module.py:1541\u001b[0m, in \u001b[0;36mModule._call_impl\u001b[0;34m(self, *args, **kwargs)\u001b[0m\n\u001b[1;32m   1536\u001b[0m \u001b[38;5;66;03m# If we don't have any hooks, we want to skip the rest of the logic in\u001b[39;00m\n\u001b[1;32m   1537\u001b[0m \u001b[38;5;66;03m# this function, and just call forward.\u001b[39;00m\n\u001b[1;32m   1538\u001b[0m \u001b[38;5;28;01mif\u001b[39;00m \u001b[38;5;129;01mnot\u001b[39;00m (\u001b[38;5;28mself\u001b[39m\u001b[38;5;241m.\u001b[39m_backward_hooks \u001b[38;5;129;01mor\u001b[39;00m \u001b[38;5;28mself\u001b[39m\u001b[38;5;241m.\u001b[39m_backward_pre_hooks \u001b[38;5;129;01mor\u001b[39;00m \u001b[38;5;28mself\u001b[39m\u001b[38;5;241m.\u001b[39m_forward_hooks \u001b[38;5;129;01mor\u001b[39;00m \u001b[38;5;28mself\u001b[39m\u001b[38;5;241m.\u001b[39m_forward_pre_hooks\n\u001b[1;32m   1539\u001b[0m         \u001b[38;5;129;01mor\u001b[39;00m _global_backward_pre_hooks \u001b[38;5;129;01mor\u001b[39;00m _global_backward_hooks\n\u001b[1;32m   1540\u001b[0m         \u001b[38;5;129;01mor\u001b[39;00m _global_forward_hooks \u001b[38;5;129;01mor\u001b[39;00m _global_forward_pre_hooks):\n\u001b[0;32m-> 1541\u001b[0m     \u001b[38;5;28;01mreturn\u001b[39;00m \u001b[43mforward_call\u001b[49m\u001b[43m(\u001b[49m\u001b[38;5;241;43m*\u001b[39;49m\u001b[43margs\u001b[49m\u001b[43m,\u001b[49m\u001b[43m \u001b[49m\u001b[38;5;241;43m*\u001b[39;49m\u001b[38;5;241;43m*\u001b[39;49m\u001b[43mkwargs\u001b[49m\u001b[43m)\u001b[49m\n\u001b[1;32m   1543\u001b[0m \u001b[38;5;28;01mtry\u001b[39;00m:\n\u001b[1;32m   1544\u001b[0m     result \u001b[38;5;241m=\u001b[39m \u001b[38;5;28;01mNone\u001b[39;00m\n",
      "File \u001b[0;32m~/sdgs_py38/lib/python3.8/site-packages/torch/nn/modules/linear.py:116\u001b[0m, in \u001b[0;36mLinear.forward\u001b[0;34m(self, input)\u001b[0m\n\u001b[1;32m    115\u001b[0m \u001b[38;5;28;01mdef\u001b[39;00m \u001b[38;5;21mforward\u001b[39m(\u001b[38;5;28mself\u001b[39m, \u001b[38;5;28minput\u001b[39m: Tensor) \u001b[38;5;241m-\u001b[39m\u001b[38;5;241m>\u001b[39m Tensor:\n\u001b[0;32m--> 116\u001b[0m     \u001b[38;5;28;01mreturn\u001b[39;00m \u001b[43mF\u001b[49m\u001b[38;5;241;43m.\u001b[39;49m\u001b[43mlinear\u001b[49m\u001b[43m(\u001b[49m\u001b[38;5;28;43minput\u001b[39;49m\u001b[43m,\u001b[49m\u001b[43m \u001b[49m\u001b[38;5;28;43mself\u001b[39;49m\u001b[38;5;241;43m.\u001b[39;49m\u001b[43mweight\u001b[49m\u001b[43m,\u001b[49m\u001b[43m \u001b[49m\u001b[38;5;28;43mself\u001b[39;49m\u001b[38;5;241;43m.\u001b[39;49m\u001b[43mbias\u001b[49m\u001b[43m)\u001b[49m\n",
      "\u001b[0;31mKeyboardInterrupt\u001b[0m: "
     ]
    }
   ],
   "source": [
    "aux(val_couples[0],tqdm_loops=True, n_sample=200)"
   ]
  },
  {
   "cell_type": "code",
   "execution_count": 28,
   "id": "6f7b3b95",
   "metadata": {
    "ExecuteTime": {
     "end_time": "2024-06-24T12:41:51.280287Z",
     "start_time": "2024-06-24T12:41:42.712521Z"
    }
   },
   "outputs": [
    {
     "name": "stderr",
     "output_type": "stream",
     "text": [
      "huggingface/tokenizers: The current process just got forked, after parallelism has already been used. Disabling parallelism to avoid deadlocks...\n",
      "To disable this warning, you can either:\n",
      "\t- Avoid using `tokenizers` before the fork if possible\n",
      "\t- Explicitly set the environment variable TOKENIZERS_PARALLELISM=(true | false)\n",
      "huggingface/tokenizers: The current process just got forked, after parallelism has already been used. Disabling parallelism to avoid deadlocks...\n",
      "To disable this warning, you can either:\n",
      "\t- Avoid using `tokenizers` before the fork if possible\n",
      "\t- Explicitly set the environment variable TOKENIZERS_PARALLELISM=(true | false)\n",
      "huggingface/tokenizers: The current process just got forked, after parallelism has already been used. Disabling parallelism to avoid deadlocks...\n",
      "To disable this warning, you can either:\n",
      "\t- Avoid using `tokenizers` before the fork if possible\n",
      "\t- Explicitly set the environment variable TOKENIZERS_PARALLELISM=(true | false)\n",
      "huggingface/tokenizers: The current process just got forked, after parallelism has already been used. Disabling parallelism to avoid deadlocks...\n",
      "To disable this warning, you can either:\n",
      "\t- Avoid using `tokenizers` before the fork if possible\n",
      "\t- Explicitly set the environment variable TOKENIZERS_PARALLELISM=(true | false)\n",
      "huggingface/tokenizers: The current process just got forked, after parallelism has already been used. Disabling parallelism to avoid deadlocks...\n",
      "To disable this warning, you can either:\n",
      "\t- Avoid using `tokenizers` before the fork if possible\n",
      "\t- Explicitly set the environment variable TOKENIZERS_PARALLELISM=(true | false)\n",
      "huggingface/tokenizers: The current process just got forked, after parallelism has already been used. Disabling parallelism to avoid deadlocks...\n",
      "To disable this warning, you can either:\n",
      "\t- Avoid using `tokenizers` before the fork if possible\n",
      "\t- Explicitly set the environment variable TOKENIZERS_PARALLELISM=(true | false)\n",
      "huggingface/tokenizers: The current process just got forked, after parallelism has already been used. Disabling parallelism to avoid deadlocks...\n",
      "To disable this warning, you can either:\n",
      "\t- Avoid using `tokenizers` before the fork if possible\n",
      "\t- Explicitly set the environment variable TOKENIZERS_PARALLELISM=(true | false)\n",
      "huggingface/tokenizers: The current process just got forked, after parallelism has already been used. Disabling parallelism to avoid deadlocks...\n",
      "To disable this warning, you can either:\n",
      "\t- Avoid using `tokenizers` before the fork if possible\n",
      "\t- Explicitly set the environment variable TOKENIZERS_PARALLELISM=(true | false)\n",
      "huggingface/tokenizers: The current process just got forked, after parallelism has already been used. Disabling parallelism to avoid deadlocks...\n",
      "To disable this warning, you can either:\n",
      "\t- Avoid using `tokenizers` before the fork if possible\n",
      "\t- Explicitly set the environment variable TOKENIZERS_PARALLELISM=(true | false)\n",
      "huggingface/tokenizers: The current process just got forked, after parallelism has already been used. Disabling parallelism to avoid deadlocks...\n",
      "To disable this warning, you can either:\n",
      "\t- Avoid using `tokenizers` before the fork if possible\n",
      "\t- Explicitly set the environment variable TOKENIZERS_PARALLELISM=(true | false)\n",
      "huggingface/tokenizers: The current process just got forked, after parallelism has already been used. Disabling parallelism to avoid deadlocks...\n",
      "To disable this warning, you can either:\n",
      "\t- Avoid using `tokenizers` before the fork if possible\n",
      "\t- Explicitly set the environment variable TOKENIZERS_PARALLELISM=(true | false)\n",
      "huggingface/tokenizers: The current process just got forked, after parallelism has already been used. Disabling parallelism to avoid deadlocks...\n",
      "To disable this warning, you can either:\n",
      "\t- Avoid using `tokenizers` before the fork if possible\n",
      "\t- Explicitly set the environment variable TOKENIZERS_PARALLELISM=(true | false)\n",
      "huggingface/tokenizers: The current process just got forked, after parallelism has already been used. Disabling parallelism to avoid deadlocks...\n",
      "To disable this warning, you can either:\n",
      "\t- Avoid using `tokenizers` before the fork if possible\n",
      "\t- Explicitly set the environment variable TOKENIZERS_PARALLELISM=(true | false)\n",
      "huggingface/tokenizers: The current process just got forked, after parallelism has already been used. Disabling parallelism to avoid deadlocks...\n",
      "To disable this warning, you can either:\n",
      "\t- Avoid using `tokenizers` before the fork if possible\n",
      "\t- Explicitly set the environment variable TOKENIZERS_PARALLELISM=(true | false)\n",
      "huggingface/tokenizers: The current process just got forked, after parallelism has already been used. Disabling parallelism to avoid deadlocks...\n",
      "To disable this warning, you can either:\n",
      "\t- Avoid using `tokenizers` before the fork if possible\n",
      "\t- Explicitly set the environment variable TOKENIZERS_PARALLELISM=(true | false)\n",
      "huggingface/tokenizers: The current process just got forked, after parallelism has already been used. Disabling parallelism to avoid deadlocks...\n",
      "To disable this warning, you can either:\n",
      "\t- Avoid using `tokenizers` before the fork if possible\n",
      "\t- Explicitly set the environment variable TOKENIZERS_PARALLELISM=(true | false)\n",
      "huggingface/tokenizers: The current process just got forked, after parallelism has already been used. Disabling parallelism to avoid deadlocks...\n",
      "To disable this warning, you can either:\n",
      "\t- Avoid using `tokenizers` before the fork if possible\n",
      "\t- Explicitly set the environment variable TOKENIZERS_PARALLELISM=(true | false)\n",
      "huggingface/tokenizers: The current process just got forked, after parallelism has already been used. Disabling parallelism to avoid deadlocks...\n",
      "To disable this warning, you can either:\n",
      "\t- Avoid using `tokenizers` before the fork if possible\n",
      "\t- Explicitly set the environment variable TOKENIZERS_PARALLELISM=(true | false)\n",
      "huggingface/tokenizers: The current process just got forked, after parallelism has already been used. Disabling parallelism to avoid deadlocks...\n",
      "To disable this warning, you can either:\n",
      "\t- Avoid using `tokenizers` before the fork if possible\n",
      "\t- Explicitly set the environment variable TOKENIZERS_PARALLELISM=(true | false)\n",
      "huggingface/tokenizers: The current process just got forked, after parallelism has already been used. Disabling parallelism to avoid deadlocks...\n",
      "To disable this warning, you can either:\n",
      "\t- Avoid using `tokenizers` before the fork if possible\n",
      "\t- Explicitly set the environment variable TOKENIZERS_PARALLELISM=(true | false)\n",
      "Process ForkPoolWorker-19:\n",
      "Process ForkPoolWorker-6:\n",
      "Process ForkPoolWorker-18:\n",
      "Process ForkPoolWorker-20:\n",
      "Process ForkPoolWorker-17:\n",
      "Process ForkPoolWorker-11:\n",
      "Process ForkPoolWorker-5:\n",
      "Process ForkPoolWorker-15:\n",
      "Process ForkPoolWorker-13:\n",
      "Process ForkPoolWorker-7:\n",
      "Process ForkPoolWorker-10:\n",
      "Process ForkPoolWorker-14:\n",
      "Process ForkPoolWorker-12:\n",
      "Process ForkPoolWorker-16:\n",
      "Process ForkPoolWorker-9:\n",
      "Process ForkPoolWorker-8:\n",
      "Traceback (most recent call last):\n",
      "Traceback (most recent call last):\n",
      "Traceback (most recent call last):\n",
      "Traceback (most recent call last):\n",
      "Traceback (most recent call last):\n",
      "Traceback (most recent call last):\n",
      "Traceback (most recent call last):\n",
      "Traceback (most recent call last):\n",
      "Traceback (most recent call last):\n",
      "Traceback (most recent call last):\n",
      "Traceback (most recent call last):\n",
      "  File \"/home/sarawalk/sdgs_py38/lib/python3.8/site-packages/multiprocess/process.py\", line 315, in _bootstrap\n",
      "    self.run()\n",
      "Traceback (most recent call last):\n",
      "  File \"/home/sarawalk/sdgs_py38/lib/python3.8/site-packages/multiprocess/process.py\", line 315, in _bootstrap\n",
      "    self.run()\n",
      "  File \"/home/sarawalk/sdgs_py38/lib/python3.8/site-packages/multiprocess/process.py\", line 315, in _bootstrap\n",
      "    self.run()\n",
      "  File \"/home/sarawalk/sdgs_py38/lib/python3.8/site-packages/multiprocess/process.py\", line 315, in _bootstrap\n",
      "    self.run()\n",
      "  File \"/home/sarawalk/sdgs_py38/lib/python3.8/site-packages/multiprocess/process.py\", line 315, in _bootstrap\n",
      "    self.run()\n",
      "  File \"/home/sarawalk/sdgs_py38/lib/python3.8/site-packages/multiprocess/process.py\", line 315, in _bootstrap\n",
      "    self.run()\n",
      "Traceback (most recent call last):\n",
      "Traceback (most recent call last):\n",
      "  File \"/home/sarawalk/sdgs_py38/lib/python3.8/site-packages/multiprocess/process.py\", line 315, in _bootstrap\n",
      "    self.run()\n"
     ]
    },
    {
     "name": "stderr",
     "output_type": "stream",
     "text": [
      "  File \"/home/sarawalk/sdgs_py38/lib/python3.8/site-packages/multiprocess/process.py\", line 315, in _bootstrap\n",
      "    self.run()\n",
      "  File \"/home/sarawalk/sdgs_py38/lib/python3.8/site-packages/multiprocess/process.py\", line 315, in _bootstrap\n",
      "    self.run()\n",
      "Traceback (most recent call last):\n",
      "  File \"/home/sarawalk/sdgs_py38/lib/python3.8/site-packages/multiprocess/process.py\", line 315, in _bootstrap\n",
      "    self.run()\n",
      "Traceback (most recent call last):\n",
      "  File \"/home/sarawalk/sdgs_py38/lib/python3.8/site-packages/multiprocess/process.py\", line 108, in run\n",
      "    self._target(*self._args, **self._kwargs)\n",
      "  File \"/home/sarawalk/sdgs_py38/lib/python3.8/site-packages/multiprocess/process.py\", line 108, in run\n",
      "    self._target(*self._args, **self._kwargs)\n",
      "  File \"/home/sarawalk/sdgs_py38/lib/python3.8/site-packages/multiprocess/process.py\", line 315, in _bootstrap\n",
      "    self.run()\n",
      "  File \"/home/sarawalk/sdgs_py38/lib/python3.8/site-packages/multiprocess/process.py\", line 108, in run\n",
      "    self._target(*self._args, **self._kwargs)\n",
      "  File \"/home/sarawalk/sdgs_py38/lib/python3.8/site-packages/multiprocess/process.py\", line 108, in run\n",
      "    self._target(*self._args, **self._kwargs)\n",
      "  File \"/home/sarawalk/sdgs_py38/lib/python3.8/site-packages/multiprocess/process.py\", line 315, in _bootstrap\n",
      "    self.run()\n",
      "  File \"/home/sarawalk/sdgs_py38/lib/python3.8/site-packages/multiprocess/process.py\", line 108, in run\n",
      "    self._target(*self._args, **self._kwargs)\n",
      "  File \"/home/sarawalk/sdgs_py38/lib/python3.8/site-packages/multiprocess/process.py\", line 108, in run\n",
      "    self._target(*self._args, **self._kwargs)\n",
      "  File \"/home/sarawalk/sdgs_py38/lib/python3.8/site-packages/multiprocess/process.py\", line 108, in run\n",
      "    self._target(*self._args, **self._kwargs)\n",
      "  File \"/home/sarawalk/sdgs_py38/lib/python3.8/site-packages/multiprocess/process.py\", line 315, in _bootstrap\n",
      "    self.run()\n",
      "  File \"/home/sarawalk/sdgs_py38/lib/python3.8/site-packages/multiprocess/process.py\", line 315, in _bootstrap\n",
      "    self.run()\n",
      "  File \"/home/sarawalk/sdgs_py38/lib/python3.8/site-packages/multiprocess/process.py\", line 108, in run\n",
      "    self._target(*self._args, **self._kwargs)\n",
      "  File \"/home/sarawalk/sdgs_py38/lib/python3.8/site-packages/multiprocess/process.py\", line 315, in _bootstrap\n",
      "    self.run()\n",
      "  File \"/home/sarawalk/sdgs_py38/lib/python3.8/site-packages/multiprocess/process.py\", line 315, in _bootstrap\n",
      "    self.run()\n",
      "  File \"/home/sarawalk/sdgs_py38/lib/python3.8/site-packages/multiprocess/process.py\", line 108, in run\n",
      "    self._target(*self._args, **self._kwargs)\n",
      "  File \"/home/sarawalk/sdgs_py38/lib/python3.8/site-packages/multiprocess/process.py\", line 108, in run\n",
      "    self._target(*self._args, **self._kwargs)\n",
      "  File \"/home/sarawalk/sdgs_py38/lib/python3.8/site-packages/multiprocess/pool.py\", line 114, in worker\n",
      "    task = get()\n",
      "  File \"/home/sarawalk/sdgs_py38/lib/python3.8/site-packages/multiprocess/pool.py\", line 114, in worker\n",
      "    task = get()\n",
      "  File \"/home/sarawalk/sdgs_py38/lib/python3.8/site-packages/multiprocess/process.py\", line 108, in run\n",
      "    self._target(*self._args, **self._kwargs)\n",
      "  File \"/home/sarawalk/sdgs_py38/lib/python3.8/site-packages/multiprocess/process.py\", line 108, in run\n",
      "    self._target(*self._args, **self._kwargs)\n",
      "  File \"/home/sarawalk/sdgs_py38/lib/python3.8/site-packages/multiprocess/pool.py\", line 114, in worker\n",
      "    task = get()\n",
      "  File \"/home/sarawalk/sdgs_py38/lib/python3.8/site-packages/multiprocess/pool.py\", line 114, in worker\n",
      "    task = get()\n",
      "  File \"/home/sarawalk/sdgs_py38/lib/python3.8/site-packages/multiprocess/pool.py\", line 114, in worker\n",
      "    task = get()\n",
      "  File \"/home/sarawalk/sdgs_py38/lib/python3.8/site-packages/multiprocess/process.py\", line 108, in run\n",
      "    self._target(*self._args, **self._kwargs)\n",
      "  File \"/home/sarawalk/sdgs_py38/lib/python3.8/site-packages/multiprocess/pool.py\", line 114, in worker\n",
      "    task = get()\n",
      "  File \"/home/sarawalk/sdgs_py38/lib/python3.8/site-packages/multiprocess/pool.py\", line 114, in worker\n",
      "    task = get()\n",
      "  File \"/home/sarawalk/sdgs_py38/lib/python3.8/site-packages/multiprocess/process.py\", line 108, in run\n",
      "    self._target(*self._args, **self._kwargs)\n",
      "  File \"/home/sarawalk/sdgs_py38/lib/python3.8/site-packages/multiprocess/pool.py\", line 114, in worker\n",
      "    task = get()\n",
      "  File \"/home/sarawalk/sdgs_py38/lib/python3.8/site-packages/multiprocess/process.py\", line 108, in run\n",
      "    self._target(*self._args, **self._kwargs)\n",
      "  File \"/home/sarawalk/sdgs_py38/lib/python3.8/site-packages/multiprocess/pool.py\", line 114, in worker\n",
      "    task = get()\n",
      "  File \"/home/sarawalk/sdgs_py38/lib/python3.8/site-packages/multiprocess/pool.py\", line 114, in worker\n",
      "    task = get()\n",
      "  File \"/home/sarawalk/sdgs_py38/lib/python3.8/site-packages/multiprocess/queues.py\", line 358, in get\n",
      "    with self._rlock:\n",
      "  File \"/home/sarawalk/sdgs_py38/lib/python3.8/site-packages/multiprocess/queues.py\", line 358, in get\n",
      "    with self._rlock:\n",
      "  File \"/home/sarawalk/sdgs_py38/lib/python3.8/site-packages/multiprocess/process.py\", line 108, in run\n",
      "    self._target(*self._args, **self._kwargs)\n",
      "  File \"/home/sarawalk/sdgs_py38/lib/python3.8/site-packages/multiprocess/pool.py\", line 114, in worker\n",
      "    task = get()\n",
      "  File \"/home/sarawalk/sdgs_py38/lib/python3.8/site-packages/multiprocess/pool.py\", line 114, in worker\n",
      "    task = get()\n",
      "  File \"/home/sarawalk/sdgs_py38/lib/python3.8/site-packages/multiprocess/queues.py\", line 358, in get\n",
      "    with self._rlock:\n",
      "  File \"/home/sarawalk/sdgs_py38/lib/python3.8/site-packages/multiprocess/queues.py\", line 358, in get\n",
      "    with self._rlock:\n",
      "  File \"/home/sarawalk/sdgs_py38/lib/python3.8/site-packages/multiprocess/pool.py\", line 114, in worker\n",
      "    task = get()\n",
      "  File \"/home/sarawalk/sdgs_py38/lib/python3.8/site-packages/multiprocess/queues.py\", line 358, in get\n",
      "    with self._rlock:\n",
      "  File \"/home/sarawalk/sdgs_py38/lib/python3.8/site-packages/multiprocess/pool.py\", line 114, in worker\n",
      "    task = get()\n",
      "  File \"/home/sarawalk/sdgs_py38/lib/python3.8/site-packages/multiprocess/queues.py\", line 358, in get\n",
      "    with self._rlock:\n",
      "  File \"/home/sarawalk/sdgs_py38/lib/python3.8/site-packages/multiprocess/pool.py\", line 114, in worker\n",
      "    task = get()\n",
      "  File \"/home/sarawalk/sdgs_py38/lib/python3.8/site-packages/multiprocess/queues.py\", line 358, in get\n",
      "    with self._rlock:\n",
      "  File \"/home/sarawalk/sdgs_py38/lib/python3.8/site-packages/multiprocess/queues.py\", line 358, in get\n",
      "    with self._rlock:\n",
      "  File \"/home/sarawalk/sdgs_py38/lib/python3.8/site-packages/multiprocess/synchronize.py\", line 101, in __enter__\n",
      "    return self._semlock.__enter__()\n",
      "  File \"/home/sarawalk/sdgs_py38/lib/python3.8/site-packages/multiprocess/queues.py\", line 358, in get\n",
      "    with self._rlock:\n",
      "  File \"/home/sarawalk/sdgs_py38/lib/python3.8/site-packages/multiprocess/queues.py\", line 358, in get\n",
      "    with self._rlock:\n",
      "  File \"/home/sarawalk/sdgs_py38/lib/python3.8/site-packages/multiprocess/pool.py\", line 114, in worker\n",
      "    task = get()\n",
      "  File \"/home/sarawalk/sdgs_py38/lib/python3.8/site-packages/multiprocess/synchronize.py\", line 101, in __enter__\n",
      "    return self._semlock.__enter__()\n",
      "  File \"/home/sarawalk/sdgs_py38/lib/python3.8/site-packages/multiprocess/synchronize.py\", line 101, in __enter__\n",
      "    return self._semlock.__enter__()\n",
      "  File \"/home/sarawalk/sdgs_py38/lib/python3.8/site-packages/multiprocess/queues.py\", line 358, in get\n",
      "    with self._rlock:\n",
      "  File \"/home/sarawalk/sdgs_py38/lib/python3.8/site-packages/multiprocess/queues.py\", line 359, in get\n",
      "    res = self._reader.recv_bytes()\n",
      "  File \"/home/sarawalk/sdgs_py38/lib/python3.8/site-packages/multiprocess/synchronize.py\", line 101, in __enter__\n",
      "    return self._semlock.__enter__()\n",
      "  File \"/home/sarawalk/sdgs_py38/lib/python3.8/site-packages/multiprocess/synchronize.py\", line 101, in __enter__\n",
      "    return self._semlock.__enter__()\n",
      "  File \"/home/sarawalk/sdgs_py38/lib/python3.8/site-packages/multiprocess/queues.py\", line 358, in get\n",
      "    with self._rlock:\n",
      "  File \"/home/sarawalk/sdgs_py38/lib/python3.8/site-packages/multiprocess/queues.py\", line 358, in get\n",
      "    with self._rlock:\n",
      "  File \"/home/sarawalk/sdgs_py38/lib/python3.8/site-packages/multiprocess/synchronize.py\", line 101, in __enter__\n",
      "    return self._semlock.__enter__()\n"
     ]
    },
    {
     "name": "stderr",
     "output_type": "stream",
     "text": [
      "  File \"/home/sarawalk/sdgs_py38/lib/python3.8/site-packages/multiprocess/queues.py\", line 358, in get\n",
      "    with self._rlock:\n",
      "  File \"/home/sarawalk/sdgs_py38/lib/python3.8/site-packages/multiprocess/synchronize.py\", line 101, in __enter__\n",
      "    return self._semlock.__enter__()\n",
      "  File \"/home/sarawalk/sdgs_py38/lib/python3.8/site-packages/multiprocess/synchronize.py\", line 101, in __enter__\n",
      "    return self._semlock.__enter__()\n",
      "  File \"/home/sarawalk/sdgs_py38/lib/python3.8/site-packages/multiprocess/synchronize.py\", line 101, in __enter__\n",
      "    return self._semlock.__enter__()\n",
      "  File \"/home/sarawalk/sdgs_py38/lib/python3.8/site-packages/multiprocess/synchronize.py\", line 101, in __enter__\n",
      "    return self._semlock.__enter__()\n",
      "  File \"/home/sarawalk/sdgs_py38/lib/python3.8/site-packages/multiprocess/queues.py\", line 358, in get\n",
      "    with self._rlock:\n",
      "KeyboardInterrupt\n",
      "  File \"/home/sarawalk/sdgs_py38/lib/python3.8/site-packages/multiprocess/synchronize.py\", line 101, in __enter__\n",
      "    return self._semlock.__enter__()\n",
      "KeyboardInterrupt\n",
      "KeyboardInterrupt\n",
      "  File \"/home/sarawalk/sdgs_py38/lib/python3.8/site-packages/multiprocess/connection.py\", line 219, in recv_bytes\n",
      "    buf = self._recv_bytes(maxlength)\n",
      "KeyboardInterrupt\n",
      "  File \"/home/sarawalk/sdgs_py38/lib/python3.8/site-packages/multiprocess/synchronize.py\", line 101, in __enter__\n",
      "    return self._semlock.__enter__()\n",
      "KeyboardInterrupt\n",
      "KeyboardInterrupt\n",
      "KeyboardInterrupt\n",
      "  File \"/home/sarawalk/sdgs_py38/lib/python3.8/site-packages/multiprocess/synchronize.py\", line 101, in __enter__\n",
      "    return self._semlock.__enter__()\n",
      "  File \"/home/sarawalk/sdgs_py38/lib/python3.8/site-packages/multiprocess/synchronize.py\", line 101, in __enter__\n",
      "    return self._semlock.__enter__()\n",
      "KeyboardInterrupt\n",
      "KeyboardInterrupt\n",
      "KeyboardInterrupt\n",
      "  File \"/home/sarawalk/sdgs_py38/lib/python3.8/site-packages/multiprocess/synchronize.py\", line 101, in __enter__\n",
      "    return self._semlock.__enter__()\n",
      "KeyboardInterrupt\n",
      "  File \"/home/sarawalk/sdgs_py38/lib/python3.8/site-packages/multiprocess/connection.py\", line 417, in _recv_bytes\n",
      "    buf = self._recv(4)\n",
      "KeyboardInterrupt\n",
      "KeyboardInterrupt\n",
      "KeyboardInterrupt\n",
      "KeyboardInterrupt\n",
      "  File \"/home/sarawalk/sdgs_py38/lib/python3.8/site-packages/multiprocess/connection.py\", line 382, in _recv\n",
      "    chunk = read(handle, remaining)\n",
      "KeyboardInterrupt\n",
      "\n",
      "KeyboardInterrupt\n",
      "\n"
     ]
    }
   ],
   "source": [
    "with Pool(20) as pool:\n",
    "    pool.map(aux, val_couples)"
   ]
  },
  {
   "cell_type": "code",
   "execution_count": 30,
   "id": "80ba46d6",
   "metadata": {
    "ExecuteTime": {
     "end_time": "2024-06-24T12:44:54.545547Z",
     "start_time": "2024-06-24T12:44:54.535312Z"
    }
   },
   "outputs": [
    {
     "data": {
      "text/plain": [
       "0.005"
      ]
     },
     "execution_count": 30,
     "metadata": {},
     "output_type": "execute_result"
    }
   ],
   "source": [
    "1/200"
   ]
  },
  {
   "cell_type": "code",
   "execution_count": null,
   "id": "edc5234b",
   "metadata": {},
   "outputs": [],
   "source": []
  }
 ],
 "metadata": {
  "kernelspec": {
   "display_name": "Python 3 (ipykernel)",
   "language": "python",
   "name": "python3"
  },
  "language_info": {
   "codemirror_mode": {
    "name": "ipython",
    "version": 3
   },
   "file_extension": ".py",
   "mimetype": "text/x-python",
   "name": "python",
   "nbconvert_exporter": "python",
   "pygments_lexer": "ipython3",
   "version": "3.8.10"
  },
  "notify_time": "5",
  "toc": {
   "base_numbering": 1,
   "nav_menu": {},
   "number_sections": true,
   "sideBar": true,
   "skip_h1_title": false,
   "title_cell": "Table of Contents",
   "title_sidebar": "Contents",
   "toc_cell": false,
   "toc_position": {
    "height": "calc(100% - 180px)",
    "left": "10px",
    "top": "150px",
    "width": "288px"
   },
   "toc_section_display": true,
   "toc_window_display": true
  }
 },
 "nbformat": 4,
 "nbformat_minor": 5
}
