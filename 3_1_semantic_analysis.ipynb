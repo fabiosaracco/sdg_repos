{
 "cells": [
  {
   "cell_type": "markdown",
   "id": "cf74bf54",
   "metadata": {},
   "source": [
    "# Intro"
   ]
  },
  {
   "cell_type": "markdown",
   "id": "6fee07ef",
   "metadata": {},
   "source": [
    "## Load"
   ]
  },
  {
   "cell_type": "markdown",
   "id": "133e68c3",
   "metadata": {},
   "source": [
    "### Standards"
   ]
  },
  {
   "cell_type": "code",
   "execution_count": 28,
   "id": "b9c3b7e2",
   "metadata": {
    "ExecuteTime": {
     "end_time": "2024-06-24T10:16:41.333062Z",
     "start_time": "2024-06-24T10:16:41.326829Z"
    }
   },
   "outputs": [],
   "source": [
    "import os\n",
    "os.environ[\"TOKENIZERS_PARALLELISM\"] = \"false\""
   ]
  },
  {
   "cell_type": "code",
   "execution_count": 1,
   "id": "25eb27a3",
   "metadata": {
    "ExecuteTime": {
     "end_time": "2024-06-24T10:08:29.779605Z",
     "start_time": "2024-06-24T10:08:29.506189Z"
    }
   },
   "outputs": [],
   "source": [
    "import os, sys, pickle\n",
    "import numpy as np\n",
    "from tqdm.notebook import trange, tqdm\n",
    "import re"
   ]
  },
  {
   "cell_type": "code",
   "execution_count": 2,
   "id": "96afe370",
   "metadata": {
    "ExecuteTime": {
     "end_time": "2024-06-24T10:08:30.480303Z",
     "start_time": "2024-06-24T10:08:29.791578Z"
    }
   },
   "outputs": [],
   "source": [
    "import matplotlib.pyplot as plt\n",
    "plt.rcParams['axes.linewidth'] = 2\n",
    "plt.rcParams['xtick.major.size'] = 10\n",
    "plt.rcParams['xtick.major.width'] = 2\n",
    "plt.rcParams['ytick.major.size'] = 10\n",
    "plt.rcParams['ytick.major.width'] = 2\n",
    "\n",
    "plt.rcParams['xtick.labelsize'] = 14\n",
    "plt.rcParams['ytick.labelsize'] = 14\n",
    "\n",
    "plt.rcParams['xtick.minor.size'] = 5\n",
    "plt.rcParams['xtick.minor.width'] = 1\n",
    "plt.rcParams['ytick.minor.size'] = 5\n",
    "plt.rcParams['ytick.minor.width'] = 1\n"
   ]
  },
  {
   "cell_type": "code",
   "execution_count": 3,
   "id": "5f4384f2",
   "metadata": {
    "ExecuteTime": {
     "end_time": "2024-06-24T10:08:30.507249Z",
     "start_time": "2024-06-24T10:08:30.484720Z"
    }
   },
   "outputs": [],
   "source": [
    "from multiprocess import Pool"
   ]
  },
  {
   "cell_type": "markdown",
   "id": "de59d3ce",
   "metadata": {},
   "source": [
    "### Homemade modules"
   ]
  },
  {
   "cell_type": "code",
   "execution_count": 4,
   "id": "d07bf67e",
   "metadata": {
    "ExecuteTime": {
     "end_time": "2024-06-24T10:08:34.409696Z",
     "start_time": "2024-06-24T10:08:30.509692Z"
    }
   },
   "outputs": [],
   "source": [
    "from tesste import tesste\n",
    "from ppp import ppp\n",
    "from readers_and_converters import file2text, text2dict, text2vec"
   ]
  },
  {
   "cell_type": "markdown",
   "id": "2f223725",
   "metadata": {},
   "source": [
    "## Stoopid infos"
   ]
  },
  {
   "cell_type": "code",
   "execution_count": 5,
   "id": "e17ac1f9",
   "metadata": {
    "ExecuteTime": {
     "end_time": "2024-06-24T10:08:34.417976Z",
     "start_time": "2024-06-24T10:08:34.412988Z"
    }
   },
   "outputs": [],
   "source": [
    "L_SDGS=17"
   ]
  },
  {
   "cell_type": "markdown",
   "id": "84bc8ba9",
   "metadata": {},
   "source": [
    "# Data"
   ]
  },
  {
   "cell_type": "code",
   "execution_count": 6,
   "id": "9b33a0f5",
   "metadata": {
    "ExecuteTime": {
     "end_time": "2024-06-24T10:08:34.498966Z",
     "start_time": "2024-06-24T10:08:34.422643Z"
    }
   },
   "outputs": [],
   "source": [
    "with open ('./data/energy_utilities_texts.pickle', 'rb') as f:\n",
    "    text_dict=pickle.load(f)"
   ]
  },
  {
   "cell_type": "markdown",
   "id": "0fdb0fdf",
   "metadata": {},
   "source": [
    "# Semantic analysis"
   ]
  },
  {
   "cell_type": "markdown",
   "id": "c9bd8b00",
   "metadata": {
    "heading_collapsed": true
   },
   "source": [
    "## Cosine similarity calculations"
   ]
  },
  {
   "cell_type": "code",
   "execution_count": 7,
   "id": "bc31cea7",
   "metadata": {
    "ExecuteTime": {
     "end_time": "2024-06-24T10:08:44.039663Z",
     "start_time": "2024-06-24T10:08:34.502045Z"
    },
    "hidden": true
   },
   "outputs": [
    {
     "data": {
      "application/vnd.jupyter.widget-view+json": {
       "model_id": "fb6248e4a6ab4834beca34cec739e0d4",
       "version_major": 2,
       "version_minor": 0
      },
      "text/plain": [
       "Energy 2015:   0%|          | 0/2 [00:00<?, ?it/s]"
      ]
     },
     "metadata": {},
     "output_type": "display_data"
    },
    {
     "name": "stderr",
     "output_type": "stream",
     "text": [
      "/home/sarawalk/sdgs_py38/lib/python3.8/site-packages/torch/cuda/__init__.py:118: UserWarning: CUDA initialization: The NVIDIA driver on your system is too old (found version 10020). Please update your GPU driver by downloading and installing a new version from the URL: http://www.nvidia.com/Download/index.aspx Alternatively, go to: https://pytorch.org to install a PyTorch version that has been compiled with your version of the CUDA driver. (Triggered internally at ../c10/cuda/CUDAFunctions.cpp:108.)\n",
      "  return torch._C._cuda_getDeviceCount() > 0\n",
      "huggingface/tokenizers: The current process just got forked, after parallelism has already been used. Disabling parallelism to avoid deadlocks...\n",
      "To disable this warning, you can either:\n",
      "\t- Avoid using `tokenizers` before the fork if possible\n",
      "\t- Explicitly set the environment variable TOKENIZERS_PARALLELISM=(true | false)\n",
      "/home/sarawalk/sdgs_py38/lib/python3.8/site-packages/torch/cuda/__init__.py:619: UserWarning: Can't initialize NVML\n",
      "  warnings.warn(\"Can't initialize NVML\")\n"
     ]
    },
    {
     "data": {
      "application/vnd.jupyter.widget-view+json": {
       "model_id": "b095f79ccea440208ce1cb5b80b73233",
       "version_major": 2,
       "version_minor": 0
      },
      "text/plain": [
       "  0%|          | 0/1000 [00:00<?, ?it/s]"
      ]
     },
     "metadata": {},
     "output_type": "display_data"
    },
    {
     "name": "stderr",
     "output_type": "stream",
     "text": [
      "\n",
      "KeyboardInterrupt\n",
      "\n"
     ]
    }
   ],
   "source": [
    "cos_sim_dict={}\n",
    "for year in range(2015, 2024):\n",
    "    s_year=str(year)\n",
    "    cos_sim_dict[year]={}\n",
    "    energy_co_s=list(text_dict['Energy'][s_year].keys())\n",
    "    # inside energy\n",
    "    energy_cos_sims=np.zeros((len(energy_co_s), len(energy_co_s)))\n",
    "    energy_pvals=np.zeros((len(energy_co_s), len(energy_co_s)))\n",
    "    for i_e, energy_co_0 in enumerate(tqdm(energy_co_s, leave=False, desc='Energy '+s_year)):\n",
    "        text_0=text_dict['Energy'][s_year][energy_co_0]\n",
    "        for j_e in range(i_e+1, len(energy_co_s)):\n",
    "            energy_co_1=energy_co_s[j_e]\n",
    "            text_1=text_dict['Energy'][s_year][energy_co_1]\n",
    "            cacca=tesste(text_0, text_1)\n",
    "            energy_cos_sims[i_e, j_e]=cacca.cos_sim\n",
    "            energy_pvals[i_e, j_e]=cacca.pval\n",
    "            \n",
    "    cos_sim_dict[year]['Energy']={}\n",
    "    cos_sim_dict[year]['Energy']['cos_sim']=energy_cos_sims\n",
    "    cos_sim_dict[year]['Energy']['pvals']=energy_pvals\n",
    "    \n",
    "    utilities_co_s=list(text_dict['Utilities'][s_year].keys())\n",
    "    utilities_cos_sims=np.zeros((len(utilities_co_s), len(utilities_co_s)))\n",
    "    utilities_pvals=np.zeros((len(utilities_co_s), len(utilities_co_s)))\n",
    "    # inside utilities\n",
    "    for i_e, utilities_co_0 in enumerate(tqdm(utilities_co_s, leave=False, desc='Utilities '+s_year)):\n",
    "        text_0=text_dict['Utilities'][s_year][utilities_co_0]\n",
    "        for j_e in range(i_e+1, len(utilities_co_s)):\n",
    "            utilities_co_1=utilities_co_s[j_e]\n",
    "            text_1=text_dict['Utilities'][s_year][utilities_co_1]\n",
    "            cacca=tesste(text_0, text_1)\n",
    "            utilities_cos_sims[i_e, j_e]=cacca.cos_sim\n",
    "            utilities_pvals[i_e, j_e]=cacca.pval\n",
    "            \n",
    "    cos_sim_dict[year]['Utilities']={}\n",
    "    cos_sim_dict[year]['Utilities']['cos_sim']=utilities_cos_sims\n",
    "    cos_sim_dict[year]['Utilities']['pvals']=utilities_pvals\n"
   ]
  },
  {
   "cell_type": "markdown",
   "id": "2775b030",
   "metadata": {
    "hidden": true
   },
   "source": [
    "### Something I forgot"
   ]
  },
  {
   "cell_type": "code",
   "execution_count": null,
   "id": "6c8875a3",
   "metadata": {
    "ExecuteTime": {
     "end_time": "2024-06-24T10:08:44.042902Z",
     "start_time": "2024-06-24T10:08:44.042877Z"
    },
    "hidden": true
   },
   "outputs": [],
   "source": [
    "with open ('./data/energy_utilities_cos_sim_mats.pickle', 'rb') as f:\n",
    "    cos_sim_dict=pickle.load(f)"
   ]
  },
  {
   "cell_type": "code",
   "execution_count": null,
   "id": "00237110",
   "metadata": {
    "ExecuteTime": {
     "end_time": "2024-06-24T10:08:44.044584Z",
     "start_time": "2024-06-24T10:08:44.044559Z"
    },
    "hidden": true
   },
   "outputs": [],
   "source": [
    "for year in range(2015, 2024):\n",
    "    s_year=str(year)\n",
    "    for field in ['Energy', 'Utilities']:\n",
    "        firms=list(text_dict[field][s_year].keys())\n",
    "        cos_sim_dict[year][field]['companies']=firms"
   ]
  },
  {
   "cell_type": "code",
   "execution_count": null,
   "id": "9201b199",
   "metadata": {
    "ExecuteTime": {
     "end_time": "2024-06-24T10:08:44.046796Z",
     "start_time": "2024-06-24T10:08:44.046771Z"
    },
    "hidden": true
   },
   "outputs": [],
   "source": [
    "with open ('./data/energy_utilities_cos_sim_mats.pickle', 'wb') as f:\n",
    "    pickle.dump(cos_sim_dict, f)"
   ]
  },
  {
   "cell_type": "markdown",
   "id": "c316eb2e",
   "metadata": {},
   "source": [
    "## Cosine similarity analysis"
   ]
  },
  {
   "cell_type": "code",
   "execution_count": 8,
   "id": "9131d43b",
   "metadata": {
    "ExecuteTime": {
     "end_time": "2024-06-24T10:08:50.271735Z",
     "start_time": "2024-06-24T10:08:50.264736Z"
    }
   },
   "outputs": [],
   "source": [
    "with open ('./data/energy_utilities_cos_sim_mats.pickle', 'rb') as f:\n",
    "    cos_sim_dict=pickle.load(f)"
   ]
  },
  {
   "cell_type": "code",
   "execution_count": 9,
   "id": "807e0664",
   "metadata": {
    "ExecuteTime": {
     "end_time": "2024-06-24T10:08:50.678901Z",
     "start_time": "2024-06-24T10:08:50.673166Z"
    }
   },
   "outputs": [],
   "source": [
    "years=list(range(2015, 2024))"
   ]
  },
  {
   "cell_type": "code",
   "execution_count": 10,
   "id": "79628fd6",
   "metadata": {
    "ExecuteTime": {
     "end_time": "2024-06-24T10:08:51.048114Z",
     "start_time": "2024-06-24T10:08:51.043090Z"
    }
   },
   "outputs": [],
   "source": [
    "# actually, it shouldn't be done, but I saw that relaxing from alpha=0.01 to alpha=0.05,\n",
    "# I get more validated entries...\n",
    "alpha=.05"
   ]
  },
  {
   "cell_type": "code",
   "execution_count": 11,
   "id": "e1b9fe7e",
   "metadata": {
    "ExecuteTime": {
     "end_time": "2024-06-24T10:08:51.641476Z",
     "start_time": "2024-06-24T10:08:51.622576Z"
    }
   },
   "outputs": [
    {
     "name": "stdout",
     "output_type": "stream",
     "text": [
      "2019 Utilities\n",
      "---------------------\n",
      "('02_SSE_PLC', '05_CENTRICA_PLC') 0.8133289217948914\n",
      "('02_SSE_PLC', '08_RENEWI_PLC') 0.8001610636711121\n",
      "('05_CENTRICA_PLC', '08_RENEWI_PLC') 0.7937230467796326\n",
      "('05_CENTRICA_PLC', '10_GOOD_ENERGY_GROUP_PLC') 0.8450196981430054\n"
     ]
    }
   ],
   "source": [
    "for year in years:\n",
    "    for field in ['Energy', 'Utilities']:\n",
    "        pvals=cos_sim_dict[year][field]['pvals']\n",
    "        cos_sim=cos_sim_dict[year][field]['cos_sim']\n",
    "        firms=cos_sim_dict[year][field]['companies']\n",
    "        if len(firms)>1:\n",
    "            # get the number of tests\n",
    "            n_tests=len(firms)*(len(firms)-1)/2\n",
    "            # calculate effective alpha according to Bonferroni\n",
    "            alpha_bonf=alpha/n_tests\n",
    "            # get the effective alpha according to fdr\n",
    "            pvals_vec=np.sort(pvals[pvals>0])\n",
    "            fdr_vec=(1+np.arange(len(pvals_vec)))*alpha_bonf\n",
    "            alpha_fdrs=fdr_vec[pvals_vec<=fdr_vec]\n",
    "            if len(alpha_fdrs)>0:\n",
    "                alpha_fdr=alpha_fdrs[-1]\n",
    "                # where are the validated entries?\n",
    "                where_vals=np.where(np.logical_and(pvals<=alpha_fdr, pvals>0))\n",
    "                val_couples=[]\n",
    "                for i in range(len(where_vals[0])):\n",
    "                    val_couples.append((firms[where_vals[0][i]],firms[where_vals[1][i]]))\n",
    "                # return values\n",
    "                print(year, field)\n",
    "                print('---------------------')\n",
    "                for i, val_couple in enumerate(val_couples):\n",
    "                    print(val_couple, cos_sim[where_vals[0][i], where_vals[1][i]])"
   ]
  },
  {
   "cell_type": "code",
   "execution_count": 12,
   "id": "250c1282",
   "metadata": {
    "ExecuteTime": {
     "end_time": "2024-06-24T10:08:53.967489Z",
     "start_time": "2024-06-24T10:08:53.958061Z"
    }
   },
   "outputs": [
    {
     "data": {
      "text/plain": [
       "['02_SSE_PLC', '05_CENTRICA_PLC', '08_RENEWI_PLC', '10_GOOD_ENERGY_GROUP_PLC']"
      ]
     },
     "execution_count": 12,
     "metadata": {},
     "output_type": "execute_result"
    }
   ],
   "source": [
    "cos_sim_dict[2019]['Utilities']['companies']"
   ]
  },
  {
   "cell_type": "markdown",
   "id": "99baed88",
   "metadata": {},
   "source": [
    "Quite bizarre that only on a single year (btw, before the COVID, i.e. before when I would have expected to see some excess in the cosine similarity) there is such a diffuse similarity. Moreover, CENTRICA is (ehm...) the most central, since it is significantly similar to all others."
   ]
  },
  {
   "cell_type": "code",
   "execution_count": 13,
   "id": "a60035f4",
   "metadata": {
    "ExecuteTime": {
     "end_time": "2024-06-24T10:08:55.180684Z",
     "start_time": "2024-06-24T10:08:55.175298Z"
    }
   },
   "outputs": [],
   "source": [
    "validated_cos_sim=(2019, 'Utilities', val_couples)"
   ]
  },
  {
   "cell_type": "markdown",
   "id": "9d666d34",
   "metadata": {},
   "source": [
    "### SDGs covered and similarities"
   ]
  },
  {
   "cell_type": "code",
   "execution_count": 14,
   "id": "aea0dc89",
   "metadata": {
    "ExecuteTime": {
     "end_time": "2024-06-24T10:08:56.396489Z",
     "start_time": "2024-06-24T10:08:56.363590Z"
    }
   },
   "outputs": [
    {
     "data": {
      "application/vnd.jupyter.widget-view+json": {
       "model_id": "0a9aef0935f34f80aad152cf517c8a6b",
       "version_major": 2,
       "version_minor": 0
      },
      "text/plain": [
       "  0%|          | 0/9 [00:00<?, ?it/s]"
      ]
     },
     "metadata": {},
     "output_type": "display_data"
    }
   ],
   "source": [
    "sdgs_dict={}\n",
    "for year in trange(2015, 2024):\n",
    "    s_year=str(year)\n",
    "    sdgs_dict[year]={}\n",
    "    for field in ['Energy', 'Utilities']:\n",
    "        sdgs_dict[year][field]={}\n",
    "        for key in text_dict[field][s_year].keys():\n",
    "            text=text_dict[field][s_year][key]\n",
    "            sdgs_dict[year][field][key]=text2dict(text)"
   ]
  },
  {
   "cell_type": "code",
   "execution_count": 15,
   "id": "56645b1e",
   "metadata": {
    "ExecuteTime": {
     "end_time": "2024-06-24T10:08:58.326415Z",
     "start_time": "2024-06-24T10:08:58.320705Z"
    }
   },
   "outputs": [],
   "source": [
    "v_year=validated_cos_sim[0]\n",
    "v_field=validated_cos_sim[1]"
   ]
  },
  {
   "cell_type": "code",
   "execution_count": 16,
   "id": "fbe06c60",
   "metadata": {
    "ExecuteTime": {
     "end_time": "2024-06-24T10:08:58.638586Z",
     "start_time": "2024-06-24T10:08:58.632751Z"
    }
   },
   "outputs": [],
   "source": [
    "companies=list(sdgs_dict[v_year][v_field].keys())"
   ]
  },
  {
   "cell_type": "code",
   "execution_count": 17,
   "id": "ff1c3e69",
   "metadata": {
    "ExecuteTime": {
     "end_time": "2024-06-24T10:08:59.035437Z",
     "start_time": "2024-06-24T10:08:59.024533Z"
    }
   },
   "outputs": [],
   "source": [
    "sdg_superpos=np.zeros((len(companies),len(companies)))\n",
    "for i_c, company_0 in enumerate(companies):\n",
    "    sdgs_i_c=list(sdgs_dict[v_year][v_field][company_0].keys())\n",
    "    for j_c, company_1 in enumerate(companies):\n",
    "        if i_c!=j_c:\n",
    "            sdgs_j_c=list(sdgs_dict[v_year][v_field][company_1].keys())\n",
    "            sdg_superpos[i_c, j_c]=len([sdg for sdg in sdgs_i_c if sdg in sdgs_j_c])/len(sdgs_i_c)"
   ]
  },
  {
   "cell_type": "code",
   "execution_count": 18,
   "id": "3217bb86",
   "metadata": {
    "ExecuteTime": {
     "end_time": "2024-06-24T10:08:59.464744Z",
     "start_time": "2024-06-24T10:08:59.453218Z"
    }
   },
   "outputs": [
    {
     "data": {
      "text/plain": [
       "array([[0.        , 0.66666667, 0.46666667, 0.73333333],\n",
       "       [1.        , 0.        , 0.4       , 0.8       ],\n",
       "       [0.875     , 0.5       , 0.        , 0.75      ],\n",
       "       [1.        , 0.72727273, 0.54545455, 0.        ]])"
      ]
     },
     "execution_count": 18,
     "metadata": {},
     "output_type": "execute_result"
    }
   ],
   "source": [
    "sdg_superpos"
   ]
  },
  {
   "cell_type": "markdown",
   "id": "e9b6ff31",
   "metadata": {},
   "source": [
    "Not such a huge similarity. Where does the similarity come from?"
   ]
  },
  {
   "cell_type": "code",
   "execution_count": 26,
   "id": "fe1c3619",
   "metadata": {
    "ExecuteTime": {
     "end_time": "2024-06-24T10:14:32.881036Z",
     "start_time": "2024-06-24T10:14:32.868977Z"
    }
   },
   "outputs": [],
   "source": [
    "def aux(couple):\n",
    "    dict_0=sdgs_dict[v_year][v_field][couple[0]]\n",
    "    dict_1=sdgs_dict[v_year][v_field][couple[1]]\n",
    "    common_sdgs=[key for key in dict_0.keys() if key in dict_1.keys()]\n",
    "    for sdg in common_sdgs:\n",
    "        cacca=tesste(dict_0[sdg], dict_1[sdg], tqdm_loops=False)\n",
    "        \n",
    "        print('({0:}, {1:}){2:}. Cos={3:.3f}, p-val(theo)={4:.3f}, p-val(sam)={5:.3f},'.format(couple[0][3:], couple[0][3:], sdg.split(':')[0], cacca.cos_sim, cacca.pval, cacca.sampled_pval))"
   ]
  },
  {
   "cell_type": "code",
   "execution_count": 24,
   "id": "743d3183",
   "metadata": {
    "ExecuteTime": {
     "end_time": "2024-06-24T10:12:42.045234Z",
     "start_time": "2024-06-24T10:12:42.036376Z"
    }
   },
   "outputs": [
    {
     "data": {
      "text/plain": [
       "('02_SSE_PLC', '05_CENTRICA_PLC')"
      ]
     },
     "execution_count": 24,
     "metadata": {},
     "output_type": "execute_result"
    }
   ],
   "source": [
    "val_couples[0]"
   ]
  },
  {
   "cell_type": "code",
   "execution_count": 25,
   "id": "cf035e3a",
   "metadata": {
    "ExecuteTime": {
     "end_time": "2024-06-24T10:13:52.274192Z",
     "start_time": "2024-06-24T10:12:42.730717Z"
    }
   },
   "outputs": [
    {
     "name": "stdout",
     "output_type": "stream",
     "text": [
      "cacca\n",
      "(SSE_PLC, SSE_PLC)\tSDG 3. Cos=0.599, p-val(theo)=0.783, p-val(sam)=0.777,\n"
     ]
    },
    {
     "name": "stderr",
     "output_type": "stream",
     "text": [
      "\n",
      "KeyboardInterrupt\n",
      "\n"
     ]
    }
   ],
   "source": [
    "aux(val_couples[0])"
   ]
  },
  {
   "cell_type": "code",
   "execution_count": 29,
   "id": "357b7fe3",
   "metadata": {
    "ExecuteTime": {
     "end_time": "2024-06-24T10:24:11.753967Z",
     "start_time": "2024-06-24T10:16:47.904089Z"
    }
   },
   "outputs": [
    {
     "ename": "KeyboardInterrupt",
     "evalue": "",
     "output_type": "error",
     "traceback": [
      "\u001b[0;31m---------------------------------------------------------------------------\u001b[0m",
      "\u001b[0;31mKeyboardInterrupt\u001b[0m                         Traceback (most recent call last)",
      "Cell \u001b[0;32mIn[29], line 2\u001b[0m\n\u001b[1;32m      1\u001b[0m \u001b[38;5;28;01mwith\u001b[39;00m Pool(\u001b[38;5;241m20\u001b[39m) \u001b[38;5;28;01mas\u001b[39;00m pool:\n\u001b[0;32m----> 2\u001b[0m     \u001b[43mpool\u001b[49m\u001b[38;5;241;43m.\u001b[39;49m\u001b[43mmap\u001b[49m\u001b[43m(\u001b[49m\u001b[43maux\u001b[49m\u001b[43m,\u001b[49m\u001b[43m \u001b[49m\u001b[43mval_couples\u001b[49m\u001b[43m)\u001b[49m\n",
      "File \u001b[0;32m~/sdgs_py38/lib/python3.8/site-packages/multiprocess/pool.py:364\u001b[0m, in \u001b[0;36mPool.map\u001b[0;34m(self, func, iterable, chunksize)\u001b[0m\n\u001b[1;32m    359\u001b[0m \u001b[38;5;28;01mdef\u001b[39;00m \u001b[38;5;21mmap\u001b[39m(\u001b[38;5;28mself\u001b[39m, func, iterable, chunksize\u001b[38;5;241m=\u001b[39m\u001b[38;5;28;01mNone\u001b[39;00m):\n\u001b[1;32m    360\u001b[0m \u001b[38;5;250m    \u001b[39m\u001b[38;5;124;03m'''\u001b[39;00m\n\u001b[1;32m    361\u001b[0m \u001b[38;5;124;03m    Apply `func` to each element in `iterable`, collecting the results\u001b[39;00m\n\u001b[1;32m    362\u001b[0m \u001b[38;5;124;03m    in a list that is returned.\u001b[39;00m\n\u001b[1;32m    363\u001b[0m \u001b[38;5;124;03m    '''\u001b[39;00m\n\u001b[0;32m--> 364\u001b[0m     \u001b[38;5;28;01mreturn\u001b[39;00m \u001b[38;5;28;43mself\u001b[39;49m\u001b[38;5;241;43m.\u001b[39;49m\u001b[43m_map_async\u001b[49m\u001b[43m(\u001b[49m\u001b[43mfunc\u001b[49m\u001b[43m,\u001b[49m\u001b[43m \u001b[49m\u001b[43miterable\u001b[49m\u001b[43m,\u001b[49m\u001b[43m \u001b[49m\u001b[43mmapstar\u001b[49m\u001b[43m,\u001b[49m\u001b[43m \u001b[49m\u001b[43mchunksize\u001b[49m\u001b[43m)\u001b[49m\u001b[38;5;241;43m.\u001b[39;49m\u001b[43mget\u001b[49m\u001b[43m(\u001b[49m\u001b[43m)\u001b[49m\n",
      "File \u001b[0;32m~/sdgs_py38/lib/python3.8/site-packages/multiprocess/pool.py:765\u001b[0m, in \u001b[0;36mApplyResult.get\u001b[0;34m(self, timeout)\u001b[0m\n\u001b[1;32m    764\u001b[0m \u001b[38;5;28;01mdef\u001b[39;00m \u001b[38;5;21mget\u001b[39m(\u001b[38;5;28mself\u001b[39m, timeout\u001b[38;5;241m=\u001b[39m\u001b[38;5;28;01mNone\u001b[39;00m):\n\u001b[0;32m--> 765\u001b[0m     \u001b[38;5;28;43mself\u001b[39;49m\u001b[38;5;241;43m.\u001b[39;49m\u001b[43mwait\u001b[49m\u001b[43m(\u001b[49m\u001b[43mtimeout\u001b[49m\u001b[43m)\u001b[49m\n\u001b[1;32m    766\u001b[0m     \u001b[38;5;28;01mif\u001b[39;00m \u001b[38;5;129;01mnot\u001b[39;00m \u001b[38;5;28mself\u001b[39m\u001b[38;5;241m.\u001b[39mready():\n\u001b[1;32m    767\u001b[0m         \u001b[38;5;28;01mraise\u001b[39;00m \u001b[38;5;167;01mTimeoutError\u001b[39;00m\n",
      "File \u001b[0;32m~/sdgs_py38/lib/python3.8/site-packages/multiprocess/pool.py:762\u001b[0m, in \u001b[0;36mApplyResult.wait\u001b[0;34m(self, timeout)\u001b[0m\n\u001b[1;32m    761\u001b[0m \u001b[38;5;28;01mdef\u001b[39;00m \u001b[38;5;21mwait\u001b[39m(\u001b[38;5;28mself\u001b[39m, timeout\u001b[38;5;241m=\u001b[39m\u001b[38;5;28;01mNone\u001b[39;00m):\n\u001b[0;32m--> 762\u001b[0m     \u001b[38;5;28;43mself\u001b[39;49m\u001b[38;5;241;43m.\u001b[39;49m\u001b[43m_event\u001b[49m\u001b[38;5;241;43m.\u001b[39;49m\u001b[43mwait\u001b[49m\u001b[43m(\u001b[49m\u001b[43mtimeout\u001b[49m\u001b[43m)\u001b[49m\n",
      "File \u001b[0;32m~/python/Python-3.8.10/Lib/threading.py:558\u001b[0m, in \u001b[0;36mEvent.wait\u001b[0;34m(self, timeout)\u001b[0m\n\u001b[1;32m    556\u001b[0m signaled \u001b[38;5;241m=\u001b[39m \u001b[38;5;28mself\u001b[39m\u001b[38;5;241m.\u001b[39m_flag\n\u001b[1;32m    557\u001b[0m \u001b[38;5;28;01mif\u001b[39;00m \u001b[38;5;129;01mnot\u001b[39;00m signaled:\n\u001b[0;32m--> 558\u001b[0m     signaled \u001b[38;5;241m=\u001b[39m \u001b[38;5;28;43mself\u001b[39;49m\u001b[38;5;241;43m.\u001b[39;49m\u001b[43m_cond\u001b[49m\u001b[38;5;241;43m.\u001b[39;49m\u001b[43mwait\u001b[49m\u001b[43m(\u001b[49m\u001b[43mtimeout\u001b[49m\u001b[43m)\u001b[49m\n\u001b[1;32m    559\u001b[0m \u001b[38;5;28;01mreturn\u001b[39;00m signaled\n",
      "File \u001b[0;32m~/python/Python-3.8.10/Lib/threading.py:302\u001b[0m, in \u001b[0;36mCondition.wait\u001b[0;34m(self, timeout)\u001b[0m\n\u001b[1;32m    300\u001b[0m \u001b[38;5;28;01mtry\u001b[39;00m:    \u001b[38;5;66;03m# restore state no matter what (e.g., KeyboardInterrupt)\u001b[39;00m\n\u001b[1;32m    301\u001b[0m     \u001b[38;5;28;01mif\u001b[39;00m timeout \u001b[38;5;129;01mis\u001b[39;00m \u001b[38;5;28;01mNone\u001b[39;00m:\n\u001b[0;32m--> 302\u001b[0m         \u001b[43mwaiter\u001b[49m\u001b[38;5;241;43m.\u001b[39;49m\u001b[43macquire\u001b[49m\u001b[43m(\u001b[49m\u001b[43m)\u001b[49m\n\u001b[1;32m    303\u001b[0m         gotit \u001b[38;5;241m=\u001b[39m \u001b[38;5;28;01mTrue\u001b[39;00m\n\u001b[1;32m    304\u001b[0m     \u001b[38;5;28;01melse\u001b[39;00m:\n",
      "\u001b[0;31mKeyboardInterrupt\u001b[0m: "
     ]
    }
   ],
   "source": [
    "with Pool(20) as pool:\n",
    "    pool.map(aux, val_couples)"
   ]
  },
  {
   "cell_type": "code",
   "execution_count": null,
   "id": "9c4f159c",
   "metadata": {},
   "outputs": [],
   "source": []
  }
 ],
 "metadata": {
  "kernelspec": {
   "display_name": "Python 3 (ipykernel)",
   "language": "python",
   "name": "python3"
  },
  "language_info": {
   "codemirror_mode": {
    "name": "ipython",
    "version": 3
   },
   "file_extension": ".py",
   "mimetype": "text/x-python",
   "name": "python",
   "nbconvert_exporter": "python",
   "pygments_lexer": "ipython3",
   "version": "3.8.10"
  },
  "notify_time": "5",
  "toc": {
   "base_numbering": 1,
   "nav_menu": {},
   "number_sections": true,
   "sideBar": true,
   "skip_h1_title": false,
   "title_cell": "Table of Contents",
   "title_sidebar": "Contents",
   "toc_cell": false,
   "toc_position": {
    "height": "calc(100% - 180px)",
    "left": "10px",
    "top": "150px",
    "width": "288px"
   },
   "toc_section_display": true,
   "toc_window_display": true
  }
 },
 "nbformat": 4,
 "nbformat_minor": 5
}
