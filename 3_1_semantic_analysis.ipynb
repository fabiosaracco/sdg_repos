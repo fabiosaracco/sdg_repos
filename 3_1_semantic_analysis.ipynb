{
 "cells": [
  {
   "cell_type": "markdown",
   "id": "249c7e23",
   "metadata": {},
   "source": [
    "# Intro"
   ]
  },
  {
   "cell_type": "markdown",
   "id": "33b6acb0",
   "metadata": {},
   "source": [
    "## Load"
   ]
  },
  {
   "cell_type": "markdown",
   "id": "6621e3b1",
   "metadata": {},
   "source": [
    "### Standards"
   ]
  },
  {
   "cell_type": "code",
   "execution_count": 1,
   "id": "8819d0fb",
   "metadata": {
    "ExecuteTime": {
     "end_time": "2024-06-27T14:10:38.119852Z",
     "start_time": "2024-06-27T14:10:37.850672Z"
    }
   },
   "outputs": [],
   "source": [
    "import os, sys, pickle\n",
    "import numpy as np\n",
    "from tqdm.notebook import trange, tqdm\n",
    "import re"
   ]
  },
  {
   "cell_type": "code",
   "execution_count": 2,
   "id": "58f2ce1c",
   "metadata": {
    "ExecuteTime": {
     "end_time": "2024-06-27T14:10:38.805285Z",
     "start_time": "2024-06-27T14:10:38.123525Z"
    }
   },
   "outputs": [],
   "source": [
    "import matplotlib.pyplot as plt\n",
    "plt.rcParams['axes.linewidth'] = 2\n",
    "plt.rcParams['xtick.major.size'] = 10\n",
    "plt.rcParams['xtick.major.width'] = 2\n",
    "plt.rcParams['ytick.major.size'] = 10\n",
    "plt.rcParams['ytick.major.width'] = 2\n",
    "\n",
    "plt.rcParams['xtick.labelsize'] = 14\n",
    "plt.rcParams['ytick.labelsize'] = 14\n",
    "\n",
    "plt.rcParams['xtick.minor.size'] = 5\n",
    "plt.rcParams['xtick.minor.width'] = 1\n",
    "plt.rcParams['ytick.minor.size'] = 5\n",
    "plt.rcParams['ytick.minor.width'] = 1\n"
   ]
  },
  {
   "cell_type": "code",
   "execution_count": 3,
   "id": "ddc64dee",
   "metadata": {
    "ExecuteTime": {
     "end_time": "2024-06-27T14:10:38.830815Z",
     "start_time": "2024-06-27T14:10:38.809364Z"
    }
   },
   "outputs": [],
   "source": [
    "from multiprocess import Pool"
   ]
  },
  {
   "cell_type": "code",
   "execution_count": 4,
   "id": "d44b1c60",
   "metadata": {
    "ExecuteTime": {
     "end_time": "2024-06-27T14:10:39.554853Z",
     "start_time": "2024-06-27T14:10:38.833911Z"
    }
   },
   "outputs": [],
   "source": [
    "import igraph"
   ]
  },
  {
   "cell_type": "markdown",
   "id": "0e69bfab",
   "metadata": {},
   "source": [
    "### Homemade modules"
   ]
  },
  {
   "cell_type": "code",
   "execution_count": 5,
   "id": "d9e87756",
   "metadata": {
    "ExecuteTime": {
     "end_time": "2024-06-27T14:10:43.338006Z",
     "start_time": "2024-06-27T14:10:39.559857Z"
    }
   },
   "outputs": [],
   "source": [
    "from tesste import tesste\n",
    "from ppp import ppp\n",
    "from readers_and_converters import file2text, text2dict, text2vec"
   ]
  },
  {
   "cell_type": "markdown",
   "id": "a5e387de",
   "metadata": {},
   "source": [
    "## Stoopid infos"
   ]
  },
  {
   "cell_type": "code",
   "execution_count": 6,
   "id": "d048b7f6",
   "metadata": {
    "ExecuteTime": {
     "end_time": "2024-06-27T14:10:43.346690Z",
     "start_time": "2024-06-27T14:10:43.341265Z"
    }
   },
   "outputs": [],
   "source": [
    "L_SDGS=17"
   ]
  },
  {
   "cell_type": "markdown",
   "id": "b5a18d1d",
   "metadata": {},
   "source": [
    "## Stoopid functions"
   ]
  },
  {
   "cell_type": "code",
   "execution_count": 7,
   "id": "a4408cdb",
   "metadata": {
    "ExecuteTime": {
     "end_time": "2024-06-27T14:10:43.428402Z",
     "start_time": "2024-06-27T14:10:43.350781Z"
    }
   },
   "outputs": [],
   "source": [
    "def a_fdr(alpha, pval_vec):\n",
    "    ord_pvs=np.sort(pval_vec)\n",
    "    lopvs=len(ord_pvs)\n",
    "    if lopvs>0:\n",
    "        fdr_tests=ord_pvs[ord_pvs<=alpha/lopvs*(1+np.arange(lopvs))]\n",
    "        if len(fdr_tests)>0:\n",
    "            return fdr_tests[-1]\n",
    "        else:\n",
    "            return 0\n",
    "    return 0"
   ]
  },
  {
   "cell_type": "markdown",
   "id": "34c9ffb8",
   "metadata": {},
   "source": [
    "# Data"
   ]
  },
  {
   "cell_type": "code",
   "execution_count": 8,
   "id": "0544ef72",
   "metadata": {
    "ExecuteTime": {
     "end_time": "2024-06-27T14:10:43.520980Z",
     "start_time": "2024-06-27T14:10:43.431452Z"
    }
   },
   "outputs": [],
   "source": [
    "with open ('./data/energy_utilities_texts.pickle', 'rb') as f:\n",
    "    text_dict=pickle.load(f)"
   ]
  },
  {
   "cell_type": "markdown",
   "id": "798d81e1",
   "metadata": {},
   "source": [
    "# Semantic analysis per report"
   ]
  },
  {
   "cell_type": "markdown",
   "id": "6533b20d",
   "metadata": {
    "heading_collapsed": true
   },
   "source": [
    "## Cosine similarity calculations"
   ]
  },
  {
   "cell_type": "code",
   "execution_count": null,
   "id": "a1fd578a",
   "metadata": {
    "ExecuteTime": {
     "start_time": "2024-06-27T07:32:50.176Z"
    },
    "hidden": true
   },
   "outputs": [
    {
     "data": {
      "application/vnd.jupyter.widget-view+json": {
       "model_id": "bb53ac32c59d4a49a956777b33d9e3b1",
       "version_major": 2,
       "version_minor": 0
      },
      "text/plain": [
       "years:   0%|          | 0/9 [00:00<?, ?it/s]"
      ]
     },
     "metadata": {},
     "output_type": "display_data"
    },
    {
     "data": {
      "application/vnd.jupyter.widget-view+json": {
       "model_id": "",
       "version_major": 2,
       "version_minor": 0
      },
      "text/plain": [
       "Energy 2015:   0%|          | 0/2 [00:00<?, ?it/s]"
      ]
     },
     "metadata": {},
     "output_type": "display_data"
    },
    {
     "data": {
      "application/vnd.jupyter.widget-view+json": {
       "model_id": "",
       "version_major": 2,
       "version_minor": 0
      },
      "text/plain": [
       "  0%|          | 0/200 [00:00<?, ?it/s]"
      ]
     },
     "metadata": {},
     "output_type": "display_data"
    },
    {
     "name": "stderr",
     "output_type": "stream",
     "text": [
      "/home/sarawalk/sdgs_py38/lib/python3.8/site-packages/scipy/stats/_distn_infrastructure.py:2789: RuntimeWarning: invalid value encountered in scalar multiply\n",
      "  Lhat = muhat - Shat*mu\n"
     ]
    },
    {
     "data": {
      "application/vnd.jupyter.widget-view+json": {
       "model_id": "",
       "version_major": 2,
       "version_minor": 0
      },
      "text/plain": [
       "Utilities 2015:   0%|          | 0/1 [00:00<?, ?it/s]"
      ]
     },
     "metadata": {},
     "output_type": "display_data"
    },
    {
     "data": {
      "application/vnd.jupyter.widget-view+json": {
       "model_id": "",
       "version_major": 2,
       "version_minor": 0
      },
      "text/plain": [
       "Energy 2016:   0%|          | 0/2 [00:00<?, ?it/s]"
      ]
     },
     "metadata": {},
     "output_type": "display_data"
    },
    {
     "data": {
      "application/vnd.jupyter.widget-view+json": {
       "model_id": "",
       "version_major": 2,
       "version_minor": 0
      },
      "text/plain": [
       "  0%|          | 0/200 [00:00<?, ?it/s]"
      ]
     },
     "metadata": {},
     "output_type": "display_data"
    },
    {
     "data": {
      "application/vnd.jupyter.widget-view+json": {
       "model_id": "",
       "version_major": 2,
       "version_minor": 0
      },
      "text/plain": [
       "Utilities 2016:   0%|          | 0/2 [00:00<?, ?it/s]"
      ]
     },
     "metadata": {},
     "output_type": "display_data"
    },
    {
     "data": {
      "application/vnd.jupyter.widget-view+json": {
       "model_id": "",
       "version_major": 2,
       "version_minor": 0
      },
      "text/plain": [
       "  0%|          | 0/200 [00:00<?, ?it/s]"
      ]
     },
     "metadata": {},
     "output_type": "display_data"
    },
    {
     "data": {
      "application/vnd.jupyter.widget-view+json": {
       "model_id": "",
       "version_major": 2,
       "version_minor": 0
      },
      "text/plain": [
       "Energy 2017:   0%|          | 0/2 [00:00<?, ?it/s]"
      ]
     },
     "metadata": {},
     "output_type": "display_data"
    },
    {
     "data": {
      "application/vnd.jupyter.widget-view+json": {
       "model_id": "",
       "version_major": 2,
       "version_minor": 0
      },
      "text/plain": [
       "  0%|          | 0/200 [00:00<?, ?it/s]"
      ]
     },
     "metadata": {},
     "output_type": "display_data"
    },
    {
     "data": {
      "application/vnd.jupyter.widget-view+json": {
       "model_id": "",
       "version_major": 2,
       "version_minor": 0
      },
      "text/plain": [
       "Utilities 2017:   0%|          | 0/3 [00:00<?, ?it/s]"
      ]
     },
     "metadata": {},
     "output_type": "display_data"
    },
    {
     "data": {
      "application/vnd.jupyter.widget-view+json": {
       "model_id": "",
       "version_major": 2,
       "version_minor": 0
      },
      "text/plain": [
       "  0%|          | 0/200 [00:00<?, ?it/s]"
      ]
     },
     "metadata": {},
     "output_type": "display_data"
    },
    {
     "data": {
      "application/vnd.jupyter.widget-view+json": {
       "model_id": "",
       "version_major": 2,
       "version_minor": 0
      },
      "text/plain": [
       "  0%|          | 0/200 [00:00<?, ?it/s]"
      ]
     },
     "metadata": {},
     "output_type": "display_data"
    },
    {
     "data": {
      "application/vnd.jupyter.widget-view+json": {
       "model_id": "",
       "version_major": 2,
       "version_minor": 0
      },
      "text/plain": [
       "  0%|          | 0/200 [00:00<?, ?it/s]"
      ]
     },
     "metadata": {},
     "output_type": "display_data"
    },
    {
     "data": {
      "application/vnd.jupyter.widget-view+json": {
       "model_id": "",
       "version_major": 2,
       "version_minor": 0
      },
      "text/plain": [
       "Energy 2018:   0%|          | 0/3 [00:00<?, ?it/s]"
      ]
     },
     "metadata": {},
     "output_type": "display_data"
    },
    {
     "data": {
      "application/vnd.jupyter.widget-view+json": {
       "model_id": "",
       "version_major": 2,
       "version_minor": 0
      },
      "text/plain": [
       "  0%|          | 0/200 [00:00<?, ?it/s]"
      ]
     },
     "metadata": {},
     "output_type": "display_data"
    },
    {
     "data": {
      "application/vnd.jupyter.widget-view+json": {
       "model_id": "",
       "version_major": 2,
       "version_minor": 0
      },
      "text/plain": [
       "  0%|          | 0/200 [00:00<?, ?it/s]"
      ]
     },
     "metadata": {},
     "output_type": "display_data"
    },
    {
     "data": {
      "application/vnd.jupyter.widget-view+json": {
       "model_id": "",
       "version_major": 2,
       "version_minor": 0
      },
      "text/plain": [
       "  0%|          | 0/200 [00:00<?, ?it/s]"
      ]
     },
     "metadata": {},
     "output_type": "display_data"
    },
    {
     "data": {
      "application/vnd.jupyter.widget-view+json": {
       "model_id": "",
       "version_major": 2,
       "version_minor": 0
      },
      "text/plain": [
       "Utilities 2018:   0%|          | 0/4 [00:00<?, ?it/s]"
      ]
     },
     "metadata": {},
     "output_type": "display_data"
    },
    {
     "data": {
      "application/vnd.jupyter.widget-view+json": {
       "model_id": "",
       "version_major": 2,
       "version_minor": 0
      },
      "text/plain": [
       "  0%|          | 0/200 [00:00<?, ?it/s]"
      ]
     },
     "metadata": {},
     "output_type": "display_data"
    },
    {
     "data": {
      "application/vnd.jupyter.widget-view+json": {
       "model_id": "",
       "version_major": 2,
       "version_minor": 0
      },
      "text/plain": [
       "  0%|          | 0/200 [00:00<?, ?it/s]"
      ]
     },
     "metadata": {},
     "output_type": "display_data"
    },
    {
     "data": {
      "application/vnd.jupyter.widget-view+json": {
       "model_id": "",
       "version_major": 2,
       "version_minor": 0
      },
      "text/plain": [
       "  0%|          | 0/200 [00:00<?, ?it/s]"
      ]
     },
     "metadata": {},
     "output_type": "display_data"
    },
    {
     "data": {
      "application/vnd.jupyter.widget-view+json": {
       "model_id": "",
       "version_major": 2,
       "version_minor": 0
      },
      "text/plain": [
       "  0%|          | 0/200 [00:00<?, ?it/s]"
      ]
     },
     "metadata": {},
     "output_type": "display_data"
    },
    {
     "data": {
      "application/vnd.jupyter.widget-view+json": {
       "model_id": "",
       "version_major": 2,
       "version_minor": 0
      },
      "text/plain": [
       "  0%|          | 0/200 [00:00<?, ?it/s]"
      ]
     },
     "metadata": {},
     "output_type": "display_data"
    },
    {
     "data": {
      "application/vnd.jupyter.widget-view+json": {
       "model_id": "",
       "version_major": 2,
       "version_minor": 0
      },
      "text/plain": [
       "  0%|          | 0/200 [00:00<?, ?it/s]"
      ]
     },
     "metadata": {},
     "output_type": "display_data"
    },
    {
     "data": {
      "application/vnd.jupyter.widget-view+json": {
       "model_id": "",
       "version_major": 2,
       "version_minor": 0
      },
      "text/plain": [
       "Energy 2019:   0%|          | 0/6 [00:00<?, ?it/s]"
      ]
     },
     "metadata": {},
     "output_type": "display_data"
    },
    {
     "data": {
      "application/vnd.jupyter.widget-view+json": {
       "model_id": "",
       "version_major": 2,
       "version_minor": 0
      },
      "text/plain": [
       "  0%|          | 0/200 [00:00<?, ?it/s]"
      ]
     },
     "metadata": {},
     "output_type": "display_data"
    },
    {
     "data": {
      "application/vnd.jupyter.widget-view+json": {
       "model_id": "",
       "version_major": 2,
       "version_minor": 0
      },
      "text/plain": [
       "  0%|          | 0/200 [00:00<?, ?it/s]"
      ]
     },
     "metadata": {},
     "output_type": "display_data"
    },
    {
     "data": {
      "application/vnd.jupyter.widget-view+json": {
       "model_id": "",
       "version_major": 2,
       "version_minor": 0
      },
      "text/plain": [
       "  0%|          | 0/200 [00:00<?, ?it/s]"
      ]
     },
     "metadata": {},
     "output_type": "display_data"
    },
    {
     "data": {
      "application/vnd.jupyter.widget-view+json": {
       "model_id": "",
       "version_major": 2,
       "version_minor": 0
      },
      "text/plain": [
       "  0%|          | 0/200 [00:00<?, ?it/s]"
      ]
     },
     "metadata": {},
     "output_type": "display_data"
    },
    {
     "data": {
      "application/vnd.jupyter.widget-view+json": {
       "model_id": "",
       "version_major": 2,
       "version_minor": 0
      },
      "text/plain": [
       "  0%|          | 0/200 [00:00<?, ?it/s]"
      ]
     },
     "metadata": {},
     "output_type": "display_data"
    },
    {
     "data": {
      "application/vnd.jupyter.widget-view+json": {
       "model_id": "",
       "version_major": 2,
       "version_minor": 0
      },
      "text/plain": [
       "  0%|          | 0/200 [00:00<?, ?it/s]"
      ]
     },
     "metadata": {},
     "output_type": "display_data"
    },
    {
     "data": {
      "application/vnd.jupyter.widget-view+json": {
       "model_id": "",
       "version_major": 2,
       "version_minor": 0
      },
      "text/plain": [
       "  0%|          | 0/200 [00:00<?, ?it/s]"
      ]
     },
     "metadata": {},
     "output_type": "display_data"
    },
    {
     "data": {
      "application/vnd.jupyter.widget-view+json": {
       "model_id": "",
       "version_major": 2,
       "version_minor": 0
      },
      "text/plain": [
       "  0%|          | 0/200 [00:00<?, ?it/s]"
      ]
     },
     "metadata": {},
     "output_type": "display_data"
    },
    {
     "data": {
      "application/vnd.jupyter.widget-view+json": {
       "model_id": "",
       "version_major": 2,
       "version_minor": 0
      },
      "text/plain": [
       "  0%|          | 0/200 [00:00<?, ?it/s]"
      ]
     },
     "metadata": {},
     "output_type": "display_data"
    },
    {
     "data": {
      "application/vnd.jupyter.widget-view+json": {
       "model_id": "",
       "version_major": 2,
       "version_minor": 0
      },
      "text/plain": [
       "  0%|          | 0/200 [00:00<?, ?it/s]"
      ]
     },
     "metadata": {},
     "output_type": "display_data"
    },
    {
     "data": {
      "application/vnd.jupyter.widget-view+json": {
       "model_id": "",
       "version_major": 2,
       "version_minor": 0
      },
      "text/plain": [
       "  0%|          | 0/200 [00:00<?, ?it/s]"
      ]
     },
     "metadata": {},
     "output_type": "display_data"
    },
    {
     "data": {
      "application/vnd.jupyter.widget-view+json": {
       "model_id": "",
       "version_major": 2,
       "version_minor": 0
      },
      "text/plain": [
       "  0%|          | 0/200 [00:00<?, ?it/s]"
      ]
     },
     "metadata": {},
     "output_type": "display_data"
    },
    {
     "data": {
      "application/vnd.jupyter.widget-view+json": {
       "model_id": "",
       "version_major": 2,
       "version_minor": 0
      },
      "text/plain": [
       "  0%|          | 0/200 [00:00<?, ?it/s]"
      ]
     },
     "metadata": {},
     "output_type": "display_data"
    },
    {
     "data": {
      "application/vnd.jupyter.widget-view+json": {
       "model_id": "",
       "version_major": 2,
       "version_minor": 0
      },
      "text/plain": [
       "  0%|          | 0/200 [00:00<?, ?it/s]"
      ]
     },
     "metadata": {},
     "output_type": "display_data"
    },
    {
     "data": {
      "application/vnd.jupyter.widget-view+json": {
       "model_id": "",
       "version_major": 2,
       "version_minor": 0
      },
      "text/plain": [
       "  0%|          | 0/200 [00:00<?, ?it/s]"
      ]
     },
     "metadata": {},
     "output_type": "display_data"
    },
    {
     "data": {
      "application/vnd.jupyter.widget-view+json": {
       "model_id": "",
       "version_major": 2,
       "version_minor": 0
      },
      "text/plain": [
       "Utilities 2019:   0%|          | 0/4 [00:00<?, ?it/s]"
      ]
     },
     "metadata": {},
     "output_type": "display_data"
    },
    {
     "data": {
      "application/vnd.jupyter.widget-view+json": {
       "model_id": "",
       "version_major": 2,
       "version_minor": 0
      },
      "text/plain": [
       "  0%|          | 0/200 [00:00<?, ?it/s]"
      ]
     },
     "metadata": {},
     "output_type": "display_data"
    },
    {
     "data": {
      "application/vnd.jupyter.widget-view+json": {
       "model_id": "",
       "version_major": 2,
       "version_minor": 0
      },
      "text/plain": [
       "  0%|          | 0/200 [00:00<?, ?it/s]"
      ]
     },
     "metadata": {},
     "output_type": "display_data"
    },
    {
     "data": {
      "application/vnd.jupyter.widget-view+json": {
       "model_id": "",
       "version_major": 2,
       "version_minor": 0
      },
      "text/plain": [
       "  0%|          | 0/200 [00:00<?, ?it/s]"
      ]
     },
     "metadata": {},
     "output_type": "display_data"
    },
    {
     "data": {
      "application/vnd.jupyter.widget-view+json": {
       "model_id": "",
       "version_major": 2,
       "version_minor": 0
      },
      "text/plain": [
       "  0%|          | 0/200 [00:00<?, ?it/s]"
      ]
     },
     "metadata": {},
     "output_type": "display_data"
    },
    {
     "data": {
      "application/vnd.jupyter.widget-view+json": {
       "model_id": "",
       "version_major": 2,
       "version_minor": 0
      },
      "text/plain": [
       "  0%|          | 0/200 [00:00<?, ?it/s]"
      ]
     },
     "metadata": {},
     "output_type": "display_data"
    },
    {
     "data": {
      "application/vnd.jupyter.widget-view+json": {
       "model_id": "",
       "version_major": 2,
       "version_minor": 0
      },
      "text/plain": [
       "  0%|          | 0/200 [00:00<?, ?it/s]"
      ]
     },
     "metadata": {},
     "output_type": "display_data"
    },
    {
     "data": {
      "application/vnd.jupyter.widget-view+json": {
       "model_id": "5379c041b6964824acb0ee19f39192ea",
       "version_major": 2,
       "version_minor": 0
      },
      "text/plain": [
       "Energy 2020:   0%|          | 0/6 [00:00<?, ?it/s]"
      ]
     },
     "metadata": {},
     "output_type": "display_data"
    },
    {
     "data": {
      "application/vnd.jupyter.widget-view+json": {
       "model_id": "",
       "version_major": 2,
       "version_minor": 0
      },
      "text/plain": [
       "  0%|          | 0/200 [00:00<?, ?it/s]"
      ]
     },
     "metadata": {},
     "output_type": "display_data"
    },
    {
     "data": {
      "application/vnd.jupyter.widget-view+json": {
       "model_id": "",
       "version_major": 2,
       "version_minor": 0
      },
      "text/plain": [
       "  0%|          | 0/200 [00:00<?, ?it/s]"
      ]
     },
     "metadata": {},
     "output_type": "display_data"
    },
    {
     "data": {
      "application/vnd.jupyter.widget-view+json": {
       "model_id": "",
       "version_major": 2,
       "version_minor": 0
      },
      "text/plain": [
       "  0%|          | 0/200 [00:00<?, ?it/s]"
      ]
     },
     "metadata": {},
     "output_type": "display_data"
    },
    {
     "data": {
      "application/vnd.jupyter.widget-view+json": {
       "model_id": "",
       "version_major": 2,
       "version_minor": 0
      },
      "text/plain": [
       "  0%|          | 0/200 [00:00<?, ?it/s]"
      ]
     },
     "metadata": {},
     "output_type": "display_data"
    },
    {
     "data": {
      "application/vnd.jupyter.widget-view+json": {
       "model_id": "",
       "version_major": 2,
       "version_minor": 0
      },
      "text/plain": [
       "  0%|          | 0/200 [00:00<?, ?it/s]"
      ]
     },
     "metadata": {},
     "output_type": "display_data"
    },
    {
     "data": {
      "application/vnd.jupyter.widget-view+json": {
       "model_id": "",
       "version_major": 2,
       "version_minor": 0
      },
      "text/plain": [
       "  0%|          | 0/200 [00:00<?, ?it/s]"
      ]
     },
     "metadata": {},
     "output_type": "display_data"
    },
    {
     "data": {
      "application/vnd.jupyter.widget-view+json": {
       "model_id": "",
       "version_major": 2,
       "version_minor": 0
      },
      "text/plain": [
       "  0%|          | 0/200 [00:00<?, ?it/s]"
      ]
     },
     "metadata": {},
     "output_type": "display_data"
    },
    {
     "data": {
      "application/vnd.jupyter.widget-view+json": {
       "model_id": "",
       "version_major": 2,
       "version_minor": 0
      },
      "text/plain": [
       "  0%|          | 0/200 [00:00<?, ?it/s]"
      ]
     },
     "metadata": {},
     "output_type": "display_data"
    },
    {
     "data": {
      "application/vnd.jupyter.widget-view+json": {
       "model_id": "88958ab4b29d4d778e264e15e0130998",
       "version_major": 2,
       "version_minor": 0
      },
      "text/plain": [
       "  0%|          | 0/200 [00:00<?, ?it/s]"
      ]
     },
     "metadata": {},
     "output_type": "display_data"
    }
   ],
   "source": [
    "cos_sim_dict={}\n",
    "for year in trange(2015, 2024, desc='years'):\n",
    "    s_year=str(year)\n",
    "    cos_sim_dict[year]={}\n",
    "    energy_co_s=list(text_dict['Energy'][s_year].keys())\n",
    "    # inside energy\n",
    "    energy_cos_sims=np.zeros((len(energy_co_s), len(energy_co_s)))\n",
    "    energy_pvals=np.zeros((len(energy_co_s), len(energy_co_s)))\n",
    "    for i_e, energy_co_0 in enumerate(tqdm(energy_co_s, leave=False, desc='Energy '+s_year)):\n",
    "        text_0=text_dict['Energy'][s_year][energy_co_0]\n",
    "        for j_e in range(i_e+1, len(energy_co_s)):\n",
    "            energy_co_1=energy_co_s[j_e]\n",
    "            text_1=text_dict['Energy'][s_year][energy_co_1]\n",
    "            cacca=tesste(text_0, text_1, n_sample=200)\n",
    "            energy_cos_sims[i_e, j_e]=cacca.cos_sim\n",
    "            energy_pvals[i_e, j_e]=cacca.pval\n",
    "            \n",
    "    cos_sim_dict[year]['Energy']={}\n",
    "    cos_sim_dict[year]['Energy']['cos_sim']=energy_cos_sims\n",
    "    cos_sim_dict[year]['Energy']['pvals']=energy_pvals\n",
    "    \n",
    "    utilities_co_s=list(text_dict['Utilities'][s_year].keys())\n",
    "    utilities_cos_sims=np.zeros((len(utilities_co_s), len(utilities_co_s)))\n",
    "    utilities_pvals=np.zeros((len(utilities_co_s), len(utilities_co_s)))\n",
    "    # inside utilities\n",
    "    for i_e, utilities_co_0 in enumerate(tqdm(utilities_co_s, leave=False, desc='Utilities '+s_year)):\n",
    "        text_0=text_dict['Utilities'][s_year][utilities_co_0]\n",
    "        for j_e in range(i_e+1, len(utilities_co_s)):\n",
    "            utilities_co_1=utilities_co_s[j_e]\n",
    "            text_1=text_dict['Utilities'][s_year][utilities_co_1]\n",
    "            cacca=tesste(text_0, text_1, n_sample=200)\n",
    "            utilities_cos_sims[i_e, j_e]=cacca.cos_sim\n",
    "            utilities_pvals[i_e, j_e]=cacca.pval\n",
    "            \n",
    "    cos_sim_dict[year]['Utilities']={}\n",
    "    cos_sim_dict[year]['Utilities']['cos_sim']=utilities_cos_sims\n",
    "    cos_sim_dict[year]['Utilities']['pvals']=utilities_pvals\n"
   ]
  },
  {
   "cell_type": "code",
   "execution_count": 16,
   "id": "eab2d88b",
   "metadata": {
    "ExecuteTime": {
     "end_time": "2024-06-27T12:01:15.245396Z",
     "start_time": "2024-06-27T12:01:15.238529Z"
    },
    "hidden": true
   },
   "outputs": [
    {
     "name": "stdout",
     "output_type": "stream",
     "text": [
      "Done!\n"
     ]
    }
   ],
   "source": [
    "print('Done!')"
   ]
  },
  {
   "cell_type": "markdown",
   "id": "42354daa",
   "metadata": {
    "hidden": true
   },
   "source": [
    "### Something I forgot"
   ]
  },
  {
   "cell_type": "code",
   "execution_count": 17,
   "id": "457a1bfa",
   "metadata": {
    "ExecuteTime": {
     "end_time": "2024-06-27T12:01:46.613973Z",
     "start_time": "2024-06-27T12:01:46.605305Z"
    },
    "hidden": true
   },
   "outputs": [],
   "source": [
    "for year in range(2015, 2024):\n",
    "    s_year=str(year)\n",
    "    for field in ['Energy', 'Utilities']:\n",
    "        firms=list(text_dict[field][s_year].keys())\n",
    "        cos_sim_dict[year][field]['companies']=firms"
   ]
  },
  {
   "cell_type": "code",
   "execution_count": 18,
   "id": "89b5fec7",
   "metadata": {
    "ExecuteTime": {
     "end_time": "2024-06-27T12:01:48.387339Z",
     "start_time": "2024-06-27T12:01:48.380251Z"
    },
    "hidden": true
   },
   "outputs": [],
   "source": [
    "with open ('./data/energy_utilities_cos_sim_mats.pickle', 'wb') as f:\n",
    "    pickle.dump(cos_sim_dict, f)"
   ]
  },
  {
   "cell_type": "markdown",
   "id": "039c40f4",
   "metadata": {},
   "source": [
    "## Cosine similarity analysis"
   ]
  },
  {
   "cell_type": "code",
   "execution_count": 9,
   "id": "d4d932fb",
   "metadata": {
    "ExecuteTime": {
     "end_time": "2024-06-27T14:10:51.734518Z",
     "start_time": "2024-06-27T14:10:51.727194Z"
    }
   },
   "outputs": [],
   "source": [
    "with open ('./data/energy_utilities_cos_sim_mats.pickle', 'rb') as f:\n",
    "    cos_sim_dict=pickle.load(f)"
   ]
  },
  {
   "cell_type": "code",
   "execution_count": 10,
   "id": "09fd77ee",
   "metadata": {
    "ExecuteTime": {
     "end_time": "2024-06-27T14:10:52.198243Z",
     "start_time": "2024-06-27T14:10:52.192467Z"
    }
   },
   "outputs": [],
   "source": [
    "years=list(range(2015, 2024))"
   ]
  },
  {
   "cell_type": "markdown",
   "id": "003a3617",
   "metadata": {},
   "source": [
    "### Statistical validation"
   ]
  },
  {
   "cell_type": "code",
   "execution_count": 11,
   "id": "0d1ec92a",
   "metadata": {
    "ExecuteTime": {
     "end_time": "2024-06-27T14:10:53.123471Z",
     "start_time": "2024-06-27T14:10:53.118448Z"
    }
   },
   "outputs": [],
   "source": [
    "# actually, it shouldn't be done, but I saw that relaxing from alpha=0.01 to alpha=0.05,\n",
    "# I get more validated entries...\n",
    "alpha=.05"
   ]
  },
  {
   "cell_type": "code",
   "execution_count": 12,
   "id": "e5e05dd0",
   "metadata": {
    "ExecuteTime": {
     "end_time": "2024-06-27T14:10:53.557194Z",
     "start_time": "2024-06-27T14:10:53.537133Z"
    }
   },
   "outputs": [
    {
     "name": "stdout",
     "output_type": "stream",
     "text": [
      "2019 Utilities\n",
      "---------------------\n",
      "('02_SSE_PLC', '05_CENTRICA_PLC') 0.8133289217948914\n",
      "('02_SSE_PLC', '08_RENEWI_PLC') 0.8001610636711121\n",
      "('05_CENTRICA_PLC', '08_RENEWI_PLC') 0.7937230467796326\n",
      "('05_CENTRICA_PLC', '10_GOOD_ENERGY_GROUP_PLC') 0.8450196981430054\n"
     ]
    }
   ],
   "source": [
    "for year in years:\n",
    "    for field in ['Energy', 'Utilities']:\n",
    "        pvals=cos_sim_dict[year][field]['pvals']\n",
    "        cos_sim=cos_sim_dict[year][field]['cos_sim']\n",
    "        firms=cos_sim_dict[year][field]['companies']\n",
    "        if len(firms)>1:\n",
    "            # get the number of tests\n",
    "            n_tests=len(firms)*(len(firms)-1)/2\n",
    "            # calculate effective alpha according to Bonferroni\n",
    "            alpha_bonf=alpha/n_tests\n",
    "            # get the effective alpha according to fdr\n",
    "            pvals_vec=np.sort(pvals[pvals>0])\n",
    "            fdr_vec=(1+np.arange(len(pvals_vec)))*alpha_bonf\n",
    "            alpha_fdrs=fdr_vec[pvals_vec<=fdr_vec]\n",
    "            if len(alpha_fdrs)>0:\n",
    "                alpha_fdr=alpha_fdrs[-1]\n",
    "                # where are the validated entries?\n",
    "                where_vals=np.where(np.logical_and(pvals<=alpha_fdr, pvals>0))\n",
    "                val_couples=[]\n",
    "                for i in range(len(where_vals[0])):\n",
    "                    val_couples.append((firms[where_vals[0][i]],firms[where_vals[1][i]]))\n",
    "                # return values\n",
    "                print(year, field)\n",
    "                print('---------------------')\n",
    "                for i, val_couple in enumerate(val_couples):\n",
    "                    print(val_couple, cos_sim[where_vals[0][i], where_vals[1][i]])"
   ]
  },
  {
   "cell_type": "markdown",
   "id": "7de92be8",
   "metadata": {},
   "source": [
    "Quite bizarre that only on a single year (btw, before the COVID, i.e. before when I would have expected to see some excess in the cosine similarity) there is such a diffuse similarity. Moreover, CENTRICA is (ehm...) the most central, since it is significantly similar to all others."
   ]
  },
  {
   "cell_type": "code",
   "execution_count": 13,
   "id": "203d458b",
   "metadata": {
    "ExecuteTime": {
     "end_time": "2024-06-27T14:11:01.485698Z",
     "start_time": "2024-06-27T14:11:01.479075Z"
    }
   },
   "outputs": [],
   "source": [
    "validated_cos_sim=(2019, 'Utilities', val_couples)"
   ]
  },
  {
   "cell_type": "markdown",
   "id": "2a436ecd",
   "metadata": {},
   "source": [
    "### Graph representation"
   ]
  },
  {
   "cell_type": "code",
   "execution_count": 14,
   "id": "1525b729",
   "metadata": {
    "ExecuteTime": {
     "end_time": "2024-06-27T14:11:02.304429Z",
     "start_time": "2024-06-27T14:11:02.295176Z"
    }
   },
   "outputs": [],
   "source": [
    "vertices=[]\n",
    "weights=[]\n",
    "for i, val_couple in enumerate(val_couples):\n",
    "    for who in val_couple:\n",
    "        if who not in vertices:\n",
    "            vertices.append(who)\n",
    "    weight=cos_sim_dict[2019]['Utilities']['cos_sim'][where_vals[0][i], where_vals[1][i]]\n",
    "    weights.append(weight)"
   ]
  },
  {
   "cell_type": "code",
   "execution_count": 15,
   "id": "998fe15a",
   "metadata": {
    "ExecuteTime": {
     "end_time": "2024-06-27T14:11:02.717002Z",
     "start_time": "2024-06-27T14:11:02.702870Z"
    }
   },
   "outputs": [
    {
     "data": {
      "text/plain": [
       "['02_SSE_PLC', '05_CENTRICA_PLC', '08_RENEWI_PLC', '10_GOOD_ENERGY_GROUP_PLC']"
      ]
     },
     "execution_count": 15,
     "metadata": {},
     "output_type": "execute_result"
    }
   ],
   "source": [
    "vertices"
   ]
  },
  {
   "cell_type": "code",
   "execution_count": 16,
   "id": "a5ba521b",
   "metadata": {
    "ExecuteTime": {
     "end_time": "2024-06-27T14:11:03.232741Z",
     "start_time": "2024-06-27T14:11:03.223858Z"
    }
   },
   "outputs": [
    {
     "data": {
      "text/plain": [
       "[0.8133289217948914,\n",
       " 0.8001610636711121,\n",
       " 0.7937230467796326,\n",
       " 0.8450196981430054]"
      ]
     },
     "execution_count": 16,
     "metadata": {},
     "output_type": "execute_result"
    }
   ],
   "source": [
    "weights"
   ]
  },
  {
   "cell_type": "code",
   "execution_count": 17,
   "id": "e0bf0265",
   "metadata": {
    "ExecuteTime": {
     "end_time": "2024-06-27T14:11:03.678395Z",
     "start_time": "2024-06-27T14:11:03.671251Z"
    }
   },
   "outputs": [],
   "source": [
    "val_cos_sim_g=igraph.Graph()\n",
    "val_cos_sim_g.add_vertices(vertices)\n",
    "val_cos_sim_g.add_edges(val_couples)"
   ]
  },
  {
   "cell_type": "code",
   "execution_count": 18,
   "id": "e004c7d1",
   "metadata": {
    "ExecuteTime": {
     "end_time": "2024-06-27T14:11:04.200920Z",
     "start_time": "2024-06-27T14:11:04.191751Z"
    }
   },
   "outputs": [
    {
     "data": {
      "text/plain": [
       "(4, 4)"
      ]
     },
     "execution_count": 18,
     "metadata": {},
     "output_type": "execute_result"
    }
   ],
   "source": [
    "val_cos_sim_g.vcount(), val_cos_sim_g.ecount()"
   ]
  },
  {
   "cell_type": "code",
   "execution_count": 19,
   "id": "83b87dfe",
   "metadata": {
    "ExecuteTime": {
     "end_time": "2024-06-27T14:11:04.581146Z",
     "start_time": "2024-06-27T14:11:04.576439Z"
    }
   },
   "outputs": [],
   "source": [
    "val_cos_sim_g.es['weight']=weights"
   ]
  },
  {
   "cell_type": "code",
   "execution_count": 20,
   "id": "b98d8511",
   "metadata": {
    "ExecuteTime": {
     "end_time": "2024-06-27T14:11:04.984955Z",
     "start_time": "2024-06-27T14:11:04.975781Z"
    }
   },
   "outputs": [
    {
     "data": {
      "text/plain": [
       "'IGRAPH UNW- 4 4 -- \\n+ attr: name (v), weight (e)'"
      ]
     },
     "execution_count": 20,
     "metadata": {},
     "output_type": "execute_result"
    }
   ],
   "source": [
    "val_cos_sim_g.summary()"
   ]
  },
  {
   "cell_type": "code",
   "execution_count": 33,
   "id": "21d4e1ff",
   "metadata": {
    "ExecuteTime": {
     "end_time": "2024-06-27T14:17:24.181834Z",
     "start_time": "2024-06-27T14:17:24.174422Z"
    }
   },
   "outputs": [],
   "source": [
    "val_cos_sim_g.vs[\"label\"]=['SSE PLC', 'Centrica PLC', 'Renewi PLC', 'Good Energy Group PLC']"
   ]
  },
  {
   "cell_type": "code",
   "execution_count": 60,
   "id": "31ed731b",
   "metadata": {
    "ExecuteTime": {
     "end_time": "2024-06-27T14:24:39.000002Z",
     "start_time": "2024-06-27T14:24:38.989724Z"
    }
   },
   "outputs": [],
   "source": [
    "visual_style = {}\n",
    "visual_style[\"vertex_size\"] = 20\n",
    "visual_style[\"vertex_label\"] = val_cos_sim_g.vs[\"label\"]\n",
    "visual_style[\"vertex_label_dist\"] = 1.5\n",
    "visual_style[\"vertex_label_angle\"] = [0, np.pi, np.pi/2, np.pi]\n",
    "visual_style[\"edge_label\"] = ['{:.3f}'.format(weight) for weight in val_cos_sim_g.es[\"weight\"]]\n",
    "visual_style[\"bbox\"] =(300,300)\n",
    "visual_style[\"margin\"]=40"
   ]
  },
  {
   "cell_type": "code",
   "execution_count": 63,
   "id": "773675b3",
   "metadata": {
    "ExecuteTime": {
     "end_time": "2024-06-27T14:25:39.190697Z",
     "start_time": "2024-06-27T14:25:39.068002Z"
    }
   },
   "outputs": [
    {
     "ename": "OSError",
     "evalue": "[Errno cairo returned CAIRO_STATUS_WRITE_ERROR: b'error while writing to output stream'] 11",
     "output_type": "error",
     "traceback": [
      "\u001b[0;31m---------------------------------------------------------------------------\u001b[0m",
      "\u001b[0;31mOSError\u001b[0m                                   Traceback (most recent call last)",
      "Cell \u001b[0;32mIn[63], line 1\u001b[0m\n\u001b[0;32m----> 1\u001b[0m \u001b[43migraph\u001b[49m\u001b[38;5;241;43m.\u001b[39;49m\u001b[43mplot\u001b[49m\u001b[43m(\u001b[49m\u001b[43mval_cos_sim_g\u001b[49m\u001b[43m,\u001b[49m\u001b[43m \u001b[49m\u001b[38;5;124;43m'\u001b[39;49m\u001b[38;5;124;43m./Plots/Sbert_entire_val_graph.png\u001b[39;49m\u001b[38;5;124;43m'\u001b[39;49m\u001b[43m,\u001b[49m\u001b[43m \u001b[49m\u001b[38;5;241;43m*\u001b[39;49m\u001b[38;5;241;43m*\u001b[39;49m\u001b[43mvisual_style\u001b[49m\u001b[43m)\u001b[49m\n",
      "File \u001b[0;32m~/sdgs_py38/lib/python3.8/site-packages/igraph/drawing/__init__.py:319\u001b[0m, in \u001b[0;36mplot\u001b[0;34m(obj, target, bbox, *args, **kwds)\u001b[0m\n\u001b[1;32m    314\u001b[0m \u001b[38;5;66;03m# We are either not in IPython or the user specified an explicit plot target,\u001b[39;00m\n\u001b[1;32m    315\u001b[0m \u001b[38;5;66;03m# so just show or save the result\u001b[39;00m\n\u001b[1;32m    317\u001b[0m \u001b[38;5;28;01mif\u001b[39;00m \u001b[38;5;28misinstance\u001b[39m(target, (\u001b[38;5;28mstr\u001b[39m, Path)):\n\u001b[1;32m    318\u001b[0m     \u001b[38;5;66;03m# save\u001b[39;00m\n\u001b[0;32m--> 319\u001b[0m     \u001b[43mresult\u001b[49m\u001b[38;5;241;43m.\u001b[39;49m\u001b[43msave\u001b[49m\u001b[43m(\u001b[49m\u001b[43m)\u001b[49m\n\u001b[1;32m    321\u001b[0m \u001b[38;5;66;03m# Also return the plot itself\u001b[39;00m\n\u001b[1;32m    322\u001b[0m \u001b[38;5;28;01mreturn\u001b[39;00m result\n",
      "File \u001b[0;32m~/sdgs_py38/lib/python3.8/site-packages/igraph/drawing/cairo/plot.py:319\u001b[0m, in \u001b[0;36mCairoPlot.save\u001b[0;34m(self, fname)\u001b[0m\n\u001b[1;32m    315\u001b[0m         \u001b[38;5;28;01mraise\u001b[39;00m \u001b[38;5;167;01mValueError\u001b[39;00m(\u001b[38;5;124m\"\u001b[39m\u001b[38;5;124mno file name is known for the surface and none given\u001b[39m\u001b[38;5;124m\"\u001b[39m)\n\u001b[1;32m    317\u001b[0m     \u001b[38;5;66;03m# Conversion to string is needed because the user might pass a Path\u001b[39;00m\n\u001b[1;32m    318\u001b[0m     \u001b[38;5;66;03m# object and cairocffi expects a string\u001b[39;00m\n\u001b[0;32m--> 319\u001b[0m     \u001b[38;5;28;01mreturn\u001b[39;00m \u001b[38;5;28;43mself\u001b[39;49m\u001b[38;5;241;43m.\u001b[39;49m\u001b[43m_surface\u001b[49m\u001b[38;5;241;43m.\u001b[39;49m\u001b[43mwrite_to_png\u001b[49m\u001b[43m(\u001b[49m\u001b[38;5;28;43mstr\u001b[39;49m\u001b[43m(\u001b[49m\u001b[43mfname\u001b[49m\u001b[43m)\u001b[49m\u001b[43m)\u001b[49m\n\u001b[1;32m    321\u001b[0m \u001b[38;5;28;01mif\u001b[39;00m fname \u001b[38;5;129;01mis\u001b[39;00m \u001b[38;5;129;01mnot\u001b[39;00m \u001b[38;5;28;01mNone\u001b[39;00m:\n\u001b[1;32m    322\u001b[0m     warn(\n\u001b[1;32m    323\u001b[0m         \u001b[38;5;124m\"\u001b[39m\u001b[38;5;124mfilename is ignored for surfaces other than ImageSurface\u001b[39m\u001b[38;5;124m\"\u001b[39m, stacklevel\u001b[38;5;241m=\u001b[39m\u001b[38;5;241m1\u001b[39m\n\u001b[1;32m    324\u001b[0m     )\n",
      "File \u001b[0;32m~/sdgs_py38/lib/python3.8/site-packages/cairocffi/surfaces.py:674\u001b[0m, in \u001b[0;36mSurface.write_to_png\u001b[0;34m(self, target)\u001b[0m\n\u001b[1;32m    672\u001b[0m             png_file\u001b[38;5;241m.\u001b[39munlink()\n\u001b[1;32m    673\u001b[0m \u001b[38;5;28;01melse\u001b[39;00m:\n\u001b[0;32m--> 674\u001b[0m     \u001b[43m_check_status\u001b[49m\u001b[43m(\u001b[49m\u001b[43mcairo\u001b[49m\u001b[38;5;241;43m.\u001b[39;49m\u001b[43mcairo_surface_write_to_png\u001b[49m\u001b[43m(\u001b[49m\n\u001b[1;32m    675\u001b[0m \u001b[43m        \u001b[49m\u001b[38;5;28;43mself\u001b[39;49m\u001b[38;5;241;43m.\u001b[39;49m\u001b[43m_pointer\u001b[49m\u001b[43m,\u001b[49m\u001b[43m \u001b[49m\u001b[43m_encode_filename\u001b[49m\u001b[43m(\u001b[49m\u001b[43mtarget\u001b[49m\u001b[43m)\u001b[49m\u001b[43m)\u001b[49m\u001b[43m)\u001b[49m\n\u001b[1;32m    676\u001b[0m \u001b[38;5;28;01mif\u001b[39;00m return_bytes:\n\u001b[1;32m    677\u001b[0m     \u001b[38;5;28;01mreturn\u001b[39;00m target\u001b[38;5;241m.\u001b[39mgetvalue()\n",
      "File \u001b[0;32m~/sdgs_py38/lib/python3.8/site-packages/cairocffi/__init__.py:100\u001b[0m, in \u001b[0;36m_check_status\u001b[0;34m(status)\u001b[0m\n\u001b[1;32m     97\u001b[0m status_name \u001b[38;5;241m=\u001b[39m ffi\u001b[38;5;241m.\u001b[39mstring(ffi\u001b[38;5;241m.\u001b[39mcast(\u001b[38;5;124m\"\u001b[39m\u001b[38;5;124mcairo_status_t\u001b[39m\u001b[38;5;124m\"\u001b[39m, status))\n\u001b[1;32m     98\u001b[0m message \u001b[38;5;241m=\u001b[39m \u001b[38;5;124m'\u001b[39m\u001b[38;5;124mcairo returned \u001b[39m\u001b[38;5;132;01m%s\u001b[39;00m\u001b[38;5;124m: \u001b[39m\u001b[38;5;132;01m%s\u001b[39;00m\u001b[38;5;124m'\u001b[39m \u001b[38;5;241m%\u001b[39m (\n\u001b[1;32m     99\u001b[0m     status_name, ffi\u001b[38;5;241m.\u001b[39mstring(cairo\u001b[38;5;241m.\u001b[39mcairo_status_to_string(status)))\n\u001b[0;32m--> 100\u001b[0m \u001b[38;5;28;01mraise\u001b[39;00m exception(message, status)\n",
      "\u001b[0;31mOSError\u001b[0m: [Errno cairo returned CAIRO_STATUS_WRITE_ERROR: b'error while writing to output stream'] 11"
     ]
    }
   ],
   "source": [
    "igraph.plot(val_cos_sim_g, './Plots/Sbert_entire_val_graph.png', **visual_style)"
   ]
  },
  {
   "cell_type": "markdown",
   "id": "b018366e",
   "metadata": {},
   "source": [
    "### SDGs superposition"
   ]
  },
  {
   "cell_type": "code",
   "execution_count": 26,
   "id": "fd1c07b9",
   "metadata": {
    "ExecuteTime": {
     "end_time": "2024-06-27T12:02:15.409854Z",
     "start_time": "2024-06-27T12:02:15.403679Z"
    }
   },
   "outputs": [],
   "source": [
    "with open ('./data/energy_utilities_cos_sim_mats.pickle', 'rb') as f:\n",
    "    cos_sim_dict=pickle.load(f)"
   ]
  },
  {
   "cell_type": "code",
   "execution_count": 27,
   "id": "9c606555",
   "metadata": {
    "ExecuteTime": {
     "end_time": "2024-06-27T12:02:16.603339Z",
     "start_time": "2024-06-27T12:02:16.595422Z"
    }
   },
   "outputs": [],
   "source": [
    "with open ('./data/sdgs_dict.pickle', 'rb') as f:\n",
    "    sdgs_dict=pickle.load(f)"
   ]
  },
  {
   "cell_type": "code",
   "execution_count": 28,
   "id": "257cede6",
   "metadata": {
    "ExecuteTime": {
     "end_time": "2024-06-27T12:02:17.031669Z",
     "start_time": "2024-06-27T12:02:17.026540Z"
    }
   },
   "outputs": [],
   "source": [
    "v_year=validated_cos_sim[0]\n",
    "v_field=validated_cos_sim[1]"
   ]
  },
  {
   "cell_type": "code",
   "execution_count": 29,
   "id": "25f8f273",
   "metadata": {
    "ExecuteTime": {
     "end_time": "2024-06-27T12:02:17.463929Z",
     "start_time": "2024-06-27T12:02:17.458199Z"
    }
   },
   "outputs": [],
   "source": [
    "companies=list(sdgs_dict[v_year][v_field].keys())"
   ]
  },
  {
   "cell_type": "code",
   "execution_count": 30,
   "id": "c29b6270",
   "metadata": {
    "ExecuteTime": {
     "end_time": "2024-06-27T12:02:18.038080Z",
     "start_time": "2024-06-27T12:02:18.027742Z"
    }
   },
   "outputs": [],
   "source": [
    "sdg_superpos=np.zeros((len(companies),len(companies)))\n",
    "for i_c, company_0 in enumerate(companies):\n",
    "    sdgs_i_c=list(sdgs_dict[v_year][v_field][company_0].keys())\n",
    "    for j_c, company_1 in enumerate(companies):\n",
    "        if i_c!=j_c:\n",
    "            sdgs_j_c=list(sdgs_dict[v_year][v_field][company_1].keys())\n",
    "            sdg_superpos[i_c, j_c]=len([sdg for sdg in sdgs_i_c if sdg in sdgs_j_c])/len(sdgs_i_c)"
   ]
  },
  {
   "cell_type": "code",
   "execution_count": 31,
   "id": "59bba080",
   "metadata": {
    "ExecuteTime": {
     "end_time": "2024-06-27T12:02:18.686485Z",
     "start_time": "2024-06-27T12:02:18.676448Z"
    }
   },
   "outputs": [
    {
     "data": {
      "text/plain": [
       "array([[0.        , 0.66666667, 0.46666667, 0.73333333],\n",
       "       [1.        , 0.        , 0.4       , 0.8       ],\n",
       "       [0.875     , 0.5       , 0.        , 0.75      ],\n",
       "       [1.        , 0.72727273, 0.54545455, 0.        ]])"
      ]
     },
     "execution_count": 31,
     "metadata": {},
     "output_type": "execute_result"
    }
   ],
   "source": [
    "sdg_superpos"
   ]
  },
  {
   "cell_type": "markdown",
   "id": "64764bf5",
   "metadata": {},
   "source": [
    "Not such a huge similarity. Where does the similarity come from? **To-Do**: manually read the reports."
   ]
  },
  {
   "cell_type": "markdown",
   "id": "1737f3bc",
   "metadata": {},
   "source": [
    "# Semantic analysis per SDG"
   ]
  },
  {
   "cell_type": "markdown",
   "id": "872c6445",
   "metadata": {},
   "source": [
    "## Load data"
   ]
  },
  {
   "cell_type": "code",
   "execution_count": 32,
   "id": "b3de1d4f",
   "metadata": {
    "ExecuteTime": {
     "end_time": "2024-06-27T12:02:38.660351Z",
     "start_time": "2024-06-27T12:02:38.652741Z"
    }
   },
   "outputs": [],
   "source": [
    "with open ('./data/sdgs_dict.pickle', 'rb') as f:\n",
    "    sdgs_dict=pickle.load(f)"
   ]
  },
  {
   "cell_type": "code",
   "execution_count": 33,
   "id": "06759d95",
   "metadata": {
    "ExecuteTime": {
     "end_time": "2024-06-27T12:02:38.854230Z",
     "start_time": "2024-06-27T12:02:38.848886Z"
    }
   },
   "outputs": [],
   "source": [
    "years=list(range(2015, 2024))"
   ]
  },
  {
   "cell_type": "code",
   "execution_count": 34,
   "id": "99178769",
   "metadata": {
    "ExecuteTime": {
     "end_time": "2024-06-27T12:02:39.047665Z",
     "start_time": "2024-06-27T12:02:39.042607Z"
    }
   },
   "outputs": [],
   "source": [
    "fields=['Energy', 'Utilities']"
   ]
  },
  {
   "cell_type": "markdown",
   "id": "96d642ae",
   "metadata": {},
   "source": [
    "## Check on theoretical p-values"
   ]
  },
  {
   "cell_type": "code",
   "execution_count": 35,
   "id": "2052e8ea",
   "metadata": {
    "ExecuteTime": {
     "end_time": "2024-06-27T12:02:39.687246Z",
     "start_time": "2024-06-27T12:02:39.674653Z"
    }
   },
   "outputs": [],
   "source": [
    "with open('./data/csps_dict.pickle', 'rb') as f:\n",
    "        csps_dict=pickle.load(f)"
   ]
  },
  {
   "cell_type": "code",
   "execution_count": 36,
   "id": "4a9f86c6",
   "metadata": {
    "ExecuteTime": {
     "end_time": "2024-06-27T12:02:39.994615Z",
     "start_time": "2024-06-27T12:02:39.986150Z"
    }
   },
   "outputs": [
    {
     "data": {
      "text/plain": [
       "dict_keys([2015, 2016, 2017, 2018, 2019, 2020, 2021, 2022, 2023])"
      ]
     },
     "execution_count": 36,
     "metadata": {},
     "output_type": "execute_result"
    }
   ],
   "source": [
    "csps_dict.keys()"
   ]
  },
  {
   "cell_type": "code",
   "execution_count": 37,
   "id": "b2550836",
   "metadata": {
    "ExecuteTime": {
     "end_time": "2024-06-27T12:02:40.376907Z",
     "start_time": "2024-06-27T12:02:40.361725Z"
    }
   },
   "outputs": [],
   "source": [
    "theo_pvs={}\n",
    "sam_pvs={}\n",
    "for year in csps_dict.keys():\n",
    "    theo_pvs[year]={}\n",
    "    sam_pvs[year]={}\n",
    "    for sector in csps_dict[year].keys():\n",
    "        theo_pvs[year][sector]=[]\n",
    "        sam_pvs[year][sector]=[]\n",
    "        for key in csps_dict[year][sector].keys():\n",
    "            if key!='firms':\n",
    "                for p_val in csps_dict[year][sector][key]['theo_pvals']:\n",
    "                    theo_pvs[year][sector].append(p_val)\n",
    "                for p_val in csps_dict[year][sector][key]['sam_pvals']:\n",
    "                    sam_pvs[year][sector].append(p_val)"
   ]
  },
  {
   "cell_type": "code",
   "execution_count": 38,
   "id": "55fe35b9",
   "metadata": {
    "ExecuteTime": {
     "end_time": "2024-06-27T12:02:42.362420Z",
     "start_time": "2024-06-27T12:02:40.987129Z"
    }
   },
   "outputs": [
    {
     "data": {
      "image/png": "[encoded data removed]",
      "text/plain": [
       "<Figure size 640x480 with 1 Axes>"
      ]
     },
     "metadata": {},
     "output_type": "display_data"
    }
   ],
   "source": [
    "for year in csps_dict.keys():\n",
    "    for sector in csps_dict[year].keys():\n",
    "        plt.scatter(theo_pvs[year][sector], sam_pvs[year][sector], label=sector+', '+str(year))\n",
    "plt.plot([0,1], [0, 1], ls='--', c='black')\n",
    "plt.xlabel('Theoretical distribution p-value', fontsize=14)\n",
    "plt.ylabel('Empirical distribution p-value\\n N(sample)=200', fontsize=14)\n",
    "plt.legend()\n",
    "plt.show()"
   ]
  },
  {
   "cell_type": "markdown",
   "id": "4ba24e9a",
   "metadata": {},
   "source": [
    "Almost good..."
   ]
  },
  {
   "cell_type": "markdown",
   "id": "4a2e322d",
   "metadata": {},
   "source": [
    "## Validation"
   ]
  },
  {
   "cell_type": "code",
   "execution_count": 39,
   "id": "b2d3332a",
   "metadata": {
    "ExecuteTime": {
     "end_time": "2024-06-27T12:02:56.482156Z",
     "start_time": "2024-06-27T12:02:56.476143Z"
    }
   },
   "outputs": [],
   "source": [
    "alpha=0.05"
   ]
  },
  {
   "cell_type": "code",
   "execution_count": 42,
   "id": "257b344e",
   "metadata": {
    "ExecuteTime": {
     "end_time": "2024-06-27T12:03:03.318362Z",
     "start_time": "2024-06-27T12:03:03.287136Z"
    }
   },
   "outputs": [
    {
     "name": "stdout",
     "output_type": "stream",
     "text": [
      "Energy 2015 SDG 4: Quality Education 0.02\n",
      "[['01_shell' '02_BP']] [0.46866873]\n",
      "------------------------\n",
      "Utilities 2019 SDG 15: Life on Land 0.015\n",
      "[['02_SSE_PLC' '10_GOOD_ENERGY_GROUP_PLC']] [0.52075732]\n",
      "------------------------\n",
      "Energy 2020 SDG 3: Good Health and Well-being 0.01\n",
      "[['04_energeans' '07_SERICA_ENERGY_PLC']\n",
      " ['04_energeans' '10_DIVERSIFIED_ENERGY_COMPANY_PLC']\n",
      " ['07_SERICA_ENERGY_PLC' '10_DIVERSIFIED_ENERGY_COMPANY_PLC']] [0.67243159 0.62456167 0.87880749]\n",
      "------------------------\n",
      "Energy 2020 SDG 5: Gender Equality 0.005\n",
      "[['04_energeans' '07_SERICA_ENERGY_PLC']\n",
      " ['07_SERICA_ENERGY_PLC' '10_DIVERSIFIED_ENERGY_COMPANY_PLC']] [0.71372986 0.80089968]\n",
      "------------------------\n",
      "Energy 2020 SDG 10: Reduced Inequality 0.005\n",
      "[['07_SERICA_ENERGY_PLC' '10_DIVERSIFIED_ENERGY_COMPANY_PLC']] [0.88279593]\n",
      "------------------------\n",
      "Energy 2020 SDG 14: Life Below Water 0.005\n",
      "[['07_SERICA_ENERGY_PLC' '10_DIVERSIFIED_ENERGY_COMPANY_PLC']] [0.6896764]\n",
      "------------------------\n",
      "Energy 2021 SDG 6: Clean Water and Sanitation 0.005\n",
      "[['01_shell' '07_SERICA_ENERGY_PLC']\n",
      " ['03_Harbour_Energy_PLC' '07_SERICA_ENERGY_PLC']\n",
      " ['03_Harbour_Energy_PLC' '10_DIVERSIFIED_ENERGY_COMPANY_PLC']\n",
      " ['04_energeans' '07_SERICA_ENERGY_PLC']\n",
      " ['07_SERICA_ENERGY_PLC' '10_DIVERSIFIED_ENERGY_COMPANY_PLC']] [0.63027287 0.75700521 0.68774486 0.52473569 0.70131677]\n",
      "------------------------\n",
      "Energy 2021 SDG 14: Life Below Water 0.01\n",
      "[['03_Harbour_Energy_PLC' '07_SERICA_ENERGY_PLC']\n",
      " ['03_Harbour_Energy_PLC' '10_DIVERSIFIED_ENERGY_COMPANY_PLC']\n",
      " ['07_SERICA_ENERGY_PLC' '10_DIVERSIFIED_ENERGY_COMPANY_PLC']] [0.79153651 0.7623961  0.6896764 ]\n",
      "------------------------\n",
      "Utilities 2021 SDG 17: Partnerships for the Goals 0.005\n",
      "[['07_PENNON_GROUP_PLC' '08_RENEWI_PLC']] [0.84030288]\n",
      "------------------------\n",
      "Energy 2022 SDG 6: Clean Water and Sanitation 0.005\n",
      "[['01_shell' '07_SERICA_ENERGY_PLC']\n",
      " ['03_Harbour_Energy_PLC' '04_energeans']\n",
      " ['03_Harbour_Energy_PLC' '07_SERICA_ENERGY_PLC']\n",
      " ['03_Harbour_Energy_PLC' '10_DIVERSIFIED_ENERGY_COMPANY_PLC']\n",
      " ['04_energeans' '07_SERICA_ENERGY_PLC']\n",
      " ['04_energeans' '10_DIVERSIFIED_ENERGY_COMPANY_PLC']\n",
      " ['07_SERICA_ENERGY_PLC' '10_DIVERSIFIED_ENERGY_COMPANY_PLC']] [0.63027287 0.95906276 0.77116054 0.69453055 0.78297538 0.73259658\n",
      " 0.70131677]\n",
      "------------------------\n",
      "Energy 2022 SDG 14: Life Below Water 0.005\n",
      "[['03_Harbour_Energy_PLC' '07_SERICA_ENERGY_PLC']\n",
      " ['03_Harbour_Energy_PLC' '10_DIVERSIFIED_ENERGY_COMPANY_PLC']\n",
      " ['07_SERICA_ENERGY_PLC' '10_DIVERSIFIED_ENERGY_COMPANY_PLC']] [0.82551944 0.78797299 0.6896764 ]\n",
      "------------------------\n",
      "Energy 2023 SDG 5: Gender Equality 0.005\n",
      "[['07_SERICA_ENERGY_PLC' '08_ASHTEAD_TECHNOLOGY_HOLDINGS_PLC']\n",
      " ['07_SERICA_ENERGY_PLC' '10_DIVERSIFIED_ENERGY_COMPANY_PLC']\n",
      " ['08_ASHTEAD_TECHNOLOGY_HOLDINGS_PLC'\n",
      "  '10_DIVERSIFIED_ENERGY_COMPANY_PLC']] [0.78164208 0.78345245 0.97813714]\n",
      "------------------------\n",
      "Energy 2023 SDG 10: Reduced Inequality 0.005\n",
      "[['07_SERICA_ENERGY_PLC' '08_ASHTEAD_TECHNOLOGY_HOLDINGS_PLC']\n",
      " ['07_SERICA_ENERGY_PLC' '10_DIVERSIFIED_ENERGY_COMPANY_PLC']\n",
      " ['08_ASHTEAD_TECHNOLOGY_HOLDINGS_PLC'\n",
      "  '10_DIVERSIFIED_ENERGY_COMPANY_PLC']] [0.87402326 0.88279593 0.99506176]\n",
      "------------------------\n",
      "Energy 2023 SDG 14: Life Below Water 0.015\n",
      "[['07_SERICA_ENERGY_PLC' '08_ASHTEAD_TECHNOLOGY_HOLDINGS_PLC']\n",
      " ['07_SERICA_ENERGY_PLC' '10_DIVERSIFIED_ENERGY_COMPANY_PLC']\n",
      " ['08_ASHTEAD_TECHNOLOGY_HOLDINGS_PLC'\n",
      "  '10_DIVERSIFIED_ENERGY_COMPANY_PLC']] [0.67971712 0.6896764  0.97131258]\n",
      "------------------------\n",
      "Utilities 2023 SDG 4: Quality Education 0.005\n",
      "[['01_NATIONAL_GRID_PLC' '04_UNITED_UTILITIES_GROUP_PLC']] [0.43443504]\n",
      "------------------------\n"
     ]
    }
   ],
   "source": [
    "for year in csps_dict.keys():\n",
    "    for sector in csps_dict[year].keys():\n",
    "        for sdg in csps_dict[year][sector].keys():\n",
    "            if sdg=='firms':\n",
    "                _firms=csps_dict[year][sector]['firms']\n",
    "            else:\n",
    "                sams=csps_dict[year][sector][sdg]['sam_pvals']\n",
    "                a_eff=a_fdr(alpha, sams)\n",
    "                if a_eff>0:\n",
    "                    print(sector, year, sdg, a_eff)\n",
    "                    fdr_mask=np.array(sams)<=a_eff\n",
    "                    val_cos_sim=np.array(csps_dict[year][sector][sdg]['cos_sim'])[fdr_mask]\n",
    "                    validated_couples=np.array(csps_dict[year][sector][sdg]['firms'])[fdr_mask]\n",
    "                    print(validated_couples, val_cos_sim)\n",
    "                    print('------------------------')"
   ]
  },
  {
   "cell_type": "code",
   "execution_count": null,
   "id": "1bf149f0",
   "metadata": {
    "ExecuteTime": {
     "start_time": "2024-06-27T06:58:50.481Z"
    }
   },
   "outputs": [],
   "source": [
    "print(\"Check di cosa c'è\")"
   ]
  },
  {
   "cell_type": "code",
   "execution_count": null,
   "id": "98f75cd6",
   "metadata": {},
   "outputs": [],
   "source": []
  }
 ],
 "metadata": {
  "kernelspec": {
   "display_name": "Python 3 (ipykernel)",
   "language": "python",
   "name": "python3"
  },
  "language_info": {
   "codemirror_mode": {
    "name": "ipython",
    "version": 3
   },
   "file_extension": ".py",
   "mimetype": "text/x-python",
   "name": "python",
   "nbconvert_exporter": "python",
   "pygments_lexer": "ipython3",
   "version": "3.8.10"
  },
  "notify_time": "5",
  "toc": {
   "base_numbering": 1,
   "nav_menu": {},
   "number_sections": true,
   "sideBar": true,
   "skip_h1_title": false,
   "title_cell": "Table of Contents",
   "title_sidebar": "Contents",
   "toc_cell": false,
   "toc_position": {
    "height": "calc(100% - 180px)",
    "left": "10px",
    "top": "150px",
    "width": "288px"
   },
   "toc_section_display": true,
   "toc_window_display": true
  }
 },
 "nbformat": 4,
 "nbformat_minor": 5
}
