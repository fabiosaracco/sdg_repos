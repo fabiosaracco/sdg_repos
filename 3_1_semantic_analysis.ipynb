{
 "cells": [
  {
   "cell_type": "markdown",
   "id": "3371dcbe",
   "metadata": {},
   "source": [
    "# Intro"
   ]
  },
  {
   "cell_type": "markdown",
   "id": "a7d9b3a7",
   "metadata": {},
   "source": [
    "## Load"
   ]
  },
  {
   "cell_type": "markdown",
   "id": "e6ab2b57",
   "metadata": {},
   "source": [
    "### Standards"
   ]
  },
  {
   "cell_type": "code",
   "execution_count": 1,
   "id": "9a0ac917",
   "metadata": {
    "ExecuteTime": {
     "end_time": "2024-06-27T15:23:06.437606Z",
     "start_time": "2024-06-27T15:23:06.180662Z"
    }
   },
   "outputs": [],
   "source": [
    "import os, sys, pickle\n",
    "import numpy as np\n",
    "from tqdm.notebook import trange, tqdm\n",
    "import re"
   ]
  },
  {
   "cell_type": "code",
   "execution_count": 2,
   "id": "8b273171",
   "metadata": {
    "ExecuteTime": {
     "end_time": "2024-06-27T15:23:07.132517Z",
     "start_time": "2024-06-27T15:23:06.447649Z"
    }
   },
   "outputs": [],
   "source": [
    "import matplotlib.pyplot as plt\n",
    "plt.rcParams['axes.linewidth'] = 2\n",
    "plt.rcParams['xtick.major.size'] = 10\n",
    "plt.rcParams['xtick.major.width'] = 2\n",
    "plt.rcParams['ytick.major.size'] = 10\n",
    "plt.rcParams['ytick.major.width'] = 2\n",
    "\n",
    "plt.rcParams['xtick.labelsize'] = 14\n",
    "plt.rcParams['ytick.labelsize'] = 14\n",
    "\n",
    "plt.rcParams['xtick.minor.size'] = 5\n",
    "plt.rcParams['xtick.minor.width'] = 1\n",
    "plt.rcParams['ytick.minor.size'] = 5\n",
    "plt.rcParams['ytick.minor.width'] = 1\n"
   ]
  },
  {
   "cell_type": "code",
   "execution_count": 3,
   "id": "9b7c89f4",
   "metadata": {
    "ExecuteTime": {
     "end_time": "2024-06-27T15:23:07.160552Z",
     "start_time": "2024-06-27T15:23:07.137814Z"
    }
   },
   "outputs": [],
   "source": [
    "from multiprocess import Pool"
   ]
  },
  {
   "cell_type": "code",
   "execution_count": 4,
   "id": "efe9408a",
   "metadata": {
    "ExecuteTime": {
     "end_time": "2024-06-27T15:23:07.919743Z",
     "start_time": "2024-06-27T15:23:07.163369Z"
    }
   },
   "outputs": [],
   "source": [
    "import igraph"
   ]
  },
  {
   "cell_type": "markdown",
   "id": "a67bcf07",
   "metadata": {},
   "source": [
    "### Homemade modules"
   ]
  },
  {
   "cell_type": "code",
   "execution_count": 5,
   "id": "21843599",
   "metadata": {
    "ExecuteTime": {
     "end_time": "2024-06-27T15:23:11.711497Z",
     "start_time": "2024-06-27T15:23:07.924022Z"
    }
   },
   "outputs": [],
   "source": [
    "from tesste import tesste\n",
    "from ppp import ppp\n",
    "from readers_and_converters import file2text, text2dict, text2vec"
   ]
  },
  {
   "cell_type": "markdown",
   "id": "4b4fb0fc",
   "metadata": {},
   "source": [
    "## Stoopid infos"
   ]
  },
  {
   "cell_type": "code",
   "execution_count": 6,
   "id": "dea72ad6",
   "metadata": {
    "ExecuteTime": {
     "end_time": "2024-06-27T15:23:11.720681Z",
     "start_time": "2024-06-27T15:23:11.716252Z"
    }
   },
   "outputs": [],
   "source": [
    "L_SDGS=17"
   ]
  },
  {
   "cell_type": "markdown",
   "id": "dfb124b9",
   "metadata": {},
   "source": [
    "## Stoopid functions"
   ]
  },
  {
   "cell_type": "code",
   "execution_count": 7,
   "id": "937b1e93",
   "metadata": {
    "ExecuteTime": {
     "end_time": "2024-06-27T15:23:11.798203Z",
     "start_time": "2024-06-27T15:23:11.723373Z"
    }
   },
   "outputs": [],
   "source": [
    "def a_fdr(alpha, pval_vec):\n",
    "    ord_pvs=np.sort(pval_vec)\n",
    "    lopvs=len(ord_pvs)\n",
    "    if lopvs>0:\n",
    "        fdr_tests=ord_pvs[ord_pvs<=alpha/lopvs*(1+np.arange(lopvs))]\n",
    "        if len(fdr_tests)>0:\n",
    "            return fdr_tests[-1]\n",
    "        else:\n",
    "            return 0\n",
    "    return 0"
   ]
  },
  {
   "cell_type": "markdown",
   "id": "f52a4571",
   "metadata": {},
   "source": [
    "# Data"
   ]
  },
  {
   "cell_type": "code",
   "execution_count": 8,
   "id": "739f35c6",
   "metadata": {
    "ExecuteTime": {
     "end_time": "2024-06-27T15:23:11.882723Z",
     "start_time": "2024-06-27T15:23:11.801724Z"
    }
   },
   "outputs": [],
   "source": [
    "with open ('./data/energy_utilities_texts.pickle', 'rb') as f:\n",
    "    text_dict=pickle.load(f)"
   ]
  },
  {
   "cell_type": "markdown",
   "id": "f8970274",
   "metadata": {},
   "source": [
    "# Semantic analysis per report"
   ]
  },
  {
   "cell_type": "markdown",
   "id": "4726ad57",
   "metadata": {
    "heading_collapsed": true
   },
   "source": [
    "## Cosine similarity calculations"
   ]
  },
  {
   "cell_type": "code",
   "execution_count": null,
   "id": "e15844d4",
   "metadata": {
    "ExecuteTime": {
     "start_time": "2024-06-27T07:32:50.176Z"
    },
    "hidden": true
   },
   "outputs": [
    {
     "data": {
      "application/vnd.jupyter.widget-view+json": {
       "model_id": "bb53ac32c59d4a49a956777b33d9e3b1",
       "version_major": 2,
       "version_minor": 0
      },
      "text/plain": [
       "years:   0%|          | 0/9 [00:00<?, ?it/s]"
      ]
     },
     "metadata": {},
     "output_type": "display_data"
    },
    {
     "data": {
      "application/vnd.jupyter.widget-view+json": {
       "model_id": "",
       "version_major": 2,
       "version_minor": 0
      },
      "text/plain": [
       "Energy 2015:   0%|          | 0/2 [00:00<?, ?it/s]"
      ]
     },
     "metadata": {},
     "output_type": "display_data"
    },
    {
     "data": {
      "application/vnd.jupyter.widget-view+json": {
       "model_id": "",
       "version_major": 2,
       "version_minor": 0
      },
      "text/plain": [
       "  0%|          | 0/200 [00:00<?, ?it/s]"
      ]
     },
     "metadata": {},
     "output_type": "display_data"
    },
    {
     "name": "stderr",
     "output_type": "stream",
     "text": [
      "/home/sarawalk/sdgs_py38/lib/python3.8/site-packages/scipy/stats/_distn_infrastructure.py:2789: RuntimeWarning: invalid value encountered in scalar multiply\n",
      "  Lhat = muhat - Shat*mu\n"
     ]
    },
    {
     "data": {
      "application/vnd.jupyter.widget-view+json": {
       "model_id": "",
       "version_major": 2,
       "version_minor": 0
      },
      "text/plain": [
       "Utilities 2015:   0%|          | 0/1 [00:00<?, ?it/s]"
      ]
     },
     "metadata": {},
     "output_type": "display_data"
    },
    {
     "data": {
      "application/vnd.jupyter.widget-view+json": {
       "model_id": "",
       "version_major": 2,
       "version_minor": 0
      },
      "text/plain": [
       "Energy 2016:   0%|          | 0/2 [00:00<?, ?it/s]"
      ]
     },
     "metadata": {},
     "output_type": "display_data"
    },
    {
     "data": {
      "application/vnd.jupyter.widget-view+json": {
       "model_id": "",
       "version_major": 2,
       "version_minor": 0
      },
      "text/plain": [
       "  0%|          | 0/200 [00:00<?, ?it/s]"
      ]
     },
     "metadata": {},
     "output_type": "display_data"
    },
    {
     "data": {
      "application/vnd.jupyter.widget-view+json": {
       "model_id": "",
       "version_major": 2,
       "version_minor": 0
      },
      "text/plain": [
       "Utilities 2016:   0%|          | 0/2 [00:00<?, ?it/s]"
      ]
     },
     "metadata": {},
     "output_type": "display_data"
    },
    {
     "data": {
      "application/vnd.jupyter.widget-view+json": {
       "model_id": "",
       "version_major": 2,
       "version_minor": 0
      },
      "text/plain": [
       "  0%|          | 0/200 [00:00<?, ?it/s]"
      ]
     },
     "metadata": {},
     "output_type": "display_data"
    },
    {
     "data": {
      "application/vnd.jupyter.widget-view+json": {
       "model_id": "",
       "version_major": 2,
       "version_minor": 0
      },
      "text/plain": [
       "Energy 2017:   0%|          | 0/2 [00:00<?, ?it/s]"
      ]
     },
     "metadata": {},
     "output_type": "display_data"
    },
    {
     "data": {
      "application/vnd.jupyter.widget-view+json": {
       "model_id": "",
       "version_major": 2,
       "version_minor": 0
      },
      "text/plain": [
       "  0%|          | 0/200 [00:00<?, ?it/s]"
      ]
     },
     "metadata": {},
     "output_type": "display_data"
    },
    {
     "data": {
      "application/vnd.jupyter.widget-view+json": {
       "model_id": "",
       "version_major": 2,
       "version_minor": 0
      },
      "text/plain": [
       "Utilities 2017:   0%|          | 0/3 [00:00<?, ?it/s]"
      ]
     },
     "metadata": {},
     "output_type": "display_data"
    },
    {
     "data": {
      "application/vnd.jupyter.widget-view+json": {
       "model_id": "",
       "version_major": 2,
       "version_minor": 0
      },
      "text/plain": [
       "  0%|          | 0/200 [00:00<?, ?it/s]"
      ]
     },
     "metadata": {},
     "output_type": "display_data"
    },
    {
     "data": {
      "application/vnd.jupyter.widget-view+json": {
       "model_id": "",
       "version_major": 2,
       "version_minor": 0
      },
      "text/plain": [
       "  0%|          | 0/200 [00:00<?, ?it/s]"
      ]
     },
     "metadata": {},
     "output_type": "display_data"
    },
    {
     "data": {
      "application/vnd.jupyter.widget-view+json": {
       "model_id": "",
       "version_major": 2,
       "version_minor": 0
      },
      "text/plain": [
       "  0%|          | 0/200 [00:00<?, ?it/s]"
      ]
     },
     "metadata": {},
     "output_type": "display_data"
    },
    {
     "data": {
      "application/vnd.jupyter.widget-view+json": {
       "model_id": "",
       "version_major": 2,
       "version_minor": 0
      },
      "text/plain": [
       "Energy 2018:   0%|          | 0/3 [00:00<?, ?it/s]"
      ]
     },
     "metadata": {},
     "output_type": "display_data"
    },
    {
     "data": {
      "application/vnd.jupyter.widget-view+json": {
       "model_id": "",
       "version_major": 2,
       "version_minor": 0
      },
      "text/plain": [
       "  0%|          | 0/200 [00:00<?, ?it/s]"
      ]
     },
     "metadata": {},
     "output_type": "display_data"
    },
    {
     "data": {
      "application/vnd.jupyter.widget-view+json": {
       "model_id": "",
       "version_major": 2,
       "version_minor": 0
      },
      "text/plain": [
       "  0%|          | 0/200 [00:00<?, ?it/s]"
      ]
     },
     "metadata": {},
     "output_type": "display_data"
    },
    {
     "data": {
      "application/vnd.jupyter.widget-view+json": {
       "model_id": "",
       "version_major": 2,
       "version_minor": 0
      },
      "text/plain": [
       "  0%|          | 0/200 [00:00<?, ?it/s]"
      ]
     },
     "metadata": {},
     "output_type": "display_data"
    },
    {
     "data": {
      "application/vnd.jupyter.widget-view+json": {
       "model_id": "",
       "version_major": 2,
       "version_minor": 0
      },
      "text/plain": [
       "Utilities 2018:   0%|          | 0/4 [00:00<?, ?it/s]"
      ]
     },
     "metadata": {},
     "output_type": "display_data"
    },
    {
     "data": {
      "application/vnd.jupyter.widget-view+json": {
       "model_id": "",
       "version_major": 2,
       "version_minor": 0
      },
      "text/plain": [
       "  0%|          | 0/200 [00:00<?, ?it/s]"
      ]
     },
     "metadata": {},
     "output_type": "display_data"
    },
    {
     "data": {
      "application/vnd.jupyter.widget-view+json": {
       "model_id": "",
       "version_major": 2,
       "version_minor": 0
      },
      "text/plain": [
       "  0%|          | 0/200 [00:00<?, ?it/s]"
      ]
     },
     "metadata": {},
     "output_type": "display_data"
    },
    {
     "data": {
      "application/vnd.jupyter.widget-view+json": {
       "model_id": "",
       "version_major": 2,
       "version_minor": 0
      },
      "text/plain": [
       "  0%|          | 0/200 [00:00<?, ?it/s]"
      ]
     },
     "metadata": {},
     "output_type": "display_data"
    },
    {
     "data": {
      "application/vnd.jupyter.widget-view+json": {
       "model_id": "",
       "version_major": 2,
       "version_minor": 0
      },
      "text/plain": [
       "  0%|          | 0/200 [00:00<?, ?it/s]"
      ]
     },
     "metadata": {},
     "output_type": "display_data"
    },
    {
     "data": {
      "application/vnd.jupyter.widget-view+json": {
       "model_id": "",
       "version_major": 2,
       "version_minor": 0
      },
      "text/plain": [
       "  0%|          | 0/200 [00:00<?, ?it/s]"
      ]
     },
     "metadata": {},
     "output_type": "display_data"
    },
    {
     "data": {
      "application/vnd.jupyter.widget-view+json": {
       "model_id": "",
       "version_major": 2,
       "version_minor": 0
      },
      "text/plain": [
       "  0%|          | 0/200 [00:00<?, ?it/s]"
      ]
     },
     "metadata": {},
     "output_type": "display_data"
    },
    {
     "data": {
      "application/vnd.jupyter.widget-view+json": {
       "model_id": "",
       "version_major": 2,
       "version_minor": 0
      },
      "text/plain": [
       "Energy 2019:   0%|          | 0/6 [00:00<?, ?it/s]"
      ]
     },
     "metadata": {},
     "output_type": "display_data"
    },
    {
     "data": {
      "application/vnd.jupyter.widget-view+json": {
       "model_id": "",
       "version_major": 2,
       "version_minor": 0
      },
      "text/plain": [
       "  0%|          | 0/200 [00:00<?, ?it/s]"
      ]
     },
     "metadata": {},
     "output_type": "display_data"
    },
    {
     "data": {
      "application/vnd.jupyter.widget-view+json": {
       "model_id": "",
       "version_major": 2,
       "version_minor": 0
      },
      "text/plain": [
       "  0%|          | 0/200 [00:00<?, ?it/s]"
      ]
     },
     "metadata": {},
     "output_type": "display_data"
    },
    {
     "data": {
      "application/vnd.jupyter.widget-view+json": {
       "model_id": "",
       "version_major": 2,
       "version_minor": 0
      },
      "text/plain": [
       "  0%|          | 0/200 [00:00<?, ?it/s]"
      ]
     },
     "metadata": {},
     "output_type": "display_data"
    },
    {
     "data": {
      "application/vnd.jupyter.widget-view+json": {
       "model_id": "",
       "version_major": 2,
       "version_minor": 0
      },
      "text/plain": [
       "  0%|          | 0/200 [00:00<?, ?it/s]"
      ]
     },
     "metadata": {},
     "output_type": "display_data"
    },
    {
     "data": {
      "application/vnd.jupyter.widget-view+json": {
       "model_id": "",
       "version_major": 2,
       "version_minor": 0
      },
      "text/plain": [
       "  0%|          | 0/200 [00:00<?, ?it/s]"
      ]
     },
     "metadata": {},
     "output_type": "display_data"
    },
    {
     "data": {
      "application/vnd.jupyter.widget-view+json": {
       "model_id": "",
       "version_major": 2,
       "version_minor": 0
      },
      "text/plain": [
       "  0%|          | 0/200 [00:00<?, ?it/s]"
      ]
     },
     "metadata": {},
     "output_type": "display_data"
    },
    {
     "data": {
      "application/vnd.jupyter.widget-view+json": {
       "model_id": "",
       "version_major": 2,
       "version_minor": 0
      },
      "text/plain": [
       "  0%|          | 0/200 [00:00<?, ?it/s]"
      ]
     },
     "metadata": {},
     "output_type": "display_data"
    },
    {
     "data": {
      "application/vnd.jupyter.widget-view+json": {
       "model_id": "",
       "version_major": 2,
       "version_minor": 0
      },
      "text/plain": [
       "  0%|          | 0/200 [00:00<?, ?it/s]"
      ]
     },
     "metadata": {},
     "output_type": "display_data"
    },
    {
     "data": {
      "application/vnd.jupyter.widget-view+json": {
       "model_id": "",
       "version_major": 2,
       "version_minor": 0
      },
      "text/plain": [
       "  0%|          | 0/200 [00:00<?, ?it/s]"
      ]
     },
     "metadata": {},
     "output_type": "display_data"
    },
    {
     "data": {
      "application/vnd.jupyter.widget-view+json": {
       "model_id": "",
       "version_major": 2,
       "version_minor": 0
      },
      "text/plain": [
       "  0%|          | 0/200 [00:00<?, ?it/s]"
      ]
     },
     "metadata": {},
     "output_type": "display_data"
    },
    {
     "data": {
      "application/vnd.jupyter.widget-view+json": {
       "model_id": "",
       "version_major": 2,
       "version_minor": 0
      },
      "text/plain": [
       "  0%|          | 0/200 [00:00<?, ?it/s]"
      ]
     },
     "metadata": {},
     "output_type": "display_data"
    },
    {
     "data": {
      "application/vnd.jupyter.widget-view+json": {
       "model_id": "",
       "version_major": 2,
       "version_minor": 0
      },
      "text/plain": [
       "  0%|          | 0/200 [00:00<?, ?it/s]"
      ]
     },
     "metadata": {},
     "output_type": "display_data"
    },
    {
     "data": {
      "application/vnd.jupyter.widget-view+json": {
       "model_id": "",
       "version_major": 2,
       "version_minor": 0
      },
      "text/plain": [
       "  0%|          | 0/200 [00:00<?, ?it/s]"
      ]
     },
     "metadata": {},
     "output_type": "display_data"
    },
    {
     "data": {
      "application/vnd.jupyter.widget-view+json": {
       "model_id": "",
       "version_major": 2,
       "version_minor": 0
      },
      "text/plain": [
       "  0%|          | 0/200 [00:00<?, ?it/s]"
      ]
     },
     "metadata": {},
     "output_type": "display_data"
    },
    {
     "data": {
      "application/vnd.jupyter.widget-view+json": {
       "model_id": "",
       "version_major": 2,
       "version_minor": 0
      },
      "text/plain": [
       "  0%|          | 0/200 [00:00<?, ?it/s]"
      ]
     },
     "metadata": {},
     "output_type": "display_data"
    },
    {
     "data": {
      "application/vnd.jupyter.widget-view+json": {
       "model_id": "",
       "version_major": 2,
       "version_minor": 0
      },
      "text/plain": [
       "Utilities 2019:   0%|          | 0/4 [00:00<?, ?it/s]"
      ]
     },
     "metadata": {},
     "output_type": "display_data"
    },
    {
     "data": {
      "application/vnd.jupyter.widget-view+json": {
       "model_id": "",
       "version_major": 2,
       "version_minor": 0
      },
      "text/plain": [
       "  0%|          | 0/200 [00:00<?, ?it/s]"
      ]
     },
     "metadata": {},
     "output_type": "display_data"
    },
    {
     "data": {
      "application/vnd.jupyter.widget-view+json": {
       "model_id": "",
       "version_major": 2,
       "version_minor": 0
      },
      "text/plain": [
       "  0%|          | 0/200 [00:00<?, ?it/s]"
      ]
     },
     "metadata": {},
     "output_type": "display_data"
    },
    {
     "data": {
      "application/vnd.jupyter.widget-view+json": {
       "model_id": "",
       "version_major": 2,
       "version_minor": 0
      },
      "text/plain": [
       "  0%|          | 0/200 [00:00<?, ?it/s]"
      ]
     },
     "metadata": {},
     "output_type": "display_data"
    },
    {
     "data": {
      "application/vnd.jupyter.widget-view+json": {
       "model_id": "",
       "version_major": 2,
       "version_minor": 0
      },
      "text/plain": [
       "  0%|          | 0/200 [00:00<?, ?it/s]"
      ]
     },
     "metadata": {},
     "output_type": "display_data"
    },
    {
     "data": {
      "application/vnd.jupyter.widget-view+json": {
       "model_id": "",
       "version_major": 2,
       "version_minor": 0
      },
      "text/plain": [
       "  0%|          | 0/200 [00:00<?, ?it/s]"
      ]
     },
     "metadata": {},
     "output_type": "display_data"
    },
    {
     "data": {
      "application/vnd.jupyter.widget-view+json": {
       "model_id": "",
       "version_major": 2,
       "version_minor": 0
      },
      "text/plain": [
       "  0%|          | 0/200 [00:00<?, ?it/s]"
      ]
     },
     "metadata": {},
     "output_type": "display_data"
    },
    {
     "data": {
      "application/vnd.jupyter.widget-view+json": {
       "model_id": "5379c041b6964824acb0ee19f39192ea",
       "version_major": 2,
       "version_minor": 0
      },
      "text/plain": [
       "Energy 2020:   0%|          | 0/6 [00:00<?, ?it/s]"
      ]
     },
     "metadata": {},
     "output_type": "display_data"
    },
    {
     "data": {
      "application/vnd.jupyter.widget-view+json": {
       "model_id": "",
       "version_major": 2,
       "version_minor": 0
      },
      "text/plain": [
       "  0%|          | 0/200 [00:00<?, ?it/s]"
      ]
     },
     "metadata": {},
     "output_type": "display_data"
    },
    {
     "data": {
      "application/vnd.jupyter.widget-view+json": {
       "model_id": "",
       "version_major": 2,
       "version_minor": 0
      },
      "text/plain": [
       "  0%|          | 0/200 [00:00<?, ?it/s]"
      ]
     },
     "metadata": {},
     "output_type": "display_data"
    },
    {
     "data": {
      "application/vnd.jupyter.widget-view+json": {
       "model_id": "",
       "version_major": 2,
       "version_minor": 0
      },
      "text/plain": [
       "  0%|          | 0/200 [00:00<?, ?it/s]"
      ]
     },
     "metadata": {},
     "output_type": "display_data"
    },
    {
     "data": {
      "application/vnd.jupyter.widget-view+json": {
       "model_id": "",
       "version_major": 2,
       "version_minor": 0
      },
      "text/plain": [
       "  0%|          | 0/200 [00:00<?, ?it/s]"
      ]
     },
     "metadata": {},
     "output_type": "display_data"
    },
    {
     "data": {
      "application/vnd.jupyter.widget-view+json": {
       "model_id": "",
       "version_major": 2,
       "version_minor": 0
      },
      "text/plain": [
       "  0%|          | 0/200 [00:00<?, ?it/s]"
      ]
     },
     "metadata": {},
     "output_type": "display_data"
    },
    {
     "data": {
      "application/vnd.jupyter.widget-view+json": {
       "model_id": "",
       "version_major": 2,
       "version_minor": 0
      },
      "text/plain": [
       "  0%|          | 0/200 [00:00<?, ?it/s]"
      ]
     },
     "metadata": {},
     "output_type": "display_data"
    },
    {
     "data": {
      "application/vnd.jupyter.widget-view+json": {
       "model_id": "",
       "version_major": 2,
       "version_minor": 0
      },
      "text/plain": [
       "  0%|          | 0/200 [00:00<?, ?it/s]"
      ]
     },
     "metadata": {},
     "output_type": "display_data"
    },
    {
     "data": {
      "application/vnd.jupyter.widget-view+json": {
       "model_id": "",
       "version_major": 2,
       "version_minor": 0
      },
      "text/plain": [
       "  0%|          | 0/200 [00:00<?, ?it/s]"
      ]
     },
     "metadata": {},
     "output_type": "display_data"
    },
    {
     "data": {
      "application/vnd.jupyter.widget-view+json": {
       "model_id": "88958ab4b29d4d778e264e15e0130998",
       "version_major": 2,
       "version_minor": 0
      },
      "text/plain": [
       "  0%|          | 0/200 [00:00<?, ?it/s]"
      ]
     },
     "metadata": {},
     "output_type": "display_data"
    }
   ],
   "source": [
    "cos_sim_dict={}\n",
    "for year in trange(2015, 2024, desc='years'):\n",
    "    s_year=str(year)\n",
    "    cos_sim_dict[year]={}\n",
    "    energy_co_s=list(text_dict['Energy'][s_year].keys())\n",
    "    # inside energy\n",
    "    energy_cos_sims=np.zeros((len(energy_co_s), len(energy_co_s)))\n",
    "    energy_pvals=np.zeros((len(energy_co_s), len(energy_co_s)))\n",
    "    for i_e, energy_co_0 in enumerate(tqdm(energy_co_s, leave=False, desc='Energy '+s_year)):\n",
    "        text_0=text_dict['Energy'][s_year][energy_co_0]\n",
    "        for j_e in range(i_e+1, len(energy_co_s)):\n",
    "            energy_co_1=energy_co_s[j_e]\n",
    "            text_1=text_dict['Energy'][s_year][energy_co_1]\n",
    "            cacca=tesste(text_0, text_1, n_sample=200)\n",
    "            energy_cos_sims[i_e, j_e]=cacca.cos_sim\n",
    "            energy_pvals[i_e, j_e]=cacca.pval\n",
    "            \n",
    "    cos_sim_dict[year]['Energy']={}\n",
    "    cos_sim_dict[year]['Energy']['cos_sim']=energy_cos_sims\n",
    "    cos_sim_dict[year]['Energy']['pvals']=energy_pvals\n",
    "    \n",
    "    utilities_co_s=list(text_dict['Utilities'][s_year].keys())\n",
    "    utilities_cos_sims=np.zeros((len(utilities_co_s), len(utilities_co_s)))\n",
    "    utilities_pvals=np.zeros((len(utilities_co_s), len(utilities_co_s)))\n",
    "    # inside utilities\n",
    "    for i_e, utilities_co_0 in enumerate(tqdm(utilities_co_s, leave=False, desc='Utilities '+s_year)):\n",
    "        text_0=text_dict['Utilities'][s_year][utilities_co_0]\n",
    "        for j_e in range(i_e+1, len(utilities_co_s)):\n",
    "            utilities_co_1=utilities_co_s[j_e]\n",
    "            text_1=text_dict['Utilities'][s_year][utilities_co_1]\n",
    "            cacca=tesste(text_0, text_1, n_sample=200)\n",
    "            utilities_cos_sims[i_e, j_e]=cacca.cos_sim\n",
    "            utilities_pvals[i_e, j_e]=cacca.pval\n",
    "            \n",
    "    cos_sim_dict[year]['Utilities']={}\n",
    "    cos_sim_dict[year]['Utilities']['cos_sim']=utilities_cos_sims\n",
    "    cos_sim_dict[year]['Utilities']['pvals']=utilities_pvals\n"
   ]
  },
  {
   "cell_type": "code",
   "execution_count": 16,
   "id": "de9224fb",
   "metadata": {
    "ExecuteTime": {
     "end_time": "2024-06-27T12:01:15.245396Z",
     "start_time": "2024-06-27T12:01:15.238529Z"
    },
    "hidden": true
   },
   "outputs": [
    {
     "name": "stdout",
     "output_type": "stream",
     "text": [
      "Done!\n"
     ]
    }
   ],
   "source": [
    "print('Done!')"
   ]
  },
  {
   "cell_type": "markdown",
   "id": "4aff9360",
   "metadata": {
    "hidden": true
   },
   "source": [
    "### Something I forgot"
   ]
  },
  {
   "cell_type": "code",
   "execution_count": 17,
   "id": "7b2050df",
   "metadata": {
    "ExecuteTime": {
     "end_time": "2024-06-27T12:01:46.613973Z",
     "start_time": "2024-06-27T12:01:46.605305Z"
    },
    "hidden": true
   },
   "outputs": [],
   "source": [
    "for year in range(2015, 2024):\n",
    "    s_year=str(year)\n",
    "    for field in ['Energy', 'Utilities']:\n",
    "        firms=list(text_dict[field][s_year].keys())\n",
    "        cos_sim_dict[year][field]['companies']=firms"
   ]
  },
  {
   "cell_type": "code",
   "execution_count": 18,
   "id": "4d678ef4",
   "metadata": {
    "ExecuteTime": {
     "end_time": "2024-06-27T12:01:48.387339Z",
     "start_time": "2024-06-27T12:01:48.380251Z"
    },
    "hidden": true
   },
   "outputs": [],
   "source": [
    "with open ('./data/energy_utilities_cos_sim_mats.pickle', 'wb') as f:\n",
    "    pickle.dump(cos_sim_dict, f)"
   ]
  },
  {
   "cell_type": "markdown",
   "id": "3e4ec68c",
   "metadata": {},
   "source": [
    "## Cosine similarity analysis"
   ]
  },
  {
   "cell_type": "code",
   "execution_count": 9,
   "id": "754777b8",
   "metadata": {
    "ExecuteTime": {
     "end_time": "2024-06-27T15:23:12.278786Z",
     "start_time": "2024-06-27T15:23:12.272792Z"
    }
   },
   "outputs": [],
   "source": [
    "with open ('./data/energy_utilities_cos_sim_mats.pickle', 'rb') as f:\n",
    "    cos_sim_dict=pickle.load(f)"
   ]
  },
  {
   "cell_type": "code",
   "execution_count": 10,
   "id": "52ed203d",
   "metadata": {
    "ExecuteTime": {
     "end_time": "2024-06-27T15:23:12.599656Z",
     "start_time": "2024-06-27T15:23:12.594300Z"
    }
   },
   "outputs": [],
   "source": [
    "years=list(range(2015, 2024))"
   ]
  },
  {
   "cell_type": "markdown",
   "id": "29b8459a",
   "metadata": {},
   "source": [
    "### Cosine similarity trends"
   ]
  },
  {
   "cell_type": "code",
   "execution_count": 41,
   "id": "059ad6eb",
   "metadata": {
    "ExecuteTime": {
     "end_time": "2024-06-27T15:37:32.134326Z",
     "start_time": "2024-06-27T15:37:32.122507Z"
    }
   },
   "outputs": [
    {
     "data": {
      "text/plain": [
       "array([0.69637334, 0.80325902, 0.7502014 , 0.68807983, 0.63104403,\n",
       "       0.81034058, 0.6818462 , 0.80995178, 0.59205347, 0.5530526 ,\n",
       "       0.5599457 , 0.61682159, 0.68617421, 0.82863009, 0.67199039,\n",
       "       0.70068246, 0.86619627, 0.71239859, 0.63732421, 0.7067557 ,\n",
       "       0.87245798, 0.70417446, 0.64171928, 0.69881147, 0.50478274,\n",
       "       0.73193127, 0.52943915, 0.64018029])"
      ]
     },
     "execution_count": 41,
     "metadata": {},
     "output_type": "execute_result"
    }
   ],
   "source": [
    "cos_sim_dict[year][field]['cos_sim'][cos_sim_dict[year][field]['cos_sim']!=0]"
   ]
  },
  {
   "cell_type": "code",
   "execution_count": 42,
   "id": "e53d99e9",
   "metadata": {
    "ExecuteTime": {
     "end_time": "2024-06-27T15:39:44.108801Z",
     "start_time": "2024-06-27T15:39:44.093933Z"
    }
   },
   "outputs": [
    {
     "name": "stderr",
     "output_type": "stream",
     "text": [
      "/home/sarawalk/sdgs_py38/lib/python3.8/site-packages/numpy/core/fromnumeric.py:3464: RuntimeWarning: Mean of empty slice.\n",
      "  return _methods._mean(a, axis=axis, dtype=dtype,\n",
      "/home/sarawalk/sdgs_py38/lib/python3.8/site-packages/numpy/core/_methods.py:192: RuntimeWarning: invalid value encountered in scalar divide\n",
      "  ret = ret.dtype.type(ret / rcount)\n"
     ]
    }
   ],
   "source": [
    "cos_sim_avg={}\n",
    "cos_sim_avg['Energy']=[]\n",
    "cos_sim_avg['Utilities']=[]\n",
    "for year in years:\n",
    "    for field in ['Energy', 'Utilities']:\n",
    "        pvals=cos_sim_dict[year][field]['pvals']\n",
    "        cos_sim=cos_sim_dict[year][field]['cos_sim']\n",
    "        # select non zero entries\n",
    "        cos_sim=cos_sim[cos_sim>0]\n",
    "        cos_sim_avg[field].append(np.mean(cos_sim))"
   ]
  },
  {
   "cell_type": "code",
   "execution_count": 61,
   "id": "d0245ea9",
   "metadata": {
    "ExecuteTime": {
     "end_time": "2024-06-27T15:52:58.104333Z",
     "start_time": "2024-06-27T15:52:57.307427Z"
    }
   },
   "outputs": [
    {
     "data": {
      "image/png": "[encoded data removed]",
      "text/plain": [
       "<Figure size 640x480 with 1 Axes>"
      ]
     },
     "metadata": {},
     "output_type": "display_data"
    }
   ],
   "source": [
    "colors=['navy', 'darkmagenta']\n",
    "lss=['--', '-']\n",
    "for i, field in enumerate(['Utilities', 'Energy']):\n",
    "    plt.plot(years, cos_sim_avg[field], marker='o', ls=lss[i], c=colors[i], label=field)\n",
    "plt.ylim(0.6, 0.8)\n",
    "plt.yticks(np.linspace(.6, .8, endpoint=True, num=5))\n",
    "plt.ylabel('Mean Cosine Similarity', fontsize=14)\n",
    "plt.legend(fontsize=12)\n",
    "plt.savefig('./plots/chatgpt_mean_cos_sim_all.png', dpi=300, bbox_inches='tight')\n",
    "plt.show()"
   ]
  },
  {
   "cell_type": "markdown",
   "id": "93fcf8f4",
   "metadata": {},
   "source": [
    "### Statistical validation"
   ]
  },
  {
   "cell_type": "code",
   "execution_count": 11,
   "id": "e8641ff8",
   "metadata": {
    "ExecuteTime": {
     "end_time": "2024-06-27T15:23:13.357973Z",
     "start_time": "2024-06-27T15:23:13.353489Z"
    }
   },
   "outputs": [],
   "source": [
    "# actually, it shouldn't be done, but I saw that relaxing from alpha=0.01 to alpha=0.05,\n",
    "# I get more validated entries...\n",
    "alpha=.05"
   ]
  },
  {
   "cell_type": "code",
   "execution_count": 12,
   "id": "b51ffc92",
   "metadata": {
    "ExecuteTime": {
     "end_time": "2024-06-27T15:23:13.747868Z",
     "start_time": "2024-06-27T15:23:13.729068Z"
    }
   },
   "outputs": [
    {
     "name": "stdout",
     "output_type": "stream",
     "text": [
      "2019 Utilities\n",
      "---------------------\n",
      "('02_SSE_PLC', '05_CENTRICA_PLC') 0.8133289217948914\n",
      "('02_SSE_PLC', '08_RENEWI_PLC') 0.8001610636711121\n",
      "('05_CENTRICA_PLC', '08_RENEWI_PLC') 0.7937230467796326\n",
      "('05_CENTRICA_PLC', '10_GOOD_ENERGY_GROUP_PLC') 0.8450196981430054\n"
     ]
    }
   ],
   "source": [
    "for year in years:\n",
    "    for field in ['Energy', 'Utilities']:\n",
    "        pvals=cos_sim_dict[year][field]['pvals']\n",
    "        cos_sim=cos_sim_dict[year][field]['cos_sim']\n",
    "        firms=cos_sim_dict[year][field]['companies']\n",
    "        if len(firms)>1:\n",
    "            # get the number of tests\n",
    "            n_tests=len(firms)*(len(firms)-1)/2\n",
    "            # calculate effective alpha according to Bonferroni\n",
    "            alpha_bonf=alpha/n_tests\n",
    "            # get the effective alpha according to fdr\n",
    "            pvals_vec=np.sort(pvals[pvals>0])\n",
    "            fdr_vec=(1+np.arange(len(pvals_vec)))*alpha_bonf\n",
    "            alpha_fdrs=fdr_vec[pvals_vec<=fdr_vec]\n",
    "            if len(alpha_fdrs)>0:\n",
    "                alpha_fdr=alpha_fdrs[-1]\n",
    "                # where are the validated entries?\n",
    "                where_vals=np.where(np.logical_and(pvals<=alpha_fdr, pvals>0))\n",
    "                val_couples=[]\n",
    "                for i in range(len(where_vals[0])):\n",
    "                    val_couples.append((firms[where_vals[0][i]],firms[where_vals[1][i]]))\n",
    "                # return values\n",
    "                print(year, field)\n",
    "                print('---------------------')\n",
    "                for i, val_couple in enumerate(val_couples):\n",
    "                    print(val_couple, cos_sim[where_vals[0][i], where_vals[1][i]])"
   ]
  },
  {
   "cell_type": "markdown",
   "id": "f6c7b29b",
   "metadata": {},
   "source": [
    "Quite bizarre that only on a single year (btw, before the COVID, i.e. before when I would have expected to see some excess in the cosine similarity) there is such a diffuse similarity. Moreover, CENTRICA is (ehm...) the most central, since it is significantly similar to all others."
   ]
  },
  {
   "cell_type": "code",
   "execution_count": 13,
   "id": "d0364323",
   "metadata": {
    "ExecuteTime": {
     "end_time": "2024-06-27T15:23:14.682324Z",
     "start_time": "2024-06-27T15:23:14.677939Z"
    }
   },
   "outputs": [],
   "source": [
    "validated_cos_sim=(2019, 'Utilities', val_couples)"
   ]
  },
  {
   "cell_type": "markdown",
   "id": "9e34b4ce",
   "metadata": {},
   "source": [
    "#### Graph representation"
   ]
  },
  {
   "cell_type": "code",
   "execution_count": 14,
   "id": "63230f33",
   "metadata": {
    "ExecuteTime": {
     "end_time": "2024-06-27T15:23:15.421375Z",
     "start_time": "2024-06-27T15:23:15.411973Z"
    }
   },
   "outputs": [],
   "source": [
    "vertices=[]\n",
    "weights=[]\n",
    "for i, val_couple in enumerate(val_couples):\n",
    "    for who in val_couple:\n",
    "        if who not in vertices:\n",
    "            vertices.append(who)\n",
    "    weight=cos_sim_dict[2019]['Utilities']['cos_sim'][where_vals[0][i], where_vals[1][i]]\n",
    "    weights.append(weight)"
   ]
  },
  {
   "cell_type": "code",
   "execution_count": 15,
   "id": "0492e039",
   "metadata": {
    "ExecuteTime": {
     "end_time": "2024-06-27T15:23:15.897260Z",
     "start_time": "2024-06-27T15:23:15.882314Z"
    }
   },
   "outputs": [
    {
     "data": {
      "text/plain": [
       "['02_SSE_PLC', '05_CENTRICA_PLC', '08_RENEWI_PLC', '10_GOOD_ENERGY_GROUP_PLC']"
      ]
     },
     "execution_count": 15,
     "metadata": {},
     "output_type": "execute_result"
    }
   ],
   "source": [
    "vertices"
   ]
  },
  {
   "cell_type": "code",
   "execution_count": 16,
   "id": "29dd347d",
   "metadata": {
    "ExecuteTime": {
     "end_time": "2024-06-27T15:23:16.320453Z",
     "start_time": "2024-06-27T15:23:16.313026Z"
    }
   },
   "outputs": [
    {
     "data": {
      "text/plain": [
       "[0.8133289217948914,\n",
       " 0.8001610636711121,\n",
       " 0.7937230467796326,\n",
       " 0.8450196981430054]"
      ]
     },
     "execution_count": 16,
     "metadata": {},
     "output_type": "execute_result"
    }
   ],
   "source": [
    "weights"
   ]
  },
  {
   "cell_type": "code",
   "execution_count": 17,
   "id": "fc85615e",
   "metadata": {
    "ExecuteTime": {
     "end_time": "2024-06-27T15:23:16.867863Z",
     "start_time": "2024-06-27T15:23:16.861936Z"
    }
   },
   "outputs": [],
   "source": [
    "val_cos_sim_g=igraph.Graph()\n",
    "val_cos_sim_g.add_vertices(vertices)\n",
    "val_cos_sim_g.add_edges(val_couples)"
   ]
  },
  {
   "cell_type": "code",
   "execution_count": 18,
   "id": "cd5105b1",
   "metadata": {
    "ExecuteTime": {
     "end_time": "2024-06-27T15:23:17.245237Z",
     "start_time": "2024-06-27T15:23:17.236729Z"
    }
   },
   "outputs": [
    {
     "data": {
      "text/plain": [
       "(4, 4)"
      ]
     },
     "execution_count": 18,
     "metadata": {},
     "output_type": "execute_result"
    }
   ],
   "source": [
    "val_cos_sim_g.vcount(), val_cos_sim_g.ecount()"
   ]
  },
  {
   "cell_type": "code",
   "execution_count": 19,
   "id": "91bc30dd",
   "metadata": {
    "ExecuteTime": {
     "end_time": "2024-06-27T15:23:17.669232Z",
     "start_time": "2024-06-27T15:23:17.663374Z"
    }
   },
   "outputs": [],
   "source": [
    "val_cos_sim_g.es['weight']=weights"
   ]
  },
  {
   "cell_type": "code",
   "execution_count": 20,
   "id": "87dc4817",
   "metadata": {
    "ExecuteTime": {
     "end_time": "2024-06-27T15:23:17.912010Z",
     "start_time": "2024-06-27T15:23:17.903333Z"
    }
   },
   "outputs": [
    {
     "data": {
      "text/plain": [
       "'IGRAPH UNW- 4 4 -- \\n+ attr: name (v), weight (e)'"
      ]
     },
     "execution_count": 20,
     "metadata": {},
     "output_type": "execute_result"
    }
   ],
   "source": [
    "val_cos_sim_g.summary()"
   ]
  },
  {
   "cell_type": "code",
   "execution_count": 21,
   "id": "a25403c2",
   "metadata": {
    "ExecuteTime": {
     "end_time": "2024-06-27T15:23:18.102706Z",
     "start_time": "2024-06-27T15:23:18.096707Z"
    }
   },
   "outputs": [],
   "source": [
    "val_cos_sim_g.vs[\"label\"]=['SSE PLC', 'Centrica PLC', 'Renewi PLC', 'Good Energy Group PLC']"
   ]
  },
  {
   "cell_type": "code",
   "execution_count": 36,
   "id": "2c2dc87d",
   "metadata": {
    "ExecuteTime": {
     "end_time": "2024-06-27T15:28:21.766397Z",
     "start_time": "2024-06-27T15:28:21.756265Z"
    }
   },
   "outputs": [],
   "source": [
    "visual_style = {}\n",
    "visual_style[\"vertex_size\"] = 20\n",
    "visual_style[\"vertex_label\"] = val_cos_sim_g.vs[\"label\"]\n",
    "visual_style[\"vertex_label_dist\"] = 2\n",
    "visual_style[\"vertex_label_angle\"] = [0, 0, np.pi/2, np.pi]\n",
    "visual_style[\"edge_label\"] = ['{:.3f}'.format(weight) for weight in val_cos_sim_g.es[\"weight\"]]\n",
    "visual_style[\"bbox\"] =(300,300)\n",
    "visual_style[\"margin\"]=40"
   ]
  },
  {
   "cell_type": "code",
   "execution_count": 38,
   "id": "582b8f3b",
   "metadata": {
    "ExecuteTime": {
     "end_time": "2024-06-27T15:28:55.446947Z",
     "start_time": "2024-06-27T15:28:55.416854Z"
    }
   },
   "outputs": [
    {
     "data": {
      "image/svg+xml": [
       "<?xml version=\"1.0\" encoding=\"UTF-8\"?>\n",
       "<svg xmlns=\"http://www.w3.org/2000/svg\" xmlns:xlink=\"http://www.w3.org/1999/xlink\" width=\"300pt\" height=\"300pt\" viewBox=\"0 0 300 300\" version=\"1.1\">\n",
       "<defs>\n",
       "<g>\n",
       "<symbol overflow=\"visible\" id=\"glyph0-0\">\n",
       "<path style=\"stroke:none;\" d=\"M 0.703125 2.46875 L 0.703125 -9.875 L 7.703125 -9.875 L 7.703125 2.46875 Z M 1.484375 1.703125 L 6.921875 1.703125 L 6.921875 -9.078125 L 1.484375 -9.078125 Z M 1.484375 1.703125 \"/>\n",
       "</symbol>\n",
       "<symbol overflow=\"visible\" id=\"glyph0-1\">\n",
       "<path style=\"stroke:none;\" d=\"M 7.5 -9.875 L 7.5 -8.53125 C 6.96875 -8.78125 6.46875 -8.960938 6 -9.078125 C 5.539062 -9.203125 5.09375 -9.265625 4.65625 -9.265625 C 3.90625 -9.265625 3.328125 -9.117188 2.921875 -8.828125 C 2.515625 -8.535156 2.3125 -8.125 2.3125 -7.59375 C 2.3125 -7.132812 2.445312 -6.789062 2.71875 -6.5625 C 2.988281 -6.332031 3.503906 -6.148438 4.265625 -6.015625 L 5.09375 -5.84375 C 6.125 -5.644531 6.882812 -5.296875 7.375 -4.796875 C 7.863281 -4.304688 8.109375 -3.644531 8.109375 -2.8125 C 8.109375 -1.820312 7.773438 -1.070312 7.109375 -0.5625 C 6.453125 -0.0507812 5.484375 0.203125 4.203125 0.203125 C 3.710938 0.203125 3.195312 0.144531 2.65625 0.03125 C 2.113281 -0.0703125 1.550781 -0.234375 0.96875 -0.453125 L 0.96875 -1.875 C 1.53125 -1.5625 2.078125 -1.320312 2.609375 -1.15625 C 3.148438 -1 3.679688 -0.921875 4.203125 -0.921875 C 4.984375 -0.921875 5.585938 -1.078125 6.015625 -1.390625 C 6.453125 -1.703125 6.671875 -2.144531 6.671875 -2.71875 C 6.671875 -3.21875 6.515625 -3.609375 6.203125 -3.890625 C 5.898438 -4.171875 5.394531 -4.382812 4.6875 -4.53125 L 3.84375 -4.6875 C 2.8125 -4.894531 2.066406 -5.21875 1.609375 -5.65625 C 1.148438 -6.09375 0.921875 -6.703125 0.921875 -7.484375 C 0.921875 -8.378906 1.238281 -9.085938 1.875 -9.609375 C 2.507812 -10.128906 3.382812 -10.390625 4.5 -10.390625 C 4.976562 -10.390625 5.46875 -10.34375 5.96875 -10.25 C 6.46875 -10.164062 6.976562 -10.039062 7.5 -9.875 Z M 7.5 -9.875 \"/>\n",
       "</symbol>\n",
       "<symbol overflow=\"visible\" id=\"glyph0-2\">\n",
       "<path style=\"stroke:none;\" d=\"M 1.375 -10.203125 L 7.828125 -10.203125 L 7.828125 -9.046875 L 2.75 -9.046875 L 2.75 -6.015625 L 7.609375 -6.015625 L 7.609375 -4.859375 L 2.75 -4.859375 L 2.75 -1.15625 L 7.953125 -1.15625 L 7.953125 0 L 1.375 0 Z M 1.375 -10.203125 \"/>\n",
       "</symbol>\n",
       "<symbol overflow=\"visible\" id=\"glyph0-3\">\n",
       "<path style=\"stroke:none;\" d=\"\"/>\n",
       "</symbol>\n",
       "<symbol overflow=\"visible\" id=\"glyph0-4\">\n",
       "<path style=\"stroke:none;\" d=\"M 2.75 -9.078125 L 2.75 -5.234375 L 4.484375 -5.234375 C 5.128906 -5.234375 5.628906 -5.398438 5.984375 -5.734375 C 6.335938 -6.066406 6.515625 -6.539062 6.515625 -7.15625 C 6.515625 -7.769531 6.335938 -8.242188 5.984375 -8.578125 C 5.628906 -8.910156 5.128906 -9.078125 4.484375 -9.078125 Z M 1.375 -10.203125 L 4.484375 -10.203125 C 5.628906 -10.203125 6.492188 -9.941406 7.078125 -9.421875 C 7.671875 -8.910156 7.96875 -8.15625 7.96875 -7.15625 C 7.96875 -6.144531 7.671875 -5.382812 7.078125 -4.875 C 6.492188 -4.363281 5.628906 -4.109375 4.484375 -4.109375 L 2.75 -4.109375 L 2.75 0 L 1.375 0 Z M 1.375 -10.203125 \"/>\n",
       "</symbol>\n",
       "<symbol overflow=\"visible\" id=\"glyph0-5\">\n",
       "<path style=\"stroke:none;\" d=\"M 1.375 -10.203125 L 2.75 -10.203125 L 2.75 -1.15625 L 7.71875 -1.15625 L 7.71875 0 L 1.375 0 Z M 1.375 -10.203125 \"/>\n",
       "</symbol>\n",
       "<symbol overflow=\"visible\" id=\"glyph0-6\">\n",
       "<path style=\"stroke:none;\" d=\"M 9.015625 -9.421875 L 9.015625 -7.96875 C 8.546875 -8.394531 8.046875 -8.710938 7.515625 -8.921875 C 6.992188 -9.140625 6.441406 -9.25 5.859375 -9.25 C 4.691406 -9.25 3.796875 -8.890625 3.171875 -8.171875 C 2.554688 -7.460938 2.25 -6.4375 2.25 -5.09375 C 2.25 -3.75 2.554688 -2.71875 3.171875 -2 C 3.796875 -1.289062 4.691406 -0.9375 5.859375 -0.9375 C 6.441406 -0.9375 6.992188 -1.039062 7.515625 -1.25 C 8.046875 -1.46875 8.546875 -1.796875 9.015625 -2.234375 L 9.015625 -0.78125 C 8.535156 -0.457031 8.023438 -0.210938 7.484375 -0.046875 C 6.941406 0.117188 6.367188 0.203125 5.765625 0.203125 C 4.222656 0.203125 3.003906 -0.269531 2.109375 -1.21875 C 1.222656 -2.164062 0.78125 -3.457031 0.78125 -5.09375 C 0.78125 -6.726562 1.222656 -8.019531 2.109375 -8.96875 C 3.003906 -9.914062 4.222656 -10.390625 5.765625 -10.390625 C 6.378906 -10.390625 6.957031 -10.304688 7.5 -10.140625 C 8.039062 -9.984375 8.546875 -9.742188 9.015625 -9.421875 Z M 9.015625 -9.421875 \"/>\n",
       "</symbol>\n",
       "<symbol overflow=\"visible\" id=\"glyph0-7\">\n",
       "<path style=\"stroke:none;\" d=\"M 7.875 -4.140625 L 7.875 -3.53125 L 2.078125 -3.53125 C 2.140625 -2.664062 2.398438 -2.003906 2.859375 -1.546875 C 3.328125 -1.097656 3.976562 -0.875 4.8125 -0.875 C 5.300781 -0.875 5.769531 -0.929688 6.21875 -1.046875 C 6.675781 -1.160156 7.128906 -1.335938 7.578125 -1.578125 L 7.578125 -0.390625 C 7.117188 -0.203125 6.648438 -0.0546875 6.171875 0.046875 C 5.703125 0.148438 5.226562 0.203125 4.75 0.203125 C 3.519531 0.203125 2.546875 -0.148438 1.828125 -0.859375 C 1.117188 -1.578125 0.765625 -2.539062 0.765625 -3.75 C 0.765625 -5.007812 1.101562 -6.003906 1.78125 -6.734375 C 2.457031 -7.472656 3.375 -7.84375 4.53125 -7.84375 C 5.5625 -7.84375 6.375 -7.507812 6.96875 -6.84375 C 7.570312 -6.1875 7.875 -5.285156 7.875 -4.140625 Z M 6.609375 -4.515625 C 6.597656 -5.203125 6.40625 -5.75 6.03125 -6.15625 C 5.65625 -6.570312 5.160156 -6.78125 4.546875 -6.78125 C 3.835938 -6.78125 3.269531 -6.578125 2.84375 -6.171875 C 2.425781 -5.773438 2.1875 -5.21875 2.125 -4.5 Z M 6.609375 -4.515625 \"/>\n",
       "</symbol>\n",
       "<symbol overflow=\"visible\" id=\"glyph0-8\">\n",
       "<path style=\"stroke:none;\" d=\"M 7.6875 -4.625 L 7.6875 0 L 6.421875 0 L 6.421875 -4.578125 C 6.421875 -5.304688 6.28125 -5.847656 6 -6.203125 C 5.71875 -6.566406 5.296875 -6.75 4.734375 -6.75 C 4.054688 -6.75 3.519531 -6.53125 3.125 -6.09375 C 2.726562 -5.664062 2.53125 -5.078125 2.53125 -4.328125 L 2.53125 0 L 1.265625 0 L 1.265625 -7.65625 L 2.53125 -7.65625 L 2.53125 -6.46875 C 2.832031 -6.925781 3.1875 -7.269531 3.59375 -7.5 C 4.007812 -7.726562 4.484375 -7.84375 5.015625 -7.84375 C 5.890625 -7.84375 6.550781 -7.566406 7 -7.015625 C 7.457031 -6.472656 7.6875 -5.675781 7.6875 -4.625 Z M 7.6875 -4.625 \"/>\n",
       "</symbol>\n",
       "<symbol overflow=\"visible\" id=\"glyph0-9\">\n",
       "<path style=\"stroke:none;\" d=\"M 2.5625 -9.828125 L 2.5625 -7.65625 L 5.15625 -7.65625 L 5.15625 -6.671875 L 2.5625 -6.671875 L 2.5625 -2.515625 C 2.5625 -1.898438 2.644531 -1.5 2.8125 -1.3125 C 2.988281 -1.132812 3.335938 -1.046875 3.859375 -1.046875 L 5.15625 -1.046875 L 5.15625 0 L 3.859375 0 C 2.890625 0 2.21875 -0.179688 1.84375 -0.546875 C 1.476562 -0.910156 1.296875 -1.566406 1.296875 -2.515625 L 1.296875 -6.671875 L 0.375 -6.671875 L 0.375 -7.65625 L 1.296875 -7.65625 L 1.296875 -9.828125 Z M 2.5625 -9.828125 \"/>\n",
       "</symbol>\n",
       "<symbol overflow=\"visible\" id=\"glyph0-10\">\n",
       "<path style=\"stroke:none;\" d=\"M 5.75 -6.484375 C 5.613281 -6.566406 5.460938 -6.625 5.296875 -6.65625 C 5.128906 -6.695312 4.945312 -6.71875 4.75 -6.71875 C 4.03125 -6.71875 3.476562 -6.484375 3.09375 -6.015625 C 2.71875 -5.554688 2.53125 -4.894531 2.53125 -4.03125 L 2.53125 0 L 1.265625 0 L 1.265625 -7.65625 L 2.53125 -7.65625 L 2.53125 -6.46875 C 2.800781 -6.9375 3.144531 -7.28125 3.5625 -7.5 C 3.988281 -7.726562 4.503906 -7.84375 5.109375 -7.84375 C 5.203125 -7.84375 5.300781 -7.835938 5.40625 -7.828125 C 5.507812 -7.816406 5.625 -7.796875 5.75 -7.765625 Z M 5.75 -6.484375 \"/>\n",
       "</symbol>\n",
       "<symbol overflow=\"visible\" id=\"glyph0-11\">\n",
       "<path style=\"stroke:none;\" d=\"M 1.3125 -7.65625 L 2.578125 -7.65625 L 2.578125 0 L 1.3125 0 Z M 1.3125 -10.640625 L 2.578125 -10.640625 L 2.578125 -9.046875 L 1.3125 -9.046875 Z M 1.3125 -10.640625 \"/>\n",
       "</symbol>\n",
       "<symbol overflow=\"visible\" id=\"glyph0-12\">\n",
       "<path style=\"stroke:none;\" d=\"M 6.828125 -7.359375 L 6.828125 -6.1875 C 6.472656 -6.382812 6.113281 -6.53125 5.75 -6.625 C 5.394531 -6.726562 5.035156 -6.78125 4.671875 -6.78125 C 3.859375 -6.78125 3.222656 -6.519531 2.765625 -6 C 2.316406 -5.476562 2.09375 -4.753906 2.09375 -3.828125 C 2.09375 -2.890625 2.316406 -2.160156 2.765625 -1.640625 C 3.222656 -1.128906 3.859375 -0.875 4.671875 -0.875 C 5.035156 -0.875 5.394531 -0.921875 5.75 -1.015625 C 6.113281 -1.109375 6.472656 -1.253906 6.828125 -1.453125 L 6.828125 -0.296875 C 6.472656 -0.128906 6.109375 -0.00390625 5.734375 0.078125 C 5.359375 0.160156 4.960938 0.203125 4.546875 0.203125 C 3.390625 0.203125 2.46875 -0.15625 1.78125 -0.875 C 1.101562 -1.601562 0.765625 -2.585938 0.765625 -3.828125 C 0.765625 -5.066406 1.109375 -6.046875 1.796875 -6.765625 C 2.484375 -7.484375 3.425781 -7.84375 4.625 -7.84375 C 5.007812 -7.84375 5.382812 -7.800781 5.75 -7.71875 C 6.125 -7.644531 6.484375 -7.523438 6.828125 -7.359375 Z M 6.828125 -7.359375 \"/>\n",
       "</symbol>\n",
       "<symbol overflow=\"visible\" id=\"glyph0-13\">\n",
       "<path style=\"stroke:none;\" d=\"M 4.796875 -3.84375 C 3.785156 -3.84375 3.082031 -3.726562 2.6875 -3.5 C 2.289062 -3.269531 2.09375 -2.875 2.09375 -2.3125 C 2.09375 -1.863281 2.238281 -1.507812 2.53125 -1.25 C 2.832031 -0.988281 3.234375 -0.859375 3.734375 -0.859375 C 4.429688 -0.859375 4.988281 -1.101562 5.40625 -1.59375 C 5.832031 -2.09375 6.046875 -2.75 6.046875 -3.5625 L 6.046875 -3.84375 Z M 7.3125 -4.375 L 7.3125 0 L 6.046875 0 L 6.046875 -1.15625 C 5.765625 -0.695312 5.40625 -0.351562 4.96875 -0.125 C 4.539062 0.09375 4.019531 0.203125 3.40625 0.203125 C 2.625 0.203125 2 -0.015625 1.53125 -0.453125 C 1.070312 -0.898438 0.84375 -1.492188 0.84375 -2.234375 C 0.84375 -3.085938 1.128906 -3.734375 1.703125 -4.171875 C 2.285156 -4.609375 3.144531 -4.828125 4.28125 -4.828125 L 6.046875 -4.828125 L 6.046875 -4.953125 C 6.046875 -5.535156 5.851562 -5.984375 5.46875 -6.296875 C 5.09375 -6.617188 4.5625 -6.78125 3.875 -6.78125 C 3.4375 -6.78125 3.007812 -6.722656 2.59375 -6.609375 C 2.175781 -6.503906 1.78125 -6.347656 1.40625 -6.140625 L 1.40625 -7.3125 C 1.863281 -7.488281 2.304688 -7.617188 2.734375 -7.703125 C 3.171875 -7.796875 3.59375 -7.84375 4 -7.84375 C 5.113281 -7.84375 5.941406 -7.554688 6.484375 -6.984375 C 7.035156 -6.410156 7.3125 -5.539062 7.3125 -4.375 Z M 7.3125 -4.375 \"/>\n",
       "</symbol>\n",
       "<symbol overflow=\"visible\" id=\"glyph0-14\">\n",
       "<path style=\"stroke:none;\" d=\"M 6.21875 -4.78125 C 6.507812 -4.6875 6.796875 -4.472656 7.078125 -4.140625 C 7.359375 -3.816406 7.640625 -3.367188 7.921875 -2.796875 L 9.328125 0 L 7.84375 0 L 6.53125 -2.625 C 6.195312 -3.300781 5.867188 -3.75 5.546875 -3.96875 C 5.234375 -4.195312 4.804688 -4.3125 4.265625 -4.3125 L 2.75 -4.3125 L 2.75 0 L 1.375 0 L 1.375 -10.203125 L 4.484375 -10.203125 C 5.648438 -10.203125 6.519531 -9.957031 7.09375 -9.46875 C 7.675781 -8.988281 7.96875 -8.253906 7.96875 -7.265625 C 7.96875 -6.617188 7.816406 -6.082031 7.515625 -5.65625 C 7.210938 -5.238281 6.78125 -4.945312 6.21875 -4.78125 Z M 2.75 -9.078125 L 2.75 -5.453125 L 4.484375 -5.453125 C 5.148438 -5.453125 5.65625 -5.601562 6 -5.90625 C 6.34375 -6.21875 6.515625 -6.671875 6.515625 -7.265625 C 6.515625 -7.859375 6.34375 -8.304688 6 -8.609375 C 5.65625 -8.921875 5.148438 -9.078125 4.484375 -9.078125 Z M 2.75 -9.078125 \"/>\n",
       "</symbol>\n",
       "<symbol overflow=\"visible\" id=\"glyph0-15\">\n",
       "<path style=\"stroke:none;\" d=\"M 0.59375 -7.65625 L 1.84375 -7.65625 L 3.421875 -1.6875 L 4.984375 -7.65625 L 6.46875 -7.65625 L 8.046875 -1.6875 L 9.609375 -7.65625 L 10.859375 -7.65625 L 8.859375 0 L 7.375 0 L 5.734375 -6.28125 L 4.078125 0 L 2.59375 0 Z M 0.59375 -7.65625 \"/>\n",
       "</symbol>\n",
       "<symbol overflow=\"visible\" id=\"glyph0-16\">\n",
       "<path style=\"stroke:none;\" d=\"M 8.328125 -1.453125 L 8.328125 -4.203125 L 6.078125 -4.203125 L 6.078125 -5.328125 L 9.703125 -5.328125 L 9.703125 -0.953125 C 9.171875 -0.578125 8.582031 -0.289062 7.9375 -0.09375 C 7.289062 0.101562 6.601562 0.203125 5.875 0.203125 C 4.28125 0.203125 3.03125 -0.257812 2.125 -1.1875 C 1.226562 -2.125 0.78125 -3.425781 0.78125 -5.09375 C 0.78125 -6.757812 1.226562 -8.054688 2.125 -8.984375 C 3.03125 -9.921875 4.28125 -10.390625 5.875 -10.390625 C 6.539062 -10.390625 7.171875 -10.304688 7.765625 -10.140625 C 8.367188 -9.984375 8.925781 -9.742188 9.4375 -9.421875 L 9.4375 -7.953125 C 8.925781 -8.378906 8.382812 -8.703125 7.8125 -8.921875 C 7.238281 -9.140625 6.632812 -9.25 6 -9.25 C 4.75 -9.25 3.8125 -8.898438 3.1875 -8.203125 C 2.5625 -7.515625 2.25 -6.476562 2.25 -5.09375 C 2.25 -3.71875 2.5625 -2.679688 3.1875 -1.984375 C 3.8125 -1.285156 4.75 -0.9375 6 -0.9375 C 6.488281 -0.9375 6.921875 -0.976562 7.296875 -1.0625 C 7.679688 -1.144531 8.023438 -1.273438 8.328125 -1.453125 Z M 8.328125 -1.453125 \"/>\n",
       "</symbol>\n",
       "<symbol overflow=\"visible\" id=\"glyph0-17\">\n",
       "<path style=\"stroke:none;\" d=\"M 4.28125 -6.78125 C 3.613281 -6.78125 3.082031 -6.515625 2.6875 -5.984375 C 2.289062 -5.460938 2.09375 -4.742188 2.09375 -3.828125 C 2.09375 -2.910156 2.285156 -2.1875 2.671875 -1.65625 C 3.066406 -1.132812 3.601562 -0.875 4.28125 -0.875 C 4.957031 -0.875 5.488281 -1.132812 5.875 -1.65625 C 6.269531 -2.1875 6.46875 -2.910156 6.46875 -3.828125 C 6.46875 -4.734375 6.269531 -5.453125 5.875 -5.984375 C 5.488281 -6.515625 4.957031 -6.78125 4.28125 -6.78125 Z M 4.28125 -7.84375 C 5.375 -7.84375 6.234375 -7.484375 6.859375 -6.765625 C 7.484375 -6.054688 7.796875 -5.078125 7.796875 -3.828125 C 7.796875 -2.566406 7.484375 -1.578125 6.859375 -0.859375 C 6.234375 -0.148438 5.375 0.203125 4.28125 0.203125 C 3.1875 0.203125 2.328125 -0.148438 1.703125 -0.859375 C 1.078125 -1.578125 0.765625 -2.566406 0.765625 -3.828125 C 0.765625 -5.078125 1.078125 -6.054688 1.703125 -6.765625 C 2.328125 -7.484375 3.1875 -7.84375 4.28125 -7.84375 Z M 4.28125 -7.84375 \"/>\n",
       "</symbol>\n",
       "<symbol overflow=\"visible\" id=\"glyph0-18\">\n",
       "<path style=\"stroke:none;\" d=\"M 6.359375 -6.5 L 6.359375 -10.640625 L 7.609375 -10.640625 L 7.609375 0 L 6.359375 0 L 6.359375 -1.15625 C 6.097656 -0.695312 5.765625 -0.351562 5.359375 -0.125 C 4.953125 0.09375 4.46875 0.203125 3.90625 0.203125 C 2.976562 0.203125 2.222656 -0.164062 1.640625 -0.90625 C 1.054688 -1.644531 0.765625 -2.617188 0.765625 -3.828125 C 0.765625 -5.023438 1.054688 -5.992188 1.640625 -6.734375 C 2.222656 -7.472656 2.976562 -7.84375 3.90625 -7.84375 C 4.46875 -7.84375 4.953125 -7.726562 5.359375 -7.5 C 5.765625 -7.28125 6.097656 -6.945312 6.359375 -6.5 Z M 2.078125 -3.828125 C 2.078125 -2.898438 2.265625 -2.171875 2.640625 -1.640625 C 3.023438 -1.117188 3.550781 -0.859375 4.21875 -0.859375 C 4.875 -0.859375 5.394531 -1.117188 5.78125 -1.640625 C 6.164062 -2.171875 6.359375 -2.898438 6.359375 -3.828125 C 6.359375 -4.742188 6.164062 -5.460938 5.78125 -5.984375 C 5.394531 -6.515625 4.875 -6.78125 4.21875 -6.78125 C 3.550781 -6.78125 3.023438 -6.515625 2.640625 -5.984375 C 2.265625 -5.460938 2.078125 -4.742188 2.078125 -3.828125 Z M 2.078125 -3.828125 \"/>\n",
       "</symbol>\n",
       "<symbol overflow=\"visible\" id=\"glyph0-19\">\n",
       "<path style=\"stroke:none;\" d=\"M 6.359375 -3.921875 C 6.359375 -4.828125 6.171875 -5.53125 5.796875 -6.03125 C 5.421875 -6.53125 4.894531 -6.78125 4.21875 -6.78125 C 3.539062 -6.78125 3.015625 -6.53125 2.640625 -6.03125 C 2.265625 -5.53125 2.078125 -4.828125 2.078125 -3.921875 C 2.078125 -3.015625 2.265625 -2.304688 2.640625 -1.796875 C 3.015625 -1.296875 3.539062 -1.046875 4.21875 -1.046875 C 4.894531 -1.046875 5.421875 -1.296875 5.796875 -1.796875 C 6.171875 -2.304688 6.359375 -3.015625 6.359375 -3.921875 Z M 7.609375 -0.953125 C 7.609375 0.347656 7.316406 1.316406 6.734375 1.953125 C 6.160156 2.585938 5.28125 2.90625 4.09375 2.90625 C 3.644531 2.90625 3.222656 2.875 2.828125 2.8125 C 2.441406 2.75 2.066406 2.648438 1.703125 2.515625 L 1.703125 1.28125 C 2.066406 1.488281 2.425781 1.640625 2.78125 1.734375 C 3.144531 1.828125 3.515625 1.875 3.890625 1.875 C 4.710938 1.875 5.328125 1.65625 5.734375 1.21875 C 6.148438 0.789062 6.359375 0.144531 6.359375 -0.71875 L 6.359375 -1.34375 C 6.097656 -0.894531 5.765625 -0.554688 5.359375 -0.328125 C 4.953125 -0.109375 4.46875 0 3.90625 0 C 2.96875 0 2.207031 -0.351562 1.625 -1.0625 C 1.050781 -1.78125 0.765625 -2.734375 0.765625 -3.921875 C 0.765625 -5.097656 1.050781 -6.046875 1.625 -6.765625 C 2.207031 -7.484375 2.96875 -7.84375 3.90625 -7.84375 C 4.46875 -7.84375 4.953125 -7.726562 5.359375 -7.5 C 5.765625 -7.28125 6.097656 -6.945312 6.359375 -6.5 L 6.359375 -7.65625 L 7.609375 -7.65625 Z M 7.609375 -0.953125 \"/>\n",
       "</symbol>\n",
       "<symbol overflow=\"visible\" id=\"glyph0-20\">\n",
       "<path style=\"stroke:none;\" d=\"M 4.5 0.71875 C 4.144531 1.625 3.796875 2.210938 3.453125 2.484375 C 3.117188 2.765625 2.671875 2.90625 2.109375 2.90625 L 1.109375 2.90625 L 1.109375 1.859375 L 1.84375 1.859375 C 2.1875 1.859375 2.453125 1.773438 2.640625 1.609375 C 2.835938 1.453125 3.050781 1.066406 3.28125 0.453125 L 3.515625 -0.125 L 0.421875 -7.65625 L 1.75 -7.65625 L 4.140625 -1.671875 L 6.53125 -7.65625 L 7.875 -7.65625 Z M 4.5 0.71875 \"/>\n",
       "</symbol>\n",
       "<symbol overflow=\"visible\" id=\"glyph0-21\">\n",
       "<path style=\"stroke:none;\" d=\"M 1.1875 -3.015625 L 1.1875 -7.65625 L 2.453125 -7.65625 L 2.453125 -3.0625 C 2.453125 -2.34375 2.59375 -1.800781 2.875 -1.4375 C 3.15625 -1.070312 3.578125 -0.890625 4.140625 -0.890625 C 4.816406 -0.890625 5.351562 -1.101562 5.75 -1.53125 C 6.144531 -1.96875 6.34375 -2.5625 6.34375 -3.3125 L 6.34375 -7.65625 L 7.609375 -7.65625 L 7.609375 0 L 6.34375 0 L 6.34375 -1.171875 C 6.039062 -0.710938 5.6875 -0.367188 5.28125 -0.140625 C 4.875 0.0859375 4.40625 0.203125 3.875 0.203125 C 3 0.203125 2.332031 -0.0664062 1.875 -0.609375 C 1.414062 -1.160156 1.1875 -1.960938 1.1875 -3.015625 Z M 4.359375 -7.84375 Z M 4.359375 -7.84375 \"/>\n",
       "</symbol>\n",
       "<symbol overflow=\"visible\" id=\"glyph0-22\">\n",
       "<path style=\"stroke:none;\" d=\"M 2.53125 -1.15625 L 2.53125 2.90625 L 1.265625 2.90625 L 1.265625 -7.65625 L 2.53125 -7.65625 L 2.53125 -6.5 C 2.800781 -6.945312 3.132812 -7.28125 3.53125 -7.5 C 3.9375 -7.726562 4.421875 -7.84375 4.984375 -7.84375 C 5.910156 -7.84375 6.664062 -7.472656 7.25 -6.734375 C 7.832031 -5.992188 8.125 -5.023438 8.125 -3.828125 C 8.125 -2.617188 7.832031 -1.644531 7.25 -0.90625 C 6.664062 -0.164062 5.910156 0.203125 4.984375 0.203125 C 4.421875 0.203125 3.9375 0.09375 3.53125 -0.125 C 3.132812 -0.351562 2.800781 -0.695312 2.53125 -1.15625 Z M 6.8125 -3.828125 C 6.8125 -4.742188 6.617188 -5.460938 6.234375 -5.984375 C 5.859375 -6.515625 5.335938 -6.78125 4.671875 -6.78125 C 4.003906 -6.78125 3.476562 -6.515625 3.09375 -5.984375 C 2.71875 -5.460938 2.53125 -4.742188 2.53125 -3.828125 C 2.53125 -2.898438 2.71875 -2.171875 3.09375 -1.640625 C 3.476562 -1.117188 4.003906 -0.859375 4.671875 -0.859375 C 5.335938 -0.859375 5.859375 -1.117188 6.234375 -1.640625 C 6.617188 -2.171875 6.8125 -2.898438 6.8125 -3.828125 Z M 6.8125 -3.828125 \"/>\n",
       "</symbol>\n",
       "<symbol overflow=\"visible\" id=\"glyph1-0\">\n",
       "<path style=\"stroke:none;\" d=\"M 0.59375 2.125 L 0.59375 -8.46875 L 6.59375 -8.46875 L 6.59375 2.125 Z M 1.265625 1.453125 L 5.9375 1.453125 L 5.9375 -7.78125 L 1.265625 -7.78125 Z M 1.265625 1.453125 \"/>\n",
       "</symbol>\n",
       "<symbol overflow=\"visible\" id=\"glyph1-1\">\n",
       "<path style=\"stroke:none;\" d=\"M 3.8125 -7.96875 C 3.207031 -7.96875 2.75 -7.664062 2.4375 -7.0625 C 2.132812 -6.46875 1.984375 -5.566406 1.984375 -4.359375 C 1.984375 -3.160156 2.132812 -2.257812 2.4375 -1.65625 C 2.75 -1.0625 3.207031 -0.765625 3.8125 -0.765625 C 4.425781 -0.765625 4.882812 -1.0625 5.1875 -1.65625 C 5.5 -2.257812 5.65625 -3.160156 5.65625 -4.359375 C 5.65625 -5.566406 5.5 -6.46875 5.1875 -7.0625 C 4.882812 -7.664062 4.425781 -7.96875 3.8125 -7.96875 Z M 3.8125 -8.90625 C 4.789062 -8.90625 5.539062 -8.515625 6.0625 -7.734375 C 6.582031 -6.960938 6.84375 -5.835938 6.84375 -4.359375 C 6.84375 -2.890625 6.582031 -1.765625 6.0625 -0.984375 C 5.539062 -0.210938 4.789062 0.171875 3.8125 0.171875 C 2.832031 0.171875 2.082031 -0.210938 1.5625 -0.984375 C 1.050781 -1.765625 0.796875 -2.890625 0.796875 -4.359375 C 0.796875 -5.835938 1.050781 -6.960938 1.5625 -7.734375 C 2.082031 -8.515625 2.832031 -8.90625 3.8125 -8.90625 Z M 3.8125 -8.90625 \"/>\n",
       "</symbol>\n",
       "<symbol overflow=\"visible\" id=\"glyph1-2\">\n",
       "<path style=\"stroke:none;\" d=\"M 1.28125 -1.484375 L 2.515625 -1.484375 L 2.515625 0 L 1.28125 0 Z M 1.28125 -1.484375 \"/>\n",
       "</symbol>\n",
       "<symbol overflow=\"visible\" id=\"glyph1-3\">\n",
       "<path style=\"stroke:none;\" d=\"M 3.8125 -4.15625 C 3.25 -4.15625 2.804688 -4.003906 2.484375 -3.703125 C 2.160156 -3.398438 2 -2.988281 2 -2.46875 C 2 -1.9375 2.160156 -1.519531 2.484375 -1.21875 C 2.804688 -0.914062 3.25 -0.765625 3.8125 -0.765625 C 4.375 -0.765625 4.816406 -0.914062 5.140625 -1.21875 C 5.460938 -1.519531 5.625 -1.9375 5.625 -2.46875 C 5.625 -2.988281 5.460938 -3.398438 5.140625 -3.703125 C 4.828125 -4.003906 4.382812 -4.15625 3.8125 -4.15625 Z M 2.625 -4.65625 C 2.125 -4.78125 1.726562 -5.015625 1.4375 -5.359375 C 1.15625 -5.710938 1.015625 -6.140625 1.015625 -6.640625 C 1.015625 -7.335938 1.265625 -7.890625 1.765625 -8.296875 C 2.265625 -8.703125 2.945312 -8.90625 3.8125 -8.90625 C 4.6875 -8.90625 5.367188 -8.703125 5.859375 -8.296875 C 6.359375 -7.890625 6.609375 -7.335938 6.609375 -6.640625 C 6.609375 -6.140625 6.46875 -5.710938 6.1875 -5.359375 C 5.90625 -5.015625 5.507812 -4.78125 5 -4.65625 C 5.570312 -4.519531 6.015625 -4.257812 6.328125 -3.875 C 6.648438 -3.488281 6.8125 -3.019531 6.8125 -2.46875 C 6.8125 -1.613281 6.550781 -0.957031 6.03125 -0.5 C 5.519531 -0.0507812 4.78125 0.171875 3.8125 0.171875 C 2.851562 0.171875 2.113281 -0.0507812 1.59375 -0.5 C 1.070312 -0.957031 0.8125 -1.613281 0.8125 -2.46875 C 0.8125 -3.019531 0.972656 -3.488281 1.296875 -3.875 C 1.617188 -4.257812 2.0625 -4.519531 2.625 -4.65625 Z M 2.203125 -6.53125 C 2.203125 -6.070312 2.34375 -5.71875 2.625 -5.46875 C 2.90625 -5.21875 3.300781 -5.09375 3.8125 -5.09375 C 4.320312 -5.09375 4.71875 -5.21875 5 -5.46875 C 5.289062 -5.71875 5.4375 -6.070312 5.4375 -6.53125 C 5.4375 -6.976562 5.289062 -7.328125 5 -7.578125 C 4.71875 -7.835938 4.320312 -7.96875 3.8125 -7.96875 C 3.300781 -7.96875 2.90625 -7.835938 2.625 -7.578125 C 2.34375 -7.328125 2.203125 -6.976562 2.203125 -6.53125 Z M 2.203125 -6.53125 \"/>\n",
       "</symbol>\n",
       "<symbol overflow=\"visible\" id=\"glyph1-4\">\n",
       "<path style=\"stroke:none;\" d=\"M 1.484375 -1 L 3.421875 -1 L 3.421875 -7.671875 L 1.3125 -7.25 L 1.3125 -8.328125 L 3.40625 -8.75 L 4.59375 -8.75 L 4.59375 -1 L 6.53125 -1 L 6.53125 0 L 1.484375 0 Z M 1.484375 -1 \"/>\n",
       "</symbol>\n",
       "<symbol overflow=\"visible\" id=\"glyph1-5\">\n",
       "<path style=\"stroke:none;\" d=\"M 4.875 -4.71875 C 5.4375 -4.59375 5.875 -4.335938 6.1875 -3.953125 C 6.507812 -3.578125 6.671875 -3.109375 6.671875 -2.546875 C 6.671875 -1.679688 6.375 -1.007812 5.78125 -0.53125 C 5.1875 -0.0625 4.34375 0.171875 3.25 0.171875 C 2.882812 0.171875 2.503906 0.132812 2.109375 0.0625 C 1.722656 -0.0078125 1.328125 -0.117188 0.921875 -0.265625 L 0.921875 -1.40625 C 1.242188 -1.21875 1.597656 -1.070312 1.984375 -0.96875 C 2.378906 -0.875 2.789062 -0.828125 3.21875 -0.828125 C 3.957031 -0.828125 4.519531 -0.972656 4.90625 -1.265625 C 5.300781 -1.554688 5.5 -1.984375 5.5 -2.546875 C 5.5 -3.054688 5.316406 -3.457031 4.953125 -3.75 C 4.585938 -4.039062 4.085938 -4.1875 3.453125 -4.1875 L 2.421875 -4.1875 L 2.421875 -5.15625 L 3.5 -5.15625 C 4.070312 -5.15625 4.515625 -5.269531 4.828125 -5.5 C 5.140625 -5.738281 5.296875 -6.078125 5.296875 -6.515625 C 5.296875 -6.960938 5.132812 -7.304688 4.8125 -7.546875 C 4.5 -7.785156 4.046875 -7.90625 3.453125 -7.90625 C 3.117188 -7.90625 2.765625 -7.867188 2.390625 -7.796875 C 2.023438 -7.734375 1.617188 -7.628906 1.171875 -7.484375 L 1.171875 -8.53125 C 1.628906 -8.65625 2.050781 -8.75 2.4375 -8.8125 C 2.832031 -8.875 3.203125 -8.90625 3.546875 -8.90625 C 4.453125 -8.90625 5.164062 -8.703125 5.6875 -8.296875 C 6.207031 -7.890625 6.46875 -7.335938 6.46875 -6.640625 C 6.46875 -6.148438 6.328125 -5.738281 6.046875 -5.40625 C 5.773438 -5.070312 5.382812 -4.84375 4.875 -4.71875 Z M 4.875 -4.71875 \"/>\n",
       "</symbol>\n",
       "<symbol overflow=\"visible\" id=\"glyph1-6\">\n",
       "<path style=\"stroke:none;\" d=\"M 0.984375 -8.75 L 6.609375 -8.75 L 6.609375 -8.25 L 3.4375 0 L 2.203125 0 L 5.1875 -7.75 L 0.984375 -7.75 Z M 0.984375 -8.75 \"/>\n",
       "</symbol>\n",
       "<symbol overflow=\"visible\" id=\"glyph1-7\">\n",
       "<path style=\"stroke:none;\" d=\"M 1.3125 -0.1875 L 1.3125 -1.265625 C 1.613281 -1.117188 1.914062 -1.007812 2.21875 -0.9375 C 2.519531 -0.863281 2.820312 -0.828125 3.125 -0.828125 C 3.90625 -0.828125 4.5 -1.085938 4.90625 -1.609375 C 5.320312 -2.140625 5.554688 -2.941406 5.609375 -4.015625 C 5.390625 -3.671875 5.101562 -3.410156 4.75 -3.234375 C 4.40625 -3.054688 4.019531 -2.96875 3.59375 -2.96875 C 2.71875 -2.96875 2.023438 -3.226562 1.515625 -3.75 C 1.003906 -4.28125 0.75 -5.007812 0.75 -5.9375 C 0.75 -6.832031 1.015625 -7.550781 1.546875 -8.09375 C 2.078125 -8.632812 2.785156 -8.90625 3.671875 -8.90625 C 4.679688 -8.90625 5.453125 -8.515625 5.984375 -7.734375 C 6.523438 -6.960938 6.796875 -5.835938 6.796875 -4.359375 C 6.796875 -2.984375 6.46875 -1.882812 5.8125 -1.0625 C 5.15625 -0.238281 4.273438 0.171875 3.171875 0.171875 C 2.867188 0.171875 2.566406 0.140625 2.265625 0.078125 C 1.960938 0.0234375 1.644531 -0.0625 1.3125 -0.1875 Z M 3.671875 -3.890625 C 4.203125 -3.890625 4.625 -4.070312 4.9375 -4.4375 C 5.25 -4.800781 5.40625 -5.300781 5.40625 -5.9375 C 5.40625 -6.5625 5.25 -7.054688 4.9375 -7.421875 C 4.625 -7.785156 4.203125 -7.96875 3.671875 -7.96875 C 3.140625 -7.96875 2.71875 -7.785156 2.40625 -7.421875 C 2.101562 -7.054688 1.953125 -6.5625 1.953125 -5.9375 C 1.953125 -5.300781 2.101562 -4.800781 2.40625 -4.4375 C 2.71875 -4.070312 3.140625 -3.890625 3.671875 -3.890625 Z M 3.671875 -3.890625 \"/>\n",
       "</symbol>\n",
       "<symbol overflow=\"visible\" id=\"glyph1-8\">\n",
       "<path style=\"stroke:none;\" d=\"M 4.53125 -7.71875 L 1.546875 -3.046875 L 4.53125 -3.046875 Z M 4.21875 -8.75 L 5.71875 -8.75 L 5.71875 -3.046875 L 6.96875 -3.046875 L 6.96875 -2.0625 L 5.71875 -2.0625 L 5.71875 0 L 4.53125 0 L 4.53125 -2.0625 L 0.59375 -2.0625 L 0.59375 -3.203125 Z M 4.21875 -8.75 \"/>\n",
       "</symbol>\n",
       "<symbol overflow=\"visible\" id=\"glyph1-9\">\n",
       "<path style=\"stroke:none;\" d=\"M 1.296875 -8.75 L 5.9375 -8.75 L 5.9375 -7.75 L 2.375 -7.75 L 2.375 -5.609375 C 2.550781 -5.671875 2.722656 -5.710938 2.890625 -5.734375 C 3.066406 -5.765625 3.238281 -5.78125 3.40625 -5.78125 C 4.382812 -5.78125 5.160156 -5.507812 5.734375 -4.96875 C 6.304688 -4.4375 6.59375 -3.71875 6.59375 -2.8125 C 6.59375 -1.863281 6.296875 -1.128906 5.703125 -0.609375 C 5.117188 -0.0859375 4.296875 0.171875 3.234375 0.171875 C 2.859375 0.171875 2.476562 0.140625 2.09375 0.078125 C 1.71875 0.015625 1.328125 -0.078125 0.921875 -0.203125 L 0.921875 -1.390625 C 1.273438 -1.203125 1.640625 -1.0625 2.015625 -0.96875 C 2.390625 -0.875 2.785156 -0.828125 3.203125 -0.828125 C 3.878906 -0.828125 4.414062 -1.003906 4.8125 -1.359375 C 5.207031 -1.710938 5.40625 -2.195312 5.40625 -2.8125 C 5.40625 -3.414062 5.207031 -3.894531 4.8125 -4.25 C 4.414062 -4.601562 3.878906 -4.78125 3.203125 -4.78125 C 2.890625 -4.78125 2.570312 -4.742188 2.25 -4.671875 C 1.9375 -4.609375 1.617188 -4.503906 1.296875 -4.359375 Z M 1.296875 -8.75 \"/>\n",
       "</symbol>\n",
       "</g>\n",
       "</defs>\n",
       "<g id=\"surface141\">\n",
       "<rect x=\"0\" y=\"0\" width=\"300\" height=\"300\" style=\"fill:rgb(100%,100%,100%);fill-opacity:1;stroke:none;\"/>\n",
       "<path style=\"fill:none;stroke-width:1;stroke-linecap:butt;stroke-linejoin:miter;stroke:rgb(26.666667%,26.666667%,26.666667%);stroke-opacity:1;stroke-miterlimit:10;\" d=\"M 185.667969 260 L 181.011719 143.625 \"/>\n",
       "<path style=\"fill:none;stroke-width:1;stroke-linecap:butt;stroke-linejoin:miter;stroke:rgb(26.666667%,26.666667%,26.666667%);stroke-opacity:1;stroke-miterlimit:10;\" d=\"M 185.667969 260 L 40 206.128906 \"/>\n",
       "<path style=\"fill:none;stroke-width:1;stroke-linecap:butt;stroke-linejoin:miter;stroke:rgb(26.666667%,26.666667%,26.666667%);stroke-opacity:1;stroke-miterlimit:10;\" d=\"M 181.011719 143.625 L 40 206.128906 \"/>\n",
       "<path style=\"fill:none;stroke-width:1;stroke-linecap:butt;stroke-linejoin:miter;stroke:rgb(26.666667%,26.666667%,26.666667%);stroke-opacity:1;stroke-miterlimit:10;\" d=\"M 181.011719 143.625 L 260 40 \"/>\n",
       "<path style=\"fill-rule:nonzero;fill:rgb(100%,0%,0%);fill-opacity:1;stroke-width:1;stroke-linecap:butt;stroke-linejoin:miter;stroke:rgb(0%,0%,0%);stroke-opacity:1;stroke-miterlimit:10;\" d=\"M 195.667969 260 C 195.667969 265.523438 191.191406 270 185.667969 270 C 180.144531 270 175.667969 265.523438 175.667969 260 C 175.667969 254.476562 180.144531 250 185.667969 250 C 191.191406 250 195.667969 254.476562 195.667969 260 \"/>\n",
       "<path style=\"fill-rule:nonzero;fill:rgb(100%,0%,0%);fill-opacity:1;stroke-width:1;stroke-linecap:butt;stroke-linejoin:miter;stroke:rgb(0%,0%,0%);stroke-opacity:1;stroke-miterlimit:10;\" d=\"M 191.011719 143.625 C 191.011719 149.148438 186.535156 153.625 181.011719 153.625 C 175.488281 153.625 171.011719 149.148438 171.011719 143.625 C 171.011719 138.101562 175.488281 133.625 181.011719 133.625 C 186.535156 133.625 191.011719 138.101562 191.011719 143.625 \"/>\n",
       "<path style=\"fill-rule:nonzero;fill:rgb(100%,0%,0%);fill-opacity:1;stroke-width:1;stroke-linecap:butt;stroke-linejoin:miter;stroke:rgb(0%,0%,0%);stroke-opacity:1;stroke-miterlimit:10;\" d=\"M 50 206.128906 C 50 211.652344 45.523438 216.128906 40 216.128906 C 34.476562 216.128906 30 211.652344 30 206.128906 C 30 200.605469 34.476562 196.128906 40 196.128906 C 45.523438 196.128906 50 200.605469 50 206.128906 \"/>\n",
       "<path style=\"fill-rule:nonzero;fill:rgb(100%,0%,0%);fill-opacity:1;stroke-width:1;stroke-linecap:butt;stroke-linejoin:miter;stroke:rgb(0%,0%,0%);stroke-opacity:1;stroke-miterlimit:10;\" d=\"M 270 40 C 270 45.523438 265.523438 50 260 50 C 254.476562 50 250 45.523438 250 40 C 250 34.476562 254.476562 30 260 30 C 265.523438 30 270 34.476562 270 40 \"/>\n",
       "<g style=\"fill:rgb(0%,0%,0%);fill-opacity:1;\">\n",
       "  <use xlink:href=\"#glyph0-1\" x=\"204.746094\" y=\"265.09375\"/>\n",
       "  <use xlink:href=\"#glyph0-1\" x=\"213.632812\" y=\"265.09375\"/>\n",
       "  <use xlink:href=\"#glyph0-2\" x=\"222.519531\" y=\"265.09375\"/>\n",
       "  <use xlink:href=\"#glyph0-3\" x=\"231.365234\" y=\"265.09375\"/>\n",
       "  <use xlink:href=\"#glyph0-4\" x=\"235.81543\" y=\"265.09375\"/>\n",
       "  <use xlink:href=\"#glyph0-5\" x=\"244.257812\" y=\"265.09375\"/>\n",
       "  <use xlink:href=\"#glyph0-6\" x=\"252.057617\" y=\"265.09375\"/>\n",
       "</g>\n",
       "<g style=\"fill:rgb(0%,0%,0%);fill-opacity:1;\">\n",
       "  <use xlink:href=\"#glyph0-6\" x=\"200.230469\" y=\"148.84375\"/>\n",
       "  <use xlink:href=\"#glyph0-7\" x=\"210.005859\" y=\"148.84375\"/>\n",
       "  <use xlink:href=\"#glyph0-8\" x=\"218.619141\" y=\"148.84375\"/>\n",
       "  <use xlink:href=\"#glyph0-9\" x=\"227.492188\" y=\"148.84375\"/>\n",
       "  <use xlink:href=\"#glyph0-10\" x=\"232.981445\" y=\"148.84375\"/>\n",
       "  <use xlink:href=\"#glyph0-11\" x=\"238.737305\" y=\"148.84375\"/>\n",
       "  <use xlink:href=\"#glyph0-12\" x=\"242.626953\" y=\"148.84375\"/>\n",
       "  <use xlink:href=\"#glyph0-13\" x=\"250.324219\" y=\"148.84375\"/>\n",
       "  <use xlink:href=\"#glyph0-3\" x=\"258.90332\" y=\"148.84375\"/>\n",
       "  <use xlink:href=\"#glyph0-4\" x=\"263.353516\" y=\"148.84375\"/>\n",
       "  <use xlink:href=\"#glyph0-5\" x=\"271.795898\" y=\"148.84375\"/>\n",
       "  <use xlink:href=\"#glyph0-6\" x=\"279.595703\" y=\"148.84375\"/>\n",
       "</g>\n",
       "<g style=\"fill:rgb(0%,0%,0%);fill-opacity:1;\">\n",
       "  <use xlink:href=\"#glyph0-14\" x=\"-1.125\" y=\"185.925781\"/>\n",
       "  <use xlink:href=\"#glyph0-7\" x=\"8.602539\" y=\"185.925781\"/>\n",
       "  <use xlink:href=\"#glyph0-8\" x=\"17.21582\" y=\"185.925781\"/>\n",
       "  <use xlink:href=\"#glyph0-7\" x=\"26.088867\" y=\"185.925781\"/>\n",
       "  <use xlink:href=\"#glyph0-15\" x=\"34.702148\" y=\"185.925781\"/>\n",
       "  <use xlink:href=\"#glyph0-11\" x=\"46.152344\" y=\"185.925781\"/>\n",
       "  <use xlink:href=\"#glyph0-3\" x=\"50.041992\" y=\"185.925781\"/>\n",
       "  <use xlink:href=\"#glyph0-4\" x=\"54.492188\" y=\"185.925781\"/>\n",
       "  <use xlink:href=\"#glyph0-5\" x=\"62.93457\" y=\"185.925781\"/>\n",
       "  <use xlink:href=\"#glyph0-6\" x=\"70.734375\" y=\"185.925781\"/>\n",
       "</g>\n",
       "<g style=\"fill:rgb(0%,0%,0%);fill-opacity:1;\">\n",
       "  <use xlink:href=\"#glyph0-16\" x=\"72.335938\" y=\"43.867188\"/>\n",
       "  <use xlink:href=\"#glyph0-17\" x=\"83.18457\" y=\"43.867188\"/>\n",
       "  <use xlink:href=\"#glyph0-17\" x=\"91.75\" y=\"43.867188\"/>\n",
       "  <use xlink:href=\"#glyph0-18\" x=\"100.31543\" y=\"43.867188\"/>\n",
       "  <use xlink:href=\"#glyph0-3\" x=\"109.202148\" y=\"43.867188\"/>\n",
       "  <use xlink:href=\"#glyph0-2\" x=\"113.652344\" y=\"43.867188\"/>\n",
       "  <use xlink:href=\"#glyph0-8\" x=\"122.498047\" y=\"43.867188\"/>\n",
       "  <use xlink:href=\"#glyph0-7\" x=\"131.371094\" y=\"43.867188\"/>\n",
       "  <use xlink:href=\"#glyph0-10\" x=\"139.984375\" y=\"43.867188\"/>\n",
       "  <use xlink:href=\"#glyph0-19\" x=\"145.740234\" y=\"43.867188\"/>\n",
       "  <use xlink:href=\"#glyph0-20\" x=\"154.626953\" y=\"43.867188\"/>\n",
       "  <use xlink:href=\"#glyph0-3\" x=\"162.912109\" y=\"43.867188\"/>\n",
       "  <use xlink:href=\"#glyph0-16\" x=\"167.362305\" y=\"43.867188\"/>\n",
       "  <use xlink:href=\"#glyph0-10\" x=\"178.210938\" y=\"43.867188\"/>\n",
       "  <use xlink:href=\"#glyph0-17\" x=\"183.966797\" y=\"43.867188\"/>\n",
       "  <use xlink:href=\"#glyph0-21\" x=\"192.532227\" y=\"43.867188\"/>\n",
       "  <use xlink:href=\"#glyph0-22\" x=\"201.405273\" y=\"43.867188\"/>\n",
       "  <use xlink:href=\"#glyph0-3\" x=\"210.291992\" y=\"43.867188\"/>\n",
       "  <use xlink:href=\"#glyph0-4\" x=\"214.742188\" y=\"43.867188\"/>\n",
       "  <use xlink:href=\"#glyph0-5\" x=\"223.18457\" y=\"43.867188\"/>\n",
       "  <use xlink:href=\"#glyph0-6\" x=\"230.984375\" y=\"43.867188\"/>\n",
       "</g>\n",
       "<g style=\"fill:rgb(0%,0%,0%);fill-opacity:1;\">\n",
       "  <use xlink:href=\"#glyph1-1\" x=\"149.949219\" y=\"211.242188\"/>\n",
       "  <use xlink:href=\"#glyph1-2\" x=\"157.583984\" y=\"211.242188\"/>\n",
       "  <use xlink:href=\"#glyph1-3\" x=\"161.398438\" y=\"211.242188\"/>\n",
       "  <use xlink:href=\"#glyph1-4\" x=\"169.033203\" y=\"211.242188\"/>\n",
       "  <use xlink:href=\"#glyph1-5\" x=\"176.667969\" y=\"211.242188\"/>\n",
       "</g>\n",
       "<g style=\"fill:rgb(0%,0%,0%);fill-opacity:1;\">\n",
       "  <use xlink:href=\"#glyph1-1\" x=\"79.269531\" y=\"247.03125\"/>\n",
       "  <use xlink:href=\"#glyph1-2\" x=\"86.904297\" y=\"247.03125\"/>\n",
       "  <use xlink:href=\"#glyph1-3\" x=\"90.71875\" y=\"247.03125\"/>\n",
       "  <use xlink:href=\"#glyph1-1\" x=\"98.353516\" y=\"247.03125\"/>\n",
       "  <use xlink:href=\"#glyph1-1\" x=\"105.988281\" y=\"247.03125\"/>\n",
       "</g>\n",
       "<g style=\"fill:rgb(0%,0%,0%);fill-opacity:1;\">\n",
       "  <use xlink:href=\"#glyph1-1\" x=\"109.707031\" y=\"188.84375\"/>\n",
       "  <use xlink:href=\"#glyph1-2\" x=\"117.341797\" y=\"188.84375\"/>\n",
       "  <use xlink:href=\"#glyph1-6\" x=\"121.15625\" y=\"188.84375\"/>\n",
       "  <use xlink:href=\"#glyph1-7\" x=\"128.791016\" y=\"188.84375\"/>\n",
       "  <use xlink:href=\"#glyph1-8\" x=\"136.425781\" y=\"188.84375\"/>\n",
       "</g>\n",
       "<g style=\"fill:rgb(0%,0%,0%);fill-opacity:1;\">\n",
       "  <use xlink:href=\"#glyph1-1\" x=\"187.191406\" y=\"101.242188\"/>\n",
       "  <use xlink:href=\"#glyph1-2\" x=\"194.826172\" y=\"101.242188\"/>\n",
       "  <use xlink:href=\"#glyph1-3\" x=\"198.640625\" y=\"101.242188\"/>\n",
       "  <use xlink:href=\"#glyph1-8\" x=\"206.275391\" y=\"101.242188\"/>\n",
       "  <use xlink:href=\"#glyph1-9\" x=\"213.910156\" y=\"101.242188\"/>\n",
       "</g>\n",
       "</g>\n",
       "</svg>\n"
      ],
      "text/plain": [
       "<igraph.drawing.cairo.plot.CairoPlot at 0x7f872d8ba040>"
      ]
     },
     "execution_count": 38,
     "metadata": {
      "image/svg+xml": {
       "isolated": true
      }
     },
     "output_type": "execute_result"
    }
   ],
   "source": [
    "igraph.plot(val_cos_sim_g, './plots/val_cos_sim_all_net.png', **visual_style)"
   ]
  },
  {
   "cell_type": "markdown",
   "id": "82e35e7e",
   "metadata": {},
   "source": [
    "#### SDGs superposition"
   ]
  },
  {
   "cell_type": "code",
   "execution_count": 26,
   "id": "a511b077",
   "metadata": {
    "ExecuteTime": {
     "end_time": "2024-06-27T12:02:15.409854Z",
     "start_time": "2024-06-27T12:02:15.403679Z"
    }
   },
   "outputs": [],
   "source": [
    "with open ('./data/energy_utilities_cos_sim_mats.pickle', 'rb') as f:\n",
    "    cos_sim_dict=pickle.load(f)"
   ]
  },
  {
   "cell_type": "code",
   "execution_count": 27,
   "id": "7f9a8ab1",
   "metadata": {
    "ExecuteTime": {
     "end_time": "2024-06-27T12:02:16.603339Z",
     "start_time": "2024-06-27T12:02:16.595422Z"
    }
   },
   "outputs": [],
   "source": [
    "with open ('./data/sdgs_dict.pickle', 'rb') as f:\n",
    "    sdgs_dict=pickle.load(f)"
   ]
  },
  {
   "cell_type": "code",
   "execution_count": 28,
   "id": "258af1c8",
   "metadata": {
    "ExecuteTime": {
     "end_time": "2024-06-27T12:02:17.031669Z",
     "start_time": "2024-06-27T12:02:17.026540Z"
    }
   },
   "outputs": [],
   "source": [
    "v_year=validated_cos_sim[0]\n",
    "v_field=validated_cos_sim[1]"
   ]
  },
  {
   "cell_type": "code",
   "execution_count": 29,
   "id": "410aab27",
   "metadata": {
    "ExecuteTime": {
     "end_time": "2024-06-27T12:02:17.463929Z",
     "start_time": "2024-06-27T12:02:17.458199Z"
    }
   },
   "outputs": [],
   "source": [
    "companies=list(sdgs_dict[v_year][v_field].keys())"
   ]
  },
  {
   "cell_type": "code",
   "execution_count": 30,
   "id": "5c815334",
   "metadata": {
    "ExecuteTime": {
     "end_time": "2024-06-27T12:02:18.038080Z",
     "start_time": "2024-06-27T12:02:18.027742Z"
    }
   },
   "outputs": [],
   "source": [
    "sdg_superpos=np.zeros((len(companies),len(companies)))\n",
    "for i_c, company_0 in enumerate(companies):\n",
    "    sdgs_i_c=list(sdgs_dict[v_year][v_field][company_0].keys())\n",
    "    for j_c, company_1 in enumerate(companies):\n",
    "        if i_c!=j_c:\n",
    "            sdgs_j_c=list(sdgs_dict[v_year][v_field][company_1].keys())\n",
    "            sdg_superpos[i_c, j_c]=len([sdg for sdg in sdgs_i_c if sdg in sdgs_j_c])/len(sdgs_i_c)"
   ]
  },
  {
   "cell_type": "code",
   "execution_count": 31,
   "id": "74b90256",
   "metadata": {
    "ExecuteTime": {
     "end_time": "2024-06-27T12:02:18.686485Z",
     "start_time": "2024-06-27T12:02:18.676448Z"
    }
   },
   "outputs": [
    {
     "data": {
      "text/plain": [
       "array([[0.        , 0.66666667, 0.46666667, 0.73333333],\n",
       "       [1.        , 0.        , 0.4       , 0.8       ],\n",
       "       [0.875     , 0.5       , 0.        , 0.75      ],\n",
       "       [1.        , 0.72727273, 0.54545455, 0.        ]])"
      ]
     },
     "execution_count": 31,
     "metadata": {},
     "output_type": "execute_result"
    }
   ],
   "source": [
    "sdg_superpos"
   ]
  },
  {
   "cell_type": "markdown",
   "id": "8dbd5e02",
   "metadata": {},
   "source": [
    "Not such a huge similarity. Where does the similarity come from? **To-Do**: manually read the reports."
   ]
  },
  {
   "cell_type": "markdown",
   "id": "c2b67b78",
   "metadata": {},
   "source": [
    "# Semantic analysis per SDG"
   ]
  },
  {
   "cell_type": "markdown",
   "id": "369a93d8",
   "metadata": {},
   "source": [
    "## Load data"
   ]
  },
  {
   "cell_type": "code",
   "execution_count": 68,
   "id": "bb508674",
   "metadata": {
    "ExecuteTime": {
     "end_time": "2024-06-27T16:14:26.237766Z",
     "start_time": "2024-06-27T16:14:26.231309Z"
    }
   },
   "outputs": [],
   "source": [
    "with open ('./data/sdgs_dict.pickle', 'rb') as f:\n",
    "    sdgs_dict=pickle.load(f)"
   ]
  },
  {
   "cell_type": "code",
   "execution_count": 69,
   "id": "e63ccb36",
   "metadata": {
    "ExecuteTime": {
     "end_time": "2024-06-27T16:14:27.831547Z",
     "start_time": "2024-06-27T16:14:27.825354Z"
    }
   },
   "outputs": [],
   "source": [
    "years=list(range(2015, 2024))"
   ]
  },
  {
   "cell_type": "code",
   "execution_count": 71,
   "id": "7108227a",
   "metadata": {
    "ExecuteTime": {
     "end_time": "2024-06-27T16:14:44.032642Z",
     "start_time": "2024-06-27T16:14:44.027771Z"
    }
   },
   "outputs": [],
   "source": [
    "fields=['Utilities','Energy']"
   ]
  },
  {
   "cell_type": "markdown",
   "id": "fdd68d48",
   "metadata": {},
   "source": [
    "## Check on theoretical p-values"
   ]
  },
  {
   "cell_type": "code",
   "execution_count": 35,
   "id": "362b4d43",
   "metadata": {
    "ExecuteTime": {
     "end_time": "2024-06-27T12:02:39.687246Z",
     "start_time": "2024-06-27T12:02:39.674653Z"
    }
   },
   "outputs": [],
   "source": [
    "with open('./data/csps_dict.pickle', 'rb') as f:\n",
    "        csps_dict=pickle.load(f)"
   ]
  },
  {
   "cell_type": "code",
   "execution_count": 36,
   "id": "f567dc85",
   "metadata": {
    "ExecuteTime": {
     "end_time": "2024-06-27T12:02:39.994615Z",
     "start_time": "2024-06-27T12:02:39.986150Z"
    }
   },
   "outputs": [
    {
     "data": {
      "text/plain": [
       "dict_keys([2015, 2016, 2017, 2018, 2019, 2020, 2021, 2022, 2023])"
      ]
     },
     "execution_count": 36,
     "metadata": {},
     "output_type": "execute_result"
    }
   ],
   "source": [
    "csps_dict.keys()"
   ]
  },
  {
   "cell_type": "code",
   "execution_count": 37,
   "id": "95b261be",
   "metadata": {
    "ExecuteTime": {
     "end_time": "2024-06-27T12:02:40.376907Z",
     "start_time": "2024-06-27T12:02:40.361725Z"
    }
   },
   "outputs": [],
   "source": [
    "theo_pvs={}\n",
    "sam_pvs={}\n",
    "for year in csps_dict.keys():\n",
    "    theo_pvs[year]={}\n",
    "    sam_pvs[year]={}\n",
    "    for sector in csps_dict[year].keys():\n",
    "        theo_pvs[year][sector]=[]\n",
    "        sam_pvs[year][sector]=[]\n",
    "        for key in csps_dict[year][sector].keys():\n",
    "            if key!='firms':\n",
    "                for p_val in csps_dict[year][sector][key]['theo_pvals']:\n",
    "                    theo_pvs[year][sector].append(p_val)\n",
    "                for p_val in csps_dict[year][sector][key]['sam_pvals']:\n",
    "                    sam_pvs[year][sector].append(p_val)"
   ]
  },
  {
   "cell_type": "code",
   "execution_count": 38,
   "id": "4ad57781",
   "metadata": {
    "ExecuteTime": {
     "end_time": "2024-06-27T12:02:42.362420Z",
     "start_time": "2024-06-27T12:02:40.987129Z"
    }
   },
   "outputs": [
    {
     "data": {
      "image/png": "[encoded data removed]",
      "text/plain": [
       "<Figure size 640x480 with 1 Axes>"
      ]
     },
     "metadata": {},
     "output_type": "display_data"
    }
   ],
   "source": [
    "for year in csps_dict.keys():\n",
    "    for sector in csps_dict[year].keys():\n",
    "        plt.scatter(theo_pvs[year][sector], sam_pvs[year][sector], label=sector+', '+str(year))\n",
    "plt.plot([0,1], [0, 1], ls='--', c='black')\n",
    "plt.xlabel('Theoretical distribution p-value', fontsize=14)\n",
    "plt.ylabel('Empirical distribution p-value\\n N(sample)=200', fontsize=14)\n",
    "plt.legend()\n",
    "plt.show()"
   ]
  },
  {
   "cell_type": "markdown",
   "id": "9e63bb59",
   "metadata": {},
   "source": [
    "Almost good..."
   ]
  },
  {
   "cell_type": "markdown",
   "id": "01b9879e",
   "metadata": {},
   "source": [
    "## Validation"
   ]
  },
  {
   "cell_type": "code",
   "execution_count": 39,
   "id": "8cc61a6d",
   "metadata": {
    "ExecuteTime": {
     "end_time": "2024-06-27T12:02:56.482156Z",
     "start_time": "2024-06-27T12:02:56.476143Z"
    }
   },
   "outputs": [],
   "source": [
    "alpha=0.05"
   ]
  },
  {
   "cell_type": "code",
   "execution_count": 42,
   "id": "fbe344d5",
   "metadata": {
    "ExecuteTime": {
     "end_time": "2024-06-27T12:03:03.318362Z",
     "start_time": "2024-06-27T12:03:03.287136Z"
    }
   },
   "outputs": [
    {
     "name": "stdout",
     "output_type": "stream",
     "text": [
      "Energy 2015 SDG 4: Quality Education 0.02\n",
      "[['01_shell' '02_BP']] [0.46866873]\n",
      "------------------------\n",
      "Utilities 2019 SDG 15: Life on Land 0.015\n",
      "[['02_SSE_PLC' '10_GOOD_ENERGY_GROUP_PLC']] [0.52075732]\n",
      "------------------------\n",
      "Energy 2020 SDG 3: Good Health and Well-being 0.01\n",
      "[['04_energeans' '07_SERICA_ENERGY_PLC']\n",
      " ['04_energeans' '10_DIVERSIFIED_ENERGY_COMPANY_PLC']\n",
      " ['07_SERICA_ENERGY_PLC' '10_DIVERSIFIED_ENERGY_COMPANY_PLC']] [0.67243159 0.62456167 0.87880749]\n",
      "------------------------\n",
      "Energy 2020 SDG 5: Gender Equality 0.005\n",
      "[['04_energeans' '07_SERICA_ENERGY_PLC']\n",
      " ['07_SERICA_ENERGY_PLC' '10_DIVERSIFIED_ENERGY_COMPANY_PLC']] [0.71372986 0.80089968]\n",
      "------------------------\n",
      "Energy 2020 SDG 10: Reduced Inequality 0.005\n",
      "[['07_SERICA_ENERGY_PLC' '10_DIVERSIFIED_ENERGY_COMPANY_PLC']] [0.88279593]\n",
      "------------------------\n",
      "Energy 2020 SDG 14: Life Below Water 0.005\n",
      "[['07_SERICA_ENERGY_PLC' '10_DIVERSIFIED_ENERGY_COMPANY_PLC']] [0.6896764]\n",
      "------------------------\n",
      "Energy 2021 SDG 6: Clean Water and Sanitation 0.005\n",
      "[['01_shell' '07_SERICA_ENERGY_PLC']\n",
      " ['03_Harbour_Energy_PLC' '07_SERICA_ENERGY_PLC']\n",
      " ['03_Harbour_Energy_PLC' '10_DIVERSIFIED_ENERGY_COMPANY_PLC']\n",
      " ['04_energeans' '07_SERICA_ENERGY_PLC']\n",
      " ['07_SERICA_ENERGY_PLC' '10_DIVERSIFIED_ENERGY_COMPANY_PLC']] [0.63027287 0.75700521 0.68774486 0.52473569 0.70131677]\n",
      "------------------------\n",
      "Energy 2021 SDG 14: Life Below Water 0.01\n",
      "[['03_Harbour_Energy_PLC' '07_SERICA_ENERGY_PLC']\n",
      " ['03_Harbour_Energy_PLC' '10_DIVERSIFIED_ENERGY_COMPANY_PLC']\n",
      " ['07_SERICA_ENERGY_PLC' '10_DIVERSIFIED_ENERGY_COMPANY_PLC']] [0.79153651 0.7623961  0.6896764 ]\n",
      "------------------------\n",
      "Utilities 2021 SDG 17: Partnerships for the Goals 0.005\n",
      "[['07_PENNON_GROUP_PLC' '08_RENEWI_PLC']] [0.84030288]\n",
      "------------------------\n",
      "Energy 2022 SDG 6: Clean Water and Sanitation 0.005\n",
      "[['01_shell' '07_SERICA_ENERGY_PLC']\n",
      " ['03_Harbour_Energy_PLC' '04_energeans']\n",
      " ['03_Harbour_Energy_PLC' '07_SERICA_ENERGY_PLC']\n",
      " ['03_Harbour_Energy_PLC' '10_DIVERSIFIED_ENERGY_COMPANY_PLC']\n",
      " ['04_energeans' '07_SERICA_ENERGY_PLC']\n",
      " ['04_energeans' '10_DIVERSIFIED_ENERGY_COMPANY_PLC']\n",
      " ['07_SERICA_ENERGY_PLC' '10_DIVERSIFIED_ENERGY_COMPANY_PLC']] [0.63027287 0.95906276 0.77116054 0.69453055 0.78297538 0.73259658\n",
      " 0.70131677]\n",
      "------------------------\n",
      "Energy 2022 SDG 14: Life Below Water 0.005\n",
      "[['03_Harbour_Energy_PLC' '07_SERICA_ENERGY_PLC']\n",
      " ['03_Harbour_Energy_PLC' '10_DIVERSIFIED_ENERGY_COMPANY_PLC']\n",
      " ['07_SERICA_ENERGY_PLC' '10_DIVERSIFIED_ENERGY_COMPANY_PLC']] [0.82551944 0.78797299 0.6896764 ]\n",
      "------------------------\n",
      "Energy 2023 SDG 5: Gender Equality 0.005\n",
      "[['07_SERICA_ENERGY_PLC' '08_ASHTEAD_TECHNOLOGY_HOLDINGS_PLC']\n",
      " ['07_SERICA_ENERGY_PLC' '10_DIVERSIFIED_ENERGY_COMPANY_PLC']\n",
      " ['08_ASHTEAD_TECHNOLOGY_HOLDINGS_PLC'\n",
      "  '10_DIVERSIFIED_ENERGY_COMPANY_PLC']] [0.78164208 0.78345245 0.97813714]\n",
      "------------------------\n",
      "Energy 2023 SDG 10: Reduced Inequality 0.005\n",
      "[['07_SERICA_ENERGY_PLC' '08_ASHTEAD_TECHNOLOGY_HOLDINGS_PLC']\n",
      " ['07_SERICA_ENERGY_PLC' '10_DIVERSIFIED_ENERGY_COMPANY_PLC']\n",
      " ['08_ASHTEAD_TECHNOLOGY_HOLDINGS_PLC'\n",
      "  '10_DIVERSIFIED_ENERGY_COMPANY_PLC']] [0.87402326 0.88279593 0.99506176]\n",
      "------------------------\n",
      "Energy 2023 SDG 14: Life Below Water 0.015\n",
      "[['07_SERICA_ENERGY_PLC' '08_ASHTEAD_TECHNOLOGY_HOLDINGS_PLC']\n",
      " ['07_SERICA_ENERGY_PLC' '10_DIVERSIFIED_ENERGY_COMPANY_PLC']\n",
      " ['08_ASHTEAD_TECHNOLOGY_HOLDINGS_PLC'\n",
      "  '10_DIVERSIFIED_ENERGY_COMPANY_PLC']] [0.67971712 0.6896764  0.97131258]\n",
      "------------------------\n",
      "Utilities 2023 SDG 4: Quality Education 0.005\n",
      "[['01_NATIONAL_GRID_PLC' '04_UNITED_UTILITIES_GROUP_PLC']] [0.43443504]\n",
      "------------------------\n"
     ]
    }
   ],
   "source": [
    "for year in csps_dict.keys():\n",
    "    for sector in csps_dict[year].keys():\n",
    "        for sdg in csps_dict[year][sector].keys():\n",
    "            if sdg=='firms':\n",
    "                _firms=csps_dict[year][sector]['firms']\n",
    "            else:\n",
    "                sams=csps_dict[year][sector][sdg]['sam_pvals']\n",
    "                a_eff=a_fdr(alpha, sams)\n",
    "                if a_eff>0:\n",
    "                    print(sector, year, sdg, a_eff)\n",
    "                    fdr_mask=np.array(sams)<=a_eff\n",
    "                    val_cos_sim=np.array(csps_dict[year][sector][sdg]['cos_sim'])[fdr_mask]\n",
    "                    validated_couples=np.array(csps_dict[year][sector][sdg]['firms'])[fdr_mask]\n",
    "                    print(validated_couples, val_cos_sim)\n",
    "                    print('------------------------')"
   ]
  },
  {
   "cell_type": "code",
   "execution_count": 86,
   "id": "cd40ff65",
   "metadata": {
    "ExecuteTime": {
     "end_time": "2024-06-27T16:21:37.545508Z",
     "start_time": "2024-06-27T16:21:37.535858Z"
    }
   },
   "outputs": [
    {
     "data": {
      "text/plain": [
       "'Summary: Water Management: Efforts to manage water usage and discharge, including monitoring and treating produced water to reduce oil concentration before discharging it to the marine environment.'"
      ]
     },
     "execution_count": 86,
     "metadata": {},
     "output_type": "execute_result"
    }
   ],
   "source": [
    "sdgs_dict[2022]['Energy']['03_Harbour_Energy_PLC']['SDG 6: Clean Water and Sanitation']"
   ]
  },
  {
   "cell_type": "code",
   "execution_count": 85,
   "id": "33eb1406",
   "metadata": {
    "ExecuteTime": {
     "end_time": "2024-06-27T16:21:34.380562Z",
     "start_time": "2024-06-27T16:21:34.370484Z"
    }
   },
   "outputs": [
    {
     "data": {
      "text/plain": [
       "'Summary: - **Water Management:** Efforts to manage water usage and discharge, including monitoring and treating produced water to reduce oil concentration before discharging it to the marine environment. Increased recycling and reuse of water withdrawals.'"
      ]
     },
     "execution_count": 85,
     "metadata": {},
     "output_type": "execute_result"
    }
   ],
   "source": [
    "sdgs_dict[2022]['Energy']['04_energeans']['SDG 6: Clean Water and Sanitation']"
   ]
  },
  {
   "cell_type": "code",
   "execution_count": null,
   "id": "40c188d9",
   "metadata": {},
   "outputs": [],
   "source": []
  }
 ],
 "metadata": {
  "kernelspec": {
   "display_name": "Python 3 (ipykernel)",
   "language": "python",
   "name": "python3"
  },
  "language_info": {
   "codemirror_mode": {
    "name": "ipython",
    "version": 3
   },
   "file_extension": ".py",
   "mimetype": "text/x-python",
   "name": "python",
   "nbconvert_exporter": "python",
   "pygments_lexer": "ipython3",
   "version": "3.8.10"
  },
  "notify_time": "5",
  "toc": {
   "base_numbering": 1,
   "nav_menu": {},
   "number_sections": true,
   "sideBar": true,
   "skip_h1_title": false,
   "title_cell": "Table of Contents",
   "title_sidebar": "Contents",
   "toc_cell": false,
   "toc_position": {
    "height": "calc(100% - 180px)",
    "left": "10px",
    "top": "150px",
    "width": "288px"
   },
   "toc_section_display": true,
   "toc_window_display": true
  }
 },
 "nbformat": 4,
 "nbformat_minor": 5
}
