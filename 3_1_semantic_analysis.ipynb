{
 "cells": [
  {
   "cell_type": "markdown",
   "id": "7994122d",
   "metadata": {},
   "source": [
    "# Intro"
   ]
  },
  {
   "cell_type": "markdown",
   "id": "3da98456",
   "metadata": {},
   "source": [
    "## Load"
   ]
  },
  {
   "cell_type": "markdown",
   "id": "47cbe95e",
   "metadata": {},
   "source": [
    "### Standards"
   ]
  },
  {
   "cell_type": "code",
   "execution_count": 1,
   "id": "e3f799e9",
   "metadata": {
    "ExecuteTime": {
     "end_time": "2024-06-26T09:07:37.435316Z",
     "start_time": "2024-06-26T09:07:37.171406Z"
    }
   },
   "outputs": [],
   "source": [
    "import os, sys, pickle\n",
    "import numpy as np\n",
    "from tqdm.notebook import trange, tqdm\n",
    "import re"
   ]
  },
  {
   "cell_type": "code",
   "execution_count": 2,
   "id": "44f06e9c",
   "metadata": {
    "ExecuteTime": {
     "end_time": "2024-06-26T09:07:39.141155Z",
     "start_time": "2024-06-26T09:07:38.420462Z"
    }
   },
   "outputs": [],
   "source": [
    "import matplotlib.pyplot as plt\n",
    "plt.rcParams['axes.linewidth'] = 2\n",
    "plt.rcParams['xtick.major.size'] = 10\n",
    "plt.rcParams['xtick.major.width'] = 2\n",
    "plt.rcParams['ytick.major.size'] = 10\n",
    "plt.rcParams['ytick.major.width'] = 2\n",
    "\n",
    "plt.rcParams['xtick.labelsize'] = 14\n",
    "plt.rcParams['ytick.labelsize'] = 14\n",
    "\n",
    "plt.rcParams['xtick.minor.size'] = 5\n",
    "plt.rcParams['xtick.minor.width'] = 1\n",
    "plt.rcParams['ytick.minor.size'] = 5\n",
    "plt.rcParams['ytick.minor.width'] = 1\n"
   ]
  },
  {
   "cell_type": "code",
   "execution_count": 3,
   "id": "f842cca4",
   "metadata": {
    "ExecuteTime": {
     "end_time": "2024-06-26T09:07:39.169008Z",
     "start_time": "2024-06-26T09:07:39.145469Z"
    }
   },
   "outputs": [],
   "source": [
    "from multiprocess import Pool"
   ]
  },
  {
   "cell_type": "markdown",
   "id": "e1f64317",
   "metadata": {},
   "source": [
    "### Homemade modules"
   ]
  },
  {
   "cell_type": "code",
   "execution_count": 4,
   "id": "2dd99fde",
   "metadata": {
    "ExecuteTime": {
     "end_time": "2024-06-26T09:07:43.785959Z",
     "start_time": "2024-06-26T09:07:39.815312Z"
    }
   },
   "outputs": [],
   "source": [
    "from tesste import tesste\n",
    "from ppp import ppp\n",
    "from readers_and_converters import file2text, text2dict, text2vec"
   ]
  },
  {
   "cell_type": "markdown",
   "id": "6b24787d",
   "metadata": {},
   "source": [
    "## Stoopid infos"
   ]
  },
  {
   "cell_type": "code",
   "execution_count": 5,
   "id": "19b5d54a",
   "metadata": {
    "ExecuteTime": {
     "end_time": "2024-06-26T09:07:43.795735Z",
     "start_time": "2024-06-26T09:07:43.791036Z"
    }
   },
   "outputs": [],
   "source": [
    "L_SDGS=17"
   ]
  },
  {
   "cell_type": "markdown",
   "id": "f998676f",
   "metadata": {},
   "source": [
    "## Stoopid functions"
   ]
  },
  {
   "cell_type": "code",
   "execution_count": 6,
   "id": "58284d71",
   "metadata": {
    "ExecuteTime": {
     "end_time": "2024-06-26T09:07:43.894695Z",
     "start_time": "2024-06-26T09:07:43.798539Z"
    }
   },
   "outputs": [],
   "source": [
    "def a_fdr(alpha, pval_vec):\n",
    "    ord_pvs=np.sort(pval_vec)\n",
    "    lopvs=len(ord_pvs)\n",
    "    if lopvs>0:\n",
    "        fdr_tests=ord_pvs[ord_pvs<=alpha/lopvs*(1+np.arange(lopvs))]\n",
    "        if len(fdr_tests)>0:\n",
    "            return fdr_tests[-1]\n",
    "        else:\n",
    "            return 0\n",
    "    return 0"
   ]
  },
  {
   "cell_type": "markdown",
   "id": "bf7f0874",
   "metadata": {},
   "source": [
    "# Data"
   ]
  },
  {
   "cell_type": "code",
   "execution_count": 7,
   "id": "2d66512f",
   "metadata": {
    "ExecuteTime": {
     "end_time": "2024-06-26T09:07:43.987959Z",
     "start_time": "2024-06-26T09:07:43.899385Z"
    }
   },
   "outputs": [],
   "source": [
    "with open ('./data/energy_utilities_texts.pickle', 'rb') as f:\n",
    "    text_dict=pickle.load(f)"
   ]
  },
  {
   "cell_type": "markdown",
   "id": "267df854",
   "metadata": {},
   "source": [
    "# Semantic analysis per report"
   ]
  },
  {
   "cell_type": "markdown",
   "id": "2b2fed36",
   "metadata": {},
   "source": [
    "## Cosine similarity calculations"
   ]
  },
  {
   "cell_type": "code",
   "execution_count": 8,
   "id": "6828070c",
   "metadata": {
    "ExecuteTime": {
     "end_time": "2024-06-26T12:50:25.332716Z",
     "start_time": "2024-06-26T09:07:46.806906Z"
    }
   },
   "outputs": [
    {
     "data": {
      "application/vnd.jupyter.widget-view+json": {
       "model_id": "",
       "version_major": 2,
       "version_minor": 0
      },
      "text/plain": [
       "Energy 2015:   0%|          | 0/2 [00:00<?, ?it/s]"
      ]
     },
     "metadata": {},
     "output_type": "display_data"
    },
    {
     "name": "stderr",
     "output_type": "stream",
     "text": [
      "/home/sarawalk/sdgs_py38/lib/python3.8/site-packages/torch/cuda/__init__.py:118: UserWarning: CUDA initialization: The NVIDIA driver on your system is too old (found version 10020). Please update your GPU driver by downloading and installing a new version from the URL: http://www.nvidia.com/Download/index.aspx Alternatively, go to: https://pytorch.org to install a PyTorch version that has been compiled with your version of the CUDA driver. (Triggered internally at ../c10/cuda/CUDAFunctions.cpp:108.)\n",
      "  return torch._C._cuda_getDeviceCount() > 0\n",
      "huggingface/tokenizers: The current process just got forked, after parallelism has already been used. Disabling parallelism to avoid deadlocks...\n",
      "To disable this warning, you can either:\n",
      "\t- Avoid using `tokenizers` before the fork if possible\n",
      "\t- Explicitly set the environment variable TOKENIZERS_PARALLELISM=(true | false)\n",
      "/home/sarawalk/sdgs_py38/lib/python3.8/site-packages/torch/cuda/__init__.py:619: UserWarning: Can't initialize NVML\n",
      "  warnings.warn(\"Can't initialize NVML\")\n"
     ]
    },
    {
     "data": {
      "application/vnd.jupyter.widget-view+json": {
       "model_id": "",
       "version_major": 2,
       "version_minor": 0
      },
      "text/plain": [
       "  0%|          | 0/200 [00:00<?, ?it/s]"
      ]
     },
     "metadata": {},
     "output_type": "display_data"
    },
    {
     "name": "stderr",
     "output_type": "stream",
     "text": [
      "/home/sarawalk/sdgs_py38/lib/python3.8/site-packages/scipy/stats/_distn_infrastructure.py:2789: RuntimeWarning: invalid value encountered in scalar multiply\n",
      "  Lhat = muhat - Shat*mu\n"
     ]
    },
    {
     "data": {
      "application/vnd.jupyter.widget-view+json": {
       "model_id": "",
       "version_major": 2,
       "version_minor": 0
      },
      "text/plain": [
       "Utilities 2015:   0%|          | 0/1 [00:00<?, ?it/s]"
      ]
     },
     "metadata": {},
     "output_type": "display_data"
    },
    {
     "data": {
      "application/vnd.jupyter.widget-view+json": {
       "model_id": "",
       "version_major": 2,
       "version_minor": 0
      },
      "text/plain": [
       "Energy 2016:   0%|          | 0/2 [00:00<?, ?it/s]"
      ]
     },
     "metadata": {},
     "output_type": "display_data"
    },
    {
     "data": {
      "application/vnd.jupyter.widget-view+json": {
       "model_id": "",
       "version_major": 2,
       "version_minor": 0
      },
      "text/plain": [
       "  0%|          | 0/200 [00:00<?, ?it/s]"
      ]
     },
     "metadata": {},
     "output_type": "display_data"
    },
    {
     "data": {
      "application/vnd.jupyter.widget-view+json": {
       "model_id": "",
       "version_major": 2,
       "version_minor": 0
      },
      "text/plain": [
       "Utilities 2016:   0%|          | 0/2 [00:00<?, ?it/s]"
      ]
     },
     "metadata": {},
     "output_type": "display_data"
    },
    {
     "data": {
      "application/vnd.jupyter.widget-view+json": {
       "model_id": "",
       "version_major": 2,
       "version_minor": 0
      },
      "text/plain": [
       "  0%|          | 0/200 [00:00<?, ?it/s]"
      ]
     },
     "metadata": {},
     "output_type": "display_data"
    },
    {
     "data": {
      "application/vnd.jupyter.widget-view+json": {
       "model_id": "",
       "version_major": 2,
       "version_minor": 0
      },
      "text/plain": [
       "Energy 2017:   0%|          | 0/2 [00:00<?, ?it/s]"
      ]
     },
     "metadata": {},
     "output_type": "display_data"
    },
    {
     "data": {
      "application/vnd.jupyter.widget-view+json": {
       "model_id": "",
       "version_major": 2,
       "version_minor": 0
      },
      "text/plain": [
       "  0%|          | 0/200 [00:00<?, ?it/s]"
      ]
     },
     "metadata": {},
     "output_type": "display_data"
    },
    {
     "data": {
      "application/vnd.jupyter.widget-view+json": {
       "model_id": "",
       "version_major": 2,
       "version_minor": 0
      },
      "text/plain": [
       "Utilities 2017:   0%|          | 0/3 [00:00<?, ?it/s]"
      ]
     },
     "metadata": {},
     "output_type": "display_data"
    },
    {
     "data": {
      "application/vnd.jupyter.widget-view+json": {
       "model_id": "",
       "version_major": 2,
       "version_minor": 0
      },
      "text/plain": [
       "  0%|          | 0/200 [00:00<?, ?it/s]"
      ]
     },
     "metadata": {},
     "output_type": "display_data"
    },
    {
     "data": {
      "application/vnd.jupyter.widget-view+json": {
       "model_id": "",
       "version_major": 2,
       "version_minor": 0
      },
      "text/plain": [
       "  0%|          | 0/200 [00:00<?, ?it/s]"
      ]
     },
     "metadata": {},
     "output_type": "display_data"
    },
    {
     "data": {
      "application/vnd.jupyter.widget-view+json": {
       "model_id": "",
       "version_major": 2,
       "version_minor": 0
      },
      "text/plain": [
       "  0%|          | 0/200 [00:00<?, ?it/s]"
      ]
     },
     "metadata": {},
     "output_type": "display_data"
    },
    {
     "data": {
      "application/vnd.jupyter.widget-view+json": {
       "model_id": "",
       "version_major": 2,
       "version_minor": 0
      },
      "text/plain": [
       "Energy 2018:   0%|          | 0/3 [00:00<?, ?it/s]"
      ]
     },
     "metadata": {},
     "output_type": "display_data"
    },
    {
     "data": {
      "application/vnd.jupyter.widget-view+json": {
       "model_id": "",
       "version_major": 2,
       "version_minor": 0
      },
      "text/plain": [
       "  0%|          | 0/200 [00:00<?, ?it/s]"
      ]
     },
     "metadata": {},
     "output_type": "display_data"
    },
    {
     "data": {
      "application/vnd.jupyter.widget-view+json": {
       "model_id": "",
       "version_major": 2,
       "version_minor": 0
      },
      "text/plain": [
       "  0%|          | 0/200 [00:00<?, ?it/s]"
      ]
     },
     "metadata": {},
     "output_type": "display_data"
    },
    {
     "data": {
      "application/vnd.jupyter.widget-view+json": {
       "model_id": "",
       "version_major": 2,
       "version_minor": 0
      },
      "text/plain": [
       "  0%|          | 0/200 [00:00<?, ?it/s]"
      ]
     },
     "metadata": {},
     "output_type": "display_data"
    },
    {
     "data": {
      "application/vnd.jupyter.widget-view+json": {
       "model_id": "",
       "version_major": 2,
       "version_minor": 0
      },
      "text/plain": [
       "Utilities 2018:   0%|          | 0/4 [00:00<?, ?it/s]"
      ]
     },
     "metadata": {},
     "output_type": "display_data"
    },
    {
     "data": {
      "application/vnd.jupyter.widget-view+json": {
       "model_id": "",
       "version_major": 2,
       "version_minor": 0
      },
      "text/plain": [
       "  0%|          | 0/200 [00:00<?, ?it/s]"
      ]
     },
     "metadata": {},
     "output_type": "display_data"
    },
    {
     "data": {
      "application/vnd.jupyter.widget-view+json": {
       "model_id": "",
       "version_major": 2,
       "version_minor": 0
      },
      "text/plain": [
       "  0%|          | 0/200 [00:00<?, ?it/s]"
      ]
     },
     "metadata": {},
     "output_type": "display_data"
    },
    {
     "data": {
      "application/vnd.jupyter.widget-view+json": {
       "model_id": "",
       "version_major": 2,
       "version_minor": 0
      },
      "text/plain": [
       "  0%|          | 0/200 [00:00<?, ?it/s]"
      ]
     },
     "metadata": {},
     "output_type": "display_data"
    },
    {
     "data": {
      "application/vnd.jupyter.widget-view+json": {
       "model_id": "",
       "version_major": 2,
       "version_minor": 0
      },
      "text/plain": [
       "  0%|          | 0/200 [00:00<?, ?it/s]"
      ]
     },
     "metadata": {},
     "output_type": "display_data"
    },
    {
     "data": {
      "application/vnd.jupyter.widget-view+json": {
       "model_id": "",
       "version_major": 2,
       "version_minor": 0
      },
      "text/plain": [
       "  0%|          | 0/200 [00:00<?, ?it/s]"
      ]
     },
     "metadata": {},
     "output_type": "display_data"
    },
    {
     "data": {
      "application/vnd.jupyter.widget-view+json": {
       "model_id": "",
       "version_major": 2,
       "version_minor": 0
      },
      "text/plain": [
       "  0%|          | 0/200 [00:00<?, ?it/s]"
      ]
     },
     "metadata": {},
     "output_type": "display_data"
    },
    {
     "data": {
      "application/vnd.jupyter.widget-view+json": {
       "model_id": "8c712f4e06e943009a804f75064f1dd0",
       "version_major": 2,
       "version_minor": 0
      },
      "text/plain": [
       "Energy 2019:   0%|          | 0/6 [00:00<?, ?it/s]"
      ]
     },
     "metadata": {},
     "output_type": "display_data"
    },
    {
     "data": {
      "application/vnd.jupyter.widget-view+json": {
       "model_id": "",
       "version_major": 2,
       "version_minor": 0
      },
      "text/plain": [
       "  0%|          | 0/200 [00:00<?, ?it/s]"
      ]
     },
     "metadata": {},
     "output_type": "display_data"
    },
    {
     "data": {
      "application/vnd.jupyter.widget-view+json": {
       "model_id": "",
       "version_major": 2,
       "version_minor": 0
      },
      "text/plain": [
       "  0%|          | 0/200 [00:00<?, ?it/s]"
      ]
     },
     "metadata": {},
     "output_type": "display_data"
    },
    {
     "data": {
      "application/vnd.jupyter.widget-view+json": {
       "model_id": "fe06508f9c3b4d248ddebb8c0d56ad89",
       "version_major": 2,
       "version_minor": 0
      },
      "text/plain": [
       "  0%|          | 0/200 [00:00<?, ?it/s]"
      ]
     },
     "metadata": {},
     "output_type": "display_data"
    }
   ],
   "source": [
    "cos_sim_dict={}\n",
    "for year in range(2015, 2024):\n",
    "    s_year=str(year)\n",
    "    cos_sim_dict[year]={}\n",
    "    energy_co_s=list(text_dict['Energy'][s_year].keys())\n",
    "    # inside energy\n",
    "    energy_cos_sims=np.zeros((len(energy_co_s), len(energy_co_s)))\n",
    "    energy_pvals=np.zeros((len(energy_co_s), len(energy_co_s)))\n",
    "    for i_e, energy_co_0 in enumerate(tqdm(energy_co_s, leave=False, desc='Energy '+s_year)):\n",
    "        text_0=text_dict['Energy'][s_year][energy_co_0]\n",
    "        for j_e in range(i_e+1, len(energy_co_s)):\n",
    "            energy_co_1=energy_co_s[j_e]\n",
    "            text_1=text_dict['Energy'][s_year][energy_co_1]\n",
    "            cacca=tesste(text_0, text_1, n_sample=200)\n",
    "            energy_cos_sims[i_e, j_e]=cacca.cos_sim\n",
    "            energy_pvals[i_e, j_e]=cacca.pval\n",
    "            \n",
    "    cos_sim_dict[year]['Energy']={}\n",
    "    cos_sim_dict[year]['Energy']['cos_sim']=energy_cos_sims\n",
    "    cos_sim_dict[year]['Energy']['pvals']=energy_pvals\n",
    "    \n",
    "    utilities_co_s=list(text_dict['Utilities'][s_year].keys())\n",
    "    utilities_cos_sims=np.zeros((len(utilities_co_s), len(utilities_co_s)))\n",
    "    utilities_pvals=np.zeros((len(utilities_co_s), len(utilities_co_s)))\n",
    "    # inside utilities\n",
    "    for i_e, utilities_co_0 in enumerate(tqdm(utilities_co_s, leave=False, desc='Utilities '+s_year)):\n",
    "        text_0=text_dict['Utilities'][s_year][utilities_co_0]\n",
    "        for j_e in range(i_e+1, len(utilities_co_s)):\n",
    "            utilities_co_1=utilities_co_s[j_e]\n",
    "            text_1=text_dict['Utilities'][s_year][utilities_co_1]\n",
    "            cacca=tesste(text_0, text_1, n_sample=200)\n",
    "            utilities_cos_sims[i_e, j_e]=cacca.cos_sim\n",
    "            utilities_pvals[i_e, j_e]=cacca.pval\n",
    "            \n",
    "    cos_sim_dict[year]['Utilities']={}\n",
    "    cos_sim_dict[year]['Utilities']['cos_sim']=utilities_cos_sims\n",
    "    cos_sim_dict[year]['Utilities']['pvals']=utilities_pvals\n"
   ]
  },
  {
   "cell_type": "markdown",
   "id": "d880a498",
   "metadata": {},
   "source": [
    "### Something I forgot"
   ]
  },
  {
   "cell_type": "code",
   "execution_count": null,
   "id": "613a7374",
   "metadata": {
    "ExecuteTime": {
     "start_time": "2024-06-26T09:07:07.616Z"
    }
   },
   "outputs": [],
   "source": [
    "with open ('./data/energy_utilities_cos_sim_mats.pickle', 'rb') as f:\n",
    "    cos_sim_dict=pickle.load(f)"
   ]
  },
  {
   "cell_type": "code",
   "execution_count": null,
   "id": "0c34cd8a",
   "metadata": {
    "ExecuteTime": {
     "start_time": "2024-06-26T09:07:08.093Z"
    }
   },
   "outputs": [],
   "source": [
    "for year in range(2015, 2024):\n",
    "    s_year=str(year)\n",
    "    for field in ['Energy', 'Utilities']:\n",
    "        firms=list(text_dict[field][s_year].keys())\n",
    "        cos_sim_dict[year][field]['companies']=firms"
   ]
  },
  {
   "cell_type": "code",
   "execution_count": null,
   "id": "3aaa85e6",
   "metadata": {
    "ExecuteTime": {
     "start_time": "2024-06-26T09:07:09.337Z"
    }
   },
   "outputs": [],
   "source": [
    "with open ('./data/energy_utilities_cos_sim_mats.pickle', 'wb') as f:\n",
    "    pickle.dump(cos_sim_dict, f)"
   ]
  },
  {
   "cell_type": "markdown",
   "id": "a67b78a5",
   "metadata": {},
   "source": [
    "## Cosine similarity analysis"
   ]
  },
  {
   "cell_type": "code",
   "execution_count": null,
   "id": "efbd6394",
   "metadata": {
    "ExecuteTime": {
     "start_time": "2024-06-26T09:07:12.277Z"
    }
   },
   "outputs": [],
   "source": [
    "with open ('./data/energy_utilities_cos_sim_mats.pickle', 'rb') as f:\n",
    "    cos_sim_dict=pickle.load(f)"
   ]
  },
  {
   "cell_type": "code",
   "execution_count": null,
   "id": "5bd97de8",
   "metadata": {
    "ExecuteTime": {
     "start_time": "2024-06-26T09:07:12.471Z"
    }
   },
   "outputs": [],
   "source": [
    "years=list(range(2015, 2024))"
   ]
  },
  {
   "cell_type": "code",
   "execution_count": null,
   "id": "506ed73d",
   "metadata": {
    "ExecuteTime": {
     "start_time": "2024-06-26T09:07:12.659Z"
    }
   },
   "outputs": [],
   "source": [
    "# actually, it shouldn't be done, but I saw that relaxing from alpha=0.01 to alpha=0.05,\n",
    "# I get more validated entries...\n",
    "alpha=.05"
   ]
  },
  {
   "cell_type": "code",
   "execution_count": null,
   "id": "d739449b",
   "metadata": {
    "ExecuteTime": {
     "start_time": "2024-06-26T09:07:13.163Z"
    }
   },
   "outputs": [],
   "source": [
    "for year in years:\n",
    "    for field in ['Energy', 'Utilities']:\n",
    "        pvals=cos_sim_dict[year][field]['pvals']\n",
    "        cos_sim=cos_sim_dict[year][field]['cos_sim']\n",
    "        firms=cos_sim_dict[year][field]['companies']\n",
    "        if len(firms)>1:\n",
    "            # get the number of tests\n",
    "            n_tests=len(firms)*(len(firms)-1)/2\n",
    "            # calculate effective alpha according to Bonferroni\n",
    "            alpha_bonf=alpha/n_tests\n",
    "            # get the effective alpha according to fdr\n",
    "            pvals_vec=np.sort(pvals[pvals>0])\n",
    "            fdr_vec=(1+np.arange(len(pvals_vec)))*alpha_bonf\n",
    "            alpha_fdrs=fdr_vec[pvals_vec<=fdr_vec]\n",
    "            if len(alpha_fdrs)>0:\n",
    "                alpha_fdr=alpha_fdrs[-1]\n",
    "                # where are the validated entries?\n",
    "                where_vals=np.where(np.logical_and(pvals<=alpha_fdr, pvals>0))\n",
    "                val_couples=[]\n",
    "                for i in range(len(where_vals[0])):\n",
    "                    val_couples.append((firms[where_vals[0][i]],firms[where_vals[1][i]]))\n",
    "                # return values\n",
    "                print(year, field)\n",
    "                print('---------------------')\n",
    "                for i, val_couple in enumerate(val_couples):\n",
    "                    print(val_couple, cos_sim[where_vals[0][i], where_vals[1][i]])"
   ]
  },
  {
   "cell_type": "code",
   "execution_count": null,
   "id": "239ae7d9",
   "metadata": {
    "ExecuteTime": {
     "start_time": "2024-06-26T09:07:15.728Z"
    }
   },
   "outputs": [],
   "source": [
    "print('DA QUI!')"
   ]
  },
  {
   "cell_type": "code",
   "execution_count": null,
   "id": "52a548c3",
   "metadata": {
    "ExecuteTime": {
     "end_time": "2024-06-25T15:50:25.685983Z",
     "start_time": "2024-06-25T15:50:25.685957Z"
    }
   },
   "outputs": [],
   "source": [
    "cos_sim_dict[2019]['Utilities']['companies']"
   ]
  },
  {
   "cell_type": "markdown",
   "id": "eb4d7ad2",
   "metadata": {},
   "source": [
    "Quite bizarre that only on a single year (btw, before the COVID, i.e. before when I would have expected to see some excess in the cosine similarity) there is such a diffuse similarity. Moreover, CENTRICA is (ehm...) the most central, since it is significantly similar to all others."
   ]
  },
  {
   "cell_type": "code",
   "execution_count": 15,
   "id": "aaf0c952",
   "metadata": {
    "ExecuteTime": {
     "end_time": "2024-06-24T12:40:43.481319Z",
     "start_time": "2024-06-24T12:40:43.475154Z"
    }
   },
   "outputs": [],
   "source": [
    "validated_cos_sim=(2019, 'Utilities', val_couples)"
   ]
  },
  {
   "cell_type": "markdown",
   "id": "5455e9f8",
   "metadata": {},
   "source": [
    "### SDGs superposition"
   ]
  },
  {
   "cell_type": "code",
   "execution_count": null,
   "id": "c253b13d",
   "metadata": {
    "ExecuteTime": {
     "start_time": "2024-06-25T15:52:26.810Z"
    }
   },
   "outputs": [],
   "source": [
    "with open ('./data/energy_utilities_cos_sim_mats.pickle', 'rb') as f:\n",
    "    cos_sim_dict=pickle.load(f)"
   ]
  },
  {
   "cell_type": "code",
   "execution_count": null,
   "id": "167efd1f",
   "metadata": {
    "ExecuteTime": {
     "start_time": "2024-06-25T15:52:26.988Z"
    }
   },
   "outputs": [],
   "source": [
    "with open ('./data/sdgs_dict.pickle', 'rb') as f:\n",
    "    sdgs_dict=pickle.load(f)"
   ]
  },
  {
   "cell_type": "code",
   "execution_count": null,
   "id": "7eb84e26",
   "metadata": {
    "ExecuteTime": {
     "start_time": "2024-06-25T15:52:27.169Z"
    }
   },
   "outputs": [],
   "source": [
    "v_year=validated_cos_sim[0]\n",
    "v_field=validated_cos_sim[1]"
   ]
  },
  {
   "cell_type": "code",
   "execution_count": null,
   "id": "3c22156f",
   "metadata": {
    "ExecuteTime": {
     "start_time": "2024-06-25T15:52:27.346Z"
    }
   },
   "outputs": [],
   "source": [
    "companies=list(sdgs_dict[v_year][v_field].keys())"
   ]
  },
  {
   "cell_type": "code",
   "execution_count": null,
   "id": "b6645dbe",
   "metadata": {
    "ExecuteTime": {
     "start_time": "2024-06-25T15:52:27.516Z"
    }
   },
   "outputs": [],
   "source": [
    "sdg_superpos=np.zeros((len(companies),len(companies)))\n",
    "for i_c, company_0 in enumerate(companies):\n",
    "    sdgs_i_c=list(sdgs_dict[v_year][v_field][company_0].keys())\n",
    "    for j_c, company_1 in enumerate(companies):\n",
    "        if i_c!=j_c:\n",
    "            sdgs_j_c=list(sdgs_dict[v_year][v_field][company_1].keys())\n",
    "            sdg_superpos[i_c, j_c]=len([sdg for sdg in sdgs_i_c if sdg in sdgs_j_c])/len(sdgs_i_c)"
   ]
  },
  {
   "cell_type": "code",
   "execution_count": null,
   "id": "eda608b9",
   "metadata": {
    "ExecuteTime": {
     "start_time": "2024-06-25T15:52:27.711Z"
    }
   },
   "outputs": [],
   "source": [
    "sdg_superpos"
   ]
  },
  {
   "cell_type": "markdown",
   "id": "45d53976",
   "metadata": {},
   "source": [
    "Not such a huge similarity. Where does the similarity come from? **To-Do**: manually read the reports."
   ]
  },
  {
   "cell_type": "markdown",
   "id": "0f9f4210",
   "metadata": {},
   "source": [
    "# Semantic analysis per SDG"
   ]
  },
  {
   "cell_type": "markdown",
   "id": "984f9e53",
   "metadata": {},
   "source": [
    "## Load data"
   ]
  },
  {
   "cell_type": "code",
   "execution_count": null,
   "id": "f0e18d22",
   "metadata": {
    "ExecuteTime": {
     "start_time": "2024-06-25T15:52:28.861Z"
    }
   },
   "outputs": [],
   "source": [
    "with open ('./data/sdgs_dict.pickle', 'rb') as f:\n",
    "    sdgs_dict=pickle.load(f)"
   ]
  },
  {
   "cell_type": "code",
   "execution_count": null,
   "id": "6a5dc67a",
   "metadata": {
    "ExecuteTime": {
     "start_time": "2024-06-25T15:52:29.201Z"
    }
   },
   "outputs": [],
   "source": [
    "years=list(range(2015, 2024))"
   ]
  },
  {
   "cell_type": "code",
   "execution_count": null,
   "id": "bf1334d7",
   "metadata": {
    "ExecuteTime": {
     "start_time": "2024-06-25T15:52:29.526Z"
    }
   },
   "outputs": [],
   "source": [
    "fields=['Energy', 'Utilities']"
   ]
  },
  {
   "cell_type": "markdown",
   "id": "f68ec6fe",
   "metadata": {},
   "source": [
    "## Check on theoretical p-values"
   ]
  },
  {
   "cell_type": "code",
   "execution_count": null,
   "id": "f8456380",
   "metadata": {
    "ExecuteTime": {
     "start_time": "2024-06-25T15:52:30.150Z"
    }
   },
   "outputs": [],
   "source": [
    "with open('./data/csps_dict.pickle', 'rb') as f:\n",
    "        csps_dict=pickle.load(f)"
   ]
  },
  {
   "cell_type": "code",
   "execution_count": null,
   "id": "01ac4c5f",
   "metadata": {
    "ExecuteTime": {
     "start_time": "2024-06-25T15:52:30.494Z"
    }
   },
   "outputs": [],
   "source": [
    "csps_dict.keys()"
   ]
  },
  {
   "cell_type": "code",
   "execution_count": null,
   "id": "9f58ae6c",
   "metadata": {
    "ExecuteTime": {
     "start_time": "2024-06-25T15:52:30.971Z"
    }
   },
   "outputs": [],
   "source": [
    "theo_pvs={}\n",
    "sam_pvs={}\n",
    "for year in csps_dict.keys():\n",
    "    theo_pvs[year]={}\n",
    "    sam_pvs[year]={}\n",
    "    for sector in csps_dict[year].keys():\n",
    "        theo_pvs[year][sector]=[]\n",
    "        sam_pvs[year][sector]=[]\n",
    "        for key in csps_dict[year][sector].keys():\n",
    "            if key!='firms':\n",
    "                for p_val in csps_dict[year][sector][key]['theo_pvals']:\n",
    "                    theo_pvs[year][sector].append(p_val)\n",
    "                for p_val in csps_dict[year][sector][key]['sam_pvals']:\n",
    "                    sam_pvs[year][sector].append(p_val)"
   ]
  },
  {
   "cell_type": "code",
   "execution_count": null,
   "id": "d881b913",
   "metadata": {
    "ExecuteTime": {
     "start_time": "2024-06-25T15:52:31.714Z"
    }
   },
   "outputs": [],
   "source": [
    "for year in csps_dict.keys():\n",
    "    for sector in csps_dict[year].keys():\n",
    "        plt.scatter(theo_pvs[year][sector], sam_pvs[year][sector], label=sector+', '+str(year))\n",
    "plt.plot([0,1], [0, 1], ls='--', c='black')\n",
    "plt.xlabel('Theoretical distribution p-value', fontsize=14)\n",
    "plt.ylabel('Empirical distribution p-value\\n N(sample)=200', fontsize=14)\n",
    "plt.legend()\n",
    "plt.show()"
   ]
  },
  {
   "cell_type": "markdown",
   "id": "9dba43ba",
   "metadata": {},
   "source": [
    "Almost good..."
   ]
  },
  {
   "cell_type": "markdown",
   "id": "d02fa1e4",
   "metadata": {},
   "source": [
    "## Validation"
   ]
  },
  {
   "cell_type": "code",
   "execution_count": null,
   "id": "2fd8961d",
   "metadata": {
    "ExecuteTime": {
     "start_time": "2024-06-25T15:52:44.589Z"
    }
   },
   "outputs": [],
   "source": [
    "alpha=0.05"
   ]
  },
  {
   "cell_type": "code",
   "execution_count": null,
   "id": "c0e07f58",
   "metadata": {
    "ExecuteTime": {
     "start_time": "2024-06-25T15:52:44.924Z"
    }
   },
   "outputs": [],
   "source": [
    "csps_dict[year][sector][sdg]"
   ]
  },
  {
   "cell_type": "code",
   "execution_count": null,
   "id": "33a4eb2d",
   "metadata": {
    "ExecuteTime": {
     "start_time": "2024-06-25T15:52:46.167Z"
    }
   },
   "outputs": [],
   "source": [
    "for year in csps_dict.keys():\n",
    "    for sector in csps_dict[year].keys():\n",
    "        for sdg in csps_dict[year][sector].keys():\n",
    "            if sdg=='firms':\n",
    "                _firms=csps_dict[year][sector]['firms']\n",
    "            else:\n",
    "                sams=csps_dict[year][sector][sdg]['sam_pvals']\n",
    "                a_eff=a_fdr(alpha, sams)\n",
    "                if a_eff>0:\n",
    "                    print(sector, year, sdg, a_eff)\n",
    "                    fdr_mask=np.array(sams)<=a_eff\n",
    "                    val_cos_sim=np.array(csps_dict[year][sector][sdg]['cos_sim'])[fdr_mask]\n",
    "                    validated_couples=np.array(csps_dict[year][sector][sdg]['firms'])[fdr_mask]\n",
    "                    print(validated_couples, val_cos_sim)\n",
    "                    print('------------------------')"
   ]
  },
  {
   "cell_type": "code",
   "execution_count": null,
   "id": "32810466",
   "metadata": {
    "ExecuteTime": {
     "start_time": "2024-06-25T15:53:06.278Z"
    }
   },
   "outputs": [],
   "source": [
    "print(\"Check di cosa c'è\")"
   ]
  },
  {
   "cell_type": "code",
   "execution_count": null,
   "id": "3d411f02",
   "metadata": {},
   "outputs": [],
   "source": []
  }
 ],
 "metadata": {
  "kernelspec": {
   "display_name": "Python 3 (ipykernel)",
   "language": "python",
   "name": "python3"
  },
  "language_info": {
   "codemirror_mode": {
    "name": "ipython",
    "version": 3
   },
   "file_extension": ".py",
   "mimetype": "text/x-python",
   "name": "python",
   "nbconvert_exporter": "python",
   "pygments_lexer": "ipython3",
   "version": "3.8.10"
  },
  "notify_time": "5",
  "toc": {
   "base_numbering": 1,
   "nav_menu": {},
   "number_sections": true,
   "sideBar": true,
   "skip_h1_title": false,
   "title_cell": "Table of Contents",
   "title_sidebar": "Contents",
   "toc_cell": false,
   "toc_position": {
    "height": "calc(100% - 180px)",
    "left": "10px",
    "top": "150px",
    "width": "288px"
   },
   "toc_section_display": true,
   "toc_window_display": true
  }
 },
 "nbformat": 4,
 "nbformat_minor": 5
}
