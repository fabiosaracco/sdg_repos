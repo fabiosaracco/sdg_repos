{
 "cells": [
  {
   "cell_type": "markdown",
   "id": "f85c177c",
   "metadata": {},
   "source": [
    "# Intro"
   ]
  },
  {
   "cell_type": "markdown",
   "id": "062161ae",
   "metadata": {},
   "source": [
    "## Load"
   ]
  },
  {
   "cell_type": "markdown",
   "id": "be3ff41d",
   "metadata": {},
   "source": [
    "### Standards"
   ]
  },
  {
   "cell_type": "code",
   "execution_count": 1,
   "id": "1d8aa58c",
   "metadata": {
    "ExecuteTime": {
     "end_time": "2024-06-21T14:31:18.074605Z",
     "start_time": "2024-06-21T14:31:17.913738Z"
    }
   },
   "outputs": [],
   "source": [
    "import os, sys, pickle\n",
    "import numpy as np\n",
    "from tqdm.notebook import trange, tqdm\n",
    "import re"
   ]
  },
  {
   "cell_type": "code",
   "execution_count": 2,
   "id": "543e4418",
   "metadata": {
    "ExecuteTime": {
     "end_time": "2024-06-21T14:31:18.430651Z",
     "start_time": "2024-06-21T14:31:18.078454Z"
    }
   },
   "outputs": [],
   "source": [
    "import matplotlib.pyplot as plt\n",
    "plt.rcParams['axes.linewidth'] = 2\n",
    "plt.rcParams['xtick.major.size'] = 10\n",
    "plt.rcParams['xtick.major.width'] = 2\n",
    "plt.rcParams['ytick.major.size'] = 10\n",
    "plt.rcParams['ytick.major.width'] = 2\n",
    "\n",
    "plt.rcParams['xtick.labelsize'] = 14\n",
    "plt.rcParams['ytick.labelsize'] = 14\n",
    "\n",
    "plt.rcParams['xtick.minor.size'] = 5\n",
    "plt.rcParams['xtick.minor.width'] = 1\n",
    "plt.rcParams['ytick.minor.size'] = 5\n",
    "plt.rcParams['ytick.minor.width'] = 1\n"
   ]
  },
  {
   "cell_type": "markdown",
   "id": "2fa7a9f5",
   "metadata": {},
   "source": [
    "### Homemade modules"
   ]
  },
  {
   "cell_type": "code",
   "execution_count": 3,
   "id": "72d4758f",
   "metadata": {
    "ExecuteTime": {
     "end_time": "2024-06-21T14:31:20.156728Z",
     "start_time": "2024-06-21T14:31:18.444192Z"
    }
   },
   "outputs": [],
   "source": [
    "from tesste import tesste\n",
    "from ppp import ppp\n",
    "from readers_and_converters import file2text, text2dict, text2vec"
   ]
  },
  {
   "cell_type": "markdown",
   "id": "b48bb2f2",
   "metadata": {},
   "source": [
    "## Stoopid infos"
   ]
  },
  {
   "cell_type": "code",
   "execution_count": 4,
   "id": "8501182a",
   "metadata": {
    "ExecuteTime": {
     "end_time": "2024-06-21T14:31:20.162662Z",
     "start_time": "2024-06-21T14:31:20.158333Z"
    }
   },
   "outputs": [],
   "source": [
    "L_SDGS=17"
   ]
  },
  {
   "cell_type": "markdown",
   "id": "3a54a2ba",
   "metadata": {},
   "source": [
    "# Data"
   ]
  },
  {
   "cell_type": "code",
   "execution_count": 5,
   "id": "400aa7e4",
   "metadata": {
    "ExecuteTime": {
     "end_time": "2024-06-21T14:32:23.418203Z",
     "start_time": "2024-06-21T14:32:23.409581Z"
    }
   },
   "outputs": [],
   "source": [
    "with open ('./data/energy_utilities_texts.pickle', 'rb') as f:\n",
    "    text_dict=pickle.load(f)"
   ]
  },
  {
   "cell_type": "markdown",
   "id": "52ea8b4d",
   "metadata": {},
   "source": [
    "# Semantic analysis"
   ]
  },
  {
   "cell_type": "code",
   "execution_count": null,
   "id": "cba650bc",
   "metadata": {
    "ExecuteTime": {
     "start_time": "2024-06-21T15:08:15.256Z"
    }
   },
   "outputs": [
    {
     "data": {
      "application/vnd.jupyter.widget-view+json": {
       "model_id": "",
       "version_major": 2,
       "version_minor": 0
      },
      "text/plain": [
       "Energy 2015:   0%|          | 0/2 [00:00<?, ?it/s]"
      ]
     },
     "metadata": {},
     "output_type": "display_data"
    },
    {
     "data": {
      "application/vnd.jupyter.widget-view+json": {
       "model_id": "",
       "version_major": 2,
       "version_minor": 0
      },
      "text/plain": [
       "  0%|          | 0/1000 [00:00<?, ?it/s]"
      ]
     },
     "metadata": {},
     "output_type": "display_data"
    },
    {
     "data": {
      "application/vnd.jupyter.widget-view+json": {
       "model_id": "",
       "version_major": 2,
       "version_minor": 0
      },
      "text/plain": [
       "Utilities 2015:   0%|          | 0/1 [00:00<?, ?it/s]"
      ]
     },
     "metadata": {},
     "output_type": "display_data"
    },
    {
     "data": {
      "application/vnd.jupyter.widget-view+json": {
       "model_id": "",
       "version_major": 2,
       "version_minor": 0
      },
      "text/plain": [
       "Energy 2016:   0%|          | 0/2 [00:00<?, ?it/s]"
      ]
     },
     "metadata": {},
     "output_type": "display_data"
    },
    {
     "data": {
      "application/vnd.jupyter.widget-view+json": {
       "model_id": "",
       "version_major": 2,
       "version_minor": 0
      },
      "text/plain": [
       "  0%|          | 0/1000 [00:00<?, ?it/s]"
      ]
     },
     "metadata": {},
     "output_type": "display_data"
    },
    {
     "data": {
      "application/vnd.jupyter.widget-view+json": {
       "model_id": "",
       "version_major": 2,
       "version_minor": 0
      },
      "text/plain": [
       "Utilities 2016:   0%|          | 0/2 [00:00<?, ?it/s]"
      ]
     },
     "metadata": {},
     "output_type": "display_data"
    },
    {
     "data": {
      "application/vnd.jupyter.widget-view+json": {
       "model_id": "",
       "version_major": 2,
       "version_minor": 0
      },
      "text/plain": [
       "  0%|          | 0/1000 [00:00<?, ?it/s]"
      ]
     },
     "metadata": {},
     "output_type": "display_data"
    },
    {
     "data": {
      "application/vnd.jupyter.widget-view+json": {
       "model_id": "",
       "version_major": 2,
       "version_minor": 0
      },
      "text/plain": [
       "Energy 2017:   0%|          | 0/2 [00:00<?, ?it/s]"
      ]
     },
     "metadata": {},
     "output_type": "display_data"
    },
    {
     "data": {
      "application/vnd.jupyter.widget-view+json": {
       "model_id": "",
       "version_major": 2,
       "version_minor": 0
      },
      "text/plain": [
       "  0%|          | 0/1000 [00:00<?, ?it/s]"
      ]
     },
     "metadata": {},
     "output_type": "display_data"
    },
    {
     "data": {
      "application/vnd.jupyter.widget-view+json": {
       "model_id": "",
       "version_major": 2,
       "version_minor": 0
      },
      "text/plain": [
       "Utilities 2017:   0%|          | 0/3 [00:00<?, ?it/s]"
      ]
     },
     "metadata": {},
     "output_type": "display_data"
    },
    {
     "data": {
      "application/vnd.jupyter.widget-view+json": {
       "model_id": "",
       "version_major": 2,
       "version_minor": 0
      },
      "text/plain": [
       "  0%|          | 0/1000 [00:00<?, ?it/s]"
      ]
     },
     "metadata": {},
     "output_type": "display_data"
    },
    {
     "data": {
      "application/vnd.jupyter.widget-view+json": {
       "model_id": "",
       "version_major": 2,
       "version_minor": 0
      },
      "text/plain": [
       "  0%|          | 0/1000 [00:00<?, ?it/s]"
      ]
     },
     "metadata": {},
     "output_type": "display_data"
    },
    {
     "data": {
      "application/vnd.jupyter.widget-view+json": {
       "model_id": "",
       "version_major": 2,
       "version_minor": 0
      },
      "text/plain": [
       "  0%|          | 0/1000 [00:00<?, ?it/s]"
      ]
     },
     "metadata": {},
     "output_type": "display_data"
    },
    {
     "data": {
      "application/vnd.jupyter.widget-view+json": {
       "model_id": "",
       "version_major": 2,
       "version_minor": 0
      },
      "text/plain": [
       "Energy 2018:   0%|          | 0/3 [00:00<?, ?it/s]"
      ]
     },
     "metadata": {},
     "output_type": "display_data"
    },
    {
     "data": {
      "application/vnd.jupyter.widget-view+json": {
       "model_id": "",
       "version_major": 2,
       "version_minor": 0
      },
      "text/plain": [
       "  0%|          | 0/1000 [00:00<?, ?it/s]"
      ]
     },
     "metadata": {},
     "output_type": "display_data"
    },
    {
     "data": {
      "application/vnd.jupyter.widget-view+json": {
       "model_id": "",
       "version_major": 2,
       "version_minor": 0
      },
      "text/plain": [
       "  0%|          | 0/1000 [00:00<?, ?it/s]"
      ]
     },
     "metadata": {},
     "output_type": "display_data"
    },
    {
     "data": {
      "application/vnd.jupyter.widget-view+json": {
       "model_id": "",
       "version_major": 2,
       "version_minor": 0
      },
      "text/plain": [
       "  0%|          | 0/1000 [00:00<?, ?it/s]"
      ]
     },
     "metadata": {},
     "output_type": "display_data"
    },
    {
     "data": {
      "application/vnd.jupyter.widget-view+json": {
       "model_id": "3a6b4f05c3d64985921a8433105da84c",
       "version_major": 2,
       "version_minor": 0
      },
      "text/plain": [
       "Utilities 2018:   0%|          | 0/4 [00:00<?, ?it/s]"
      ]
     },
     "metadata": {},
     "output_type": "display_data"
    }
   ],
   "source": [
    "cos_sim_dict={}\n",
    "for year in range(2015, 2024):\n",
    "    s_year=str(year)\n",
    "    cos_sim_dict[year]={}\n",
    "    energy_co_s=list(text_dict['Energy'][s_year].keys())\n",
    "    # inside energy\n",
    "    energy_cos_sims=np.zeros((len(energy_co_s), len(energy_co_s)))\n",
    "    energy_pvals=np.zeros((len(energy_co_s), len(energy_co_s)))\n",
    "    for i_e, energy_co_0 in enumerate(tqdm(energy_co_s, leave=False, desc='Energy '+s_year)):\n",
    "        text_0=text_dict['Energy'][s_year][energy_co_0]\n",
    "        for j_e in range(i_e+1, len(energy_co_s)):\n",
    "            energy_co_1=energy_co_s[j_e]\n",
    "            text_1=text_dict['Energy'][s_year][energy_co_1]\n",
    "            cacca=tesste(text_0, text_1)\n",
    "            energy_cos_sims[i_e, j_e]=cacca.cos_sim\n",
    "            energy_pvals[i_e, j_e]=cacca.pval\n",
    "            \n",
    "    cos_sim_dict[year]['Energy']={}\n",
    "    cos_sim_dict[year]['Energy']['cos_sim']=energy_cos_sims\n",
    "    cos_sim_dict[year]['Energy']['pvals']=energy_pvals\n",
    "    \n",
    "    utilities_co_s=list(text_dict['Utilities'][s_year].keys())\n",
    "    utilities_cos_sims=np.zeros((len(utilities_co_s), len(utilities_co_s)))\n",
    "    utilities_pvals=np.zeros((len(utilities_co_s), len(utilities_co_s)))\n",
    "    # inside utilities\n",
    "    for i_e, utilities_co_0 in enumerate(tqdm(utilities_co_s, leave=False, desc='Utilities '+s_year)):\n",
    "        text_0=text_dict['Utilities'][s_year][utilities_co_0]\n",
    "        for j_e in range(i_e+1, len(utilities_co_s)):\n",
    "            utilities_co_1=utilities_co_s[j_e]\n",
    "            text_1=text_dict['Utilities'][s_year][utilities_co_1]\n",
    "            cacca=tesste(text_0, text_1)\n",
    "            utilities_cos_sims[i_e, j_e]=cacca.cos_sim\n",
    "            utilities_pvals[i_e, j_e]=cacca.pval\n",
    "            \n",
    "    cos_sim_dict[year]['Utilities']={}\n",
    "    cos_sim_dict[year]['Utilities']['cos_sim']=utilities_cos_sims\n",
    "    cos_sim_dict[year]['Utilities']['pvals']=utilities_pvals\n"
   ]
  },
  {
   "cell_type": "code",
   "execution_count": null,
   "id": "82304ab1",
   "metadata": {
    "ExecuteTime": {
     "start_time": "2024-06-21T15:08:19.777Z"
    }
   },
   "outputs": [],
   "source": [
    "with open ('./data/energy_utilities_cos_sim_mats.pickle', 'wb') as f:\n",
    "    pickle.dump(cos_sim_dict, f)"
   ]
  },
  {
   "cell_type": "code",
   "execution_count": null,
   "id": "c11723af",
   "metadata": {},
   "outputs": [],
   "source": []
  }
 ],
 "metadata": {
  "kernelspec": {
   "display_name": "Python 3 (ipykernel)",
   "language": "python",
   "name": "python3"
  },
  "language_info": {
   "codemirror_mode": {
    "name": "ipython",
    "version": 3
   },
   "file_extension": ".py",
   "mimetype": "text/x-python",
   "name": "python",
   "nbconvert_exporter": "python",
   "pygments_lexer": "ipython3",
   "version": "3.8.19"
  },
  "toc": {
   "base_numbering": 1,
   "nav_menu": {},
   "number_sections": true,
   "sideBar": true,
   "skip_h1_title": false,
   "title_cell": "Table of Contents",
   "title_sidebar": "Contents",
   "toc_cell": false,
   "toc_position": {
    "height": "calc(100% - 180px)",
    "left": "10px",
    "top": "150px",
    "width": "288px"
   },
   "toc_section_display": true,
   "toc_window_display": true
  }
 },
 "nbformat": 4,
 "nbformat_minor": 5
}
