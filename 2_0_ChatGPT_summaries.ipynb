{
 "cells": [
  {
   "cell_type": "markdown",
   "id": "fc5fe5f1",
   "metadata": {},
   "source": [
    "# Intro"
   ]
  },
  {
   "cell_type": "markdown",
   "id": "5d677190",
   "metadata": {},
   "source": [
    "## Load"
   ]
  },
  {
   "cell_type": "code",
   "execution_count": 1,
   "id": "c2001f81",
   "metadata": {
    "ExecuteTime": {
     "end_time": "2024-05-31T09:28:56.323558Z",
     "start_time": "2024-05-31T09:28:56.036069Z"
    }
   },
   "outputs": [],
   "source": [
    "import os, sys, pickle\n",
    "import numpy as np\n",
    "from tqdm.notebook import trange, tqdm"
   ]
  },
  {
   "cell_type": "code",
   "execution_count": 2,
   "id": "e4729867",
   "metadata": {
    "ExecuteTime": {
     "end_time": "2024-05-31T09:29:00.710556Z",
     "start_time": "2024-05-31T09:28:56.327528Z"
    }
   },
   "outputs": [],
   "source": [
    "from tesste import tesste\n",
    "from ppp import ppp"
   ]
  },
  {
   "cell_type": "code",
   "execution_count": 3,
   "id": "4d5743cb",
   "metadata": {
    "ExecuteTime": {
     "end_time": "2024-05-31T09:29:01.447795Z",
     "start_time": "2024-05-31T09:29:00.715445Z"
    }
   },
   "outputs": [],
   "source": [
    "import matplotlib.pyplot as plt\n",
    "plt.rcParams['axes.linewidth'] = 2\n",
    "plt.rcParams['xtick.major.size'] = 10\n",
    "plt.rcParams['xtick.major.width'] = 2\n",
    "plt.rcParams['ytick.major.size'] = 10\n",
    "plt.rcParams['ytick.major.width'] = 2\n",
    "\n",
    "plt.rcParams['xtick.labelsize'] = 14\n",
    "plt.rcParams['ytick.labelsize'] = 14\n",
    "\n",
    "plt.rcParams['xtick.minor.size'] = 5\n",
    "plt.rcParams['xtick.minor.width'] = 1\n",
    "plt.rcParams['ytick.minor.size'] = 5\n",
    "plt.rcParams['ytick.minor.width'] = 1\n"
   ]
  },
  {
   "cell_type": "code",
   "execution_count": 24,
   "id": "120ff67c",
   "metadata": {
    "ExecuteTime": {
     "end_time": "2024-05-31T09:54:39.798843Z",
     "start_time": "2024-05-31T09:54:39.712851Z"
    }
   },
   "outputs": [],
   "source": [
    "from docx import Document"
   ]
  },
  {
   "cell_type": "markdown",
   "id": "eea71d01",
   "metadata": {},
   "source": [
    "# Get ChatGPT summaries"
   ]
  },
  {
   "cell_type": "markdown",
   "id": "9738c30e",
   "metadata": {},
   "source": [
    "## First try"
   ]
  },
  {
   "cell_type": "code",
   "execution_count": 25,
   "id": "0eb264c6",
   "metadata": {
    "ExecuteTime": {
     "end_time": "2024-05-31T09:55:10.820533Z",
     "start_time": "2024-05-31T09:55:10.650395Z"
    }
   },
   "outputs": [],
   "source": [
    "document = Document(\"chatgpt_summaries/summaryShell2015Example1.docx\")"
   ]
  },
  {
   "cell_type": "code",
   "execution_count": 34,
   "id": "f29a00ca",
   "metadata": {
    "ExecuteTime": {
     "end_time": "2024-05-31T10:00:08.084587Z",
     "start_time": "2024-05-31T10:00:08.072988Z"
    }
   },
   "outputs": [],
   "source": [
    "full_text=''\n",
    "for par in document.paragraphs:\n",
    "    full_text+='\\n'+par.text"
   ]
  },
  {
   "cell_type": "code",
   "execution_count": 36,
   "id": "8b1c9070",
   "metadata": {
    "ExecuteTime": {
     "end_time": "2024-05-31T10:00:16.228183Z",
     "start_time": "2024-05-31T10:00:16.222021Z"
    }
   },
   "outputs": [
    {
     "name": "stdout",
     "output_type": "stream",
     "text": [
      "\n",
      "The Royal Dutch Shell Sustainability Report 2015 outlines the company’s approach and performance regarding sustainability and the transition to a low-carbon energy future. Key highlights from the report are summarized below:\n",
      "Introduction\n",
      "CEO’s Message: Ben van Beurden emphasized the importance of cooperation across society to achieve a successful energy transition. The adoption of the Paris Agreement in 2015 was a significant milestone for the global community. Shell faced a challenging business environment with low oil prices, necessitating tough investment decisions while maintaining a focus on responsible operations and sustainability.\n",
      "Energy Transition\n",
      "Climate Change: Shell is addressing climate change by investing in carbon capture and storage (CCS), natural gas, biofuels, and hydrogen. The company supports the shift from coal to lower-carbon natural gas and promotes CCS technologies to reduce CO2 emissions.\n",
      "Research and Development: Shell is committed to advancing technology through partnerships and innovation programs like Shell GameChanger and Shell Technology Ventures. These initiatives focus on developing new energy solutions, including advanced biofuels, hydrogen, and solar power.\n",
      "Managing Operations\n",
      "Safety and Environment: Shell made progress in safety performance in 2015 but faced setbacks with fatalities in Nigeria. Environmental achievements included reducing spills by 30% and greenhouse gas emissions. The company aims to end continuous flaring by 2030, contributing to lower methane and CO2 emissions.\n",
      "Specific Regions: Activities in Alaska and Nigeria are highlighted, focusing on environmental management, community relations, and efforts to reduce flaring and oil spills.\n",
      "Performance Metrics\n",
      "Safety: Shell's safety goal is \"Goal Zero,\" aiming for no harm to people and the environment. Improvements in personal and process safety were noted.\n",
      "Environmental Impact: The report tracks operational spills, greenhouse gas emissions, and energy efficiency. Shell’s refineries improved energy intensity, reducing CO2 emissions and operational costs.\n",
      "Working Together\n",
      "Collaborations: Shell emphasizes the importance of working with governments, industry partners, and communities to support the energy transition. Initiatives like the Energy Transitions Commission aim to drive collaboration and innovation.\n",
      "Community Engagement: Shell’s social investment programs focus on road safety, energy access, and local enterprise development. The company strives for open dialogue with communities to address environmental and social challenges.\n",
      "Governance and Reporting\n",
      "Sustainability Governance: Shell’s governance structure includes the Corporate and Social Responsibility Committee (CSRC), which reviews and advises on sustainability practices. The CSRC’s activities in 2015 included site visits and reviews of key issues like climate change and operational risks.\n",
      "Reporting Standards: Shell reports in accordance with the Global Reporting Initiative (GRI) and other industry guidelines. The company’s sustainability performance is independently reviewed by an External Review Committee.\n",
      "Conclusion\n",
      "The 2015 Sustainability Report illustrates Shell's efforts to balance business operations with environmental and social responsibilities. By investing in lower-carbon technologies and fostering collaborations, Shell aims to contribute to a sustainable energy future while addressing the immediate challenges of safety and environmental impact.\n",
      "\n"
     ]
    }
   ],
   "source": [
    "print(full_text)"
   ]
  },
  {
   "cell_type": "markdown",
   "id": "125ae58b",
   "metadata": {},
   "source": [
    "## Automate me!"
   ]
  },
  {
   "cell_type": "code",
   "execution_count": 39,
   "id": "669c1ad1",
   "metadata": {
    "ExecuteTime": {
     "end_time": "2024-05-31T10:03:10.706304Z",
     "start_time": "2024-05-31T10:03:10.700935Z"
    }
   },
   "outputs": [],
   "source": [
    "chatgpt_folder='chatgpt_summaries/'"
   ]
  },
  {
   "cell_type": "code",
   "execution_count": 40,
   "id": "246d4aac",
   "metadata": {
    "ExecuteTime": {
     "end_time": "2024-05-31T10:03:10.965562Z",
     "start_time": "2024-05-31T10:03:10.959878Z"
    }
   },
   "outputs": [],
   "source": [
    "files=os.listdir(chatgpt_folder)\n",
    "files.sort()"
   ]
  },
  {
   "cell_type": "code",
   "execution_count": 45,
   "id": "90f0e4e1",
   "metadata": {
    "ExecuteTime": {
     "end_time": "2024-05-31T10:04:50.913681Z",
     "start_time": "2024-05-31T10:04:50.904685Z"
    }
   },
   "outputs": [
    {
     "data": {
      "text/plain": [
       "'Example1'"
      ]
     },
     "execution_count": 45,
     "metadata": {},
     "output_type": "execute_result"
    }
   ],
   "source": [
    "files[0][-13:-5]"
   ]
  },
  {
   "cell_type": "code",
   "execution_count": 46,
   "id": "9f13d43d",
   "metadata": {
    "ExecuteTime": {
     "end_time": "2024-05-31T10:05:12.492510Z",
     "start_time": "2024-05-31T10:05:12.432400Z"
    }
   },
   "outputs": [],
   "source": [
    "chatgpt_shell_2015={}\n",
    "for file in files:\n",
    "    name=file[-13:-5]\n",
    "    doc=Document(chatgpt_folder+file)\n",
    "    full_text=''\n",
    "    for par in doc.paragraphs:\n",
    "        full_text+='\\n'+par.text\n",
    "    chatgpt_shell_2015[name]=full_text"
   ]
  },
  {
   "cell_type": "code",
   "execution_count": 50,
   "id": "8120fa8c",
   "metadata": {
    "ExecuteTime": {
     "end_time": "2024-05-31T10:10:58.305616Z",
     "start_time": "2024-05-31T10:10:58.286346Z"
    }
   },
   "outputs": [
    {
     "data": {
      "text/plain": [
       "dict_keys(['Example1', 'Example2', 'Example3', 'Example4', 'Example5'])"
      ]
     },
     "execution_count": 50,
     "metadata": {},
     "output_type": "execute_result"
    }
   ],
   "source": [
    "chatgpt_shell_2015.keys()"
   ]
  },
  {
   "cell_type": "code",
   "execution_count": 49,
   "id": "fb3dc1d0",
   "metadata": {
    "ExecuteTime": {
     "end_time": "2024-05-31T10:08:42.047789Z",
     "start_time": "2024-05-31T10:08:42.040171Z"
    }
   },
   "outputs": [],
   "source": [
    "with open(chatgpt_folder+'chatgpt_shell_2015_text.pickle', 'wb') as f:\n",
    "    pickle.dump(chatgpt_shell_2015, f)"
   ]
  },
  {
   "cell_type": "markdown",
   "id": "713e65fa",
   "metadata": {},
   "source": [
    "# What we learned\n",
    ".docx files can be easily read as far as they only contain text (otherwise it is going to be a mess)."
   ]
  },
  {
   "cell_type": "code",
   "execution_count": null,
   "id": "39e6bfa8",
   "metadata": {},
   "outputs": [],
   "source": []
  }
 ],
 "metadata": {
  "kernelspec": {
   "display_name": "Python 3 (ipykernel)",
   "language": "python",
   "name": "python3"
  },
  "language_info": {
   "codemirror_mode": {
    "name": "ipython",
    "version": 3
   },
   "file_extension": ".py",
   "mimetype": "text/x-python",
   "name": "python",
   "nbconvert_exporter": "python",
   "pygments_lexer": "ipython3",
   "version": "3.8.10"
  },
  "notify_time": "0",
  "toc": {
   "base_numbering": 1,
   "nav_menu": {},
   "number_sections": true,
   "sideBar": true,
   "skip_h1_title": false,
   "title_cell": "Table of Contents",
   "title_sidebar": "Contents",
   "toc_cell": false,
   "toc_position": {
    "height": "calc(100% - 180px)",
    "left": "10px",
    "top": "150px",
    "width": "288px"
   },
   "toc_section_display": true,
   "toc_window_display": true
  }
 },
 "nbformat": 4,
 "nbformat_minor": 5
}
