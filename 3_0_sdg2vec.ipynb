{
 "cells": [
  {
   "cell_type": "markdown",
   "id": "28e93146",
   "metadata": {},
   "source": [
    "# Intro"
   ]
  },
  {
   "cell_type": "markdown",
   "id": "47a56715",
   "metadata": {},
   "source": [
    "## Load"
   ]
  },
  {
   "cell_type": "markdown",
   "id": "ddca572f",
   "metadata": {},
   "source": [
    "### Standards"
   ]
  },
  {
   "cell_type": "code",
   "execution_count": 1,
   "id": "10f61440",
   "metadata": {
    "ExecuteTime": {
     "end_time": "2024-06-26T09:02:37.028814Z",
     "start_time": "2024-06-26T09:02:36.712556Z"
    }
   },
   "outputs": [],
   "source": [
    "import os, sys, pickle\n",
    "import numpy as np\n",
    "from tqdm.notebook import trange, tqdm\n",
    "import re"
   ]
  },
  {
   "cell_type": "code",
   "execution_count": 2,
   "id": "41955718",
   "metadata": {
    "ExecuteTime": {
     "end_time": "2024-06-26T09:02:37.715618Z",
     "start_time": "2024-06-26T09:02:37.032940Z"
    }
   },
   "outputs": [],
   "source": [
    "import matplotlib.pyplot as plt\n",
    "plt.rcParams['axes.linewidth'] = 2\n",
    "plt.rcParams['xtick.major.size'] = 10\n",
    "plt.rcParams['xtick.major.width'] = 2\n",
    "plt.rcParams['ytick.major.size'] = 10\n",
    "plt.rcParams['ytick.major.width'] = 2\n",
    "\n",
    "plt.rcParams['xtick.labelsize'] = 14\n",
    "plt.rcParams['ytick.labelsize'] = 14\n",
    "\n",
    "plt.rcParams['xtick.minor.size'] = 5\n",
    "plt.rcParams['xtick.minor.width'] = 1\n",
    "plt.rcParams['ytick.minor.size'] = 5\n",
    "plt.rcParams['ytick.minor.width'] = 1\n"
   ]
  },
  {
   "cell_type": "markdown",
   "id": "e54ff5b2",
   "metadata": {},
   "source": [
    "### Homemade modules"
   ]
  },
  {
   "cell_type": "code",
   "execution_count": 3,
   "id": "83183f79",
   "metadata": {
    "ExecuteTime": {
     "end_time": "2024-06-26T09:02:41.763974Z",
     "start_time": "2024-06-26T09:02:37.718983Z"
    }
   },
   "outputs": [],
   "source": [
    "from tesste import tesste\n",
    "from ppp import ppp\n",
    "from readers_and_converters import file2text, text2dict, text2vec"
   ]
  },
  {
   "cell_type": "markdown",
   "id": "ea5365e9",
   "metadata": {},
   "source": [
    "## Stoopid infos"
   ]
  },
  {
   "cell_type": "code",
   "execution_count": 4,
   "id": "8079b0f6",
   "metadata": {
    "ExecuteTime": {
     "end_time": "2024-06-26T09:02:41.772486Z",
     "start_time": "2024-06-26T09:02:41.767322Z"
    }
   },
   "outputs": [],
   "source": [
    "L_SDGS=17"
   ]
  },
  {
   "cell_type": "code",
   "execution_count": 5,
   "id": "d15125e0",
   "metadata": {
    "ExecuteTime": {
     "end_time": "2024-06-26T09:02:41.860046Z",
     "start_time": "2024-06-26T09:02:41.778892Z"
    }
   },
   "outputs": [],
   "source": [
    "with open('./data/sdgs.pickle', 'rb') as f:\n",
    "    sdgs=pickle.load(f)"
   ]
  },
  {
   "cell_type": "markdown",
   "id": "589f4721",
   "metadata": {},
   "source": [
    "# Energy"
   ]
  },
  {
   "cell_type": "markdown",
   "id": "b3d8b530",
   "metadata": {},
   "source": [
    "## Folders"
   ]
  },
  {
   "cell_type": "code",
   "execution_count": 6,
   "id": "d1ae5732",
   "metadata": {
    "ExecuteTime": {
     "end_time": "2024-06-26T09:02:41.949770Z",
     "start_time": "2024-06-26T09:02:41.869849Z"
    }
   },
   "outputs": [],
   "source": [
    "main_folder='./chatgpt_summaries/'"
   ]
  },
  {
   "cell_type": "code",
   "execution_count": 7,
   "id": "512bfa1a",
   "metadata": {
    "ExecuteTime": {
     "end_time": "2024-06-26T09:02:42.026317Z",
     "start_time": "2024-06-26T09:02:41.952517Z"
    }
   },
   "outputs": [],
   "source": [
    "e_folder=main_folder+'Energy/'"
   ]
  },
  {
   "cell_type": "code",
   "execution_count": 8,
   "id": "eb4af0fb",
   "metadata": {
    "ExecuteTime": {
     "end_time": "2024-06-26T09:02:42.108190Z",
     "start_time": "2024-06-26T09:02:42.029169Z"
    }
   },
   "outputs": [],
   "source": [
    "ec_folders=os.listdir(e_folder)\n",
    "ec_folders.sort()"
   ]
  },
  {
   "cell_type": "code",
   "execution_count": 9,
   "id": "c2fe6189",
   "metadata": {
    "ExecuteTime": {
     "end_time": "2024-06-26T09:02:42.208587Z",
     "start_time": "2024-06-26T09:02:42.111256Z"
    }
   },
   "outputs": [
    {
     "data": {
      "text/plain": [
       "['01_shell',\n",
       " '02_BP',\n",
       " '03_Harbour_Energy_PLC',\n",
       " '04_energeans',\n",
       " '05_ITHACA_ENERGY_PLC',\n",
       " '06_LSE_WG',\n",
       " '07_SERICA_ENERGY_PLC',\n",
       " '08_ASHTEAD_TECHNOLOGY_HOLDINGS_PLC',\n",
       " '10_DIVERSIFIED_ENERGY_COMPANY_PLC']"
      ]
     },
     "execution_count": 9,
     "metadata": {},
     "output_type": "execute_result"
    }
   ],
   "source": [
    "ec_folders"
   ]
  },
  {
   "cell_type": "markdown",
   "id": "821119dc",
   "metadata": {},
   "source": [
    "## Basics"
   ]
  },
  {
   "cell_type": "code",
   "execution_count": 10,
   "id": "044ca4e4",
   "metadata": {
    "ExecuteTime": {
     "end_time": "2024-06-26T09:02:42.284853Z",
     "start_time": "2024-06-26T09:02:42.212226Z"
    }
   },
   "outputs": [],
   "source": [
    "energy_texts={}\n",
    "for y in range(2015, 2024):\n",
    "    energy_texts[str(y)]={}"
   ]
  },
  {
   "cell_type": "code",
   "execution_count": 11,
   "id": "e8615e65",
   "metadata": {
    "ExecuteTime": {
     "end_time": "2024-06-26T09:02:43.547464Z",
     "start_time": "2024-06-26T09:02:42.287844Z"
    }
   },
   "outputs": [
    {
     "data": {
      "application/vnd.jupyter.widget-view+json": {
       "model_id": "ff296e58225246c294e819a2f7ba29e3",
       "version_major": 2,
       "version_minor": 0
      },
      "text/plain": [
       "  0%|          | 0/9 [00:00<?, ?it/s]"
      ]
     },
     "metadata": {},
     "output_type": "display_data"
    },
    {
     "data": {
      "application/vnd.jupyter.widget-view+json": {
       "model_id": "",
       "version_major": 2,
       "version_minor": 0
      },
      "text/plain": [
       "01_shell:   0%|          | 0/9 [00:00<?, ?it/s]"
      ]
     },
     "metadata": {},
     "output_type": "display_data"
    },
    {
     "data": {
      "application/vnd.jupyter.widget-view+json": {
       "model_id": "",
       "version_major": 2,
       "version_minor": 0
      },
      "text/plain": [
       "02_BP:   0%|          | 0/9 [00:00<?, ?it/s]"
      ]
     },
     "metadata": {},
     "output_type": "display_data"
    },
    {
     "data": {
      "application/vnd.jupyter.widget-view+json": {
       "model_id": "",
       "version_major": 2,
       "version_minor": 0
      },
      "text/plain": [
       "03_Harbour_Energy_PLC:   0%|          | 0/2 [00:00<?, ?it/s]"
      ]
     },
     "metadata": {},
     "output_type": "display_data"
    },
    {
     "data": {
      "application/vnd.jupyter.widget-view+json": {
       "model_id": "",
       "version_major": 2,
       "version_minor": 0
      },
      "text/plain": [
       "04_energeans:   0%|          | 0/6 [00:00<?, ?it/s]"
      ]
     },
     "metadata": {},
     "output_type": "display_data"
    },
    {
     "data": {
      "application/vnd.jupyter.widget-view+json": {
       "model_id": "",
       "version_major": 2,
       "version_minor": 0
      },
      "text/plain": [
       "05_ITHACA_ENERGY_PLC:   0%|          | 0/2 [00:00<?, ?it/s]"
      ]
     },
     "metadata": {},
     "output_type": "display_data"
    },
    {
     "data": {
      "application/vnd.jupyter.widget-view+json": {
       "model_id": "",
       "version_major": 2,
       "version_minor": 0
      },
      "text/plain": [
       "06_LSE_WG:   0%|          | 0/5 [00:00<?, ?it/s]"
      ]
     },
     "metadata": {},
     "output_type": "display_data"
    },
    {
     "data": {
      "application/vnd.jupyter.widget-view+json": {
       "model_id": "",
       "version_major": 2,
       "version_minor": 0
      },
      "text/plain": [
       "07_SERICA_ENERGY_PLC:   0%|          | 0/5 [00:00<?, ?it/s]"
      ]
     },
     "metadata": {},
     "output_type": "display_data"
    },
    {
     "data": {
      "application/vnd.jupyter.widget-view+json": {
       "model_id": "",
       "version_major": 2,
       "version_minor": 0
      },
      "text/plain": [
       "08_ASHTEAD_TECHNOLOGY_HOLDINGS_PLC:   0%|          | 0/3 [00:00<?, ?it/s]"
      ]
     },
     "metadata": {},
     "output_type": "display_data"
    },
    {
     "data": {
      "application/vnd.jupyter.widget-view+json": {
       "model_id": "",
       "version_major": 2,
       "version_minor": 0
      },
      "text/plain": [
       "10_DIVERSIFIED_ENERGY_COMPANY_PLC:   0%|          | 0/5 [00:00<?, ?it/s]"
      ]
     },
     "metadata": {},
     "output_type": "display_data"
    }
   ],
   "source": [
    "for i, ec_folder in enumerate(tqdm(ec_folders)):\n",
    "    files=os.listdir(e_folder+ec_folder)\n",
    "    files.sort()\n",
    "    for file in tqdm(files, desc=ec_folder, leave=False):\n",
    "        year=file[:4]\n",
    "        #print(year)\n",
    "        energy_texts[year][ec_folder]=file2text(e_folder+ec_folder+'/'+file)\n",
    "    "
   ]
  },
  {
   "cell_type": "markdown",
   "id": "508e4f89",
   "metadata": {},
   "source": [
    "# Utilities"
   ]
  },
  {
   "cell_type": "markdown",
   "id": "e8e93c1b",
   "metadata": {},
   "source": [
    "## Folders"
   ]
  },
  {
   "cell_type": "code",
   "execution_count": 12,
   "id": "5228df0f",
   "metadata": {
    "ExecuteTime": {
     "end_time": "2024-06-26T09:02:43.557463Z",
     "start_time": "2024-06-26T09:02:43.552826Z"
    }
   },
   "outputs": [],
   "source": [
    "main_folder='./chatgpt_summaries/'"
   ]
  },
  {
   "cell_type": "code",
   "execution_count": 13,
   "id": "2a90df54",
   "metadata": {
    "ExecuteTime": {
     "end_time": "2024-06-26T09:02:43.626421Z",
     "start_time": "2024-06-26T09:02:43.559978Z"
    }
   },
   "outputs": [],
   "source": [
    "u_folder=main_folder+'Utilities/'"
   ]
  },
  {
   "cell_type": "code",
   "execution_count": 14,
   "id": "127ea99a",
   "metadata": {
    "ExecuteTime": {
     "end_time": "2024-06-26T09:02:43.833346Z",
     "start_time": "2024-06-26T09:02:43.629668Z"
    }
   },
   "outputs": [],
   "source": [
    "uc_folders=os.listdir(u_folder)\n",
    "uc_folders.sort()"
   ]
  },
  {
   "cell_type": "code",
   "execution_count": 15,
   "id": "6a9ba3ff",
   "metadata": {
    "ExecuteTime": {
     "end_time": "2024-06-26T09:02:43.912697Z",
     "start_time": "2024-06-26T09:02:43.836539Z"
    }
   },
   "outputs": [
    {
     "data": {
      "text/plain": [
       "['01_NATIONAL_GRID_PLC',\n",
       " '02_SSE_PLC',\n",
       " '03_SEVERN_TRENT_PLC',\n",
       " '04_UNITED_UTILITIES_GROUP_PLC',\n",
       " '05_CENTRICA_PLC',\n",
       " '06_DRAX_GROUP_PLC',\n",
       " '07_PENNON_GROUP_PLC',\n",
       " '08_RENEWI_PLC',\n",
       " '10_GOOD_ENERGY_GROUP_PLC']"
      ]
     },
     "execution_count": 15,
     "metadata": {},
     "output_type": "execute_result"
    }
   ],
   "source": [
    "uc_folders"
   ]
  },
  {
   "cell_type": "markdown",
   "id": "fdd25949",
   "metadata": {},
   "source": [
    "## Basics"
   ]
  },
  {
   "cell_type": "code",
   "execution_count": 16,
   "id": "95adacb4",
   "metadata": {
    "ExecuteTime": {
     "end_time": "2024-06-26T09:02:44.652711Z",
     "start_time": "2024-06-26T09:02:44.647509Z"
    }
   },
   "outputs": [],
   "source": [
    "utilitites_texts={}\n",
    "for y in range(2015, 2024):\n",
    "    utilitites_texts[str(y)]={}"
   ]
  },
  {
   "cell_type": "code",
   "execution_count": 17,
   "id": "c515f90a",
   "metadata": {
    "ExecuteTime": {
     "end_time": "2024-06-26T09:02:45.831250Z",
     "start_time": "2024-06-26T09:02:45.070852Z"
    }
   },
   "outputs": [
    {
     "data": {
      "application/vnd.jupyter.widget-view+json": {
       "model_id": "9562477954054ee1bda1898dfce600dc",
       "version_major": 2,
       "version_minor": 0
      },
      "text/plain": [
       "  0%|          | 0/9 [00:00<?, ?it/s]"
      ]
     },
     "metadata": {},
     "output_type": "display_data"
    },
    {
     "data": {
      "application/vnd.jupyter.widget-view+json": {
       "model_id": "",
       "version_major": 2,
       "version_minor": 0
      },
      "text/plain": [
       "01_NATIONAL_GRID_PLC:   0%|          | 0/4 [00:00<?, ?it/s]"
      ]
     },
     "metadata": {},
     "output_type": "display_data"
    },
    {
     "data": {
      "application/vnd.jupyter.widget-view+json": {
       "model_id": "",
       "version_major": 2,
       "version_minor": 0
      },
      "text/plain": [
       "02_SSE_PLC:   0%|          | 0/9 [00:00<?, ?it/s]"
      ]
     },
     "metadata": {},
     "output_type": "display_data"
    },
    {
     "data": {
      "application/vnd.jupyter.widget-view+json": {
       "model_id": "",
       "version_major": 2,
       "version_minor": 0
      },
      "text/plain": [
       "03_SEVERN_TRENT_PLC:   0%|          | 0/4 [00:00<?, ?it/s]"
      ]
     },
     "metadata": {},
     "output_type": "display_data"
    },
    {
     "data": {
      "application/vnd.jupyter.widget-view+json": {
       "model_id": "",
       "version_major": 2,
       "version_minor": 0
      },
      "text/plain": [
       "04_UNITED_UTILITIES_GROUP_PLC:   0%|          | 0/1 [00:00<?, ?it/s]"
      ]
     },
     "metadata": {},
     "output_type": "display_data"
    },
    {
     "data": {
      "application/vnd.jupyter.widget-view+json": {
       "model_id": "",
       "version_major": 2,
       "version_minor": 0
      },
      "text/plain": [
       "05_CENTRICA_PLC:   0%|          | 0/6 [00:00<?, ?it/s]"
      ]
     },
     "metadata": {},
     "output_type": "display_data"
    },
    {
     "data": {
      "application/vnd.jupyter.widget-view+json": {
       "model_id": "",
       "version_major": 2,
       "version_minor": 0
      },
      "text/plain": [
       "06_DRAX_GROUP_PLC:   0%|          | 0/1 [00:00<?, ?it/s]"
      ]
     },
     "metadata": {},
     "output_type": "display_data"
    },
    {
     "data": {
      "application/vnd.jupyter.widget-view+json": {
       "model_id": "",
       "version_major": 2,
       "version_minor": 0
      },
      "text/plain": [
       "07_PENNON_GROUP_PLC:   0%|          | 0/3 [00:00<?, ?it/s]"
      ]
     },
     "metadata": {},
     "output_type": "display_data"
    },
    {
     "data": {
      "application/vnd.jupyter.widget-view+json": {
       "model_id": "",
       "version_major": 2,
       "version_minor": 0
      },
      "text/plain": [
       "08_RENEWI_PLC:   0%|          | 0/7 [00:00<?, ?it/s]"
      ]
     },
     "metadata": {},
     "output_type": "display_data"
    },
    {
     "data": {
      "application/vnd.jupyter.widget-view+json": {
       "model_id": "",
       "version_major": 2,
       "version_minor": 0
      },
      "text/plain": [
       "10_GOOD_ENERGY_GROUP_PLC:   0%|          | 0/5 [00:00<?, ?it/s]"
      ]
     },
     "metadata": {},
     "output_type": "display_data"
    }
   ],
   "source": [
    "for i, uc_folder in enumerate(tqdm(uc_folders)):\n",
    "    files=os.listdir(u_folder+uc_folder)\n",
    "    files.sort()\n",
    "    for file in tqdm(files, desc=uc_folder, leave=False):\n",
    "        year=file[:4]\n",
    "        #print(year)\n",
    "        utilitites_texts[year][uc_folder]=file2text(u_folder+uc_folder+'/'+file)\n",
    "    "
   ]
  },
  {
   "cell_type": "markdown",
   "id": "0b81e961",
   "metadata": {},
   "source": [
    "# Save me!"
   ]
  },
  {
   "cell_type": "code",
   "execution_count": 18,
   "id": "eb0f1818",
   "metadata": {
    "ExecuteTime": {
     "end_time": "2024-06-26T09:02:47.925173Z",
     "start_time": "2024-06-26T09:02:47.917284Z"
    }
   },
   "outputs": [],
   "source": [
    "text_dict={'Energy': energy_texts, 'Utilities': utilitites_texts}\n",
    "with open ('./data/energy_utilities_texts.pickle', 'wb') as f:\n",
    "    pickle.dump(text_dict, f)"
   ]
  },
  {
   "cell_type": "markdown",
   "id": "9d0d6584",
   "metadata": {},
   "source": [
    "# Plot me!"
   ]
  },
  {
   "cell_type": "code",
   "execution_count": 19,
   "id": "65b4de05",
   "metadata": {
    "ExecuteTime": {
     "end_time": "2024-06-26T09:02:50.130400Z",
     "start_time": "2024-06-26T09:02:50.122824Z"
    }
   },
   "outputs": [],
   "source": [
    "with open ('./data/energy_utilities_texts.pickle', 'rb') as f:\n",
    "    text_dict=pickle.load(f)"
   ]
  },
  {
   "cell_type": "code",
   "execution_count": 20,
   "id": "e12f2f3e",
   "metadata": {
    "ExecuteTime": {
     "end_time": "2024-06-26T09:02:50.480075Z",
     "start_time": "2024-06-26T09:02:50.474114Z"
    }
   },
   "outputs": [],
   "source": [
    "utilitites_texts=text_dict['Utilities']\n",
    "energy_texts=text_dict['Energy']"
   ]
  },
  {
   "cell_type": "code",
   "execution_count": 52,
   "id": "f88cb3fb",
   "metadata": {
    "ExecuteTime": {
     "end_time": "2024-06-27T12:22:56.787016Z",
     "start_time": "2024-06-27T12:22:55.932416Z"
    }
   },
   "outputs": [
    {
     "data": {
      "image/png": "[encoded data removed]",
      "text/plain": [
       "<Figure size 600x500 with 1 Axes>"
      ]
     },
     "metadata": {},
     "output_type": "display_data"
    }
   ],
   "source": [
    "plt.figure(figsize=(6,5))\n",
    "plt.plot(range(2015, 2024), [len(utilitites_texts[year].keys()) for year in utilitites_texts.keys()], marker='o', c='navy', label='Utilities', linestyle='--')\n",
    "plt.plot(range(2015, 2024), [len(energy_texts[year].keys()) for year in energy_texts.keys()], marker='o', c='darkmagenta', label='Energy', linestyle='-')\n",
    "plt.ylabel('Number of reports', fontsize=14)\n",
    "plt.legend(fontsize=12)\n",
    "plt.savefig('./plots/chatgpt_n_reports.png', dpi=300, bbox_inches='tight')\n",
    "plt.show()"
   ]
  },
  {
   "cell_type": "markdown",
   "id": "4c60b78d",
   "metadata": {},
   "source": [
    "# SDGs"
   ]
  },
  {
   "cell_type": "code",
   "execution_count": 22,
   "id": "044d93ba",
   "metadata": {
    "ExecuteTime": {
     "end_time": "2024-06-26T09:02:56.026840Z",
     "start_time": "2024-06-26T09:02:56.019609Z"
    }
   },
   "outputs": [],
   "source": [
    "with open ('./data/energy_utilities_texts.pickle', 'rb') as f:\n",
    "    text_dict=pickle.load(f)"
   ]
  },
  {
   "cell_type": "markdown",
   "id": "2e5eb626",
   "metadata": {},
   "source": [
    "## Dictionaries and binary results"
   ]
  },
  {
   "cell_type": "code",
   "execution_count": 23,
   "id": "b5e4bee9",
   "metadata": {
    "ExecuteTime": {
     "end_time": "2024-06-26T09:02:58.217448Z",
     "start_time": "2024-06-26T09:02:58.083946Z"
    }
   },
   "outputs": [
    {
     "data": {
      "application/vnd.jupyter.widget-view+json": {
       "model_id": "5242e50d864843b8b66a055998122252",
       "version_major": 2,
       "version_minor": 0
      },
      "text/plain": [
       "  0%|          | 0/9 [00:00<?, ?it/s]"
      ]
     },
     "metadata": {},
     "output_type": "display_data"
    },
    {
     "name": "stdout",
     "output_type": "stream",
     "text": [
      "2017 Utilities 08_RENEWI_PLC\n"
     ]
    }
   ],
   "source": [
    "sdgs_dict={}\n",
    "binary_dict={}\n",
    "for year in trange(2015, 2024):\n",
    "    s_year=str(year)\n",
    "    sdgs_dict[year]={}\n",
    "    binary_dict[year]={}\n",
    "    for field in ['Energy', 'Utilities']:\n",
    "        sdgs_dict[year][field]={}\n",
    "        firms=list(text_dict[field][s_year].keys())\n",
    "        binary_dict[year][field]=np.zeros((len(firms), L_SDGS), dtype=int)\n",
    "        for i_f, firm in enumerate(firms):\n",
    "            text=text_dict[field][s_year][firm]\n",
    "            _dict, check=text2dict(text)\n",
    "            if check==1:\n",
    "                print(year, field, firm)\n",
    "            sdgs_dict[year][field][firm]=_dict\n",
    "            binary_dict[year][field][i_f]=text2vec(_dict)"
   ]
  },
  {
   "cell_type": "markdown",
   "id": "e238b68f",
   "metadata": {},
   "source": [
    "### Save me!"
   ]
  },
  {
   "cell_type": "code",
   "execution_count": 28,
   "id": "03b546d5",
   "metadata": {
    "ExecuteTime": {
     "end_time": "2024-06-26T09:04:12.664904Z",
     "start_time": "2024-06-26T09:04:12.659309Z"
    }
   },
   "outputs": [],
   "source": [
    "with open ('./data/sdgs_dict.pickle', 'wb') as f:\n",
    "    pickle.dump(sdgs_dict, f)"
   ]
  },
  {
   "cell_type": "code",
   "execution_count": 29,
   "id": "467fc705",
   "metadata": {
    "ExecuteTime": {
     "end_time": "2024-06-26T09:04:13.142414Z",
     "start_time": "2024-06-26T09:04:13.136108Z"
    }
   },
   "outputs": [],
   "source": [
    "with open ('./data/energy_utilities_binary.pickle', 'wb') as f:\n",
    "    pickle.dump(binary_dict, f)"
   ]
  },
  {
   "cell_type": "markdown",
   "id": "ae0e578d",
   "metadata": {},
   "source": [
    "Recap:"
   ]
  },
  {
   "cell_type": "code",
   "execution_count": 30,
   "id": "b0fc13eb",
   "metadata": {
    "ExecuteTime": {
     "end_time": "2024-06-26T09:04:14.453481Z",
     "start_time": "2024-06-26T09:04:14.444956Z"
    }
   },
   "outputs": [
    {
     "data": {
      "text/plain": [
       "dict_keys([2015, 2016, 2017, 2018, 2019, 2020, 2021, 2022, 2023])"
      ]
     },
     "execution_count": 30,
     "metadata": {},
     "output_type": "execute_result"
    }
   ],
   "source": [
    "binary_dict.keys()"
   ]
  },
  {
   "cell_type": "code",
   "execution_count": 31,
   "id": "cf927401",
   "metadata": {
    "ExecuteTime": {
     "end_time": "2024-06-26T09:04:14.860681Z",
     "start_time": "2024-06-26T09:04:14.853028Z"
    }
   },
   "outputs": [
    {
     "data": {
      "text/plain": [
       "dict_keys([2015, 2016, 2017, 2018, 2019, 2020, 2021, 2022, 2023])"
      ]
     },
     "execution_count": 31,
     "metadata": {},
     "output_type": "execute_result"
    }
   ],
   "source": [
    "sdgs_dict.keys()"
   ]
  },
  {
   "cell_type": "code",
   "execution_count": 32,
   "id": "2cefd0ba",
   "metadata": {
    "ExecuteTime": {
     "end_time": "2024-06-26T09:04:15.277990Z",
     "start_time": "2024-06-26T09:04:15.269601Z"
    }
   },
   "outputs": [
    {
     "data": {
      "text/plain": [
       "dict_keys(['Energy', 'Utilities'])"
      ]
     },
     "execution_count": 32,
     "metadata": {},
     "output_type": "execute_result"
    }
   ],
   "source": [
    "sdgs_dict[2015].keys()"
   ]
  },
  {
   "cell_type": "code",
   "execution_count": 33,
   "id": "9e4e6e43",
   "metadata": {
    "ExecuteTime": {
     "end_time": "2024-06-26T09:04:15.673942Z",
     "start_time": "2024-06-26T09:04:15.667119Z"
    }
   },
   "outputs": [
    {
     "data": {
      "text/plain": [
       "dict_keys(['01_shell', '02_BP'])"
      ]
     },
     "execution_count": 33,
     "metadata": {},
     "output_type": "execute_result"
    }
   ],
   "source": [
    "sdgs_dict[2015]['Energy'].keys()"
   ]
  },
  {
   "cell_type": "markdown",
   "id": "e2730e5e",
   "metadata": {},
   "source": [
    "### Plot me!"
   ]
  },
  {
   "cell_type": "markdown",
   "id": "a9bcc467",
   "metadata": {},
   "source": [
    "Not all SDGs are covered at least one time in each report."
   ]
  },
  {
   "cell_type": "code",
   "execution_count": 34,
   "id": "d8f944ba",
   "metadata": {
    "ExecuteTime": {
     "end_time": "2024-06-26T09:04:17.828931Z",
     "start_time": "2024-06-26T09:04:17.311088Z"
    }
   },
   "outputs": [
    {
     "data": {
      "image/png": "[encoded data removed]",
      "text/plain": [
       "<Figure size 1000x400 with 2 Axes>"
      ]
     },
     "metadata": {},
     "output_type": "display_data"
    }
   ],
   "source": [
    "fig, axs=plt.subplots(nrows=1, ncols=2, figsize=(10,4))\n",
    "sector_colors=['navy', 'darkmagenta']\n",
    "sector_ls=['--', '-']\n",
    "for i_s, sector in enumerate(['Utilities', 'Energy']):\n",
    "    axs[0].plot(range(2015, 2024), [np.sum(np.sum(binary_dict[key][sector], axis=0)>0) for key in range(2015, 2024)], marker='o', c=sector_colors[i_s], label=sector, linestyle=sector_ls[i_s])\n",
    "    axs[1].plot(range(2015, 2024), [np.sum(np.sum(binary_dict[key][sector], axis=0)==binary_dict[key][sector].shape[0]) for key in range(2015, 2024)], marker='o', c=sector_colors[i_s], label=sector, linestyle=sector_ls[i_s])\n",
    "\n",
    "axs[0].set_ylabel('Number of SDGs\\nmentioned at least in one report', fontsize=14)\n",
    "axs[0].set_yticks(np.arange(15, 18, dtype=int))\n",
    "\n",
    "axs[1].set_ylabel('Number of SDGs\\nmentioned in all reports', fontsize=14, rotation=270, labelpad=35)\n",
    "axs[1].set_yticks(np.arange(0, 18, 5, dtype=int))\n",
    "\n",
    "axs[1].yaxis.tick_right()\n",
    "axs[1].yaxis.set_label_position(\"right\")\n",
    "\n",
    "plt.legend(fontsize=12)\n",
    "plt.show()"
   ]
  },
  {
   "cell_type": "code",
   "execution_count": 53,
   "id": "d5480be2",
   "metadata": {
    "ExecuteTime": {
     "end_time": "2024-06-27T12:23:39.030776Z",
     "start_time": "2024-06-27T12:23:38.286098Z"
    }
   },
   "outputs": [
    {
     "data": {
      "image/png": "[encoded data removed]",
      "text/plain": [
       "<Figure size 600x500 with 1 Axes>"
      ]
     },
     "metadata": {},
     "output_type": "display_data"
    }
   ],
   "source": [
    "#fig, axs=plt.subplots(nrows=1, ncols=2, figsize=(10,4))\n",
    "plt.figure(figsize=(6,5))\n",
    "sector_colors=['navy', 'darkmagenta']\n",
    "sector_ls=['--', '-']\n",
    "for i_s, sector in enumerate(['Utilities', 'Energy']):\n",
    "    plt.plot(range(2015, 2024), [np.sum(np.sum(binary_dict[key][sector], axis=0)==binary_dict[key][sector].shape[0]) for key in range(2015, 2024)], marker='o', c=sector_colors[i_s], label=sector, linestyle=sector_ls[i_s])\n",
    "\n",
    "plt.ylabel('Number of SDGs\\nmentioned in all reports', fontsize=14)\n",
    "plt.yticks(np.arange(0, 18, 5, dtype=int))\n",
    "plt.legend(fontsize=12)\n",
    "\n",
    "plt.savefig('./plots/chatgpt_n_sdgs_in_all_reports.png', dpi=300, bbox_inches='tight')\n",
    "plt.show()"
   ]
  },
  {
   "cell_type": "markdown",
   "id": "af0e0b83",
   "metadata": {},
   "source": [
    "# Where to go next?"
   ]
  },
  {
   "cell_type": "markdown",
   "id": "a621c20e",
   "metadata": {},
   "source": [
    "I fear that the statistical validation is not that relevant, due to the limited dimension of the matrices: at most we have a 8x17 matrix. May it be interesting to validate the bipartite matrix of all years altogether? Even in this case, the matrices will be quite small. For the moment let us leave those (ugly) plots here."
   ]
  },
  {
   "cell_type": "code",
   "execution_count": null,
   "id": "e6af32f9",
   "metadata": {},
   "outputs": [],
   "source": []
  }
 ],
 "metadata": {
  "kernelspec": {
   "display_name": "Python 3 (ipykernel)",
   "language": "python",
   "name": "python3"
  },
  "language_info": {
   "codemirror_mode": {
    "name": "ipython",
    "version": 3
   },
   "file_extension": ".py",
   "mimetype": "text/x-python",
   "name": "python",
   "nbconvert_exporter": "python",
   "pygments_lexer": "ipython3",
   "version": "3.8.10"
  },
  "notify_time": "5",
  "toc": {
   "base_numbering": 1,
   "nav_menu": {},
   "number_sections": true,
   "sideBar": true,
   "skip_h1_title": false,
   "title_cell": "Table of Contents",
   "title_sidebar": "Contents",
   "toc_cell": false,
   "toc_position": {
    "height": "calc(100% - 180px)",
    "left": "10px",
    "top": "150px",
    "width": "288px"
   },
   "toc_section_display": true,
   "toc_window_display": true
  }
 },
 "nbformat": 4,
 "nbformat_minor": 5
}
