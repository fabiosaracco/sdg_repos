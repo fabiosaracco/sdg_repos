{
 "cells": [
  {
   "cell_type": "markdown",
   "id": "2bc9eb0a",
   "metadata": {},
   "source": [
    "# Intro"
   ]
  },
  {
   "cell_type": "markdown",
   "id": "88e56f6e",
   "metadata": {},
   "source": [
    "## Load"
   ]
  },
  {
   "cell_type": "markdown",
   "id": "641b3407",
   "metadata": {},
   "source": [
    "### Standards"
   ]
  },
  {
   "cell_type": "code",
   "execution_count": 1,
   "id": "7536cc00",
   "metadata": {
    "ExecuteTime": {
     "end_time": "2024-06-21T10:35:03.324563Z",
     "start_time": "2024-06-21T10:35:03.057788Z"
    }
   },
   "outputs": [],
   "source": [
    "import os, sys, pickle\n",
    "import numpy as np\n",
    "from tqdm.notebook import trange, tqdm\n",
    "import re"
   ]
  },
  {
   "cell_type": "code",
   "execution_count": 2,
   "id": "ca9daa4b",
   "metadata": {
    "ExecuteTime": {
     "end_time": "2024-06-21T10:35:04.022529Z",
     "start_time": "2024-06-21T10:35:03.329069Z"
    }
   },
   "outputs": [],
   "source": [
    "import matplotlib.pyplot as plt\n",
    "plt.rcParams['axes.linewidth'] = 2\n",
    "plt.rcParams['xtick.major.size'] = 10\n",
    "plt.rcParams['xtick.major.width'] = 2\n",
    "plt.rcParams['ytick.major.size'] = 10\n",
    "plt.rcParams['ytick.major.width'] = 2\n",
    "\n",
    "plt.rcParams['xtick.labelsize'] = 14\n",
    "plt.rcParams['ytick.labelsize'] = 14\n",
    "\n",
    "plt.rcParams['xtick.minor.size'] = 5\n",
    "plt.rcParams['xtick.minor.width'] = 1\n",
    "plt.rcParams['ytick.minor.size'] = 5\n",
    "plt.rcParams['ytick.minor.width'] = 1\n"
   ]
  },
  {
   "cell_type": "markdown",
   "id": "bb35b2b0",
   "metadata": {},
   "source": [
    "### Homemade modules"
   ]
  },
  {
   "cell_type": "code",
   "execution_count": 3,
   "id": "0a549cf4",
   "metadata": {
    "ExecuteTime": {
     "end_time": "2024-06-21T10:35:07.848688Z",
     "start_time": "2024-06-21T10:35:04.025813Z"
    }
   },
   "outputs": [],
   "source": [
    "from tesste import tesste\n",
    "from ppp import ppp\n",
    "from readers_and_converters import file2text, text2dict, text2vec"
   ]
  },
  {
   "cell_type": "markdown",
   "id": "56ac6938",
   "metadata": {},
   "source": [
    "## Stoopid infos"
   ]
  },
  {
   "cell_type": "code",
   "execution_count": 4,
   "id": "c222fc89",
   "metadata": {
    "ExecuteTime": {
     "end_time": "2024-06-21T10:35:07.857559Z",
     "start_time": "2024-06-21T10:35:07.852469Z"
    }
   },
   "outputs": [],
   "source": [
    "L_SDGS=17"
   ]
  },
  {
   "cell_type": "markdown",
   "id": "84d5d5ca",
   "metadata": {},
   "source": [
    "# Energy"
   ]
  },
  {
   "cell_type": "markdown",
   "id": "2c16a3fc",
   "metadata": {},
   "source": [
    "## Folders"
   ]
  },
  {
   "cell_type": "code",
   "execution_count": 5,
   "id": "80e83211",
   "metadata": {
    "ExecuteTime": {
     "end_time": "2024-06-21T10:35:07.944118Z",
     "start_time": "2024-06-21T10:35:07.864442Z"
    }
   },
   "outputs": [],
   "source": [
    "main_folder='./chatgpt_summaries/'"
   ]
  },
  {
   "cell_type": "code",
   "execution_count": 6,
   "id": "c3d32b8d",
   "metadata": {
    "ExecuteTime": {
     "end_time": "2024-06-21T10:35:08.044064Z",
     "start_time": "2024-06-21T10:35:07.947473Z"
    }
   },
   "outputs": [],
   "source": [
    "e_folder=main_folder+'Energy/'"
   ]
  },
  {
   "cell_type": "code",
   "execution_count": 7,
   "id": "8965d95e",
   "metadata": {
    "ExecuteTime": {
     "end_time": "2024-06-21T10:35:08.135931Z",
     "start_time": "2024-06-21T10:35:08.047947Z"
    }
   },
   "outputs": [],
   "source": [
    "c_folders=os.listdir(e_folder)\n",
    "c_folders.sort()"
   ]
  },
  {
   "cell_type": "code",
   "execution_count": 8,
   "id": "a5c7f9e5",
   "metadata": {
    "ExecuteTime": {
     "end_time": "2024-06-21T10:35:08.238132Z",
     "start_time": "2024-06-21T10:35:08.139665Z"
    }
   },
   "outputs": [
    {
     "data": {
      "text/plain": [
       "['01_shell',\n",
       " '02_BP',\n",
       " '03_Harbour_Energy_PLC',\n",
       " '04_energeans',\n",
       " '05_ITHACA_ENERGY_PLC',\n",
       " '06_LSE_WG',\n",
       " '07_SERICA_ENERGY_PLC',\n",
       " '08_ASHTEAD_TECHNOLOGY_HOLDINGS_PLC',\n",
       " '10_DIVERSIFIED_ENERGY_COMPANY_PLC']"
      ]
     },
     "execution_count": 8,
     "metadata": {},
     "output_type": "execute_result"
    }
   ],
   "source": [
    "c_folders"
   ]
  },
  {
   "cell_type": "markdown",
   "id": "239e9560",
   "metadata": {},
   "source": [
    "## Basics"
   ]
  },
  {
   "cell_type": "code",
   "execution_count": 9,
   "id": "4340bd42",
   "metadata": {
    "ExecuteTime": {
     "end_time": "2024-06-21T10:35:08.327451Z",
     "start_time": "2024-06-21T10:35:08.241686Z"
    }
   },
   "outputs": [],
   "source": [
    "energy_texts={}\n",
    "for y in range(2015, 2024):\n",
    "    energy_texts[str(y)]={}"
   ]
  },
  {
   "cell_type": "code",
   "execution_count": 10,
   "id": "73fabba7",
   "metadata": {
    "ExecuteTime": {
     "end_time": "2024-06-21T10:35:09.559597Z",
     "start_time": "2024-06-21T10:35:08.330862Z"
    }
   },
   "outputs": [
    {
     "data": {
      "application/vnd.jupyter.widget-view+json": {
       "model_id": "f2f6e8364a9940e79c4d592fd24036dd",
       "version_major": 2,
       "version_minor": 0
      },
      "text/plain": [
       "  0%|          | 0/9 [00:00<?, ?it/s]"
      ]
     },
     "metadata": {},
     "output_type": "display_data"
    },
    {
     "data": {
      "application/vnd.jupyter.widget-view+json": {
       "model_id": "",
       "version_major": 2,
       "version_minor": 0
      },
      "text/plain": [
       "01_shell:   0%|          | 0/9 [00:00<?, ?it/s]"
      ]
     },
     "metadata": {},
     "output_type": "display_data"
    },
    {
     "data": {
      "application/vnd.jupyter.widget-view+json": {
       "model_id": "",
       "version_major": 2,
       "version_minor": 0
      },
      "text/plain": [
       "02_BP:   0%|          | 0/9 [00:00<?, ?it/s]"
      ]
     },
     "metadata": {},
     "output_type": "display_data"
    },
    {
     "data": {
      "application/vnd.jupyter.widget-view+json": {
       "model_id": "",
       "version_major": 2,
       "version_minor": 0
      },
      "text/plain": [
       "03_Harbour_Energy_PLC:   0%|          | 0/2 [00:00<?, ?it/s]"
      ]
     },
     "metadata": {},
     "output_type": "display_data"
    },
    {
     "data": {
      "application/vnd.jupyter.widget-view+json": {
       "model_id": "",
       "version_major": 2,
       "version_minor": 0
      },
      "text/plain": [
       "04_energeans:   0%|          | 0/6 [00:00<?, ?it/s]"
      ]
     },
     "metadata": {},
     "output_type": "display_data"
    },
    {
     "data": {
      "application/vnd.jupyter.widget-view+json": {
       "model_id": "",
       "version_major": 2,
       "version_minor": 0
      },
      "text/plain": [
       "05_ITHACA_ENERGY_PLC:   0%|          | 0/2 [00:00<?, ?it/s]"
      ]
     },
     "metadata": {},
     "output_type": "display_data"
    },
    {
     "data": {
      "application/vnd.jupyter.widget-view+json": {
       "model_id": "",
       "version_major": 2,
       "version_minor": 0
      },
      "text/plain": [
       "06_LSE_WG:   0%|          | 0/5 [00:00<?, ?it/s]"
      ]
     },
     "metadata": {},
     "output_type": "display_data"
    },
    {
     "data": {
      "application/vnd.jupyter.widget-view+json": {
       "model_id": "",
       "version_major": 2,
       "version_minor": 0
      },
      "text/plain": [
       "07_SERICA_ENERGY_PLC:   0%|          | 0/5 [00:00<?, ?it/s]"
      ]
     },
     "metadata": {},
     "output_type": "display_data"
    },
    {
     "data": {
      "application/vnd.jupyter.widget-view+json": {
       "model_id": "",
       "version_major": 2,
       "version_minor": 0
      },
      "text/plain": [
       "08_ASHTEAD_TECHNOLOGY_HOLDINGS_PLC:   0%|          | 0/3 [00:00<?, ?it/s]"
      ]
     },
     "metadata": {},
     "output_type": "display_data"
    },
    {
     "data": {
      "application/vnd.jupyter.widget-view+json": {
       "model_id": "",
       "version_major": 2,
       "version_minor": 0
      },
      "text/plain": [
       "10_DIVERSIFIED_ENERGY_COMPANY_PLC:   0%|          | 0/5 [00:00<?, ?it/s]"
      ]
     },
     "metadata": {},
     "output_type": "display_data"
    }
   ],
   "source": [
    "for i, c_folder in enumerate(tqdm(c_folders)):\n",
    "    files=os.listdir(e_folder+c_folder)\n",
    "    files.sort()\n",
    "    for file in tqdm(files, desc=c_folder, leave=False):\n",
    "        year=file[:4]\n",
    "        #print(year)\n",
    "        energy_texts[year][c_folder]=file2text(e_folder+c_folder+'/'+file)\n",
    "    "
   ]
  },
  {
   "cell_type": "code",
   "execution_count": 11,
   "id": "5fbef8d1",
   "metadata": {
    "ExecuteTime": {
     "end_time": "2024-06-21T10:35:09.880459Z",
     "start_time": "2024-06-21T10:35:09.562914Z"
    }
   },
   "outputs": [
    {
     "data": {
      "image/png": "[encoded data removed]",
      "text/plain": [
       "<Figure size 640x480 with 1 Axes>"
      ]
     },
     "metadata": {},
     "output_type": "display_data"
    }
   ],
   "source": [
    "plt.plot(range(2015, 2024), [len(energy_texts[year].keys()) for year in energy_texts.keys()], marker='o')\n",
    "plt.ylabel('Number of reports', fontsize=14)\n",
    "plt.suptitle('Energy', fontsize=18)\n",
    "plt.show()"
   ]
  },
  {
   "cell_type": "markdown",
   "id": "7224a1a8",
   "metadata": {},
   "source": [
    "## Binary analysis"
   ]
  },
  {
   "cell_type": "code",
   "execution_count": 12,
   "id": "129d4f9e",
   "metadata": {
    "ExecuteTime": {
     "end_time": "2024-06-21T10:35:10.047373Z",
     "start_time": "2024-06-21T10:35:09.883831Z"
    }
   },
   "outputs": [
    {
     "data": {
      "application/vnd.jupyter.widget-view+json": {
       "model_id": "adf7f1c253ef4056914299645da05f37",
       "version_major": 2,
       "version_minor": 0
      },
      "text/plain": [
       "  0%|          | 0/9 [00:00<?, ?it/s]"
      ]
     },
     "metadata": {},
     "output_type": "display_data"
    },
    {
     "data": {
      "application/vnd.jupyter.widget-view+json": {
       "model_id": "",
       "version_major": 2,
       "version_minor": 0
      },
      "text/plain": [
       "  0%|          | 0/2 [00:00<?, ?it/s]"
      ]
     },
     "metadata": {},
     "output_type": "display_data"
    },
    {
     "data": {
      "application/vnd.jupyter.widget-view+json": {
       "model_id": "",
       "version_major": 2,
       "version_minor": 0
      },
      "text/plain": [
       "  0%|          | 0/2 [00:00<?, ?it/s]"
      ]
     },
     "metadata": {},
     "output_type": "display_data"
    },
    {
     "data": {
      "application/vnd.jupyter.widget-view+json": {
       "model_id": "",
       "version_major": 2,
       "version_minor": 0
      },
      "text/plain": [
       "  0%|          | 0/2 [00:00<?, ?it/s]"
      ]
     },
     "metadata": {},
     "output_type": "display_data"
    },
    {
     "data": {
      "application/vnd.jupyter.widget-view+json": {
       "model_id": "",
       "version_major": 2,
       "version_minor": 0
      },
      "text/plain": [
       "  0%|          | 0/3 [00:00<?, ?it/s]"
      ]
     },
     "metadata": {},
     "output_type": "display_data"
    },
    {
     "data": {
      "application/vnd.jupyter.widget-view+json": {
       "model_id": "",
       "version_major": 2,
       "version_minor": 0
      },
      "text/plain": [
       "  0%|          | 0/6 [00:00<?, ?it/s]"
      ]
     },
     "metadata": {},
     "output_type": "display_data"
    },
    {
     "data": {
      "application/vnd.jupyter.widget-view+json": {
       "model_id": "",
       "version_major": 2,
       "version_minor": 0
      },
      "text/plain": [
       "  0%|          | 0/6 [00:00<?, ?it/s]"
      ]
     },
     "metadata": {},
     "output_type": "display_data"
    },
    {
     "data": {
      "application/vnd.jupyter.widget-view+json": {
       "model_id": "",
       "version_major": 2,
       "version_minor": 0
      },
      "text/plain": [
       "  0%|          | 0/8 [00:00<?, ?it/s]"
      ]
     },
     "metadata": {},
     "output_type": "display_data"
    },
    {
     "data": {
      "application/vnd.jupyter.widget-view+json": {
       "model_id": "",
       "version_major": 2,
       "version_minor": 0
      },
      "text/plain": [
       "  0%|          | 0/9 [00:00<?, ?it/s]"
      ]
     },
     "metadata": {},
     "output_type": "display_data"
    },
    {
     "data": {
      "application/vnd.jupyter.widget-view+json": {
       "model_id": "",
       "version_major": 2,
       "version_minor": 0
      },
      "text/plain": [
       "  0%|          | 0/8 [00:00<?, ?it/s]"
      ]
     },
     "metadata": {},
     "output_type": "display_data"
    }
   ],
   "source": [
    "energy_bi={}\n",
    "for key in tqdm(energy_texts.keys()):\n",
    "    s_keys=list(energy_texts[key].keys())\n",
    "    n_docs=len(s_keys)\n",
    "    aux=np.zeros((n_docs, L_SDGS), dtype=int)\n",
    "    for i, s_key in enumerate(tqdm(s_keys, leave=False)):\n",
    "        aux[i]=text2vec(energy_texts[key][s_key])\n",
    "    energy_bi[key]=aux\n",
    "    "
   ]
  },
  {
   "cell_type": "code",
   "execution_count": 13,
   "id": "c582fa0e",
   "metadata": {
    "ExecuteTime": {
     "end_time": "2024-06-21T10:35:44.485870Z",
     "start_time": "2024-06-21T10:35:44.475931Z"
    }
   },
   "outputs": [
    {
     "data": {
      "text/plain": [
       "[15, 16, 16, 16, 17, 17, 17, 17, 17]"
      ]
     },
     "execution_count": 13,
     "metadata": {},
     "output_type": "execute_result"
    }
   ],
   "source": [
    "[np.sum(np.sum(energy_bi[key], axis=0)>0) for key in energy_bi.keys()]"
   ]
  },
  {
   "cell_type": "markdown",
   "id": "e532eb15",
   "metadata": {},
   "source": [
    "Not all SDGs are covered at least one time in each report."
   ]
  },
  {
   "cell_type": "code",
   "execution_count": 33,
   "id": "82975d76",
   "metadata": {
    "ExecuteTime": {
     "end_time": "2024-06-21T10:45:04.259713Z",
     "start_time": "2024-06-21T10:45:03.804725Z"
    }
   },
   "outputs": [
    {
     "data": {
      "image/png": "[encoded data removed]",
      "text/plain": [
       "<Figure size 1000x400 with 2 Axes>"
      ]
     },
     "metadata": {},
     "output_type": "display_data"
    }
   ],
   "source": [
    "fig, axs=plt.subplots(nrows=1, ncols=2, figsize=(10,4))\n",
    "axs[0].plot(range(2015, 2024), [np.sum(np.sum(energy_bi[key], axis=0)>0) for key in energy_bi.keys()], marker='o')\n",
    "axs[0].set_ylabel('Number of SDGs\\nmentioned at least in one report', fontsize=14)\n",
    "axs[0].set_yticks(np.arange(15, 18, dtype=int))\n",
    "\n",
    "\n",
    "axs[1].plot(range(2015, 2024), [np.sum(np.sum(energy_bi[key], axis=0)==energy_bi[key].shape[0]) for key in energy_bi.keys()], marker='o')\n",
    "axs[1].set_ylabel('Number of SDGs\\nmentioned in all reports', fontsize=14)\n",
    "axs[1].set_yticks(np.arange(8, 13, dtype=int))\n",
    "plt.suptitle('Energy', fontsize=18)\n",
    "plt.show()"
   ]
  },
  {
   "cell_type": "code",
   "execution_count": 32,
   "id": "7a13ea89",
   "metadata": {
    "ExecuteTime": {
     "end_time": "2024-06-21T10:44:16.438328Z",
     "start_time": "2024-06-21T10:44:16.429376Z"
    }
   },
   "outputs": [
    {
     "data": {
      "text/plain": [
       "array([[0, 0, 1, 1, 1, 1, 1, 1, 1, 0, 1, 1, 1, 0, 1, 1, 1],\n",
       "       [0, 0, 1, 1, 1, 1, 1, 1, 1, 1, 0, 1, 1, 1, 1, 1, 1]])"
      ]
     },
     "execution_count": 32,
     "metadata": {},
     "output_type": "execute_result"
    }
   ],
   "source": [
    "energy_bi['2015']"
   ]
  },
  {
   "cell_type": "code",
   "execution_count": null,
   "id": "c4e73566",
   "metadata": {},
   "outputs": [],
   "source": []
  }
 ],
 "metadata": {
  "kernelspec": {
   "display_name": "Python 3 (ipykernel)",
   "language": "python",
   "name": "python3"
  },
  "language_info": {
   "codemirror_mode": {
    "name": "ipython",
    "version": 3
   },
   "file_extension": ".py",
   "mimetype": "text/x-python",
   "name": "python",
   "nbconvert_exporter": "python",
   "pygments_lexer": "ipython3",
   "version": "3.8.10"
  },
  "notify_time": "5",
  "toc": {
   "base_numbering": 1,
   "nav_menu": {},
   "number_sections": true,
   "sideBar": true,
   "skip_h1_title": false,
   "title_cell": "Table of Contents",
   "title_sidebar": "Contents",
   "toc_cell": false,
   "toc_position": {
    "height": "calc(100% - 180px)",
    "left": "10px",
    "top": "150px",
    "width": "288px"
   },
   "toc_section_display": true,
   "toc_window_display": true
  }
 },
 "nbformat": 4,
 "nbformat_minor": 5
}
