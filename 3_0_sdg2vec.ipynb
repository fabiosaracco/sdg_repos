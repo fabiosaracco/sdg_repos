{
 "cells": [
  {
   "cell_type": "markdown",
   "id": "d3bdfeec",
   "metadata": {},
   "source": [
    "# Intro"
   ]
  },
  {
   "cell_type": "markdown",
   "id": "54907cb2",
   "metadata": {},
   "source": [
    "## Load"
   ]
  },
  {
   "cell_type": "markdown",
   "id": "1c58d982",
   "metadata": {},
   "source": [
    "### Standards"
   ]
  },
  {
   "cell_type": "code",
   "execution_count": 1,
   "id": "d77a8378",
   "metadata": {
    "ExecuteTime": {
     "end_time": "2024-06-24T15:08:03.256802Z",
     "start_time": "2024-06-24T15:08:02.986176Z"
    }
   },
   "outputs": [],
   "source": [
    "import os, sys, pickle\n",
    "import numpy as np\n",
    "from tqdm.notebook import trange, tqdm\n",
    "import re"
   ]
  },
  {
   "cell_type": "code",
   "execution_count": 2,
   "id": "ad2fab04",
   "metadata": {
    "ExecuteTime": {
     "end_time": "2024-06-24T15:08:03.958371Z",
     "start_time": "2024-06-24T15:08:03.261389Z"
    }
   },
   "outputs": [],
   "source": [
    "import matplotlib.pyplot as plt\n",
    "plt.rcParams['axes.linewidth'] = 2\n",
    "plt.rcParams['xtick.major.size'] = 10\n",
    "plt.rcParams['xtick.major.width'] = 2\n",
    "plt.rcParams['ytick.major.size'] = 10\n",
    "plt.rcParams['ytick.major.width'] = 2\n",
    "\n",
    "plt.rcParams['xtick.labelsize'] = 14\n",
    "plt.rcParams['ytick.labelsize'] = 14\n",
    "\n",
    "plt.rcParams['xtick.minor.size'] = 5\n",
    "plt.rcParams['xtick.minor.width'] = 1\n",
    "plt.rcParams['ytick.minor.size'] = 5\n",
    "plt.rcParams['ytick.minor.width'] = 1\n"
   ]
  },
  {
   "cell_type": "markdown",
   "id": "e2361dc4",
   "metadata": {},
   "source": [
    "### Homemade modules"
   ]
  },
  {
   "cell_type": "code",
   "execution_count": 3,
   "id": "e93c19a2",
   "metadata": {
    "ExecuteTime": {
     "end_time": "2024-06-24T15:08:07.908115Z",
     "start_time": "2024-06-24T15:08:03.962324Z"
    }
   },
   "outputs": [],
   "source": [
    "from tesste import tesste\n",
    "from ppp import ppp\n",
    "from readers_and_converters import file2text, text2dict, text2vec"
   ]
  },
  {
   "cell_type": "markdown",
   "id": "861e76b0",
   "metadata": {},
   "source": [
    "## Stoopid infos"
   ]
  },
  {
   "cell_type": "code",
   "execution_count": 4,
   "id": "680b91ae",
   "metadata": {
    "ExecuteTime": {
     "end_time": "2024-06-24T15:08:07.918697Z",
     "start_time": "2024-06-24T15:08:07.913217Z"
    }
   },
   "outputs": [],
   "source": [
    "L_SDGS=17"
   ]
  },
  {
   "cell_type": "markdown",
   "id": "19c9994e",
   "metadata": {},
   "source": [
    "# Energy"
   ]
  },
  {
   "cell_type": "markdown",
   "id": "aab1f7e8",
   "metadata": {},
   "source": [
    "## Folders"
   ]
  },
  {
   "cell_type": "code",
   "execution_count": 5,
   "id": "57c8bbd3",
   "metadata": {
    "ExecuteTime": {
     "end_time": "2024-06-24T15:08:08.000089Z",
     "start_time": "2024-06-24T15:08:07.921981Z"
    }
   },
   "outputs": [],
   "source": [
    "main_folder='./chatgpt_summaries/'"
   ]
  },
  {
   "cell_type": "code",
   "execution_count": 6,
   "id": "fe54fda5",
   "metadata": {
    "ExecuteTime": {
     "end_time": "2024-06-24T14:49:21.845466Z",
     "start_time": "2024-06-24T14:49:21.840208Z"
    }
   },
   "outputs": [],
   "source": [
    "e_folder=main_folder+'Energy/'"
   ]
  },
  {
   "cell_type": "code",
   "execution_count": 7,
   "id": "8ded9110",
   "metadata": {
    "ExecuteTime": {
     "end_time": "2024-06-24T14:49:22.221881Z",
     "start_time": "2024-06-24T14:49:22.216048Z"
    }
   },
   "outputs": [],
   "source": [
    "ec_folders=os.listdir(e_folder)\n",
    "ec_folders.sort()"
   ]
  },
  {
   "cell_type": "code",
   "execution_count": 8,
   "id": "ac574a5d",
   "metadata": {
    "ExecuteTime": {
     "end_time": "2024-06-24T14:49:22.780822Z",
     "start_time": "2024-06-24T14:49:22.764327Z"
    }
   },
   "outputs": [
    {
     "data": {
      "text/plain": [
       "['01_shell',\n",
       " '02_BP',\n",
       " '03_Harbour_Energy_PLC',\n",
       " '04_energeans',\n",
       " '05_ITHACA_ENERGY_PLC',\n",
       " '06_LSE_WG',\n",
       " '07_SERICA_ENERGY_PLC',\n",
       " '08_ASHTEAD_TECHNOLOGY_HOLDINGS_PLC',\n",
       " '10_DIVERSIFIED_ENERGY_COMPANY_PLC']"
      ]
     },
     "execution_count": 8,
     "metadata": {},
     "output_type": "execute_result"
    }
   ],
   "source": [
    "ec_folders"
   ]
  },
  {
   "cell_type": "markdown",
   "id": "4d43b155",
   "metadata": {},
   "source": [
    "## Basics"
   ]
  },
  {
   "cell_type": "code",
   "execution_count": 9,
   "id": "97a588f4",
   "metadata": {
    "ExecuteTime": {
     "end_time": "2024-06-21T15:20:49.291486Z",
     "start_time": "2024-06-21T15:20:49.210238Z"
    }
   },
   "outputs": [],
   "source": [
    "energy_texts={}\n",
    "for y in range(2015, 2024):\n",
    "    energy_texts[str(y)]={}"
   ]
  },
  {
   "cell_type": "code",
   "execution_count": 10,
   "id": "1e2f164c",
   "metadata": {
    "ExecuteTime": {
     "end_time": "2024-06-21T15:20:50.505460Z",
     "start_time": "2024-06-21T15:20:49.294327Z"
    }
   },
   "outputs": [
    {
     "data": {
      "application/vnd.jupyter.widget-view+json": {
       "model_id": "b239d420d6014651b5d746c8bf2dbfa1",
       "version_major": 2,
       "version_minor": 0
      },
      "text/plain": [
       "  0%|          | 0/9 [00:00<?, ?it/s]"
      ]
     },
     "metadata": {},
     "output_type": "display_data"
    },
    {
     "data": {
      "application/vnd.jupyter.widget-view+json": {
       "model_id": "",
       "version_major": 2,
       "version_minor": 0
      },
      "text/plain": [
       "01_shell:   0%|          | 0/9 [00:00<?, ?it/s]"
      ]
     },
     "metadata": {},
     "output_type": "display_data"
    },
    {
     "data": {
      "application/vnd.jupyter.widget-view+json": {
       "model_id": "",
       "version_major": 2,
       "version_minor": 0
      },
      "text/plain": [
       "02_BP:   0%|          | 0/9 [00:00<?, ?it/s]"
      ]
     },
     "metadata": {},
     "output_type": "display_data"
    },
    {
     "data": {
      "application/vnd.jupyter.widget-view+json": {
       "model_id": "",
       "version_major": 2,
       "version_minor": 0
      },
      "text/plain": [
       "03_Harbour_Energy_PLC:   0%|          | 0/2 [00:00<?, ?it/s]"
      ]
     },
     "metadata": {},
     "output_type": "display_data"
    },
    {
     "data": {
      "application/vnd.jupyter.widget-view+json": {
       "model_id": "",
       "version_major": 2,
       "version_minor": 0
      },
      "text/plain": [
       "04_energeans:   0%|          | 0/6 [00:00<?, ?it/s]"
      ]
     },
     "metadata": {},
     "output_type": "display_data"
    },
    {
     "data": {
      "application/vnd.jupyter.widget-view+json": {
       "model_id": "",
       "version_major": 2,
       "version_minor": 0
      },
      "text/plain": [
       "05_ITHACA_ENERGY_PLC:   0%|          | 0/2 [00:00<?, ?it/s]"
      ]
     },
     "metadata": {},
     "output_type": "display_data"
    },
    {
     "data": {
      "application/vnd.jupyter.widget-view+json": {
       "model_id": "",
       "version_major": 2,
       "version_minor": 0
      },
      "text/plain": [
       "06_LSE_WG:   0%|          | 0/5 [00:00<?, ?it/s]"
      ]
     },
     "metadata": {},
     "output_type": "display_data"
    },
    {
     "data": {
      "application/vnd.jupyter.widget-view+json": {
       "model_id": "",
       "version_major": 2,
       "version_minor": 0
      },
      "text/plain": [
       "07_SERICA_ENERGY_PLC:   0%|          | 0/5 [00:00<?, ?it/s]"
      ]
     },
     "metadata": {},
     "output_type": "display_data"
    },
    {
     "data": {
      "application/vnd.jupyter.widget-view+json": {
       "model_id": "",
       "version_major": 2,
       "version_minor": 0
      },
      "text/plain": [
       "08_ASHTEAD_TECHNOLOGY_HOLDINGS_PLC:   0%|          | 0/3 [00:00<?, ?it/s]"
      ]
     },
     "metadata": {},
     "output_type": "display_data"
    },
    {
     "data": {
      "application/vnd.jupyter.widget-view+json": {
       "model_id": "",
       "version_major": 2,
       "version_minor": 0
      },
      "text/plain": [
       "10_DIVERSIFIED_ENERGY_COMPANY_PLC:   0%|          | 0/5 [00:00<?, ?it/s]"
      ]
     },
     "metadata": {},
     "output_type": "display_data"
    }
   ],
   "source": [
    "for i, ec_folder in enumerate(tqdm(ec_folders)):\n",
    "    files=os.listdir(e_folder+ec_folder)\n",
    "    files.sort()\n",
    "    for file in tqdm(files, desc=ec_folder, leave=False):\n",
    "        year=file[:4]\n",
    "        #print(year)\n",
    "        energy_texts[year][ec_folder]=file2text(e_folder+ec_folder+'/'+file)\n",
    "    "
   ]
  },
  {
   "cell_type": "markdown",
   "id": "d698143d",
   "metadata": {},
   "source": [
    "# Utilities"
   ]
  },
  {
   "cell_type": "markdown",
   "id": "a09a3bb6",
   "metadata": {},
   "source": [
    "## Folders"
   ]
  },
  {
   "cell_type": "code",
   "execution_count": 15,
   "id": "5757fe0b",
   "metadata": {
    "ExecuteTime": {
     "end_time": "2024-06-21T15:20:51.532239Z",
     "start_time": "2024-06-21T15:20:51.527666Z"
    }
   },
   "outputs": [],
   "source": [
    "main_folder='./chatgpt_summaries/'"
   ]
  },
  {
   "cell_type": "code",
   "execution_count": 16,
   "id": "64e7e963",
   "metadata": {
    "ExecuteTime": {
     "end_time": "2024-06-21T15:20:51.607933Z",
     "start_time": "2024-06-21T15:20:51.535542Z"
    }
   },
   "outputs": [],
   "source": [
    "u_folder=main_folder+'Utilities/'"
   ]
  },
  {
   "cell_type": "code",
   "execution_count": 17,
   "id": "534b85f8",
   "metadata": {
    "ExecuteTime": {
     "end_time": "2024-06-21T15:20:51.691601Z",
     "start_time": "2024-06-21T15:20:51.611766Z"
    }
   },
   "outputs": [],
   "source": [
    "uc_folders=os.listdir(u_folder)\n",
    "uc_folders.sort()"
   ]
  },
  {
   "cell_type": "code",
   "execution_count": 18,
   "id": "8c5a0231",
   "metadata": {
    "ExecuteTime": {
     "end_time": "2024-06-21T15:20:52.179887Z",
     "start_time": "2024-06-21T15:20:52.172136Z"
    }
   },
   "outputs": [
    {
     "data": {
      "text/plain": [
       "['01_NATIONAL_GRID_PLC',\n",
       " '02_SSE_PLC',\n",
       " '03_SEVERN_TRENT_PLC',\n",
       " '04_UNITED_UTILITIES_GROUP_PLC',\n",
       " '05_CENTRICA_PLC',\n",
       " '06_DRAX_GROUP_PLC',\n",
       " '07_PENNON_GROUP_PLC',\n",
       " '08_RENEWI_PLC',\n",
       " '10_GOOD_ENERGY_GROUP_PLC']"
      ]
     },
     "execution_count": 18,
     "metadata": {},
     "output_type": "execute_result"
    }
   ],
   "source": [
    "uc_folders"
   ]
  },
  {
   "cell_type": "markdown",
   "id": "60b1bd34",
   "metadata": {},
   "source": [
    "## Basics"
   ]
  },
  {
   "cell_type": "code",
   "execution_count": 19,
   "id": "a57284b7",
   "metadata": {
    "ExecuteTime": {
     "end_time": "2024-06-21T15:20:52.904732Z",
     "start_time": "2024-06-21T15:20:52.898073Z"
    }
   },
   "outputs": [],
   "source": [
    "utilitites_texts={}\n",
    "for y in range(2015, 2024):\n",
    "    utilitites_texts[str(y)]={}"
   ]
  },
  {
   "cell_type": "code",
   "execution_count": 20,
   "id": "8724087e",
   "metadata": {
    "ExecuteTime": {
     "end_time": "2024-06-21T15:20:53.884615Z",
     "start_time": "2024-06-21T15:20:53.193349Z"
    }
   },
   "outputs": [
    {
     "data": {
      "application/vnd.jupyter.widget-view+json": {
       "model_id": "f3daf4b6cbe744e3917c8b2d02149259",
       "version_major": 2,
       "version_minor": 0
      },
      "text/plain": [
       "  0%|          | 0/9 [00:00<?, ?it/s]"
      ]
     },
     "metadata": {},
     "output_type": "display_data"
    },
    {
     "data": {
      "application/vnd.jupyter.widget-view+json": {
       "model_id": "",
       "version_major": 2,
       "version_minor": 0
      },
      "text/plain": [
       "01_NATIONAL_GRID_PLC:   0%|          | 0/4 [00:00<?, ?it/s]"
      ]
     },
     "metadata": {},
     "output_type": "display_data"
    },
    {
     "data": {
      "application/vnd.jupyter.widget-view+json": {
       "model_id": "",
       "version_major": 2,
       "version_minor": 0
      },
      "text/plain": [
       "02_SSE_PLC:   0%|          | 0/9 [00:00<?, ?it/s]"
      ]
     },
     "metadata": {},
     "output_type": "display_data"
    },
    {
     "data": {
      "application/vnd.jupyter.widget-view+json": {
       "model_id": "",
       "version_major": 2,
       "version_minor": 0
      },
      "text/plain": [
       "03_SEVERN_TRENT_PLC:   0%|          | 0/4 [00:00<?, ?it/s]"
      ]
     },
     "metadata": {},
     "output_type": "display_data"
    },
    {
     "data": {
      "application/vnd.jupyter.widget-view+json": {
       "model_id": "",
       "version_major": 2,
       "version_minor": 0
      },
      "text/plain": [
       "04_UNITED_UTILITIES_GROUP_PLC:   0%|          | 0/1 [00:00<?, ?it/s]"
      ]
     },
     "metadata": {},
     "output_type": "display_data"
    },
    {
     "data": {
      "application/vnd.jupyter.widget-view+json": {
       "model_id": "",
       "version_major": 2,
       "version_minor": 0
      },
      "text/plain": [
       "05_CENTRICA_PLC:   0%|          | 0/6 [00:00<?, ?it/s]"
      ]
     },
     "metadata": {},
     "output_type": "display_data"
    },
    {
     "data": {
      "application/vnd.jupyter.widget-view+json": {
       "model_id": "",
       "version_major": 2,
       "version_minor": 0
      },
      "text/plain": [
       "06_DRAX_GROUP_PLC:   0%|          | 0/1 [00:00<?, ?it/s]"
      ]
     },
     "metadata": {},
     "output_type": "display_data"
    },
    {
     "data": {
      "application/vnd.jupyter.widget-view+json": {
       "model_id": "",
       "version_major": 2,
       "version_minor": 0
      },
      "text/plain": [
       "07_PENNON_GROUP_PLC:   0%|          | 0/3 [00:00<?, ?it/s]"
      ]
     },
     "metadata": {},
     "output_type": "display_data"
    },
    {
     "data": {
      "application/vnd.jupyter.widget-view+json": {
       "model_id": "",
       "version_major": 2,
       "version_minor": 0
      },
      "text/plain": [
       "08_RENEWI_PLC:   0%|          | 0/7 [00:00<?, ?it/s]"
      ]
     },
     "metadata": {},
     "output_type": "display_data"
    },
    {
     "data": {
      "application/vnd.jupyter.widget-view+json": {
       "model_id": "",
       "version_major": 2,
       "version_minor": 0
      },
      "text/plain": [
       "10_GOOD_ENERGY_GROUP_PLC:   0%|          | 0/5 [00:00<?, ?it/s]"
      ]
     },
     "metadata": {},
     "output_type": "display_data"
    }
   ],
   "source": [
    "for i, uc_folder in enumerate(tqdm(uc_folders)):\n",
    "    files=os.listdir(u_folder+uc_folder)\n",
    "    files.sort()\n",
    "    for file in tqdm(files, desc=uc_folder, leave=False):\n",
    "        year=file[:4]\n",
    "        #print(year)\n",
    "        utilitites_texts[year][uc_folder]=file2text(u_folder+uc_folder+'/'+file)\n",
    "    "
   ]
  },
  {
   "cell_type": "markdown",
   "id": "5cd2e2b3",
   "metadata": {},
   "source": [
    "# Save me!"
   ]
  },
  {
   "cell_type": "code",
   "execution_count": 25,
   "id": "590d8749",
   "metadata": {
    "ExecuteTime": {
     "end_time": "2024-06-21T15:20:56.788207Z",
     "start_time": "2024-06-21T15:20:56.778935Z"
    }
   },
   "outputs": [],
   "source": [
    "text_dict={'Energy': energy_texts, 'Utilities': utilitites_texts}\n",
    "with open ('./data/energy_utilities_texts.pickle', 'wb') as f:\n",
    "    pickle.dump(text_dict, f)"
   ]
  },
  {
   "cell_type": "markdown",
   "id": "7ae410d8",
   "metadata": {},
   "source": [
    "# Plot me!"
   ]
  },
  {
   "cell_type": "code",
   "execution_count": 6,
   "id": "00c6bb7c",
   "metadata": {
    "ExecuteTime": {
     "end_time": "2024-06-24T15:08:11.176257Z",
     "start_time": "2024-06-24T15:08:11.167884Z"
    }
   },
   "outputs": [],
   "source": [
    "with open ('./data/energy_utilities_texts.pickle', 'rb') as f:\n",
    "    text_dict=pickle.load(f)"
   ]
  },
  {
   "cell_type": "code",
   "execution_count": 7,
   "id": "b2054fbf",
   "metadata": {
    "ExecuteTime": {
     "end_time": "2024-06-24T15:08:11.540361Z",
     "start_time": "2024-06-24T15:08:11.534424Z"
    }
   },
   "outputs": [],
   "source": [
    "utilitites_texts=text_dict['Utilities']\n",
    "energy_texts=text_dict['Energy']"
   ]
  },
  {
   "cell_type": "code",
   "execution_count": 8,
   "id": "b1f09cc5",
   "metadata": {
    "ExecuteTime": {
     "end_time": "2024-06-24T15:08:12.264558Z",
     "start_time": "2024-06-24T15:08:11.882966Z"
    }
   },
   "outputs": [
    {
     "data": {
      "image/png": "[encoded data removed]",
      "text/plain": [
       "<Figure size 640x480 with 1 Axes>"
      ]
     },
     "metadata": {},
     "output_type": "display_data"
    }
   ],
   "source": [
    "plt.plot(range(2015, 2024), [len(utilitites_texts[year].keys()) for year in utilitites_texts.keys()], marker='o', c='navy', label='Utilities', linestyle='--')\n",
    "plt.plot(range(2015, 2024), [len(energy_texts[year].keys()) for year in energy_texts.keys()], marker='o', c='darkmagenta', label='Energy', linestyle='-')\n",
    "plt.ylabel('Number of reports', fontsize=14)\n",
    "plt.legend(fontsize=12)\n",
    "plt.show()"
   ]
  },
  {
   "cell_type": "markdown",
   "id": "458730ed",
   "metadata": {},
   "source": [
    "## Dictionaries and binary results"
   ]
  },
  {
   "cell_type": "code",
   "execution_count": 9,
   "id": "2d3d66c9",
   "metadata": {
    "ExecuteTime": {
     "end_time": "2024-06-24T15:08:14.669270Z",
     "start_time": "2024-06-24T15:08:14.623793Z"
    }
   },
   "outputs": [
    {
     "data": {
      "application/vnd.jupyter.widget-view+json": {
       "model_id": "ad82e67668f8486fb3cffc01c7cde941",
       "version_major": 2,
       "version_minor": 0
      },
      "text/plain": [
       "  0%|          | 0/9 [00:00<?, ?it/s]"
      ]
     },
     "metadata": {},
     "output_type": "display_data"
    }
   ],
   "source": [
    "sdgs_dict={}\n",
    "binary_dict={}\n",
    "for year in trange(2015, 2024):\n",
    "    s_year=str(year)\n",
    "    sdgs_dict[year]={}\n",
    "    binary_dict[year]={}\n",
    "    for field in ['Energy', 'Utilities']:\n",
    "        sdgs_dict[year][field]={}\n",
    "        firms=list(text_dict[field][s_year].keys())\n",
    "        binary_dict[year][field]=np.zeros((len(firms), L_SDGS), dtype=int)\n",
    "        for i_f, firm in enumerate(firms):\n",
    "            text=text_dict[field][s_year][firm]\n",
    "            _dict=text2dict(text)\n",
    "            sdgs_dict[year][field][firm]=_dict\n",
    "            binary_dict[year][field][i_f]=text2vec(_dict)"
   ]
  },
  {
   "cell_type": "markdown",
   "id": "a93adb3e",
   "metadata": {},
   "source": [
    "### Save me!"
   ]
  },
  {
   "cell_type": "code",
   "execution_count": 11,
   "id": "e21e884f",
   "metadata": {
    "ExecuteTime": {
     "end_time": "2024-06-24T15:08:59.216093Z",
     "start_time": "2024-06-24T15:08:59.207139Z"
    }
   },
   "outputs": [],
   "source": [
    "with open ('./data/sdgs_dict.pickle', 'wb') as f:\n",
    "    pickle.dump(sdgs_dict, f)"
   ]
  },
  {
   "cell_type": "code",
   "execution_count": 12,
   "id": "13b4e385",
   "metadata": {
    "ExecuteTime": {
     "end_time": "2024-06-24T15:09:15.338104Z",
     "start_time": "2024-06-24T15:09:15.331117Z"
    }
   },
   "outputs": [],
   "source": [
    "with open ('./data/energy_utilities_binary.pickle', 'wb') as f:\n",
    "    pickle.dump(binary_dict, f)"
   ]
  },
  {
   "cell_type": "markdown",
   "id": "00a243e7",
   "metadata": {},
   "source": [
    "Recap:"
   ]
  },
  {
   "cell_type": "code",
   "execution_count": 13,
   "id": "a94ba70c",
   "metadata": {
    "ExecuteTime": {
     "end_time": "2024-06-24T15:09:54.092884Z",
     "start_time": "2024-06-24T15:09:54.083864Z"
    }
   },
   "outputs": [
    {
     "data": {
      "text/plain": [
       "dict_keys([2015, 2016, 2017, 2018, 2019, 2020, 2021, 2022, 2023])"
      ]
     },
     "execution_count": 13,
     "metadata": {},
     "output_type": "execute_result"
    }
   ],
   "source": [
    "binary_dict.keys()"
   ]
  },
  {
   "cell_type": "code",
   "execution_count": 22,
   "id": "7dd24e90",
   "metadata": {
    "ExecuteTime": {
     "end_time": "2024-06-24T15:21:22.168339Z",
     "start_time": "2024-06-24T15:21:22.159091Z"
    }
   },
   "outputs": [
    {
     "data": {
      "text/plain": [
       "dict_keys([2015, 2016, 2017, 2018, 2019, 2020, 2021, 2022, 2023])"
      ]
     },
     "execution_count": 22,
     "metadata": {},
     "output_type": "execute_result"
    }
   ],
   "source": [
    "sdgs_dict.keys()"
   ]
  },
  {
   "cell_type": "code",
   "execution_count": 23,
   "id": "e41e2971",
   "metadata": {
    "ExecuteTime": {
     "end_time": "2024-06-24T15:21:23.276675Z",
     "start_time": "2024-06-24T15:21:23.267227Z"
    }
   },
   "outputs": [
    {
     "data": {
      "text/plain": [
       "dict_keys(['Energy', 'Utilities'])"
      ]
     },
     "execution_count": 23,
     "metadata": {},
     "output_type": "execute_result"
    }
   ],
   "source": [
    "sdgs_dict[2015].keys()"
   ]
  },
  {
   "cell_type": "code",
   "execution_count": 25,
   "id": "23cc69c6",
   "metadata": {
    "ExecuteTime": {
     "end_time": "2024-06-24T15:21:35.923840Z",
     "start_time": "2024-06-24T15:21:35.914159Z"
    }
   },
   "outputs": [
    {
     "data": {
      "text/plain": [
       "dict_keys(['01_shell', '02_BP'])"
      ]
     },
     "execution_count": 25,
     "metadata": {},
     "output_type": "execute_result"
    }
   ],
   "source": [
    "sdgs_dict[2015]['Energy'].keys()"
   ]
  },
  {
   "cell_type": "markdown",
   "id": "1298ba41",
   "metadata": {},
   "source": [
    "### Plot me!"
   ]
  },
  {
   "cell_type": "code",
   "execution_count": 23,
   "id": "552dfd26",
   "metadata": {
    "ExecuteTime": {
     "end_time": "2024-06-21T15:20:54.560678Z",
     "start_time": "2024-06-21T15:20:54.551994Z"
    }
   },
   "outputs": [
    {
     "data": {
      "text/plain": [
       "[15, 15, 15, 16, 16, 15, 16, 16, 17]"
      ]
     },
     "execution_count": 23,
     "metadata": {},
     "output_type": "execute_result"
    }
   ],
   "source": [
    "[np.sum(np.sum(utilitites_bi[key], axis=0)>0) for key in utilitites_bi.keys()]"
   ]
  },
  {
   "cell_type": "markdown",
   "id": "65e8b4fd",
   "metadata": {},
   "source": [
    "Not all SDGs are covered at least one time in each report."
   ]
  },
  {
   "cell_type": "code",
   "execution_count": 20,
   "id": "d08cce04",
   "metadata": {
    "ExecuteTime": {
     "end_time": "2024-06-24T15:17:35.998691Z",
     "start_time": "2024-06-24T15:17:35.526159Z"
    }
   },
   "outputs": [
    {
     "data": {
      "image/png": "[encoded data removed]",
      "text/plain": [
       "<Figure size 1000x400 with 2 Axes>"
      ]
     },
     "metadata": {},
     "output_type": "display_data"
    }
   ],
   "source": [
    "fig, axs=plt.subplots(nrows=1, ncols=2, figsize=(10,4))\n",
    "sector_colors=['navy', 'darkmagenta']\n",
    "sector_ls=['--', '-']\n",
    "for i_s, sector in enumerate(['Utilities', 'Energy']):\n",
    "    axs[0].plot(range(2015, 2024), [np.sum(np.sum(binary_dict[key][sector], axis=0)>0) for key in range(2015, 2024)], marker='o', c=sector_colors[i_s], label=sector, linestyle=sector_ls[i_s])\n",
    "    axs[1].plot(range(2015, 2024), [np.sum(np.sum(binary_dict[key][sector], axis=0)==binary_dict[key][sector].shape[0]) for key in range(2015, 2024)], marker='o', c=sector_colors[i_s], label=sector, linestyle=sector_ls[i_s])\n",
    "\n",
    "axs[0].set_ylabel('Number of SDGs\\nmentioned at least in one report', fontsize=14)\n",
    "axs[0].set_yticks(np.arange(15, 18, dtype=int))\n",
    "\n",
    "axs[1].set_ylabel('Number of SDGs\\nmentioned in all reports', fontsize=14, rotation=270, labelpad=35)\n",
    "axs[1].set_yticks(np.arange(0, 18, 5, dtype=int))\n",
    "\n",
    "axs[1].yaxis.tick_right()\n",
    "axs[1].yaxis.set_label_position(\"right\")\n",
    "\n",
    "plt.legend(fontsize=12)\n",
    "plt.show()"
   ]
  },
  {
   "cell_type": "markdown",
   "id": "f2fba567",
   "metadata": {},
   "source": [
    "# Where to go next?"
   ]
  },
  {
   "cell_type": "markdown",
   "id": "4c6f6503",
   "metadata": {},
   "source": [
    "I fear that the statistical validation is not that relevant, due to the limited dimension of the matrices: at most we have a 8x17 matrix. May it be interesting to validate the bipartite matrix of all years altogether? Even in this case, the matrices will be quite small. For the moment let us leave those (ugly) plots here."
   ]
  },
  {
   "cell_type": "code",
   "execution_count": null,
   "id": "96d14368",
   "metadata": {},
   "outputs": [],
   "source": []
  }
 ],
 "metadata": {
  "kernelspec": {
   "display_name": "Python 3 (ipykernel)",
   "language": "python",
   "name": "python3"
  },
  "language_info": {
   "codemirror_mode": {
    "name": "ipython",
    "version": 3
   },
   "file_extension": ".py",
   "mimetype": "text/x-python",
   "name": "python",
   "nbconvert_exporter": "python",
   "pygments_lexer": "ipython3",
   "version": "3.8.10"
  },
  "notify_time": "5",
  "toc": {
   "base_numbering": 1,
   "nav_menu": {},
   "number_sections": true,
   "sideBar": true,
   "skip_h1_title": false,
   "title_cell": "Table of Contents",
   "title_sidebar": "Contents",
   "toc_cell": false,
   "toc_position": {
    "height": "calc(100% - 180px)",
    "left": "10px",
    "top": "150px",
    "width": "288px"
   },
   "toc_section_display": true,
   "toc_window_display": true
  }
 },
 "nbformat": 4,
 "nbformat_minor": 5
}
