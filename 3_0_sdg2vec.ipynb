{
 "cells": [
  {
   "cell_type": "markdown",
   "id": "4f423721",
   "metadata": {},
   "source": [
    "# Intro"
   ]
  },
  {
   "cell_type": "markdown",
   "id": "ceacac40",
   "metadata": {},
   "source": [
    "## Load"
   ]
  },
  {
   "cell_type": "markdown",
   "id": "98d74065",
   "metadata": {},
   "source": [
    "### Standards"
   ]
  },
  {
   "cell_type": "code",
   "execution_count": 1,
   "id": "8284668f",
   "metadata": {
    "ExecuteTime": {
     "end_time": "2024-06-20T07:23:53.913050Z",
     "start_time": "2024-06-20T07:23:53.649565Z"
    }
   },
   "outputs": [],
   "source": [
    "import os, sys, pickle\n",
    "import numpy as np\n",
    "from tqdm.notebook import trange, tqdm"
   ]
  },
  {
   "cell_type": "code",
   "execution_count": 2,
   "id": "5884037c",
   "metadata": {
    "ExecuteTime": {
     "end_time": "2024-06-20T07:23:54.593593Z",
     "start_time": "2024-06-20T07:23:53.916629Z"
    }
   },
   "outputs": [],
   "source": [
    "import matplotlib.pyplot as plt\n",
    "plt.rcParams['axes.linewidth'] = 2\n",
    "plt.rcParams['xtick.major.size'] = 10\n",
    "plt.rcParams['xtick.major.width'] = 2\n",
    "plt.rcParams['ytick.major.size'] = 10\n",
    "plt.rcParams['ytick.major.width'] = 2\n",
    "\n",
    "plt.rcParams['xtick.labelsize'] = 14\n",
    "plt.rcParams['ytick.labelsize'] = 14\n",
    "\n",
    "plt.rcParams['xtick.minor.size'] = 5\n",
    "plt.rcParams['xtick.minor.width'] = 1\n",
    "plt.rcParams['ytick.minor.size'] = 5\n",
    "plt.rcParams['ytick.minor.width'] = 1\n"
   ]
  },
  {
   "cell_type": "markdown",
   "id": "c4924e5e",
   "metadata": {},
   "source": [
    "### Homemade modules"
   ]
  },
  {
   "cell_type": "code",
   "execution_count": 3,
   "id": "072fd27d",
   "metadata": {
    "ExecuteTime": {
     "end_time": "2024-06-20T07:24:00.354466Z",
     "start_time": "2024-06-20T07:23:56.563705Z"
    }
   },
   "outputs": [],
   "source": [
    "from tesste import tesste\n",
    "from ppp import ppp\n",
    "from readers_and_converters import file2text, text2dict, text2vec"
   ]
  },
  {
   "cell_type": "markdown",
   "id": "247cc8a3",
   "metadata": {},
   "source": [
    "# Energy"
   ]
  },
  {
   "cell_type": "markdown",
   "id": "48da18b7",
   "metadata": {},
   "source": [
    "## Organizing folders"
   ]
  },
  {
   "cell_type": "markdown",
   "id": "c321280b",
   "metadata": {},
   "source": [
    "### Getting th folders"
   ]
  },
  {
   "cell_type": "code",
   "execution_count": 26,
   "id": "d5eec6c2",
   "metadata": {
    "ExecuteTime": {
     "end_time": "2024-06-20T07:33:02.553217Z",
     "start_time": "2024-06-20T07:33:02.547667Z"
    }
   },
   "outputs": [],
   "source": [
    "e_folder='chatgpt_summaries/Energy/'"
   ]
  },
  {
   "cell_type": "code",
   "execution_count": 27,
   "id": "554fa8dd",
   "metadata": {
    "ExecuteTime": {
     "end_time": "2024-06-20T07:33:02.869153Z",
     "start_time": "2024-06-20T07:33:02.863285Z"
    }
   },
   "outputs": [],
   "source": [
    "folders=[f.name for f in os.scandir(e_folder) if f.is_dir() ]"
   ]
  },
  {
   "cell_type": "code",
   "execution_count": 28,
   "id": "d01c76ff",
   "metadata": {
    "ExecuteTime": {
     "end_time": "2024-06-20T07:33:03.130920Z",
     "start_time": "2024-06-20T07:33:03.125567Z"
    }
   },
   "outputs": [],
   "source": [
    "folders.sort()"
   ]
  },
  {
   "cell_type": "code",
   "execution_count": 29,
   "id": "10c1cf17",
   "metadata": {
    "ExecuteTime": {
     "end_time": "2024-06-20T07:33:03.470677Z",
     "start_time": "2024-06-20T07:33:03.461908Z"
    }
   },
   "outputs": [
    {
     "data": {
      "text/plain": [
       "['01_shell',\n",
       " '02_BP',\n",
       " '03_Harbour_Energy_PLC',\n",
       " '04_energeans',\n",
       " '05_ITHACA_ENERGY_PLC',\n",
       " '06_LSE_WG',\n",
       " '07_SERICA_ENERGY_PLC',\n",
       " '08_ASHTEAD_TECHNOLOGY_HOLDINGS_PLC',\n",
       " '10_DIVERSIFIED_ENERGY_COMPANY_PLC']"
      ]
     },
     "execution_count": 29,
     "metadata": {},
     "output_type": "execute_result"
    }
   ],
   "source": [
    "folders"
   ]
  },
  {
   "cell_type": "markdown",
   "id": "3ce73be6",
   "metadata": {},
   "source": [
    "### Organize each folder"
   ]
  },
  {
   "cell_type": "markdown",
   "id": "eafdf884",
   "metadata": {},
   "source": [
    "Probably I should integrate this part in the unzipper... Change the name in order to have only a number for the year."
   ]
  },
  {
   "cell_type": "code",
   "execution_count": 30,
   "id": "dce116b8",
   "metadata": {
    "ExecuteTime": {
     "end_time": "2024-06-20T07:34:18.552748Z",
     "start_time": "2024-06-20T07:34:18.546440Z"
    }
   },
   "outputs": [],
   "source": [
    "folder=folders[0]"
   ]
  },
  {
   "cell_type": "code",
   "execution_count": 32,
   "id": "b3061a73",
   "metadata": {
    "ExecuteTime": {
     "end_time": "2024-06-20T07:37:58.665924Z",
     "start_time": "2024-06-20T07:37:58.659407Z"
    }
   },
   "outputs": [],
   "source": [
    "files=[file for file in os.listdir(e_folder+folder)]"
   ]
  },
  {
   "cell_type": "code",
   "execution_count": 69,
   "id": "238803c6",
   "metadata": {
    "ExecuteTime": {
     "end_time": "2024-06-20T07:55:13.118569Z",
     "start_time": "2024-06-20T07:55:13.113253Z"
    }
   },
   "outputs": [],
   "source": [
    "file=files[1]"
   ]
  },
  {
   "cell_type": "code",
   "execution_count": 70,
   "id": "427ebc68",
   "metadata": {
    "ExecuteTime": {
     "end_time": "2024-06-20T07:55:13.468159Z",
     "start_time": "2024-06-20T07:55:13.462741Z"
    }
   },
   "outputs": [],
   "source": [
    "aux=file.split('_')"
   ]
  },
  {
   "cell_type": "code",
   "execution_count": 71,
   "id": "a956bf5e",
   "metadata": {
    "ExecuteTime": {
     "end_time": "2024-06-20T07:55:13.841383Z",
     "start_time": "2024-06-20T07:55:13.833015Z"
    }
   },
   "outputs": [
    {
     "data": {
      "text/plain": [
       "'entire_shell_sr15_summary.docx'"
      ]
     },
     "execution_count": 71,
     "metadata": {},
     "output_type": "execute_result"
    }
   ],
   "source": [
    "file"
   ]
  },
  {
   "cell_type": "code",
   "execution_count": 72,
   "id": "9575944c",
   "metadata": {
    "ExecuteTime": {
     "end_time": "2024-06-20T07:55:15.108266Z",
     "start_time": "2024-06-20T07:55:15.102548Z"
    }
   },
   "outputs": [],
   "source": [
    "year=[a for a in aux if a.isdigit()]"
   ]
  },
  {
   "cell_type": "code",
   "execution_count": 75,
   "id": "ac0a36d6",
   "metadata": {
    "ExecuteTime": {
     "end_time": "2024-06-20T07:56:07.240151Z",
     "start_time": "2024-06-20T07:56:07.233763Z"
    }
   },
   "outputs": [
    {
     "name": "stdout",
     "output_type": "stream",
     "text": [
      "[]\n",
      "[]\n",
      "['1', '5']\n",
      "[]\n"
     ]
    }
   ],
   "source": [
    "for a in aux:\n",
    "    [_ for _ in a if _.isdigit()]"
   ]
  },
  {
   "cell_type": "code",
   "execution_count": 81,
   "id": "3a97ee93",
   "metadata": {
    "ExecuteTime": {
     "end_time": "2024-06-20T08:05:09.162216Z",
     "start_time": "2024-06-20T08:05:09.146814Z"
    }
   },
   "outputs": [],
   "source": [
    "def name_changer(file_name):\n",
    "    aux=file_name.split('_')\n",
    "    year=[a for a in aux if a.isdigit()]\n",
    "    if len(year)>0:\n",
    "        year=year[0]\n",
    "        if len(year)==2:\n",
    "            year='20'+year\n",
    "        new_name='_'.join([a for a in aux if not a.isdigit()])\n",
    "    else:\n",
    "        hidden_year=[]\n",
    "        num_entry=[]\n",
    "        for a in aux:\n",
    "            hy=[_ for _ in a if _.isdigit()]\n",
    "            if len(hy)>0:\n",
    "                hy=''.join(hy)\n",
    "                hidden_year.append(hy)\n",
    "                num_entry.append(a)\n",
    "        if len(hidden_year)==1:\n",
    "            year=hidden_year[0]\n",
    "            if len(year)==2:\n",
    "                year='20'+year\n",
    "            new_name='_'.join([a for a in aux if a!=num_entry[0]])\n",
    "        else:\n",
    "            return 1\n",
    "    \n",
    "    return year+'_'+new_name\n",
    "        "
   ]
  },
  {
   "cell_type": "code",
   "execution_count": 78,
   "id": "fa195b21",
   "metadata": {
    "ExecuteTime": {
     "end_time": "2024-06-20T08:03:38.116133Z",
     "start_time": "2024-06-20T08:03:38.110279Z"
    }
   },
   "outputs": [],
   "source": [
    "new_names=[name_changer(file) for file in files]"
   ]
  },
  {
   "cell_type": "code",
   "execution_count": 79,
   "id": "c0f9d5af",
   "metadata": {
    "ExecuteTime": {
     "end_time": "2024-06-20T08:03:44.410296Z",
     "start_time": "2024-06-20T08:03:44.405145Z"
    }
   },
   "outputs": [],
   "source": [
    "new_names.sort()"
   ]
  },
  {
   "cell_type": "code",
   "execution_count": 80,
   "id": "fae658c3",
   "metadata": {
    "ExecuteTime": {
     "end_time": "2024-06-20T08:03:47.558889Z",
     "start_time": "2024-06-20T08:03:47.550073Z"
    }
   },
   "outputs": [
    {
     "data": {
      "text/plain": [
       "['0',\n",
       " '2015_entire_shell_summary.docx',\n",
       " '2016_entire_shell_summary.docx',\n",
       " '2017_shell_sustainability_report_summary.docx',\n",
       " '2018_shell_sustainability_report_summary.docx',\n",
       " '2019_shell_sustainability_report_summary.docx',\n",
       " '2020_shell_sustainability_report_summary.docx',\n",
       " '2021_shell_sustainability_report_summary.docx',\n",
       " '2022_shell_sustainability_report_summary.docx',\n",
       " '2023_shell_sustainability_report_summary.docx']"
      ]
     },
     "execution_count": 80,
     "metadata": {},
     "output_type": "execute_result"
    }
   ],
   "source": [
    "new_names"
   ]
  },
  {
   "cell_type": "code",
   "execution_count": null,
   "id": "02314d7c",
   "metadata": {},
   "outputs": [],
   "source": []
  }
 ],
 "metadata": {
  "kernelspec": {
   "display_name": "Python 3 (ipykernel)",
   "language": "python",
   "name": "python3"
  },
  "language_info": {
   "codemirror_mode": {
    "name": "ipython",
    "version": 3
   },
   "file_extension": ".py",
   "mimetype": "text/x-python",
   "name": "python",
   "nbconvert_exporter": "python",
   "pygments_lexer": "ipython3",
   "version": "3.8.10"
  },
  "notify_time": "5",
  "toc": {
   "base_numbering": 1,
   "nav_menu": {},
   "number_sections": true,
   "sideBar": true,
   "skip_h1_title": false,
   "title_cell": "Table of Contents",
   "title_sidebar": "Contents",
   "toc_cell": false,
   "toc_position": {
    "height": "calc(100% - 180px)",
    "left": "10px",
    "top": "150px",
    "width": "288px"
   },
   "toc_section_display": true,
   "toc_window_display": true
  }
 },
 "nbformat": 4,
 "nbformat_minor": 5
}
