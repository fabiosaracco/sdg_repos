{
 "cells": [
  {
   "cell_type": "markdown",
   "id": "bdc4d278",
   "metadata": {},
   "source": [
    "# Intro"
   ]
  },
  {
   "cell_type": "markdown",
   "id": "3b1fba00",
   "metadata": {},
   "source": [
    "## Load"
   ]
  },
  {
   "cell_type": "markdown",
   "id": "b0a4f6a4",
   "metadata": {},
   "source": [
    "### Standards"
   ]
  },
  {
   "cell_type": "code",
   "execution_count": 1,
   "id": "368b6140",
   "metadata": {
    "ExecuteTime": {
     "end_time": "2024-06-21T14:10:57.639963Z",
     "start_time": "2024-06-21T14:10:57.425526Z"
    }
   },
   "outputs": [],
   "source": [
    "import os, sys, pickle\n",
    "import numpy as np\n",
    "from tqdm.notebook import trange, tqdm\n",
    "import re"
   ]
  },
  {
   "cell_type": "code",
   "execution_count": 2,
   "id": "12bcbc7d",
   "metadata": {
    "ExecuteTime": {
     "end_time": "2024-06-21T14:10:57.932308Z",
     "start_time": "2024-06-21T14:10:57.642146Z"
    }
   },
   "outputs": [],
   "source": [
    "import matplotlib.pyplot as plt\n",
    "plt.rcParams['axes.linewidth'] = 2\n",
    "plt.rcParams['xtick.major.size'] = 10\n",
    "plt.rcParams['xtick.major.width'] = 2\n",
    "plt.rcParams['ytick.major.size'] = 10\n",
    "plt.rcParams['ytick.major.width'] = 2\n",
    "\n",
    "plt.rcParams['xtick.labelsize'] = 14\n",
    "plt.rcParams['ytick.labelsize'] = 14\n",
    "\n",
    "plt.rcParams['xtick.minor.size'] = 5\n",
    "plt.rcParams['xtick.minor.width'] = 1\n",
    "plt.rcParams['ytick.minor.size'] = 5\n",
    "plt.rcParams['ytick.minor.width'] = 1\n"
   ]
  },
  {
   "cell_type": "markdown",
   "id": "96e0c1fc",
   "metadata": {},
   "source": [
    "### Homemade modules"
   ]
  },
  {
   "cell_type": "code",
   "execution_count": 3,
   "id": "bde80f64",
   "metadata": {
    "ExecuteTime": {
     "end_time": "2024-06-21T14:11:00.587043Z",
     "start_time": "2024-06-21T14:10:57.933995Z"
    }
   },
   "outputs": [],
   "source": [
    "from tesste import tesste\n",
    "from ppp import ppp\n",
    "from readers_and_converters import file2text, text2dict, text2vec"
   ]
  },
  {
   "cell_type": "markdown",
   "id": "7dcb3cc1",
   "metadata": {},
   "source": [
    "## Stoopid infos"
   ]
  },
  {
   "cell_type": "code",
   "execution_count": 4,
   "id": "985da4c5",
   "metadata": {
    "ExecuteTime": {
     "end_time": "2024-06-21T14:11:00.589749Z",
     "start_time": "2024-06-21T14:11:00.588147Z"
    }
   },
   "outputs": [],
   "source": [
    "L_SDGS=17"
   ]
  },
  {
   "cell_type": "markdown",
   "id": "5de4023d",
   "metadata": {},
   "source": [
    "# Energy"
   ]
  },
  {
   "cell_type": "markdown",
   "id": "c4d885e1",
   "metadata": {},
   "source": [
    "## Folders"
   ]
  },
  {
   "cell_type": "code",
   "execution_count": 5,
   "id": "74e1e160",
   "metadata": {
    "ExecuteTime": {
     "end_time": "2024-06-21T14:11:00.593168Z",
     "start_time": "2024-06-21T14:11:00.591624Z"
    }
   },
   "outputs": [],
   "source": [
    "main_folder='./chatgpt_summaries/'"
   ]
  },
  {
   "cell_type": "code",
   "execution_count": 6,
   "id": "d4cc226f",
   "metadata": {
    "ExecuteTime": {
     "end_time": "2024-06-21T14:11:00.595603Z",
     "start_time": "2024-06-21T14:11:00.594170Z"
    }
   },
   "outputs": [],
   "source": [
    "e_folder=main_folder+'Energy/'"
   ]
  },
  {
   "cell_type": "code",
   "execution_count": 7,
   "id": "749b086b",
   "metadata": {
    "ExecuteTime": {
     "end_time": "2024-06-21T14:11:00.598366Z",
     "start_time": "2024-06-21T14:11:00.596556Z"
    }
   },
   "outputs": [],
   "source": [
    "ec_folders=os.listdir(e_folder)\n",
    "ec_folders.sort()"
   ]
  },
  {
   "cell_type": "code",
   "execution_count": 8,
   "id": "17cd24ac",
   "metadata": {
    "ExecuteTime": {
     "end_time": "2024-06-21T14:11:00.604279Z",
     "start_time": "2024-06-21T14:11:00.599347Z"
    }
   },
   "outputs": [
    {
     "data": {
      "text/plain": [
       "['01_shell',\n",
       " '02_BP',\n",
       " '03_Harbour_Energy_PLC',\n",
       " '04_energeans',\n",
       " '05_ITHACA_ENERGY_PLC',\n",
       " '06_LSE_WG',\n",
       " '07_SERICA_ENERGY_PLC',\n",
       " '08_ASHTEAD_TECHNOLOGY_HOLDINGS_PLC',\n",
       " '10_DIVERSIFIED_ENERGY_COMPANY_PLC']"
      ]
     },
     "execution_count": 8,
     "metadata": {},
     "output_type": "execute_result"
    }
   ],
   "source": [
    "ec_folders"
   ]
  },
  {
   "cell_type": "markdown",
   "id": "410a84ac",
   "metadata": {},
   "source": [
    "## Basics"
   ]
  },
  {
   "cell_type": "code",
   "execution_count": 9,
   "id": "2f86198d",
   "metadata": {
    "ExecuteTime": {
     "end_time": "2024-06-21T14:11:00.607967Z",
     "start_time": "2024-06-21T14:11:00.605404Z"
    }
   },
   "outputs": [],
   "source": [
    "energy_texts={}\n",
    "for y in range(2015, 2024):\n",
    "    energy_texts[str(y)]={}"
   ]
  },
  {
   "cell_type": "code",
   "execution_count": 10,
   "id": "adb23b71",
   "metadata": {
    "ExecuteTime": {
     "end_time": "2024-06-21T14:11:01.061693Z",
     "start_time": "2024-06-21T14:11:00.609101Z"
    }
   },
   "outputs": [
    {
     "data": {
      "application/vnd.jupyter.widget-view+json": {
       "model_id": "71dc80b7d4eb484e89dae7846d266333",
       "version_major": 2,
       "version_minor": 0
      },
      "text/plain": [
       "  0%|          | 0/9 [00:00<?, ?it/s]"
      ]
     },
     "metadata": {},
     "output_type": "display_data"
    },
    {
     "data": {
      "application/vnd.jupyter.widget-view+json": {
       "model_id": "",
       "version_major": 2,
       "version_minor": 0
      },
      "text/plain": [
       "01_shell:   0%|          | 0/9 [00:00<?, ?it/s]"
      ]
     },
     "metadata": {},
     "output_type": "display_data"
    },
    {
     "data": {
      "application/vnd.jupyter.widget-view+json": {
       "model_id": "",
       "version_major": 2,
       "version_minor": 0
      },
      "text/plain": [
       "02_BP:   0%|          | 0/9 [00:00<?, ?it/s]"
      ]
     },
     "metadata": {},
     "output_type": "display_data"
    },
    {
     "data": {
      "application/vnd.jupyter.widget-view+json": {
       "model_id": "",
       "version_major": 2,
       "version_minor": 0
      },
      "text/plain": [
       "03_Harbour_Energy_PLC:   0%|          | 0/2 [00:00<?, ?it/s]"
      ]
     },
     "metadata": {},
     "output_type": "display_data"
    },
    {
     "data": {
      "application/vnd.jupyter.widget-view+json": {
       "model_id": "",
       "version_major": 2,
       "version_minor": 0
      },
      "text/plain": [
       "04_energeans:   0%|          | 0/6 [00:00<?, ?it/s]"
      ]
     },
     "metadata": {},
     "output_type": "display_data"
    },
    {
     "data": {
      "application/vnd.jupyter.widget-view+json": {
       "model_id": "",
       "version_major": 2,
       "version_minor": 0
      },
      "text/plain": [
       "05_ITHACA_ENERGY_PLC:   0%|          | 0/2 [00:00<?, ?it/s]"
      ]
     },
     "metadata": {},
     "output_type": "display_data"
    },
    {
     "data": {
      "application/vnd.jupyter.widget-view+json": {
       "model_id": "",
       "version_major": 2,
       "version_minor": 0
      },
      "text/plain": [
       "06_LSE_WG:   0%|          | 0/5 [00:00<?, ?it/s]"
      ]
     },
     "metadata": {},
     "output_type": "display_data"
    },
    {
     "data": {
      "application/vnd.jupyter.widget-view+json": {
       "model_id": "",
       "version_major": 2,
       "version_minor": 0
      },
      "text/plain": [
       "07_SERICA_ENERGY_PLC:   0%|          | 0/5 [00:00<?, ?it/s]"
      ]
     },
     "metadata": {},
     "output_type": "display_data"
    },
    {
     "data": {
      "application/vnd.jupyter.widget-view+json": {
       "model_id": "",
       "version_major": 2,
       "version_minor": 0
      },
      "text/plain": [
       "08_ASHTEAD_TECHNOLOGY_HOLDINGS_PLC:   0%|          | 0/3 [00:00<?, ?it/s]"
      ]
     },
     "metadata": {},
     "output_type": "display_data"
    },
    {
     "data": {
      "application/vnd.jupyter.widget-view+json": {
       "model_id": "",
       "version_major": 2,
       "version_minor": 0
      },
      "text/plain": [
       "10_DIVERSIFIED_ENERGY_COMPANY_PLC:   0%|          | 0/5 [00:00<?, ?it/s]"
      ]
     },
     "metadata": {},
     "output_type": "display_data"
    }
   ],
   "source": [
    "for i, ec_folder in enumerate(tqdm(ec_folders)):\n",
    "    files=os.listdir(e_folder+ec_folder)\n",
    "    files.sort()\n",
    "    for file in tqdm(files, desc=ec_folder, leave=False):\n",
    "        year=file[:4]\n",
    "        #print(year)\n",
    "        energy_texts[year][ec_folder]=file2text(e_folder+ec_folder+'/'+file)\n",
    "    "
   ]
  },
  {
   "cell_type": "code",
   "execution_count": 11,
   "id": "9c21223d",
   "metadata": {
    "ExecuteTime": {
     "end_time": "2024-06-21T14:11:01.188885Z",
     "start_time": "2024-06-21T14:11:01.062944Z"
    }
   },
   "outputs": [
    {
     "data": {
      "image/png": "[encoded data removed]",
      "text/plain": [
       "<Figure size 640x480 with 1 Axes>"
      ]
     },
     "metadata": {},
     "output_type": "display_data"
    }
   ],
   "source": [
    "plt.plot(range(2015, 2024), [len(energy_texts[year].keys()) for year in energy_texts.keys()], marker='o')\n",
    "plt.ylabel('Number of reports', fontsize=14)\n",
    "plt.suptitle('Energy', fontsize=18)\n",
    "plt.show()"
   ]
  },
  {
   "cell_type": "markdown",
   "id": "103809ca",
   "metadata": {},
   "source": [
    "## Binary analysis"
   ]
  },
  {
   "cell_type": "code",
   "execution_count": 12,
   "id": "f8c14ba4",
   "metadata": {
    "ExecuteTime": {
     "end_time": "2024-06-21T14:11:01.238886Z",
     "start_time": "2024-06-21T14:11:01.190275Z"
    }
   },
   "outputs": [
    {
     "data": {
      "application/vnd.jupyter.widget-view+json": {
       "model_id": "6cbd255f6be0462e95e3d313c6038313",
       "version_major": 2,
       "version_minor": 0
      },
      "text/plain": [
       "  0%|          | 0/9 [00:00<?, ?it/s]"
      ]
     },
     "metadata": {},
     "output_type": "display_data"
    },
    {
     "data": {
      "application/vnd.jupyter.widget-view+json": {
       "model_id": "",
       "version_major": 2,
       "version_minor": 0
      },
      "text/plain": [
       "  0%|          | 0/2 [00:00<?, ?it/s]"
      ]
     },
     "metadata": {},
     "output_type": "display_data"
    },
    {
     "data": {
      "application/vnd.jupyter.widget-view+json": {
       "model_id": "",
       "version_major": 2,
       "version_minor": 0
      },
      "text/plain": [
       "  0%|          | 0/2 [00:00<?, ?it/s]"
      ]
     },
     "metadata": {},
     "output_type": "display_data"
    },
    {
     "data": {
      "application/vnd.jupyter.widget-view+json": {
       "model_id": "",
       "version_major": 2,
       "version_minor": 0
      },
      "text/plain": [
       "  0%|          | 0/2 [00:00<?, ?it/s]"
      ]
     },
     "metadata": {},
     "output_type": "display_data"
    },
    {
     "data": {
      "application/vnd.jupyter.widget-view+json": {
       "model_id": "",
       "version_major": 2,
       "version_minor": 0
      },
      "text/plain": [
       "  0%|          | 0/3 [00:00<?, ?it/s]"
      ]
     },
     "metadata": {},
     "output_type": "display_data"
    },
    {
     "data": {
      "application/vnd.jupyter.widget-view+json": {
       "model_id": "",
       "version_major": 2,
       "version_minor": 0
      },
      "text/plain": [
       "  0%|          | 0/6 [00:00<?, ?it/s]"
      ]
     },
     "metadata": {},
     "output_type": "display_data"
    },
    {
     "data": {
      "application/vnd.jupyter.widget-view+json": {
       "model_id": "",
       "version_major": 2,
       "version_minor": 0
      },
      "text/plain": [
       "  0%|          | 0/6 [00:00<?, ?it/s]"
      ]
     },
     "metadata": {},
     "output_type": "display_data"
    },
    {
     "data": {
      "application/vnd.jupyter.widget-view+json": {
       "model_id": "",
       "version_major": 2,
       "version_minor": 0
      },
      "text/plain": [
       "  0%|          | 0/8 [00:00<?, ?it/s]"
      ]
     },
     "metadata": {},
     "output_type": "display_data"
    },
    {
     "data": {
      "application/vnd.jupyter.widget-view+json": {
       "model_id": "",
       "version_major": 2,
       "version_minor": 0
      },
      "text/plain": [
       "  0%|          | 0/9 [00:00<?, ?it/s]"
      ]
     },
     "metadata": {},
     "output_type": "display_data"
    },
    {
     "data": {
      "application/vnd.jupyter.widget-view+json": {
       "model_id": "",
       "version_major": 2,
       "version_minor": 0
      },
      "text/plain": [
       "  0%|          | 0/8 [00:00<?, ?it/s]"
      ]
     },
     "metadata": {},
     "output_type": "display_data"
    }
   ],
   "source": [
    "energy_bi={}\n",
    "for key in tqdm(energy_texts.keys()):\n",
    "    s_keys=list(energy_texts[key].keys())\n",
    "    n_docs=len(s_keys)\n",
    "    aux=np.zeros((n_docs, L_SDGS), dtype=int)\n",
    "    for i, s_key in enumerate(tqdm(s_keys, leave=False)):\n",
    "        aux[i]=text2vec(energy_texts[key][s_key])\n",
    "    energy_bi[key]=aux\n",
    "    "
   ]
  },
  {
   "cell_type": "code",
   "execution_count": 13,
   "id": "87dffd1c",
   "metadata": {
    "ExecuteTime": {
     "end_time": "2024-06-21T14:11:01.243508Z",
     "start_time": "2024-06-21T14:11:01.240134Z"
    }
   },
   "outputs": [
    {
     "data": {
      "text/plain": [
       "[15, 16, 16, 16, 17, 17, 17, 17, 17]"
      ]
     },
     "execution_count": 13,
     "metadata": {},
     "output_type": "execute_result"
    }
   ],
   "source": [
    "[np.sum(np.sum(energy_bi[key], axis=0)>0) for key in energy_bi.keys()]"
   ]
  },
  {
   "cell_type": "markdown",
   "id": "da61bcec",
   "metadata": {},
   "source": [
    "Not all SDGs are covered at least one time in each report."
   ]
  },
  {
   "cell_type": "code",
   "execution_count": 21,
   "id": "4db7b01f",
   "metadata": {
    "ExecuteTime": {
     "end_time": "2024-06-21T14:12:35.581506Z",
     "start_time": "2024-06-21T14:12:35.337645Z"
    }
   },
   "outputs": [
    {
     "data": {
      "image/png": "[encoded data removed]",
      "text/plain": [
       "<Figure size 1000x400 with 2 Axes>"
      ]
     },
     "metadata": {},
     "output_type": "display_data"
    }
   ],
   "source": [
    "fig, axs=plt.subplots(nrows=1, ncols=2, figsize=(10,4))\n",
    "axs[0].plot(range(2015, 2024), [np.sum(np.sum(energy_bi[key], axis=0)>0) for key in energy_bi.keys()], marker='o')\n",
    "axs[0].set_ylabel('Number of SDGs\\nmentioned at least in one report', fontsize=14)\n",
    "axs[0].set_yticks(np.arange(15, 18, dtype=int))\n",
    "\n",
    "\n",
    "axs[1].plot(range(2015, 2024), [np.sum(np.sum(energy_bi[key], axis=0)==energy_bi[key].shape[0]) for key in energy_bi.keys()], marker='o')\n",
    "axs[1].set_ylabel('Number of SDGs\\nmentioned in all reports', fontsize=14, rotation=270, labelpad=35)\n",
    "axs[1].set_yticks(np.arange(8, 13, dtype=int))\n",
    "axs[1].yaxis.tick_right()\n",
    "axs[1].yaxis.set_label_position(\"right\")\n",
    "\n",
    "plt.suptitle('Energy', fontsize=18)\n",
    "plt.show()"
   ]
  },
  {
   "cell_type": "markdown",
   "id": "3feed459",
   "metadata": {},
   "source": [
    "# Utilities"
   ]
  },
  {
   "cell_type": "markdown",
   "id": "83174e95",
   "metadata": {},
   "source": [
    "## Folders"
   ]
  },
  {
   "cell_type": "code",
   "execution_count": 22,
   "id": "61be32cc",
   "metadata": {
    "ExecuteTime": {
     "end_time": "2024-06-21T14:12:48.951784Z",
     "start_time": "2024-06-21T14:12:48.947944Z"
    }
   },
   "outputs": [],
   "source": [
    "main_folder='./chatgpt_summaries/'"
   ]
  },
  {
   "cell_type": "code",
   "execution_count": 23,
   "id": "c5b8f2c4",
   "metadata": {
    "ExecuteTime": {
     "end_time": "2024-06-21T14:12:49.292678Z",
     "start_time": "2024-06-21T14:12:49.286434Z"
    }
   },
   "outputs": [],
   "source": [
    "u_folder=main_folder+'Utilities/'"
   ]
  },
  {
   "cell_type": "code",
   "execution_count": 24,
   "id": "cba952b8",
   "metadata": {
    "ExecuteTime": {
     "end_time": "2024-06-21T14:12:49.648707Z",
     "start_time": "2024-06-21T14:12:49.642890Z"
    }
   },
   "outputs": [],
   "source": [
    "uc_folders=os.listdir(u_folder)\n",
    "uc_folders.sort()"
   ]
  },
  {
   "cell_type": "code",
   "execution_count": 25,
   "id": "4f8d0110",
   "metadata": {
    "ExecuteTime": {
     "end_time": "2024-06-21T14:12:50.132532Z",
     "start_time": "2024-06-21T14:12:50.124891Z"
    }
   },
   "outputs": [
    {
     "data": {
      "text/plain": [
       "['01_NATIONAL_GRID_PLC',\n",
       " '02_SSE_PLC',\n",
       " '03_SEVERN_TRENT_PLC',\n",
       " '04_UNITED_UTILITIES_GROUP_PLC',\n",
       " '05_CENTRICA_PLC',\n",
       " '06_DRAX_GROUP_PLC',\n",
       " '07_PENNON_GROUP_PLC',\n",
       " '08_RENEWI_PLC',\n",
       " '10_GOOD_ENERGY_GROUP_PLC']"
      ]
     },
     "execution_count": 25,
     "metadata": {},
     "output_type": "execute_result"
    }
   ],
   "source": [
    "uc_folders"
   ]
  },
  {
   "cell_type": "markdown",
   "id": "f44501c3",
   "metadata": {},
   "source": [
    "## Basics"
   ]
  },
  {
   "cell_type": "code",
   "execution_count": 26,
   "id": "e4be842d",
   "metadata": {
    "ExecuteTime": {
     "end_time": "2024-06-21T14:13:19.208115Z",
     "start_time": "2024-06-21T14:13:19.203347Z"
    }
   },
   "outputs": [],
   "source": [
    "utilitites_texts={}\n",
    "for y in range(2015, 2024):\n",
    "    utilitites_texts[str(y)]={}"
   ]
  },
  {
   "cell_type": "code",
   "execution_count": 27,
   "id": "6e908eed",
   "metadata": {
    "ExecuteTime": {
     "end_time": "2024-06-21T14:13:19.517164Z",
     "start_time": "2024-06-21T14:13:19.213292Z"
    }
   },
   "outputs": [
    {
     "data": {
      "application/vnd.jupyter.widget-view+json": {
       "model_id": "65754e756c9d4aa4bc4bc7dbd593eda5",
       "version_major": 2,
       "version_minor": 0
      },
      "text/plain": [
       "  0%|          | 0/9 [00:00<?, ?it/s]"
      ]
     },
     "metadata": {},
     "output_type": "display_data"
    },
    {
     "data": {
      "application/vnd.jupyter.widget-view+json": {
       "model_id": "",
       "version_major": 2,
       "version_minor": 0
      },
      "text/plain": [
       "01_NATIONAL_GRID_PLC:   0%|          | 0/4 [00:00<?, ?it/s]"
      ]
     },
     "metadata": {},
     "output_type": "display_data"
    },
    {
     "data": {
      "application/vnd.jupyter.widget-view+json": {
       "model_id": "",
       "version_major": 2,
       "version_minor": 0
      },
      "text/plain": [
       "02_SSE_PLC:   0%|          | 0/9 [00:00<?, ?it/s]"
      ]
     },
     "metadata": {},
     "output_type": "display_data"
    },
    {
     "data": {
      "application/vnd.jupyter.widget-view+json": {
       "model_id": "",
       "version_major": 2,
       "version_minor": 0
      },
      "text/plain": [
       "03_SEVERN_TRENT_PLC:   0%|          | 0/4 [00:00<?, ?it/s]"
      ]
     },
     "metadata": {},
     "output_type": "display_data"
    },
    {
     "data": {
      "application/vnd.jupyter.widget-view+json": {
       "model_id": "",
       "version_major": 2,
       "version_minor": 0
      },
      "text/plain": [
       "04_UNITED_UTILITIES_GROUP_PLC:   0%|          | 0/1 [00:00<?, ?it/s]"
      ]
     },
     "metadata": {},
     "output_type": "display_data"
    },
    {
     "data": {
      "application/vnd.jupyter.widget-view+json": {
       "model_id": "",
       "version_major": 2,
       "version_minor": 0
      },
      "text/plain": [
       "05_CENTRICA_PLC:   0%|          | 0/6 [00:00<?, ?it/s]"
      ]
     },
     "metadata": {},
     "output_type": "display_data"
    },
    {
     "data": {
      "application/vnd.jupyter.widget-view+json": {
       "model_id": "",
       "version_major": 2,
       "version_minor": 0
      },
      "text/plain": [
       "06_DRAX_GROUP_PLC:   0%|          | 0/1 [00:00<?, ?it/s]"
      ]
     },
     "metadata": {},
     "output_type": "display_data"
    },
    {
     "data": {
      "application/vnd.jupyter.widget-view+json": {
       "model_id": "",
       "version_major": 2,
       "version_minor": 0
      },
      "text/plain": [
       "07_PENNON_GROUP_PLC:   0%|          | 0/3 [00:00<?, ?it/s]"
      ]
     },
     "metadata": {},
     "output_type": "display_data"
    },
    {
     "data": {
      "application/vnd.jupyter.widget-view+json": {
       "model_id": "",
       "version_major": 2,
       "version_minor": 0
      },
      "text/plain": [
       "08_RENEWI_PLC:   0%|          | 0/7 [00:00<?, ?it/s]"
      ]
     },
     "metadata": {},
     "output_type": "display_data"
    },
    {
     "data": {
      "application/vnd.jupyter.widget-view+json": {
       "model_id": "",
       "version_major": 2,
       "version_minor": 0
      },
      "text/plain": [
       "10_GOOD_ENERGY_GROUP_PLC:   0%|          | 0/5 [00:00<?, ?it/s]"
      ]
     },
     "metadata": {},
     "output_type": "display_data"
    }
   ],
   "source": [
    "for i, uc_folder in enumerate(tqdm(uc_folders)):\n",
    "    files=os.listdir(u_folder+uc_folder)\n",
    "    files.sort()\n",
    "    for file in tqdm(files, desc=uc_folder, leave=False):\n",
    "        year=file[:4]\n",
    "        #print(year)\n",
    "        utilitites_texts[year][uc_folder]=file2text(u_folder+uc_folder+'/'+file)\n",
    "    "
   ]
  },
  {
   "cell_type": "code",
   "execution_count": 41,
   "id": "f9930a2d",
   "metadata": {
    "ExecuteTime": {
     "end_time": "2024-06-21T14:16:02.709644Z",
     "start_time": "2024-06-21T14:16:02.566269Z"
    }
   },
   "outputs": [
    {
     "data": {
      "image/png": "[encoded data removed]",
      "text/plain": [
       "<Figure size 640x480 with 1 Axes>"
      ]
     },
     "metadata": {},
     "output_type": "display_data"
    }
   ],
   "source": [
    "plt.plot(range(2015, 2024), [len(utilitites_texts[year].keys()) for year in utilitites_texts.keys()], marker='o', c='navy', label='Utilities', linestyle='--')\n",
    "plt.plot(range(2015, 2024), [len(energy_texts[year].keys()) for year in energy_texts.keys()], marker='o', c='darkmagenta', label='Energy', linestyle='-')\n",
    "plt.ylabel('Number of reports', fontsize=14)\n",
    "plt.legend(fontsize=12)\n",
    "plt.show()"
   ]
  },
  {
   "cell_type": "markdown",
   "id": "dd05ea2b",
   "metadata": {},
   "source": [
    "## Binary analysis"
   ]
  },
  {
   "cell_type": "code",
   "execution_count": 29,
   "id": "33862d6d",
   "metadata": {
    "ExecuteTime": {
     "end_time": "2024-06-21T14:13:19.671350Z",
     "start_time": "2024-06-21T14:13:19.610492Z"
    }
   },
   "outputs": [
    {
     "data": {
      "application/vnd.jupyter.widget-view+json": {
       "model_id": "6e575ebf87494c1684f5969f43665cad",
       "version_major": 2,
       "version_minor": 0
      },
      "text/plain": [
       "  0%|          | 0/9 [00:00<?, ?it/s]"
      ]
     },
     "metadata": {},
     "output_type": "display_data"
    },
    {
     "data": {
      "application/vnd.jupyter.widget-view+json": {
       "model_id": "",
       "version_major": 2,
       "version_minor": 0
      },
      "text/plain": [
       "  0%|          | 0/1 [00:00<?, ?it/s]"
      ]
     },
     "metadata": {},
     "output_type": "display_data"
    },
    {
     "data": {
      "application/vnd.jupyter.widget-view+json": {
       "model_id": "",
       "version_major": 2,
       "version_minor": 0
      },
      "text/plain": [
       "  0%|          | 0/2 [00:00<?, ?it/s]"
      ]
     },
     "metadata": {},
     "output_type": "display_data"
    },
    {
     "data": {
      "application/vnd.jupyter.widget-view+json": {
       "model_id": "",
       "version_major": 2,
       "version_minor": 0
      },
      "text/plain": [
       "  0%|          | 0/3 [00:00<?, ?it/s]"
      ]
     },
     "metadata": {},
     "output_type": "display_data"
    },
    {
     "data": {
      "application/vnd.jupyter.widget-view+json": {
       "model_id": "",
       "version_major": 2,
       "version_minor": 0
      },
      "text/plain": [
       "  0%|          | 0/4 [00:00<?, ?it/s]"
      ]
     },
     "metadata": {},
     "output_type": "display_data"
    },
    {
     "data": {
      "application/vnd.jupyter.widget-view+json": {
       "model_id": "",
       "version_major": 2,
       "version_minor": 0
      },
      "text/plain": [
       "  0%|          | 0/4 [00:00<?, ?it/s]"
      ]
     },
     "metadata": {},
     "output_type": "display_data"
    },
    {
     "data": {
      "application/vnd.jupyter.widget-view+json": {
       "model_id": "",
       "version_major": 2,
       "version_minor": 0
      },
      "text/plain": [
       "  0%|          | 0/6 [00:00<?, ?it/s]"
      ]
     },
     "metadata": {},
     "output_type": "display_data"
    },
    {
     "data": {
      "application/vnd.jupyter.widget-view+json": {
       "model_id": "",
       "version_major": 2,
       "version_minor": 0
      },
      "text/plain": [
       "  0%|          | 0/6 [00:00<?, ?it/s]"
      ]
     },
     "metadata": {},
     "output_type": "display_data"
    },
    {
     "data": {
      "application/vnd.jupyter.widget-view+json": {
       "model_id": "",
       "version_major": 2,
       "version_minor": 0
      },
      "text/plain": [
       "  0%|          | 0/6 [00:00<?, ?it/s]"
      ]
     },
     "metadata": {},
     "output_type": "display_data"
    },
    {
     "data": {
      "application/vnd.jupyter.widget-view+json": {
       "model_id": "",
       "version_major": 2,
       "version_minor": 0
      },
      "text/plain": [
       "  0%|          | 0/8 [00:00<?, ?it/s]"
      ]
     },
     "metadata": {},
     "output_type": "display_data"
    }
   ],
   "source": [
    "utilitites_bi={}\n",
    "for key in tqdm(utilitites_texts.keys()):\n",
    "    s_keys=list(utilitites_texts[key].keys())\n",
    "    n_docs=len(s_keys)\n",
    "    aux=np.zeros((n_docs, L_SDGS), dtype=int)\n",
    "    for i, s_key in enumerate(tqdm(s_keys, leave=False)):\n",
    "        aux[i]=text2vec(utilitites_texts[key][s_key])\n",
    "    utilitites_bi[key]=aux\n",
    "    "
   ]
  },
  {
   "cell_type": "code",
   "execution_count": 30,
   "id": "bf8551f1",
   "metadata": {
    "ExecuteTime": {
     "end_time": "2024-06-21T14:13:19.676459Z",
     "start_time": "2024-06-21T14:13:19.672539Z"
    }
   },
   "outputs": [
    {
     "data": {
      "text/plain": [
       "[15, 15, 15, 16, 16, 15, 16, 16, 17]"
      ]
     },
     "execution_count": 30,
     "metadata": {},
     "output_type": "execute_result"
    }
   ],
   "source": [
    "[np.sum(np.sum(utilitites_bi[key], axis=0)>0) for key in utilitites_bi.keys()]"
   ]
  },
  {
   "cell_type": "markdown",
   "id": "252230ac",
   "metadata": {},
   "source": [
    "Not all SDGs are covered at least one time in each report."
   ]
  },
  {
   "cell_type": "code",
   "execution_count": 47,
   "id": "ec5f6546",
   "metadata": {
    "ExecuteTime": {
     "end_time": "2024-06-21T14:20:06.825204Z",
     "start_time": "2024-06-21T14:20:06.639665Z"
    }
   },
   "outputs": [
    {
     "data": {
      "image/png": "[encoded data removed]",
      "text/plain": [
       "<Figure size 1000x400 with 2 Axes>"
      ]
     },
     "metadata": {},
     "output_type": "display_data"
    }
   ],
   "source": [
    "fig, axs=plt.subplots(nrows=1, ncols=2, figsize=(10,4))\n",
    "axs[0].plot(range(2015, 2024), [np.sum(np.sum(utilitites_bi[key], axis=0)>0) for key in utilitites_bi.keys()], marker='o', c='navy', label='Utilities', linestyle='--')\n",
    "axs[0].plot(range(2015, 2024), [np.sum(np.sum(energy_bi[key], axis=0)>0) for key in energy_bi.keys()], marker='o', c='darkmagenta', label='Energy', linestyle='-')\n",
    "axs[0].set_ylabel('Number of SDGs\\nmentioned at least in one report', fontsize=14)\n",
    "axs[0].set_yticks(np.arange(15, 18, dtype=int))\n",
    "\n",
    "axs[1].plot(range(2015, 2024), [np.sum(np.sum(utilitites_bi[key], axis=0)==utilitites_bi[key].shape[0]) for key in utilitites_bi.keys()], marker='o', c='navy', label='Utilities', linestyle='--')\n",
    "axs[1].plot(range(2015, 2024), [np.sum(np.sum(energy_bi[key], axis=0)==energy_bi[key].shape[0]) for key in energy_bi.keys()], marker='o', c='darkmagenta', label='Energy', linestyle='-')\n",
    "axs[1].set_ylabel('Number of SDGs\\nmentioned in all reports', fontsize=14, rotation=270, labelpad=35)\n",
    "axs[1].set_yticks(np.arange(0, 18, 5, dtype=int))\n",
    "axs[1].yaxis.tick_right()\n",
    "axs[1].yaxis.set_label_position(\"right\")\n",
    "\n",
    "plt.legend(fontsize=12)\n",
    "plt.show()"
   ]
  },
  {
   "cell_type": "markdown",
   "id": "066c0c16",
   "metadata": {},
   "source": [
    "# Save me"
   ]
  },
  {
   "cell_type": "code",
   "execution_count": 48,
   "id": "da1ae906",
   "metadata": {
    "ExecuteTime": {
     "end_time": "2024-06-21T14:29:45.028701Z",
     "start_time": "2024-06-21T14:29:45.016672Z"
    }
   },
   "outputs": [],
   "source": [
    "text_dict={'Energy': energy_texts, 'Utilities': utilitites_texts}\n",
    "with open ('./data/energy_utilities_texts.pickle', 'wb') as f:\n",
    "    pickle.dump(text_dict, f)"
   ]
  },
  {
   "cell_type": "code",
   "execution_count": 49,
   "id": "b59bbdbb",
   "metadata": {
    "ExecuteTime": {
     "end_time": "2024-06-21T14:30:40.484407Z",
     "start_time": "2024-06-21T14:30:40.479323Z"
    }
   },
   "outputs": [],
   "source": [
    "binary_dict={'Energy': energy_bi, 'Utilities': utilitites_bi}\n",
    "with open ('./data/energy_utilities_binary.pickle', 'wb') as f:\n",
    "    pickle.dump(binary_dict, f)"
   ]
  },
  {
   "cell_type": "markdown",
   "id": "bf3fdde9",
   "metadata": {},
   "source": [
    "# Where to go next?"
   ]
  },
  {
   "cell_type": "markdown",
   "id": "b0ab7979",
   "metadata": {},
   "source": [
    "I fear that the statistical validation is not that relevant, due to the limited dimension of the matrices: at most we have a 8x17 matrix. May it be interesting to validate the bipartite matrix of all years altogether? Even in this case, the matrices will be quite small. For the moment let us leave those (ugly) plots here."
   ]
  },
  {
   "cell_type": "code",
   "execution_count": null,
   "id": "514c4044",
   "metadata": {},
   "outputs": [],
   "source": []
  }
 ],
 "metadata": {
  "kernelspec": {
   "display_name": "Python 3 (ipykernel)",
   "language": "python",
   "name": "python3"
  },
  "language_info": {
   "codemirror_mode": {
    "name": "ipython",
    "version": 3
   },
   "file_extension": ".py",
   "mimetype": "text/x-python",
   "name": "python",
   "nbconvert_exporter": "python",
   "pygments_lexer": "ipython3",
   "version": "3.8.19"
  },
  "notify_time": "5",
  "toc": {
   "base_numbering": 1,
   "nav_menu": {},
   "number_sections": true,
   "sideBar": true,
   "skip_h1_title": false,
   "title_cell": "Table of Contents",
   "title_sidebar": "Contents",
   "toc_cell": false,
   "toc_position": {
    "height": "calc(100% - 180px)",
    "left": "10px",
    "top": "150px",
    "width": "288px"
   },
   "toc_section_display": true,
   "toc_window_display": true
  }
 },
 "nbformat": 4,
 "nbformat_minor": 5
}
