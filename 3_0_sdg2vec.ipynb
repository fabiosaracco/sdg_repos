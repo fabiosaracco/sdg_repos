{
 "cells": [
  {
   "cell_type": "markdown",
   "id": "9d432d35",
   "metadata": {},
   "source": [
    "# Intro"
   ]
  },
  {
   "cell_type": "markdown",
   "id": "c4c1d074",
   "metadata": {},
   "source": [
    "## Load"
   ]
  },
  {
   "cell_type": "markdown",
   "id": "b5b66093",
   "metadata": {},
   "source": [
    "### Standards"
   ]
  },
  {
   "cell_type": "code",
   "execution_count": 1,
   "id": "3493d467",
   "metadata": {
    "ExecuteTime": {
     "end_time": "2024-06-24T14:49:14.762073Z",
     "start_time": "2024-06-24T14:49:14.500104Z"
    }
   },
   "outputs": [],
   "source": [
    "import os, sys, pickle\n",
    "import numpy as np\n",
    "from tqdm.notebook import trange, tqdm\n",
    "import re"
   ]
  },
  {
   "cell_type": "code",
   "execution_count": 2,
   "id": "34ed315e",
   "metadata": {
    "ExecuteTime": {
     "end_time": "2024-06-24T14:49:15.449612Z",
     "start_time": "2024-06-24T14:49:14.769455Z"
    }
   },
   "outputs": [],
   "source": [
    "import matplotlib.pyplot as plt\n",
    "plt.rcParams['axes.linewidth'] = 2\n",
    "plt.rcParams['xtick.major.size'] = 10\n",
    "plt.rcParams['xtick.major.width'] = 2\n",
    "plt.rcParams['ytick.major.size'] = 10\n",
    "plt.rcParams['ytick.major.width'] = 2\n",
    "\n",
    "plt.rcParams['xtick.labelsize'] = 14\n",
    "plt.rcParams['ytick.labelsize'] = 14\n",
    "\n",
    "plt.rcParams['xtick.minor.size'] = 5\n",
    "plt.rcParams['xtick.minor.width'] = 1\n",
    "plt.rcParams['ytick.minor.size'] = 5\n",
    "plt.rcParams['ytick.minor.width'] = 1\n"
   ]
  },
  {
   "cell_type": "markdown",
   "id": "2a1e0ebd",
   "metadata": {},
   "source": [
    "### Homemade modules"
   ]
  },
  {
   "cell_type": "code",
   "execution_count": 3,
   "id": "62a0d5b5",
   "metadata": {
    "ExecuteTime": {
     "end_time": "2024-06-24T14:49:19.365975Z",
     "start_time": "2024-06-24T14:49:15.453372Z"
    }
   },
   "outputs": [],
   "source": [
    "from tesste import tesste\n",
    "from ppp import ppp\n",
    "from readers_and_converters import file2text, text2dict, text2vec"
   ]
  },
  {
   "cell_type": "markdown",
   "id": "0f0404f7",
   "metadata": {},
   "source": [
    "## Stoopid infos"
   ]
  },
  {
   "cell_type": "code",
   "execution_count": 4,
   "id": "e20f9478",
   "metadata": {
    "ExecuteTime": {
     "end_time": "2024-06-24T14:49:19.376316Z",
     "start_time": "2024-06-24T14:49:19.370835Z"
    }
   },
   "outputs": [],
   "source": [
    "L_SDGS=17"
   ]
  },
  {
   "cell_type": "markdown",
   "id": "09775d14",
   "metadata": {},
   "source": [
    "# Energy"
   ]
  },
  {
   "cell_type": "markdown",
   "id": "0f9dac8a",
   "metadata": {},
   "source": [
    "## Folders"
   ]
  },
  {
   "cell_type": "code",
   "execution_count": 5,
   "id": "742b407d",
   "metadata": {
    "ExecuteTime": {
     "end_time": "2024-06-24T14:49:21.504259Z",
     "start_time": "2024-06-24T14:49:21.498706Z"
    }
   },
   "outputs": [],
   "source": [
    "main_folder='./chatgpt_summaries/'"
   ]
  },
  {
   "cell_type": "code",
   "execution_count": 6,
   "id": "d142fd83",
   "metadata": {
    "ExecuteTime": {
     "end_time": "2024-06-24T14:49:21.845466Z",
     "start_time": "2024-06-24T14:49:21.840208Z"
    }
   },
   "outputs": [],
   "source": [
    "e_folder=main_folder+'Energy/'"
   ]
  },
  {
   "cell_type": "code",
   "execution_count": 7,
   "id": "35dfb010",
   "metadata": {
    "ExecuteTime": {
     "end_time": "2024-06-24T14:49:22.221881Z",
     "start_time": "2024-06-24T14:49:22.216048Z"
    }
   },
   "outputs": [],
   "source": [
    "ec_folders=os.listdir(e_folder)\n",
    "ec_folders.sort()"
   ]
  },
  {
   "cell_type": "code",
   "execution_count": 8,
   "id": "b7041e57",
   "metadata": {
    "ExecuteTime": {
     "end_time": "2024-06-24T14:49:22.780822Z",
     "start_time": "2024-06-24T14:49:22.764327Z"
    }
   },
   "outputs": [
    {
     "data": {
      "text/plain": [
       "['01_shell',\n",
       " '02_BP',\n",
       " '03_Harbour_Energy_PLC',\n",
       " '04_energeans',\n",
       " '05_ITHACA_ENERGY_PLC',\n",
       " '06_LSE_WG',\n",
       " '07_SERICA_ENERGY_PLC',\n",
       " '08_ASHTEAD_TECHNOLOGY_HOLDINGS_PLC',\n",
       " '10_DIVERSIFIED_ENERGY_COMPANY_PLC']"
      ]
     },
     "execution_count": 8,
     "metadata": {},
     "output_type": "execute_result"
    }
   ],
   "source": [
    "ec_folders"
   ]
  },
  {
   "cell_type": "markdown",
   "id": "b8c232d1",
   "metadata": {},
   "source": [
    "## Basics"
   ]
  },
  {
   "cell_type": "code",
   "execution_count": 9,
   "id": "121ec735",
   "metadata": {
    "ExecuteTime": {
     "end_time": "2024-06-21T15:20:49.291486Z",
     "start_time": "2024-06-21T15:20:49.210238Z"
    }
   },
   "outputs": [],
   "source": [
    "energy_texts={}\n",
    "for y in range(2015, 2024):\n",
    "    energy_texts[str(y)]={}"
   ]
  },
  {
   "cell_type": "code",
   "execution_count": 10,
   "id": "3167e7e8",
   "metadata": {
    "ExecuteTime": {
     "end_time": "2024-06-21T15:20:50.505460Z",
     "start_time": "2024-06-21T15:20:49.294327Z"
    }
   },
   "outputs": [
    {
     "data": {
      "application/vnd.jupyter.widget-view+json": {
       "model_id": "b239d420d6014651b5d746c8bf2dbfa1",
       "version_major": 2,
       "version_minor": 0
      },
      "text/plain": [
       "  0%|          | 0/9 [00:00<?, ?it/s]"
      ]
     },
     "metadata": {},
     "output_type": "display_data"
    },
    {
     "data": {
      "application/vnd.jupyter.widget-view+json": {
       "model_id": "",
       "version_major": 2,
       "version_minor": 0
      },
      "text/plain": [
       "01_shell:   0%|          | 0/9 [00:00<?, ?it/s]"
      ]
     },
     "metadata": {},
     "output_type": "display_data"
    },
    {
     "data": {
      "application/vnd.jupyter.widget-view+json": {
       "model_id": "",
       "version_major": 2,
       "version_minor": 0
      },
      "text/plain": [
       "02_BP:   0%|          | 0/9 [00:00<?, ?it/s]"
      ]
     },
     "metadata": {},
     "output_type": "display_data"
    },
    {
     "data": {
      "application/vnd.jupyter.widget-view+json": {
       "model_id": "",
       "version_major": 2,
       "version_minor": 0
      },
      "text/plain": [
       "03_Harbour_Energy_PLC:   0%|          | 0/2 [00:00<?, ?it/s]"
      ]
     },
     "metadata": {},
     "output_type": "display_data"
    },
    {
     "data": {
      "application/vnd.jupyter.widget-view+json": {
       "model_id": "",
       "version_major": 2,
       "version_minor": 0
      },
      "text/plain": [
       "04_energeans:   0%|          | 0/6 [00:00<?, ?it/s]"
      ]
     },
     "metadata": {},
     "output_type": "display_data"
    },
    {
     "data": {
      "application/vnd.jupyter.widget-view+json": {
       "model_id": "",
       "version_major": 2,
       "version_minor": 0
      },
      "text/plain": [
       "05_ITHACA_ENERGY_PLC:   0%|          | 0/2 [00:00<?, ?it/s]"
      ]
     },
     "metadata": {},
     "output_type": "display_data"
    },
    {
     "data": {
      "application/vnd.jupyter.widget-view+json": {
       "model_id": "",
       "version_major": 2,
       "version_minor": 0
      },
      "text/plain": [
       "06_LSE_WG:   0%|          | 0/5 [00:00<?, ?it/s]"
      ]
     },
     "metadata": {},
     "output_type": "display_data"
    },
    {
     "data": {
      "application/vnd.jupyter.widget-view+json": {
       "model_id": "",
       "version_major": 2,
       "version_minor": 0
      },
      "text/plain": [
       "07_SERICA_ENERGY_PLC:   0%|          | 0/5 [00:00<?, ?it/s]"
      ]
     },
     "metadata": {},
     "output_type": "display_data"
    },
    {
     "data": {
      "application/vnd.jupyter.widget-view+json": {
       "model_id": "",
       "version_major": 2,
       "version_minor": 0
      },
      "text/plain": [
       "08_ASHTEAD_TECHNOLOGY_HOLDINGS_PLC:   0%|          | 0/3 [00:00<?, ?it/s]"
      ]
     },
     "metadata": {},
     "output_type": "display_data"
    },
    {
     "data": {
      "application/vnd.jupyter.widget-view+json": {
       "model_id": "",
       "version_major": 2,
       "version_minor": 0
      },
      "text/plain": [
       "10_DIVERSIFIED_ENERGY_COMPANY_PLC:   0%|          | 0/5 [00:00<?, ?it/s]"
      ]
     },
     "metadata": {},
     "output_type": "display_data"
    }
   ],
   "source": [
    "for i, ec_folder in enumerate(tqdm(ec_folders)):\n",
    "    files=os.listdir(e_folder+ec_folder)\n",
    "    files.sort()\n",
    "    for file in tqdm(files, desc=ec_folder, leave=False):\n",
    "        year=file[:4]\n",
    "        #print(year)\n",
    "        energy_texts[year][ec_folder]=file2text(e_folder+ec_folder+'/'+file)\n",
    "    "
   ]
  },
  {
   "cell_type": "markdown",
   "id": "347d3add",
   "metadata": {},
   "source": [
    "# Utilities"
   ]
  },
  {
   "cell_type": "markdown",
   "id": "c639018b",
   "metadata": {},
   "source": [
    "## Folders"
   ]
  },
  {
   "cell_type": "code",
   "execution_count": 15,
   "id": "9eabcb6c",
   "metadata": {
    "ExecuteTime": {
     "end_time": "2024-06-21T15:20:51.532239Z",
     "start_time": "2024-06-21T15:20:51.527666Z"
    }
   },
   "outputs": [],
   "source": [
    "main_folder='./chatgpt_summaries/'"
   ]
  },
  {
   "cell_type": "code",
   "execution_count": 16,
   "id": "afc8d222",
   "metadata": {
    "ExecuteTime": {
     "end_time": "2024-06-21T15:20:51.607933Z",
     "start_time": "2024-06-21T15:20:51.535542Z"
    }
   },
   "outputs": [],
   "source": [
    "u_folder=main_folder+'Utilities/'"
   ]
  },
  {
   "cell_type": "code",
   "execution_count": 17,
   "id": "112b7968",
   "metadata": {
    "ExecuteTime": {
     "end_time": "2024-06-21T15:20:51.691601Z",
     "start_time": "2024-06-21T15:20:51.611766Z"
    }
   },
   "outputs": [],
   "source": [
    "uc_folders=os.listdir(u_folder)\n",
    "uc_folders.sort()"
   ]
  },
  {
   "cell_type": "code",
   "execution_count": 18,
   "id": "149cf6d1",
   "metadata": {
    "ExecuteTime": {
     "end_time": "2024-06-21T15:20:52.179887Z",
     "start_time": "2024-06-21T15:20:52.172136Z"
    }
   },
   "outputs": [
    {
     "data": {
      "text/plain": [
       "['01_NATIONAL_GRID_PLC',\n",
       " '02_SSE_PLC',\n",
       " '03_SEVERN_TRENT_PLC',\n",
       " '04_UNITED_UTILITIES_GROUP_PLC',\n",
       " '05_CENTRICA_PLC',\n",
       " '06_DRAX_GROUP_PLC',\n",
       " '07_PENNON_GROUP_PLC',\n",
       " '08_RENEWI_PLC',\n",
       " '10_GOOD_ENERGY_GROUP_PLC']"
      ]
     },
     "execution_count": 18,
     "metadata": {},
     "output_type": "execute_result"
    }
   ],
   "source": [
    "uc_folders"
   ]
  },
  {
   "cell_type": "markdown",
   "id": "e5bf65f2",
   "metadata": {},
   "source": [
    "## Basics"
   ]
  },
  {
   "cell_type": "code",
   "execution_count": 19,
   "id": "291d873a",
   "metadata": {
    "ExecuteTime": {
     "end_time": "2024-06-21T15:20:52.904732Z",
     "start_time": "2024-06-21T15:20:52.898073Z"
    }
   },
   "outputs": [],
   "source": [
    "utilitites_texts={}\n",
    "for y in range(2015, 2024):\n",
    "    utilitites_texts[str(y)]={}"
   ]
  },
  {
   "cell_type": "code",
   "execution_count": 20,
   "id": "17151b07",
   "metadata": {
    "ExecuteTime": {
     "end_time": "2024-06-21T15:20:53.884615Z",
     "start_time": "2024-06-21T15:20:53.193349Z"
    }
   },
   "outputs": [
    {
     "data": {
      "application/vnd.jupyter.widget-view+json": {
       "model_id": "f3daf4b6cbe744e3917c8b2d02149259",
       "version_major": 2,
       "version_minor": 0
      },
      "text/plain": [
       "  0%|          | 0/9 [00:00<?, ?it/s]"
      ]
     },
     "metadata": {},
     "output_type": "display_data"
    },
    {
     "data": {
      "application/vnd.jupyter.widget-view+json": {
       "model_id": "",
       "version_major": 2,
       "version_minor": 0
      },
      "text/plain": [
       "01_NATIONAL_GRID_PLC:   0%|          | 0/4 [00:00<?, ?it/s]"
      ]
     },
     "metadata": {},
     "output_type": "display_data"
    },
    {
     "data": {
      "application/vnd.jupyter.widget-view+json": {
       "model_id": "",
       "version_major": 2,
       "version_minor": 0
      },
      "text/plain": [
       "02_SSE_PLC:   0%|          | 0/9 [00:00<?, ?it/s]"
      ]
     },
     "metadata": {},
     "output_type": "display_data"
    },
    {
     "data": {
      "application/vnd.jupyter.widget-view+json": {
       "model_id": "",
       "version_major": 2,
       "version_minor": 0
      },
      "text/plain": [
       "03_SEVERN_TRENT_PLC:   0%|          | 0/4 [00:00<?, ?it/s]"
      ]
     },
     "metadata": {},
     "output_type": "display_data"
    },
    {
     "data": {
      "application/vnd.jupyter.widget-view+json": {
       "model_id": "",
       "version_major": 2,
       "version_minor": 0
      },
      "text/plain": [
       "04_UNITED_UTILITIES_GROUP_PLC:   0%|          | 0/1 [00:00<?, ?it/s]"
      ]
     },
     "metadata": {},
     "output_type": "display_data"
    },
    {
     "data": {
      "application/vnd.jupyter.widget-view+json": {
       "model_id": "",
       "version_major": 2,
       "version_minor": 0
      },
      "text/plain": [
       "05_CENTRICA_PLC:   0%|          | 0/6 [00:00<?, ?it/s]"
      ]
     },
     "metadata": {},
     "output_type": "display_data"
    },
    {
     "data": {
      "application/vnd.jupyter.widget-view+json": {
       "model_id": "",
       "version_major": 2,
       "version_minor": 0
      },
      "text/plain": [
       "06_DRAX_GROUP_PLC:   0%|          | 0/1 [00:00<?, ?it/s]"
      ]
     },
     "metadata": {},
     "output_type": "display_data"
    },
    {
     "data": {
      "application/vnd.jupyter.widget-view+json": {
       "model_id": "",
       "version_major": 2,
       "version_minor": 0
      },
      "text/plain": [
       "07_PENNON_GROUP_PLC:   0%|          | 0/3 [00:00<?, ?it/s]"
      ]
     },
     "metadata": {},
     "output_type": "display_data"
    },
    {
     "data": {
      "application/vnd.jupyter.widget-view+json": {
       "model_id": "",
       "version_major": 2,
       "version_minor": 0
      },
      "text/plain": [
       "08_RENEWI_PLC:   0%|          | 0/7 [00:00<?, ?it/s]"
      ]
     },
     "metadata": {},
     "output_type": "display_data"
    },
    {
     "data": {
      "application/vnd.jupyter.widget-view+json": {
       "model_id": "",
       "version_major": 2,
       "version_minor": 0
      },
      "text/plain": [
       "10_GOOD_ENERGY_GROUP_PLC:   0%|          | 0/5 [00:00<?, ?it/s]"
      ]
     },
     "metadata": {},
     "output_type": "display_data"
    }
   ],
   "source": [
    "for i, uc_folder in enumerate(tqdm(uc_folders)):\n",
    "    files=os.listdir(u_folder+uc_folder)\n",
    "    files.sort()\n",
    "    for file in tqdm(files, desc=uc_folder, leave=False):\n",
    "        year=file[:4]\n",
    "        #print(year)\n",
    "        utilitites_texts[year][uc_folder]=file2text(u_folder+uc_folder+'/'+file)\n",
    "    "
   ]
  },
  {
   "cell_type": "markdown",
   "id": "eb40e6ce",
   "metadata": {},
   "source": [
    "# Save me!"
   ]
  },
  {
   "cell_type": "code",
   "execution_count": 25,
   "id": "869c7429",
   "metadata": {
    "ExecuteTime": {
     "end_time": "2024-06-21T15:20:56.788207Z",
     "start_time": "2024-06-21T15:20:56.778935Z"
    }
   },
   "outputs": [],
   "source": [
    "text_dict={'Energy': energy_texts, 'Utilities': utilitites_texts}\n",
    "with open ('./data/energy_utilities_texts.pickle', 'wb') as f:\n",
    "    pickle.dump(text_dict, f)"
   ]
  },
  {
   "cell_type": "markdown",
   "id": "60214f76",
   "metadata": {},
   "source": [
    "# Plot me!"
   ]
  },
  {
   "cell_type": "code",
   "execution_count": 10,
   "id": "77285e67",
   "metadata": {
    "ExecuteTime": {
     "end_time": "2024-06-24T14:55:29.655833Z",
     "start_time": "2024-06-24T14:55:29.648005Z"
    }
   },
   "outputs": [],
   "source": [
    "with open ('./data/energy_utilities_texts.pickle', 'rb') as f:\n",
    "    text_dict=pickle.load(f)"
   ]
  },
  {
   "cell_type": "code",
   "execution_count": 11,
   "id": "4a1c69f4",
   "metadata": {
    "ExecuteTime": {
     "end_time": "2024-06-24T14:55:32.725986Z",
     "start_time": "2024-06-24T14:55:32.720089Z"
    }
   },
   "outputs": [],
   "source": [
    "utilitites_texts=text_dict['Utilities']\n",
    "energy_texts=text_dict['Energy']"
   ]
  },
  {
   "cell_type": "code",
   "execution_count": 12,
   "id": "878a7b06",
   "metadata": {
    "ExecuteTime": {
     "end_time": "2024-06-24T14:55:34.109581Z",
     "start_time": "2024-06-24T14:55:33.728588Z"
    }
   },
   "outputs": [
    {
     "data": {
      "image/png": "[encoded data removed]",
      "text/plain": [
       "<Figure size 640x480 with 1 Axes>"
      ]
     },
     "metadata": {},
     "output_type": "display_data"
    }
   ],
   "source": [
    "plt.plot(range(2015, 2024), [len(utilitites_texts[year].keys()) for year in utilitites_texts.keys()], marker='o', c='navy', label='Utilities', linestyle='--')\n",
    "plt.plot(range(2015, 2024), [len(energy_texts[year].keys()) for year in energy_texts.keys()], marker='o', c='darkmagenta', label='Energy', linestyle='-')\n",
    "plt.ylabel('Number of reports', fontsize=14)\n",
    "plt.legend(fontsize=12)\n",
    "plt.show()"
   ]
  },
  {
   "cell_type": "markdown",
   "id": "30a0529a",
   "metadata": {},
   "source": [
    "## Dictionaries and binary results"
   ]
  },
  {
   "cell_type": "code",
   "execution_count": null,
   "id": "87f889cf",
   "metadata": {},
   "outputs": [],
   "source": [
    "sdgs_dict={}\n",
    "binary_dict={}\n",
    "for year in trange(2015, 2024):\n",
    "    s_year=str(year)\n",
    "    sdgs_dict[year]={}\n",
    "    binary_dict[year]={}\n",
    "    for field in ['Energy', 'Utilities']:\n",
    "        sdgs_dict[year][field]={}\n",
    "        firms=list(text_dict[field][s_year].keys())\n",
    "        binary_dict[year][field]=np.zeros((len(firms), L_SDGS), dtype=int)\n",
    "        for firm in enumerate(firms):\n",
    "            text=text_dict[field][s_year][firm]\n",
    "            _dict=text2dict(text)\n",
    "            sdgs_dict[year][field][key]=_dict\n",
    "            text2vec(_dict)"
   ]
  },
  {
   "cell_type": "markdown",
   "id": "98bad531",
   "metadata": {},
   "source": [
    "## Binary analysis"
   ]
  },
  {
   "cell_type": "code",
   "execution_count": 22,
   "id": "654b3f49",
   "metadata": {
    "ExecuteTime": {
     "end_time": "2024-06-21T15:20:54.418843Z",
     "start_time": "2024-06-21T15:20:54.248074Z"
    }
   },
   "outputs": [
    {
     "data": {
      "application/vnd.jupyter.widget-view+json": {
       "model_id": "37f9e4239dd44c3cbc71123ea863bcf1",
       "version_major": 2,
       "version_minor": 0
      },
      "text/plain": [
       "  0%|          | 0/9 [00:00<?, ?it/s]"
      ]
     },
     "metadata": {},
     "output_type": "display_data"
    },
    {
     "data": {
      "application/vnd.jupyter.widget-view+json": {
       "model_id": "",
       "version_major": 2,
       "version_minor": 0
      },
      "text/plain": [
       "  0%|          | 0/1 [00:00<?, ?it/s]"
      ]
     },
     "metadata": {},
     "output_type": "display_data"
    },
    {
     "data": {
      "application/vnd.jupyter.widget-view+json": {
       "model_id": "",
       "version_major": 2,
       "version_minor": 0
      },
      "text/plain": [
       "  0%|          | 0/2 [00:00<?, ?it/s]"
      ]
     },
     "metadata": {},
     "output_type": "display_data"
    },
    {
     "data": {
      "application/vnd.jupyter.widget-view+json": {
       "model_id": "",
       "version_major": 2,
       "version_minor": 0
      },
      "text/plain": [
       "  0%|          | 0/3 [00:00<?, ?it/s]"
      ]
     },
     "metadata": {},
     "output_type": "display_data"
    },
    {
     "data": {
      "application/vnd.jupyter.widget-view+json": {
       "model_id": "",
       "version_major": 2,
       "version_minor": 0
      },
      "text/plain": [
       "  0%|          | 0/4 [00:00<?, ?it/s]"
      ]
     },
     "metadata": {},
     "output_type": "display_data"
    },
    {
     "data": {
      "application/vnd.jupyter.widget-view+json": {
       "model_id": "",
       "version_major": 2,
       "version_minor": 0
      },
      "text/plain": [
       "  0%|          | 0/4 [00:00<?, ?it/s]"
      ]
     },
     "metadata": {},
     "output_type": "display_data"
    },
    {
     "data": {
      "application/vnd.jupyter.widget-view+json": {
       "model_id": "",
       "version_major": 2,
       "version_minor": 0
      },
      "text/plain": [
       "  0%|          | 0/6 [00:00<?, ?it/s]"
      ]
     },
     "metadata": {},
     "output_type": "display_data"
    },
    {
     "data": {
      "application/vnd.jupyter.widget-view+json": {
       "model_id": "",
       "version_major": 2,
       "version_minor": 0
      },
      "text/plain": [
       "  0%|          | 0/6 [00:00<?, ?it/s]"
      ]
     },
     "metadata": {},
     "output_type": "display_data"
    },
    {
     "data": {
      "application/vnd.jupyter.widget-view+json": {
       "model_id": "",
       "version_major": 2,
       "version_minor": 0
      },
      "text/plain": [
       "  0%|          | 0/6 [00:00<?, ?it/s]"
      ]
     },
     "metadata": {},
     "output_type": "display_data"
    },
    {
     "data": {
      "application/vnd.jupyter.widget-view+json": {
       "model_id": "",
       "version_major": 2,
       "version_minor": 0
      },
      "text/plain": [
       "  0%|          | 0/8 [00:00<?, ?it/s]"
      ]
     },
     "metadata": {},
     "output_type": "display_data"
    }
   ],
   "source": [
    "utilitites_bi={}\n",
    "for key in tqdm(utilitites_texts.keys()):\n",
    "    s_keys=list(utilitites_texts[key].keys())\n",
    "    n_docs=len(s_keys)\n",
    "    aux=np.zeros((n_docs, L_SDGS), dtype=int)\n",
    "    for i, s_key in enumerate(tqdm(s_keys, leave=False)):\n",
    "        aux[i]=text2vec(utilitites_texts[key][s_key])\n",
    "    utilitites_bi[key]=aux\n",
    "    "
   ]
  },
  {
   "cell_type": "code",
   "execution_count": 23,
   "id": "3844cc84",
   "metadata": {
    "ExecuteTime": {
     "end_time": "2024-06-21T15:20:54.560678Z",
     "start_time": "2024-06-21T15:20:54.551994Z"
    }
   },
   "outputs": [
    {
     "data": {
      "text/plain": [
       "[15, 15, 15, 16, 16, 15, 16, 16, 17]"
      ]
     },
     "execution_count": 23,
     "metadata": {},
     "output_type": "execute_result"
    }
   ],
   "source": [
    "[np.sum(np.sum(utilitites_bi[key], axis=0)>0) for key in utilitites_bi.keys()]"
   ]
  },
  {
   "cell_type": "markdown",
   "id": "e25f3686",
   "metadata": {},
   "source": [
    "Not all SDGs are covered at least one time in each report."
   ]
  },
  {
   "cell_type": "code",
   "execution_count": 24,
   "id": "bfba2ff4",
   "metadata": {
    "ExecuteTime": {
     "end_time": "2024-06-21T15:20:55.754317Z",
     "start_time": "2024-06-21T15:20:55.279377Z"
    }
   },
   "outputs": [
    {
     "data": {
      "image/png": "[encoded data removed]",
      "text/plain": [
       "<Figure size 1000x400 with 2 Axes>"
      ]
     },
     "metadata": {},
     "output_type": "display_data"
    }
   ],
   "source": [
    "fig, axs=plt.subplots(nrows=1, ncols=2, figsize=(10,4))\n",
    "axs[0].plot(range(2015, 2024), [np.sum(np.sum(utilitites_bi[key], axis=0)>0) for key in utilitites_bi.keys()], marker='o', c='navy', label='Utilities', linestyle='--')\n",
    "axs[0].plot(range(2015, 2024), [np.sum(np.sum(energy_bi[key], axis=0)>0) for key in energy_bi.keys()], marker='o', c='darkmagenta', label='Energy', linestyle='-')\n",
    "axs[0].set_ylabel('Number of SDGs\\nmentioned at least in one report', fontsize=14)\n",
    "axs[0].set_yticks(np.arange(15, 18, dtype=int))\n",
    "\n",
    "axs[1].plot(range(2015, 2024), [np.sum(np.sum(utilitites_bi[key], axis=0)==utilitites_bi[key].shape[0]) for key in utilitites_bi.keys()], marker='o', c='navy', label='Utilities', linestyle='--')\n",
    "axs[1].plot(range(2015, 2024), [np.sum(np.sum(energy_bi[key], axis=0)==energy_bi[key].shape[0]) for key in energy_bi.keys()], marker='o', c='darkmagenta', label='Energy', linestyle='-')\n",
    "axs[1].set_ylabel('Number of SDGs\\nmentioned in all reports', fontsize=14, rotation=270, labelpad=35)\n",
    "axs[1].set_yticks(np.arange(0, 18, 5, dtype=int))\n",
    "axs[1].yaxis.tick_right()\n",
    "axs[1].yaxis.set_label_position(\"right\")\n",
    "\n",
    "plt.legend(fontsize=12)\n",
    "plt.show()"
   ]
  },
  {
   "cell_type": "code",
   "execution_count": 26,
   "id": "2eb9a35f",
   "metadata": {
    "ExecuteTime": {
     "end_time": "2024-06-21T15:20:57.181842Z",
     "start_time": "2024-06-21T15:20:57.175233Z"
    }
   },
   "outputs": [],
   "source": [
    "binary_dict={'Energy': energy_bi, 'Utilities': utilitites_bi}\n",
    "with open ('./data/energy_utilities_binary.pickle', 'wb') as f:\n",
    "    pickle.dump(binary_dict, f)"
   ]
  },
  {
   "cell_type": "markdown",
   "id": "78c45788",
   "metadata": {},
   "source": [
    "# Where to go next?"
   ]
  },
  {
   "cell_type": "markdown",
   "id": "e1e94e33",
   "metadata": {},
   "source": [
    "I fear that the statistical validation is not that relevant, due to the limited dimension of the matrices: at most we have a 8x17 matrix. May it be interesting to validate the bipartite matrix of all years altogether? Even in this case, the matrices will be quite small. For the moment let us leave those (ugly) plots here."
   ]
  },
  {
   "cell_type": "code",
   "execution_count": null,
   "id": "650fb127",
   "metadata": {},
   "outputs": [],
   "source": []
  }
 ],
 "metadata": {
  "kernelspec": {
   "display_name": "Python 3 (ipykernel)",
   "language": "python",
   "name": "python3"
  },
  "language_info": {
   "codemirror_mode": {
    "name": "ipython",
    "version": 3
   },
   "file_extension": ".py",
   "mimetype": "text/x-python",
   "name": "python",
   "nbconvert_exporter": "python",
   "pygments_lexer": "ipython3",
   "version": "3.8.10"
  },
  "notify_time": "5",
  "toc": {
   "base_numbering": 1,
   "nav_menu": {},
   "number_sections": true,
   "sideBar": true,
   "skip_h1_title": false,
   "title_cell": "Table of Contents",
   "title_sidebar": "Contents",
   "toc_cell": false,
   "toc_position": {
    "height": "calc(100% - 180px)",
    "left": "10px",
    "top": "150px",
    "width": "288px"
   },
   "toc_section_display": true,
   "toc_window_display": true
  }
 },
 "nbformat": 4,
 "nbformat_minor": 5
}
