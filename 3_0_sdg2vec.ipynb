{
 "cells": [
  {
   "cell_type": "markdown",
   "id": "cd905903",
   "metadata": {},
   "source": [
    "# Intro"
   ]
  },
  {
   "cell_type": "markdown",
   "id": "0a4c6489",
   "metadata": {},
   "source": [
    "## Load"
   ]
  },
  {
   "cell_type": "markdown",
   "id": "640a817b",
   "metadata": {},
   "source": [
    "### Standards"
   ]
  },
  {
   "cell_type": "code",
   "execution_count": 1,
   "id": "6c83cb7c",
   "metadata": {
    "ExecuteTime": {
     "end_time": "2024-06-20T07:23:53.913050Z",
     "start_time": "2024-06-20T07:23:53.649565Z"
    }
   },
   "outputs": [],
   "source": [
    "import os, sys, pickle\n",
    "import numpy as np\n",
    "from tqdm.notebook import trange, tqdm"
   ]
  },
  {
   "cell_type": "code",
   "execution_count": 2,
   "id": "e82aad8e",
   "metadata": {
    "ExecuteTime": {
     "end_time": "2024-06-20T07:23:54.593593Z",
     "start_time": "2024-06-20T07:23:53.916629Z"
    }
   },
   "outputs": [],
   "source": [
    "import matplotlib.pyplot as plt\n",
    "plt.rcParams['axes.linewidth'] = 2\n",
    "plt.rcParams['xtick.major.size'] = 10\n",
    "plt.rcParams['xtick.major.width'] = 2\n",
    "plt.rcParams['ytick.major.size'] = 10\n",
    "plt.rcParams['ytick.major.width'] = 2\n",
    "\n",
    "plt.rcParams['xtick.labelsize'] = 14\n",
    "plt.rcParams['ytick.labelsize'] = 14\n",
    "\n",
    "plt.rcParams['xtick.minor.size'] = 5\n",
    "plt.rcParams['xtick.minor.width'] = 1\n",
    "plt.rcParams['ytick.minor.size'] = 5\n",
    "plt.rcParams['ytick.minor.width'] = 1\n"
   ]
  },
  {
   "cell_type": "markdown",
   "id": "98a4cf82",
   "metadata": {},
   "source": [
    "### Homemade modules"
   ]
  },
  {
   "cell_type": "code",
   "execution_count": 3,
   "id": "5126abf9",
   "metadata": {
    "ExecuteTime": {
     "end_time": "2024-06-20T07:24:00.354466Z",
     "start_time": "2024-06-20T07:23:56.563705Z"
    }
   },
   "outputs": [],
   "source": [
    "from tesste import tesste\n",
    "from ppp import ppp\n",
    "from readers_and_converters import file2text, text2dict, text2vec"
   ]
  },
  {
   "cell_type": "markdown",
   "id": "98ad8ead",
   "metadata": {},
   "source": [
    "# Energy"
   ]
  },
  {
   "cell_type": "markdown",
   "id": "d7e80c56",
   "metadata": {},
   "source": [
    "## Organizing folders"
   ]
  },
  {
   "cell_type": "markdown",
   "id": "a3eefe60",
   "metadata": {},
   "source": [
    "### Getting th folders"
   ]
  },
  {
   "cell_type": "code",
   "execution_count": 26,
   "id": "13e6d05b",
   "metadata": {
    "ExecuteTime": {
     "end_time": "2024-06-20T07:33:02.553217Z",
     "start_time": "2024-06-20T07:33:02.547667Z"
    }
   },
   "outputs": [],
   "source": [
    "e_folder='chatgpt_summaries/Energy/'"
   ]
  },
  {
   "cell_type": "code",
   "execution_count": 27,
   "id": "80e78bbc",
   "metadata": {
    "ExecuteTime": {
     "end_time": "2024-06-20T07:33:02.869153Z",
     "start_time": "2024-06-20T07:33:02.863285Z"
    }
   },
   "outputs": [],
   "source": [
    "folders=[f.name for f in os.scandir(e_folder) if f.is_dir() ]"
   ]
  },
  {
   "cell_type": "code",
   "execution_count": 28,
   "id": "813f6d9f",
   "metadata": {
    "ExecuteTime": {
     "end_time": "2024-06-20T07:33:03.130920Z",
     "start_time": "2024-06-20T07:33:03.125567Z"
    }
   },
   "outputs": [],
   "source": [
    "folders.sort()"
   ]
  },
  {
   "cell_type": "code",
   "execution_count": 29,
   "id": "39e49cb8",
   "metadata": {
    "ExecuteTime": {
     "end_time": "2024-06-20T07:33:03.470677Z",
     "start_time": "2024-06-20T07:33:03.461908Z"
    }
   },
   "outputs": [
    {
     "data": {
      "text/plain": [
       "['01_shell',\n",
       " '02_BP',\n",
       " '03_Harbour_Energy_PLC',\n",
       " '04_energeans',\n",
       " '05_ITHACA_ENERGY_PLC',\n",
       " '06_LSE_WG',\n",
       " '07_SERICA_ENERGY_PLC',\n",
       " '08_ASHTEAD_TECHNOLOGY_HOLDINGS_PLC',\n",
       " '10_DIVERSIFIED_ENERGY_COMPANY_PLC']"
      ]
     },
     "execution_count": 29,
     "metadata": {},
     "output_type": "execute_result"
    }
   ],
   "source": [
    "folders"
   ]
  },
  {
   "cell_type": "markdown",
   "id": "8898ba2a",
   "metadata": {},
   "source": [
    "### Organize each folder"
   ]
  },
  {
   "cell_type": "markdown",
   "id": "4313c2d7",
   "metadata": {},
   "source": [
    "Probably I should integrate this part in the unzipper... Change the name in order to have only a number for the year."
   ]
  },
  {
   "cell_type": "code",
   "execution_count": 104,
   "id": "c42d823b",
   "metadata": {
    "ExecuteTime": {
     "end_time": "2024-06-20T12:08:10.845431Z",
     "start_time": "2024-06-20T12:08:10.840268Z"
    }
   },
   "outputs": [],
   "source": [
    "folder=folders[0]"
   ]
  },
  {
   "cell_type": "code",
   "execution_count": 105,
   "id": "2b81565f",
   "metadata": {
    "ExecuteTime": {
     "end_time": "2024-06-20T12:08:11.158814Z",
     "start_time": "2024-06-20T12:08:11.153229Z"
    }
   },
   "outputs": [],
   "source": [
    "files=[file for file in os.listdir(e_folder+folder) if file!='__MACOSX']"
   ]
  },
  {
   "cell_type": "code",
   "execution_count": 106,
   "id": "36c169ec",
   "metadata": {
    "ExecuteTime": {
     "end_time": "2024-06-20T12:08:11.455567Z",
     "start_time": "2024-06-20T12:08:11.447144Z"
    }
   },
   "outputs": [
    {
     "data": {
      "text/plain": [
       "['shell_sustainability_report_2023_summary.docx',\n",
       " 'entire_shell_sr15_summary.docx',\n",
       " 'shell_sustainability_report_2018_summary.docx',\n",
       " 'shell_sustainability_report_2021_summary.docx',\n",
       " 'shell_sustainability_report_2017_summary.docx',\n",
       " 'entire_shell_sr16_summary.docx',\n",
       " 'shell_sustainability_report_2020_summary.docx',\n",
       " 'shell_sustainability_report_2022_summary.docx',\n",
       " 'shell_sustainability_report_2019_summary.docx']"
      ]
     },
     "execution_count": 106,
     "metadata": {},
     "output_type": "execute_result"
    }
   ],
   "source": [
    "files"
   ]
  },
  {
   "cell_type": "code",
   "execution_count": 107,
   "id": "33d89787",
   "metadata": {
    "ExecuteTime": {
     "end_time": "2024-06-20T12:08:13.973152Z",
     "start_time": "2024-06-20T12:08:13.967924Z"
    }
   },
   "outputs": [],
   "source": [
    "file=files[1]"
   ]
  },
  {
   "cell_type": "code",
   "execution_count": 85,
   "id": "eb6d7680",
   "metadata": {
    "ExecuteTime": {
     "end_time": "2024-06-20T11:59:52.136057Z",
     "start_time": "2024-06-20T11:59:52.131728Z"
    }
   },
   "outputs": [],
   "source": [
    "aux=file.split('_')"
   ]
  },
  {
   "cell_type": "code",
   "execution_count": 86,
   "id": "851502d4",
   "metadata": {
    "ExecuteTime": {
     "end_time": "2024-06-20T11:59:52.549627Z",
     "start_time": "2024-06-20T11:59:52.541825Z"
    }
   },
   "outputs": [
    {
     "data": {
      "text/plain": [
       "'bp-sustainability-report-2022_summary.docx'"
      ]
     },
     "execution_count": 86,
     "metadata": {},
     "output_type": "execute_result"
    }
   ],
   "source": [
    "file"
   ]
  },
  {
   "cell_type": "code",
   "execution_count": 87,
   "id": "1f3a64e0",
   "metadata": {
    "ExecuteTime": {
     "end_time": "2024-06-20T11:59:54.226962Z",
     "start_time": "2024-06-20T11:59:54.220548Z"
    }
   },
   "outputs": [],
   "source": [
    "year=[a for a in aux if a.isdigit()]"
   ]
  },
  {
   "cell_type": "code",
   "execution_count": 88,
   "id": "a14b6b86",
   "metadata": {
    "ExecuteTime": {
     "end_time": "2024-06-20T12:00:02.683447Z",
     "start_time": "2024-06-20T12:00:02.677322Z"
    }
   },
   "outputs": [],
   "source": [
    "for a in aux:\n",
    "    [_ for _ in a if _.isdigit()]"
   ]
  },
  {
   "cell_type": "code",
   "execution_count": 100,
   "id": "f1c2eb4c",
   "metadata": {
    "ExecuteTime": {
     "end_time": "2024-06-20T12:07:58.555062Z",
     "start_time": "2024-06-20T12:07:58.537042Z"
    }
   },
   "outputs": [],
   "source": [
    "def name_changer(file_name):\n",
    "    # get the words divided by underscores\n",
    "    aux=file_name.split('_')\n",
    "    # get the year from the word made by digit\n",
    "    year=[a for a in aux if a.isdigit()]\n",
    "    if len(year)>0:\n",
    "        year=year[0]\n",
    "        # it may happen that there are just two entries in the year input\n",
    "        if len(year)==2:\n",
    "            year='20'+year\n",
    "        new_name='_'.join([a for a in aux if not a.isdigit()])\n",
    "    else:\n",
    "        # the year may be hidden in a year+char word\n",
    "        hidden_year=[]\n",
    "        new_entries=[]\n",
    "        for a in aux:\n",
    "            hy=[_ for _ in a if _.isdigit()]\n",
    "            if len(hy)>0:\n",
    "                hy=''.join(hy)\n",
    "                hidden_year.append(hy)\n",
    "                # the part of the name that does not contain an integer\n",
    "                other_part=[_ for _ in a if not _.isdigit()]\n",
    "                other_part=''.join(other_part)\n",
    "                new_entries.append(other_part)\n",
    "            else:\n",
    "                new_entries.append(a)\n",
    "        if len(hidden_year)==1:\n",
    "            year=hidden_year[0]\n",
    "            if len(year)==2:\n",
    "                year='20'+year\n",
    "            new_name='_'.join(new_entries)\n",
    "        else:\n",
    "            return 1\n",
    "    \n",
    "    return year+'_'+new_name\n",
    "        "
   ]
  },
  {
   "cell_type": "code",
   "execution_count": 108,
   "id": "e940197d",
   "metadata": {
    "ExecuteTime": {
     "end_time": "2024-06-20T12:08:18.029240Z",
     "start_time": "2024-06-20T12:08:18.023681Z"
    }
   },
   "outputs": [],
   "source": [
    "new_names=[name_changer(file) for file in files]"
   ]
  },
  {
   "cell_type": "code",
   "execution_count": 109,
   "id": "65f3f8f4",
   "metadata": {
    "ExecuteTime": {
     "end_time": "2024-06-20T12:08:18.421353Z",
     "start_time": "2024-06-20T12:08:18.415804Z"
    }
   },
   "outputs": [],
   "source": [
    "new_names.sort()"
   ]
  },
  {
   "cell_type": "code",
   "execution_count": 110,
   "id": "43d92d23",
   "metadata": {
    "ExecuteTime": {
     "end_time": "2024-06-20T12:08:18.832233Z",
     "start_time": "2024-06-20T12:08:18.823213Z"
    }
   },
   "outputs": [
    {
     "data": {
      "text/plain": [
       "['2015_entire_shell_sr_summary.docx',\n",
       " '2016_entire_shell_sr_summary.docx',\n",
       " '2017_shell_sustainability_report_summary.docx',\n",
       " '2018_shell_sustainability_report_summary.docx',\n",
       " '2019_shell_sustainability_report_summary.docx',\n",
       " '2020_shell_sustainability_report_summary.docx',\n",
       " '2021_shell_sustainability_report_summary.docx',\n",
       " '2022_shell_sustainability_report_summary.docx',\n",
       " '2023_shell_sustainability_report_summary.docx']"
      ]
     },
     "execution_count": 110,
     "metadata": {},
     "output_type": "execute_result"
    }
   ],
   "source": [
    "new_names"
   ]
  },
  {
   "cell_type": "code",
   "execution_count": null,
   "id": "c5739743",
   "metadata": {},
   "outputs": [],
   "source": []
  }
 ],
 "metadata": {
  "kernelspec": {
   "display_name": "Python 3 (ipykernel)",
   "language": "python",
   "name": "python3"
  },
  "language_info": {
   "codemirror_mode": {
    "name": "ipython",
    "version": 3
   },
   "file_extension": ".py",
   "mimetype": "text/x-python",
   "name": "python",
   "nbconvert_exporter": "python",
   "pygments_lexer": "ipython3",
   "version": "3.8.10"
  },
  "notify_time": "5",
  "toc": {
   "base_numbering": 1,
   "nav_menu": {},
   "number_sections": true,
   "sideBar": true,
   "skip_h1_title": false,
   "title_cell": "Table of Contents",
   "title_sidebar": "Contents",
   "toc_cell": false,
   "toc_position": {
    "height": "calc(100% - 180px)",
    "left": "10px",
    "top": "150px",
    "width": "288px"
   },
   "toc_section_display": true,
   "toc_window_display": true
  }
 },
 "nbformat": 4,
 "nbformat_minor": 5
}
