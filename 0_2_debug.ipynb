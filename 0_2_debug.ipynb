{
 "cells": [
  {
   "cell_type": "code",
   "execution_count": 1,
   "id": "5faa2147",
   "metadata": {
    "ExecuteTime": {
     "end_time": "2024-05-10T14:51:53.802289Z",
     "start_time": "2024-05-10T14:51:53.788699Z"
    }
   },
   "outputs": [],
   "source": [
    "import os, sys"
   ]
  },
  {
   "cell_type": "markdown",
   "id": "9c578a65",
   "metadata": {},
   "source": [
    "# Debug ppp"
   ]
  },
  {
   "cell_type": "code",
   "execution_count": 2,
   "id": "1716dd3f",
   "metadata": {
    "ExecuteTime": {
     "end_time": "2024-05-10T14:51:53.851635Z",
     "start_time": "2024-05-10T14:51:53.805757Z"
    }
   },
   "outputs": [],
   "source": [
    "from ppp import ppp"
   ]
  },
  {
   "cell_type": "code",
   "execution_count": 3,
   "id": "13beb1c6",
   "metadata": {
    "ExecuteTime": {
     "end_time": "2024-05-10T14:51:53.855016Z",
     "start_time": "2024-05-10T14:51:53.852982Z"
    }
   },
   "outputs": [],
   "source": [
    "reports_folder='./reports/'\n",
    "bp='5_BP_PLC/'"
   ]
  },
  {
   "cell_type": "code",
   "execution_count": 4,
   "id": "e56a1cf7",
   "metadata": {
    "ExecuteTime": {
     "end_time": "2024-05-10T14:51:53.858548Z",
     "start_time": "2024-05-10T14:51:53.856125Z"
    }
   },
   "outputs": [],
   "source": [
    "bp_files=os.listdir(reports_folder+bp)\n",
    "bp_files.sort()"
   ]
  },
  {
   "cell_type": "code",
   "execution_count": 5,
   "id": "226a155e",
   "metadata": {
    "ExecuteTime": {
     "end_time": "2024-05-10T14:51:58.357124Z",
     "start_time": "2024-05-10T14:51:53.860307Z"
    }
   },
   "outputs": [],
   "source": [
    "allpages=ppp(reports_folder+bp+bp_files[0])"
   ]
  },
  {
   "cell_type": "code",
   "execution_count": 6,
   "id": "f66bc2a4",
   "metadata": {
    "ExecuteTime": {
     "end_time": "2024-05-10T14:51:58.361808Z",
     "start_time": "2024-05-10T14:51:58.358192Z"
    }
   },
   "outputs": [
    {
     "data": {
      "text/plain": [
       "223617"
      ]
     },
     "execution_count": 6,
     "metadata": {},
     "output_type": "execute_result"
    }
   ],
   "source": [
    "len(allpages)"
   ]
  },
  {
   "cell_type": "code",
   "execution_count": 7,
   "id": "28921b16",
   "metadata": {
    "ExecuteTime": {
     "end_time": "2024-05-10T14:51:58.410916Z",
     "start_time": "2024-05-10T14:51:58.362705Z"
    }
   },
   "outputs": [],
   "source": [
    "page1=ppp(reports_folder+bp+bp_files[0], page=1)"
   ]
  },
  {
   "cell_type": "code",
   "execution_count": 8,
   "id": "b2cdc33d",
   "metadata": {
    "ExecuteTime": {
     "end_time": "2024-05-10T14:51:58.414591Z",
     "start_time": "2024-05-10T14:51:58.411841Z"
    }
   },
   "outputs": [
    {
     "data": {
      "text/plain": [
       "'BP Sustainability Report 2015Who we are We aim to create long-term value for  shareholders by helping to meet growing demand for energy in a safe and responsible way. We strive to be a world-class operator,   a responsible corporate citizen and a   good employer. BP is one of the world’s leading  integrated oil and gas companies – based on market capitalization, proved reserves and production. Through our work we provide customers with fuel for transportation, energy for heat   and light, lubricants to keep engines moving and the petrochemicals products used to make everyday   items as diverse as paints, clothes   and packaging.  We believe a mix of fuels and  technologies is needed to meet growing energy demand, improve efficiency and support the transition   to a lower-carbon economy. These   are the reasons why our portfolio includes oil, gas and renewables. Our projects and operations help to  generate employment, investment   and tax revenues in countries and communities across the world.   We have well-established operations   in Europe, North and South America, Australasia, Asia and Africa and employ around 80,000 people.   Front cover images BP’s onshore oil and gas activity in the US began operating as a separate business in 2015. Our Lower 48 onshore business spans 5.7 million acres with active operations in six states.We validate the content with our external assurance provider, Ernst & Young, whose remit includes commenting on the prominence given to each topic and identifying any gaps.  We apply the Global Reporting Initiative’s   G4 guidelines, and we use guidance from   our industry association IPIECA. We also report  against the UN Global Compact’s 10 principles   on human rights, labour, environment and anti-corruption.  For more information see     bp.com/reportingstandardsAbout our reporting This Sustainability Report and bp.com/  sustainability concentrate on performance and  activities from 1 January to 31 December 2015. We aim to report on all aspects of our business, including joint ventures where we are the operator. Where appropriate, we also seek to provide an overview of joint venture activities where we are not the operator, but where we have significant influence on our partners.  HSE charting tool Filter and analyse information on the group’s health, safety and environmental performance. Data for the past 10 years is available, and can be viewed in a variety of chart formats.  See bp.com/hsechartingtool '"
      ]
     },
     "execution_count": 8,
     "metadata": {},
     "output_type": "execute_result"
    }
   ],
   "source": [
    "page1"
   ]
  },
  {
   "cell_type": "code",
   "execution_count": 9,
   "id": "4b1ddedd",
   "metadata": {
    "ExecuteTime": {
     "end_time": "2024-05-10T14:51:58.417990Z",
     "start_time": "2024-05-10T14:51:58.415547Z"
    }
   },
   "outputs": [
    {
     "data": {
      "text/plain": [
       "2477"
      ]
     },
     "execution_count": 9,
     "metadata": {},
     "output_type": "execute_result"
    }
   ],
   "source": [
    "len(page1)"
   ]
  },
  {
   "cell_type": "code",
   "execution_count": null,
   "id": "2c7547bc",
   "metadata": {},
   "outputs": [],
   "source": []
  }
 ],
 "metadata": {
  "kernelspec": {
   "display_name": "Python 3 (ipykernel)",
   "language": "python",
   "name": "python3"
  },
  "language_info": {
   "codemirror_mode": {
    "name": "ipython",
    "version": 3
   },
   "file_extension": ".py",
   "mimetype": "text/x-python",
   "name": "python",
   "nbconvert_exporter": "python",
   "pygments_lexer": "ipython3",
   "version": "3.8.19"
  },
  "toc": {
   "base_numbering": 1,
   "nav_menu": {},
   "number_sections": true,
   "sideBar": true,
   "skip_h1_title": false,
   "title_cell": "Table of Contents",
   "title_sidebar": "Contents",
   "toc_cell": false,
   "toc_position": {
    "height": "calc(100% - 180px)",
    "left": "10px",
    "top": "150px",
    "width": "288px"
   },
   "toc_section_display": true,
   "toc_window_display": true
  }
 },
 "nbformat": 4,
 "nbformat_minor": 5
}
