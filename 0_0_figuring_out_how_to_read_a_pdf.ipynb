{
 "cells": [
  {
   "cell_type": "markdown",
   "id": "2fcb9630",
   "metadata": {},
   "source": [
    "# Intro"
   ]
  },
  {
   "cell_type": "markdown",
   "id": "f177c657",
   "metadata": {},
   "source": [
    "## Load"
   ]
  },
  {
   "cell_type": "code",
   "execution_count": 1,
   "id": "6568f7b3",
   "metadata": {
    "ExecuteTime": {
     "end_time": "2024-05-10T12:40:49.444261Z",
     "start_time": "2024-05-10T12:40:49.426995Z"
    }
   },
   "outputs": [],
   "source": [
    "import os, sys, json, pickle"
   ]
  },
  {
   "cell_type": "code",
   "execution_count": 2,
   "id": "fb4b3f18",
   "metadata": {
    "ExecuteTime": {
     "end_time": "2024-05-10T12:40:49.723815Z",
     "start_time": "2024-05-10T12:40:49.589445Z"
    }
   },
   "outputs": [],
   "source": [
    "import numpy as np"
   ]
  },
  {
   "cell_type": "code",
   "execution_count": 3,
   "id": "acaf469e",
   "metadata": {
    "ExecuteTime": {
     "end_time": "2024-05-10T12:40:49.955646Z",
     "start_time": "2024-05-10T12:40:49.953904Z"
    }
   },
   "outputs": [],
   "source": [
    "import string"
   ]
  },
  {
   "cell_type": "code",
   "execution_count": 4,
   "id": "10cc4e4c",
   "metadata": {
    "ExecuteTime": {
     "end_time": "2024-05-10T12:40:53.381044Z",
     "start_time": "2024-05-10T12:40:51.710405Z"
    }
   },
   "outputs": [
    {
     "name": "stderr",
     "output_type": "stream",
     "text": [
      "[nltk_data] Downloading package stopwords to /Users/fabio/nltk_data...\n",
      "[nltk_data]   Package stopwords is already up-to-date!\n",
      "[nltk_data] Downloading package punkt to /Users/fabio/nltk_data...\n",
      "[nltk_data]   Package punkt is already up-to-date!\n"
     ]
    }
   ],
   "source": [
    "import nltk\n",
    "nltk.download('stopwords')\n",
    "nltk.download('punkt')\n",
    "\n",
    "from nltk.corpus import stopwords\n",
    "from nltk.tokenize import word_tokenize\n",
    "\n",
    "from nltk.stem.snowball import SnowballStemmer\n",
    "\n",
    "from bicm import BipartiteGraph as BiG"
   ]
  },
  {
   "cell_type": "code",
   "execution_count": 5,
   "id": "2c0307ff",
   "metadata": {
    "ExecuteTime": {
     "end_time": "2024-05-10T12:40:53.415858Z",
     "start_time": "2024-05-10T12:40:53.382485Z"
    }
   },
   "outputs": [],
   "source": [
    "from pypdf import PdfReader"
   ]
  },
  {
   "cell_type": "code",
   "execution_count": 48,
   "id": "4a85d66a",
   "metadata": {
    "ExecuteTime": {
     "end_time": "2024-05-10T12:53:06.588927Z",
     "start_time": "2024-05-10T12:53:06.584749Z"
    }
   },
   "outputs": [],
   "source": [
    "from sentence_transformers import SentenceTransformer, util"
   ]
  },
  {
   "cell_type": "code",
   "execution_count": 7,
   "id": "133146da",
   "metadata": {
    "ExecuteTime": {
     "end_time": "2024-05-10T12:40:55.376040Z",
     "start_time": "2024-05-10T12:40:55.374289Z"
    }
   },
   "outputs": [],
   "source": [
    "from sklearn.metrics.pairwise import cosine_similarity"
   ]
  },
  {
   "cell_type": "code",
   "execution_count": 8,
   "id": "92bcf344",
   "metadata": {
    "ExecuteTime": {
     "end_time": "2024-05-10T12:40:57.681781Z",
     "start_time": "2024-05-10T12:40:57.046920Z"
    }
   },
   "outputs": [
    {
     "name": "stderr",
     "output_type": "stream",
     "text": [
      "[nltk_data] Downloading package stopwords to /Users/fabio/nltk_data...\n",
      "[nltk_data]   Package stopwords is already up-to-date!\n",
      "[nltk_data] Downloading package punkt to /Users/fabio/nltk_data...\n",
      "[nltk_data]   Package punkt is already up-to-date!\n"
     ]
    }
   ],
   "source": [
    "from melt import melt"
   ]
  },
  {
   "cell_type": "code",
   "execution_count": 72,
   "id": "7d252f2e",
   "metadata": {
    "ExecuteTime": {
     "end_time": "2024-05-10T13:06:44.766043Z",
     "start_time": "2024-05-10T13:06:43.575567Z"
    }
   },
   "outputs": [],
   "source": [
    "import matplotlib.pyplot as plt"
   ]
  },
  {
   "cell_type": "markdown",
   "id": "4babd79b",
   "metadata": {},
   "source": [
    "## Function"
   ]
  },
  {
   "cell_type": "code",
   "execution_count": 13,
   "id": "741e12da",
   "metadata": {
    "ExecuteTime": {
     "end_time": "2024-05-09T16:08:06.698168Z",
     "start_time": "2024-05-09T16:08:06.691133Z"
    }
   },
   "outputs": [],
   "source": [
    "stemmer=SnowballStemmer('english', ignore_stopwords=True)"
   ]
  },
  {
   "cell_type": "code",
   "execution_count": 14,
   "id": "dcf2a5ea",
   "metadata": {
    "ExecuteTime": {
     "end_time": "2024-05-09T16:08:07.047367Z",
     "start_time": "2024-05-09T16:08:07.035886Z"
    }
   },
   "outputs": [],
   "source": [
    "def text2tokens(text):\n",
    "        stop_words = list(stopwords.words('english'))\n",
    "        bad_char=['©', '–', '‘', '’', '“', '”']\n",
    "        word_tokens = [wt.lower() for wt in word_tokenize(text)]\n",
    "        out=[]\n",
    "        for w in word_tokens:\n",
    "            if not (w in stop_words) and not (w in bad_char) and not (w in string.punctuation) and not ('.' in w) and not (',' in w) and not w.isnumeric():\n",
    "                # I am removing:\n",
    "                # - stop words;\n",
    "                # - punctuation\n",
    "                # - fractional numbers\n",
    "                out.append(stemmer.stem(w))\n",
    "        \n",
    "        return np.unique(out)"
   ]
  },
  {
   "cell_type": "markdown",
   "id": "2a011f56",
   "metadata": {},
   "source": [
    "# Read pdf and check"
   ]
  },
  {
   "cell_type": "markdown",
   "id": "194b63f3",
   "metadata": {},
   "source": [
    "## File"
   ]
  },
  {
   "cell_type": "code",
   "execution_count": 9,
   "id": "fa00b548",
   "metadata": {
    "ExecuteTime": {
     "end_time": "2024-05-10T12:41:14.111766Z",
     "start_time": "2024-05-10T12:41:14.107468Z"
    }
   },
   "outputs": [],
   "source": [
    "reports_folder='./reports/'\n",
    "bp='5_BP_PLC/'"
   ]
  },
  {
   "cell_type": "code",
   "execution_count": 10,
   "id": "de22dffa",
   "metadata": {
    "ExecuteTime": {
     "end_time": "2024-05-10T12:41:14.460589Z",
     "start_time": "2024-05-10T12:41:14.453270Z"
    }
   },
   "outputs": [],
   "source": [
    "bp_files=os.listdir(reports_folder+bp)\n",
    "bp_files.sort()"
   ]
  },
  {
   "cell_type": "markdown",
   "id": "311a841a",
   "metadata": {},
   "source": [
    "## PdfReader"
   ]
  },
  {
   "cell_type": "code",
   "execution_count": 11,
   "id": "92b25711",
   "metadata": {
    "ExecuteTime": {
     "end_time": "2024-05-10T12:41:15.266972Z",
     "start_time": "2024-05-10T12:41:15.243925Z"
    }
   },
   "outputs": [],
   "source": [
    "reader = PdfReader(reports_folder+bp+bp_files[0])"
   ]
  },
  {
   "cell_type": "markdown",
   "id": "4da6c4da",
   "metadata": {},
   "source": [
    "Number of pages:"
   ]
  },
  {
   "cell_type": "code",
   "execution_count": 12,
   "id": "19a7cf0b",
   "metadata": {
    "ExecuteTime": {
     "end_time": "2024-05-10T12:41:16.416408Z",
     "start_time": "2024-05-10T12:41:16.366805Z"
    }
   },
   "outputs": [
    {
     "data": {
      "text/plain": [
       "56"
      ]
     },
     "execution_count": 12,
     "metadata": {},
     "output_type": "execute_result"
    }
   ],
   "source": [
    "reader.get_num_pages()"
   ]
  },
  {
   "cell_type": "markdown",
   "id": "74c790df",
   "metadata": {},
   "source": [
    "Metadata (nice, but probably useless)"
   ]
  },
  {
   "cell_type": "code",
   "execution_count": 13,
   "id": "99b63a3c",
   "metadata": {
    "ExecuteTime": {
     "end_time": "2024-05-10T12:41:21.039406Z",
     "start_time": "2024-05-10T12:41:21.031073Z"
    }
   },
   "outputs": [
    {
     "data": {
      "text/plain": [
       "{'/Author': 'BP',\n",
       " '/CreationDate': 'D:20160307181429Z',\n",
       " '/Creator': 'Adobe InDesign CC 2014 (Macintosh)',\n",
       " '/ModDate': \"D:20160415113505+01'00'\",\n",
       " '/Producer': 'Adobe PDF Library 11.0',\n",
       " '/Title': 'BP Sustainability Report 2015',\n",
       " '/Trapped': '/False'}"
      ]
     },
     "execution_count": 13,
     "metadata": {},
     "output_type": "execute_result"
    }
   ],
   "source": [
    "reader.metadata"
   ]
  },
  {
   "cell_type": "markdown",
   "id": "898221a1",
   "metadata": {},
   "source": [
    "From the readthedocs: \n",
    "\n",
    "_Get the page layout currently being used._\n",
    "[...]\n",
    "_SinglePage: Show one page at a time_\n",
    "\n",
    "I have no idea about what it means."
   ]
  },
  {
   "cell_type": "code",
   "execution_count": 14,
   "id": "781db272",
   "metadata": {
    "ExecuteTime": {
     "end_time": "2024-05-10T12:41:26.718213Z",
     "start_time": "2024-05-10T12:41:26.709616Z"
    }
   },
   "outputs": [
    {
     "data": {
      "text/plain": [
       "'/SinglePage'"
      ]
     },
     "execution_count": 14,
     "metadata": {},
     "output_type": "execute_result"
    }
   ],
   "source": [
    "reader.page_layout"
   ]
  },
  {
   "cell_type": "markdown",
   "id": "c2342553",
   "metadata": {},
   "source": [
    "I am not sure it could be of use, but it is the name of the page. To visit the single page and extract the text, simply _reader.pages[x]_ is needed..."
   ]
  },
  {
   "cell_type": "code",
   "execution_count": 15,
   "id": "f56d7a85",
   "metadata": {
    "ExecuteTime": {
     "end_time": "2024-05-10T12:41:27.603291Z",
     "start_time": "2024-05-10T12:41:27.589586Z"
    }
   },
   "outputs": [
    {
     "data": {
      "text/plain": [
       "['FC1',\n",
       " 'IFC1',\n",
       " '1',\n",
       " '2',\n",
       " '3',\n",
       " '4',\n",
       " '5',\n",
       " '6',\n",
       " '7',\n",
       " '8',\n",
       " '9',\n",
       " '10',\n",
       " '11',\n",
       " '12',\n",
       " '13',\n",
       " '14',\n",
       " '15',\n",
       " '16',\n",
       " '17',\n",
       " '18',\n",
       " '19',\n",
       " '20',\n",
       " '21',\n",
       " '22',\n",
       " '23',\n",
       " '24',\n",
       " '25',\n",
       " '26',\n",
       " '27',\n",
       " '28',\n",
       " '29',\n",
       " '30',\n",
       " '31',\n",
       " '32',\n",
       " '33',\n",
       " '34',\n",
       " '35',\n",
       " '36',\n",
       " '37',\n",
       " '38',\n",
       " '39',\n",
       " '40',\n",
       " '41',\n",
       " '42',\n",
       " '43',\n",
       " '44',\n",
       " '45',\n",
       " '46',\n",
       " '47',\n",
       " '48',\n",
       " '49',\n",
       " '50',\n",
       " '51',\n",
       " '52',\n",
       " 'IBC1',\n",
       " 'BC1']"
      ]
     },
     "execution_count": 15,
     "metadata": {},
     "output_type": "execute_result"
    }
   ],
   "source": [
    "reader.page_labels"
   ]
  },
  {
   "cell_type": "code",
   "execution_count": 16,
   "id": "bf1b3db1",
   "metadata": {
    "ExecuteTime": {
     "end_time": "2024-05-10T12:41:29.704446Z",
     "start_time": "2024-05-10T12:41:29.699117Z"
    }
   },
   "outputs": [
    {
     "data": {
      "text/plain": [
       "'%PDF-1.6'"
      ]
     },
     "execution_count": 16,
     "metadata": {},
     "output_type": "execute_result"
    }
   ],
   "source": [
    "reader.pdf_header"
   ]
  },
  {
   "cell_type": "code",
   "execution_count": 17,
   "id": "125e9f45",
   "metadata": {
    "ExecuteTime": {
     "end_time": "2024-05-10T12:41:30.180196Z",
     "start_time": "2024-05-10T12:41:30.176832Z"
    }
   },
   "outputs": [],
   "source": [
    "cacca=reader.flattened_pages"
   ]
  },
  {
   "cell_type": "code",
   "execution_count": 18,
   "id": "ebc67dcc",
   "metadata": {
    "ExecuteTime": {
     "end_time": "2024-05-10T12:41:30.716873Z",
     "start_time": "2024-05-10T12:41:30.709737Z"
    }
   },
   "outputs": [
    {
     "data": {
      "text/plain": [
       "56"
      ]
     },
     "execution_count": 18,
     "metadata": {},
     "output_type": "execute_result"
    }
   ],
   "source": [
    "len(cacca)"
   ]
  },
  {
   "cell_type": "code",
   "execution_count": 19,
   "id": "4e463338",
   "metadata": {
    "ExecuteTime": {
     "end_time": "2024-05-10T12:41:59.222607Z",
     "start_time": "2024-05-10T12:41:59.152397Z"
    }
   },
   "outputs": [
    {
     "data": {
      "text/plain": [
       "'BP Sustainability Report 2015Who we are\\nWe aim to create long-term value for \\nshareholders by helping to meet growing demand for energy in a safe and responsible way. We strive to be a world-class operator,  \\na responsible corporate citizen and a  \\ngood employer.\\nBP is one of the world’s leading \\nintegrated oil and gas companies – based on market capitalization, proved reserves and production. Through our work we provide customers with fuel for transportation, energy for heat  \\nand light, lubricants to keep engines moving and the petrochemicals products used to make everyday  \\nitems as diverse as paints, clothes  \\nand packaging. \\nWe believe a mix of fuels and \\ntechnologies is needed to meet growing energy demand, improve efficiency and support the transition  \\nto a lower-carbon economy. These  \\nare the reasons why our portfolio includes oil, gas and renewables.\\nOur projects and operations help to \\ngenerate employment, investment  \\nand tax revenues in countries and communities across the world.  \\nWe have well-established operations  \\nin Europe, North and South America, Australasia, Asia and Africa and employ around 80,000 people.  \\nFront cover images\\nBP’s onshore oil and gas activity in the US began operating as a separate business in 2015. Our Lower 48 onshore business spans 5.7 million acres with active operations in six states.We validate the content with our external assurance provider, Ernst & Young, whose remit includes commenting on the prominence given to each topic and identifying any gaps. \\nWe apply the Global Reporting Initiative’s  \\nG4 guidelines, and we use guidance from  \\nour industry association IPIECA. We also report \\nagainst the UN Global Compact’s 10 principles  \\non human rights, labour, environment and anti-corruption.\\n For more information see   \\n bp.com/reportingstandardsAbout our reporting\\nThis Sustainability Report and bp.com/ \\nsustainability concentrate on performance and \\nactivities from 1 January to 31 December 2015. We aim to report on all aspects of our business, including joint ventures where we are the operator. Where appropriate, we also seek to provide an overview of joint venture activities where we are not the operator, but where we have significant influence on our partners. \\nHSE charting tool\\nFilter and analyse information on the group’s health, safety and environmental performance. Data for the past 10 years is available, and can be viewed in a variety of chart formats.\\n See bp.com/hsechartingtool\\n'"
      ]
     },
     "execution_count": 19,
     "metadata": {},
     "output_type": "execute_result"
    }
   ],
   "source": [
    "cacca[1].extract_text()"
   ]
  },
  {
   "cell_type": "code",
   "execution_count": 20,
   "id": "2a1b0b8a",
   "metadata": {
    "ExecuteTime": {
     "end_time": "2024-05-10T12:42:01.404269Z",
     "start_time": "2024-05-10T12:42:01.345930Z"
    }
   },
   "outputs": [],
   "source": [
    "description=reader.pages[1].extract_text(extraction_mode=\"plain\")"
   ]
  },
  {
   "cell_type": "code",
   "execution_count": 22,
   "id": "d99a6036",
   "metadata": {
    "ExecuteTime": {
     "end_time": "2024-05-10T12:42:05.405378Z",
     "start_time": "2024-05-10T12:42:05.340165Z"
    }
   },
   "outputs": [
    {
     "data": {
      "text/plain": [
       "True"
      ]
     },
     "execution_count": 22,
     "metadata": {},
     "output_type": "execute_result"
    }
   ],
   "source": [
    "description==cacca[1].extract_text()"
   ]
  },
  {
   "cell_type": "markdown",
   "id": "d9afb4cc",
   "metadata": {},
   "source": [
    "Boh?"
   ]
  },
  {
   "cell_type": "markdown",
   "id": "32842a92",
   "metadata": {},
   "source": [
    "### Delete \\n"
   ]
  },
  {
   "cell_type": "code",
   "execution_count": 29,
   "id": "2f72c071",
   "metadata": {
    "ExecuteTime": {
     "end_time": "2024-05-10T12:44:02.631283Z",
     "start_time": "2024-05-10T12:44:02.624995Z"
    }
   },
   "outputs": [],
   "source": [
    "description=' '.join(description.split('\\n'))"
   ]
  },
  {
   "cell_type": "markdown",
   "id": "d3c1fb29",
   "metadata": {
    "heading_collapsed": true
   },
   "source": [
    "## Trick from melt"
   ]
  },
  {
   "cell_type": "code",
   "execution_count": 32,
   "id": "7607b6c5",
   "metadata": {
    "ExecuteTime": {
     "end_time": "2024-05-09T16:09:36.322067Z",
     "start_time": "2024-05-09T16:09:36.264767Z"
    },
    "hidden": true
   },
   "outputs": [
    {
     "data": {
      "text/plain": [
       "array(['2015who', 'acr', 'across', 'activ', 'africa', 'aim', 'also',\n",
       "       'america', 'analys', 'anti-corrupt', 'appli', 'appropri', 'around',\n",
       "       'asia', 'aspect', 'associ', 'assur', 'australasia', 'avail',\n",
       "       'base', 'began', 'believ', 'bp', 'busi', 'capit', 'chart',\n",
       "       'citizen', 'cloth', 'comment', 'communiti', 'compact', 'compani',\n",
       "       'concentr', 'content', 'corpor', 'countri', 'cover', 'creat',\n",
       "       'custom', 'data', 'decemb', 'demand', 'divers', 'economi',\n",
       "       'effici', 'employ', 'energi', 'engin', 'environ', 'environment',\n",
       "       'ernst', 'europ', 'everyday', 'extern', 'filter', 'format',\n",
       "       'front', 'fuel', 'g4', 'gap', 'gas', 'generat', 'given', 'global',\n",
       "       'good', 'group', 'grow', 'guidanc', 'guidelin', 'health', 'heat',\n",
       "       'help', 'hse', 'human', 'identifi', 'imag', 'improv', 'includ',\n",
       "       'industri', 'influenc', 'inform', 'initi', 'integr', 'invest',\n",
       "       'ipieca', 'item', 'januari', 'joint', 'keep', 'labour', 'lead',\n",
       "       'light', 'long-term', 'lower', 'lower-carbon', 'lubric', 'make',\n",
       "       'market', 'meet', 'million', 'mix', 'move', 'need', 'north', 'oil',\n",
       "       'one', 'onshor', 'oper', 'overview', 'packag', 'paint', 'partner',\n",
       "       'past', 'peopl', 'perform', 'petrochem', 'portfolio', 'principl',\n",
       "       'product', 'project', 'promin', 'prove', 'provid', 'reason',\n",
       "       'remit', 'renew', 'report', 'reserv', 'respons', 'revenu', 'right',\n",
       "       'safe', 'safeti', 'see', 'seek', 'separ', 'sharehold', 'signific',\n",
       "       'six', 'south', 'span', 'strive', 'support', 'sustain', 'tax',\n",
       "       'technolog', 'tool', 'topic', 'transit', 'transport', 'un', 'us',\n",
       "       'use', 'valid', 'valu', 'varieti', 'ventur', 'view', 'way',\n",
       "       'well-establish', 'whose', 'work', 'world', 'world-class', 'year',\n",
       "       'young'], dtype='<U14')"
      ]
     },
     "execution_count": 32,
     "metadata": {},
     "output_type": "execute_result"
    }
   ],
   "source": [
    "text2tokens(description)"
   ]
  },
  {
   "cell_type": "markdown",
   "id": "09f16bde",
   "metadata": {},
   "source": [
    "# SBert"
   ]
  },
  {
   "cell_type": "markdown",
   "id": "3d34c788",
   "metadata": {},
   "source": [
    "## model='all-MiniLM-L6-v2'"
   ]
  },
  {
   "cell_type": "code",
   "execution_count": 37,
   "id": "38fda0f1",
   "metadata": {
    "ExecuteTime": {
     "end_time": "2024-05-10T12:50:08.356891Z",
     "start_time": "2024-05-10T12:50:05.307734Z"
    }
   },
   "outputs": [],
   "source": [
    "model = SentenceTransformer(\"all-MiniLM-L6-v2\")"
   ]
  },
  {
   "cell_type": "code",
   "execution_count": 43,
   "id": "01d9c626",
   "metadata": {
    "ExecuteTime": {
     "end_time": "2024-05-10T12:50:40.812937Z",
     "start_time": "2024-05-10T12:50:40.733562Z"
    }
   },
   "outputs": [],
   "source": [
    "sentence_embeddings = model.encode(description)"
   ]
  },
  {
   "cell_type": "markdown",
   "id": "1cfbc40d",
   "metadata": {},
   "source": [
    "## The importance of semantic"
   ]
  },
  {
   "cell_type": "code",
   "execution_count": 63,
   "id": "f490d744",
   "metadata": {
    "ExecuteTime": {
     "end_time": "2024-05-10T12:55:15.077363Z",
     "start_time": "2024-05-10T12:55:15.069657Z"
    }
   },
   "outputs": [],
   "source": [
    "def semantic_randomizer(text, text_embedding):\n",
    "    shuffled_text=text.split()\n",
    "    shuffled_text = np.random.permutation(shuffled_text)\n",
    "    shuffled_text= ' '.join(shuffled_text)\n",
    "    shuffled_embedding = model.encode(shuffled_text)\n",
    "    return util.cos_sim(shuffled_embedding,text_embedding)[0,0].tolist()"
   ]
  },
  {
   "cell_type": "code",
   "execution_count": 64,
   "id": "36b0a77d",
   "metadata": {
    "ExecuteTime": {
     "end_time": "2024-05-10T12:55:20.664196Z",
     "start_time": "2024-05-10T12:55:20.374770Z"
    }
   },
   "outputs": [
    {
     "data": {
      "text/plain": [
       "0.7892916202545166"
      ]
     },
     "execution_count": 64,
     "metadata": {},
     "output_type": "execute_result"
    }
   ],
   "source": [
    "semantic_randomizer(description, sentence_embeddings)"
   ]
  },
  {
   "cell_type": "code",
   "execution_count": 66,
   "id": "409e6821",
   "metadata": {
    "ExecuteTime": {
     "end_time": "2024-05-10T12:56:28.416237Z",
     "start_time": "2024-05-10T12:56:28.412663Z"
    }
   },
   "outputs": [],
   "source": [
    "n_sample=10**3"
   ]
  },
  {
   "cell_type": "code",
   "execution_count": 68,
   "id": "ee99c293",
   "metadata": {
    "ExecuteTime": {
     "end_time": "2024-05-10T12:56:57.027049Z",
     "start_time": "2024-05-10T12:56:38.290586Z"
    }
   },
   "outputs": [],
   "source": [
    "random_semantic=[semantic_randomizer(description, sentence_embeddings) for i in range(n_sample)]"
   ]
  },
  {
   "cell_type": "code",
   "execution_count": 80,
   "id": "b410aa6a",
   "metadata": {
    "ExecuteTime": {
     "end_time": "2024-05-10T13:09:21.397033Z",
     "start_time": "2024-05-10T13:09:21.265632Z"
    }
   },
   "outputs": [
    {
     "data": {
      "image/png": "[encoded data removed]",
      "text/plain": [
       "<Figure size 640x480 with 1 Axes>"
      ]
     },
     "metadata": {},
     "output_type": "display_data"
    }
   ],
   "source": [
    "plt.hist(random_semantic, label='randomization', color='darkcyan', edgecolor='k')\n",
    "plt.vlines(1, 0, 300, color='r', linestyle='-.')\n",
    "plt.ylim(0,280)\n",
    "plt.show()"
   ]
  },
  {
   "cell_type": "markdown",
   "id": "f9c64b4e",
   "metadata": {},
   "source": [
    "## Calculate the empirical p-value"
   ]
  },
  {
   "cell_type": "code",
   "execution_count": 108,
   "id": "d2c76415",
   "metadata": {
    "ExecuteTime": {
     "end_time": "2024-05-10T13:25:42.932345Z",
     "start_time": "2024-05-10T13:25:42.926328Z"
    }
   },
   "outputs": [],
   "source": [
    "from scipy.stats._continuous_distns import _distn_names\n",
    "import scipy.stats as st\n",
    "import warnings "
   ]
  },
  {
   "cell_type": "code",
   "execution_count": 167,
   "id": "4c84d2e3",
   "metadata": {
    "ExecuteTime": {
     "end_time": "2024-05-10T14:14:42.987545Z",
     "start_time": "2024-05-10T14:14:42.971214Z"
    }
   },
   "outputs": [],
   "source": [
    "def best_fit_distribution(data, bins=200):\n",
    "    \"\"\"Model data by finding best fit distribution to data\"\"\"\n",
    "    # Get histogram of original data\n",
    "    y, x = np.histogram(data, bins=bins, density=True)\n",
    "    x = (x + np.roll(x, -1))[:-1] / 2.0\n",
    "\n",
    "    # Best holders\n",
    "    best_distributions = []\n",
    "\n",
    "    # Estimate distribution parameters from data\n",
    "    for ii, distribution in enumerate([d for d in _distn_names if d not in ['levy_stable', 'studentized_range', 'nct2gamiceymmetric']]):\n",
    "        try:\n",
    "            print(\"{:>3} / {:<3}: {}\".format( ii+1, len(_distn_names), distribution ), end='\\r')\n",
    "\n",
    "            distribution = getattr(st, distribution)\n",
    "\n",
    "            # Try to fit the distribution\n",
    "        \n",
    "            # Ignore warnings from data that can't be fit\n",
    "            with warnings.catch_warnings():\n",
    "                warnings.filterwarnings('ignore')\n",
    "                \n",
    "                # fit dist to data\n",
    "                params = distribution.fit(data)\n",
    "\n",
    "                # Separate parts of parameters\n",
    "                arg = params[:-2]\n",
    "                loc = params[-2]\n",
    "                scale = params[-1]\n",
    "                \n",
    "                # Calculate fitted PDF and error with fit in distribution\n",
    "                pdf = distribution.pdf(x, loc=loc, scale=scale, *arg)\n",
    "                sse = np.sum((y - pdf)**2)\n",
    "                \n",
    "                # if axis pass in add to plot\n",
    "                #try:\n",
    "                #    if ax:\n",
    "                #        pd.Series(pdf, x).plot(ax=ax)\n",
    "                #    end\n",
    "                #except Exception:\n",
    "                #    pass\n",
    "\n",
    "                # identify if this distribution is better\n",
    "                best_distributions.append((distribution, params, sse))\n",
    "        \n",
    "        except Exception:\n",
    "            pass\n",
    "\n",
    "    \n",
    "    return sorted(best_distributions, key=lambda x:x[2])"
   ]
  },
  {
   "cell_type": "code",
   "execution_count": 168,
   "id": "8e12c142",
   "metadata": {
    "ExecuteTime": {
     "end_time": "2024-05-10T14:25:44.849427Z",
     "start_time": "2024-05-10T14:14:43.740260Z"
    }
   },
   "outputs": [
    {
     "name": "stdout",
     "output_type": "stream",
     "text": [
      "105 / 106: argusalballneetric\r"
     ]
    }
   ],
   "source": [
    "best_distibutions=best_fit_distribution(random_semantic)"
   ]
  },
  {
   "cell_type": "code",
   "execution_count": 169,
   "id": "565eaae0",
   "metadata": {
    "ExecuteTime": {
     "end_time": "2024-05-10T14:25:44.854439Z",
     "start_time": "2024-05-10T14:25:44.851698Z"
    }
   },
   "outputs": [],
   "source": [
    "best_dist = best_distibutions[0]"
   ]
  },
  {
   "cell_type": "code",
   "execution_count": 176,
   "id": "41127699",
   "metadata": {
    "ExecuteTime": {
     "end_time": "2024-05-10T15:03:17.477815Z",
     "start_time": "2024-05-10T15:03:17.461778Z"
    }
   },
   "outputs": [
    {
     "data": {
      "text/plain": [
       "(<scipy.stats._continuous_distns.mielke_gen at 0x7ff139e53cd0>,\n",
       " (4.465824939267456,\n",
       "  15.178386528449895,\n",
       "  0.5408595137587391,\n",
       "  0.24050036052310347),\n",
       " 618.4327458934176)"
      ]
     },
     "execution_count": 176,
     "metadata": {},
     "output_type": "execute_result"
    }
   ],
   "source": [
    "best_dist"
   ]
  },
  {
   "cell_type": "code",
   "execution_count": 175,
   "id": "b1f073c0",
   "metadata": {
    "ExecuteTime": {
     "end_time": "2024-05-10T14:26:35.629243Z",
     "start_time": "2024-05-10T14:26:35.611795Z"
    }
   },
   "outputs": [],
   "source": [
    "def make_pdf(dist, params, size=10000):\n",
    "    \"\"\"Generate distributions's Probability Distribution Function \"\"\"\n",
    "\n",
    "    # Separate parts of parameters\n",
    "    arg = params[:-2]\n",
    "    loc = params[-2]\n",
    "    scale = params[-1]\n",
    "\n",
    "    # Get sane start and end points of distribution\n",
    "    start = dist.ppf(10**-5, *arg, loc=loc, scale=scale) if arg else dist.ppf(10**-5, loc=loc, scale=scale)\n",
    "    end = dist.ppf(1-10**-5, *arg, loc=loc, scale=scale) if arg else dist.ppf(1-10**-5, loc=loc, scale=scale)\n",
    "\n",
    "    # Build PDF and turn into pandas Series\n",
    "    x = np.linspace(start, end, size)\n",
    "    y = dist.pdf(x, loc=loc, scale=scale, *arg)\n",
    "    \n",
    "\n",
    "    return x,y"
   ]
  },
  {
   "cell_type": "code",
   "execution_count": 171,
   "id": "5a16061b",
   "metadata": {
    "ExecuteTime": {
     "end_time": "2024-05-10T14:25:44.874975Z",
     "start_time": "2024-05-10T14:25:44.871089Z"
    }
   },
   "outputs": [],
   "source": [
    "def get_pvalue(x, dist, params):\n",
    "    \"\"\"Generate distributions's Probability Distribution Function \"\"\"\n",
    "\n",
    "    # Separate parts of parameters\n",
    "    arg = params[:-2]\n",
    "    loc = params[-2]\n",
    "    scale = params[-1]\n",
    "\n",
    "    # Get sane start and end points of distribution\n",
    "    p_val = dist.pdf(x, *arg, loc=loc, scale=scale) if arg else dist.ppf(x, loc=loc, scale=scale)\n",
    "    p_val += dist.sf(x, *arg, loc=loc, scale=scale) if arg else dist.ppf(x, loc=loc, scale=scale)\n",
    "    return p_val"
   ]
  },
  {
   "cell_type": "code",
   "execution_count": 172,
   "id": "f684611c",
   "metadata": {
    "ExecuteTime": {
     "end_time": "2024-05-10T14:25:44.881512Z",
     "start_time": "2024-05-10T14:25:44.876189Z"
    }
   },
   "outputs": [],
   "source": [
    "pdf = make_pdf(best_dist[0], best_dist[1])"
   ]
  },
  {
   "cell_type": "code",
   "execution_count": 173,
   "id": "514e374f",
   "metadata": {
    "ExecuteTime": {
     "end_time": "2024-05-10T14:25:44.886291Z",
     "start_time": "2024-05-10T14:25:44.882452Z"
    }
   },
   "outputs": [],
   "source": [
    "p_value=get_pvalue(1, best_dist[0], best_dist[1])"
   ]
  },
  {
   "cell_type": "code",
   "execution_count": 174,
   "id": "bed1fee7",
   "metadata": {
    "ExecuteTime": {
     "end_time": "2024-05-10T14:25:45.899642Z",
     "start_time": "2024-05-10T14:25:44.887618Z"
    }
   },
   "outputs": [
    {
     "data": {
      "image/png": "[encoded data removed]",
      "text/plain": [
       "<Figure size 640x480 with 1 Axes>"
      ]
     },
     "metadata": {},
     "output_type": "display_data"
    }
   ],
   "source": [
    "plt.hist(random_semantic, label='randomization', color='darkcyan', edgecolor='k', density=1)\n",
    "plt.vlines(1, 0, 11, color='r', linestyle='-.', label='p-value={:.2e}'.format(p_value))\n",
    "plt.plot(pdf[0], pdf[1], lw=2, label='fit', color='magenta')\n",
    "plt.ylim(0,11)\n",
    "plt.legend()\n",
    "plt.show()"
   ]
  },
  {
   "cell_type": "code",
   "execution_count": null,
   "id": "5bb60af1",
   "metadata": {},
   "outputs": [],
   "source": []
  }
 ],
 "metadata": {
  "kernelspec": {
   "display_name": "Python 3 (ipykernel)",
   "language": "python",
   "name": "python3"
  },
  "language_info": {
   "codemirror_mode": {
    "name": "ipython",
    "version": 3
   },
   "file_extension": ".py",
   "mimetype": "text/x-python",
   "name": "python",
   "nbconvert_exporter": "python",
   "pygments_lexer": "ipython3",
   "version": "3.8.19"
  },
  "notify_time": "5",
  "toc": {
   "base_numbering": 1,
   "nav_menu": {},
   "number_sections": true,
   "sideBar": true,
   "skip_h1_title": false,
   "title_cell": "Table of Contents",
   "title_sidebar": "Contents",
   "toc_cell": false,
   "toc_position": {
    "height": "calc(100% - 180px)",
    "left": "10px",
    "top": "150px",
    "width": "288px"
   },
   "toc_section_display": true,
   "toc_window_display": true
  },
  "varInspector": {
   "cols": {
    "lenName": 16,
    "lenType": 16,
    "lenVar": 40
   },
   "kernels_config": {
    "python": {
     "delete_cmd_postfix": "",
     "delete_cmd_prefix": "del ",
     "library": "var_list.py",
     "varRefreshCmd": "print(var_dic_list())"
    },
    "r": {
     "delete_cmd_postfix": ") ",
     "delete_cmd_prefix": "rm(",
     "library": "var_list.r",
     "varRefreshCmd": "cat(var_dic_list()) "
    }
   },
   "types_to_exclude": [
    "module",
    "function",
    "builtin_function_or_method",
    "instance",
    "_Feature"
   ],
   "window_display": false
  }
 },
 "nbformat": 4,
 "nbformat_minor": 5
}
