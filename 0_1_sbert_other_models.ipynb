{
 "cells": [
  {
   "cell_type": "markdown",
   "id": "a30b2355",
   "metadata": {
    "id": "c20e825d-6a00-4847-9892-ab631f2e59e3"
   },
   "source": [
    "# Intro"
   ]
  },
  {
   "cell_type": "markdown",
   "id": "13fc75a8",
   "metadata": {
    "id": "c20e825d-6a00-4847-9892-ab631f2e59e3"
   },
   "source": [
    "## Modules"
   ]
  },
  {
   "cell_type": "code",
   "execution_count": 1,
   "id": "2e5a6e04",
   "metadata": {
    "ExecuteTime": {
     "end_time": "2024-05-10T09:32:47.858133Z",
     "start_time": "2024-05-10T09:32:45.218675Z"
    },
    "colab": {
     "base_uri": "https://localhost:8080/",
     "height": 357
    },
    "executionInfo": {
     "elapsed": 24,
     "status": "error",
     "timestamp": 1712927428372,
     "user": {
      "displayName": "Paolo Barucca",
      "userId": "18080133380415036416"
     },
     "user_tz": -60
    },
    "id": "54328a15-701c-4397-80c5-91d03e54de8d",
    "outputId": "86e89cd2-f144-4117-81bf-822b7cfb07dc"
   },
   "outputs": [],
   "source": [
    "from sentence_transformers import SentenceTransformer\n",
    "from pypdf import PdfReader"
   ]
  },
  {
   "cell_type": "code",
   "execution_count": 2,
   "id": "a0deaf63",
   "metadata": {
    "ExecuteTime": {
     "end_time": "2024-05-10T09:32:47.861389Z",
     "start_time": "2024-05-10T09:32:47.859635Z"
    },
    "id": "dbd4f541-c8a0-4fcb-8475-6956f6f9fb0b"
   },
   "outputs": [],
   "source": [
    "from sklearn.metrics.pairwise import cosine_similarity"
   ]
  },
  {
   "cell_type": "markdown",
   "id": "826d563e",
   "metadata": {
    "id": "187c91a8-4e85-4403-b643-e10ef36b08bd"
   },
   "source": [
    "**The models can be found on https://www.sbert.net/ and on the original hugginface**"
   ]
  },
  {
   "cell_type": "markdown",
   "id": "2bf51a61",
   "metadata": {},
   "source": [
    "## Sentences"
   ]
  },
  {
   "cell_type": "code",
   "execution_count": 3,
   "id": "3068eba4",
   "metadata": {
    "ExecuteTime": {
     "end_time": "2024-05-10T09:32:47.863864Z",
     "start_time": "2024-05-10T09:32:47.862200Z"
    },
    "id": "b05af7a8-41dd-49e5-89a7-f0275e5433d0"
   },
   "outputs": [],
   "source": [
    "sentences = [\n",
    "    \"This framework generates embeddings for each input sentence\",\n",
    "    \"Sentences are passed as a list of string.\",\n",
    "    \"The quick brown fox jumps over the lazy dog.\",\n",
    "]"
   ]
  },
  {
   "cell_type": "markdown",
   "id": "90c2fb05",
   "metadata": {},
   "source": [
    "# all-MiniLM-L6-v2"
   ]
  },
  {
   "cell_type": "markdown",
   "id": "066c73d9",
   "metadata": {},
   "source": [
    "The standard."
   ]
  },
  {
   "cell_type": "markdown",
   "id": "e498aa2d",
   "metadata": {
    "heading_collapsed": true
   },
   "source": [
    "## Load"
   ]
  },
  {
   "cell_type": "code",
   "execution_count": 4,
   "id": "f1c99159",
   "metadata": {
    "ExecuteTime": {
     "end_time": "2024-05-10T09:32:50.919560Z",
     "start_time": "2024-05-10T09:32:47.865445Z"
    },
    "hidden": true,
    "id": "86006df8-6324-4d62-81cf-ac91c78cf212"
   },
   "outputs": [],
   "source": [
    "model = SentenceTransformer(\"all-MiniLM-L6-v2\")"
   ]
  },
  {
   "cell_type": "code",
   "execution_count": 5,
   "id": "2006fd96",
   "metadata": {
    "ExecuteTime": {
     "end_time": "2024-05-10T09:32:51.855120Z",
     "start_time": "2024-05-10T09:32:50.920953Z"
    },
    "hidden": true,
    "id": "b05af7a8-41dd-49e5-89a7-f0275e5433d0"
   },
   "outputs": [],
   "source": [
    "sentence_embeddings = model.encode(sentences)"
   ]
  },
  {
   "cell_type": "markdown",
   "id": "2de8c5d5",
   "metadata": {
    "heading_collapsed": true
   },
   "source": [
    "## Calculations"
   ]
  },
  {
   "cell_type": "markdown",
   "id": "28a31a49",
   "metadata": {
    "hidden": true,
    "id": "3550419f-7d5b-43de-bf01-4b6577f4c8ec"
   },
   "source": [
    "**Vectors should be reshaped with -1, 1 to get something like (384,1)**"
   ]
  },
  {
   "cell_type": "code",
   "execution_count": 6,
   "id": "890c5be8",
   "metadata": {
    "ExecuteTime": {
     "end_time": "2024-05-10T09:32:51.860003Z",
     "start_time": "2024-05-10T09:32:51.856252Z"
    },
    "hidden": true,
    "id": "bfe1f904-0229-4f40-8ba0-a748b11d171d",
    "outputId": "2bedb9d9-5453-4d0b-b796-0354f8cf1ded"
   },
   "outputs": [
    {
     "data": {
      "text/plain": [
       "(384, 1)"
      ]
     },
     "execution_count": 6,
     "metadata": {},
     "output_type": "execute_result"
    }
   ],
   "source": [
    "sentence_embeddings[0].reshape(-1,1).shape"
   ]
  },
  {
   "cell_type": "code",
   "execution_count": 7,
   "id": "01617bed",
   "metadata": {
    "ExecuteTime": {
     "end_time": "2024-05-10T09:32:51.863531Z",
     "start_time": "2024-05-10T09:32:51.860984Z"
    },
    "hidden": true,
    "id": "404cfc3a-4ed5-4f23-815d-6d937f15af5f"
   },
   "outputs": [],
   "source": [
    "simlarity = cosine_similarity(sentence_embeddings[0].reshape(1,-1),sentence_embeddings[1].reshape(1,-1))[0][0]"
   ]
  },
  {
   "cell_type": "code",
   "execution_count": 8,
   "id": "92259927",
   "metadata": {
    "ExecuteTime": {
     "end_time": "2024-05-10T09:32:51.868211Z",
     "start_time": "2024-05-10T09:32:51.864482Z"
    },
    "hidden": true,
    "id": "23888079-6c62-40b0-9107-e8f13476cbb4"
   },
   "outputs": [],
   "source": [
    "simlarity2 = cosine_similarity(sentence_embeddings[0].reshape(1,-1),sentence_embeddings[2].reshape(1,-1))[0][0]"
   ]
  },
  {
   "cell_type": "markdown",
   "id": "4df45125",
   "metadata": {},
   "source": [
    "## Final result"
   ]
  },
  {
   "cell_type": "code",
   "execution_count": 9,
   "id": "e7650895",
   "metadata": {
    "ExecuteTime": {
     "end_time": "2024-05-10T09:32:51.872555Z",
     "start_time": "2024-05-10T09:32:51.869315Z"
    },
    "id": "dbc85801-aaf5-4363-9738-3d2ec5a86d74",
    "outputId": "5bba60c5-9d53-4011-ab92-d565d89a47fb"
   },
   "outputs": [
    {
     "name": "stdout",
     "output_type": "stream",
     "text": [
      "This framework generates embeddings for each input sentence :::: Sentences are passed as a list of string. \n",
      "SIM_LEVEL 0.53807926\n"
     ]
    }
   ],
   "source": [
    "print(sentences[0], \"::::\", sentences[1], \"\\nSIM_LEVEL\" , simlarity)"
   ]
  },
  {
   "cell_type": "code",
   "execution_count": 10,
   "id": "6831eebb",
   "metadata": {
    "ExecuteTime": {
     "end_time": "2024-05-10T09:32:51.878071Z",
     "start_time": "2024-05-10T09:32:51.875810Z"
    },
    "id": "7a8e5938-4746-433e-b71b-cd495100c68d",
    "outputId": "58edd716-fc07-4509-8669-22108571f5eb"
   },
   "outputs": [
    {
     "name": "stdout",
     "output_type": "stream",
     "text": [
      "This framework generates embeddings for each input sentence :::: The quick brown fox jumps over the lazy dog. \n",
      "SIM_LEVEL 0.11805622\n"
     ]
    }
   ],
   "source": [
    "print(sentences[0], \"::::\", sentences[2], \"\\nSIM_LEVEL\" , simlarity2)"
   ]
  },
  {
   "cell_type": "markdown",
   "id": "3e4ae457",
   "metadata": {
    "heading_collapsed": true
   },
   "source": [
    "# distilbert-multilingual-nli-stsb-quora-ranking"
   ]
  },
  {
   "cell_type": "markdown",
   "id": "8cf9d5bf",
   "metadata": {
    "hidden": true
   },
   "source": [
    "Change model. Probably this is not the correct one since it is:  \n",
    "1. multilingual;\n",
    "2. based on questions/answers, i.e. more intended to predict the answer to a question."
   ]
  },
  {
   "cell_type": "markdown",
   "id": "d042d4e1",
   "metadata": {
    "heading_collapsed": true,
    "hidden": true
   },
   "source": [
    "## Load"
   ]
  },
  {
   "cell_type": "code",
   "execution_count": 11,
   "id": "c3ec8a82",
   "metadata": {
    "ExecuteTime": {
     "end_time": "2024-05-10T09:32:54.357448Z",
     "start_time": "2024-05-10T09:32:51.879037Z"
    },
    "hidden": true,
    "id": "86006df8-6324-4d62-81cf-ac91c78cf212"
   },
   "outputs": [],
   "source": [
    "model = SentenceTransformer(\"distilbert-multilingual-nli-stsb-quora-ranking\")"
   ]
  },
  {
   "cell_type": "code",
   "execution_count": 12,
   "id": "7d399c6a",
   "metadata": {
    "ExecuteTime": {
     "end_time": "2024-05-10T09:32:55.765673Z",
     "start_time": "2024-05-10T09:32:54.358736Z"
    },
    "hidden": true
   },
   "outputs": [],
   "source": [
    "sentence_embeddings = model.encode(sentences)"
   ]
  },
  {
   "cell_type": "markdown",
   "id": "f1f1e328",
   "metadata": {
    "heading_collapsed": true,
    "hidden": true
   },
   "source": [
    "## Calculations"
   ]
  },
  {
   "cell_type": "code",
   "execution_count": 13,
   "id": "44f3d402",
   "metadata": {
    "ExecuteTime": {
     "end_time": "2024-05-10T09:32:55.769269Z",
     "start_time": "2024-05-10T09:32:55.766622Z"
    },
    "hidden": true,
    "id": "bfe1f904-0229-4f40-8ba0-a748b11d171d",
    "outputId": "2bedb9d9-5453-4d0b-b796-0354f8cf1ded"
   },
   "outputs": [
    {
     "data": {
      "text/plain": [
       "(768, 1)"
      ]
     },
     "execution_count": 13,
     "metadata": {},
     "output_type": "execute_result"
    }
   ],
   "source": [
    "sentence_embeddings[0].reshape(-1,1).shape"
   ]
  },
  {
   "cell_type": "code",
   "execution_count": 14,
   "id": "7b16d91e",
   "metadata": {
    "ExecuteTime": {
     "end_time": "2024-05-10T09:32:55.772582Z",
     "start_time": "2024-05-10T09:32:55.770267Z"
    },
    "hidden": true,
    "id": "404cfc3a-4ed5-4f23-815d-6d937f15af5f"
   },
   "outputs": [],
   "source": [
    "simlarity = cosine_similarity(sentence_embeddings[0].reshape(1,-1),sentence_embeddings[1].reshape(1,-1))[0][0]"
   ]
  },
  {
   "cell_type": "code",
   "execution_count": 15,
   "id": "6c0ae15f",
   "metadata": {
    "ExecuteTime": {
     "end_time": "2024-05-10T09:32:55.777046Z",
     "start_time": "2024-05-10T09:32:55.773489Z"
    },
    "hidden": true,
    "id": "23888079-6c62-40b0-9107-e8f13476cbb4"
   },
   "outputs": [],
   "source": [
    "simlarity2 = cosine_similarity(sentence_embeddings[0].reshape(1,-1),sentence_embeddings[2].reshape(1,-1))[0][0]"
   ]
  },
  {
   "cell_type": "markdown",
   "id": "c6a1ab98",
   "metadata": {
    "hidden": true
   },
   "source": [
    "## Final result"
   ]
  },
  {
   "cell_type": "code",
   "execution_count": 16,
   "id": "b48d95a0",
   "metadata": {
    "ExecuteTime": {
     "end_time": "2024-05-10T09:32:55.786649Z",
     "start_time": "2024-05-10T09:32:55.778311Z"
    },
    "hidden": true,
    "id": "dbc85801-aaf5-4363-9738-3d2ec5a86d74",
    "outputId": "5bba60c5-9d53-4011-ab92-d565d89a47fb"
   },
   "outputs": [
    {
     "name": "stdout",
     "output_type": "stream",
     "text": [
      "This framework generates embeddings for each input sentence :::: Sentences are passed as a list of string. \n",
      "SIM_LEVEL 0.7918707\n"
     ]
    }
   ],
   "source": [
    "print(sentences[0], \"::::\", sentences[1], \"\\nSIM_LEVEL\" , simlarity)"
   ]
  },
  {
   "cell_type": "code",
   "execution_count": 17,
   "id": "7fb2f662",
   "metadata": {
    "ExecuteTime": {
     "end_time": "2024-05-10T09:32:55.791109Z",
     "start_time": "2024-05-10T09:32:55.788065Z"
    },
    "hidden": true,
    "id": "7a8e5938-4746-433e-b71b-cd495100c68d",
    "outputId": "58edd716-fc07-4509-8669-22108571f5eb"
   },
   "outputs": [
    {
     "name": "stdout",
     "output_type": "stream",
     "text": [
      "This framework generates embeddings for each input sentence :::: The quick brown fox jumps over the lazy dog. \n",
      "SIM_LEVEL 0.5909195\n"
     ]
    }
   ],
   "source": [
    "print(sentences[0], \"::::\", sentences[2], \"\\nSIM_LEVEL\" , simlarity2)"
   ]
  },
  {
   "cell_type": "markdown",
   "id": "068465e6",
   "metadata": {
    "hidden": true,
    "id": "a70f9198-cfe9-45b9-bf0c-89a9c2e90785"
   },
   "source": [
    "The mode is relevant!"
   ]
  },
  {
   "cell_type": "markdown",
   "id": "73bde891",
   "metadata": {
    "heading_collapsed": true
   },
   "source": [
    "# all-mpnet-base-v2"
   ]
  },
  {
   "cell_type": "markdown",
   "id": "343ba43e",
   "metadata": {
    "hidden": true
   },
   "source": [
    "According to SentenceTransformer, it should be the best performing BERT induced model. Nevertheless it is slower and occupy more memory than \"all-MiniLM-L6-v2\"."
   ]
  },
  {
   "cell_type": "markdown",
   "id": "df1c6ba7",
   "metadata": {
    "heading_collapsed": true,
    "hidden": true
   },
   "source": [
    "## Load"
   ]
  },
  {
   "cell_type": "code",
   "execution_count": 18,
   "id": "a104a055",
   "metadata": {
    "ExecuteTime": {
     "end_time": "2024-05-10T09:32:57.992630Z",
     "start_time": "2024-05-10T09:32:55.792314Z"
    },
    "hidden": true,
    "id": "86006df8-6324-4d62-81cf-ac91c78cf212"
   },
   "outputs": [],
   "source": [
    "model = SentenceTransformer(\"all-mpnet-base-v2\")"
   ]
  },
  {
   "cell_type": "code",
   "execution_count": 19,
   "id": "c3c58e01",
   "metadata": {
    "ExecuteTime": {
     "end_time": "2024-05-10T09:33:00.365354Z",
     "start_time": "2024-05-10T09:32:57.993954Z"
    },
    "hidden": true
   },
   "outputs": [],
   "source": [
    "sentence_embeddings = model.encode(sentences)"
   ]
  },
  {
   "cell_type": "markdown",
   "id": "321de9b5",
   "metadata": {
    "heading_collapsed": true,
    "hidden": true
   },
   "source": [
    "## Calculations"
   ]
  },
  {
   "cell_type": "code",
   "execution_count": 20,
   "id": "83aa7b3a",
   "metadata": {
    "ExecuteTime": {
     "end_time": "2024-05-10T09:33:00.369042Z",
     "start_time": "2024-05-10T09:33:00.366221Z"
    },
    "hidden": true,
    "id": "bfe1f904-0229-4f40-8ba0-a748b11d171d",
    "outputId": "2bedb9d9-5453-4d0b-b796-0354f8cf1ded"
   },
   "outputs": [
    {
     "data": {
      "text/plain": [
       "(768, 1)"
      ]
     },
     "execution_count": 20,
     "metadata": {},
     "output_type": "execute_result"
    }
   ],
   "source": [
    "sentence_embeddings[0].reshape(-1,1).shape"
   ]
  },
  {
   "cell_type": "code",
   "execution_count": 21,
   "id": "2d019415",
   "metadata": {
    "ExecuteTime": {
     "end_time": "2024-05-10T09:33:00.372704Z",
     "start_time": "2024-05-10T09:33:00.369899Z"
    },
    "hidden": true,
    "id": "404cfc3a-4ed5-4f23-815d-6d937f15af5f"
   },
   "outputs": [],
   "source": [
    "simlarity = cosine_similarity(sentence_embeddings[0].reshape(1,-1),sentence_embeddings[1].reshape(1,-1))[0][0]"
   ]
  },
  {
   "cell_type": "code",
   "execution_count": 22,
   "id": "9fed87ca",
   "metadata": {
    "ExecuteTime": {
     "end_time": "2024-05-10T09:33:00.376728Z",
     "start_time": "2024-05-10T09:33:00.373637Z"
    },
    "hidden": true,
    "id": "23888079-6c62-40b0-9107-e8f13476cbb4"
   },
   "outputs": [],
   "source": [
    "simlarity2 = cosine_similarity(sentence_embeddings[0].reshape(1,-1),sentence_embeddings[2].reshape(1,-1))[0][0]"
   ]
  },
  {
   "cell_type": "markdown",
   "id": "b92be69c",
   "metadata": {
    "hidden": true
   },
   "source": [
    "## Final result"
   ]
  },
  {
   "cell_type": "code",
   "execution_count": 23,
   "id": "2631b471",
   "metadata": {
    "ExecuteTime": {
     "end_time": "2024-05-10T09:33:00.384011Z",
     "start_time": "2024-05-10T09:33:00.380678Z"
    },
    "hidden": true,
    "id": "dbc85801-aaf5-4363-9738-3d2ec5a86d74",
    "outputId": "5bba60c5-9d53-4011-ab92-d565d89a47fb"
   },
   "outputs": [
    {
     "name": "stdout",
     "output_type": "stream",
     "text": [
      "This framework generates embeddings for each input sentence :::: Sentences are passed as a list of string. \n",
      "SIM_LEVEL 0.51263994\n"
     ]
    }
   ],
   "source": [
    "print(sentences[0], \"::::\", sentences[1], \"\\nSIM_LEVEL\" , simlarity)"
   ]
  },
  {
   "cell_type": "code",
   "execution_count": 24,
   "id": "a1021a59",
   "metadata": {
    "ExecuteTime": {
     "end_time": "2024-05-10T09:33:00.387996Z",
     "start_time": "2024-05-10T09:33:00.385725Z"
    },
    "hidden": true,
    "id": "7a8e5938-4746-433e-b71b-cd495100c68d",
    "outputId": "58edd716-fc07-4509-8669-22108571f5eb"
   },
   "outputs": [
    {
     "name": "stdout",
     "output_type": "stream",
     "text": [
      "This framework generates embeddings for each input sentence :::: The quick brown fox jumps over the lazy dog. \n",
      "SIM_LEVEL 0.09748442\n"
     ]
    }
   ],
   "source": [
    "print(sentences[0], \"::::\", sentences[2], \"\\nSIM_LEVEL\" , simlarity2)"
   ]
  },
  {
   "cell_type": "markdown",
   "id": "ba7d8518",
   "metadata": {
    "heading_collapsed": true
   },
   "source": [
    "# all-MiniLM-L12-v2"
   ]
  },
  {
   "cell_type": "markdown",
   "id": "771c6a7c",
   "metadata": {
    "hidden": true
   },
   "source": [
    "The new version of the standard: better, but a little slower."
   ]
  },
  {
   "cell_type": "markdown",
   "id": "b7d99462",
   "metadata": {
    "hidden": true
   },
   "source": [
    "## Load"
   ]
  },
  {
   "cell_type": "code",
   "execution_count": 25,
   "id": "cf75ab81",
   "metadata": {
    "ExecuteTime": {
     "end_time": "2024-05-10T09:33:02.160592Z",
     "start_time": "2024-05-10T09:33:00.389399Z"
    },
    "hidden": true,
    "id": "86006df8-6324-4d62-81cf-ac91c78cf212"
   },
   "outputs": [],
   "source": [
    "model = SentenceTransformer(\"all-MiniLM-L12-v2\")"
   ]
  },
  {
   "cell_type": "code",
   "execution_count": 26,
   "id": "ccb1c374",
   "metadata": {
    "ExecuteTime": {
     "end_time": "2024-05-10T09:33:02.212856Z",
     "start_time": "2024-05-10T09:33:02.162759Z"
    },
    "hidden": true,
    "id": "b05af7a8-41dd-49e5-89a7-f0275e5433d0"
   },
   "outputs": [],
   "source": [
    "sentence_embeddings = model.encode(sentences)"
   ]
  },
  {
   "cell_type": "markdown",
   "id": "f8ea3a72",
   "metadata": {
    "heading_collapsed": true,
    "hidden": true
   },
   "source": [
    "## Calculations"
   ]
  },
  {
   "cell_type": "code",
   "execution_count": 27,
   "id": "270d0e03",
   "metadata": {
    "ExecuteTime": {
     "end_time": "2024-05-10T09:33:02.216640Z",
     "start_time": "2024-05-10T09:33:02.213788Z"
    },
    "hidden": true,
    "id": "bfe1f904-0229-4f40-8ba0-a748b11d171d",
    "outputId": "2bedb9d9-5453-4d0b-b796-0354f8cf1ded"
   },
   "outputs": [
    {
     "data": {
      "text/plain": [
       "(384, 1)"
      ]
     },
     "execution_count": 27,
     "metadata": {},
     "output_type": "execute_result"
    }
   ],
   "source": [
    "sentence_embeddings[0].reshape(-1,1).shape"
   ]
  },
  {
   "cell_type": "code",
   "execution_count": 28,
   "id": "cd7040be",
   "metadata": {
    "ExecuteTime": {
     "end_time": "2024-05-10T09:33:02.223847Z",
     "start_time": "2024-05-10T09:33:02.221514Z"
    },
    "hidden": true,
    "id": "404cfc3a-4ed5-4f23-815d-6d937f15af5f"
   },
   "outputs": [],
   "source": [
    "simlarity = cosine_similarity(sentence_embeddings[0].reshape(1,-1),sentence_embeddings[1].reshape(1,-1))[0][0]"
   ]
  },
  {
   "cell_type": "code",
   "execution_count": 29,
   "id": "7b27698b",
   "metadata": {
    "ExecuteTime": {
     "end_time": "2024-05-10T09:33:02.227205Z",
     "start_time": "2024-05-10T09:33:02.224934Z"
    },
    "hidden": true,
    "id": "23888079-6c62-40b0-9107-e8f13476cbb4"
   },
   "outputs": [],
   "source": [
    "simlarity2 = cosine_similarity(sentence_embeddings[0].reshape(1,-1),sentence_embeddings[2].reshape(1,-1))[0][0]"
   ]
  },
  {
   "cell_type": "markdown",
   "id": "6340c408",
   "metadata": {
    "heading_collapsed": true,
    "hidden": true
   },
   "source": [
    "## Final result"
   ]
  },
  {
   "cell_type": "code",
   "execution_count": 30,
   "id": "75b72de9",
   "metadata": {
    "ExecuteTime": {
     "end_time": "2024-05-10T09:33:02.230510Z",
     "start_time": "2024-05-10T09:33:02.228249Z"
    },
    "hidden": true,
    "id": "dbc85801-aaf5-4363-9738-3d2ec5a86d74",
    "outputId": "5bba60c5-9d53-4011-ab92-d565d89a47fb"
   },
   "outputs": [
    {
     "name": "stdout",
     "output_type": "stream",
     "text": [
      "This framework generates embeddings for each input sentence :::: Sentences are passed as a list of string. \n",
      "SIM_LEVEL 0.4799481\n"
     ]
    }
   ],
   "source": [
    "print(sentences[0], \"::::\", sentences[1], \"\\nSIM_LEVEL\" , simlarity)"
   ]
  },
  {
   "cell_type": "code",
   "execution_count": 31,
   "id": "256cb2c5",
   "metadata": {
    "ExecuteTime": {
     "end_time": "2024-05-10T09:33:02.233671Z",
     "start_time": "2024-05-10T09:33:02.231486Z"
    },
    "hidden": true,
    "id": "7a8e5938-4746-433e-b71b-cd495100c68d",
    "outputId": "58edd716-fc07-4509-8669-22108571f5eb"
   },
   "outputs": [
    {
     "name": "stdout",
     "output_type": "stream",
     "text": [
      "This framework generates embeddings for each input sentence :::: The quick brown fox jumps over the lazy dog. \n",
      "SIM_LEVEL -0.01075776\n"
     ]
    }
   ],
   "source": [
    "print(sentences[0], \"::::\", sentences[2], \"\\nSIM_LEVEL\" , simlarity2)"
   ]
  },
  {
   "cell_type": "markdown",
   "id": "7baba9dc",
   "metadata": {
    "heading_collapsed": true
   },
   "source": [
    "# all-mpnet-base-v1"
   ]
  },
  {
   "cell_type": "markdown",
   "id": "2e5c884c",
   "metadata": {
    "hidden": true
   },
   "source": [
    "The model The Man does not want us to see o.O"
   ]
  },
  {
   "cell_type": "markdown",
   "id": "f71dbd85",
   "metadata": {
    "heading_collapsed": true,
    "hidden": true
   },
   "source": [
    "## Load"
   ]
  },
  {
   "cell_type": "code",
   "execution_count": 32,
   "id": "55a2d2d5",
   "metadata": {
    "ExecuteTime": {
     "end_time": "2024-05-10T09:33:04.581261Z",
     "start_time": "2024-05-10T09:33:02.235395Z"
    },
    "hidden": true,
    "id": "86006df8-6324-4d62-81cf-ac91c78cf212"
   },
   "outputs": [],
   "source": [
    "model = SentenceTransformer(\"all-mpnet-base-v1\")"
   ]
  },
  {
   "cell_type": "code",
   "execution_count": 33,
   "id": "4bba9f1d",
   "metadata": {
    "ExecuteTime": {
     "end_time": "2024-05-10T09:33:04.625643Z",
     "start_time": "2024-05-10T09:33:04.582330Z"
    },
    "hidden": true,
    "id": "b05af7a8-41dd-49e5-89a7-f0275e5433d0"
   },
   "outputs": [],
   "source": [
    "sentence_embeddings = model.encode(sentences)"
   ]
  },
  {
   "cell_type": "markdown",
   "id": "38b3518d",
   "metadata": {
    "heading_collapsed": true,
    "hidden": true
   },
   "source": [
    "## Calculations"
   ]
  },
  {
   "cell_type": "code",
   "execution_count": 34,
   "id": "e1b2048e",
   "metadata": {
    "ExecuteTime": {
     "end_time": "2024-05-10T09:33:04.629268Z",
     "start_time": "2024-05-10T09:33:04.626535Z"
    },
    "hidden": true,
    "id": "bfe1f904-0229-4f40-8ba0-a748b11d171d",
    "outputId": "2bedb9d9-5453-4d0b-b796-0354f8cf1ded"
   },
   "outputs": [
    {
     "data": {
      "text/plain": [
       "(768, 1)"
      ]
     },
     "execution_count": 34,
     "metadata": {},
     "output_type": "execute_result"
    }
   ],
   "source": [
    "sentence_embeddings[0].reshape(-1,1).shape"
   ]
  },
  {
   "cell_type": "code",
   "execution_count": 35,
   "id": "f5760376",
   "metadata": {
    "ExecuteTime": {
     "end_time": "2024-05-10T09:33:04.632645Z",
     "start_time": "2024-05-10T09:33:04.630143Z"
    },
    "hidden": true,
    "id": "404cfc3a-4ed5-4f23-815d-6d937f15af5f"
   },
   "outputs": [],
   "source": [
    "simlarity = cosine_similarity(sentence_embeddings[0].reshape(1,-1),sentence_embeddings[1].reshape(1,-1))[0][0]"
   ]
  },
  {
   "cell_type": "code",
   "execution_count": 36,
   "id": "d5767b72",
   "metadata": {
    "ExecuteTime": {
     "end_time": "2024-05-10T09:33:04.636346Z",
     "start_time": "2024-05-10T09:33:04.633686Z"
    },
    "hidden": true,
    "id": "23888079-6c62-40b0-9107-e8f13476cbb4"
   },
   "outputs": [],
   "source": [
    "simlarity2 = cosine_similarity(sentence_embeddings[0].reshape(1,-1),sentence_embeddings[2].reshape(1,-1))[0][0]"
   ]
  },
  {
   "cell_type": "markdown",
   "id": "96d42b8b",
   "metadata": {
    "hidden": true
   },
   "source": [
    "## Final result"
   ]
  },
  {
   "cell_type": "code",
   "execution_count": 37,
   "id": "09f84156",
   "metadata": {
    "ExecuteTime": {
     "end_time": "2024-05-10T09:33:04.640226Z",
     "start_time": "2024-05-10T09:33:04.637468Z"
    },
    "hidden": true,
    "id": "dbc85801-aaf5-4363-9738-3d2ec5a86d74",
    "outputId": "5bba60c5-9d53-4011-ab92-d565d89a47fb"
   },
   "outputs": [
    {
     "name": "stdout",
     "output_type": "stream",
     "text": [
      "This framework generates embeddings for each input sentence :::: Sentences are passed as a list of string. \n",
      "SIM_LEVEL 0.3705439\n"
     ]
    }
   ],
   "source": [
    "print(sentences[0], \"::::\", sentences[1], \"\\nSIM_LEVEL\" , simlarity)"
   ]
  },
  {
   "cell_type": "code",
   "execution_count": 38,
   "id": "cf6b9559",
   "metadata": {
    "ExecuteTime": {
     "end_time": "2024-05-10T09:33:04.644527Z",
     "start_time": "2024-05-10T09:33:04.641976Z"
    },
    "hidden": true,
    "id": "7a8e5938-4746-433e-b71b-cd495100c68d",
    "outputId": "58edd716-fc07-4509-8669-22108571f5eb"
   },
   "outputs": [
    {
     "name": "stdout",
     "output_type": "stream",
     "text": [
      "This framework generates embeddings for each input sentence :::: The quick brown fox jumps over the lazy dog. \n",
      "SIM_LEVEL 0.12739469\n"
     ]
    }
   ],
   "source": [
    "print(sentences[0], \"::::\", sentences[2], \"\\nSIM_LEVEL\" , simlarity2)"
   ]
  },
  {
   "cell_type": "markdown",
   "id": "0ea470de",
   "metadata": {},
   "source": [
    "# So ...?"
   ]
  },
  {
   "cell_type": "markdown",
   "id": "fb181b02",
   "metadata": {},
   "source": [
    "So…nasega. What should be better? Why? What is the ground truth? How can we decide which has the best performances? The values [here](https://www.sbert.net/docs/pretrained_models.html) are almost meaningless and even wrongly considered (you cannot average \"easily\" between averages taken on sample of different dimensions), I would humbly say. So what? How to choose? Is Puliga's choice an added value _per sè_ or vice versa?"
   ]
  },
  {
   "cell_type": "markdown",
   "id": "db4f84c5",
   "metadata": {},
   "source": [
    "| Model  | 0 vs 1 | 0 vs 2 |\n",
    "|:--------|--------|--------|\n",
    "|all-MiniLM-L6-v2|0.538|0.118|\n",
    "|distilbert-multilingual-nli-stsb-quora-ranking|0.792|0.591|\n",
    "|all-mpnet-base-v2|0.513|0.097|\n",
    "|all-MiniLM-L12-v2|0.480|-0.011|\n",
    "|all-mpnet-base-v1|0.370|0.127|\n"
   ]
  },
  {
   "cell_type": "code",
   "execution_count": 44,
   "id": "2fd2a966",
   "metadata": {
    "ExecuteTime": {
     "end_time": "2024-05-10T09:47:45.198107Z",
     "start_time": "2024-05-10T09:47:45.191365Z"
    }
   },
   "outputs": [],
   "source": [
    "    perf_models={\n",
    "'minil6':[0.538, 0.118],\n",
    "'dist':[0.792, 0.591],\n",
    "'mpnetv2':[0.513, 0.097],\n",
    "'minil12':[0.480, -0.011],\n",
    "'mpnetv1':[0.370, 0.127]\n",
    "    }"
   ]
  },
  {
   "cell_type": "markdown",
   "id": "7618a355",
   "metadata": {},
   "source": [
    "If we consider (why?) the ground truth as *all-mpnet-base-v2*, then the relative errors made by the different mode are:"
   ]
  },
  {
   "cell_type": "code",
   "execution_count": 40,
   "id": "1dc65074",
   "metadata": {
    "ExecuteTime": {
     "end_time": "2024-05-10T09:46:29.275761Z",
     "start_time": "2024-05-10T09:46:29.269511Z"
    }
   },
   "outputs": [],
   "source": [
    "def rel_err(value, realv):\n",
    "    return abs(value-realv)/realv"
   ]
  },
  {
   "cell_type": "code",
   "execution_count": 55,
   "id": "6e448978",
   "metadata": {
    "ExecuteTime": {
     "end_time": "2024-05-10T09:52:16.266672Z",
     "start_time": "2024-05-10T09:52:16.257609Z"
    }
   },
   "outputs": [
    {
     "name": "stdout",
     "output_type": "stream",
     "text": [
      "---------------------------\n",
      "minil6 ) 0 vs 0 RE=0.049\n",
      "dist   ) 0 vs 0 RE=0.544\n",
      "minil12) 0 vs 0 RE=0.064\n",
      "mpnetv1) 0 vs 0 RE=0.279\n",
      "---------------------------\n",
      "minil6 ) 0 vs 1 RE=0.216\n",
      "dist   ) 0 vs 1 RE=5.093\n",
      "minil12) 0 vs 1 RE=1.113\n",
      "mpnetv1) 0 vs 1 RE=0.309\n"
     ]
    }
   ],
   "source": [
    "for i in range(2):\n",
    "    print('---------------------------')\n",
    "    for key in perf_models.keys():\n",
    "        if key !='mpnetv2':\n",
    "            re=rel_err(perf_models[key][i], perf_models['mpnetv2'][i])\n",
    "            print('{:7}) 0 vs {:} RE={:.3f}'.format(key, i, re))"
   ]
  },
  {
   "cell_type": "markdown",
   "id": "deacc1d0",
   "metadata": {},
   "source": [
    "mini-L6 seems to be effectively the best performing, against the benchmark. It should be considered since it is particularly fast and light weighted."
   ]
  },
  {
   "cell_type": "code",
   "execution_count": null,
   "id": "df2e4129",
   "metadata": {},
   "outputs": [],
   "source": []
  }
 ],
 "metadata": {
  "colab": {
   "provenance": []
  },
  "kernelspec": {
   "display_name": "Python 3 (ipykernel)",
   "language": "python",
   "name": "python3"
  },
  "language_info": {
   "codemirror_mode": {
    "name": "ipython",
    "version": 3
   },
   "file_extension": ".py",
   "mimetype": "text/x-python",
   "name": "python",
   "nbconvert_exporter": "python",
   "pygments_lexer": "ipython3",
   "version": "3.8.19"
  },
  "notify_time": "5",
  "toc": {
   "base_numbering": 1,
   "nav_menu": {},
   "number_sections": true,
   "sideBar": true,
   "skip_h1_title": false,
   "title_cell": "Table of Contents",
   "title_sidebar": "Contents",
   "toc_cell": false,
   "toc_position": {
    "height": "calc(100% - 180px)",
    "left": "10px",
    "top": "150px",
    "width": "288px"
   },
   "toc_section_display": true,
   "toc_window_display": true
  },
  "varInspector": {
   "cols": {
    "lenName": 16,
    "lenType": 16,
    "lenVar": 40
   },
   "kernels_config": {
    "python": {
     "delete_cmd_postfix": "",
     "delete_cmd_prefix": "del ",
     "library": "var_list.py",
     "varRefreshCmd": "print(var_dic_list())"
    },
    "r": {
     "delete_cmd_postfix": ") ",
     "delete_cmd_prefix": "rm(",
     "library": "var_list.r",
     "varRefreshCmd": "cat(var_dic_list()) "
    }
   },
   "types_to_exclude": [
    "module",
    "function",
    "builtin_function_or_method",
    "instance",
    "_Feature"
   ],
   "window_display": false
  }
 },
 "nbformat": 4,
 "nbformat_minor": 5
}
