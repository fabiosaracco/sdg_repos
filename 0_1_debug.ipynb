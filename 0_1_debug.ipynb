{
 "cells": [
  {
   "cell_type": "markdown",
   "id": "bdfde4e3",
   "metadata": {},
   "source": [
    "# Intro"
   ]
  },
  {
   "cell_type": "code",
   "execution_count": 1,
   "id": "6e8db3b9",
   "metadata": {
    "ExecuteTime": {
     "end_time": "2024-05-13T08:33:57.441155Z",
     "start_time": "2024-05-13T08:33:57.422566Z"
    }
   },
   "outputs": [],
   "source": [
    "import os, sys"
   ]
  },
  {
   "cell_type": "markdown",
   "id": "a1c5299b",
   "metadata": {
    "heading_collapsed": true
   },
   "source": [
    "# Debug ppp"
   ]
  },
  {
   "cell_type": "code",
   "execution_count": 2,
   "id": "32eaa05d",
   "metadata": {
    "ExecuteTime": {
     "end_time": "2024-05-10T14:51:53.851635Z",
     "start_time": "2024-05-10T14:51:53.805757Z"
    },
    "hidden": true
   },
   "outputs": [],
   "source": [
    "from ppp import ppp"
   ]
  },
  {
   "cell_type": "code",
   "execution_count": 3,
   "id": "a2919826",
   "metadata": {
    "ExecuteTime": {
     "end_time": "2024-05-10T14:51:53.855016Z",
     "start_time": "2024-05-10T14:51:53.852982Z"
    },
    "hidden": true
   },
   "outputs": [],
   "source": [
    "reports_folder='./reports/'\n",
    "bp='5_BP_PLC/'"
   ]
  },
  {
   "cell_type": "code",
   "execution_count": 4,
   "id": "fac71784",
   "metadata": {
    "ExecuteTime": {
     "end_time": "2024-05-10T14:51:53.858548Z",
     "start_time": "2024-05-10T14:51:53.856125Z"
    },
    "hidden": true
   },
   "outputs": [],
   "source": [
    "bp_files=os.listdir(reports_folder+bp)\n",
    "bp_files.sort()"
   ]
  },
  {
   "cell_type": "code",
   "execution_count": 5,
   "id": "956e2370",
   "metadata": {
    "ExecuteTime": {
     "end_time": "2024-05-10T14:51:58.357124Z",
     "start_time": "2024-05-10T14:51:53.860307Z"
    },
    "hidden": true
   },
   "outputs": [],
   "source": [
    "allpages=ppp(reports_folder+bp+bp_files[0])"
   ]
  },
  {
   "cell_type": "code",
   "execution_count": 6,
   "id": "d851e679",
   "metadata": {
    "ExecuteTime": {
     "end_time": "2024-05-10T14:51:58.361808Z",
     "start_time": "2024-05-10T14:51:58.358192Z"
    },
    "hidden": true
   },
   "outputs": [
    {
     "data": {
      "text/plain": [
       "223617"
      ]
     },
     "execution_count": 6,
     "metadata": {},
     "output_type": "execute_result"
    }
   ],
   "source": [
    "len(allpages)"
   ]
  },
  {
   "cell_type": "code",
   "execution_count": 7,
   "id": "6656c553",
   "metadata": {
    "ExecuteTime": {
     "end_time": "2024-05-10T14:51:58.410916Z",
     "start_time": "2024-05-10T14:51:58.362705Z"
    },
    "hidden": true
   },
   "outputs": [],
   "source": [
    "page1=ppp(reports_folder+bp+bp_files[0], page=1)"
   ]
  },
  {
   "cell_type": "code",
   "execution_count": 8,
   "id": "513315d5",
   "metadata": {
    "ExecuteTime": {
     "end_time": "2024-05-10T14:51:58.414591Z",
     "start_time": "2024-05-10T14:51:58.411841Z"
    },
    "hidden": true
   },
   "outputs": [
    {
     "data": {
      "text/plain": [
       "'BP Sustainability Report 2015Who we are We aim to create long-term value for  shareholders by helping to meet growing demand for energy in a safe and responsible way. We strive to be a world-class operator,   a responsible corporate citizen and a   good employer. BP is one of the world’s leading  integrated oil and gas companies – based on market capitalization, proved reserves and production. Through our work we provide customers with fuel for transportation, energy for heat   and light, lubricants to keep engines moving and the petrochemicals products used to make everyday   items as diverse as paints, clothes   and packaging.  We believe a mix of fuels and  technologies is needed to meet growing energy demand, improve efficiency and support the transition   to a lower-carbon economy. These   are the reasons why our portfolio includes oil, gas and renewables. Our projects and operations help to  generate employment, investment   and tax revenues in countries and communities across the world.   We have well-established operations   in Europe, North and South America, Australasia, Asia and Africa and employ around 80,000 people.   Front cover images BP’s onshore oil and gas activity in the US began operating as a separate business in 2015. Our Lower 48 onshore business spans 5.7 million acres with active operations in six states.We validate the content with our external assurance provider, Ernst & Young, whose remit includes commenting on the prominence given to each topic and identifying any gaps.  We apply the Global Reporting Initiative’s   G4 guidelines, and we use guidance from   our industry association IPIECA. We also report  against the UN Global Compact’s 10 principles   on human rights, labour, environment and anti-corruption.  For more information see     bp.com/reportingstandardsAbout our reporting This Sustainability Report and bp.com/  sustainability concentrate on performance and  activities from 1 January to 31 December 2015. We aim to report on all aspects of our business, including joint ventures where we are the operator. Where appropriate, we also seek to provide an overview of joint venture activities where we are not the operator, but where we have significant influence on our partners.  HSE charting tool Filter and analyse information on the group’s health, safety and environmental performance. Data for the past 10 years is available, and can be viewed in a variety of chart formats.  See bp.com/hsechartingtool '"
      ]
     },
     "execution_count": 8,
     "metadata": {},
     "output_type": "execute_result"
    }
   ],
   "source": [
    "page1"
   ]
  },
  {
   "cell_type": "code",
   "execution_count": 9,
   "id": "4c2ae38c",
   "metadata": {
    "ExecuteTime": {
     "end_time": "2024-05-10T14:51:58.417990Z",
     "start_time": "2024-05-10T14:51:58.415547Z"
    },
    "hidden": true
   },
   "outputs": [
    {
     "data": {
      "text/plain": [
       "2477"
      ]
     },
     "execution_count": 9,
     "metadata": {},
     "output_type": "execute_result"
    }
   ],
   "source": [
    "len(page1)"
   ]
  },
  {
   "cell_type": "markdown",
   "id": "b618f0ee",
   "metadata": {
    "heading_collapsed": true
   },
   "source": [
    "# Debug stack"
   ]
  },
  {
   "cell_type": "code",
   "execution_count": 7,
   "id": "9ba51403",
   "metadata": {
    "ExecuteTime": {
     "end_time": "2024-05-13T07:53:35.016616Z",
     "start_time": "2024-05-13T07:53:35.011616Z"
    },
    "hidden": true
   },
   "outputs": [],
   "source": [
    "import sys\n",
    "import inspect\n",
    "\n",
    "def what_is_my_name():\n",
    "    #print(inspect.stack()[0][0].f_code.co_name)\n",
    "    #print(inspect.stack())\n",
    "    print(inspect.currentframe().f_code.co_name)\n",
    "    #print(sys._getframe().f_code.co_name)"
   ]
  },
  {
   "cell_type": "code",
   "execution_count": 6,
   "id": "b5b640a2",
   "metadata": {
    "ExecuteTime": {
     "end_time": "2024-05-13T07:53:29.609916Z",
     "start_time": "2024-05-13T07:53:29.605738Z"
    },
    "hidden": true
   },
   "outputs": [
    {
     "name": "stdout",
     "output_type": "stream",
     "text": [
      "<code object what_is_my_name at 0x7fe25a16c2f0, file \"/var/folders/8d/5jcrlqvd5cb66b0f15wts4b00000gn/T/ipykernel_4548/3598659332.py\", line 4>\n"
     ]
    }
   ],
   "source": [
    "what_is_my_name()"
   ]
  },
  {
   "cell_type": "markdown",
   "id": "78f33f96",
   "metadata": {},
   "source": [
    "# Debug tesste"
   ]
  },
  {
   "cell_type": "code",
   "execution_count": 2,
   "id": "0ed59b50",
   "metadata": {
    "ExecuteTime": {
     "end_time": "2024-05-13T08:34:03.184760Z",
     "start_time": "2024-05-13T08:34:01.407913Z"
    }
   },
   "outputs": [],
   "source": [
    "from tesste import tesste"
   ]
  },
  {
   "cell_type": "markdown",
   "id": "c0e366e6",
   "metadata": {},
   "source": [
    "## Get pdfs"
   ]
  },
  {
   "cell_type": "code",
   "execution_count": 3,
   "id": "2f996aee",
   "metadata": {
    "ExecuteTime": {
     "end_time": "2024-05-13T08:34:03.189508Z",
     "start_time": "2024-05-13T08:34:03.187056Z"
    }
   },
   "outputs": [],
   "source": [
    "from ppp import ppp"
   ]
  },
  {
   "cell_type": "code",
   "execution_count": 4,
   "id": "db9775a5",
   "metadata": {
    "ExecuteTime": {
     "end_time": "2024-05-13T08:34:03.192938Z",
     "start_time": "2024-05-13T08:34:03.190686Z"
    }
   },
   "outputs": [],
   "source": [
    "reports_folder='./reports/'\n",
    "bp='5_BP_PLC/'"
   ]
  },
  {
   "cell_type": "code",
   "execution_count": 5,
   "id": "eca4e878",
   "metadata": {
    "ExecuteTime": {
     "end_time": "2024-05-13T08:34:03.198847Z",
     "start_time": "2024-05-13T08:34:03.196343Z"
    }
   },
   "outputs": [],
   "source": [
    "bp_files=os.listdir(reports_folder+bp)\n",
    "bp_files.sort()"
   ]
  },
  {
   "cell_type": "markdown",
   "id": "a058e528",
   "metadata": {},
   "source": [
    "## Get texts"
   ]
  },
  {
   "cell_type": "markdown",
   "id": "c1afaea1",
   "metadata": {},
   "source": [
    "### First text"
   ]
  },
  {
   "cell_type": "code",
   "execution_count": 37,
   "id": "a0a72787",
   "metadata": {
    "ExecuteTime": {
     "end_time": "2024-05-13T09:27:10.534776Z",
     "start_time": "2024-05-13T09:27:05.136314Z"
    }
   },
   "outputs": [],
   "source": [
    "allpages_first=ppp(reports_folder+bp+bp_files[0])"
   ]
  },
  {
   "cell_type": "code",
   "execution_count": 38,
   "id": "446b2709",
   "metadata": {
    "ExecuteTime": {
     "end_time": "2024-05-13T09:27:10.540429Z",
     "start_time": "2024-05-13T09:27:10.536387Z"
    }
   },
   "outputs": [
    {
     "data": {
      "text/plain": [
       "223617"
      ]
     },
     "execution_count": 38,
     "metadata": {},
     "output_type": "execute_result"
    }
   ],
   "source": [
    "len(allpages_first)"
   ]
  },
  {
   "cell_type": "code",
   "execution_count": 39,
   "id": "3dcbf05a",
   "metadata": {
    "ExecuteTime": {
     "end_time": "2024-05-13T09:27:10.621575Z",
     "start_time": "2024-05-13T09:27:10.541634Z"
    }
   },
   "outputs": [],
   "source": [
    "page1_first=ppp(reports_folder+bp+bp_files[0], page=3)"
   ]
  },
  {
   "cell_type": "code",
   "execution_count": 40,
   "id": "6cddee14",
   "metadata": {
    "ExecuteTime": {
     "end_time": "2024-05-13T09:27:10.628332Z",
     "start_time": "2024-05-13T09:27:10.623794Z"
    }
   },
   "outputs": [
    {
     "data": {
      "text/plain": [
       "'Introduction from our   group chief executive Energy is a long-term business. Our projects  often operate over many decades, delivering energy for growth, development and everyday life, as well as value for shareholders. A business that aims to be sustainable has   to order its priorities accordingly. It has to make  safety its top priority. It has to earn and maintain the support of society. And it has to take action to help safeguard the environment for future generations. So issues of sustainability are vital for the future of our business. As this report shows, across BP, all of our key  measures of safety performance – process safety events, leaks, spills and other releases, and recordable injuries – were better in 2015 than in 2014, and indeed five years ago. However, while we continued to make progress, we sadly experienced one workforce fatality when a contractor died during renovations at a recently acquired retail site in Turkey. Our thoughts are with his family and friends and we are doing all we can to learn and apply the lessons from this tragic event. Our aspiration is to have no accidents, no harm to people and no damage to the environment – and that means we always have more to do. Responsible operating  To earn the support of society, we need to be a responsible operator that is prepared to recognize and help to resolve many different concerns – among them environmental issues, economic impacts and relationships with communities, suppliers, customers, partners and governments. With this in mind, the falling oil price has been  a major challenge for the industry, with sharply reduced cash flow and earnings affecting the choices we can make. We have sought to address difficult choices in a way that is sustainable, showing resilience in the short term while continuing to invest in a disciplined way for long-term growth. And whatever adjustments we make, safety and risk management must not be compromised. Given the challenges, we have had to scale  back our investments, lower our costs and reduce staff numbers. I recognize the  personal cost this brings for those affected and their families. In these circumstances  we seek to act fairly, treating people with respect in line with our well-established  and supportive procedures.We are working with governments and suppliers to reduce costs and increase efficiency along the value chain – and to do  so in a way that is also beneficial for others in our supply chain. We recognize that some of the countries where we operate are under economic strain – as they rely on oil and gas as their primary source of revenue. Our aim is to maintain as much activity as possible, where that can be done competitively. BP’s economic impact goes far beyond the  products we sell and the people we employ. According to recent studies, BP contributes  to around 300,000 jobs in its supply chain in the US and UK alone – around 10 times the number directly employed. In 2015 we paid $3.5 billion in taxes worldwide that help support public spending. We spent $67 million on community programmes, ranging from humanitarian relief efforts to investment in encouraging more young people to take up careers in science, technology, engineering and mathematics.  Responsible operating also extends to our  stance on human rights, demonstrated by our commitment to the UN Guiding Principles and by our work to introduce human rights clauses in our contracts with suppliers. Shortly after marking the fifth anniversary of  the tragic accident on the Deepwater Horizon in the Gulf of Mexico, we reached agreements in principle to settle all federal and state claims arising from the incident. This includes  $7.1 billion to address claims for natural resource damages, as part of our commitment to restore the economy and environment of the region. While this provides some closure and certainty in legal terms, we will always regret the accident and remember those who died. The global energy challenge The nature of our business means we can  play a major role in the global issues of economic development and the environment. The energy we supply can help to improve living standards, power medical facilities and provide irrigation and sanitation. Our challenge is to fulfil this role while also building a business that can contribute to a sustainable environment in which greenhouse gas emissions are reduced. We want to play our part in addressing climate  change, recognizing that oil and gas are still projected to make up almost half of the    See page 14 for more information on BP’s  view on climate change.     Find out more about our socio-economic  contribution on page 48. We want to play our part in  addressing climate change...  we joined with other oil and  gas companies – through the Oil and Gas Climate Initiative  and other activities – to  support effective action on this critical issue.   Bob Dudley BP Sustainability Report 2015 2 '"
      ]
     },
     "execution_count": 40,
     "metadata": {},
     "output_type": "execute_result"
    }
   ],
   "source": [
    "page1_first"
   ]
  },
  {
   "cell_type": "markdown",
   "id": "a714e1c1",
   "metadata": {},
   "source": [
    "### Second text"
   ]
  },
  {
   "cell_type": "code",
   "execution_count": 41,
   "id": "d7eea1ec",
   "metadata": {
    "ExecuteTime": {
     "end_time": "2024-05-13T09:27:14.527981Z",
     "start_time": "2024-05-13T09:27:14.520866Z"
    }
   },
   "outputs": [
    {
     "data": {
      "text/plain": [
       "['bp-sustainability-report-2015.pdf',\n",
       " 'bp-sustainability-report-2016.pdf',\n",
       " 'bp-sustainability-report-2017.pdf',\n",
       " 'bp-sustainability-report-2018.pdf',\n",
       " 'bp-sustainability-report-2019.pdf',\n",
       " 'bp-sustainability-report-2020.pdf',\n",
       " 'bp-sustainability-report-2021.pdf',\n",
       " 'bp-sustainability-report-2022.pdf',\n",
       " 'bp-sustainability-report-2023.pdf']"
      ]
     },
     "execution_count": 41,
     "metadata": {},
     "output_type": "execute_result"
    }
   ],
   "source": [
    "bp_files"
   ]
  },
  {
   "cell_type": "code",
   "execution_count": 42,
   "id": "b6758b00",
   "metadata": {
    "ExecuteTime": {
     "end_time": "2024-05-13T09:27:22.923088Z",
     "start_time": "2024-05-13T09:27:16.960859Z"
    }
   },
   "outputs": [],
   "source": [
    "allpages_second=ppp(reports_folder+bp+bp_files[1])"
   ]
  },
  {
   "cell_type": "code",
   "execution_count": 43,
   "id": "4b653b0e",
   "metadata": {
    "ExecuteTime": {
     "end_time": "2024-05-13T09:27:22.929997Z",
     "start_time": "2024-05-13T09:27:22.924631Z"
    }
   },
   "outputs": [
    {
     "data": {
      "text/plain": [
       "189255"
      ]
     },
     "execution_count": 43,
     "metadata": {},
     "output_type": "execute_result"
    }
   ],
   "source": [
    "len(allpages_second)"
   ]
  },
  {
   "cell_type": "code",
   "execution_count": 52,
   "id": "d0e35511",
   "metadata": {
    "ExecuteTime": {
     "end_time": "2024-05-13T09:28:20.074174Z",
     "start_time": "2024-05-13T09:28:19.891804Z"
    }
   },
   "outputs": [],
   "source": [
    "page1_second=ppp(reports_folder+bp+bp_files[1], page=2)"
   ]
  },
  {
   "cell_type": "code",
   "execution_count": 54,
   "id": "eb6988ba",
   "metadata": {
    "ExecuteTime": {
     "end_time": "2024-05-13T09:29:40.491737Z",
     "start_time": "2024-05-13T09:29:40.470461Z"
    }
   },
   "outputs": [
    {
     "data": {
      "text/plain": [
       "'Overview 1 BP Sustainability Report 2016Overview Taking action on   climate changeFocusing on safe  operationsMaximizing value  to societyRespecting   human rightsManaging local environmental impactsFoundations for   operating responsibly Introduction   from our group   chief executive We have set out our  strategy for the coming  decades, integrating our  ambition to be a safe, strong, successful business with our  aspiration to be a good  corporate citizen and part of the solution to climate  change. Sustainability is at the heart of BP’s strategy.  Ours is a long-term business and I believe that our company will only prosper over the long term if we operate safely and fulfil a positive role in society. In particular, the energy transition underway poses a significant challenge – how to meet the world’s increasing demand for energy while, at the same time, reducing carbon emissions.   Every part of our business has a tremendous contribution to bring to this. Large companies have responsibilities to  multiple groups. I take pride in the fact that BP not only provides returns for our shareholders, but billions in tax revenues to support public services, jobs for staff and suppliers, and of course, heat, light and mobility for customers – enabling millions to enjoy higher standards of living around the world. As Henry Ford said:   “A business that makes nothing but money is   a poor business.” In recent months, we have set out our  strategy for the coming decades, integrating  our ambition to be a safe, strong, successful  business with our aspiration to be a good  corporate citizen and part of the solution   to climate change.  Our strategic framework is rooted in society’s  need to use more energy while reducing carbon emissions. It reflects a changing global fuel mix in which oil remains important but is used more efficiently; the cleanest traditional fuel, natural gas, is a vital energy source in a lower carbon economy; and renewables grow faster than any other form of energy. The four priorities of our strategic framework  are aligned with these trends. First, we plan to  run a highly competitive upstream business  with an expanding gas portfolio. Second, we  will have a market-led downstream business  providing fuels and lubricants that help make  vehicles more efficient and lessen their  carbon impact. Third, we will run a growing  renewable energy business, alongside a  dynamic venturing arm. Fourth, we will  underpin all of these businesses with an  ongoing drive to modernize BP and maximize  efficiency in ways which are good for  business and good for the environment.  The environmental dimension of this strategy  builds on two decades of action and advocacy on climate change, which saw important new steps in 2016. We made strong progress with our large natural gas projects and signed long-term gas supply agreements in Azerbaijan, Egypt, Indonesia, Oman and elsewhere, providing a cleaner alternative   to higher emissions fuels at scale. And to maximize the potential of gas, we are investigating how we can best reduce the methane emissions of our operations. We now have the largest operated renewables business among our peers, with major biofuels and wind businesses employing more than 5,000 people.  BP also supports a series of low carbon  start-up companies through our venturing team. The industry Oil and Gas Climate Initiative, which I chair, announced   $1 billion of investment in low carbon technologies, initially focused on reducing methane emissions from gas production and accelerating deployment of carbon capture, use and storage.  In 2016, these steps to build a sustainable  future came at the same time as we responded to the short-term pressures of   the business environment, maintaining critical investments for safety and future growth while acting to control costs and increase   our operational and financial resilience.  Safety will always be our top priority and the  record for last year shows that we broadly held the gains made since 2010, with many fewer incidents and injuries across the  business. This was in a year in which we  increased our activities, with an additional   13 million hours of working time. However,  we did suffer three workforce fatalities in  2016, a loss of life that we deeply regret. As  this report explains, we are taking actions   to manage risk, such as working more closely  with contractors, including joint simulation  exercises, and using technologies such as  sensors and crawler robots to detect   potential problems and keep our people   away from harm. Our future depends on our people – their  health, safety, capability and dedication. In 2016, I was encouraged to see in our surveys that their levels of confidence, pride and trust rose, despite tough circumstances and a further reduction in staff numbers. That says a lot about the resilience and spirit of the BP team. I am also proud that we have a truly global, diverse workforce, with large numbers of citizens of the countries where we work.  I believe that global companies with clear  values can act as a stabilizing and positive force in local communities and this report shows how we approach that role. We   invest in education, enterprise and energy sustainability – from the Enterprising Science programme for teachers in the UK to support for hospitals and small businesses in Egypt. We act to support labour rights among our suppliers, and we enforce a zero-tolerance policy towards bribery and facilitation payments. We assess and respond to environmental and social issues raised by our operations, from piloting new technologies for air quality monitoring in Azerbaijan to helping to build a new water pumping station for a community in Iraq.  Wherever we work, we stand by our values   of safety, respect, excellence, courage and  one team. There is much still to do, but if we can continue to deliver meaningful benefits   to our many stakeholders as well as building   a business that is both economically and environmentally sound, then I believe BP   can look ahead to a successful future as a sustainable business in a sustainable world. Bob Dudley   Group chief executive   6 April 2017 More information BP’s role in a lower carbon future Pages 12-13 Governance of sustainability issues Page 41'"
      ]
     },
     "execution_count": 54,
     "metadata": {},
     "output_type": "execute_result"
    }
   ],
   "source": [
    "page1_second"
   ]
  },
  {
   "cell_type": "markdown",
   "id": "1f1ef7cc",
   "metadata": {},
   "source": [
    "## tesste"
   ]
  },
  {
   "cell_type": "code",
   "execution_count": 55,
   "id": "d238ba27",
   "metadata": {
    "ExecuteTime": {
     "end_time": "2024-05-13T09:30:39.784041Z",
     "start_time": "2024-05-13T09:29:41.312509Z"
    }
   },
   "outputs": [
    {
     "name": "stdout",
     "output_type": "stream",
     "text": [
      "[11:29:41]\t__init__\t starting!\n",
      "[11:29:41]\t__init__\t model=all-MiniLM-L6-v2\n",
      "[11:29:43]\tva_co_si\n"
     ]
    },
    {
     "data": {
      "application/vnd.jupyter.widget-view+json": {
       "model_id": "",
       "version_major": 2,
       "version_minor": 0
      },
      "text/plain": [
       "  0%|          | 0/1000 [00:00<?, ?it/s]"
      ]
     },
     "metadata": {},
     "output_type": "display_data"
    },
    {
     "name": "stdout",
     "output_type": "stream",
     "text": [
      "[11:30:39]\tfit_cos_sim_mielke\n",
      "[11:30:39]\tfit_cos_sim_mielke\t sse=448.734\n"
     ]
    },
    {
     "name": "stderr",
     "output_type": "stream",
     "text": [
      "/Users/fabio/Documents/Lavoro/PythonFiles/sdgs_py38/lib/python3.8/site-packages/scipy/stats/_distn_infrastructure.py:2789: RuntimeWarning: invalid value encountered in scalar multiply\n",
      "  Lhat = muhat - Shat*mu\n"
     ]
    }
   ],
   "source": [
    "cacca_12=tesste(page1_first, page1_second, verbose=True)"
   ]
  },
  {
   "cell_type": "code",
   "execution_count": 56,
   "id": "41b990b6",
   "metadata": {
    "ExecuteTime": {
     "end_time": "2024-05-13T09:30:39.791441Z",
     "start_time": "2024-05-13T09:30:39.787003Z"
    }
   },
   "outputs": [
    {
     "data": {
      "text/plain": [
       "(0.6178855895996094, 0.9289500619731723)"
      ]
     },
     "execution_count": 56,
     "metadata": {},
     "output_type": "execute_result"
    }
   ],
   "source": [
    "cacca_12.cos_sim, cacca_12.pval"
   ]
  },
  {
   "cell_type": "code",
   "execution_count": 57,
   "id": "0822ca5d",
   "metadata": {
    "ExecuteTime": {
     "end_time": "2024-05-13T09:31:37.252110Z",
     "start_time": "2024-05-13T09:30:39.795137Z"
    }
   },
   "outputs": [
    {
     "name": "stdout",
     "output_type": "stream",
     "text": [
      "[11:30:39]\t__init__\t starting!\n",
      "[11:30:39]\t__init__\t model=all-MiniLM-L6-v2\n",
      "[11:30:41]\tva_co_si\n"
     ]
    },
    {
     "data": {
      "application/vnd.jupyter.widget-view+json": {
       "model_id": "",
       "version_major": 2,
       "version_minor": 0
      },
      "text/plain": [
       "  0%|          | 0/1000 [00:00<?, ?it/s]"
      ]
     },
     "metadata": {},
     "output_type": "display_data"
    },
    {
     "name": "stdout",
     "output_type": "stream",
     "text": [
      "[11:31:37]\tfit_cos_sim_mielke\n",
      "[11:31:37]\tfit_cos_sim_mielke\t sse=584.645\n"
     ]
    }
   ],
   "source": [
    "cacca_11=tesste(page1_first, page1_first, verbose=True)"
   ]
  },
  {
   "cell_type": "code",
   "execution_count": 58,
   "id": "fe850f10",
   "metadata": {
    "ExecuteTime": {
     "end_time": "2024-05-13T09:31:37.258898Z",
     "start_time": "2024-05-13T09:31:37.255130Z"
    }
   },
   "outputs": [
    {
     "data": {
      "text/plain": [
       "(1.0, 2.940700204012714e-05)"
      ]
     },
     "execution_count": 58,
     "metadata": {},
     "output_type": "execute_result"
    }
   ],
   "source": [
    "cacca_11.cos_sim, cacca_11.pval"
   ]
  },
  {
   "cell_type": "code",
   "execution_count": 59,
   "id": "8c1ddd44",
   "metadata": {
    "ExecuteTime": {
     "end_time": "2024-05-13T09:32:35.598711Z",
     "start_time": "2024-05-13T09:31:37.260119Z"
    }
   },
   "outputs": [
    {
     "name": "stdout",
     "output_type": "stream",
     "text": [
      "[11:31:37]\t__init__\t starting!\n",
      "[11:31:37]\t__init__\t model=all-MiniLM-L6-v2\n",
      "[11:31:38]\tva_co_si\n"
     ]
    },
    {
     "data": {
      "application/vnd.jupyter.widget-view+json": {
       "model_id": "",
       "version_major": 2,
       "version_minor": 0
      },
      "text/plain": [
       "  0%|          | 0/1000 [00:00<?, ?it/s]"
      ]
     },
     "metadata": {},
     "output_type": "display_data"
    },
    {
     "name": "stdout",
     "output_type": "stream",
     "text": [
      "[11:32:35]\tfit_cos_sim_mielke\n",
      "[11:32:35]\tfit_cos_sim_mielke\t sse=608.625\n"
     ]
    }
   ],
   "source": [
    "cacca_22=tesste(page1_second, page1_second, verbose=True)"
   ]
  },
  {
   "cell_type": "code",
   "execution_count": 60,
   "id": "a7256cbe",
   "metadata": {
    "ExecuteTime": {
     "end_time": "2024-05-13T09:32:35.604521Z",
     "start_time": "2024-05-13T09:32:35.600363Z"
    }
   },
   "outputs": [
    {
     "data": {
      "text/plain": [
       "(1.0, 4.492203939798767e-05)"
      ]
     },
     "execution_count": 60,
     "metadata": {},
     "output_type": "execute_result"
    }
   ],
   "source": [
    "cacca_22.cos_sim, cacca_22.pval"
   ]
  },
  {
   "cell_type": "markdown",
   "id": "94b65404",
   "metadata": {},
   "source": [
    "## Is Mielke convincing?"
   ]
  },
  {
   "cell_type": "code",
   "execution_count": 61,
   "id": "7f8d1e8a",
   "metadata": {
    "ExecuteTime": {
     "end_time": "2024-05-13T09:32:35.608176Z",
     "start_time": "2024-05-13T09:32:35.606081Z"
    }
   },
   "outputs": [],
   "source": [
    "import matplotlib.pyplot as plt"
   ]
  },
  {
   "cell_type": "code",
   "execution_count": 62,
   "id": "9a467600",
   "metadata": {
    "ExecuteTime": {
     "end_time": "2024-05-13T09:32:35.627124Z",
     "start_time": "2024-05-13T09:32:35.610214Z"
    }
   },
   "outputs": [],
   "source": [
    "caccas=[cacca_11, cacca_22, cacca_12]\n",
    "titles=['2015(first page) vs. 2015(first page)', '2016(first page) vs. 2016(first page)', '2015(first page) vs. 2016(first page)']"
   ]
  },
  {
   "cell_type": "code",
   "execution_count": 63,
   "id": "0548c1b5",
   "metadata": {
    "ExecuteTime": {
     "end_time": "2024-05-13T09:32:36.113378Z",
     "start_time": "2024-05-13T09:32:35.628760Z"
    }
   },
   "outputs": [
    {
     "data": {
      "image/png": "[encoded data removed]",
      "text/plain": [
       "<Figure size 1500x400 with 3 Axes>"
      ]
     },
     "metadata": {},
     "output_type": "display_data"
    }
   ],
   "source": [
    "fig, axs=plt.subplots(1,3, figsize=(15,4))\n",
    "for i, cacca in enumerate(caccas):\n",
    "    axs[i].hist(cacca.ra_se_co_si, label='randomization', color='darkcyan', edgecolor='k', density=1)\n",
    "    axs[i].vlines(cacca.cos_sim, 0, 15, color='r', linestyle='-.', label='p-value={:.2e}'.format(cacca.pval))\n",
    "    axs[i].plot(cacca.cosi_pdf[0], cacca.cosi_pdf[1], lw=2, label='fit', color='magenta')\n",
    "    axs[i].set_ylim(0,14)\n",
    "    axs[i].set_xlim(0.3,1.1)\n",
    "    axs[i].legend()\n",
    "    axs[i].set_title(titles[i])\n",
    "plt.show()"
   ]
  },
  {
   "cell_type": "code",
   "execution_count": null,
   "id": "db0adf2e",
   "metadata": {},
   "outputs": [],
   "source": []
  }
 ],
 "metadata": {
  "kernelspec": {
   "display_name": "Python 3 (ipykernel)",
   "language": "python",
   "name": "python3"
  },
  "language_info": {
   "codemirror_mode": {
    "name": "ipython",
    "version": 3
   },
   "file_extension": ".py",
   "mimetype": "text/x-python",
   "name": "python",
   "nbconvert_exporter": "python",
   "pygments_lexer": "ipython3",
   "version": "3.8.19"
  },
  "notify_time": "5",
  "toc": {
   "base_numbering": 1,
   "nav_menu": {},
   "number_sections": true,
   "sideBar": true,
   "skip_h1_title": false,
   "title_cell": "Table of Contents",
   "title_sidebar": "Contents",
   "toc_cell": false,
   "toc_position": {
    "height": "calc(100% - 180px)",
    "left": "10px",
    "top": "150px",
    "width": "288px"
   },
   "toc_section_display": true,
   "toc_window_display": true
  }
 },
 "nbformat": 4,
 "nbformat_minor": 5
}
