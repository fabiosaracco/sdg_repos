{
 "cells": [
  {
   "cell_type": "markdown",
   "id": "b98fe63e",
   "metadata": {},
   "source": [
    "# Intro"
   ]
  },
  {
   "cell_type": "markdown",
   "id": "687f815c",
   "metadata": {},
   "source": [
    "## Load"
   ]
  },
  {
   "cell_type": "markdown",
   "id": "e19445b5",
   "metadata": {},
   "source": [
    "### Standards"
   ]
  },
  {
   "cell_type": "code",
   "execution_count": 1,
   "id": "1479b080",
   "metadata": {
    "ExecuteTime": {
     "end_time": "2024-06-26T09:23:07.067052Z",
     "start_time": "2024-06-26T09:23:06.761517Z"
    }
   },
   "outputs": [],
   "source": [
    "import os, sys, pickle\n",
    "import numpy as np\n",
    "from tqdm.notebook import trange, tqdm\n",
    "import re"
   ]
  },
  {
   "cell_type": "code",
   "execution_count": 2,
   "id": "53d748c2",
   "metadata": {
    "ExecuteTime": {
     "end_time": "2024-06-26T09:26:15.411702Z",
     "start_time": "2024-06-26T09:26:14.333140Z"
    }
   },
   "outputs": [],
   "source": [
    "import matplotlib.pyplot as plt\n",
    "plt.rcParams['axes.linewidth'] = 2\n",
    "plt.rcParams['xtick.major.size'] = 10\n",
    "plt.rcParams['xtick.major.width'] = 2\n",
    "plt.rcParams['ytick.major.size'] = 10\n",
    "plt.rcParams['ytick.major.width'] = 2\n",
    "\n",
    "plt.rcParams['xtick.labelsize'] = 14\n",
    "plt.rcParams['ytick.labelsize'] = 14\n",
    "\n",
    "plt.rcParams['xtick.minor.size'] = 5\n",
    "plt.rcParams['xtick.minor.width'] = 1\n",
    "plt.rcParams['ytick.minor.size'] = 5\n",
    "plt.rcParams['ytick.minor.width'] = 1\n"
   ]
  },
  {
   "cell_type": "code",
   "execution_count": 3,
   "id": "3c74f4b9",
   "metadata": {
    "ExecuteTime": {
     "end_time": "2024-06-26T09:26:15.986862Z",
     "start_time": "2024-06-26T09:26:15.952427Z"
    }
   },
   "outputs": [],
   "source": [
    "from multiprocess import Pool"
   ]
  },
  {
   "cell_type": "code",
   "execution_count": 4,
   "id": "9aaa0340",
   "metadata": {
    "ExecuteTime": {
     "end_time": "2024-06-26T09:26:17.039281Z",
     "start_time": "2024-06-26T09:26:16.508015Z"
    }
   },
   "outputs": [],
   "source": [
    "from numba.core.errors import NumbaExperimentalFeatureWarning\n",
    "import warnings\n",
    "\n",
    "warnings.simplefilter('ignore', category=NumbaExperimentalFeatureWarning)"
   ]
  },
  {
   "cell_type": "code",
   "execution_count": 5,
   "id": "cdb1b57c",
   "metadata": {
    "ExecuteTime": {
     "end_time": "2024-06-26T09:26:17.056236Z",
     "start_time": "2024-06-26T09:26:17.044621Z"
    }
   },
   "outputs": [],
   "source": [
    "from importlib.metadata import version "
   ]
  },
  {
   "cell_type": "code",
   "execution_count": 43,
   "id": "b1e78b50",
   "metadata": {
    "ExecuteTime": {
     "end_time": "2024-06-26T10:02:47.456226Z",
     "start_time": "2024-06-26T10:02:47.440958Z"
    }
   },
   "outputs": [],
   "source": [
    "from tabulate import tabulate"
   ]
  },
  {
   "cell_type": "markdown",
   "id": "2a84b13c",
   "metadata": {},
   "source": [
    "### Homemade modules"
   ]
  },
  {
   "cell_type": "code",
   "execution_count": 6,
   "id": "9ac8d9d6",
   "metadata": {
    "ExecuteTime": {
     "end_time": "2024-06-26T09:26:24.197390Z",
     "start_time": "2024-06-26T09:26:17.620314Z"
    }
   },
   "outputs": [
    {
     "name": "stderr",
     "output_type": "stream",
     "text": [
      "[nltk_data] Downloading package stopwords to\n",
      "[nltk_data]     /home/sarawalk/nltk_data...\n",
      "[nltk_data]   Package stopwords is already up-to-date!\n",
      "[nltk_data] Downloading package punkt to /home/sarawalk/nltk_data...\n",
      "[nltk_data]   Package punkt is already up-to-date!\n"
     ]
    }
   ],
   "source": [
    "from tesste import tesste\n",
    "from ppp import ppp\n",
    "from readers_and_converters import file2text, text2dict, text2vec\n",
    "from melt import melt"
   ]
  },
  {
   "cell_type": "code",
   "execution_count": 7,
   "id": "b04bb686",
   "metadata": {
    "ExecuteTime": {
     "end_time": "2024-06-26T09:26:24.241622Z",
     "start_time": "2024-06-26T09:26:24.204285Z"
    }
   },
   "outputs": [
    {
     "data": {
      "text/plain": [
       "'0.1.2.1'"
      ]
     },
     "execution_count": 7,
     "metadata": {},
     "output_type": "execute_result"
    }
   ],
   "source": [
    "version('melt')"
   ]
  },
  {
   "cell_type": "markdown",
   "id": "0b028c2d",
   "metadata": {},
   "source": [
    "## Stoopid infos"
   ]
  },
  {
   "cell_type": "code",
   "execution_count": 8,
   "id": "43e165b5",
   "metadata": {
    "ExecuteTime": {
     "end_time": "2024-06-26T09:26:24.311666Z",
     "start_time": "2024-06-26T09:26:24.246292Z"
    }
   },
   "outputs": [],
   "source": [
    "L_SDGS=17"
   ]
  },
  {
   "cell_type": "markdown",
   "id": "c7837f48",
   "metadata": {},
   "source": [
    "## Stoopid functions"
   ]
  },
  {
   "cell_type": "code",
   "execution_count": 9,
   "id": "86275f9f",
   "metadata": {
    "ExecuteTime": {
     "end_time": "2024-06-26T09:26:24.392453Z",
     "start_time": "2024-06-26T09:26:24.318814Z"
    }
   },
   "outputs": [],
   "source": [
    "def a_fdr(alpha, pval_vec):\n",
    "    ord_pvs=np.sort(pval_vec)\n",
    "    lopvs=len(ord_pvs)\n",
    "    if lopvs>0:\n",
    "        fdr_tests=ord_pvs[ord_pvs<=alpha/lopvs*(1+np.arange(lopvs))]\n",
    "        if len(fdr_tests)>0:\n",
    "            return fdr_tests[-1]\n",
    "        else:\n",
    "            return 0\n",
    "    return 0"
   ]
  },
  {
   "cell_type": "markdown",
   "id": "9ec1deab",
   "metadata": {},
   "source": [
    "# Data"
   ]
  },
  {
   "cell_type": "code",
   "execution_count": 10,
   "id": "1ea9aa99",
   "metadata": {
    "ExecuteTime": {
     "end_time": "2024-06-26T09:26:24.507356Z",
     "start_time": "2024-06-26T09:26:24.396724Z"
    }
   },
   "outputs": [],
   "source": [
    "with open('./data/sdgs.pickle', 'rb') as f:\n",
    "    sdgs=pickle.load(f)"
   ]
  },
  {
   "cell_type": "code",
   "execution_count": 11,
   "id": "3e6e1d6e",
   "metadata": {
    "ExecuteTime": {
     "end_time": "2024-06-26T09:26:24.585029Z",
     "start_time": "2024-06-26T09:26:24.510465Z"
    }
   },
   "outputs": [],
   "source": [
    "with open ('./data/sdgs_dict.pickle', 'rb') as f:\n",
    "    sdgs_dict=pickle.load(f)"
   ]
  },
  {
   "cell_type": "code",
   "execution_count": 12,
   "id": "13a2dbc2",
   "metadata": {
    "ExecuteTime": {
     "end_time": "2024-06-26T09:26:24.685110Z",
     "start_time": "2024-06-26T09:26:24.589030Z"
    }
   },
   "outputs": [],
   "source": [
    "with open ('./data/energy_utilities_texts.pickle', 'rb') as f:\n",
    "    text_dict=pickle.load(f)"
   ]
  },
  {
   "cell_type": "markdown",
   "id": "60ef5ce9",
   "metadata": {},
   "source": [
    "# Melting the text from ChatGPT"
   ]
  },
  {
   "cell_type": "markdown",
   "id": "3108d5eb",
   "metadata": {},
   "source": [
    "## Entire text"
   ]
  },
  {
   "cell_type": "markdown",
   "id": "00bcd8a6",
   "metadata": {},
   "source": [
    "### Some preprocessing"
   ]
  },
  {
   "cell_type": "code",
   "execution_count": 13,
   "id": "dd578473",
   "metadata": {
    "ExecuteTime": {
     "end_time": "2024-06-26T09:26:24.856889Z",
     "start_time": "2024-06-26T09:26:24.688814Z"
    }
   },
   "outputs": [
    {
     "data": {
      "application/vnd.jupyter.widget-view+json": {
       "model_id": "72a9515df5ff4df181059d67c8a11841",
       "version_major": 2,
       "version_minor": 0
      },
      "text/plain": [
       "  0%|          | 0/9 [00:00<?, ?it/s]"
      ]
     },
     "metadata": {},
     "output_type": "display_data"
    }
   ],
   "source": [
    "all_texts={}\n",
    "for year in trange(2015, 2024):\n",
    "    all_texts[year]={}\n",
    "    for sector in sdgs_dict[year].keys():\n",
    "        all_texts[year][sector]={}\n",
    "        _texts=[]\n",
    "        for firm in sdgs_dict[year][sector].keys():\n",
    "            _text=''\n",
    "            for sdg in sdgs_dict[year][sector][firm].keys():\n",
    "                _text+=' '+sdgs_dict[year][sector][firm][sdg].replace('\\u200b', '')\n",
    "            _texts.append(_text)\n",
    "        all_texts[year][sector]['firms']=list(sdgs_dict[year][sector].keys())\n",
    "        all_texts[year][sector]['texts']=_texts"
   ]
  },
  {
   "cell_type": "markdown",
   "id": "8fe62234",
   "metadata": {
    "ExecuteTime": {
     "end_time": "2024-06-25T10:06:17.498736Z",
     "start_time": "2024-06-25T10:06:17.475724Z"
    }
   },
   "source": [
    "### Each year"
   ]
  },
  {
   "cell_type": "code",
   "execution_count": 14,
   "id": "334541d0",
   "metadata": {
    "ExecuteTime": {
     "end_time": "2024-06-26T09:29:10.968736Z",
     "start_time": "2024-06-26T09:26:28.156580Z"
    }
   },
   "outputs": [
    {
     "data": {
      "application/vnd.jupyter.widget-view+json": {
       "model_id": "f171997493604e16b75cccbfa3371b59",
       "version_major": 2,
       "version_minor": 0
      },
      "text/plain": [
       "  0%|          | 0/9 [00:00<?, ?it/s]"
      ]
     },
     "metadata": {},
     "output_type": "display_data"
    },
    {
     "name": "stdout",
     "output_type": "stream",
     "text": [
      "Energy 2015\n",
      "\n",
      "                      WARNING: this system has at least a node that is disconnected or connected to all nodes\n",
      "                       of the opposite layer. This may cause some convergence issues.\n",
      "                      Please use the full mode providing a biadjacency matrix or an edgelist,\n",
      "                       or clean your data from these nodes. \n",
      "                      \n"
     ]
    },
    {
     "name": "stderr",
     "output_type": "stream",
     "text": [
      "\n",
      "  0%|                                                                                                                                | 0/232 [00:00<?, ?it/s]\u001b[A/home/sarawalk/sdgs_py38/lib/python3.8/site-packages/bicm/graph_classes.py:1113: RuntimeWarning: invalid value encountered in divide\n",
      "  probs = node_xy * neighbor_xy / ((1 + node_xy) * (1 + neighbor_xy))\n",
      "/home/sarawalk/sdgs_py38/lib/python3.8/site-packages/bicm/graph_classes.py:1113: RuntimeWarning: invalid value encountered in divide\n",
      "  probs = node_xy * neighbor_xy / ((1 + node_xy) * (1 + neighbor_xy))\n",
      "/home/sarawalk/sdgs_py38/lib/python3.8/site-packages/bicm/graph_classes.py:1113: RuntimeWarning: invalid value encountered in divide\n",
      "  probs = node_xy * neighbor_xy / ((1 + node_xy) * (1 + neighbor_xy))\n",
      "/home/sarawalk/sdgs_py38/lib/python3.8/site-packages/bicm/graph_classes.py:1113: RuntimeWarning: invalid value encountered in divide\n",
      "  probs = node_xy * neighbor_xy / ((1 + node_xy) * (1 + neighbor_xy))\n",
      "\n",
      " 32%|██████████████████████████████████████▏                                                                               | 75/232 [00:00<00:01, 106.04it/s]\u001b[A\n",
      " 45%|████████████████████████████████████████████████████▉                                                                | 105/232 [00:00<00:00, 132.90it/s]\u001b[A\n",
      " 58%|████████████████████████████████████████████████████████████████████                                                 | 135/232 [00:01<00:00, 106.14it/s]\u001b[A\n",
      " 84%|██████████████████████████████████████████████████████████████████████████████████████████████████▎                  | 195/232 [00:01<00:00, 174.66it/s]\u001b[A\n",
      "100%|█████████████████████████████████████████████████████████████████████████████████████████████████████████████████████| 232/232 [00:01<00:00, 158.38it/s]\u001b[A\n"
     ]
    },
    {
     "name": "stdout",
     "output_type": "stream",
     "text": [
      "No V-motifs will be validated. Try increasing alpha\n"
     ]
    },
    {
     "name": "stderr",
     "output_type": "stream",
     "text": [
      "\n",
      "  0%|                                                                                                                                  | 0/2 [00:00<?, ?it/s]\u001b[A\n",
      " 50%|█████████████████████████████████████████████████████████████                                                             | 1/2 [00:00<00:00,  4.92it/s]\u001b[A/home/sarawalk/sdgs_py38/lib/python3.8/site-packages/bicm/graph_classes.py:1113: RuntimeWarning: invalid value encountered in divide\n",
      "  probs = node_xy * neighbor_xy / ((1 + node_xy) * (1 + neighbor_xy))\n",
      "\n",
      "100%|██████████████████████████████████████████████████████████████████████████████████████████████████████████████████████████| 2/2 [00:00<00:00,  4.81it/s]\u001b[A\n"
     ]
    },
    {
     "name": "stdout",
     "output_type": "stream",
     "text": [
      "No V-motifs will be validated. Try increasing alpha\n",
      "Energy 2016\n",
      "\n",
      "                      WARNING: this system has at least a node that is disconnected or connected to all nodes\n",
      "                       of the opposite layer. This may cause some convergence issues.\n",
      "                      Please use the full mode providing a biadjacency matrix or an edgelist,\n",
      "                       or clean your data from these nodes. \n",
      "                      \n"
     ]
    },
    {
     "name": "stderr",
     "output_type": "stream",
     "text": [
      "\n",
      "  0%|                                                                                                                                | 0/256 [00:00<?, ?it/s]\u001b[A/home/sarawalk/sdgs_py38/lib/python3.8/site-packages/bicm/graph_classes.py:1113: RuntimeWarning: invalid value encountered in divide\n",
      "  probs = node_xy * neighbor_xy / ((1 + node_xy) * (1 + neighbor_xy))\n",
      "/home/sarawalk/sdgs_py38/lib/python3.8/site-packages/bicm/graph_classes.py:1113: RuntimeWarning: invalid value encountered in divide\n",
      "  probs = node_xy * neighbor_xy / ((1 + node_xy) * (1 + neighbor_xy))\n",
      "/home/sarawalk/sdgs_py38/lib/python3.8/site-packages/bicm/graph_classes.py:1113: RuntimeWarning: invalid value encountered in divide\n",
      "  probs = node_xy * neighbor_xy / ((1 + node_xy) * (1 + neighbor_xy))\n",
      "/home/sarawalk/sdgs_py38/lib/python3.8/site-packages/bicm/graph_classes.py:1113: RuntimeWarning: invalid value encountered in divide\n",
      "  probs = node_xy * neighbor_xy / ((1 + node_xy) * (1 + neighbor_xy))\n",
      "\n",
      " 31%|████████████████████████████████████▉                                                                                 | 80/256 [00:00<00:01, 115.78it/s]\u001b[A\n",
      " 38%|████████████████████████████████████████████▎                                                                         | 96/256 [00:00<00:01, 123.14it/s]\u001b[A\n",
      " 50%|██████████████████████████████████████████████████████████▌                                                          | 128/256 [00:00<00:00, 157.20it/s]\u001b[A\n",
      " 58%|████████████████████████████████████████████████████████████████████                                                 | 149/256 [00:01<00:00, 122.94it/s]\u001b[A\n",
      " 81%|███████████████████████████████████████████████████████████████████████████████████████████████                      | 208/256 [00:01<00:00, 199.12it/s]\u001b[A\n",
      "100%|█████████████████████████████████████████████████████████████████████████████████████████████████████████████████████| 256/256 [00:01<00:00, 131.32it/s]\u001b[A\n"
     ]
    },
    {
     "name": "stdout",
     "output_type": "stream",
     "text": [
      "No V-motifs will be validated. Try increasing alpha\n"
     ]
    },
    {
     "name": "stderr",
     "output_type": "stream",
     "text": [
      "\n",
      "  0%|                                                                                                                                  | 0/2 [00:00<?, ?it/s]\u001b[A\n",
      " 50%|█████████████████████████████████████████████████████████████                                                             | 1/2 [00:00<00:00,  3.68it/s]\u001b[A/home/sarawalk/sdgs_py38/lib/python3.8/site-packages/bicm/graph_classes.py:1113: RuntimeWarning: invalid value encountered in divide\n",
      "  probs = node_xy * neighbor_xy / ((1 + node_xy) * (1 + neighbor_xy))\n",
      "\n",
      "100%|██████████████████████████████████████████████████████████████████████████████████████████████████████████████████████████| 2/2 [00:00<00:00,  4.18it/s]\u001b[A"
     ]
    },
    {
     "name": "stdout",
     "output_type": "stream",
     "text": [
      "No V-motifs will be validated. Try increasing alpha\n",
      "Utilities 2016\n",
      "\n",
      "                      WARNING: this system has at least a node that is disconnected or connected to all nodes\n",
      "                       of the opposite layer. This may cause some convergence issues.\n",
      "                      Please use the full mode providing a biadjacency matrix or an edgelist,\n",
      "                       or clean your data from these nodes. \n",
      "                      \n"
     ]
    },
    {
     "name": "stderr",
     "output_type": "stream",
     "text": [
      "\n",
      "\n",
      "  0%|                                                                                                                                | 0/276 [00:00<?, ?it/s]\u001b[A/home/sarawalk/sdgs_py38/lib/python3.8/site-packages/bicm/graph_classes.py:1113: RuntimeWarning: invalid value encountered in divide\n",
      "  probs = node_xy * neighbor_xy / ((1 + node_xy) * (1 + neighbor_xy))\n",
      "/home/sarawalk/sdgs_py38/lib/python3.8/site-packages/bicm/graph_classes.py:1113: RuntimeWarning: invalid value encountered in divide\n",
      "  probs = node_xy * neighbor_xy / ((1 + node_xy) * (1 + neighbor_xy))\n",
      "/home/sarawalk/sdgs_py38/lib/python3.8/site-packages/bicm/graph_classes.py:1113: RuntimeWarning: invalid value encountered in divide\n",
      "  probs = node_xy * neighbor_xy / ((1 + node_xy) * (1 + neighbor_xy))\n",
      "/home/sarawalk/sdgs_py38/lib/python3.8/site-packages/bicm/graph_classes.py:1113: RuntimeWarning: invalid value encountered in divide\n",
      "  probs = node_xy * neighbor_xy / ((1 + node_xy) * (1 + neighbor_xy))\n",
      "\n",
      " 33%|██████████████████████████████████████▊                                                                                | 90/276 [00:01<00:02, 88.92it/s]\u001b[A\n",
      " 39%|██████████████████████████████████████████████▏                                                                       | 108/276 [00:01<00:02, 77.74it/s]\u001b[A\n",
      " 52%|█████████████████████████████████████████████████████████████                                                        | 144/276 [00:01<00:01, 106.09it/s]\u001b[A\n",
      " 59%|█████████████████████████████████████████████████████████████████████▎                                                | 162/276 [00:01<00:01, 78.80it/s]\u001b[A\n",
      " 65%|████████████████████████████████████████████████████████████████████████████▉                                         | 180/276 [00:02<00:01, 80.48it/s]\u001b[A\n",
      " 85%|███████████████████████████████████████████████████████████████████████████████████████████████████▏                 | 234/276 [00:02<00:00, 129.29it/s]\u001b[A\n",
      "100%|█████████████████████████████████████████████████████████████████████████████████████████████████████████████████████| 276/276 [00:02<00:00, 112.20it/s]\u001b[A\n"
     ]
    },
    {
     "name": "stdout",
     "output_type": "stream",
     "text": [
      "No V-motifs will be validated. Try increasing alpha\n"
     ]
    },
    {
     "name": "stderr",
     "output_type": "stream",
     "text": [
      "\n",
      "  0%|                                                                                                                                  | 0/2 [00:00<?, ?it/s]\u001b[A\n",
      " 50%|█████████████████████████████████████████████████████████████                                                             | 1/2 [00:00<00:00,  3.47it/s]\u001b[A/home/sarawalk/sdgs_py38/lib/python3.8/site-packages/bicm/graph_classes.py:1113: RuntimeWarning: invalid value encountered in divide\n",
      "  probs = node_xy * neighbor_xy / ((1 + node_xy) * (1 + neighbor_xy))\n",
      "\n",
      "100%|██████████████████████████████████████████████████████████████████████████████████████████████████████████████████████████| 2/2 [00:00<00:00,  3.52it/s]\u001b[A\n"
     ]
    },
    {
     "name": "stdout",
     "output_type": "stream",
     "text": [
      "No V-motifs will be validated. Try increasing alpha\n",
      "Energy 2017\n",
      "\n",
      "                      WARNING: this system has at least a node that is disconnected or connected to all nodes\n",
      "                       of the opposite layer. This may cause some convergence issues.\n",
      "                      Please use the full mode providing a biadjacency matrix or an edgelist,\n",
      "                       or clean your data from these nodes. \n",
      "                      \n"
     ]
    },
    {
     "name": "stderr",
     "output_type": "stream",
     "text": [
      "\n",
      "  0%|                                                                                                                                | 0/264 [00:00<?, ?it/s]\u001b[A/home/sarawalk/sdgs_py38/lib/python3.8/site-packages/bicm/graph_classes.py:1113: RuntimeWarning: invalid value encountered in divide\n",
      "  probs = node_xy * neighbor_xy / ((1 + node_xy) * (1 + neighbor_xy))\n",
      "/home/sarawalk/sdgs_py38/lib/python3.8/site-packages/bicm/graph_classes.py:1113: RuntimeWarning: invalid value encountered in divide\n",
      "  probs = node_xy * neighbor_xy / ((1 + node_xy) * (1 + neighbor_xy))\n",
      "/home/sarawalk/sdgs_py38/lib/python3.8/site-packages/bicm/graph_classes.py:1113: RuntimeWarning: invalid value encountered in divide\n",
      "  probs = node_xy * neighbor_xy / ((1 + node_xy) * (1 + neighbor_xy))\n",
      "/home/sarawalk/sdgs_py38/lib/python3.8/site-packages/bicm/graph_classes.py:1113: RuntimeWarning: invalid value encountered in divide\n",
      "  probs = node_xy * neighbor_xy / ((1 + node_xy) * (1 + neighbor_xy))\n",
      "\n",
      " 32%|██████████████████████████████████████▎                                                                                | 85/264 [00:00<00:01, 99.31it/s]\u001b[A\n",
      " 45%|████████████████████████████████████████████████████▋                                                                | 119/264 [00:01<00:01, 123.41it/s]\u001b[A\n",
      " 58%|███████████████████████████████████████████████████████████████████▊                                                 | 153/264 [00:01<00:00, 118.09it/s]\u001b[A\n",
      " 64%|███████████████████████████████████████████████████████████████████████████▎                                         | 170/264 [00:01<00:00, 123.63it/s]\u001b[A\n",
      "100%|█████████████████████████████████████████████████████████████████████████████████████████████████████████████████████| 264/264 [00:02<00:00, 130.89it/s]\u001b[A\n"
     ]
    },
    {
     "name": "stdout",
     "output_type": "stream",
     "text": [
      "No V-motifs will be validated. Try increasing alpha\n"
     ]
    },
    {
     "name": "stderr",
     "output_type": "stream",
     "text": [
      "\n",
      "  0%|                                                                                                                                  | 0/2 [00:00<?, ?it/s]\u001b[A\n",
      " 50%|█████████████████████████████████████████████████████████████                                                             | 1/2 [00:00<00:00,  3.74it/s]\u001b[A/home/sarawalk/sdgs_py38/lib/python3.8/site-packages/bicm/graph_classes.py:1113: RuntimeWarning: invalid value encountered in divide\n",
      "  probs = node_xy * neighbor_xy / ((1 + node_xy) * (1 + neighbor_xy))\n",
      "\n",
      "100%|██████████████████████████████████████████████████████████████████████████████████████████████████████████████████████████| 2/2 [00:00<00:00,  3.46it/s]\u001b[A\n"
     ]
    },
    {
     "name": "stdout",
     "output_type": "stream",
     "text": [
      "No V-motifs will be validated. Try increasing alpha\n",
      "Utilities 2017\n",
      "\n",
      "                      WARNING: this system has at least a node that is disconnected or connected to all nodes\n",
      "                       of the opposite layer. This may cause some convergence issues.\n",
      "                      Please use the full mode providing a biadjacency matrix or an edgelist,\n",
      "                       or clean your data from these nodes. \n",
      "                      \n"
     ]
    },
    {
     "name": "stderr",
     "output_type": "stream",
     "text": [
      "\n",
      "  0%|                                                                                                                                | 0/300 [00:00<?, ?it/s]\u001b[A/home/sarawalk/sdgs_py38/lib/python3.8/site-packages/bicm/graph_classes.py:1113: RuntimeWarning: invalid value encountered in divide\n",
      "  probs = node_xy * neighbor_xy / ((1 + node_xy) * (1 + neighbor_xy))\n",
      "/home/sarawalk/sdgs_py38/lib/python3.8/site-packages/bicm/graph_classes.py:1113: RuntimeWarning: invalid value encountered in divide\n",
      "  probs = node_xy * neighbor_xy / ((1 + node_xy) * (1 + neighbor_xy))\n",
      "/home/sarawalk/sdgs_py38/lib/python3.8/site-packages/bicm/graph_classes.py:1113: RuntimeWarning: invalid value encountered in divide\n",
      "  probs = node_xy * neighbor_xy / ((1 + node_xy) * (1 + neighbor_xy))\n",
      "/home/sarawalk/sdgs_py38/lib/python3.8/site-packages/bicm/graph_classes.py:1113: RuntimeWarning: invalid value encountered in divide\n",
      "  probs = node_xy * neighbor_xy / ((1 + node_xy) * (1 + neighbor_xy))\n",
      "\n",
      " 32%|█████████████████████████████████████▋                                                                                 | 95/300 [00:01<00:02, 88.78it/s]\u001b[A\n",
      " 38%|████████████████████████████████████████████▊                                                                         | 114/300 [00:01<00:02, 92.32it/s]\u001b[A\n",
      " 51%|███████████████████████████████████████████████████████████▎                                                         | 152/300 [00:01<00:01, 103.73it/s]\u001b[A\n",
      " 57%|██████████████████████████████████████████████████████████████████▋                                                  | 171/300 [00:01<00:01, 102.84it/s]\u001b[A\n",
      " 76%|████████████████████████████████████████████████████████████████████████████████████████▉                            | 228/300 [00:01<00:00, 162.09it/s]\u001b[A\n",
      " 89%|███████████████████████████████████████████████████████████████████████████████████████████████████████▋             | 266/300 [00:02<00:00, 150.14it/s]\u001b[A\n",
      "100%|█████████████████████████████████████████████████████████████████████████████████████████████████████████████████████| 300/300 [00:02<00:00, 127.06it/s]\u001b[A\n"
     ]
    },
    {
     "name": "stdout",
     "output_type": "stream",
     "text": [
      "No V-motifs will be validated. Try increasing alpha\n"
     ]
    },
    {
     "name": "stderr",
     "output_type": "stream",
     "text": [
      "\n",
      "  0%|                                                                                                                                  | 0/3 [00:00<?, ?it/s]\u001b[A\n",
      " 33%|████████████████████████████████████████▋                                                                                 | 1/3 [00:00<00:00,  3.52it/s]\u001b[A/home/sarawalk/sdgs_py38/lib/python3.8/site-packages/bicm/graph_classes.py:1113: RuntimeWarning: invalid value encountered in divide\n",
      "  probs = node_xy * neighbor_xy / ((1 + node_xy) * (1 + neighbor_xy))\n",
      "\n",
      " 67%|█████████████████████████████████████████████████████████████████████████████████▎                                        | 2/3 [00:00<00:00,  3.55it/s]\u001b[A/home/sarawalk/sdgs_py38/lib/python3.8/site-packages/bicm/graph_classes.py:1113: RuntimeWarning: invalid value encountered in divide\n",
      "  probs = node_xy * neighbor_xy / ((1 + node_xy) * (1 + neighbor_xy))\n",
      "\n",
      "100%|██████████████████████████████████████████████████████████████████████████████████████████████████████████████████████████| 3/3 [00:00<00:00,  3.60it/s]\u001b[A\n"
     ]
    },
    {
     "name": "stdout",
     "output_type": "stream",
     "text": [
      "No V-motifs will be validated. Try increasing alpha\n",
      "Energy 2018\n",
      "\n",
      "                      WARNING: this system has at least a node that is disconnected or connected to all nodes\n",
      "                       of the opposite layer. This may cause some convergence issues.\n",
      "                      Please use the full mode providing a biadjacency matrix or an edgelist,\n",
      "                       or clean your data from these nodes. \n",
      "                      \n"
     ]
    },
    {
     "name": "stderr",
     "output_type": "stream",
     "text": [
      "\n",
      "  0%|                                                                                                                                | 0/330 [00:00<?, ?it/s]\u001b[A/home/sarawalk/sdgs_py38/lib/python3.8/site-packages/bicm/graph_classes.py:1113: RuntimeWarning: invalid value encountered in divide\n",
      "  probs = node_xy * neighbor_xy / ((1 + node_xy) * (1 + neighbor_xy))\n",
      "/home/sarawalk/sdgs_py38/lib/python3.8/site-packages/bicm/graph_classes.py:1113: RuntimeWarning: invalid value encountered in divide\n",
      "  probs = node_xy * neighbor_xy / ((1 + node_xy) * (1 + neighbor_xy))\n",
      "/home/sarawalk/sdgs_py38/lib/python3.8/site-packages/bicm/graph_classes.py:1113: RuntimeWarning: invalid value encountered in divide\n",
      "  probs = node_xy * neighbor_xy / ((1 + node_xy) * (1 + neighbor_xy))\n",
      "/home/sarawalk/sdgs_py38/lib/python3.8/site-packages/bicm/graph_classes.py:1113: RuntimeWarning: invalid value encountered in divide\n",
      "  probs = node_xy * neighbor_xy / ((1 + node_xy) * (1 + neighbor_xy))\n",
      "\n",
      " 32%|█████████████████████████████████████▌                                                                                | 105/330 [00:01<00:02, 81.91it/s]\u001b[A\n",
      " 38%|█████████████████████████████████████████████                                                                         | 126/330 [00:01<00:02, 90.30it/s]\u001b[A\n",
      " 45%|████████████████████████████████████████████████████▌                                                                 | 147/330 [00:01<00:02, 83.02it/s]\u001b[A\n",
      " 57%|███████████████████████████████████████████████████████████████████                                                  | 189/330 [00:01<00:01, 110.03it/s]\u001b[A\n",
      " 64%|██████████████████████████████████████████████████████████████████████████▍                                          | 210/330 [00:02<00:01, 118.04it/s]\u001b[A\n",
      " 76%|█████████████████████████████████████████████████████████████████████████████████████████▎                           | 252/330 [00:02<00:00, 143.43it/s]\u001b[A\n",
      " 83%|████████████████████████████████████████████████████████████████████████████████████████████████▊                    | 273/330 [00:02<00:00, 129.64it/s]\u001b[A\n",
      " 89%|████████████████████████████████████████████████████████████████████████████████████████████████████████▏            | 294/330 [00:02<00:00, 104.15it/s]\u001b[A\n",
      "100%|█████████████████████████████████████████████████████████████████████████████████████████████████████████████████████| 330/330 [00:03<00:00, 100.82it/s]\u001b[A\n"
     ]
    },
    {
     "name": "stdout",
     "output_type": "stream",
     "text": [
      "No V-motifs will be validated. Try increasing alpha\n"
     ]
    },
    {
     "name": "stderr",
     "output_type": "stream",
     "text": [
      "\n",
      "  0%|                                                                                                                                  | 0/3 [00:00<?, ?it/s]\u001b[A\n",
      " 33%|████████████████████████████████████████▋                                                                                 | 1/3 [00:00<00:00,  3.07it/s]\u001b[A/home/sarawalk/sdgs_py38/lib/python3.8/site-packages/bicm/graph_classes.py:1113: RuntimeWarning: invalid value encountered in divide\n",
      "  probs = node_xy * neighbor_xy / ((1 + node_xy) * (1 + neighbor_xy))\n",
      "\n",
      " 67%|█████████████████████████████████████████████████████████████████████████████████▎                                        | 2/3 [00:00<00:00,  2.80it/s]\u001b[A/home/sarawalk/sdgs_py38/lib/python3.8/site-packages/bicm/graph_classes.py:1113: RuntimeWarning: invalid value encountered in divide\n",
      "  probs = node_xy * neighbor_xy / ((1 + node_xy) * (1 + neighbor_xy))\n",
      "\n",
      "100%|██████████████████████████████████████████████████████████████████████████████████████████████████████████████████████████| 3/3 [00:01<00:00,  2.74it/s]\u001b[A\n"
     ]
    },
    {
     "name": "stdout",
     "output_type": "stream",
     "text": [
      "No V-motifs will be validated. Try increasing alpha\n",
      "Utilities 2018\n",
      "\n",
      "                      WARNING: this system has at least a node that is disconnected or connected to all nodes\n",
      "                       of the opposite layer. This may cause some convergence issues.\n",
      "                      Please use the full mode providing a biadjacency matrix or an edgelist,\n",
      "                       or clean your data from these nodes. \n",
      "                      \n"
     ]
    },
    {
     "name": "stderr",
     "output_type": "stream",
     "text": [
      "\n",
      "  0%|                                                                                                                                | 0/413 [00:00<?, ?it/s]\u001b[A/home/sarawalk/sdgs_py38/lib/python3.8/site-packages/bicm/graph_classes.py:1113: RuntimeWarning: invalid value encountered in divide\n",
      "  probs = node_xy * neighbor_xy / ((1 + node_xy) * (1 + neighbor_xy))\n",
      "/home/sarawalk/sdgs_py38/lib/python3.8/site-packages/bicm/graph_classes.py:1113: RuntimeWarning: invalid value encountered in divide\n",
      "  probs = node_xy * neighbor_xy / ((1 + node_xy) * (1 + neighbor_xy))\n",
      "/home/sarawalk/sdgs_py38/lib/python3.8/site-packages/bicm/graph_classes.py:1113: RuntimeWarning: invalid value encountered in divide\n",
      "  probs = node_xy * neighbor_xy / ((1 + node_xy) * (1 + neighbor_xy))\n",
      "/home/sarawalk/sdgs_py38/lib/python3.8/site-packages/bicm/graph_classes.py:1113: RuntimeWarning: invalid value encountered in divide\n",
      "  probs = node_xy * neighbor_xy / ((1 + node_xy) * (1 + neighbor_xy))\n",
      "\n",
      " 31%|█████████████████████████████████████▏                                                                                | 130/413 [00:01<00:04, 67.81it/s]\u001b[A\n",
      " 38%|████████████████████████████████████████████▌                                                                         | 156/413 [00:02<00:03, 72.17it/s]\u001b[A\n",
      " 44%|████████████████████████████████████████████████████                                                                  | 182/413 [00:02<00:03, 72.86it/s]\u001b[A\n",
      " 50%|███████████████████████████████████████████████████████████▍                                                          | 208/413 [00:03<00:03, 56.01it/s]\u001b[A\n",
      " 63%|██████████████████████████████████████████████████████████████████████████▎                                           | 260/413 [00:03<00:01, 88.73it/s]\u001b[A\n",
      " 69%|█████████████████████████████████████████████████████████████████████████████████▋                                    | 286/413 [00:03<00:01, 90.14it/s]\u001b[A\n",
      " 76%|████████████████████████████████████████████████████████████████████████████████████████▍                            | 312/413 [00:03<00:00, 103.84it/s]\u001b[A\n",
      " 88%|███████████████████████████████████████████████████████████████████████████████████████████████████████              | 364/413 [00:04<00:00, 115.66it/s]\u001b[A\n",
      "100%|██████████████████████████████████████████████████████████████████████████████████████████████████████████████████████| 413/413 [00:04<00:00, 86.02it/s]\u001b[A\n"
     ]
    },
    {
     "name": "stdout",
     "output_type": "stream",
     "text": [
      "No V-motifs will be validated. Try increasing alpha\n"
     ]
    },
    {
     "name": "stderr",
     "output_type": "stream",
     "text": [
      "\n",
      "  0%|                                                                                                                                  | 0/4 [00:00<?, ?it/s]\u001b[A\n",
      " 25%|██████████████████████████████▌                                                                                           | 1/4 [00:00<00:01,  2.03it/s]\u001b[A/home/sarawalk/sdgs_py38/lib/python3.8/site-packages/bicm/graph_classes.py:1113: RuntimeWarning: invalid value encountered in divide\n",
      "  probs = node_xy * neighbor_xy / ((1 + node_xy) * (1 + neighbor_xy))\n",
      "\n",
      " 50%|█████████████████████████████████████████████████████████████                                                             | 2/4 [00:00<00:00,  2.02it/s]\u001b[A/home/sarawalk/sdgs_py38/lib/python3.8/site-packages/bicm/graph_classes.py:1113: RuntimeWarning: invalid value encountered in divide\n",
      "  probs = node_xy * neighbor_xy / ((1 + node_xy) * (1 + neighbor_xy))\n",
      "\n",
      " 75%|███████████████████████████████████████████████████████████████████████████████████████████▌                              | 3/4 [00:01<00:00,  2.09it/s]\u001b[A/home/sarawalk/sdgs_py38/lib/python3.8/site-packages/bicm/graph_classes.py:1113: RuntimeWarning: invalid value encountered in divide\n",
      "  probs = node_xy * neighbor_xy / ((1 + node_xy) * (1 + neighbor_xy))\n",
      "\n",
      "100%|██████████████████████████████████████████████████████████████████████████████████████████████████████████████████████████| 4/4 [00:01<00:00,  2.08it/s]\u001b[A\n"
     ]
    },
    {
     "name": "stdout",
     "output_type": "stream",
     "text": [
      "No V-motifs will be validated. Try increasing alpha\n",
      "Energy 2019\n",
      "\n",
      "                      WARNING: this system has at least a node that is disconnected or connected to all nodes\n",
      "                       of the opposite layer. This may cause some convergence issues.\n",
      "                      Please use the full mode providing a biadjacency matrix or an edgelist,\n",
      "                       or clean your data from these nodes. \n",
      "                      \n"
     ]
    },
    {
     "name": "stderr",
     "output_type": "stream",
     "text": [
      "\n",
      "  0%|                                                                                                                                | 0/490 [00:00<?, ?it/s]\u001b[A/home/sarawalk/sdgs_py38/lib/python3.8/site-packages/bicm/graph_classes.py:1113: RuntimeWarning: invalid value encountered in divide\n",
      "  probs = node_xy * neighbor_xy / ((1 + node_xy) * (1 + neighbor_xy))\n",
      "/home/sarawalk/sdgs_py38/lib/python3.8/site-packages/bicm/graph_classes.py:1113: RuntimeWarning: invalid value encountered in divide\n",
      "  probs = node_xy * neighbor_xy / ((1 + node_xy) * (1 + neighbor_xy))\n",
      "/home/sarawalk/sdgs_py38/lib/python3.8/site-packages/bicm/graph_classes.py:1113: RuntimeWarning: invalid value encountered in divide\n",
      "  probs = node_xy * neighbor_xy / ((1 + node_xy) * (1 + neighbor_xy))\n",
      "\n",
      " 25%|█████████████████████████████▌                                                                                       | 124/490 [00:00<00:00, 974.56it/s]\u001b[A/home/sarawalk/sdgs_py38/lib/python3.8/site-packages/bicm/graph_classes.py:1113: RuntimeWarning: invalid value encountered in divide\n",
      "  probs = node_xy * neighbor_xy / ((1 + node_xy) * (1 + neighbor_xy))\n",
      "\n",
      " 45%|█████████████████████████████████████████████████████▍                                                                | 222/490 [00:02<00:03, 71.75it/s]\u001b[A\n",
      " 57%|███████████████████████████████████████████████████████████████████▏                                                  | 279/490 [00:03<00:02, 71.70it/s]\u001b[A\n",
      " 63%|██████████████████████████████████████████████████████████████████████████▋                                           | 310/490 [00:03<00:02, 67.90it/s]\u001b[A\n",
      " 70%|██████████████████████████████████████████████████████████████████████████████████                                    | 341/490 [00:04<00:01, 75.95it/s]\u001b[A\n",
      " 76%|█████████████████████████████████████████████████████████████████████████████████████████▌                            | 372/490 [00:04<00:01, 66.81it/s]\u001b[A\n",
      " 82%|█████████████████████████████████████████████████████████████████████████████████████████████████                     | 403/490 [00:05<00:01, 59.21it/s]\u001b[A\n",
      " 89%|████████████████████████████████████████████████████████████████████████████████████████████████████████▌             | 434/490 [00:05<00:00, 65.13it/s]\u001b[A\n",
      "100%|██████████████████████████████████████████████████████████████████████████████████████████████████████████████████████| 490/490 [00:06<00:00, 80.61it/s]\u001b[A\n"
     ]
    },
    {
     "name": "stdout",
     "output_type": "stream",
     "text": [
      "No V-motifs will be validated. Try increasing alpha\n"
     ]
    },
    {
     "name": "stderr",
     "output_type": "stream",
     "text": [
      "\n",
      "  0%|                                                                                                                                  | 0/6 [00:00<?, ?it/s]\u001b[A\n",
      " 17%|████████████████████▎                                                                                                     | 1/6 [00:00<00:03,  1.52it/s]\u001b[A/home/sarawalk/sdgs_py38/lib/python3.8/site-packages/bicm/graph_classes.py:1113: RuntimeWarning: invalid value encountered in divide\n",
      "  probs = node_xy * neighbor_xy / ((1 + node_xy) * (1 + neighbor_xy))\n",
      "\n",
      " 33%|████████████████████████████████████████▋                                                                                 | 2/6 [00:01<00:02,  1.53it/s]\u001b[A/home/sarawalk/sdgs_py38/lib/python3.8/site-packages/bicm/graph_classes.py:1113: RuntimeWarning: invalid value encountered in divide\n",
      "  probs = node_xy * neighbor_xy / ((1 + node_xy) * (1 + neighbor_xy))\n",
      "\n",
      " 50%|█████████████████████████████████████████████████████████████                                                             | 3/6 [00:01<00:01,  1.56it/s]\u001b[A/home/sarawalk/sdgs_py38/lib/python3.8/site-packages/bicm/graph_classes.py:1113: RuntimeWarning: invalid value encountered in divide\n",
      "  probs = node_xy * neighbor_xy / ((1 + node_xy) * (1 + neighbor_xy))\n",
      "\n",
      " 67%|█████████████████████████████████████████████████████████████████████████████████▎                                        | 4/6 [00:02<00:01,  1.62it/s]\u001b[A/home/sarawalk/sdgs_py38/lib/python3.8/site-packages/bicm/graph_classes.py:1113: RuntimeWarning: invalid value encountered in divide\n",
      "  probs = node_xy * neighbor_xy / ((1 + node_xy) * (1 + neighbor_xy))\n",
      "\n",
      " 83%|█████████████████████████████████████████████████████████████████████████████████████████████████████▋                    | 5/6 [00:03<00:00,  1.61it/s]\u001b[A\n",
      "100%|██████████████████████████████████████████████████████████████████████████████████████████████████████████████████████████| 6/6 [00:03<00:00,  1.58it/s]\u001b[A\n"
     ]
    },
    {
     "name": "stdout",
     "output_type": "stream",
     "text": [
      "No V-motifs will be validated. Try increasing alpha\n",
      "Utilities 2019\n",
      "\n",
      "                      WARNING: this system has at least a node that is disconnected or connected to all nodes\n",
      "                       of the opposite layer. This may cause some convergence issues.\n",
      "                      Please use the full mode providing a biadjacency matrix or an edgelist,\n",
      "                       or clean your data from these nodes. \n",
      "                      \n"
     ]
    },
    {
     "name": "stderr",
     "output_type": "stream",
     "text": [
      "\n",
      "  0%|                                                                                                                                | 0/383 [00:00<?, ?it/s]\u001b[A/home/sarawalk/sdgs_py38/lib/python3.8/site-packages/bicm/graph_classes.py:1113: RuntimeWarning: invalid value encountered in divide\n",
      "  probs = node_xy * neighbor_xy / ((1 + node_xy) * (1 + neighbor_xy))\n",
      "/home/sarawalk/sdgs_py38/lib/python3.8/site-packages/bicm/graph_classes.py:1113: RuntimeWarning: invalid value encountered in divide\n",
      "  probs = node_xy * neighbor_xy / ((1 + node_xy) * (1 + neighbor_xy))\n",
      "/home/sarawalk/sdgs_py38/lib/python3.8/site-packages/bicm/graph_classes.py:1113: RuntimeWarning: invalid value encountered in divide\n",
      "  probs = node_xy * neighbor_xy / ((1 + node_xy) * (1 + neighbor_xy))\n",
      "/home/sarawalk/sdgs_py38/lib/python3.8/site-packages/bicm/graph_classes.py:1113: RuntimeWarning: invalid value encountered in divide\n",
      "  probs = node_xy * neighbor_xy / ((1 + node_xy) * (1 + neighbor_xy))\n",
      "\n",
      " 31%|████████████████████████████████████▉                                                                                 | 120/383 [00:01<00:03, 73.12it/s]\u001b[A\n",
      " 38%|████████████████████████████████████████████▎                                                                         | 144/383 [00:01<00:03, 77.41it/s]\u001b[A\n",
      " 44%|███████████████████████████████████████████████████▊                                                                  | 168/383 [00:02<00:02, 74.10it/s]\u001b[A\n",
      " 50%|███████████████████████████████████████████████████████████▏                                                          | 192/383 [00:02<00:02, 82.72it/s]\u001b[A\n",
      " 69%|████████████████████████████████████████████████████████████████████████████████▋                                    | 264/383 [00:02<00:01, 111.06it/s]\u001b[A\n",
      " 81%|████████████████████████████████████████████████████████████████████████████████████████████████▏                     | 312/383 [00:03<00:00, 91.68it/s]\u001b[A\n",
      "100%|██████████████████████████████████████████████████████████████████████████████████████████████████████████████████████| 383/383 [00:04<00:00, 94.96it/s]\u001b[A\n"
     ]
    },
    {
     "name": "stdout",
     "output_type": "stream",
     "text": [
      "No V-motifs will be validated. Try increasing alpha\n"
     ]
    },
    {
     "name": "stderr",
     "output_type": "stream",
     "text": [
      "\n",
      "  0%|                                                                                                                                  | 0/4 [00:00<?, ?it/s]\u001b[A\n",
      " 25%|██████████████████████████████▌                                                                                           | 1/4 [00:00<00:01,  2.64it/s]\u001b[A/home/sarawalk/sdgs_py38/lib/python3.8/site-packages/bicm/graph_classes.py:1113: RuntimeWarning: invalid value encountered in divide\n",
      "  probs = node_xy * neighbor_xy / ((1 + node_xy) * (1 + neighbor_xy))\n",
      "\n",
      " 50%|█████████████████████████████████████████████████████████████                                                             | 2/4 [00:00<00:00,  2.70it/s]\u001b[A/home/sarawalk/sdgs_py38/lib/python3.8/site-packages/bicm/graph_classes.py:1113: RuntimeWarning: invalid value encountered in divide\n",
      "  probs = node_xy * neighbor_xy / ((1 + node_xy) * (1 + neighbor_xy))\n",
      "\n",
      " 75%|███████████████████████████████████████████████████████████████████████████████████████████▌                              | 3/4 [00:01<00:00,  2.68it/s]\u001b[A/home/sarawalk/sdgs_py38/lib/python3.8/site-packages/bicm/graph_classes.py:1113: RuntimeWarning: invalid value encountered in divide\n",
      "  probs = node_xy * neighbor_xy / ((1 + node_xy) * (1 + neighbor_xy))\n",
      "\n",
      "100%|██████████████████████████████████████████████████████████████████████████████████████████████████████████████████████████| 4/4 [00:01<00:00,  2.69it/s]\u001b[A\n"
     ]
    },
    {
     "name": "stdout",
     "output_type": "stream",
     "text": [
      "No V-motifs will be validated. Try increasing alpha\n",
      "Energy 2020\n",
      "\n",
      "                      WARNING: this system has at least a node that is disconnected or connected to all nodes\n",
      "                       of the opposite layer. This may cause some convergence issues.\n",
      "                      Please use the full mode providing a biadjacency matrix or an edgelist,\n",
      "                       or clean your data from these nodes. \n",
      "                      \n"
     ]
    },
    {
     "name": "stderr",
     "output_type": "stream",
     "text": [
      "\n",
      "  0%|                                                                                                                                | 0/507 [00:00<?, ?it/s]\u001b[A/home/sarawalk/sdgs_py38/lib/python3.8/site-packages/bicm/graph_classes.py:1113: RuntimeWarning: invalid value encountered in divide\n",
      "  probs = node_xy * neighbor_xy / ((1 + node_xy) * (1 + neighbor_xy))\n",
      "/home/sarawalk/sdgs_py38/lib/python3.8/site-packages/bicm/graph_classes.py:1113: RuntimeWarning: invalid value encountered in divide\n",
      "  probs = node_xy * neighbor_xy / ((1 + node_xy) * (1 + neighbor_xy))\n",
      "\n",
      " 25%|█████████████████████████████▎                                                                                      | 128/507 [00:00<00:00, 1178.67it/s]/home/sarawalk/sdgs_py38/lib/python3.8/site-packages/bicm/graph_classes.py:1113: RuntimeWarning: invalid value encountered in divide\n",
      "  probs = node_xy * neighbor_xy / ((1 + node_xy) * (1 + neighbor_xy))\n",
      "\u001b[A/home/sarawalk/sdgs_py38/lib/python3.8/site-packages/bicm/graph_classes.py:1113: RuntimeWarning: invalid value encountered in divide\n",
      "  probs = node_xy * neighbor_xy / ((1 + node_xy) * (1 + neighbor_xy))\n",
      "\n",
      " 49%|█████████████████████████████████████████████████████████▎                                                            | 246/507 [00:02<00:03, 79.74it/s]\u001b[A\n",
      " 59%|█████████████████████████████████████████████████████████████████████▎                                                | 298/507 [00:04<00:03, 61.88it/s]\u001b[A\n",
      " 65%|████████████████████████████████████████████████████████████████████████████▎                                         | 328/507 [00:04<00:02, 68.58it/s]\u001b[A\n",
      " 69%|█████████████████████████████████████████████████████████████████████████████████▉                                    | 352/507 [00:04<00:02, 69.49it/s]\u001b[A\n",
      " 76%|█████████████████████████████████████████████████████████████████████████████████████████▎                            | 384/507 [00:04<00:01, 80.02it/s]\u001b[A\n",
      " 82%|████████████████████████████████████████████████████████████████████████████████████████████████▊                     | 416/507 [00:04<00:01, 89.99it/s]\u001b[A\n",
      " 88%|████████████████████████████████████████████████████████████████████████████████████████████████████████▎             | 448/507 [00:05<00:00, 63.11it/s]\u001b[A\n",
      "100%|██████████████████████████████████████████████████████████████████████████████████████████████████████████████████████| 507/507 [00:06<00:00, 81.26it/s]\u001b[A\n"
     ]
    },
    {
     "name": "stdout",
     "output_type": "stream",
     "text": [
      "No V-motifs will be validated. Try increasing alpha\n"
     ]
    },
    {
     "name": "stderr",
     "output_type": "stream",
     "text": [
      "\n",
      "  0%|                                                                                                                                  | 0/6 [00:00<?, ?it/s]\u001b[A\n",
      " 17%|████████████████████▎                                                                                                     | 1/6 [00:00<00:03,  1.53it/s]\u001b[A/home/sarawalk/sdgs_py38/lib/python3.8/site-packages/bicm/graph_classes.py:1113: RuntimeWarning: invalid value encountered in divide\n",
      "  probs = node_xy * neighbor_xy / ((1 + node_xy) * (1 + neighbor_xy))\n",
      "\n",
      " 33%|████████████████████████████████████████▋                                                                                 | 2/6 [00:01<00:02,  1.69it/s]\u001b[A/home/sarawalk/sdgs_py38/lib/python3.8/site-packages/bicm/graph_classes.py:1113: RuntimeWarning: invalid value encountered in divide\n",
      "  probs = node_xy * neighbor_xy / ((1 + node_xy) * (1 + neighbor_xy))\n",
      "\n",
      " 50%|█████████████████████████████████████████████████████████████                                                             | 3/6 [00:01<00:01,  1.66it/s]\u001b[A/home/sarawalk/sdgs_py38/lib/python3.8/site-packages/bicm/graph_classes.py:1113: RuntimeWarning: invalid value encountered in divide\n",
      "  probs = node_xy * neighbor_xy / ((1 + node_xy) * (1 + neighbor_xy))\n",
      "\n",
      " 67%|█████████████████████████████████████████████████████████████████████████████████▎                                        | 4/6 [00:02<00:01,  1.67it/s]\u001b[A/home/sarawalk/sdgs_py38/lib/python3.8/site-packages/bicm/graph_classes.py:1113: RuntimeWarning: invalid value encountered in divide\n",
      "  probs = node_xy * neighbor_xy / ((1 + node_xy) * (1 + neighbor_xy))\n",
      "\n",
      " 83%|█████████████████████████████████████████████████████████████████████████████████████████████████████▋                    | 5/6 [00:02<00:00,  1.82it/s]\u001b[A\n",
      "100%|██████████████████████████████████████████████████████████████████████████████████████████████████████████████████████████| 6/6 [00:03<00:00,  1.70it/s]\u001b[A\n"
     ]
    },
    {
     "name": "stdout",
     "output_type": "stream",
     "text": [
      "No V-motifs will be validated. Try increasing alpha\n",
      "Utilities 2020\n",
      "\n",
      "                      WARNING: this system has at least a node that is disconnected or connected to all nodes\n",
      "                       of the opposite layer. This may cause some convergence issues.\n",
      "                      Please use the full mode providing a biadjacency matrix or an edgelist,\n",
      "                       or clean your data from these nodes. \n",
      "                      \n"
     ]
    },
    {
     "name": "stderr",
     "output_type": "stream",
     "text": [
      "\n",
      "  0%|                                                                                                                                | 0/540 [00:00<?, ?it/s]\u001b[A/home/sarawalk/sdgs_py38/lib/python3.8/site-packages/bicm/graph_classes.py:1113: RuntimeWarning: invalid value encountered in divide\n",
      "  probs = node_xy * neighbor_xy / ((1 + node_xy) * (1 + neighbor_xy))\n",
      "\n",
      "/home/sarawalk/sdgs_py38/lib/python3.8/site-packages/bicm/graph_classes.py:1113: RuntimeWarning: invalid value encountered in divide\n",
      "  probs = node_xy * neighbor_xy / ((1 + node_xy) * (1 + neighbor_xy))\n",
      " 19%|██████████████████████                                                                                               | 102/540 [00:00<00:00, 985.90it/s]\u001b[A/home/sarawalk/sdgs_py38/lib/python3.8/site-packages/bicm/graph_classes.py:1113: RuntimeWarning: invalid value encountered in divide\n",
      "  probs = node_xy * neighbor_xy / ((1 + node_xy) * (1 + neighbor_xy))\n",
      "/home/sarawalk/sdgs_py38/lib/python3.8/site-packages/bicm/graph_classes.py:1113: RuntimeWarning: invalid value encountered in divide\n",
      "  probs = node_xy * neighbor_xy / ((1 + node_xy) * (1 + neighbor_xy))\n",
      "\n",
      " 37%|███████████████████████████████████████████▉                                                                          | 201/540 [00:01<00:03, 87.98it/s]\u001b[A\n",
      " 45%|█████████████████████████████████████████████████████▌                                                                | 245/540 [00:02<00:04, 69.86it/s]\u001b[A\n",
      " 50%|███████████████████████████████████████████████████████████▍                                                          | 272/540 [00:03<00:04, 55.29it/s]\u001b[A\n",
      " 57%|██████████████████████████████████████████████████████████████████▊                                                   | 306/540 [00:04<00:04, 54.96it/s]\u001b[A\n",
      " 63%|██████████████████████████████████████████████████████████████████████████▎                                           | 340/540 [00:04<00:02, 67.91it/s]\u001b[A\n",
      " 69%|█████████████████████████████████████████████████████████████████████████████████▋                                    | 374/540 [00:05<00:02, 60.44it/s]\u001b[A\n",
      " 76%|█████████████████████████████████████████████████████████████████████████████████████████▏                            | 408/540 [00:05<00:02, 61.31it/s]\u001b[A\n",
      " 82%|████████████████████████████████████████████████████████████████████████████████████████████████▌                     | 442/540 [00:06<00:01, 56.06it/s]\u001b[A\n",
      "100%|██████████████████████████████████████████████████████████████████████████████████████████████████████████████████████| 540/540 [00:07<00:00, 75.54it/s]\u001b[A\n"
     ]
    },
    {
     "name": "stdout",
     "output_type": "stream",
     "text": [
      "No V-motifs will be validated. Try increasing alpha\n"
     ]
    },
    {
     "name": "stderr",
     "output_type": "stream",
     "text": [
      "\n",
      "  0%|                                                                                                                                  | 0/6 [00:00<?, ?it/s]\u001b[A\n",
      " 17%|████████████████████▎                                                                                                     | 1/6 [00:00<00:03,  1.46it/s]\u001b[A/home/sarawalk/sdgs_py38/lib/python3.8/site-packages/bicm/graph_classes.py:1113: RuntimeWarning: invalid value encountered in divide\n",
      "  probs = node_xy * neighbor_xy / ((1 + node_xy) * (1 + neighbor_xy))\n",
      "\n",
      " 33%|████████████████████████████████████████▋                                                                                 | 2/6 [00:01<00:02,  1.51it/s]\u001b[A/home/sarawalk/sdgs_py38/lib/python3.8/site-packages/bicm/graph_classes.py:1113: RuntimeWarning: invalid value encountered in divide\n",
      "  probs = node_xy * neighbor_xy / ((1 + node_xy) * (1 + neighbor_xy))\n",
      "\n",
      " 50%|█████████████████████████████████████████████████████████████                                                             | 3/6 [00:01<00:01,  1.52it/s]\u001b[A/home/sarawalk/sdgs_py38/lib/python3.8/site-packages/bicm/graph_classes.py:1113: RuntimeWarning: invalid value encountered in divide\n",
      "  probs = node_xy * neighbor_xy / ((1 + node_xy) * (1 + neighbor_xy))\n",
      "\n",
      " 67%|█████████████████████████████████████████████████████████████████████████████████▎                                        | 4/6 [00:02<00:01,  1.47it/s]\u001b[A/home/sarawalk/sdgs_py38/lib/python3.8/site-packages/bicm/graph_classes.py:1113: RuntimeWarning: invalid value encountered in divide\n",
      "  probs = node_xy * neighbor_xy / ((1 + node_xy) * (1 + neighbor_xy))\n",
      "\n",
      " 83%|█████████████████████████████████████████████████████████████████████████████████████████████████████▋                    | 5/6 [00:03<00:00,  1.48it/s]\u001b[A\n",
      "100%|██████████████████████████████████████████████████████████████████████████████████████████████████████████████████████████| 6/6 [00:04<00:00,  1.48it/s]\u001b[A\n"
     ]
    },
    {
     "name": "stdout",
     "output_type": "stream",
     "text": [
      "No V-motifs will be validated. Try increasing alpha\n",
      "Energy 2021\n",
      "\n",
      "                      WARNING: this system has at least a node that is disconnected or connected to all nodes\n",
      "                       of the opposite layer. This may cause some convergence issues.\n",
      "                      Please use the full mode providing a biadjacency matrix or an edgelist,\n",
      "                       or clean your data from these nodes. \n",
      "                      \n"
     ]
    },
    {
     "name": "stderr",
     "output_type": "stream",
     "text": [
      "\n",
      "  0%|                                                                                                                                | 0/559 [00:00<?, ?it/s]\u001b[A/home/sarawalk/sdgs_py38/lib/python3.8/site-packages/bicm/graph_classes.py:1113: RuntimeWarning: invalid value encountered in divide\n",
      "  probs = node_xy * neighbor_xy / ((1 + node_xy) * (1 + neighbor_xy))\n",
      "/home/sarawalk/sdgs_py38/lib/python3.8/site-packages/bicm/graph_classes.py:1113: RuntimeWarning: invalid value encountered in divide\n",
      "  probs = node_xy * neighbor_xy / ((1 + node_xy) * (1 + neighbor_xy))\n",
      "\n",
      " 25%|█████████████████████████████                                                                                       | 140/559 [00:00<00:00, 1151.10it/s]\u001b[A/home/sarawalk/sdgs_py38/lib/python3.8/site-packages/bicm/graph_classes.py:1113: RuntimeWarning: invalid value encountered in divide\n",
      "  probs = node_xy * neighbor_xy / ((1 + node_xy) * (1 + neighbor_xy))\n",
      "/home/sarawalk/sdgs_py38/lib/python3.8/site-packages/bicm/graph_classes.py:1113: RuntimeWarning: invalid value encountered in divide\n",
      "  probs = node_xy * neighbor_xy / ((1 + node_xy) * (1 + neighbor_xy))\n",
      "\n",
      " 46%|██████████████████████████████████████████████████████                                                                | 256/559 [00:03<00:04, 64.11it/s]\u001b[A\n",
      " 55%|████████████████████████████████████████████████████████████████▌                                                     | 306/559 [00:03<00:03, 72.22it/s]\u001b[A\n",
      " 61%|███████████████████████████████████████████████████████████████████████▌                                              | 339/559 [00:04<00:03, 57.59it/s]\u001b[A\n",
      " 69%|█████████████████████████████████████████████████████████████████████████████████▎                                    | 385/559 [00:05<00:02, 65.50it/s]\u001b[A\n",
      " 75%|████████████████████████████████████████████████████████████████████████████████████████▋                             | 420/559 [00:06<00:02, 58.48it/s]\u001b[A\n",
      " 81%|████████████████████████████████████████████████████████████████████████████████████████████████                      | 455/559 [00:06<00:01, 55.78it/s]\u001b[A\n",
      "100%|██████████████████████████████████████████████████████████████████████████████████████████████████████████████████████| 559/559 [00:07<00:00, 73.83it/s]\u001b[A\n"
     ]
    },
    {
     "name": "stdout",
     "output_type": "stream",
     "text": [
      "No V-motifs will be validated. Try increasing alpha\n"
     ]
    },
    {
     "name": "stderr",
     "output_type": "stream",
     "text": [
      "\n",
      "  0%|                                                                                                                                  | 0/8 [00:00<?, ?it/s]\u001b[A\n",
      " 12%|███████████████▎                                                                                                          | 1/8 [00:00<00:05,  1.30it/s]\u001b[A/home/sarawalk/sdgs_py38/lib/python3.8/site-packages/bicm/graph_classes.py:1113: RuntimeWarning: invalid value encountered in divide\n",
      "  probs = node_xy * neighbor_xy / ((1 + node_xy) * (1 + neighbor_xy))\n",
      "\n",
      " 25%|██████████████████████████████▌                                                                                           | 2/8 [00:01<00:04,  1.34it/s]\u001b[A/home/sarawalk/sdgs_py38/lib/python3.8/site-packages/bicm/graph_classes.py:1113: RuntimeWarning: invalid value encountered in divide\n",
      "  probs = node_xy * neighbor_xy / ((1 + node_xy) * (1 + neighbor_xy))\n",
      "\n",
      " 38%|█████████████████████████████████████████████▊                                                                            | 3/8 [00:02<00:03,  1.36it/s]\u001b[A/home/sarawalk/sdgs_py38/lib/python3.8/site-packages/bicm/graph_classes.py:1113: RuntimeWarning: invalid value encountered in divide\n",
      "  probs = node_xy * neighbor_xy / ((1 + node_xy) * (1 + neighbor_xy))\n",
      "\n",
      " 50%|█████████████████████████████████████████████████████████████                                                             | 4/8 [00:02<00:02,  1.38it/s]\u001b[A/home/sarawalk/sdgs_py38/lib/python3.8/site-packages/bicm/graph_classes.py:1113: RuntimeWarning: invalid value encountered in divide\n",
      "  probs = node_xy * neighbor_xy / ((1 + node_xy) * (1 + neighbor_xy))\n",
      "\n",
      " 62%|████████████████████████████████████████████████████████████████████████████▎                                             | 5/8 [00:03<00:02,  1.36it/s]\u001b[A\n",
      " 75%|███████████████████████████████████████████████████████████████████████████████████████████▌                              | 6/8 [00:04<00:01,  1.46it/s]\u001b[A\n",
      " 88%|██████████████████████████████████████████████████████████████████████████████████████████████████████████▊               | 7/8 [00:04<00:00,  1.61it/s]\u001b[A\n",
      "100%|██████████████████████████████████████████████████████████████████████████████████████████████████████████████████████████| 8/8 [00:05<00:00,  1.51it/s]\u001b[A\n"
     ]
    },
    {
     "name": "stdout",
     "output_type": "stream",
     "text": [
      "No V-motifs will be validated. Try increasing alpha\n",
      "Utilities 2021\n",
      "\n",
      "                      WARNING: this system has at least a node that is disconnected or connected to all nodes\n",
      "                       of the opposite layer. This may cause some convergence issues.\n",
      "                      Please use the full mode providing a biadjacency matrix or an edgelist,\n",
      "                       or clean your data from these nodes. \n",
      "                      \n"
     ]
    },
    {
     "name": "stderr",
     "output_type": "stream",
     "text": [
      "\n",
      "  0%|                                                                                                                                | 0/432 [00:00<?, ?it/s]\u001b[A/home/sarawalk/sdgs_py38/lib/python3.8/site-packages/bicm/graph_classes.py:1113: RuntimeWarning: invalid value encountered in divide\n",
      "  probs = node_xy * neighbor_xy / ((1 + node_xy) * (1 + neighbor_xy))\n",
      "/home/sarawalk/sdgs_py38/lib/python3.8/site-packages/bicm/graph_classes.py:1113: RuntimeWarning: invalid value encountered in divide\n",
      "  probs = node_xy * neighbor_xy / ((1 + node_xy) * (1 + neighbor_xy))\n",
      "/home/sarawalk/sdgs_py38/lib/python3.8/site-packages/bicm/graph_classes.py:1113: RuntimeWarning: invalid value encountered in divide\n",
      "  probs = node_xy * neighbor_xy / ((1 + node_xy) * (1 + neighbor_xy))\n",
      "/home/sarawalk/sdgs_py38/lib/python3.8/site-packages/bicm/graph_classes.py:1113: RuntimeWarning: invalid value encountered in divide\n",
      "  probs = node_xy * neighbor_xy / ((1 + node_xy) * (1 + neighbor_xy))\n",
      "\n",
      " 31%|████████████████████████████████████▉                                                                                 | 135/432 [00:02<00:04, 66.95it/s]\u001b[A\n",
      " 38%|████████████████████████████████████████████▎                                                                         | 162/432 [00:02<00:04, 64.63it/s]\u001b[A\n",
      " 44%|███████████████████████████████████████████████████▋                                                                  | 189/432 [00:02<00:03, 70.37it/s]\u001b[A\n",
      " 50%|███████████████████████████████████████████████████████████                                                           | 216/432 [00:02<00:02, 86.55it/s]\u001b[A\n",
      " 56%|██████████████████████████████████████████████████████████████████▍                                                   | 243/432 [00:03<00:02, 93.71it/s]\u001b[A\n",
      " 62%|█████████████████████████████████████████████████████████████████████████▊                                            | 270/432 [00:03<00:01, 84.67it/s]\u001b[A\n",
      " 69%|█████████████████████████████████████████████████████████████████████████████████▏                                    | 297/432 [00:03<00:01, 88.87it/s]\u001b[A\n",
      " 75%|████████████████████████████████████████████████████████████████████████████████████████▌                             | 324/432 [00:04<00:01, 60.06it/s]\u001b[A\n",
      " 81%|███████████████████████████████████████████████████████████████████████████████████████████████▉                      | 351/432 [00:04<00:01, 68.95it/s]\u001b[A\n",
      " 88%|███████████████████████████████████████████████████████████████████████████████████████████████████████▎              | 378/432 [00:05<00:00, 75.64it/s]\u001b[A\n",
      " 94%|██████████████████████████████████████████████████████████████████████████████████████████████████████████████▋       | 405/432 [00:05<00:00, 69.68it/s]\u001b[A\n",
      "100%|██████████████████████████████████████████████████████████████████████████████████████████████████████████████████████| 432/432 [00:05<00:00, 75.04it/s]\u001b[A\n"
     ]
    },
    {
     "name": "stdout",
     "output_type": "stream",
     "text": [
      "No V-motifs will be validated. Try increasing alpha\n"
     ]
    },
    {
     "name": "stderr",
     "output_type": "stream",
     "text": [
      "\n",
      "  0%|                                                                                                                                  | 0/6 [00:00<?, ?it/s]\u001b[A\n",
      " 17%|████████████████████▎                                                                                                     | 1/6 [00:00<00:01,  2.84it/s]\u001b[A/home/sarawalk/sdgs_py38/lib/python3.8/site-packages/bicm/graph_classes.py:1113: RuntimeWarning: invalid value encountered in divide\n",
      "  probs = node_xy * neighbor_xy / ((1 + node_xy) * (1 + neighbor_xy))\n",
      "\n",
      " 33%|████████████████████████████████████████▋                                                                                 | 2/6 [00:00<00:01,  2.55it/s]\u001b[A/home/sarawalk/sdgs_py38/lib/python3.8/site-packages/bicm/graph_classes.py:1113: RuntimeWarning: invalid value encountered in divide\n",
      "  probs = node_xy * neighbor_xy / ((1 + node_xy) * (1 + neighbor_xy))\n",
      "\n",
      " 50%|█████████████████████████████████████████████████████████████                                                             | 3/6 [00:01<00:01,  2.33it/s]\u001b[A/home/sarawalk/sdgs_py38/lib/python3.8/site-packages/bicm/graph_classes.py:1113: RuntimeWarning: invalid value encountered in divide\n",
      "  probs = node_xy * neighbor_xy / ((1 + node_xy) * (1 + neighbor_xy))\n",
      "\n",
      " 67%|█████████████████████████████████████████████████████████████████████████████████▎                                        | 4/6 [00:01<00:00,  2.36it/s]\u001b[A/home/sarawalk/sdgs_py38/lib/python3.8/site-packages/bicm/graph_classes.py:1113: RuntimeWarning: invalid value encountered in divide\n",
      "  probs = node_xy * neighbor_xy / ((1 + node_xy) * (1 + neighbor_xy))\n",
      "\n",
      " 83%|█████████████████████████████████████████████████████████████████████████████████████████████████████▋                    | 5/6 [00:01<00:00,  2.63it/s]\u001b[A\n",
      "100%|██████████████████████████████████████████████████████████████████████████████████████████████████████████████████████████| 6/6 [00:02<00:00,  2.64it/s]\u001b[A\n"
     ]
    },
    {
     "name": "stdout",
     "output_type": "stream",
     "text": [
      "No V-motifs will be validated. Try increasing alpha\n",
      "Energy 2022\n",
      "\n",
      "                      WARNING: this system has at least a node that is disconnected or connected to all nodes\n",
      "                       of the opposite layer. This may cause some convergence issues.\n",
      "                      Please use the full mode providing a biadjacency matrix or an edgelist,\n",
      "                       or clean your data from these nodes. \n",
      "                      \n"
     ]
    },
    {
     "name": "stderr",
     "output_type": "stream",
     "text": [
      "\n",
      "  0%|                                                                                                                                | 0/565 [00:00<?, ?it/s]\u001b[A/home/sarawalk/sdgs_py38/lib/python3.8/site-packages/bicm/graph_classes.py:1113: RuntimeWarning: invalid value encountered in divide\n",
      "  probs = node_xy * neighbor_xy / ((1 + node_xy) * (1 + neighbor_xy))\n",
      "\n",
      " 19%|██████████████████████▎                                                                                              | 108/565 [00:00<00:00, 959.72it/s]\u001b[A/home/sarawalk/sdgs_py38/lib/python3.8/site-packages/bicm/graph_classes.py:1113: RuntimeWarning: invalid value encountered in divide\n",
      "  probs = node_xy * neighbor_xy / ((1 + node_xy) * (1 + neighbor_xy))\n",
      "/home/sarawalk/sdgs_py38/lib/python3.8/site-packages/bicm/graph_classes.py:1113: RuntimeWarning: invalid value encountered in divide\n",
      "  probs = node_xy * neighbor_xy / ((1 + node_xy) * (1 + neighbor_xy))\n",
      "/home/sarawalk/sdgs_py38/lib/python3.8/site-packages/bicm/graph_classes.py:1113: RuntimeWarning: invalid value encountered in divide\n",
      "  probs = node_xy * neighbor_xy / ((1 + node_xy) * (1 + neighbor_xy))\n",
      "\n",
      " 36%|██████████████████████████████████████████▌                                                                           | 204/565 [00:01<00:03, 96.87it/s]\u001b[A\n",
      " 44%|███████████████████████████████████████████████████▌                                                                  | 247/565 [00:03<00:04, 65.22it/s]\u001b[A\n",
      " 48%|████████████████████████████████████████████████████████▊                                                             | 272/565 [00:03<00:04, 59.63it/s]\u001b[A\n",
      " 51%|████████████████████████████████████████████████████████████▎                                                         | 289/565 [00:04<00:06, 45.09it/s]\u001b[A\n",
      " 57%|███████████████████████████████████████████████████████████████████▋                                                  | 324/565 [00:05<00:05, 44.46it/s]\u001b[A\n",
      " 70%|██████████████████████████████████████████████████████████████████████████████████▋                                   | 396/565 [00:06<00:03, 48.11it/s]\u001b[A\n",
      " 83%|█████████████████████████████████████████████████████████████████████████████████████████████████▋                    | 468/565 [00:07<00:01, 70.54it/s]\u001b[A\n",
      " 89%|█████████████████████████████████████████████████████████████████████████████████████████████████████████▎            | 504/565 [00:07<00:00, 67.33it/s]\u001b[A\n",
      "100%|██████████████████████████████████████████████████████████████████████████████████████████████████████████████████████| 565/565 [00:08<00:00, 64.11it/s]\u001b[A\n"
     ]
    },
    {
     "name": "stdout",
     "output_type": "stream",
     "text": [
      "No V-motifs will be validated. Try increasing alpha\n"
     ]
    },
    {
     "name": "stderr",
     "output_type": "stream",
     "text": [
      "\n",
      "  0%|                                                                                                                                  | 0/9 [00:00<?, ?it/s]\u001b[A\n",
      " 11%|█████████████▌                                                                                                            | 1/9 [00:00<00:06,  1.29it/s]\u001b[A/home/sarawalk/sdgs_py38/lib/python3.8/site-packages/bicm/graph_classes.py:1113: RuntimeWarning: invalid value encountered in divide\n",
      "  probs = node_xy * neighbor_xy / ((1 + node_xy) * (1 + neighbor_xy))\n",
      "\n",
      " 22%|███████████████████████████                                                                                               | 2/9 [00:01<00:04,  1.45it/s]\u001b[A/home/sarawalk/sdgs_py38/lib/python3.8/site-packages/bicm/graph_classes.py:1113: RuntimeWarning: invalid value encountered in divide\n",
      "  probs = node_xy * neighbor_xy / ((1 + node_xy) * (1 + neighbor_xy))\n",
      "\n",
      " 33%|████████████████████████████████████████▋                                                                                 | 3/9 [00:02<00:04,  1.39it/s]\u001b[A/home/sarawalk/sdgs_py38/lib/python3.8/site-packages/bicm/graph_classes.py:1113: RuntimeWarning: invalid value encountered in divide\n",
      "  probs = node_xy * neighbor_xy / ((1 + node_xy) * (1 + neighbor_xy))\n",
      "\n",
      " 44%|██████████████████████████████████████████████████████▏                                                                   | 4/9 [00:02<00:03,  1.42it/s]\u001b[A/home/sarawalk/sdgs_py38/lib/python3.8/site-packages/bicm/graph_classes.py:1113: RuntimeWarning: invalid value encountered in divide\n",
      "  probs = node_xy * neighbor_xy / ((1 + node_xy) * (1 + neighbor_xy))\n",
      "\n",
      " 56%|███████████████████████████████████████████████████████████████████▊                                                      | 5/9 [00:03<00:02,  1.40it/s]\u001b[A\n",
      " 67%|█████████████████████████████████████████████████████████████████████████████████▎                                        | 6/9 [00:04<00:02,  1.37it/s]\u001b[A\n",
      " 78%|██████████████████████████████████████████████████████████████████████████████████████████████▉                           | 7/9 [00:05<00:01,  1.40it/s]\u001b[A\n",
      " 89%|████████████████████████████████████████████████████████████████████████████████████████████████████████████▍             | 8/9 [00:05<00:00,  1.40it/s]\u001b[A\n",
      "100%|██████████████████████████████████████████████████████████████████████████████████████████████████████████████████████████| 9/9 [00:06<00:00,  1.41it/s]\u001b[A\n"
     ]
    },
    {
     "name": "stdout",
     "output_type": "stream",
     "text": [
      "No V-motifs will be validated. Try increasing alpha\n",
      "Utilities 2022\n",
      "\n",
      "                      WARNING: this system has at least a node that is disconnected or connected to all nodes\n",
      "                       of the opposite layer. This may cause some convergence issues.\n",
      "                      Please use the full mode providing a biadjacency matrix or an edgelist,\n",
      "                       or clean your data from these nodes. \n",
      "                      \n"
     ]
    },
    {
     "name": "stderr",
     "output_type": "stream",
     "text": [
      "\n",
      "  0%|                                                                                                                                | 0/442 [00:00<?, ?it/s]\u001b[A/home/sarawalk/sdgs_py38/lib/python3.8/site-packages/bicm/graph_classes.py:1113: RuntimeWarning: invalid value encountered in divide\n",
      "  probs = node_xy * neighbor_xy / ((1 + node_xy) * (1 + neighbor_xy))\n",
      "/home/sarawalk/sdgs_py38/lib/python3.8/site-packages/bicm/graph_classes.py:1113: RuntimeWarning: invalid value encountered in divide\n",
      "  probs = node_xy * neighbor_xy / ((1 + node_xy) * (1 + neighbor_xy))\n",
      "/home/sarawalk/sdgs_py38/lib/python3.8/site-packages/bicm/graph_classes.py:1113: RuntimeWarning: invalid value encountered in divide\n",
      "  probs = node_xy * neighbor_xy / ((1 + node_xy) * (1 + neighbor_xy))\n",
      "/home/sarawalk/sdgs_py38/lib/python3.8/site-packages/bicm/graph_classes.py:1113: RuntimeWarning: invalid value encountered in divide\n",
      "  probs = node_xy * neighbor_xy / ((1 + node_xy) * (1 + neighbor_xy))\n",
      "\n",
      " 32%|█████████████████████████████████████▍                                                                                | 140/442 [00:01<00:03, 78.29it/s]\u001b[A\n",
      " 38%|████████████████████████████████████████████▊                                                                         | 168/442 [00:02<00:04, 65.04it/s]\u001b[A\n",
      " 44%|████████████████████████████████████████████████████▎                                                                 | 196/442 [00:02<00:03, 69.18it/s]\u001b[A\n",
      " 57%|███████████████████████████████████████████████████████████████████▎                                                  | 252/442 [00:03<00:02, 91.92it/s]\u001b[A\n",
      " 63%|██████████████████████████████████████████████████████████████████████████                                           | 280/442 [00:03<00:01, 101.28it/s]\u001b[A\n",
      " 70%|██████████████████████████████████████████████████████████████████████████████████▏                                   | 308/442 [00:04<00:01, 73.57it/s]\u001b[A\n",
      " 76%|█████████████████████████████████████████████████████████████████████████████████████████▋                            | 336/442 [00:04<00:01, 77.09it/s]\u001b[A\n",
      " 82%|█████████████████████████████████████████████████████████████████████████████████████████████████▏                    | 364/442 [00:04<00:01, 63.67it/s]\u001b[A\n",
      " 89%|████████████████████████████████████████████████████████████████████████████████████████████████████████▋             | 392/442 [00:05<00:00, 78.17it/s]\u001b[A\n",
      "100%|██████████████████████████████████████████████████████████████████████████████████████████████████████████████████████| 442/442 [00:05<00:00, 83.72it/s]\u001b[A\n"
     ]
    },
    {
     "name": "stdout",
     "output_type": "stream",
     "text": [
      "No V-motifs will be validated. Try increasing alpha\n"
     ]
    },
    {
     "name": "stderr",
     "output_type": "stream",
     "text": [
      "\n",
      "  0%|                                                                                                                                  | 0/6 [00:00<?, ?it/s]\u001b[A\n",
      " 17%|████████████████████▎                                                                                                     | 1/6 [00:00<00:02,  1.98it/s]\u001b[A/home/sarawalk/sdgs_py38/lib/python3.8/site-packages/bicm/graph_classes.py:1113: RuntimeWarning: invalid value encountered in divide\n",
      "  probs = node_xy * neighbor_xy / ((1 + node_xy) * (1 + neighbor_xy))\n",
      "\n",
      " 33%|████████████████████████████████████████▋                                                                                 | 2/6 [00:00<00:01,  2.21it/s]\u001b[A/home/sarawalk/sdgs_py38/lib/python3.8/site-packages/bicm/graph_classes.py:1113: RuntimeWarning: invalid value encountered in divide\n",
      "  probs = node_xy * neighbor_xy / ((1 + node_xy) * (1 + neighbor_xy))\n",
      "\n",
      " 50%|█████████████████████████████████████████████████████████████                                                             | 3/6 [00:01<00:01,  2.10it/s]\u001b[A/home/sarawalk/sdgs_py38/lib/python3.8/site-packages/bicm/graph_classes.py:1113: RuntimeWarning: invalid value encountered in divide\n",
      "  probs = node_xy * neighbor_xy / ((1 + node_xy) * (1 + neighbor_xy))\n",
      "\n",
      " 67%|█████████████████████████████████████████████████████████████████████████████████▎                                        | 4/6 [00:01<00:00,  2.07it/s]\u001b[A/home/sarawalk/sdgs_py38/lib/python3.8/site-packages/bicm/graph_classes.py:1113: RuntimeWarning: invalid value encountered in divide\n",
      "  probs = node_xy * neighbor_xy / ((1 + node_xy) * (1 + neighbor_xy))\n",
      "\n",
      " 83%|█████████████████████████████████████████████████████████████████████████████████████████████████████▋                    | 5/6 [00:02<00:00,  2.06it/s]\u001b[A\n",
      "100%|██████████████████████████████████████████████████████████████████████████████████████████████████████████████████████████| 6/6 [00:02<00:00,  2.09it/s]\u001b[A\n"
     ]
    },
    {
     "name": "stdout",
     "output_type": "stream",
     "text": [
      "No V-motifs will be validated. Try increasing alpha\n",
      "Energy 2023\n",
      "\n",
      "                      WARNING: this system has at least a node that is disconnected or connected to all nodes\n",
      "                       of the opposite layer. This may cause some convergence issues.\n",
      "                      Please use the full mode providing a biadjacency matrix or an edgelist,\n",
      "                       or clean your data from these nodes. \n",
      "                      \n"
     ]
    },
    {
     "name": "stderr",
     "output_type": "stream",
     "text": [
      "\n",
      "  0%|                                                                                                                                | 0/491 [00:00<?, ?it/s]\u001b[A/home/sarawalk/sdgs_py38/lib/python3.8/site-packages/bicm/graph_classes.py:1113: RuntimeWarning: invalid value encountered in divide\n",
      "  probs = node_xy * neighbor_xy / ((1 + node_xy) * (1 + neighbor_xy))\n",
      "\n",
      " 25%|█████████████████████████████▎                                                                                      | 124/491 [00:00<00:00, 1218.05it/s]\u001b[A/home/sarawalk/sdgs_py38/lib/python3.8/site-packages/bicm/graph_classes.py:1113: RuntimeWarning: invalid value encountered in divide\n",
      "  probs = node_xy * neighbor_xy / ((1 + node_xy) * (1 + neighbor_xy))\n",
      "/home/sarawalk/sdgs_py38/lib/python3.8/site-packages/bicm/graph_classes.py:1113: RuntimeWarning: invalid value encountered in divide\n",
      "  probs = node_xy * neighbor_xy / ((1 + node_xy) * (1 + neighbor_xy))\n",
      "/home/sarawalk/sdgs_py38/lib/python3.8/site-packages/bicm/graph_classes.py:1113: RuntimeWarning: invalid value encountered in divide\n",
      "  probs = node_xy * neighbor_xy / ((1 + node_xy) * (1 + neighbor_xy))\n",
      "\n",
      " 50%|███████████████████████████████████████████████████████████                                                           | 246/491 [00:03<00:03, 70.00it/s]\u001b[A\n",
      " 61%|███████████████████████████████████████████████████████████████████████▊                                              | 299/491 [00:04<00:03, 60.93it/s]\u001b[A\n",
      " 69%|█████████████████████████████████████████████████████████████████████████████████▉                                    | 341/491 [00:05<00:02, 58.14it/s]\u001b[A\n",
      " 76%|█████████████████████████████████████████████████████████████████████████████████████████▍                            | 372/491 [00:05<00:01, 64.68it/s]\u001b[A\n",
      " 82%|████████████████████████████████████████████████████████████████████████████████████████████████▊                     | 403/491 [00:05<00:01, 68.79it/s]\u001b[A\n",
      " 88%|████████████████████████████████████████████████████████████████████████████████████████████████████████▎             | 434/491 [00:05<00:00, 77.65it/s]\u001b[A\n",
      "100%|██████████████████████████████████████████████████████████████████████████████████████████████████████████████████████| 491/491 [00:06<00:00, 72.61it/s]\u001b[A\n"
     ]
    },
    {
     "name": "stdout",
     "output_type": "stream",
     "text": [
      "No V-motifs will be validated. Try increasing alpha\n"
     ]
    },
    {
     "name": "stderr",
     "output_type": "stream",
     "text": [
      "\n",
      "  0%|                                                                                                                                  | 0/8 [00:00<?, ?it/s]\u001b[A\n",
      " 12%|███████████████▎                                                                                                          | 1/8 [00:00<00:04,  1.51it/s]\u001b[A/home/sarawalk/sdgs_py38/lib/python3.8/site-packages/bicm/graph_classes.py:1113: RuntimeWarning: invalid value encountered in divide\n",
      "  probs = node_xy * neighbor_xy / ((1 + node_xy) * (1 + neighbor_xy))\n",
      "\n",
      " 25%|██████████████████████████████▌                                                                                           | 2/8 [00:01<00:03,  1.58it/s]\u001b[A/home/sarawalk/sdgs_py38/lib/python3.8/site-packages/bicm/graph_classes.py:1113: RuntimeWarning: invalid value encountered in divide\n",
      "  probs = node_xy * neighbor_xy / ((1 + node_xy) * (1 + neighbor_xy))\n",
      "\n",
      " 38%|█████████████████████████████████████████████▊                                                                            | 3/8 [00:01<00:03,  1.64it/s]\u001b[A/home/sarawalk/sdgs_py38/lib/python3.8/site-packages/bicm/graph_classes.py:1113: RuntimeWarning: invalid value encountered in divide\n",
      "  probs = node_xy * neighbor_xy / ((1 + node_xy) * (1 + neighbor_xy))\n",
      "\n",
      " 50%|█████████████████████████████████████████████████████████████                                                             | 4/8 [00:02<00:02,  1.68it/s]\u001b[A/home/sarawalk/sdgs_py38/lib/python3.8/site-packages/bicm/graph_classes.py:1113: RuntimeWarning: invalid value encountered in divide\n",
      "  probs = node_xy * neighbor_xy / ((1 + node_xy) * (1 + neighbor_xy))\n",
      "\n",
      " 62%|████████████████████████████████████████████████████████████████████████████▎                                             | 5/8 [00:02<00:01,  1.71it/s]\u001b[A\n",
      " 75%|███████████████████████████████████████████████████████████████████████████████████████████▌                              | 6/8 [00:03<00:01,  1.67it/s]\u001b[A\n",
      " 88%|██████████████████████████████████████████████████████████████████████████████████████████████████████████▊               | 7/8 [00:04<00:00,  1.66it/s]\u001b[A\n",
      "100%|██████████████████████████████████████████████████████████████████████████████████████████████████████████████████████████| 8/8 [00:04<00:00,  1.66it/s]\u001b[A\n"
     ]
    },
    {
     "name": "stdout",
     "output_type": "stream",
     "text": [
      "No V-motifs will be validated. Try increasing alpha\n",
      "Utilities 2023\n",
      "\n",
      "                      WARNING: this system has at least a node that is disconnected or connected to all nodes\n",
      "                       of the opposite layer. This may cause some convergence issues.\n",
      "                      Please use the full mode providing a biadjacency matrix or an edgelist,\n",
      "                       or clean your data from these nodes. \n",
      "                      \n"
     ]
    },
    {
     "name": "stderr",
     "output_type": "stream",
     "text": [
      "\n",
      "  0%|                                                                                                                                | 0/498 [00:00<?, ?it/s]\u001b[A/home/sarawalk/sdgs_py38/lib/python3.8/site-packages/bicm/graph_classes.py:1113: RuntimeWarning: invalid value encountered in divide\n",
      "  probs = node_xy * neighbor_xy / ((1 + node_xy) * (1 + neighbor_xy))\n",
      "/home/sarawalk/sdgs_py38/lib/python3.8/site-packages/bicm/graph_classes.py:1113: RuntimeWarning: invalid value encountered in divide\n",
      "  probs = node_xy * neighbor_xy / ((1 + node_xy) * (1 + neighbor_xy))\n",
      "/home/sarawalk/sdgs_py38/lib/python3.8/site-packages/bicm/graph_classes.py:1113: RuntimeWarning: invalid value encountered in divide\n",
      "  probs = node_xy * neighbor_xy / ((1 + node_xy) * (1 + neighbor_xy))\n",
      "/home/sarawalk/sdgs_py38/lib/python3.8/site-packages/bicm/graph_classes.py:1113: RuntimeWarning: invalid value encountered in divide\n",
      "  probs = node_xy * neighbor_xy / ((1 + node_xy) * (1 + neighbor_xy))\n",
      "\n",
      " 32%|█████████████████████████████████████▌                                                                               | 160/498 [00:01<00:03, 102.83it/s]\u001b[A\n",
      " 39%|█████████████████████████████████████████████▍                                                                        | 192/498 [00:02<00:04, 63.26it/s]\u001b[A\n",
      " 45%|█████████████████████████████████████████████████████                                                                 | 224/498 [00:03<00:04, 66.07it/s]\u001b[A\n",
      " 51%|████████████████████████████████████████████████████████████▋                                                         | 256/498 [00:03<00:03, 62.68it/s]\u001b[A\n",
      " 58%|████████████████████████████████████████████████████████████████████▏                                                 | 288/498 [00:04<00:03, 66.61it/s]\u001b[A\n",
      " 64%|███████████████████████████████████████████████████████████████████████████▊                                          | 320/498 [00:04<00:02, 73.33it/s]\u001b[A\n",
      " 71%|███████████████████████████████████████████████████████████████████████████████████▍                                  | 352/498 [00:05<00:02, 57.23it/s]\u001b[A\n",
      " 84%|██████████████████████████████████████████████████████████████████████████████████████████████████▌                   | 416/498 [00:06<00:01, 63.10it/s]\u001b[A\n",
      " 90%|██████████████████████████████████████████████████████████████████████████████████████████████████████████▏           | 448/498 [00:06<00:00, 76.63it/s]\u001b[A\n",
      "100%|██████████████████████████████████████████████████████████████████████████████████████████████████████████████████████| 498/498 [00:06<00:00, 73.41it/s]\u001b[A\n"
     ]
    },
    {
     "name": "stdout",
     "output_type": "stream",
     "text": [
      "No V-motifs will be validated. Try increasing alpha\n"
     ]
    },
    {
     "name": "stderr",
     "output_type": "stream",
     "text": [
      "\n",
      "  0%|                                                                                                                                  | 0/8 [00:00<?, ?it/s]\u001b[A\n",
      " 12%|███████████████▎                                                                                                          | 1/8 [00:00<00:04,  1.57it/s]\u001b[A/home/sarawalk/sdgs_py38/lib/python3.8/site-packages/bicm/graph_classes.py:1113: RuntimeWarning: invalid value encountered in divide\n",
      "  probs = node_xy * neighbor_xy / ((1 + node_xy) * (1 + neighbor_xy))\n",
      "\n",
      " 25%|██████████████████████████████▌                                                                                           | 2/8 [00:01<00:03,  1.75it/s]\u001b[A/home/sarawalk/sdgs_py38/lib/python3.8/site-packages/bicm/graph_classes.py:1113: RuntimeWarning: invalid value encountered in divide\n",
      "  probs = node_xy * neighbor_xy / ((1 + node_xy) * (1 + neighbor_xy))\n",
      "\n",
      " 38%|█████████████████████████████████████████████▊                                                                            | 3/8 [00:01<00:02,  1.83it/s]\u001b[A/home/sarawalk/sdgs_py38/lib/python3.8/site-packages/bicm/graph_classes.py:1113: RuntimeWarning: invalid value encountered in divide\n",
      "  probs = node_xy * neighbor_xy / ((1 + node_xy) * (1 + neighbor_xy))\n",
      "\n",
      " 50%|█████████████████████████████████████████████████████████████                                                             | 4/8 [00:02<00:02,  1.79it/s]\u001b[A/home/sarawalk/sdgs_py38/lib/python3.8/site-packages/bicm/graph_classes.py:1113: RuntimeWarning: invalid value encountered in divide\n",
      "  probs = node_xy * neighbor_xy / ((1 + node_xy) * (1 + neighbor_xy))\n",
      "\n",
      " 62%|████████████████████████████████████████████████████████████████████████████▎                                             | 5/8 [00:02<00:01,  1.78it/s]\u001b[A\n",
      " 75%|███████████████████████████████████████████████████████████████████████████████████████████▌                              | 6/8 [00:03<00:01,  1.82it/s]\u001b[A\n",
      " 88%|██████████████████████████████████████████████████████████████████████████████████████████████████████████▊               | 7/8 [00:03<00:00,  1.86it/s]\u001b[A\n",
      "100%|██████████████████████████████████████████████████████████████████████████████████████████████████████████████████████████| 8/8 [00:04<00:00,  1.83it/s]\u001b[A"
     ]
    },
    {
     "name": "stdout",
     "output_type": "stream",
     "text": [
      "No V-motifs will be validated. Try increasing alpha\n"
     ]
    },
    {
     "name": "stderr",
     "output_type": "stream",
     "text": [
      "\n"
     ]
    }
   ],
   "source": [
    "melt_dict={}\n",
    "val_ids_counter=0\n",
    "val_toks_counter=0\n",
    "for year in tqdm(all_texts.keys()):\n",
    "    melt_dict[year]={}\n",
    "    for sector in all_texts[year].keys():\n",
    "        if len(all_texts[year][sector]['texts'])>1:\n",
    "            cacca=melt(all_texts[year][sector]['texts'])\n",
    "            print(sector, year)\n",
    "            cacca.get_bicm(print_error=False)\n",
    "            token_proj=cacca.MyGraph.get_cols_projection(alpha=0.05)\n",
    "            id_proj=cacca.MyGraph.get_rows_projection(alpha=0.05)\n",
    "            if len(id_proj.keys())>0:\n",
    "                val_ids_counter+=1\n",
    "                melt_dict[year][sector]['val_ids']=id_proj\n",
    "            if len(token_proj.keys())>0:\n",
    "                val_toks_counter+=1\n",
    "                melt_dict[year][sector]['val_toks']=token_proj"
   ]
  },
  {
   "cell_type": "code",
   "execution_count": 21,
   "id": "bfee33b4",
   "metadata": {
    "ExecuteTime": {
     "end_time": "2024-06-26T09:40:42.039108Z",
     "start_time": "2024-06-26T09:40:42.032295Z"
    }
   },
   "outputs": [
    {
     "data": {
      "text/plain": [
       "0"
      ]
     },
     "execution_count": 21,
     "metadata": {},
     "output_type": "execute_result"
    }
   ],
   "source": [
    "val_ids_counter"
   ]
  },
  {
   "cell_type": "code",
   "execution_count": 22,
   "id": "6d87d48c",
   "metadata": {
    "ExecuteTime": {
     "end_time": "2024-06-26T09:40:42.463519Z",
     "start_time": "2024-06-26T09:40:42.456146Z"
    }
   },
   "outputs": [
    {
     "data": {
      "text/plain": [
       "0"
      ]
     },
     "execution_count": 22,
     "metadata": {},
     "output_type": "execute_result"
    }
   ],
   "source": [
    "val_toks_counter"
   ]
  },
  {
   "cell_type": "markdown",
   "id": "3df1048c",
   "metadata": {
    "ExecuteTime": {
     "end_time": "2024-06-25T10:46:17.464171Z",
     "start_time": "2024-06-25T10:46:17.459945Z"
    }
   },
   "source": [
    "No V-motif is validated. "
   ]
  },
  {
   "cell_type": "code",
   "execution_count": 23,
   "id": "ed357e2e",
   "metadata": {
    "ExecuteTime": {
     "end_time": "2024-06-26T09:40:43.659453Z",
     "start_time": "2024-06-26T09:40:43.654511Z"
    }
   },
   "outputs": [],
   "source": [
    "del melt_dict"
   ]
  },
  {
   "cell_type": "markdown",
   "id": "07a45533",
   "metadata": {},
   "source": [
    "## Melt each SDG"
   ]
  },
  {
   "cell_type": "markdown",
   "id": "1e96e572",
   "metadata": {
    "ExecuteTime": {
     "end_time": "2024-06-25T10:06:17.498736Z",
     "start_time": "2024-06-25T10:06:17.475724Z"
    }
   },
   "source": [
    "### Each SDG"
   ]
  },
  {
   "cell_type": "code",
   "execution_count": 24,
   "id": "b1b304f3",
   "metadata": {
    "ExecuteTime": {
     "end_time": "2024-06-26T09:40:46.974027Z",
     "start_time": "2024-06-26T09:40:46.962753Z"
    }
   },
   "outputs": [
    {
     "data": {
      "text/plain": [
       "dict_keys(['01_NATIONAL_GRID_PLC', '02_SSE_PLC', '03_SEVERN_TRENT_PLC', '04_UNITED_UTILITIES_GROUP_PLC', '05_CENTRICA_PLC', '06_DRAX_GROUP_PLC', '07_PENNON_GROUP_PLC', '08_RENEWI_PLC'])"
      ]
     },
     "execution_count": 24,
     "metadata": {},
     "output_type": "execute_result"
    }
   ],
   "source": [
    "sdgs_dict[year][sector].keys()"
   ]
  },
  {
   "cell_type": "code",
   "execution_count": 25,
   "id": "f89b8716",
   "metadata": {
    "ExecuteTime": {
     "end_time": "2024-06-26T09:40:47.180232Z",
     "start_time": "2024-06-26T09:40:47.128122Z"
    }
   },
   "outputs": [
    {
     "data": {
      "application/vnd.jupyter.widget-view+json": {
       "model_id": "f1b9cc40032d417ebc9a159944263118",
       "version_major": 2,
       "version_minor": 0
      },
      "text/plain": [
       "  0%|          | 0/9 [00:00<?, ?it/s]"
      ]
     },
     "metadata": {},
     "output_type": "display_data"
    }
   ],
   "source": [
    "sdg_melt_dict={}\n",
    "for year in tqdm(sdgs_dict.keys()):\n",
    "    sdg_melt_dict[year]={}\n",
    "    for sector in sdgs_dict[year].keys():\n",
    "        sdg_melt_dict[year][sector]={}\n",
    "        firms=list(sdgs_dict[year][sector].keys())\n",
    "        for sdg in sdgs:\n",
    "            sdg_melt_dict[year][sector][sdg]={}\n",
    "            for firm in firms:\n",
    "                if sdg in sdgs_dict[year][sector][firm].keys():\n",
    "                    sdg_melt_dict[year][sector][sdg][firm]=sdgs_dict[year][sector][firm][sdg].replace('\\u200b', '')\n",
    "            if sdg_melt_dict[year][sector][sdg]=={}:\n",
    "                del sdg_melt_dict[year][sector][sdg]"
   ]
  },
  {
   "cell_type": "code",
   "execution_count": 26,
   "id": "6641805d",
   "metadata": {
    "ExecuteTime": {
     "end_time": "2024-06-26T09:43:23.953702Z",
     "start_time": "2024-06-26T09:40:48.566330Z"
    }
   },
   "outputs": [
    {
     "data": {
      "application/vnd.jupyter.widget-view+json": {
       "model_id": "de327f1c5ace4deeb0d2bae962e96a17",
       "version_major": 2,
       "version_minor": 0
      },
      "text/plain": [
       "  0%|          | 0/9 [00:00<?, ?it/s]"
      ]
     },
     "metadata": {},
     "output_type": "display_data"
    },
    {
     "name": "stdout",
     "output_type": "stream",
     "text": [
      "\n",
      "                      WARNING: this system has at least a node that is disconnected or connected to all nodes\n",
      "                       of the opposite layer. This may cause some convergence issues.\n",
      "                      Please use the full mode providing a biadjacency matrix or an edgelist,\n",
      "                       or clean your data from these nodes. \n",
      "                      \n",
      "2015 Energy SDG 3: Good Health and Well-being\r"
     ]
    },
    {
     "name": "stderr",
     "output_type": "stream",
     "text": [
      "\n",
      "  0%|                                                                                                                                 | 0/30 [00:00<?, ?it/s]\u001b[A/home/sarawalk/sdgs_py38/lib/python3.8/site-packages/bicm/graph_classes.py:1113: RuntimeWarning: invalid value encountered in divide\n",
      "  probs = node_xy * neighbor_xy / ((1 + node_xy) * (1 + neighbor_xy))\n",
      "/home/sarawalk/sdgs_py38/lib/python3.8/site-packages/bicm/graph_classes.py:1113: RuntimeWarning: invalid value encountered in divide\n",
      "  probs = node_xy * neighbor_xy / ((1 + node_xy) * (1 + neighbor_xy))\n",
      "/home/sarawalk/sdgs_py38/lib/python3.8/site-packages/bicm/graph_classes.py:1113: RuntimeWarning: invalid value encountered in divide\n",
      "  probs = node_xy * neighbor_xy / ((1 + node_xy) * (1 + neighbor_xy))\n",
      "/home/sarawalk/sdgs_py38/lib/python3.8/site-packages/bicm/graph_classes.py:1113: RuntimeWarning: invalid value encountered in divide\n",
      "  probs = node_xy * neighbor_xy / ((1 + node_xy) * (1 + neighbor_xy))\n",
      "100%|███████████████████████████████████████████████████████████████████████████████████████████████████████████████████████| 30/30 [00:00<00:00, 518.48it/s]"
     ]
    },
    {
     "name": "stdout",
     "output_type": "stream",
     "text": [
      "No V-motifs will be validated. Try increasing alpha\n"
     ]
    },
    {
     "name": "stderr",
     "output_type": "stream",
     "text": [
      "\n",
      "\n",
      "100%|█████████████████████████████████████████████████████████████████████████████████████████████████████████████████████████| 2/2 [00:00<00:00, 159.75it/s]\u001b[A/home/sarawalk/sdgs_py38/lib/python3.8/site-packages/bicm/graph_classes.py:1113: RuntimeWarning: invalid value encountered in divide\n",
      "  probs = node_xy * neighbor_xy / ((1 + node_xy) * (1 + neighbor_xy))\n"
     ]
    },
    {
     "name": "stdout",
     "output_type": "stream",
     "text": [
      "No V-motifs will be validated. Try increasing alpha\n",
      "\n",
      "                      WARNING: this system has at least a node that is disconnected or connected to all nodes\n",
      "                       of the opposite layer. This may cause some convergence issues.\n",
      "                      Please use the full mode providing a biadjacency matrix or an edgelist,\n",
      "                       or clean your data from these nodes. \n",
      "                      \n",
      "2015 Energy SDG 4: Quality Education\r"
     ]
    },
    {
     "name": "stderr",
     "output_type": "stream",
     "text": [
      "\n",
      "\n",
      "  0%|                                                                                                                                 | 0/30 [00:00<?, ?it/s]\u001b[A/home/sarawalk/sdgs_py38/lib/python3.8/site-packages/bicm/graph_classes.py:1113: RuntimeWarning: invalid value encountered in divide\n",
      "  probs = node_xy * neighbor_xy / ((1 + node_xy) * (1 + neighbor_xy))\n",
      "/home/sarawalk/sdgs_py38/lib/python3.8/site-packages/bicm/graph_classes.py:1113: RuntimeWarning: invalid value encountered in divide\n",
      "  probs = node_xy * neighbor_xy / ((1 + node_xy) * (1 + neighbor_xy))\n",
      "/home/sarawalk/sdgs_py38/lib/python3.8/site-packages/bicm/graph_classes.py:1113: RuntimeWarning: invalid value encountered in divide\n",
      "  probs = node_xy * neighbor_xy / ((1 + node_xy) * (1 + neighbor_xy))\n",
      "/home/sarawalk/sdgs_py38/lib/python3.8/site-packages/bicm/graph_classes.py:1113: RuntimeWarning: invalid value encountered in divide\n",
      "  probs = node_xy * neighbor_xy / ((1 + node_xy) * (1 + neighbor_xy))\n",
      "100%|███████████████████████████████████████████████████████████████████████████████████████████████████████████████████████| 30/30 [00:00<00:00, 511.28it/s]"
     ]
    },
    {
     "name": "stdout",
     "output_type": "stream",
     "text": [
      "No V-motifs will be validated. Try increasing alpha\n"
     ]
    },
    {
     "name": "stderr",
     "output_type": "stream",
     "text": [
      "\n",
      "\n",
      "100%|██████████████████████████████████████████████████████████████████████████████████████████████████████████████████████████| 2/2 [00:00<00:00, 87.86it/s]\u001b[A/home/sarawalk/sdgs_py38/lib/python3.8/site-packages/bicm/graph_classes.py:1113: RuntimeWarning: invalid value encountered in divide\n",
      "  probs = node_xy * neighbor_xy / ((1 + node_xy) * (1 + neighbor_xy))\n",
      "\n"
     ]
    },
    {
     "name": "stdout",
     "output_type": "stream",
     "text": [
      "No V-motifs will be validated. Try increasing alpha\n",
      "\n",
      "                      WARNING: this system has at least a node that is disconnected or connected to all nodes\n",
      "                       of the opposite layer. This may cause some convergence issues.\n",
      "                      Please use the full mode providing a biadjacency matrix or an edgelist,\n",
      "                       or clean your data from these nodes. \n",
      "                      \n",
      "2015 Energy SDG 5: Gender Equality\r"
     ]
    },
    {
     "name": "stderr",
     "output_type": "stream",
     "text": [
      "\n",
      "  0%|                                                                                                                                 | 0/30 [00:00<?, ?it/s]\u001b[A/home/sarawalk/sdgs_py38/lib/python3.8/site-packages/bicm/graph_classes.py:1113: RuntimeWarning: invalid value encountered in divide\n",
      "  probs = node_xy * neighbor_xy / ((1 + node_xy) * (1 + neighbor_xy))\n",
      "/home/sarawalk/sdgs_py38/lib/python3.8/site-packages/bicm/graph_classes.py:1113: RuntimeWarning: invalid value encountered in divide\n",
      "  probs = node_xy * neighbor_xy / ((1 + node_xy) * (1 + neighbor_xy))\n",
      "/home/sarawalk/sdgs_py38/lib/python3.8/site-packages/bicm/graph_classes.py:1113: RuntimeWarning: invalid value encountered in divide\n",
      "  probs = node_xy * neighbor_xy / ((1 + node_xy) * (1 + neighbor_xy))\n",
      "/home/sarawalk/sdgs_py38/lib/python3.8/site-packages/bicm/graph_classes.py:1113: RuntimeWarning: invalid value encountered in divide\n",
      "  probs = node_xy * neighbor_xy / ((1 + node_xy) * (1 + neighbor_xy))\n",
      "100%|███████████████████████████████████████████████████████████████████████████████████████████████████████████████████████| 30/30 [00:00<00:00, 600.37it/s]"
     ]
    },
    {
     "name": "stdout",
     "output_type": "stream",
     "text": [
      "No V-motifs will be validated. Try increasing alpha\n"
     ]
    },
    {
     "name": "stderr",
     "output_type": "stream",
     "text": [
      "\n",
      "\n",
      "100%|█████████████████████████████████████████████████████████████████████████████████████████████████████████████████████████| 2/2 [00:00<00:00, 168.50it/s]\u001b[A/home/sarawalk/sdgs_py38/lib/python3.8/site-packages/bicm/graph_classes.py:1113: RuntimeWarning: invalid value encountered in divide\n",
      "  probs = node_xy * neighbor_xy / ((1 + node_xy) * (1 + neighbor_xy))\n",
      "\n"
     ]
    },
    {
     "name": "stdout",
     "output_type": "stream",
     "text": [
      "No V-motifs will be validated. Try increasing alpha\n",
      "\n",
      "                      WARNING: this system has at least a node that is disconnected or connected to all nodes\n",
      "                       of the opposite layer. This may cause some convergence issues.\n",
      "                      Please use the full mode providing a biadjacency matrix or an edgelist,\n",
      "                       or clean your data from these nodes. \n",
      "                      \n",
      "2015 Energy SDG 6: Clean Water and Sanitation\r"
     ]
    },
    {
     "name": "stderr",
     "output_type": "stream",
     "text": [
      "\n",
      "  0%|                                                                                                                                 | 0/30 [00:00<?, ?it/s]\u001b[A/home/sarawalk/sdgs_py38/lib/python3.8/site-packages/bicm/graph_classes.py:1113: RuntimeWarning: invalid value encountered in divide\n",
      "  probs = node_xy * neighbor_xy / ((1 + node_xy) * (1 + neighbor_xy))\n",
      "/home/sarawalk/sdgs_py38/lib/python3.8/site-packages/bicm/graph_classes.py:1113: RuntimeWarning: invalid value encountered in divide\n",
      "  probs = node_xy * neighbor_xy / ((1 + node_xy) * (1 + neighbor_xy))\n",
      "/home/sarawalk/sdgs_py38/lib/python3.8/site-packages/bicm/graph_classes.py:1113: RuntimeWarning: invalid value encountered in divide\n",
      "  probs = node_xy * neighbor_xy / ((1 + node_xy) * (1 + neighbor_xy))\n",
      "/home/sarawalk/sdgs_py38/lib/python3.8/site-packages/bicm/graph_classes.py:1113: RuntimeWarning: invalid value encountered in divide\n",
      "  probs = node_xy * neighbor_xy / ((1 + node_xy) * (1 + neighbor_xy))\n",
      "100%|███████████████████████████████████████████████████████████████████████████████████████████████████████████████████████| 30/30 [00:00<00:00, 667.61it/s]\n"
     ]
    },
    {
     "name": "stdout",
     "output_type": "stream",
     "text": [
      "No V-motifs will be validated. Try increasing alpha\n"
     ]
    },
    {
     "name": "stderr",
     "output_type": "stream",
     "text": [
      "\n",
      "100%|█████████████████████████████████████████████████████████████████████████████████████████████████████████████████████████| 2/2 [00:00<00:00, 255.31it/s]\u001b[A/home/sarawalk/sdgs_py38/lib/python3.8/site-packages/bicm/graph_classes.py:1113: RuntimeWarning: invalid value encountered in divide\n",
      "  probs = node_xy * neighbor_xy / ((1 + node_xy) * (1 + neighbor_xy))\n",
      "\n"
     ]
    },
    {
     "name": "stdout",
     "output_type": "stream",
     "text": [
      "No V-motifs will be validated. Try increasing alpha\n",
      "\n",
      "                      WARNING: this system has at least a node that is disconnected or connected to all nodes\n",
      "                       of the opposite layer. This may cause some convergence issues.\n",
      "                      Please use the full mode providing a biadjacency matrix or an edgelist,\n",
      "                       or clean your data from these nodes. \n",
      "                      \n",
      "2015 Energy SDG 7: Affordable and Clean Energy\r"
     ]
    },
    {
     "name": "stderr",
     "output_type": "stream",
     "text": [
      "\n",
      "  0%|                                                                                                                                 | 0/30 [00:00<?, ?it/s]\u001b[A/home/sarawalk/sdgs_py38/lib/python3.8/site-packages/bicm/graph_classes.py:1113: RuntimeWarning: invalid value encountered in divide\n",
      "  probs = node_xy * neighbor_xy / ((1 + node_xy) * (1 + neighbor_xy))\n",
      "/home/sarawalk/sdgs_py38/lib/python3.8/site-packages/bicm/graph_classes.py:1113: RuntimeWarning: invalid value encountered in divide\n",
      "  probs = node_xy * neighbor_xy / ((1 + node_xy) * (1 + neighbor_xy))\n",
      "/home/sarawalk/sdgs_py38/lib/python3.8/site-packages/bicm/graph_classes.py:1113: RuntimeWarning: invalid value encountered in divide\n",
      "  probs = node_xy * neighbor_xy / ((1 + node_xy) * (1 + neighbor_xy))\n",
      "/home/sarawalk/sdgs_py38/lib/python3.8/site-packages/bicm/graph_classes.py:1113: RuntimeWarning: invalid value encountered in divide\n",
      "  probs = node_xy * neighbor_xy / ((1 + node_xy) * (1 + neighbor_xy))\n",
      "100%|███████████████████████████████████████████████████████████████████████████████████████████████████████████████████████| 30/30 [00:00<00:00, 533.72it/s]"
     ]
    },
    {
     "name": "stdout",
     "output_type": "stream",
     "text": [
      "No V-motifs will be validated. Try increasing alpha\n"
     ]
    },
    {
     "name": "stderr",
     "output_type": "stream",
     "text": [
      "\n",
      "\n",
      "100%|█████████████████████████████████████████████████████████████████████████████████████████████████████████████████████████| 2/2 [00:00<00:00, 249.62it/s]\u001b[A\n",
      "/home/sarawalk/sdgs_py38/lib/python3.8/site-packages/bicm/graph_classes.py:1113: RuntimeWarning: invalid value encountered in divide\n",
      "  probs = node_xy * neighbor_xy / ((1 + node_xy) * (1 + neighbor_xy))\n"
     ]
    },
    {
     "name": "stdout",
     "output_type": "stream",
     "text": [
      "No V-motifs will be validated. Try increasing alpha\n",
      "\n",
      "                      WARNING: this system has at least a node that is disconnected or connected to all nodes\n",
      "                       of the opposite layer. This may cause some convergence issues.\n",
      "                      Please use the full mode providing a biadjacency matrix or an edgelist,\n",
      "                       or clean your data from these nodes. \n",
      "                      \n",
      "2015 Energy SDG 8: Decent Work and Economic Growth\r"
     ]
    },
    {
     "name": "stderr",
     "output_type": "stream",
     "text": [
      "\n",
      "  0%|                                                                                                                                 | 0/30 [00:00<?, ?it/s]\u001b[A/home/sarawalk/sdgs_py38/lib/python3.8/site-packages/bicm/graph_classes.py:1113: RuntimeWarning: invalid value encountered in divide\n",
      "  probs = node_xy * neighbor_xy / ((1 + node_xy) * (1 + neighbor_xy))\n",
      "/home/sarawalk/sdgs_py38/lib/python3.8/site-packages/bicm/graph_classes.py:1113: RuntimeWarning: invalid value encountered in divide\n",
      "  probs = node_xy * neighbor_xy / ((1 + node_xy) * (1 + neighbor_xy))\n",
      "/home/sarawalk/sdgs_py38/lib/python3.8/site-packages/bicm/graph_classes.py:1113: RuntimeWarning: invalid value encountered in divide\n",
      "  probs = node_xy * neighbor_xy / ((1 + node_xy) * (1 + neighbor_xy))\n",
      "/home/sarawalk/sdgs_py38/lib/python3.8/site-packages/bicm/graph_classes.py:1113: RuntimeWarning: invalid value encountered in divide\n",
      "  probs = node_xy * neighbor_xy / ((1 + node_xy) * (1 + neighbor_xy))\n",
      "100%|███████████████████████████████████████████████████████████████████████████████████████████████████████████████████████| 30/30 [00:00<00:00, 603.22it/s]\n"
     ]
    },
    {
     "name": "stdout",
     "output_type": "stream",
     "text": [
      "No V-motifs will be validated. Try increasing alpha\n"
     ]
    },
    {
     "name": "stderr",
     "output_type": "stream",
     "text": [
      "\n",
      "100%|█████████████████████████████████████████████████████████████████████████████████████████████████████████████████████████| 2/2 [00:00<00:00, 151.76it/s]\u001b[A/home/sarawalk/sdgs_py38/lib/python3.8/site-packages/bicm/graph_classes.py:1113: RuntimeWarning: invalid value encountered in divide\n",
      "  probs = node_xy * neighbor_xy / ((1 + node_xy) * (1 + neighbor_xy))\n",
      "\n"
     ]
    },
    {
     "name": "stdout",
     "output_type": "stream",
     "text": [
      "No V-motifs will be validated. Try increasing alpha\n",
      "\n",
      "                      WARNING: this system has at least a node that is disconnected or connected to all nodes\n",
      "                       of the opposite layer. This may cause some convergence issues.\n",
      "                      Please use the full mode providing a biadjacency matrix or an edgelist,\n",
      "                       or clean your data from these nodes. \n",
      "                      \n",
      "2015 Energy SDG 9: Industry, Innovation, and Infrastructure\r"
     ]
    },
    {
     "name": "stderr",
     "output_type": "stream",
     "text": [
      "\n",
      "  0%|                                                                                                                                 | 0/30 [00:00<?, ?it/s]\u001b[A/home/sarawalk/sdgs_py38/lib/python3.8/site-packages/bicm/graph_classes.py:1113: RuntimeWarning: invalid value encountered in divide\n",
      "  probs = node_xy * neighbor_xy / ((1 + node_xy) * (1 + neighbor_xy))\n",
      "/home/sarawalk/sdgs_py38/lib/python3.8/site-packages/bicm/graph_classes.py:1113: RuntimeWarning: invalid value encountered in divide\n",
      "  probs = node_xy * neighbor_xy / ((1 + node_xy) * (1 + neighbor_xy))\n",
      "/home/sarawalk/sdgs_py38/lib/python3.8/site-packages/bicm/graph_classes.py:1113: RuntimeWarning: invalid value encountered in divide\n",
      "  probs = node_xy * neighbor_xy / ((1 + node_xy) * (1 + neighbor_xy))\n",
      "/home/sarawalk/sdgs_py38/lib/python3.8/site-packages/bicm/graph_classes.py:1113: RuntimeWarning: invalid value encountered in divide\n",
      "  probs = node_xy * neighbor_xy / ((1 + node_xy) * (1 + neighbor_xy))\n",
      "100%|███████████████████████████████████████████████████████████████████████████████████████████████████████████████████████| 30/30 [00:00<00:00, 443.96it/s]"
     ]
    },
    {
     "name": "stdout",
     "output_type": "stream",
     "text": [
      "No V-motifs will be validated. Try increasing alpha\n"
     ]
    },
    {
     "name": "stderr",
     "output_type": "stream",
     "text": [
      "\n",
      "\n",
      "100%|█████████████████████████████████████████████████████████████████████████████████████████████████████████████████████████| 2/2 [00:00<00:00, 196.16it/s]\u001b[A/home/sarawalk/sdgs_py38/lib/python3.8/site-packages/bicm/graph_classes.py:1113: RuntimeWarning: invalid value encountered in divide\n",
      "  probs = node_xy * neighbor_xy / ((1 + node_xy) * (1 + neighbor_xy))\n"
     ]
    },
    {
     "name": "stdout",
     "output_type": "stream",
     "text": [
      "No V-motifs will be validated. Try increasing alpha\n",
      "\n",
      "                      WARNING: this system has at least a node that is disconnected or connected to all nodes\n",
      "                       of the opposite layer. This may cause some convergence issues.\n",
      "                      Please use the full mode providing a biadjacency matrix or an edgelist,\n",
      "                       or clean your data from these nodes. \n",
      "                      \n",
      "2015 Energy SDG 10: Reduced Inequality\r"
     ]
    },
    {
     "name": "stderr",
     "output_type": "stream",
     "text": [
      "\n",
      "\n",
      "  0%|                                                                                                                                 | 0/30 [00:00<?, ?it/s]\u001b[A/home/sarawalk/sdgs_py38/lib/python3.8/site-packages/bicm/graph_classes.py:1113: RuntimeWarning: invalid value encountered in divide\n",
      "  probs = node_xy * neighbor_xy / ((1 + node_xy) * (1 + neighbor_xy))\n",
      "/home/sarawalk/sdgs_py38/lib/python3.8/site-packages/bicm/graph_classes.py:1113: RuntimeWarning: invalid value encountered in divide\n",
      "  probs = node_xy * neighbor_xy / ((1 + node_xy) * (1 + neighbor_xy))\n",
      "/home/sarawalk/sdgs_py38/lib/python3.8/site-packages/bicm/graph_classes.py:1113: RuntimeWarning: invalid value encountered in divide\n",
      "  probs = node_xy * neighbor_xy / ((1 + node_xy) * (1 + neighbor_xy))\n",
      "/home/sarawalk/sdgs_py38/lib/python3.8/site-packages/bicm/graph_classes.py:1113: RuntimeWarning: invalid value encountered in divide\n",
      "  probs = node_xy * neighbor_xy / ((1 + node_xy) * (1 + neighbor_xy))\n",
      "100%|███████████████████████████████████████████████████████████████████████████████████████████████████████████████████████| 30/30 [00:00<00:00, 596.23it/s]"
     ]
    },
    {
     "name": "stdout",
     "output_type": "stream",
     "text": [
      "No V-motifs will be validated. Try increasing alpha\n"
     ]
    },
    {
     "name": "stderr",
     "output_type": "stream",
     "text": [
      "\n",
      "\n",
      "100%|█████████████████████████████████████████████████████████████████████████████████████████████████████████████████████████| 2/2 [00:00<00:00, 120.25it/s]\u001b[A/home/sarawalk/sdgs_py38/lib/python3.8/site-packages/bicm/graph_classes.py:1113: RuntimeWarning: invalid value encountered in divide\n",
      "  probs = node_xy * neighbor_xy / ((1 + node_xy) * (1 + neighbor_xy))\n",
      "\n"
     ]
    },
    {
     "name": "stdout",
     "output_type": "stream",
     "text": [
      "No V-motifs will be validated. Try increasing alpha\n",
      "\n",
      "                      WARNING: this system has at least a node that is disconnected or connected to all nodes\n",
      "                       of the opposite layer. This may cause some convergence issues.\n",
      "                      Please use the full mode providing a biadjacency matrix or an edgelist,\n",
      "                       or clean your data from these nodes. \n",
      "                      \n",
      "2015 Energy SDG 11: Sustainable Cities and Communities\r"
     ]
    },
    {
     "name": "stderr",
     "output_type": "stream",
     "text": [
      "\n",
      "  0%|                                                                                                                                 | 0/30 [00:00<?, ?it/s]\u001b[A/home/sarawalk/sdgs_py38/lib/python3.8/site-packages/bicm/graph_classes.py:1113: RuntimeWarning: invalid value encountered in divide\n",
      "  probs = node_xy * neighbor_xy / ((1 + node_xy) * (1 + neighbor_xy))\n",
      "/home/sarawalk/sdgs_py38/lib/python3.8/site-packages/bicm/graph_classes.py:1113: RuntimeWarning: invalid value encountered in divide\n",
      "  probs = node_xy * neighbor_xy / ((1 + node_xy) * (1 + neighbor_xy))\n",
      "/home/sarawalk/sdgs_py38/lib/python3.8/site-packages/bicm/graph_classes.py:1113: RuntimeWarning: invalid value encountered in divide\n",
      "  probs = node_xy * neighbor_xy / ((1 + node_xy) * (1 + neighbor_xy))\n",
      "/home/sarawalk/sdgs_py38/lib/python3.8/site-packages/bicm/graph_classes.py:1113: RuntimeWarning: invalid value encountered in divide\n",
      "  probs = node_xy * neighbor_xy / ((1 + node_xy) * (1 + neighbor_xy))\n",
      "100%|███████████████████████████████████████████████████████████████████████████████████████████████████████████████████████| 30/30 [00:00<00:00, 531.70it/s]"
     ]
    },
    {
     "name": "stdout",
     "output_type": "stream",
     "text": [
      "No V-motifs will be validated. Try increasing alpha\n"
     ]
    },
    {
     "name": "stderr",
     "output_type": "stream",
     "text": [
      "\n",
      "\n",
      "100%|█████████████████████████████████████████████████████████████████████████████████████████████████████████████████████████| 2/2 [00:00<00:00, 207.62it/s]\u001b[A\n",
      "/home/sarawalk/sdgs_py38/lib/python3.8/site-packages/bicm/graph_classes.py:1113: RuntimeWarning: invalid value encountered in divide\n",
      "  probs = node_xy * neighbor_xy / ((1 + node_xy) * (1 + neighbor_xy))\n"
     ]
    },
    {
     "name": "stdout",
     "output_type": "stream",
     "text": [
      "No V-motifs will be validated. Try increasing alpha\n",
      "\n",
      "                      WARNING: this system has at least a node that is disconnected or connected to all nodes\n",
      "                       of the opposite layer. This may cause some convergence issues.\n",
      "                      Please use the full mode providing a biadjacency matrix or an edgelist,\n",
      "                       or clean your data from these nodes. \n",
      "                      \n",
      "2015 Energy SDG 12: Responsible Consumption and Production\r"
     ]
    },
    {
     "name": "stderr",
     "output_type": "stream",
     "text": [
      "\n",
      "  0%|                                                                                                                                 | 0/30 [00:00<?, ?it/s]\u001b[A/home/sarawalk/sdgs_py38/lib/python3.8/site-packages/bicm/graph_classes.py:1113: RuntimeWarning: invalid value encountered in divide\n",
      "  probs = node_xy * neighbor_xy / ((1 + node_xy) * (1 + neighbor_xy))\n",
      "/home/sarawalk/sdgs_py38/lib/python3.8/site-packages/bicm/graph_classes.py:1113: RuntimeWarning: invalid value encountered in divide\n",
      "  probs = node_xy * neighbor_xy / ((1 + node_xy) * (1 + neighbor_xy))\n",
      "/home/sarawalk/sdgs_py38/lib/python3.8/site-packages/bicm/graph_classes.py:1113: RuntimeWarning: invalid value encountered in divide\n",
      "  probs = node_xy * neighbor_xy / ((1 + node_xy) * (1 + neighbor_xy))\n",
      "/home/sarawalk/sdgs_py38/lib/python3.8/site-packages/bicm/graph_classes.py:1113: RuntimeWarning: invalid value encountered in divide\n",
      "  probs = node_xy * neighbor_xy / ((1 + node_xy) * (1 + neighbor_xy))\n",
      "100%|███████████████████████████████████████████████████████████████████████████████████████████████████████████████████████| 30/30 [00:00<00:00, 656.56it/s]\n"
     ]
    },
    {
     "name": "stdout",
     "output_type": "stream",
     "text": [
      "No V-motifs will be validated. Try increasing alpha\n"
     ]
    },
    {
     "name": "stderr",
     "output_type": "stream",
     "text": [
      "\n",
      "100%|█████████████████████████████████████████████████████████████████████████████████████████████████████████████████████████| 2/2 [00:00<00:00, 175.69it/s]\u001b[A/home/sarawalk/sdgs_py38/lib/python3.8/site-packages/bicm/graph_classes.py:1113: RuntimeWarning: invalid value encountered in divide\n",
      "  probs = node_xy * neighbor_xy / ((1 + node_xy) * (1 + neighbor_xy))\n",
      "\n"
     ]
    },
    {
     "name": "stdout",
     "output_type": "stream",
     "text": [
      "No V-motifs will be validated. Try increasing alpha\n",
      "\n",
      "                      WARNING: this system has at least a node that is disconnected or connected to all nodes\n",
      "                       of the opposite layer. This may cause some convergence issues.\n",
      "                      Please use the full mode providing a biadjacency matrix or an edgelist,\n",
      "                       or clean your data from these nodes. \n",
      "                      \n",
      "2015 Energy SDG 13: Climate Action\r"
     ]
    },
    {
     "name": "stderr",
     "output_type": "stream",
     "text": [
      "\n",
      "  0%|                                                                                                                                 | 0/30 [00:00<?, ?it/s]\u001b[A/home/sarawalk/sdgs_py38/lib/python3.8/site-packages/bicm/graph_classes.py:1113: RuntimeWarning: invalid value encountered in divide\n",
      "  probs = node_xy * neighbor_xy / ((1 + node_xy) * (1 + neighbor_xy))\n",
      "/home/sarawalk/sdgs_py38/lib/python3.8/site-packages/bicm/graph_classes.py:1113: RuntimeWarning: invalid value encountered in divide\n",
      "  probs = node_xy * neighbor_xy / ((1 + node_xy) * (1 + neighbor_xy))\n",
      "/home/sarawalk/sdgs_py38/lib/python3.8/site-packages/bicm/graph_classes.py:1113: RuntimeWarning: invalid value encountered in divide\n",
      "  probs = node_xy * neighbor_xy / ((1 + node_xy) * (1 + neighbor_xy))\n",
      "/home/sarawalk/sdgs_py38/lib/python3.8/site-packages/bicm/graph_classes.py:1113: RuntimeWarning: invalid value encountered in divide\n",
      "  probs = node_xy * neighbor_xy / ((1 + node_xy) * (1 + neighbor_xy))\n",
      "100%|███████████████████████████████████████████████████████████████████████████████████████████████████████████████████████| 30/30 [00:00<00:00, 525.62it/s]"
     ]
    },
    {
     "name": "stdout",
     "output_type": "stream",
     "text": [
      "No V-motifs will be validated. Try increasing alpha\n"
     ]
    },
    {
     "name": "stderr",
     "output_type": "stream",
     "text": [
      "\n",
      "\n",
      "100%|█████████████████████████████████████████████████████████████████████████████████████████████████████████████████████████| 2/2 [00:00<00:00, 194.57it/s]\u001b[A/home/sarawalk/sdgs_py38/lib/python3.8/site-packages/bicm/graph_classes.py:1113: RuntimeWarning: invalid value encountered in divide\n",
      "  probs = node_xy * neighbor_xy / ((1 + node_xy) * (1 + neighbor_xy))\n",
      "\n"
     ]
    },
    {
     "name": "stdout",
     "output_type": "stream",
     "text": [
      "No V-motifs will be validated. Try increasing alpha\n",
      "\n",
      "                      WARNING: this system has at least a node that is disconnected or connected to all nodes\n",
      "                       of the opposite layer. This may cause some convergence issues.\n",
      "                      Please use the full mode providing a biadjacency matrix or an edgelist,\n",
      "                       or clean your data from these nodes. \n",
      "                      \n",
      "2015 Energy SDG 14: Life Below Water\r"
     ]
    },
    {
     "name": "stderr",
     "output_type": "stream",
     "text": [
      "\n",
      "  0%|                                                                                                                                 | 0/30 [00:00<?, ?it/s]\u001b[A/home/sarawalk/sdgs_py38/lib/python3.8/site-packages/bicm/graph_classes.py:1113: RuntimeWarning: invalid value encountered in divide\n",
      "  probs = node_xy * neighbor_xy / ((1 + node_xy) * (1 + neighbor_xy))\n",
      "/home/sarawalk/sdgs_py38/lib/python3.8/site-packages/bicm/graph_classes.py:1113: RuntimeWarning: invalid value encountered in divide\n",
      "  probs = node_xy * neighbor_xy / ((1 + node_xy) * (1 + neighbor_xy))\n",
      "/home/sarawalk/sdgs_py38/lib/python3.8/site-packages/bicm/graph_classes.py:1113: RuntimeWarning: invalid value encountered in divide\n",
      "  probs = node_xy * neighbor_xy / ((1 + node_xy) * (1 + neighbor_xy))\n",
      "/home/sarawalk/sdgs_py38/lib/python3.8/site-packages/bicm/graph_classes.py:1113: RuntimeWarning: invalid value encountered in divide\n",
      "  probs = node_xy * neighbor_xy / ((1 + node_xy) * (1 + neighbor_xy))\n",
      "100%|███████████████████████████████████████████████████████████████████████████████████████████████████████████████████████| 30/30 [00:00<00:00, 587.72it/s]\n"
     ]
    },
    {
     "name": "stdout",
     "output_type": "stream",
     "text": [
      "No V-motifs will be validated. Try increasing alpha\n"
     ]
    },
    {
     "name": "stderr",
     "output_type": "stream",
     "text": [
      "\n",
      "100%|█████████████████████████████████████████████████████████████████████████████████████████████████████████████████████████| 2/2 [00:00<00:00, 141.74it/s]\u001b[A/home/sarawalk/sdgs_py38/lib/python3.8/site-packages/bicm/graph_classes.py:1113: RuntimeWarning: invalid value encountered in divide\n",
      "  probs = node_xy * neighbor_xy / ((1 + node_xy) * (1 + neighbor_xy))\n",
      "\n"
     ]
    },
    {
     "name": "stdout",
     "output_type": "stream",
     "text": [
      "No V-motifs will be validated. Try increasing alpha\n",
      "\n",
      "                      WARNING: this system has at least a node that is disconnected or connected to all nodes\n",
      "                       of the opposite layer. This may cause some convergence issues.\n",
      "                      Please use the full mode providing a biadjacency matrix or an edgelist,\n",
      "                       or clean your data from these nodes. \n",
      "                      \n",
      "2015 Energy SDG 15: Life on Land\r"
     ]
    },
    {
     "name": "stderr",
     "output_type": "stream",
     "text": [
      "\n",
      "  0%|                                                                                                                                 | 0/30 [00:00<?, ?it/s]\u001b[A/home/sarawalk/sdgs_py38/lib/python3.8/site-packages/bicm/graph_classes.py:1113: RuntimeWarning: invalid value encountered in divide\n",
      "  probs = node_xy * neighbor_xy / ((1 + node_xy) * (1 + neighbor_xy))\n",
      "/home/sarawalk/sdgs_py38/lib/python3.8/site-packages/bicm/graph_classes.py:1113: RuntimeWarning: invalid value encountered in divide\n",
      "  probs = node_xy * neighbor_xy / ((1 + node_xy) * (1 + neighbor_xy))\n",
      "/home/sarawalk/sdgs_py38/lib/python3.8/site-packages/bicm/graph_classes.py:1113: RuntimeWarning: invalid value encountered in divide\n",
      "  probs = node_xy * neighbor_xy / ((1 + node_xy) * (1 + neighbor_xy))\n",
      "/home/sarawalk/sdgs_py38/lib/python3.8/site-packages/bicm/graph_classes.py:1113: RuntimeWarning: invalid value encountered in divide\n",
      "  probs = node_xy * neighbor_xy / ((1 + node_xy) * (1 + neighbor_xy))\n",
      "100%|███████████████████████████████████████████████████████████████████████████████████████████████████████████████████████| 30/30 [00:00<00:00, 571.05it/s]"
     ]
    },
    {
     "name": "stdout",
     "output_type": "stream",
     "text": [
      "No V-motifs will be validated. Try increasing alpha\n"
     ]
    },
    {
     "name": "stderr",
     "output_type": "stream",
     "text": [
      "\n",
      "\n",
      "100%|█████████████████████████████████████████████████████████████████████████████████████████████████████████████████████████| 2/2 [00:00<00:00, 156.55it/s]\u001b[A\n",
      "/home/sarawalk/sdgs_py38/lib/python3.8/site-packages/bicm/graph_classes.py:1113: RuntimeWarning: invalid value encountered in divide\n",
      "  probs = node_xy * neighbor_xy / ((1 + node_xy) * (1 + neighbor_xy))\n"
     ]
    },
    {
     "name": "stdout",
     "output_type": "stream",
     "text": [
      "No V-motifs will be validated. Try increasing alpha\n",
      "\n",
      "                      WARNING: this system has at least a node that is disconnected or connected to all nodes\n",
      "                       of the opposite layer. This may cause some convergence issues.\n",
      "                      Please use the full mode providing a biadjacency matrix or an edgelist,\n",
      "                       or clean your data from these nodes. \n",
      "                      \n",
      "2015 Energy SDG 16: Peace, Justice, and Strong Institutions\r"
     ]
    },
    {
     "name": "stderr",
     "output_type": "stream",
     "text": [
      "\n",
      "  0%|                                                                                                                                 | 0/30 [00:00<?, ?it/s]\u001b[A/home/sarawalk/sdgs_py38/lib/python3.8/site-packages/bicm/graph_classes.py:1113: RuntimeWarning: invalid value encountered in divide\n",
      "  probs = node_xy * neighbor_xy / ((1 + node_xy) * (1 + neighbor_xy))\n",
      "/home/sarawalk/sdgs_py38/lib/python3.8/site-packages/bicm/graph_classes.py:1113: RuntimeWarning: invalid value encountered in divide\n",
      "  probs = node_xy * neighbor_xy / ((1 + node_xy) * (1 + neighbor_xy))\n",
      "/home/sarawalk/sdgs_py38/lib/python3.8/site-packages/bicm/graph_classes.py:1113: RuntimeWarning: invalid value encountered in divide\n",
      "  probs = node_xy * neighbor_xy / ((1 + node_xy) * (1 + neighbor_xy))\n",
      "/home/sarawalk/sdgs_py38/lib/python3.8/site-packages/bicm/graph_classes.py:1113: RuntimeWarning: invalid value encountered in divide\n",
      "  probs = node_xy * neighbor_xy / ((1 + node_xy) * (1 + neighbor_xy))\n",
      "100%|███████████████████████████████████████████████████████████████████████████████████████████████████████████████████████| 30/30 [00:00<00:00, 697.55it/s]"
     ]
    },
    {
     "name": "stdout",
     "output_type": "stream",
     "text": [
      "No V-motifs will be validated. Try increasing alpha\n"
     ]
    },
    {
     "name": "stderr",
     "output_type": "stream",
     "text": [
      "\n",
      "\n",
      "100%|█████████████████████████████████████████████████████████████████████████████████████████████████████████████████████████| 2/2 [00:00<00:00, 188.98it/s]\u001b[A/home/sarawalk/sdgs_py38/lib/python3.8/site-packages/bicm/graph_classes.py:1113: RuntimeWarning: invalid value encountered in divide\n",
      "  probs = node_xy * neighbor_xy / ((1 + node_xy) * (1 + neighbor_xy))\n",
      "\n"
     ]
    },
    {
     "name": "stdout",
     "output_type": "stream",
     "text": [
      "No V-motifs will be validated. Try increasing alpha\n",
      "\n",
      "                      WARNING: this system has at least a node that is disconnected or connected to all nodes\n",
      "                       of the opposite layer. This may cause some convergence issues.\n",
      "                      Please use the full mode providing a biadjacency matrix or an edgelist,\n",
      "                       or clean your data from these nodes. \n",
      "                      \n",
      "2015 Energy SDG 17: Partnerships for the Goals\r"
     ]
    },
    {
     "name": "stderr",
     "output_type": "stream",
     "text": [
      "\n",
      "  0%|                                                                                                                                 | 0/30 [00:00<?, ?it/s]\u001b[A/home/sarawalk/sdgs_py38/lib/python3.8/site-packages/bicm/graph_classes.py:1113: RuntimeWarning: invalid value encountered in divide\n",
      "  probs = node_xy * neighbor_xy / ((1 + node_xy) * (1 + neighbor_xy))\n",
      "/home/sarawalk/sdgs_py38/lib/python3.8/site-packages/bicm/graph_classes.py:1113: RuntimeWarning: invalid value encountered in divide\n",
      "  probs = node_xy * neighbor_xy / ((1 + node_xy) * (1 + neighbor_xy))\n",
      "/home/sarawalk/sdgs_py38/lib/python3.8/site-packages/bicm/graph_classes.py:1113: RuntimeWarning: invalid value encountered in divide\n",
      "  probs = node_xy * neighbor_xy / ((1 + node_xy) * (1 + neighbor_xy))\n",
      "/home/sarawalk/sdgs_py38/lib/python3.8/site-packages/bicm/graph_classes.py:1113: RuntimeWarning: invalid value encountered in divide\n",
      "  probs = node_xy * neighbor_xy / ((1 + node_xy) * (1 + neighbor_xy))\n",
      "100%|███████████████████████████████████████████████████████████████████████████████████████████████████████████████████████| 30/30 [00:00<00:00, 642.80it/s]\n"
     ]
    },
    {
     "name": "stdout",
     "output_type": "stream",
     "text": [
      "No V-motifs will be validated. Try increasing alpha\n"
     ]
    },
    {
     "name": "stderr",
     "output_type": "stream",
     "text": [
      "\n",
      "100%|█████████████████████████████████████████████████████████████████████████████████████████████████████████████████████████| 2/2 [00:00<00:00, 100.30it/s]\u001b[A/home/sarawalk/sdgs_py38/lib/python3.8/site-packages/bicm/graph_classes.py:1113: RuntimeWarning: invalid value encountered in divide\n",
      "  probs = node_xy * neighbor_xy / ((1 + node_xy) * (1 + neighbor_xy))\n",
      "\n"
     ]
    },
    {
     "name": "stdout",
     "output_type": "stream",
     "text": [
      "No V-motifs will be validated. Try increasing alpha\n",
      "\n",
      "                      WARNING: this system has at least a node that is disconnected or connected to all nodes\n",
      "                       of the opposite layer. This may cause some convergence issues.\n",
      "                      Please use the full mode providing a biadjacency matrix or an edgelist,\n",
      "                       or clean your data from these nodes. \n",
      "                      \n",
      "2016 Energy SDG 1: No Poverty\r"
     ]
    },
    {
     "name": "stderr",
     "output_type": "stream",
     "text": [
      "\n",
      "  0%|                                                                                                                                 | 0/37 [00:00<?, ?it/s]\u001b[A/home/sarawalk/sdgs_py38/lib/python3.8/site-packages/bicm/graph_classes.py:1113: RuntimeWarning: invalid value encountered in divide\n",
      "  probs = node_xy * neighbor_xy / ((1 + node_xy) * (1 + neighbor_xy))\n",
      "/home/sarawalk/sdgs_py38/lib/python3.8/site-packages/bicm/graph_classes.py:1113: RuntimeWarning: invalid value encountered in divide\n",
      "  probs = node_xy * neighbor_xy / ((1 + node_xy) * (1 + neighbor_xy))\n",
      "/home/sarawalk/sdgs_py38/lib/python3.8/site-packages/bicm/graph_classes.py:1113: RuntimeWarning: invalid value encountered in divide\n",
      "  probs = node_xy * neighbor_xy / ((1 + node_xy) * (1 + neighbor_xy))\n",
      "/home/sarawalk/sdgs_py38/lib/python3.8/site-packages/bicm/graph_classes.py:1113: RuntimeWarning: invalid value encountered in divide\n",
      "  probs = node_xy * neighbor_xy / ((1 + node_xy) * (1 + neighbor_xy))\n",
      "100%|███████████████████████████████████████████████████████████████████████████████████████████████████████████████████████| 37/37 [00:00<00:00, 527.80it/s]"
     ]
    },
    {
     "name": "stdout",
     "output_type": "stream",
     "text": [
      "No V-motifs will be validated. Try increasing alpha\n"
     ]
    },
    {
     "name": "stderr",
     "output_type": "stream",
     "text": [
      "\n",
      "\n",
      "100%|█████████████████████████████████████████████████████████████████████████████████████████████████████████████████████████| 2/2 [00:00<00:00, 193.31it/s]\u001b[A/home/sarawalk/sdgs_py38/lib/python3.8/site-packages/bicm/graph_classes.py:1113: RuntimeWarning: invalid value encountered in divide\n",
      "  probs = node_xy * neighbor_xy / ((1 + node_xy) * (1 + neighbor_xy))\n",
      "\n"
     ]
    },
    {
     "name": "stdout",
     "output_type": "stream",
     "text": [
      "No V-motifs will be validated. Try increasing alpha\n",
      "\n",
      "                      WARNING: this system has at least a node that is disconnected or connected to all nodes\n",
      "                       of the opposite layer. This may cause some convergence issues.\n",
      "                      Please use the full mode providing a biadjacency matrix or an edgelist,\n",
      "                       or clean your data from these nodes. \n",
      "                      \n",
      "2016 Energy SDG 3: Good Health and Well-being\r"
     ]
    },
    {
     "name": "stderr",
     "output_type": "stream",
     "text": [
      "\n",
      "  0%|                                                                                                                                 | 0/37 [00:00<?, ?it/s]\u001b[A/home/sarawalk/sdgs_py38/lib/python3.8/site-packages/bicm/graph_classes.py:1113: RuntimeWarning: invalid value encountered in divide\n",
      "  probs = node_xy * neighbor_xy / ((1 + node_xy) * (1 + neighbor_xy))\n",
      "/home/sarawalk/sdgs_py38/lib/python3.8/site-packages/bicm/graph_classes.py:1113: RuntimeWarning: invalid value encountered in divide\n",
      "  probs = node_xy * neighbor_xy / ((1 + node_xy) * (1 + neighbor_xy))\n",
      "/home/sarawalk/sdgs_py38/lib/python3.8/site-packages/bicm/graph_classes.py:1113: RuntimeWarning: invalid value encountered in divide\n",
      "  probs = node_xy * neighbor_xy / ((1 + node_xy) * (1 + neighbor_xy))\n",
      "/home/sarawalk/sdgs_py38/lib/python3.8/site-packages/bicm/graph_classes.py:1113: RuntimeWarning: invalid value encountered in divide\n",
      "  probs = node_xy * neighbor_xy / ((1 + node_xy) * (1 + neighbor_xy))\n",
      "100%|███████████████████████████████████████████████████████████████████████████████████████████████████████████████████████| 37/37 [00:00<00:00, 843.41it/s]"
     ]
    },
    {
     "name": "stdout",
     "output_type": "stream",
     "text": [
      "No V-motifs will be validated. Try increasing alpha\n"
     ]
    },
    {
     "name": "stderr",
     "output_type": "stream",
     "text": [
      "\n",
      "\n",
      "100%|█████████████████████████████████████████████████████████████████████████████████████████████████████████████████████████| 2/2 [00:00<00:00, 131.16it/s]\u001b[A/home/sarawalk/sdgs_py38/lib/python3.8/site-packages/bicm/graph_classes.py:1113: RuntimeWarning: invalid value encountered in divide\n",
      "  probs = node_xy * neighbor_xy / ((1 + node_xy) * (1 + neighbor_xy))\n",
      "\n"
     ]
    },
    {
     "name": "stdout",
     "output_type": "stream",
     "text": [
      "No V-motifs will be validated. Try increasing alpha\n",
      "\n",
      "                      WARNING: this system has at least a node that is disconnected or connected to all nodes\n",
      "                       of the opposite layer. This may cause some convergence issues.\n",
      "                      Please use the full mode providing a biadjacency matrix or an edgelist,\n",
      "                       or clean your data from these nodes. \n",
      "                      \n",
      "2016 Energy SDG 4: Quality Education\r"
     ]
    },
    {
     "name": "stderr",
     "output_type": "stream",
     "text": [
      "\n",
      "  0%|                                                                                                                                 | 0/37 [00:00<?, ?it/s]\u001b[A/home/sarawalk/sdgs_py38/lib/python3.8/site-packages/bicm/graph_classes.py:1113: RuntimeWarning: invalid value encountered in divide\n",
      "  probs = node_xy * neighbor_xy / ((1 + node_xy) * (1 + neighbor_xy))\n",
      "/home/sarawalk/sdgs_py38/lib/python3.8/site-packages/bicm/graph_classes.py:1113: RuntimeWarning: invalid value encountered in divide\n",
      "  probs = node_xy * neighbor_xy / ((1 + node_xy) * (1 + neighbor_xy))\n",
      "/home/sarawalk/sdgs_py38/lib/python3.8/site-packages/bicm/graph_classes.py:1113: RuntimeWarning: invalid value encountered in divide\n",
      "  probs = node_xy * neighbor_xy / ((1 + node_xy) * (1 + neighbor_xy))\n",
      "/home/sarawalk/sdgs_py38/lib/python3.8/site-packages/bicm/graph_classes.py:1113: RuntimeWarning: invalid value encountered in divide\n",
      "  probs = node_xy * neighbor_xy / ((1 + node_xy) * (1 + neighbor_xy))\n",
      "100%|███████████████████████████████████████████████████████████████████████████████████████████████████████████████████████| 37/37 [00:00<00:00, 594.62it/s]"
     ]
    },
    {
     "name": "stdout",
     "output_type": "stream",
     "text": [
      "No V-motifs will be validated. Try increasing alpha\n"
     ]
    },
    {
     "name": "stderr",
     "output_type": "stream",
     "text": [
      "\n",
      "\n",
      "100%|█████████████████████████████████████████████████████████████████████████████████████████████████████████████████████████| 2/2 [00:00<00:00, 155.21it/s]\u001b[A/home/sarawalk/sdgs_py38/lib/python3.8/site-packages/bicm/graph_classes.py:1113: RuntimeWarning: invalid value encountered in divide\n",
      "  probs = node_xy * neighbor_xy / ((1 + node_xy) * (1 + neighbor_xy))\n",
      "\n"
     ]
    },
    {
     "name": "stdout",
     "output_type": "stream",
     "text": [
      "No V-motifs will be validated. Try increasing alpha\n",
      "\n",
      "                      WARNING: this system has at least a node that is disconnected or connected to all nodes\n",
      "                       of the opposite layer. This may cause some convergence issues.\n",
      "                      Please use the full mode providing a biadjacency matrix or an edgelist,\n",
      "                       or clean your data from these nodes. \n",
      "                      \n",
      "2016 Energy SDG 5: Gender Equality\r"
     ]
    },
    {
     "name": "stderr",
     "output_type": "stream",
     "text": [
      "\n",
      "  0%|                                                                                                                                 | 0/37 [00:00<?, ?it/s]\u001b[A/home/sarawalk/sdgs_py38/lib/python3.8/site-packages/bicm/graph_classes.py:1113: RuntimeWarning: invalid value encountered in divide\n",
      "  probs = node_xy * neighbor_xy / ((1 + node_xy) * (1 + neighbor_xy))\n",
      "/home/sarawalk/sdgs_py38/lib/python3.8/site-packages/bicm/graph_classes.py:1113: RuntimeWarning: invalid value encountered in divide\n",
      "  probs = node_xy * neighbor_xy / ((1 + node_xy) * (1 + neighbor_xy))\n",
      "/home/sarawalk/sdgs_py38/lib/python3.8/site-packages/bicm/graph_classes.py:1113: RuntimeWarning: invalid value encountered in divide\n",
      "  probs = node_xy * neighbor_xy / ((1 + node_xy) * (1 + neighbor_xy))\n",
      "/home/sarawalk/sdgs_py38/lib/python3.8/site-packages/bicm/graph_classes.py:1113: RuntimeWarning: invalid value encountered in divide\n",
      "  probs = node_xy * neighbor_xy / ((1 + node_xy) * (1 + neighbor_xy))\n",
      "100%|███████████████████████████████████████████████████████████████████████████████████████████████████████████████████████| 37/37 [00:00<00:00, 856.40it/s]"
     ]
    },
    {
     "name": "stdout",
     "output_type": "stream",
     "text": [
      "No V-motifs will be validated. Try increasing alpha\n"
     ]
    },
    {
     "name": "stderr",
     "output_type": "stream",
     "text": [
      "\n",
      "\n",
      "100%|█████████████████████████████████████████████████████████████████████████████████████████████████████████████████████████| 2/2 [00:00<00:00, 142.17it/s]\u001b[A/home/sarawalk/sdgs_py38/lib/python3.8/site-packages/bicm/graph_classes.py:1113: RuntimeWarning: invalid value encountered in divide\n",
      "  probs = node_xy * neighbor_xy / ((1 + node_xy) * (1 + neighbor_xy))\n",
      "\n"
     ]
    },
    {
     "name": "stdout",
     "output_type": "stream",
     "text": [
      "No V-motifs will be validated. Try increasing alpha\n",
      "\n",
      "                      WARNING: this system has at least a node that is disconnected or connected to all nodes\n",
      "                       of the opposite layer. This may cause some convergence issues.\n",
      "                      Please use the full mode providing a biadjacency matrix or an edgelist,\n",
      "                       or clean your data from these nodes. \n",
      "                      \n",
      "2016 Energy SDG 6: Clean Water and Sanitation\r"
     ]
    },
    {
     "name": "stderr",
     "output_type": "stream",
     "text": [
      "\n",
      "  0%|                                                                                                                                 | 0/37 [00:00<?, ?it/s]\u001b[A/home/sarawalk/sdgs_py38/lib/python3.8/site-packages/bicm/graph_classes.py:1113: RuntimeWarning: invalid value encountered in divide\n",
      "  probs = node_xy * neighbor_xy / ((1 + node_xy) * (1 + neighbor_xy))\n",
      "/home/sarawalk/sdgs_py38/lib/python3.8/site-packages/bicm/graph_classes.py:1113: RuntimeWarning: invalid value encountered in divide\n",
      "  probs = node_xy * neighbor_xy / ((1 + node_xy) * (1 + neighbor_xy))\n",
      "/home/sarawalk/sdgs_py38/lib/python3.8/site-packages/bicm/graph_classes.py:1113: RuntimeWarning: invalid value encountered in divide\n",
      "  probs = node_xy * neighbor_xy / ((1 + node_xy) * (1 + neighbor_xy))\n",
      "/home/sarawalk/sdgs_py38/lib/python3.8/site-packages/bicm/graph_classes.py:1113: RuntimeWarning: invalid value encountered in divide\n",
      "  probs = node_xy * neighbor_xy / ((1 + node_xy) * (1 + neighbor_xy))\n",
      "100%|███████████████████████████████████████████████████████████████████████████████████████████████████████████████████████| 37/37 [00:00<00:00, 705.02it/s]"
     ]
    },
    {
     "name": "stdout",
     "output_type": "stream",
     "text": [
      "No V-motifs will be validated. Try increasing alpha\n"
     ]
    },
    {
     "name": "stderr",
     "output_type": "stream",
     "text": [
      "\n",
      "\n",
      "100%|█████████████████████████████████████████████████████████████████████████████████████████████████████████████████████████| 2/2 [00:00<00:00, 140.02it/s]\u001b[A/home/sarawalk/sdgs_py38/lib/python3.8/site-packages/bicm/graph_classes.py:1113: RuntimeWarning: invalid value encountered in divide\n",
      "  probs = node_xy * neighbor_xy / ((1 + node_xy) * (1 + neighbor_xy))\n",
      "\n"
     ]
    },
    {
     "name": "stdout",
     "output_type": "stream",
     "text": [
      "No V-motifs will be validated. Try increasing alpha\n",
      "\n",
      "                      WARNING: this system has at least a node that is disconnected or connected to all nodes\n",
      "                       of the opposite layer. This may cause some convergence issues.\n",
      "                      Please use the full mode providing a biadjacency matrix or an edgelist,\n",
      "                       or clean your data from these nodes. \n",
      "                      \n",
      "2016 Energy SDG 7: Affordable and Clean Energy\r"
     ]
    },
    {
     "name": "stderr",
     "output_type": "stream",
     "text": [
      "\n",
      "  0%|                                                                                                                                 | 0/37 [00:00<?, ?it/s]\u001b[A/home/sarawalk/sdgs_py38/lib/python3.8/site-packages/bicm/graph_classes.py:1113: RuntimeWarning: invalid value encountered in divide\n",
      "  probs = node_xy * neighbor_xy / ((1 + node_xy) * (1 + neighbor_xy))\n",
      "/home/sarawalk/sdgs_py38/lib/python3.8/site-packages/bicm/graph_classes.py:1113: RuntimeWarning: invalid value encountered in divide\n",
      "  probs = node_xy * neighbor_xy / ((1 + node_xy) * (1 + neighbor_xy))\n",
      "/home/sarawalk/sdgs_py38/lib/python3.8/site-packages/bicm/graph_classes.py:1113: RuntimeWarning: invalid value encountered in divide\n",
      "  probs = node_xy * neighbor_xy / ((1 + node_xy) * (1 + neighbor_xy))\n",
      "/home/sarawalk/sdgs_py38/lib/python3.8/site-packages/bicm/graph_classes.py:1113: RuntimeWarning: invalid value encountered in divide\n",
      "  probs = node_xy * neighbor_xy / ((1 + node_xy) * (1 + neighbor_xy))\n",
      "100%|███████████████████████████████████████████████████████████████████████████████████████████████████████████████████████| 37/37 [00:00<00:00, 721.87it/s]"
     ]
    },
    {
     "name": "stdout",
     "output_type": "stream",
     "text": [
      "No V-motifs will be validated. Try increasing alpha\n"
     ]
    },
    {
     "name": "stderr",
     "output_type": "stream",
     "text": [
      "\n",
      "\n",
      "100%|█████████████████████████████████████████████████████████████████████████████████████████████████████████████████████████| 2/2 [00:00<00:00, 107.52it/s]\u001b[A/home/sarawalk/sdgs_py38/lib/python3.8/site-packages/bicm/graph_classes.py:1113: RuntimeWarning: invalid value encountered in divide\n",
      "  probs = node_xy * neighbor_xy / ((1 + node_xy) * (1 + neighbor_xy))\n",
      "\n"
     ]
    },
    {
     "name": "stdout",
     "output_type": "stream",
     "text": [
      "No V-motifs will be validated. Try increasing alpha\n",
      "\n",
      "                      WARNING: this system has at least a node that is disconnected or connected to all nodes\n",
      "                       of the opposite layer. This may cause some convergence issues.\n",
      "                      Please use the full mode providing a biadjacency matrix or an edgelist,\n",
      "                       or clean your data from these nodes. \n",
      "                      \n",
      "2016 Energy SDG 8: Decent Work and Economic Growth\r"
     ]
    },
    {
     "name": "stderr",
     "output_type": "stream",
     "text": [
      "\n",
      "  0%|                                                                                                                                 | 0/37 [00:00<?, ?it/s]\u001b[A/home/sarawalk/sdgs_py38/lib/python3.8/site-packages/bicm/graph_classes.py:1113: RuntimeWarning: invalid value encountered in divide\n",
      "  probs = node_xy * neighbor_xy / ((1 + node_xy) * (1 + neighbor_xy))\n",
      "/home/sarawalk/sdgs_py38/lib/python3.8/site-packages/bicm/graph_classes.py:1113: RuntimeWarning: invalid value encountered in divide\n",
      "  probs = node_xy * neighbor_xy / ((1 + node_xy) * (1 + neighbor_xy))\n",
      "/home/sarawalk/sdgs_py38/lib/python3.8/site-packages/bicm/graph_classes.py:1113: RuntimeWarning: invalid value encountered in divide\n",
      "  probs = node_xy * neighbor_xy / ((1 + node_xy) * (1 + neighbor_xy))\n",
      "/home/sarawalk/sdgs_py38/lib/python3.8/site-packages/bicm/graph_classes.py:1113: RuntimeWarning: invalid value encountered in divide\n",
      "  probs = node_xy * neighbor_xy / ((1 + node_xy) * (1 + neighbor_xy))\n",
      "100%|███████████████████████████████████████████████████████████████████████████████████████████████████████████████████████| 37/37 [00:00<00:00, 819.27it/s]"
     ]
    },
    {
     "name": "stdout",
     "output_type": "stream",
     "text": [
      "No V-motifs will be validated. Try increasing alpha\n"
     ]
    },
    {
     "name": "stderr",
     "output_type": "stream",
     "text": [
      "\n",
      "\n",
      "100%|█████████████████████████████████████████████████████████████████████████████████████████████████████████████████████████| 2/2 [00:00<00:00, 134.64it/s]\u001b[A/home/sarawalk/sdgs_py38/lib/python3.8/site-packages/bicm/graph_classes.py:1113: RuntimeWarning: invalid value encountered in divide\n",
      "  probs = node_xy * neighbor_xy / ((1 + node_xy) * (1 + neighbor_xy))\n",
      "\n"
     ]
    },
    {
     "name": "stdout",
     "output_type": "stream",
     "text": [
      "No V-motifs will be validated. Try increasing alpha\n",
      "\n",
      "                      WARNING: this system has at least a node that is disconnected or connected to all nodes\n",
      "                       of the opposite layer. This may cause some convergence issues.\n",
      "                      Please use the full mode providing a biadjacency matrix or an edgelist,\n",
      "                       or clean your data from these nodes. \n",
      "                      \n",
      "2016 Energy SDG 9: Industry, Innovation, and Infrastructure\r"
     ]
    },
    {
     "name": "stderr",
     "output_type": "stream",
     "text": [
      "\n",
      "  0%|                                                                                                                                 | 0/37 [00:00<?, ?it/s]\u001b[A/home/sarawalk/sdgs_py38/lib/python3.8/site-packages/bicm/graph_classes.py:1113: RuntimeWarning: invalid value encountered in divide\n",
      "  probs = node_xy * neighbor_xy / ((1 + node_xy) * (1 + neighbor_xy))\n",
      "/home/sarawalk/sdgs_py38/lib/python3.8/site-packages/bicm/graph_classes.py:1113: RuntimeWarning: invalid value encountered in divide\n",
      "  probs = node_xy * neighbor_xy / ((1 + node_xy) * (1 + neighbor_xy))\n",
      "/home/sarawalk/sdgs_py38/lib/python3.8/site-packages/bicm/graph_classes.py:1113: RuntimeWarning: invalid value encountered in divide\n",
      "  probs = node_xy * neighbor_xy / ((1 + node_xy) * (1 + neighbor_xy))\n",
      "/home/sarawalk/sdgs_py38/lib/python3.8/site-packages/bicm/graph_classes.py:1113: RuntimeWarning: invalid value encountered in divide\n",
      "  probs = node_xy * neighbor_xy / ((1 + node_xy) * (1 + neighbor_xy))\n",
      "100%|███████████████████████████████████████████████████████████████████████████████████████████████████████████████████████| 37/37 [00:00<00:00, 693.93it/s]"
     ]
    },
    {
     "name": "stdout",
     "output_type": "stream",
     "text": [
      "No V-motifs will be validated. Try increasing alpha\n"
     ]
    },
    {
     "name": "stderr",
     "output_type": "stream",
     "text": [
      "\n",
      "\n",
      "100%|█████████████████████████████████████████████████████████████████████████████████████████████████████████████████████████| 2/2 [00:00<00:00, 120.05it/s]\u001b[A\n",
      "/home/sarawalk/sdgs_py38/lib/python3.8/site-packages/bicm/graph_classes.py:1113: RuntimeWarning: invalid value encountered in divide\n",
      "  probs = node_xy * neighbor_xy / ((1 + node_xy) * (1 + neighbor_xy))\n"
     ]
    },
    {
     "name": "stdout",
     "output_type": "stream",
     "text": [
      "No V-motifs will be validated. Try increasing alpha\n",
      "\n",
      "                      WARNING: this system has at least a node that is disconnected or connected to all nodes\n",
      "                       of the opposite layer. This may cause some convergence issues.\n",
      "                      Please use the full mode providing a biadjacency matrix or an edgelist,\n",
      "                       or clean your data from these nodes. \n",
      "                      \n",
      "2016 Energy SDG 10: Reduced Inequality\r"
     ]
    },
    {
     "name": "stderr",
     "output_type": "stream",
     "text": [
      "\n",
      "  0%|                                                                                                                                 | 0/37 [00:00<?, ?it/s]\u001b[A/home/sarawalk/sdgs_py38/lib/python3.8/site-packages/bicm/graph_classes.py:1113: RuntimeWarning: invalid value encountered in divide\n",
      "  probs = node_xy * neighbor_xy / ((1 + node_xy) * (1 + neighbor_xy))\n",
      "/home/sarawalk/sdgs_py38/lib/python3.8/site-packages/bicm/graph_classes.py:1113: RuntimeWarning: invalid value encountered in divide\n",
      "  probs = node_xy * neighbor_xy / ((1 + node_xy) * (1 + neighbor_xy))\n",
      "/home/sarawalk/sdgs_py38/lib/python3.8/site-packages/bicm/graph_classes.py:1113: RuntimeWarning: invalid value encountered in divide\n",
      "  probs = node_xy * neighbor_xy / ((1 + node_xy) * (1 + neighbor_xy))\n",
      "/home/sarawalk/sdgs_py38/lib/python3.8/site-packages/bicm/graph_classes.py:1113: RuntimeWarning: invalid value encountered in divide\n",
      "  probs = node_xy * neighbor_xy / ((1 + node_xy) * (1 + neighbor_xy))\n",
      "100%|███████████████████████████████████████████████████████████████████████████████████████████████████████████████████████| 37/37 [00:00<00:00, 646.30it/s]"
     ]
    },
    {
     "name": "stdout",
     "output_type": "stream",
     "text": [
      "No V-motifs will be validated. Try increasing alpha\n"
     ]
    },
    {
     "name": "stderr",
     "output_type": "stream",
     "text": [
      "\n",
      "\n",
      "100%|█████████████████████████████████████████████████████████████████████████████████████████████████████████████████████████| 2/2 [00:00<00:00, 139.24it/s]\u001b[A/home/sarawalk/sdgs_py38/lib/python3.8/site-packages/bicm/graph_classes.py:1113: RuntimeWarning: invalid value encountered in divide\n",
      "  probs = node_xy * neighbor_xy / ((1 + node_xy) * (1 + neighbor_xy))\n",
      "\n"
     ]
    },
    {
     "name": "stdout",
     "output_type": "stream",
     "text": [
      "No V-motifs will be validated. Try increasing alpha\n",
      "\n",
      "                      WARNING: this system has at least a node that is disconnected or connected to all nodes\n",
      "                       of the opposite layer. This may cause some convergence issues.\n",
      "                      Please use the full mode providing a biadjacency matrix or an edgelist,\n",
      "                       or clean your data from these nodes. \n",
      "                      \n",
      "2016 Energy SDG 11: Sustainable Cities and Communities\r"
     ]
    },
    {
     "name": "stderr",
     "output_type": "stream",
     "text": [
      "\n",
      "  0%|                                                                                                                                 | 0/37 [00:00<?, ?it/s]\u001b[A/home/sarawalk/sdgs_py38/lib/python3.8/site-packages/bicm/graph_classes.py:1113: RuntimeWarning: invalid value encountered in divide\n",
      "  probs = node_xy * neighbor_xy / ((1 + node_xy) * (1 + neighbor_xy))\n",
      "/home/sarawalk/sdgs_py38/lib/python3.8/site-packages/bicm/graph_classes.py:1113: RuntimeWarning: invalid value encountered in divide\n",
      "  probs = node_xy * neighbor_xy / ((1 + node_xy) * (1 + neighbor_xy))\n",
      "/home/sarawalk/sdgs_py38/lib/python3.8/site-packages/bicm/graph_classes.py:1113: RuntimeWarning: invalid value encountered in divide\n",
      "  probs = node_xy * neighbor_xy / ((1 + node_xy) * (1 + neighbor_xy))\n",
      "/home/sarawalk/sdgs_py38/lib/python3.8/site-packages/bicm/graph_classes.py:1113: RuntimeWarning: invalid value encountered in divide\n",
      "  probs = node_xy * neighbor_xy / ((1 + node_xy) * (1 + neighbor_xy))\n",
      "100%|███████████████████████████████████████████████████████████████████████████████████████████████████████████████████████| 37/37 [00:00<00:00, 905.63it/s]"
     ]
    },
    {
     "name": "stdout",
     "output_type": "stream",
     "text": [
      "No V-motifs will be validated. Try increasing alpha\n"
     ]
    },
    {
     "name": "stderr",
     "output_type": "stream",
     "text": [
      "\n",
      "\n",
      "100%|█████████████████████████████████████████████████████████████████████████████████████████████████████████████████████████| 2/2 [00:00<00:00, 111.66it/s]\u001b[A/home/sarawalk/sdgs_py38/lib/python3.8/site-packages/bicm/graph_classes.py:1113: RuntimeWarning: invalid value encountered in divide\n",
      "  probs = node_xy * neighbor_xy / ((1 + node_xy) * (1 + neighbor_xy))\n",
      "\n"
     ]
    },
    {
     "name": "stdout",
     "output_type": "stream",
     "text": [
      "No V-motifs will be validated. Try increasing alpha\n",
      "\n",
      "                      WARNING: this system has at least a node that is disconnected or connected to all nodes\n",
      "                       of the opposite layer. This may cause some convergence issues.\n",
      "                      Please use the full mode providing a biadjacency matrix or an edgelist,\n",
      "                       or clean your data from these nodes. \n",
      "                      \n",
      "2016 Energy SDG 12: Responsible Consumption and Production\r"
     ]
    },
    {
     "name": "stderr",
     "output_type": "stream",
     "text": [
      "\n",
      "  0%|                                                                                                                                 | 0/37 [00:00<?, ?it/s]\u001b[A/home/sarawalk/sdgs_py38/lib/python3.8/site-packages/bicm/graph_classes.py:1113: RuntimeWarning: invalid value encountered in divide\n",
      "  probs = node_xy * neighbor_xy / ((1 + node_xy) * (1 + neighbor_xy))\n",
      "/home/sarawalk/sdgs_py38/lib/python3.8/site-packages/bicm/graph_classes.py:1113: RuntimeWarning: invalid value encountered in divide\n",
      "  probs = node_xy * neighbor_xy / ((1 + node_xy) * (1 + neighbor_xy))\n",
      "/home/sarawalk/sdgs_py38/lib/python3.8/site-packages/bicm/graph_classes.py:1113: RuntimeWarning: invalid value encountered in divide\n",
      "  probs = node_xy * neighbor_xy / ((1 + node_xy) * (1 + neighbor_xy))\n",
      "/home/sarawalk/sdgs_py38/lib/python3.8/site-packages/bicm/graph_classes.py:1113: RuntimeWarning: invalid value encountered in divide\n",
      "  probs = node_xy * neighbor_xy / ((1 + node_xy) * (1 + neighbor_xy))\n",
      "100%|███████████████████████████████████████████████████████████████████████████████████████████████████████████████████████| 37/37 [00:00<00:00, 697.79it/s]"
     ]
    },
    {
     "name": "stdout",
     "output_type": "stream",
     "text": [
      "No V-motifs will be validated. Try increasing alpha\n"
     ]
    },
    {
     "name": "stderr",
     "output_type": "stream",
     "text": [
      "\n",
      "\n",
      "  0%|                                                                                                                                  | 0/2 [00:00<?, ?it/s]\u001b[A/home/sarawalk/sdgs_py38/lib/python3.8/site-packages/bicm/graph_classes.py:1113: RuntimeWarning: invalid value encountered in divide\n",
      "  probs = node_xy * neighbor_xy / ((1 + node_xy) * (1 + neighbor_xy))\n",
      "100%|█████████████████████████████████████████████████████████████████████████████████████████████████████████████████████████| 2/2 [00:00<00:00, 102.22it/s]\n"
     ]
    },
    {
     "name": "stdout",
     "output_type": "stream",
     "text": [
      "No V-motifs will be validated. Try increasing alpha\n",
      "\n",
      "                      WARNING: this system has at least a node that is disconnected or connected to all nodes\n",
      "                       of the opposite layer. This may cause some convergence issues.\n",
      "                      Please use the full mode providing a biadjacency matrix or an edgelist,\n",
      "                       or clean your data from these nodes. \n",
      "                      \n",
      "2016 Energy SDG 13: Climate Action\r"
     ]
    },
    {
     "name": "stderr",
     "output_type": "stream",
     "text": [
      "\n",
      "  0%|                                                                                                                                 | 0/37 [00:00<?, ?it/s]\u001b[A/home/sarawalk/sdgs_py38/lib/python3.8/site-packages/bicm/graph_classes.py:1113: RuntimeWarning: invalid value encountered in divide\n",
      "  probs = node_xy * neighbor_xy / ((1 + node_xy) * (1 + neighbor_xy))\n",
      "/home/sarawalk/sdgs_py38/lib/python3.8/site-packages/bicm/graph_classes.py:1113: RuntimeWarning: invalid value encountered in divide\n",
      "  probs = node_xy * neighbor_xy / ((1 + node_xy) * (1 + neighbor_xy))\n",
      "/home/sarawalk/sdgs_py38/lib/python3.8/site-packages/bicm/graph_classes.py:1113: RuntimeWarning: invalid value encountered in divide\n",
      "  probs = node_xy * neighbor_xy / ((1 + node_xy) * (1 + neighbor_xy))\n",
      "/home/sarawalk/sdgs_py38/lib/python3.8/site-packages/bicm/graph_classes.py:1113: RuntimeWarning: invalid value encountered in divide\n",
      "  probs = node_xy * neighbor_xy / ((1 + node_xy) * (1 + neighbor_xy))\n",
      "100%|███████████████████████████████████████████████████████████████████████████████████████████████████████████████████████| 37/37 [00:00<00:00, 630.30it/s]"
     ]
    },
    {
     "name": "stdout",
     "output_type": "stream",
     "text": [
      "No V-motifs will be validated. Try increasing alpha\n"
     ]
    },
    {
     "name": "stderr",
     "output_type": "stream",
     "text": [
      "\n",
      "\n",
      "100%|█████████████████████████████████████████████████████████████████████████████████████████████████████████████████████████| 2/2 [00:00<00:00, 150.73it/s]\u001b[A/home/sarawalk/sdgs_py38/lib/python3.8/site-packages/bicm/graph_classes.py:1113: RuntimeWarning: invalid value encountered in divide\n",
      "  probs = node_xy * neighbor_xy / ((1 + node_xy) * (1 + neighbor_xy))\n",
      "\n"
     ]
    },
    {
     "name": "stdout",
     "output_type": "stream",
     "text": [
      "No V-motifs will be validated. Try increasing alpha\n",
      "\n",
      "                      WARNING: this system has at least a node that is disconnected or connected to all nodes\n",
      "                       of the opposite layer. This may cause some convergence issues.\n",
      "                      Please use the full mode providing a biadjacency matrix or an edgelist,\n",
      "                       or clean your data from these nodes. \n",
      "                      \n",
      "2016 Energy SDG 14: Life Below Water\r"
     ]
    },
    {
     "name": "stderr",
     "output_type": "stream",
     "text": [
      "\n",
      "  0%|                                                                                                                                 | 0/37 [00:00<?, ?it/s]\u001b[A/home/sarawalk/sdgs_py38/lib/python3.8/site-packages/bicm/graph_classes.py:1113: RuntimeWarning: invalid value encountered in divide\n",
      "  probs = node_xy * neighbor_xy / ((1 + node_xy) * (1 + neighbor_xy))\n",
      "/home/sarawalk/sdgs_py38/lib/python3.8/site-packages/bicm/graph_classes.py:1113: RuntimeWarning: invalid value encountered in divide\n",
      "  probs = node_xy * neighbor_xy / ((1 + node_xy) * (1 + neighbor_xy))\n",
      "/home/sarawalk/sdgs_py38/lib/python3.8/site-packages/bicm/graph_classes.py:1113: RuntimeWarning: invalid value encountered in divide\n",
      "  probs = node_xy * neighbor_xy / ((1 + node_xy) * (1 + neighbor_xy))\n",
      "/home/sarawalk/sdgs_py38/lib/python3.8/site-packages/bicm/graph_classes.py:1113: RuntimeWarning: invalid value encountered in divide\n",
      "  probs = node_xy * neighbor_xy / ((1 + node_xy) * (1 + neighbor_xy))\n",
      "100%|███████████████████████████████████████████████████████████████████████████████████████████████████████████████████████| 37/37 [00:00<00:00, 710.36it/s]"
     ]
    },
    {
     "name": "stdout",
     "output_type": "stream",
     "text": [
      "No V-motifs will be validated. Try increasing alpha\n"
     ]
    },
    {
     "name": "stderr",
     "output_type": "stream",
     "text": [
      "\n",
      "\n",
      "100%|█████████████████████████████████████████████████████████████████████████████████████████████████████████████████████████| 2/2 [00:00<00:00, 105.46it/s]\u001b[A/home/sarawalk/sdgs_py38/lib/python3.8/site-packages/bicm/graph_classes.py:1113: RuntimeWarning: invalid value encountered in divide\n",
      "  probs = node_xy * neighbor_xy / ((1 + node_xy) * (1 + neighbor_xy))\n",
      "\n"
     ]
    },
    {
     "name": "stdout",
     "output_type": "stream",
     "text": [
      "No V-motifs will be validated. Try increasing alpha\n",
      "\n",
      "                      WARNING: this system has at least a node that is disconnected or connected to all nodes\n",
      "                       of the opposite layer. This may cause some convergence issues.\n",
      "                      Please use the full mode providing a biadjacency matrix or an edgelist,\n",
      "                       or clean your data from these nodes. \n",
      "                      \n",
      "2016 Energy SDG 15: Life on Land\r"
     ]
    },
    {
     "name": "stderr",
     "output_type": "stream",
     "text": [
      "\n",
      "  0%|                                                                                                                                 | 0/37 [00:00<?, ?it/s]\u001b[A/home/sarawalk/sdgs_py38/lib/python3.8/site-packages/bicm/graph_classes.py:1113: RuntimeWarning: invalid value encountered in divide\n",
      "  probs = node_xy * neighbor_xy / ((1 + node_xy) * (1 + neighbor_xy))\n",
      "/home/sarawalk/sdgs_py38/lib/python3.8/site-packages/bicm/graph_classes.py:1113: RuntimeWarning: invalid value encountered in divide\n",
      "  probs = node_xy * neighbor_xy / ((1 + node_xy) * (1 + neighbor_xy))\n",
      "/home/sarawalk/sdgs_py38/lib/python3.8/site-packages/bicm/graph_classes.py:1113: RuntimeWarning: invalid value encountered in divide\n",
      "  probs = node_xy * neighbor_xy / ((1 + node_xy) * (1 + neighbor_xy))\n",
      "/home/sarawalk/sdgs_py38/lib/python3.8/site-packages/bicm/graph_classes.py:1113: RuntimeWarning: invalid value encountered in divide\n",
      "  probs = node_xy * neighbor_xy / ((1 + node_xy) * (1 + neighbor_xy))\n",
      "100%|███████████████████████████████████████████████████████████████████████████████████████████████████████████████████████| 37/37 [00:00<00:00, 555.58it/s]"
     ]
    },
    {
     "name": "stdout",
     "output_type": "stream",
     "text": [
      "No V-motifs will be validated. Try increasing alpha\n"
     ]
    },
    {
     "name": "stderr",
     "output_type": "stream",
     "text": [
      "\n",
      "\n",
      "100%|█████████████████████████████████████████████████████████████████████████████████████████████████████████████████████████| 2/2 [00:00<00:00, 158.32it/s]\u001b[A/home/sarawalk/sdgs_py38/lib/python3.8/site-packages/bicm/graph_classes.py:1113: RuntimeWarning: invalid value encountered in divide\n",
      "  probs = node_xy * neighbor_xy / ((1 + node_xy) * (1 + neighbor_xy))\n",
      "\n"
     ]
    },
    {
     "name": "stdout",
     "output_type": "stream",
     "text": [
      "No V-motifs will be validated. Try increasing alpha\n",
      "\n",
      "                      WARNING: this system has at least a node that is disconnected or connected to all nodes\n",
      "                       of the opposite layer. This may cause some convergence issues.\n",
      "                      Please use the full mode providing a biadjacency matrix or an edgelist,\n",
      "                       or clean your data from these nodes. \n",
      "                      \n",
      "2016 Energy SDG 16: Peace, Justice, and Strong Institutions\r"
     ]
    },
    {
     "name": "stderr",
     "output_type": "stream",
     "text": [
      "\n",
      "  0%|                                                                                                                                 | 0/37 [00:00<?, ?it/s]\u001b[A/home/sarawalk/sdgs_py38/lib/python3.8/site-packages/bicm/graph_classes.py:1113: RuntimeWarning: invalid value encountered in divide\n",
      "  probs = node_xy * neighbor_xy / ((1 + node_xy) * (1 + neighbor_xy))\n",
      "/home/sarawalk/sdgs_py38/lib/python3.8/site-packages/bicm/graph_classes.py:1113: RuntimeWarning: invalid value encountered in divide\n",
      "  probs = node_xy * neighbor_xy / ((1 + node_xy) * (1 + neighbor_xy))\n",
      "/home/sarawalk/sdgs_py38/lib/python3.8/site-packages/bicm/graph_classes.py:1113: RuntimeWarning: invalid value encountered in divide\n",
      "  probs = node_xy * neighbor_xy / ((1 + node_xy) * (1 + neighbor_xy))\n",
      "/home/sarawalk/sdgs_py38/lib/python3.8/site-packages/bicm/graph_classes.py:1113: RuntimeWarning: invalid value encountered in divide\n",
      "  probs = node_xy * neighbor_xy / ((1 + node_xy) * (1 + neighbor_xy))\n",
      "100%|███████████████████████████████████████████████████████████████████████████████████████████████████████████████████████| 37/37 [00:00<00:00, 733.54it/s]\n"
     ]
    },
    {
     "name": "stdout",
     "output_type": "stream",
     "text": [
      "No V-motifs will be validated. Try increasing alpha\n"
     ]
    },
    {
     "name": "stderr",
     "output_type": "stream",
     "text": [
      "\n",
      "100%|█████████████████████████████████████████████████████████████████████████████████████████████████████████████████████████| 2/2 [00:00<00:00, 126.10it/s]\u001b[A/home/sarawalk/sdgs_py38/lib/python3.8/site-packages/bicm/graph_classes.py:1113: RuntimeWarning: invalid value encountered in divide\n",
      "  probs = node_xy * neighbor_xy / ((1 + node_xy) * (1 + neighbor_xy))\n",
      "\n"
     ]
    },
    {
     "name": "stdout",
     "output_type": "stream",
     "text": [
      "No V-motifs will be validated. Try increasing alpha\n",
      "\n",
      "                      WARNING: this system has at least a node that is disconnected or connected to all nodes\n",
      "                       of the opposite layer. This may cause some convergence issues.\n",
      "                      Please use the full mode providing a biadjacency matrix or an edgelist,\n",
      "                       or clean your data from these nodes. \n",
      "                      \n",
      "2016 Energy SDG 17: Partnerships for the Goals\r"
     ]
    },
    {
     "name": "stderr",
     "output_type": "stream",
     "text": [
      "\n",
      "  0%|                                                                                                                                 | 0/37 [00:00<?, ?it/s]\u001b[A/home/sarawalk/sdgs_py38/lib/python3.8/site-packages/bicm/graph_classes.py:1113: RuntimeWarning: invalid value encountered in divide\n",
      "  probs = node_xy * neighbor_xy / ((1 + node_xy) * (1 + neighbor_xy))\n",
      "/home/sarawalk/sdgs_py38/lib/python3.8/site-packages/bicm/graph_classes.py:1113: RuntimeWarning: invalid value encountered in divide\n",
      "  probs = node_xy * neighbor_xy / ((1 + node_xy) * (1 + neighbor_xy))\n",
      "/home/sarawalk/sdgs_py38/lib/python3.8/site-packages/bicm/graph_classes.py:1113: RuntimeWarning: invalid value encountered in divide\n",
      "  probs = node_xy * neighbor_xy / ((1 + node_xy) * (1 + neighbor_xy))\n",
      "/home/sarawalk/sdgs_py38/lib/python3.8/site-packages/bicm/graph_classes.py:1113: RuntimeWarning: invalid value encountered in divide\n",
      "  probs = node_xy * neighbor_xy / ((1 + node_xy) * (1 + neighbor_xy))\n",
      "100%|███████████████████████████████████████████████████████████████████████████████████████████████████████████████████████| 37/37 [00:00<00:00, 763.15it/s]"
     ]
    },
    {
     "name": "stdout",
     "output_type": "stream",
     "text": [
      "No V-motifs will be validated. Try increasing alpha\n"
     ]
    },
    {
     "name": "stderr",
     "output_type": "stream",
     "text": [
      "\n",
      "\n",
      "100%|█████████████████████████████████████████████████████████████████████████████████████████████████████████████████████████| 2/2 [00:00<00:00, 106.74it/s]\u001b[A/home/sarawalk/sdgs_py38/lib/python3.8/site-packages/bicm/graph_classes.py:1113: RuntimeWarning: invalid value encountered in divide\n",
      "  probs = node_xy * neighbor_xy / ((1 + node_xy) * (1 + neighbor_xy))\n",
      "\n"
     ]
    },
    {
     "name": "stdout",
     "output_type": "stream",
     "text": [
      "No V-motifs will be validated. Try increasing alpha\n",
      "\n",
      "                      WARNING: this system has at least a node that is disconnected or connected to all nodes\n",
      "                       of the opposite layer. This may cause some convergence issues.\n",
      "                      Please use the full mode providing a biadjacency matrix or an edgelist,\n",
      "                       or clean your data from these nodes. \n",
      "                      \n",
      "2016 Utilities SDG 1: No Poverty\r"
     ]
    },
    {
     "name": "stderr",
     "output_type": "stream",
     "text": [
      "\n",
      "  0%|                                                                                                                                 | 0/36 [00:00<?, ?it/s]\u001b[A/home/sarawalk/sdgs_py38/lib/python3.8/site-packages/bicm/graph_classes.py:1113: RuntimeWarning: invalid value encountered in divide\n",
      "  probs = node_xy * neighbor_xy / ((1 + node_xy) * (1 + neighbor_xy))\n",
      "/home/sarawalk/sdgs_py38/lib/python3.8/site-packages/bicm/graph_classes.py:1113: RuntimeWarning: invalid value encountered in divide\n",
      "  probs = node_xy * neighbor_xy / ((1 + node_xy) * (1 + neighbor_xy))\n",
      "/home/sarawalk/sdgs_py38/lib/python3.8/site-packages/bicm/graph_classes.py:1113: RuntimeWarning: invalid value encountered in divide\n",
      "  probs = node_xy * neighbor_xy / ((1 + node_xy) * (1 + neighbor_xy))\n",
      "/home/sarawalk/sdgs_py38/lib/python3.8/site-packages/bicm/graph_classes.py:1113: RuntimeWarning: invalid value encountered in divide\n",
      "  probs = node_xy * neighbor_xy / ((1 + node_xy) * (1 + neighbor_xy))\n",
      "100%|███████████████████████████████████████████████████████████████████████████████████████████████████████████████████████| 36/36 [00:00<00:00, 632.42it/s]"
     ]
    },
    {
     "name": "stdout",
     "output_type": "stream",
     "text": [
      "No V-motifs will be validated. Try increasing alpha\n"
     ]
    },
    {
     "name": "stderr",
     "output_type": "stream",
     "text": [
      "\n",
      "\n",
      "100%|█████████████████████████████████████████████████████████████████████████████████████████████████████████████████████████| 2/2 [00:00<00:00, 134.34it/s]\u001b[A/home/sarawalk/sdgs_py38/lib/python3.8/site-packages/bicm/graph_classes.py:1113: RuntimeWarning: invalid value encountered in divide\n",
      "  probs = node_xy * neighbor_xy / ((1 + node_xy) * (1 + neighbor_xy))\n",
      "\n"
     ]
    },
    {
     "name": "stdout",
     "output_type": "stream",
     "text": [
      "No V-motifs will be validated. Try increasing alpha\n",
      "\n",
      "                      WARNING: this system has at least a node that is disconnected or connected to all nodes\n",
      "                       of the opposite layer. This may cause some convergence issues.\n",
      "                      Please use the full mode providing a biadjacency matrix or an edgelist,\n",
      "                       or clean your data from these nodes. \n",
      "                      \n",
      "2016 Utilities SDG 3: Good Health and Well-being\r"
     ]
    },
    {
     "name": "stderr",
     "output_type": "stream",
     "text": [
      "\n",
      "  0%|                                                                                                                                 | 0/36 [00:00<?, ?it/s]\u001b[A/home/sarawalk/sdgs_py38/lib/python3.8/site-packages/bicm/graph_classes.py:1113: RuntimeWarning: invalid value encountered in divide\n",
      "  probs = node_xy * neighbor_xy / ((1 + node_xy) * (1 + neighbor_xy))\n",
      "/home/sarawalk/sdgs_py38/lib/python3.8/site-packages/bicm/graph_classes.py:1113: RuntimeWarning: invalid value encountered in divide\n",
      "  probs = node_xy * neighbor_xy / ((1 + node_xy) * (1 + neighbor_xy))\n",
      "/home/sarawalk/sdgs_py38/lib/python3.8/site-packages/bicm/graph_classes.py:1113: RuntimeWarning: invalid value encountered in divide\n",
      "  probs = node_xy * neighbor_xy / ((1 + node_xy) * (1 + neighbor_xy))\n",
      "/home/sarawalk/sdgs_py38/lib/python3.8/site-packages/bicm/graph_classes.py:1113: RuntimeWarning: invalid value encountered in divide\n",
      "  probs = node_xy * neighbor_xy / ((1 + node_xy) * (1 + neighbor_xy))\n",
      "100%|███████████████████████████████████████████████████████████████████████████████████████████████████████████████████████| 36/36 [00:00<00:00, 550.78it/s]"
     ]
    },
    {
     "name": "stdout",
     "output_type": "stream",
     "text": [
      "No V-motifs will be validated. Try increasing alpha\n"
     ]
    },
    {
     "name": "stderr",
     "output_type": "stream",
     "text": [
      "\n",
      "\n",
      "100%|█████████████████████████████████████████████████████████████████████████████████████████████████████████████████████████| 2/2 [00:00<00:00, 123.21it/s]\u001b[A/home/sarawalk/sdgs_py38/lib/python3.8/site-packages/bicm/graph_classes.py:1113: RuntimeWarning: invalid value encountered in divide\n",
      "  probs = node_xy * neighbor_xy / ((1 + node_xy) * (1 + neighbor_xy))\n",
      "\n"
     ]
    },
    {
     "name": "stdout",
     "output_type": "stream",
     "text": [
      "No V-motifs will be validated. Try increasing alpha\n",
      "\n",
      "                      WARNING: this system has at least a node that is disconnected or connected to all nodes\n",
      "                       of the opposite layer. This may cause some convergence issues.\n",
      "                      Please use the full mode providing a biadjacency matrix or an edgelist,\n",
      "                       or clean your data from these nodes. \n",
      "                      \n",
      "2016 Utilities SDG 4: Quality Education\r"
     ]
    },
    {
     "name": "stderr",
     "output_type": "stream",
     "text": [
      "\n",
      "  0%|                                                                                                                                 | 0/36 [00:00<?, ?it/s]\u001b[A/home/sarawalk/sdgs_py38/lib/python3.8/site-packages/bicm/graph_classes.py:1113: RuntimeWarning: invalid value encountered in divide\n",
      "  probs = node_xy * neighbor_xy / ((1 + node_xy) * (1 + neighbor_xy))\n",
      "/home/sarawalk/sdgs_py38/lib/python3.8/site-packages/bicm/graph_classes.py:1113: RuntimeWarning: invalid value encountered in divide\n",
      "  probs = node_xy * neighbor_xy / ((1 + node_xy) * (1 + neighbor_xy))\n",
      "/home/sarawalk/sdgs_py38/lib/python3.8/site-packages/bicm/graph_classes.py:1113: RuntimeWarning: invalid value encountered in divide\n",
      "  probs = node_xy * neighbor_xy / ((1 + node_xy) * (1 + neighbor_xy))\n",
      "/home/sarawalk/sdgs_py38/lib/python3.8/site-packages/bicm/graph_classes.py:1113: RuntimeWarning: invalid value encountered in divide\n",
      "  probs = node_xy * neighbor_xy / ((1 + node_xy) * (1 + neighbor_xy))\n",
      "100%|███████████████████████████████████████████████████████████████████████████████████████████████████████████████████████| 36/36 [00:00<00:00, 632.29it/s]"
     ]
    },
    {
     "name": "stdout",
     "output_type": "stream",
     "text": [
      "No V-motifs will be validated. Try increasing alpha\n"
     ]
    },
    {
     "name": "stderr",
     "output_type": "stream",
     "text": [
      "\n",
      "\n",
      "100%|█████████████████████████████████████████████████████████████████████████████████████████████████████████████████████████| 2/2 [00:00<00:00, 115.06it/s]\u001b[A\n",
      "/home/sarawalk/sdgs_py38/lib/python3.8/site-packages/bicm/graph_classes.py:1113: RuntimeWarning: invalid value encountered in divide\n",
      "  probs = node_xy * neighbor_xy / ((1 + node_xy) * (1 + neighbor_xy))\n"
     ]
    },
    {
     "name": "stdout",
     "output_type": "stream",
     "text": [
      "No V-motifs will be validated. Try increasing alpha\n",
      "\n",
      "                      WARNING: this system has at least a node that is disconnected or connected to all nodes\n",
      "                       of the opposite layer. This may cause some convergence issues.\n",
      "                      Please use the full mode providing a biadjacency matrix or an edgelist,\n",
      "                       or clean your data from these nodes. \n",
      "                      \n",
      "2016 Utilities SDG 5: Gender Equality\r"
     ]
    },
    {
     "name": "stderr",
     "output_type": "stream",
     "text": [
      "\n",
      "  0%|                                                                                                                                 | 0/36 [00:00<?, ?it/s]\u001b[A/home/sarawalk/sdgs_py38/lib/python3.8/site-packages/bicm/graph_classes.py:1113: RuntimeWarning: invalid value encountered in divide\n",
      "  probs = node_xy * neighbor_xy / ((1 + node_xy) * (1 + neighbor_xy))\n",
      "/home/sarawalk/sdgs_py38/lib/python3.8/site-packages/bicm/graph_classes.py:1113: RuntimeWarning: invalid value encountered in divide\n",
      "  probs = node_xy * neighbor_xy / ((1 + node_xy) * (1 + neighbor_xy))\n",
      "/home/sarawalk/sdgs_py38/lib/python3.8/site-packages/bicm/graph_classes.py:1113: RuntimeWarning: invalid value encountered in divide\n",
      "  probs = node_xy * neighbor_xy / ((1 + node_xy) * (1 + neighbor_xy))\n",
      "/home/sarawalk/sdgs_py38/lib/python3.8/site-packages/bicm/graph_classes.py:1113: RuntimeWarning: invalid value encountered in divide\n",
      "  probs = node_xy * neighbor_xy / ((1 + node_xy) * (1 + neighbor_xy))\n",
      "100%|███████████████████████████████████████████████████████████████████████████████████████████████████████████████████████| 36/36 [00:00<00:00, 634.21it/s]"
     ]
    },
    {
     "name": "stdout",
     "output_type": "stream",
     "text": [
      "No V-motifs will be validated. Try increasing alpha\n"
     ]
    },
    {
     "name": "stderr",
     "output_type": "stream",
     "text": [
      "\n",
      "\n",
      "100%|█████████████████████████████████████████████████████████████████████████████████████████████████████████████████████████| 2/2 [00:00<00:00, 128.53it/s]\u001b[A/home/sarawalk/sdgs_py38/lib/python3.8/site-packages/bicm/graph_classes.py:1113: RuntimeWarning: invalid value encountered in divide\n",
      "  probs = node_xy * neighbor_xy / ((1 + node_xy) * (1 + neighbor_xy))\n",
      "\n"
     ]
    },
    {
     "name": "stdout",
     "output_type": "stream",
     "text": [
      "No V-motifs will be validated. Try increasing alpha\n",
      "\n",
      "                      WARNING: this system has at least a node that is disconnected or connected to all nodes\n",
      "                       of the opposite layer. This may cause some convergence issues.\n",
      "                      Please use the full mode providing a biadjacency matrix or an edgelist,\n",
      "                       or clean your data from these nodes. \n",
      "                      \n",
      "2016 Utilities SDG 7: Affordable and Clean Energy\r"
     ]
    },
    {
     "name": "stderr",
     "output_type": "stream",
     "text": [
      "\n",
      "  0%|                                                                                                                                 | 0/36 [00:00<?, ?it/s]\u001b[A/home/sarawalk/sdgs_py38/lib/python3.8/site-packages/bicm/graph_classes.py:1113: RuntimeWarning: invalid value encountered in divide\n",
      "  probs = node_xy * neighbor_xy / ((1 + node_xy) * (1 + neighbor_xy))\n",
      "/home/sarawalk/sdgs_py38/lib/python3.8/site-packages/bicm/graph_classes.py:1113: RuntimeWarning: invalid value encountered in divide\n",
      "  probs = node_xy * neighbor_xy / ((1 + node_xy) * (1 + neighbor_xy))\n",
      "/home/sarawalk/sdgs_py38/lib/python3.8/site-packages/bicm/graph_classes.py:1113: RuntimeWarning: invalid value encountered in divide\n",
      "  probs = node_xy * neighbor_xy / ((1 + node_xy) * (1 + neighbor_xy))\n",
      "/home/sarawalk/sdgs_py38/lib/python3.8/site-packages/bicm/graph_classes.py:1113: RuntimeWarning: invalid value encountered in divide\n",
      "  probs = node_xy * neighbor_xy / ((1 + node_xy) * (1 + neighbor_xy))\n",
      "100%|███████████████████████████████████████████████████████████████████████████████████████████████████████████████████████| 36/36 [00:00<00:00, 618.59it/s]"
     ]
    },
    {
     "name": "stdout",
     "output_type": "stream",
     "text": [
      "No V-motifs will be validated. Try increasing alpha\n"
     ]
    },
    {
     "name": "stderr",
     "output_type": "stream",
     "text": [
      "\n",
      "\n",
      "100%|█████████████████████████████████████████████████████████████████████████████████████████████████████████████████████████| 2/2 [00:00<00:00, 115.08it/s]\u001b[A/home/sarawalk/sdgs_py38/lib/python3.8/site-packages/bicm/graph_classes.py:1113: RuntimeWarning: invalid value encountered in divide\n",
      "  probs = node_xy * neighbor_xy / ((1 + node_xy) * (1 + neighbor_xy))\n",
      "\n"
     ]
    },
    {
     "name": "stdout",
     "output_type": "stream",
     "text": [
      "No V-motifs will be validated. Try increasing alpha\n",
      "\n",
      "                      WARNING: this system has at least a node that is disconnected or connected to all nodes\n",
      "                       of the opposite layer. This may cause some convergence issues.\n",
      "                      Please use the full mode providing a biadjacency matrix or an edgelist,\n",
      "                       or clean your data from these nodes. \n",
      "                      \n",
      "2016 Utilities SDG 8: Decent Work and Economic Growth\r"
     ]
    },
    {
     "name": "stderr",
     "output_type": "stream",
     "text": [
      "\n",
      "  0%|                                                                                                                                 | 0/36 [00:00<?, ?it/s]\u001b[A/home/sarawalk/sdgs_py38/lib/python3.8/site-packages/bicm/graph_classes.py:1113: RuntimeWarning: invalid value encountered in divide\n",
      "  probs = node_xy * neighbor_xy / ((1 + node_xy) * (1 + neighbor_xy))\n",
      "/home/sarawalk/sdgs_py38/lib/python3.8/site-packages/bicm/graph_classes.py:1113: RuntimeWarning: invalid value encountered in divide\n",
      "  probs = node_xy * neighbor_xy / ((1 + node_xy) * (1 + neighbor_xy))\n",
      "/home/sarawalk/sdgs_py38/lib/python3.8/site-packages/bicm/graph_classes.py:1113: RuntimeWarning: invalid value encountered in divide\n",
      "  probs = node_xy * neighbor_xy / ((1 + node_xy) * (1 + neighbor_xy))\n",
      "/home/sarawalk/sdgs_py38/lib/python3.8/site-packages/bicm/graph_classes.py:1113: RuntimeWarning: invalid value encountered in divide\n",
      "  probs = node_xy * neighbor_xy / ((1 + node_xy) * (1 + neighbor_xy))\n",
      "100%|███████████████████████████████████████████████████████████████████████████████████████████████████████████████████████| 36/36 [00:00<00:00, 535.16it/s]"
     ]
    },
    {
     "name": "stdout",
     "output_type": "stream",
     "text": [
      "No V-motifs will be validated. Try increasing alpha\n"
     ]
    },
    {
     "name": "stderr",
     "output_type": "stream",
     "text": [
      "\n",
      "\n",
      "100%|█████████████████████████████████████████████████████████████████████████████████████████████████████████████████████████| 2/2 [00:00<00:00, 112.65it/s]\u001b[A/home/sarawalk/sdgs_py38/lib/python3.8/site-packages/bicm/graph_classes.py:1113: RuntimeWarning: invalid value encountered in divide\n",
      "  probs = node_xy * neighbor_xy / ((1 + node_xy) * (1 + neighbor_xy))\n",
      "\n"
     ]
    },
    {
     "name": "stdout",
     "output_type": "stream",
     "text": [
      "No V-motifs will be validated. Try increasing alpha\n",
      "\n",
      "                      WARNING: this system has at least a node that is disconnected or connected to all nodes\n",
      "                       of the opposite layer. This may cause some convergence issues.\n",
      "                      Please use the full mode providing a biadjacency matrix or an edgelist,\n",
      "                       or clean your data from these nodes. \n",
      "                      \n",
      "2016 Utilities SDG 9: Industry, Innovation, and Infrastructure\r"
     ]
    },
    {
     "name": "stderr",
     "output_type": "stream",
     "text": [
      "\n",
      "  0%|                                                                                                                                 | 0/36 [00:00<?, ?it/s]\u001b[A/home/sarawalk/sdgs_py38/lib/python3.8/site-packages/bicm/graph_classes.py:1113: RuntimeWarning: invalid value encountered in divide\n",
      "  probs = node_xy * neighbor_xy / ((1 + node_xy) * (1 + neighbor_xy))\n",
      "/home/sarawalk/sdgs_py38/lib/python3.8/site-packages/bicm/graph_classes.py:1113: RuntimeWarning: invalid value encountered in divide\n",
      "  probs = node_xy * neighbor_xy / ((1 + node_xy) * (1 + neighbor_xy))\n",
      "/home/sarawalk/sdgs_py38/lib/python3.8/site-packages/bicm/graph_classes.py:1113: RuntimeWarning: invalid value encountered in divide\n",
      "  probs = node_xy * neighbor_xy / ((1 + node_xy) * (1 + neighbor_xy))\n",
      "/home/sarawalk/sdgs_py38/lib/python3.8/site-packages/bicm/graph_classes.py:1113: RuntimeWarning: invalid value encountered in divide\n",
      "  probs = node_xy * neighbor_xy / ((1 + node_xy) * (1 + neighbor_xy))\n",
      "100%|███████████████████████████████████████████████████████████████████████████████████████████████████████████████████████| 36/36 [00:00<00:00, 641.02it/s]"
     ]
    },
    {
     "name": "stdout",
     "output_type": "stream",
     "text": [
      "No V-motifs will be validated. Try increasing alpha\n"
     ]
    },
    {
     "name": "stderr",
     "output_type": "stream",
     "text": [
      "\n",
      "\n",
      "100%|██████████████████████████████████████████████████████████████████████████████████████████████████████████████████████████| 2/2 [00:00<00:00, 80.63it/s]\u001b[A/home/sarawalk/sdgs_py38/lib/python3.8/site-packages/bicm/graph_classes.py:1113: RuntimeWarning: invalid value encountered in divide\n",
      "  probs = node_xy * neighbor_xy / ((1 + node_xy) * (1 + neighbor_xy))\n",
      "\n"
     ]
    },
    {
     "name": "stdout",
     "output_type": "stream",
     "text": [
      "No V-motifs will be validated. Try increasing alpha\n",
      "\n",
      "                      WARNING: this system has at least a node that is disconnected or connected to all nodes\n",
      "                       of the opposite layer. This may cause some convergence issues.\n",
      "                      Please use the full mode providing a biadjacency matrix or an edgelist,\n",
      "                       or clean your data from these nodes. \n",
      "                      \n",
      "2016 Utilities SDG 10: Reduced Inequality\r"
     ]
    },
    {
     "name": "stderr",
     "output_type": "stream",
     "text": [
      "\n",
      "  0%|                                                                                                                                 | 0/36 [00:00<?, ?it/s]\u001b[A/home/sarawalk/sdgs_py38/lib/python3.8/site-packages/bicm/graph_classes.py:1113: RuntimeWarning: invalid value encountered in divide\n",
      "  probs = node_xy * neighbor_xy / ((1 + node_xy) * (1 + neighbor_xy))\n",
      "/home/sarawalk/sdgs_py38/lib/python3.8/site-packages/bicm/graph_classes.py:1113: RuntimeWarning: invalid value encountered in divide\n",
      "  probs = node_xy * neighbor_xy / ((1 + node_xy) * (1 + neighbor_xy))\n",
      "/home/sarawalk/sdgs_py38/lib/python3.8/site-packages/bicm/graph_classes.py:1113: RuntimeWarning: invalid value encountered in divide\n",
      "  probs = node_xy * neighbor_xy / ((1 + node_xy) * (1 + neighbor_xy))\n",
      "/home/sarawalk/sdgs_py38/lib/python3.8/site-packages/bicm/graph_classes.py:1113: RuntimeWarning: invalid value encountered in divide\n",
      "  probs = node_xy * neighbor_xy / ((1 + node_xy) * (1 + neighbor_xy))\n",
      "100%|███████████████████████████████████████████████████████████████████████████████████████████████████████████████████████| 36/36 [00:00<00:00, 512.91it/s]"
     ]
    },
    {
     "name": "stdout",
     "output_type": "stream",
     "text": [
      "No V-motifs will be validated. Try increasing alpha\n"
     ]
    },
    {
     "name": "stderr",
     "output_type": "stream",
     "text": [
      "\n",
      "\n",
      "100%|██████████████████████████████████████████████████████████████████████████████████████████████████████████████████████████| 2/2 [00:00<00:00, 95.43it/s]\u001b[A/home/sarawalk/sdgs_py38/lib/python3.8/site-packages/bicm/graph_classes.py:1113: RuntimeWarning: invalid value encountered in divide\n",
      "  probs = node_xy * neighbor_xy / ((1 + node_xy) * (1 + neighbor_xy))\n",
      "\n"
     ]
    },
    {
     "name": "stdout",
     "output_type": "stream",
     "text": [
      "No V-motifs will be validated. Try increasing alpha\n",
      "\n",
      "                      WARNING: this system has at least a node that is disconnected or connected to all nodes\n",
      "                       of the opposite layer. This may cause some convergence issues.\n",
      "                      Please use the full mode providing a biadjacency matrix or an edgelist,\n",
      "                       or clean your data from these nodes. \n",
      "                      \n",
      "2016 Utilities SDG 11: Sustainable Cities and Communities\r"
     ]
    },
    {
     "name": "stderr",
     "output_type": "stream",
     "text": [
      "\n",
      "  0%|                                                                                                                                 | 0/36 [00:00<?, ?it/s]\u001b[A/home/sarawalk/sdgs_py38/lib/python3.8/site-packages/bicm/graph_classes.py:1113: RuntimeWarning: invalid value encountered in divide\n",
      "  probs = node_xy * neighbor_xy / ((1 + node_xy) * (1 + neighbor_xy))\n",
      "/home/sarawalk/sdgs_py38/lib/python3.8/site-packages/bicm/graph_classes.py:1113: RuntimeWarning: invalid value encountered in divide\n",
      "  probs = node_xy * neighbor_xy / ((1 + node_xy) * (1 + neighbor_xy))\n",
      "/home/sarawalk/sdgs_py38/lib/python3.8/site-packages/bicm/graph_classes.py:1113: RuntimeWarning: invalid value encountered in divide\n",
      "  probs = node_xy * neighbor_xy / ((1 + node_xy) * (1 + neighbor_xy))\n",
      "/home/sarawalk/sdgs_py38/lib/python3.8/site-packages/bicm/graph_classes.py:1113: RuntimeWarning: invalid value encountered in divide\n",
      "  probs = node_xy * neighbor_xy / ((1 + node_xy) * (1 + neighbor_xy))\n",
      "100%|███████████████████████████████████████████████████████████████████████████████████████████████████████████████████████| 36/36 [00:00<00:00, 762.15it/s]\n"
     ]
    },
    {
     "name": "stdout",
     "output_type": "stream",
     "text": [
      "No V-motifs will be validated. Try increasing alpha\n"
     ]
    },
    {
     "name": "stderr",
     "output_type": "stream",
     "text": [
      "\n",
      "100%|█████████████████████████████████████████████████████████████████████████████████████████████████████████████████████████| 2/2 [00:00<00:00, 137.59it/s]\u001b[A\n",
      "/home/sarawalk/sdgs_py38/lib/python3.8/site-packages/bicm/graph_classes.py:1113: RuntimeWarning: invalid value encountered in divide\n",
      "  probs = node_xy * neighbor_xy / ((1 + node_xy) * (1 + neighbor_xy))\n"
     ]
    },
    {
     "name": "stdout",
     "output_type": "stream",
     "text": [
      "No V-motifs will be validated. Try increasing alpha\n",
      "\n",
      "                      WARNING: this system has at least a node that is disconnected or connected to all nodes\n",
      "                       of the opposite layer. This may cause some convergence issues.\n",
      "                      Please use the full mode providing a biadjacency matrix or an edgelist,\n",
      "                       or clean your data from these nodes. \n",
      "                      \n",
      "2016 Utilities SDG 12: Responsible Consumption and Production\r"
     ]
    },
    {
     "name": "stderr",
     "output_type": "stream",
     "text": [
      "\n",
      "  0%|                                                                                                                                 | 0/36 [00:00<?, ?it/s]\u001b[A/home/sarawalk/sdgs_py38/lib/python3.8/site-packages/bicm/graph_classes.py:1113: RuntimeWarning: invalid value encountered in divide\n",
      "  probs = node_xy * neighbor_xy / ((1 + node_xy) * (1 + neighbor_xy))\n",
      "/home/sarawalk/sdgs_py38/lib/python3.8/site-packages/bicm/graph_classes.py:1113: RuntimeWarning: invalid value encountered in divide\n",
      "  probs = node_xy * neighbor_xy / ((1 + node_xy) * (1 + neighbor_xy))\n",
      "/home/sarawalk/sdgs_py38/lib/python3.8/site-packages/bicm/graph_classes.py:1113: RuntimeWarning: invalid value encountered in divide\n",
      "  probs = node_xy * neighbor_xy / ((1 + node_xy) * (1 + neighbor_xy))\n",
      "/home/sarawalk/sdgs_py38/lib/python3.8/site-packages/bicm/graph_classes.py:1113: RuntimeWarning: invalid value encountered in divide\n",
      "  probs = node_xy * neighbor_xy / ((1 + node_xy) * (1 + neighbor_xy))\n",
      "100%|███████████████████████████████████████████████████████████████████████████████████████████████████████████████████████| 36/36 [00:00<00:00, 620.25it/s]"
     ]
    },
    {
     "name": "stdout",
     "output_type": "stream",
     "text": [
      "No V-motifs will be validated. Try increasing alpha\n"
     ]
    },
    {
     "name": "stderr",
     "output_type": "stream",
     "text": [
      "\n",
      "\n",
      "100%|█████████████████████████████████████████████████████████████████████████████████████████████████████████████████████████| 2/2 [00:00<00:00, 124.54it/s]\u001b[A/home/sarawalk/sdgs_py38/lib/python3.8/site-packages/bicm/graph_classes.py:1113: RuntimeWarning: invalid value encountered in divide\n",
      "  probs = node_xy * neighbor_xy / ((1 + node_xy) * (1 + neighbor_xy))\n",
      "\n"
     ]
    },
    {
     "name": "stdout",
     "output_type": "stream",
     "text": [
      "No V-motifs will be validated. Try increasing alpha\n",
      "\n",
      "                      WARNING: this system has at least a node that is disconnected or connected to all nodes\n",
      "                       of the opposite layer. This may cause some convergence issues.\n",
      "                      Please use the full mode providing a biadjacency matrix or an edgelist,\n",
      "                       or clean your data from these nodes. \n",
      "                      \n",
      "2016 Utilities SDG 13: Climate Action\r"
     ]
    },
    {
     "name": "stderr",
     "output_type": "stream",
     "text": [
      "\n",
      "  0%|                                                                                                                                 | 0/36 [00:00<?, ?it/s]\u001b[A/home/sarawalk/sdgs_py38/lib/python3.8/site-packages/bicm/graph_classes.py:1113: RuntimeWarning: invalid value encountered in divide\n",
      "  probs = node_xy * neighbor_xy / ((1 + node_xy) * (1 + neighbor_xy))\n",
      "/home/sarawalk/sdgs_py38/lib/python3.8/site-packages/bicm/graph_classes.py:1113: RuntimeWarning: invalid value encountered in divide\n",
      "  probs = node_xy * neighbor_xy / ((1 + node_xy) * (1 + neighbor_xy))\n",
      "/home/sarawalk/sdgs_py38/lib/python3.8/site-packages/bicm/graph_classes.py:1113: RuntimeWarning: invalid value encountered in divide\n",
      "  probs = node_xy * neighbor_xy / ((1 + node_xy) * (1 + neighbor_xy))\n",
      "/home/sarawalk/sdgs_py38/lib/python3.8/site-packages/bicm/graph_classes.py:1113: RuntimeWarning: invalid value encountered in divide\n",
      "  probs = node_xy * neighbor_xy / ((1 + node_xy) * (1 + neighbor_xy))\n",
      "100%|███████████████████████████████████████████████████████████████████████████████████████████████████████████████████████| 36/36 [00:00<00:00, 660.26it/s]"
     ]
    },
    {
     "name": "stdout",
     "output_type": "stream",
     "text": [
      "No V-motifs will be validated. Try increasing alpha\n"
     ]
    },
    {
     "name": "stderr",
     "output_type": "stream",
     "text": [
      "\n",
      "\n",
      "100%|█████████████████████████████████████████████████████████████████████████████████████████████████████████████████████████| 2/2 [00:00<00:00, 136.09it/s]\u001b[A/home/sarawalk/sdgs_py38/lib/python3.8/site-packages/bicm/graph_classes.py:1113: RuntimeWarning: invalid value encountered in divide\n",
      "  probs = node_xy * neighbor_xy / ((1 + node_xy) * (1 + neighbor_xy))\n",
      "\n"
     ]
    },
    {
     "name": "stdout",
     "output_type": "stream",
     "text": [
      "No V-motifs will be validated. Try increasing alpha\n",
      "\n",
      "                      WARNING: this system has at least a node that is disconnected or connected to all nodes\n",
      "                       of the opposite layer. This may cause some convergence issues.\n",
      "                      Please use the full mode providing a biadjacency matrix or an edgelist,\n",
      "                       or clean your data from these nodes. \n",
      "                      \n",
      "2016 Utilities SDG 14: Life Below Water\r"
     ]
    },
    {
     "name": "stderr",
     "output_type": "stream",
     "text": [
      "\n",
      "  0%|                                                                                                                                 | 0/36 [00:00<?, ?it/s]\u001b[A/home/sarawalk/sdgs_py38/lib/python3.8/site-packages/bicm/graph_classes.py:1113: RuntimeWarning: invalid value encountered in divide\n",
      "  probs = node_xy * neighbor_xy / ((1 + node_xy) * (1 + neighbor_xy))\n",
      "/home/sarawalk/sdgs_py38/lib/python3.8/site-packages/bicm/graph_classes.py:1113: RuntimeWarning: invalid value encountered in divide\n",
      "  probs = node_xy * neighbor_xy / ((1 + node_xy) * (1 + neighbor_xy))\n",
      "/home/sarawalk/sdgs_py38/lib/python3.8/site-packages/bicm/graph_classes.py:1113: RuntimeWarning: invalid value encountered in divide\n",
      "  probs = node_xy * neighbor_xy / ((1 + node_xy) * (1 + neighbor_xy))\n",
      "/home/sarawalk/sdgs_py38/lib/python3.8/site-packages/bicm/graph_classes.py:1113: RuntimeWarning: invalid value encountered in divide\n",
      "  probs = node_xy * neighbor_xy / ((1 + node_xy) * (1 + neighbor_xy))\n",
      "100%|███████████████████████████████████████████████████████████████████████████████████████████████████████████████████████| 36/36 [00:00<00:00, 686.84it/s]"
     ]
    },
    {
     "name": "stdout",
     "output_type": "stream",
     "text": [
      "No V-motifs will be validated. Try increasing alpha\n"
     ]
    },
    {
     "name": "stderr",
     "output_type": "stream",
     "text": [
      "\n",
      "\n",
      "100%|█████████████████████████████████████████████████████████████████████████████████████████████████████████████████████████| 2/2 [00:00<00:00, 111.20it/s]\u001b[A/home/sarawalk/sdgs_py38/lib/python3.8/site-packages/bicm/graph_classes.py:1113: RuntimeWarning: invalid value encountered in divide\n",
      "  probs = node_xy * neighbor_xy / ((1 + node_xy) * (1 + neighbor_xy))\n"
     ]
    },
    {
     "name": "stdout",
     "output_type": "stream",
     "text": [
      "No V-motifs will be validated. Try increasing alpha\n",
      "\n",
      "                      WARNING: this system has at least a node that is disconnected or connected to all nodes\n",
      "                       of the opposite layer. This may cause some convergence issues.\n",
      "                      Please use the full mode providing a biadjacency matrix or an edgelist,\n",
      "                       or clean your data from these nodes. \n",
      "                      \n",
      "2016 Utilities SDG 15: Life on Land\r"
     ]
    },
    {
     "name": "stderr",
     "output_type": "stream",
     "text": [
      "\n",
      "\n",
      "  0%|                                                                                                                                 | 0/36 [00:00<?, ?it/s]\u001b[A/home/sarawalk/sdgs_py38/lib/python3.8/site-packages/bicm/graph_classes.py:1113: RuntimeWarning: invalid value encountered in divide\n",
      "  probs = node_xy * neighbor_xy / ((1 + node_xy) * (1 + neighbor_xy))\n",
      "/home/sarawalk/sdgs_py38/lib/python3.8/site-packages/bicm/graph_classes.py:1113: RuntimeWarning: invalid value encountered in divide\n",
      "  probs = node_xy * neighbor_xy / ((1 + node_xy) * (1 + neighbor_xy))\n",
      "/home/sarawalk/sdgs_py38/lib/python3.8/site-packages/bicm/graph_classes.py:1113: RuntimeWarning: invalid value encountered in divide\n",
      "  probs = node_xy * neighbor_xy / ((1 + node_xy) * (1 + neighbor_xy))\n",
      "/home/sarawalk/sdgs_py38/lib/python3.8/site-packages/bicm/graph_classes.py:1113: RuntimeWarning: invalid value encountered in divide\n",
      "  probs = node_xy * neighbor_xy / ((1 + node_xy) * (1 + neighbor_xy))\n",
      "100%|███████████████████████████████████████████████████████████████████████████████████████████████████████████████████████| 36/36 [00:00<00:00, 718.57it/s]"
     ]
    },
    {
     "name": "stdout",
     "output_type": "stream",
     "text": [
      "No V-motifs will be validated. Try increasing alpha\n"
     ]
    },
    {
     "name": "stderr",
     "output_type": "stream",
     "text": [
      "\n",
      "\n",
      "100%|█████████████████████████████████████████████████████████████████████████████████████████████████████████████████████████| 2/2 [00:00<00:00, 117.21it/s]\u001b[A\n",
      "/home/sarawalk/sdgs_py38/lib/python3.8/site-packages/bicm/graph_classes.py:1113: RuntimeWarning: invalid value encountered in divide\n",
      "  probs = node_xy * neighbor_xy / ((1 + node_xy) * (1 + neighbor_xy))\n"
     ]
    },
    {
     "name": "stdout",
     "output_type": "stream",
     "text": [
      "No V-motifs will be validated. Try increasing alpha\n",
      "\n",
      "                      WARNING: this system has at least a node that is disconnected or connected to all nodes\n",
      "                       of the opposite layer. This may cause some convergence issues.\n",
      "                      Please use the full mode providing a biadjacency matrix or an edgelist,\n",
      "                       or clean your data from these nodes. \n",
      "                      \n",
      "2016 Utilities SDG 16: Peace, Justice, and Strong Institutions\r"
     ]
    },
    {
     "name": "stderr",
     "output_type": "stream",
     "text": [
      "\n",
      "  0%|                                                                                                                                 | 0/36 [00:00<?, ?it/s]\u001b[A/home/sarawalk/sdgs_py38/lib/python3.8/site-packages/bicm/graph_classes.py:1113: RuntimeWarning: invalid value encountered in divide\n",
      "  probs = node_xy * neighbor_xy / ((1 + node_xy) * (1 + neighbor_xy))\n",
      "/home/sarawalk/sdgs_py38/lib/python3.8/site-packages/bicm/graph_classes.py:1113: RuntimeWarning: invalid value encountered in divide\n",
      "  probs = node_xy * neighbor_xy / ((1 + node_xy) * (1 + neighbor_xy))\n",
      "/home/sarawalk/sdgs_py38/lib/python3.8/site-packages/bicm/graph_classes.py:1113: RuntimeWarning: invalid value encountered in divide\n",
      "  probs = node_xy * neighbor_xy / ((1 + node_xy) * (1 + neighbor_xy))\n",
      "/home/sarawalk/sdgs_py38/lib/python3.8/site-packages/bicm/graph_classes.py:1113: RuntimeWarning: invalid value encountered in divide\n",
      "  probs = node_xy * neighbor_xy / ((1 + node_xy) * (1 + neighbor_xy))\n",
      "100%|███████████████████████████████████████████████████████████████████████████████████████████████████████████████████████| 36/36 [00:00<00:00, 598.62it/s]"
     ]
    },
    {
     "name": "stdout",
     "output_type": "stream",
     "text": [
      "No V-motifs will be validated. Try increasing alpha\n"
     ]
    },
    {
     "name": "stderr",
     "output_type": "stream",
     "text": [
      "\n",
      "\n",
      "100%|█████████████████████████████████████████████████████████████████████████████████████████████████████████████████████████| 2/2 [00:00<00:00, 205.72it/s]\u001b[A/home/sarawalk/sdgs_py38/lib/python3.8/site-packages/bicm/graph_classes.py:1113: RuntimeWarning: invalid value encountered in divide\n",
      "  probs = node_xy * neighbor_xy / ((1 + node_xy) * (1 + neighbor_xy))\n",
      "\n"
     ]
    },
    {
     "name": "stdout",
     "output_type": "stream",
     "text": [
      "No V-motifs will be validated. Try increasing alpha\n",
      "\n",
      "                      WARNING: this system has at least a node that is disconnected or connected to all nodes\n",
      "                       of the opposite layer. This may cause some convergence issues.\n",
      "                      Please use the full mode providing a biadjacency matrix or an edgelist,\n",
      "                       or clean your data from these nodes. \n",
      "                      \n",
      "2016 Utilities SDG 17: Partnerships for the Goals\r"
     ]
    },
    {
     "name": "stderr",
     "output_type": "stream",
     "text": [
      "\n",
      "  0%|                                                                                                                                 | 0/36 [00:00<?, ?it/s]\u001b[A/home/sarawalk/sdgs_py38/lib/python3.8/site-packages/bicm/graph_classes.py:1113: RuntimeWarning: invalid value encountered in divide\n",
      "  probs = node_xy * neighbor_xy / ((1 + node_xy) * (1 + neighbor_xy))\n",
      "/home/sarawalk/sdgs_py38/lib/python3.8/site-packages/bicm/graph_classes.py:1113: RuntimeWarning: invalid value encountered in divide\n",
      "  probs = node_xy * neighbor_xy / ((1 + node_xy) * (1 + neighbor_xy))\n",
      "/home/sarawalk/sdgs_py38/lib/python3.8/site-packages/bicm/graph_classes.py:1113: RuntimeWarning: invalid value encountered in divide\n",
      "  probs = node_xy * neighbor_xy / ((1 + node_xy) * (1 + neighbor_xy))\n",
      "/home/sarawalk/sdgs_py38/lib/python3.8/site-packages/bicm/graph_classes.py:1113: RuntimeWarning: invalid value encountered in divide\n",
      "  probs = node_xy * neighbor_xy / ((1 + node_xy) * (1 + neighbor_xy))\n",
      "100%|███████████████████████████████████████████████████████████████████████████████████████████████████████████████████████| 36/36 [00:00<00:00, 663.13it/s]"
     ]
    },
    {
     "name": "stdout",
     "output_type": "stream",
     "text": [
      "No V-motifs will be validated. Try increasing alpha\n"
     ]
    },
    {
     "name": "stderr",
     "output_type": "stream",
     "text": [
      "\n",
      "\n",
      "100%|█████████████████████████████████████████████████████████████████████████████████████████████████████████████████████████| 2/2 [00:00<00:00, 224.38it/s]\u001b[A/home/sarawalk/sdgs_py38/lib/python3.8/site-packages/bicm/graph_classes.py:1113: RuntimeWarning: invalid value encountered in divide\n",
      "  probs = node_xy * neighbor_xy / ((1 + node_xy) * (1 + neighbor_xy))\n",
      "\n"
     ]
    },
    {
     "name": "stdout",
     "output_type": "stream",
     "text": [
      "No V-motifs will be validated. Try increasing alpha\n",
      "\n",
      "                      WARNING: this system has at least a node that is disconnected or connected to all nodes\n",
      "                       of the opposite layer. This may cause some convergence issues.\n",
      "                      Please use the full mode providing a biadjacency matrix or an edgelist,\n",
      "                       or clean your data from these nodes. \n",
      "                      \n",
      "2017 Energy SDG 1: No Poverty\r"
     ]
    },
    {
     "name": "stderr",
     "output_type": "stream",
     "text": [
      "\n",
      "  0%|                                                                                                                                 | 0/38 [00:00<?, ?it/s]\u001b[A/home/sarawalk/sdgs_py38/lib/python3.8/site-packages/bicm/graph_classes.py:1113: RuntimeWarning: invalid value encountered in divide\n",
      "  probs = node_xy * neighbor_xy / ((1 + node_xy) * (1 + neighbor_xy))\n",
      "/home/sarawalk/sdgs_py38/lib/python3.8/site-packages/bicm/graph_classes.py:1113: RuntimeWarning: invalid value encountered in divide\n",
      "  probs = node_xy * neighbor_xy / ((1 + node_xy) * (1 + neighbor_xy))\n",
      "/home/sarawalk/sdgs_py38/lib/python3.8/site-packages/bicm/graph_classes.py:1113: RuntimeWarning: invalid value encountered in divide\n",
      "  probs = node_xy * neighbor_xy / ((1 + node_xy) * (1 + neighbor_xy))\n",
      "/home/sarawalk/sdgs_py38/lib/python3.8/site-packages/bicm/graph_classes.py:1113: RuntimeWarning: invalid value encountered in divide\n",
      "  probs = node_xy * neighbor_xy / ((1 + node_xy) * (1 + neighbor_xy))\n",
      "100%|███████████████████████████████████████████████████████████████████████████████████████████████████████████████████████| 38/38 [00:00<00:00, 727.91it/s]"
     ]
    },
    {
     "name": "stdout",
     "output_type": "stream",
     "text": [
      "No V-motifs will be validated. Try increasing alpha\n"
     ]
    },
    {
     "name": "stderr",
     "output_type": "stream",
     "text": [
      "\n",
      "\n",
      "100%|█████████████████████████████████████████████████████████████████████████████████████████████████████████████████████████| 2/2 [00:00<00:00, 101.37it/s]\u001b[A/home/sarawalk/sdgs_py38/lib/python3.8/site-packages/bicm/graph_classes.py:1113: RuntimeWarning: invalid value encountered in divide\n",
      "  probs = node_xy * neighbor_xy / ((1 + node_xy) * (1 + neighbor_xy))\n",
      "\n"
     ]
    },
    {
     "name": "stdout",
     "output_type": "stream",
     "text": [
      "No V-motifs will be validated. Try increasing alpha\n",
      "\n",
      "                      WARNING: this system has at least a node that is disconnected or connected to all nodes\n",
      "                       of the opposite layer. This may cause some convergence issues.\n",
      "                      Please use the full mode providing a biadjacency matrix or an edgelist,\n",
      "                       or clean your data from these nodes. \n",
      "                      \n",
      "2017 Energy SDG 3: Good Health and Well-being\r"
     ]
    },
    {
     "name": "stderr",
     "output_type": "stream",
     "text": [
      "\n",
      "  0%|                                                                                                                                 | 0/38 [00:00<?, ?it/s]\u001b[A/home/sarawalk/sdgs_py38/lib/python3.8/site-packages/bicm/graph_classes.py:1113: RuntimeWarning: invalid value encountered in divide\n",
      "  probs = node_xy * neighbor_xy / ((1 + node_xy) * (1 + neighbor_xy))\n",
      "/home/sarawalk/sdgs_py38/lib/python3.8/site-packages/bicm/graph_classes.py:1113: RuntimeWarning: invalid value encountered in divide\n",
      "  probs = node_xy * neighbor_xy / ((1 + node_xy) * (1 + neighbor_xy))\n",
      "/home/sarawalk/sdgs_py38/lib/python3.8/site-packages/bicm/graph_classes.py:1113: RuntimeWarning: invalid value encountered in divide\n",
      "  probs = node_xy * neighbor_xy / ((1 + node_xy) * (1 + neighbor_xy))\n",
      "/home/sarawalk/sdgs_py38/lib/python3.8/site-packages/bicm/graph_classes.py:1113: RuntimeWarning: invalid value encountered in divide\n",
      "  probs = node_xy * neighbor_xy / ((1 + node_xy) * (1 + neighbor_xy))\n",
      "100%|███████████████████████████████████████████████████████████████████████████████████████████████████████████████████████| 38/38 [00:00<00:00, 825.66it/s]\n"
     ]
    },
    {
     "name": "stdout",
     "output_type": "stream",
     "text": [
      "No V-motifs will be validated. Try increasing alpha\n"
     ]
    },
    {
     "name": "stderr",
     "output_type": "stream",
     "text": [
      "\n",
      "100%|█████████████████████████████████████████████████████████████████████████████████████████████████████████████████████████| 2/2 [00:00<00:00, 141.76it/s]\u001b[A/home/sarawalk/sdgs_py38/lib/python3.8/site-packages/bicm/graph_classes.py:1113: RuntimeWarning: invalid value encountered in divide\n",
      "  probs = node_xy * neighbor_xy / ((1 + node_xy) * (1 + neighbor_xy))\n",
      "\n"
     ]
    },
    {
     "name": "stdout",
     "output_type": "stream",
     "text": [
      "No V-motifs will be validated. Try increasing alpha\n",
      "\n",
      "                      WARNING: this system has at least a node that is disconnected or connected to all nodes\n",
      "                       of the opposite layer. This may cause some convergence issues.\n",
      "                      Please use the full mode providing a biadjacency matrix or an edgelist,\n",
      "                       or clean your data from these nodes. \n",
      "                      \n",
      "2017 Energy SDG 4: Quality Education\r"
     ]
    },
    {
     "name": "stderr",
     "output_type": "stream",
     "text": [
      "\n",
      "  0%|                                                                                                                                 | 0/38 [00:00<?, ?it/s]\u001b[A/home/sarawalk/sdgs_py38/lib/python3.8/site-packages/bicm/graph_classes.py:1113: RuntimeWarning: invalid value encountered in divide\n",
      "  probs = node_xy * neighbor_xy / ((1 + node_xy) * (1 + neighbor_xy))\n",
      "/home/sarawalk/sdgs_py38/lib/python3.8/site-packages/bicm/graph_classes.py:1113: RuntimeWarning: invalid value encountered in divide\n",
      "  probs = node_xy * neighbor_xy / ((1 + node_xy) * (1 + neighbor_xy))\n",
      "/home/sarawalk/sdgs_py38/lib/python3.8/site-packages/bicm/graph_classes.py:1113: RuntimeWarning: invalid value encountered in divide\n",
      "  probs = node_xy * neighbor_xy / ((1 + node_xy) * (1 + neighbor_xy))\n",
      "/home/sarawalk/sdgs_py38/lib/python3.8/site-packages/bicm/graph_classes.py:1113: RuntimeWarning: invalid value encountered in divide\n",
      "  probs = node_xy * neighbor_xy / ((1 + node_xy) * (1 + neighbor_xy))\n",
      "100%|███████████████████████████████████████████████████████████████████████████████████████████████████████████████████████| 38/38 [00:00<00:00, 728.02it/s]\n"
     ]
    },
    {
     "name": "stdout",
     "output_type": "stream",
     "text": [
      "No V-motifs will be validated. Try increasing alpha\n"
     ]
    },
    {
     "name": "stderr",
     "output_type": "stream",
     "text": [
      "\n",
      "100%|█████████████████████████████████████████████████████████████████████████████████████████████████████████████████████████| 2/2 [00:00<00:00, 106.48it/s]\u001b[A/home/sarawalk/sdgs_py38/lib/python3.8/site-packages/bicm/graph_classes.py:1113: RuntimeWarning: invalid value encountered in divide\n",
      "  probs = node_xy * neighbor_xy / ((1 + node_xy) * (1 + neighbor_xy))\n",
      "\n"
     ]
    },
    {
     "name": "stdout",
     "output_type": "stream",
     "text": [
      "No V-motifs will be validated. Try increasing alpha\n",
      "\n",
      "                      WARNING: this system has at least a node that is disconnected or connected to all nodes\n",
      "                       of the opposite layer. This may cause some convergence issues.\n",
      "                      Please use the full mode providing a biadjacency matrix or an edgelist,\n",
      "                       or clean your data from these nodes. \n",
      "                      \n",
      "2017 Energy SDG 5: Gender Equality\r"
     ]
    },
    {
     "name": "stderr",
     "output_type": "stream",
     "text": [
      "\n",
      "  0%|                                                                                                                                 | 0/38 [00:00<?, ?it/s]\u001b[A/home/sarawalk/sdgs_py38/lib/python3.8/site-packages/bicm/graph_classes.py:1113: RuntimeWarning: invalid value encountered in divide\n",
      "  probs = node_xy * neighbor_xy / ((1 + node_xy) * (1 + neighbor_xy))\n",
      "/home/sarawalk/sdgs_py38/lib/python3.8/site-packages/bicm/graph_classes.py:1113: RuntimeWarning: invalid value encountered in divide\n",
      "  probs = node_xy * neighbor_xy / ((1 + node_xy) * (1 + neighbor_xy))\n",
      "/home/sarawalk/sdgs_py38/lib/python3.8/site-packages/bicm/graph_classes.py:1113: RuntimeWarning: invalid value encountered in divide\n",
      "  probs = node_xy * neighbor_xy / ((1 + node_xy) * (1 + neighbor_xy))\n",
      "/home/sarawalk/sdgs_py38/lib/python3.8/site-packages/bicm/graph_classes.py:1113: RuntimeWarning: invalid value encountered in divide\n",
      "  probs = node_xy * neighbor_xy / ((1 + node_xy) * (1 + neighbor_xy))\n",
      "100%|███████████████████████████████████████████████████████████████████████████████████████████████████████████████████████| 38/38 [00:00<00:00, 840.97it/s]"
     ]
    },
    {
     "name": "stdout",
     "output_type": "stream",
     "text": [
      "No V-motifs will be validated. Try increasing alpha\n"
     ]
    },
    {
     "name": "stderr",
     "output_type": "stream",
     "text": [
      "\n",
      "\n",
      "100%|█████████████████████████████████████████████████████████████████████████████████████████████████████████████████████████| 2/2 [00:00<00:00, 105.50it/s]\u001b[A\n",
      "/home/sarawalk/sdgs_py38/lib/python3.8/site-packages/bicm/graph_classes.py:1113: RuntimeWarning: invalid value encountered in divide\n",
      "  probs = node_xy * neighbor_xy / ((1 + node_xy) * (1 + neighbor_xy))\n"
     ]
    },
    {
     "name": "stdout",
     "output_type": "stream",
     "text": [
      "No V-motifs will be validated. Try increasing alpha\n",
      "\n",
      "                      WARNING: this system has at least a node that is disconnected or connected to all nodes\n",
      "                       of the opposite layer. This may cause some convergence issues.\n",
      "                      Please use the full mode providing a biadjacency matrix or an edgelist,\n",
      "                       or clean your data from these nodes. \n",
      "                      \n",
      "2017 Energy SDG 6: Clean Water and Sanitation\r"
     ]
    },
    {
     "name": "stderr",
     "output_type": "stream",
     "text": [
      "\n",
      "  0%|                                                                                                                                 | 0/38 [00:00<?, ?it/s]\u001b[A/home/sarawalk/sdgs_py38/lib/python3.8/site-packages/bicm/graph_classes.py:1113: RuntimeWarning: invalid value encountered in divide\n",
      "  probs = node_xy * neighbor_xy / ((1 + node_xy) * (1 + neighbor_xy))\n",
      "/home/sarawalk/sdgs_py38/lib/python3.8/site-packages/bicm/graph_classes.py:1113: RuntimeWarning: invalid value encountered in divide\n",
      "  probs = node_xy * neighbor_xy / ((1 + node_xy) * (1 + neighbor_xy))\n",
      "/home/sarawalk/sdgs_py38/lib/python3.8/site-packages/bicm/graph_classes.py:1113: RuntimeWarning: invalid value encountered in divide\n",
      "  probs = node_xy * neighbor_xy / ((1 + node_xy) * (1 + neighbor_xy))\n",
      "/home/sarawalk/sdgs_py38/lib/python3.8/site-packages/bicm/graph_classes.py:1113: RuntimeWarning: invalid value encountered in divide\n",
      "  probs = node_xy * neighbor_xy / ((1 + node_xy) * (1 + neighbor_xy))\n",
      "100%|███████████████████████████████████████████████████████████████████████████████████████████████████████████████████████| 38/38 [00:00<00:00, 675.51it/s]"
     ]
    },
    {
     "name": "stdout",
     "output_type": "stream",
     "text": [
      "No V-motifs will be validated. Try increasing alpha\n"
     ]
    },
    {
     "name": "stderr",
     "output_type": "stream",
     "text": [
      "\n",
      "\n",
      "100%|██████████████████████████████████████████████████████████████████████████████████████████████████████████████████████████| 2/2 [00:00<00:00, 94.79it/s]\u001b[A/home/sarawalk/sdgs_py38/lib/python3.8/site-packages/bicm/graph_classes.py:1113: RuntimeWarning: invalid value encountered in divide\n",
      "  probs = node_xy * neighbor_xy / ((1 + node_xy) * (1 + neighbor_xy))\n",
      "\n"
     ]
    },
    {
     "name": "stdout",
     "output_type": "stream",
     "text": [
      "No V-motifs will be validated. Try increasing alpha\n",
      "\n",
      "                      WARNING: this system has at least a node that is disconnected or connected to all nodes\n",
      "                       of the opposite layer. This may cause some convergence issues.\n",
      "                      Please use the full mode providing a biadjacency matrix or an edgelist,\n",
      "                       or clean your data from these nodes. \n",
      "                      \n",
      "2017 Energy SDG 7: Affordable and Clean Energy\r"
     ]
    },
    {
     "name": "stderr",
     "output_type": "stream",
     "text": [
      "\n",
      "  0%|                                                                                                                                 | 0/38 [00:00<?, ?it/s]\u001b[A/home/sarawalk/sdgs_py38/lib/python3.8/site-packages/bicm/graph_classes.py:1113: RuntimeWarning: invalid value encountered in divide\n",
      "  probs = node_xy * neighbor_xy / ((1 + node_xy) * (1 + neighbor_xy))\n",
      "/home/sarawalk/sdgs_py38/lib/python3.8/site-packages/bicm/graph_classes.py:1113: RuntimeWarning: invalid value encountered in divide\n",
      "  probs = node_xy * neighbor_xy / ((1 + node_xy) * (1 + neighbor_xy))\n",
      "/home/sarawalk/sdgs_py38/lib/python3.8/site-packages/bicm/graph_classes.py:1113: RuntimeWarning: invalid value encountered in divide\n",
      "  probs = node_xy * neighbor_xy / ((1 + node_xy) * (1 + neighbor_xy))\n",
      "/home/sarawalk/sdgs_py38/lib/python3.8/site-packages/bicm/graph_classes.py:1113: RuntimeWarning: invalid value encountered in divide\n",
      "  probs = node_xy * neighbor_xy / ((1 + node_xy) * (1 + neighbor_xy))\n",
      "100%|███████████████████████████████████████████████████████████████████████████████████████████████████████████████████████| 38/38 [00:00<00:00, 538.45it/s]"
     ]
    },
    {
     "name": "stdout",
     "output_type": "stream",
     "text": [
      "No V-motifs will be validated. Try increasing alpha\n"
     ]
    },
    {
     "name": "stderr",
     "output_type": "stream",
     "text": [
      "\n",
      "\n",
      "100%|██████████████████████████████████████████████████████████████████████████████████████████████████████████████████████████| 2/2 [00:00<00:00, 93.54it/s]\u001b[A/home/sarawalk/sdgs_py38/lib/python3.8/site-packages/bicm/graph_classes.py:1113: RuntimeWarning: invalid value encountered in divide\n",
      "  probs = node_xy * neighbor_xy / ((1 + node_xy) * (1 + neighbor_xy))\n",
      "\n"
     ]
    },
    {
     "name": "stdout",
     "output_type": "stream",
     "text": [
      "No V-motifs will be validated. Try increasing alpha\n",
      "\n",
      "                      WARNING: this system has at least a node that is disconnected or connected to all nodes\n",
      "                       of the opposite layer. This may cause some convergence issues.\n",
      "                      Please use the full mode providing a biadjacency matrix or an edgelist,\n",
      "                       or clean your data from these nodes. \n",
      "                      \n",
      "2017 Energy SDG 8: Decent Work and Economic Growth\r"
     ]
    },
    {
     "name": "stderr",
     "output_type": "stream",
     "text": [
      "\n",
      "  0%|                                                                                                                                 | 0/38 [00:00<?, ?it/s]\u001b[A/home/sarawalk/sdgs_py38/lib/python3.8/site-packages/bicm/graph_classes.py:1113: RuntimeWarning: invalid value encountered in divide\n",
      "  probs = node_xy * neighbor_xy / ((1 + node_xy) * (1 + neighbor_xy))\n",
      "/home/sarawalk/sdgs_py38/lib/python3.8/site-packages/bicm/graph_classes.py:1113: RuntimeWarning: invalid value encountered in divide\n",
      "  probs = node_xy * neighbor_xy / ((1 + node_xy) * (1 + neighbor_xy))\n",
      "/home/sarawalk/sdgs_py38/lib/python3.8/site-packages/bicm/graph_classes.py:1113: RuntimeWarning: invalid value encountered in divide\n",
      "  probs = node_xy * neighbor_xy / ((1 + node_xy) * (1 + neighbor_xy))\n",
      "/home/sarawalk/sdgs_py38/lib/python3.8/site-packages/bicm/graph_classes.py:1113: RuntimeWarning: invalid value encountered in divide\n",
      "  probs = node_xy * neighbor_xy / ((1 + node_xy) * (1 + neighbor_xy))\n",
      "100%|███████████████████████████████████████████████████████████████████████████████████████████████████████████████████████| 38/38 [00:00<00:00, 521.11it/s]"
     ]
    },
    {
     "name": "stdout",
     "output_type": "stream",
     "text": [
      "No V-motifs will be validated. Try increasing alpha\n"
     ]
    },
    {
     "name": "stderr",
     "output_type": "stream",
     "text": [
      "\n",
      "\n",
      "100%|█████████████████████████████████████████████████████████████████████████████████████████████████████████████████████████| 2/2 [00:00<00:00, 113.89it/s]\u001b[A/home/sarawalk/sdgs_py38/lib/python3.8/site-packages/bicm/graph_classes.py:1113: RuntimeWarning: invalid value encountered in divide\n",
      "  probs = node_xy * neighbor_xy / ((1 + node_xy) * (1 + neighbor_xy))\n",
      "\n"
     ]
    },
    {
     "name": "stdout",
     "output_type": "stream",
     "text": [
      "No V-motifs will be validated. Try increasing alpha\n",
      "\n",
      "                      WARNING: this system has at least a node that is disconnected or connected to all nodes\n",
      "                       of the opposite layer. This may cause some convergence issues.\n",
      "                      Please use the full mode providing a biadjacency matrix or an edgelist,\n",
      "                       or clean your data from these nodes. \n",
      "                      \n",
      "2017 Energy SDG 9: Industry, Innovation, and Infrastructure\r"
     ]
    },
    {
     "name": "stderr",
     "output_type": "stream",
     "text": [
      "\n",
      "  0%|                                                                                                                                 | 0/38 [00:00<?, ?it/s]\u001b[A/home/sarawalk/sdgs_py38/lib/python3.8/site-packages/bicm/graph_classes.py:1113: RuntimeWarning: invalid value encountered in divide\n",
      "  probs = node_xy * neighbor_xy / ((1 + node_xy) * (1 + neighbor_xy))\n",
      "/home/sarawalk/sdgs_py38/lib/python3.8/site-packages/bicm/graph_classes.py:1113: RuntimeWarning: invalid value encountered in divide\n",
      "  probs = node_xy * neighbor_xy / ((1 + node_xy) * (1 + neighbor_xy))\n",
      "/home/sarawalk/sdgs_py38/lib/python3.8/site-packages/bicm/graph_classes.py:1113: RuntimeWarning: invalid value encountered in divide\n",
      "  probs = node_xy * neighbor_xy / ((1 + node_xy) * (1 + neighbor_xy))\n",
      "/home/sarawalk/sdgs_py38/lib/python3.8/site-packages/bicm/graph_classes.py:1113: RuntimeWarning: invalid value encountered in divide\n",
      "  probs = node_xy * neighbor_xy / ((1 + node_xy) * (1 + neighbor_xy))\n",
      "100%|███████████████████████████████████████████████████████████████████████████████████████████████████████████████████████| 38/38 [00:00<00:00, 591.20it/s]"
     ]
    },
    {
     "name": "stdout",
     "output_type": "stream",
     "text": [
      "No V-motifs will be validated. Try increasing alpha\n"
     ]
    },
    {
     "name": "stderr",
     "output_type": "stream",
     "text": [
      "\n",
      "\n",
      "100%|█████████████████████████████████████████████████████████████████████████████████████████████████████████████████████████| 2/2 [00:00<00:00, 108.47it/s]\u001b[A/home/sarawalk/sdgs_py38/lib/python3.8/site-packages/bicm/graph_classes.py:1113: RuntimeWarning: invalid value encountered in divide\n",
      "  probs = node_xy * neighbor_xy / ((1 + node_xy) * (1 + neighbor_xy))\n",
      "\n"
     ]
    },
    {
     "name": "stdout",
     "output_type": "stream",
     "text": [
      "No V-motifs will be validated. Try increasing alpha\n",
      "\n",
      "                      WARNING: this system has at least a node that is disconnected or connected to all nodes\n",
      "                       of the opposite layer. This may cause some convergence issues.\n",
      "                      Please use the full mode providing a biadjacency matrix or an edgelist,\n",
      "                       or clean your data from these nodes. \n",
      "                      \n",
      "2017 Energy SDG 10: Reduced Inequality\r"
     ]
    },
    {
     "name": "stderr",
     "output_type": "stream",
     "text": [
      "\n",
      "  0%|                                                                                                                                 | 0/38 [00:00<?, ?it/s]\u001b[A/home/sarawalk/sdgs_py38/lib/python3.8/site-packages/bicm/graph_classes.py:1113: RuntimeWarning: invalid value encountered in divide\n",
      "  probs = node_xy * neighbor_xy / ((1 + node_xy) * (1 + neighbor_xy))\n",
      "/home/sarawalk/sdgs_py38/lib/python3.8/site-packages/bicm/graph_classes.py:1113: RuntimeWarning: invalid value encountered in divide\n",
      "  probs = node_xy * neighbor_xy / ((1 + node_xy) * (1 + neighbor_xy))\n",
      "/home/sarawalk/sdgs_py38/lib/python3.8/site-packages/bicm/graph_classes.py:1113: RuntimeWarning: invalid value encountered in divide\n",
      "  probs = node_xy * neighbor_xy / ((1 + node_xy) * (1 + neighbor_xy))\n",
      "/home/sarawalk/sdgs_py38/lib/python3.8/site-packages/bicm/graph_classes.py:1113: RuntimeWarning: invalid value encountered in divide\n",
      "  probs = node_xy * neighbor_xy / ((1 + node_xy) * (1 + neighbor_xy))\n",
      "100%|███████████████████████████████████████████████████████████████████████████████████████████████████████████████████████| 38/38 [00:00<00:00, 668.18it/s]"
     ]
    },
    {
     "name": "stdout",
     "output_type": "stream",
     "text": [
      "No V-motifs will be validated. Try increasing alpha\n"
     ]
    },
    {
     "name": "stderr",
     "output_type": "stream",
     "text": [
      "\n",
      "\n",
      "100%|█████████████████████████████████████████████████████████████████████████████████████████████████████████████████████████| 2/2 [00:00<00:00, 142.14it/s]\u001b[A/home/sarawalk/sdgs_py38/lib/python3.8/site-packages/bicm/graph_classes.py:1113: RuntimeWarning: invalid value encountered in divide\n",
      "  probs = node_xy * neighbor_xy / ((1 + node_xy) * (1 + neighbor_xy))\n",
      "\n"
     ]
    },
    {
     "name": "stdout",
     "output_type": "stream",
     "text": [
      "No V-motifs will be validated. Try increasing alpha\n",
      "\n",
      "                      WARNING: this system has at least a node that is disconnected or connected to all nodes\n",
      "                       of the opposite layer. This may cause some convergence issues.\n",
      "                      Please use the full mode providing a biadjacency matrix or an edgelist,\n",
      "                       or clean your data from these nodes. \n",
      "                      \n",
      "2017 Energy SDG 11: Sustainable Cities and Communities\r"
     ]
    },
    {
     "name": "stderr",
     "output_type": "stream",
     "text": [
      "\n",
      "  0%|                                                                                                                                 | 0/38 [00:00<?, ?it/s]\u001b[A/home/sarawalk/sdgs_py38/lib/python3.8/site-packages/bicm/graph_classes.py:1113: RuntimeWarning: invalid value encountered in divide\n",
      "  probs = node_xy * neighbor_xy / ((1 + node_xy) * (1 + neighbor_xy))\n",
      "/home/sarawalk/sdgs_py38/lib/python3.8/site-packages/bicm/graph_classes.py:1113: RuntimeWarning: invalid value encountered in divide\n",
      "  probs = node_xy * neighbor_xy / ((1 + node_xy) * (1 + neighbor_xy))\n",
      "/home/sarawalk/sdgs_py38/lib/python3.8/site-packages/bicm/graph_classes.py:1113: RuntimeWarning: invalid value encountered in divide\n",
      "  probs = node_xy * neighbor_xy / ((1 + node_xy) * (1 + neighbor_xy))\n",
      "/home/sarawalk/sdgs_py38/lib/python3.8/site-packages/bicm/graph_classes.py:1113: RuntimeWarning: invalid value encountered in divide\n",
      "  probs = node_xy * neighbor_xy / ((1 + node_xy) * (1 + neighbor_xy))\n",
      "100%|███████████████████████████████████████████████████████████████████████████████████████████████████████████████████████| 38/38 [00:00<00:00, 736.16it/s]"
     ]
    },
    {
     "name": "stdout",
     "output_type": "stream",
     "text": [
      "No V-motifs will be validated. Try increasing alpha\n"
     ]
    },
    {
     "name": "stderr",
     "output_type": "stream",
     "text": [
      "\n",
      "\n",
      "100%|█████████████████████████████████████████████████████████████████████████████████████████████████████████████████████████| 2/2 [00:00<00:00, 120.40it/s]\u001b[A/home/sarawalk/sdgs_py38/lib/python3.8/site-packages/bicm/graph_classes.py:1113: RuntimeWarning: invalid value encountered in divide\n",
      "  probs = node_xy * neighbor_xy / ((1 + node_xy) * (1 + neighbor_xy))\n",
      "\n"
     ]
    },
    {
     "name": "stdout",
     "output_type": "stream",
     "text": [
      "No V-motifs will be validated. Try increasing alpha\n",
      "\n",
      "                      WARNING: this system has at least a node that is disconnected or connected to all nodes\n",
      "                       of the opposite layer. This may cause some convergence issues.\n",
      "                      Please use the full mode providing a biadjacency matrix or an edgelist,\n",
      "                       or clean your data from these nodes. \n",
      "                      \n",
      "2017 Energy SDG 12: Responsible Consumption and Production\r"
     ]
    },
    {
     "name": "stderr",
     "output_type": "stream",
     "text": [
      "\n",
      "  0%|                                                                                                                                 | 0/38 [00:00<?, ?it/s]\u001b[A/home/sarawalk/sdgs_py38/lib/python3.8/site-packages/bicm/graph_classes.py:1113: RuntimeWarning: invalid value encountered in divide\n",
      "  probs = node_xy * neighbor_xy / ((1 + node_xy) * (1 + neighbor_xy))\n",
      "/home/sarawalk/sdgs_py38/lib/python3.8/site-packages/bicm/graph_classes.py:1113: RuntimeWarning: invalid value encountered in divide\n",
      "  probs = node_xy * neighbor_xy / ((1 + node_xy) * (1 + neighbor_xy))\n",
      "/home/sarawalk/sdgs_py38/lib/python3.8/site-packages/bicm/graph_classes.py:1113: RuntimeWarning: invalid value encountered in divide\n",
      "  probs = node_xy * neighbor_xy / ((1 + node_xy) * (1 + neighbor_xy))\n",
      "/home/sarawalk/sdgs_py38/lib/python3.8/site-packages/bicm/graph_classes.py:1113: RuntimeWarning: invalid value encountered in divide\n",
      "  probs = node_xy * neighbor_xy / ((1 + node_xy) * (1 + neighbor_xy))\n",
      "100%|███████████████████████████████████████████████████████████████████████████████████████████████████████████████████████| 38/38 [00:00<00:00, 776.00it/s]\n"
     ]
    },
    {
     "name": "stdout",
     "output_type": "stream",
     "text": [
      "No V-motifs will be validated. Try increasing alpha\n"
     ]
    },
    {
     "name": "stderr",
     "output_type": "stream",
     "text": [
      "\n",
      "100%|█████████████████████████████████████████████████████████████████████████████████████████████████████████████████████████| 2/2 [00:00<00:00, 121.31it/s]\u001b[A/home/sarawalk/sdgs_py38/lib/python3.8/site-packages/bicm/graph_classes.py:1113: RuntimeWarning: invalid value encountered in divide\n",
      "  probs = node_xy * neighbor_xy / ((1 + node_xy) * (1 + neighbor_xy))\n",
      "\n"
     ]
    },
    {
     "name": "stdout",
     "output_type": "stream",
     "text": [
      "No V-motifs will be validated. Try increasing alpha\n",
      "\n",
      "                      WARNING: this system has at least a node that is disconnected or connected to all nodes\n",
      "                       of the opposite layer. This may cause some convergence issues.\n",
      "                      Please use the full mode providing a biadjacency matrix or an edgelist,\n",
      "                       or clean your data from these nodes. \n",
      "                      \n",
      "2017 Energy SDG 13: Climate Action\r"
     ]
    },
    {
     "name": "stderr",
     "output_type": "stream",
     "text": [
      "\n",
      "  0%|                                                                                                                                 | 0/38 [00:00<?, ?it/s]\u001b[A/home/sarawalk/sdgs_py38/lib/python3.8/site-packages/bicm/graph_classes.py:1113: RuntimeWarning: invalid value encountered in divide\n",
      "  probs = node_xy * neighbor_xy / ((1 + node_xy) * (1 + neighbor_xy))\n",
      "/home/sarawalk/sdgs_py38/lib/python3.8/site-packages/bicm/graph_classes.py:1113: RuntimeWarning: invalid value encountered in divide\n",
      "  probs = node_xy * neighbor_xy / ((1 + node_xy) * (1 + neighbor_xy))\n",
      "/home/sarawalk/sdgs_py38/lib/python3.8/site-packages/bicm/graph_classes.py:1113: RuntimeWarning: invalid value encountered in divide\n",
      "  probs = node_xy * neighbor_xy / ((1 + node_xy) * (1 + neighbor_xy))\n",
      "/home/sarawalk/sdgs_py38/lib/python3.8/site-packages/bicm/graph_classes.py:1113: RuntimeWarning: invalid value encountered in divide\n",
      "  probs = node_xy * neighbor_xy / ((1 + node_xy) * (1 + neighbor_xy))\n",
      "100%|███████████████████████████████████████████████████████████████████████████████████████████████████████████████████████| 38/38 [00:00<00:00, 570.89it/s]"
     ]
    },
    {
     "name": "stdout",
     "output_type": "stream",
     "text": [
      "No V-motifs will be validated. Try increasing alpha\n"
     ]
    },
    {
     "name": "stderr",
     "output_type": "stream",
     "text": [
      "\n",
      "\n",
      "100%|█████████████████████████████████████████████████████████████████████████████████████████████████████████████████████████| 2/2 [00:00<00:00, 124.22it/s]\u001b[A/home/sarawalk/sdgs_py38/lib/python3.8/site-packages/bicm/graph_classes.py:1113: RuntimeWarning: invalid value encountered in divide\n",
      "  probs = node_xy * neighbor_xy / ((1 + node_xy) * (1 + neighbor_xy))\n",
      "\n"
     ]
    },
    {
     "name": "stdout",
     "output_type": "stream",
     "text": [
      "No V-motifs will be validated. Try increasing alpha\n",
      "\n",
      "                      WARNING: this system has at least a node that is disconnected or connected to all nodes\n",
      "                       of the opposite layer. This may cause some convergence issues.\n",
      "                      Please use the full mode providing a biadjacency matrix or an edgelist,\n",
      "                       or clean your data from these nodes. \n",
      "                      \n",
      "2017 Energy SDG 14: Life Below Water\r"
     ]
    },
    {
     "name": "stderr",
     "output_type": "stream",
     "text": [
      "\n",
      "  0%|                                                                                                                                 | 0/38 [00:00<?, ?it/s]\u001b[A/home/sarawalk/sdgs_py38/lib/python3.8/site-packages/bicm/graph_classes.py:1113: RuntimeWarning: invalid value encountered in divide\n",
      "  probs = node_xy * neighbor_xy / ((1 + node_xy) * (1 + neighbor_xy))\n",
      "/home/sarawalk/sdgs_py38/lib/python3.8/site-packages/bicm/graph_classes.py:1113: RuntimeWarning: invalid value encountered in divide\n",
      "  probs = node_xy * neighbor_xy / ((1 + node_xy) * (1 + neighbor_xy))\n",
      "/home/sarawalk/sdgs_py38/lib/python3.8/site-packages/bicm/graph_classes.py:1113: RuntimeWarning: invalid value encountered in divide\n",
      "  probs = node_xy * neighbor_xy / ((1 + node_xy) * (1 + neighbor_xy))\n",
      "/home/sarawalk/sdgs_py38/lib/python3.8/site-packages/bicm/graph_classes.py:1113: RuntimeWarning: invalid value encountered in divide\n",
      "  probs = node_xy * neighbor_xy / ((1 + node_xy) * (1 + neighbor_xy))\n",
      "100%|███████████████████████████████████████████████████████████████████████████████████████████████████████████████████████| 38/38 [00:00<00:00, 655.08it/s]"
     ]
    },
    {
     "name": "stdout",
     "output_type": "stream",
     "text": [
      "No V-motifs will be validated. Try increasing alpha\n"
     ]
    },
    {
     "name": "stderr",
     "output_type": "stream",
     "text": [
      "\n",
      "\n",
      "100%|█████████████████████████████████████████████████████████████████████████████████████████████████████████████████████████| 2/2 [00:00<00:00, 183.94it/s]\u001b[A/home/sarawalk/sdgs_py38/lib/python3.8/site-packages/bicm/graph_classes.py:1113: RuntimeWarning: invalid value encountered in divide\n",
      "  probs = node_xy * neighbor_xy / ((1 + node_xy) * (1 + neighbor_xy))\n",
      "\n"
     ]
    },
    {
     "name": "stdout",
     "output_type": "stream",
     "text": [
      "No V-motifs will be validated. Try increasing alpha\n",
      "\n",
      "                      WARNING: this system has at least a node that is disconnected or connected to all nodes\n",
      "                       of the opposite layer. This may cause some convergence issues.\n",
      "                      Please use the full mode providing a biadjacency matrix or an edgelist,\n",
      "                       or clean your data from these nodes. \n",
      "                      \n",
      "2017 Energy SDG 15: Life on Land\r"
     ]
    },
    {
     "name": "stderr",
     "output_type": "stream",
     "text": [
      "\n",
      "  0%|                                                                                                                                 | 0/38 [00:00<?, ?it/s]\u001b[A/home/sarawalk/sdgs_py38/lib/python3.8/site-packages/bicm/graph_classes.py:1113: RuntimeWarning: invalid value encountered in divide\n",
      "  probs = node_xy * neighbor_xy / ((1 + node_xy) * (1 + neighbor_xy))\n",
      "/home/sarawalk/sdgs_py38/lib/python3.8/site-packages/bicm/graph_classes.py:1113: RuntimeWarning: invalid value encountered in divide\n",
      "  probs = node_xy * neighbor_xy / ((1 + node_xy) * (1 + neighbor_xy))\n",
      "/home/sarawalk/sdgs_py38/lib/python3.8/site-packages/bicm/graph_classes.py:1113: RuntimeWarning: invalid value encountered in divide\n",
      "  probs = node_xy * neighbor_xy / ((1 + node_xy) * (1 + neighbor_xy))\n",
      "/home/sarawalk/sdgs_py38/lib/python3.8/site-packages/bicm/graph_classes.py:1113: RuntimeWarning: invalid value encountered in divide\n",
      "  probs = node_xy * neighbor_xy / ((1 + node_xy) * (1 + neighbor_xy))\n",
      "100%|███████████████████████████████████████████████████████████████████████████████████████████████████████████████████████| 38/38 [00:00<00:00, 677.41it/s]"
     ]
    },
    {
     "name": "stdout",
     "output_type": "stream",
     "text": [
      "No V-motifs will be validated. Try increasing alpha\n"
     ]
    },
    {
     "name": "stderr",
     "output_type": "stream",
     "text": [
      "\n",
      "\n",
      "100%|█████████████████████████████████████████████████████████████████████████████████████████████████████████████████████████| 2/2 [00:00<00:00, 101.73it/s]\u001b[A/home/sarawalk/sdgs_py38/lib/python3.8/site-packages/bicm/graph_classes.py:1113: RuntimeWarning: invalid value encountered in divide\n",
      "  probs = node_xy * neighbor_xy / ((1 + node_xy) * (1 + neighbor_xy))\n",
      "\n"
     ]
    },
    {
     "name": "stdout",
     "output_type": "stream",
     "text": [
      "No V-motifs will be validated. Try increasing alpha\n",
      "\n",
      "                      WARNING: this system has at least a node that is disconnected or connected to all nodes\n",
      "                       of the opposite layer. This may cause some convergence issues.\n",
      "                      Please use the full mode providing a biadjacency matrix or an edgelist,\n",
      "                       or clean your data from these nodes. \n",
      "                      \n",
      "2017 Energy SDG 16: Peace, Justice, and Strong Institutions\r"
     ]
    },
    {
     "name": "stderr",
     "output_type": "stream",
     "text": [
      "\n",
      "  0%|                                                                                                                                 | 0/38 [00:00<?, ?it/s]\u001b[A/home/sarawalk/sdgs_py38/lib/python3.8/site-packages/bicm/graph_classes.py:1113: RuntimeWarning: invalid value encountered in divide\n",
      "  probs = node_xy * neighbor_xy / ((1 + node_xy) * (1 + neighbor_xy))\n",
      "/home/sarawalk/sdgs_py38/lib/python3.8/site-packages/bicm/graph_classes.py:1113: RuntimeWarning: invalid value encountered in divide\n",
      "  probs = node_xy * neighbor_xy / ((1 + node_xy) * (1 + neighbor_xy))\n",
      "/home/sarawalk/sdgs_py38/lib/python3.8/site-packages/bicm/graph_classes.py:1113: RuntimeWarning: invalid value encountered in divide\n",
      "  probs = node_xy * neighbor_xy / ((1 + node_xy) * (1 + neighbor_xy))\n",
      "/home/sarawalk/sdgs_py38/lib/python3.8/site-packages/bicm/graph_classes.py:1113: RuntimeWarning: invalid value encountered in divide\n",
      "  probs = node_xy * neighbor_xy / ((1 + node_xy) * (1 + neighbor_xy))\n",
      "100%|██████████████████████████████████████████████████████████████████████████████████████████████████████████████████████| 38/38 [00:00<00:00, 1091.45it/s]\n"
     ]
    },
    {
     "name": "stdout",
     "output_type": "stream",
     "text": [
      "No V-motifs will be validated. Try increasing alpha\n"
     ]
    },
    {
     "name": "stderr",
     "output_type": "stream",
     "text": [
      "\n",
      "100%|█████████████████████████████████████████████████████████████████████████████████████████████████████████████████████████| 2/2 [00:00<00:00, 169.59it/s]\u001b[A\n",
      "/home/sarawalk/sdgs_py38/lib/python3.8/site-packages/bicm/graph_classes.py:1113: RuntimeWarning: invalid value encountered in divide\n",
      "  probs = node_xy * neighbor_xy / ((1 + node_xy) * (1 + neighbor_xy))\n"
     ]
    },
    {
     "name": "stdout",
     "output_type": "stream",
     "text": [
      "No V-motifs will be validated. Try increasing alpha\n",
      "\n",
      "                      WARNING: this system has at least a node that is disconnected or connected to all nodes\n",
      "                       of the opposite layer. This may cause some convergence issues.\n",
      "                      Please use the full mode providing a biadjacency matrix or an edgelist,\n",
      "                       or clean your data from these nodes. \n",
      "                      \n",
      "2017 Energy SDG 17: Partnerships for the Goals\r"
     ]
    },
    {
     "name": "stderr",
     "output_type": "stream",
     "text": [
      "\n",
      "  0%|                                                                                                                                 | 0/38 [00:00<?, ?it/s]\u001b[A/home/sarawalk/sdgs_py38/lib/python3.8/site-packages/bicm/graph_classes.py:1113: RuntimeWarning: invalid value encountered in divide\n",
      "  probs = node_xy * neighbor_xy / ((1 + node_xy) * (1 + neighbor_xy))\n",
      "/home/sarawalk/sdgs_py38/lib/python3.8/site-packages/bicm/graph_classes.py:1113: RuntimeWarning: invalid value encountered in divide\n",
      "  probs = node_xy * neighbor_xy / ((1 + node_xy) * (1 + neighbor_xy))\n",
      "/home/sarawalk/sdgs_py38/lib/python3.8/site-packages/bicm/graph_classes.py:1113: RuntimeWarning: invalid value encountered in divide\n",
      "  probs = node_xy * neighbor_xy / ((1 + node_xy) * (1 + neighbor_xy))\n",
      "/home/sarawalk/sdgs_py38/lib/python3.8/site-packages/bicm/graph_classes.py:1113: RuntimeWarning: invalid value encountered in divide\n",
      "  probs = node_xy * neighbor_xy / ((1 + node_xy) * (1 + neighbor_xy))\n",
      "100%|███████████████████████████████████████████████████████████████████████████████████████████████████████████████████████| 38/38 [00:00<00:00, 836.51it/s]\n"
     ]
    },
    {
     "name": "stdout",
     "output_type": "stream",
     "text": [
      "No V-motifs will be validated. Try increasing alpha\n"
     ]
    },
    {
     "name": "stderr",
     "output_type": "stream",
     "text": [
      "\n",
      "100%|█████████████████████████████████████████████████████████████████████████████████████████████████████████████████████████| 2/2 [00:00<00:00, 155.77it/s]\u001b[A/home/sarawalk/sdgs_py38/lib/python3.8/site-packages/bicm/graph_classes.py:1113: RuntimeWarning: invalid value encountered in divide\n",
      "  probs = node_xy * neighbor_xy / ((1 + node_xy) * (1 + neighbor_xy))\n",
      "\n"
     ]
    },
    {
     "name": "stdout",
     "output_type": "stream",
     "text": [
      "No V-motifs will be validated. Try increasing alpha\n",
      "\n",
      "                      WARNING: this system has at least a node that is disconnected or connected to all nodes\n",
      "                       of the opposite layer. This may cause some convergence issues.\n",
      "                      Please use the full mode providing a biadjacency matrix or an edgelist,\n",
      "                       or clean your data from these nodes. \n",
      "                      \n",
      "2017 Utilities SDG 1: No Poverty\r"
     ]
    },
    {
     "name": "stderr",
     "output_type": "stream",
     "text": [
      "\n",
      "  0%|                                                                                                                                 | 0/50 [00:00<?, ?it/s]\u001b[A/home/sarawalk/sdgs_py38/lib/python3.8/site-packages/bicm/graph_classes.py:1113: RuntimeWarning: invalid value encountered in divide\n",
      "  probs = node_xy * neighbor_xy / ((1 + node_xy) * (1 + neighbor_xy))\n",
      "/home/sarawalk/sdgs_py38/lib/python3.8/site-packages/bicm/graph_classes.py:1113: RuntimeWarning: invalid value encountered in divide\n",
      "  probs = node_xy * neighbor_xy / ((1 + node_xy) * (1 + neighbor_xy))\n",
      "/home/sarawalk/sdgs_py38/lib/python3.8/site-packages/bicm/graph_classes.py:1113: RuntimeWarning: invalid value encountered in divide\n",
      "  probs = node_xy * neighbor_xy / ((1 + node_xy) * (1 + neighbor_xy))\n",
      "/home/sarawalk/sdgs_py38/lib/python3.8/site-packages/bicm/graph_classes.py:1113: RuntimeWarning: invalid value encountered in divide\n",
      "  probs = node_xy * neighbor_xy / ((1 + node_xy) * (1 + neighbor_xy))\n",
      "100%|███████████████████████████████████████████████████████████████████████████████████████████████████████████████████████| 50/50 [00:00<00:00, 919.21it/s]\n"
     ]
    },
    {
     "name": "stdout",
     "output_type": "stream",
     "text": [
      "No V-motifs will be validated. Try increasing alpha\n"
     ]
    },
    {
     "name": "stderr",
     "output_type": "stream",
     "text": [
      "\n",
      "  0%|                                                                                                                                  | 0/3 [00:00<?, ?it/s]\u001b[A/home/sarawalk/sdgs_py38/lib/python3.8/site-packages/bicm/graph_classes.py:1113: RuntimeWarning: invalid value encountered in divide\n",
      "  probs = node_xy * neighbor_xy / ((1 + node_xy) * (1 + neighbor_xy))\n",
      "100%|█████████████████████████████████████████████████████████████████████████████████████████████████████████████████████████| 3/3 [00:00<00:00, 134.88it/s]/home/sarawalk/sdgs_py38/lib/python3.8/site-packages/bicm/graph_classes.py:1113: RuntimeWarning: invalid value encountered in divide\n",
      "  probs = node_xy * neighbor_xy / ((1 + node_xy) * (1 + neighbor_xy))\n",
      "\n"
     ]
    },
    {
     "name": "stdout",
     "output_type": "stream",
     "text": [
      "No V-motifs will be validated. Try increasing alpha\n",
      "\n",
      "                      WARNING: this system has at least a node that is disconnected or connected to all nodes\n",
      "                       of the opposite layer. This may cause some convergence issues.\n",
      "                      Please use the full mode providing a biadjacency matrix or an edgelist,\n",
      "                       or clean your data from these nodes. \n",
      "                      \n",
      "2017 Utilities SDG 3: Good Health and Well-being\r"
     ]
    },
    {
     "name": "stderr",
     "output_type": "stream",
     "text": [
      "\n",
      "  0%|                                                                                                                                 | 0/50 [00:00<?, ?it/s]\u001b[A/home/sarawalk/sdgs_py38/lib/python3.8/site-packages/bicm/graph_classes.py:1113: RuntimeWarning: invalid value encountered in divide\n",
      "  probs = node_xy * neighbor_xy / ((1 + node_xy) * (1 + neighbor_xy))\n",
      "/home/sarawalk/sdgs_py38/lib/python3.8/site-packages/bicm/graph_classes.py:1113: RuntimeWarning: invalid value encountered in divide\n",
      "  probs = node_xy * neighbor_xy / ((1 + node_xy) * (1 + neighbor_xy))\n",
      "/home/sarawalk/sdgs_py38/lib/python3.8/site-packages/bicm/graph_classes.py:1113: RuntimeWarning: invalid value encountered in divide\n",
      "  probs = node_xy * neighbor_xy / ((1 + node_xy) * (1 + neighbor_xy))\n",
      "/home/sarawalk/sdgs_py38/lib/python3.8/site-packages/bicm/graph_classes.py:1113: RuntimeWarning: invalid value encountered in divide\n",
      "  probs = node_xy * neighbor_xy / ((1 + node_xy) * (1 + neighbor_xy))\n",
      "100%|███████████████████████████████████████████████████████████████████████████████████████████████████████████████████████| 50/50 [00:00<00:00, 934.24it/s]\n"
     ]
    },
    {
     "name": "stdout",
     "output_type": "stream",
     "text": [
      "No V-motifs will be validated. Try increasing alpha\n"
     ]
    },
    {
     "name": "stderr",
     "output_type": "stream",
     "text": [
      "\n",
      "  0%|                                                                                                                                  | 0/3 [00:00<?, ?it/s]\u001b[A/home/sarawalk/sdgs_py38/lib/python3.8/site-packages/bicm/graph_classes.py:1113: RuntimeWarning: invalid value encountered in divide\n",
      "  probs = node_xy * neighbor_xy / ((1 + node_xy) * (1 + neighbor_xy))\n",
      "100%|█████████████████████████████████████████████████████████████████████████████████████████████████████████████████████████| 3/3 [00:00<00:00, 114.28it/s]/home/sarawalk/sdgs_py38/lib/python3.8/site-packages/bicm/graph_classes.py:1113: RuntimeWarning: invalid value encountered in divide\n",
      "  probs = node_xy * neighbor_xy / ((1 + node_xy) * (1 + neighbor_xy))\n"
     ]
    },
    {
     "name": "stdout",
     "output_type": "stream",
     "text": [
      "No V-motifs will be validated. Try increasing alpha\n",
      "\n",
      "                      WARNING: this system has at least a node that is disconnected or connected to all nodes\n",
      "                       of the opposite layer. This may cause some convergence issues.\n",
      "                      Please use the full mode providing a biadjacency matrix or an edgelist,\n",
      "                       or clean your data from these nodes. \n",
      "                      \n",
      "2017 Utilities SDG 4: Quality Education\r"
     ]
    },
    {
     "name": "stderr",
     "output_type": "stream",
     "text": [
      "\n",
      "\n",
      "  0%|                                                                                                                                 | 0/50 [00:00<?, ?it/s]\u001b[A/home/sarawalk/sdgs_py38/lib/python3.8/site-packages/bicm/graph_classes.py:1113: RuntimeWarning: invalid value encountered in divide\n",
      "  probs = node_xy * neighbor_xy / ((1 + node_xy) * (1 + neighbor_xy))\n",
      "/home/sarawalk/sdgs_py38/lib/python3.8/site-packages/bicm/graph_classes.py:1113: RuntimeWarning: invalid value encountered in divide\n",
      "  probs = node_xy * neighbor_xy / ((1 + node_xy) * (1 + neighbor_xy))\n",
      "/home/sarawalk/sdgs_py38/lib/python3.8/site-packages/bicm/graph_classes.py:1113: RuntimeWarning: invalid value encountered in divide\n",
      "  probs = node_xy * neighbor_xy / ((1 + node_xy) * (1 + neighbor_xy))\n",
      "/home/sarawalk/sdgs_py38/lib/python3.8/site-packages/bicm/graph_classes.py:1113: RuntimeWarning: invalid value encountered in divide\n",
      "  probs = node_xy * neighbor_xy / ((1 + node_xy) * (1 + neighbor_xy))\n",
      "100%|██████████████████████████████████████████████████████████████████████████████████████████████████████████████████████| 50/50 [00:00<00:00, 1137.49it/s]\n"
     ]
    },
    {
     "name": "stdout",
     "output_type": "stream",
     "text": [
      "No V-motifs will be validated. Try increasing alpha\n"
     ]
    },
    {
     "name": "stderr",
     "output_type": "stream",
     "text": [
      "\n",
      "  0%|                                                                                                                                  | 0/3 [00:00<?, ?it/s]\u001b[A/home/sarawalk/sdgs_py38/lib/python3.8/site-packages/bicm/graph_classes.py:1113: RuntimeWarning: invalid value encountered in divide\n",
      "  probs = node_xy * neighbor_xy / ((1 + node_xy) * (1 + neighbor_xy))\n",
      "100%|█████████████████████████████████████████████████████████████████████████████████████████████████████████████████████████| 3/3 [00:00<00:00, 144.67it/s]/home/sarawalk/sdgs_py38/lib/python3.8/site-packages/bicm/graph_classes.py:1113: RuntimeWarning: invalid value encountered in divide\n",
      "  probs = node_xy * neighbor_xy / ((1 + node_xy) * (1 + neighbor_xy))\n",
      "\n"
     ]
    },
    {
     "name": "stdout",
     "output_type": "stream",
     "text": [
      "No V-motifs will be validated. Try increasing alpha\n",
      "\n",
      "                      WARNING: this system has at least a node that is disconnected or connected to all nodes\n",
      "                       of the opposite layer. This may cause some convergence issues.\n",
      "                      Please use the full mode providing a biadjacency matrix or an edgelist,\n",
      "                       or clean your data from these nodes. \n",
      "                      \n",
      "2017 Utilities SDG 5: Gender Equality\r"
     ]
    },
    {
     "name": "stderr",
     "output_type": "stream",
     "text": [
      "\n",
      "  0%|                                                                                                                                 | 0/50 [00:00<?, ?it/s]\u001b[A/home/sarawalk/sdgs_py38/lib/python3.8/site-packages/bicm/graph_classes.py:1113: RuntimeWarning: invalid value encountered in divide\n",
      "  probs = node_xy * neighbor_xy / ((1 + node_xy) * (1 + neighbor_xy))\n",
      "/home/sarawalk/sdgs_py38/lib/python3.8/site-packages/bicm/graph_classes.py:1113: RuntimeWarning: invalid value encountered in divide\n",
      "  probs = node_xy * neighbor_xy / ((1 + node_xy) * (1 + neighbor_xy))\n",
      "/home/sarawalk/sdgs_py38/lib/python3.8/site-packages/bicm/graph_classes.py:1113: RuntimeWarning: invalid value encountered in divide\n",
      "  probs = node_xy * neighbor_xy / ((1 + node_xy) * (1 + neighbor_xy))\n",
      "/home/sarawalk/sdgs_py38/lib/python3.8/site-packages/bicm/graph_classes.py:1113: RuntimeWarning: invalid value encountered in divide\n",
      "  probs = node_xy * neighbor_xy / ((1 + node_xy) * (1 + neighbor_xy))\n",
      "100%|██████████████████████████████████████████████████████████████████████████████████████████████████████████████████████| 50/50 [00:00<00:00, 1042.47it/s]\n"
     ]
    },
    {
     "name": "stdout",
     "output_type": "stream",
     "text": [
      "No V-motifs will be validated. Try increasing alpha\n"
     ]
    },
    {
     "name": "stderr",
     "output_type": "stream",
     "text": [
      "\n",
      "100%|█████████████████████████████████████████████████████████████████████████████████████████████████████████████████████████| 3/3 [00:00<00:00, 168.34it/s]\u001b[A/home/sarawalk/sdgs_py38/lib/python3.8/site-packages/bicm/graph_classes.py:1113: RuntimeWarning: invalid value encountered in divide\n",
      "  probs = node_xy * neighbor_xy / ((1 + node_xy) * (1 + neighbor_xy))\n",
      "/home/sarawalk/sdgs_py38/lib/python3.8/site-packages/bicm/graph_classes.py:1113: RuntimeWarning: invalid value encountered in divide\n",
      "  probs = node_xy * neighbor_xy / ((1 + node_xy) * (1 + neighbor_xy))\n",
      "\n"
     ]
    },
    {
     "name": "stdout",
     "output_type": "stream",
     "text": [
      "No V-motifs will be validated. Try increasing alpha\n",
      "\n",
      "                      WARNING: this system has at least a node that is disconnected or connected to all nodes\n",
      "                       of the opposite layer. This may cause some convergence issues.\n",
      "                      Please use the full mode providing a biadjacency matrix or an edgelist,\n",
      "                       or clean your data from these nodes. \n",
      "                      \n",
      "2017 Utilities SDG 6: Clean Water and Sanitation\r"
     ]
    },
    {
     "name": "stderr",
     "output_type": "stream",
     "text": [
      "\n",
      "  0%|                                                                                                                                 | 0/50 [00:00<?, ?it/s]\u001b[A/home/sarawalk/sdgs_py38/lib/python3.8/site-packages/bicm/graph_classes.py:1113: RuntimeWarning: invalid value encountered in divide\n",
      "  probs = node_xy * neighbor_xy / ((1 + node_xy) * (1 + neighbor_xy))\n",
      "/home/sarawalk/sdgs_py38/lib/python3.8/site-packages/bicm/graph_classes.py:1113: RuntimeWarning: invalid value encountered in divide\n",
      "  probs = node_xy * neighbor_xy / ((1 + node_xy) * (1 + neighbor_xy))\n",
      "/home/sarawalk/sdgs_py38/lib/python3.8/site-packages/bicm/graph_classes.py:1113: RuntimeWarning: invalid value encountered in divide\n",
      "  probs = node_xy * neighbor_xy / ((1 + node_xy) * (1 + neighbor_xy))\n",
      "/home/sarawalk/sdgs_py38/lib/python3.8/site-packages/bicm/graph_classes.py:1113: RuntimeWarning: invalid value encountered in divide\n",
      "  probs = node_xy * neighbor_xy / ((1 + node_xy) * (1 + neighbor_xy))\n",
      "100%|███████████████████████████████████████████████████████████████████████████████████████████████████████████████████████| 50/50 [00:00<00:00, 803.06it/s]\n"
     ]
    },
    {
     "name": "stdout",
     "output_type": "stream",
     "text": [
      "No V-motifs will be validated. Try increasing alpha\n"
     ]
    },
    {
     "name": "stderr",
     "output_type": "stream",
     "text": [
      "\n",
      "  0%|                                                                                                                                  | 0/3 [00:00<?, ?it/s]\u001b[A/home/sarawalk/sdgs_py38/lib/python3.8/site-packages/bicm/graph_classes.py:1113: RuntimeWarning: invalid value encountered in divide\n",
      "  probs = node_xy * neighbor_xy / ((1 + node_xy) * (1 + neighbor_xy))\n",
      "100%|██████████████████████████████████████████████████████████████████████████████████████████████████████████████████████████| 3/3 [00:00<00:00, 89.42it/s]/home/sarawalk/sdgs_py38/lib/python3.8/site-packages/bicm/graph_classes.py:1113: RuntimeWarning: invalid value encountered in divide\n",
      "  probs = node_xy * neighbor_xy / ((1 + node_xy) * (1 + neighbor_xy))\n"
     ]
    },
    {
     "name": "stdout",
     "output_type": "stream",
     "text": [
      "No V-motifs will be validated. Try increasing alpha\n",
      "\n",
      "                      WARNING: this system has at least a node that is disconnected or connected to all nodes\n",
      "                       of the opposite layer. This may cause some convergence issues.\n",
      "                      Please use the full mode providing a biadjacency matrix or an edgelist,\n",
      "                       or clean your data from these nodes. \n",
      "                      \n",
      "2017 Utilities SDG 7: Affordable and Clean Energy\r"
     ]
    },
    {
     "name": "stderr",
     "output_type": "stream",
     "text": [
      "\n",
      "\n",
      "  0%|                                                                                                                                 | 0/50 [00:00<?, ?it/s]\u001b[A/home/sarawalk/sdgs_py38/lib/python3.8/site-packages/bicm/graph_classes.py:1113: RuntimeWarning: invalid value encountered in divide\n",
      "  probs = node_xy * neighbor_xy / ((1 + node_xy) * (1 + neighbor_xy))\n",
      "/home/sarawalk/sdgs_py38/lib/python3.8/site-packages/bicm/graph_classes.py:1113: RuntimeWarning: invalid value encountered in divide\n",
      "  probs = node_xy * neighbor_xy / ((1 + node_xy) * (1 + neighbor_xy))\n",
      "/home/sarawalk/sdgs_py38/lib/python3.8/site-packages/bicm/graph_classes.py:1113: RuntimeWarning: invalid value encountered in divide\n",
      "  probs = node_xy * neighbor_xy / ((1 + node_xy) * (1 + neighbor_xy))\n",
      "/home/sarawalk/sdgs_py38/lib/python3.8/site-packages/bicm/graph_classes.py:1113: RuntimeWarning: invalid value encountered in divide\n",
      "  probs = node_xy * neighbor_xy / ((1 + node_xy) * (1 + neighbor_xy))\n",
      "100%|███████████████████████████████████████████████████████████████████████████████████████████████████████████████████████| 50/50 [00:00<00:00, 723.44it/s]"
     ]
    },
    {
     "name": "stdout",
     "output_type": "stream",
     "text": [
      "No V-motifs will be validated. Try increasing alpha\n"
     ]
    },
    {
     "name": "stderr",
     "output_type": "stream",
     "text": [
      "\n",
      "\n",
      "  0%|                                                                                                                                  | 0/3 [00:00<?, ?it/s]\u001b[A/home/sarawalk/sdgs_py38/lib/python3.8/site-packages/bicm/graph_classes.py:1113: RuntimeWarning: invalid value encountered in divide\n",
      "  probs = node_xy * neighbor_xy / ((1 + node_xy) * (1 + neighbor_xy))\n",
      "100%|██████████████████████████████████████████████████████████████████████████████████████████████████████████████████████████| 3/3 [00:00<00:00, 83.43it/s]/home/sarawalk/sdgs_py38/lib/python3.8/site-packages/bicm/graph_classes.py:1113: RuntimeWarning: invalid value encountered in divide\n",
      "  probs = node_xy * neighbor_xy / ((1 + node_xy) * (1 + neighbor_xy))\n"
     ]
    },
    {
     "name": "stdout",
     "output_type": "stream",
     "text": [
      "No V-motifs will be validated. Try increasing alpha\n",
      "\n",
      "                      WARNING: this system has at least a node that is disconnected or connected to all nodes\n",
      "                       of the opposite layer. This may cause some convergence issues.\n",
      "                      Please use the full mode providing a biadjacency matrix or an edgelist,\n",
      "                       or clean your data from these nodes. \n",
      "                      \n",
      "2017 Utilities SDG 8: Decent Work and Economic Growth\r"
     ]
    },
    {
     "name": "stderr",
     "output_type": "stream",
     "text": [
      "\n",
      "\n",
      "  0%|                                                                                                                                 | 0/50 [00:00<?, ?it/s]\u001b[A/home/sarawalk/sdgs_py38/lib/python3.8/site-packages/bicm/graph_classes.py:1113: RuntimeWarning: invalid value encountered in divide\n",
      "  probs = node_xy * neighbor_xy / ((1 + node_xy) * (1 + neighbor_xy))\n",
      "/home/sarawalk/sdgs_py38/lib/python3.8/site-packages/bicm/graph_classes.py:1113: RuntimeWarning: invalid value encountered in divide\n",
      "  probs = node_xy * neighbor_xy / ((1 + node_xy) * (1 + neighbor_xy))\n",
      "/home/sarawalk/sdgs_py38/lib/python3.8/site-packages/bicm/graph_classes.py:1113: RuntimeWarning: invalid value encountered in divide\n",
      "  probs = node_xy * neighbor_xy / ((1 + node_xy) * (1 + neighbor_xy))\n",
      "/home/sarawalk/sdgs_py38/lib/python3.8/site-packages/bicm/graph_classes.py:1113: RuntimeWarning: invalid value encountered in divide\n",
      "  probs = node_xy * neighbor_xy / ((1 + node_xy) * (1 + neighbor_xy))\n",
      "100%|███████████████████████████████████████████████████████████████████████████████████████████████████████████████████████| 50/50 [00:00<00:00, 784.67it/s]"
     ]
    },
    {
     "name": "stdout",
     "output_type": "stream",
     "text": [
      "No V-motifs will be validated. Try increasing alpha\n"
     ]
    },
    {
     "name": "stderr",
     "output_type": "stream",
     "text": [
      "\n",
      "\n",
      "  0%|                                                                                                                                  | 0/3 [00:00<?, ?it/s]\u001b[A/home/sarawalk/sdgs_py38/lib/python3.8/site-packages/bicm/graph_classes.py:1113: RuntimeWarning: invalid value encountered in divide\n",
      "  probs = node_xy * neighbor_xy / ((1 + node_xy) * (1 + neighbor_xy))\n",
      "/home/sarawalk/sdgs_py38/lib/python3.8/site-packages/bicm/graph_classes.py:1113: RuntimeWarning: invalid value encountered in divide\n",
      "  probs = node_xy * neighbor_xy / ((1 + node_xy) * (1 + neighbor_xy))\n",
      "100%|██████████████████████████████████████████████████████████████████████████████████████████████████████████████████████████| 3/3 [00:00<00:00, 77.26it/s]"
     ]
    },
    {
     "name": "stdout",
     "output_type": "stream",
     "text": [
      "No V-motifs will be validated. Try increasing alpha\n",
      "\n",
      "                      WARNING: this system has at least a node that is disconnected or connected to all nodes\n",
      "                       of the opposite layer. This may cause some convergence issues.\n",
      "                      Please use the full mode providing a biadjacency matrix or an edgelist,\n",
      "                       or clean your data from these nodes. \n",
      "                      \n",
      "2017 Utilities SDG 9: Industry, Innovation, and Infrastructure\r"
     ]
    },
    {
     "name": "stderr",
     "output_type": "stream",
     "text": [
      "\n",
      "\n",
      "  0%|                                                                                                                                 | 0/50 [00:00<?, ?it/s]\u001b[A/home/sarawalk/sdgs_py38/lib/python3.8/site-packages/bicm/graph_classes.py:1113: RuntimeWarning: invalid value encountered in divide\n",
      "  probs = node_xy * neighbor_xy / ((1 + node_xy) * (1 + neighbor_xy))\n",
      "/home/sarawalk/sdgs_py38/lib/python3.8/site-packages/bicm/graph_classes.py:1113: RuntimeWarning: invalid value encountered in divide\n",
      "  probs = node_xy * neighbor_xy / ((1 + node_xy) * (1 + neighbor_xy))\n",
      "/home/sarawalk/sdgs_py38/lib/python3.8/site-packages/bicm/graph_classes.py:1113: RuntimeWarning: invalid value encountered in divide\n",
      "  probs = node_xy * neighbor_xy / ((1 + node_xy) * (1 + neighbor_xy))\n",
      "/home/sarawalk/sdgs_py38/lib/python3.8/site-packages/bicm/graph_classes.py:1113: RuntimeWarning: invalid value encountered in divide\n",
      "  probs = node_xy * neighbor_xy / ((1 + node_xy) * (1 + neighbor_xy))\n",
      "100%|███████████████████████████████████████████████████████████████████████████████████████████████████████████████████████| 50/50 [00:00<00:00, 631.37it/s]"
     ]
    },
    {
     "name": "stdout",
     "output_type": "stream",
     "text": [
      "No V-motifs will be validated. Try increasing alpha\n"
     ]
    },
    {
     "name": "stderr",
     "output_type": "stream",
     "text": [
      "\n",
      "\n",
      "  0%|                                                                                                                                  | 0/3 [00:00<?, ?it/s]\u001b[A/home/sarawalk/sdgs_py38/lib/python3.8/site-packages/bicm/graph_classes.py:1113: RuntimeWarning: invalid value encountered in divide\n",
      "  probs = node_xy * neighbor_xy / ((1 + node_xy) * (1 + neighbor_xy))\n",
      "100%|█████████████████████████████████████████████████████████████████████████████████████████████████████████████████████████| 3/3 [00:00<00:00, 101.42it/s]/home/sarawalk/sdgs_py38/lib/python3.8/site-packages/bicm/graph_classes.py:1113: RuntimeWarning: invalid value encountered in divide\n",
      "  probs = node_xy * neighbor_xy / ((1 + node_xy) * (1 + neighbor_xy))\n"
     ]
    },
    {
     "name": "stdout",
     "output_type": "stream",
     "text": [
      "No V-motifs will be validated. Try increasing alpha\n",
      "\n",
      "                      WARNING: this system has at least a node that is disconnected or connected to all nodes\n",
      "                       of the opposite layer. This may cause some convergence issues.\n",
      "                      Please use the full mode providing a biadjacency matrix or an edgelist,\n",
      "                       or clean your data from these nodes. \n",
      "                      \n",
      "2017 Utilities SDG 10: Reduced Inequality\r"
     ]
    },
    {
     "name": "stderr",
     "output_type": "stream",
     "text": [
      "\n",
      "\n",
      "  0%|                                                                                                                                 | 0/50 [00:00<?, ?it/s]\u001b[A/home/sarawalk/sdgs_py38/lib/python3.8/site-packages/bicm/graph_classes.py:1113: RuntimeWarning: invalid value encountered in divide\n",
      "  probs = node_xy * neighbor_xy / ((1 + node_xy) * (1 + neighbor_xy))\n",
      "/home/sarawalk/sdgs_py38/lib/python3.8/site-packages/bicm/graph_classes.py:1113: RuntimeWarning: invalid value encountered in divide\n",
      "  probs = node_xy * neighbor_xy / ((1 + node_xy) * (1 + neighbor_xy))\n",
      "/home/sarawalk/sdgs_py38/lib/python3.8/site-packages/bicm/graph_classes.py:1113: RuntimeWarning: invalid value encountered in divide\n",
      "  probs = node_xy * neighbor_xy / ((1 + node_xy) * (1 + neighbor_xy))\n",
      "/home/sarawalk/sdgs_py38/lib/python3.8/site-packages/bicm/graph_classes.py:1113: RuntimeWarning: invalid value encountered in divide\n",
      "  probs = node_xy * neighbor_xy / ((1 + node_xy) * (1 + neighbor_xy))\n",
      "100%|███████████████████████████████████████████████████████████████████████████████████████████████████████████████████████| 50/50 [00:00<00:00, 659.32it/s]"
     ]
    },
    {
     "name": "stdout",
     "output_type": "stream",
     "text": [
      "No V-motifs will be validated. Try increasing alpha\n"
     ]
    },
    {
     "name": "stderr",
     "output_type": "stream",
     "text": [
      "\n",
      "\n",
      "  0%|                                                                                                                                  | 0/3 [00:00<?, ?it/s]\u001b[A/home/sarawalk/sdgs_py38/lib/python3.8/site-packages/bicm/graph_classes.py:1113: RuntimeWarning: invalid value encountered in divide\n",
      "  probs = node_xy * neighbor_xy / ((1 + node_xy) * (1 + neighbor_xy))\n",
      "100%|██████████████████████████████████████████████████████████████████████████████████████████████████████████████████████████| 3/3 [00:00<00:00, 88.29it/s]/home/sarawalk/sdgs_py38/lib/python3.8/site-packages/bicm/graph_classes.py:1113: RuntimeWarning: invalid value encountered in divide\n",
      "  probs = node_xy * neighbor_xy / ((1 + node_xy) * (1 + neighbor_xy))\n"
     ]
    },
    {
     "name": "stdout",
     "output_type": "stream",
     "text": [
      "No V-motifs will be validated. Try increasing alpha\n",
      "\n",
      "                      WARNING: this system has at least a node that is disconnected or connected to all nodes\n",
      "                       of the opposite layer. This may cause some convergence issues.\n",
      "                      Please use the full mode providing a biadjacency matrix or an edgelist,\n",
      "                       or clean your data from these nodes. \n",
      "                      \n",
      "2017 Utilities SDG 11: Sustainable Cities and Communities\r"
     ]
    },
    {
     "name": "stderr",
     "output_type": "stream",
     "text": [
      "\n",
      "\n",
      "  0%|                                                                                                                                 | 0/50 [00:00<?, ?it/s]\u001b[A/home/sarawalk/sdgs_py38/lib/python3.8/site-packages/bicm/graph_classes.py:1113: RuntimeWarning: invalid value encountered in divide\n",
      "  probs = node_xy * neighbor_xy / ((1 + node_xy) * (1 + neighbor_xy))\n",
      "/home/sarawalk/sdgs_py38/lib/python3.8/site-packages/bicm/graph_classes.py:1113: RuntimeWarning: invalid value encountered in divide\n",
      "  probs = node_xy * neighbor_xy / ((1 + node_xy) * (1 + neighbor_xy))\n",
      "/home/sarawalk/sdgs_py38/lib/python3.8/site-packages/bicm/graph_classes.py:1113: RuntimeWarning: invalid value encountered in divide\n",
      "  probs = node_xy * neighbor_xy / ((1 + node_xy) * (1 + neighbor_xy))\n",
      "/home/sarawalk/sdgs_py38/lib/python3.8/site-packages/bicm/graph_classes.py:1113: RuntimeWarning: invalid value encountered in divide\n",
      "  probs = node_xy * neighbor_xy / ((1 + node_xy) * (1 + neighbor_xy))\n",
      "100%|███████████████████████████████████████████████████████████████████████████████████████████████████████████████████████| 50/50 [00:00<00:00, 825.42it/s]"
     ]
    },
    {
     "name": "stdout",
     "output_type": "stream",
     "text": [
      "No V-motifs will be validated. Try increasing alpha\n"
     ]
    },
    {
     "name": "stderr",
     "output_type": "stream",
     "text": [
      "\n",
      "\n",
      "  0%|                                                                                                                                  | 0/3 [00:00<?, ?it/s]\u001b[A/home/sarawalk/sdgs_py38/lib/python3.8/site-packages/bicm/graph_classes.py:1113: RuntimeWarning: invalid value encountered in divide\n",
      "  probs = node_xy * neighbor_xy / ((1 + node_xy) * (1 + neighbor_xy))\n",
      "/home/sarawalk/sdgs_py38/lib/python3.8/site-packages/bicm/graph_classes.py:1113: RuntimeWarning: invalid value encountered in divide\n",
      "  probs = node_xy * neighbor_xy / ((1 + node_xy) * (1 + neighbor_xy))\n",
      "100%|██████████████████████████████████████████████████████████████████████████████████████████████████████████████████████████| 3/3 [00:00<00:00, 82.86it/s]\n"
     ]
    },
    {
     "name": "stdout",
     "output_type": "stream",
     "text": [
      "No V-motifs will be validated. Try increasing alpha\n",
      "\n",
      "                      WARNING: this system has at least a node that is disconnected or connected to all nodes\n",
      "                       of the opposite layer. This may cause some convergence issues.\n",
      "                      Please use the full mode providing a biadjacency matrix or an edgelist,\n",
      "                       or clean your data from these nodes. \n",
      "                      \n",
      "2017 Utilities SDG 12: Responsible Consumption and Production\r"
     ]
    },
    {
     "name": "stderr",
     "output_type": "stream",
     "text": [
      "\n",
      "  0%|                                                                                                                                 | 0/50 [00:00<?, ?it/s]\u001b[A/home/sarawalk/sdgs_py38/lib/python3.8/site-packages/bicm/graph_classes.py:1113: RuntimeWarning: invalid value encountered in divide\n",
      "  probs = node_xy * neighbor_xy / ((1 + node_xy) * (1 + neighbor_xy))\n",
      "/home/sarawalk/sdgs_py38/lib/python3.8/site-packages/bicm/graph_classes.py:1113: RuntimeWarning: invalid value encountered in divide\n",
      "  probs = node_xy * neighbor_xy / ((1 + node_xy) * (1 + neighbor_xy))\n",
      "/home/sarawalk/sdgs_py38/lib/python3.8/site-packages/bicm/graph_classes.py:1113: RuntimeWarning: invalid value encountered in divide\n",
      "  probs = node_xy * neighbor_xy / ((1 + node_xy) * (1 + neighbor_xy))\n",
      "/home/sarawalk/sdgs_py38/lib/python3.8/site-packages/bicm/graph_classes.py:1113: RuntimeWarning: invalid value encountered in divide\n",
      "  probs = node_xy * neighbor_xy / ((1 + node_xy) * (1 + neighbor_xy))\n",
      "100%|███████████████████████████████████████████████████████████████████████████████████████████████████████████████████████| 50/50 [00:00<00:00, 840.69it/s]"
     ]
    },
    {
     "name": "stdout",
     "output_type": "stream",
     "text": [
      "No V-motifs will be validated. Try increasing alpha\n"
     ]
    },
    {
     "name": "stderr",
     "output_type": "stream",
     "text": [
      "\n",
      "\n",
      "  0%|                                                                                                                                  | 0/3 [00:00<?, ?it/s]\u001b[A/home/sarawalk/sdgs_py38/lib/python3.8/site-packages/bicm/graph_classes.py:1113: RuntimeWarning: invalid value encountered in divide\n",
      "  probs = node_xy * neighbor_xy / ((1 + node_xy) * (1 + neighbor_xy))\n",
      "/home/sarawalk/sdgs_py38/lib/python3.8/site-packages/bicm/graph_classes.py:1113: RuntimeWarning: invalid value encountered in divide\n",
      "  probs = node_xy * neighbor_xy / ((1 + node_xy) * (1 + neighbor_xy))\n",
      "100%|██████████████████████████████████████████████████████████████████████████████████████████████████████████████████████████| 3/3 [00:00<00:00, 71.80it/s]"
     ]
    },
    {
     "name": "stdout",
     "output_type": "stream",
     "text": [
      "No V-motifs will be validated. Try increasing alpha\n",
      "\n",
      "                      WARNING: this system has at least a node that is disconnected or connected to all nodes\n",
      "                       of the opposite layer. This may cause some convergence issues.\n",
      "                      Please use the full mode providing a biadjacency matrix or an edgelist,\n",
      "                       or clean your data from these nodes. \n",
      "                      \n",
      "2017 Utilities SDG 13: Climate Action\r"
     ]
    },
    {
     "name": "stderr",
     "output_type": "stream",
     "text": [
      "\n",
      "\n",
      "  0%|                                                                                                                                 | 0/50 [00:00<?, ?it/s]\u001b[A/home/sarawalk/sdgs_py38/lib/python3.8/site-packages/bicm/graph_classes.py:1113: RuntimeWarning: invalid value encountered in divide\n",
      "  probs = node_xy * neighbor_xy / ((1 + node_xy) * (1 + neighbor_xy))\n",
      "/home/sarawalk/sdgs_py38/lib/python3.8/site-packages/bicm/graph_classes.py:1113: RuntimeWarning: invalid value encountered in divide\n",
      "  probs = node_xy * neighbor_xy / ((1 + node_xy) * (1 + neighbor_xy))\n",
      "/home/sarawalk/sdgs_py38/lib/python3.8/site-packages/bicm/graph_classes.py:1113: RuntimeWarning: invalid value encountered in divide\n",
      "  probs = node_xy * neighbor_xy / ((1 + node_xy) * (1 + neighbor_xy))\n",
      "/home/sarawalk/sdgs_py38/lib/python3.8/site-packages/bicm/graph_classes.py:1113: RuntimeWarning: invalid value encountered in divide\n",
      "  probs = node_xy * neighbor_xy / ((1 + node_xy) * (1 + neighbor_xy))\n",
      "100%|███████████████████████████████████████████████████████████████████████████████████████████████████████████████████████| 50/50 [00:00<00:00, 750.88it/s]"
     ]
    },
    {
     "name": "stdout",
     "output_type": "stream",
     "text": [
      "No V-motifs will be validated. Try increasing alpha\n"
     ]
    },
    {
     "name": "stderr",
     "output_type": "stream",
     "text": [
      "\n",
      "\n",
      "  0%|                                                                                                                                  | 0/3 [00:00<?, ?it/s]\u001b[A/home/sarawalk/sdgs_py38/lib/python3.8/site-packages/bicm/graph_classes.py:1113: RuntimeWarning: invalid value encountered in divide\n",
      "  probs = node_xy * neighbor_xy / ((1 + node_xy) * (1 + neighbor_xy))\n",
      "/home/sarawalk/sdgs_py38/lib/python3.8/site-packages/bicm/graph_classes.py:1113: RuntimeWarning: invalid value encountered in divide\n",
      "  probs = node_xy * neighbor_xy / ((1 + node_xy) * (1 + neighbor_xy))\n",
      "100%|██████████████████████████████████████████████████████████████████████████████████████████████████████████████████████████| 3/3 [00:00<00:00, 75.71it/s]"
     ]
    },
    {
     "name": "stdout",
     "output_type": "stream",
     "text": [
      "No V-motifs will be validated. Try increasing alpha\n",
      "\n",
      "                      WARNING: this system has at least a node that is disconnected or connected to all nodes\n",
      "                       of the opposite layer. This may cause some convergence issues.\n",
      "                      Please use the full mode providing a biadjacency matrix or an edgelist,\n",
      "                       or clean your data from these nodes. \n",
      "                      \n",
      "2017 Utilities SDG 14: Life Below Water\r"
     ]
    },
    {
     "name": "stderr",
     "output_type": "stream",
     "text": [
      "\n",
      "\n",
      "  0%|                                                                                                                                 | 0/50 [00:00<?, ?it/s]\u001b[A/home/sarawalk/sdgs_py38/lib/python3.8/site-packages/bicm/graph_classes.py:1113: RuntimeWarning: invalid value encountered in divide\n",
      "  probs = node_xy * neighbor_xy / ((1 + node_xy) * (1 + neighbor_xy))\n",
      "/home/sarawalk/sdgs_py38/lib/python3.8/site-packages/bicm/graph_classes.py:1113: RuntimeWarning: invalid value encountered in divide\n",
      "  probs = node_xy * neighbor_xy / ((1 + node_xy) * (1 + neighbor_xy))\n",
      "/home/sarawalk/sdgs_py38/lib/python3.8/site-packages/bicm/graph_classes.py:1113: RuntimeWarning: invalid value encountered in divide\n",
      "  probs = node_xy * neighbor_xy / ((1 + node_xy) * (1 + neighbor_xy))\n",
      "/home/sarawalk/sdgs_py38/lib/python3.8/site-packages/bicm/graph_classes.py:1113: RuntimeWarning: invalid value encountered in divide\n",
      "  probs = node_xy * neighbor_xy / ((1 + node_xy) * (1 + neighbor_xy))\n",
      "100%|███████████████████████████████████████████████████████████████████████████████████████████████████████████████████████| 50/50 [00:00<00:00, 550.82it/s]"
     ]
    },
    {
     "name": "stdout",
     "output_type": "stream",
     "text": [
      "No V-motifs will be validated. Try increasing alpha\n"
     ]
    },
    {
     "name": "stderr",
     "output_type": "stream",
     "text": [
      "\n",
      "\n",
      "  0%|                                                                                                                                  | 0/3 [00:00<?, ?it/s]\u001b[A/home/sarawalk/sdgs_py38/lib/python3.8/site-packages/bicm/graph_classes.py:1113: RuntimeWarning: invalid value encountered in divide\n",
      "  probs = node_xy * neighbor_xy / ((1 + node_xy) * (1 + neighbor_xy))\n",
      "100%|██████████████████████████████████████████████████████████████████████████████████████████████████████████████████████████| 3/3 [00:00<00:00, 84.70it/s]/home/sarawalk/sdgs_py38/lib/python3.8/site-packages/bicm/graph_classes.py:1113: RuntimeWarning: invalid value encountered in divide\n",
      "  probs = node_xy * neighbor_xy / ((1 + node_xy) * (1 + neighbor_xy))\n",
      "\n"
     ]
    },
    {
     "name": "stdout",
     "output_type": "stream",
     "text": [
      "No V-motifs will be validated. Try increasing alpha\n",
      "\n",
      "                      WARNING: this system has at least a node that is disconnected or connected to all nodes\n",
      "                       of the opposite layer. This may cause some convergence issues.\n",
      "                      Please use the full mode providing a biadjacency matrix or an edgelist,\n",
      "                       or clean your data from these nodes. \n",
      "                      \n",
      "2017 Utilities SDG 15: Life on Land\r"
     ]
    },
    {
     "name": "stderr",
     "output_type": "stream",
     "text": [
      "\n",
      "  0%|                                                                                                                                 | 0/50 [00:00<?, ?it/s]\u001b[A/home/sarawalk/sdgs_py38/lib/python3.8/site-packages/bicm/graph_classes.py:1113: RuntimeWarning: invalid value encountered in divide\n",
      "  probs = node_xy * neighbor_xy / ((1 + node_xy) * (1 + neighbor_xy))\n",
      "/home/sarawalk/sdgs_py38/lib/python3.8/site-packages/bicm/graph_classes.py:1113: RuntimeWarning: invalid value encountered in divide\n",
      "  probs = node_xy * neighbor_xy / ((1 + node_xy) * (1 + neighbor_xy))\n",
      "/home/sarawalk/sdgs_py38/lib/python3.8/site-packages/bicm/graph_classes.py:1113: RuntimeWarning: invalid value encountered in divide\n",
      "  probs = node_xy * neighbor_xy / ((1 + node_xy) * (1 + neighbor_xy))\n",
      "/home/sarawalk/sdgs_py38/lib/python3.8/site-packages/bicm/graph_classes.py:1113: RuntimeWarning: invalid value encountered in divide\n",
      "  probs = node_xy * neighbor_xy / ((1 + node_xy) * (1 + neighbor_xy))\n",
      "\n",
      "100%|███████████████████████████████████████████████████████████████████████████████████████████████████████████████████████| 50/50 [00:00<00:00, 340.55it/s]\u001b[A"
     ]
    },
    {
     "name": "stdout",
     "output_type": "stream",
     "text": [
      "No V-motifs will be validated. Try increasing alpha\n"
     ]
    },
    {
     "name": "stderr",
     "output_type": "stream",
     "text": [
      "\n",
      "\n",
      "100%|█████████████████████████████████████████████████████████████████████████████████████████████████████████████████████████| 3/3 [00:00<00:00, 110.12it/s]\u001b[A/home/sarawalk/sdgs_py38/lib/python3.8/site-packages/bicm/graph_classes.py:1113: RuntimeWarning: invalid value encountered in divide\n",
      "  probs = node_xy * neighbor_xy / ((1 + node_xy) * (1 + neighbor_xy))\n",
      "/home/sarawalk/sdgs_py38/lib/python3.8/site-packages/bicm/graph_classes.py:1113: RuntimeWarning: invalid value encountered in divide\n",
      "  probs = node_xy * neighbor_xy / ((1 + node_xy) * (1 + neighbor_xy))\n",
      "\n"
     ]
    },
    {
     "name": "stdout",
     "output_type": "stream",
     "text": [
      "No V-motifs will be validated. Try increasing alpha\n",
      "\n",
      "                      WARNING: this system has at least a node that is disconnected or connected to all nodes\n",
      "                       of the opposite layer. This may cause some convergence issues.\n",
      "                      Please use the full mode providing a biadjacency matrix or an edgelist,\n",
      "                       or clean your data from these nodes. \n",
      "                      \n",
      "2017 Utilities SDG 16: Peace, Justice, and Strong Institutions\r"
     ]
    },
    {
     "name": "stderr",
     "output_type": "stream",
     "text": [
      "\n",
      "  0%|                                                                                                                                 | 0/50 [00:00<?, ?it/s]\u001b[A/home/sarawalk/sdgs_py38/lib/python3.8/site-packages/bicm/graph_classes.py:1113: RuntimeWarning: invalid value encountered in divide\n",
      "  probs = node_xy * neighbor_xy / ((1 + node_xy) * (1 + neighbor_xy))\n",
      "/home/sarawalk/sdgs_py38/lib/python3.8/site-packages/bicm/graph_classes.py:1113: RuntimeWarning: invalid value encountered in divide\n",
      "  probs = node_xy * neighbor_xy / ((1 + node_xy) * (1 + neighbor_xy))\n",
      "/home/sarawalk/sdgs_py38/lib/python3.8/site-packages/bicm/graph_classes.py:1113: RuntimeWarning: invalid value encountered in divide\n",
      "  probs = node_xy * neighbor_xy / ((1 + node_xy) * (1 + neighbor_xy))\n",
      "/home/sarawalk/sdgs_py38/lib/python3.8/site-packages/bicm/graph_classes.py:1113: RuntimeWarning: invalid value encountered in divide\n",
      "  probs = node_xy * neighbor_xy / ((1 + node_xy) * (1 + neighbor_xy))\n",
      "100%|███████████████████████████████████████████████████████████████████████████████████████████████████████████████████████| 50/50 [00:00<00:00, 851.62it/s]"
     ]
    },
    {
     "name": "stdout",
     "output_type": "stream",
     "text": [
      "No V-motifs will be validated. Try increasing alpha\n"
     ]
    },
    {
     "name": "stderr",
     "output_type": "stream",
     "text": [
      "\n",
      "\n",
      "  0%|                                                                                                                                  | 0/3 [00:00<?, ?it/s]\u001b[A/home/sarawalk/sdgs_py38/lib/python3.8/site-packages/bicm/graph_classes.py:1113: RuntimeWarning: invalid value encountered in divide\n",
      "  probs = node_xy * neighbor_xy / ((1 + node_xy) * (1 + neighbor_xy))\n",
      "100%|██████████████████████████████████████████████████████████████████████████████████████████████████████████████████████████| 3/3 [00:00<00:00, 71.18it/s]/home/sarawalk/sdgs_py38/lib/python3.8/site-packages/bicm/graph_classes.py:1113: RuntimeWarning: invalid value encountered in divide\n",
      "  probs = node_xy * neighbor_xy / ((1 + node_xy) * (1 + neighbor_xy))\n"
     ]
    },
    {
     "name": "stdout",
     "output_type": "stream",
     "text": [
      "No V-motifs will be validated. Try increasing alpha\n",
      "\n",
      "                      WARNING: this system has at least a node that is disconnected or connected to all nodes\n",
      "                       of the opposite layer. This may cause some convergence issues.\n",
      "                      Please use the full mode providing a biadjacency matrix or an edgelist,\n",
      "                       or clean your data from these nodes. \n",
      "                      \n",
      "2017 Utilities SDG 17: Partnerships for the Goals\r"
     ]
    },
    {
     "name": "stderr",
     "output_type": "stream",
     "text": [
      "\n",
      "\n",
      "  0%|                                                                                                                                 | 0/50 [00:00<?, ?it/s]\u001b[A/home/sarawalk/sdgs_py38/lib/python3.8/site-packages/bicm/graph_classes.py:1113: RuntimeWarning: invalid value encountered in divide\n",
      "  probs = node_xy * neighbor_xy / ((1 + node_xy) * (1 + neighbor_xy))\n",
      "/home/sarawalk/sdgs_py38/lib/python3.8/site-packages/bicm/graph_classes.py:1113: RuntimeWarning: invalid value encountered in divide\n",
      "  probs = node_xy * neighbor_xy / ((1 + node_xy) * (1 + neighbor_xy))\n",
      "/home/sarawalk/sdgs_py38/lib/python3.8/site-packages/bicm/graph_classes.py:1113: RuntimeWarning: invalid value encountered in divide\n",
      "  probs = node_xy * neighbor_xy / ((1 + node_xy) * (1 + neighbor_xy))\n",
      "/home/sarawalk/sdgs_py38/lib/python3.8/site-packages/bicm/graph_classes.py:1113: RuntimeWarning: invalid value encountered in divide\n",
      "  probs = node_xy * neighbor_xy / ((1 + node_xy) * (1 + neighbor_xy))\n",
      "100%|███████████████████████████████████████████████████████████████████████████████████████████████████████████████████████| 50/50 [00:00<00:00, 797.70it/s]"
     ]
    },
    {
     "name": "stdout",
     "output_type": "stream",
     "text": [
      "No V-motifs will be validated. Try increasing alpha\n"
     ]
    },
    {
     "name": "stderr",
     "output_type": "stream",
     "text": [
      "\n",
      "\n",
      "100%|██████████████████████████████████████████████████████████████████████████████████████████████████████████████████████████| 3/3 [00:00<00:00, 94.80it/s]\u001b[A/home/sarawalk/sdgs_py38/lib/python3.8/site-packages/bicm/graph_classes.py:1113: RuntimeWarning: invalid value encountered in divide\n",
      "  probs = node_xy * neighbor_xy / ((1 + node_xy) * (1 + neighbor_xy))\n",
      "/home/sarawalk/sdgs_py38/lib/python3.8/site-packages/bicm/graph_classes.py:1113: RuntimeWarning: invalid value encountered in divide\n",
      "  probs = node_xy * neighbor_xy / ((1 + node_xy) * (1 + neighbor_xy))\n"
     ]
    },
    {
     "name": "stdout",
     "output_type": "stream",
     "text": [
      "No V-motifs will be validated. Try increasing alpha\n",
      "\n",
      "                      WARNING: this system has at least a node that is disconnected or connected to all nodes\n",
      "                       of the opposite layer. This may cause some convergence issues.\n",
      "                      Please use the full mode providing a biadjacency matrix or an edgelist,\n",
      "                       or clean your data from these nodes. \n",
      "                      \n",
      "2018 Energy SDG 1: No Poverty\r"
     ]
    },
    {
     "name": "stderr",
     "output_type": "stream",
     "text": [
      "\n",
      "\n",
      "  0%|                                                                                                                                 | 0/46 [00:00<?, ?it/s]\u001b[A/home/sarawalk/sdgs_py38/lib/python3.8/site-packages/bicm/graph_classes.py:1113: RuntimeWarning: invalid value encountered in divide\n",
      "  probs = node_xy * neighbor_xy / ((1 + node_xy) * (1 + neighbor_xy))\n",
      "/home/sarawalk/sdgs_py38/lib/python3.8/site-packages/bicm/graph_classes.py:1113: RuntimeWarning: invalid value encountered in divide\n",
      "  probs = node_xy * neighbor_xy / ((1 + node_xy) * (1 + neighbor_xy))\n",
      "/home/sarawalk/sdgs_py38/lib/python3.8/site-packages/bicm/graph_classes.py:1113: RuntimeWarning: invalid value encountered in divide\n",
      "  probs = node_xy * neighbor_xy / ((1 + node_xy) * (1 + neighbor_xy))\n",
      "/home/sarawalk/sdgs_py38/lib/python3.8/site-packages/bicm/graph_classes.py:1113: RuntimeWarning: invalid value encountered in divide\n",
      "  probs = node_xy * neighbor_xy / ((1 + node_xy) * (1 + neighbor_xy))\n",
      "100%|███████████████████████████████████████████████████████████████████████████████████████████████████████████████████████| 46/46 [00:00<00:00, 574.05it/s]"
     ]
    },
    {
     "name": "stdout",
     "output_type": "stream",
     "text": [
      "No V-motifs will be validated. Try increasing alpha\n"
     ]
    },
    {
     "name": "stderr",
     "output_type": "stream",
     "text": [
      "\n",
      "\n",
      "  0%|                                                                                                                                  | 0/3 [00:00<?, ?it/s]\u001b[A/home/sarawalk/sdgs_py38/lib/python3.8/site-packages/bicm/graph_classes.py:1113: RuntimeWarning: invalid value encountered in divide\n",
      "  probs = node_xy * neighbor_xy / ((1 + node_xy) * (1 + neighbor_xy))\n",
      "100%|██████████████████████████████████████████████████████████████████████████████████████████████████████████████████████████| 3/3 [00:00<00:00, 81.37it/s]/home/sarawalk/sdgs_py38/lib/python3.8/site-packages/bicm/graph_classes.py:1113: RuntimeWarning: invalid value encountered in divide\n",
      "  probs = node_xy * neighbor_xy / ((1 + node_xy) * (1 + neighbor_xy))\n"
     ]
    },
    {
     "name": "stdout",
     "output_type": "stream",
     "text": [
      "No V-motifs will be validated. Try increasing alpha\n",
      "\n",
      "                      WARNING: this system has at least a node that is disconnected or connected to all nodes\n",
      "                       of the opposite layer. This may cause some convergence issues.\n",
      "                      Please use the full mode providing a biadjacency matrix or an edgelist,\n",
      "                       or clean your data from these nodes. \n",
      "                      \n",
      "2018 Energy SDG 3: Good Health and Well-being\r"
     ]
    },
    {
     "name": "stderr",
     "output_type": "stream",
     "text": [
      "\n",
      "\n",
      "  0%|                                                                                                                                 | 0/46 [00:00<?, ?it/s]\u001b[A/home/sarawalk/sdgs_py38/lib/python3.8/site-packages/bicm/graph_classes.py:1113: RuntimeWarning: invalid value encountered in divide\n",
      "  probs = node_xy * neighbor_xy / ((1 + node_xy) * (1 + neighbor_xy))\n",
      "/home/sarawalk/sdgs_py38/lib/python3.8/site-packages/bicm/graph_classes.py:1113: RuntimeWarning: invalid value encountered in divide\n",
      "  probs = node_xy * neighbor_xy / ((1 + node_xy) * (1 + neighbor_xy))\n",
      "/home/sarawalk/sdgs_py38/lib/python3.8/site-packages/bicm/graph_classes.py:1113: RuntimeWarning: invalid value encountered in divide\n",
      "  probs = node_xy * neighbor_xy / ((1 + node_xy) * (1 + neighbor_xy))\n",
      "/home/sarawalk/sdgs_py38/lib/python3.8/site-packages/bicm/graph_classes.py:1113: RuntimeWarning: invalid value encountered in divide\n",
      "  probs = node_xy * neighbor_xy / ((1 + node_xy) * (1 + neighbor_xy))\n",
      "100%|███████████████████████████████████████████████████████████████████████████████████████████████████████████████████████| 46/46 [00:00<00:00, 530.18it/s]"
     ]
    },
    {
     "name": "stdout",
     "output_type": "stream",
     "text": [
      "No V-motifs will be validated. Try increasing alpha\n"
     ]
    },
    {
     "name": "stderr",
     "output_type": "stream",
     "text": [
      "\n",
      "\n",
      "  0%|                                                                                                                                  | 0/3 [00:00<?, ?it/s]\u001b[A/home/sarawalk/sdgs_py38/lib/python3.8/site-packages/bicm/graph_classes.py:1113: RuntimeWarning: invalid value encountered in divide\n",
      "  probs = node_xy * neighbor_xy / ((1 + node_xy) * (1 + neighbor_xy))\n",
      "/home/sarawalk/sdgs_py38/lib/python3.8/site-packages/bicm/graph_classes.py:1113: RuntimeWarning: invalid value encountered in divide\n",
      "  probs = node_xy * neighbor_xy / ((1 + node_xy) * (1 + neighbor_xy))\n",
      "100%|█████████████████████████████████████████████████████████████████████████████████████████████████████████████████████████| 3/3 [00:00<00:00, 100.66it/s]"
     ]
    },
    {
     "name": "stdout",
     "output_type": "stream",
     "text": [
      "No V-motifs will be validated. Try increasing alpha\n",
      "\n",
      "                      WARNING: this system has at least a node that is disconnected or connected to all nodes\n",
      "                       of the opposite layer. This may cause some convergence issues.\n",
      "                      Please use the full mode providing a biadjacency matrix or an edgelist,\n",
      "                       or clean your data from these nodes. \n",
      "                      \n",
      "2018 Energy SDG 4: Quality Education\r"
     ]
    },
    {
     "name": "stderr",
     "output_type": "stream",
     "text": [
      "\n",
      "\n",
      "  0%|                                                                                                                                 | 0/46 [00:00<?, ?it/s]\u001b[A/home/sarawalk/sdgs_py38/lib/python3.8/site-packages/bicm/graph_classes.py:1113: RuntimeWarning: invalid value encountered in divide\n",
      "  probs = node_xy * neighbor_xy / ((1 + node_xy) * (1 + neighbor_xy))\n",
      "/home/sarawalk/sdgs_py38/lib/python3.8/site-packages/bicm/graph_classes.py:1113: RuntimeWarning: invalid value encountered in divide\n",
      "  probs = node_xy * neighbor_xy / ((1 + node_xy) * (1 + neighbor_xy))\n",
      "/home/sarawalk/sdgs_py38/lib/python3.8/site-packages/bicm/graph_classes.py:1113: RuntimeWarning: invalid value encountered in divide\n",
      "  probs = node_xy * neighbor_xy / ((1 + node_xy) * (1 + neighbor_xy))\n",
      "/home/sarawalk/sdgs_py38/lib/python3.8/site-packages/bicm/graph_classes.py:1113: RuntimeWarning: invalid value encountered in divide\n",
      "  probs = node_xy * neighbor_xy / ((1 + node_xy) * (1 + neighbor_xy))\n",
      "100%|███████████████████████████████████████████████████████████████████████████████████████████████████████████████████████| 46/46 [00:00<00:00, 566.31it/s]"
     ]
    },
    {
     "name": "stdout",
     "output_type": "stream",
     "text": [
      "No V-motifs will be validated. Try increasing alpha\n"
     ]
    },
    {
     "name": "stderr",
     "output_type": "stream",
     "text": [
      "\n",
      "\n",
      "  0%|                                                                                                                                  | 0/3 [00:00<?, ?it/s]\u001b[A/home/sarawalk/sdgs_py38/lib/python3.8/site-packages/bicm/graph_classes.py:1113: RuntimeWarning: invalid value encountered in divide\n",
      "  probs = node_xy * neighbor_xy / ((1 + node_xy) * (1 + neighbor_xy))\n",
      "100%|██████████████████████████████████████████████████████████████████████████████████████████████████████████████████████████| 3/3 [00:00<00:00, 84.89it/s]/home/sarawalk/sdgs_py38/lib/python3.8/site-packages/bicm/graph_classes.py:1113: RuntimeWarning: invalid value encountered in divide\n",
      "  probs = node_xy * neighbor_xy / ((1 + node_xy) * (1 + neighbor_xy))\n",
      "\n"
     ]
    },
    {
     "name": "stdout",
     "output_type": "stream",
     "text": [
      "No V-motifs will be validated. Try increasing alpha\n",
      "\n",
      "                      WARNING: this system has at least a node that is disconnected or connected to all nodes\n",
      "                       of the opposite layer. This may cause some convergence issues.\n",
      "                      Please use the full mode providing a biadjacency matrix or an edgelist,\n",
      "                       or clean your data from these nodes. \n",
      "                      \n",
      "2018 Energy SDG 5: Gender Equality\r"
     ]
    },
    {
     "name": "stderr",
     "output_type": "stream",
     "text": [
      "\n",
      "  0%|                                                                                                                                 | 0/46 [00:00<?, ?it/s]\u001b[A/home/sarawalk/sdgs_py38/lib/python3.8/site-packages/bicm/graph_classes.py:1113: RuntimeWarning: invalid value encountered in divide\n",
      "  probs = node_xy * neighbor_xy / ((1 + node_xy) * (1 + neighbor_xy))\n",
      "/home/sarawalk/sdgs_py38/lib/python3.8/site-packages/bicm/graph_classes.py:1113: RuntimeWarning: invalid value encountered in divide\n",
      "  probs = node_xy * neighbor_xy / ((1 + node_xy) * (1 + neighbor_xy))\n",
      "/home/sarawalk/sdgs_py38/lib/python3.8/site-packages/bicm/graph_classes.py:1113: RuntimeWarning: invalid value encountered in divide\n",
      "  probs = node_xy * neighbor_xy / ((1 + node_xy) * (1 + neighbor_xy))\n",
      "/home/sarawalk/sdgs_py38/lib/python3.8/site-packages/bicm/graph_classes.py:1113: RuntimeWarning: invalid value encountered in divide\n",
      "  probs = node_xy * neighbor_xy / ((1 + node_xy) * (1 + neighbor_xy))\n",
      "100%|███████████████████████████████████████████████████████████████████████████████████████████████████████████████████████| 46/46 [00:00<00:00, 605.95it/s]"
     ]
    },
    {
     "name": "stdout",
     "output_type": "stream",
     "text": [
      "No V-motifs will be validated. Try increasing alpha\n"
     ]
    },
    {
     "name": "stderr",
     "output_type": "stream",
     "text": [
      "\n",
      "\n",
      "100%|█████████████████████████████████████████████████████████████████████████████████████████████████████████████████████████| 3/3 [00:00<00:00, 110.72it/s]\u001b[A/home/sarawalk/sdgs_py38/lib/python3.8/site-packages/bicm/graph_classes.py:1113: RuntimeWarning: invalid value encountered in divide\n",
      "  probs = node_xy * neighbor_xy / ((1 + node_xy) * (1 + neighbor_xy))\n",
      "/home/sarawalk/sdgs_py38/lib/python3.8/site-packages/bicm/graph_classes.py:1113: RuntimeWarning: invalid value encountered in divide\n",
      "  probs = node_xy * neighbor_xy / ((1 + node_xy) * (1 + neighbor_xy))\n",
      "\n"
     ]
    },
    {
     "name": "stdout",
     "output_type": "stream",
     "text": [
      "No V-motifs will be validated. Try increasing alpha\n",
      "\n",
      "                      WARNING: this system has at least a node that is disconnected or connected to all nodes\n",
      "                       of the opposite layer. This may cause some convergence issues.\n",
      "                      Please use the full mode providing a biadjacency matrix or an edgelist,\n",
      "                       or clean your data from these nodes. \n",
      "                      \n",
      "2018 Energy SDG 6: Clean Water and Sanitation\r"
     ]
    },
    {
     "name": "stderr",
     "output_type": "stream",
     "text": [
      "\n",
      "  0%|                                                                                                                                 | 0/46 [00:00<?, ?it/s]\u001b[A/home/sarawalk/sdgs_py38/lib/python3.8/site-packages/bicm/graph_classes.py:1113: RuntimeWarning: invalid value encountered in divide\n",
      "  probs = node_xy * neighbor_xy / ((1 + node_xy) * (1 + neighbor_xy))\n",
      "/home/sarawalk/sdgs_py38/lib/python3.8/site-packages/bicm/graph_classes.py:1113: RuntimeWarning: invalid value encountered in divide\n",
      "  probs = node_xy * neighbor_xy / ((1 + node_xy) * (1 + neighbor_xy))\n",
      "/home/sarawalk/sdgs_py38/lib/python3.8/site-packages/bicm/graph_classes.py:1113: RuntimeWarning: invalid value encountered in divide\n",
      "  probs = node_xy * neighbor_xy / ((1 + node_xy) * (1 + neighbor_xy))\n",
      "/home/sarawalk/sdgs_py38/lib/python3.8/site-packages/bicm/graph_classes.py:1113: RuntimeWarning: invalid value encountered in divide\n",
      "  probs = node_xy * neighbor_xy / ((1 + node_xy) * (1 + neighbor_xy))\n",
      "100%|███████████████████████████████████████████████████████████████████████████████████████████████████████████████████████| 46/46 [00:00<00:00, 514.97it/s]"
     ]
    },
    {
     "name": "stdout",
     "output_type": "stream",
     "text": [
      "No V-motifs will be validated. Try increasing alpha\n"
     ]
    },
    {
     "name": "stderr",
     "output_type": "stream",
     "text": [
      "\n",
      "\n",
      "  0%|                                                                                                                                  | 0/3 [00:00<?, ?it/s]\u001b[A/home/sarawalk/sdgs_py38/lib/python3.8/site-packages/bicm/graph_classes.py:1113: RuntimeWarning: invalid value encountered in divide\n",
      "  probs = node_xy * neighbor_xy / ((1 + node_xy) * (1 + neighbor_xy))\n",
      "100%|█████████████████████████████████████████████████████████████████████████████████████████████████████████████████████████| 3/3 [00:00<00:00, 155.21it/s]/home/sarawalk/sdgs_py38/lib/python3.8/site-packages/bicm/graph_classes.py:1113: RuntimeWarning: invalid value encountered in divide\n",
      "  probs = node_xy * neighbor_xy / ((1 + node_xy) * (1 + neighbor_xy))\n",
      "\n"
     ]
    },
    {
     "name": "stdout",
     "output_type": "stream",
     "text": [
      "No V-motifs will be validated. Try increasing alpha\n",
      "\n",
      "                      WARNING: this system has at least a node that is disconnected or connected to all nodes\n",
      "                       of the opposite layer. This may cause some convergence issues.\n",
      "                      Please use the full mode providing a biadjacency matrix or an edgelist,\n",
      "                       or clean your data from these nodes. \n",
      "                      \n",
      "2018 Energy SDG 7: Affordable and Clean Energy\r"
     ]
    },
    {
     "name": "stderr",
     "output_type": "stream",
     "text": [
      "\n",
      "  0%|                                                                                                                                 | 0/46 [00:00<?, ?it/s]\u001b[A/home/sarawalk/sdgs_py38/lib/python3.8/site-packages/bicm/graph_classes.py:1113: RuntimeWarning: invalid value encountered in divide\n",
      "  probs = node_xy * neighbor_xy / ((1 + node_xy) * (1 + neighbor_xy))\n",
      "/home/sarawalk/sdgs_py38/lib/python3.8/site-packages/bicm/graph_classes.py:1113: RuntimeWarning: invalid value encountered in divide\n",
      "  probs = node_xy * neighbor_xy / ((1 + node_xy) * (1 + neighbor_xy))\n",
      "/home/sarawalk/sdgs_py38/lib/python3.8/site-packages/bicm/graph_classes.py:1113: RuntimeWarning: invalid value encountered in divide\n",
      "  probs = node_xy * neighbor_xy / ((1 + node_xy) * (1 + neighbor_xy))\n",
      "/home/sarawalk/sdgs_py38/lib/python3.8/site-packages/bicm/graph_classes.py:1113: RuntimeWarning: invalid value encountered in divide\n",
      "  probs = node_xy * neighbor_xy / ((1 + node_xy) * (1 + neighbor_xy))\n",
      "100%|███████████████████████████████████████████████████████████████████████████████████████████████████████████████████████| 46/46 [00:00<00:00, 548.30it/s]"
     ]
    },
    {
     "name": "stdout",
     "output_type": "stream",
     "text": [
      "No V-motifs will be validated. Try increasing alpha\n"
     ]
    },
    {
     "name": "stderr",
     "output_type": "stream",
     "text": [
      "\n",
      "\n",
      "  0%|                                                                                                                                  | 0/3 [00:00<?, ?it/s]\u001b[A/home/sarawalk/sdgs_py38/lib/python3.8/site-packages/bicm/graph_classes.py:1113: RuntimeWarning: invalid value encountered in divide\n",
      "  probs = node_xy * neighbor_xy / ((1 + node_xy) * (1 + neighbor_xy))\n",
      "/home/sarawalk/sdgs_py38/lib/python3.8/site-packages/bicm/graph_classes.py:1113: RuntimeWarning: invalid value encountered in divide\n",
      "  probs = node_xy * neighbor_xy / ((1 + node_xy) * (1 + neighbor_xy))\n",
      "100%|█████████████████████████████████████████████████████████████████████████████████████████████████████████████████████████| 3/3 [00:00<00:00, 101.57it/s]\n"
     ]
    },
    {
     "name": "stdout",
     "output_type": "stream",
     "text": [
      "No V-motifs will be validated. Try increasing alpha\n",
      "\n",
      "                      WARNING: this system has at least a node that is disconnected or connected to all nodes\n",
      "                       of the opposite layer. This may cause some convergence issues.\n",
      "                      Please use the full mode providing a biadjacency matrix or an edgelist,\n",
      "                       or clean your data from these nodes. \n",
      "                      \n",
      "2018 Energy SDG 8: Decent Work and Economic Growth\r"
     ]
    },
    {
     "name": "stderr",
     "output_type": "stream",
     "text": [
      "\n",
      "  0%|                                                                                                                                 | 0/46 [00:00<?, ?it/s]\u001b[A/home/sarawalk/sdgs_py38/lib/python3.8/site-packages/bicm/graph_classes.py:1113: RuntimeWarning: invalid value encountered in divide\n",
      "  probs = node_xy * neighbor_xy / ((1 + node_xy) * (1 + neighbor_xy))\n",
      "/home/sarawalk/sdgs_py38/lib/python3.8/site-packages/bicm/graph_classes.py:1113: RuntimeWarning: invalid value encountered in divide\n",
      "  probs = node_xy * neighbor_xy / ((1 + node_xy) * (1 + neighbor_xy))\n",
      "/home/sarawalk/sdgs_py38/lib/python3.8/site-packages/bicm/graph_classes.py:1113: RuntimeWarning: invalid value encountered in divide\n",
      "  probs = node_xy * neighbor_xy / ((1 + node_xy) * (1 + neighbor_xy))\n",
      "/home/sarawalk/sdgs_py38/lib/python3.8/site-packages/bicm/graph_classes.py:1113: RuntimeWarning: invalid value encountered in divide\n",
      "  probs = node_xy * neighbor_xy / ((1 + node_xy) * (1 + neighbor_xy))\n",
      "100%|███████████████████████████████████████████████████████████████████████████████████████████████████████████████████████| 46/46 [00:00<00:00, 518.04it/s]"
     ]
    },
    {
     "name": "stdout",
     "output_type": "stream",
     "text": [
      "No V-motifs will be validated. Try increasing alpha\n"
     ]
    },
    {
     "name": "stderr",
     "output_type": "stream",
     "text": [
      "\n",
      "\n",
      "  0%|                                                                                                                                  | 0/3 [00:00<?, ?it/s]\u001b[A/home/sarawalk/sdgs_py38/lib/python3.8/site-packages/bicm/graph_classes.py:1113: RuntimeWarning: invalid value encountered in divide\n",
      "  probs = node_xy * neighbor_xy / ((1 + node_xy) * (1 + neighbor_xy))\n",
      "/home/sarawalk/sdgs_py38/lib/python3.8/site-packages/bicm/graph_classes.py:1113: RuntimeWarning: invalid value encountered in divide\n",
      "  probs = node_xy * neighbor_xy / ((1 + node_xy) * (1 + neighbor_xy))\n",
      "100%|██████████████████████████████████████████████████████████████████████████████████████████████████████████████████████████| 3/3 [00:00<00:00, 93.32it/s]\n"
     ]
    },
    {
     "name": "stdout",
     "output_type": "stream",
     "text": [
      "No V-motifs will be validated. Try increasing alpha\n",
      "\n",
      "                      WARNING: this system has at least a node that is disconnected or connected to all nodes\n",
      "                       of the opposite layer. This may cause some convergence issues.\n",
      "                      Please use the full mode providing a biadjacency matrix or an edgelist,\n",
      "                       or clean your data from these nodes. \n",
      "                      \n",
      "2018 Energy SDG 9: Industry, Innovation, and Infrastructure\r"
     ]
    },
    {
     "name": "stderr",
     "output_type": "stream",
     "text": [
      "\n",
      "  0%|                                                                                                                                 | 0/46 [00:00<?, ?it/s]\u001b[A/home/sarawalk/sdgs_py38/lib/python3.8/site-packages/bicm/graph_classes.py:1113: RuntimeWarning: invalid value encountered in divide\n",
      "  probs = node_xy * neighbor_xy / ((1 + node_xy) * (1 + neighbor_xy))\n",
      "/home/sarawalk/sdgs_py38/lib/python3.8/site-packages/bicm/graph_classes.py:1113: RuntimeWarning: invalid value encountered in divide\n",
      "  probs = node_xy * neighbor_xy / ((1 + node_xy) * (1 + neighbor_xy))\n",
      "/home/sarawalk/sdgs_py38/lib/python3.8/site-packages/bicm/graph_classes.py:1113: RuntimeWarning: invalid value encountered in divide\n",
      "  probs = node_xy * neighbor_xy / ((1 + node_xy) * (1 + neighbor_xy))\n",
      "/home/sarawalk/sdgs_py38/lib/python3.8/site-packages/bicm/graph_classes.py:1113: RuntimeWarning: invalid value encountered in divide\n",
      "  probs = node_xy * neighbor_xy / ((1 + node_xy) * (1 + neighbor_xy))\n",
      "100%|███████████████████████████████████████████████████████████████████████████████████████████████████████████████████████| 46/46 [00:00<00:00, 627.37it/s]"
     ]
    },
    {
     "name": "stdout",
     "output_type": "stream",
     "text": [
      "No V-motifs will be validated. Try increasing alpha\n"
     ]
    },
    {
     "name": "stderr",
     "output_type": "stream",
     "text": [
      "\n",
      "\n",
      "  0%|                                                                                                                                  | 0/3 [00:00<?, ?it/s]\u001b[A/home/sarawalk/sdgs_py38/lib/python3.8/site-packages/bicm/graph_classes.py:1113: RuntimeWarning: invalid value encountered in divide\n",
      "  probs = node_xy * neighbor_xy / ((1 + node_xy) * (1 + neighbor_xy))\n",
      "/home/sarawalk/sdgs_py38/lib/python3.8/site-packages/bicm/graph_classes.py:1113: RuntimeWarning: invalid value encountered in divide\n",
      "  probs = node_xy * neighbor_xy / ((1 + node_xy) * (1 + neighbor_xy))\n",
      "100%|██████████████████████████████████████████████████████████████████████████████████████████████████████████████████████████| 3/3 [00:00<00:00, 96.41it/s]\n"
     ]
    },
    {
     "name": "stdout",
     "output_type": "stream",
     "text": [
      "No V-motifs will be validated. Try increasing alpha\n",
      "\n",
      "                      WARNING: this system has at least a node that is disconnected or connected to all nodes\n",
      "                       of the opposite layer. This may cause some convergence issues.\n",
      "                      Please use the full mode providing a biadjacency matrix or an edgelist,\n",
      "                       or clean your data from these nodes. \n",
      "                      \n",
      "2018 Energy SDG 10: Reduced Inequality\r"
     ]
    },
    {
     "name": "stderr",
     "output_type": "stream",
     "text": [
      "\n",
      "  0%|                                                                                                                                 | 0/46 [00:00<?, ?it/s]\u001b[A/home/sarawalk/sdgs_py38/lib/python3.8/site-packages/bicm/graph_classes.py:1113: RuntimeWarning: invalid value encountered in divide\n",
      "  probs = node_xy * neighbor_xy / ((1 + node_xy) * (1 + neighbor_xy))\n",
      "/home/sarawalk/sdgs_py38/lib/python3.8/site-packages/bicm/graph_classes.py:1113: RuntimeWarning: invalid value encountered in divide\n",
      "  probs = node_xy * neighbor_xy / ((1 + node_xy) * (1 + neighbor_xy))\n",
      "/home/sarawalk/sdgs_py38/lib/python3.8/site-packages/bicm/graph_classes.py:1113: RuntimeWarning: invalid value encountered in divide\n",
      "  probs = node_xy * neighbor_xy / ((1 + node_xy) * (1 + neighbor_xy))\n",
      "/home/sarawalk/sdgs_py38/lib/python3.8/site-packages/bicm/graph_classes.py:1113: RuntimeWarning: invalid value encountered in divide\n",
      "  probs = node_xy * neighbor_xy / ((1 + node_xy) * (1 + neighbor_xy))\n",
      "100%|███████████████████████████████████████████████████████████████████████████████████████████████████████████████████████| 46/46 [00:00<00:00, 531.67it/s]"
     ]
    },
    {
     "name": "stdout",
     "output_type": "stream",
     "text": [
      "No V-motifs will be validated. Try increasing alpha\n"
     ]
    },
    {
     "name": "stderr",
     "output_type": "stream",
     "text": [
      "\n",
      "\n",
      "  0%|                                                                                                                                  | 0/3 [00:00<?, ?it/s]\u001b[A/home/sarawalk/sdgs_py38/lib/python3.8/site-packages/bicm/graph_classes.py:1113: RuntimeWarning: invalid value encountered in divide\n",
      "  probs = node_xy * neighbor_xy / ((1 + node_xy) * (1 + neighbor_xy))\n",
      "100%|██████████████████████████████████████████████████████████████████████████████████████████████████████████████████████████| 3/3 [00:00<00:00, 88.49it/s]/home/sarawalk/sdgs_py38/lib/python3.8/site-packages/bicm/graph_classes.py:1113: RuntimeWarning: invalid value encountered in divide\n",
      "  probs = node_xy * neighbor_xy / ((1 + node_xy) * (1 + neighbor_xy))\n",
      "\n"
     ]
    },
    {
     "name": "stdout",
     "output_type": "stream",
     "text": [
      "No V-motifs will be validated. Try increasing alpha\n",
      "\n",
      "                      WARNING: this system has at least a node that is disconnected or connected to all nodes\n",
      "                       of the opposite layer. This may cause some convergence issues.\n",
      "                      Please use the full mode providing a biadjacency matrix or an edgelist,\n",
      "                       or clean your data from these nodes. \n",
      "                      \n",
      "2018 Energy SDG 11: Sustainable Cities and Communities\r"
     ]
    },
    {
     "name": "stderr",
     "output_type": "stream",
     "text": [
      "\n",
      "  0%|                                                                                                                                 | 0/46 [00:00<?, ?it/s]\u001b[A/home/sarawalk/sdgs_py38/lib/python3.8/site-packages/bicm/graph_classes.py:1113: RuntimeWarning: invalid value encountered in divide\n",
      "  probs = node_xy * neighbor_xy / ((1 + node_xy) * (1 + neighbor_xy))\n",
      "/home/sarawalk/sdgs_py38/lib/python3.8/site-packages/bicm/graph_classes.py:1113: RuntimeWarning: invalid value encountered in divide\n",
      "  probs = node_xy * neighbor_xy / ((1 + node_xy) * (1 + neighbor_xy))\n",
      "/home/sarawalk/sdgs_py38/lib/python3.8/site-packages/bicm/graph_classes.py:1113: RuntimeWarning: invalid value encountered in divide\n",
      "  probs = node_xy * neighbor_xy / ((1 + node_xy) * (1 + neighbor_xy))\n",
      "/home/sarawalk/sdgs_py38/lib/python3.8/site-packages/bicm/graph_classes.py:1113: RuntimeWarning: invalid value encountered in divide\n",
      "  probs = node_xy * neighbor_xy / ((1 + node_xy) * (1 + neighbor_xy))\n",
      "100%|███████████████████████████████████████████████████████████████████████████████████████████████████████████████████████| 46/46 [00:00<00:00, 494.24it/s]"
     ]
    },
    {
     "name": "stdout",
     "output_type": "stream",
     "text": [
      "No V-motifs will be validated. Try increasing alpha\n"
     ]
    },
    {
     "name": "stderr",
     "output_type": "stream",
     "text": [
      "\n",
      "\n",
      "  0%|                                                                                                                                  | 0/3 [00:00<?, ?it/s]\u001b[A/home/sarawalk/sdgs_py38/lib/python3.8/site-packages/bicm/graph_classes.py:1113: RuntimeWarning: invalid value encountered in divide\n",
      "  probs = node_xy * neighbor_xy / ((1 + node_xy) * (1 + neighbor_xy))\n",
      "100%|█████████████████████████████████████████████████████████████████████████████████████████████████████████████████████████| 3/3 [00:00<00:00, 102.60it/s]/home/sarawalk/sdgs_py38/lib/python3.8/site-packages/bicm/graph_classes.py:1113: RuntimeWarning: invalid value encountered in divide\n",
      "  probs = node_xy * neighbor_xy / ((1 + node_xy) * (1 + neighbor_xy))\n",
      "\n"
     ]
    },
    {
     "name": "stdout",
     "output_type": "stream",
     "text": [
      "No V-motifs will be validated. Try increasing alpha\n",
      "\n",
      "                      WARNING: this system has at least a node that is disconnected or connected to all nodes\n",
      "                       of the opposite layer. This may cause some convergence issues.\n",
      "                      Please use the full mode providing a biadjacency matrix or an edgelist,\n",
      "                       or clean your data from these nodes. \n",
      "                      \n",
      "2018 Energy SDG 12: Responsible Consumption and Production\r"
     ]
    },
    {
     "name": "stderr",
     "output_type": "stream",
     "text": [
      "\n",
      "  0%|                                                                                                                                 | 0/46 [00:00<?, ?it/s]\u001b[A/home/sarawalk/sdgs_py38/lib/python3.8/site-packages/bicm/graph_classes.py:1113: RuntimeWarning: invalid value encountered in divide\n",
      "  probs = node_xy * neighbor_xy / ((1 + node_xy) * (1 + neighbor_xy))\n",
      "/home/sarawalk/sdgs_py38/lib/python3.8/site-packages/bicm/graph_classes.py:1113: RuntimeWarning: invalid value encountered in divide\n",
      "  probs = node_xy * neighbor_xy / ((1 + node_xy) * (1 + neighbor_xy))\n",
      "/home/sarawalk/sdgs_py38/lib/python3.8/site-packages/bicm/graph_classes.py:1113: RuntimeWarning: invalid value encountered in divide\n",
      "  probs = node_xy * neighbor_xy / ((1 + node_xy) * (1 + neighbor_xy))\n",
      "/home/sarawalk/sdgs_py38/lib/python3.8/site-packages/bicm/graph_classes.py:1113: RuntimeWarning: invalid value encountered in divide\n",
      "  probs = node_xy * neighbor_xy / ((1 + node_xy) * (1 + neighbor_xy))\n",
      "100%|███████████████████████████████████████████████████████████████████████████████████████████████████████████████████████| 46/46 [00:00<00:00, 632.48it/s]"
     ]
    },
    {
     "name": "stdout",
     "output_type": "stream",
     "text": [
      "No V-motifs will be validated. Try increasing alpha\n"
     ]
    },
    {
     "name": "stderr",
     "output_type": "stream",
     "text": [
      "\n",
      "\n",
      "  0%|                                                                                                                                  | 0/3 [00:00<?, ?it/s]\u001b[A/home/sarawalk/sdgs_py38/lib/python3.8/site-packages/bicm/graph_classes.py:1113: RuntimeWarning: invalid value encountered in divide\n",
      "  probs = node_xy * neighbor_xy / ((1 + node_xy) * (1 + neighbor_xy))\n",
      "100%|█████████████████████████████████████████████████████████████████████████████████████████████████████████████████████████| 3/3 [00:00<00:00, 104.74it/s]/home/sarawalk/sdgs_py38/lib/python3.8/site-packages/bicm/graph_classes.py:1113: RuntimeWarning: invalid value encountered in divide\n",
      "  probs = node_xy * neighbor_xy / ((1 + node_xy) * (1 + neighbor_xy))\n"
     ]
    },
    {
     "name": "stdout",
     "output_type": "stream",
     "text": [
      "No V-motifs will be validated. Try increasing alpha\n",
      "\n",
      "                      WARNING: this system has at least a node that is disconnected or connected to all nodes\n",
      "                       of the opposite layer. This may cause some convergence issues.\n",
      "                      Please use the full mode providing a biadjacency matrix or an edgelist,\n",
      "                       or clean your data from these nodes. \n",
      "                      \n",
      "2018 Energy SDG 13: Climate Action\r"
     ]
    },
    {
     "name": "stderr",
     "output_type": "stream",
     "text": [
      "\n",
      "\n",
      "  0%|                                                                                                                                 | 0/46 [00:00<?, ?it/s]\u001b[A/home/sarawalk/sdgs_py38/lib/python3.8/site-packages/bicm/graph_classes.py:1113: RuntimeWarning: invalid value encountered in divide\n",
      "  probs = node_xy * neighbor_xy / ((1 + node_xy) * (1 + neighbor_xy))\n",
      "/home/sarawalk/sdgs_py38/lib/python3.8/site-packages/bicm/graph_classes.py:1113: RuntimeWarning: invalid value encountered in divide\n",
      "  probs = node_xy * neighbor_xy / ((1 + node_xy) * (1 + neighbor_xy))\n",
      "/home/sarawalk/sdgs_py38/lib/python3.8/site-packages/bicm/graph_classes.py:1113: RuntimeWarning: invalid value encountered in divide\n",
      "  probs = node_xy * neighbor_xy / ((1 + node_xy) * (1 + neighbor_xy))\n",
      "/home/sarawalk/sdgs_py38/lib/python3.8/site-packages/bicm/graph_classes.py:1113: RuntimeWarning: invalid value encountered in divide\n",
      "  probs = node_xy * neighbor_xy / ((1 + node_xy) * (1 + neighbor_xy))\n",
      "100%|███████████████████████████████████████████████████████████████████████████████████████████████████████████████████████| 46/46 [00:00<00:00, 560.17it/s]"
     ]
    },
    {
     "name": "stdout",
     "output_type": "stream",
     "text": [
      "No V-motifs will be validated. Try increasing alpha\n"
     ]
    },
    {
     "name": "stderr",
     "output_type": "stream",
     "text": [
      "\n",
      "\n",
      "  0%|                                                                                                                                  | 0/3 [00:00<?, ?it/s]\u001b[A/home/sarawalk/sdgs_py38/lib/python3.8/site-packages/bicm/graph_classes.py:1113: RuntimeWarning: invalid value encountered in divide\n",
      "  probs = node_xy * neighbor_xy / ((1 + node_xy) * (1 + neighbor_xy))\n",
      "100%|█████████████████████████████████████████████████████████████████████████████████████████████████████████████████████████| 3/3 [00:00<00:00, 110.00it/s]/home/sarawalk/sdgs_py38/lib/python3.8/site-packages/bicm/graph_classes.py:1113: RuntimeWarning: invalid value encountered in divide\n",
      "  probs = node_xy * neighbor_xy / ((1 + node_xy) * (1 + neighbor_xy))\n",
      "\n"
     ]
    },
    {
     "name": "stdout",
     "output_type": "stream",
     "text": [
      "No V-motifs will be validated. Try increasing alpha\n",
      "\n",
      "                      WARNING: this system has at least a node that is disconnected or connected to all nodes\n",
      "                       of the opposite layer. This may cause some convergence issues.\n",
      "                      Please use the full mode providing a biadjacency matrix or an edgelist,\n",
      "                       or clean your data from these nodes. \n",
      "                      \n",
      "2018 Energy SDG 14: Life Below Water\r"
     ]
    },
    {
     "name": "stderr",
     "output_type": "stream",
     "text": [
      "\n",
      "  0%|                                                                                                                                 | 0/46 [00:00<?, ?it/s]\u001b[A/home/sarawalk/sdgs_py38/lib/python3.8/site-packages/bicm/graph_classes.py:1113: RuntimeWarning: invalid value encountered in divide\n",
      "  probs = node_xy * neighbor_xy / ((1 + node_xy) * (1 + neighbor_xy))\n",
      "/home/sarawalk/sdgs_py38/lib/python3.8/site-packages/bicm/graph_classes.py:1113: RuntimeWarning: invalid value encountered in divide\n",
      "  probs = node_xy * neighbor_xy / ((1 + node_xy) * (1 + neighbor_xy))\n",
      "/home/sarawalk/sdgs_py38/lib/python3.8/site-packages/bicm/graph_classes.py:1113: RuntimeWarning: invalid value encountered in divide\n",
      "  probs = node_xy * neighbor_xy / ((1 + node_xy) * (1 + neighbor_xy))\n",
      "/home/sarawalk/sdgs_py38/lib/python3.8/site-packages/bicm/graph_classes.py:1113: RuntimeWarning: invalid value encountered in divide\n",
      "  probs = node_xy * neighbor_xy / ((1 + node_xy) * (1 + neighbor_xy))\n",
      "\n",
      "100%|███████████████████████████████████████████████████████████████████████████████████████████████████████████████████████| 46/46 [00:00<00:00, 407.40it/s]\u001b[A"
     ]
    },
    {
     "name": "stdout",
     "output_type": "stream",
     "text": [
      "No V-motifs will be validated. Try increasing alpha\n"
     ]
    },
    {
     "name": "stderr",
     "output_type": "stream",
     "text": [
      "\n",
      "\n",
      "  0%|                                                                                                                                  | 0/3 [00:00<?, ?it/s]\u001b[A/home/sarawalk/sdgs_py38/lib/python3.8/site-packages/bicm/graph_classes.py:1113: RuntimeWarning: invalid value encountered in divide\n",
      "  probs = node_xy * neighbor_xy / ((1 + node_xy) * (1 + neighbor_xy))\n",
      "100%|██████████████████████████████████████████████████████████████████████████████████████████████████████████████████████████| 3/3 [00:00<00:00, 95.45it/s]/home/sarawalk/sdgs_py38/lib/python3.8/site-packages/bicm/graph_classes.py:1113: RuntimeWarning: invalid value encountered in divide\n",
      "  probs = node_xy * neighbor_xy / ((1 + node_xy) * (1 + neighbor_xy))\n",
      "\n"
     ]
    },
    {
     "name": "stdout",
     "output_type": "stream",
     "text": [
      "No V-motifs will be validated. Try increasing alpha\n",
      "\n",
      "                      WARNING: this system has at least a node that is disconnected or connected to all nodes\n",
      "                       of the opposite layer. This may cause some convergence issues.\n",
      "                      Please use the full mode providing a biadjacency matrix or an edgelist,\n",
      "                       or clean your data from these nodes. \n",
      "                      \n",
      "2018 Energy SDG 15: Life on Land\r"
     ]
    },
    {
     "name": "stderr",
     "output_type": "stream",
     "text": [
      "\n",
      "  0%|                                                                                                                                 | 0/46 [00:00<?, ?it/s]\u001b[A/home/sarawalk/sdgs_py38/lib/python3.8/site-packages/bicm/graph_classes.py:1113: RuntimeWarning: invalid value encountered in divide\n",
      "  probs = node_xy * neighbor_xy / ((1 + node_xy) * (1 + neighbor_xy))\n",
      "/home/sarawalk/sdgs_py38/lib/python3.8/site-packages/bicm/graph_classes.py:1113: RuntimeWarning: invalid value encountered in divide\n",
      "  probs = node_xy * neighbor_xy / ((1 + node_xy) * (1 + neighbor_xy))\n",
      "/home/sarawalk/sdgs_py38/lib/python3.8/site-packages/bicm/graph_classes.py:1113: RuntimeWarning: invalid value encountered in divide\n",
      "  probs = node_xy * neighbor_xy / ((1 + node_xy) * (1 + neighbor_xy))\n",
      "/home/sarawalk/sdgs_py38/lib/python3.8/site-packages/bicm/graph_classes.py:1113: RuntimeWarning: invalid value encountered in divide\n",
      "  probs = node_xy * neighbor_xy / ((1 + node_xy) * (1 + neighbor_xy))\n",
      "100%|███████████████████████████████████████████████████████████████████████████████████████████████████████████████████████| 46/46 [00:00<00:00, 498.46it/s]"
     ]
    },
    {
     "name": "stdout",
     "output_type": "stream",
     "text": [
      "No V-motifs will be validated. Try increasing alpha\n"
     ]
    },
    {
     "name": "stderr",
     "output_type": "stream",
     "text": [
      "\n",
      "\n",
      "  0%|                                                                                                                                  | 0/3 [00:00<?, ?it/s]\u001b[A/home/sarawalk/sdgs_py38/lib/python3.8/site-packages/bicm/graph_classes.py:1113: RuntimeWarning: invalid value encountered in divide\n",
      "  probs = node_xy * neighbor_xy / ((1 + node_xy) * (1 + neighbor_xy))\n",
      "100%|█████████████████████████████████████████████████████████████████████████████████████████████████████████████████████████| 3/3 [00:00<00:00, 105.12it/s]/home/sarawalk/sdgs_py38/lib/python3.8/site-packages/bicm/graph_classes.py:1113: RuntimeWarning: invalid value encountered in divide\n",
      "  probs = node_xy * neighbor_xy / ((1 + node_xy) * (1 + neighbor_xy))\n",
      "\n"
     ]
    },
    {
     "name": "stdout",
     "output_type": "stream",
     "text": [
      "No V-motifs will be validated. Try increasing alpha\n",
      "\n",
      "                      WARNING: this system has at least a node that is disconnected or connected to all nodes\n",
      "                       of the opposite layer. This may cause some convergence issues.\n",
      "                      Please use the full mode providing a biadjacency matrix or an edgelist,\n",
      "                       or clean your data from these nodes. \n",
      "                      \n",
      "2018 Energy SDG 16: Peace, Justice, and Strong Institutions\r"
     ]
    },
    {
     "name": "stderr",
     "output_type": "stream",
     "text": [
      "\n",
      "  0%|                                                                                                                                 | 0/46 [00:00<?, ?it/s]\u001b[A/home/sarawalk/sdgs_py38/lib/python3.8/site-packages/bicm/graph_classes.py:1113: RuntimeWarning: invalid value encountered in divide\n",
      "  probs = node_xy * neighbor_xy / ((1 + node_xy) * (1 + neighbor_xy))\n",
      "/home/sarawalk/sdgs_py38/lib/python3.8/site-packages/bicm/graph_classes.py:1113: RuntimeWarning: invalid value encountered in divide\n",
      "  probs = node_xy * neighbor_xy / ((1 + node_xy) * (1 + neighbor_xy))\n",
      "/home/sarawalk/sdgs_py38/lib/python3.8/site-packages/bicm/graph_classes.py:1113: RuntimeWarning: invalid value encountered in divide\n",
      "  probs = node_xy * neighbor_xy / ((1 + node_xy) * (1 + neighbor_xy))\n",
      "/home/sarawalk/sdgs_py38/lib/python3.8/site-packages/bicm/graph_classes.py:1113: RuntimeWarning: invalid value encountered in divide\n",
      "  probs = node_xy * neighbor_xy / ((1 + node_xy) * (1 + neighbor_xy))\n",
      "100%|███████████████████████████████████████████████████████████████████████████████████████████████████████████████████████| 46/46 [00:00<00:00, 562.84it/s]"
     ]
    },
    {
     "name": "stdout",
     "output_type": "stream",
     "text": [
      "No V-motifs will be validated. Try increasing alpha\n"
     ]
    },
    {
     "name": "stderr",
     "output_type": "stream",
     "text": [
      "\n",
      "\n",
      "  0%|                                                                                                                                  | 0/3 [00:00<?, ?it/s]\u001b[A/home/sarawalk/sdgs_py38/lib/python3.8/site-packages/bicm/graph_classes.py:1113: RuntimeWarning: invalid value encountered in divide\n",
      "  probs = node_xy * neighbor_xy / ((1 + node_xy) * (1 + neighbor_xy))\n",
      "100%|█████████████████████████████████████████████████████████████████████████████████████████████████████████████████████████| 3/3 [00:00<00:00, 117.68it/s]/home/sarawalk/sdgs_py38/lib/python3.8/site-packages/bicm/graph_classes.py:1113: RuntimeWarning: invalid value encountered in divide\n",
      "  probs = node_xy * neighbor_xy / ((1 + node_xy) * (1 + neighbor_xy))\n",
      "\n"
     ]
    },
    {
     "name": "stdout",
     "output_type": "stream",
     "text": [
      "No V-motifs will be validated. Try increasing alpha\n",
      "\n",
      "                      WARNING: this system has at least a node that is disconnected or connected to all nodes\n",
      "                       of the opposite layer. This may cause some convergence issues.\n",
      "                      Please use the full mode providing a biadjacency matrix or an edgelist,\n",
      "                       or clean your data from these nodes. \n",
      "                      \n",
      "2018 Energy SDG 17: Partnerships for the Goals\r"
     ]
    },
    {
     "name": "stderr",
     "output_type": "stream",
     "text": [
      "\n",
      "  0%|                                                                                                                                 | 0/46 [00:00<?, ?it/s]\u001b[A/home/sarawalk/sdgs_py38/lib/python3.8/site-packages/bicm/graph_classes.py:1113: RuntimeWarning: invalid value encountered in divide\n",
      "  probs = node_xy * neighbor_xy / ((1 + node_xy) * (1 + neighbor_xy))\n",
      "/home/sarawalk/sdgs_py38/lib/python3.8/site-packages/bicm/graph_classes.py:1113: RuntimeWarning: invalid value encountered in divide\n",
      "  probs = node_xy * neighbor_xy / ((1 + node_xy) * (1 + neighbor_xy))\n",
      "/home/sarawalk/sdgs_py38/lib/python3.8/site-packages/bicm/graph_classes.py:1113: RuntimeWarning: invalid value encountered in divide\n",
      "  probs = node_xy * neighbor_xy / ((1 + node_xy) * (1 + neighbor_xy))\n",
      "/home/sarawalk/sdgs_py38/lib/python3.8/site-packages/bicm/graph_classes.py:1113: RuntimeWarning: invalid value encountered in divide\n",
      "  probs = node_xy * neighbor_xy / ((1 + node_xy) * (1 + neighbor_xy))\n",
      "100%|███████████████████████████████████████████████████████████████████████████████████████████████████████████████████████| 46/46 [00:00<00:00, 571.07it/s]"
     ]
    },
    {
     "name": "stdout",
     "output_type": "stream",
     "text": [
      "No V-motifs will be validated. Try increasing alpha\n"
     ]
    },
    {
     "name": "stderr",
     "output_type": "stream",
     "text": [
      "\n",
      "\n",
      "  0%|                                                                                                                                  | 0/3 [00:00<?, ?it/s]\u001b[A/home/sarawalk/sdgs_py38/lib/python3.8/site-packages/bicm/graph_classes.py:1113: RuntimeWarning: invalid value encountered in divide\n",
      "  probs = node_xy * neighbor_xy / ((1 + node_xy) * (1 + neighbor_xy))\n",
      "/home/sarawalk/sdgs_py38/lib/python3.8/site-packages/bicm/graph_classes.py:1113: RuntimeWarning: invalid value encountered in divide\n",
      "  probs = node_xy * neighbor_xy / ((1 + node_xy) * (1 + neighbor_xy))\n",
      "100%|██████████████████████████████████████████████████████████████████████████████████████████████████████████████████████████| 3/3 [00:00<00:00, 77.56it/s]\n"
     ]
    },
    {
     "name": "stdout",
     "output_type": "stream",
     "text": [
      "No V-motifs will be validated. Try increasing alpha\n",
      "2018 Utilities SDG 1: No Poverty\r"
     ]
    },
    {
     "name": "stderr",
     "output_type": "stream",
     "text": [
      "\n",
      "  0%|                                                                                                                                 | 0/75 [00:00<?, ?it/s]\u001b[A\n",
      "100%|███████████████████████████████████████████████████████████████████████████████████████████████████████████████████████| 75/75 [00:00<00:00, 433.40it/s]\u001b[A\n"
     ]
    },
    {
     "name": "stdout",
     "output_type": "stream",
     "text": [
      "No V-motifs will be validated. Try increasing alpha\n"
     ]
    },
    {
     "name": "stderr",
     "output_type": "stream",
     "text": [
      "\n",
      "100%|██████████████████████████████████████████████████████████████████████████████████████████████████████████████████████████| 4/4 [00:00<00:00, 58.95it/s]\u001b[A"
     ]
    },
    {
     "name": "stdout",
     "output_type": "stream",
     "text": [
      "No V-motifs will be validated. Try increasing alpha\n",
      "2018 Utilities SDG 3: Good Health and Well-being\r"
     ]
    },
    {
     "name": "stderr",
     "output_type": "stream",
     "text": [
      "\n",
      "\n",
      "  0%|                                                                                                                                 | 0/75 [00:00<?, ?it/s]\u001b[A\n",
      "100%|███████████████████████████████████████████████████████████████████████████████████████████████████████████████████████| 75/75 [00:00<00:00, 408.44it/s]\u001b[A\n"
     ]
    },
    {
     "name": "stdout",
     "output_type": "stream",
     "text": [
      "No V-motifs will be validated. Try increasing alpha\n"
     ]
    },
    {
     "name": "stderr",
     "output_type": "stream",
     "text": [
      "\n",
      "100%|██████████████████████████████████████████████████████████████████████████████████████████████████████████████████████████| 4/4 [00:00<00:00, 67.38it/s]\u001b[A\n"
     ]
    },
    {
     "name": "stdout",
     "output_type": "stream",
     "text": [
      "No V-motifs will be validated. Try increasing alpha\n",
      "2018 Utilities SDG 4: Quality Education\r"
     ]
    },
    {
     "name": "stderr",
     "output_type": "stream",
     "text": [
      "\n",
      "  0%|                                                                                                                                 | 0/75 [00:00<?, ?it/s]\u001b[A\n",
      "100%|███████████████████████████████████████████████████████████████████████████████████████████████████████████████████████| 75/75 [00:00<00:00, 459.26it/s]\u001b[A\n"
     ]
    },
    {
     "name": "stdout",
     "output_type": "stream",
     "text": [
      "No V-motifs will be validated. Try increasing alpha\n"
     ]
    },
    {
     "name": "stderr",
     "output_type": "stream",
     "text": [
      "\n",
      "100%|██████████████████████████████████████████████████████████████████████████████████████████████████████████████████████████| 4/4 [00:00<00:00, 54.38it/s]\u001b[A"
     ]
    },
    {
     "name": "stdout",
     "output_type": "stream",
     "text": [
      "No V-motifs will be validated. Try increasing alpha\n",
      "2018 Utilities SDG 5: Gender Equality\r"
     ]
    },
    {
     "name": "stderr",
     "output_type": "stream",
     "text": [
      "\n",
      "\n",
      "  0%|                                                                                                                                 | 0/75 [00:00<?, ?it/s]\u001b[A\n",
      "100%|███████████████████████████████████████████████████████████████████████████████████████████████████████████████████████| 75/75 [00:00<00:00, 484.53it/s]\u001b[A\n"
     ]
    },
    {
     "name": "stdout",
     "output_type": "stream",
     "text": [
      "No V-motifs will be validated. Try increasing alpha\n"
     ]
    },
    {
     "name": "stderr",
     "output_type": "stream",
     "text": [
      "\n",
      "100%|██████████████████████████████████████████████████████████████████████████████████████████████████████████████████████████| 4/4 [00:00<00:00, 49.06it/s]\u001b[A"
     ]
    },
    {
     "name": "stdout",
     "output_type": "stream",
     "text": [
      "No V-motifs will be validated. Try increasing alpha\n",
      "2018 Utilities SDG 6: Clean Water and Sanitation\r"
     ]
    },
    {
     "name": "stderr",
     "output_type": "stream",
     "text": [
      "\n",
      "\n",
      "  0%|                                                                                                                                 | 0/75 [00:00<?, ?it/s]\u001b[A\n",
      "100%|███████████████████████████████████████████████████████████████████████████████████████████████████████████████████████| 75/75 [00:00<00:00, 425.52it/s]\u001b[A\n"
     ]
    },
    {
     "name": "stdout",
     "output_type": "stream",
     "text": [
      "No V-motifs will be validated. Try increasing alpha\n"
     ]
    },
    {
     "name": "stderr",
     "output_type": "stream",
     "text": [
      "\n",
      "100%|██████████████████████████████████████████████████████████████████████████████████████████████████████████████████████████| 4/4 [00:00<00:00, 51.29it/s]\u001b[A"
     ]
    },
    {
     "name": "stdout",
     "output_type": "stream",
     "text": [
      "No V-motifs will be validated. Try increasing alpha\n",
      "2018 Utilities SDG 7: Affordable and Clean Energy\r"
     ]
    },
    {
     "name": "stderr",
     "output_type": "stream",
     "text": [
      "\n",
      "\n",
      "  0%|                                                                                                                                 | 0/75 [00:00<?, ?it/s]\u001b[A\n",
      "100%|███████████████████████████████████████████████████████████████████████████████████████████████████████████████████████| 75/75 [00:00<00:00, 464.50it/s]\u001b[A\n"
     ]
    },
    {
     "name": "stdout",
     "output_type": "stream",
     "text": [
      "No V-motifs will be validated. Try increasing alpha\n"
     ]
    },
    {
     "name": "stderr",
     "output_type": "stream",
     "text": [
      "\n",
      "100%|██████████████████████████████████████████████████████████████████████████████████████████████████████████████████████████| 4/4 [00:00<00:00, 64.88it/s]\u001b[A"
     ]
    },
    {
     "name": "stdout",
     "output_type": "stream",
     "text": [
      "No V-motifs will be validated. Try increasing alpha\n",
      "2018 Utilities SDG 8: Decent Work and Economic Growth\r"
     ]
    },
    {
     "name": "stderr",
     "output_type": "stream",
     "text": [
      "\n",
      "\n",
      "  0%|                                                                                                                                 | 0/75 [00:00<?, ?it/s]\u001b[A\n",
      "100%|███████████████████████████████████████████████████████████████████████████████████████████████████████████████████████| 75/75 [00:00<00:00, 436.90it/s]\u001b[A\n"
     ]
    },
    {
     "name": "stdout",
     "output_type": "stream",
     "text": [
      "No V-motifs will be validated. Try increasing alpha\n"
     ]
    },
    {
     "name": "stderr",
     "output_type": "stream",
     "text": [
      "\n",
      "100%|██████████████████████████████████████████████████████████████████████████████████████████████████████████████████████████| 4/4 [00:00<00:00, 50.31it/s]\u001b[A"
     ]
    },
    {
     "name": "stdout",
     "output_type": "stream",
     "text": [
      "No V-motifs will be validated. Try increasing alpha\n",
      "2018 Utilities SDG 9: Industry, Innovation, and Infrastructure\r"
     ]
    },
    {
     "name": "stderr",
     "output_type": "stream",
     "text": [
      "\n",
      "\n",
      "  0%|                                                                                                                                 | 0/75 [00:00<?, ?it/s]\u001b[A\n",
      "100%|███████████████████████████████████████████████████████████████████████████████████████████████████████████████████████| 75/75 [00:00<00:00, 469.66it/s]\u001b[A\n"
     ]
    },
    {
     "name": "stdout",
     "output_type": "stream",
     "text": [
      "No V-motifs will be validated. Try increasing alpha\n"
     ]
    },
    {
     "name": "stderr",
     "output_type": "stream",
     "text": [
      "\n",
      "100%|██████████████████████████████████████████████████████████████████████████████████████████████████████████████████████████| 4/4 [00:00<00:00, 57.42it/s]\u001b[A"
     ]
    },
    {
     "name": "stdout",
     "output_type": "stream",
     "text": [
      "No V-motifs will be validated. Try increasing alpha\n",
      "2018 Utilities SDG 10: Reduced Inequality\r"
     ]
    },
    {
     "name": "stderr",
     "output_type": "stream",
     "text": [
      "\n",
      "\n",
      "  0%|                                                                                                                                 | 0/75 [00:00<?, ?it/s]\u001b[A\n",
      "100%|███████████████████████████████████████████████████████████████████████████████████████████████████████████████████████| 75/75 [00:00<00:00, 405.50it/s]\u001b[A\n"
     ]
    },
    {
     "name": "stdout",
     "output_type": "stream",
     "text": [
      "No V-motifs will be validated. Try increasing alpha\n"
     ]
    },
    {
     "name": "stderr",
     "output_type": "stream",
     "text": [
      "\n",
      "100%|██████████████████████████████████████████████████████████████████████████████████████████████████████████████████████████| 4/4 [00:00<00:00, 64.24it/s]\u001b[A"
     ]
    },
    {
     "name": "stdout",
     "output_type": "stream",
     "text": [
      "No V-motifs will be validated. Try increasing alpha\n",
      "2018 Utilities SDG 11: Sustainable Cities and Communities\r"
     ]
    },
    {
     "name": "stderr",
     "output_type": "stream",
     "text": [
      "\n",
      "\n",
      "  0%|                                                                                                                                 | 0/75 [00:00<?, ?it/s]\u001b[A\n",
      "100%|███████████████████████████████████████████████████████████████████████████████████████████████████████████████████████| 75/75 [00:00<00:00, 419.98it/s]\u001b[A\n"
     ]
    },
    {
     "name": "stdout",
     "output_type": "stream",
     "text": [
      "No V-motifs will be validated. Try increasing alpha\n"
     ]
    },
    {
     "name": "stderr",
     "output_type": "stream",
     "text": [
      "\n",
      "100%|██████████████████████████████████████████████████████████████████████████████████████████████████████████████████████████| 4/4 [00:00<00:00, 59.57it/s]\u001b[A"
     ]
    },
    {
     "name": "stdout",
     "output_type": "stream",
     "text": [
      "No V-motifs will be validated. Try increasing alpha\n",
      "2018 Utilities SDG 12: Responsible Consumption and Production\r"
     ]
    },
    {
     "name": "stderr",
     "output_type": "stream",
     "text": [
      "\n",
      "\n",
      "  0%|                                                                                                                                 | 0/75 [00:00<?, ?it/s]\u001b[A\n",
      "100%|███████████████████████████████████████████████████████████████████████████████████████████████████████████████████████| 75/75 [00:00<00:00, 403.88it/s]\u001b[A\n"
     ]
    },
    {
     "name": "stdout",
     "output_type": "stream",
     "text": [
      "No V-motifs will be validated. Try increasing alpha\n"
     ]
    },
    {
     "name": "stderr",
     "output_type": "stream",
     "text": [
      "\n",
      "100%|██████████████████████████████████████████████████████████████████████████████████████████████████████████████████████████| 4/4 [00:00<00:00, 48.20it/s]\u001b[A"
     ]
    },
    {
     "name": "stdout",
     "output_type": "stream",
     "text": [
      "No V-motifs will be validated. Try increasing alpha\n",
      "2018 Utilities SDG 13: Climate Action\r"
     ]
    },
    {
     "name": "stderr",
     "output_type": "stream",
     "text": [
      "\n",
      "\n",
      "  0%|                                                                                                                                 | 0/75 [00:00<?, ?it/s]\u001b[A\n",
      "100%|███████████████████████████████████████████████████████████████████████████████████████████████████████████████████████| 75/75 [00:00<00:00, 395.02it/s]\u001b[A\n"
     ]
    },
    {
     "name": "stdout",
     "output_type": "stream",
     "text": [
      "No V-motifs will be validated. Try increasing alpha\n"
     ]
    },
    {
     "name": "stderr",
     "output_type": "stream",
     "text": [
      "\n",
      "100%|██████████████████████████████████████████████████████████████████████████████████████████████████████████████████████████| 4/4 [00:00<00:00, 52.00it/s]\u001b[A"
     ]
    },
    {
     "name": "stdout",
     "output_type": "stream",
     "text": [
      "No V-motifs will be validated. Try increasing alpha\n",
      "2018 Utilities SDG 14: Life Below Water\r"
     ]
    },
    {
     "name": "stderr",
     "output_type": "stream",
     "text": [
      "\n",
      "\n",
      "  0%|                                                                                                                                 | 0/75 [00:00<?, ?it/s]\u001b[A\n",
      "100%|███████████████████████████████████████████████████████████████████████████████████████████████████████████████████████| 75/75 [00:00<00:00, 461.43it/s]\u001b[A\n"
     ]
    },
    {
     "name": "stdout",
     "output_type": "stream",
     "text": [
      "No V-motifs will be validated. Try increasing alpha\n"
     ]
    },
    {
     "name": "stderr",
     "output_type": "stream",
     "text": [
      "\n",
      "100%|██████████████████████████████████████████████████████████████████████████████████████████████████████████████████████████| 4/4 [00:00<00:00, 51.21it/s]\u001b[A"
     ]
    },
    {
     "name": "stdout",
     "output_type": "stream",
     "text": [
      "No V-motifs will be validated. Try increasing alpha\n",
      "2018 Utilities SDG 15: Life on Land\r"
     ]
    },
    {
     "name": "stderr",
     "output_type": "stream",
     "text": [
      "\n",
      "\n",
      "  0%|                                                                                                                                 | 0/75 [00:00<?, ?it/s]\u001b[A\n",
      "100%|███████████████████████████████████████████████████████████████████████████████████████████████████████████████████████| 75/75 [00:00<00:00, 474.99it/s]\u001b[A\n"
     ]
    },
    {
     "name": "stdout",
     "output_type": "stream",
     "text": [
      "No V-motifs will be validated. Try increasing alpha\n"
     ]
    },
    {
     "name": "stderr",
     "output_type": "stream",
     "text": [
      "\n",
      "100%|██████████████████████████████████████████████████████████████████████████████████████████████████████████████████████████| 4/4 [00:00<00:00, 59.78it/s]\u001b[A"
     ]
    },
    {
     "name": "stdout",
     "output_type": "stream",
     "text": [
      "No V-motifs will be validated. Try increasing alpha\n",
      "2018 Utilities SDG 16: Peace, Justice, and Strong Institutions\r"
     ]
    },
    {
     "name": "stderr",
     "output_type": "stream",
     "text": [
      "\n",
      "\n",
      "  0%|                                                                                                                                 | 0/75 [00:00<?, ?it/s]\u001b[A\n",
      "100%|███████████████████████████████████████████████████████████████████████████████████████████████████████████████████████| 75/75 [00:00<00:00, 453.71it/s]\u001b[A\n"
     ]
    },
    {
     "name": "stdout",
     "output_type": "stream",
     "text": [
      "No V-motifs will be validated. Try increasing alpha\n"
     ]
    },
    {
     "name": "stderr",
     "output_type": "stream",
     "text": [
      "\n",
      "100%|██████████████████████████████████████████████████████████████████████████████████████████████████████████████████████████| 4/4 [00:00<00:00, 59.30it/s]\u001b[A"
     ]
    },
    {
     "name": "stdout",
     "output_type": "stream",
     "text": [
      "No V-motifs will be validated. Try increasing alpha\n",
      "2018 Utilities SDG 17: Partnerships for the Goals\r"
     ]
    },
    {
     "name": "stderr",
     "output_type": "stream",
     "text": [
      "\n",
      "\n",
      "  0%|                                                                                                                                 | 0/75 [00:00<?, ?it/s]\u001b[A\n",
      "100%|███████████████████████████████████████████████████████████████████████████████████████████████████████████████████████| 75/75 [00:00<00:00, 446.74it/s]\u001b[A\n"
     ]
    },
    {
     "name": "stdout",
     "output_type": "stream",
     "text": [
      "No V-motifs will be validated. Try increasing alpha\n"
     ]
    },
    {
     "name": "stderr",
     "output_type": "stream",
     "text": [
      "\n",
      "100%|██████████████████████████████████████████████████████████████████████████████████████████████████████████████████████████| 4/4 [00:00<00:00, 63.72it/s]\u001b[A"
     ]
    },
    {
     "name": "stdout",
     "output_type": "stream",
     "text": [
      "No V-motifs will be validated. Try increasing alpha\n",
      "\n",
      "                      WARNING: this system has at least a node that is disconnected or connected to all nodes\n",
      "                       of the opposite layer. This may cause some convergence issues.\n",
      "                      Please use the full mode providing a biadjacency matrix or an edgelist,\n",
      "                       or clean your data from these nodes. \n",
      "                      \n",
      "2019 Energy SDG 1: No Poverty\r"
     ]
    },
    {
     "name": "stderr",
     "output_type": "stream",
     "text": [
      "\n",
      "\n",
      "  0%|                                                                                                                                 | 0/65 [00:00<?, ?it/s]\u001b[A/home/sarawalk/sdgs_py38/lib/python3.8/site-packages/bicm/graph_classes.py:1113: RuntimeWarning: invalid value encountered in divide\n",
      "  probs = node_xy * neighbor_xy / ((1 + node_xy) * (1 + neighbor_xy))\n",
      "/home/sarawalk/sdgs_py38/lib/python3.8/site-packages/bicm/graph_classes.py:1113: RuntimeWarning: invalid value encountered in divide\n",
      "  probs = node_xy * neighbor_xy / ((1 + node_xy) * (1 + neighbor_xy))\n",
      "/home/sarawalk/sdgs_py38/lib/python3.8/site-packages/bicm/graph_classes.py:1113: RuntimeWarning: invalid value encountered in divide\n",
      "  probs = node_xy * neighbor_xy / ((1 + node_xy) * (1 + neighbor_xy))\n",
      "/home/sarawalk/sdgs_py38/lib/python3.8/site-packages/bicm/graph_classes.py:1113: RuntimeWarning: invalid value encountered in divide\n",
      "  probs = node_xy * neighbor_xy / ((1 + node_xy) * (1 + neighbor_xy))\n",
      "\n",
      "100%|███████████████████████████████████████████████████████████████████████████████████████████████████████████████████████| 65/65 [00:00<00:00, 532.38it/s]\u001b[A\n"
     ]
    },
    {
     "name": "stdout",
     "output_type": "stream",
     "text": [
      "No V-motifs will be validated. Try increasing alpha\n"
     ]
    },
    {
     "name": "stderr",
     "output_type": "stream",
     "text": [
      "\n",
      "  0%|                                                                                                                                  | 0/6 [00:00<?, ?it/s]\u001b[A/home/sarawalk/sdgs_py38/lib/python3.8/site-packages/bicm/graph_classes.py:1113: RuntimeWarning: invalid value encountered in divide\n",
      "  probs = node_xy * neighbor_xy / ((1 + node_xy) * (1 + neighbor_xy))\n",
      "/home/sarawalk/sdgs_py38/lib/python3.8/site-packages/bicm/graph_classes.py:1113: RuntimeWarning: invalid value encountered in divide\n",
      "  probs = node_xy * neighbor_xy / ((1 + node_xy) * (1 + neighbor_xy))\n",
      "/home/sarawalk/sdgs_py38/lib/python3.8/site-packages/bicm/graph_classes.py:1113: RuntimeWarning: invalid value encountered in divide\n",
      "  probs = node_xy * neighbor_xy / ((1 + node_xy) * (1 + neighbor_xy))\n",
      "/home/sarawalk/sdgs_py38/lib/python3.8/site-packages/bicm/graph_classes.py:1113: RuntimeWarning: invalid value encountered in divide\n",
      "  probs = node_xy * neighbor_xy / ((1 + node_xy) * (1 + neighbor_xy))\n",
      "100%|██████████████████████████████████████████████████████████████████████████████████████████████████████████████████████████| 6/6 [00:00<00:00, 63.08it/s]"
     ]
    },
    {
     "name": "stdout",
     "output_type": "stream",
     "text": [
      "No V-motifs will be validated. Try increasing alpha\n",
      "\n",
      "                      WARNING: this system has at least a node that is disconnected or connected to all nodes\n",
      "                       of the opposite layer. This may cause some convergence issues.\n",
      "                      Please use the full mode providing a biadjacency matrix or an edgelist,\n",
      "                       or clean your data from these nodes. \n",
      "                      \n",
      "2019 Energy SDG 2: Zero Hunger\r"
     ]
    },
    {
     "name": "stderr",
     "output_type": "stream",
     "text": [
      "\n",
      "\n",
      "  0%|                                                                                                                                 | 0/65 [00:00<?, ?it/s]\u001b[A/home/sarawalk/sdgs_py38/lib/python3.8/site-packages/bicm/graph_classes.py:1113: RuntimeWarning: invalid value encountered in divide\n",
      "  probs = node_xy * neighbor_xy / ((1 + node_xy) * (1 + neighbor_xy))\n",
      "/home/sarawalk/sdgs_py38/lib/python3.8/site-packages/bicm/graph_classes.py:1113: RuntimeWarning: invalid value encountered in divide\n",
      "  probs = node_xy * neighbor_xy / ((1 + node_xy) * (1 + neighbor_xy))\n",
      "/home/sarawalk/sdgs_py38/lib/python3.8/site-packages/bicm/graph_classes.py:1113: RuntimeWarning: invalid value encountered in divide\n",
      "  probs = node_xy * neighbor_xy / ((1 + node_xy) * (1 + neighbor_xy))\n",
      "/home/sarawalk/sdgs_py38/lib/python3.8/site-packages/bicm/graph_classes.py:1113: RuntimeWarning: invalid value encountered in divide\n",
      "  probs = node_xy * neighbor_xy / ((1 + node_xy) * (1 + neighbor_xy))\n",
      "\n",
      "100%|███████████████████████████████████████████████████████████████████████████████████████████████████████████████████████| 65/65 [00:00<00:00, 555.84it/s]\u001b[A\n"
     ]
    },
    {
     "name": "stdout",
     "output_type": "stream",
     "text": [
      "No V-motifs will be validated. Try increasing alpha\n"
     ]
    },
    {
     "name": "stderr",
     "output_type": "stream",
     "text": [
      "\n",
      "  0%|                                                                                                                                  | 0/6 [00:00<?, ?it/s]\u001b[A/home/sarawalk/sdgs_py38/lib/python3.8/site-packages/bicm/graph_classes.py:1113: RuntimeWarning: invalid value encountered in divide\n",
      "  probs = node_xy * neighbor_xy / ((1 + node_xy) * (1 + neighbor_xy))\n",
      "/home/sarawalk/sdgs_py38/lib/python3.8/site-packages/bicm/graph_classes.py:1113: RuntimeWarning: invalid value encountered in divide\n",
      "  probs = node_xy * neighbor_xy / ((1 + node_xy) * (1 + neighbor_xy))\n",
      "/home/sarawalk/sdgs_py38/lib/python3.8/site-packages/bicm/graph_classes.py:1113: RuntimeWarning: invalid value encountered in divide\n",
      "  probs = node_xy * neighbor_xy / ((1 + node_xy) * (1 + neighbor_xy))\n",
      "/home/sarawalk/sdgs_py38/lib/python3.8/site-packages/bicm/graph_classes.py:1113: RuntimeWarning: invalid value encountered in divide\n",
      "  probs = node_xy * neighbor_xy / ((1 + node_xy) * (1 + neighbor_xy))\n",
      "100%|██████████████████████████████████████████████████████████████████████████████████████████████████████████████████████████| 6/6 [00:00<00:00, 61.51it/s]"
     ]
    },
    {
     "name": "stdout",
     "output_type": "stream",
     "text": [
      "No V-motifs will be validated. Try increasing alpha\n",
      "\n",
      "                      WARNING: this system has at least a node that is disconnected or connected to all nodes\n",
      "                       of the opposite layer. This may cause some convergence issues.\n",
      "                      Please use the full mode providing a biadjacency matrix or an edgelist,\n",
      "                       or clean your data from these nodes. \n",
      "                      \n",
      "2019 Energy SDG 3: Good Health and Well-being\r"
     ]
    },
    {
     "name": "stderr",
     "output_type": "stream",
     "text": [
      "\n",
      "\n",
      "  0%|                                                                                                                                 | 0/65 [00:00<?, ?it/s]\u001b[A/home/sarawalk/sdgs_py38/lib/python3.8/site-packages/bicm/graph_classes.py:1113: RuntimeWarning: invalid value encountered in divide\n",
      "  probs = node_xy * neighbor_xy / ((1 + node_xy) * (1 + neighbor_xy))\n",
      "/home/sarawalk/sdgs_py38/lib/python3.8/site-packages/bicm/graph_classes.py:1113: RuntimeWarning: invalid value encountered in divide\n",
      "  probs = node_xy * neighbor_xy / ((1 + node_xy) * (1 + neighbor_xy))\n",
      "/home/sarawalk/sdgs_py38/lib/python3.8/site-packages/bicm/graph_classes.py:1113: RuntimeWarning: invalid value encountered in divide\n",
      "  probs = node_xy * neighbor_xy / ((1 + node_xy) * (1 + neighbor_xy))\n",
      "/home/sarawalk/sdgs_py38/lib/python3.8/site-packages/bicm/graph_classes.py:1113: RuntimeWarning: invalid value encountered in divide\n",
      "  probs = node_xy * neighbor_xy / ((1 + node_xy) * (1 + neighbor_xy))\n",
      "\n",
      "100%|███████████████████████████████████████████████████████████████████████████████████████████████████████████████████████| 65/65 [00:00<00:00, 488.52it/s]\u001b[A\n"
     ]
    },
    {
     "name": "stdout",
     "output_type": "stream",
     "text": [
      "No V-motifs will be validated. Try increasing alpha\n"
     ]
    },
    {
     "name": "stderr",
     "output_type": "stream",
     "text": [
      "\n",
      "  0%|                                                                                                                                  | 0/6 [00:00<?, ?it/s]\u001b[A/home/sarawalk/sdgs_py38/lib/python3.8/site-packages/bicm/graph_classes.py:1113: RuntimeWarning: invalid value encountered in divide\n",
      "  probs = node_xy * neighbor_xy / ((1 + node_xy) * (1 + neighbor_xy))\n",
      "/home/sarawalk/sdgs_py38/lib/python3.8/site-packages/bicm/graph_classes.py:1113: RuntimeWarning: invalid value encountered in divide\n",
      "  probs = node_xy * neighbor_xy / ((1 + node_xy) * (1 + neighbor_xy))\n",
      "/home/sarawalk/sdgs_py38/lib/python3.8/site-packages/bicm/graph_classes.py:1113: RuntimeWarning: invalid value encountered in divide\n",
      "  probs = node_xy * neighbor_xy / ((1 + node_xy) * (1 + neighbor_xy))\n",
      "/home/sarawalk/sdgs_py38/lib/python3.8/site-packages/bicm/graph_classes.py:1113: RuntimeWarning: invalid value encountered in divide\n",
      "  probs = node_xy * neighbor_xy / ((1 + node_xy) * (1 + neighbor_xy))\n",
      "100%|██████████████████████████████████████████████████████████████████████████████████████████████████████████████████████████| 6/6 [00:00<00:00, 61.32it/s]"
     ]
    },
    {
     "name": "stdout",
     "output_type": "stream",
     "text": [
      "No V-motifs will be validated. Try increasing alpha\n",
      "\n",
      "                      WARNING: this system has at least a node that is disconnected or connected to all nodes\n",
      "                       of the opposite layer. This may cause some convergence issues.\n",
      "                      Please use the full mode providing a biadjacency matrix or an edgelist,\n",
      "                       or clean your data from these nodes. \n",
      "                      \n",
      "2019 Energy SDG 4: Quality Education\r"
     ]
    },
    {
     "name": "stderr",
     "output_type": "stream",
     "text": [
      "\n",
      "\n",
      "  0%|                                                                                                                                 | 0/65 [00:00<?, ?it/s]\u001b[A/home/sarawalk/sdgs_py38/lib/python3.8/site-packages/bicm/graph_classes.py:1113: RuntimeWarning: invalid value encountered in divide\n",
      "  probs = node_xy * neighbor_xy / ((1 + node_xy) * (1 + neighbor_xy))\n",
      "/home/sarawalk/sdgs_py38/lib/python3.8/site-packages/bicm/graph_classes.py:1113: RuntimeWarning: invalid value encountered in divide\n",
      "  probs = node_xy * neighbor_xy / ((1 + node_xy) * (1 + neighbor_xy))\n",
      "/home/sarawalk/sdgs_py38/lib/python3.8/site-packages/bicm/graph_classes.py:1113: RuntimeWarning: invalid value encountered in divide\n",
      "  probs = node_xy * neighbor_xy / ((1 + node_xy) * (1 + neighbor_xy))\n",
      "/home/sarawalk/sdgs_py38/lib/python3.8/site-packages/bicm/graph_classes.py:1113: RuntimeWarning: invalid value encountered in divide\n",
      "  probs = node_xy * neighbor_xy / ((1 + node_xy) * (1 + neighbor_xy))\n",
      "\n",
      "100%|███████████████████████████████████████████████████████████████████████████████████████████████████████████████████████| 65/65 [00:00<00:00, 529.02it/s]\u001b[A\n"
     ]
    },
    {
     "name": "stdout",
     "output_type": "stream",
     "text": [
      "No V-motifs will be validated. Try increasing alpha\n"
     ]
    },
    {
     "name": "stderr",
     "output_type": "stream",
     "text": [
      "\n",
      "  0%|                                                                                                                                  | 0/6 [00:00<?, ?it/s]\u001b[A/home/sarawalk/sdgs_py38/lib/python3.8/site-packages/bicm/graph_classes.py:1113: RuntimeWarning: invalid value encountered in divide\n",
      "  probs = node_xy * neighbor_xy / ((1 + node_xy) * (1 + neighbor_xy))\n",
      "/home/sarawalk/sdgs_py38/lib/python3.8/site-packages/bicm/graph_classes.py:1113: RuntimeWarning: invalid value encountered in divide\n",
      "  probs = node_xy * neighbor_xy / ((1 + node_xy) * (1 + neighbor_xy))\n",
      "/home/sarawalk/sdgs_py38/lib/python3.8/site-packages/bicm/graph_classes.py:1113: RuntimeWarning: invalid value encountered in divide\n",
      "  probs = node_xy * neighbor_xy / ((1 + node_xy) * (1 + neighbor_xy))\n",
      "/home/sarawalk/sdgs_py38/lib/python3.8/site-packages/bicm/graph_classes.py:1113: RuntimeWarning: invalid value encountered in divide\n",
      "  probs = node_xy * neighbor_xy / ((1 + node_xy) * (1 + neighbor_xy))\n",
      "100%|██████████████████████████████████████████████████████████████████████████████████████████████████████████████████████████| 6/6 [00:00<00:00, 59.84it/s]"
     ]
    },
    {
     "name": "stdout",
     "output_type": "stream",
     "text": [
      "No V-motifs will be validated. Try increasing alpha\n",
      "\n",
      "                      WARNING: this system has at least a node that is disconnected or connected to all nodes\n",
      "                       of the opposite layer. This may cause some convergence issues.\n",
      "                      Please use the full mode providing a biadjacency matrix or an edgelist,\n",
      "                       or clean your data from these nodes. \n",
      "                      \n",
      "2019 Energy SDG 5: Gender Equality\r"
     ]
    },
    {
     "name": "stderr",
     "output_type": "stream",
     "text": [
      "\n",
      "\n",
      "  0%|                                                                                                                                 | 0/65 [00:00<?, ?it/s]\u001b[A/home/sarawalk/sdgs_py38/lib/python3.8/site-packages/bicm/graph_classes.py:1113: RuntimeWarning: invalid value encountered in divide\n",
      "  probs = node_xy * neighbor_xy / ((1 + node_xy) * (1 + neighbor_xy))\n",
      "/home/sarawalk/sdgs_py38/lib/python3.8/site-packages/bicm/graph_classes.py:1113: RuntimeWarning: invalid value encountered in divide\n",
      "  probs = node_xy * neighbor_xy / ((1 + node_xy) * (1 + neighbor_xy))\n",
      "/home/sarawalk/sdgs_py38/lib/python3.8/site-packages/bicm/graph_classes.py:1113: RuntimeWarning: invalid value encountered in divide\n",
      "  probs = node_xy * neighbor_xy / ((1 + node_xy) * (1 + neighbor_xy))\n",
      "/home/sarawalk/sdgs_py38/lib/python3.8/site-packages/bicm/graph_classes.py:1113: RuntimeWarning: invalid value encountered in divide\n",
      "  probs = node_xy * neighbor_xy / ((1 + node_xy) * (1 + neighbor_xy))\n",
      "\n",
      "100%|███████████████████████████████████████████████████████████████████████████████████████████████████████████████████████| 65/65 [00:00<00:00, 526.60it/s]\u001b[A\n"
     ]
    },
    {
     "name": "stdout",
     "output_type": "stream",
     "text": [
      "No V-motifs will be validated. Try increasing alpha\n"
     ]
    },
    {
     "name": "stderr",
     "output_type": "stream",
     "text": [
      "\n",
      "  0%|                                                                                                                                  | 0/6 [00:00<?, ?it/s]\u001b[A/home/sarawalk/sdgs_py38/lib/python3.8/site-packages/bicm/graph_classes.py:1113: RuntimeWarning: invalid value encountered in divide\n",
      "  probs = node_xy * neighbor_xy / ((1 + node_xy) * (1 + neighbor_xy))\n",
      "/home/sarawalk/sdgs_py38/lib/python3.8/site-packages/bicm/graph_classes.py:1113: RuntimeWarning: invalid value encountered in divide\n",
      "  probs = node_xy * neighbor_xy / ((1 + node_xy) * (1 + neighbor_xy))\n",
      "/home/sarawalk/sdgs_py38/lib/python3.8/site-packages/bicm/graph_classes.py:1113: RuntimeWarning: invalid value encountered in divide\n",
      "  probs = node_xy * neighbor_xy / ((1 + node_xy) * (1 + neighbor_xy))\n",
      "/home/sarawalk/sdgs_py38/lib/python3.8/site-packages/bicm/graph_classes.py:1113: RuntimeWarning: invalid value encountered in divide\n",
      "  probs = node_xy * neighbor_xy / ((1 + node_xy) * (1 + neighbor_xy))\n",
      "100%|██████████████████████████████████████████████████████████████████████████████████████████████████████████████████████████| 6/6 [00:00<00:00, 60.86it/s]"
     ]
    },
    {
     "name": "stdout",
     "output_type": "stream",
     "text": [
      "No V-motifs will be validated. Try increasing alpha\n",
      "\n",
      "                      WARNING: this system has at least a node that is disconnected or connected to all nodes\n",
      "                       of the opposite layer. This may cause some convergence issues.\n",
      "                      Please use the full mode providing a biadjacency matrix or an edgelist,\n",
      "                       or clean your data from these nodes. \n",
      "                      \n",
      "2019 Energy SDG 6: Clean Water and Sanitation\r"
     ]
    },
    {
     "name": "stderr",
     "output_type": "stream",
     "text": [
      "\n",
      "\n",
      "  0%|                                                                                                                                 | 0/65 [00:00<?, ?it/s]\u001b[A/home/sarawalk/sdgs_py38/lib/python3.8/site-packages/bicm/graph_classes.py:1113: RuntimeWarning: invalid value encountered in divide\n",
      "  probs = node_xy * neighbor_xy / ((1 + node_xy) * (1 + neighbor_xy))\n",
      "/home/sarawalk/sdgs_py38/lib/python3.8/site-packages/bicm/graph_classes.py:1113: RuntimeWarning: invalid value encountered in divide\n",
      "  probs = node_xy * neighbor_xy / ((1 + node_xy) * (1 + neighbor_xy))\n",
      "/home/sarawalk/sdgs_py38/lib/python3.8/site-packages/bicm/graph_classes.py:1113: RuntimeWarning: invalid value encountered in divide\n",
      "  probs = node_xy * neighbor_xy / ((1 + node_xy) * (1 + neighbor_xy))\n",
      "/home/sarawalk/sdgs_py38/lib/python3.8/site-packages/bicm/graph_classes.py:1113: RuntimeWarning: invalid value encountered in divide\n",
      "  probs = node_xy * neighbor_xy / ((1 + node_xy) * (1 + neighbor_xy))\n",
      "\n",
      "100%|███████████████████████████████████████████████████████████████████████████████████████████████████████████████████████| 65/65 [00:00<00:00, 508.69it/s]\u001b[A\n"
     ]
    },
    {
     "name": "stdout",
     "output_type": "stream",
     "text": [
      "No V-motifs will be validated. Try increasing alpha\n"
     ]
    },
    {
     "name": "stderr",
     "output_type": "stream",
     "text": [
      "\n",
      "  0%|                                                                                                                                  | 0/6 [00:00<?, ?it/s]\u001b[A/home/sarawalk/sdgs_py38/lib/python3.8/site-packages/bicm/graph_classes.py:1113: RuntimeWarning: invalid value encountered in divide\n",
      "  probs = node_xy * neighbor_xy / ((1 + node_xy) * (1 + neighbor_xy))\n",
      "/home/sarawalk/sdgs_py38/lib/python3.8/site-packages/bicm/graph_classes.py:1113: RuntimeWarning: invalid value encountered in divide\n",
      "  probs = node_xy * neighbor_xy / ((1 + node_xy) * (1 + neighbor_xy))\n",
      "/home/sarawalk/sdgs_py38/lib/python3.8/site-packages/bicm/graph_classes.py:1113: RuntimeWarning: invalid value encountered in divide\n",
      "  probs = node_xy * neighbor_xy / ((1 + node_xy) * (1 + neighbor_xy))\n",
      "/home/sarawalk/sdgs_py38/lib/python3.8/site-packages/bicm/graph_classes.py:1113: RuntimeWarning: invalid value encountered in divide\n",
      "  probs = node_xy * neighbor_xy / ((1 + node_xy) * (1 + neighbor_xy))\n",
      "\n",
      "100%|██████████████████████████████████████████████████████████████████████████████████████████████████████████████████████████| 6/6 [00:00<00:00, 55.45it/s]\u001b[A"
     ]
    },
    {
     "name": "stdout",
     "output_type": "stream",
     "text": [
      "No V-motifs will be validated. Try increasing alpha\n",
      "\n",
      "                      WARNING: this system has at least a node that is disconnected or connected to all nodes\n",
      "                       of the opposite layer. This may cause some convergence issues.\n",
      "                      Please use the full mode providing a biadjacency matrix or an edgelist,\n",
      "                       or clean your data from these nodes. \n",
      "                      \n",
      "2019 Energy SDG 7: Affordable and Clean Energy\r"
     ]
    },
    {
     "name": "stderr",
     "output_type": "stream",
     "text": [
      "\n",
      "\n",
      "  0%|                                                                                                                                 | 0/65 [00:00<?, ?it/s]\u001b[A/home/sarawalk/sdgs_py38/lib/python3.8/site-packages/bicm/graph_classes.py:1113: RuntimeWarning: invalid value encountered in divide\n",
      "  probs = node_xy * neighbor_xy / ((1 + node_xy) * (1 + neighbor_xy))\n",
      "/home/sarawalk/sdgs_py38/lib/python3.8/site-packages/bicm/graph_classes.py:1113: RuntimeWarning: invalid value encountered in divide\n",
      "  probs = node_xy * neighbor_xy / ((1 + node_xy) * (1 + neighbor_xy))\n",
      "/home/sarawalk/sdgs_py38/lib/python3.8/site-packages/bicm/graph_classes.py:1113: RuntimeWarning: invalid value encountered in divide\n",
      "  probs = node_xy * neighbor_xy / ((1 + node_xy) * (1 + neighbor_xy))\n",
      "/home/sarawalk/sdgs_py38/lib/python3.8/site-packages/bicm/graph_classes.py:1113: RuntimeWarning: invalid value encountered in divide\n",
      "  probs = node_xy * neighbor_xy / ((1 + node_xy) * (1 + neighbor_xy))\n",
      "\n",
      "100%|███████████████████████████████████████████████████████████████████████████████████████████████████████████████████████| 65/65 [00:00<00:00, 463.66it/s]\u001b[A\n"
     ]
    },
    {
     "name": "stdout",
     "output_type": "stream",
     "text": [
      "No V-motifs will be validated. Try increasing alpha\n"
     ]
    },
    {
     "name": "stderr",
     "output_type": "stream",
     "text": [
      "\n",
      "  0%|                                                                                                                                  | 0/6 [00:00<?, ?it/s]\u001b[A/home/sarawalk/sdgs_py38/lib/python3.8/site-packages/bicm/graph_classes.py:1113: RuntimeWarning: invalid value encountered in divide\n",
      "  probs = node_xy * neighbor_xy / ((1 + node_xy) * (1 + neighbor_xy))\n",
      "/home/sarawalk/sdgs_py38/lib/python3.8/site-packages/bicm/graph_classes.py:1113: RuntimeWarning: invalid value encountered in divide\n",
      "  probs = node_xy * neighbor_xy / ((1 + node_xy) * (1 + neighbor_xy))\n",
      "/home/sarawalk/sdgs_py38/lib/python3.8/site-packages/bicm/graph_classes.py:1113: RuntimeWarning: invalid value encountered in divide\n",
      "  probs = node_xy * neighbor_xy / ((1 + node_xy) * (1 + neighbor_xy))\n",
      "/home/sarawalk/sdgs_py38/lib/python3.8/site-packages/bicm/graph_classes.py:1113: RuntimeWarning: invalid value encountered in divide\n",
      "  probs = node_xy * neighbor_xy / ((1 + node_xy) * (1 + neighbor_xy))\n",
      "100%|██████████████████████████████████████████████████████████████████████████████████████████████████████████████████████████| 6/6 [00:00<00:00, 61.91it/s]"
     ]
    },
    {
     "name": "stdout",
     "output_type": "stream",
     "text": [
      "No V-motifs will be validated. Try increasing alpha\n",
      "\n",
      "                      WARNING: this system has at least a node that is disconnected or connected to all nodes\n",
      "                       of the opposite layer. This may cause some convergence issues.\n",
      "                      Please use the full mode providing a biadjacency matrix or an edgelist,\n",
      "                       or clean your data from these nodes. \n",
      "                      \n",
      "2019 Energy SDG 8: Decent Work and Economic Growth\r"
     ]
    },
    {
     "name": "stderr",
     "output_type": "stream",
     "text": [
      "\n",
      "\n",
      "  0%|                                                                                                                                 | 0/65 [00:00<?, ?it/s]\u001b[A/home/sarawalk/sdgs_py38/lib/python3.8/site-packages/bicm/graph_classes.py:1113: RuntimeWarning: invalid value encountered in divide\n",
      "  probs = node_xy * neighbor_xy / ((1 + node_xy) * (1 + neighbor_xy))\n",
      "/home/sarawalk/sdgs_py38/lib/python3.8/site-packages/bicm/graph_classes.py:1113: RuntimeWarning: invalid value encountered in divide\n",
      "  probs = node_xy * neighbor_xy / ((1 + node_xy) * (1 + neighbor_xy))\n",
      "/home/sarawalk/sdgs_py38/lib/python3.8/site-packages/bicm/graph_classes.py:1113: RuntimeWarning: invalid value encountered in divide\n",
      "  probs = node_xy * neighbor_xy / ((1 + node_xy) * (1 + neighbor_xy))\n",
      "/home/sarawalk/sdgs_py38/lib/python3.8/site-packages/bicm/graph_classes.py:1113: RuntimeWarning: invalid value encountered in divide\n",
      "  probs = node_xy * neighbor_xy / ((1 + node_xy) * (1 + neighbor_xy))\n",
      "\n",
      "100%|███████████████████████████████████████████████████████████████████████████████████████████████████████████████████████| 65/65 [00:00<00:00, 523.01it/s]\u001b[A\n"
     ]
    },
    {
     "name": "stdout",
     "output_type": "stream",
     "text": [
      "No V-motifs will be validated. Try increasing alpha\n"
     ]
    },
    {
     "name": "stderr",
     "output_type": "stream",
     "text": [
      "\n",
      "  0%|                                                                                                                                  | 0/6 [00:00<?, ?it/s]\u001b[A/home/sarawalk/sdgs_py38/lib/python3.8/site-packages/bicm/graph_classes.py:1113: RuntimeWarning: invalid value encountered in divide\n",
      "  probs = node_xy * neighbor_xy / ((1 + node_xy) * (1 + neighbor_xy))\n",
      "/home/sarawalk/sdgs_py38/lib/python3.8/site-packages/bicm/graph_classes.py:1113: RuntimeWarning: invalid value encountered in divide\n",
      "  probs = node_xy * neighbor_xy / ((1 + node_xy) * (1 + neighbor_xy))\n",
      "/home/sarawalk/sdgs_py38/lib/python3.8/site-packages/bicm/graph_classes.py:1113: RuntimeWarning: invalid value encountered in divide\n",
      "  probs = node_xy * neighbor_xy / ((1 + node_xy) * (1 + neighbor_xy))\n",
      "/home/sarawalk/sdgs_py38/lib/python3.8/site-packages/bicm/graph_classes.py:1113: RuntimeWarning: invalid value encountered in divide\n",
      "  probs = node_xy * neighbor_xy / ((1 + node_xy) * (1 + neighbor_xy))\n",
      "100%|██████████████████████████████████████████████████████████████████████████████████████████████████████████████████████████| 6/6 [00:00<00:00, 68.08it/s]"
     ]
    },
    {
     "name": "stdout",
     "output_type": "stream",
     "text": [
      "No V-motifs will be validated. Try increasing alpha\n",
      "\n",
      "                      WARNING: this system has at least a node that is disconnected or connected to all nodes\n",
      "                       of the opposite layer. This may cause some convergence issues.\n",
      "                      Please use the full mode providing a biadjacency matrix or an edgelist,\n",
      "                       or clean your data from these nodes. \n",
      "                      \n",
      "2019 Energy SDG 9: Industry, Innovation, and Infrastructure\r"
     ]
    },
    {
     "name": "stderr",
     "output_type": "stream",
     "text": [
      "\n",
      "\n",
      "  0%|                                                                                                                                 | 0/65 [00:00<?, ?it/s]\u001b[A/home/sarawalk/sdgs_py38/lib/python3.8/site-packages/bicm/graph_classes.py:1113: RuntimeWarning: invalid value encountered in divide\n",
      "  probs = node_xy * neighbor_xy / ((1 + node_xy) * (1 + neighbor_xy))\n",
      "/home/sarawalk/sdgs_py38/lib/python3.8/site-packages/bicm/graph_classes.py:1113: RuntimeWarning: invalid value encountered in divide\n",
      "  probs = node_xy * neighbor_xy / ((1 + node_xy) * (1 + neighbor_xy))\n",
      "/home/sarawalk/sdgs_py38/lib/python3.8/site-packages/bicm/graph_classes.py:1113: RuntimeWarning: invalid value encountered in divide\n",
      "  probs = node_xy * neighbor_xy / ((1 + node_xy) * (1 + neighbor_xy))\n",
      "/home/sarawalk/sdgs_py38/lib/python3.8/site-packages/bicm/graph_classes.py:1113: RuntimeWarning: invalid value encountered in divide\n",
      "  probs = node_xy * neighbor_xy / ((1 + node_xy) * (1 + neighbor_xy))\n",
      "\n",
      "100%|███████████████████████████████████████████████████████████████████████████████████████████████████████████████████████| 65/65 [00:00<00:00, 470.64it/s]\u001b[A\n"
     ]
    },
    {
     "name": "stdout",
     "output_type": "stream",
     "text": [
      "No V-motifs will be validated. Try increasing alpha\n"
     ]
    },
    {
     "name": "stderr",
     "output_type": "stream",
     "text": [
      "\n",
      "  0%|                                                                                                                                  | 0/6 [00:00<?, ?it/s]\u001b[A/home/sarawalk/sdgs_py38/lib/python3.8/site-packages/bicm/graph_classes.py:1113: RuntimeWarning: invalid value encountered in divide\n",
      "  probs = node_xy * neighbor_xy / ((1 + node_xy) * (1 + neighbor_xy))\n",
      "/home/sarawalk/sdgs_py38/lib/python3.8/site-packages/bicm/graph_classes.py:1113: RuntimeWarning: invalid value encountered in divide\n",
      "  probs = node_xy * neighbor_xy / ((1 + node_xy) * (1 + neighbor_xy))\n",
      "/home/sarawalk/sdgs_py38/lib/python3.8/site-packages/bicm/graph_classes.py:1113: RuntimeWarning: invalid value encountered in divide\n",
      "  probs = node_xy * neighbor_xy / ((1 + node_xy) * (1 + neighbor_xy))\n",
      "/home/sarawalk/sdgs_py38/lib/python3.8/site-packages/bicm/graph_classes.py:1113: RuntimeWarning: invalid value encountered in divide\n",
      "  probs = node_xy * neighbor_xy / ((1 + node_xy) * (1 + neighbor_xy))\n",
      "100%|██████████████████████████████████████████████████████████████████████████████████████████████████████████████████████████| 6/6 [00:00<00:00, 72.66it/s]"
     ]
    },
    {
     "name": "stdout",
     "output_type": "stream",
     "text": [
      "No V-motifs will be validated. Try increasing alpha\n",
      "\n",
      "                      WARNING: this system has at least a node that is disconnected or connected to all nodes\n",
      "                       of the opposite layer. This may cause some convergence issues.\n",
      "                      Please use the full mode providing a biadjacency matrix or an edgelist,\n",
      "                       or clean your data from these nodes. \n",
      "                      \n",
      "2019 Energy SDG 10: Reduced Inequality\r"
     ]
    },
    {
     "name": "stderr",
     "output_type": "stream",
     "text": [
      "\n",
      "\n",
      "  0%|                                                                                                                                 | 0/65 [00:00<?, ?it/s]\u001b[A/home/sarawalk/sdgs_py38/lib/python3.8/site-packages/bicm/graph_classes.py:1113: RuntimeWarning: invalid value encountered in divide\n",
      "  probs = node_xy * neighbor_xy / ((1 + node_xy) * (1 + neighbor_xy))\n",
      "/home/sarawalk/sdgs_py38/lib/python3.8/site-packages/bicm/graph_classes.py:1113: RuntimeWarning: invalid value encountered in divide\n",
      "  probs = node_xy * neighbor_xy / ((1 + node_xy) * (1 + neighbor_xy))\n",
      "/home/sarawalk/sdgs_py38/lib/python3.8/site-packages/bicm/graph_classes.py:1113: RuntimeWarning: invalid value encountered in divide\n",
      "  probs = node_xy * neighbor_xy / ((1 + node_xy) * (1 + neighbor_xy))\n",
      "/home/sarawalk/sdgs_py38/lib/python3.8/site-packages/bicm/graph_classes.py:1113: RuntimeWarning: invalid value encountered in divide\n",
      "  probs = node_xy * neighbor_xy / ((1 + node_xy) * (1 + neighbor_xy))\n",
      "\n",
      "100%|███████████████████████████████████████████████████████████████████████████████████████████████████████████████████████| 65/65 [00:00<00:00, 519.26it/s]\u001b[A\n"
     ]
    },
    {
     "name": "stdout",
     "output_type": "stream",
     "text": [
      "No V-motifs will be validated. Try increasing alpha\n"
     ]
    },
    {
     "name": "stderr",
     "output_type": "stream",
     "text": [
      "\n",
      "  0%|                                                                                                                                  | 0/6 [00:00<?, ?it/s]\u001b[A/home/sarawalk/sdgs_py38/lib/python3.8/site-packages/bicm/graph_classes.py:1113: RuntimeWarning: invalid value encountered in divide\n",
      "  probs = node_xy * neighbor_xy / ((1 + node_xy) * (1 + neighbor_xy))\n",
      "/home/sarawalk/sdgs_py38/lib/python3.8/site-packages/bicm/graph_classes.py:1113: RuntimeWarning: invalid value encountered in divide\n",
      "  probs = node_xy * neighbor_xy / ((1 + node_xy) * (1 + neighbor_xy))\n",
      "/home/sarawalk/sdgs_py38/lib/python3.8/site-packages/bicm/graph_classes.py:1113: RuntimeWarning: invalid value encountered in divide\n",
      "  probs = node_xy * neighbor_xy / ((1 + node_xy) * (1 + neighbor_xy))\n",
      "/home/sarawalk/sdgs_py38/lib/python3.8/site-packages/bicm/graph_classes.py:1113: RuntimeWarning: invalid value encountered in divide\n",
      "  probs = node_xy * neighbor_xy / ((1 + node_xy) * (1 + neighbor_xy))\n",
      "100%|██████████████████████████████████████████████████████████████████████████████████████████████████████████████████████████| 6/6 [00:00<00:00, 65.30it/s]"
     ]
    },
    {
     "name": "stdout",
     "output_type": "stream",
     "text": [
      "No V-motifs will be validated. Try increasing alpha\n",
      "\n",
      "                      WARNING: this system has at least a node that is disconnected or connected to all nodes\n",
      "                       of the opposite layer. This may cause some convergence issues.\n",
      "                      Please use the full mode providing a biadjacency matrix or an edgelist,\n",
      "                       or clean your data from these nodes. \n",
      "                      \n",
      "2019 Energy SDG 11: Sustainable Cities and Communities\r"
     ]
    },
    {
     "name": "stderr",
     "output_type": "stream",
     "text": [
      "\n",
      "\n",
      "  0%|                                                                                                                                 | 0/65 [00:00<?, ?it/s]\u001b[A/home/sarawalk/sdgs_py38/lib/python3.8/site-packages/bicm/graph_classes.py:1113: RuntimeWarning: invalid value encountered in divide\n",
      "  probs = node_xy * neighbor_xy / ((1 + node_xy) * (1 + neighbor_xy))\n",
      "/home/sarawalk/sdgs_py38/lib/python3.8/site-packages/bicm/graph_classes.py:1113: RuntimeWarning: invalid value encountered in divide\n",
      "  probs = node_xy * neighbor_xy / ((1 + node_xy) * (1 + neighbor_xy))\n",
      "/home/sarawalk/sdgs_py38/lib/python3.8/site-packages/bicm/graph_classes.py:1113: RuntimeWarning: invalid value encountered in divide\n",
      "  probs = node_xy * neighbor_xy / ((1 + node_xy) * (1 + neighbor_xy))\n",
      "/home/sarawalk/sdgs_py38/lib/python3.8/site-packages/bicm/graph_classes.py:1113: RuntimeWarning: invalid value encountered in divide\n",
      "  probs = node_xy * neighbor_xy / ((1 + node_xy) * (1 + neighbor_xy))\n",
      "\n",
      "100%|███████████████████████████████████████████████████████████████████████████████████████████████████████████████████████| 65/65 [00:00<00:00, 497.21it/s]\u001b[A\n"
     ]
    },
    {
     "name": "stdout",
     "output_type": "stream",
     "text": [
      "No V-motifs will be validated. Try increasing alpha\n"
     ]
    },
    {
     "name": "stderr",
     "output_type": "stream",
     "text": [
      "\n",
      "  0%|                                                                                                                                  | 0/6 [00:00<?, ?it/s]\u001b[A/home/sarawalk/sdgs_py38/lib/python3.8/site-packages/bicm/graph_classes.py:1113: RuntimeWarning: invalid value encountered in divide\n",
      "  probs = node_xy * neighbor_xy / ((1 + node_xy) * (1 + neighbor_xy))\n",
      "/home/sarawalk/sdgs_py38/lib/python3.8/site-packages/bicm/graph_classes.py:1113: RuntimeWarning: invalid value encountered in divide\n",
      "  probs = node_xy * neighbor_xy / ((1 + node_xy) * (1 + neighbor_xy))\n",
      "/home/sarawalk/sdgs_py38/lib/python3.8/site-packages/bicm/graph_classes.py:1113: RuntimeWarning: invalid value encountered in divide\n",
      "  probs = node_xy * neighbor_xy / ((1 + node_xy) * (1 + neighbor_xy))\n",
      "/home/sarawalk/sdgs_py38/lib/python3.8/site-packages/bicm/graph_classes.py:1113: RuntimeWarning: invalid value encountered in divide\n",
      "  probs = node_xy * neighbor_xy / ((1 + node_xy) * (1 + neighbor_xy))\n",
      "100%|██████████████████████████████████████████████████████████████████████████████████████████████████████████████████████████| 6/6 [00:00<00:00, 61.70it/s]"
     ]
    },
    {
     "name": "stdout",
     "output_type": "stream",
     "text": [
      "No V-motifs will be validated. Try increasing alpha\n",
      "\n",
      "                      WARNING: this system has at least a node that is disconnected or connected to all nodes\n",
      "                       of the opposite layer. This may cause some convergence issues.\n",
      "                      Please use the full mode providing a biadjacency matrix or an edgelist,\n",
      "                       or clean your data from these nodes. \n",
      "                      \n",
      "2019 Energy SDG 12: Responsible Consumption and Production\r"
     ]
    },
    {
     "name": "stderr",
     "output_type": "stream",
     "text": [
      "\n",
      "\n",
      "  0%|                                                                                                                                 | 0/65 [00:00<?, ?it/s]\u001b[A/home/sarawalk/sdgs_py38/lib/python3.8/site-packages/bicm/graph_classes.py:1113: RuntimeWarning: invalid value encountered in divide\n",
      "  probs = node_xy * neighbor_xy / ((1 + node_xy) * (1 + neighbor_xy))\n",
      "/home/sarawalk/sdgs_py38/lib/python3.8/site-packages/bicm/graph_classes.py:1113: RuntimeWarning: invalid value encountered in divide\n",
      "  probs = node_xy * neighbor_xy / ((1 + node_xy) * (1 + neighbor_xy))\n",
      "/home/sarawalk/sdgs_py38/lib/python3.8/site-packages/bicm/graph_classes.py:1113: RuntimeWarning: invalid value encountered in divide\n",
      "  probs = node_xy * neighbor_xy / ((1 + node_xy) * (1 + neighbor_xy))\n",
      "/home/sarawalk/sdgs_py38/lib/python3.8/site-packages/bicm/graph_classes.py:1113: RuntimeWarning: invalid value encountered in divide\n",
      "  probs = node_xy * neighbor_xy / ((1 + node_xy) * (1 + neighbor_xy))\n",
      "\n",
      "100%|███████████████████████████████████████████████████████████████████████████████████████████████████████████████████████| 65/65 [00:00<00:00, 507.28it/s]\u001b[A\n"
     ]
    },
    {
     "name": "stdout",
     "output_type": "stream",
     "text": [
      "No V-motifs will be validated. Try increasing alpha\n"
     ]
    },
    {
     "name": "stderr",
     "output_type": "stream",
     "text": [
      "\n",
      "  0%|                                                                                                                                  | 0/6 [00:00<?, ?it/s]\u001b[A/home/sarawalk/sdgs_py38/lib/python3.8/site-packages/bicm/graph_classes.py:1113: RuntimeWarning: invalid value encountered in divide\n",
      "  probs = node_xy * neighbor_xy / ((1 + node_xy) * (1 + neighbor_xy))\n",
      "/home/sarawalk/sdgs_py38/lib/python3.8/site-packages/bicm/graph_classes.py:1113: RuntimeWarning: invalid value encountered in divide\n",
      "  probs = node_xy * neighbor_xy / ((1 + node_xy) * (1 + neighbor_xy))\n",
      "/home/sarawalk/sdgs_py38/lib/python3.8/site-packages/bicm/graph_classes.py:1113: RuntimeWarning: invalid value encountered in divide\n",
      "  probs = node_xy * neighbor_xy / ((1 + node_xy) * (1 + neighbor_xy))\n",
      "/home/sarawalk/sdgs_py38/lib/python3.8/site-packages/bicm/graph_classes.py:1113: RuntimeWarning: invalid value encountered in divide\n",
      "  probs = node_xy * neighbor_xy / ((1 + node_xy) * (1 + neighbor_xy))\n",
      "100%|██████████████████████████████████████████████████████████████████████████████████████████████████████████████████████████| 6/6 [00:00<00:00, 59.41it/s]"
     ]
    },
    {
     "name": "stdout",
     "output_type": "stream",
     "text": [
      "No V-motifs will be validated. Try increasing alpha\n",
      "\n",
      "                      WARNING: this system has at least a node that is disconnected or connected to all nodes\n",
      "                       of the opposite layer. This may cause some convergence issues.\n",
      "                      Please use the full mode providing a biadjacency matrix or an edgelist,\n",
      "                       or clean your data from these nodes. \n",
      "                      \n",
      "2019 Energy SDG 13: Climate Action\r"
     ]
    },
    {
     "name": "stderr",
     "output_type": "stream",
     "text": [
      "\n",
      "\n",
      "  0%|                                                                                                                                 | 0/65 [00:00<?, ?it/s]\u001b[A/home/sarawalk/sdgs_py38/lib/python3.8/site-packages/bicm/graph_classes.py:1113: RuntimeWarning: invalid value encountered in divide\n",
      "  probs = node_xy * neighbor_xy / ((1 + node_xy) * (1 + neighbor_xy))\n",
      "/home/sarawalk/sdgs_py38/lib/python3.8/site-packages/bicm/graph_classes.py:1113: RuntimeWarning: invalid value encountered in divide\n",
      "  probs = node_xy * neighbor_xy / ((1 + node_xy) * (1 + neighbor_xy))\n",
      "/home/sarawalk/sdgs_py38/lib/python3.8/site-packages/bicm/graph_classes.py:1113: RuntimeWarning: invalid value encountered in divide\n",
      "  probs = node_xy * neighbor_xy / ((1 + node_xy) * (1 + neighbor_xy))\n",
      "/home/sarawalk/sdgs_py38/lib/python3.8/site-packages/bicm/graph_classes.py:1113: RuntimeWarning: invalid value encountered in divide\n",
      "  probs = node_xy * neighbor_xy / ((1 + node_xy) * (1 + neighbor_xy))\n",
      "\n",
      "100%|███████████████████████████████████████████████████████████████████████████████████████████████████████████████████████| 65/65 [00:00<00:00, 482.84it/s]\u001b[A\n"
     ]
    },
    {
     "name": "stdout",
     "output_type": "stream",
     "text": [
      "No V-motifs will be validated. Try increasing alpha\n"
     ]
    },
    {
     "name": "stderr",
     "output_type": "stream",
     "text": [
      "\n",
      "  0%|                                                                                                                                  | 0/6 [00:00<?, ?it/s]\u001b[A/home/sarawalk/sdgs_py38/lib/python3.8/site-packages/bicm/graph_classes.py:1113: RuntimeWarning: invalid value encountered in divide\n",
      "  probs = node_xy * neighbor_xy / ((1 + node_xy) * (1 + neighbor_xy))\n",
      "/home/sarawalk/sdgs_py38/lib/python3.8/site-packages/bicm/graph_classes.py:1113: RuntimeWarning: invalid value encountered in divide\n",
      "  probs = node_xy * neighbor_xy / ((1 + node_xy) * (1 + neighbor_xy))\n",
      "/home/sarawalk/sdgs_py38/lib/python3.8/site-packages/bicm/graph_classes.py:1113: RuntimeWarning: invalid value encountered in divide\n",
      "  probs = node_xy * neighbor_xy / ((1 + node_xy) * (1 + neighbor_xy))\n",
      "/home/sarawalk/sdgs_py38/lib/python3.8/site-packages/bicm/graph_classes.py:1113: RuntimeWarning: invalid value encountered in divide\n",
      "  probs = node_xy * neighbor_xy / ((1 + node_xy) * (1 + neighbor_xy))\n",
      "100%|██████████████████████████████████████████████████████████████████████████████████████████████████████████████████████████| 6/6 [00:00<00:00, 73.32it/s]"
     ]
    },
    {
     "name": "stdout",
     "output_type": "stream",
     "text": [
      "No V-motifs will be validated. Try increasing alpha\n",
      "\n",
      "                      WARNING: this system has at least a node that is disconnected or connected to all nodes\n",
      "                       of the opposite layer. This may cause some convergence issues.\n",
      "                      Please use the full mode providing a biadjacency matrix or an edgelist,\n",
      "                       or clean your data from these nodes. \n",
      "                      \n",
      "2019 Energy SDG 14: Life Below Water\r"
     ]
    },
    {
     "name": "stderr",
     "output_type": "stream",
     "text": [
      "\n",
      "\n",
      "  0%|                                                                                                                                 | 0/65 [00:00<?, ?it/s]\u001b[A/home/sarawalk/sdgs_py38/lib/python3.8/site-packages/bicm/graph_classes.py:1113: RuntimeWarning: invalid value encountered in divide\n",
      "  probs = node_xy * neighbor_xy / ((1 + node_xy) * (1 + neighbor_xy))\n",
      "/home/sarawalk/sdgs_py38/lib/python3.8/site-packages/bicm/graph_classes.py:1113: RuntimeWarning: invalid value encountered in divide\n",
      "  probs = node_xy * neighbor_xy / ((1 + node_xy) * (1 + neighbor_xy))\n",
      "/home/sarawalk/sdgs_py38/lib/python3.8/site-packages/bicm/graph_classes.py:1113: RuntimeWarning: invalid value encountered in divide\n",
      "  probs = node_xy * neighbor_xy / ((1 + node_xy) * (1 + neighbor_xy))\n",
      "/home/sarawalk/sdgs_py38/lib/python3.8/site-packages/bicm/graph_classes.py:1113: RuntimeWarning: invalid value encountered in divide\n",
      "  probs = node_xy * neighbor_xy / ((1 + node_xy) * (1 + neighbor_xy))\n",
      "\n",
      "100%|███████████████████████████████████████████████████████████████████████████████████████████████████████████████████████| 65/65 [00:00<00:00, 441.64it/s]\u001b[A\n"
     ]
    },
    {
     "name": "stdout",
     "output_type": "stream",
     "text": [
      "No V-motifs will be validated. Try increasing alpha\n"
     ]
    },
    {
     "name": "stderr",
     "output_type": "stream",
     "text": [
      "\n",
      "  0%|                                                                                                                                  | 0/6 [00:00<?, ?it/s]\u001b[A/home/sarawalk/sdgs_py38/lib/python3.8/site-packages/bicm/graph_classes.py:1113: RuntimeWarning: invalid value encountered in divide\n",
      "  probs = node_xy * neighbor_xy / ((1 + node_xy) * (1 + neighbor_xy))\n",
      "/home/sarawalk/sdgs_py38/lib/python3.8/site-packages/bicm/graph_classes.py:1113: RuntimeWarning: invalid value encountered in divide\n",
      "  probs = node_xy * neighbor_xy / ((1 + node_xy) * (1 + neighbor_xy))\n",
      "100%|██████████████████████████████████████████████████████████████████████████████████████████████████████████████████████████| 6/6 [00:00<00:00, 72.34it/s]/home/sarawalk/sdgs_py38/lib/python3.8/site-packages/bicm/graph_classes.py:1113: RuntimeWarning: invalid value encountered in divide\n",
      "  probs = node_xy * neighbor_xy / ((1 + node_xy) * (1 + neighbor_xy))\n",
      "/home/sarawalk/sdgs_py38/lib/python3.8/site-packages/bicm/graph_classes.py:1113: RuntimeWarning: invalid value encountered in divide\n",
      "  probs = node_xy * neighbor_xy / ((1 + node_xy) * (1 + neighbor_xy))\n"
     ]
    },
    {
     "name": "stdout",
     "output_type": "stream",
     "text": [
      "No V-motifs will be validated. Try increasing alpha\n",
      "\n",
      "                      WARNING: this system has at least a node that is disconnected or connected to all nodes\n",
      "                       of the opposite layer. This may cause some convergence issues.\n",
      "                      Please use the full mode providing a biadjacency matrix or an edgelist,\n",
      "                       or clean your data from these nodes. \n",
      "                      \n",
      "2019 Energy SDG 15: Life on Land\r"
     ]
    },
    {
     "name": "stderr",
     "output_type": "stream",
     "text": [
      "\n",
      "\n",
      "  0%|                                                                                                                                 | 0/65 [00:00<?, ?it/s]\u001b[A/home/sarawalk/sdgs_py38/lib/python3.8/site-packages/bicm/graph_classes.py:1113: RuntimeWarning: invalid value encountered in divide\n",
      "  probs = node_xy * neighbor_xy / ((1 + node_xy) * (1 + neighbor_xy))\n",
      "/home/sarawalk/sdgs_py38/lib/python3.8/site-packages/bicm/graph_classes.py:1113: RuntimeWarning: invalid value encountered in divide\n",
      "  probs = node_xy * neighbor_xy / ((1 + node_xy) * (1 + neighbor_xy))\n",
      "/home/sarawalk/sdgs_py38/lib/python3.8/site-packages/bicm/graph_classes.py:1113: RuntimeWarning: invalid value encountered in divide\n",
      "  probs = node_xy * neighbor_xy / ((1 + node_xy) * (1 + neighbor_xy))\n",
      "/home/sarawalk/sdgs_py38/lib/python3.8/site-packages/bicm/graph_classes.py:1113: RuntimeWarning: invalid value encountered in divide\n",
      "  probs = node_xy * neighbor_xy / ((1 + node_xy) * (1 + neighbor_xy))\n",
      "\n",
      "100%|███████████████████████████████████████████████████████████████████████████████████████████████████████████████████████| 65/65 [00:00<00:00, 548.52it/s]\u001b[A\n"
     ]
    },
    {
     "name": "stdout",
     "output_type": "stream",
     "text": [
      "No V-motifs will be validated. Try increasing alpha\n"
     ]
    },
    {
     "name": "stderr",
     "output_type": "stream",
     "text": [
      "\n",
      "  0%|                                                                                                                                  | 0/6 [00:00<?, ?it/s]\u001b[A/home/sarawalk/sdgs_py38/lib/python3.8/site-packages/bicm/graph_classes.py:1113: RuntimeWarning: invalid value encountered in divide\n",
      "  probs = node_xy * neighbor_xy / ((1 + node_xy) * (1 + neighbor_xy))\n",
      "/home/sarawalk/sdgs_py38/lib/python3.8/site-packages/bicm/graph_classes.py:1113: RuntimeWarning: invalid value encountered in divide\n",
      "  probs = node_xy * neighbor_xy / ((1 + node_xy) * (1 + neighbor_xy))\n",
      "/home/sarawalk/sdgs_py38/lib/python3.8/site-packages/bicm/graph_classes.py:1113: RuntimeWarning: invalid value encountered in divide\n",
      "  probs = node_xy * neighbor_xy / ((1 + node_xy) * (1 + neighbor_xy))\n",
      "/home/sarawalk/sdgs_py38/lib/python3.8/site-packages/bicm/graph_classes.py:1113: RuntimeWarning: invalid value encountered in divide\n",
      "  probs = node_xy * neighbor_xy / ((1 + node_xy) * (1 + neighbor_xy))\n",
      "100%|██████████████████████████████████████████████████████████████████████████████████████████████████████████████████████████| 6/6 [00:00<00:00, 67.17it/s]"
     ]
    },
    {
     "name": "stdout",
     "output_type": "stream",
     "text": [
      "No V-motifs will be validated. Try increasing alpha\n",
      "\n",
      "                      WARNING: this system has at least a node that is disconnected or connected to all nodes\n",
      "                       of the opposite layer. This may cause some convergence issues.\n",
      "                      Please use the full mode providing a biadjacency matrix or an edgelist,\n",
      "                       or clean your data from these nodes. \n",
      "                      \n",
      "2019 Energy SDG 16: Peace, Justice, and Strong Institutions\r"
     ]
    },
    {
     "name": "stderr",
     "output_type": "stream",
     "text": [
      "\n",
      "\n",
      "  0%|                                                                                                                                 | 0/65 [00:00<?, ?it/s]\u001b[A/home/sarawalk/sdgs_py38/lib/python3.8/site-packages/bicm/graph_classes.py:1113: RuntimeWarning: invalid value encountered in divide\n",
      "  probs = node_xy * neighbor_xy / ((1 + node_xy) * (1 + neighbor_xy))\n",
      "/home/sarawalk/sdgs_py38/lib/python3.8/site-packages/bicm/graph_classes.py:1113: RuntimeWarning: invalid value encountered in divide\n",
      "  probs = node_xy * neighbor_xy / ((1 + node_xy) * (1 + neighbor_xy))\n",
      "/home/sarawalk/sdgs_py38/lib/python3.8/site-packages/bicm/graph_classes.py:1113: RuntimeWarning: invalid value encountered in divide\n",
      "  probs = node_xy * neighbor_xy / ((1 + node_xy) * (1 + neighbor_xy))\n",
      "/home/sarawalk/sdgs_py38/lib/python3.8/site-packages/bicm/graph_classes.py:1113: RuntimeWarning: invalid value encountered in divide\n",
      "  probs = node_xy * neighbor_xy / ((1 + node_xy) * (1 + neighbor_xy))\n",
      "\n",
      "100%|███████████████████████████████████████████████████████████████████████████████████████████████████████████████████████| 65/65 [00:00<00:00, 426.16it/s]\u001b[A\n"
     ]
    },
    {
     "name": "stdout",
     "output_type": "stream",
     "text": [
      "No V-motifs will be validated. Try increasing alpha\n"
     ]
    },
    {
     "name": "stderr",
     "output_type": "stream",
     "text": [
      "\n",
      "  0%|                                                                                                                                  | 0/6 [00:00<?, ?it/s]\u001b[A/home/sarawalk/sdgs_py38/lib/python3.8/site-packages/bicm/graph_classes.py:1113: RuntimeWarning: invalid value encountered in divide\n",
      "  probs = node_xy * neighbor_xy / ((1 + node_xy) * (1 + neighbor_xy))\n",
      "/home/sarawalk/sdgs_py38/lib/python3.8/site-packages/bicm/graph_classes.py:1113: RuntimeWarning: invalid value encountered in divide\n",
      "  probs = node_xy * neighbor_xy / ((1 + node_xy) * (1 + neighbor_xy))\n",
      "/home/sarawalk/sdgs_py38/lib/python3.8/site-packages/bicm/graph_classes.py:1113: RuntimeWarning: invalid value encountered in divide\n",
      "  probs = node_xy * neighbor_xy / ((1 + node_xy) * (1 + neighbor_xy))\n",
      "/home/sarawalk/sdgs_py38/lib/python3.8/site-packages/bicm/graph_classes.py:1113: RuntimeWarning: invalid value encountered in divide\n",
      "  probs = node_xy * neighbor_xy / ((1 + node_xy) * (1 + neighbor_xy))\n",
      "100%|██████████████████████████████████████████████████████████████████████████████████████████████████████████████████████████| 6/6 [00:00<00:00, 59.84it/s]"
     ]
    },
    {
     "name": "stdout",
     "output_type": "stream",
     "text": [
      "No V-motifs will be validated. Try increasing alpha\n",
      "\n",
      "                      WARNING: this system has at least a node that is disconnected or connected to all nodes\n",
      "                       of the opposite layer. This may cause some convergence issues.\n",
      "                      Please use the full mode providing a biadjacency matrix or an edgelist,\n",
      "                       or clean your data from these nodes. \n",
      "                      \n",
      "2019 Energy SDG 17: Partnerships for the Goals\r"
     ]
    },
    {
     "name": "stderr",
     "output_type": "stream",
     "text": [
      "\n",
      "\n",
      "  0%|                                                                                                                                 | 0/65 [00:00<?, ?it/s]\u001b[A/home/sarawalk/sdgs_py38/lib/python3.8/site-packages/bicm/graph_classes.py:1113: RuntimeWarning: invalid value encountered in divide\n",
      "  probs = node_xy * neighbor_xy / ((1 + node_xy) * (1 + neighbor_xy))\n",
      "/home/sarawalk/sdgs_py38/lib/python3.8/site-packages/bicm/graph_classes.py:1113: RuntimeWarning: invalid value encountered in divide\n",
      "  probs = node_xy * neighbor_xy / ((1 + node_xy) * (1 + neighbor_xy))\n",
      "/home/sarawalk/sdgs_py38/lib/python3.8/site-packages/bicm/graph_classes.py:1113: RuntimeWarning: invalid value encountered in divide\n",
      "  probs = node_xy * neighbor_xy / ((1 + node_xy) * (1 + neighbor_xy))\n",
      "/home/sarawalk/sdgs_py38/lib/python3.8/site-packages/bicm/graph_classes.py:1113: RuntimeWarning: invalid value encountered in divide\n",
      "  probs = node_xy * neighbor_xy / ((1 + node_xy) * (1 + neighbor_xy))\n",
      "\n",
      "100%|███████████████████████████████████████████████████████████████████████████████████████████████████████████████████████| 65/65 [00:00<00:00, 524.69it/s]\u001b[A\n"
     ]
    },
    {
     "name": "stdout",
     "output_type": "stream",
     "text": [
      "No V-motifs will be validated. Try increasing alpha\n"
     ]
    },
    {
     "name": "stderr",
     "output_type": "stream",
     "text": [
      "\n",
      "  0%|                                                                                                                                  | 0/6 [00:00<?, ?it/s]\u001b[A/home/sarawalk/sdgs_py38/lib/python3.8/site-packages/bicm/graph_classes.py:1113: RuntimeWarning: invalid value encountered in divide\n",
      "  probs = node_xy * neighbor_xy / ((1 + node_xy) * (1 + neighbor_xy))\n",
      "/home/sarawalk/sdgs_py38/lib/python3.8/site-packages/bicm/graph_classes.py:1113: RuntimeWarning: invalid value encountered in divide\n",
      "  probs = node_xy * neighbor_xy / ((1 + node_xy) * (1 + neighbor_xy))\n",
      "/home/sarawalk/sdgs_py38/lib/python3.8/site-packages/bicm/graph_classes.py:1113: RuntimeWarning: invalid value encountered in divide\n",
      "  probs = node_xy * neighbor_xy / ((1 + node_xy) * (1 + neighbor_xy))\n",
      "/home/sarawalk/sdgs_py38/lib/python3.8/site-packages/bicm/graph_classes.py:1113: RuntimeWarning: invalid value encountered in divide\n",
      "  probs = node_xy * neighbor_xy / ((1 + node_xy) * (1 + neighbor_xy))\n",
      "100%|██████████████████████████████████████████████████████████████████████████████████████████████████████████████████████████| 6/6 [00:00<00:00, 62.23it/s]"
     ]
    },
    {
     "name": "stdout",
     "output_type": "stream",
     "text": [
      "No V-motifs will be validated. Try increasing alpha\n",
      "2019 Utilities SDG 1: No Poverty\r"
     ]
    },
    {
     "name": "stderr",
     "output_type": "stream",
     "text": [
      "\n",
      "\n",
      "  0%|                                                                                                                                 | 0/72 [00:00<?, ?it/s]\u001b[A\n",
      "100%|███████████████████████████████████████████████████████████████████████████████████████████████████████████████████████| 72/72 [00:00<00:00, 615.35it/s]\u001b[A\n"
     ]
    },
    {
     "name": "stdout",
     "output_type": "stream",
     "text": [
      "No V-motifs will be validated. Try increasing alpha\n"
     ]
    },
    {
     "name": "stderr",
     "output_type": "stream",
     "text": [
      "\n",
      "100%|██████████████████████████████████████████████████████████████████████████████████████████████████████████████████████████| 4/4 [00:00<00:00, 71.71it/s]\u001b[A"
     ]
    },
    {
     "name": "stdout",
     "output_type": "stream",
     "text": [
      "No V-motifs will be validated. Try increasing alpha\n",
      "2019 Utilities SDG 3: Good Health and Well-being\r"
     ]
    },
    {
     "name": "stderr",
     "output_type": "stream",
     "text": [
      "\n",
      "\n",
      "  0%|                                                                                                                                 | 0/72 [00:00<?, ?it/s]\u001b[A\n",
      "100%|███████████████████████████████████████████████████████████████████████████████████████████████████████████████████████| 72/72 [00:00<00:00, 614.58it/s]\u001b[A\n"
     ]
    },
    {
     "name": "stdout",
     "output_type": "stream",
     "text": [
      "No V-motifs will be validated. Try increasing alpha\n"
     ]
    },
    {
     "name": "stderr",
     "output_type": "stream",
     "text": [
      "\n",
      "100%|██████████████████████████████████████████████████████████████████████████████████████████████████████████████████████████| 4/4 [00:00<00:00, 64.16it/s]\u001b[A"
     ]
    },
    {
     "name": "stdout",
     "output_type": "stream",
     "text": [
      "No V-motifs will be validated. Try increasing alpha\n",
      "2019 Utilities SDG 4: Quality Education\r"
     ]
    },
    {
     "name": "stderr",
     "output_type": "stream",
     "text": [
      "\n",
      "\n",
      "  0%|                                                                                                                                 | 0/72 [00:00<?, ?it/s]\u001b[A\n",
      "100%|███████████████████████████████████████████████████████████████████████████████████████████████████████████████████████| 72/72 [00:00<00:00, 493.42it/s]\u001b[A\n"
     ]
    },
    {
     "name": "stdout",
     "output_type": "stream",
     "text": [
      "No V-motifs will be validated. Try increasing alpha\n"
     ]
    },
    {
     "name": "stderr",
     "output_type": "stream",
     "text": [
      "\n",
      "100%|██████████████████████████████████████████████████████████████████████████████████████████████████████████████████████████| 4/4 [00:00<00:00, 51.79it/s]\u001b[A"
     ]
    },
    {
     "name": "stdout",
     "output_type": "stream",
     "text": [
      "No V-motifs will be validated. Try increasing alpha\n",
      "2019 Utilities SDG 5: Gender Equality\r"
     ]
    },
    {
     "name": "stderr",
     "output_type": "stream",
     "text": [
      "\n",
      "\n",
      "  0%|                                                                                                                                 | 0/72 [00:00<?, ?it/s]\u001b[A\n",
      "100%|███████████████████████████████████████████████████████████████████████████████████████████████████████████████████████| 72/72 [00:00<00:00, 594.88it/s]\u001b[A\n"
     ]
    },
    {
     "name": "stdout",
     "output_type": "stream",
     "text": [
      "No V-motifs will be validated. Try increasing alpha\n"
     ]
    },
    {
     "name": "stderr",
     "output_type": "stream",
     "text": [
      "\n",
      "100%|██████████████████████████████████████████████████████████████████████████████████████████████████████████████████████████| 4/4 [00:00<00:00, 65.11it/s]\u001b[A"
     ]
    },
    {
     "name": "stdout",
     "output_type": "stream",
     "text": [
      "No V-motifs will be validated. Try increasing alpha\n",
      "2019 Utilities SDG 6: Clean Water and Sanitation\r"
     ]
    },
    {
     "name": "stderr",
     "output_type": "stream",
     "text": [
      "\n",
      "\n",
      "  0%|                                                                                                                                 | 0/72 [00:00<?, ?it/s]\u001b[A\n",
      "100%|███████████████████████████████████████████████████████████████████████████████████████████████████████████████████████| 72/72 [00:00<00:00, 510.80it/s]\u001b[A\n"
     ]
    },
    {
     "name": "stdout",
     "output_type": "stream",
     "text": [
      "No V-motifs will be validated. Try increasing alpha\n"
     ]
    },
    {
     "name": "stderr",
     "output_type": "stream",
     "text": [
      "\n",
      "100%|██████████████████████████████████████████████████████████████████████████████████████████████████████████████████████████| 4/4 [00:00<00:00, 56.77it/s]\u001b[A"
     ]
    },
    {
     "name": "stdout",
     "output_type": "stream",
     "text": [
      "No V-motifs will be validated. Try increasing alpha\n",
      "2019 Utilities SDG 7: Affordable and Clean Energy\r"
     ]
    },
    {
     "name": "stderr",
     "output_type": "stream",
     "text": [
      "\n",
      "\n",
      "  0%|                                                                                                                                 | 0/72 [00:00<?, ?it/s]\u001b[A\n",
      "100%|███████████████████████████████████████████████████████████████████████████████████████████████████████████████████████| 72/72 [00:00<00:00, 577.80it/s]\u001b[A\n"
     ]
    },
    {
     "name": "stdout",
     "output_type": "stream",
     "text": [
      "No V-motifs will be validated. Try increasing alpha\n"
     ]
    },
    {
     "name": "stderr",
     "output_type": "stream",
     "text": [
      "\n",
      "100%|██████████████████████████████████████████████████████████████████████████████████████████████████████████████████████████| 4/4 [00:00<00:00, 46.63it/s]\u001b[A"
     ]
    },
    {
     "name": "stdout",
     "output_type": "stream",
     "text": [
      "No V-motifs will be validated. Try increasing alpha\n",
      "2019 Utilities SDG 8: Decent Work and Economic Growth\r"
     ]
    },
    {
     "name": "stderr",
     "output_type": "stream",
     "text": [
      "\n",
      "\n",
      "  0%|                                                                                                                                 | 0/72 [00:00<?, ?it/s]\u001b[A\n",
      "100%|███████████████████████████████████████████████████████████████████████████████████████████████████████████████████████| 72/72 [00:00<00:00, 550.05it/s]\u001b[A\n"
     ]
    },
    {
     "name": "stdout",
     "output_type": "stream",
     "text": [
      "No V-motifs will be validated. Try increasing alpha\n"
     ]
    },
    {
     "name": "stderr",
     "output_type": "stream",
     "text": [
      "\n",
      "100%|██████████████████████████████████████████████████████████████████████████████████████████████████████████████████████████| 4/4 [00:00<00:00, 65.72it/s]\u001b[A"
     ]
    },
    {
     "name": "stdout",
     "output_type": "stream",
     "text": [
      "No V-motifs will be validated. Try increasing alpha\n",
      "2019 Utilities SDG 9: Industry, Innovation, and Infrastructure\r"
     ]
    },
    {
     "name": "stderr",
     "output_type": "stream",
     "text": [
      "\n",
      "\n",
      "  0%|                                                                                                                                 | 0/72 [00:00<?, ?it/s]\u001b[A\n",
      "100%|███████████████████████████████████████████████████████████████████████████████████████████████████████████████████████| 72/72 [00:00<00:00, 650.70it/s]\u001b[A\n"
     ]
    },
    {
     "name": "stdout",
     "output_type": "stream",
     "text": [
      "No V-motifs will be validated. Try increasing alpha\n"
     ]
    },
    {
     "name": "stderr",
     "output_type": "stream",
     "text": [
      "\n",
      "100%|██████████████████████████████████████████████████████████████████████████████████████████████████████████████████████████| 4/4 [00:00<00:00, 72.41it/s]\u001b[A"
     ]
    },
    {
     "name": "stdout",
     "output_type": "stream",
     "text": [
      "No V-motifs will be validated. Try increasing alpha\n",
      "2019 Utilities SDG 10: Reduced Inequality\r"
     ]
    },
    {
     "name": "stderr",
     "output_type": "stream",
     "text": [
      "\n",
      "\n",
      "100%|███████████████████████████████████████████████████████████████████████████████████████████████████████████████████████| 72/72 [00:00<00:00, 797.97it/s]\u001b[A"
     ]
    },
    {
     "name": "stdout",
     "output_type": "stream",
     "text": [
      "No V-motifs will be validated. Try increasing alpha\n"
     ]
    },
    {
     "name": "stderr",
     "output_type": "stream",
     "text": [
      "\n",
      "\n",
      "100%|█████████████████████████████████████████████████████████████████████████████████████████████████████████████████████████| 4/4 [00:00<00:00, 108.09it/s]\u001b[A\n"
     ]
    },
    {
     "name": "stdout",
     "output_type": "stream",
     "text": [
      "No V-motifs will be validated. Try increasing alpha\n",
      "2019 Utilities SDG 11: Sustainable Cities and Communities\r"
     ]
    },
    {
     "name": "stderr",
     "output_type": "stream",
     "text": [
      "\n",
      "100%|███████████████████████████████████████████████████████████████████████████████████████████████████████████████████████| 72/72 [00:00<00:00, 798.85it/s]\u001b[A"
     ]
    },
    {
     "name": "stdout",
     "output_type": "stream",
     "text": [
      "No V-motifs will be validated. Try increasing alpha\n"
     ]
    },
    {
     "name": "stderr",
     "output_type": "stream",
     "text": [
      "\n",
      "\n",
      "100%|██████████████████████████████████████████████████████████████████████████████████████████████████████████████████████████| 4/4 [00:00<00:00, 85.09it/s]\u001b[A\n"
     ]
    },
    {
     "name": "stdout",
     "output_type": "stream",
     "text": [
      "No V-motifs will be validated. Try increasing alpha\n",
      "2019 Utilities SDG 12: Responsible Consumption and Production\r"
     ]
    },
    {
     "name": "stderr",
     "output_type": "stream",
     "text": [
      "\n",
      "  0%|                                                                                                                                 | 0/72 [00:00<?, ?it/s]\u001b[A\n",
      "100%|███████████████████████████████████████████████████████████████████████████████████████████████████████████████████████| 72/72 [00:00<00:00, 495.81it/s]\u001b[A\n"
     ]
    },
    {
     "name": "stdout",
     "output_type": "stream",
     "text": [
      "No V-motifs will be validated. Try increasing alpha\n"
     ]
    },
    {
     "name": "stderr",
     "output_type": "stream",
     "text": [
      "\n",
      "100%|██████████████████████████████████████████████████████████████████████████████████████████████████████████████████████████| 4/4 [00:00<00:00, 72.72it/s]\u001b[A"
     ]
    },
    {
     "name": "stdout",
     "output_type": "stream",
     "text": [
      "No V-motifs will be validated. Try increasing alpha\n",
      "2019 Utilities SDG 13: Climate Action\r"
     ]
    },
    {
     "name": "stderr",
     "output_type": "stream",
     "text": [
      "\n",
      "\n",
      "  0%|                                                                                                                                 | 0/72 [00:00<?, ?it/s]\u001b[A\n",
      "100%|███████████████████████████████████████████████████████████████████████████████████████████████████████████████████████| 72/72 [00:00<00:00, 555.32it/s]\u001b[A\n"
     ]
    },
    {
     "name": "stdout",
     "output_type": "stream",
     "text": [
      "No V-motifs will be validated. Try increasing alpha\n"
     ]
    },
    {
     "name": "stderr",
     "output_type": "stream",
     "text": [
      "\n",
      "100%|██████████████████████████████████████████████████████████████████████████████████████████████████████████████████████████| 4/4 [00:00<00:00, 60.69it/s]\u001b[A"
     ]
    },
    {
     "name": "stdout",
     "output_type": "stream",
     "text": [
      "No V-motifs will be validated. Try increasing alpha\n",
      "2019 Utilities SDG 14: Life Below Water\r"
     ]
    },
    {
     "name": "stderr",
     "output_type": "stream",
     "text": [
      "\n",
      "\n",
      "  0%|                                                                                                                                 | 0/72 [00:00<?, ?it/s]\u001b[A\n",
      "100%|███████████████████████████████████████████████████████████████████████████████████████████████████████████████████████| 72/72 [00:00<00:00, 499.65it/s]\u001b[A\n"
     ]
    },
    {
     "name": "stdout",
     "output_type": "stream",
     "text": [
      "No V-motifs will be validated. Try increasing alpha\n"
     ]
    },
    {
     "name": "stderr",
     "output_type": "stream",
     "text": [
      "\n",
      "100%|██████████████████████████████████████████████████████████████████████████████████████████████████████████████████████████| 4/4 [00:00<00:00, 85.98it/s]\u001b[A"
     ]
    },
    {
     "name": "stdout",
     "output_type": "stream",
     "text": [
      "No V-motifs will be validated. Try increasing alpha\n",
      "2019 Utilities SDG 15: Life on Land\r"
     ]
    },
    {
     "name": "stderr",
     "output_type": "stream",
     "text": [
      "\n",
      "\n",
      "  0%|                                                                                                                                 | 0/72 [00:00<?, ?it/s]\u001b[A\n",
      "100%|███████████████████████████████████████████████████████████████████████████████████████████████████████████████████████| 72/72 [00:00<00:00, 488.72it/s]\u001b[A\n"
     ]
    },
    {
     "name": "stdout",
     "output_type": "stream",
     "text": [
      "No V-motifs will be validated. Try increasing alpha\n"
     ]
    },
    {
     "name": "stderr",
     "output_type": "stream",
     "text": [
      "\n",
      "100%|██████████████████████████████████████████████████████████████████████████████████████████████████████████████████████████| 4/4 [00:00<00:00, 64.04it/s]\u001b[A"
     ]
    },
    {
     "name": "stdout",
     "output_type": "stream",
     "text": [
      "No V-motifs will be validated. Try increasing alpha\n",
      "2019 Utilities SDG 16: Peace, Justice, and Strong Institutions\r"
     ]
    },
    {
     "name": "stderr",
     "output_type": "stream",
     "text": [
      "\n",
      "\n",
      "  0%|                                                                                                                                 | 0/72 [00:00<?, ?it/s]\u001b[A\n",
      "100%|███████████████████████████████████████████████████████████████████████████████████████████████████████████████████████| 72/72 [00:00<00:00, 504.55it/s]\u001b[A\n"
     ]
    },
    {
     "name": "stdout",
     "output_type": "stream",
     "text": [
      "No V-motifs will be validated. Try increasing alpha\n"
     ]
    },
    {
     "name": "stderr",
     "output_type": "stream",
     "text": [
      "\n",
      "100%|██████████████████████████████████████████████████████████████████████████████████████████████████████████████████████████| 4/4 [00:00<00:00, 62.03it/s]\u001b[A"
     ]
    },
    {
     "name": "stdout",
     "output_type": "stream",
     "text": [
      "No V-motifs will be validated. Try increasing alpha\n",
      "2019 Utilities SDG 17: Partnerships for the Goals\r"
     ]
    },
    {
     "name": "stderr",
     "output_type": "stream",
     "text": [
      "\n",
      "\n",
      "  0%|                                                                                                                                 | 0/72 [00:00<?, ?it/s]\u001b[A\n",
      "100%|███████████████████████████████████████████████████████████████████████████████████████████████████████████████████████| 72/72 [00:00<00:00, 596.28it/s]\u001b[A\n"
     ]
    },
    {
     "name": "stdout",
     "output_type": "stream",
     "text": [
      "No V-motifs will be validated. Try increasing alpha\n"
     ]
    },
    {
     "name": "stderr",
     "output_type": "stream",
     "text": [
      "\n",
      "100%|██████████████████████████████████████████████████████████████████████████████████████████████████████████████████████████| 4/4 [00:00<00:00, 58.93it/s]\u001b[A"
     ]
    },
    {
     "name": "stdout",
     "output_type": "stream",
     "text": [
      "No V-motifs will be validated. Try increasing alpha\n",
      "\n",
      "                      WARNING: this system has at least a node that is disconnected or connected to all nodes\n",
      "                       of the opposite layer. This may cause some convergence issues.\n",
      "                      Please use the full mode providing a biadjacency matrix or an edgelist,\n",
      "                       or clean your data from these nodes. \n",
      "                      \n",
      "2020 Energy SDG 1: No Poverty\r"
     ]
    },
    {
     "name": "stderr",
     "output_type": "stream",
     "text": [
      "\n",
      "\n",
      "  0%|                                                                                                                                 | 0/66 [00:00<?, ?it/s]\u001b[A/home/sarawalk/sdgs_py38/lib/python3.8/site-packages/bicm/graph_classes.py:1113: RuntimeWarning: invalid value encountered in divide\n",
      "  probs = node_xy * neighbor_xy / ((1 + node_xy) * (1 + neighbor_xy))\n",
      "/home/sarawalk/sdgs_py38/lib/python3.8/site-packages/bicm/graph_classes.py:1113: RuntimeWarning: invalid value encountered in divide\n",
      "  probs = node_xy * neighbor_xy / ((1 + node_xy) * (1 + neighbor_xy))\n",
      "/home/sarawalk/sdgs_py38/lib/python3.8/site-packages/bicm/graph_classes.py:1113: RuntimeWarning: invalid value encountered in divide\n",
      "  probs = node_xy * neighbor_xy / ((1 + node_xy) * (1 + neighbor_xy))\n",
      "/home/sarawalk/sdgs_py38/lib/python3.8/site-packages/bicm/graph_classes.py:1113: RuntimeWarning: invalid value encountered in divide\n",
      "  probs = node_xy * neighbor_xy / ((1 + node_xy) * (1 + neighbor_xy))\n",
      "\n",
      "100%|███████████████████████████████████████████████████████████████████████████████████████████████████████████████████████| 66/66 [00:00<00:00, 478.74it/s]\u001b[A\n"
     ]
    },
    {
     "name": "stdout",
     "output_type": "stream",
     "text": [
      "No V-motifs will be validated. Try increasing alpha\n"
     ]
    },
    {
     "name": "stderr",
     "output_type": "stream",
     "text": [
      "\n",
      "  0%|                                                                                                                                  | 0/6 [00:00<?, ?it/s]\u001b[A/home/sarawalk/sdgs_py38/lib/python3.8/site-packages/bicm/graph_classes.py:1113: RuntimeWarning: invalid value encountered in divide\n",
      "  probs = node_xy * neighbor_xy / ((1 + node_xy) * (1 + neighbor_xy))\n",
      "/home/sarawalk/sdgs_py38/lib/python3.8/site-packages/bicm/graph_classes.py:1113: RuntimeWarning: invalid value encountered in divide\n",
      "  probs = node_xy * neighbor_xy / ((1 + node_xy) * (1 + neighbor_xy))\n",
      "/home/sarawalk/sdgs_py38/lib/python3.8/site-packages/bicm/graph_classes.py:1113: RuntimeWarning: invalid value encountered in divide\n",
      "  probs = node_xy * neighbor_xy / ((1 + node_xy) * (1 + neighbor_xy))\n",
      "100%|██████████████████████████████████████████████████████████████████████████████████████████████████████████████████████████| 6/6 [00:00<00:00, 69.51it/s]/home/sarawalk/sdgs_py38/lib/python3.8/site-packages/bicm/graph_classes.py:1113: RuntimeWarning: invalid value encountered in divide\n",
      "  probs = node_xy * neighbor_xy / ((1 + node_xy) * (1 + neighbor_xy))\n"
     ]
    },
    {
     "name": "stdout",
     "output_type": "stream",
     "text": [
      "No V-motifs will be validated. Try increasing alpha\n",
      "\n",
      "                      WARNING: this system has at least a node that is disconnected or connected to all nodes\n",
      "                       of the opposite layer. This may cause some convergence issues.\n",
      "                      Please use the full mode providing a biadjacency matrix or an edgelist,\n",
      "                       or clean your data from these nodes. \n",
      "                      \n",
      "2020 Energy SDG 2: Zero Hunger\r"
     ]
    },
    {
     "name": "stderr",
     "output_type": "stream",
     "text": [
      "\n",
      "\n",
      "  0%|                                                                                                                                 | 0/66 [00:00<?, ?it/s]\u001b[A/home/sarawalk/sdgs_py38/lib/python3.8/site-packages/bicm/graph_classes.py:1113: RuntimeWarning: invalid value encountered in divide\n",
      "  probs = node_xy * neighbor_xy / ((1 + node_xy) * (1 + neighbor_xy))\n",
      "/home/sarawalk/sdgs_py38/lib/python3.8/site-packages/bicm/graph_classes.py:1113: RuntimeWarning: invalid value encountered in divide\n",
      "  probs = node_xy * neighbor_xy / ((1 + node_xy) * (1 + neighbor_xy))\n",
      "/home/sarawalk/sdgs_py38/lib/python3.8/site-packages/bicm/graph_classes.py:1113: RuntimeWarning: invalid value encountered in divide\n",
      "  probs = node_xy * neighbor_xy / ((1 + node_xy) * (1 + neighbor_xy))\n",
      "/home/sarawalk/sdgs_py38/lib/python3.8/site-packages/bicm/graph_classes.py:1113: RuntimeWarning: invalid value encountered in divide\n",
      "  probs = node_xy * neighbor_xy / ((1 + node_xy) * (1 + neighbor_xy))\n",
      "\n",
      "100%|███████████████████████████████████████████████████████████████████████████████████████████████████████████████████████| 66/66 [00:00<00:00, 518.71it/s]\u001b[A\n"
     ]
    },
    {
     "name": "stdout",
     "output_type": "stream",
     "text": [
      "No V-motifs will be validated. Try increasing alpha\n"
     ]
    },
    {
     "name": "stderr",
     "output_type": "stream",
     "text": [
      "\n",
      "  0%|                                                                                                                                  | 0/6 [00:00<?, ?it/s]\u001b[A/home/sarawalk/sdgs_py38/lib/python3.8/site-packages/bicm/graph_classes.py:1113: RuntimeWarning: invalid value encountered in divide\n",
      "  probs = node_xy * neighbor_xy / ((1 + node_xy) * (1 + neighbor_xy))\n",
      "/home/sarawalk/sdgs_py38/lib/python3.8/site-packages/bicm/graph_classes.py:1113: RuntimeWarning: invalid value encountered in divide\n",
      "  probs = node_xy * neighbor_xy / ((1 + node_xy) * (1 + neighbor_xy))\n",
      "/home/sarawalk/sdgs_py38/lib/python3.8/site-packages/bicm/graph_classes.py:1113: RuntimeWarning: invalid value encountered in divide\n",
      "  probs = node_xy * neighbor_xy / ((1 + node_xy) * (1 + neighbor_xy))\n",
      "/home/sarawalk/sdgs_py38/lib/python3.8/site-packages/bicm/graph_classes.py:1113: RuntimeWarning: invalid value encountered in divide\n",
      "  probs = node_xy * neighbor_xy / ((1 + node_xy) * (1 + neighbor_xy))\n",
      "100%|██████████████████████████████████████████████████████████████████████████████████████████████████████████████████████████| 6/6 [00:00<00:00, 73.00it/s]"
     ]
    },
    {
     "name": "stdout",
     "output_type": "stream",
     "text": [
      "No V-motifs will be validated. Try increasing alpha\n",
      "\n",
      "                      WARNING: this system has at least a node that is disconnected or connected to all nodes\n",
      "                       of the opposite layer. This may cause some convergence issues.\n",
      "                      Please use the full mode providing a biadjacency matrix or an edgelist,\n",
      "                       or clean your data from these nodes. \n",
      "                      \n",
      "2020 Energy SDG 3: Good Health and Well-being\r"
     ]
    },
    {
     "name": "stderr",
     "output_type": "stream",
     "text": [
      "\n",
      "\n",
      "  0%|                                                                                                                                 | 0/66 [00:00<?, ?it/s]\u001b[A/home/sarawalk/sdgs_py38/lib/python3.8/site-packages/bicm/graph_classes.py:1113: RuntimeWarning: invalid value encountered in divide\n",
      "  probs = node_xy * neighbor_xy / ((1 + node_xy) * (1 + neighbor_xy))\n",
      "/home/sarawalk/sdgs_py38/lib/python3.8/site-packages/bicm/graph_classes.py:1113: RuntimeWarning: invalid value encountered in divide\n",
      "  probs = node_xy * neighbor_xy / ((1 + node_xy) * (1 + neighbor_xy))\n",
      "/home/sarawalk/sdgs_py38/lib/python3.8/site-packages/bicm/graph_classes.py:1113: RuntimeWarning: invalid value encountered in divide\n",
      "  probs = node_xy * neighbor_xy / ((1 + node_xy) * (1 + neighbor_xy))\n",
      "/home/sarawalk/sdgs_py38/lib/python3.8/site-packages/bicm/graph_classes.py:1113: RuntimeWarning: invalid value encountered in divide\n",
      "  probs = node_xy * neighbor_xy / ((1 + node_xy) * (1 + neighbor_xy))\n",
      "\n",
      "100%|███████████████████████████████████████████████████████████████████████████████████████████████████████████████████████| 66/66 [00:00<00:00, 494.29it/s]\u001b[A\n"
     ]
    },
    {
     "name": "stdout",
     "output_type": "stream",
     "text": [
      "No V-motifs will be validated. Try increasing alpha\n"
     ]
    },
    {
     "name": "stderr",
     "output_type": "stream",
     "text": [
      "\n",
      "  0%|                                                                                                                                  | 0/6 [00:00<?, ?it/s]\u001b[A/home/sarawalk/sdgs_py38/lib/python3.8/site-packages/bicm/graph_classes.py:1113: RuntimeWarning: invalid value encountered in divide\n",
      "  probs = node_xy * neighbor_xy / ((1 + node_xy) * (1 + neighbor_xy))\n",
      "/home/sarawalk/sdgs_py38/lib/python3.8/site-packages/bicm/graph_classes.py:1113: RuntimeWarning: invalid value encountered in divide\n",
      "  probs = node_xy * neighbor_xy / ((1 + node_xy) * (1 + neighbor_xy))\n",
      "/home/sarawalk/sdgs_py38/lib/python3.8/site-packages/bicm/graph_classes.py:1113: RuntimeWarning: invalid value encountered in divide\n",
      "  probs = node_xy * neighbor_xy / ((1 + node_xy) * (1 + neighbor_xy))\n",
      "100%|██████████████████████████████████████████████████████████████████████████████████████████████████████████████████████████| 6/6 [00:00<00:00, 75.04it/s]/home/sarawalk/sdgs_py38/lib/python3.8/site-packages/bicm/graph_classes.py:1113: RuntimeWarning: invalid value encountered in divide\n",
      "  probs = node_xy * neighbor_xy / ((1 + node_xy) * (1 + neighbor_xy))\n"
     ]
    },
    {
     "name": "stdout",
     "output_type": "stream",
     "text": [
      "No V-motifs will be validated. Try increasing alpha\n",
      "\n",
      "                      WARNING: this system has at least a node that is disconnected or connected to all nodes\n",
      "                       of the opposite layer. This may cause some convergence issues.\n",
      "                      Please use the full mode providing a biadjacency matrix or an edgelist,\n",
      "                       or clean your data from these nodes. \n",
      "                      \n",
      "2020 Energy SDG 4: Quality Education\r"
     ]
    },
    {
     "name": "stderr",
     "output_type": "stream",
     "text": [
      "\n",
      "\n",
      "  0%|                                                                                                                                 | 0/66 [00:00<?, ?it/s]\u001b[A/home/sarawalk/sdgs_py38/lib/python3.8/site-packages/bicm/graph_classes.py:1113: RuntimeWarning: invalid value encountered in divide\n",
      "  probs = node_xy * neighbor_xy / ((1 + node_xy) * (1 + neighbor_xy))\n",
      "/home/sarawalk/sdgs_py38/lib/python3.8/site-packages/bicm/graph_classes.py:1113: RuntimeWarning: invalid value encountered in divide\n",
      "  probs = node_xy * neighbor_xy / ((1 + node_xy) * (1 + neighbor_xy))\n",
      "/home/sarawalk/sdgs_py38/lib/python3.8/site-packages/bicm/graph_classes.py:1113: RuntimeWarning: invalid value encountered in divide\n",
      "  probs = node_xy * neighbor_xy / ((1 + node_xy) * (1 + neighbor_xy))\n",
      "/home/sarawalk/sdgs_py38/lib/python3.8/site-packages/bicm/graph_classes.py:1113: RuntimeWarning: invalid value encountered in divide\n",
      "  probs = node_xy * neighbor_xy / ((1 + node_xy) * (1 + neighbor_xy))\n",
      "\n",
      "100%|███████████████████████████████████████████████████████████████████████████████████████████████████████████████████████| 66/66 [00:00<00:00, 473.75it/s]\u001b[A\n"
     ]
    },
    {
     "name": "stdout",
     "output_type": "stream",
     "text": [
      "No V-motifs will be validated. Try increasing alpha\n"
     ]
    },
    {
     "name": "stderr",
     "output_type": "stream",
     "text": [
      "\n",
      "  0%|                                                                                                                                  | 0/6 [00:00<?, ?it/s]\u001b[A/home/sarawalk/sdgs_py38/lib/python3.8/site-packages/bicm/graph_classes.py:1113: RuntimeWarning: invalid value encountered in divide\n",
      "  probs = node_xy * neighbor_xy / ((1 + node_xy) * (1 + neighbor_xy))\n",
      "/home/sarawalk/sdgs_py38/lib/python3.8/site-packages/bicm/graph_classes.py:1113: RuntimeWarning: invalid value encountered in divide\n",
      "  probs = node_xy * neighbor_xy / ((1 + node_xy) * (1 + neighbor_xy))\n",
      "/home/sarawalk/sdgs_py38/lib/python3.8/site-packages/bicm/graph_classes.py:1113: RuntimeWarning: invalid value encountered in divide\n",
      "  probs = node_xy * neighbor_xy / ((1 + node_xy) * (1 + neighbor_xy))\n",
      "/home/sarawalk/sdgs_py38/lib/python3.8/site-packages/bicm/graph_classes.py:1113: RuntimeWarning: invalid value encountered in divide\n",
      "  probs = node_xy * neighbor_xy / ((1 + node_xy) * (1 + neighbor_xy))\n",
      "100%|██████████████████████████████████████████████████████████████████████████████████████████████████████████████████████████| 6/6 [00:00<00:00, 59.86it/s]"
     ]
    },
    {
     "name": "stdout",
     "output_type": "stream",
     "text": [
      "No V-motifs will be validated. Try increasing alpha\n",
      "\n",
      "                      WARNING: this system has at least a node that is disconnected or connected to all nodes\n",
      "                       of the opposite layer. This may cause some convergence issues.\n",
      "                      Please use the full mode providing a biadjacency matrix or an edgelist,\n",
      "                       or clean your data from these nodes. \n",
      "                      \n",
      "2020 Energy SDG 5: Gender Equality\r"
     ]
    },
    {
     "name": "stderr",
     "output_type": "stream",
     "text": [
      "\n",
      "\n",
      "  0%|                                                                                                                                 | 0/66 [00:00<?, ?it/s]\u001b[A/home/sarawalk/sdgs_py38/lib/python3.8/site-packages/bicm/graph_classes.py:1113: RuntimeWarning: invalid value encountered in divide\n",
      "  probs = node_xy * neighbor_xy / ((1 + node_xy) * (1 + neighbor_xy))\n",
      "/home/sarawalk/sdgs_py38/lib/python3.8/site-packages/bicm/graph_classes.py:1113: RuntimeWarning: invalid value encountered in divide\n",
      "  probs = node_xy * neighbor_xy / ((1 + node_xy) * (1 + neighbor_xy))\n",
      "/home/sarawalk/sdgs_py38/lib/python3.8/site-packages/bicm/graph_classes.py:1113: RuntimeWarning: invalid value encountered in divide\n",
      "  probs = node_xy * neighbor_xy / ((1 + node_xy) * (1 + neighbor_xy))\n",
      "/home/sarawalk/sdgs_py38/lib/python3.8/site-packages/bicm/graph_classes.py:1113: RuntimeWarning: invalid value encountered in divide\n",
      "  probs = node_xy * neighbor_xy / ((1 + node_xy) * (1 + neighbor_xy))\n",
      "\n",
      "100%|███████████████████████████████████████████████████████████████████████████████████████████████████████████████████████| 66/66 [00:00<00:00, 407.92it/s]\u001b[A\n"
     ]
    },
    {
     "name": "stdout",
     "output_type": "stream",
     "text": [
      "No V-motifs will be validated. Try increasing alpha\n"
     ]
    },
    {
     "name": "stderr",
     "output_type": "stream",
     "text": [
      "\n",
      "  0%|                                                                                                                                  | 0/6 [00:00<?, ?it/s]\u001b[A/home/sarawalk/sdgs_py38/lib/python3.8/site-packages/bicm/graph_classes.py:1113: RuntimeWarning: invalid value encountered in divide\n",
      "  probs = node_xy * neighbor_xy / ((1 + node_xy) * (1 + neighbor_xy))\n",
      "/home/sarawalk/sdgs_py38/lib/python3.8/site-packages/bicm/graph_classes.py:1113: RuntimeWarning: invalid value encountered in divide\n",
      "  probs = node_xy * neighbor_xy / ((1 + node_xy) * (1 + neighbor_xy))\n",
      "/home/sarawalk/sdgs_py38/lib/python3.8/site-packages/bicm/graph_classes.py:1113: RuntimeWarning: invalid value encountered in divide\n",
      "  probs = node_xy * neighbor_xy / ((1 + node_xy) * (1 + neighbor_xy))\n",
      "/home/sarawalk/sdgs_py38/lib/python3.8/site-packages/bicm/graph_classes.py:1113: RuntimeWarning: invalid value encountered in divide\n",
      "  probs = node_xy * neighbor_xy / ((1 + node_xy) * (1 + neighbor_xy))\n",
      "100%|██████████████████████████████████████████████████████████████████████████████████████████████████████████████████████████| 6/6 [00:00<00:00, 60.13it/s]"
     ]
    },
    {
     "name": "stdout",
     "output_type": "stream",
     "text": [
      "No V-motifs will be validated. Try increasing alpha\n",
      "\n",
      "                      WARNING: this system has at least a node that is disconnected or connected to all nodes\n",
      "                       of the opposite layer. This may cause some convergence issues.\n",
      "                      Please use the full mode providing a biadjacency matrix or an edgelist,\n",
      "                       or clean your data from these nodes. \n",
      "                      \n",
      "2020 Energy SDG 6: Clean Water and Sanitation\r"
     ]
    },
    {
     "name": "stderr",
     "output_type": "stream",
     "text": [
      "\n",
      "\n",
      "  0%|                                                                                                                                 | 0/66 [00:00<?, ?it/s]\u001b[A/home/sarawalk/sdgs_py38/lib/python3.8/site-packages/bicm/graph_classes.py:1113: RuntimeWarning: invalid value encountered in divide\n",
      "  probs = node_xy * neighbor_xy / ((1 + node_xy) * (1 + neighbor_xy))\n",
      "/home/sarawalk/sdgs_py38/lib/python3.8/site-packages/bicm/graph_classes.py:1113: RuntimeWarning: invalid value encountered in divide\n",
      "  probs = node_xy * neighbor_xy / ((1 + node_xy) * (1 + neighbor_xy))\n",
      "/home/sarawalk/sdgs_py38/lib/python3.8/site-packages/bicm/graph_classes.py:1113: RuntimeWarning: invalid value encountered in divide\n",
      "  probs = node_xy * neighbor_xy / ((1 + node_xy) * (1 + neighbor_xy))\n",
      "/home/sarawalk/sdgs_py38/lib/python3.8/site-packages/bicm/graph_classes.py:1113: RuntimeWarning: invalid value encountered in divide\n",
      "  probs = node_xy * neighbor_xy / ((1 + node_xy) * (1 + neighbor_xy))\n",
      "\n",
      "100%|███████████████████████████████████████████████████████████████████████████████████████████████████████████████████████| 66/66 [00:00<00:00, 464.64it/s]\u001b[A\n"
     ]
    },
    {
     "name": "stdout",
     "output_type": "stream",
     "text": [
      "No V-motifs will be validated. Try increasing alpha\n"
     ]
    },
    {
     "name": "stderr",
     "output_type": "stream",
     "text": [
      "\n",
      "  0%|                                                                                                                                  | 0/6 [00:00<?, ?it/s]\u001b[A/home/sarawalk/sdgs_py38/lib/python3.8/site-packages/bicm/graph_classes.py:1113: RuntimeWarning: invalid value encountered in divide\n",
      "  probs = node_xy * neighbor_xy / ((1 + node_xy) * (1 + neighbor_xy))\n",
      "/home/sarawalk/sdgs_py38/lib/python3.8/site-packages/bicm/graph_classes.py:1113: RuntimeWarning: invalid value encountered in divide\n",
      "  probs = node_xy * neighbor_xy / ((1 + node_xy) * (1 + neighbor_xy))\n",
      "/home/sarawalk/sdgs_py38/lib/python3.8/site-packages/bicm/graph_classes.py:1113: RuntimeWarning: invalid value encountered in divide\n",
      "  probs = node_xy * neighbor_xy / ((1 + node_xy) * (1 + neighbor_xy))\n",
      "/home/sarawalk/sdgs_py38/lib/python3.8/site-packages/bicm/graph_classes.py:1113: RuntimeWarning: invalid value encountered in divide\n",
      "  probs = node_xy * neighbor_xy / ((1 + node_xy) * (1 + neighbor_xy))\n",
      "100%|██████████████████████████████████████████████████████████████████████████████████████████████████████████████████████████| 6/6 [00:00<00:00, 71.96it/s]"
     ]
    },
    {
     "name": "stdout",
     "output_type": "stream",
     "text": [
      "No V-motifs will be validated. Try increasing alpha\n",
      "\n",
      "                      WARNING: this system has at least a node that is disconnected or connected to all nodes\n",
      "                       of the opposite layer. This may cause some convergence issues.\n",
      "                      Please use the full mode providing a biadjacency matrix or an edgelist,\n",
      "                       or clean your data from these nodes. \n",
      "                      \n",
      "2020 Energy SDG 7: Affordable and Clean Energy\r"
     ]
    },
    {
     "name": "stderr",
     "output_type": "stream",
     "text": [
      "\n",
      "\n",
      "  0%|                                                                                                                                 | 0/66 [00:00<?, ?it/s]\u001b[A/home/sarawalk/sdgs_py38/lib/python3.8/site-packages/bicm/graph_classes.py:1113: RuntimeWarning: invalid value encountered in divide\n",
      "  probs = node_xy * neighbor_xy / ((1 + node_xy) * (1 + neighbor_xy))\n",
      "/home/sarawalk/sdgs_py38/lib/python3.8/site-packages/bicm/graph_classes.py:1113: RuntimeWarning: invalid value encountered in divide\n",
      "  probs = node_xy * neighbor_xy / ((1 + node_xy) * (1 + neighbor_xy))\n",
      "/home/sarawalk/sdgs_py38/lib/python3.8/site-packages/bicm/graph_classes.py:1113: RuntimeWarning: invalid value encountered in divide\n",
      "  probs = node_xy * neighbor_xy / ((1 + node_xy) * (1 + neighbor_xy))\n",
      "/home/sarawalk/sdgs_py38/lib/python3.8/site-packages/bicm/graph_classes.py:1113: RuntimeWarning: invalid value encountered in divide\n",
      "  probs = node_xy * neighbor_xy / ((1 + node_xy) * (1 + neighbor_xy))\n",
      "\n",
      "100%|███████████████████████████████████████████████████████████████████████████████████████████████████████████████████████| 66/66 [00:00<00:00, 502.40it/s]\u001b[A\n"
     ]
    },
    {
     "name": "stdout",
     "output_type": "stream",
     "text": [
      "No V-motifs will be validated. Try increasing alpha\n"
     ]
    },
    {
     "name": "stderr",
     "output_type": "stream",
     "text": [
      "\n",
      "  0%|                                                                                                                                  | 0/6 [00:00<?, ?it/s]\u001b[A/home/sarawalk/sdgs_py38/lib/python3.8/site-packages/bicm/graph_classes.py:1113: RuntimeWarning: invalid value encountered in divide\n",
      "  probs = node_xy * neighbor_xy / ((1 + node_xy) * (1 + neighbor_xy))\n",
      "/home/sarawalk/sdgs_py38/lib/python3.8/site-packages/bicm/graph_classes.py:1113: RuntimeWarning: invalid value encountered in divide\n",
      "  probs = node_xy * neighbor_xy / ((1 + node_xy) * (1 + neighbor_xy))\n",
      "/home/sarawalk/sdgs_py38/lib/python3.8/site-packages/bicm/graph_classes.py:1113: RuntimeWarning: invalid value encountered in divide\n",
      "  probs = node_xy * neighbor_xy / ((1 + node_xy) * (1 + neighbor_xy))\n",
      "/home/sarawalk/sdgs_py38/lib/python3.8/site-packages/bicm/graph_classes.py:1113: RuntimeWarning: invalid value encountered in divide\n",
      "  probs = node_xy * neighbor_xy / ((1 + node_xy) * (1 + neighbor_xy))\n",
      "100%|██████████████████████████████████████████████████████████████████████████████████████████████████████████████████████████| 6/6 [00:00<00:00, 71.65it/s]"
     ]
    },
    {
     "name": "stdout",
     "output_type": "stream",
     "text": [
      "No V-motifs will be validated. Try increasing alpha\n",
      "\n",
      "                      WARNING: this system has at least a node that is disconnected or connected to all nodes\n",
      "                       of the opposite layer. This may cause some convergence issues.\n",
      "                      Please use the full mode providing a biadjacency matrix or an edgelist,\n",
      "                       or clean your data from these nodes. \n",
      "                      \n",
      "2020 Energy SDG 8: Decent Work and Economic Growth\r"
     ]
    },
    {
     "name": "stderr",
     "output_type": "stream",
     "text": [
      "\n",
      "\n",
      "  0%|                                                                                                                                 | 0/66 [00:00<?, ?it/s]\u001b[A/home/sarawalk/sdgs_py38/lib/python3.8/site-packages/bicm/graph_classes.py:1113: RuntimeWarning: invalid value encountered in divide\n",
      "  probs = node_xy * neighbor_xy / ((1 + node_xy) * (1 + neighbor_xy))\n",
      "/home/sarawalk/sdgs_py38/lib/python3.8/site-packages/bicm/graph_classes.py:1113: RuntimeWarning: invalid value encountered in divide\n",
      "  probs = node_xy * neighbor_xy / ((1 + node_xy) * (1 + neighbor_xy))\n",
      "/home/sarawalk/sdgs_py38/lib/python3.8/site-packages/bicm/graph_classes.py:1113: RuntimeWarning: invalid value encountered in divide\n",
      "  probs = node_xy * neighbor_xy / ((1 + node_xy) * (1 + neighbor_xy))\n",
      "/home/sarawalk/sdgs_py38/lib/python3.8/site-packages/bicm/graph_classes.py:1113: RuntimeWarning: invalid value encountered in divide\n",
      "  probs = node_xy * neighbor_xy / ((1 + node_xy) * (1 + neighbor_xy))\n",
      "\n",
      "100%|███████████████████████████████████████████████████████████████████████████████████████████████████████████████████████| 66/66 [00:00<00:00, 502.01it/s]\u001b[A\n"
     ]
    },
    {
     "name": "stdout",
     "output_type": "stream",
     "text": [
      "No V-motifs will be validated. Try increasing alpha\n"
     ]
    },
    {
     "name": "stderr",
     "output_type": "stream",
     "text": [
      "\n",
      "  0%|                                                                                                                                  | 0/6 [00:00<?, ?it/s]\u001b[A/home/sarawalk/sdgs_py38/lib/python3.8/site-packages/bicm/graph_classes.py:1113: RuntimeWarning: invalid value encountered in divide\n",
      "  probs = node_xy * neighbor_xy / ((1 + node_xy) * (1 + neighbor_xy))\n",
      "/home/sarawalk/sdgs_py38/lib/python3.8/site-packages/bicm/graph_classes.py:1113: RuntimeWarning: invalid value encountered in divide\n",
      "  probs = node_xy * neighbor_xy / ((1 + node_xy) * (1 + neighbor_xy))\n",
      "/home/sarawalk/sdgs_py38/lib/python3.8/site-packages/bicm/graph_classes.py:1113: RuntimeWarning: invalid value encountered in divide\n",
      "  probs = node_xy * neighbor_xy / ((1 + node_xy) * (1 + neighbor_xy))\n",
      "/home/sarawalk/sdgs_py38/lib/python3.8/site-packages/bicm/graph_classes.py:1113: RuntimeWarning: invalid value encountered in divide\n",
      "  probs = node_xy * neighbor_xy / ((1 + node_xy) * (1 + neighbor_xy))\n",
      "100%|██████████████████████████████████████████████████████████████████████████████████████████████████████████████████████████| 6/6 [00:00<00:00, 77.79it/s]"
     ]
    },
    {
     "name": "stdout",
     "output_type": "stream",
     "text": [
      "No V-motifs will be validated. Try increasing alpha\n",
      "\n",
      "                      WARNING: this system has at least a node that is disconnected or connected to all nodes\n",
      "                       of the opposite layer. This may cause some convergence issues.\n",
      "                      Please use the full mode providing a biadjacency matrix or an edgelist,\n",
      "                       or clean your data from these nodes. \n",
      "                      \n",
      "2020 Energy SDG 9: Industry, Innovation, and Infrastructure\r"
     ]
    },
    {
     "name": "stderr",
     "output_type": "stream",
     "text": [
      "\n",
      "\n",
      "  0%|                                                                                                                                 | 0/66 [00:00<?, ?it/s]\u001b[A/home/sarawalk/sdgs_py38/lib/python3.8/site-packages/bicm/graph_classes.py:1113: RuntimeWarning: invalid value encountered in divide\n",
      "  probs = node_xy * neighbor_xy / ((1 + node_xy) * (1 + neighbor_xy))\n",
      "/home/sarawalk/sdgs_py38/lib/python3.8/site-packages/bicm/graph_classes.py:1113: RuntimeWarning: invalid value encountered in divide\n",
      "  probs = node_xy * neighbor_xy / ((1 + node_xy) * (1 + neighbor_xy))\n",
      "/home/sarawalk/sdgs_py38/lib/python3.8/site-packages/bicm/graph_classes.py:1113: RuntimeWarning: invalid value encountered in divide\n",
      "  probs = node_xy * neighbor_xy / ((1 + node_xy) * (1 + neighbor_xy))\n",
      "/home/sarawalk/sdgs_py38/lib/python3.8/site-packages/bicm/graph_classes.py:1113: RuntimeWarning: invalid value encountered in divide\n",
      "  probs = node_xy * neighbor_xy / ((1 + node_xy) * (1 + neighbor_xy))\n",
      "\n",
      "100%|███████████████████████████████████████████████████████████████████████████████████████████████████████████████████████| 66/66 [00:00<00:00, 446.99it/s]\u001b[A\n"
     ]
    },
    {
     "name": "stdout",
     "output_type": "stream",
     "text": [
      "No V-motifs will be validated. Try increasing alpha\n"
     ]
    },
    {
     "name": "stderr",
     "output_type": "stream",
     "text": [
      "\n",
      "  0%|                                                                                                                                  | 0/6 [00:00<?, ?it/s]\u001b[A/home/sarawalk/sdgs_py38/lib/python3.8/site-packages/bicm/graph_classes.py:1113: RuntimeWarning: invalid value encountered in divide\n",
      "  probs = node_xy * neighbor_xy / ((1 + node_xy) * (1 + neighbor_xy))\n",
      "/home/sarawalk/sdgs_py38/lib/python3.8/site-packages/bicm/graph_classes.py:1113: RuntimeWarning: invalid value encountered in divide\n",
      "  probs = node_xy * neighbor_xy / ((1 + node_xy) * (1 + neighbor_xy))\n",
      "/home/sarawalk/sdgs_py38/lib/python3.8/site-packages/bicm/graph_classes.py:1113: RuntimeWarning: invalid value encountered in divide\n",
      "  probs = node_xy * neighbor_xy / ((1 + node_xy) * (1 + neighbor_xy))\n",
      "/home/sarawalk/sdgs_py38/lib/python3.8/site-packages/bicm/graph_classes.py:1113: RuntimeWarning: invalid value encountered in divide\n",
      "  probs = node_xy * neighbor_xy / ((1 + node_xy) * (1 + neighbor_xy))\n",
      "100%|██████████████████████████████████████████████████████████████████████████████████████████████████████████████████████████| 6/6 [00:00<00:00, 71.13it/s]"
     ]
    },
    {
     "name": "stdout",
     "output_type": "stream",
     "text": [
      "No V-motifs will be validated. Try increasing alpha\n",
      "\n",
      "                      WARNING: this system has at least a node that is disconnected or connected to all nodes\n",
      "                       of the opposite layer. This may cause some convergence issues.\n",
      "                      Please use the full mode providing a biadjacency matrix or an edgelist,\n",
      "                       or clean your data from these nodes. \n",
      "                      \n",
      "2020 Energy SDG 10: Reduced Inequality\r"
     ]
    },
    {
     "name": "stderr",
     "output_type": "stream",
     "text": [
      "\n",
      "\n",
      "  0%|                                                                                                                                 | 0/66 [00:00<?, ?it/s]\u001b[A/home/sarawalk/sdgs_py38/lib/python3.8/site-packages/bicm/graph_classes.py:1113: RuntimeWarning: invalid value encountered in divide\n",
      "  probs = node_xy * neighbor_xy / ((1 + node_xy) * (1 + neighbor_xy))\n",
      "/home/sarawalk/sdgs_py38/lib/python3.8/site-packages/bicm/graph_classes.py:1113: RuntimeWarning: invalid value encountered in divide\n",
      "  probs = node_xy * neighbor_xy / ((1 + node_xy) * (1 + neighbor_xy))\n",
      "/home/sarawalk/sdgs_py38/lib/python3.8/site-packages/bicm/graph_classes.py:1113: RuntimeWarning: invalid value encountered in divide\n",
      "  probs = node_xy * neighbor_xy / ((1 + node_xy) * (1 + neighbor_xy))\n",
      "/home/sarawalk/sdgs_py38/lib/python3.8/site-packages/bicm/graph_classes.py:1113: RuntimeWarning: invalid value encountered in divide\n",
      "  probs = node_xy * neighbor_xy / ((1 + node_xy) * (1 + neighbor_xy))\n",
      "\n",
      "100%|███████████████████████████████████████████████████████████████████████████████████████████████████████████████████████| 66/66 [00:00<00:00, 538.32it/s]\u001b[A\n"
     ]
    },
    {
     "name": "stdout",
     "output_type": "stream",
     "text": [
      "No V-motifs will be validated. Try increasing alpha\n"
     ]
    },
    {
     "name": "stderr",
     "output_type": "stream",
     "text": [
      "\n",
      "  0%|                                                                                                                                  | 0/6 [00:00<?, ?it/s]\u001b[A/home/sarawalk/sdgs_py38/lib/python3.8/site-packages/bicm/graph_classes.py:1113: RuntimeWarning: invalid value encountered in divide\n",
      "  probs = node_xy * neighbor_xy / ((1 + node_xy) * (1 + neighbor_xy))\n",
      "/home/sarawalk/sdgs_py38/lib/python3.8/site-packages/bicm/graph_classes.py:1113: RuntimeWarning: invalid value encountered in divide\n",
      "  probs = node_xy * neighbor_xy / ((1 + node_xy) * (1 + neighbor_xy))\n",
      "/home/sarawalk/sdgs_py38/lib/python3.8/site-packages/bicm/graph_classes.py:1113: RuntimeWarning: invalid value encountered in divide\n",
      "  probs = node_xy * neighbor_xy / ((1 + node_xy) * (1 + neighbor_xy))\n",
      "/home/sarawalk/sdgs_py38/lib/python3.8/site-packages/bicm/graph_classes.py:1113: RuntimeWarning: invalid value encountered in divide\n",
      "  probs = node_xy * neighbor_xy / ((1 + node_xy) * (1 + neighbor_xy))\n",
      "100%|██████████████████████████████████████████████████████████████████████████████████████████████████████████████████████████| 6/6 [00:00<00:00, 73.80it/s]"
     ]
    },
    {
     "name": "stdout",
     "output_type": "stream",
     "text": [
      "No V-motifs will be validated. Try increasing alpha\n",
      "\n",
      "                      WARNING: this system has at least a node that is disconnected or connected to all nodes\n",
      "                       of the opposite layer. This may cause some convergence issues.\n",
      "                      Please use the full mode providing a biadjacency matrix or an edgelist,\n",
      "                       or clean your data from these nodes. \n",
      "                      \n",
      "2020 Energy SDG 11: Sustainable Cities and Communities\r"
     ]
    },
    {
     "name": "stderr",
     "output_type": "stream",
     "text": [
      "\n",
      "\n",
      "  0%|                                                                                                                                 | 0/66 [00:00<?, ?it/s]\u001b[A/home/sarawalk/sdgs_py38/lib/python3.8/site-packages/bicm/graph_classes.py:1113: RuntimeWarning: invalid value encountered in divide\n",
      "  probs = node_xy * neighbor_xy / ((1 + node_xy) * (1 + neighbor_xy))\n",
      "/home/sarawalk/sdgs_py38/lib/python3.8/site-packages/bicm/graph_classes.py:1113: RuntimeWarning: invalid value encountered in divide\n",
      "  probs = node_xy * neighbor_xy / ((1 + node_xy) * (1 + neighbor_xy))\n",
      "/home/sarawalk/sdgs_py38/lib/python3.8/site-packages/bicm/graph_classes.py:1113: RuntimeWarning: invalid value encountered in divide\n",
      "  probs = node_xy * neighbor_xy / ((1 + node_xy) * (1 + neighbor_xy))\n",
      "/home/sarawalk/sdgs_py38/lib/python3.8/site-packages/bicm/graph_classes.py:1113: RuntimeWarning: invalid value encountered in divide\n",
      "  probs = node_xy * neighbor_xy / ((1 + node_xy) * (1 + neighbor_xy))\n",
      "\n",
      "100%|███████████████████████████████████████████████████████████████████████████████████████████████████████████████████████| 66/66 [00:00<00:00, 537.67it/s]\u001b[A\n"
     ]
    },
    {
     "name": "stdout",
     "output_type": "stream",
     "text": [
      "No V-motifs will be validated. Try increasing alpha\n"
     ]
    },
    {
     "name": "stderr",
     "output_type": "stream",
     "text": [
      "\n",
      "  0%|                                                                                                                                  | 0/6 [00:00<?, ?it/s]\u001b[A/home/sarawalk/sdgs_py38/lib/python3.8/site-packages/bicm/graph_classes.py:1113: RuntimeWarning: invalid value encountered in divide\n",
      "  probs = node_xy * neighbor_xy / ((1 + node_xy) * (1 + neighbor_xy))\n",
      "/home/sarawalk/sdgs_py38/lib/python3.8/site-packages/bicm/graph_classes.py:1113: RuntimeWarning: invalid value encountered in divide\n",
      "  probs = node_xy * neighbor_xy / ((1 + node_xy) * (1 + neighbor_xy))\n",
      "/home/sarawalk/sdgs_py38/lib/python3.8/site-packages/bicm/graph_classes.py:1113: RuntimeWarning: invalid value encountered in divide\n",
      "  probs = node_xy * neighbor_xy / ((1 + node_xy) * (1 + neighbor_xy))\n",
      "/home/sarawalk/sdgs_py38/lib/python3.8/site-packages/bicm/graph_classes.py:1113: RuntimeWarning: invalid value encountered in divide\n",
      "  probs = node_xy * neighbor_xy / ((1 + node_xy) * (1 + neighbor_xy))\n",
      "100%|██████████████████████████████████████████████████████████████████████████████████████████████████████████████████████████| 6/6 [00:00<00:00, 64.64it/s]"
     ]
    },
    {
     "name": "stdout",
     "output_type": "stream",
     "text": [
      "No V-motifs will be validated. Try increasing alpha\n",
      "\n",
      "                      WARNING: this system has at least a node that is disconnected or connected to all nodes\n",
      "                       of the opposite layer. This may cause some convergence issues.\n",
      "                      Please use the full mode providing a biadjacency matrix or an edgelist,\n",
      "                       or clean your data from these nodes. \n",
      "                      \n",
      "2020 Energy SDG 12: Responsible Consumption and Production\r"
     ]
    },
    {
     "name": "stderr",
     "output_type": "stream",
     "text": [
      "\n",
      "\n",
      "  0%|                                                                                                                                 | 0/66 [00:00<?, ?it/s]\u001b[A/home/sarawalk/sdgs_py38/lib/python3.8/site-packages/bicm/graph_classes.py:1113: RuntimeWarning: invalid value encountered in divide\n",
      "  probs = node_xy * neighbor_xy / ((1 + node_xy) * (1 + neighbor_xy))\n",
      "/home/sarawalk/sdgs_py38/lib/python3.8/site-packages/bicm/graph_classes.py:1113: RuntimeWarning: invalid value encountered in divide\n",
      "  probs = node_xy * neighbor_xy / ((1 + node_xy) * (1 + neighbor_xy))\n",
      "/home/sarawalk/sdgs_py38/lib/python3.8/site-packages/bicm/graph_classes.py:1113: RuntimeWarning: invalid value encountered in divide\n",
      "  probs = node_xy * neighbor_xy / ((1 + node_xy) * (1 + neighbor_xy))\n",
      "/home/sarawalk/sdgs_py38/lib/python3.8/site-packages/bicm/graph_classes.py:1113: RuntimeWarning: invalid value encountered in divide\n",
      "  probs = node_xy * neighbor_xy / ((1 + node_xy) * (1 + neighbor_xy))\n",
      "\n",
      "100%|███████████████████████████████████████████████████████████████████████████████████████████████████████████████████████| 66/66 [00:00<00:00, 517.35it/s]\u001b[A\n"
     ]
    },
    {
     "name": "stdout",
     "output_type": "stream",
     "text": [
      "No V-motifs will be validated. Try increasing alpha\n"
     ]
    },
    {
     "name": "stderr",
     "output_type": "stream",
     "text": [
      "\n",
      "  0%|                                                                                                                                  | 0/6 [00:00<?, ?it/s]\u001b[A/home/sarawalk/sdgs_py38/lib/python3.8/site-packages/bicm/graph_classes.py:1113: RuntimeWarning: invalid value encountered in divide\n",
      "  probs = node_xy * neighbor_xy / ((1 + node_xy) * (1 + neighbor_xy))\n",
      "/home/sarawalk/sdgs_py38/lib/python3.8/site-packages/bicm/graph_classes.py:1113: RuntimeWarning: invalid value encountered in divide\n",
      "  probs = node_xy * neighbor_xy / ((1 + node_xy) * (1 + neighbor_xy))\n",
      "/home/sarawalk/sdgs_py38/lib/python3.8/site-packages/bicm/graph_classes.py:1113: RuntimeWarning: invalid value encountered in divide\n",
      "  probs = node_xy * neighbor_xy / ((1 + node_xy) * (1 + neighbor_xy))\n",
      "100%|██████████████████████████████████████████████████████████████████████████████████████████████████████████████████████████| 6/6 [00:00<00:00, 60.07it/s]"
     ]
    },
    {
     "name": "stdout",
     "output_type": "stream",
     "text": [
      "No V-motifs will be validated. Try increasing alpha\n",
      "\n",
      "                      WARNING: this system has at least a node that is disconnected or connected to all nodes\n",
      "                       of the opposite layer. This may cause some convergence issues.\n",
      "                      Please use the full mode providing a biadjacency matrix or an edgelist,\n",
      "                       or clean your data from these nodes. \n",
      "                      \n",
      "2020 Energy SDG 13: Climate Action\r"
     ]
    },
    {
     "name": "stderr",
     "output_type": "stream",
     "text": [
      "\n",
      "\n",
      "  0%|                                                                                                                                 | 0/66 [00:00<?, ?it/s]\u001b[A/home/sarawalk/sdgs_py38/lib/python3.8/site-packages/bicm/graph_classes.py:1113: RuntimeWarning: invalid value encountered in divide\n",
      "  probs = node_xy * neighbor_xy / ((1 + node_xy) * (1 + neighbor_xy))\n",
      "/home/sarawalk/sdgs_py38/lib/python3.8/site-packages/bicm/graph_classes.py:1113: RuntimeWarning: invalid value encountered in divide\n",
      "  probs = node_xy * neighbor_xy / ((1 + node_xy) * (1 + neighbor_xy))\n",
      "/home/sarawalk/sdgs_py38/lib/python3.8/site-packages/bicm/graph_classes.py:1113: RuntimeWarning: invalid value encountered in divide\n",
      "  probs = node_xy * neighbor_xy / ((1 + node_xy) * (1 + neighbor_xy))\n",
      "/home/sarawalk/sdgs_py38/lib/python3.8/site-packages/bicm/graph_classes.py:1113: RuntimeWarning: invalid value encountered in divide\n",
      "  probs = node_xy * neighbor_xy / ((1 + node_xy) * (1 + neighbor_xy))\n",
      "\n",
      "100%|███████████████████████████████████████████████████████████████████████████████████████████████████████████████████████| 66/66 [00:00<00:00, 515.85it/s]\u001b[A\n"
     ]
    },
    {
     "name": "stdout",
     "output_type": "stream",
     "text": [
      "No V-motifs will be validated. Try increasing alpha\n"
     ]
    },
    {
     "name": "stderr",
     "output_type": "stream",
     "text": [
      "\n",
      "  0%|                                                                                                                                  | 0/6 [00:00<?, ?it/s]\u001b[A/home/sarawalk/sdgs_py38/lib/python3.8/site-packages/bicm/graph_classes.py:1113: RuntimeWarning: invalid value encountered in divide\n",
      "  probs = node_xy * neighbor_xy / ((1 + node_xy) * (1 + neighbor_xy))\n",
      "/home/sarawalk/sdgs_py38/lib/python3.8/site-packages/bicm/graph_classes.py:1113: RuntimeWarning: invalid value encountered in divide\n",
      "  probs = node_xy * neighbor_xy / ((1 + node_xy) * (1 + neighbor_xy))\n",
      "/home/sarawalk/sdgs_py38/lib/python3.8/site-packages/bicm/graph_classes.py:1113: RuntimeWarning: invalid value encountered in divide\n",
      "  probs = node_xy * neighbor_xy / ((1 + node_xy) * (1 + neighbor_xy))\n",
      "/home/sarawalk/sdgs_py38/lib/python3.8/site-packages/bicm/graph_classes.py:1113: RuntimeWarning: invalid value encountered in divide\n",
      "  probs = node_xy * neighbor_xy / ((1 + node_xy) * (1 + neighbor_xy))\n",
      "100%|██████████████████████████████████████████████████████████████████████████████████████████████████████████████████████████| 6/6 [00:00<00:00, 66.64it/s]"
     ]
    },
    {
     "name": "stdout",
     "output_type": "stream",
     "text": [
      "No V-motifs will be validated. Try increasing alpha\n",
      "\n",
      "                      WARNING: this system has at least a node that is disconnected or connected to all nodes\n",
      "                       of the opposite layer. This may cause some convergence issues.\n",
      "                      Please use the full mode providing a biadjacency matrix or an edgelist,\n",
      "                       or clean your data from these nodes. \n",
      "                      \n",
      "2020 Energy SDG 14: Life Below Water\r"
     ]
    },
    {
     "name": "stderr",
     "output_type": "stream",
     "text": [
      "\n",
      "\n",
      "  0%|                                                                                                                                 | 0/66 [00:00<?, ?it/s]\u001b[A/home/sarawalk/sdgs_py38/lib/python3.8/site-packages/bicm/graph_classes.py:1113: RuntimeWarning: invalid value encountered in divide\n",
      "  probs = node_xy * neighbor_xy / ((1 + node_xy) * (1 + neighbor_xy))\n",
      "/home/sarawalk/sdgs_py38/lib/python3.8/site-packages/bicm/graph_classes.py:1113: RuntimeWarning: invalid value encountered in divide\n",
      "  probs = node_xy * neighbor_xy / ((1 + node_xy) * (1 + neighbor_xy))\n",
      "/home/sarawalk/sdgs_py38/lib/python3.8/site-packages/bicm/graph_classes.py:1113: RuntimeWarning: invalid value encountered in divide\n",
      "  probs = node_xy * neighbor_xy / ((1 + node_xy) * (1 + neighbor_xy))\n",
      "/home/sarawalk/sdgs_py38/lib/python3.8/site-packages/bicm/graph_classes.py:1113: RuntimeWarning: invalid value encountered in divide\n",
      "  probs = node_xy * neighbor_xy / ((1 + node_xy) * (1 + neighbor_xy))\n",
      "\n",
      "100%|███████████████████████████████████████████████████████████████████████████████████████████████████████████████████████| 66/66 [00:00<00:00, 540.99it/s]\u001b[A\n"
     ]
    },
    {
     "name": "stdout",
     "output_type": "stream",
     "text": [
      "No V-motifs will be validated. Try increasing alpha\n"
     ]
    },
    {
     "name": "stderr",
     "output_type": "stream",
     "text": [
      "\n",
      "  0%|                                                                                                                                  | 0/6 [00:00<?, ?it/s]\u001b[A/home/sarawalk/sdgs_py38/lib/python3.8/site-packages/bicm/graph_classes.py:1113: RuntimeWarning: invalid value encountered in divide\n",
      "  probs = node_xy * neighbor_xy / ((1 + node_xy) * (1 + neighbor_xy))\n",
      "/home/sarawalk/sdgs_py38/lib/python3.8/site-packages/bicm/graph_classes.py:1113: RuntimeWarning: invalid value encountered in divide\n",
      "  probs = node_xy * neighbor_xy / ((1 + node_xy) * (1 + neighbor_xy))\n",
      "/home/sarawalk/sdgs_py38/lib/python3.8/site-packages/bicm/graph_classes.py:1113: RuntimeWarning: invalid value encountered in divide\n",
      "  probs = node_xy * neighbor_xy / ((1 + node_xy) * (1 + neighbor_xy))\n",
      "/home/sarawalk/sdgs_py38/lib/python3.8/site-packages/bicm/graph_classes.py:1113: RuntimeWarning: invalid value encountered in divide\n",
      "  probs = node_xy * neighbor_xy / ((1 + node_xy) * (1 + neighbor_xy))\n",
      "\n",
      "100%|██████████████████████████████████████████████████████████████████████████████████████████████████████████████████████████| 6/6 [00:00<00:00, 54.32it/s]\u001b[A"
     ]
    },
    {
     "name": "stdout",
     "output_type": "stream",
     "text": [
      "No V-motifs will be validated. Try increasing alpha\n",
      "\n",
      "                      WARNING: this system has at least a node that is disconnected or connected to all nodes\n",
      "                       of the opposite layer. This may cause some convergence issues.\n",
      "                      Please use the full mode providing a biadjacency matrix or an edgelist,\n",
      "                       or clean your data from these nodes. \n",
      "                      \n",
      "2020 Energy SDG 15: Life on Land\r"
     ]
    },
    {
     "name": "stderr",
     "output_type": "stream",
     "text": [
      "\n",
      "\n",
      "  0%|                                                                                                                                 | 0/66 [00:00<?, ?it/s]\u001b[A/home/sarawalk/sdgs_py38/lib/python3.8/site-packages/bicm/graph_classes.py:1113: RuntimeWarning: invalid value encountered in divide\n",
      "  probs = node_xy * neighbor_xy / ((1 + node_xy) * (1 + neighbor_xy))\n",
      "/home/sarawalk/sdgs_py38/lib/python3.8/site-packages/bicm/graph_classes.py:1113: RuntimeWarning: invalid value encountered in divide\n",
      "  probs = node_xy * neighbor_xy / ((1 + node_xy) * (1 + neighbor_xy))\n",
      "/home/sarawalk/sdgs_py38/lib/python3.8/site-packages/bicm/graph_classes.py:1113: RuntimeWarning: invalid value encountered in divide\n",
      "  probs = node_xy * neighbor_xy / ((1 + node_xy) * (1 + neighbor_xy))\n",
      "/home/sarawalk/sdgs_py38/lib/python3.8/site-packages/bicm/graph_classes.py:1113: RuntimeWarning: invalid value encountered in divide\n",
      "  probs = node_xy * neighbor_xy / ((1 + node_xy) * (1 + neighbor_xy))\n",
      "\n",
      "100%|███████████████████████████████████████████████████████████████████████████████████████████████████████████████████████| 66/66 [00:00<00:00, 545.45it/s]\u001b[A\n"
     ]
    },
    {
     "name": "stdout",
     "output_type": "stream",
     "text": [
      "No V-motifs will be validated. Try increasing alpha\n"
     ]
    },
    {
     "name": "stderr",
     "output_type": "stream",
     "text": [
      "\n",
      "  0%|                                                                                                                                  | 0/6 [00:00<?, ?it/s]\u001b[A/home/sarawalk/sdgs_py38/lib/python3.8/site-packages/bicm/graph_classes.py:1113: RuntimeWarning: invalid value encountered in divide\n",
      "  probs = node_xy * neighbor_xy / ((1 + node_xy) * (1 + neighbor_xy))\n",
      "/home/sarawalk/sdgs_py38/lib/python3.8/site-packages/bicm/graph_classes.py:1113: RuntimeWarning: invalid value encountered in divide\n",
      "  probs = node_xy * neighbor_xy / ((1 + node_xy) * (1 + neighbor_xy))\n",
      "/home/sarawalk/sdgs_py38/lib/python3.8/site-packages/bicm/graph_classes.py:1113: RuntimeWarning: invalid value encountered in divide\n",
      "  probs = node_xy * neighbor_xy / ((1 + node_xy) * (1 + neighbor_xy))\n",
      "100%|██████████████████████████████████████████████████████████████████████████████████████████████████████████████████████████| 6/6 [00:00<00:00, 82.52it/s]"
     ]
    },
    {
     "name": "stdout",
     "output_type": "stream",
     "text": [
      "No V-motifs will be validated. Try increasing alpha\n",
      "\n",
      "                      WARNING: this system has at least a node that is disconnected or connected to all nodes\n",
      "                       of the opposite layer. This may cause some convergence issues.\n",
      "                      Please use the full mode providing a biadjacency matrix or an edgelist,\n",
      "                       or clean your data from these nodes. \n",
      "                      \n",
      "2020 Energy SDG 16: Peace, Justice, and Strong Institutions\r"
     ]
    },
    {
     "name": "stderr",
     "output_type": "stream",
     "text": [
      "\n",
      "\n",
      "  0%|                                                                                                                                 | 0/66 [00:00<?, ?it/s]\u001b[A/home/sarawalk/sdgs_py38/lib/python3.8/site-packages/bicm/graph_classes.py:1113: RuntimeWarning: invalid value encountered in divide\n",
      "  probs = node_xy * neighbor_xy / ((1 + node_xy) * (1 + neighbor_xy))\n",
      "/home/sarawalk/sdgs_py38/lib/python3.8/site-packages/bicm/graph_classes.py:1113: RuntimeWarning: invalid value encountered in divide\n",
      "  probs = node_xy * neighbor_xy / ((1 + node_xy) * (1 + neighbor_xy))\n",
      "/home/sarawalk/sdgs_py38/lib/python3.8/site-packages/bicm/graph_classes.py:1113: RuntimeWarning: invalid value encountered in divide\n",
      "  probs = node_xy * neighbor_xy / ((1 + node_xy) * (1 + neighbor_xy))\n",
      "/home/sarawalk/sdgs_py38/lib/python3.8/site-packages/bicm/graph_classes.py:1113: RuntimeWarning: invalid value encountered in divide\n",
      "  probs = node_xy * neighbor_xy / ((1 + node_xy) * (1 + neighbor_xy))\n",
      "\n",
      "100%|███████████████████████████████████████████████████████████████████████████████████████████████████████████████████████| 66/66 [00:00<00:00, 531.82it/s]\u001b[A\n"
     ]
    },
    {
     "name": "stdout",
     "output_type": "stream",
     "text": [
      "No V-motifs will be validated. Try increasing alpha\n"
     ]
    },
    {
     "name": "stderr",
     "output_type": "stream",
     "text": [
      "\n",
      "  0%|                                                                                                                                  | 0/6 [00:00<?, ?it/s]\u001b[A/home/sarawalk/sdgs_py38/lib/python3.8/site-packages/bicm/graph_classes.py:1113: RuntimeWarning: invalid value encountered in divide\n",
      "  probs = node_xy * neighbor_xy / ((1 + node_xy) * (1 + neighbor_xy))\n",
      "/home/sarawalk/sdgs_py38/lib/python3.8/site-packages/bicm/graph_classes.py:1113: RuntimeWarning: invalid value encountered in divide\n",
      "  probs = node_xy * neighbor_xy / ((1 + node_xy) * (1 + neighbor_xy))\n",
      "/home/sarawalk/sdgs_py38/lib/python3.8/site-packages/bicm/graph_classes.py:1113: RuntimeWarning: invalid value encountered in divide\n",
      "  probs = node_xy * neighbor_xy / ((1 + node_xy) * (1 + neighbor_xy))\n",
      "/home/sarawalk/sdgs_py38/lib/python3.8/site-packages/bicm/graph_classes.py:1113: RuntimeWarning: invalid value encountered in divide\n",
      "  probs = node_xy * neighbor_xy / ((1 + node_xy) * (1 + neighbor_xy))\n",
      "\n",
      "100%|██████████████████████████████████████████████████████████████████████████████████████████████████████████████████████████| 6/6 [00:00<00:00, 49.98it/s]\u001b[A"
     ]
    },
    {
     "name": "stdout",
     "output_type": "stream",
     "text": [
      "No V-motifs will be validated. Try increasing alpha\n",
      "\n",
      "                      WARNING: this system has at least a node that is disconnected or connected to all nodes\n",
      "                       of the opposite layer. This may cause some convergence issues.\n",
      "                      Please use the full mode providing a biadjacency matrix or an edgelist,\n",
      "                       or clean your data from these nodes. \n",
      "                      \n",
      "2020 Energy SDG 17: Partnerships for the Goals\r"
     ]
    },
    {
     "name": "stderr",
     "output_type": "stream",
     "text": [
      "\n",
      "\n",
      "  0%|                                                                                                                                 | 0/66 [00:00<?, ?it/s]\u001b[A/home/sarawalk/sdgs_py38/lib/python3.8/site-packages/bicm/graph_classes.py:1113: RuntimeWarning: invalid value encountered in divide\n",
      "  probs = node_xy * neighbor_xy / ((1 + node_xy) * (1 + neighbor_xy))\n",
      "/home/sarawalk/sdgs_py38/lib/python3.8/site-packages/bicm/graph_classes.py:1113: RuntimeWarning: invalid value encountered in divide\n",
      "  probs = node_xy * neighbor_xy / ((1 + node_xy) * (1 + neighbor_xy))\n",
      "/home/sarawalk/sdgs_py38/lib/python3.8/site-packages/bicm/graph_classes.py:1113: RuntimeWarning: invalid value encountered in divide\n",
      "  probs = node_xy * neighbor_xy / ((1 + node_xy) * (1 + neighbor_xy))\n",
      "/home/sarawalk/sdgs_py38/lib/python3.8/site-packages/bicm/graph_classes.py:1113: RuntimeWarning: invalid value encountered in divide\n",
      "  probs = node_xy * neighbor_xy / ((1 + node_xy) * (1 + neighbor_xy))\n",
      "\n",
      "100%|███████████████████████████████████████████████████████████████████████████████████████████████████████████████████████| 66/66 [00:00<00:00, 470.81it/s]\u001b[A\n"
     ]
    },
    {
     "name": "stdout",
     "output_type": "stream",
     "text": [
      "No V-motifs will be validated. Try increasing alpha\n"
     ]
    },
    {
     "name": "stderr",
     "output_type": "stream",
     "text": [
      "\n",
      "  0%|                                                                                                                                  | 0/6 [00:00<?, ?it/s]\u001b[A/home/sarawalk/sdgs_py38/lib/python3.8/site-packages/bicm/graph_classes.py:1113: RuntimeWarning: invalid value encountered in divide\n",
      "  probs = node_xy * neighbor_xy / ((1 + node_xy) * (1 + neighbor_xy))\n",
      "/home/sarawalk/sdgs_py38/lib/python3.8/site-packages/bicm/graph_classes.py:1113: RuntimeWarning: invalid value encountered in divide\n",
      "  probs = node_xy * neighbor_xy / ((1 + node_xy) * (1 + neighbor_xy))\n",
      "/home/sarawalk/sdgs_py38/lib/python3.8/site-packages/bicm/graph_classes.py:1113: RuntimeWarning: invalid value encountered in divide\n",
      "  probs = node_xy * neighbor_xy / ((1 + node_xy) * (1 + neighbor_xy))\n",
      "/home/sarawalk/sdgs_py38/lib/python3.8/site-packages/bicm/graph_classes.py:1113: RuntimeWarning: invalid value encountered in divide\n",
      "  probs = node_xy * neighbor_xy / ((1 + node_xy) * (1 + neighbor_xy))\n",
      "100%|██████████████████████████████████████████████████████████████████████████████████████████████████████████████████████████| 6/6 [00:00<00:00, 66.81it/s]"
     ]
    },
    {
     "name": "stdout",
     "output_type": "stream",
     "text": [
      "No V-motifs will be validated. Try increasing alpha\n",
      "\n",
      "                      WARNING: this system has at least a node that is disconnected or connected to all nodes\n",
      "                       of the opposite layer. This may cause some convergence issues.\n",
      "                      Please use the full mode providing a biadjacency matrix or an edgelist,\n",
      "                       or clean your data from these nodes. \n",
      "                      \n",
      "2020 Utilities SDG 1: No Poverty\r"
     ]
    },
    {
     "name": "stderr",
     "output_type": "stream",
     "text": [
      "\n",
      "\n",
      "  0%|                                                                                                                                | 0/127 [00:00<?, ?it/s]\u001b[A/home/sarawalk/sdgs_py38/lib/python3.8/site-packages/bicm/graph_classes.py:1113: RuntimeWarning: invalid value encountered in divide\n",
      "  probs = node_xy * neighbor_xy / ((1 + node_xy) * (1 + neighbor_xy))\n",
      "/home/sarawalk/sdgs_py38/lib/python3.8/site-packages/bicm/graph_classes.py:1113: RuntimeWarning: invalid value encountered in divide\n",
      "  probs = node_xy * neighbor_xy / ((1 + node_xy) * (1 + neighbor_xy))\n",
      "\n",
      " 44%|████████████████████████████████████████████████████                                                                  | 56/127 [00:00<00:00, 402.68it/s]\u001b[A/home/sarawalk/sdgs_py38/lib/python3.8/site-packages/bicm/graph_classes.py:1113: RuntimeWarning: invalid value encountered in divide\n",
      "  probs = node_xy * neighbor_xy / ((1 + node_xy) * (1 + neighbor_xy))\n",
      "/home/sarawalk/sdgs_py38/lib/python3.8/site-packages/bicm/graph_classes.py:1113: RuntimeWarning: invalid value encountered in divide\n",
      "  probs = node_xy * neighbor_xy / ((1 + node_xy) * (1 + neighbor_xy))\n",
      "\n",
      "100%|█████████████████████████████████████████████████████████████████████████████████████████████████████████████████████| 127/127 [00:00<00:00, 323.58it/s]\u001b[A\n"
     ]
    },
    {
     "name": "stdout",
     "output_type": "stream",
     "text": [
      "No V-motifs will be validated. Try increasing alpha\n"
     ]
    },
    {
     "name": "stderr",
     "output_type": "stream",
     "text": [
      "\n",
      "  0%|                                                                                                                                  | 0/6 [00:00<?, ?it/s]\u001b[A/home/sarawalk/sdgs_py38/lib/python3.8/site-packages/bicm/graph_classes.py:1113: RuntimeWarning: invalid value encountered in divide\n",
      "  probs = node_xy * neighbor_xy / ((1 + node_xy) * (1 + neighbor_xy))\n",
      "/home/sarawalk/sdgs_py38/lib/python3.8/site-packages/bicm/graph_classes.py:1113: RuntimeWarning: invalid value encountered in divide\n",
      "  probs = node_xy * neighbor_xy / ((1 + node_xy) * (1 + neighbor_xy))\n",
      "\n",
      " 50%|█████████████████████████████████████████████████████████████                                                             | 3/6 [00:00<00:00, 26.65it/s]/home/sarawalk/sdgs_py38/lib/python3.8/site-packages/bicm/graph_classes.py:1113: RuntimeWarning: invalid value encountered in divide\n",
      "  probs = node_xy * neighbor_xy / ((1 + node_xy) * (1 + neighbor_xy))\n",
      "\u001b[A/home/sarawalk/sdgs_py38/lib/python3.8/site-packages/bicm/graph_classes.py:1113: RuntimeWarning: invalid value encountered in divide\n",
      "  probs = node_xy * neighbor_xy / ((1 + node_xy) * (1 + neighbor_xy))\n",
      "\n",
      "100%|██████████████████████████████████████████████████████████████████████████████████████████████████████████████████████████| 6/6 [00:00<00:00, 27.36it/s]\u001b[A"
     ]
    },
    {
     "name": "stdout",
     "output_type": "stream",
     "text": [
      "No V-motifs will be validated. Try increasing alpha\n",
      "\n",
      "                      WARNING: this system has at least a node that is disconnected or connected to all nodes\n",
      "                       of the opposite layer. This may cause some convergence issues.\n",
      "                      Please use the full mode providing a biadjacency matrix or an edgelist,\n",
      "                       or clean your data from these nodes. \n",
      "                      \n",
      "2020 Utilities SDG 3: Good Health and Well-being\r"
     ]
    },
    {
     "name": "stderr",
     "output_type": "stream",
     "text": [
      "\n",
      "\n",
      "  0%|                                                                                                                                | 0/127 [00:00<?, ?it/s]\u001b[A/home/sarawalk/sdgs_py38/lib/python3.8/site-packages/bicm/graph_classes.py:1113: RuntimeWarning: invalid value encountered in divide\n",
      "  probs = node_xy * neighbor_xy / ((1 + node_xy) * (1 + neighbor_xy))\n",
      "/home/sarawalk/sdgs_py38/lib/python3.8/site-packages/bicm/graph_classes.py:1113: RuntimeWarning: invalid value encountered in divide\n",
      "  probs = node_xy * neighbor_xy / ((1 + node_xy) * (1 + neighbor_xy))\n",
      "\n",
      " 44%|████████████████████████████████████████████████████                                                                  | 56/127 [00:00<00:00, 508.57it/s]\u001b[A/home/sarawalk/sdgs_py38/lib/python3.8/site-packages/bicm/graph_classes.py:1113: RuntimeWarning: invalid value encountered in divide\n",
      "  probs = node_xy * neighbor_xy / ((1 + node_xy) * (1 + neighbor_xy))\n",
      "/home/sarawalk/sdgs_py38/lib/python3.8/site-packages/bicm/graph_classes.py:1113: RuntimeWarning: invalid value encountered in divide\n",
      "  probs = node_xy * neighbor_xy / ((1 + node_xy) * (1 + neighbor_xy))\n",
      "\n",
      "100%|█████████████████████████████████████████████████████████████████████████████████████████████████████████████████████| 127/127 [00:00<00:00, 366.51it/s]\u001b[A"
     ]
    },
    {
     "name": "stdout",
     "output_type": "stream",
     "text": [
      "No V-motifs will be validated. Try increasing alpha\n"
     ]
    },
    {
     "name": "stderr",
     "output_type": "stream",
     "text": [
      "\n",
      "\n",
      "  0%|                                                                                                                                  | 0/6 [00:00<?, ?it/s]\u001b[A/home/sarawalk/sdgs_py38/lib/python3.8/site-packages/bicm/graph_classes.py:1113: RuntimeWarning: invalid value encountered in divide\n",
      "  probs = node_xy * neighbor_xy / ((1 + node_xy) * (1 + neighbor_xy))\n",
      "/home/sarawalk/sdgs_py38/lib/python3.8/site-packages/bicm/graph_classes.py:1113: RuntimeWarning: invalid value encountered in divide\n",
      "  probs = node_xy * neighbor_xy / ((1 + node_xy) * (1 + neighbor_xy))\n",
      "/home/sarawalk/sdgs_py38/lib/python3.8/site-packages/bicm/graph_classes.py:1113: RuntimeWarning: invalid value encountered in divide\n",
      "  probs = node_xy * neighbor_xy / ((1 + node_xy) * (1 + neighbor_xy))\n",
      "\n",
      " 67%|█████████████████████████████████████████████████████████████████████████████████▎                                        | 4/6 [00:00<00:00, 31.02it/s]\u001b[A/home/sarawalk/sdgs_py38/lib/python3.8/site-packages/bicm/graph_classes.py:1113: RuntimeWarning: invalid value encountered in divide\n",
      "  probs = node_xy * neighbor_xy / ((1 + node_xy) * (1 + neighbor_xy))\n",
      "100%|██████████████████████████████████████████████████████████████████████████████████████████████████████████████████████████| 6/6 [00:00<00:00, 26.31it/s]"
     ]
    },
    {
     "name": "stdout",
     "output_type": "stream",
     "text": [
      "No V-motifs will be validated. Try increasing alpha\n",
      "\n",
      "                      WARNING: this system has at least a node that is disconnected or connected to all nodes\n",
      "                       of the opposite layer. This may cause some convergence issues.\n",
      "                      Please use the full mode providing a biadjacency matrix or an edgelist,\n",
      "                       or clean your data from these nodes. \n",
      "                      \n",
      "2020 Utilities SDG 4: Quality Education\r"
     ]
    },
    {
     "name": "stderr",
     "output_type": "stream",
     "text": [
      "\n",
      "\n",
      "  0%|                                                                                                                                | 0/127 [00:00<?, ?it/s]\u001b[A/home/sarawalk/sdgs_py38/lib/python3.8/site-packages/bicm/graph_classes.py:1113: RuntimeWarning: invalid value encountered in divide\n",
      "  probs = node_xy * neighbor_xy / ((1 + node_xy) * (1 + neighbor_xy))\n",
      "/home/sarawalk/sdgs_py38/lib/python3.8/site-packages/bicm/graph_classes.py:1113: RuntimeWarning: invalid value encountered in divide\n",
      "  probs = node_xy * neighbor_xy / ((1 + node_xy) * (1 + neighbor_xy))\n",
      "\n",
      " 44%|████████████████████████████████████████████████████                                                                  | 56/127 [00:00<00:00, 433.38it/s]\u001b[A/home/sarawalk/sdgs_py38/lib/python3.8/site-packages/bicm/graph_classes.py:1113: RuntimeWarning: invalid value encountered in divide\n",
      "  probs = node_xy * neighbor_xy / ((1 + node_xy) * (1 + neighbor_xy))\n",
      "/home/sarawalk/sdgs_py38/lib/python3.8/site-packages/bicm/graph_classes.py:1113: RuntimeWarning: invalid value encountered in divide\n",
      "  probs = node_xy * neighbor_xy / ((1 + node_xy) * (1 + neighbor_xy))\n",
      "\n",
      "100%|█████████████████████████████████████████████████████████████████████████████████████████████████████████████████████| 127/127 [00:00<00:00, 339.45it/s]\u001b[A\n"
     ]
    },
    {
     "name": "stdout",
     "output_type": "stream",
     "text": [
      "No V-motifs will be validated. Try increasing alpha\n"
     ]
    },
    {
     "name": "stderr",
     "output_type": "stream",
     "text": [
      "\n",
      "  0%|                                                                                                                                  | 0/6 [00:00<?, ?it/s]\u001b[A/home/sarawalk/sdgs_py38/lib/python3.8/site-packages/bicm/graph_classes.py:1113: RuntimeWarning: invalid value encountered in divide\n",
      "  probs = node_xy * neighbor_xy / ((1 + node_xy) * (1 + neighbor_xy))\n",
      "/home/sarawalk/sdgs_py38/lib/python3.8/site-packages/bicm/graph_classes.py:1113: RuntimeWarning: invalid value encountered in divide\n",
      "  probs = node_xy * neighbor_xy / ((1 + node_xy) * (1 + neighbor_xy))\n",
      "\n",
      " 50%|█████████████████████████████████████████████████████████████                                                             | 3/6 [00:00<00:00, 29.98it/s]\u001b[A/home/sarawalk/sdgs_py38/lib/python3.8/site-packages/bicm/graph_classes.py:1113: RuntimeWarning: invalid value encountered in divide\n",
      "  probs = node_xy * neighbor_xy / ((1 + node_xy) * (1 + neighbor_xy))\n",
      "/home/sarawalk/sdgs_py38/lib/python3.8/site-packages/bicm/graph_classes.py:1113: RuntimeWarning: invalid value encountered in divide\n",
      "  probs = node_xy * neighbor_xy / ((1 + node_xy) * (1 + neighbor_xy))\n",
      "\n",
      "100%|██████████████████████████████████████████████████████████████████████████████████████████████████████████████████████████| 6/6 [00:00<00:00, 28.48it/s]\u001b[A"
     ]
    },
    {
     "name": "stdout",
     "output_type": "stream",
     "text": [
      "No V-motifs will be validated. Try increasing alpha\n",
      "\n",
      "                      WARNING: this system has at least a node that is disconnected or connected to all nodes\n",
      "                       of the opposite layer. This may cause some convergence issues.\n",
      "                      Please use the full mode providing a biadjacency matrix or an edgelist,\n",
      "                       or clean your data from these nodes. \n",
      "                      \n",
      "2020 Utilities SDG 5: Gender Equality\r"
     ]
    },
    {
     "name": "stderr",
     "output_type": "stream",
     "text": [
      "\n",
      "\n",
      "  0%|                                                                                                                                | 0/127 [00:00<?, ?it/s]\u001b[A/home/sarawalk/sdgs_py38/lib/python3.8/site-packages/bicm/graph_classes.py:1113: RuntimeWarning: invalid value encountered in divide\n",
      "  probs = node_xy * neighbor_xy / ((1 + node_xy) * (1 + neighbor_xy))\n",
      "/home/sarawalk/sdgs_py38/lib/python3.8/site-packages/bicm/graph_classes.py:1113: RuntimeWarning: invalid value encountered in divide\n",
      "  probs = node_xy * neighbor_xy / ((1 + node_xy) * (1 + neighbor_xy))\n",
      "\n",
      " 44%|████████████████████████████████████████████████████                                                                  | 56/127 [00:00<00:00, 482.70it/s]\u001b[A/home/sarawalk/sdgs_py38/lib/python3.8/site-packages/bicm/graph_classes.py:1113: RuntimeWarning: invalid value encountered in divide\n",
      "  probs = node_xy * neighbor_xy / ((1 + node_xy) * (1 + neighbor_xy))\n",
      "/home/sarawalk/sdgs_py38/lib/python3.8/site-packages/bicm/graph_classes.py:1113: RuntimeWarning: invalid value encountered in divide\n",
      "  probs = node_xy * neighbor_xy / ((1 + node_xy) * (1 + neighbor_xy))\n",
      "\n",
      "100%|█████████████████████████████████████████████████████████████████████████████████████████████████████████████████████| 127/127 [00:00<00:00, 359.10it/s]\u001b[A"
     ]
    },
    {
     "name": "stdout",
     "output_type": "stream",
     "text": [
      "No V-motifs will be validated. Try increasing alpha\n"
     ]
    },
    {
     "name": "stderr",
     "output_type": "stream",
     "text": [
      "\n",
      "\n",
      "  0%|                                                                                                                                  | 0/6 [00:00<?, ?it/s]\u001b[A/home/sarawalk/sdgs_py38/lib/python3.8/site-packages/bicm/graph_classes.py:1113: RuntimeWarning: invalid value encountered in divide\n",
      "  probs = node_xy * neighbor_xy / ((1 + node_xy) * (1 + neighbor_xy))\n",
      "/home/sarawalk/sdgs_py38/lib/python3.8/site-packages/bicm/graph_classes.py:1113: RuntimeWarning: invalid value encountered in divide\n",
      "  probs = node_xy * neighbor_xy / ((1 + node_xy) * (1 + neighbor_xy))\n",
      "\n",
      " 50%|█████████████████████████████████████████████████████████████                                                             | 3/6 [00:00<00:00, 24.68it/s]\u001b[A/home/sarawalk/sdgs_py38/lib/python3.8/site-packages/bicm/graph_classes.py:1113: RuntimeWarning: invalid value encountered in divide\n",
      "  probs = node_xy * neighbor_xy / ((1 + node_xy) * (1 + neighbor_xy))\n",
      "/home/sarawalk/sdgs_py38/lib/python3.8/site-packages/bicm/graph_classes.py:1113: RuntimeWarning: invalid value encountered in divide\n",
      "  probs = node_xy * neighbor_xy / ((1 + node_xy) * (1 + neighbor_xy))\n",
      "\n",
      "100%|██████████████████████████████████████████████████████████████████████████████████████████████████████████████████████████| 6/6 [00:00<00:00, 25.13it/s]\u001b[A"
     ]
    },
    {
     "name": "stdout",
     "output_type": "stream",
     "text": [
      "No V-motifs will be validated. Try increasing alpha\n",
      "\n",
      "                      WARNING: this system has at least a node that is disconnected or connected to all nodes\n",
      "                       of the opposite layer. This may cause some convergence issues.\n",
      "                      Please use the full mode providing a biadjacency matrix or an edgelist,\n",
      "                       or clean your data from these nodes. \n",
      "                      \n",
      "2020 Utilities SDG 6: Clean Water and Sanitation\r"
     ]
    },
    {
     "name": "stderr",
     "output_type": "stream",
     "text": [
      "\n",
      "\n",
      "  0%|                                                                                                                                | 0/127 [00:00<?, ?it/s]\u001b[A/home/sarawalk/sdgs_py38/lib/python3.8/site-packages/bicm/graph_classes.py:1113: RuntimeWarning: invalid value encountered in divide\n",
      "  probs = node_xy * neighbor_xy / ((1 + node_xy) * (1 + neighbor_xy))\n",
      "/home/sarawalk/sdgs_py38/lib/python3.8/site-packages/bicm/graph_classes.py:1113: RuntimeWarning: invalid value encountered in divide\n",
      "  probs = node_xy * neighbor_xy / ((1 + node_xy) * (1 + neighbor_xy))\n",
      "\n",
      " 44%|████████████████████████████████████████████████████                                                                  | 56/127 [00:00<00:00, 539.07it/s]\u001b[A/home/sarawalk/sdgs_py38/lib/python3.8/site-packages/bicm/graph_classes.py:1113: RuntimeWarning: invalid value encountered in divide\n",
      "  probs = node_xy * neighbor_xy / ((1 + node_xy) * (1 + neighbor_xy))\n",
      "/home/sarawalk/sdgs_py38/lib/python3.8/site-packages/bicm/graph_classes.py:1113: RuntimeWarning: invalid value encountered in divide\n",
      "  probs = node_xy * neighbor_xy / ((1 + node_xy) * (1 + neighbor_xy))\n",
      "\n",
      "100%|█████████████████████████████████████████████████████████████████████████████████████████████████████████████████████| 127/127 [00:00<00:00, 333.48it/s]\u001b[A"
     ]
    },
    {
     "name": "stdout",
     "output_type": "stream",
     "text": [
      "No V-motifs will be validated. Try increasing alpha\n"
     ]
    },
    {
     "name": "stderr",
     "output_type": "stream",
     "text": [
      "\n",
      "\n",
      "  0%|                                                                                                                                  | 0/6 [00:00<?, ?it/s]\u001b[A/home/sarawalk/sdgs_py38/lib/python3.8/site-packages/bicm/graph_classes.py:1113: RuntimeWarning: invalid value encountered in divide\n",
      "  probs = node_xy * neighbor_xy / ((1 + node_xy) * (1 + neighbor_xy))\n",
      "/home/sarawalk/sdgs_py38/lib/python3.8/site-packages/bicm/graph_classes.py:1113: RuntimeWarning: invalid value encountered in divide\n",
      "  probs = node_xy * neighbor_xy / ((1 + node_xy) * (1 + neighbor_xy))\n",
      "/home/sarawalk/sdgs_py38/lib/python3.8/site-packages/bicm/graph_classes.py:1113: RuntimeWarning: invalid value encountered in divide\n",
      "  probs = node_xy * neighbor_xy / ((1 + node_xy) * (1 + neighbor_xy))\n",
      "\n",
      " 67%|█████████████████████████████████████████████████████████████████████████████████▎                                        | 4/6 [00:00<00:00, 30.21it/s]\u001b[A/home/sarawalk/sdgs_py38/lib/python3.8/site-packages/bicm/graph_classes.py:1113: RuntimeWarning: invalid value encountered in divide\n",
      "  probs = node_xy * neighbor_xy / ((1 + node_xy) * (1 + neighbor_xy))\n",
      "100%|██████████████████████████████████████████████████████████████████████████████████████████████████████████████████████████| 6/6 [00:00<00:00, 26.70it/s]"
     ]
    },
    {
     "name": "stdout",
     "output_type": "stream",
     "text": [
      "No V-motifs will be validated. Try increasing alpha\n",
      "\n",
      "                      WARNING: this system has at least a node that is disconnected or connected to all nodes\n",
      "                       of the opposite layer. This may cause some convergence issues.\n",
      "                      Please use the full mode providing a biadjacency matrix or an edgelist,\n",
      "                       or clean your data from these nodes. \n",
      "                      \n",
      "2020 Utilities SDG 7: Affordable and Clean Energy\r"
     ]
    },
    {
     "name": "stderr",
     "output_type": "stream",
     "text": [
      "\n",
      "\n",
      "  0%|                                                                                                                                | 0/127 [00:00<?, ?it/s]\u001b[A/home/sarawalk/sdgs_py38/lib/python3.8/site-packages/bicm/graph_classes.py:1113: RuntimeWarning: invalid value encountered in divide\n",
      "  probs = node_xy * neighbor_xy / ((1 + node_xy) * (1 + neighbor_xy))\n",
      "/home/sarawalk/sdgs_py38/lib/python3.8/site-packages/bicm/graph_classes.py:1113: RuntimeWarning: invalid value encountered in divide\n",
      "  probs = node_xy * neighbor_xy / ((1 + node_xy) * (1 + neighbor_xy))\n",
      "\n",
      " 44%|████████████████████████████████████████████████████                                                                  | 56/127 [00:00<00:00, 533.19it/s]\u001b[A/home/sarawalk/sdgs_py38/lib/python3.8/site-packages/bicm/graph_classes.py:1113: RuntimeWarning: invalid value encountered in divide\n",
      "  probs = node_xy * neighbor_xy / ((1 + node_xy) * (1 + neighbor_xy))\n",
      "/home/sarawalk/sdgs_py38/lib/python3.8/site-packages/bicm/graph_classes.py:1113: RuntimeWarning: invalid value encountered in divide\n",
      "  probs = node_xy * neighbor_xy / ((1 + node_xy) * (1 + neighbor_xy))\n",
      "\n",
      "100%|█████████████████████████████████████████████████████████████████████████████████████████████████████████████████████| 127/127 [00:00<00:00, 345.54it/s]\u001b[A"
     ]
    },
    {
     "name": "stdout",
     "output_type": "stream",
     "text": [
      "No V-motifs will be validated. Try increasing alpha\n"
     ]
    },
    {
     "name": "stderr",
     "output_type": "stream",
     "text": [
      "\n",
      "\n",
      "  0%|                                                                                                                                  | 0/6 [00:00<?, ?it/s]\u001b[A/home/sarawalk/sdgs_py38/lib/python3.8/site-packages/bicm/graph_classes.py:1113: RuntimeWarning: invalid value encountered in divide\n",
      "  probs = node_xy * neighbor_xy / ((1 + node_xy) * (1 + neighbor_xy))\n",
      "/home/sarawalk/sdgs_py38/lib/python3.8/site-packages/bicm/graph_classes.py:1113: RuntimeWarning: invalid value encountered in divide\n",
      "  probs = node_xy * neighbor_xy / ((1 + node_xy) * (1 + neighbor_xy))\n",
      "\n",
      " 50%|█████████████████████████████████████████████████████████████                                                             | 3/6 [00:00<00:00, 28.76it/s]\u001b[A/home/sarawalk/sdgs_py38/lib/python3.8/site-packages/bicm/graph_classes.py:1113: RuntimeWarning: invalid value encountered in divide\n",
      "  probs = node_xy * neighbor_xy / ((1 + node_xy) * (1 + neighbor_xy))\n",
      "/home/sarawalk/sdgs_py38/lib/python3.8/site-packages/bicm/graph_classes.py:1113: RuntimeWarning: invalid value encountered in divide\n",
      "  probs = node_xy * neighbor_xy / ((1 + node_xy) * (1 + neighbor_xy))\n",
      "\n",
      "100%|██████████████████████████████████████████████████████████████████████████████████████████████████████████████████████████| 6/6 [00:00<00:00, 26.94it/s]\u001b[A"
     ]
    },
    {
     "name": "stdout",
     "output_type": "stream",
     "text": [
      "No V-motifs will be validated. Try increasing alpha\n",
      "\n",
      "                      WARNING: this system has at least a node that is disconnected or connected to all nodes\n",
      "                       of the opposite layer. This may cause some convergence issues.\n",
      "                      Please use the full mode providing a biadjacency matrix or an edgelist,\n",
      "                       or clean your data from these nodes. \n",
      "                      \n",
      "2020 Utilities SDG 8: Decent Work and Economic Growth\r"
     ]
    },
    {
     "name": "stderr",
     "output_type": "stream",
     "text": [
      "\n",
      "\n",
      "  0%|                                                                                                                                | 0/127 [00:00<?, ?it/s]\u001b[A/home/sarawalk/sdgs_py38/lib/python3.8/site-packages/bicm/graph_classes.py:1113: RuntimeWarning: invalid value encountered in divide\n",
      "  probs = node_xy * neighbor_xy / ((1 + node_xy) * (1 + neighbor_xy))\n",
      "/home/sarawalk/sdgs_py38/lib/python3.8/site-packages/bicm/graph_classes.py:1113: RuntimeWarning: invalid value encountered in divide\n",
      "  probs = node_xy * neighbor_xy / ((1 + node_xy) * (1 + neighbor_xy))\n",
      "\n",
      " 44%|████████████████████████████████████████████████████                                                                  | 56/127 [00:00<00:00, 498.88it/s]\u001b[A/home/sarawalk/sdgs_py38/lib/python3.8/site-packages/bicm/graph_classes.py:1113: RuntimeWarning: invalid value encountered in divide\n",
      "  probs = node_xy * neighbor_xy / ((1 + node_xy) * (1 + neighbor_xy))\n",
      "/home/sarawalk/sdgs_py38/lib/python3.8/site-packages/bicm/graph_classes.py:1113: RuntimeWarning: invalid value encountered in divide\n",
      "  probs = node_xy * neighbor_xy / ((1 + node_xy) * (1 + neighbor_xy))\n",
      "\n",
      "100%|█████████████████████████████████████████████████████████████████████████████████████████████████████████████████████| 127/127 [00:00<00:00, 343.35it/s]\u001b[A"
     ]
    },
    {
     "name": "stdout",
     "output_type": "stream",
     "text": [
      "No V-motifs will be validated. Try increasing alpha\n"
     ]
    },
    {
     "name": "stderr",
     "output_type": "stream",
     "text": [
      "\n",
      "\n",
      "  0%|                                                                                                                                  | 0/6 [00:00<?, ?it/s]\u001b[A/home/sarawalk/sdgs_py38/lib/python3.8/site-packages/bicm/graph_classes.py:1113: RuntimeWarning: invalid value encountered in divide\n",
      "  probs = node_xy * neighbor_xy / ((1 + node_xy) * (1 + neighbor_xy))\n",
      "/home/sarawalk/sdgs_py38/lib/python3.8/site-packages/bicm/graph_classes.py:1113: RuntimeWarning: invalid value encountered in divide\n",
      "  probs = node_xy * neighbor_xy / ((1 + node_xy) * (1 + neighbor_xy))\n",
      "\n",
      " 50%|█████████████████████████████████████████████████████████████                                                             | 3/6 [00:00<00:00, 28.63it/s]\u001b[A/home/sarawalk/sdgs_py38/lib/python3.8/site-packages/bicm/graph_classes.py:1113: RuntimeWarning: invalid value encountered in divide\n",
      "  probs = node_xy * neighbor_xy / ((1 + node_xy) * (1 + neighbor_xy))\n",
      "/home/sarawalk/sdgs_py38/lib/python3.8/site-packages/bicm/graph_classes.py:1113: RuntimeWarning: invalid value encountered in divide\n",
      "  probs = node_xy * neighbor_xy / ((1 + node_xy) * (1 + neighbor_xy))\n",
      "\n",
      "100%|██████████████████████████████████████████████████████████████████████████████████████████████████████████████████████████| 6/6 [00:00<00:00, 27.82it/s]\u001b[A"
     ]
    },
    {
     "name": "stdout",
     "output_type": "stream",
     "text": [
      "No V-motifs will be validated. Try increasing alpha\n",
      "\n",
      "                      WARNING: this system has at least a node that is disconnected or connected to all nodes\n",
      "                       of the opposite layer. This may cause some convergence issues.\n",
      "                      Please use the full mode providing a biadjacency matrix or an edgelist,\n",
      "                       or clean your data from these nodes. \n",
      "                      \n",
      "2020 Utilities SDG 9: Industry, Innovation, and Infrastructure\r"
     ]
    },
    {
     "name": "stderr",
     "output_type": "stream",
     "text": [
      "\n",
      "\n",
      "  0%|                                                                                                                                | 0/127 [00:00<?, ?it/s]\u001b[A/home/sarawalk/sdgs_py38/lib/python3.8/site-packages/bicm/graph_classes.py:1113: RuntimeWarning: invalid value encountered in divide\n",
      "  probs = node_xy * neighbor_xy / ((1 + node_xy) * (1 + neighbor_xy))\n",
      "/home/sarawalk/sdgs_py38/lib/python3.8/site-packages/bicm/graph_classes.py:1113: RuntimeWarning: invalid value encountered in divide\n",
      "  probs = node_xy * neighbor_xy / ((1 + node_xy) * (1 + neighbor_xy))\n",
      "\n",
      " 44%|████████████████████████████████████████████████████                                                                  | 56/127 [00:00<00:00, 539.44it/s]\u001b[A/home/sarawalk/sdgs_py38/lib/python3.8/site-packages/bicm/graph_classes.py:1113: RuntimeWarning: invalid value encountered in divide\n",
      "  probs = node_xy * neighbor_xy / ((1 + node_xy) * (1 + neighbor_xy))\n",
      "/home/sarawalk/sdgs_py38/lib/python3.8/site-packages/bicm/graph_classes.py:1113: RuntimeWarning: invalid value encountered in divide\n",
      "  probs = node_xy * neighbor_xy / ((1 + node_xy) * (1 + neighbor_xy))\n",
      "\n",
      "100%|█████████████████████████████████████████████████████████████████████████████████████████████████████████████████████| 127/127 [00:00<00:00, 364.53it/s]\u001b[A"
     ]
    },
    {
     "name": "stdout",
     "output_type": "stream",
     "text": [
      "No V-motifs will be validated. Try increasing alpha\n"
     ]
    },
    {
     "name": "stderr",
     "output_type": "stream",
     "text": [
      "\n",
      "\n",
      "  0%|                                                                                                                                  | 0/6 [00:00<?, ?it/s]\u001b[A/home/sarawalk/sdgs_py38/lib/python3.8/site-packages/bicm/graph_classes.py:1113: RuntimeWarning: invalid value encountered in divide\n",
      "  probs = node_xy * neighbor_xy / ((1 + node_xy) * (1 + neighbor_xy))\n",
      "/home/sarawalk/sdgs_py38/lib/python3.8/site-packages/bicm/graph_classes.py:1113: RuntimeWarning: invalid value encountered in divide\n",
      "  probs = node_xy * neighbor_xy / ((1 + node_xy) * (1 + neighbor_xy))\n",
      "/home/sarawalk/sdgs_py38/lib/python3.8/site-packages/bicm/graph_classes.py:1113: RuntimeWarning: invalid value encountered in divide\n",
      "  probs = node_xy * neighbor_xy / ((1 + node_xy) * (1 + neighbor_xy))\n",
      "\n",
      " 67%|█████████████████████████████████████████████████████████████████████████████████▎                                        | 4/6 [00:00<00:00, 29.63it/s]\u001b[A/home/sarawalk/sdgs_py38/lib/python3.8/site-packages/bicm/graph_classes.py:1113: RuntimeWarning: invalid value encountered in divide\n",
      "  probs = node_xy * neighbor_xy / ((1 + node_xy) * (1 + neighbor_xy))\n",
      "100%|██████████████████████████████████████████████████████████████████████████████████████████████████████████████████████████| 6/6 [00:00<00:00, 29.98it/s]"
     ]
    },
    {
     "name": "stdout",
     "output_type": "stream",
     "text": [
      "No V-motifs will be validated. Try increasing alpha\n",
      "\n",
      "                      WARNING: this system has at least a node that is disconnected or connected to all nodes\n",
      "                       of the opposite layer. This may cause some convergence issues.\n",
      "                      Please use the full mode providing a biadjacency matrix or an edgelist,\n",
      "                       or clean your data from these nodes. \n",
      "                      \n",
      "2020 Utilities SDG 10: Reduced Inequality\r"
     ]
    },
    {
     "name": "stderr",
     "output_type": "stream",
     "text": [
      "\n",
      "\n",
      "  0%|                                                                                                                                | 0/127 [00:00<?, ?it/s]\u001b[A/home/sarawalk/sdgs_py38/lib/python3.8/site-packages/bicm/graph_classes.py:1113: RuntimeWarning: invalid value encountered in divide\n",
      "  probs = node_xy * neighbor_xy / ((1 + node_xy) * (1 + neighbor_xy))\n",
      "/home/sarawalk/sdgs_py38/lib/python3.8/site-packages/bicm/graph_classes.py:1113: RuntimeWarning: invalid value encountered in divide\n",
      "  probs = node_xy * neighbor_xy / ((1 + node_xy) * (1 + neighbor_xy))\n",
      "\n",
      " 44%|████████████████████████████████████████████████████                                                                  | 56/127 [00:00<00:00, 495.20it/s]\u001b[A/home/sarawalk/sdgs_py38/lib/python3.8/site-packages/bicm/graph_classes.py:1113: RuntimeWarning: invalid value encountered in divide\n",
      "  probs = node_xy * neighbor_xy / ((1 + node_xy) * (1 + neighbor_xy))\n",
      "/home/sarawalk/sdgs_py38/lib/python3.8/site-packages/bicm/graph_classes.py:1113: RuntimeWarning: invalid value encountered in divide\n",
      "  probs = node_xy * neighbor_xy / ((1 + node_xy) * (1 + neighbor_xy))\n",
      "\n",
      "100%|█████████████████████████████████████████████████████████████████████████████████████████████████████████████████████| 127/127 [00:00<00:00, 350.94it/s]\u001b[A"
     ]
    },
    {
     "name": "stdout",
     "output_type": "stream",
     "text": [
      "No V-motifs will be validated. Try increasing alpha\n"
     ]
    },
    {
     "name": "stderr",
     "output_type": "stream",
     "text": [
      "\n",
      "\n",
      "  0%|                                                                                                                                  | 0/6 [00:00<?, ?it/s]\u001b[A/home/sarawalk/sdgs_py38/lib/python3.8/site-packages/bicm/graph_classes.py:1113: RuntimeWarning: invalid value encountered in divide\n",
      "  probs = node_xy * neighbor_xy / ((1 + node_xy) * (1 + neighbor_xy))\n",
      "/home/sarawalk/sdgs_py38/lib/python3.8/site-packages/bicm/graph_classes.py:1113: RuntimeWarning: invalid value encountered in divide\n",
      "  probs = node_xy * neighbor_xy / ((1 + node_xy) * (1 + neighbor_xy))\n",
      "/home/sarawalk/sdgs_py38/lib/python3.8/site-packages/bicm/graph_classes.py:1113: RuntimeWarning: invalid value encountered in divide\n",
      "  probs = node_xy * neighbor_xy / ((1 + node_xy) * (1 + neighbor_xy))\n",
      "\n",
      " 67%|█████████████████████████████████████████████████████████████████████████████████▎                                        | 4/6 [00:00<00:00, 29.01it/s]\u001b[A/home/sarawalk/sdgs_py38/lib/python3.8/site-packages/bicm/graph_classes.py:1113: RuntimeWarning: invalid value encountered in divide\n",
      "  probs = node_xy * neighbor_xy / ((1 + node_xy) * (1 + neighbor_xy))\n",
      "100%|██████████████████████████████████████████████████████████████████████████████████████████████████████████████████████████| 6/6 [00:00<00:00, 27.18it/s]"
     ]
    },
    {
     "name": "stdout",
     "output_type": "stream",
     "text": [
      "No V-motifs will be validated. Try increasing alpha\n",
      "\n",
      "                      WARNING: this system has at least a node that is disconnected or connected to all nodes\n",
      "                       of the opposite layer. This may cause some convergence issues.\n",
      "                      Please use the full mode providing a biadjacency matrix or an edgelist,\n",
      "                       or clean your data from these nodes. \n",
      "                      \n",
      "2020 Utilities SDG 11: Sustainable Cities and Communities\r"
     ]
    },
    {
     "name": "stderr",
     "output_type": "stream",
     "text": [
      "\n",
      "\n",
      "  0%|                                                                                                                                | 0/127 [00:00<?, ?it/s]\u001b[A/home/sarawalk/sdgs_py38/lib/python3.8/site-packages/bicm/graph_classes.py:1113: RuntimeWarning: invalid value encountered in divide\n",
      "  probs = node_xy * neighbor_xy / ((1 + node_xy) * (1 + neighbor_xy))\n",
      "/home/sarawalk/sdgs_py38/lib/python3.8/site-packages/bicm/graph_classes.py:1113: RuntimeWarning: invalid value encountered in divide\n",
      "  probs = node_xy * neighbor_xy / ((1 + node_xy) * (1 + neighbor_xy))\n",
      "\n",
      " 44%|████████████████████████████████████████████████████                                                                  | 56/127 [00:00<00:00, 514.90it/s]\u001b[A/home/sarawalk/sdgs_py38/lib/python3.8/site-packages/bicm/graph_classes.py:1113: RuntimeWarning: invalid value encountered in divide\n",
      "  probs = node_xy * neighbor_xy / ((1 + node_xy) * (1 + neighbor_xy))\n",
      "/home/sarawalk/sdgs_py38/lib/python3.8/site-packages/bicm/graph_classes.py:1113: RuntimeWarning: invalid value encountered in divide\n",
      "  probs = node_xy * neighbor_xy / ((1 + node_xy) * (1 + neighbor_xy))\n",
      "\n",
      "100%|█████████████████████████████████████████████████████████████████████████████████████████████████████████████████████| 127/127 [00:00<00:00, 361.85it/s]\u001b[A"
     ]
    },
    {
     "name": "stdout",
     "output_type": "stream",
     "text": [
      "No V-motifs will be validated. Try increasing alpha\n"
     ]
    },
    {
     "name": "stderr",
     "output_type": "stream",
     "text": [
      "\n",
      "\n",
      "  0%|                                                                                                                                  | 0/6 [00:00<?, ?it/s]\u001b[A/home/sarawalk/sdgs_py38/lib/python3.8/site-packages/bicm/graph_classes.py:1113: RuntimeWarning: invalid value encountered in divide\n",
      "  probs = node_xy * neighbor_xy / ((1 + node_xy) * (1 + neighbor_xy))\n",
      "/home/sarawalk/sdgs_py38/lib/python3.8/site-packages/bicm/graph_classes.py:1113: RuntimeWarning: invalid value encountered in divide\n",
      "  probs = node_xy * neighbor_xy / ((1 + node_xy) * (1 + neighbor_xy))\n",
      "\n",
      " 50%|█████████████████████████████████████████████████████████████                                                             | 3/6 [00:00<00:00, 25.63it/s]\u001b[A/home/sarawalk/sdgs_py38/lib/python3.8/site-packages/bicm/graph_classes.py:1113: RuntimeWarning: invalid value encountered in divide\n",
      "  probs = node_xy * neighbor_xy / ((1 + node_xy) * (1 + neighbor_xy))\n",
      "/home/sarawalk/sdgs_py38/lib/python3.8/site-packages/bicm/graph_classes.py:1113: RuntimeWarning: invalid value encountered in divide\n",
      "  probs = node_xy * neighbor_xy / ((1 + node_xy) * (1 + neighbor_xy))\n",
      "100%|██████████████████████████████████████████████████████████████████████████████████████████████████████████████████████████| 6/6 [00:00<00:00, 27.92it/s]"
     ]
    },
    {
     "name": "stdout",
     "output_type": "stream",
     "text": [
      "No V-motifs will be validated. Try increasing alpha\n",
      "\n",
      "                      WARNING: this system has at least a node that is disconnected or connected to all nodes\n",
      "                       of the opposite layer. This may cause some convergence issues.\n",
      "                      Please use the full mode providing a biadjacency matrix or an edgelist,\n",
      "                       or clean your data from these nodes. \n",
      "                      \n",
      "2020 Utilities SDG 12: Responsible Consumption and Production\r"
     ]
    },
    {
     "name": "stderr",
     "output_type": "stream",
     "text": [
      "\n",
      "\n",
      "  0%|                                                                                                                                | 0/127 [00:00<?, ?it/s]\u001b[A/home/sarawalk/sdgs_py38/lib/python3.8/site-packages/bicm/graph_classes.py:1113: RuntimeWarning: invalid value encountered in divide\n",
      "  probs = node_xy * neighbor_xy / ((1 + node_xy) * (1 + neighbor_xy))\n",
      "/home/sarawalk/sdgs_py38/lib/python3.8/site-packages/bicm/graph_classes.py:1113: RuntimeWarning: invalid value encountered in divide\n",
      "  probs = node_xy * neighbor_xy / ((1 + node_xy) * (1 + neighbor_xy))\n",
      "\n",
      " 44%|████████████████████████████████████████████████████                                                                  | 56/127 [00:00<00:00, 476.61it/s]\u001b[A/home/sarawalk/sdgs_py38/lib/python3.8/site-packages/bicm/graph_classes.py:1113: RuntimeWarning: invalid value encountered in divide\n",
      "  probs = node_xy * neighbor_xy / ((1 + node_xy) * (1 + neighbor_xy))\n",
      "/home/sarawalk/sdgs_py38/lib/python3.8/site-packages/bicm/graph_classes.py:1113: RuntimeWarning: invalid value encountered in divide\n",
      "  probs = node_xy * neighbor_xy / ((1 + node_xy) * (1 + neighbor_xy))\n",
      "\n",
      "100%|█████████████████████████████████████████████████████████████████████████████████████████████████████████████████████| 127/127 [00:00<00:00, 360.19it/s]\u001b[A"
     ]
    },
    {
     "name": "stdout",
     "output_type": "stream",
     "text": [
      "No V-motifs will be validated. Try increasing alpha\n"
     ]
    },
    {
     "name": "stderr",
     "output_type": "stream",
     "text": [
      "\n",
      "\n",
      "  0%|                                                                                                                                  | 0/6 [00:00<?, ?it/s]\u001b[A/home/sarawalk/sdgs_py38/lib/python3.8/site-packages/bicm/graph_classes.py:1113: RuntimeWarning: invalid value encountered in divide\n",
      "  probs = node_xy * neighbor_xy / ((1 + node_xy) * (1 + neighbor_xy))\n",
      "/home/sarawalk/sdgs_py38/lib/python3.8/site-packages/bicm/graph_classes.py:1113: RuntimeWarning: invalid value encountered in divide\n",
      "  probs = node_xy * neighbor_xy / ((1 + node_xy) * (1 + neighbor_xy))\n",
      "/home/sarawalk/sdgs_py38/lib/python3.8/site-packages/bicm/graph_classes.py:1113: RuntimeWarning: invalid value encountered in divide\n",
      "  probs = node_xy * neighbor_xy / ((1 + node_xy) * (1 + neighbor_xy))\n",
      "\n",
      " 67%|█████████████████████████████████████████████████████████████████████████████████▎                                        | 4/6 [00:00<00:00, 36.47it/s]\u001b[A/home/sarawalk/sdgs_py38/lib/python3.8/site-packages/bicm/graph_classes.py:1113: RuntimeWarning: invalid value encountered in divide\n",
      "  probs = node_xy * neighbor_xy / ((1 + node_xy) * (1 + neighbor_xy))\n",
      "100%|██████████████████████████████████████████████████████████████████████████████████████████████████████████████████████████| 6/6 [00:00<00:00, 32.83it/s]\n"
     ]
    },
    {
     "name": "stdout",
     "output_type": "stream",
     "text": [
      "No V-motifs will be validated. Try increasing alpha\n",
      "\n",
      "                      WARNING: this system has at least a node that is disconnected or connected to all nodes\n",
      "                       of the opposite layer. This may cause some convergence issues.\n",
      "                      Please use the full mode providing a biadjacency matrix or an edgelist,\n",
      "                       or clean your data from these nodes. \n",
      "                      \n",
      "2020 Utilities SDG 13: Climate Action\r"
     ]
    },
    {
     "name": "stderr",
     "output_type": "stream",
     "text": [
      "\n",
      "  0%|                                                                                                                                | 0/127 [00:00<?, ?it/s]\u001b[A/home/sarawalk/sdgs_py38/lib/python3.8/site-packages/bicm/graph_classes.py:1113: RuntimeWarning: invalid value encountered in divide\n",
      "  probs = node_xy * neighbor_xy / ((1 + node_xy) * (1 + neighbor_xy))\n",
      "/home/sarawalk/sdgs_py38/lib/python3.8/site-packages/bicm/graph_classes.py:1113: RuntimeWarning: invalid value encountered in divide\n",
      "  probs = node_xy * neighbor_xy / ((1 + node_xy) * (1 + neighbor_xy))\n",
      "\n",
      " 44%|████████████████████████████████████████████████████                                                                  | 56/127 [00:00<00:00, 526.94it/s]\u001b[A/home/sarawalk/sdgs_py38/lib/python3.8/site-packages/bicm/graph_classes.py:1113: RuntimeWarning: invalid value encountered in divide\n",
      "  probs = node_xy * neighbor_xy / ((1 + node_xy) * (1 + neighbor_xy))\n",
      "/home/sarawalk/sdgs_py38/lib/python3.8/site-packages/bicm/graph_classes.py:1113: RuntimeWarning: invalid value encountered in divide\n",
      "  probs = node_xy * neighbor_xy / ((1 + node_xy) * (1 + neighbor_xy))\n",
      "\n",
      "100%|█████████████████████████████████████████████████████████████████████████████████████████████████████████████████████| 127/127 [00:00<00:00, 346.38it/s]\u001b[A"
     ]
    },
    {
     "name": "stdout",
     "output_type": "stream",
     "text": [
      "No V-motifs will be validated. Try increasing alpha\n"
     ]
    },
    {
     "name": "stderr",
     "output_type": "stream",
     "text": [
      "\n",
      "\n",
      "  0%|                                                                                                                                  | 0/6 [00:00<?, ?it/s]\u001b[A/home/sarawalk/sdgs_py38/lib/python3.8/site-packages/bicm/graph_classes.py:1113: RuntimeWarning: invalid value encountered in divide\n",
      "  probs = node_xy * neighbor_xy / ((1 + node_xy) * (1 + neighbor_xy))\n",
      "/home/sarawalk/sdgs_py38/lib/python3.8/site-packages/bicm/graph_classes.py:1113: RuntimeWarning: invalid value encountered in divide\n",
      "  probs = node_xy * neighbor_xy / ((1 + node_xy) * (1 + neighbor_xy))\n",
      "\n",
      " 50%|█████████████████████████████████████████████████████████████                                                             | 3/6 [00:00<00:00, 28.59it/s]\u001b[A/home/sarawalk/sdgs_py38/lib/python3.8/site-packages/bicm/graph_classes.py:1113: RuntimeWarning: invalid value encountered in divide\n",
      "  probs = node_xy * neighbor_xy / ((1 + node_xy) * (1 + neighbor_xy))\n",
      "/home/sarawalk/sdgs_py38/lib/python3.8/site-packages/bicm/graph_classes.py:1113: RuntimeWarning: invalid value encountered in divide\n",
      "  probs = node_xy * neighbor_xy / ((1 + node_xy) * (1 + neighbor_xy))\n",
      "\n",
      "100%|██████████████████████████████████████████████████████████████████████████████████████████████████████████████████████████| 6/6 [00:00<00:00, 27.12it/s]\u001b[A"
     ]
    },
    {
     "name": "stdout",
     "output_type": "stream",
     "text": [
      "No V-motifs will be validated. Try increasing alpha\n",
      "\n",
      "                      WARNING: this system has at least a node that is disconnected or connected to all nodes\n",
      "                       of the opposite layer. This may cause some convergence issues.\n",
      "                      Please use the full mode providing a biadjacency matrix or an edgelist,\n",
      "                       or clean your data from these nodes. \n",
      "                      \n",
      "2020 Utilities SDG 15: Life on Land\r"
     ]
    },
    {
     "name": "stderr",
     "output_type": "stream",
     "text": [
      "\n",
      "\n",
      "  0%|                                                                                                                                | 0/127 [00:00<?, ?it/s]\u001b[A/home/sarawalk/sdgs_py38/lib/python3.8/site-packages/bicm/graph_classes.py:1113: RuntimeWarning: invalid value encountered in divide\n",
      "  probs = node_xy * neighbor_xy / ((1 + node_xy) * (1 + neighbor_xy))\n",
      "/home/sarawalk/sdgs_py38/lib/python3.8/site-packages/bicm/graph_classes.py:1113: RuntimeWarning: invalid value encountered in divide\n",
      "  probs = node_xy * neighbor_xy / ((1 + node_xy) * (1 + neighbor_xy))\n",
      "\n",
      " 44%|████████████████████████████████████████████████████                                                                  | 56/127 [00:00<00:00, 418.74it/s]\u001b[A/home/sarawalk/sdgs_py38/lib/python3.8/site-packages/bicm/graph_classes.py:1113: RuntimeWarning: invalid value encountered in divide\n",
      "  probs = node_xy * neighbor_xy / ((1 + node_xy) * (1 + neighbor_xy))\n",
      "/home/sarawalk/sdgs_py38/lib/python3.8/site-packages/bicm/graph_classes.py:1113: RuntimeWarning: invalid value encountered in divide\n",
      "  probs = node_xy * neighbor_xy / ((1 + node_xy) * (1 + neighbor_xy))\n",
      "\n",
      "100%|█████████████████████████████████████████████████████████████████████████████████████████████████████████████████████| 127/127 [00:00<00:00, 317.30it/s]\u001b[A\n"
     ]
    },
    {
     "name": "stdout",
     "output_type": "stream",
     "text": [
      "No V-motifs will be validated. Try increasing alpha\n"
     ]
    },
    {
     "name": "stderr",
     "output_type": "stream",
     "text": [
      "\n",
      "  0%|                                                                                                                                  | 0/6 [00:00<?, ?it/s]\u001b[A/home/sarawalk/sdgs_py38/lib/python3.8/site-packages/bicm/graph_classes.py:1113: RuntimeWarning: invalid value encountered in divide\n",
      "  probs = node_xy * neighbor_xy / ((1 + node_xy) * (1 + neighbor_xy))\n",
      "/home/sarawalk/sdgs_py38/lib/python3.8/site-packages/bicm/graph_classes.py:1113: RuntimeWarning: invalid value encountered in divide\n",
      "  probs = node_xy * neighbor_xy / ((1 + node_xy) * (1 + neighbor_xy))\n",
      "\n",
      " 50%|█████████████████████████████████████████████████████████████                                                             | 3/6 [00:00<00:00, 25.78it/s]\u001b[A/home/sarawalk/sdgs_py38/lib/python3.8/site-packages/bicm/graph_classes.py:1113: RuntimeWarning: invalid value encountered in divide\n",
      "  probs = node_xy * neighbor_xy / ((1 + node_xy) * (1 + neighbor_xy))\n",
      "/home/sarawalk/sdgs_py38/lib/python3.8/site-packages/bicm/graph_classes.py:1113: RuntimeWarning: invalid value encountered in divide\n",
      "  probs = node_xy * neighbor_xy / ((1 + node_xy) * (1 + neighbor_xy))\n",
      "100%|██████████████████████████████████████████████████████████████████████████████████████████████████████████████████████████| 6/6 [00:00<00:00, 28.31it/s]"
     ]
    },
    {
     "name": "stdout",
     "output_type": "stream",
     "text": [
      "No V-motifs will be validated. Try increasing alpha\n",
      "\n",
      "                      WARNING: this system has at least a node that is disconnected or connected to all nodes\n",
      "                       of the opposite layer. This may cause some convergence issues.\n",
      "                      Please use the full mode providing a biadjacency matrix or an edgelist,\n",
      "                       or clean your data from these nodes. \n",
      "                      \n",
      "2020 Utilities SDG 16: Peace, Justice, and Strong Institutions\r"
     ]
    },
    {
     "name": "stderr",
     "output_type": "stream",
     "text": [
      "\n",
      "\n",
      "  0%|                                                                                                                                | 0/127 [00:00<?, ?it/s]\u001b[A/home/sarawalk/sdgs_py38/lib/python3.8/site-packages/bicm/graph_classes.py:1113: RuntimeWarning: invalid value encountered in divide\n",
      "  probs = node_xy * neighbor_xy / ((1 + node_xy) * (1 + neighbor_xy))\n",
      "/home/sarawalk/sdgs_py38/lib/python3.8/site-packages/bicm/graph_classes.py:1113: RuntimeWarning: invalid value encountered in divide\n",
      "  probs = node_xy * neighbor_xy / ((1 + node_xy) * (1 + neighbor_xy))\n",
      "\n",
      " 44%|████████████████████████████████████████████████████                                                                  | 56/127 [00:00<00:00, 439.31it/s]\u001b[A/home/sarawalk/sdgs_py38/lib/python3.8/site-packages/bicm/graph_classes.py:1113: RuntimeWarning: invalid value encountered in divide\n",
      "  probs = node_xy * neighbor_xy / ((1 + node_xy) * (1 + neighbor_xy))\n",
      "/home/sarawalk/sdgs_py38/lib/python3.8/site-packages/bicm/graph_classes.py:1113: RuntimeWarning: invalid value encountered in divide\n",
      "  probs = node_xy * neighbor_xy / ((1 + node_xy) * (1 + neighbor_xy))\n",
      "\n",
      "100%|█████████████████████████████████████████████████████████████████████████████████████████████████████████████████████| 127/127 [00:00<00:00, 350.88it/s]\u001b[A"
     ]
    },
    {
     "name": "stdout",
     "output_type": "stream",
     "text": [
      "No V-motifs will be validated. Try increasing alpha\n"
     ]
    },
    {
     "name": "stderr",
     "output_type": "stream",
     "text": [
      "\n",
      "\n",
      "  0%|                                                                                                                                  | 0/6 [00:00<?, ?it/s]\u001b[A/home/sarawalk/sdgs_py38/lib/python3.8/site-packages/bicm/graph_classes.py:1113: RuntimeWarning: invalid value encountered in divide\n",
      "  probs = node_xy * neighbor_xy / ((1 + node_xy) * (1 + neighbor_xy))\n",
      "/home/sarawalk/sdgs_py38/lib/python3.8/site-packages/bicm/graph_classes.py:1113: RuntimeWarning: invalid value encountered in divide\n",
      "  probs = node_xy * neighbor_xy / ((1 + node_xy) * (1 + neighbor_xy))\n",
      "\n",
      " 50%|█████████████████████████████████████████████████████████████                                                             | 3/6 [00:00<00:00, 28.91it/s]\u001b[A/home/sarawalk/sdgs_py38/lib/python3.8/site-packages/bicm/graph_classes.py:1113: RuntimeWarning: invalid value encountered in divide\n",
      "  probs = node_xy * neighbor_xy / ((1 + node_xy) * (1 + neighbor_xy))\n",
      "/home/sarawalk/sdgs_py38/lib/python3.8/site-packages/bicm/graph_classes.py:1113: RuntimeWarning: invalid value encountered in divide\n",
      "  probs = node_xy * neighbor_xy / ((1 + node_xy) * (1 + neighbor_xy))\n",
      "\n",
      "100%|██████████████████████████████████████████████████████████████████████████████████████████████████████████████████████████| 6/6 [00:00<00:00, 28.03it/s]\u001b[A"
     ]
    },
    {
     "name": "stdout",
     "output_type": "stream",
     "text": [
      "No V-motifs will be validated. Try increasing alpha\n",
      "\n",
      "                      WARNING: this system has at least a node that is disconnected or connected to all nodes\n",
      "                       of the opposite layer. This may cause some convergence issues.\n",
      "                      Please use the full mode providing a biadjacency matrix or an edgelist,\n",
      "                       or clean your data from these nodes. \n",
      "                      \n",
      "2020 Utilities SDG 17: Partnerships for the Goals\r"
     ]
    },
    {
     "name": "stderr",
     "output_type": "stream",
     "text": [
      "\n",
      "\n",
      "  0%|                                                                                                                                | 0/127 [00:00<?, ?it/s]\u001b[A/home/sarawalk/sdgs_py38/lib/python3.8/site-packages/bicm/graph_classes.py:1113: RuntimeWarning: invalid value encountered in divide\n",
      "  probs = node_xy * neighbor_xy / ((1 + node_xy) * (1 + neighbor_xy))\n",
      "/home/sarawalk/sdgs_py38/lib/python3.8/site-packages/bicm/graph_classes.py:1113: RuntimeWarning: invalid value encountered in divide\n",
      "  probs = node_xy * neighbor_xy / ((1 + node_xy) * (1 + neighbor_xy))\n",
      "\n",
      " 44%|████████████████████████████████████████████████████                                                                  | 56/127 [00:00<00:00, 510.64it/s]\u001b[A/home/sarawalk/sdgs_py38/lib/python3.8/site-packages/bicm/graph_classes.py:1113: RuntimeWarning: invalid value encountered in divide\n",
      "  probs = node_xy * neighbor_xy / ((1 + node_xy) * (1 + neighbor_xy))\n",
      "/home/sarawalk/sdgs_py38/lib/python3.8/site-packages/bicm/graph_classes.py:1113: RuntimeWarning: invalid value encountered in divide\n",
      "  probs = node_xy * neighbor_xy / ((1 + node_xy) * (1 + neighbor_xy))\n",
      "\n",
      "100%|█████████████████████████████████████████████████████████████████████████████████████████████████████████████████████| 127/127 [00:00<00:00, 335.64it/s]\u001b[A"
     ]
    },
    {
     "name": "stdout",
     "output_type": "stream",
     "text": [
      "No V-motifs will be validated. Try increasing alpha\n"
     ]
    },
    {
     "name": "stderr",
     "output_type": "stream",
     "text": [
      "\n",
      "\n",
      "  0%|                                                                                                                                  | 0/6 [00:00<?, ?it/s]\u001b[A/home/sarawalk/sdgs_py38/lib/python3.8/site-packages/bicm/graph_classes.py:1113: RuntimeWarning: invalid value encountered in divide\n",
      "  probs = node_xy * neighbor_xy / ((1 + node_xy) * (1 + neighbor_xy))\n",
      "/home/sarawalk/sdgs_py38/lib/python3.8/site-packages/bicm/graph_classes.py:1113: RuntimeWarning: invalid value encountered in divide\n",
      "  probs = node_xy * neighbor_xy / ((1 + node_xy) * (1 + neighbor_xy))\n",
      "/home/sarawalk/sdgs_py38/lib/python3.8/site-packages/bicm/graph_classes.py:1113: RuntimeWarning: invalid value encountered in divide\n",
      "  probs = node_xy * neighbor_xy / ((1 + node_xy) * (1 + neighbor_xy))\n",
      "\n",
      " 67%|█████████████████████████████████████████████████████████████████████████████████▎                                        | 4/6 [00:00<00:00, 31.34it/s]\u001b[A/home/sarawalk/sdgs_py38/lib/python3.8/site-packages/bicm/graph_classes.py:1113: RuntimeWarning: invalid value encountered in divide\n",
      "  probs = node_xy * neighbor_xy / ((1 + node_xy) * (1 + neighbor_xy))\n",
      "100%|██████████████████████████████████████████████████████████████████████████████████████████████████████████████████████████| 6/6 [00:00<00:00, 30.11it/s]"
     ]
    },
    {
     "name": "stdout",
     "output_type": "stream",
     "text": [
      "No V-motifs will be validated. Try increasing alpha\n",
      "\n",
      "                      WARNING: this system has at least a node that is disconnected or connected to all nodes\n",
      "                       of the opposite layer. This may cause some convergence issues.\n",
      "                      Please use the full mode providing a biadjacency matrix or an edgelist,\n",
      "                       or clean your data from these nodes. \n",
      "                      \n",
      "2021 Energy SDG 1: No Poverty\r"
     ]
    },
    {
     "name": "stderr",
     "output_type": "stream",
     "text": [
      "\n",
      "\n",
      "  0%|                                                                                                                                 | 0/68 [00:00<?, ?it/s]\u001b[A/home/sarawalk/sdgs_py38/lib/python3.8/site-packages/bicm/graph_classes.py:1113: RuntimeWarning: invalid value encountered in divide\n",
      "  probs = node_xy * neighbor_xy / ((1 + node_xy) * (1 + neighbor_xy))\n",
      "/home/sarawalk/sdgs_py38/lib/python3.8/site-packages/bicm/graph_classes.py:1113: RuntimeWarning: invalid value encountered in divide\n",
      "  probs = node_xy * neighbor_xy / ((1 + node_xy) * (1 + neighbor_xy))\n",
      "/home/sarawalk/sdgs_py38/lib/python3.8/site-packages/bicm/graph_classes.py:1113: RuntimeWarning: invalid value encountered in divide\n",
      "  probs = node_xy * neighbor_xy / ((1 + node_xy) * (1 + neighbor_xy))\n",
      "/home/sarawalk/sdgs_py38/lib/python3.8/site-packages/bicm/graph_classes.py:1113: RuntimeWarning: invalid value encountered in divide\n",
      "  probs = node_xy * neighbor_xy / ((1 + node_xy) * (1 + neighbor_xy))\n",
      "\n",
      "100%|███████████████████████████████████████████████████████████████████████████████████████████████████████████████████████| 68/68 [00:00<00:00, 497.24it/s]\u001b[A\n"
     ]
    },
    {
     "name": "stdout",
     "output_type": "stream",
     "text": [
      "No V-motifs will be validated. Try increasing alpha\n"
     ]
    },
    {
     "name": "stderr",
     "output_type": "stream",
     "text": [
      "\n",
      "  0%|                                                                                                                                  | 0/8 [00:00<?, ?it/s]\u001b[A/home/sarawalk/sdgs_py38/lib/python3.8/site-packages/bicm/graph_classes.py:1113: RuntimeWarning: invalid value encountered in divide\n",
      "  probs = node_xy * neighbor_xy / ((1 + node_xy) * (1 + neighbor_xy))\n",
      "/home/sarawalk/sdgs_py38/lib/python3.8/site-packages/bicm/graph_classes.py:1113: RuntimeWarning: invalid value encountered in divide\n",
      "  probs = node_xy * neighbor_xy / ((1 + node_xy) * (1 + neighbor_xy))\n",
      "/home/sarawalk/sdgs_py38/lib/python3.8/site-packages/bicm/graph_classes.py:1113: RuntimeWarning: invalid value encountered in divide\n",
      "  probs = node_xy * neighbor_xy / ((1 + node_xy) * (1 + neighbor_xy))\n",
      "/home/sarawalk/sdgs_py38/lib/python3.8/site-packages/bicm/graph_classes.py:1113: RuntimeWarning: invalid value encountered in divide\n",
      "  probs = node_xy * neighbor_xy / ((1 + node_xy) * (1 + neighbor_xy))\n",
      "\n",
      "100%|██████████████████████████████████████████████████████████████████████████████████████████████████████████████████████████| 8/8 [00:00<00:00, 54.13it/s]\u001b[A\n"
     ]
    },
    {
     "name": "stdout",
     "output_type": "stream",
     "text": [
      "No V-motifs will be validated. Try increasing alpha\n",
      "\n",
      "                      WARNING: this system has at least a node that is disconnected or connected to all nodes\n",
      "                       of the opposite layer. This may cause some convergence issues.\n",
      "                      Please use the full mode providing a biadjacency matrix or an edgelist,\n",
      "                       or clean your data from these nodes. \n",
      "                      \n",
      "2021 Energy SDG 2: Zero Hunger\r"
     ]
    },
    {
     "name": "stderr",
     "output_type": "stream",
     "text": [
      "\n",
      "  0%|                                                                                                                                 | 0/68 [00:00<?, ?it/s]\u001b[A/home/sarawalk/sdgs_py38/lib/python3.8/site-packages/bicm/graph_classes.py:1113: RuntimeWarning: invalid value encountered in divide\n",
      "  probs = node_xy * neighbor_xy / ((1 + node_xy) * (1 + neighbor_xy))\n",
      "/home/sarawalk/sdgs_py38/lib/python3.8/site-packages/bicm/graph_classes.py:1113: RuntimeWarning: invalid value encountered in divide\n",
      "  probs = node_xy * neighbor_xy / ((1 + node_xy) * (1 + neighbor_xy))\n",
      "/home/sarawalk/sdgs_py38/lib/python3.8/site-packages/bicm/graph_classes.py:1113: RuntimeWarning: invalid value encountered in divide\n",
      "  probs = node_xy * neighbor_xy / ((1 + node_xy) * (1 + neighbor_xy))\n",
      "/home/sarawalk/sdgs_py38/lib/python3.8/site-packages/bicm/graph_classes.py:1113: RuntimeWarning: invalid value encountered in divide\n",
      "  probs = node_xy * neighbor_xy / ((1 + node_xy) * (1 + neighbor_xy))\n",
      "\n",
      "100%|███████████████████████████████████████████████████████████████████████████████████████████████████████████████████████| 68/68 [00:00<00:00, 521.20it/s]\u001b[A\n"
     ]
    },
    {
     "name": "stdout",
     "output_type": "stream",
     "text": [
      "No V-motifs will be validated. Try increasing alpha\n"
     ]
    },
    {
     "name": "stderr",
     "output_type": "stream",
     "text": [
      "\n",
      "  0%|                                                                                                                                  | 0/8 [00:00<?, ?it/s]\u001b[A/home/sarawalk/sdgs_py38/lib/python3.8/site-packages/bicm/graph_classes.py:1113: RuntimeWarning: invalid value encountered in divide\n",
      "  probs = node_xy * neighbor_xy / ((1 + node_xy) * (1 + neighbor_xy))\n",
      "/home/sarawalk/sdgs_py38/lib/python3.8/site-packages/bicm/graph_classes.py:1113: RuntimeWarning: invalid value encountered in divide\n",
      "  probs = node_xy * neighbor_xy / ((1 + node_xy) * (1 + neighbor_xy))\n",
      "/home/sarawalk/sdgs_py38/lib/python3.8/site-packages/bicm/graph_classes.py:1113: RuntimeWarning: invalid value encountered in divide\n",
      "  probs = node_xy * neighbor_xy / ((1 + node_xy) * (1 + neighbor_xy))\n",
      "/home/sarawalk/sdgs_py38/lib/python3.8/site-packages/bicm/graph_classes.py:1113: RuntimeWarning: invalid value encountered in divide\n",
      "  probs = node_xy * neighbor_xy / ((1 + node_xy) * (1 + neighbor_xy))\n",
      "\n",
      "100%|██████████████████████████████████████████████████████████████████████████████████████████████████████████████████████████| 8/8 [00:00<00:00, 57.95it/s]\u001b[A\n"
     ]
    },
    {
     "name": "stdout",
     "output_type": "stream",
     "text": [
      "No V-motifs will be validated. Try increasing alpha\n",
      "\n",
      "                      WARNING: this system has at least a node that is disconnected or connected to all nodes\n",
      "                       of the opposite layer. This may cause some convergence issues.\n",
      "                      Please use the full mode providing a biadjacency matrix or an edgelist,\n",
      "                       or clean your data from these nodes. \n",
      "                      \n",
      "2021 Energy SDG 3: Good Health and Well-being\r"
     ]
    },
    {
     "name": "stderr",
     "output_type": "stream",
     "text": [
      "\n",
      "  0%|                                                                                                                                 | 0/68 [00:00<?, ?it/s]\u001b[A/home/sarawalk/sdgs_py38/lib/python3.8/site-packages/bicm/graph_classes.py:1113: RuntimeWarning: invalid value encountered in divide\n",
      "  probs = node_xy * neighbor_xy / ((1 + node_xy) * (1 + neighbor_xy))\n",
      "/home/sarawalk/sdgs_py38/lib/python3.8/site-packages/bicm/graph_classes.py:1113: RuntimeWarning: invalid value encountered in divide\n",
      "  probs = node_xy * neighbor_xy / ((1 + node_xy) * (1 + neighbor_xy))\n",
      "/home/sarawalk/sdgs_py38/lib/python3.8/site-packages/bicm/graph_classes.py:1113: RuntimeWarning: invalid value encountered in divide\n",
      "  probs = node_xy * neighbor_xy / ((1 + node_xy) * (1 + neighbor_xy))\n",
      "/home/sarawalk/sdgs_py38/lib/python3.8/site-packages/bicm/graph_classes.py:1113: RuntimeWarning: invalid value encountered in divide\n",
      "  probs = node_xy * neighbor_xy / ((1 + node_xy) * (1 + neighbor_xy))\n",
      "\n",
      "100%|███████████████████████████████████████████████████████████████████████████████████████████████████████████████████████| 68/68 [00:00<00:00, 468.05it/s]\u001b[A\n"
     ]
    },
    {
     "name": "stdout",
     "output_type": "stream",
     "text": [
      "No V-motifs will be validated. Try increasing alpha\n"
     ]
    },
    {
     "name": "stderr",
     "output_type": "stream",
     "text": [
      "\n",
      "  0%|                                                                                                                                  | 0/8 [00:00<?, ?it/s]\u001b[A/home/sarawalk/sdgs_py38/lib/python3.8/site-packages/bicm/graph_classes.py:1113: RuntimeWarning: invalid value encountered in divide\n",
      "  probs = node_xy * neighbor_xy / ((1 + node_xy) * (1 + neighbor_xy))\n",
      "/home/sarawalk/sdgs_py38/lib/python3.8/site-packages/bicm/graph_classes.py:1113: RuntimeWarning: invalid value encountered in divide\n",
      "  probs = node_xy * neighbor_xy / ((1 + node_xy) * (1 + neighbor_xy))\n",
      "/home/sarawalk/sdgs_py38/lib/python3.8/site-packages/bicm/graph_classes.py:1113: RuntimeWarning: invalid value encountered in divide\n",
      "  probs = node_xy * neighbor_xy / ((1 + node_xy) * (1 + neighbor_xy))\n",
      "/home/sarawalk/sdgs_py38/lib/python3.8/site-packages/bicm/graph_classes.py:1113: RuntimeWarning: invalid value encountered in divide\n",
      "  probs = node_xy * neighbor_xy / ((1 + node_xy) * (1 + neighbor_xy))\n",
      "\n",
      "100%|██████████████████████████████████████████████████████████████████████████████████████████████████████████████████████████| 8/8 [00:00<00:00, 57.95it/s]\u001b[A\n"
     ]
    },
    {
     "name": "stdout",
     "output_type": "stream",
     "text": [
      "No V-motifs will be validated. Try increasing alpha\n",
      "\n",
      "                      WARNING: this system has at least a node that is disconnected or connected to all nodes\n",
      "                       of the opposite layer. This may cause some convergence issues.\n",
      "                      Please use the full mode providing a biadjacency matrix or an edgelist,\n",
      "                       or clean your data from these nodes. \n",
      "                      \n",
      "2021 Energy SDG 4: Quality Education\r"
     ]
    },
    {
     "name": "stderr",
     "output_type": "stream",
     "text": [
      "\n",
      "  0%|                                                                                                                                 | 0/68 [00:00<?, ?it/s]\u001b[A/home/sarawalk/sdgs_py38/lib/python3.8/site-packages/bicm/graph_classes.py:1113: RuntimeWarning: invalid value encountered in divide\n",
      "  probs = node_xy * neighbor_xy / ((1 + node_xy) * (1 + neighbor_xy))\n",
      "/home/sarawalk/sdgs_py38/lib/python3.8/site-packages/bicm/graph_classes.py:1113: RuntimeWarning: invalid value encountered in divide\n",
      "  probs = node_xy * neighbor_xy / ((1 + node_xy) * (1 + neighbor_xy))\n",
      "/home/sarawalk/sdgs_py38/lib/python3.8/site-packages/bicm/graph_classes.py:1113: RuntimeWarning: invalid value encountered in divide\n",
      "  probs = node_xy * neighbor_xy / ((1 + node_xy) * (1 + neighbor_xy))\n",
      "/home/sarawalk/sdgs_py38/lib/python3.8/site-packages/bicm/graph_classes.py:1113: RuntimeWarning: invalid value encountered in divide\n",
      "  probs = node_xy * neighbor_xy / ((1 + node_xy) * (1 + neighbor_xy))\n",
      "\n",
      "100%|███████████████████████████████████████████████████████████████████████████████████████████████████████████████████████| 68/68 [00:00<00:00, 486.92it/s]\u001b[A\n"
     ]
    },
    {
     "name": "stdout",
     "output_type": "stream",
     "text": [
      "No V-motifs will be validated. Try increasing alpha\n"
     ]
    },
    {
     "name": "stderr",
     "output_type": "stream",
     "text": [
      "\n",
      "  0%|                                                                                                                                  | 0/8 [00:00<?, ?it/s]\u001b[A/home/sarawalk/sdgs_py38/lib/python3.8/site-packages/bicm/graph_classes.py:1113: RuntimeWarning: invalid value encountered in divide\n",
      "  probs = node_xy * neighbor_xy / ((1 + node_xy) * (1 + neighbor_xy))\n",
      "/home/sarawalk/sdgs_py38/lib/python3.8/site-packages/bicm/graph_classes.py:1113: RuntimeWarning: invalid value encountered in divide\n",
      "  probs = node_xy * neighbor_xy / ((1 + node_xy) * (1 + neighbor_xy))\n",
      "/home/sarawalk/sdgs_py38/lib/python3.8/site-packages/bicm/graph_classes.py:1113: RuntimeWarning: invalid value encountered in divide\n",
      "  probs = node_xy * neighbor_xy / ((1 + node_xy) * (1 + neighbor_xy))\n",
      "/home/sarawalk/sdgs_py38/lib/python3.8/site-packages/bicm/graph_classes.py:1113: RuntimeWarning: invalid value encountered in divide\n",
      "  probs = node_xy * neighbor_xy / ((1 + node_xy) * (1 + neighbor_xy))\n",
      "\n",
      "100%|██████████████████████████████████████████████████████████████████████████████████████████████████████████████████████████| 8/8 [00:00<00:00, 67.53it/s]\u001b[A\n"
     ]
    },
    {
     "name": "stdout",
     "output_type": "stream",
     "text": [
      "No V-motifs will be validated. Try increasing alpha\n",
      "\n",
      "                      WARNING: this system has at least a node that is disconnected or connected to all nodes\n",
      "                       of the opposite layer. This may cause some convergence issues.\n",
      "                      Please use the full mode providing a biadjacency matrix or an edgelist,\n",
      "                       or clean your data from these nodes. \n",
      "                      \n",
      "2021 Energy SDG 5: Gender Equality\r"
     ]
    },
    {
     "name": "stderr",
     "output_type": "stream",
     "text": [
      "\n",
      "  0%|                                                                                                                                 | 0/68 [00:00<?, ?it/s]\u001b[A/home/sarawalk/sdgs_py38/lib/python3.8/site-packages/bicm/graph_classes.py:1113: RuntimeWarning: invalid value encountered in divide\n",
      "  probs = node_xy * neighbor_xy / ((1 + node_xy) * (1 + neighbor_xy))\n",
      "/home/sarawalk/sdgs_py38/lib/python3.8/site-packages/bicm/graph_classes.py:1113: RuntimeWarning: invalid value encountered in divide\n",
      "  probs = node_xy * neighbor_xy / ((1 + node_xy) * (1 + neighbor_xy))\n",
      "/home/sarawalk/sdgs_py38/lib/python3.8/site-packages/bicm/graph_classes.py:1113: RuntimeWarning: invalid value encountered in divide\n",
      "  probs = node_xy * neighbor_xy / ((1 + node_xy) * (1 + neighbor_xy))\n",
      "/home/sarawalk/sdgs_py38/lib/python3.8/site-packages/bicm/graph_classes.py:1113: RuntimeWarning: invalid value encountered in divide\n",
      "  probs = node_xy * neighbor_xy / ((1 + node_xy) * (1 + neighbor_xy))\n",
      "\n",
      "100%|███████████████████████████████████████████████████████████████████████████████████████████████████████████████████████| 68/68 [00:00<00:00, 514.01it/s]\u001b[A\n"
     ]
    },
    {
     "name": "stdout",
     "output_type": "stream",
     "text": [
      "No V-motifs will be validated. Try increasing alpha\n"
     ]
    },
    {
     "name": "stderr",
     "output_type": "stream",
     "text": [
      "\n",
      "  0%|                                                                                                                                  | 0/8 [00:00<?, ?it/s]\u001b[A/home/sarawalk/sdgs_py38/lib/python3.8/site-packages/bicm/graph_classes.py:1113: RuntimeWarning: invalid value encountered in divide\n",
      "  probs = node_xy * neighbor_xy / ((1 + node_xy) * (1 + neighbor_xy))\n",
      "/home/sarawalk/sdgs_py38/lib/python3.8/site-packages/bicm/graph_classes.py:1113: RuntimeWarning: invalid value encountered in divide\n",
      "  probs = node_xy * neighbor_xy / ((1 + node_xy) * (1 + neighbor_xy))\n",
      "/home/sarawalk/sdgs_py38/lib/python3.8/site-packages/bicm/graph_classes.py:1113: RuntimeWarning: invalid value encountered in divide\n",
      "  probs = node_xy * neighbor_xy / ((1 + node_xy) * (1 + neighbor_xy))\n",
      "/home/sarawalk/sdgs_py38/lib/python3.8/site-packages/bicm/graph_classes.py:1113: RuntimeWarning: invalid value encountered in divide\n",
      "  probs = node_xy * neighbor_xy / ((1 + node_xy) * (1 + neighbor_xy))\n",
      "\n",
      "100%|██████████████████████████████████████████████████████████████████████████████████████████████████████████████████████████| 8/8 [00:00<00:00, 65.85it/s]\u001b[A\n"
     ]
    },
    {
     "name": "stdout",
     "output_type": "stream",
     "text": [
      "No V-motifs will be validated. Try increasing alpha\n",
      "\n",
      "                      WARNING: this system has at least a node that is disconnected or connected to all nodes\n",
      "                       of the opposite layer. This may cause some convergence issues.\n",
      "                      Please use the full mode providing a biadjacency matrix or an edgelist,\n",
      "                       or clean your data from these nodes. \n",
      "                      \n",
      "2021 Energy SDG 6: Clean Water and Sanitation\r"
     ]
    },
    {
     "name": "stderr",
     "output_type": "stream",
     "text": [
      "\n",
      "  0%|                                                                                                                                 | 0/68 [00:00<?, ?it/s]\u001b[A/home/sarawalk/sdgs_py38/lib/python3.8/site-packages/bicm/graph_classes.py:1113: RuntimeWarning: invalid value encountered in divide\n",
      "  probs = node_xy * neighbor_xy / ((1 + node_xy) * (1 + neighbor_xy))\n",
      "/home/sarawalk/sdgs_py38/lib/python3.8/site-packages/bicm/graph_classes.py:1113: RuntimeWarning: invalid value encountered in divide\n",
      "  probs = node_xy * neighbor_xy / ((1 + node_xy) * (1 + neighbor_xy))\n",
      "/home/sarawalk/sdgs_py38/lib/python3.8/site-packages/bicm/graph_classes.py:1113: RuntimeWarning: invalid value encountered in divide\n",
      "  probs = node_xy * neighbor_xy / ((1 + node_xy) * (1 + neighbor_xy))\n",
      "/home/sarawalk/sdgs_py38/lib/python3.8/site-packages/bicm/graph_classes.py:1113: RuntimeWarning: invalid value encountered in divide\n",
      "  probs = node_xy * neighbor_xy / ((1 + node_xy) * (1 + neighbor_xy))\n",
      "\n",
      "100%|███████████████████████████████████████████████████████████████████████████████████████████████████████████████████████| 68/68 [00:00<00:00, 521.71it/s]\u001b[A\n"
     ]
    },
    {
     "name": "stdout",
     "output_type": "stream",
     "text": [
      "No V-motifs will be validated. Try increasing alpha\n"
     ]
    },
    {
     "name": "stderr",
     "output_type": "stream",
     "text": [
      "\n",
      "  0%|                                                                                                                                  | 0/8 [00:00<?, ?it/s]\u001b[A/home/sarawalk/sdgs_py38/lib/python3.8/site-packages/bicm/graph_classes.py:1113: RuntimeWarning: invalid value encountered in divide\n",
      "  probs = node_xy * neighbor_xy / ((1 + node_xy) * (1 + neighbor_xy))\n",
      "/home/sarawalk/sdgs_py38/lib/python3.8/site-packages/bicm/graph_classes.py:1113: RuntimeWarning: invalid value encountered in divide\n",
      "  probs = node_xy * neighbor_xy / ((1 + node_xy) * (1 + neighbor_xy))\n",
      "/home/sarawalk/sdgs_py38/lib/python3.8/site-packages/bicm/graph_classes.py:1113: RuntimeWarning: invalid value encountered in divide\n",
      "  probs = node_xy * neighbor_xy / ((1 + node_xy) * (1 + neighbor_xy))\n",
      "/home/sarawalk/sdgs_py38/lib/python3.8/site-packages/bicm/graph_classes.py:1113: RuntimeWarning: invalid value encountered in divide\n",
      "  probs = node_xy * neighbor_xy / ((1 + node_xy) * (1 + neighbor_xy))\n",
      "\n",
      "100%|██████████████████████████████████████████████████████████████████████████████████████████████████████████████████████████| 8/8 [00:00<00:00, 58.60it/s]\u001b[A\n"
     ]
    },
    {
     "name": "stdout",
     "output_type": "stream",
     "text": [
      "No V-motifs will be validated. Try increasing alpha\n",
      "\n",
      "                      WARNING: this system has at least a node that is disconnected or connected to all nodes\n",
      "                       of the opposite layer. This may cause some convergence issues.\n",
      "                      Please use the full mode providing a biadjacency matrix or an edgelist,\n",
      "                       or clean your data from these nodes. \n",
      "                      \n",
      "2021 Energy SDG 7: Affordable and Clean Energy\r"
     ]
    },
    {
     "name": "stderr",
     "output_type": "stream",
     "text": [
      "\n",
      "  0%|                                                                                                                                 | 0/68 [00:00<?, ?it/s]\u001b[A/home/sarawalk/sdgs_py38/lib/python3.8/site-packages/bicm/graph_classes.py:1113: RuntimeWarning: invalid value encountered in divide\n",
      "  probs = node_xy * neighbor_xy / ((1 + node_xy) * (1 + neighbor_xy))\n",
      "/home/sarawalk/sdgs_py38/lib/python3.8/site-packages/bicm/graph_classes.py:1113: RuntimeWarning: invalid value encountered in divide\n",
      "  probs = node_xy * neighbor_xy / ((1 + node_xy) * (1 + neighbor_xy))\n",
      "/home/sarawalk/sdgs_py38/lib/python3.8/site-packages/bicm/graph_classes.py:1113: RuntimeWarning: invalid value encountered in divide\n",
      "  probs = node_xy * neighbor_xy / ((1 + node_xy) * (1 + neighbor_xy))\n",
      "/home/sarawalk/sdgs_py38/lib/python3.8/site-packages/bicm/graph_classes.py:1113: RuntimeWarning: invalid value encountered in divide\n",
      "  probs = node_xy * neighbor_xy / ((1 + node_xy) * (1 + neighbor_xy))\n",
      "\n",
      "100%|███████████████████████████████████████████████████████████████████████████████████████████████████████████████████████| 68/68 [00:00<00:00, 437.58it/s]\u001b[A\n"
     ]
    },
    {
     "name": "stdout",
     "output_type": "stream",
     "text": [
      "No V-motifs will be validated. Try increasing alpha\n"
     ]
    },
    {
     "name": "stderr",
     "output_type": "stream",
     "text": [
      "\n",
      "  0%|                                                                                                                                  | 0/8 [00:00<?, ?it/s]\u001b[A/home/sarawalk/sdgs_py38/lib/python3.8/site-packages/bicm/graph_classes.py:1113: RuntimeWarning: invalid value encountered in divide\n",
      "  probs = node_xy * neighbor_xy / ((1 + node_xy) * (1 + neighbor_xy))\n",
      "/home/sarawalk/sdgs_py38/lib/python3.8/site-packages/bicm/graph_classes.py:1113: RuntimeWarning: invalid value encountered in divide\n",
      "  probs = node_xy * neighbor_xy / ((1 + node_xy) * (1 + neighbor_xy))\n",
      "/home/sarawalk/sdgs_py38/lib/python3.8/site-packages/bicm/graph_classes.py:1113: RuntimeWarning: invalid value encountered in divide\n",
      "  probs = node_xy * neighbor_xy / ((1 + node_xy) * (1 + neighbor_xy))\n",
      "/home/sarawalk/sdgs_py38/lib/python3.8/site-packages/bicm/graph_classes.py:1113: RuntimeWarning: invalid value encountered in divide\n",
      "  probs = node_xy * neighbor_xy / ((1 + node_xy) * (1 + neighbor_xy))\n",
      "\n",
      "100%|██████████████████████████████████████████████████████████████████████████████████████████████████████████████████████████| 8/8 [00:00<00:00, 57.89it/s]\u001b[A\n"
     ]
    },
    {
     "name": "stdout",
     "output_type": "stream",
     "text": [
      "No V-motifs will be validated. Try increasing alpha\n",
      "\n",
      "                      WARNING: this system has at least a node that is disconnected or connected to all nodes\n",
      "                       of the opposite layer. This may cause some convergence issues.\n",
      "                      Please use the full mode providing a biadjacency matrix or an edgelist,\n",
      "                       or clean your data from these nodes. \n",
      "                      \n",
      "2021 Energy SDG 8: Decent Work and Economic Growth\r"
     ]
    },
    {
     "name": "stderr",
     "output_type": "stream",
     "text": [
      "\n",
      "  0%|                                                                                                                                 | 0/68 [00:00<?, ?it/s]\u001b[A/home/sarawalk/sdgs_py38/lib/python3.8/site-packages/bicm/graph_classes.py:1113: RuntimeWarning: invalid value encountered in divide\n",
      "  probs = node_xy * neighbor_xy / ((1 + node_xy) * (1 + neighbor_xy))\n",
      "/home/sarawalk/sdgs_py38/lib/python3.8/site-packages/bicm/graph_classes.py:1113: RuntimeWarning: invalid value encountered in divide\n",
      "  probs = node_xy * neighbor_xy / ((1 + node_xy) * (1 + neighbor_xy))\n",
      "/home/sarawalk/sdgs_py38/lib/python3.8/site-packages/bicm/graph_classes.py:1113: RuntimeWarning: invalid value encountered in divide\n",
      "  probs = node_xy * neighbor_xy / ((1 + node_xy) * (1 + neighbor_xy))\n",
      "/home/sarawalk/sdgs_py38/lib/python3.8/site-packages/bicm/graph_classes.py:1113: RuntimeWarning: invalid value encountered in divide\n",
      "  probs = node_xy * neighbor_xy / ((1 + node_xy) * (1 + neighbor_xy))\n",
      "\n",
      "100%|███████████████████████████████████████████████████████████████████████████████████████████████████████████████████████| 68/68 [00:00<00:00, 577.20it/s]\u001b[A\n"
     ]
    },
    {
     "name": "stdout",
     "output_type": "stream",
     "text": [
      "No V-motifs will be validated. Try increasing alpha\n"
     ]
    },
    {
     "name": "stderr",
     "output_type": "stream",
     "text": [
      "\n",
      "  0%|                                                                                                                                  | 0/8 [00:00<?, ?it/s]\u001b[A/home/sarawalk/sdgs_py38/lib/python3.8/site-packages/bicm/graph_classes.py:1113: RuntimeWarning: invalid value encountered in divide\n",
      "  probs = node_xy * neighbor_xy / ((1 + node_xy) * (1 + neighbor_xy))\n",
      "/home/sarawalk/sdgs_py38/lib/python3.8/site-packages/bicm/graph_classes.py:1113: RuntimeWarning: invalid value encountered in divide\n",
      "  probs = node_xy * neighbor_xy / ((1 + node_xy) * (1 + neighbor_xy))\n",
      "/home/sarawalk/sdgs_py38/lib/python3.8/site-packages/bicm/graph_classes.py:1113: RuntimeWarning: invalid value encountered in divide\n",
      "  probs = node_xy * neighbor_xy / ((1 + node_xy) * (1 + neighbor_xy))\n",
      "/home/sarawalk/sdgs_py38/lib/python3.8/site-packages/bicm/graph_classes.py:1113: RuntimeWarning: invalid value encountered in divide\n",
      "  probs = node_xy * neighbor_xy / ((1 + node_xy) * (1 + neighbor_xy))\n",
      "\n",
      "100%|██████████████████████████████████████████████████████████████████████████████████████████████████████████████████████████| 8/8 [00:00<00:00, 65.23it/s]\u001b[A"
     ]
    },
    {
     "name": "stdout",
     "output_type": "stream",
     "text": [
      "No V-motifs will be validated. Try increasing alpha\n",
      "\n",
      "                      WARNING: this system has at least a node that is disconnected or connected to all nodes\n",
      "                       of the opposite layer. This may cause some convergence issues.\n",
      "                      Please use the full mode providing a biadjacency matrix or an edgelist,\n",
      "                       or clean your data from these nodes. \n",
      "                      \n",
      "2021 Energy SDG 9: Industry, Innovation, and Infrastructure\r"
     ]
    },
    {
     "name": "stderr",
     "output_type": "stream",
     "text": [
      "\n",
      "\n",
      "  0%|                                                                                                                                 | 0/68 [00:00<?, ?it/s]\u001b[A/home/sarawalk/sdgs_py38/lib/python3.8/site-packages/bicm/graph_classes.py:1113: RuntimeWarning: invalid value encountered in divide\n",
      "  probs = node_xy * neighbor_xy / ((1 + node_xy) * (1 + neighbor_xy))\n",
      "/home/sarawalk/sdgs_py38/lib/python3.8/site-packages/bicm/graph_classes.py:1113: RuntimeWarning: invalid value encountered in divide\n",
      "  probs = node_xy * neighbor_xy / ((1 + node_xy) * (1 + neighbor_xy))\n",
      "/home/sarawalk/sdgs_py38/lib/python3.8/site-packages/bicm/graph_classes.py:1113: RuntimeWarning: invalid value encountered in divide\n",
      "  probs = node_xy * neighbor_xy / ((1 + node_xy) * (1 + neighbor_xy))\n",
      "/home/sarawalk/sdgs_py38/lib/python3.8/site-packages/bicm/graph_classes.py:1113: RuntimeWarning: invalid value encountered in divide\n",
      "  probs = node_xy * neighbor_xy / ((1 + node_xy) * (1 + neighbor_xy))\n",
      "\n",
      "100%|███████████████████████████████████████████████████████████████████████████████████████████████████████████████████████| 68/68 [00:00<00:00, 501.55it/s]\u001b[A\n"
     ]
    },
    {
     "name": "stdout",
     "output_type": "stream",
     "text": [
      "No V-motifs will be validated. Try increasing alpha\n"
     ]
    },
    {
     "name": "stderr",
     "output_type": "stream",
     "text": [
      "\n",
      "  0%|                                                                                                                                  | 0/8 [00:00<?, ?it/s]\u001b[A/home/sarawalk/sdgs_py38/lib/python3.8/site-packages/bicm/graph_classes.py:1113: RuntimeWarning: invalid value encountered in divide\n",
      "  probs = node_xy * neighbor_xy / ((1 + node_xy) * (1 + neighbor_xy))\n",
      "/home/sarawalk/sdgs_py38/lib/python3.8/site-packages/bicm/graph_classes.py:1113: RuntimeWarning: invalid value encountered in divide\n",
      "  probs = node_xy * neighbor_xy / ((1 + node_xy) * (1 + neighbor_xy))\n",
      "/home/sarawalk/sdgs_py38/lib/python3.8/site-packages/bicm/graph_classes.py:1113: RuntimeWarning: invalid value encountered in divide\n",
      "  probs = node_xy * neighbor_xy / ((1 + node_xy) * (1 + neighbor_xy))\n",
      "/home/sarawalk/sdgs_py38/lib/python3.8/site-packages/bicm/graph_classes.py:1113: RuntimeWarning: invalid value encountered in divide\n",
      "  probs = node_xy * neighbor_xy / ((1 + node_xy) * (1 + neighbor_xy))\n",
      "\n",
      "100%|██████████████████████████████████████████████████████████████████████████████████████████████████████████████████████████| 8/8 [00:00<00:00, 69.82it/s]\u001b[A"
     ]
    },
    {
     "name": "stdout",
     "output_type": "stream",
     "text": [
      "No V-motifs will be validated. Try increasing alpha\n",
      "\n",
      "                      WARNING: this system has at least a node that is disconnected or connected to all nodes\n",
      "                       of the opposite layer. This may cause some convergence issues.\n",
      "                      Please use the full mode providing a biadjacency matrix or an edgelist,\n",
      "                       or clean your data from these nodes. \n",
      "                      \n",
      "2021 Energy SDG 10: Reduced Inequality\r"
     ]
    },
    {
     "name": "stderr",
     "output_type": "stream",
     "text": [
      "\n",
      "\n",
      "  0%|                                                                                                                                 | 0/68 [00:00<?, ?it/s]\u001b[A/home/sarawalk/sdgs_py38/lib/python3.8/site-packages/bicm/graph_classes.py:1113: RuntimeWarning: invalid value encountered in divide\n",
      "  probs = node_xy * neighbor_xy / ((1 + node_xy) * (1 + neighbor_xy))\n",
      "/home/sarawalk/sdgs_py38/lib/python3.8/site-packages/bicm/graph_classes.py:1113: RuntimeWarning: invalid value encountered in divide\n",
      "  probs = node_xy * neighbor_xy / ((1 + node_xy) * (1 + neighbor_xy))\n",
      "/home/sarawalk/sdgs_py38/lib/python3.8/site-packages/bicm/graph_classes.py:1113: RuntimeWarning: invalid value encountered in divide\n",
      "  probs = node_xy * neighbor_xy / ((1 + node_xy) * (1 + neighbor_xy))\n",
      "/home/sarawalk/sdgs_py38/lib/python3.8/site-packages/bicm/graph_classes.py:1113: RuntimeWarning: invalid value encountered in divide\n",
      "  probs = node_xy * neighbor_xy / ((1 + node_xy) * (1 + neighbor_xy))\n",
      "\n",
      "100%|███████████████████████████████████████████████████████████████████████████████████████████████████████████████████████| 68/68 [00:00<00:00, 557.78it/s]\u001b[A\n"
     ]
    },
    {
     "name": "stdout",
     "output_type": "stream",
     "text": [
      "No V-motifs will be validated. Try increasing alpha\n"
     ]
    },
    {
     "name": "stderr",
     "output_type": "stream",
     "text": [
      "\n",
      "  0%|                                                                                                                                  | 0/8 [00:00<?, ?it/s]\u001b[A/home/sarawalk/sdgs_py38/lib/python3.8/site-packages/bicm/graph_classes.py:1113: RuntimeWarning: invalid value encountered in divide\n",
      "  probs = node_xy * neighbor_xy / ((1 + node_xy) * (1 + neighbor_xy))\n",
      "/home/sarawalk/sdgs_py38/lib/python3.8/site-packages/bicm/graph_classes.py:1113: RuntimeWarning: invalid value encountered in divide\n",
      "  probs = node_xy * neighbor_xy / ((1 + node_xy) * (1 + neighbor_xy))\n",
      "/home/sarawalk/sdgs_py38/lib/python3.8/site-packages/bicm/graph_classes.py:1113: RuntimeWarning: invalid value encountered in divide\n",
      "  probs = node_xy * neighbor_xy / ((1 + node_xy) * (1 + neighbor_xy))\n",
      "/home/sarawalk/sdgs_py38/lib/python3.8/site-packages/bicm/graph_classes.py:1113: RuntimeWarning: invalid value encountered in divide\n",
      "  probs = node_xy * neighbor_xy / ((1 + node_xy) * (1 + neighbor_xy))\n",
      "\n",
      "100%|██████████████████████████████████████████████████████████████████████████████████████████████████████████████████████████| 8/8 [00:00<00:00, 67.67it/s]\u001b[A"
     ]
    },
    {
     "name": "stdout",
     "output_type": "stream",
     "text": [
      "No V-motifs will be validated. Try increasing alpha\n",
      "\n",
      "                      WARNING: this system has at least a node that is disconnected or connected to all nodes\n",
      "                       of the opposite layer. This may cause some convergence issues.\n",
      "                      Please use the full mode providing a biadjacency matrix or an edgelist,\n",
      "                       or clean your data from these nodes. \n",
      "                      \n",
      "2021 Energy SDG 11: Sustainable Cities and Communities\r"
     ]
    },
    {
     "name": "stderr",
     "output_type": "stream",
     "text": [
      "\n",
      "\n",
      "  0%|                                                                                                                                 | 0/68 [00:00<?, ?it/s]\u001b[A/home/sarawalk/sdgs_py38/lib/python3.8/site-packages/bicm/graph_classes.py:1113: RuntimeWarning: invalid value encountered in divide\n",
      "  probs = node_xy * neighbor_xy / ((1 + node_xy) * (1 + neighbor_xy))\n",
      "/home/sarawalk/sdgs_py38/lib/python3.8/site-packages/bicm/graph_classes.py:1113: RuntimeWarning: invalid value encountered in divide\n",
      "  probs = node_xy * neighbor_xy / ((1 + node_xy) * (1 + neighbor_xy))\n",
      "/home/sarawalk/sdgs_py38/lib/python3.8/site-packages/bicm/graph_classes.py:1113: RuntimeWarning: invalid value encountered in divide\n",
      "  probs = node_xy * neighbor_xy / ((1 + node_xy) * (1 + neighbor_xy))\n",
      "/home/sarawalk/sdgs_py38/lib/python3.8/site-packages/bicm/graph_classes.py:1113: RuntimeWarning: invalid value encountered in divide\n",
      "  probs = node_xy * neighbor_xy / ((1 + node_xy) * (1 + neighbor_xy))\n",
      "\n",
      "100%|███████████████████████████████████████████████████████████████████████████████████████████████████████████████████████| 68/68 [00:00<00:00, 506.27it/s]\u001b[A\n"
     ]
    },
    {
     "name": "stdout",
     "output_type": "stream",
     "text": [
      "No V-motifs will be validated. Try increasing alpha\n"
     ]
    },
    {
     "name": "stderr",
     "output_type": "stream",
     "text": [
      "\n",
      "  0%|                                                                                                                                  | 0/8 [00:00<?, ?it/s]\u001b[A/home/sarawalk/sdgs_py38/lib/python3.8/site-packages/bicm/graph_classes.py:1113: RuntimeWarning: invalid value encountered in divide\n",
      "  probs = node_xy * neighbor_xy / ((1 + node_xy) * (1 + neighbor_xy))\n",
      "/home/sarawalk/sdgs_py38/lib/python3.8/site-packages/bicm/graph_classes.py:1113: RuntimeWarning: invalid value encountered in divide\n",
      "  probs = node_xy * neighbor_xy / ((1 + node_xy) * (1 + neighbor_xy))\n",
      "/home/sarawalk/sdgs_py38/lib/python3.8/site-packages/bicm/graph_classes.py:1113: RuntimeWarning: invalid value encountered in divide\n",
      "  probs = node_xy * neighbor_xy / ((1 + node_xy) * (1 + neighbor_xy))\n",
      "/home/sarawalk/sdgs_py38/lib/python3.8/site-packages/bicm/graph_classes.py:1113: RuntimeWarning: invalid value encountered in divide\n",
      "  probs = node_xy * neighbor_xy / ((1 + node_xy) * (1 + neighbor_xy))\n",
      "\n",
      "100%|██████████████████████████████████████████████████████████████████████████████████████████████████████████████████████████| 8/8 [00:00<00:00, 66.02it/s]\u001b[A\n"
     ]
    },
    {
     "name": "stdout",
     "output_type": "stream",
     "text": [
      "No V-motifs will be validated. Try increasing alpha\n",
      "\n",
      "                      WARNING: this system has at least a node that is disconnected or connected to all nodes\n",
      "                       of the opposite layer. This may cause some convergence issues.\n",
      "                      Please use the full mode providing a biadjacency matrix or an edgelist,\n",
      "                       or clean your data from these nodes. \n",
      "                      \n",
      "2021 Energy SDG 12: Responsible Consumption and Production\r"
     ]
    },
    {
     "name": "stderr",
     "output_type": "stream",
     "text": [
      "\n",
      "  0%|                                                                                                                                 | 0/68 [00:00<?, ?it/s]\u001b[A/home/sarawalk/sdgs_py38/lib/python3.8/site-packages/bicm/graph_classes.py:1113: RuntimeWarning: invalid value encountered in divide\n",
      "  probs = node_xy * neighbor_xy / ((1 + node_xy) * (1 + neighbor_xy))\n",
      "/home/sarawalk/sdgs_py38/lib/python3.8/site-packages/bicm/graph_classes.py:1113: RuntimeWarning: invalid value encountered in divide\n",
      "  probs = node_xy * neighbor_xy / ((1 + node_xy) * (1 + neighbor_xy))\n",
      "/home/sarawalk/sdgs_py38/lib/python3.8/site-packages/bicm/graph_classes.py:1113: RuntimeWarning: invalid value encountered in divide\n",
      "  probs = node_xy * neighbor_xy / ((1 + node_xy) * (1 + neighbor_xy))\n",
      "/home/sarawalk/sdgs_py38/lib/python3.8/site-packages/bicm/graph_classes.py:1113: RuntimeWarning: invalid value encountered in divide\n",
      "  probs = node_xy * neighbor_xy / ((1 + node_xy) * (1 + neighbor_xy))\n",
      "\n",
      "100%|███████████████████████████████████████████████████████████████████████████████████████████████████████████████████████| 68/68 [00:00<00:00, 554.07it/s]\u001b[A\n"
     ]
    },
    {
     "name": "stdout",
     "output_type": "stream",
     "text": [
      "No V-motifs will be validated. Try increasing alpha\n"
     ]
    },
    {
     "name": "stderr",
     "output_type": "stream",
     "text": [
      "\n",
      "  0%|                                                                                                                                  | 0/8 [00:00<?, ?it/s]\u001b[A/home/sarawalk/sdgs_py38/lib/python3.8/site-packages/bicm/graph_classes.py:1113: RuntimeWarning: invalid value encountered in divide\n",
      "  probs = node_xy * neighbor_xy / ((1 + node_xy) * (1 + neighbor_xy))\n",
      "/home/sarawalk/sdgs_py38/lib/python3.8/site-packages/bicm/graph_classes.py:1113: RuntimeWarning: invalid value encountered in divide\n",
      "  probs = node_xy * neighbor_xy / ((1 + node_xy) * (1 + neighbor_xy))\n",
      "/home/sarawalk/sdgs_py38/lib/python3.8/site-packages/bicm/graph_classes.py:1113: RuntimeWarning: invalid value encountered in divide\n",
      "  probs = node_xy * neighbor_xy / ((1 + node_xy) * (1 + neighbor_xy))\n",
      "/home/sarawalk/sdgs_py38/lib/python3.8/site-packages/bicm/graph_classes.py:1113: RuntimeWarning: invalid value encountered in divide\n",
      "  probs = node_xy * neighbor_xy / ((1 + node_xy) * (1 + neighbor_xy))\n",
      "\n",
      "100%|██████████████████████████████████████████████████████████████████████████████████████████████████████████████████████████| 8/8 [00:00<00:00, 55.08it/s]\u001b[A\n"
     ]
    },
    {
     "name": "stdout",
     "output_type": "stream",
     "text": [
      "No V-motifs will be validated. Try increasing alpha\n",
      "\n",
      "                      WARNING: this system has at least a node that is disconnected or connected to all nodes\n",
      "                       of the opposite layer. This may cause some convergence issues.\n",
      "                      Please use the full mode providing a biadjacency matrix or an edgelist,\n",
      "                       or clean your data from these nodes. \n",
      "                      \n",
      "2021 Energy SDG 13: Climate Action\r"
     ]
    },
    {
     "name": "stderr",
     "output_type": "stream",
     "text": [
      "\n",
      "  0%|                                                                                                                                 | 0/68 [00:00<?, ?it/s]\u001b[A/home/sarawalk/sdgs_py38/lib/python3.8/site-packages/bicm/graph_classes.py:1113: RuntimeWarning: invalid value encountered in divide\n",
      "  probs = node_xy * neighbor_xy / ((1 + node_xy) * (1 + neighbor_xy))\n",
      "/home/sarawalk/sdgs_py38/lib/python3.8/site-packages/bicm/graph_classes.py:1113: RuntimeWarning: invalid value encountered in divide\n",
      "  probs = node_xy * neighbor_xy / ((1 + node_xy) * (1 + neighbor_xy))\n",
      "/home/sarawalk/sdgs_py38/lib/python3.8/site-packages/bicm/graph_classes.py:1113: RuntimeWarning: invalid value encountered in divide\n",
      "  probs = node_xy * neighbor_xy / ((1 + node_xy) * (1 + neighbor_xy))\n",
      "/home/sarawalk/sdgs_py38/lib/python3.8/site-packages/bicm/graph_classes.py:1113: RuntimeWarning: invalid value encountered in divide\n",
      "  probs = node_xy * neighbor_xy / ((1 + node_xy) * (1 + neighbor_xy))\n",
      "\n",
      "100%|███████████████████████████████████████████████████████████████████████████████████████████████████████████████████████| 68/68 [00:00<00:00, 516.23it/s]\u001b[A\n"
     ]
    },
    {
     "name": "stdout",
     "output_type": "stream",
     "text": [
      "No V-motifs will be validated. Try increasing alpha\n"
     ]
    },
    {
     "name": "stderr",
     "output_type": "stream",
     "text": [
      "\n",
      "  0%|                                                                                                                                  | 0/8 [00:00<?, ?it/s]\u001b[A/home/sarawalk/sdgs_py38/lib/python3.8/site-packages/bicm/graph_classes.py:1113: RuntimeWarning: invalid value encountered in divide\n",
      "  probs = node_xy * neighbor_xy / ((1 + node_xy) * (1 + neighbor_xy))\n",
      "/home/sarawalk/sdgs_py38/lib/python3.8/site-packages/bicm/graph_classes.py:1113: RuntimeWarning: invalid value encountered in divide\n",
      "  probs = node_xy * neighbor_xy / ((1 + node_xy) * (1 + neighbor_xy))\n",
      "/home/sarawalk/sdgs_py38/lib/python3.8/site-packages/bicm/graph_classes.py:1113: RuntimeWarning: invalid value encountered in divide\n",
      "  probs = node_xy * neighbor_xy / ((1 + node_xy) * (1 + neighbor_xy))\n",
      "/home/sarawalk/sdgs_py38/lib/python3.8/site-packages/bicm/graph_classes.py:1113: RuntimeWarning: invalid value encountered in divide\n",
      "  probs = node_xy * neighbor_xy / ((1 + node_xy) * (1 + neighbor_xy))\n",
      "100%|█████████████████████████████████████████████████████████████████████████████████████████████████████████████████████████| 8/8 [00:00<00:00, 101.45it/s]"
     ]
    },
    {
     "name": "stdout",
     "output_type": "stream",
     "text": [
      "No V-motifs will be validated. Try increasing alpha\n",
      "\n",
      "                      WARNING: this system has at least a node that is disconnected or connected to all nodes\n",
      "                       of the opposite layer. This may cause some convergence issues.\n",
      "                      Please use the full mode providing a biadjacency matrix or an edgelist,\n",
      "                       or clean your data from these nodes. \n",
      "                      \n",
      "2021 Energy SDG 14: Life Below Water\r"
     ]
    },
    {
     "name": "stderr",
     "output_type": "stream",
     "text": [
      "\n",
      "\n",
      "  0%|                                                                                                                                 | 0/68 [00:00<?, ?it/s]\u001b[A/home/sarawalk/sdgs_py38/lib/python3.8/site-packages/bicm/graph_classes.py:1113: RuntimeWarning: invalid value encountered in divide\n",
      "  probs = node_xy * neighbor_xy / ((1 + node_xy) * (1 + neighbor_xy))\n",
      "/home/sarawalk/sdgs_py38/lib/python3.8/site-packages/bicm/graph_classes.py:1113: RuntimeWarning: invalid value encountered in divide\n",
      "  probs = node_xy * neighbor_xy / ((1 + node_xy) * (1 + neighbor_xy))\n",
      "/home/sarawalk/sdgs_py38/lib/python3.8/site-packages/bicm/graph_classes.py:1113: RuntimeWarning: invalid value encountered in divide\n",
      "  probs = node_xy * neighbor_xy / ((1 + node_xy) * (1 + neighbor_xy))\n",
      "/home/sarawalk/sdgs_py38/lib/python3.8/site-packages/bicm/graph_classes.py:1113: RuntimeWarning: invalid value encountered in divide\n",
      "  probs = node_xy * neighbor_xy / ((1 + node_xy) * (1 + neighbor_xy))\n",
      "100%|███████████████████████████████████████████████████████████████████████████████████████████████████████████████████████| 68/68 [00:00<00:00, 769.17it/s]"
     ]
    },
    {
     "name": "stdout",
     "output_type": "stream",
     "text": [
      "No V-motifs will be validated. Try increasing alpha\n"
     ]
    },
    {
     "name": "stderr",
     "output_type": "stream",
     "text": [
      "\n",
      "\n",
      "  0%|                                                                                                                                  | 0/8 [00:00<?, ?it/s]\u001b[A/home/sarawalk/sdgs_py38/lib/python3.8/site-packages/bicm/graph_classes.py:1113: RuntimeWarning: invalid value encountered in divide\n",
      "  probs = node_xy * neighbor_xy / ((1 + node_xy) * (1 + neighbor_xy))\n",
      "/home/sarawalk/sdgs_py38/lib/python3.8/site-packages/bicm/graph_classes.py:1113: RuntimeWarning: invalid value encountered in divide\n",
      "  probs = node_xy * neighbor_xy / ((1 + node_xy) * (1 + neighbor_xy))\n",
      "/home/sarawalk/sdgs_py38/lib/python3.8/site-packages/bicm/graph_classes.py:1113: RuntimeWarning: invalid value encountered in divide\n",
      "  probs = node_xy * neighbor_xy / ((1 + node_xy) * (1 + neighbor_xy))\n",
      "/home/sarawalk/sdgs_py38/lib/python3.8/site-packages/bicm/graph_classes.py:1113: RuntimeWarning: invalid value encountered in divide\n",
      "  probs = node_xy * neighbor_xy / ((1 + node_xy) * (1 + neighbor_xy))\n",
      "100%|██████████████████████████████████████████████████████████████████████████████████████████████████████████████████████████| 8/8 [00:00<00:00, 89.63it/s]"
     ]
    },
    {
     "name": "stdout",
     "output_type": "stream",
     "text": [
      "No V-motifs will be validated. Try increasing alpha\n",
      "\n",
      "                      WARNING: this system has at least a node that is disconnected or connected to all nodes\n",
      "                       of the opposite layer. This may cause some convergence issues.\n",
      "                      Please use the full mode providing a biadjacency matrix or an edgelist,\n",
      "                       or clean your data from these nodes. \n",
      "                      \n",
      "2021 Energy SDG 15: Life on Land\r"
     ]
    },
    {
     "name": "stderr",
     "output_type": "stream",
     "text": [
      "\n",
      "\n",
      "  0%|                                                                                                                                 | 0/68 [00:00<?, ?it/s]\u001b[A/home/sarawalk/sdgs_py38/lib/python3.8/site-packages/bicm/graph_classes.py:1113: RuntimeWarning: invalid value encountered in divide\n",
      "  probs = node_xy * neighbor_xy / ((1 + node_xy) * (1 + neighbor_xy))\n",
      "/home/sarawalk/sdgs_py38/lib/python3.8/site-packages/bicm/graph_classes.py:1113: RuntimeWarning: invalid value encountered in divide\n",
      "  probs = node_xy * neighbor_xy / ((1 + node_xy) * (1 + neighbor_xy))\n",
      "/home/sarawalk/sdgs_py38/lib/python3.8/site-packages/bicm/graph_classes.py:1113: RuntimeWarning: invalid value encountered in divide\n",
      "  probs = node_xy * neighbor_xy / ((1 + node_xy) * (1 + neighbor_xy))\n",
      "/home/sarawalk/sdgs_py38/lib/python3.8/site-packages/bicm/graph_classes.py:1113: RuntimeWarning: invalid value encountered in divide\n",
      "  probs = node_xy * neighbor_xy / ((1 + node_xy) * (1 + neighbor_xy))\n",
      "\n",
      "100%|███████████████████████████████████████████████████████████████████████████████████████████████████████████████████████| 68/68 [00:00<00:00, 565.30it/s]\u001b[A\n"
     ]
    },
    {
     "name": "stdout",
     "output_type": "stream",
     "text": [
      "No V-motifs will be validated. Try increasing alpha\n"
     ]
    },
    {
     "name": "stderr",
     "output_type": "stream",
     "text": [
      "\n",
      "  0%|                                                                                                                                  | 0/8 [00:00<?, ?it/s]\u001b[A/home/sarawalk/sdgs_py38/lib/python3.8/site-packages/bicm/graph_classes.py:1113: RuntimeWarning: invalid value encountered in divide\n",
      "  probs = node_xy * neighbor_xy / ((1 + node_xy) * (1 + neighbor_xy))\n",
      "/home/sarawalk/sdgs_py38/lib/python3.8/site-packages/bicm/graph_classes.py:1113: RuntimeWarning: invalid value encountered in divide\n",
      "  probs = node_xy * neighbor_xy / ((1 + node_xy) * (1 + neighbor_xy))\n",
      "/home/sarawalk/sdgs_py38/lib/python3.8/site-packages/bicm/graph_classes.py:1113: RuntimeWarning: invalid value encountered in divide\n",
      "  probs = node_xy * neighbor_xy / ((1 + node_xy) * (1 + neighbor_xy))\n",
      "/home/sarawalk/sdgs_py38/lib/python3.8/site-packages/bicm/graph_classes.py:1113: RuntimeWarning: invalid value encountered in divide\n",
      "  probs = node_xy * neighbor_xy / ((1 + node_xy) * (1 + neighbor_xy))\n",
      "\n",
      "100%|██████████████████████████████████████████████████████████████████████████████████████████████████████████████████████████| 8/8 [00:00<00:00, 66.61it/s]\u001b[A\n"
     ]
    },
    {
     "name": "stdout",
     "output_type": "stream",
     "text": [
      "No V-motifs will be validated. Try increasing alpha\n",
      "\n",
      "                      WARNING: this system has at least a node that is disconnected or connected to all nodes\n",
      "                       of the opposite layer. This may cause some convergence issues.\n",
      "                      Please use the full mode providing a biadjacency matrix or an edgelist,\n",
      "                       or clean your data from these nodes. \n",
      "                      \n",
      "2021 Energy SDG 16: Peace, Justice, and Strong Institutions\r"
     ]
    },
    {
     "name": "stderr",
     "output_type": "stream",
     "text": [
      "\n",
      "  0%|                                                                                                                                 | 0/68 [00:00<?, ?it/s]\u001b[A/home/sarawalk/sdgs_py38/lib/python3.8/site-packages/bicm/graph_classes.py:1113: RuntimeWarning: invalid value encountered in divide\n",
      "  probs = node_xy * neighbor_xy / ((1 + node_xy) * (1 + neighbor_xy))\n",
      "/home/sarawalk/sdgs_py38/lib/python3.8/site-packages/bicm/graph_classes.py:1113: RuntimeWarning: invalid value encountered in divide\n",
      "  probs = node_xy * neighbor_xy / ((1 + node_xy) * (1 + neighbor_xy))\n",
      "/home/sarawalk/sdgs_py38/lib/python3.8/site-packages/bicm/graph_classes.py:1113: RuntimeWarning: invalid value encountered in divide\n",
      "  probs = node_xy * neighbor_xy / ((1 + node_xy) * (1 + neighbor_xy))\n",
      "/home/sarawalk/sdgs_py38/lib/python3.8/site-packages/bicm/graph_classes.py:1113: RuntimeWarning: invalid value encountered in divide\n",
      "  probs = node_xy * neighbor_xy / ((1 + node_xy) * (1 + neighbor_xy))\n",
      "100%|███████████████████████████████████████████████████████████████████████████████████████████████████████████████████████| 68/68 [00:00<00:00, 708.06it/s]"
     ]
    },
    {
     "name": "stdout",
     "output_type": "stream",
     "text": [
      "No V-motifs will be validated. Try increasing alpha\n"
     ]
    },
    {
     "name": "stderr",
     "output_type": "stream",
     "text": [
      "\n",
      "\n",
      "  0%|                                                                                                                                  | 0/8 [00:00<?, ?it/s]\u001b[A/home/sarawalk/sdgs_py38/lib/python3.8/site-packages/bicm/graph_classes.py:1113: RuntimeWarning: invalid value encountered in divide\n",
      "  probs = node_xy * neighbor_xy / ((1 + node_xy) * (1 + neighbor_xy))\n",
      "/home/sarawalk/sdgs_py38/lib/python3.8/site-packages/bicm/graph_classes.py:1113: RuntimeWarning: invalid value encountered in divide\n",
      "  probs = node_xy * neighbor_xy / ((1 + node_xy) * (1 + neighbor_xy))\n",
      "/home/sarawalk/sdgs_py38/lib/python3.8/site-packages/bicm/graph_classes.py:1113: RuntimeWarning: invalid value encountered in divide\n",
      "  probs = node_xy * neighbor_xy / ((1 + node_xy) * (1 + neighbor_xy))\n",
      "/home/sarawalk/sdgs_py38/lib/python3.8/site-packages/bicm/graph_classes.py:1113: RuntimeWarning: invalid value encountered in divide\n",
      "  probs = node_xy * neighbor_xy / ((1 + node_xy) * (1 + neighbor_xy))\n",
      "\n",
      "100%|██████████████████████████████████████████████████████████████████████████████████████████████████████████████████████████| 8/8 [00:00<00:00, 59.53it/s]\u001b[A\n"
     ]
    },
    {
     "name": "stdout",
     "output_type": "stream",
     "text": [
      "No V-motifs will be validated. Try increasing alpha\n",
      "\n",
      "                      WARNING: this system has at least a node that is disconnected or connected to all nodes\n",
      "                       of the opposite layer. This may cause some convergence issues.\n",
      "                      Please use the full mode providing a biadjacency matrix or an edgelist,\n",
      "                       or clean your data from these nodes. \n",
      "                      \n",
      "2021 Energy SDG 17: Partnerships for the Goals\r"
     ]
    },
    {
     "name": "stderr",
     "output_type": "stream",
     "text": [
      "\n",
      "  0%|                                                                                                                                 | 0/68 [00:00<?, ?it/s]\u001b[A/home/sarawalk/sdgs_py38/lib/python3.8/site-packages/bicm/graph_classes.py:1113: RuntimeWarning: invalid value encountered in divide\n",
      "  probs = node_xy * neighbor_xy / ((1 + node_xy) * (1 + neighbor_xy))\n",
      "/home/sarawalk/sdgs_py38/lib/python3.8/site-packages/bicm/graph_classes.py:1113: RuntimeWarning: invalid value encountered in divide\n",
      "  probs = node_xy * neighbor_xy / ((1 + node_xy) * (1 + neighbor_xy))\n",
      "/home/sarawalk/sdgs_py38/lib/python3.8/site-packages/bicm/graph_classes.py:1113: RuntimeWarning: invalid value encountered in divide\n",
      "  probs = node_xy * neighbor_xy / ((1 + node_xy) * (1 + neighbor_xy))\n",
      "/home/sarawalk/sdgs_py38/lib/python3.8/site-packages/bicm/graph_classes.py:1113: RuntimeWarning: invalid value encountered in divide\n",
      "  probs = node_xy * neighbor_xy / ((1 + node_xy) * (1 + neighbor_xy))\n",
      "\n",
      "100%|███████████████████████████████████████████████████████████████████████████████████████████████████████████████████████| 68/68 [00:00<00:00, 540.04it/s]\u001b[A\n"
     ]
    },
    {
     "name": "stdout",
     "output_type": "stream",
     "text": [
      "No V-motifs will be validated. Try increasing alpha\n"
     ]
    },
    {
     "name": "stderr",
     "output_type": "stream",
     "text": [
      "\n",
      "  0%|                                                                                                                                  | 0/8 [00:00<?, ?it/s]\u001b[A/home/sarawalk/sdgs_py38/lib/python3.8/site-packages/bicm/graph_classes.py:1113: RuntimeWarning: invalid value encountered in divide\n",
      "  probs = node_xy * neighbor_xy / ((1 + node_xy) * (1 + neighbor_xy))\n",
      "/home/sarawalk/sdgs_py38/lib/python3.8/site-packages/bicm/graph_classes.py:1113: RuntimeWarning: invalid value encountered in divide\n",
      "  probs = node_xy * neighbor_xy / ((1 + node_xy) * (1 + neighbor_xy))\n",
      "/home/sarawalk/sdgs_py38/lib/python3.8/site-packages/bicm/graph_classes.py:1113: RuntimeWarning: invalid value encountered in divide\n",
      "  probs = node_xy * neighbor_xy / ((1 + node_xy) * (1 + neighbor_xy))\n",
      "/home/sarawalk/sdgs_py38/lib/python3.8/site-packages/bicm/graph_classes.py:1113: RuntimeWarning: invalid value encountered in divide\n",
      "  probs = node_xy * neighbor_xy / ((1 + node_xy) * (1 + neighbor_xy))\n",
      "\n",
      "100%|██████████████████████████████████████████████████████████████████████████████████████████████████████████████████████████| 8/8 [00:00<00:00, 57.08it/s]\u001b[A\n"
     ]
    },
    {
     "name": "stdout",
     "output_type": "stream",
     "text": [
      "No V-motifs will be validated. Try increasing alpha\n",
      "\n",
      "                      WARNING: this system has at least a node that is disconnected or connected to all nodes\n",
      "                       of the opposite layer. This may cause some convergence issues.\n",
      "                      Please use the full mode providing a biadjacency matrix or an edgelist,\n",
      "                       or clean your data from these nodes. \n",
      "                      \n",
      "2021 Utilities SDG 1: No Poverty\r"
     ]
    },
    {
     "name": "stderr",
     "output_type": "stream",
     "text": [
      "\n",
      "  0%|                                                                                                                                 | 0/80 [00:00<?, ?it/s]\u001b[A/home/sarawalk/sdgs_py38/lib/python3.8/site-packages/bicm/graph_classes.py:1113: RuntimeWarning: invalid value encountered in divide\n",
      "  probs = node_xy * neighbor_xy / ((1 + node_xy) * (1 + neighbor_xy))\n",
      "/home/sarawalk/sdgs_py38/lib/python3.8/site-packages/bicm/graph_classes.py:1113: RuntimeWarning: invalid value encountered in divide\n",
      "  probs = node_xy * neighbor_xy / ((1 + node_xy) * (1 + neighbor_xy))\n",
      "/home/sarawalk/sdgs_py38/lib/python3.8/site-packages/bicm/graph_classes.py:1113: RuntimeWarning: invalid value encountered in divide\n",
      "  probs = node_xy * neighbor_xy / ((1 + node_xy) * (1 + neighbor_xy))\n",
      "/home/sarawalk/sdgs_py38/lib/python3.8/site-packages/bicm/graph_classes.py:1113: RuntimeWarning: invalid value encountered in divide\n",
      "  probs = node_xy * neighbor_xy / ((1 + node_xy) * (1 + neighbor_xy))\n",
      "\n",
      "100%|███████████████████████████████████████████████████████████████████████████████████████████████████████████████████████| 80/80 [00:00<00:00, 440.15it/s]\u001b[A\n"
     ]
    },
    {
     "name": "stdout",
     "output_type": "stream",
     "text": [
      "No V-motifs will be validated. Try increasing alpha\n"
     ]
    },
    {
     "name": "stderr",
     "output_type": "stream",
     "text": [
      "\n",
      "  0%|                                                                                                                                  | 0/5 [00:00<?, ?it/s]\u001b[A/home/sarawalk/sdgs_py38/lib/python3.8/site-packages/bicm/graph_classes.py:1113: RuntimeWarning: invalid value encountered in divide\n",
      "  probs = node_xy * neighbor_xy / ((1 + node_xy) * (1 + neighbor_xy))\n",
      "/home/sarawalk/sdgs_py38/lib/python3.8/site-packages/bicm/graph_classes.py:1113: RuntimeWarning: invalid value encountered in divide\n",
      "  probs = node_xy * neighbor_xy / ((1 + node_xy) * (1 + neighbor_xy))\n",
      "/home/sarawalk/sdgs_py38/lib/python3.8/site-packages/bicm/graph_classes.py:1113: RuntimeWarning: invalid value encountered in divide\n",
      "  probs = node_xy * neighbor_xy / ((1 + node_xy) * (1 + neighbor_xy))\n",
      "/home/sarawalk/sdgs_py38/lib/python3.8/site-packages/bicm/graph_classes.py:1113: RuntimeWarning: invalid value encountered in divide\n",
      "  probs = node_xy * neighbor_xy / ((1 + node_xy) * (1 + neighbor_xy))\n",
      "\n",
      "100%|██████████████████████████████████████████████████████████████████████████████████████████████████████████████████████████| 5/5 [00:00<00:00, 39.91it/s]\u001b[A"
     ]
    },
    {
     "name": "stdout",
     "output_type": "stream",
     "text": [
      "No V-motifs will be validated. Try increasing alpha\n",
      "\n",
      "                      WARNING: this system has at least a node that is disconnected or connected to all nodes\n",
      "                       of the opposite layer. This may cause some convergence issues.\n",
      "                      Please use the full mode providing a biadjacency matrix or an edgelist,\n",
      "                       or clean your data from these nodes. \n",
      "                      \n",
      "2021 Utilities SDG 3: Good Health and Well-being\r"
     ]
    },
    {
     "name": "stderr",
     "output_type": "stream",
     "text": [
      "\n",
      "\n",
      "  0%|                                                                                                                                 | 0/80 [00:00<?, ?it/s]\u001b[A/home/sarawalk/sdgs_py38/lib/python3.8/site-packages/bicm/graph_classes.py:1113: RuntimeWarning: invalid value encountered in divide\n",
      "  probs = node_xy * neighbor_xy / ((1 + node_xy) * (1 + neighbor_xy))\n",
      "/home/sarawalk/sdgs_py38/lib/python3.8/site-packages/bicm/graph_classes.py:1113: RuntimeWarning: invalid value encountered in divide\n",
      "  probs = node_xy * neighbor_xy / ((1 + node_xy) * (1 + neighbor_xy))\n",
      "/home/sarawalk/sdgs_py38/lib/python3.8/site-packages/bicm/graph_classes.py:1113: RuntimeWarning: invalid value encountered in divide\n",
      "  probs = node_xy * neighbor_xy / ((1 + node_xy) * (1 + neighbor_xy))\n",
      "/home/sarawalk/sdgs_py38/lib/python3.8/site-packages/bicm/graph_classes.py:1113: RuntimeWarning: invalid value encountered in divide\n",
      "  probs = node_xy * neighbor_xy / ((1 + node_xy) * (1 + neighbor_xy))\n",
      "\n",
      "100%|███████████████████████████████████████████████████████████████████████████████████████████████████████████████████████| 80/80 [00:00<00:00, 460.70it/s]\u001b[A\n"
     ]
    },
    {
     "name": "stdout",
     "output_type": "stream",
     "text": [
      "No V-motifs will be validated. Try increasing alpha\n"
     ]
    },
    {
     "name": "stderr",
     "output_type": "stream",
     "text": [
      "\n",
      "  0%|                                                                                                                                  | 0/5 [00:00<?, ?it/s]\u001b[A/home/sarawalk/sdgs_py38/lib/python3.8/site-packages/bicm/graph_classes.py:1113: RuntimeWarning: invalid value encountered in divide\n",
      "  probs = node_xy * neighbor_xy / ((1 + node_xy) * (1 + neighbor_xy))\n",
      "/home/sarawalk/sdgs_py38/lib/python3.8/site-packages/bicm/graph_classes.py:1113: RuntimeWarning: invalid value encountered in divide\n",
      "  probs = node_xy * neighbor_xy / ((1 + node_xy) * (1 + neighbor_xy))\n",
      "/home/sarawalk/sdgs_py38/lib/python3.8/site-packages/bicm/graph_classes.py:1113: RuntimeWarning: invalid value encountered in divide\n",
      "  probs = node_xy * neighbor_xy / ((1 + node_xy) * (1 + neighbor_xy))\n",
      "/home/sarawalk/sdgs_py38/lib/python3.8/site-packages/bicm/graph_classes.py:1113: RuntimeWarning: invalid value encountered in divide\n",
      "  probs = node_xy * neighbor_xy / ((1 + node_xy) * (1 + neighbor_xy))\n",
      "100%|██████████████████████████████████████████████████████████████████████████████████████████████████████████████████████████| 5/5 [00:00<00:00, 51.55it/s]"
     ]
    },
    {
     "name": "stdout",
     "output_type": "stream",
     "text": [
      "No V-motifs will be validated. Try increasing alpha\n",
      "\n",
      "                      WARNING: this system has at least a node that is disconnected or connected to all nodes\n",
      "                       of the opposite layer. This may cause some convergence issues.\n",
      "                      Please use the full mode providing a biadjacency matrix or an edgelist,\n",
      "                       or clean your data from these nodes. \n",
      "                      \n",
      "2021 Utilities SDG 4: Quality Education\r"
     ]
    },
    {
     "name": "stderr",
     "output_type": "stream",
     "text": [
      "\n",
      "\n",
      "  0%|                                                                                                                                 | 0/80 [00:00<?, ?it/s]\u001b[A/home/sarawalk/sdgs_py38/lib/python3.8/site-packages/bicm/graph_classes.py:1113: RuntimeWarning: invalid value encountered in divide\n",
      "  probs = node_xy * neighbor_xy / ((1 + node_xy) * (1 + neighbor_xy))\n",
      "/home/sarawalk/sdgs_py38/lib/python3.8/site-packages/bicm/graph_classes.py:1113: RuntimeWarning: invalid value encountered in divide\n",
      "  probs = node_xy * neighbor_xy / ((1 + node_xy) * (1 + neighbor_xy))\n",
      "/home/sarawalk/sdgs_py38/lib/python3.8/site-packages/bicm/graph_classes.py:1113: RuntimeWarning: invalid value encountered in divide\n",
      "  probs = node_xy * neighbor_xy / ((1 + node_xy) * (1 + neighbor_xy))\n",
      "/home/sarawalk/sdgs_py38/lib/python3.8/site-packages/bicm/graph_classes.py:1113: RuntimeWarning: invalid value encountered in divide\n",
      "  probs = node_xy * neighbor_xy / ((1 + node_xy) * (1 + neighbor_xy))\n",
      "\n",
      "100%|███████████████████████████████████████████████████████████████████████████████████████████████████████████████████████| 80/80 [00:00<00:00, 457.48it/s]\u001b[A\n"
     ]
    },
    {
     "name": "stdout",
     "output_type": "stream",
     "text": [
      "No V-motifs will be validated. Try increasing alpha\n"
     ]
    },
    {
     "name": "stderr",
     "output_type": "stream",
     "text": [
      "\n",
      "  0%|                                                                                                                                  | 0/5 [00:00<?, ?it/s]\u001b[A/home/sarawalk/sdgs_py38/lib/python3.8/site-packages/bicm/graph_classes.py:1113: RuntimeWarning: invalid value encountered in divide\n",
      "  probs = node_xy * neighbor_xy / ((1 + node_xy) * (1 + neighbor_xy))\n",
      "/home/sarawalk/sdgs_py38/lib/python3.8/site-packages/bicm/graph_classes.py:1113: RuntimeWarning: invalid value encountered in divide\n",
      "  probs = node_xy * neighbor_xy / ((1 + node_xy) * (1 + neighbor_xy))\n",
      "/home/sarawalk/sdgs_py38/lib/python3.8/site-packages/bicm/graph_classes.py:1113: RuntimeWarning: invalid value encountered in divide\n",
      "  probs = node_xy * neighbor_xy / ((1 + node_xy) * (1 + neighbor_xy))\n",
      "100%|██████████████████████████████████████████████████████████████████████████████████████████████████████████████████████████| 5/5 [00:00<00:00, 49.00it/s]"
     ]
    },
    {
     "name": "stdout",
     "output_type": "stream",
     "text": [
      "No V-motifs will be validated. Try increasing alpha\n",
      "\n",
      "                      WARNING: this system has at least a node that is disconnected or connected to all nodes\n",
      "                       of the opposite layer. This may cause some convergence issues.\n",
      "                      Please use the full mode providing a biadjacency matrix or an edgelist,\n",
      "                       or clean your data from these nodes. \n",
      "                      \n",
      "2021 Utilities SDG 5: Gender Equality\r"
     ]
    },
    {
     "name": "stderr",
     "output_type": "stream",
     "text": [
      "\n",
      "\n",
      "  0%|                                                                                                                                 | 0/80 [00:00<?, ?it/s]\u001b[A/home/sarawalk/sdgs_py38/lib/python3.8/site-packages/bicm/graph_classes.py:1113: RuntimeWarning: invalid value encountered in divide\n",
      "  probs = node_xy * neighbor_xy / ((1 + node_xy) * (1 + neighbor_xy))\n",
      "/home/sarawalk/sdgs_py38/lib/python3.8/site-packages/bicm/graph_classes.py:1113: RuntimeWarning: invalid value encountered in divide\n",
      "  probs = node_xy * neighbor_xy / ((1 + node_xy) * (1 + neighbor_xy))\n",
      "/home/sarawalk/sdgs_py38/lib/python3.8/site-packages/bicm/graph_classes.py:1113: RuntimeWarning: invalid value encountered in divide\n",
      "  probs = node_xy * neighbor_xy / ((1 + node_xy) * (1 + neighbor_xy))\n",
      "/home/sarawalk/sdgs_py38/lib/python3.8/site-packages/bicm/graph_classes.py:1113: RuntimeWarning: invalid value encountered in divide\n",
      "  probs = node_xy * neighbor_xy / ((1 + node_xy) * (1 + neighbor_xy))\n",
      "\n",
      "100%|███████████████████████████████████████████████████████████████████████████████████████████████████████████████████████| 80/80 [00:00<00:00, 371.64it/s]\u001b[A"
     ]
    },
    {
     "name": "stdout",
     "output_type": "stream",
     "text": [
      "No V-motifs will be validated. Try increasing alpha\n"
     ]
    },
    {
     "name": "stderr",
     "output_type": "stream",
     "text": [
      "\n",
      "\n",
      "  0%|                                                                                                                                  | 0/5 [00:00<?, ?it/s]\u001b[A/home/sarawalk/sdgs_py38/lib/python3.8/site-packages/bicm/graph_classes.py:1113: RuntimeWarning: invalid value encountered in divide\n",
      "  probs = node_xy * neighbor_xy / ((1 + node_xy) * (1 + neighbor_xy))\n",
      "/home/sarawalk/sdgs_py38/lib/python3.8/site-packages/bicm/graph_classes.py:1113: RuntimeWarning: invalid value encountered in divide\n",
      "  probs = node_xy * neighbor_xy / ((1 + node_xy) * (1 + neighbor_xy))\n",
      "/home/sarawalk/sdgs_py38/lib/python3.8/site-packages/bicm/graph_classes.py:1113: RuntimeWarning: invalid value encountered in divide\n",
      "  probs = node_xy * neighbor_xy / ((1 + node_xy) * (1 + neighbor_xy))\n",
      "/home/sarawalk/sdgs_py38/lib/python3.8/site-packages/bicm/graph_classes.py:1113: RuntimeWarning: invalid value encountered in divide\n",
      "  probs = node_xy * neighbor_xy / ((1 + node_xy) * (1 + neighbor_xy))\n",
      "100%|██████████████████████████████████████████████████████████████████████████████████████████████████████████████████████████| 5/5 [00:00<00:00, 54.46it/s]"
     ]
    },
    {
     "name": "stdout",
     "output_type": "stream",
     "text": [
      "No V-motifs will be validated. Try increasing alpha\n",
      "\n",
      "                      WARNING: this system has at least a node that is disconnected or connected to all nodes\n",
      "                       of the opposite layer. This may cause some convergence issues.\n",
      "                      Please use the full mode providing a biadjacency matrix or an edgelist,\n",
      "                       or clean your data from these nodes. \n",
      "                      \n",
      "2021 Utilities SDG 6: Clean Water and Sanitation\r"
     ]
    },
    {
     "name": "stderr",
     "output_type": "stream",
     "text": [
      "\n",
      "\n",
      "  0%|                                                                                                                                 | 0/80 [00:00<?, ?it/s]\u001b[A/home/sarawalk/sdgs_py38/lib/python3.8/site-packages/bicm/graph_classes.py:1113: RuntimeWarning: invalid value encountered in divide\n",
      "  probs = node_xy * neighbor_xy / ((1 + node_xy) * (1 + neighbor_xy))\n",
      "/home/sarawalk/sdgs_py38/lib/python3.8/site-packages/bicm/graph_classes.py:1113: RuntimeWarning: invalid value encountered in divide\n",
      "  probs = node_xy * neighbor_xy / ((1 + node_xy) * (1 + neighbor_xy))\n",
      "/home/sarawalk/sdgs_py38/lib/python3.8/site-packages/bicm/graph_classes.py:1113: RuntimeWarning: invalid value encountered in divide\n",
      "  probs = node_xy * neighbor_xy / ((1 + node_xy) * (1 + neighbor_xy))\n",
      "/home/sarawalk/sdgs_py38/lib/python3.8/site-packages/bicm/graph_classes.py:1113: RuntimeWarning: invalid value encountered in divide\n",
      "  probs = node_xy * neighbor_xy / ((1 + node_xy) * (1 + neighbor_xy))\n",
      "\n",
      "100%|███████████████████████████████████████████████████████████████████████████████████████████████████████████████████████| 80/80 [00:00<00:00, 608.37it/s]\u001b[A\n"
     ]
    },
    {
     "name": "stdout",
     "output_type": "stream",
     "text": [
      "No V-motifs will be validated. Try increasing alpha\n"
     ]
    },
    {
     "name": "stderr",
     "output_type": "stream",
     "text": [
      "\n",
      "  0%|                                                                                                                                  | 0/5 [00:00<?, ?it/s]\u001b[A/home/sarawalk/sdgs_py38/lib/python3.8/site-packages/bicm/graph_classes.py:1113: RuntimeWarning: invalid value encountered in divide\n",
      "  probs = node_xy * neighbor_xy / ((1 + node_xy) * (1 + neighbor_xy))\n",
      "/home/sarawalk/sdgs_py38/lib/python3.8/site-packages/bicm/graph_classes.py:1113: RuntimeWarning: invalid value encountered in divide\n",
      "  probs = node_xy * neighbor_xy / ((1 + node_xy) * (1 + neighbor_xy))\n",
      "100%|██████████████████████████████████████████████████████████████████████████████████████████████████████████████████████████| 5/5 [00:00<00:00, 76.68it/s]/home/sarawalk/sdgs_py38/lib/python3.8/site-packages/bicm/graph_classes.py:1113: RuntimeWarning: invalid value encountered in divide\n",
      "  probs = node_xy * neighbor_xy / ((1 + node_xy) * (1 + neighbor_xy))\n",
      "/home/sarawalk/sdgs_py38/lib/python3.8/site-packages/bicm/graph_classes.py:1113: RuntimeWarning: invalid value encountered in divide\n",
      "  probs = node_xy * neighbor_xy / ((1 + node_xy) * (1 + neighbor_xy))\n",
      "\n"
     ]
    },
    {
     "name": "stdout",
     "output_type": "stream",
     "text": [
      "No V-motifs will be validated. Try increasing alpha\n",
      "\n",
      "                      WARNING: this system has at least a node that is disconnected or connected to all nodes\n",
      "                       of the opposite layer. This may cause some convergence issues.\n",
      "                      Please use the full mode providing a biadjacency matrix or an edgelist,\n",
      "                       or clean your data from these nodes. \n",
      "                      \n",
      "2021 Utilities SDG 7: Affordable and Clean Energy\r"
     ]
    },
    {
     "name": "stderr",
     "output_type": "stream",
     "text": [
      "\n",
      "  0%|                                                                                                                                 | 0/80 [00:00<?, ?it/s]\u001b[A/home/sarawalk/sdgs_py38/lib/python3.8/site-packages/bicm/graph_classes.py:1113: RuntimeWarning: invalid value encountered in divide\n",
      "  probs = node_xy * neighbor_xy / ((1 + node_xy) * (1 + neighbor_xy))\n",
      "/home/sarawalk/sdgs_py38/lib/python3.8/site-packages/bicm/graph_classes.py:1113: RuntimeWarning: invalid value encountered in divide\n",
      "  probs = node_xy * neighbor_xy / ((1 + node_xy) * (1 + neighbor_xy))\n",
      "/home/sarawalk/sdgs_py38/lib/python3.8/site-packages/bicm/graph_classes.py:1113: RuntimeWarning: invalid value encountered in divide\n",
      "  probs = node_xy * neighbor_xy / ((1 + node_xy) * (1 + neighbor_xy))\n",
      "/home/sarawalk/sdgs_py38/lib/python3.8/site-packages/bicm/graph_classes.py:1113: RuntimeWarning: invalid value encountered in divide\n",
      "  probs = node_xy * neighbor_xy / ((1 + node_xy) * (1 + neighbor_xy))\n",
      "\n",
      "100%|███████████████████████████████████████████████████████████████████████████████████████████████████████████████████████| 80/80 [00:00<00:00, 525.49it/s]\u001b[A\n"
     ]
    },
    {
     "name": "stdout",
     "output_type": "stream",
     "text": [
      "No V-motifs will be validated. Try increasing alpha\n"
     ]
    },
    {
     "name": "stderr",
     "output_type": "stream",
     "text": [
      "\n",
      "  0%|                                                                                                                                  | 0/5 [00:00<?, ?it/s]\u001b[A/home/sarawalk/sdgs_py38/lib/python3.8/site-packages/bicm/graph_classes.py:1113: RuntimeWarning: invalid value encountered in divide\n",
      "  probs = node_xy * neighbor_xy / ((1 + node_xy) * (1 + neighbor_xy))\n",
      "/home/sarawalk/sdgs_py38/lib/python3.8/site-packages/bicm/graph_classes.py:1113: RuntimeWarning: invalid value encountered in divide\n",
      "  probs = node_xy * neighbor_xy / ((1 + node_xy) * (1 + neighbor_xy))\n",
      "/home/sarawalk/sdgs_py38/lib/python3.8/site-packages/bicm/graph_classes.py:1113: RuntimeWarning: invalid value encountered in divide\n",
      "  probs = node_xy * neighbor_xy / ((1 + node_xy) * (1 + neighbor_xy))\n",
      "/home/sarawalk/sdgs_py38/lib/python3.8/site-packages/bicm/graph_classes.py:1113: RuntimeWarning: invalid value encountered in divide\n",
      "  probs = node_xy * neighbor_xy / ((1 + node_xy) * (1 + neighbor_xy))\n",
      "100%|██████████████████████████████████████████████████████████████████████████████████████████████████████████████████████████| 5/5 [00:00<00:00, 59.52it/s]"
     ]
    },
    {
     "name": "stdout",
     "output_type": "stream",
     "text": [
      "No V-motifs will be validated. Try increasing alpha\n",
      "\n",
      "                      WARNING: this system has at least a node that is disconnected or connected to all nodes\n",
      "                       of the opposite layer. This may cause some convergence issues.\n",
      "                      Please use the full mode providing a biadjacency matrix or an edgelist,\n",
      "                       or clean your data from these nodes. \n",
      "                      \n",
      "2021 Utilities SDG 8: Decent Work and Economic Growth\r"
     ]
    },
    {
     "name": "stderr",
     "output_type": "stream",
     "text": [
      "\n",
      "\n",
      "  0%|                                                                                                                                 | 0/80 [00:00<?, ?it/s]\u001b[A/home/sarawalk/sdgs_py38/lib/python3.8/site-packages/bicm/graph_classes.py:1113: RuntimeWarning: invalid value encountered in divide\n",
      "  probs = node_xy * neighbor_xy / ((1 + node_xy) * (1 + neighbor_xy))\n",
      "/home/sarawalk/sdgs_py38/lib/python3.8/site-packages/bicm/graph_classes.py:1113: RuntimeWarning: invalid value encountered in divide\n",
      "  probs = node_xy * neighbor_xy / ((1 + node_xy) * (1 + neighbor_xy))\n",
      "/home/sarawalk/sdgs_py38/lib/python3.8/site-packages/bicm/graph_classes.py:1113: RuntimeWarning: invalid value encountered in divide\n",
      "  probs = node_xy * neighbor_xy / ((1 + node_xy) * (1 + neighbor_xy))\n",
      "/home/sarawalk/sdgs_py38/lib/python3.8/site-packages/bicm/graph_classes.py:1113: RuntimeWarning: invalid value encountered in divide\n",
      "  probs = node_xy * neighbor_xy / ((1 + node_xy) * (1 + neighbor_xy))\n",
      "\n",
      "100%|███████████████████████████████████████████████████████████████████████████████████████████████████████████████████████| 80/80 [00:00<00:00, 504.72it/s]\u001b[A\n"
     ]
    },
    {
     "name": "stdout",
     "output_type": "stream",
     "text": [
      "No V-motifs will be validated. Try increasing alpha\n"
     ]
    },
    {
     "name": "stderr",
     "output_type": "stream",
     "text": [
      "\n",
      "  0%|                                                                                                                                  | 0/5 [00:00<?, ?it/s]\u001b[A/home/sarawalk/sdgs_py38/lib/python3.8/site-packages/bicm/graph_classes.py:1113: RuntimeWarning: invalid value encountered in divide\n",
      "  probs = node_xy * neighbor_xy / ((1 + node_xy) * (1 + neighbor_xy))\n",
      "/home/sarawalk/sdgs_py38/lib/python3.8/site-packages/bicm/graph_classes.py:1113: RuntimeWarning: invalid value encountered in divide\n",
      "  probs = node_xy * neighbor_xy / ((1 + node_xy) * (1 + neighbor_xy))\n",
      "100%|██████████████████████████████████████████████████████████████████████████████████████████████████████████████████████████| 5/5 [00:00<00:00, 90.41it/s]/home/sarawalk/sdgs_py38/lib/python3.8/site-packages/bicm/graph_classes.py:1113: RuntimeWarning: invalid value encountered in divide\n",
      "  probs = node_xy * neighbor_xy / ((1 + node_xy) * (1 + neighbor_xy))\n",
      "/home/sarawalk/sdgs_py38/lib/python3.8/site-packages/bicm/graph_classes.py:1113: RuntimeWarning: invalid value encountered in divide\n",
      "  probs = node_xy * neighbor_xy / ((1 + node_xy) * (1 + neighbor_xy))\n",
      "\n"
     ]
    },
    {
     "name": "stdout",
     "output_type": "stream",
     "text": [
      "No V-motifs will be validated. Try increasing alpha\n",
      "\n",
      "                      WARNING: this system has at least a node that is disconnected or connected to all nodes\n",
      "                       of the opposite layer. This may cause some convergence issues.\n",
      "                      Please use the full mode providing a biadjacency matrix or an edgelist,\n",
      "                       or clean your data from these nodes. \n",
      "                      \n",
      "2021 Utilities SDG 9: Industry, Innovation, and Infrastructure\r"
     ]
    },
    {
     "name": "stderr",
     "output_type": "stream",
     "text": [
      "\n",
      "  0%|                                                                                                                                 | 0/80 [00:00<?, ?it/s]\u001b[A/home/sarawalk/sdgs_py38/lib/python3.8/site-packages/bicm/graph_classes.py:1113: RuntimeWarning: invalid value encountered in divide\n",
      "  probs = node_xy * neighbor_xy / ((1 + node_xy) * (1 + neighbor_xy))\n",
      "/home/sarawalk/sdgs_py38/lib/python3.8/site-packages/bicm/graph_classes.py:1113: RuntimeWarning: invalid value encountered in divide\n",
      "  probs = node_xy * neighbor_xy / ((1 + node_xy) * (1 + neighbor_xy))\n",
      "/home/sarawalk/sdgs_py38/lib/python3.8/site-packages/bicm/graph_classes.py:1113: RuntimeWarning: invalid value encountered in divide\n",
      "  probs = node_xy * neighbor_xy / ((1 + node_xy) * (1 + neighbor_xy))\n",
      "/home/sarawalk/sdgs_py38/lib/python3.8/site-packages/bicm/graph_classes.py:1113: RuntimeWarning: invalid value encountered in divide\n",
      "  probs = node_xy * neighbor_xy / ((1 + node_xy) * (1 + neighbor_xy))\n",
      "\n",
      "100%|███████████████████████████████████████████████████████████████████████████████████████████████████████████████████████| 80/80 [00:00<00:00, 425.80it/s]\u001b[A\n"
     ]
    },
    {
     "name": "stdout",
     "output_type": "stream",
     "text": [
      "No V-motifs will be validated. Try increasing alpha\n"
     ]
    },
    {
     "name": "stderr",
     "output_type": "stream",
     "text": [
      "\n",
      "  0%|                                                                                                                                  | 0/5 [00:00<?, ?it/s]\u001b[A/home/sarawalk/sdgs_py38/lib/python3.8/site-packages/bicm/graph_classes.py:1113: RuntimeWarning: invalid value encountered in divide\n",
      "  probs = node_xy * neighbor_xy / ((1 + node_xy) * (1 + neighbor_xy))\n",
      "/home/sarawalk/sdgs_py38/lib/python3.8/site-packages/bicm/graph_classes.py:1113: RuntimeWarning: invalid value encountered in divide\n",
      "  probs = node_xy * neighbor_xy / ((1 + node_xy) * (1 + neighbor_xy))\n",
      "/home/sarawalk/sdgs_py38/lib/python3.8/site-packages/bicm/graph_classes.py:1113: RuntimeWarning: invalid value encountered in divide\n",
      "  probs = node_xy * neighbor_xy / ((1 + node_xy) * (1 + neighbor_xy))\n",
      "/home/sarawalk/sdgs_py38/lib/python3.8/site-packages/bicm/graph_classes.py:1113: RuntimeWarning: invalid value encountered in divide\n",
      "  probs = node_xy * neighbor_xy / ((1 + node_xy) * (1 + neighbor_xy))\n",
      "100%|██████████████████████████████████████████████████████████████████████████████████████████████████████████████████████████| 5/5 [00:00<00:00, 52.97it/s]"
     ]
    },
    {
     "name": "stdout",
     "output_type": "stream",
     "text": [
      "No V-motifs will be validated. Try increasing alpha\n",
      "\n",
      "                      WARNING: this system has at least a node that is disconnected or connected to all nodes\n",
      "                       of the opposite layer. This may cause some convergence issues.\n",
      "                      Please use the full mode providing a biadjacency matrix or an edgelist,\n",
      "                       or clean your data from these nodes. \n",
      "                      \n",
      "2021 Utilities SDG 10: Reduced Inequality\r"
     ]
    },
    {
     "name": "stderr",
     "output_type": "stream",
     "text": [
      "\n",
      "\n",
      "  0%|                                                                                                                                 | 0/80 [00:00<?, ?it/s]\u001b[A/home/sarawalk/sdgs_py38/lib/python3.8/site-packages/bicm/graph_classes.py:1113: RuntimeWarning: invalid value encountered in divide\n",
      "  probs = node_xy * neighbor_xy / ((1 + node_xy) * (1 + neighbor_xy))\n",
      "/home/sarawalk/sdgs_py38/lib/python3.8/site-packages/bicm/graph_classes.py:1113: RuntimeWarning: invalid value encountered in divide\n",
      "  probs = node_xy * neighbor_xy / ((1 + node_xy) * (1 + neighbor_xy))\n",
      "/home/sarawalk/sdgs_py38/lib/python3.8/site-packages/bicm/graph_classes.py:1113: RuntimeWarning: invalid value encountered in divide\n",
      "  probs = node_xy * neighbor_xy / ((1 + node_xy) * (1 + neighbor_xy))\n",
      "/home/sarawalk/sdgs_py38/lib/python3.8/site-packages/bicm/graph_classes.py:1113: RuntimeWarning: invalid value encountered in divide\n",
      "  probs = node_xy * neighbor_xy / ((1 + node_xy) * (1 + neighbor_xy))\n",
      "\n",
      "100%|███████████████████████████████████████████████████████████████████████████████████████████████████████████████████████| 80/80 [00:00<00:00, 417.20it/s]\u001b[A\n"
     ]
    },
    {
     "name": "stdout",
     "output_type": "stream",
     "text": [
      "No V-motifs will be validated. Try increasing alpha\n"
     ]
    },
    {
     "name": "stderr",
     "output_type": "stream",
     "text": [
      "\n",
      "  0%|                                                                                                                                  | 0/5 [00:00<?, ?it/s]\u001b[A/home/sarawalk/sdgs_py38/lib/python3.8/site-packages/bicm/graph_classes.py:1113: RuntimeWarning: invalid value encountered in divide\n",
      "  probs = node_xy * neighbor_xy / ((1 + node_xy) * (1 + neighbor_xy))\n",
      "/home/sarawalk/sdgs_py38/lib/python3.8/site-packages/bicm/graph_classes.py:1113: RuntimeWarning: invalid value encountered in divide\n",
      "  probs = node_xy * neighbor_xy / ((1 + node_xy) * (1 + neighbor_xy))\n",
      "/home/sarawalk/sdgs_py38/lib/python3.8/site-packages/bicm/graph_classes.py:1113: RuntimeWarning: invalid value encountered in divide\n",
      "  probs = node_xy * neighbor_xy / ((1 + node_xy) * (1 + neighbor_xy))\n",
      "/home/sarawalk/sdgs_py38/lib/python3.8/site-packages/bicm/graph_classes.py:1113: RuntimeWarning: invalid value encountered in divide\n",
      "  probs = node_xy * neighbor_xy / ((1 + node_xy) * (1 + neighbor_xy))\n",
      "\n",
      "100%|██████████████████████████████████████████████████████████████████████████████████████████████████████████████████████████| 5/5 [00:00<00:00, 40.96it/s]\u001b[A"
     ]
    },
    {
     "name": "stdout",
     "output_type": "stream",
     "text": [
      "No V-motifs will be validated. Try increasing alpha\n",
      "\n",
      "                      WARNING: this system has at least a node that is disconnected or connected to all nodes\n",
      "                       of the opposite layer. This may cause some convergence issues.\n",
      "                      Please use the full mode providing a biadjacency matrix or an edgelist,\n",
      "                       or clean your data from these nodes. \n",
      "                      \n",
      "2021 Utilities SDG 11: Sustainable Cities and Communities\r"
     ]
    },
    {
     "name": "stderr",
     "output_type": "stream",
     "text": [
      "\n",
      "\n",
      "  0%|                                                                                                                                 | 0/80 [00:00<?, ?it/s]\u001b[A/home/sarawalk/sdgs_py38/lib/python3.8/site-packages/bicm/graph_classes.py:1113: RuntimeWarning: invalid value encountered in divide\n",
      "  probs = node_xy * neighbor_xy / ((1 + node_xy) * (1 + neighbor_xy))\n",
      "/home/sarawalk/sdgs_py38/lib/python3.8/site-packages/bicm/graph_classes.py:1113: RuntimeWarning: invalid value encountered in divide\n",
      "  probs = node_xy * neighbor_xy / ((1 + node_xy) * (1 + neighbor_xy))\n",
      "/home/sarawalk/sdgs_py38/lib/python3.8/site-packages/bicm/graph_classes.py:1113: RuntimeWarning: invalid value encountered in divide\n",
      "  probs = node_xy * neighbor_xy / ((1 + node_xy) * (1 + neighbor_xy))\n",
      "/home/sarawalk/sdgs_py38/lib/python3.8/site-packages/bicm/graph_classes.py:1113: RuntimeWarning: invalid value encountered in divide\n",
      "  probs = node_xy * neighbor_xy / ((1 + node_xy) * (1 + neighbor_xy))\n",
      "\n",
      "100%|███████████████████████████████████████████████████████████████████████████████████████████████████████████████████████| 80/80 [00:00<00:00, 402.31it/s]\u001b[A"
     ]
    },
    {
     "name": "stdout",
     "output_type": "stream",
     "text": [
      "No V-motifs will be validated. Try increasing alpha\n"
     ]
    },
    {
     "name": "stderr",
     "output_type": "stream",
     "text": [
      "\n",
      "\n",
      "  0%|                                                                                                                                  | 0/5 [00:00<?, ?it/s]\u001b[A/home/sarawalk/sdgs_py38/lib/python3.8/site-packages/bicm/graph_classes.py:1113: RuntimeWarning: invalid value encountered in divide\n",
      "  probs = node_xy * neighbor_xy / ((1 + node_xy) * (1 + neighbor_xy))\n",
      "/home/sarawalk/sdgs_py38/lib/python3.8/site-packages/bicm/graph_classes.py:1113: RuntimeWarning: invalid value encountered in divide\n",
      "  probs = node_xy * neighbor_xy / ((1 + node_xy) * (1 + neighbor_xy))\n",
      "/home/sarawalk/sdgs_py38/lib/python3.8/site-packages/bicm/graph_classes.py:1113: RuntimeWarning: invalid value encountered in divide\n",
      "  probs = node_xy * neighbor_xy / ((1 + node_xy) * (1 + neighbor_xy))\n",
      "/home/sarawalk/sdgs_py38/lib/python3.8/site-packages/bicm/graph_classes.py:1113: RuntimeWarning: invalid value encountered in divide\n",
      "  probs = node_xy * neighbor_xy / ((1 + node_xy) * (1 + neighbor_xy))\n",
      "\n",
      "100%|██████████████████████████████████████████████████████████████████████████████████████████████████████████████████████████| 5/5 [00:00<00:00, 43.52it/s]\u001b[A"
     ]
    },
    {
     "name": "stdout",
     "output_type": "stream",
     "text": [
      "No V-motifs will be validated. Try increasing alpha\n",
      "\n",
      "                      WARNING: this system has at least a node that is disconnected or connected to all nodes\n",
      "                       of the opposite layer. This may cause some convergence issues.\n",
      "                      Please use the full mode providing a biadjacency matrix or an edgelist,\n",
      "                       or clean your data from these nodes. \n",
      "                      \n",
      "2021 Utilities SDG 12: Responsible Consumption and Production\r"
     ]
    },
    {
     "name": "stderr",
     "output_type": "stream",
     "text": [
      "\n",
      "\n",
      "  0%|                                                                                                                                 | 0/80 [00:00<?, ?it/s]\u001b[A/home/sarawalk/sdgs_py38/lib/python3.8/site-packages/bicm/graph_classes.py:1113: RuntimeWarning: invalid value encountered in divide\n",
      "  probs = node_xy * neighbor_xy / ((1 + node_xy) * (1 + neighbor_xy))\n",
      "/home/sarawalk/sdgs_py38/lib/python3.8/site-packages/bicm/graph_classes.py:1113: RuntimeWarning: invalid value encountered in divide\n",
      "  probs = node_xy * neighbor_xy / ((1 + node_xy) * (1 + neighbor_xy))\n",
      "/home/sarawalk/sdgs_py38/lib/python3.8/site-packages/bicm/graph_classes.py:1113: RuntimeWarning: invalid value encountered in divide\n",
      "  probs = node_xy * neighbor_xy / ((1 + node_xy) * (1 + neighbor_xy))\n",
      "/home/sarawalk/sdgs_py38/lib/python3.8/site-packages/bicm/graph_classes.py:1113: RuntimeWarning: invalid value encountered in divide\n",
      "  probs = node_xy * neighbor_xy / ((1 + node_xy) * (1 + neighbor_xy))\n",
      "\n",
      "100%|███████████████████████████████████████████████████████████████████████████████████████████████████████████████████████| 80/80 [00:00<00:00, 418.85it/s]\u001b[A\n"
     ]
    },
    {
     "name": "stdout",
     "output_type": "stream",
     "text": [
      "No V-motifs will be validated. Try increasing alpha\n"
     ]
    },
    {
     "name": "stderr",
     "output_type": "stream",
     "text": [
      "\n",
      "  0%|                                                                                                                                  | 0/5 [00:00<?, ?it/s]\u001b[A/home/sarawalk/sdgs_py38/lib/python3.8/site-packages/bicm/graph_classes.py:1113: RuntimeWarning: invalid value encountered in divide\n",
      "  probs = node_xy * neighbor_xy / ((1 + node_xy) * (1 + neighbor_xy))\n",
      "/home/sarawalk/sdgs_py38/lib/python3.8/site-packages/bicm/graph_classes.py:1113: RuntimeWarning: invalid value encountered in divide\n",
      "  probs = node_xy * neighbor_xy / ((1 + node_xy) * (1 + neighbor_xy))\n",
      "/home/sarawalk/sdgs_py38/lib/python3.8/site-packages/bicm/graph_classes.py:1113: RuntimeWarning: invalid value encountered in divide\n",
      "  probs = node_xy * neighbor_xy / ((1 + node_xy) * (1 + neighbor_xy))\n",
      "/home/sarawalk/sdgs_py38/lib/python3.8/site-packages/bicm/graph_classes.py:1113: RuntimeWarning: invalid value encountered in divide\n",
      "  probs = node_xy * neighbor_xy / ((1 + node_xy) * (1 + neighbor_xy))\n",
      "\n",
      "100%|██████████████████████████████████████████████████████████████████████████████████████████████████████████████████████████| 5/5 [00:00<00:00, 44.47it/s]\u001b[A"
     ]
    },
    {
     "name": "stdout",
     "output_type": "stream",
     "text": [
      "No V-motifs will be validated. Try increasing alpha\n",
      "\n",
      "                      WARNING: this system has at least a node that is disconnected or connected to all nodes\n",
      "                       of the opposite layer. This may cause some convergence issues.\n",
      "                      Please use the full mode providing a biadjacency matrix or an edgelist,\n",
      "                       or clean your data from these nodes. \n",
      "                      \n",
      "2021 Utilities SDG 13: Climate Action\r"
     ]
    },
    {
     "name": "stderr",
     "output_type": "stream",
     "text": [
      "\n",
      "\n",
      "  0%|                                                                                                                                 | 0/80 [00:00<?, ?it/s]\u001b[A/home/sarawalk/sdgs_py38/lib/python3.8/site-packages/bicm/graph_classes.py:1113: RuntimeWarning: invalid value encountered in divide\n",
      "  probs = node_xy * neighbor_xy / ((1 + node_xy) * (1 + neighbor_xy))\n",
      "/home/sarawalk/sdgs_py38/lib/python3.8/site-packages/bicm/graph_classes.py:1113: RuntimeWarning: invalid value encountered in divide\n",
      "  probs = node_xy * neighbor_xy / ((1 + node_xy) * (1 + neighbor_xy))\n",
      "/home/sarawalk/sdgs_py38/lib/python3.8/site-packages/bicm/graph_classes.py:1113: RuntimeWarning: invalid value encountered in divide\n",
      "  probs = node_xy * neighbor_xy / ((1 + node_xy) * (1 + neighbor_xy))\n",
      "/home/sarawalk/sdgs_py38/lib/python3.8/site-packages/bicm/graph_classes.py:1113: RuntimeWarning: invalid value encountered in divide\n",
      "  probs = node_xy * neighbor_xy / ((1 + node_xy) * (1 + neighbor_xy))\n",
      "\n",
      "100%|███████████████████████████████████████████████████████████████████████████████████████████████████████████████████████| 80/80 [00:00<00:00, 455.30it/s]\u001b[A\n"
     ]
    },
    {
     "name": "stdout",
     "output_type": "stream",
     "text": [
      "No V-motifs will be validated. Try increasing alpha\n"
     ]
    },
    {
     "name": "stderr",
     "output_type": "stream",
     "text": [
      "\n",
      "  0%|                                                                                                                                  | 0/5 [00:00<?, ?it/s]\u001b[A/home/sarawalk/sdgs_py38/lib/python3.8/site-packages/bicm/graph_classes.py:1113: RuntimeWarning: invalid value encountered in divide\n",
      "  probs = node_xy * neighbor_xy / ((1 + node_xy) * (1 + neighbor_xy))\n",
      "/home/sarawalk/sdgs_py38/lib/python3.8/site-packages/bicm/graph_classes.py:1113: RuntimeWarning: invalid value encountered in divide\n",
      "  probs = node_xy * neighbor_xy / ((1 + node_xy) * (1 + neighbor_xy))\n",
      "/home/sarawalk/sdgs_py38/lib/python3.8/site-packages/bicm/graph_classes.py:1113: RuntimeWarning: invalid value encountered in divide\n",
      "  probs = node_xy * neighbor_xy / ((1 + node_xy) * (1 + neighbor_xy))\n",
      "100%|██████████████████████████████████████████████████████████████████████████████████████████████████████████████████████████| 5/5 [00:00<00:00, 61.63it/s]/home/sarawalk/sdgs_py38/lib/python3.8/site-packages/bicm/graph_classes.py:1113: RuntimeWarning: invalid value encountered in divide\n",
      "  probs = node_xy * neighbor_xy / ((1 + node_xy) * (1 + neighbor_xy))\n"
     ]
    },
    {
     "name": "stdout",
     "output_type": "stream",
     "text": [
      "No V-motifs will be validated. Try increasing alpha\n",
      "\n",
      "                      WARNING: this system has at least a node that is disconnected or connected to all nodes\n",
      "                       of the opposite layer. This may cause some convergence issues.\n",
      "                      Please use the full mode providing a biadjacency matrix or an edgelist,\n",
      "                       or clean your data from these nodes. \n",
      "                      \n",
      "2021 Utilities SDG 14: Life Below Water\r"
     ]
    },
    {
     "name": "stderr",
     "output_type": "stream",
     "text": [
      "\n",
      "\n",
      "  0%|                                                                                                                                 | 0/80 [00:00<?, ?it/s]\u001b[A/home/sarawalk/sdgs_py38/lib/python3.8/site-packages/bicm/graph_classes.py:1113: RuntimeWarning: invalid value encountered in divide\n",
      "  probs = node_xy * neighbor_xy / ((1 + node_xy) * (1 + neighbor_xy))\n",
      "/home/sarawalk/sdgs_py38/lib/python3.8/site-packages/bicm/graph_classes.py:1113: RuntimeWarning: invalid value encountered in divide\n",
      "  probs = node_xy * neighbor_xy / ((1 + node_xy) * (1 + neighbor_xy))\n",
      "/home/sarawalk/sdgs_py38/lib/python3.8/site-packages/bicm/graph_classes.py:1113: RuntimeWarning: invalid value encountered in divide\n",
      "  probs = node_xy * neighbor_xy / ((1 + node_xy) * (1 + neighbor_xy))\n",
      "/home/sarawalk/sdgs_py38/lib/python3.8/site-packages/bicm/graph_classes.py:1113: RuntimeWarning: invalid value encountered in divide\n",
      "  probs = node_xy * neighbor_xy / ((1 + node_xy) * (1 + neighbor_xy))\n",
      "\n",
      "100%|███████████████████████████████████████████████████████████████████████████████████████████████████████████████████████| 80/80 [00:00<00:00, 405.64it/s]\u001b[A\n"
     ]
    },
    {
     "name": "stdout",
     "output_type": "stream",
     "text": [
      "No V-motifs will be validated. Try increasing alpha\n"
     ]
    },
    {
     "name": "stderr",
     "output_type": "stream",
     "text": [
      "\n",
      "  0%|                                                                                                                                  | 0/5 [00:00<?, ?it/s]\u001b[A/home/sarawalk/sdgs_py38/lib/python3.8/site-packages/bicm/graph_classes.py:1113: RuntimeWarning: invalid value encountered in divide\n",
      "  probs = node_xy * neighbor_xy / ((1 + node_xy) * (1 + neighbor_xy))\n",
      "/home/sarawalk/sdgs_py38/lib/python3.8/site-packages/bicm/graph_classes.py:1113: RuntimeWarning: invalid value encountered in divide\n",
      "  probs = node_xy * neighbor_xy / ((1 + node_xy) * (1 + neighbor_xy))\n",
      "/home/sarawalk/sdgs_py38/lib/python3.8/site-packages/bicm/graph_classes.py:1113: RuntimeWarning: invalid value encountered in divide\n",
      "  probs = node_xy * neighbor_xy / ((1 + node_xy) * (1 + neighbor_xy))\n",
      "\n",
      "100%|██████████████████████████████████████████████████████████████████████████████████████████████████████████████████████████| 5/5 [00:00<00:00, 39.69it/s]\u001b[A"
     ]
    },
    {
     "name": "stdout",
     "output_type": "stream",
     "text": [
      "No V-motifs will be validated. Try increasing alpha\n",
      "\n",
      "                      WARNING: this system has at least a node that is disconnected or connected to all nodes\n",
      "                       of the opposite layer. This may cause some convergence issues.\n",
      "                      Please use the full mode providing a biadjacency matrix or an edgelist,\n",
      "                       or clean your data from these nodes. \n",
      "                      \n",
      "2021 Utilities SDG 15: Life on Land\r"
     ]
    },
    {
     "name": "stderr",
     "output_type": "stream",
     "text": [
      "\n",
      "\n",
      "  0%|                                                                                                                                 | 0/80 [00:00<?, ?it/s]\u001b[A/home/sarawalk/sdgs_py38/lib/python3.8/site-packages/bicm/graph_classes.py:1113: RuntimeWarning: invalid value encountered in divide\n",
      "  probs = node_xy * neighbor_xy / ((1 + node_xy) * (1 + neighbor_xy))\n",
      "/home/sarawalk/sdgs_py38/lib/python3.8/site-packages/bicm/graph_classes.py:1113: RuntimeWarning: invalid value encountered in divide\n",
      "  probs = node_xy * neighbor_xy / ((1 + node_xy) * (1 + neighbor_xy))\n",
      "/home/sarawalk/sdgs_py38/lib/python3.8/site-packages/bicm/graph_classes.py:1113: RuntimeWarning: invalid value encountered in divide\n",
      "  probs = node_xy * neighbor_xy / ((1 + node_xy) * (1 + neighbor_xy))\n",
      "/home/sarawalk/sdgs_py38/lib/python3.8/site-packages/bicm/graph_classes.py:1113: RuntimeWarning: invalid value encountered in divide\n",
      "  probs = node_xy * neighbor_xy / ((1 + node_xy) * (1 + neighbor_xy))\n",
      "\n",
      "100%|███████████████████████████████████████████████████████████████████████████████████████████████████████████████████████| 80/80 [00:00<00:00, 470.61it/s]\u001b[A\n"
     ]
    },
    {
     "name": "stdout",
     "output_type": "stream",
     "text": [
      "No V-motifs will be validated. Try increasing alpha\n"
     ]
    },
    {
     "name": "stderr",
     "output_type": "stream",
     "text": [
      "\n",
      "  0%|                                                                                                                                  | 0/5 [00:00<?, ?it/s]\u001b[A/home/sarawalk/sdgs_py38/lib/python3.8/site-packages/bicm/graph_classes.py:1113: RuntimeWarning: invalid value encountered in divide\n",
      "  probs = node_xy * neighbor_xy / ((1 + node_xy) * (1 + neighbor_xy))\n",
      "/home/sarawalk/sdgs_py38/lib/python3.8/site-packages/bicm/graph_classes.py:1113: RuntimeWarning: invalid value encountered in divide\n",
      "  probs = node_xy * neighbor_xy / ((1 + node_xy) * (1 + neighbor_xy))\n",
      "/home/sarawalk/sdgs_py38/lib/python3.8/site-packages/bicm/graph_classes.py:1113: RuntimeWarning: invalid value encountered in divide\n",
      "  probs = node_xy * neighbor_xy / ((1 + node_xy) * (1 + neighbor_xy))\n",
      "/home/sarawalk/sdgs_py38/lib/python3.8/site-packages/bicm/graph_classes.py:1113: RuntimeWarning: invalid value encountered in divide\n",
      "  probs = node_xy * neighbor_xy / ((1 + node_xy) * (1 + neighbor_xy))\n",
      "100%|██████████████████████████████████████████████████████████████████████████████████████████████████████████████████████████| 5/5 [00:00<00:00, 55.41it/s]"
     ]
    },
    {
     "name": "stdout",
     "output_type": "stream",
     "text": [
      "No V-motifs will be validated. Try increasing alpha\n",
      "\n",
      "                      WARNING: this system has at least a node that is disconnected or connected to all nodes\n",
      "                       of the opposite layer. This may cause some convergence issues.\n",
      "                      Please use the full mode providing a biadjacency matrix or an edgelist,\n",
      "                       or clean your data from these nodes. \n",
      "                      \n",
      "2021 Utilities SDG 16: Peace, Justice, and Strong Institutions\r"
     ]
    },
    {
     "name": "stderr",
     "output_type": "stream",
     "text": [
      "\n",
      "\n",
      "  0%|                                                                                                                                 | 0/80 [00:00<?, ?it/s]\u001b[A/home/sarawalk/sdgs_py38/lib/python3.8/site-packages/bicm/graph_classes.py:1113: RuntimeWarning: invalid value encountered in divide\n",
      "  probs = node_xy * neighbor_xy / ((1 + node_xy) * (1 + neighbor_xy))\n",
      "/home/sarawalk/sdgs_py38/lib/python3.8/site-packages/bicm/graph_classes.py:1113: RuntimeWarning: invalid value encountered in divide\n",
      "  probs = node_xy * neighbor_xy / ((1 + node_xy) * (1 + neighbor_xy))\n",
      "/home/sarawalk/sdgs_py38/lib/python3.8/site-packages/bicm/graph_classes.py:1113: RuntimeWarning: invalid value encountered in divide\n",
      "  probs = node_xy * neighbor_xy / ((1 + node_xy) * (1 + neighbor_xy))\n",
      "/home/sarawalk/sdgs_py38/lib/python3.8/site-packages/bicm/graph_classes.py:1113: RuntimeWarning: invalid value encountered in divide\n",
      "  probs = node_xy * neighbor_xy / ((1 + node_xy) * (1 + neighbor_xy))\n",
      "\n",
      "100%|███████████████████████████████████████████████████████████████████████████████████████████████████████████████████████| 80/80 [00:00<00:00, 395.97it/s]\u001b[A"
     ]
    },
    {
     "name": "stdout",
     "output_type": "stream",
     "text": [
      "No V-motifs will be validated. Try increasing alpha\n"
     ]
    },
    {
     "name": "stderr",
     "output_type": "stream",
     "text": [
      "\n",
      "\n",
      "  0%|                                                                                                                                  | 0/5 [00:00<?, ?it/s]\u001b[A/home/sarawalk/sdgs_py38/lib/python3.8/site-packages/bicm/graph_classes.py:1113: RuntimeWarning: invalid value encountered in divide\n",
      "  probs = node_xy * neighbor_xy / ((1 + node_xy) * (1 + neighbor_xy))\n",
      "/home/sarawalk/sdgs_py38/lib/python3.8/site-packages/bicm/graph_classes.py:1113: RuntimeWarning: invalid value encountered in divide\n",
      "  probs = node_xy * neighbor_xy / ((1 + node_xy) * (1 + neighbor_xy))\n",
      "/home/sarawalk/sdgs_py38/lib/python3.8/site-packages/bicm/graph_classes.py:1113: RuntimeWarning: invalid value encountered in divide\n",
      "  probs = node_xy * neighbor_xy / ((1 + node_xy) * (1 + neighbor_xy))\n",
      "\n",
      " 80%|█████████████████████████████████████████████████████████████████████████████████████████████████▌                        | 4/5 [00:00<00:00, 36.34it/s]\u001b[A/home/sarawalk/sdgs_py38/lib/python3.8/site-packages/bicm/graph_classes.py:1113: RuntimeWarning: invalid value encountered in divide\n",
      "  probs = node_xy * neighbor_xy / ((1 + node_xy) * (1 + neighbor_xy))\n",
      "100%|██████████████████████████████████████████████████████████████████████████████████████████████████████████████████████████| 5/5 [00:00<00:00, 37.84it/s]\n"
     ]
    },
    {
     "name": "stdout",
     "output_type": "stream",
     "text": [
      "No V-motifs will be validated. Try increasing alpha\n",
      "\n",
      "                      WARNING: this system has at least a node that is disconnected or connected to all nodes\n",
      "                       of the opposite layer. This may cause some convergence issues.\n",
      "                      Please use the full mode providing a biadjacency matrix or an edgelist,\n",
      "                       or clean your data from these nodes. \n",
      "                      \n",
      "2021 Utilities SDG 17: Partnerships for the Goals\r"
     ]
    },
    {
     "name": "stderr",
     "output_type": "stream",
     "text": [
      "\n",
      "  0%|                                                                                                                                 | 0/80 [00:00<?, ?it/s]\u001b[A/home/sarawalk/sdgs_py38/lib/python3.8/site-packages/bicm/graph_classes.py:1113: RuntimeWarning: invalid value encountered in divide\n",
      "  probs = node_xy * neighbor_xy / ((1 + node_xy) * (1 + neighbor_xy))\n",
      "/home/sarawalk/sdgs_py38/lib/python3.8/site-packages/bicm/graph_classes.py:1113: RuntimeWarning: invalid value encountered in divide\n",
      "  probs = node_xy * neighbor_xy / ((1 + node_xy) * (1 + neighbor_xy))\n",
      "/home/sarawalk/sdgs_py38/lib/python3.8/site-packages/bicm/graph_classes.py:1113: RuntimeWarning: invalid value encountered in divide\n",
      "  probs = node_xy * neighbor_xy / ((1 + node_xy) * (1 + neighbor_xy))\n",
      "/home/sarawalk/sdgs_py38/lib/python3.8/site-packages/bicm/graph_classes.py:1113: RuntimeWarning: invalid value encountered in divide\n",
      "  probs = node_xy * neighbor_xy / ((1 + node_xy) * (1 + neighbor_xy))\n",
      "\n",
      "100%|███████████████████████████████████████████████████████████████████████████████████████████████████████████████████████| 80/80 [00:00<00:00, 436.70it/s]\u001b[A\n"
     ]
    },
    {
     "name": "stdout",
     "output_type": "stream",
     "text": [
      "No V-motifs will be validated. Try increasing alpha\n"
     ]
    },
    {
     "name": "stderr",
     "output_type": "stream",
     "text": [
      "\n",
      "  0%|                                                                                                                                  | 0/5 [00:00<?, ?it/s]\u001b[A/home/sarawalk/sdgs_py38/lib/python3.8/site-packages/bicm/graph_classes.py:1113: RuntimeWarning: invalid value encountered in divide\n",
      "  probs = node_xy * neighbor_xy / ((1 + node_xy) * (1 + neighbor_xy))\n",
      "/home/sarawalk/sdgs_py38/lib/python3.8/site-packages/bicm/graph_classes.py:1113: RuntimeWarning: invalid value encountered in divide\n",
      "  probs = node_xy * neighbor_xy / ((1 + node_xy) * (1 + neighbor_xy))\n",
      "\n",
      "/home/sarawalk/sdgs_py38/lib/python3.8/site-packages/bicm/graph_classes.py:1113: RuntimeWarning: invalid value encountered in divide\n",
      "  probs = node_xy * neighbor_xy / ((1 + node_xy) * (1 + neighbor_xy))\n",
      " 60%|█████████████████████████████████████████████████████████████████████████▏                                                | 3/5 [00:00<00:00, 29.97it/s]\u001b[A/home/sarawalk/sdgs_py38/lib/python3.8/site-packages/bicm/graph_classes.py:1113: RuntimeWarning: invalid value encountered in divide\n",
      "  probs = node_xy * neighbor_xy / ((1 + node_xy) * (1 + neighbor_xy))\n",
      "100%|██████████████████████████████████████████████████████████████████████████████████████████████████████████████████████████| 5/5 [00:00<00:00, 33.90it/s]\n"
     ]
    },
    {
     "name": "stdout",
     "output_type": "stream",
     "text": [
      "No V-motifs will be validated. Try increasing alpha\n",
      "\n",
      "                      WARNING: this system has at least a node that is disconnected or connected to all nodes\n",
      "                       of the opposite layer. This may cause some convergence issues.\n",
      "                      Please use the full mode providing a biadjacency matrix or an edgelist,\n",
      "                       or clean your data from these nodes. \n",
      "                      \n",
      "2022 Energy SDG 1: No Poverty\r"
     ]
    },
    {
     "name": "stderr",
     "output_type": "stream",
     "text": [
      "\n",
      "  0%|                                                                                                                                 | 0/70 [00:00<?, ?it/s]\u001b[A/home/sarawalk/sdgs_py38/lib/python3.8/site-packages/bicm/graph_classes.py:1113: RuntimeWarning: invalid value encountered in divide\n",
      "  probs = node_xy * neighbor_xy / ((1 + node_xy) * (1 + neighbor_xy))\n",
      "/home/sarawalk/sdgs_py38/lib/python3.8/site-packages/bicm/graph_classes.py:1113: RuntimeWarning: invalid value encountered in divide\n",
      "  probs = node_xy * neighbor_xy / ((1 + node_xy) * (1 + neighbor_xy))\n",
      "/home/sarawalk/sdgs_py38/lib/python3.8/site-packages/bicm/graph_classes.py:1113: RuntimeWarning: invalid value encountered in divide\n",
      "  probs = node_xy * neighbor_xy / ((1 + node_xy) * (1 + neighbor_xy))\n",
      "/home/sarawalk/sdgs_py38/lib/python3.8/site-packages/bicm/graph_classes.py:1113: RuntimeWarning: invalid value encountered in divide\n",
      "  probs = node_xy * neighbor_xy / ((1 + node_xy) * (1 + neighbor_xy))\n",
      "\n",
      "100%|███████████████████████████████████████████████████████████████████████████████████████████████████████████████████████| 70/70 [00:00<00:00, 520.23it/s]\u001b[A\n"
     ]
    },
    {
     "name": "stdout",
     "output_type": "stream",
     "text": [
      "No V-motifs will be validated. Try increasing alpha\n"
     ]
    },
    {
     "name": "stderr",
     "output_type": "stream",
     "text": [
      "\n",
      "  0%|                                                                                                                                  | 0/9 [00:00<?, ?it/s]\u001b[A/home/sarawalk/sdgs_py38/lib/python3.8/site-packages/bicm/graph_classes.py:1113: RuntimeWarning: invalid value encountered in divide\n",
      "  probs = node_xy * neighbor_xy / ((1 + node_xy) * (1 + neighbor_xy))\n",
      "/home/sarawalk/sdgs_py38/lib/python3.8/site-packages/bicm/graph_classes.py:1113: RuntimeWarning: invalid value encountered in divide\n",
      "  probs = node_xy * neighbor_xy / ((1 + node_xy) * (1 + neighbor_xy))\n",
      "/home/sarawalk/sdgs_py38/lib/python3.8/site-packages/bicm/graph_classes.py:1113: RuntimeWarning: invalid value encountered in divide\n",
      "  probs = node_xy * neighbor_xy / ((1 + node_xy) * (1 + neighbor_xy))\n",
      "/home/sarawalk/sdgs_py38/lib/python3.8/site-packages/bicm/graph_classes.py:1113: RuntimeWarning: invalid value encountered in divide\n",
      "  probs = node_xy * neighbor_xy / ((1 + node_xy) * (1 + neighbor_xy))\n",
      "\n",
      "100%|██████████████████████████████████████████████████████████████████████████████████████████████████████████████████████████| 9/9 [00:00<00:00, 55.58it/s]\u001b[A\n"
     ]
    },
    {
     "name": "stdout",
     "output_type": "stream",
     "text": [
      "No V-motifs will be validated. Try increasing alpha\n",
      "\n",
      "                      WARNING: this system has at least a node that is disconnected or connected to all nodes\n",
      "                       of the opposite layer. This may cause some convergence issues.\n",
      "                      Please use the full mode providing a biadjacency matrix or an edgelist,\n",
      "                       or clean your data from these nodes. \n",
      "                      \n",
      "2022 Energy SDG 2: Zero Hunger\r"
     ]
    },
    {
     "name": "stderr",
     "output_type": "stream",
     "text": [
      "\n",
      "  0%|                                                                                                                                 | 0/70 [00:00<?, ?it/s]\u001b[A/home/sarawalk/sdgs_py38/lib/python3.8/site-packages/bicm/graph_classes.py:1113: RuntimeWarning: invalid value encountered in divide\n",
      "  probs = node_xy * neighbor_xy / ((1 + node_xy) * (1 + neighbor_xy))\n",
      "/home/sarawalk/sdgs_py38/lib/python3.8/site-packages/bicm/graph_classes.py:1113: RuntimeWarning: invalid value encountered in divide\n",
      "  probs = node_xy * neighbor_xy / ((1 + node_xy) * (1 + neighbor_xy))\n",
      "/home/sarawalk/sdgs_py38/lib/python3.8/site-packages/bicm/graph_classes.py:1113: RuntimeWarning: invalid value encountered in divide\n",
      "  probs = node_xy * neighbor_xy / ((1 + node_xy) * (1 + neighbor_xy))\n",
      "/home/sarawalk/sdgs_py38/lib/python3.8/site-packages/bicm/graph_classes.py:1113: RuntimeWarning: invalid value encountered in divide\n",
      "  probs = node_xy * neighbor_xy / ((1 + node_xy) * (1 + neighbor_xy))\n",
      "\n",
      "100%|███████████████████████████████████████████████████████████████████████████████████████████████████████████████████████| 70/70 [00:00<00:00, 490.31it/s]\u001b[A\n"
     ]
    },
    {
     "name": "stdout",
     "output_type": "stream",
     "text": [
      "No V-motifs will be validated. Try increasing alpha\n"
     ]
    },
    {
     "name": "stderr",
     "output_type": "stream",
     "text": [
      "\n",
      "  0%|                                                                                                                                  | 0/9 [00:00<?, ?it/s]\u001b[A/home/sarawalk/sdgs_py38/lib/python3.8/site-packages/bicm/graph_classes.py:1113: RuntimeWarning: invalid value encountered in divide\n",
      "  probs = node_xy * neighbor_xy / ((1 + node_xy) * (1 + neighbor_xy))\n",
      "/home/sarawalk/sdgs_py38/lib/python3.8/site-packages/bicm/graph_classes.py:1113: RuntimeWarning: invalid value encountered in divide\n",
      "  probs = node_xy * neighbor_xy / ((1 + node_xy) * (1 + neighbor_xy))\n",
      "/home/sarawalk/sdgs_py38/lib/python3.8/site-packages/bicm/graph_classes.py:1113: RuntimeWarning: invalid value encountered in divide\n",
      "  probs = node_xy * neighbor_xy / ((1 + node_xy) * (1 + neighbor_xy))\n",
      "/home/sarawalk/sdgs_py38/lib/python3.8/site-packages/bicm/graph_classes.py:1113: RuntimeWarning: invalid value encountered in divide\n",
      "  probs = node_xy * neighbor_xy / ((1 + node_xy) * (1 + neighbor_xy))\n",
      "\n",
      "100%|██████████████████████████████████████████████████████████████████████████████████████████████████████████████████████████| 9/9 [00:00<00:00, 63.70it/s]\u001b[A\n"
     ]
    },
    {
     "name": "stdout",
     "output_type": "stream",
     "text": [
      "No V-motifs will be validated. Try increasing alpha\n",
      "\n",
      "                      WARNING: this system has at least a node that is disconnected or connected to all nodes\n",
      "                       of the opposite layer. This may cause some convergence issues.\n",
      "                      Please use the full mode providing a biadjacency matrix or an edgelist,\n",
      "                       or clean your data from these nodes. \n",
      "                      \n",
      "2022 Energy SDG 3: Good Health and Well-being\r"
     ]
    },
    {
     "name": "stderr",
     "output_type": "stream",
     "text": [
      "\n",
      "  0%|                                                                                                                                 | 0/70 [00:00<?, ?it/s]\u001b[A/home/sarawalk/sdgs_py38/lib/python3.8/site-packages/bicm/graph_classes.py:1113: RuntimeWarning: invalid value encountered in divide\n",
      "  probs = node_xy * neighbor_xy / ((1 + node_xy) * (1 + neighbor_xy))\n",
      "/home/sarawalk/sdgs_py38/lib/python3.8/site-packages/bicm/graph_classes.py:1113: RuntimeWarning: invalid value encountered in divide\n",
      "  probs = node_xy * neighbor_xy / ((1 + node_xy) * (1 + neighbor_xy))\n",
      "/home/sarawalk/sdgs_py38/lib/python3.8/site-packages/bicm/graph_classes.py:1113: RuntimeWarning: invalid value encountered in divide\n",
      "  probs = node_xy * neighbor_xy / ((1 + node_xy) * (1 + neighbor_xy))\n",
      "/home/sarawalk/sdgs_py38/lib/python3.8/site-packages/bicm/graph_classes.py:1113: RuntimeWarning: invalid value encountered in divide\n",
      "  probs = node_xy * neighbor_xy / ((1 + node_xy) * (1 + neighbor_xy))\n",
      "\n",
      "100%|███████████████████████████████████████████████████████████████████████████████████████████████████████████████████████| 70/70 [00:00<00:00, 514.30it/s]\u001b[A\n"
     ]
    },
    {
     "name": "stdout",
     "output_type": "stream",
     "text": [
      "No V-motifs will be validated. Try increasing alpha\n"
     ]
    },
    {
     "name": "stderr",
     "output_type": "stream",
     "text": [
      "\n",
      "  0%|                                                                                                                                  | 0/9 [00:00<?, ?it/s]\u001b[A/home/sarawalk/sdgs_py38/lib/python3.8/site-packages/bicm/graph_classes.py:1113: RuntimeWarning: invalid value encountered in divide\n",
      "  probs = node_xy * neighbor_xy / ((1 + node_xy) * (1 + neighbor_xy))\n",
      "/home/sarawalk/sdgs_py38/lib/python3.8/site-packages/bicm/graph_classes.py:1113: RuntimeWarning: invalid value encountered in divide\n",
      "  probs = node_xy * neighbor_xy / ((1 + node_xy) * (1 + neighbor_xy))\n",
      "/home/sarawalk/sdgs_py38/lib/python3.8/site-packages/bicm/graph_classes.py:1113: RuntimeWarning: invalid value encountered in divide\n",
      "  probs = node_xy * neighbor_xy / ((1 + node_xy) * (1 + neighbor_xy))\n",
      "/home/sarawalk/sdgs_py38/lib/python3.8/site-packages/bicm/graph_classes.py:1113: RuntimeWarning: invalid value encountered in divide\n",
      "  probs = node_xy * neighbor_xy / ((1 + node_xy) * (1 + neighbor_xy))\n",
      "\n",
      "100%|██████████████████████████████████████████████████████████████████████████████████████████████████████████████████████████| 9/9 [00:00<00:00, 62.01it/s]\u001b[A\n"
     ]
    },
    {
     "name": "stdout",
     "output_type": "stream",
     "text": [
      "No V-motifs will be validated. Try increasing alpha\n",
      "\n",
      "                      WARNING: this system has at least a node that is disconnected or connected to all nodes\n",
      "                       of the opposite layer. This may cause some convergence issues.\n",
      "                      Please use the full mode providing a biadjacency matrix or an edgelist,\n",
      "                       or clean your data from these nodes. \n",
      "                      \n",
      "2022 Energy SDG 4: Quality Education\r"
     ]
    },
    {
     "name": "stderr",
     "output_type": "stream",
     "text": [
      "\n",
      "  0%|                                                                                                                                 | 0/70 [00:00<?, ?it/s]\u001b[A/home/sarawalk/sdgs_py38/lib/python3.8/site-packages/bicm/graph_classes.py:1113: RuntimeWarning: invalid value encountered in divide\n",
      "  probs = node_xy * neighbor_xy / ((1 + node_xy) * (1 + neighbor_xy))\n",
      "/home/sarawalk/sdgs_py38/lib/python3.8/site-packages/bicm/graph_classes.py:1113: RuntimeWarning: invalid value encountered in divide\n",
      "  probs = node_xy * neighbor_xy / ((1 + node_xy) * (1 + neighbor_xy))\n",
      "/home/sarawalk/sdgs_py38/lib/python3.8/site-packages/bicm/graph_classes.py:1113: RuntimeWarning: invalid value encountered in divide\n",
      "  probs = node_xy * neighbor_xy / ((1 + node_xy) * (1 + neighbor_xy))\n",
      "/home/sarawalk/sdgs_py38/lib/python3.8/site-packages/bicm/graph_classes.py:1113: RuntimeWarning: invalid value encountered in divide\n",
      "  probs = node_xy * neighbor_xy / ((1 + node_xy) * (1 + neighbor_xy))\n",
      "\n",
      "100%|███████████████████████████████████████████████████████████████████████████████████████████████████████████████████████| 70/70 [00:00<00:00, 465.24it/s]\u001b[A\n"
     ]
    },
    {
     "name": "stdout",
     "output_type": "stream",
     "text": [
      "No V-motifs will be validated. Try increasing alpha\n"
     ]
    },
    {
     "name": "stderr",
     "output_type": "stream",
     "text": [
      "\n",
      "  0%|                                                                                                                                  | 0/9 [00:00<?, ?it/s]\u001b[A/home/sarawalk/sdgs_py38/lib/python3.8/site-packages/bicm/graph_classes.py:1113: RuntimeWarning: invalid value encountered in divide\n",
      "  probs = node_xy * neighbor_xy / ((1 + node_xy) * (1 + neighbor_xy))\n",
      "/home/sarawalk/sdgs_py38/lib/python3.8/site-packages/bicm/graph_classes.py:1113: RuntimeWarning: invalid value encountered in divide\n",
      "  probs = node_xy * neighbor_xy / ((1 + node_xy) * (1 + neighbor_xy))\n",
      "/home/sarawalk/sdgs_py38/lib/python3.8/site-packages/bicm/graph_classes.py:1113: RuntimeWarning: invalid value encountered in divide\n",
      "  probs = node_xy * neighbor_xy / ((1 + node_xy) * (1 + neighbor_xy))\n",
      "/home/sarawalk/sdgs_py38/lib/python3.8/site-packages/bicm/graph_classes.py:1113: RuntimeWarning: invalid value encountered in divide\n",
      "  probs = node_xy * neighbor_xy / ((1 + node_xy) * (1 + neighbor_xy))\n",
      "\n",
      "100%|██████████████████████████████████████████████████████████████████████████████████████████████████████████████████████████| 9/9 [00:00<00:00, 68.17it/s]\u001b[A\n"
     ]
    },
    {
     "name": "stdout",
     "output_type": "stream",
     "text": [
      "No V-motifs will be validated. Try increasing alpha\n",
      "\n",
      "                      WARNING: this system has at least a node that is disconnected or connected to all nodes\n",
      "                       of the opposite layer. This may cause some convergence issues.\n",
      "                      Please use the full mode providing a biadjacency matrix or an edgelist,\n",
      "                       or clean your data from these nodes. \n",
      "                      \n",
      "2022 Energy SDG 5: Gender Equality\r"
     ]
    },
    {
     "name": "stderr",
     "output_type": "stream",
     "text": [
      "\n",
      "  0%|                                                                                                                                 | 0/70 [00:00<?, ?it/s]\u001b[A/home/sarawalk/sdgs_py38/lib/python3.8/site-packages/bicm/graph_classes.py:1113: RuntimeWarning: invalid value encountered in divide\n",
      "  probs = node_xy * neighbor_xy / ((1 + node_xy) * (1 + neighbor_xy))\n",
      "/home/sarawalk/sdgs_py38/lib/python3.8/site-packages/bicm/graph_classes.py:1113: RuntimeWarning: invalid value encountered in divide\n",
      "  probs = node_xy * neighbor_xy / ((1 + node_xy) * (1 + neighbor_xy))\n",
      "/home/sarawalk/sdgs_py38/lib/python3.8/site-packages/bicm/graph_classes.py:1113: RuntimeWarning: invalid value encountered in divide\n",
      "  probs = node_xy * neighbor_xy / ((1 + node_xy) * (1 + neighbor_xy))\n",
      "/home/sarawalk/sdgs_py38/lib/python3.8/site-packages/bicm/graph_classes.py:1113: RuntimeWarning: invalid value encountered in divide\n",
      "  probs = node_xy * neighbor_xy / ((1 + node_xy) * (1 + neighbor_xy))\n",
      "\n",
      "100%|███████████████████████████████████████████████████████████████████████████████████████████████████████████████████████| 70/70 [00:00<00:00, 481.61it/s]\u001b[A\n"
     ]
    },
    {
     "name": "stdout",
     "output_type": "stream",
     "text": [
      "No V-motifs will be validated. Try increasing alpha\n"
     ]
    },
    {
     "name": "stderr",
     "output_type": "stream",
     "text": [
      "\n",
      "  0%|                                                                                                                                  | 0/9 [00:00<?, ?it/s]\u001b[A/home/sarawalk/sdgs_py38/lib/python3.8/site-packages/bicm/graph_classes.py:1113: RuntimeWarning: invalid value encountered in divide\n",
      "  probs = node_xy * neighbor_xy / ((1 + node_xy) * (1 + neighbor_xy))\n",
      "/home/sarawalk/sdgs_py38/lib/python3.8/site-packages/bicm/graph_classes.py:1113: RuntimeWarning: invalid value encountered in divide\n",
      "  probs = node_xy * neighbor_xy / ((1 + node_xy) * (1 + neighbor_xy))\n",
      "/home/sarawalk/sdgs_py38/lib/python3.8/site-packages/bicm/graph_classes.py:1113: RuntimeWarning: invalid value encountered in divide\n",
      "  probs = node_xy * neighbor_xy / ((1 + node_xy) * (1 + neighbor_xy))\n",
      "/home/sarawalk/sdgs_py38/lib/python3.8/site-packages/bicm/graph_classes.py:1113: RuntimeWarning: invalid value encountered in divide\n",
      "  probs = node_xy * neighbor_xy / ((1 + node_xy) * (1 + neighbor_xy))\n",
      "\n",
      "100%|██████████████████████████████████████████████████████████████████████████████████████████████████████████████████████████| 9/9 [00:00<00:00, 55.66it/s]\u001b[A\n"
     ]
    },
    {
     "name": "stdout",
     "output_type": "stream",
     "text": [
      "No V-motifs will be validated. Try increasing alpha\n",
      "\n",
      "                      WARNING: this system has at least a node that is disconnected or connected to all nodes\n",
      "                       of the opposite layer. This may cause some convergence issues.\n",
      "                      Please use the full mode providing a biadjacency matrix or an edgelist,\n",
      "                       or clean your data from these nodes. \n",
      "                      \n",
      "2022 Energy SDG 6: Clean Water and Sanitation\r"
     ]
    },
    {
     "name": "stderr",
     "output_type": "stream",
     "text": [
      "\n",
      "  0%|                                                                                                                                 | 0/70 [00:00<?, ?it/s]\u001b[A/home/sarawalk/sdgs_py38/lib/python3.8/site-packages/bicm/graph_classes.py:1113: RuntimeWarning: invalid value encountered in divide\n",
      "  probs = node_xy * neighbor_xy / ((1 + node_xy) * (1 + neighbor_xy))\n",
      "/home/sarawalk/sdgs_py38/lib/python3.8/site-packages/bicm/graph_classes.py:1113: RuntimeWarning: invalid value encountered in divide\n",
      "  probs = node_xy * neighbor_xy / ((1 + node_xy) * (1 + neighbor_xy))\n",
      "/home/sarawalk/sdgs_py38/lib/python3.8/site-packages/bicm/graph_classes.py:1113: RuntimeWarning: invalid value encountered in divide\n",
      "  probs = node_xy * neighbor_xy / ((1 + node_xy) * (1 + neighbor_xy))\n",
      "/home/sarawalk/sdgs_py38/lib/python3.8/site-packages/bicm/graph_classes.py:1113: RuntimeWarning: invalid value encountered in divide\n",
      "  probs = node_xy * neighbor_xy / ((1 + node_xy) * (1 + neighbor_xy))\n",
      "\n",
      "100%|███████████████████████████████████████████████████████████████████████████████████████████████████████████████████████| 70/70 [00:00<00:00, 489.90it/s]\u001b[A\n"
     ]
    },
    {
     "name": "stdout",
     "output_type": "stream",
     "text": [
      "No V-motifs will be validated. Try increasing alpha\n"
     ]
    },
    {
     "name": "stderr",
     "output_type": "stream",
     "text": [
      "\n",
      "  0%|                                                                                                                                  | 0/9 [00:00<?, ?it/s]\u001b[A/home/sarawalk/sdgs_py38/lib/python3.8/site-packages/bicm/graph_classes.py:1113: RuntimeWarning: invalid value encountered in divide\n",
      "  probs = node_xy * neighbor_xy / ((1 + node_xy) * (1 + neighbor_xy))\n",
      "/home/sarawalk/sdgs_py38/lib/python3.8/site-packages/bicm/graph_classes.py:1113: RuntimeWarning: invalid value encountered in divide\n",
      "  probs = node_xy * neighbor_xy / ((1 + node_xy) * (1 + neighbor_xy))\n",
      "/home/sarawalk/sdgs_py38/lib/python3.8/site-packages/bicm/graph_classes.py:1113: RuntimeWarning: invalid value encountered in divide\n",
      "  probs = node_xy * neighbor_xy / ((1 + node_xy) * (1 + neighbor_xy))\n",
      "/home/sarawalk/sdgs_py38/lib/python3.8/site-packages/bicm/graph_classes.py:1113: RuntimeWarning: invalid value encountered in divide\n",
      "  probs = node_xy * neighbor_xy / ((1 + node_xy) * (1 + neighbor_xy))\n",
      "\n",
      "100%|██████████████████████████████████████████████████████████████████████████████████████████████████████████████████████████| 9/9 [00:00<00:00, 60.31it/s]\u001b[A\n"
     ]
    },
    {
     "name": "stdout",
     "output_type": "stream",
     "text": [
      "No V-motifs will be validated. Try increasing alpha\n",
      "\n",
      "                      WARNING: this system has at least a node that is disconnected or connected to all nodes\n",
      "                       of the opposite layer. This may cause some convergence issues.\n",
      "                      Please use the full mode providing a biadjacency matrix or an edgelist,\n",
      "                       or clean your data from these nodes. \n",
      "                      \n",
      "2022 Energy SDG 7: Affordable and Clean Energy\r"
     ]
    },
    {
     "name": "stderr",
     "output_type": "stream",
     "text": [
      "\n",
      "  0%|                                                                                                                                 | 0/70 [00:00<?, ?it/s]\u001b[A/home/sarawalk/sdgs_py38/lib/python3.8/site-packages/bicm/graph_classes.py:1113: RuntimeWarning: invalid value encountered in divide\n",
      "  probs = node_xy * neighbor_xy / ((1 + node_xy) * (1 + neighbor_xy))\n",
      "/home/sarawalk/sdgs_py38/lib/python3.8/site-packages/bicm/graph_classes.py:1113: RuntimeWarning: invalid value encountered in divide\n",
      "  probs = node_xy * neighbor_xy / ((1 + node_xy) * (1 + neighbor_xy))\n",
      "/home/sarawalk/sdgs_py38/lib/python3.8/site-packages/bicm/graph_classes.py:1113: RuntimeWarning: invalid value encountered in divide\n",
      "  probs = node_xy * neighbor_xy / ((1 + node_xy) * (1 + neighbor_xy))\n",
      "/home/sarawalk/sdgs_py38/lib/python3.8/site-packages/bicm/graph_classes.py:1113: RuntimeWarning: invalid value encountered in divide\n",
      "  probs = node_xy * neighbor_xy / ((1 + node_xy) * (1 + neighbor_xy))\n",
      "\n",
      "100%|███████████████████████████████████████████████████████████████████████████████████████████████████████████████████████| 70/70 [00:00<00:00, 462.84it/s]\u001b[A\n"
     ]
    },
    {
     "name": "stdout",
     "output_type": "stream",
     "text": [
      "No V-motifs will be validated. Try increasing alpha\n"
     ]
    },
    {
     "name": "stderr",
     "output_type": "stream",
     "text": [
      "\n",
      "  0%|                                                                                                                                  | 0/9 [00:00<?, ?it/s]\u001b[A/home/sarawalk/sdgs_py38/lib/python3.8/site-packages/bicm/graph_classes.py:1113: RuntimeWarning: invalid value encountered in divide\n",
      "  probs = node_xy * neighbor_xy / ((1 + node_xy) * (1 + neighbor_xy))\n",
      "/home/sarawalk/sdgs_py38/lib/python3.8/site-packages/bicm/graph_classes.py:1113: RuntimeWarning: invalid value encountered in divide\n",
      "  probs = node_xy * neighbor_xy / ((1 + node_xy) * (1 + neighbor_xy))\n",
      "/home/sarawalk/sdgs_py38/lib/python3.8/site-packages/bicm/graph_classes.py:1113: RuntimeWarning: invalid value encountered in divide\n",
      "  probs = node_xy * neighbor_xy / ((1 + node_xy) * (1 + neighbor_xy))\n",
      "/home/sarawalk/sdgs_py38/lib/python3.8/site-packages/bicm/graph_classes.py:1113: RuntimeWarning: invalid value encountered in divide\n",
      "  probs = node_xy * neighbor_xy / ((1 + node_xy) * (1 + neighbor_xy))\n",
      "\n",
      "100%|██████████████████████████████████████████████████████████████████████████████████████████████████████████████████████████| 9/9 [00:00<00:00, 57.22it/s]\u001b[A\n"
     ]
    },
    {
     "name": "stdout",
     "output_type": "stream",
     "text": [
      "No V-motifs will be validated. Try increasing alpha\n",
      "\n",
      "                      WARNING: this system has at least a node that is disconnected or connected to all nodes\n",
      "                       of the opposite layer. This may cause some convergence issues.\n",
      "                      Please use the full mode providing a biadjacency matrix or an edgelist,\n",
      "                       or clean your data from these nodes. \n",
      "                      \n",
      "2022 Energy SDG 8: Decent Work and Economic Growth\r"
     ]
    },
    {
     "name": "stderr",
     "output_type": "stream",
     "text": [
      "\n",
      "  0%|                                                                                                                                 | 0/70 [00:00<?, ?it/s]\u001b[A/home/sarawalk/sdgs_py38/lib/python3.8/site-packages/bicm/graph_classes.py:1113: RuntimeWarning: invalid value encountered in divide\n",
      "  probs = node_xy * neighbor_xy / ((1 + node_xy) * (1 + neighbor_xy))\n",
      "/home/sarawalk/sdgs_py38/lib/python3.8/site-packages/bicm/graph_classes.py:1113: RuntimeWarning: invalid value encountered in divide\n",
      "  probs = node_xy * neighbor_xy / ((1 + node_xy) * (1 + neighbor_xy))\n",
      "/home/sarawalk/sdgs_py38/lib/python3.8/site-packages/bicm/graph_classes.py:1113: RuntimeWarning: invalid value encountered in divide\n",
      "  probs = node_xy * neighbor_xy / ((1 + node_xy) * (1 + neighbor_xy))\n",
      "/home/sarawalk/sdgs_py38/lib/python3.8/site-packages/bicm/graph_classes.py:1113: RuntimeWarning: invalid value encountered in divide\n",
      "  probs = node_xy * neighbor_xy / ((1 + node_xy) * (1 + neighbor_xy))\n",
      "\n",
      "100%|███████████████████████████████████████████████████████████████████████████████████████████████████████████████████████| 70/70 [00:00<00:00, 471.79it/s]\u001b[A\n"
     ]
    },
    {
     "name": "stdout",
     "output_type": "stream",
     "text": [
      "No V-motifs will be validated. Try increasing alpha\n"
     ]
    },
    {
     "name": "stderr",
     "output_type": "stream",
     "text": [
      "\n",
      "  0%|                                                                                                                                  | 0/9 [00:00<?, ?it/s]\u001b[A/home/sarawalk/sdgs_py38/lib/python3.8/site-packages/bicm/graph_classes.py:1113: RuntimeWarning: invalid value encountered in divide\n",
      "  probs = node_xy * neighbor_xy / ((1 + node_xy) * (1 + neighbor_xy))\n",
      "/home/sarawalk/sdgs_py38/lib/python3.8/site-packages/bicm/graph_classes.py:1113: RuntimeWarning: invalid value encountered in divide\n",
      "  probs = node_xy * neighbor_xy / ((1 + node_xy) * (1 + neighbor_xy))\n",
      "/home/sarawalk/sdgs_py38/lib/python3.8/site-packages/bicm/graph_classes.py:1113: RuntimeWarning: invalid value encountered in divide\n",
      "  probs = node_xy * neighbor_xy / ((1 + node_xy) * (1 + neighbor_xy))\n",
      "/home/sarawalk/sdgs_py38/lib/python3.8/site-packages/bicm/graph_classes.py:1113: RuntimeWarning: invalid value encountered in divide\n",
      "  probs = node_xy * neighbor_xy / ((1 + node_xy) * (1 + neighbor_xy))\n",
      "\n",
      "100%|██████████████████████████████████████████████████████████████████████████████████████████████████████████████████████████| 9/9 [00:00<00:00, 58.56it/s]\u001b[A\n"
     ]
    },
    {
     "name": "stdout",
     "output_type": "stream",
     "text": [
      "No V-motifs will be validated. Try increasing alpha\n",
      "\n",
      "                      WARNING: this system has at least a node that is disconnected or connected to all nodes\n",
      "                       of the opposite layer. This may cause some convergence issues.\n",
      "                      Please use the full mode providing a biadjacency matrix or an edgelist,\n",
      "                       or clean your data from these nodes. \n",
      "                      \n",
      "2022 Energy SDG 9: Industry, Innovation, and Infrastructure\r"
     ]
    },
    {
     "name": "stderr",
     "output_type": "stream",
     "text": [
      "\n",
      "  0%|                                                                                                                                 | 0/70 [00:00<?, ?it/s]\u001b[A/home/sarawalk/sdgs_py38/lib/python3.8/site-packages/bicm/graph_classes.py:1113: RuntimeWarning: invalid value encountered in divide\n",
      "  probs = node_xy * neighbor_xy / ((1 + node_xy) * (1 + neighbor_xy))\n",
      "/home/sarawalk/sdgs_py38/lib/python3.8/site-packages/bicm/graph_classes.py:1113: RuntimeWarning: invalid value encountered in divide\n",
      "  probs = node_xy * neighbor_xy / ((1 + node_xy) * (1 + neighbor_xy))\n",
      "/home/sarawalk/sdgs_py38/lib/python3.8/site-packages/bicm/graph_classes.py:1113: RuntimeWarning: invalid value encountered in divide\n",
      "  probs = node_xy * neighbor_xy / ((1 + node_xy) * (1 + neighbor_xy))\n",
      "/home/sarawalk/sdgs_py38/lib/python3.8/site-packages/bicm/graph_classes.py:1113: RuntimeWarning: invalid value encountered in divide\n",
      "  probs = node_xy * neighbor_xy / ((1 + node_xy) * (1 + neighbor_xy))\n",
      "\n",
      "100%|███████████████████████████████████████████████████████████████████████████████████████████████████████████████████████| 70/70 [00:00<00:00, 509.86it/s]\u001b[A\n"
     ]
    },
    {
     "name": "stdout",
     "output_type": "stream",
     "text": [
      "No V-motifs will be validated. Try increasing alpha\n"
     ]
    },
    {
     "name": "stderr",
     "output_type": "stream",
     "text": [
      "\n",
      "  0%|                                                                                                                                  | 0/9 [00:00<?, ?it/s]\u001b[A/home/sarawalk/sdgs_py38/lib/python3.8/site-packages/bicm/graph_classes.py:1113: RuntimeWarning: invalid value encountered in divide\n",
      "  probs = node_xy * neighbor_xy / ((1 + node_xy) * (1 + neighbor_xy))\n",
      "/home/sarawalk/sdgs_py38/lib/python3.8/site-packages/bicm/graph_classes.py:1113: RuntimeWarning: invalid value encountered in divide\n",
      "  probs = node_xy * neighbor_xy / ((1 + node_xy) * (1 + neighbor_xy))\n",
      "/home/sarawalk/sdgs_py38/lib/python3.8/site-packages/bicm/graph_classes.py:1113: RuntimeWarning: invalid value encountered in divide\n",
      "  probs = node_xy * neighbor_xy / ((1 + node_xy) * (1 + neighbor_xy))\n",
      "/home/sarawalk/sdgs_py38/lib/python3.8/site-packages/bicm/graph_classes.py:1113: RuntimeWarning: invalid value encountered in divide\n",
      "  probs = node_xy * neighbor_xy / ((1 + node_xy) * (1 + neighbor_xy))\n",
      "\n",
      "100%|██████████████████████████████████████████████████████████████████████████████████████████████████████████████████████████| 9/9 [00:00<00:00, 61.27it/s]\u001b[A\n"
     ]
    },
    {
     "name": "stdout",
     "output_type": "stream",
     "text": [
      "No V-motifs will be validated. Try increasing alpha\n",
      "\n",
      "                      WARNING: this system has at least a node that is disconnected or connected to all nodes\n",
      "                       of the opposite layer. This may cause some convergence issues.\n",
      "                      Please use the full mode providing a biadjacency matrix or an edgelist,\n",
      "                       or clean your data from these nodes. \n",
      "                      \n",
      "2022 Energy SDG 10: Reduced Inequality\r"
     ]
    },
    {
     "name": "stderr",
     "output_type": "stream",
     "text": [
      "\n",
      "  0%|                                                                                                                                 | 0/70 [00:00<?, ?it/s]\u001b[A/home/sarawalk/sdgs_py38/lib/python3.8/site-packages/bicm/graph_classes.py:1113: RuntimeWarning: invalid value encountered in divide\n",
      "  probs = node_xy * neighbor_xy / ((1 + node_xy) * (1 + neighbor_xy))\n",
      "/home/sarawalk/sdgs_py38/lib/python3.8/site-packages/bicm/graph_classes.py:1113: RuntimeWarning: invalid value encountered in divide\n",
      "  probs = node_xy * neighbor_xy / ((1 + node_xy) * (1 + neighbor_xy))\n",
      "/home/sarawalk/sdgs_py38/lib/python3.8/site-packages/bicm/graph_classes.py:1113: RuntimeWarning: invalid value encountered in divide\n",
      "  probs = node_xy * neighbor_xy / ((1 + node_xy) * (1 + neighbor_xy))\n",
      "/home/sarawalk/sdgs_py38/lib/python3.8/site-packages/bicm/graph_classes.py:1113: RuntimeWarning: invalid value encountered in divide\n",
      "  probs = node_xy * neighbor_xy / ((1 + node_xy) * (1 + neighbor_xy))\n",
      "\n",
      "100%|███████████████████████████████████████████████████████████████████████████████████████████████████████████████████████| 70/70 [00:00<00:00, 509.66it/s]\u001b[A\n"
     ]
    },
    {
     "name": "stdout",
     "output_type": "stream",
     "text": [
      "No V-motifs will be validated. Try increasing alpha\n"
     ]
    },
    {
     "name": "stderr",
     "output_type": "stream",
     "text": [
      "\n",
      "  0%|                                                                                                                                  | 0/9 [00:00<?, ?it/s]\u001b[A/home/sarawalk/sdgs_py38/lib/python3.8/site-packages/bicm/graph_classes.py:1113: RuntimeWarning: invalid value encountered in divide\n",
      "  probs = node_xy * neighbor_xy / ((1 + node_xy) * (1 + neighbor_xy))\n",
      "/home/sarawalk/sdgs_py38/lib/python3.8/site-packages/bicm/graph_classes.py:1113: RuntimeWarning: invalid value encountered in divide\n",
      "  probs = node_xy * neighbor_xy / ((1 + node_xy) * (1 + neighbor_xy))\n",
      "/home/sarawalk/sdgs_py38/lib/python3.8/site-packages/bicm/graph_classes.py:1113: RuntimeWarning: invalid value encountered in divide\n",
      "  probs = node_xy * neighbor_xy / ((1 + node_xy) * (1 + neighbor_xy))\n",
      "/home/sarawalk/sdgs_py38/lib/python3.8/site-packages/bicm/graph_classes.py:1113: RuntimeWarning: invalid value encountered in divide\n",
      "  probs = node_xy * neighbor_xy / ((1 + node_xy) * (1 + neighbor_xy))\n",
      "\n",
      "100%|██████████████████████████████████████████████████████████████████████████████████████████████████████████████████████████| 9/9 [00:00<00:00, 68.31it/s]\u001b[A\n"
     ]
    },
    {
     "name": "stdout",
     "output_type": "stream",
     "text": [
      "No V-motifs will be validated. Try increasing alpha\n",
      "\n",
      "                      WARNING: this system has at least a node that is disconnected or connected to all nodes\n",
      "                       of the opposite layer. This may cause some convergence issues.\n",
      "                      Please use the full mode providing a biadjacency matrix or an edgelist,\n",
      "                       or clean your data from these nodes. \n",
      "                      \n",
      "2022 Energy SDG 11: Sustainable Cities and Communities\r"
     ]
    },
    {
     "name": "stderr",
     "output_type": "stream",
     "text": [
      "\n",
      "  0%|                                                                                                                                 | 0/70 [00:00<?, ?it/s]\u001b[A/home/sarawalk/sdgs_py38/lib/python3.8/site-packages/bicm/graph_classes.py:1113: RuntimeWarning: invalid value encountered in divide\n",
      "  probs = node_xy * neighbor_xy / ((1 + node_xy) * (1 + neighbor_xy))\n",
      "/home/sarawalk/sdgs_py38/lib/python3.8/site-packages/bicm/graph_classes.py:1113: RuntimeWarning: invalid value encountered in divide\n",
      "  probs = node_xy * neighbor_xy / ((1 + node_xy) * (1 + neighbor_xy))\n",
      "/home/sarawalk/sdgs_py38/lib/python3.8/site-packages/bicm/graph_classes.py:1113: RuntimeWarning: invalid value encountered in divide\n",
      "  probs = node_xy * neighbor_xy / ((1 + node_xy) * (1 + neighbor_xy))\n",
      "/home/sarawalk/sdgs_py38/lib/python3.8/site-packages/bicm/graph_classes.py:1113: RuntimeWarning: invalid value encountered in divide\n",
      "  probs = node_xy * neighbor_xy / ((1 + node_xy) * (1 + neighbor_xy))\n",
      "\n",
      "100%|███████████████████████████████████████████████████████████████████████████████████████████████████████████████████████| 70/70 [00:00<00:00, 526.89it/s]\u001b[A\n"
     ]
    },
    {
     "name": "stdout",
     "output_type": "stream",
     "text": [
      "No V-motifs will be validated. Try increasing alpha\n"
     ]
    },
    {
     "name": "stderr",
     "output_type": "stream",
     "text": [
      "\n",
      "  0%|                                                                                                                                  | 0/9 [00:00<?, ?it/s]\u001b[A/home/sarawalk/sdgs_py38/lib/python3.8/site-packages/bicm/graph_classes.py:1113: RuntimeWarning: invalid value encountered in divide\n",
      "  probs = node_xy * neighbor_xy / ((1 + node_xy) * (1 + neighbor_xy))\n",
      "/home/sarawalk/sdgs_py38/lib/python3.8/site-packages/bicm/graph_classes.py:1113: RuntimeWarning: invalid value encountered in divide\n",
      "  probs = node_xy * neighbor_xy / ((1 + node_xy) * (1 + neighbor_xy))\n",
      "/home/sarawalk/sdgs_py38/lib/python3.8/site-packages/bicm/graph_classes.py:1113: RuntimeWarning: invalid value encountered in divide\n",
      "  probs = node_xy * neighbor_xy / ((1 + node_xy) * (1 + neighbor_xy))\n",
      "/home/sarawalk/sdgs_py38/lib/python3.8/site-packages/bicm/graph_classes.py:1113: RuntimeWarning: invalid value encountered in divide\n",
      "  probs = node_xy * neighbor_xy / ((1 + node_xy) * (1 + neighbor_xy))\n",
      "\n",
      "100%|██████████████████████████████████████████████████████████████████████████████████████████████████████████████████████████| 9/9 [00:00<00:00, 63.38it/s]\u001b[A\n"
     ]
    },
    {
     "name": "stdout",
     "output_type": "stream",
     "text": [
      "No V-motifs will be validated. Try increasing alpha\n",
      "\n",
      "                      WARNING: this system has at least a node that is disconnected or connected to all nodes\n",
      "                       of the opposite layer. This may cause some convergence issues.\n",
      "                      Please use the full mode providing a biadjacency matrix or an edgelist,\n",
      "                       or clean your data from these nodes. \n",
      "                      \n",
      "2022 Energy SDG 12: Responsible Consumption and Production\r"
     ]
    },
    {
     "name": "stderr",
     "output_type": "stream",
     "text": [
      "\n",
      "  0%|                                                                                                                                 | 0/70 [00:00<?, ?it/s]\u001b[A/home/sarawalk/sdgs_py38/lib/python3.8/site-packages/bicm/graph_classes.py:1113: RuntimeWarning: invalid value encountered in divide\n",
      "  probs = node_xy * neighbor_xy / ((1 + node_xy) * (1 + neighbor_xy))\n",
      "/home/sarawalk/sdgs_py38/lib/python3.8/site-packages/bicm/graph_classes.py:1113: RuntimeWarning: invalid value encountered in divide\n",
      "  probs = node_xy * neighbor_xy / ((1 + node_xy) * (1 + neighbor_xy))\n",
      "/home/sarawalk/sdgs_py38/lib/python3.8/site-packages/bicm/graph_classes.py:1113: RuntimeWarning: invalid value encountered in divide\n",
      "  probs = node_xy * neighbor_xy / ((1 + node_xy) * (1 + neighbor_xy))\n",
      "/home/sarawalk/sdgs_py38/lib/python3.8/site-packages/bicm/graph_classes.py:1113: RuntimeWarning: invalid value encountered in divide\n",
      "  probs = node_xy * neighbor_xy / ((1 + node_xy) * (1 + neighbor_xy))\n",
      "\n",
      "100%|███████████████████████████████████████████████████████████████████████████████████████████████████████████████████████| 70/70 [00:00<00:00, 496.01it/s]\u001b[A\n"
     ]
    },
    {
     "name": "stdout",
     "output_type": "stream",
     "text": [
      "No V-motifs will be validated. Try increasing alpha\n"
     ]
    },
    {
     "name": "stderr",
     "output_type": "stream",
     "text": [
      "\n",
      "  0%|                                                                                                                                  | 0/9 [00:00<?, ?it/s]\u001b[A/home/sarawalk/sdgs_py38/lib/python3.8/site-packages/bicm/graph_classes.py:1113: RuntimeWarning: invalid value encountered in divide\n",
      "  probs = node_xy * neighbor_xy / ((1 + node_xy) * (1 + neighbor_xy))\n",
      "/home/sarawalk/sdgs_py38/lib/python3.8/site-packages/bicm/graph_classes.py:1113: RuntimeWarning: invalid value encountered in divide\n",
      "  probs = node_xy * neighbor_xy / ((1 + node_xy) * (1 + neighbor_xy))\n",
      "/home/sarawalk/sdgs_py38/lib/python3.8/site-packages/bicm/graph_classes.py:1113: RuntimeWarning: invalid value encountered in divide\n",
      "  probs = node_xy * neighbor_xy / ((1 + node_xy) * (1 + neighbor_xy))\n",
      "/home/sarawalk/sdgs_py38/lib/python3.8/site-packages/bicm/graph_classes.py:1113: RuntimeWarning: invalid value encountered in divide\n",
      "  probs = node_xy * neighbor_xy / ((1 + node_xy) * (1 + neighbor_xy))\n",
      "\n",
      "100%|██████████████████████████████████████████████████████████████████████████████████████████████████████████████████████████| 9/9 [00:00<00:00, 55.10it/s]\u001b[A\n"
     ]
    },
    {
     "name": "stdout",
     "output_type": "stream",
     "text": [
      "No V-motifs will be validated. Try increasing alpha\n",
      "\n",
      "                      WARNING: this system has at least a node that is disconnected or connected to all nodes\n",
      "                       of the opposite layer. This may cause some convergence issues.\n",
      "                      Please use the full mode providing a biadjacency matrix or an edgelist,\n",
      "                       or clean your data from these nodes. \n",
      "                      \n",
      "2022 Energy SDG 13: Climate Action\r"
     ]
    },
    {
     "name": "stderr",
     "output_type": "stream",
     "text": [
      "\n",
      "  0%|                                                                                                                                 | 0/70 [00:00<?, ?it/s]\u001b[A/home/sarawalk/sdgs_py38/lib/python3.8/site-packages/bicm/graph_classes.py:1113: RuntimeWarning: invalid value encountered in divide\n",
      "  probs = node_xy * neighbor_xy / ((1 + node_xy) * (1 + neighbor_xy))\n",
      "/home/sarawalk/sdgs_py38/lib/python3.8/site-packages/bicm/graph_classes.py:1113: RuntimeWarning: invalid value encountered in divide\n",
      "  probs = node_xy * neighbor_xy / ((1 + node_xy) * (1 + neighbor_xy))\n",
      "/home/sarawalk/sdgs_py38/lib/python3.8/site-packages/bicm/graph_classes.py:1113: RuntimeWarning: invalid value encountered in divide\n",
      "  probs = node_xy * neighbor_xy / ((1 + node_xy) * (1 + neighbor_xy))\n",
      "/home/sarawalk/sdgs_py38/lib/python3.8/site-packages/bicm/graph_classes.py:1113: RuntimeWarning: invalid value encountered in divide\n",
      "  probs = node_xy * neighbor_xy / ((1 + node_xy) * (1 + neighbor_xy))\n",
      "\n",
      "100%|███████████████████████████████████████████████████████████████████████████████████████████████████████████████████████| 70/70 [00:00<00:00, 544.61it/s]\u001b[A\n"
     ]
    },
    {
     "name": "stdout",
     "output_type": "stream",
     "text": [
      "No V-motifs will be validated. Try increasing alpha\n"
     ]
    },
    {
     "name": "stderr",
     "output_type": "stream",
     "text": [
      "\n",
      "  0%|                                                                                                                                  | 0/9 [00:00<?, ?it/s]\u001b[A/home/sarawalk/sdgs_py38/lib/python3.8/site-packages/bicm/graph_classes.py:1113: RuntimeWarning: invalid value encountered in divide\n",
      "  probs = node_xy * neighbor_xy / ((1 + node_xy) * (1 + neighbor_xy))\n",
      "/home/sarawalk/sdgs_py38/lib/python3.8/site-packages/bicm/graph_classes.py:1113: RuntimeWarning: invalid value encountered in divide\n",
      "  probs = node_xy * neighbor_xy / ((1 + node_xy) * (1 + neighbor_xy))\n",
      "/home/sarawalk/sdgs_py38/lib/python3.8/site-packages/bicm/graph_classes.py:1113: RuntimeWarning: invalid value encountered in divide\n",
      "  probs = node_xy * neighbor_xy / ((1 + node_xy) * (1 + neighbor_xy))\n",
      "/home/sarawalk/sdgs_py38/lib/python3.8/site-packages/bicm/graph_classes.py:1113: RuntimeWarning: invalid value encountered in divide\n",
      "  probs = node_xy * neighbor_xy / ((1 + node_xy) * (1 + neighbor_xy))\n",
      "\n",
      "100%|██████████████████████████████████████████████████████████████████████████████████████████████████████████████████████████| 9/9 [00:00<00:00, 56.58it/s]\u001b[A\n"
     ]
    },
    {
     "name": "stdout",
     "output_type": "stream",
     "text": [
      "No V-motifs will be validated. Try increasing alpha\n",
      "\n",
      "                      WARNING: this system has at least a node that is disconnected or connected to all nodes\n",
      "                       of the opposite layer. This may cause some convergence issues.\n",
      "                      Please use the full mode providing a biadjacency matrix or an edgelist,\n",
      "                       or clean your data from these nodes. \n",
      "                      \n",
      "2022 Energy SDG 14: Life Below Water\r"
     ]
    },
    {
     "name": "stderr",
     "output_type": "stream",
     "text": [
      "\n",
      "  0%|                                                                                                                                 | 0/70 [00:00<?, ?it/s]\u001b[A/home/sarawalk/sdgs_py38/lib/python3.8/site-packages/bicm/graph_classes.py:1113: RuntimeWarning: invalid value encountered in divide\n",
      "  probs = node_xy * neighbor_xy / ((1 + node_xy) * (1 + neighbor_xy))\n",
      "/home/sarawalk/sdgs_py38/lib/python3.8/site-packages/bicm/graph_classes.py:1113: RuntimeWarning: invalid value encountered in divide\n",
      "  probs = node_xy * neighbor_xy / ((1 + node_xy) * (1 + neighbor_xy))\n",
      "/home/sarawalk/sdgs_py38/lib/python3.8/site-packages/bicm/graph_classes.py:1113: RuntimeWarning: invalid value encountered in divide\n",
      "  probs = node_xy * neighbor_xy / ((1 + node_xy) * (1 + neighbor_xy))\n",
      "/home/sarawalk/sdgs_py38/lib/python3.8/site-packages/bicm/graph_classes.py:1113: RuntimeWarning: invalid value encountered in divide\n",
      "  probs = node_xy * neighbor_xy / ((1 + node_xy) * (1 + neighbor_xy))\n",
      "\n",
      "100%|███████████████████████████████████████████████████████████████████████████████████████████████████████████████████████| 70/70 [00:00<00:00, 522.87it/s]\u001b[A\n"
     ]
    },
    {
     "name": "stdout",
     "output_type": "stream",
     "text": [
      "No V-motifs will be validated. Try increasing alpha\n"
     ]
    },
    {
     "name": "stderr",
     "output_type": "stream",
     "text": [
      "\n",
      "  0%|                                                                                                                                  | 0/9 [00:00<?, ?it/s]\u001b[A/home/sarawalk/sdgs_py38/lib/python3.8/site-packages/bicm/graph_classes.py:1113: RuntimeWarning: invalid value encountered in divide\n",
      "  probs = node_xy * neighbor_xy / ((1 + node_xy) * (1 + neighbor_xy))\n",
      "/home/sarawalk/sdgs_py38/lib/python3.8/site-packages/bicm/graph_classes.py:1113: RuntimeWarning: invalid value encountered in divide\n",
      "  probs = node_xy * neighbor_xy / ((1 + node_xy) * (1 + neighbor_xy))\n",
      "/home/sarawalk/sdgs_py38/lib/python3.8/site-packages/bicm/graph_classes.py:1113: RuntimeWarning: invalid value encountered in divide\n",
      "  probs = node_xy * neighbor_xy / ((1 + node_xy) * (1 + neighbor_xy))\n",
      "/home/sarawalk/sdgs_py38/lib/python3.8/site-packages/bicm/graph_classes.py:1113: RuntimeWarning: invalid value encountered in divide\n",
      "  probs = node_xy * neighbor_xy / ((1 + node_xy) * (1 + neighbor_xy))\n",
      "\n",
      "100%|██████████████████████████████████████████████████████████████████████████████████████████████████████████████████████████| 9/9 [00:00<00:00, 55.46it/s]\u001b[A\n"
     ]
    },
    {
     "name": "stdout",
     "output_type": "stream",
     "text": [
      "No V-motifs will be validated. Try increasing alpha\n",
      "\n",
      "                      WARNING: this system has at least a node that is disconnected or connected to all nodes\n",
      "                       of the opposite layer. This may cause some convergence issues.\n",
      "                      Please use the full mode providing a biadjacency matrix or an edgelist,\n",
      "                       or clean your data from these nodes. \n",
      "                      \n",
      "2022 Energy SDG 15: Life on Land\r"
     ]
    },
    {
     "name": "stderr",
     "output_type": "stream",
     "text": [
      "\n",
      "  0%|                                                                                                                                 | 0/70 [00:00<?, ?it/s]\u001b[A/home/sarawalk/sdgs_py38/lib/python3.8/site-packages/bicm/graph_classes.py:1113: RuntimeWarning: invalid value encountered in divide\n",
      "  probs = node_xy * neighbor_xy / ((1 + node_xy) * (1 + neighbor_xy))\n",
      "/home/sarawalk/sdgs_py38/lib/python3.8/site-packages/bicm/graph_classes.py:1113: RuntimeWarning: invalid value encountered in divide\n",
      "  probs = node_xy * neighbor_xy / ((1 + node_xy) * (1 + neighbor_xy))\n",
      "/home/sarawalk/sdgs_py38/lib/python3.8/site-packages/bicm/graph_classes.py:1113: RuntimeWarning: invalid value encountered in divide\n",
      "  probs = node_xy * neighbor_xy / ((1 + node_xy) * (1 + neighbor_xy))\n",
      "/home/sarawalk/sdgs_py38/lib/python3.8/site-packages/bicm/graph_classes.py:1113: RuntimeWarning: invalid value encountered in divide\n",
      "  probs = node_xy * neighbor_xy / ((1 + node_xy) * (1 + neighbor_xy))\n",
      "\n",
      "100%|███████████████████████████████████████████████████████████████████████████████████████████████████████████████████████| 70/70 [00:00<00:00, 494.90it/s]\u001b[A\n"
     ]
    },
    {
     "name": "stdout",
     "output_type": "stream",
     "text": [
      "No V-motifs will be validated. Try increasing alpha\n"
     ]
    },
    {
     "name": "stderr",
     "output_type": "stream",
     "text": [
      "\n",
      "  0%|                                                                                                                                  | 0/9 [00:00<?, ?it/s]\u001b[A/home/sarawalk/sdgs_py38/lib/python3.8/site-packages/bicm/graph_classes.py:1113: RuntimeWarning: invalid value encountered in divide\n",
      "  probs = node_xy * neighbor_xy / ((1 + node_xy) * (1 + neighbor_xy))\n",
      "/home/sarawalk/sdgs_py38/lib/python3.8/site-packages/bicm/graph_classes.py:1113: RuntimeWarning: invalid value encountered in divide\n",
      "  probs = node_xy * neighbor_xy / ((1 + node_xy) * (1 + neighbor_xy))\n",
      "/home/sarawalk/sdgs_py38/lib/python3.8/site-packages/bicm/graph_classes.py:1113: RuntimeWarning: invalid value encountered in divide\n",
      "  probs = node_xy * neighbor_xy / ((1 + node_xy) * (1 + neighbor_xy))\n",
      "/home/sarawalk/sdgs_py38/lib/python3.8/site-packages/bicm/graph_classes.py:1113: RuntimeWarning: invalid value encountered in divide\n",
      "  probs = node_xy * neighbor_xy / ((1 + node_xy) * (1 + neighbor_xy))\n",
      "\n",
      "100%|██████████████████████████████████████████████████████████████████████████████████████████████████████████████████████████| 9/9 [00:00<00:00, 56.48it/s]\u001b[A\n"
     ]
    },
    {
     "name": "stdout",
     "output_type": "stream",
     "text": [
      "No V-motifs will be validated. Try increasing alpha\n",
      "\n",
      "                      WARNING: this system has at least a node that is disconnected or connected to all nodes\n",
      "                       of the opposite layer. This may cause some convergence issues.\n",
      "                      Please use the full mode providing a biadjacency matrix or an edgelist,\n",
      "                       or clean your data from these nodes. \n",
      "                      \n",
      "2022 Energy SDG 16: Peace, Justice, and Strong Institutions\r"
     ]
    },
    {
     "name": "stderr",
     "output_type": "stream",
     "text": [
      "\n",
      "  0%|                                                                                                                                 | 0/70 [00:00<?, ?it/s]\u001b[A/home/sarawalk/sdgs_py38/lib/python3.8/site-packages/bicm/graph_classes.py:1113: RuntimeWarning: invalid value encountered in divide\n",
      "  probs = node_xy * neighbor_xy / ((1 + node_xy) * (1 + neighbor_xy))\n",
      "/home/sarawalk/sdgs_py38/lib/python3.8/site-packages/bicm/graph_classes.py:1113: RuntimeWarning: invalid value encountered in divide\n",
      "  probs = node_xy * neighbor_xy / ((1 + node_xy) * (1 + neighbor_xy))\n",
      "/home/sarawalk/sdgs_py38/lib/python3.8/site-packages/bicm/graph_classes.py:1113: RuntimeWarning: invalid value encountered in divide\n",
      "  probs = node_xy * neighbor_xy / ((1 + node_xy) * (1 + neighbor_xy))\n",
      "/home/sarawalk/sdgs_py38/lib/python3.8/site-packages/bicm/graph_classes.py:1113: RuntimeWarning: invalid value encountered in divide\n",
      "  probs = node_xy * neighbor_xy / ((1 + node_xy) * (1 + neighbor_xy))\n",
      "\n",
      "100%|███████████████████████████████████████████████████████████████████████████████████████████████████████████████████████| 70/70 [00:00<00:00, 483.03it/s]\u001b[A\n"
     ]
    },
    {
     "name": "stdout",
     "output_type": "stream",
     "text": [
      "No V-motifs will be validated. Try increasing alpha\n"
     ]
    },
    {
     "name": "stderr",
     "output_type": "stream",
     "text": [
      "\n",
      "  0%|                                                                                                                                  | 0/9 [00:00<?, ?it/s]\u001b[A/home/sarawalk/sdgs_py38/lib/python3.8/site-packages/bicm/graph_classes.py:1113: RuntimeWarning: invalid value encountered in divide\n",
      "  probs = node_xy * neighbor_xy / ((1 + node_xy) * (1 + neighbor_xy))\n",
      "/home/sarawalk/sdgs_py38/lib/python3.8/site-packages/bicm/graph_classes.py:1113: RuntimeWarning: invalid value encountered in divide\n",
      "  probs = node_xy * neighbor_xy / ((1 + node_xy) * (1 + neighbor_xy))\n",
      "/home/sarawalk/sdgs_py38/lib/python3.8/site-packages/bicm/graph_classes.py:1113: RuntimeWarning: invalid value encountered in divide\n",
      "  probs = node_xy * neighbor_xy / ((1 + node_xy) * (1 + neighbor_xy))\n",
      "/home/sarawalk/sdgs_py38/lib/python3.8/site-packages/bicm/graph_classes.py:1113: RuntimeWarning: invalid value encountered in divide\n",
      "  probs = node_xy * neighbor_xy / ((1 + node_xy) * (1 + neighbor_xy))\n",
      "\n",
      "100%|██████████████████████████████████████████████████████████████████████████████████████████████████████████████████████████| 9/9 [00:00<00:00, 61.94it/s]\u001b[A\n"
     ]
    },
    {
     "name": "stdout",
     "output_type": "stream",
     "text": [
      "No V-motifs will be validated. Try increasing alpha\n",
      "\n",
      "                      WARNING: this system has at least a node that is disconnected or connected to all nodes\n",
      "                       of the opposite layer. This may cause some convergence issues.\n",
      "                      Please use the full mode providing a biadjacency matrix or an edgelist,\n",
      "                       or clean your data from these nodes. \n",
      "                      \n",
      "2022 Energy SDG 17: Partnerships for the Goals\r"
     ]
    },
    {
     "name": "stderr",
     "output_type": "stream",
     "text": [
      "\n",
      "  0%|                                                                                                                                 | 0/70 [00:00<?, ?it/s]\u001b[A/home/sarawalk/sdgs_py38/lib/python3.8/site-packages/bicm/graph_classes.py:1113: RuntimeWarning: invalid value encountered in divide\n",
      "  probs = node_xy * neighbor_xy / ((1 + node_xy) * (1 + neighbor_xy))\n",
      "/home/sarawalk/sdgs_py38/lib/python3.8/site-packages/bicm/graph_classes.py:1113: RuntimeWarning: invalid value encountered in divide\n",
      "  probs = node_xy * neighbor_xy / ((1 + node_xy) * (1 + neighbor_xy))\n",
      "/home/sarawalk/sdgs_py38/lib/python3.8/site-packages/bicm/graph_classes.py:1113: RuntimeWarning: invalid value encountered in divide\n",
      "  probs = node_xy * neighbor_xy / ((1 + node_xy) * (1 + neighbor_xy))\n",
      "/home/sarawalk/sdgs_py38/lib/python3.8/site-packages/bicm/graph_classes.py:1113: RuntimeWarning: invalid value encountered in divide\n",
      "  probs = node_xy * neighbor_xy / ((1 + node_xy) * (1 + neighbor_xy))\n",
      "\n",
      "100%|███████████████████████████████████████████████████████████████████████████████████████████████████████████████████████| 70/70 [00:00<00:00, 477.20it/s]\u001b[A\n"
     ]
    },
    {
     "name": "stdout",
     "output_type": "stream",
     "text": [
      "No V-motifs will be validated. Try increasing alpha\n"
     ]
    },
    {
     "name": "stderr",
     "output_type": "stream",
     "text": [
      "\n",
      "  0%|                                                                                                                                  | 0/9 [00:00<?, ?it/s]\u001b[A/home/sarawalk/sdgs_py38/lib/python3.8/site-packages/bicm/graph_classes.py:1113: RuntimeWarning: invalid value encountered in divide\n",
      "  probs = node_xy * neighbor_xy / ((1 + node_xy) * (1 + neighbor_xy))\n",
      "/home/sarawalk/sdgs_py38/lib/python3.8/site-packages/bicm/graph_classes.py:1113: RuntimeWarning: invalid value encountered in divide\n",
      "  probs = node_xy * neighbor_xy / ((1 + node_xy) * (1 + neighbor_xy))\n",
      "/home/sarawalk/sdgs_py38/lib/python3.8/site-packages/bicm/graph_classes.py:1113: RuntimeWarning: invalid value encountered in divide\n",
      "  probs = node_xy * neighbor_xy / ((1 + node_xy) * (1 + neighbor_xy))\n",
      "/home/sarawalk/sdgs_py38/lib/python3.8/site-packages/bicm/graph_classes.py:1113: RuntimeWarning: invalid value encountered in divide\n",
      "  probs = node_xy * neighbor_xy / ((1 + node_xy) * (1 + neighbor_xy))\n",
      "\n",
      "100%|██████████████████████████████████████████████████████████████████████████████████████████████████████████████████████████| 9/9 [00:00<00:00, 61.38it/s]\u001b[A\n"
     ]
    },
    {
     "name": "stdout",
     "output_type": "stream",
     "text": [
      "No V-motifs will be validated. Try increasing alpha\n",
      "\n",
      "                      WARNING: this system has at least a node that is disconnected or connected to all nodes\n",
      "                       of the opposite layer. This may cause some convergence issues.\n",
      "                      Please use the full mode providing a biadjacency matrix or an edgelist,\n",
      "                       or clean your data from these nodes. \n",
      "                      \n",
      "2022 Utilities SDG 1: No Poverty\r"
     ]
    },
    {
     "name": "stderr",
     "output_type": "stream",
     "text": [
      "\n",
      "  0%|                                                                                                                                 | 0/66 [00:00<?, ?it/s]\u001b[A/home/sarawalk/sdgs_py38/lib/python3.8/site-packages/bicm/graph_classes.py:1113: RuntimeWarning: invalid value encountered in divide\n",
      "  probs = node_xy * neighbor_xy / ((1 + node_xy) * (1 + neighbor_xy))\n",
      "/home/sarawalk/sdgs_py38/lib/python3.8/site-packages/bicm/graph_classes.py:1113: RuntimeWarning: invalid value encountered in divide\n",
      "  probs = node_xy * neighbor_xy / ((1 + node_xy) * (1 + neighbor_xy))\n",
      "/home/sarawalk/sdgs_py38/lib/python3.8/site-packages/bicm/graph_classes.py:1113: RuntimeWarning: invalid value encountered in divide\n",
      "  probs = node_xy * neighbor_xy / ((1 + node_xy) * (1 + neighbor_xy))\n",
      "/home/sarawalk/sdgs_py38/lib/python3.8/site-packages/bicm/graph_classes.py:1113: RuntimeWarning: invalid value encountered in divide\n",
      "  probs = node_xy * neighbor_xy / ((1 + node_xy) * (1 + neighbor_xy))\n",
      "\n",
      "100%|███████████████████████████████████████████████████████████████████████████████████████████████████████████████████████| 66/66 [00:00<00:00, 566.53it/s]\u001b[A\n"
     ]
    },
    {
     "name": "stdout",
     "output_type": "stream",
     "text": [
      "No V-motifs will be validated. Try increasing alpha\n"
     ]
    },
    {
     "name": "stderr",
     "output_type": "stream",
     "text": [
      "\n",
      "  0%|                                                                                                                                  | 0/6 [00:00<?, ?it/s]\u001b[A/home/sarawalk/sdgs_py38/lib/python3.8/site-packages/bicm/graph_classes.py:1113: RuntimeWarning: invalid value encountered in divide\n",
      "  probs = node_xy * neighbor_xy / ((1 + node_xy) * (1 + neighbor_xy))\n",
      "/home/sarawalk/sdgs_py38/lib/python3.8/site-packages/bicm/graph_classes.py:1113: RuntimeWarning: invalid value encountered in divide\n",
      "  probs = node_xy * neighbor_xy / ((1 + node_xy) * (1 + neighbor_xy))\n",
      "/home/sarawalk/sdgs_py38/lib/python3.8/site-packages/bicm/graph_classes.py:1113: RuntimeWarning: invalid value encountered in divide\n",
      "  probs = node_xy * neighbor_xy / ((1 + node_xy) * (1 + neighbor_xy))\n",
      "/home/sarawalk/sdgs_py38/lib/python3.8/site-packages/bicm/graph_classes.py:1113: RuntimeWarning: invalid value encountered in divide\n",
      "  probs = node_xy * neighbor_xy / ((1 + node_xy) * (1 + neighbor_xy))\n",
      "100%|██████████████████████████████████████████████████████████████████████████████████████████████████████████████████████████| 6/6 [00:00<00:00, 61.66it/s]"
     ]
    },
    {
     "name": "stdout",
     "output_type": "stream",
     "text": [
      "No V-motifs will be validated. Try increasing alpha\n",
      "\n",
      "                      WARNING: this system has at least a node that is disconnected or connected to all nodes\n",
      "                       of the opposite layer. This may cause some convergence issues.\n",
      "                      Please use the full mode providing a biadjacency matrix or an edgelist,\n",
      "                       or clean your data from these nodes. \n",
      "                      \n",
      "2022 Utilities SDG 3: Good Health and Well-being\r"
     ]
    },
    {
     "name": "stderr",
     "output_type": "stream",
     "text": [
      "\n",
      "\n",
      "  0%|                                                                                                                                 | 0/66 [00:00<?, ?it/s]\u001b[A/home/sarawalk/sdgs_py38/lib/python3.8/site-packages/bicm/graph_classes.py:1113: RuntimeWarning: invalid value encountered in divide\n",
      "  probs = node_xy * neighbor_xy / ((1 + node_xy) * (1 + neighbor_xy))\n",
      "/home/sarawalk/sdgs_py38/lib/python3.8/site-packages/bicm/graph_classes.py:1113: RuntimeWarning: invalid value encountered in divide\n",
      "  probs = node_xy * neighbor_xy / ((1 + node_xy) * (1 + neighbor_xy))\n",
      "/home/sarawalk/sdgs_py38/lib/python3.8/site-packages/bicm/graph_classes.py:1113: RuntimeWarning: invalid value encountered in divide\n",
      "  probs = node_xy * neighbor_xy / ((1 + node_xy) * (1 + neighbor_xy))\n",
      "/home/sarawalk/sdgs_py38/lib/python3.8/site-packages/bicm/graph_classes.py:1113: RuntimeWarning: invalid value encountered in divide\n",
      "  probs = node_xy * neighbor_xy / ((1 + node_xy) * (1 + neighbor_xy))\n",
      "\n",
      "100%|███████████████████████████████████████████████████████████████████████████████████████████████████████████████████████| 66/66 [00:00<00:00, 538.49it/s]\u001b[A\n"
     ]
    },
    {
     "name": "stdout",
     "output_type": "stream",
     "text": [
      "No V-motifs will be validated. Try increasing alpha\n"
     ]
    },
    {
     "name": "stderr",
     "output_type": "stream",
     "text": [
      "\n",
      "  0%|                                                                                                                                  | 0/6 [00:00<?, ?it/s]\u001b[A/home/sarawalk/sdgs_py38/lib/python3.8/site-packages/bicm/graph_classes.py:1113: RuntimeWarning: invalid value encountered in divide\n",
      "  probs = node_xy * neighbor_xy / ((1 + node_xy) * (1 + neighbor_xy))\n",
      "/home/sarawalk/sdgs_py38/lib/python3.8/site-packages/bicm/graph_classes.py:1113: RuntimeWarning: invalid value encountered in divide\n",
      "  probs = node_xy * neighbor_xy / ((1 + node_xy) * (1 + neighbor_xy))\n",
      "/home/sarawalk/sdgs_py38/lib/python3.8/site-packages/bicm/graph_classes.py:1113: RuntimeWarning: invalid value encountered in divide\n",
      "  probs = node_xy * neighbor_xy / ((1 + node_xy) * (1 + neighbor_xy))\n",
      "/home/sarawalk/sdgs_py38/lib/python3.8/site-packages/bicm/graph_classes.py:1113: RuntimeWarning: invalid value encountered in divide\n",
      "  probs = node_xy * neighbor_xy / ((1 + node_xy) * (1 + neighbor_xy))\n",
      "100%|██████████████████████████████████████████████████████████████████████████████████████████████████████████████████████████| 6/6 [00:00<00:00, 62.29it/s]"
     ]
    },
    {
     "name": "stdout",
     "output_type": "stream",
     "text": [
      "No V-motifs will be validated. Try increasing alpha\n",
      "\n",
      "                      WARNING: this system has at least a node that is disconnected or connected to all nodes\n",
      "                       of the opposite layer. This may cause some convergence issues.\n",
      "                      Please use the full mode providing a biadjacency matrix or an edgelist,\n",
      "                       or clean your data from these nodes. \n",
      "                      \n",
      "2022 Utilities SDG 4: Quality Education\r"
     ]
    },
    {
     "name": "stderr",
     "output_type": "stream",
     "text": [
      "\n",
      "\n",
      "  0%|                                                                                                                                 | 0/66 [00:00<?, ?it/s]\u001b[A/home/sarawalk/sdgs_py38/lib/python3.8/site-packages/bicm/graph_classes.py:1113: RuntimeWarning: invalid value encountered in divide\n",
      "  probs = node_xy * neighbor_xy / ((1 + node_xy) * (1 + neighbor_xy))\n",
      "/home/sarawalk/sdgs_py38/lib/python3.8/site-packages/bicm/graph_classes.py:1113: RuntimeWarning: invalid value encountered in divide\n",
      "  probs = node_xy * neighbor_xy / ((1 + node_xy) * (1 + neighbor_xy))\n",
      "/home/sarawalk/sdgs_py38/lib/python3.8/site-packages/bicm/graph_classes.py:1113: RuntimeWarning: invalid value encountered in divide\n",
      "  probs = node_xy * neighbor_xy / ((1 + node_xy) * (1 + neighbor_xy))\n",
      "/home/sarawalk/sdgs_py38/lib/python3.8/site-packages/bicm/graph_classes.py:1113: RuntimeWarning: invalid value encountered in divide\n",
      "  probs = node_xy * neighbor_xy / ((1 + node_xy) * (1 + neighbor_xy))\n",
      "\n",
      "100%|███████████████████████████████████████████████████████████████████████████████████████████████████████████████████████| 66/66 [00:00<00:00, 571.67it/s]\u001b[A\n"
     ]
    },
    {
     "name": "stdout",
     "output_type": "stream",
     "text": [
      "No V-motifs will be validated. Try increasing alpha\n"
     ]
    },
    {
     "name": "stderr",
     "output_type": "stream",
     "text": [
      "\n",
      "  0%|                                                                                                                                  | 0/6 [00:00<?, ?it/s]\u001b[A/home/sarawalk/sdgs_py38/lib/python3.8/site-packages/bicm/graph_classes.py:1113: RuntimeWarning: invalid value encountered in divide\n",
      "  probs = node_xy * neighbor_xy / ((1 + node_xy) * (1 + neighbor_xy))\n",
      "/home/sarawalk/sdgs_py38/lib/python3.8/site-packages/bicm/graph_classes.py:1113: RuntimeWarning: invalid value encountered in divide\n",
      "  probs = node_xy * neighbor_xy / ((1 + node_xy) * (1 + neighbor_xy))\n",
      "/home/sarawalk/sdgs_py38/lib/python3.8/site-packages/bicm/graph_classes.py:1113: RuntimeWarning: invalid value encountered in divide\n",
      "  probs = node_xy * neighbor_xy / ((1 + node_xy) * (1 + neighbor_xy))\n",
      "/home/sarawalk/sdgs_py38/lib/python3.8/site-packages/bicm/graph_classes.py:1113: RuntimeWarning: invalid value encountered in divide\n",
      "  probs = node_xy * neighbor_xy / ((1 + node_xy) * (1 + neighbor_xy))\n",
      "\n",
      "100%|██████████████████████████████████████████████████████████████████████████████████████████████████████████████████████████| 6/6 [00:00<00:00, 54.65it/s]\u001b[A"
     ]
    },
    {
     "name": "stdout",
     "output_type": "stream",
     "text": [
      "No V-motifs will be validated. Try increasing alpha\n",
      "\n",
      "                      WARNING: this system has at least a node that is disconnected or connected to all nodes\n",
      "                       of the opposite layer. This may cause some convergence issues.\n",
      "                      Please use the full mode providing a biadjacency matrix or an edgelist,\n",
      "                       or clean your data from these nodes. \n",
      "                      \n",
      "2022 Utilities SDG 5: Gender Equality\r"
     ]
    },
    {
     "name": "stderr",
     "output_type": "stream",
     "text": [
      "\n",
      "\n",
      "  0%|                                                                                                                                 | 0/66 [00:00<?, ?it/s]\u001b[A/home/sarawalk/sdgs_py38/lib/python3.8/site-packages/bicm/graph_classes.py:1113: RuntimeWarning: invalid value encountered in divide\n",
      "  probs = node_xy * neighbor_xy / ((1 + node_xy) * (1 + neighbor_xy))\n",
      "/home/sarawalk/sdgs_py38/lib/python3.8/site-packages/bicm/graph_classes.py:1113: RuntimeWarning: invalid value encountered in divide\n",
      "  probs = node_xy * neighbor_xy / ((1 + node_xy) * (1 + neighbor_xy))\n",
      "/home/sarawalk/sdgs_py38/lib/python3.8/site-packages/bicm/graph_classes.py:1113: RuntimeWarning: invalid value encountered in divide\n",
      "  probs = node_xy * neighbor_xy / ((1 + node_xy) * (1 + neighbor_xy))\n",
      "/home/sarawalk/sdgs_py38/lib/python3.8/site-packages/bicm/graph_classes.py:1113: RuntimeWarning: invalid value encountered in divide\n",
      "  probs = node_xy * neighbor_xy / ((1 + node_xy) * (1 + neighbor_xy))\n",
      "\n",
      "100%|███████████████████████████████████████████████████████████████████████████████████████████████████████████████████████| 66/66 [00:00<00:00, 491.25it/s]\u001b[A\n"
     ]
    },
    {
     "name": "stdout",
     "output_type": "stream",
     "text": [
      "No V-motifs will be validated. Try increasing alpha\n"
     ]
    },
    {
     "name": "stderr",
     "output_type": "stream",
     "text": [
      "\n",
      "  0%|                                                                                                                                  | 0/6 [00:00<?, ?it/s]\u001b[A/home/sarawalk/sdgs_py38/lib/python3.8/site-packages/bicm/graph_classes.py:1113: RuntimeWarning: invalid value encountered in divide\n",
      "  probs = node_xy * neighbor_xy / ((1 + node_xy) * (1 + neighbor_xy))\n",
      "/home/sarawalk/sdgs_py38/lib/python3.8/site-packages/bicm/graph_classes.py:1113: RuntimeWarning: invalid value encountered in divide\n",
      "  probs = node_xy * neighbor_xy / ((1 + node_xy) * (1 + neighbor_xy))\n",
      "/home/sarawalk/sdgs_py38/lib/python3.8/site-packages/bicm/graph_classes.py:1113: RuntimeWarning: invalid value encountered in divide\n",
      "  probs = node_xy * neighbor_xy / ((1 + node_xy) * (1 + neighbor_xy))\n",
      "/home/sarawalk/sdgs_py38/lib/python3.8/site-packages/bicm/graph_classes.py:1113: RuntimeWarning: invalid value encountered in divide\n",
      "  probs = node_xy * neighbor_xy / ((1 + node_xy) * (1 + neighbor_xy))\n",
      "100%|██████████████████████████████████████████████████████████████████████████████████████████████████████████████████████████| 6/6 [00:00<00:00, 59.24it/s]"
     ]
    },
    {
     "name": "stdout",
     "output_type": "stream",
     "text": [
      "No V-motifs will be validated. Try increasing alpha\n",
      "\n",
      "                      WARNING: this system has at least a node that is disconnected or connected to all nodes\n",
      "                       of the opposite layer. This may cause some convergence issues.\n",
      "                      Please use the full mode providing a biadjacency matrix or an edgelist,\n",
      "                       or clean your data from these nodes. \n",
      "                      \n",
      "2022 Utilities SDG 6: Clean Water and Sanitation\r"
     ]
    },
    {
     "name": "stderr",
     "output_type": "stream",
     "text": [
      "\n",
      "\n",
      "  0%|                                                                                                                                 | 0/66 [00:00<?, ?it/s]\u001b[A/home/sarawalk/sdgs_py38/lib/python3.8/site-packages/bicm/graph_classes.py:1113: RuntimeWarning: invalid value encountered in divide\n",
      "  probs = node_xy * neighbor_xy / ((1 + node_xy) * (1 + neighbor_xy))\n",
      "/home/sarawalk/sdgs_py38/lib/python3.8/site-packages/bicm/graph_classes.py:1113: RuntimeWarning: invalid value encountered in divide\n",
      "  probs = node_xy * neighbor_xy / ((1 + node_xy) * (1 + neighbor_xy))\n",
      "/home/sarawalk/sdgs_py38/lib/python3.8/site-packages/bicm/graph_classes.py:1113: RuntimeWarning: invalid value encountered in divide\n",
      "  probs = node_xy * neighbor_xy / ((1 + node_xy) * (1 + neighbor_xy))\n",
      "/home/sarawalk/sdgs_py38/lib/python3.8/site-packages/bicm/graph_classes.py:1113: RuntimeWarning: invalid value encountered in divide\n",
      "  probs = node_xy * neighbor_xy / ((1 + node_xy) * (1 + neighbor_xy))\n",
      "\n",
      "100%|███████████████████████████████████████████████████████████████████████████████████████████████████████████████████████| 66/66 [00:00<00:00, 465.78it/s]\u001b[A\n"
     ]
    },
    {
     "name": "stdout",
     "output_type": "stream",
     "text": [
      "No V-motifs will be validated. Try increasing alpha\n"
     ]
    },
    {
     "name": "stderr",
     "output_type": "stream",
     "text": [
      "\n",
      "  0%|                                                                                                                                  | 0/6 [00:00<?, ?it/s]\u001b[A/home/sarawalk/sdgs_py38/lib/python3.8/site-packages/bicm/graph_classes.py:1113: RuntimeWarning: invalid value encountered in divide\n",
      "  probs = node_xy * neighbor_xy / ((1 + node_xy) * (1 + neighbor_xy))\n",
      "/home/sarawalk/sdgs_py38/lib/python3.8/site-packages/bicm/graph_classes.py:1113: RuntimeWarning: invalid value encountered in divide\n",
      "  probs = node_xy * neighbor_xy / ((1 + node_xy) * (1 + neighbor_xy))\n",
      "/home/sarawalk/sdgs_py38/lib/python3.8/site-packages/bicm/graph_classes.py:1113: RuntimeWarning: invalid value encountered in divide\n",
      "  probs = node_xy * neighbor_xy / ((1 + node_xy) * (1 + neighbor_xy))\n",
      "/home/sarawalk/sdgs_py38/lib/python3.8/site-packages/bicm/graph_classes.py:1113: RuntimeWarning: invalid value encountered in divide\n",
      "  probs = node_xy * neighbor_xy / ((1 + node_xy) * (1 + neighbor_xy))\n",
      "100%|██████████████████████████████████████████████████████████████████████████████████████████████████████████████████████████| 6/6 [00:00<00:00, 59.81it/s]"
     ]
    },
    {
     "name": "stdout",
     "output_type": "stream",
     "text": [
      "No V-motifs will be validated. Try increasing alpha\n",
      "\n",
      "                      WARNING: this system has at least a node that is disconnected or connected to all nodes\n",
      "                       of the opposite layer. This may cause some convergence issues.\n",
      "                      Please use the full mode providing a biadjacency matrix or an edgelist,\n",
      "                       or clean your data from these nodes. \n",
      "                      \n",
      "2022 Utilities SDG 7: Affordable and Clean Energy\r"
     ]
    },
    {
     "name": "stderr",
     "output_type": "stream",
     "text": [
      "\n",
      "\n",
      "  0%|                                                                                                                                 | 0/66 [00:00<?, ?it/s]\u001b[A/home/sarawalk/sdgs_py38/lib/python3.8/site-packages/bicm/graph_classes.py:1113: RuntimeWarning: invalid value encountered in divide\n",
      "  probs = node_xy * neighbor_xy / ((1 + node_xy) * (1 + neighbor_xy))\n",
      "/home/sarawalk/sdgs_py38/lib/python3.8/site-packages/bicm/graph_classes.py:1113: RuntimeWarning: invalid value encountered in divide\n",
      "  probs = node_xy * neighbor_xy / ((1 + node_xy) * (1 + neighbor_xy))\n",
      "/home/sarawalk/sdgs_py38/lib/python3.8/site-packages/bicm/graph_classes.py:1113: RuntimeWarning: invalid value encountered in divide\n",
      "  probs = node_xy * neighbor_xy / ((1 + node_xy) * (1 + neighbor_xy))\n",
      "/home/sarawalk/sdgs_py38/lib/python3.8/site-packages/bicm/graph_classes.py:1113: RuntimeWarning: invalid value encountered in divide\n",
      "  probs = node_xy * neighbor_xy / ((1 + node_xy) * (1 + neighbor_xy))\n",
      "\n",
      "100%|███████████████████████████████████████████████████████████████████████████████████████████████████████████████████████| 66/66 [00:00<00:00, 459.16it/s]\u001b[A\n"
     ]
    },
    {
     "name": "stdout",
     "output_type": "stream",
     "text": [
      "No V-motifs will be validated. Try increasing alpha\n"
     ]
    },
    {
     "name": "stderr",
     "output_type": "stream",
     "text": [
      "\n",
      "  0%|                                                                                                                                  | 0/6 [00:00<?, ?it/s]\u001b[A/home/sarawalk/sdgs_py38/lib/python3.8/site-packages/bicm/graph_classes.py:1113: RuntimeWarning: invalid value encountered in divide\n",
      "  probs = node_xy * neighbor_xy / ((1 + node_xy) * (1 + neighbor_xy))\n",
      "/home/sarawalk/sdgs_py38/lib/python3.8/site-packages/bicm/graph_classes.py:1113: RuntimeWarning: invalid value encountered in divide\n",
      "  probs = node_xy * neighbor_xy / ((1 + node_xy) * (1 + neighbor_xy))\n",
      "/home/sarawalk/sdgs_py38/lib/python3.8/site-packages/bicm/graph_classes.py:1113: RuntimeWarning: invalid value encountered in divide\n",
      "  probs = node_xy * neighbor_xy / ((1 + node_xy) * (1 + neighbor_xy))\n",
      "/home/sarawalk/sdgs_py38/lib/python3.8/site-packages/bicm/graph_classes.py:1113: RuntimeWarning: invalid value encountered in divide\n",
      "  probs = node_xy * neighbor_xy / ((1 + node_xy) * (1 + neighbor_xy))\n",
      "100%|██████████████████████████████████████████████████████████████████████████████████████████████████████████████████████████| 6/6 [00:00<00:00, 63.14it/s]"
     ]
    },
    {
     "name": "stdout",
     "output_type": "stream",
     "text": [
      "No V-motifs will be validated. Try increasing alpha\n",
      "\n",
      "                      WARNING: this system has at least a node that is disconnected or connected to all nodes\n",
      "                       of the opposite layer. This may cause some convergence issues.\n",
      "                      Please use the full mode providing a biadjacency matrix or an edgelist,\n",
      "                       or clean your data from these nodes. \n",
      "                      \n",
      "2022 Utilities SDG 8: Decent Work and Economic Growth\r"
     ]
    },
    {
     "name": "stderr",
     "output_type": "stream",
     "text": [
      "\n",
      "\n",
      "  0%|                                                                                                                                 | 0/66 [00:00<?, ?it/s]\u001b[A/home/sarawalk/sdgs_py38/lib/python3.8/site-packages/bicm/graph_classes.py:1113: RuntimeWarning: invalid value encountered in divide\n",
      "  probs = node_xy * neighbor_xy / ((1 + node_xy) * (1 + neighbor_xy))\n",
      "/home/sarawalk/sdgs_py38/lib/python3.8/site-packages/bicm/graph_classes.py:1113: RuntimeWarning: invalid value encountered in divide\n",
      "  probs = node_xy * neighbor_xy / ((1 + node_xy) * (1 + neighbor_xy))\n",
      "/home/sarawalk/sdgs_py38/lib/python3.8/site-packages/bicm/graph_classes.py:1113: RuntimeWarning: invalid value encountered in divide\n",
      "  probs = node_xy * neighbor_xy / ((1 + node_xy) * (1 + neighbor_xy))\n",
      "/home/sarawalk/sdgs_py38/lib/python3.8/site-packages/bicm/graph_classes.py:1113: RuntimeWarning: invalid value encountered in divide\n",
      "  probs = node_xy * neighbor_xy / ((1 + node_xy) * (1 + neighbor_xy))\n",
      "\n",
      "100%|███████████████████████████████████████████████████████████████████████████████████████████████████████████████████████| 66/66 [00:00<00:00, 499.95it/s]\u001b[A\n"
     ]
    },
    {
     "name": "stdout",
     "output_type": "stream",
     "text": [
      "No V-motifs will be validated. Try increasing alpha\n"
     ]
    },
    {
     "name": "stderr",
     "output_type": "stream",
     "text": [
      "\n",
      "  0%|                                                                                                                                  | 0/6 [00:00<?, ?it/s]\u001b[A/home/sarawalk/sdgs_py38/lib/python3.8/site-packages/bicm/graph_classes.py:1113: RuntimeWarning: invalid value encountered in divide\n",
      "  probs = node_xy * neighbor_xy / ((1 + node_xy) * (1 + neighbor_xy))\n",
      "/home/sarawalk/sdgs_py38/lib/python3.8/site-packages/bicm/graph_classes.py:1113: RuntimeWarning: invalid value encountered in divide\n",
      "  probs = node_xy * neighbor_xy / ((1 + node_xy) * (1 + neighbor_xy))\n",
      "/home/sarawalk/sdgs_py38/lib/python3.8/site-packages/bicm/graph_classes.py:1113: RuntimeWarning: invalid value encountered in divide\n",
      "  probs = node_xy * neighbor_xy / ((1 + node_xy) * (1 + neighbor_xy))\n",
      "/home/sarawalk/sdgs_py38/lib/python3.8/site-packages/bicm/graph_classes.py:1113: RuntimeWarning: invalid value encountered in divide\n",
      "  probs = node_xy * neighbor_xy / ((1 + node_xy) * (1 + neighbor_xy))\n",
      "\n",
      "100%|██████████████████████████████████████████████████████████████████████████████████████████████████████████████████████████| 6/6 [00:00<00:00, 53.88it/s]\u001b[A"
     ]
    },
    {
     "name": "stdout",
     "output_type": "stream",
     "text": [
      "No V-motifs will be validated. Try increasing alpha\n",
      "\n",
      "                      WARNING: this system has at least a node that is disconnected or connected to all nodes\n",
      "                       of the opposite layer. This may cause some convergence issues.\n",
      "                      Please use the full mode providing a biadjacency matrix or an edgelist,\n",
      "                       or clean your data from these nodes. \n",
      "                      \n",
      "2022 Utilities SDG 9: Industry, Innovation, and Infrastructure\r"
     ]
    },
    {
     "name": "stderr",
     "output_type": "stream",
     "text": [
      "\n",
      "\n",
      "  0%|                                                                                                                                 | 0/66 [00:00<?, ?it/s]\u001b[A/home/sarawalk/sdgs_py38/lib/python3.8/site-packages/bicm/graph_classes.py:1113: RuntimeWarning: invalid value encountered in divide\n",
      "  probs = node_xy * neighbor_xy / ((1 + node_xy) * (1 + neighbor_xy))\n",
      "/home/sarawalk/sdgs_py38/lib/python3.8/site-packages/bicm/graph_classes.py:1113: RuntimeWarning: invalid value encountered in divide\n",
      "  probs = node_xy * neighbor_xy / ((1 + node_xy) * (1 + neighbor_xy))\n",
      "/home/sarawalk/sdgs_py38/lib/python3.8/site-packages/bicm/graph_classes.py:1113: RuntimeWarning: invalid value encountered in divide\n",
      "  probs = node_xy * neighbor_xy / ((1 + node_xy) * (1 + neighbor_xy))\n",
      "/home/sarawalk/sdgs_py38/lib/python3.8/site-packages/bicm/graph_classes.py:1113: RuntimeWarning: invalid value encountered in divide\n",
      "  probs = node_xy * neighbor_xy / ((1 + node_xy) * (1 + neighbor_xy))\n",
      "\n",
      "100%|███████████████████████████████████████████████████████████████████████████████████████████████████████████████████████| 66/66 [00:00<00:00, 495.26it/s]\u001b[A\n"
     ]
    },
    {
     "name": "stdout",
     "output_type": "stream",
     "text": [
      "No V-motifs will be validated. Try increasing alpha\n"
     ]
    },
    {
     "name": "stderr",
     "output_type": "stream",
     "text": [
      "\n",
      "  0%|                                                                                                                                  | 0/6 [00:00<?, ?it/s]\u001b[A/home/sarawalk/sdgs_py38/lib/python3.8/site-packages/bicm/graph_classes.py:1113: RuntimeWarning: invalid value encountered in divide\n",
      "  probs = node_xy * neighbor_xy / ((1 + node_xy) * (1 + neighbor_xy))\n",
      "/home/sarawalk/sdgs_py38/lib/python3.8/site-packages/bicm/graph_classes.py:1113: RuntimeWarning: invalid value encountered in divide\n",
      "  probs = node_xy * neighbor_xy / ((1 + node_xy) * (1 + neighbor_xy))\n",
      "/home/sarawalk/sdgs_py38/lib/python3.8/site-packages/bicm/graph_classes.py:1113: RuntimeWarning: invalid value encountered in divide\n",
      "  probs = node_xy * neighbor_xy / ((1 + node_xy) * (1 + neighbor_xy))\n",
      "/home/sarawalk/sdgs_py38/lib/python3.8/site-packages/bicm/graph_classes.py:1113: RuntimeWarning: invalid value encountered in divide\n",
      "  probs = node_xy * neighbor_xy / ((1 + node_xy) * (1 + neighbor_xy))\n",
      "100%|██████████████████████████████████████████████████████████████████████████████████████████████████████████████████████████| 6/6 [00:00<00:00, 66.12it/s]"
     ]
    },
    {
     "name": "stdout",
     "output_type": "stream",
     "text": [
      "No V-motifs will be validated. Try increasing alpha\n",
      "\n",
      "                      WARNING: this system has at least a node that is disconnected or connected to all nodes\n",
      "                       of the opposite layer. This may cause some convergence issues.\n",
      "                      Please use the full mode providing a biadjacency matrix or an edgelist,\n",
      "                       or clean your data from these nodes. \n",
      "                      \n",
      "2022 Utilities SDG 10: Reduced Inequality\r"
     ]
    },
    {
     "name": "stderr",
     "output_type": "stream",
     "text": [
      "\n",
      "\n",
      "  0%|                                                                                                                                 | 0/66 [00:00<?, ?it/s]\u001b[A/home/sarawalk/sdgs_py38/lib/python3.8/site-packages/bicm/graph_classes.py:1113: RuntimeWarning: invalid value encountered in divide\n",
      "  probs = node_xy * neighbor_xy / ((1 + node_xy) * (1 + neighbor_xy))\n",
      "/home/sarawalk/sdgs_py38/lib/python3.8/site-packages/bicm/graph_classes.py:1113: RuntimeWarning: invalid value encountered in divide\n",
      "  probs = node_xy * neighbor_xy / ((1 + node_xy) * (1 + neighbor_xy))\n",
      "/home/sarawalk/sdgs_py38/lib/python3.8/site-packages/bicm/graph_classes.py:1113: RuntimeWarning: invalid value encountered in divide\n",
      "  probs = node_xy * neighbor_xy / ((1 + node_xy) * (1 + neighbor_xy))\n",
      "/home/sarawalk/sdgs_py38/lib/python3.8/site-packages/bicm/graph_classes.py:1113: RuntimeWarning: invalid value encountered in divide\n",
      "  probs = node_xy * neighbor_xy / ((1 + node_xy) * (1 + neighbor_xy))\n",
      "\n",
      "100%|███████████████████████████████████████████████████████████████████████████████████████████████████████████████████████| 66/66 [00:00<00:00, 462.36it/s]\u001b[A\n"
     ]
    },
    {
     "name": "stdout",
     "output_type": "stream",
     "text": [
      "No V-motifs will be validated. Try increasing alpha\n"
     ]
    },
    {
     "name": "stderr",
     "output_type": "stream",
     "text": [
      "\n",
      "  0%|                                                                                                                                  | 0/6 [00:00<?, ?it/s]\u001b[A/home/sarawalk/sdgs_py38/lib/python3.8/site-packages/bicm/graph_classes.py:1113: RuntimeWarning: invalid value encountered in divide\n",
      "  probs = node_xy * neighbor_xy / ((1 + node_xy) * (1 + neighbor_xy))\n",
      "/home/sarawalk/sdgs_py38/lib/python3.8/site-packages/bicm/graph_classes.py:1113: RuntimeWarning: invalid value encountered in divide\n",
      "  probs = node_xy * neighbor_xy / ((1 + node_xy) * (1 + neighbor_xy))\n",
      "/home/sarawalk/sdgs_py38/lib/python3.8/site-packages/bicm/graph_classes.py:1113: RuntimeWarning: invalid value encountered in divide\n",
      "  probs = node_xy * neighbor_xy / ((1 + node_xy) * (1 + neighbor_xy))\n",
      "/home/sarawalk/sdgs_py38/lib/python3.8/site-packages/bicm/graph_classes.py:1113: RuntimeWarning: invalid value encountered in divide\n",
      "  probs = node_xy * neighbor_xy / ((1 + node_xy) * (1 + neighbor_xy))\n",
      "\n",
      "100%|██████████████████████████████████████████████████████████████████████████████████████████████████████████████████████████| 6/6 [00:00<00:00, 50.55it/s]\u001b[A"
     ]
    },
    {
     "name": "stdout",
     "output_type": "stream",
     "text": [
      "No V-motifs will be validated. Try increasing alpha\n",
      "\n",
      "                      WARNING: this system has at least a node that is disconnected or connected to all nodes\n",
      "                       of the opposite layer. This may cause some convergence issues.\n",
      "                      Please use the full mode providing a biadjacency matrix or an edgelist,\n",
      "                       or clean your data from these nodes. \n",
      "                      \n",
      "2022 Utilities SDG 11: Sustainable Cities and Communities\r"
     ]
    },
    {
     "name": "stderr",
     "output_type": "stream",
     "text": [
      "\n",
      "\n",
      "  0%|                                                                                                                                 | 0/66 [00:00<?, ?it/s]\u001b[A/home/sarawalk/sdgs_py38/lib/python3.8/site-packages/bicm/graph_classes.py:1113: RuntimeWarning: invalid value encountered in divide\n",
      "  probs = node_xy * neighbor_xy / ((1 + node_xy) * (1 + neighbor_xy))\n",
      "/home/sarawalk/sdgs_py38/lib/python3.8/site-packages/bicm/graph_classes.py:1113: RuntimeWarning: invalid value encountered in divide\n",
      "  probs = node_xy * neighbor_xy / ((1 + node_xy) * (1 + neighbor_xy))\n",
      "/home/sarawalk/sdgs_py38/lib/python3.8/site-packages/bicm/graph_classes.py:1113: RuntimeWarning: invalid value encountered in divide\n",
      "  probs = node_xy * neighbor_xy / ((1 + node_xy) * (1 + neighbor_xy))\n",
      "/home/sarawalk/sdgs_py38/lib/python3.8/site-packages/bicm/graph_classes.py:1113: RuntimeWarning: invalid value encountered in divide\n",
      "  probs = node_xy * neighbor_xy / ((1 + node_xy) * (1 + neighbor_xy))\n",
      "\n",
      "100%|███████████████████████████████████████████████████████████████████████████████████████████████████████████████████████| 66/66 [00:00<00:00, 509.01it/s]\u001b[A\n"
     ]
    },
    {
     "name": "stdout",
     "output_type": "stream",
     "text": [
      "No V-motifs will be validated. Try increasing alpha\n"
     ]
    },
    {
     "name": "stderr",
     "output_type": "stream",
     "text": [
      "\n",
      "  0%|                                                                                                                                  | 0/6 [00:00<?, ?it/s]\u001b[A/home/sarawalk/sdgs_py38/lib/python3.8/site-packages/bicm/graph_classes.py:1113: RuntimeWarning: invalid value encountered in divide\n",
      "  probs = node_xy * neighbor_xy / ((1 + node_xy) * (1 + neighbor_xy))\n",
      "/home/sarawalk/sdgs_py38/lib/python3.8/site-packages/bicm/graph_classes.py:1113: RuntimeWarning: invalid value encountered in divide\n",
      "  probs = node_xy * neighbor_xy / ((1 + node_xy) * (1 + neighbor_xy))\n",
      "/home/sarawalk/sdgs_py38/lib/python3.8/site-packages/bicm/graph_classes.py:1113: RuntimeWarning: invalid value encountered in divide\n",
      "  probs = node_xy * neighbor_xy / ((1 + node_xy) * (1 + neighbor_xy))\n",
      "/home/sarawalk/sdgs_py38/lib/python3.8/site-packages/bicm/graph_classes.py:1113: RuntimeWarning: invalid value encountered in divide\n",
      "  probs = node_xy * neighbor_xy / ((1 + node_xy) * (1 + neighbor_xy))\n",
      "\n",
      "100%|██████████████████████████████████████████████████████████████████████████████████████████████████████████████████████████| 6/6 [00:00<00:00, 54.23it/s]\u001b[A"
     ]
    },
    {
     "name": "stdout",
     "output_type": "stream",
     "text": [
      "No V-motifs will be validated. Try increasing alpha\n",
      "\n",
      "                      WARNING: this system has at least a node that is disconnected or connected to all nodes\n",
      "                       of the opposite layer. This may cause some convergence issues.\n",
      "                      Please use the full mode providing a biadjacency matrix or an edgelist,\n",
      "                       or clean your data from these nodes. \n",
      "                      \n",
      "2022 Utilities SDG 12: Responsible Consumption and Production\r"
     ]
    },
    {
     "name": "stderr",
     "output_type": "stream",
     "text": [
      "\n",
      "\n",
      "  0%|                                                                                                                                 | 0/66 [00:00<?, ?it/s]\u001b[A/home/sarawalk/sdgs_py38/lib/python3.8/site-packages/bicm/graph_classes.py:1113: RuntimeWarning: invalid value encountered in divide\n",
      "  probs = node_xy * neighbor_xy / ((1 + node_xy) * (1 + neighbor_xy))\n",
      "/home/sarawalk/sdgs_py38/lib/python3.8/site-packages/bicm/graph_classes.py:1113: RuntimeWarning: invalid value encountered in divide\n",
      "  probs = node_xy * neighbor_xy / ((1 + node_xy) * (1 + neighbor_xy))\n",
      "/home/sarawalk/sdgs_py38/lib/python3.8/site-packages/bicm/graph_classes.py:1113: RuntimeWarning: invalid value encountered in divide\n",
      "  probs = node_xy * neighbor_xy / ((1 + node_xy) * (1 + neighbor_xy))\n",
      "/home/sarawalk/sdgs_py38/lib/python3.8/site-packages/bicm/graph_classes.py:1113: RuntimeWarning: invalid value encountered in divide\n",
      "  probs = node_xy * neighbor_xy / ((1 + node_xy) * (1 + neighbor_xy))\n",
      "\n",
      "100%|███████████████████████████████████████████████████████████████████████████████████████████████████████████████████████| 66/66 [00:00<00:00, 489.96it/s]\u001b[A\n"
     ]
    },
    {
     "name": "stdout",
     "output_type": "stream",
     "text": [
      "No V-motifs will be validated. Try increasing alpha\n"
     ]
    },
    {
     "name": "stderr",
     "output_type": "stream",
     "text": [
      "\n",
      "  0%|                                                                                                                                  | 0/6 [00:00<?, ?it/s]\u001b[A/home/sarawalk/sdgs_py38/lib/python3.8/site-packages/bicm/graph_classes.py:1113: RuntimeWarning: invalid value encountered in divide\n",
      "  probs = node_xy * neighbor_xy / ((1 + node_xy) * (1 + neighbor_xy))\n",
      "/home/sarawalk/sdgs_py38/lib/python3.8/site-packages/bicm/graph_classes.py:1113: RuntimeWarning: invalid value encountered in divide\n",
      "  probs = node_xy * neighbor_xy / ((1 + node_xy) * (1 + neighbor_xy))\n",
      "/home/sarawalk/sdgs_py38/lib/python3.8/site-packages/bicm/graph_classes.py:1113: RuntimeWarning: invalid value encountered in divide\n",
      "  probs = node_xy * neighbor_xy / ((1 + node_xy) * (1 + neighbor_xy))\n",
      "/home/sarawalk/sdgs_py38/lib/python3.8/site-packages/bicm/graph_classes.py:1113: RuntimeWarning: invalid value encountered in divide\n",
      "  probs = node_xy * neighbor_xy / ((1 + node_xy) * (1 + neighbor_xy))\n",
      "\n",
      "100%|██████████████████████████████████████████████████████████████████████████████████████████████████████████████████████████| 6/6 [00:00<00:00, 49.33it/s]\u001b[A"
     ]
    },
    {
     "name": "stdout",
     "output_type": "stream",
     "text": [
      "No V-motifs will be validated. Try increasing alpha\n",
      "\n",
      "                      WARNING: this system has at least a node that is disconnected or connected to all nodes\n",
      "                       of the opposite layer. This may cause some convergence issues.\n",
      "                      Please use the full mode providing a biadjacency matrix or an edgelist,\n",
      "                       or clean your data from these nodes. \n",
      "                      \n",
      "2022 Utilities SDG 13: Climate Action\r"
     ]
    },
    {
     "name": "stderr",
     "output_type": "stream",
     "text": [
      "\n",
      "\n",
      "  0%|                                                                                                                                 | 0/66 [00:00<?, ?it/s]\u001b[A/home/sarawalk/sdgs_py38/lib/python3.8/site-packages/bicm/graph_classes.py:1113: RuntimeWarning: invalid value encountered in divide\n",
      "  probs = node_xy * neighbor_xy / ((1 + node_xy) * (1 + neighbor_xy))\n",
      "/home/sarawalk/sdgs_py38/lib/python3.8/site-packages/bicm/graph_classes.py:1113: RuntimeWarning: invalid value encountered in divide\n",
      "  probs = node_xy * neighbor_xy / ((1 + node_xy) * (1 + neighbor_xy))\n",
      "/home/sarawalk/sdgs_py38/lib/python3.8/site-packages/bicm/graph_classes.py:1113: RuntimeWarning: invalid value encountered in divide\n",
      "  probs = node_xy * neighbor_xy / ((1 + node_xy) * (1 + neighbor_xy))\n",
      "/home/sarawalk/sdgs_py38/lib/python3.8/site-packages/bicm/graph_classes.py:1113: RuntimeWarning: invalid value encountered in divide\n",
      "  probs = node_xy * neighbor_xy / ((1 + node_xy) * (1 + neighbor_xy))\n",
      "\n",
      "100%|███████████████████████████████████████████████████████████████████████████████████████████████████████████████████████| 66/66 [00:00<00:00, 532.24it/s]\u001b[A\n"
     ]
    },
    {
     "name": "stdout",
     "output_type": "stream",
     "text": [
      "No V-motifs will be validated. Try increasing alpha\n"
     ]
    },
    {
     "name": "stderr",
     "output_type": "stream",
     "text": [
      "\n",
      "  0%|                                                                                                                                  | 0/6 [00:00<?, ?it/s]\u001b[A/home/sarawalk/sdgs_py38/lib/python3.8/site-packages/bicm/graph_classes.py:1113: RuntimeWarning: invalid value encountered in divide\n",
      "  probs = node_xy * neighbor_xy / ((1 + node_xy) * (1 + neighbor_xy))\n",
      "/home/sarawalk/sdgs_py38/lib/python3.8/site-packages/bicm/graph_classes.py:1113: RuntimeWarning: invalid value encountered in divide\n",
      "  probs = node_xy * neighbor_xy / ((1 + node_xy) * (1 + neighbor_xy))\n",
      "/home/sarawalk/sdgs_py38/lib/python3.8/site-packages/bicm/graph_classes.py:1113: RuntimeWarning: invalid value encountered in divide\n",
      "  probs = node_xy * neighbor_xy / ((1 + node_xy) * (1 + neighbor_xy))\n",
      "/home/sarawalk/sdgs_py38/lib/python3.8/site-packages/bicm/graph_classes.py:1113: RuntimeWarning: invalid value encountered in divide\n",
      "  probs = node_xy * neighbor_xy / ((1 + node_xy) * (1 + neighbor_xy))\n",
      "\n",
      "100%|██████████████████████████████████████████████████████████████████████████████████████████████████████████████████████████| 6/6 [00:00<00:00, 52.67it/s]\u001b[A"
     ]
    },
    {
     "name": "stdout",
     "output_type": "stream",
     "text": [
      "No V-motifs will be validated. Try increasing alpha\n",
      "\n",
      "                      WARNING: this system has at least a node that is disconnected or connected to all nodes\n",
      "                       of the opposite layer. This may cause some convergence issues.\n",
      "                      Please use the full mode providing a biadjacency matrix or an edgelist,\n",
      "                       or clean your data from these nodes. \n",
      "                      \n",
      "2022 Utilities SDG 14: Life Below Water\r"
     ]
    },
    {
     "name": "stderr",
     "output_type": "stream",
     "text": [
      "\n",
      "\n",
      "  0%|                                                                                                                                 | 0/66 [00:00<?, ?it/s]\u001b[A/home/sarawalk/sdgs_py38/lib/python3.8/site-packages/bicm/graph_classes.py:1113: RuntimeWarning: invalid value encountered in divide\n",
      "  probs = node_xy * neighbor_xy / ((1 + node_xy) * (1 + neighbor_xy))\n",
      "/home/sarawalk/sdgs_py38/lib/python3.8/site-packages/bicm/graph_classes.py:1113: RuntimeWarning: invalid value encountered in divide\n",
      "  probs = node_xy * neighbor_xy / ((1 + node_xy) * (1 + neighbor_xy))\n",
      "/home/sarawalk/sdgs_py38/lib/python3.8/site-packages/bicm/graph_classes.py:1113: RuntimeWarning: invalid value encountered in divide\n",
      "  probs = node_xy * neighbor_xy / ((1 + node_xy) * (1 + neighbor_xy))\n",
      "/home/sarawalk/sdgs_py38/lib/python3.8/site-packages/bicm/graph_classes.py:1113: RuntimeWarning: invalid value encountered in divide\n",
      "  probs = node_xy * neighbor_xy / ((1 + node_xy) * (1 + neighbor_xy))\n",
      "\n",
      "100%|███████████████████████████████████████████████████████████████████████████████████████████████████████████████████████| 66/66 [00:00<00:00, 523.83it/s]\u001b[A\n"
     ]
    },
    {
     "name": "stdout",
     "output_type": "stream",
     "text": [
      "No V-motifs will be validated. Try increasing alpha\n"
     ]
    },
    {
     "name": "stderr",
     "output_type": "stream",
     "text": [
      "\n",
      "  0%|                                                                                                                                  | 0/6 [00:00<?, ?it/s]\u001b[A/home/sarawalk/sdgs_py38/lib/python3.8/site-packages/bicm/graph_classes.py:1113: RuntimeWarning: invalid value encountered in divide\n",
      "  probs = node_xy * neighbor_xy / ((1 + node_xy) * (1 + neighbor_xy))\n",
      "/home/sarawalk/sdgs_py38/lib/python3.8/site-packages/bicm/graph_classes.py:1113: RuntimeWarning: invalid value encountered in divide\n",
      "  probs = node_xy * neighbor_xy / ((1 + node_xy) * (1 + neighbor_xy))\n",
      "/home/sarawalk/sdgs_py38/lib/python3.8/site-packages/bicm/graph_classes.py:1113: RuntimeWarning: invalid value encountered in divide\n",
      "  probs = node_xy * neighbor_xy / ((1 + node_xy) * (1 + neighbor_xy))\n",
      "/home/sarawalk/sdgs_py38/lib/python3.8/site-packages/bicm/graph_classes.py:1113: RuntimeWarning: invalid value encountered in divide\n",
      "  probs = node_xy * neighbor_xy / ((1 + node_xy) * (1 + neighbor_xy))\n",
      "100%|██████████████████████████████████████████████████████████████████████████████████████████████████████████████████████████| 6/6 [00:00<00:00, 61.51it/s]"
     ]
    },
    {
     "name": "stdout",
     "output_type": "stream",
     "text": [
      "No V-motifs will be validated. Try increasing alpha\n",
      "\n",
      "                      WARNING: this system has at least a node that is disconnected or connected to all nodes\n",
      "                       of the opposite layer. This may cause some convergence issues.\n",
      "                      Please use the full mode providing a biadjacency matrix or an edgelist,\n",
      "                       or clean your data from these nodes. \n",
      "                      \n",
      "2022 Utilities SDG 15: Life on Land\r"
     ]
    },
    {
     "name": "stderr",
     "output_type": "stream",
     "text": [
      "\n",
      "\n",
      "  0%|                                                                                                                                 | 0/66 [00:00<?, ?it/s]\u001b[A/home/sarawalk/sdgs_py38/lib/python3.8/site-packages/bicm/graph_classes.py:1113: RuntimeWarning: invalid value encountered in divide\n",
      "  probs = node_xy * neighbor_xy / ((1 + node_xy) * (1 + neighbor_xy))\n",
      "/home/sarawalk/sdgs_py38/lib/python3.8/site-packages/bicm/graph_classes.py:1113: RuntimeWarning: invalid value encountered in divide\n",
      "  probs = node_xy * neighbor_xy / ((1 + node_xy) * (1 + neighbor_xy))\n",
      "/home/sarawalk/sdgs_py38/lib/python3.8/site-packages/bicm/graph_classes.py:1113: RuntimeWarning: invalid value encountered in divide\n",
      "  probs = node_xy * neighbor_xy / ((1 + node_xy) * (1 + neighbor_xy))\n",
      "/home/sarawalk/sdgs_py38/lib/python3.8/site-packages/bicm/graph_classes.py:1113: RuntimeWarning: invalid value encountered in divide\n",
      "  probs = node_xy * neighbor_xy / ((1 + node_xy) * (1 + neighbor_xy))\n",
      "\n",
      "100%|███████████████████████████████████████████████████████████████████████████████████████████████████████████████████████| 66/66 [00:00<00:00, 511.58it/s]\u001b[A\n"
     ]
    },
    {
     "name": "stdout",
     "output_type": "stream",
     "text": [
      "No V-motifs will be validated. Try increasing alpha\n"
     ]
    },
    {
     "name": "stderr",
     "output_type": "stream",
     "text": [
      "\n",
      "  0%|                                                                                                                                  | 0/6 [00:00<?, ?it/s]\u001b[A/home/sarawalk/sdgs_py38/lib/python3.8/site-packages/bicm/graph_classes.py:1113: RuntimeWarning: invalid value encountered in divide\n",
      "  probs = node_xy * neighbor_xy / ((1 + node_xy) * (1 + neighbor_xy))\n",
      "/home/sarawalk/sdgs_py38/lib/python3.8/site-packages/bicm/graph_classes.py:1113: RuntimeWarning: invalid value encountered in divide\n",
      "  probs = node_xy * neighbor_xy / ((1 + node_xy) * (1 + neighbor_xy))\n",
      "/home/sarawalk/sdgs_py38/lib/python3.8/site-packages/bicm/graph_classes.py:1113: RuntimeWarning: invalid value encountered in divide\n",
      "  probs = node_xy * neighbor_xy / ((1 + node_xy) * (1 + neighbor_xy))\n",
      "/home/sarawalk/sdgs_py38/lib/python3.8/site-packages/bicm/graph_classes.py:1113: RuntimeWarning: invalid value encountered in divide\n",
      "  probs = node_xy * neighbor_xy / ((1 + node_xy) * (1 + neighbor_xy))\n",
      "100%|██████████████████████████████████████████████████████████████████████████████████████████████████████████████████████████| 6/6 [00:00<00:00, 66.14it/s]"
     ]
    },
    {
     "name": "stdout",
     "output_type": "stream",
     "text": [
      "No V-motifs will be validated. Try increasing alpha\n",
      "\n",
      "                      WARNING: this system has at least a node that is disconnected or connected to all nodes\n",
      "                       of the opposite layer. This may cause some convergence issues.\n",
      "                      Please use the full mode providing a biadjacency matrix or an edgelist,\n",
      "                       or clean your data from these nodes. \n",
      "                      \n",
      "2022 Utilities SDG 16: Peace, Justice, and Strong Institutions\r"
     ]
    },
    {
     "name": "stderr",
     "output_type": "stream",
     "text": [
      "\n",
      "\n",
      "  0%|                                                                                                                                 | 0/66 [00:00<?, ?it/s]\u001b[A/home/sarawalk/sdgs_py38/lib/python3.8/site-packages/bicm/graph_classes.py:1113: RuntimeWarning: invalid value encountered in divide\n",
      "  probs = node_xy * neighbor_xy / ((1 + node_xy) * (1 + neighbor_xy))\n",
      "/home/sarawalk/sdgs_py38/lib/python3.8/site-packages/bicm/graph_classes.py:1113: RuntimeWarning: invalid value encountered in divide\n",
      "  probs = node_xy * neighbor_xy / ((1 + node_xy) * (1 + neighbor_xy))\n",
      "/home/sarawalk/sdgs_py38/lib/python3.8/site-packages/bicm/graph_classes.py:1113: RuntimeWarning: invalid value encountered in divide\n",
      "  probs = node_xy * neighbor_xy / ((1 + node_xy) * (1 + neighbor_xy))\n",
      "/home/sarawalk/sdgs_py38/lib/python3.8/site-packages/bicm/graph_classes.py:1113: RuntimeWarning: invalid value encountered in divide\n",
      "  probs = node_xy * neighbor_xy / ((1 + node_xy) * (1 + neighbor_xy))\n",
      "\n",
      "100%|███████████████████████████████████████████████████████████████████████████████████████████████████████████████████████| 66/66 [00:00<00:00, 567.23it/s]\u001b[A\n"
     ]
    },
    {
     "name": "stdout",
     "output_type": "stream",
     "text": [
      "No V-motifs will be validated. Try increasing alpha\n"
     ]
    },
    {
     "name": "stderr",
     "output_type": "stream",
     "text": [
      "\n",
      "  0%|                                                                                                                                  | 0/6 [00:00<?, ?it/s]\u001b[A/home/sarawalk/sdgs_py38/lib/python3.8/site-packages/bicm/graph_classes.py:1113: RuntimeWarning: invalid value encountered in divide\n",
      "  probs = node_xy * neighbor_xy / ((1 + node_xy) * (1 + neighbor_xy))\n",
      "/home/sarawalk/sdgs_py38/lib/python3.8/site-packages/bicm/graph_classes.py:1113: RuntimeWarning: invalid value encountered in divide\n",
      "  probs = node_xy * neighbor_xy / ((1 + node_xy) * (1 + neighbor_xy))\n",
      "/home/sarawalk/sdgs_py38/lib/python3.8/site-packages/bicm/graph_classes.py:1113: RuntimeWarning: invalid value encountered in divide\n",
      "  probs = node_xy * neighbor_xy / ((1 + node_xy) * (1 + neighbor_xy))\n",
      "/home/sarawalk/sdgs_py38/lib/python3.8/site-packages/bicm/graph_classes.py:1113: RuntimeWarning: invalid value encountered in divide\n",
      "  probs = node_xy * neighbor_xy / ((1 + node_xy) * (1 + neighbor_xy))\n",
      "100%|██████████████████████████████████████████████████████████████████████████████████████████████████████████████████████████| 6/6 [00:00<00:00, 69.49it/s]"
     ]
    },
    {
     "name": "stdout",
     "output_type": "stream",
     "text": [
      "No V-motifs will be validated. Try increasing alpha\n",
      "\n",
      "                      WARNING: this system has at least a node that is disconnected or connected to all nodes\n",
      "                       of the opposite layer. This may cause some convergence issues.\n",
      "                      Please use the full mode providing a biadjacency matrix or an edgelist,\n",
      "                       or clean your data from these nodes. \n",
      "                      \n",
      "2022 Utilities SDG 17: Partnerships for the Goals\r"
     ]
    },
    {
     "name": "stderr",
     "output_type": "stream",
     "text": [
      "\n",
      "\n",
      "  0%|                                                                                                                                 | 0/66 [00:00<?, ?it/s]\u001b[A/home/sarawalk/sdgs_py38/lib/python3.8/site-packages/bicm/graph_classes.py:1113: RuntimeWarning: invalid value encountered in divide\n",
      "  probs = node_xy * neighbor_xy / ((1 + node_xy) * (1 + neighbor_xy))\n",
      "/home/sarawalk/sdgs_py38/lib/python3.8/site-packages/bicm/graph_classes.py:1113: RuntimeWarning: invalid value encountered in divide\n",
      "  probs = node_xy * neighbor_xy / ((1 + node_xy) * (1 + neighbor_xy))\n",
      "/home/sarawalk/sdgs_py38/lib/python3.8/site-packages/bicm/graph_classes.py:1113: RuntimeWarning: invalid value encountered in divide\n",
      "  probs = node_xy * neighbor_xy / ((1 + node_xy) * (1 + neighbor_xy))\n",
      "/home/sarawalk/sdgs_py38/lib/python3.8/site-packages/bicm/graph_classes.py:1113: RuntimeWarning: invalid value encountered in divide\n",
      "  probs = node_xy * neighbor_xy / ((1 + node_xy) * (1 + neighbor_xy))\n",
      "\n",
      "100%|███████████████████████████████████████████████████████████████████████████████████████████████████████████████████████| 66/66 [00:00<00:00, 470.49it/s]\u001b[A\n"
     ]
    },
    {
     "name": "stdout",
     "output_type": "stream",
     "text": [
      "No V-motifs will be validated. Try increasing alpha\n"
     ]
    },
    {
     "name": "stderr",
     "output_type": "stream",
     "text": [
      "\n",
      "  0%|                                                                                                                                  | 0/6 [00:00<?, ?it/s]\u001b[A/home/sarawalk/sdgs_py38/lib/python3.8/site-packages/bicm/graph_classes.py:1113: RuntimeWarning: invalid value encountered in divide\n",
      "  probs = node_xy * neighbor_xy / ((1 + node_xy) * (1 + neighbor_xy))\n",
      "/home/sarawalk/sdgs_py38/lib/python3.8/site-packages/bicm/graph_classes.py:1113: RuntimeWarning: invalid value encountered in divide\n",
      "  probs = node_xy * neighbor_xy / ((1 + node_xy) * (1 + neighbor_xy))\n",
      "/home/sarawalk/sdgs_py38/lib/python3.8/site-packages/bicm/graph_classes.py:1113: RuntimeWarning: invalid value encountered in divide\n",
      "  probs = node_xy * neighbor_xy / ((1 + node_xy) * (1 + neighbor_xy))\n",
      "/home/sarawalk/sdgs_py38/lib/python3.8/site-packages/bicm/graph_classes.py:1113: RuntimeWarning: invalid value encountered in divide\n",
      "  probs = node_xy * neighbor_xy / ((1 + node_xy) * (1 + neighbor_xy))\n",
      "100%|██████████████████████████████████████████████████████████████████████████████████████████████████████████████████████████| 6/6 [00:00<00:00, 68.54it/s]"
     ]
    },
    {
     "name": "stdout",
     "output_type": "stream",
     "text": [
      "No V-motifs will be validated. Try increasing alpha\n",
      "\n",
      "                      WARNING: this system has at least a node that is disconnected or connected to all nodes\n",
      "                       of the opposite layer. This may cause some convergence issues.\n",
      "                      Please use the full mode providing a biadjacency matrix or an edgelist,\n",
      "                       or clean your data from these nodes. \n",
      "                      \n",
      "2023 Energy SDG 1: No Poverty\r"
     ]
    },
    {
     "name": "stderr",
     "output_type": "stream",
     "text": [
      "\n",
      "\n",
      "  0%|                                                                                                                                 | 0/69 [00:00<?, ?it/s]\u001b[A/home/sarawalk/sdgs_py38/lib/python3.8/site-packages/bicm/graph_classes.py:1113: RuntimeWarning: invalid value encountered in divide\n",
      "  probs = node_xy * neighbor_xy / ((1 + node_xy) * (1 + neighbor_xy))\n",
      "/home/sarawalk/sdgs_py38/lib/python3.8/site-packages/bicm/graph_classes.py:1113: RuntimeWarning: invalid value encountered in divide\n",
      "  probs = node_xy * neighbor_xy / ((1 + node_xy) * (1 + neighbor_xy))\n",
      "/home/sarawalk/sdgs_py38/lib/python3.8/site-packages/bicm/graph_classes.py:1113: RuntimeWarning: invalid value encountered in divide\n",
      "  probs = node_xy * neighbor_xy / ((1 + node_xy) * (1 + neighbor_xy))\n",
      "/home/sarawalk/sdgs_py38/lib/python3.8/site-packages/bicm/graph_classes.py:1113: RuntimeWarning: invalid value encountered in divide\n",
      "  probs = node_xy * neighbor_xy / ((1 + node_xy) * (1 + neighbor_xy))\n",
      "\n",
      "100%|███████████████████████████████████████████████████████████████████████████████████████████████████████████████████████| 69/69 [00:00<00:00, 565.01it/s]\u001b[A\n"
     ]
    },
    {
     "name": "stdout",
     "output_type": "stream",
     "text": [
      "No V-motifs will be validated. Try increasing alpha\n"
     ]
    },
    {
     "name": "stderr",
     "output_type": "stream",
     "text": [
      "\n",
      "  0%|                                                                                                                                  | 0/8 [00:00<?, ?it/s]\u001b[A/home/sarawalk/sdgs_py38/lib/python3.8/site-packages/bicm/graph_classes.py:1113: RuntimeWarning: invalid value encountered in divide\n",
      "  probs = node_xy * neighbor_xy / ((1 + node_xy) * (1 + neighbor_xy))\n",
      "/home/sarawalk/sdgs_py38/lib/python3.8/site-packages/bicm/graph_classes.py:1113: RuntimeWarning: invalid value encountered in divide\n",
      "  probs = node_xy * neighbor_xy / ((1 + node_xy) * (1 + neighbor_xy))\n",
      "/home/sarawalk/sdgs_py38/lib/python3.8/site-packages/bicm/graph_classes.py:1113: RuntimeWarning: invalid value encountered in divide\n",
      "  probs = node_xy * neighbor_xy / ((1 + node_xy) * (1 + neighbor_xy))\n",
      "/home/sarawalk/sdgs_py38/lib/python3.8/site-packages/bicm/graph_classes.py:1113: RuntimeWarning: invalid value encountered in divide\n",
      "  probs = node_xy * neighbor_xy / ((1 + node_xy) * (1 + neighbor_xy))\n",
      "\n",
      "100%|██████████████████████████████████████████████████████████████████████████████████████████████████████████████████████████| 8/8 [00:00<00:00, 57.97it/s]\u001b[A\n"
     ]
    },
    {
     "name": "stdout",
     "output_type": "stream",
     "text": [
      "No V-motifs will be validated. Try increasing alpha\n",
      "\n",
      "                      WARNING: this system has at least a node that is disconnected or connected to all nodes\n",
      "                       of the opposite layer. This may cause some convergence issues.\n",
      "                      Please use the full mode providing a biadjacency matrix or an edgelist,\n",
      "                       or clean your data from these nodes. \n",
      "                      \n",
      "2023 Energy SDG 2: Zero Hunger\r"
     ]
    },
    {
     "name": "stderr",
     "output_type": "stream",
     "text": [
      "\n",
      "  0%|                                                                                                                                 | 0/69 [00:00<?, ?it/s]\u001b[A/home/sarawalk/sdgs_py38/lib/python3.8/site-packages/bicm/graph_classes.py:1113: RuntimeWarning: invalid value encountered in divide\n",
      "  probs = node_xy * neighbor_xy / ((1 + node_xy) * (1 + neighbor_xy))\n",
      "/home/sarawalk/sdgs_py38/lib/python3.8/site-packages/bicm/graph_classes.py:1113: RuntimeWarning: invalid value encountered in divide\n",
      "  probs = node_xy * neighbor_xy / ((1 + node_xy) * (1 + neighbor_xy))\n",
      "/home/sarawalk/sdgs_py38/lib/python3.8/site-packages/bicm/graph_classes.py:1113: RuntimeWarning: invalid value encountered in divide\n",
      "  probs = node_xy * neighbor_xy / ((1 + node_xy) * (1 + neighbor_xy))\n",
      "/home/sarawalk/sdgs_py38/lib/python3.8/site-packages/bicm/graph_classes.py:1113: RuntimeWarning: invalid value encountered in divide\n",
      "  probs = node_xy * neighbor_xy / ((1 + node_xy) * (1 + neighbor_xy))\n",
      "\n",
      "100%|███████████████████████████████████████████████████████████████████████████████████████████████████████████████████████| 69/69 [00:00<00:00, 509.44it/s]\u001b[A\n"
     ]
    },
    {
     "name": "stdout",
     "output_type": "stream",
     "text": [
      "No V-motifs will be validated. Try increasing alpha\n"
     ]
    },
    {
     "name": "stderr",
     "output_type": "stream",
     "text": [
      "\n",
      "  0%|                                                                                                                                  | 0/8 [00:00<?, ?it/s]\u001b[A/home/sarawalk/sdgs_py38/lib/python3.8/site-packages/bicm/graph_classes.py:1113: RuntimeWarning: invalid value encountered in divide\n",
      "  probs = node_xy * neighbor_xy / ((1 + node_xy) * (1 + neighbor_xy))\n",
      "/home/sarawalk/sdgs_py38/lib/python3.8/site-packages/bicm/graph_classes.py:1113: RuntimeWarning: invalid value encountered in divide\n",
      "  probs = node_xy * neighbor_xy / ((1 + node_xy) * (1 + neighbor_xy))\n",
      "/home/sarawalk/sdgs_py38/lib/python3.8/site-packages/bicm/graph_classes.py:1113: RuntimeWarning: invalid value encountered in divide\n",
      "  probs = node_xy * neighbor_xy / ((1 + node_xy) * (1 + neighbor_xy))\n",
      "/home/sarawalk/sdgs_py38/lib/python3.8/site-packages/bicm/graph_classes.py:1113: RuntimeWarning: invalid value encountered in divide\n",
      "  probs = node_xy * neighbor_xy / ((1 + node_xy) * (1 + neighbor_xy))\n",
      "\n",
      "100%|██████████████████████████████████████████████████████████████████████████████████████████████████████████████████████████| 8/8 [00:00<00:00, 63.79it/s]\u001b[A\n"
     ]
    },
    {
     "name": "stdout",
     "output_type": "stream",
     "text": [
      "No V-motifs will be validated. Try increasing alpha\n",
      "\n",
      "                      WARNING: this system has at least a node that is disconnected or connected to all nodes\n",
      "                       of the opposite layer. This may cause some convergence issues.\n",
      "                      Please use the full mode providing a biadjacency matrix or an edgelist,\n",
      "                       or clean your data from these nodes. \n",
      "                      \n",
      "2023 Energy SDG 3: Good Health and Well-being\r"
     ]
    },
    {
     "name": "stderr",
     "output_type": "stream",
     "text": [
      "\n",
      "  0%|                                                                                                                                 | 0/69 [00:00<?, ?it/s]\u001b[A/home/sarawalk/sdgs_py38/lib/python3.8/site-packages/bicm/graph_classes.py:1113: RuntimeWarning: invalid value encountered in divide\n",
      "  probs = node_xy * neighbor_xy / ((1 + node_xy) * (1 + neighbor_xy))\n",
      "/home/sarawalk/sdgs_py38/lib/python3.8/site-packages/bicm/graph_classes.py:1113: RuntimeWarning: invalid value encountered in divide\n",
      "  probs = node_xy * neighbor_xy / ((1 + node_xy) * (1 + neighbor_xy))\n",
      "/home/sarawalk/sdgs_py38/lib/python3.8/site-packages/bicm/graph_classes.py:1113: RuntimeWarning: invalid value encountered in divide\n",
      "  probs = node_xy * neighbor_xy / ((1 + node_xy) * (1 + neighbor_xy))\n",
      "/home/sarawalk/sdgs_py38/lib/python3.8/site-packages/bicm/graph_classes.py:1113: RuntimeWarning: invalid value encountered in divide\n",
      "  probs = node_xy * neighbor_xy / ((1 + node_xy) * (1 + neighbor_xy))\n",
      "\n",
      "100%|███████████████████████████████████████████████████████████████████████████████████████████████████████████████████████| 69/69 [00:00<00:00, 527.27it/s]\u001b[A\n"
     ]
    },
    {
     "name": "stdout",
     "output_type": "stream",
     "text": [
      "No V-motifs will be validated. Try increasing alpha\n"
     ]
    },
    {
     "name": "stderr",
     "output_type": "stream",
     "text": [
      "\n",
      "  0%|                                                                                                                                  | 0/8 [00:00<?, ?it/s]\u001b[A/home/sarawalk/sdgs_py38/lib/python3.8/site-packages/bicm/graph_classes.py:1113: RuntimeWarning: invalid value encountered in divide\n",
      "  probs = node_xy * neighbor_xy / ((1 + node_xy) * (1 + neighbor_xy))\n",
      "/home/sarawalk/sdgs_py38/lib/python3.8/site-packages/bicm/graph_classes.py:1113: RuntimeWarning: invalid value encountered in divide\n",
      "  probs = node_xy * neighbor_xy / ((1 + node_xy) * (1 + neighbor_xy))\n",
      "/home/sarawalk/sdgs_py38/lib/python3.8/site-packages/bicm/graph_classes.py:1113: RuntimeWarning: invalid value encountered in divide\n",
      "  probs = node_xy * neighbor_xy / ((1 + node_xy) * (1 + neighbor_xy))\n",
      "/home/sarawalk/sdgs_py38/lib/python3.8/site-packages/bicm/graph_classes.py:1113: RuntimeWarning: invalid value encountered in divide\n",
      "  probs = node_xy * neighbor_xy / ((1 + node_xy) * (1 + neighbor_xy))\n",
      "\n",
      "100%|██████████████████████████████████████████████████████████████████████████████████████████████████████████████████████████| 8/8 [00:00<00:00, 57.35it/s]\u001b[A\n"
     ]
    },
    {
     "name": "stdout",
     "output_type": "stream",
     "text": [
      "No V-motifs will be validated. Try increasing alpha\n",
      "\n",
      "                      WARNING: this system has at least a node that is disconnected or connected to all nodes\n",
      "                       of the opposite layer. This may cause some convergence issues.\n",
      "                      Please use the full mode providing a biadjacency matrix or an edgelist,\n",
      "                       or clean your data from these nodes. \n",
      "                      \n",
      "2023 Energy SDG 4: Quality Education\r"
     ]
    },
    {
     "name": "stderr",
     "output_type": "stream",
     "text": [
      "\n",
      "  0%|                                                                                                                                 | 0/69 [00:00<?, ?it/s]\u001b[A/home/sarawalk/sdgs_py38/lib/python3.8/site-packages/bicm/graph_classes.py:1113: RuntimeWarning: invalid value encountered in divide\n",
      "  probs = node_xy * neighbor_xy / ((1 + node_xy) * (1 + neighbor_xy))\n",
      "/home/sarawalk/sdgs_py38/lib/python3.8/site-packages/bicm/graph_classes.py:1113: RuntimeWarning: invalid value encountered in divide\n",
      "  probs = node_xy * neighbor_xy / ((1 + node_xy) * (1 + neighbor_xy))\n",
      "/home/sarawalk/sdgs_py38/lib/python3.8/site-packages/bicm/graph_classes.py:1113: RuntimeWarning: invalid value encountered in divide\n",
      "  probs = node_xy * neighbor_xy / ((1 + node_xy) * (1 + neighbor_xy))\n",
      "/home/sarawalk/sdgs_py38/lib/python3.8/site-packages/bicm/graph_classes.py:1113: RuntimeWarning: invalid value encountered in divide\n",
      "  probs = node_xy * neighbor_xy / ((1 + node_xy) * (1 + neighbor_xy))\n",
      "\n",
      "100%|███████████████████████████████████████████████████████████████████████████████████████████████████████████████████████| 69/69 [00:00<00:00, 475.57it/s]\u001b[A\n"
     ]
    },
    {
     "name": "stdout",
     "output_type": "stream",
     "text": [
      "No V-motifs will be validated. Try increasing alpha\n"
     ]
    },
    {
     "name": "stderr",
     "output_type": "stream",
     "text": [
      "\n",
      "  0%|                                                                                                                                  | 0/8 [00:00<?, ?it/s]\u001b[A/home/sarawalk/sdgs_py38/lib/python3.8/site-packages/bicm/graph_classes.py:1113: RuntimeWarning: invalid value encountered in divide\n",
      "  probs = node_xy * neighbor_xy / ((1 + node_xy) * (1 + neighbor_xy))\n",
      "/home/sarawalk/sdgs_py38/lib/python3.8/site-packages/bicm/graph_classes.py:1113: RuntimeWarning: invalid value encountered in divide\n",
      "  probs = node_xy * neighbor_xy / ((1 + node_xy) * (1 + neighbor_xy))\n",
      "/home/sarawalk/sdgs_py38/lib/python3.8/site-packages/bicm/graph_classes.py:1113: RuntimeWarning: invalid value encountered in divide\n",
      "  probs = node_xy * neighbor_xy / ((1 + node_xy) * (1 + neighbor_xy))\n",
      "/home/sarawalk/sdgs_py38/lib/python3.8/site-packages/bicm/graph_classes.py:1113: RuntimeWarning: invalid value encountered in divide\n",
      "  probs = node_xy * neighbor_xy / ((1 + node_xy) * (1 + neighbor_xy))\n",
      "\n",
      "100%|██████████████████████████████████████████████████████████████████████████████████████████████████████████████████████████| 8/8 [00:00<00:00, 53.48it/s]\u001b[A\n"
     ]
    },
    {
     "name": "stdout",
     "output_type": "stream",
     "text": [
      "No V-motifs will be validated. Try increasing alpha\n",
      "\n",
      "                      WARNING: this system has at least a node that is disconnected or connected to all nodes\n",
      "                       of the opposite layer. This may cause some convergence issues.\n",
      "                      Please use the full mode providing a biadjacency matrix or an edgelist,\n",
      "                       or clean your data from these nodes. \n",
      "                      \n",
      "2023 Energy SDG 5: Gender Equality\r"
     ]
    },
    {
     "name": "stderr",
     "output_type": "stream",
     "text": [
      "\n",
      "  0%|                                                                                                                                 | 0/69 [00:00<?, ?it/s]\u001b[A/home/sarawalk/sdgs_py38/lib/python3.8/site-packages/bicm/graph_classes.py:1113: RuntimeWarning: invalid value encountered in divide\n",
      "  probs = node_xy * neighbor_xy / ((1 + node_xy) * (1 + neighbor_xy))\n",
      "/home/sarawalk/sdgs_py38/lib/python3.8/site-packages/bicm/graph_classes.py:1113: RuntimeWarning: invalid value encountered in divide\n",
      "  probs = node_xy * neighbor_xy / ((1 + node_xy) * (1 + neighbor_xy))\n",
      "/home/sarawalk/sdgs_py38/lib/python3.8/site-packages/bicm/graph_classes.py:1113: RuntimeWarning: invalid value encountered in divide\n",
      "  probs = node_xy * neighbor_xy / ((1 + node_xy) * (1 + neighbor_xy))\n",
      "/home/sarawalk/sdgs_py38/lib/python3.8/site-packages/bicm/graph_classes.py:1113: RuntimeWarning: invalid value encountered in divide\n",
      "  probs = node_xy * neighbor_xy / ((1 + node_xy) * (1 + neighbor_xy))\n",
      "\n",
      "100%|███████████████████████████████████████████████████████████████████████████████████████████████████████████████████████| 69/69 [00:00<00:00, 531.49it/s]\u001b[A\n"
     ]
    },
    {
     "name": "stdout",
     "output_type": "stream",
     "text": [
      "No V-motifs will be validated. Try increasing alpha\n"
     ]
    },
    {
     "name": "stderr",
     "output_type": "stream",
     "text": [
      "\n",
      "  0%|                                                                                                                                  | 0/8 [00:00<?, ?it/s]\u001b[A/home/sarawalk/sdgs_py38/lib/python3.8/site-packages/bicm/graph_classes.py:1113: RuntimeWarning: invalid value encountered in divide\n",
      "  probs = node_xy * neighbor_xy / ((1 + node_xy) * (1 + neighbor_xy))\n",
      "/home/sarawalk/sdgs_py38/lib/python3.8/site-packages/bicm/graph_classes.py:1113: RuntimeWarning: invalid value encountered in divide\n",
      "  probs = node_xy * neighbor_xy / ((1 + node_xy) * (1 + neighbor_xy))\n",
      "/home/sarawalk/sdgs_py38/lib/python3.8/site-packages/bicm/graph_classes.py:1113: RuntimeWarning: invalid value encountered in divide\n",
      "  probs = node_xy * neighbor_xy / ((1 + node_xy) * (1 + neighbor_xy))\n",
      "/home/sarawalk/sdgs_py38/lib/python3.8/site-packages/bicm/graph_classes.py:1113: RuntimeWarning: invalid value encountered in divide\n",
      "  probs = node_xy * neighbor_xy / ((1 + node_xy) * (1 + neighbor_xy))\n",
      "\n",
      "100%|██████████████████████████████████████████████████████████████████████████████████████████████████████████████████████████| 8/8 [00:00<00:00, 66.89it/s]\u001b[A"
     ]
    },
    {
     "name": "stdout",
     "output_type": "stream",
     "text": [
      "No V-motifs will be validated. Try increasing alpha\n",
      "\n",
      "                      WARNING: this system has at least a node that is disconnected or connected to all nodes\n",
      "                       of the opposite layer. This may cause some convergence issues.\n",
      "                      Please use the full mode providing a biadjacency matrix or an edgelist,\n",
      "                       or clean your data from these nodes. \n",
      "                      \n",
      "2023 Energy SDG 6: Clean Water and Sanitation\r"
     ]
    },
    {
     "name": "stderr",
     "output_type": "stream",
     "text": [
      "\n",
      "\n",
      "  0%|                                                                                                                                 | 0/69 [00:00<?, ?it/s]\u001b[A/home/sarawalk/sdgs_py38/lib/python3.8/site-packages/bicm/graph_classes.py:1113: RuntimeWarning: invalid value encountered in divide\n",
      "  probs = node_xy * neighbor_xy / ((1 + node_xy) * (1 + neighbor_xy))\n",
      "/home/sarawalk/sdgs_py38/lib/python3.8/site-packages/bicm/graph_classes.py:1113: RuntimeWarning: invalid value encountered in divide\n",
      "  probs = node_xy * neighbor_xy / ((1 + node_xy) * (1 + neighbor_xy))\n",
      "/home/sarawalk/sdgs_py38/lib/python3.8/site-packages/bicm/graph_classes.py:1113: RuntimeWarning: invalid value encountered in divide\n",
      "  probs = node_xy * neighbor_xy / ((1 + node_xy) * (1 + neighbor_xy))\n",
      "/home/sarawalk/sdgs_py38/lib/python3.8/site-packages/bicm/graph_classes.py:1113: RuntimeWarning: invalid value encountered in divide\n",
      "  probs = node_xy * neighbor_xy / ((1 + node_xy) * (1 + neighbor_xy))\n",
      "\n",
      "100%|███████████████████████████████████████████████████████████████████████████████████████████████████████████████████████| 69/69 [00:00<00:00, 563.23it/s]\u001b[A\n"
     ]
    },
    {
     "name": "stdout",
     "output_type": "stream",
     "text": [
      "No V-motifs will be validated. Try increasing alpha\n"
     ]
    },
    {
     "name": "stderr",
     "output_type": "stream",
     "text": [
      "\n",
      "  0%|                                                                                                                                  | 0/8 [00:00<?, ?it/s]\u001b[A/home/sarawalk/sdgs_py38/lib/python3.8/site-packages/bicm/graph_classes.py:1113: RuntimeWarning: invalid value encountered in divide\n",
      "  probs = node_xy * neighbor_xy / ((1 + node_xy) * (1 + neighbor_xy))\n",
      "/home/sarawalk/sdgs_py38/lib/python3.8/site-packages/bicm/graph_classes.py:1113: RuntimeWarning: invalid value encountered in divide\n",
      "  probs = node_xy * neighbor_xy / ((1 + node_xy) * (1 + neighbor_xy))\n",
      "/home/sarawalk/sdgs_py38/lib/python3.8/site-packages/bicm/graph_classes.py:1113: RuntimeWarning: invalid value encountered in divide\n",
      "  probs = node_xy * neighbor_xy / ((1 + node_xy) * (1 + neighbor_xy))\n",
      "/home/sarawalk/sdgs_py38/lib/python3.8/site-packages/bicm/graph_classes.py:1113: RuntimeWarning: invalid value encountered in divide\n",
      "  probs = node_xy * neighbor_xy / ((1 + node_xy) * (1 + neighbor_xy))\n",
      "\n",
      "100%|██████████████████████████████████████████████████████████████████████████████████████████████████████████████████████████| 8/8 [00:00<00:00, 63.80it/s]\u001b[A\n"
     ]
    },
    {
     "name": "stdout",
     "output_type": "stream",
     "text": [
      "No V-motifs will be validated. Try increasing alpha\n",
      "\n",
      "                      WARNING: this system has at least a node that is disconnected or connected to all nodes\n",
      "                       of the opposite layer. This may cause some convergence issues.\n",
      "                      Please use the full mode providing a biadjacency matrix or an edgelist,\n",
      "                       or clean your data from these nodes. \n",
      "                      \n",
      "2023 Energy SDG 7: Affordable and Clean Energy\r"
     ]
    },
    {
     "name": "stderr",
     "output_type": "stream",
     "text": [
      "\n",
      "  0%|                                                                                                                                 | 0/69 [00:00<?, ?it/s]\u001b[A/home/sarawalk/sdgs_py38/lib/python3.8/site-packages/bicm/graph_classes.py:1113: RuntimeWarning: invalid value encountered in divide\n",
      "  probs = node_xy * neighbor_xy / ((1 + node_xy) * (1 + neighbor_xy))\n",
      "/home/sarawalk/sdgs_py38/lib/python3.8/site-packages/bicm/graph_classes.py:1113: RuntimeWarning: invalid value encountered in divide\n",
      "  probs = node_xy * neighbor_xy / ((1 + node_xy) * (1 + neighbor_xy))\n",
      "/home/sarawalk/sdgs_py38/lib/python3.8/site-packages/bicm/graph_classes.py:1113: RuntimeWarning: invalid value encountered in divide\n",
      "  probs = node_xy * neighbor_xy / ((1 + node_xy) * (1 + neighbor_xy))\n",
      "/home/sarawalk/sdgs_py38/lib/python3.8/site-packages/bicm/graph_classes.py:1113: RuntimeWarning: invalid value encountered in divide\n",
      "  probs = node_xy * neighbor_xy / ((1 + node_xy) * (1 + neighbor_xy))\n",
      "\n",
      "100%|███████████████████████████████████████████████████████████████████████████████████████████████████████████████████████| 69/69 [00:00<00:00, 546.47it/s]\u001b[A\n"
     ]
    },
    {
     "name": "stdout",
     "output_type": "stream",
     "text": [
      "No V-motifs will be validated. Try increasing alpha\n"
     ]
    },
    {
     "name": "stderr",
     "output_type": "stream",
     "text": [
      "\n",
      "  0%|                                                                                                                                  | 0/8 [00:00<?, ?it/s]\u001b[A/home/sarawalk/sdgs_py38/lib/python3.8/site-packages/bicm/graph_classes.py:1113: RuntimeWarning: invalid value encountered in divide\n",
      "  probs = node_xy * neighbor_xy / ((1 + node_xy) * (1 + neighbor_xy))\n",
      "/home/sarawalk/sdgs_py38/lib/python3.8/site-packages/bicm/graph_classes.py:1113: RuntimeWarning: invalid value encountered in divide\n",
      "  probs = node_xy * neighbor_xy / ((1 + node_xy) * (1 + neighbor_xy))\n",
      "/home/sarawalk/sdgs_py38/lib/python3.8/site-packages/bicm/graph_classes.py:1113: RuntimeWarning: invalid value encountered in divide\n",
      "  probs = node_xy * neighbor_xy / ((1 + node_xy) * (1 + neighbor_xy))\n",
      "/home/sarawalk/sdgs_py38/lib/python3.8/site-packages/bicm/graph_classes.py:1113: RuntimeWarning: invalid value encountered in divide\n",
      "  probs = node_xy * neighbor_xy / ((1 + node_xy) * (1 + neighbor_xy))\n",
      "\n",
      "100%|██████████████████████████████████████████████████████████████████████████████████████████████████████████████████████████| 8/8 [00:00<00:00, 54.89it/s]\u001b[A\n"
     ]
    },
    {
     "name": "stdout",
     "output_type": "stream",
     "text": [
      "No V-motifs will be validated. Try increasing alpha\n",
      "\n",
      "                      WARNING: this system has at least a node that is disconnected or connected to all nodes\n",
      "                       of the opposite layer. This may cause some convergence issues.\n",
      "                      Please use the full mode providing a biadjacency matrix or an edgelist,\n",
      "                       or clean your data from these nodes. \n",
      "                      \n",
      "2023 Energy SDG 8: Decent Work and Economic Growth\r"
     ]
    },
    {
     "name": "stderr",
     "output_type": "stream",
     "text": [
      "\n",
      "  0%|                                                                                                                                 | 0/69 [00:00<?, ?it/s]\u001b[A/home/sarawalk/sdgs_py38/lib/python3.8/site-packages/bicm/graph_classes.py:1113: RuntimeWarning: invalid value encountered in divide\n",
      "  probs = node_xy * neighbor_xy / ((1 + node_xy) * (1 + neighbor_xy))\n",
      "/home/sarawalk/sdgs_py38/lib/python3.8/site-packages/bicm/graph_classes.py:1113: RuntimeWarning: invalid value encountered in divide\n",
      "  probs = node_xy * neighbor_xy / ((1 + node_xy) * (1 + neighbor_xy))\n",
      "/home/sarawalk/sdgs_py38/lib/python3.8/site-packages/bicm/graph_classes.py:1113: RuntimeWarning: invalid value encountered in divide\n",
      "  probs = node_xy * neighbor_xy / ((1 + node_xy) * (1 + neighbor_xy))\n",
      "/home/sarawalk/sdgs_py38/lib/python3.8/site-packages/bicm/graph_classes.py:1113: RuntimeWarning: invalid value encountered in divide\n",
      "  probs = node_xy * neighbor_xy / ((1 + node_xy) * (1 + neighbor_xy))\n",
      "\n",
      "100%|███████████████████████████████████████████████████████████████████████████████████████████████████████████████████████| 69/69 [00:00<00:00, 521.85it/s]\u001b[A\n"
     ]
    },
    {
     "name": "stdout",
     "output_type": "stream",
     "text": [
      "No V-motifs will be validated. Try increasing alpha\n"
     ]
    },
    {
     "name": "stderr",
     "output_type": "stream",
     "text": [
      "\n",
      "  0%|                                                                                                                                  | 0/8 [00:00<?, ?it/s]\u001b[A/home/sarawalk/sdgs_py38/lib/python3.8/site-packages/bicm/graph_classes.py:1113: RuntimeWarning: invalid value encountered in divide\n",
      "  probs = node_xy * neighbor_xy / ((1 + node_xy) * (1 + neighbor_xy))\n",
      "/home/sarawalk/sdgs_py38/lib/python3.8/site-packages/bicm/graph_classes.py:1113: RuntimeWarning: invalid value encountered in divide\n",
      "  probs = node_xy * neighbor_xy / ((1 + node_xy) * (1 + neighbor_xy))\n",
      "/home/sarawalk/sdgs_py38/lib/python3.8/site-packages/bicm/graph_classes.py:1113: RuntimeWarning: invalid value encountered in divide\n",
      "  probs = node_xy * neighbor_xy / ((1 + node_xy) * (1 + neighbor_xy))\n",
      "/home/sarawalk/sdgs_py38/lib/python3.8/site-packages/bicm/graph_classes.py:1113: RuntimeWarning: invalid value encountered in divide\n",
      "  probs = node_xy * neighbor_xy / ((1 + node_xy) * (1 + neighbor_xy))\n",
      "\n",
      "100%|██████████████████████████████████████████████████████████████████████████████████████████████████████████████████████████| 8/8 [00:00<00:00, 59.95it/s]\u001b[A\n"
     ]
    },
    {
     "name": "stdout",
     "output_type": "stream",
     "text": [
      "No V-motifs will be validated. Try increasing alpha\n",
      "\n",
      "                      WARNING: this system has at least a node that is disconnected or connected to all nodes\n",
      "                       of the opposite layer. This may cause some convergence issues.\n",
      "                      Please use the full mode providing a biadjacency matrix or an edgelist,\n",
      "                       or clean your data from these nodes. \n",
      "                      \n",
      "2023 Energy SDG 9: Industry, Innovation, and Infrastructure\r"
     ]
    },
    {
     "name": "stderr",
     "output_type": "stream",
     "text": [
      "\n",
      "  0%|                                                                                                                                 | 0/69 [00:00<?, ?it/s]\u001b[A/home/sarawalk/sdgs_py38/lib/python3.8/site-packages/bicm/graph_classes.py:1113: RuntimeWarning: invalid value encountered in divide\n",
      "  probs = node_xy * neighbor_xy / ((1 + node_xy) * (1 + neighbor_xy))\n",
      "/home/sarawalk/sdgs_py38/lib/python3.8/site-packages/bicm/graph_classes.py:1113: RuntimeWarning: invalid value encountered in divide\n",
      "  probs = node_xy * neighbor_xy / ((1 + node_xy) * (1 + neighbor_xy))\n",
      "/home/sarawalk/sdgs_py38/lib/python3.8/site-packages/bicm/graph_classes.py:1113: RuntimeWarning: invalid value encountered in divide\n",
      "  probs = node_xy * neighbor_xy / ((1 + node_xy) * (1 + neighbor_xy))\n",
      "/home/sarawalk/sdgs_py38/lib/python3.8/site-packages/bicm/graph_classes.py:1113: RuntimeWarning: invalid value encountered in divide\n",
      "  probs = node_xy * neighbor_xy / ((1 + node_xy) * (1 + neighbor_xy))\n",
      "\n",
      "100%|███████████████████████████████████████████████████████████████████████████████████████████████████████████████████████| 69/69 [00:00<00:00, 472.01it/s]\u001b[A\n"
     ]
    },
    {
     "name": "stdout",
     "output_type": "stream",
     "text": [
      "No V-motifs will be validated. Try increasing alpha\n"
     ]
    },
    {
     "name": "stderr",
     "output_type": "stream",
     "text": [
      "\n",
      "  0%|                                                                                                                                  | 0/8 [00:00<?, ?it/s]\u001b[A/home/sarawalk/sdgs_py38/lib/python3.8/site-packages/bicm/graph_classes.py:1113: RuntimeWarning: invalid value encountered in divide\n",
      "  probs = node_xy * neighbor_xy / ((1 + node_xy) * (1 + neighbor_xy))\n",
      "/home/sarawalk/sdgs_py38/lib/python3.8/site-packages/bicm/graph_classes.py:1113: RuntimeWarning: invalid value encountered in divide\n",
      "  probs = node_xy * neighbor_xy / ((1 + node_xy) * (1 + neighbor_xy))\n",
      "/home/sarawalk/sdgs_py38/lib/python3.8/site-packages/bicm/graph_classes.py:1113: RuntimeWarning: invalid value encountered in divide\n",
      "  probs = node_xy * neighbor_xy / ((1 + node_xy) * (1 + neighbor_xy))\n",
      "\n",
      "/home/sarawalk/sdgs_py38/lib/python3.8/site-packages/bicm/graph_classes.py:1113: RuntimeWarning: invalid value encountered in divide\n",
      "  probs = node_xy * neighbor_xy / ((1 + node_xy) * (1 + neighbor_xy))\n",
      "100%|██████████████████████████████████████████████████████████████████████████████████████████████████████████████████████████| 8/8 [00:00<00:00, 57.12it/s]\u001b[A\n"
     ]
    },
    {
     "name": "stdout",
     "output_type": "stream",
     "text": [
      "No V-motifs will be validated. Try increasing alpha\n",
      "\n",
      "                      WARNING: this system has at least a node that is disconnected or connected to all nodes\n",
      "                       of the opposite layer. This may cause some convergence issues.\n",
      "                      Please use the full mode providing a biadjacency matrix or an edgelist,\n",
      "                       or clean your data from these nodes. \n",
      "                      \n",
      "2023 Energy SDG 10: Reduced Inequality\r"
     ]
    },
    {
     "name": "stderr",
     "output_type": "stream",
     "text": [
      "\n",
      "  0%|                                                                                                                                 | 0/69 [00:00<?, ?it/s]\u001b[A/home/sarawalk/sdgs_py38/lib/python3.8/site-packages/bicm/graph_classes.py:1113: RuntimeWarning: invalid value encountered in divide\n",
      "  probs = node_xy * neighbor_xy / ((1 + node_xy) * (1 + neighbor_xy))\n",
      "/home/sarawalk/sdgs_py38/lib/python3.8/site-packages/bicm/graph_classes.py:1113: RuntimeWarning: invalid value encountered in divide\n",
      "  probs = node_xy * neighbor_xy / ((1 + node_xy) * (1 + neighbor_xy))\n",
      "/home/sarawalk/sdgs_py38/lib/python3.8/site-packages/bicm/graph_classes.py:1113: RuntimeWarning: invalid value encountered in divide\n",
      "  probs = node_xy * neighbor_xy / ((1 + node_xy) * (1 + neighbor_xy))\n",
      "/home/sarawalk/sdgs_py38/lib/python3.8/site-packages/bicm/graph_classes.py:1113: RuntimeWarning: invalid value encountered in divide\n",
      "  probs = node_xy * neighbor_xy / ((1 + node_xy) * (1 + neighbor_xy))\n",
      "\n",
      "100%|███████████████████████████████████████████████████████████████████████████████████████████████████████████████████████| 69/69 [00:00<00:00, 387.30it/s]\u001b[A\n"
     ]
    },
    {
     "name": "stdout",
     "output_type": "stream",
     "text": [
      "No V-motifs will be validated. Try increasing alpha\n"
     ]
    },
    {
     "name": "stderr",
     "output_type": "stream",
     "text": [
      "\n",
      "  0%|                                                                                                                                  | 0/8 [00:00<?, ?it/s]\u001b[A/home/sarawalk/sdgs_py38/lib/python3.8/site-packages/bicm/graph_classes.py:1113: RuntimeWarning: invalid value encountered in divide\n",
      "  probs = node_xy * neighbor_xy / ((1 + node_xy) * (1 + neighbor_xy))\n",
      "/home/sarawalk/sdgs_py38/lib/python3.8/site-packages/bicm/graph_classes.py:1113: RuntimeWarning: invalid value encountered in divide\n",
      "  probs = node_xy * neighbor_xy / ((1 + node_xy) * (1 + neighbor_xy))\n",
      "/home/sarawalk/sdgs_py38/lib/python3.8/site-packages/bicm/graph_classes.py:1113: RuntimeWarning: invalid value encountered in divide\n",
      "  probs = node_xy * neighbor_xy / ((1 + node_xy) * (1 + neighbor_xy))\n",
      "/home/sarawalk/sdgs_py38/lib/python3.8/site-packages/bicm/graph_classes.py:1113: RuntimeWarning: invalid value encountered in divide\n",
      "  probs = node_xy * neighbor_xy / ((1 + node_xy) * (1 + neighbor_xy))\n",
      "\n",
      "100%|██████████████████████████████████████████████████████████████████████████████████████████████████████████████████████████| 8/8 [00:00<00:00, 60.69it/s]\u001b[A\n"
     ]
    },
    {
     "name": "stdout",
     "output_type": "stream",
     "text": [
      "No V-motifs will be validated. Try increasing alpha\n",
      "\n",
      "                      WARNING: this system has at least a node that is disconnected or connected to all nodes\n",
      "                       of the opposite layer. This may cause some convergence issues.\n",
      "                      Please use the full mode providing a biadjacency matrix or an edgelist,\n",
      "                       or clean your data from these nodes. \n",
      "                      \n",
      "2023 Energy SDG 11: Sustainable Cities and Communities\r"
     ]
    },
    {
     "name": "stderr",
     "output_type": "stream",
     "text": [
      "\n",
      "  0%|                                                                                                                                 | 0/69 [00:00<?, ?it/s]\u001b[A/home/sarawalk/sdgs_py38/lib/python3.8/site-packages/bicm/graph_classes.py:1113: RuntimeWarning: invalid value encountered in divide\n",
      "  probs = node_xy * neighbor_xy / ((1 + node_xy) * (1 + neighbor_xy))\n",
      "/home/sarawalk/sdgs_py38/lib/python3.8/site-packages/bicm/graph_classes.py:1113: RuntimeWarning: invalid value encountered in divide\n",
      "  probs = node_xy * neighbor_xy / ((1 + node_xy) * (1 + neighbor_xy))\n",
      "/home/sarawalk/sdgs_py38/lib/python3.8/site-packages/bicm/graph_classes.py:1113: RuntimeWarning: invalid value encountered in divide\n",
      "  probs = node_xy * neighbor_xy / ((1 + node_xy) * (1 + neighbor_xy))\n",
      "/home/sarawalk/sdgs_py38/lib/python3.8/site-packages/bicm/graph_classes.py:1113: RuntimeWarning: invalid value encountered in divide\n",
      "  probs = node_xy * neighbor_xy / ((1 + node_xy) * (1 + neighbor_xy))\n",
      "\n",
      "100%|███████████████████████████████████████████████████████████████████████████████████████████████████████████████████████| 69/69 [00:00<00:00, 524.38it/s]\u001b[A\n"
     ]
    },
    {
     "name": "stdout",
     "output_type": "stream",
     "text": [
      "No V-motifs will be validated. Try increasing alpha\n"
     ]
    },
    {
     "name": "stderr",
     "output_type": "stream",
     "text": [
      "\n",
      "  0%|                                                                                                                                  | 0/8 [00:00<?, ?it/s]\u001b[A/home/sarawalk/sdgs_py38/lib/python3.8/site-packages/bicm/graph_classes.py:1113: RuntimeWarning: invalid value encountered in divide\n",
      "  probs = node_xy * neighbor_xy / ((1 + node_xy) * (1 + neighbor_xy))\n",
      "/home/sarawalk/sdgs_py38/lib/python3.8/site-packages/bicm/graph_classes.py:1113: RuntimeWarning: invalid value encountered in divide\n",
      "  probs = node_xy * neighbor_xy / ((1 + node_xy) * (1 + neighbor_xy))\n",
      "/home/sarawalk/sdgs_py38/lib/python3.8/site-packages/bicm/graph_classes.py:1113: RuntimeWarning: invalid value encountered in divide\n",
      "  probs = node_xy * neighbor_xy / ((1 + node_xy) * (1 + neighbor_xy))\n",
      "/home/sarawalk/sdgs_py38/lib/python3.8/site-packages/bicm/graph_classes.py:1113: RuntimeWarning: invalid value encountered in divide\n",
      "  probs = node_xy * neighbor_xy / ((1 + node_xy) * (1 + neighbor_xy))\n",
      "\n",
      "100%|██████████████████████████████████████████████████████████████████████████████████████████████████████████████████████████| 8/8 [00:00<00:00, 54.90it/s]\u001b[A\n"
     ]
    },
    {
     "name": "stdout",
     "output_type": "stream",
     "text": [
      "No V-motifs will be validated. Try increasing alpha\n",
      "\n",
      "                      WARNING: this system has at least a node that is disconnected or connected to all nodes\n",
      "                       of the opposite layer. This may cause some convergence issues.\n",
      "                      Please use the full mode providing a biadjacency matrix or an edgelist,\n",
      "                       or clean your data from these nodes. \n",
      "                      \n",
      "2023 Energy SDG 12: Responsible Consumption and Production\r"
     ]
    },
    {
     "name": "stderr",
     "output_type": "stream",
     "text": [
      "\n",
      "  0%|                                                                                                                                 | 0/69 [00:00<?, ?it/s]\u001b[A/home/sarawalk/sdgs_py38/lib/python3.8/site-packages/bicm/graph_classes.py:1113: RuntimeWarning: invalid value encountered in divide\n",
      "  probs = node_xy * neighbor_xy / ((1 + node_xy) * (1 + neighbor_xy))\n",
      "/home/sarawalk/sdgs_py38/lib/python3.8/site-packages/bicm/graph_classes.py:1113: RuntimeWarning: invalid value encountered in divide\n",
      "  probs = node_xy * neighbor_xy / ((1 + node_xy) * (1 + neighbor_xy))\n",
      "/home/sarawalk/sdgs_py38/lib/python3.8/site-packages/bicm/graph_classes.py:1113: RuntimeWarning: invalid value encountered in divide\n",
      "  probs = node_xy * neighbor_xy / ((1 + node_xy) * (1 + neighbor_xy))\n",
      "/home/sarawalk/sdgs_py38/lib/python3.8/site-packages/bicm/graph_classes.py:1113: RuntimeWarning: invalid value encountered in divide\n",
      "  probs = node_xy * neighbor_xy / ((1 + node_xy) * (1 + neighbor_xy))\n",
      "\n",
      "100%|███████████████████████████████████████████████████████████████████████████████████████████████████████████████████████| 69/69 [00:00<00:00, 508.19it/s]\u001b[A\n"
     ]
    },
    {
     "name": "stdout",
     "output_type": "stream",
     "text": [
      "No V-motifs will be validated. Try increasing alpha\n"
     ]
    },
    {
     "name": "stderr",
     "output_type": "stream",
     "text": [
      "\n",
      "  0%|                                                                                                                                  | 0/8 [00:00<?, ?it/s]\u001b[A/home/sarawalk/sdgs_py38/lib/python3.8/site-packages/bicm/graph_classes.py:1113: RuntimeWarning: invalid value encountered in divide\n",
      "  probs = node_xy * neighbor_xy / ((1 + node_xy) * (1 + neighbor_xy))\n",
      "/home/sarawalk/sdgs_py38/lib/python3.8/site-packages/bicm/graph_classes.py:1113: RuntimeWarning: invalid value encountered in divide\n",
      "  probs = node_xy * neighbor_xy / ((1 + node_xy) * (1 + neighbor_xy))\n",
      "/home/sarawalk/sdgs_py38/lib/python3.8/site-packages/bicm/graph_classes.py:1113: RuntimeWarning: invalid value encountered in divide\n",
      "  probs = node_xy * neighbor_xy / ((1 + node_xy) * (1 + neighbor_xy))\n",
      "/home/sarawalk/sdgs_py38/lib/python3.8/site-packages/bicm/graph_classes.py:1113: RuntimeWarning: invalid value encountered in divide\n",
      "  probs = node_xy * neighbor_xy / ((1 + node_xy) * (1 + neighbor_xy))\n",
      "100%|██████████████████████████████████████████████████████████████████████████████████████████████████████████████████████████| 8/8 [00:00<00:00, 80.99it/s]"
     ]
    },
    {
     "name": "stdout",
     "output_type": "stream",
     "text": [
      "No V-motifs will be validated. Try increasing alpha\n",
      "\n",
      "                      WARNING: this system has at least a node that is disconnected or connected to all nodes\n",
      "                       of the opposite layer. This may cause some convergence issues.\n",
      "                      Please use the full mode providing a biadjacency matrix or an edgelist,\n",
      "                       or clean your data from these nodes. \n",
      "                      \n",
      "2023 Energy SDG 13: Climate Action\r"
     ]
    },
    {
     "name": "stderr",
     "output_type": "stream",
     "text": [
      "\n",
      "\n",
      "  0%|                                                                                                                                 | 0/69 [00:00<?, ?it/s]\u001b[A/home/sarawalk/sdgs_py38/lib/python3.8/site-packages/bicm/graph_classes.py:1113: RuntimeWarning: invalid value encountered in divide\n",
      "  probs = node_xy * neighbor_xy / ((1 + node_xy) * (1 + neighbor_xy))\n",
      "/home/sarawalk/sdgs_py38/lib/python3.8/site-packages/bicm/graph_classes.py:1113: RuntimeWarning: invalid value encountered in divide\n",
      "  probs = node_xy * neighbor_xy / ((1 + node_xy) * (1 + neighbor_xy))\n",
      "/home/sarawalk/sdgs_py38/lib/python3.8/site-packages/bicm/graph_classes.py:1113: RuntimeWarning: invalid value encountered in divide\n",
      "  probs = node_xy * neighbor_xy / ((1 + node_xy) * (1 + neighbor_xy))\n",
      "/home/sarawalk/sdgs_py38/lib/python3.8/site-packages/bicm/graph_classes.py:1113: RuntimeWarning: invalid value encountered in divide\n",
      "  probs = node_xy * neighbor_xy / ((1 + node_xy) * (1 + neighbor_xy))\n",
      "100%|███████████████████████████████████████████████████████████████████████████████████████████████████████████████████████| 69/69 [00:00<00:00, 699.80it/s]"
     ]
    },
    {
     "name": "stdout",
     "output_type": "stream",
     "text": [
      "No V-motifs will be validated. Try increasing alpha\n"
     ]
    },
    {
     "name": "stderr",
     "output_type": "stream",
     "text": [
      "\n",
      "\n",
      "  0%|                                                                                                                                  | 0/8 [00:00<?, ?it/s]\u001b[A/home/sarawalk/sdgs_py38/lib/python3.8/site-packages/bicm/graph_classes.py:1113: RuntimeWarning: invalid value encountered in divide\n",
      "  probs = node_xy * neighbor_xy / ((1 + node_xy) * (1 + neighbor_xy))\n",
      "/home/sarawalk/sdgs_py38/lib/python3.8/site-packages/bicm/graph_classes.py:1113: RuntimeWarning: invalid value encountered in divide\n",
      "  probs = node_xy * neighbor_xy / ((1 + node_xy) * (1 + neighbor_xy))\n",
      "100%|█████████████████████████████████████████████████████████████████████████████████████████████████████████████████████████| 8/8 [00:00<00:00, 116.37it/s]/home/sarawalk/sdgs_py38/lib/python3.8/site-packages/bicm/graph_classes.py:1113: RuntimeWarning: invalid value encountered in divide\n",
      "  probs = node_xy * neighbor_xy / ((1 + node_xy) * (1 + neighbor_xy))\n",
      "/home/sarawalk/sdgs_py38/lib/python3.8/site-packages/bicm/graph_classes.py:1113: RuntimeWarning: invalid value encountered in divide\n",
      "  probs = node_xy * neighbor_xy / ((1 + node_xy) * (1 + neighbor_xy))\n"
     ]
    },
    {
     "name": "stdout",
     "output_type": "stream",
     "text": [
      "No V-motifs will be validated. Try increasing alpha\n",
      "\n",
      "                      WARNING: this system has at least a node that is disconnected or connected to all nodes\n",
      "                       of the opposite layer. This may cause some convergence issues.\n",
      "                      Please use the full mode providing a biadjacency matrix or an edgelist,\n",
      "                       or clean your data from these nodes. \n",
      "                      \n",
      "2023 Energy SDG 14: Life Below Water\r"
     ]
    },
    {
     "name": "stderr",
     "output_type": "stream",
     "text": [
      "\n",
      "\n",
      "  0%|                                                                                                                                 | 0/69 [00:00<?, ?it/s]\u001b[A/home/sarawalk/sdgs_py38/lib/python3.8/site-packages/bicm/graph_classes.py:1113: RuntimeWarning: invalid value encountered in divide\n",
      "  probs = node_xy * neighbor_xy / ((1 + node_xy) * (1 + neighbor_xy))\n",
      "/home/sarawalk/sdgs_py38/lib/python3.8/site-packages/bicm/graph_classes.py:1113: RuntimeWarning: invalid value encountered in divide\n",
      "  probs = node_xy * neighbor_xy / ((1 + node_xy) * (1 + neighbor_xy))\n",
      "/home/sarawalk/sdgs_py38/lib/python3.8/site-packages/bicm/graph_classes.py:1113: RuntimeWarning: invalid value encountered in divide\n",
      "  probs = node_xy * neighbor_xy / ((1 + node_xy) * (1 + neighbor_xy))\n",
      "/home/sarawalk/sdgs_py38/lib/python3.8/site-packages/bicm/graph_classes.py:1113: RuntimeWarning: invalid value encountered in divide\n",
      "  probs = node_xy * neighbor_xy / ((1 + node_xy) * (1 + neighbor_xy))\n",
      "100%|███████████████████████████████████████████████████████████████████████████████████████████████████████████████████████| 69/69 [00:00<00:00, 710.22it/s]\n"
     ]
    },
    {
     "name": "stdout",
     "output_type": "stream",
     "text": [
      "No V-motifs will be validated. Try increasing alpha\n"
     ]
    },
    {
     "name": "stderr",
     "output_type": "stream",
     "text": [
      "\n",
      "  0%|                                                                                                                                  | 0/8 [00:00<?, ?it/s]\u001b[A/home/sarawalk/sdgs_py38/lib/python3.8/site-packages/bicm/graph_classes.py:1113: RuntimeWarning: invalid value encountered in divide\n",
      "  probs = node_xy * neighbor_xy / ((1 + node_xy) * (1 + neighbor_xy))\n",
      "/home/sarawalk/sdgs_py38/lib/python3.8/site-packages/bicm/graph_classes.py:1113: RuntimeWarning: invalid value encountered in divide\n",
      "  probs = node_xy * neighbor_xy / ((1 + node_xy) * (1 + neighbor_xy))\n",
      "/home/sarawalk/sdgs_py38/lib/python3.8/site-packages/bicm/graph_classes.py:1113: RuntimeWarning: invalid value encountered in divide\n",
      "  probs = node_xy * neighbor_xy / ((1 + node_xy) * (1 + neighbor_xy))\n",
      "/home/sarawalk/sdgs_py38/lib/python3.8/site-packages/bicm/graph_classes.py:1113: RuntimeWarning: invalid value encountered in divide\n",
      "  probs = node_xy * neighbor_xy / ((1 + node_xy) * (1 + neighbor_xy))\n",
      "\n",
      "100%|██████████████████████████████████████████████████████████████████████████████████████████████████████████████████████████| 8/8 [00:00<00:00, 61.06it/s]\u001b[A\n"
     ]
    },
    {
     "name": "stdout",
     "output_type": "stream",
     "text": [
      "No V-motifs will be validated. Try increasing alpha\n",
      "\n",
      "                      WARNING: this system has at least a node that is disconnected or connected to all nodes\n",
      "                       of the opposite layer. This may cause some convergence issues.\n",
      "                      Please use the full mode providing a biadjacency matrix or an edgelist,\n",
      "                       or clean your data from these nodes. \n",
      "                      \n",
      "2023 Energy SDG 15: Life on Land\r"
     ]
    },
    {
     "name": "stderr",
     "output_type": "stream",
     "text": [
      "\n",
      "  0%|                                                                                                                                 | 0/69 [00:00<?, ?it/s]\u001b[A/home/sarawalk/sdgs_py38/lib/python3.8/site-packages/bicm/graph_classes.py:1113: RuntimeWarning: invalid value encountered in divide\n",
      "  probs = node_xy * neighbor_xy / ((1 + node_xy) * (1 + neighbor_xy))\n",
      "/home/sarawalk/sdgs_py38/lib/python3.8/site-packages/bicm/graph_classes.py:1113: RuntimeWarning: invalid value encountered in divide\n",
      "  probs = node_xy * neighbor_xy / ((1 + node_xy) * (1 + neighbor_xy))\n",
      "/home/sarawalk/sdgs_py38/lib/python3.8/site-packages/bicm/graph_classes.py:1113: RuntimeWarning: invalid value encountered in divide\n",
      "  probs = node_xy * neighbor_xy / ((1 + node_xy) * (1 + neighbor_xy))\n",
      "/home/sarawalk/sdgs_py38/lib/python3.8/site-packages/bicm/graph_classes.py:1113: RuntimeWarning: invalid value encountered in divide\n",
      "  probs = node_xy * neighbor_xy / ((1 + node_xy) * (1 + neighbor_xy))\n",
      "100%|███████████████████████████████████████████████████████████████████████████████████████████████████████████████████████| 69/69 [00:00<00:00, 722.75it/s]\n"
     ]
    },
    {
     "name": "stdout",
     "output_type": "stream",
     "text": [
      "No V-motifs will be validated. Try increasing alpha\n"
     ]
    },
    {
     "name": "stderr",
     "output_type": "stream",
     "text": [
      "\n",
      "  0%|                                                                                                                                  | 0/8 [00:00<?, ?it/s]\u001b[A/home/sarawalk/sdgs_py38/lib/python3.8/site-packages/bicm/graph_classes.py:1113: RuntimeWarning: invalid value encountered in divide\n",
      "  probs = node_xy * neighbor_xy / ((1 + node_xy) * (1 + neighbor_xy))\n",
      "/home/sarawalk/sdgs_py38/lib/python3.8/site-packages/bicm/graph_classes.py:1113: RuntimeWarning: invalid value encountered in divide\n",
      "  probs = node_xy * neighbor_xy / ((1 + node_xy) * (1 + neighbor_xy))\n",
      "/home/sarawalk/sdgs_py38/lib/python3.8/site-packages/bicm/graph_classes.py:1113: RuntimeWarning: invalid value encountered in divide\n",
      "  probs = node_xy * neighbor_xy / ((1 + node_xy) * (1 + neighbor_xy))\n",
      "/home/sarawalk/sdgs_py38/lib/python3.8/site-packages/bicm/graph_classes.py:1113: RuntimeWarning: invalid value encountered in divide\n",
      "  probs = node_xy * neighbor_xy / ((1 + node_xy) * (1 + neighbor_xy))\n",
      "\n",
      "100%|██████████████████████████████████████████████████████████████████████████████████████████████████████████████████████████| 8/8 [00:00<00:00, 67.54it/s]\u001b[A"
     ]
    },
    {
     "name": "stdout",
     "output_type": "stream",
     "text": [
      "No V-motifs will be validated. Try increasing alpha\n",
      "\n",
      "                      WARNING: this system has at least a node that is disconnected or connected to all nodes\n",
      "                       of the opposite layer. This may cause some convergence issues.\n",
      "                      Please use the full mode providing a biadjacency matrix or an edgelist,\n",
      "                       or clean your data from these nodes. \n",
      "                      \n",
      "2023 Energy SDG 16: Peace, Justice, and Strong Institutions\r"
     ]
    },
    {
     "name": "stderr",
     "output_type": "stream",
     "text": [
      "\n",
      "\n",
      "  0%|                                                                                                                                 | 0/69 [00:00<?, ?it/s]\u001b[A/home/sarawalk/sdgs_py38/lib/python3.8/site-packages/bicm/graph_classes.py:1113: RuntimeWarning: invalid value encountered in divide\n",
      "  probs = node_xy * neighbor_xy / ((1 + node_xy) * (1 + neighbor_xy))\n",
      "/home/sarawalk/sdgs_py38/lib/python3.8/site-packages/bicm/graph_classes.py:1113: RuntimeWarning: invalid value encountered in divide\n",
      "  probs = node_xy * neighbor_xy / ((1 + node_xy) * (1 + neighbor_xy))\n",
      "/home/sarawalk/sdgs_py38/lib/python3.8/site-packages/bicm/graph_classes.py:1113: RuntimeWarning: invalid value encountered in divide\n",
      "  probs = node_xy * neighbor_xy / ((1 + node_xy) * (1 + neighbor_xy))\n",
      "/home/sarawalk/sdgs_py38/lib/python3.8/site-packages/bicm/graph_classes.py:1113: RuntimeWarning: invalid value encountered in divide\n",
      "  probs = node_xy * neighbor_xy / ((1 + node_xy) * (1 + neighbor_xy))\n",
      "\n",
      "100%|███████████████████████████████████████████████████████████████████████████████████████████████████████████████████████| 69/69 [00:00<00:00, 502.25it/s]\u001b[A\n"
     ]
    },
    {
     "name": "stdout",
     "output_type": "stream",
     "text": [
      "No V-motifs will be validated. Try increasing alpha\n"
     ]
    },
    {
     "name": "stderr",
     "output_type": "stream",
     "text": [
      "\n",
      "  0%|                                                                                                                                  | 0/8 [00:00<?, ?it/s]\u001b[A/home/sarawalk/sdgs_py38/lib/python3.8/site-packages/bicm/graph_classes.py:1113: RuntimeWarning: invalid value encountered in divide\n",
      "  probs = node_xy * neighbor_xy / ((1 + node_xy) * (1 + neighbor_xy))\n",
      "/home/sarawalk/sdgs_py38/lib/python3.8/site-packages/bicm/graph_classes.py:1113: RuntimeWarning: invalid value encountered in divide\n",
      "  probs = node_xy * neighbor_xy / ((1 + node_xy) * (1 + neighbor_xy))\n",
      "/home/sarawalk/sdgs_py38/lib/python3.8/site-packages/bicm/graph_classes.py:1113: RuntimeWarning: invalid value encountered in divide\n",
      "  probs = node_xy * neighbor_xy / ((1 + node_xy) * (1 + neighbor_xy))\n",
      "/home/sarawalk/sdgs_py38/lib/python3.8/site-packages/bicm/graph_classes.py:1113: RuntimeWarning: invalid value encountered in divide\n",
      "  probs = node_xy * neighbor_xy / ((1 + node_xy) * (1 + neighbor_xy))\n",
      "\n",
      "100%|██████████████████████████████████████████████████████████████████████████████████████████████████████████████████████████| 8/8 [00:00<00:00, 70.22it/s]\u001b[A"
     ]
    },
    {
     "name": "stdout",
     "output_type": "stream",
     "text": [
      "No V-motifs will be validated. Try increasing alpha\n",
      "\n",
      "                      WARNING: this system has at least a node that is disconnected or connected to all nodes\n",
      "                       of the opposite layer. This may cause some convergence issues.\n",
      "                      Please use the full mode providing a biadjacency matrix or an edgelist,\n",
      "                       or clean your data from these nodes. \n",
      "                      \n",
      "2023 Energy SDG 17: Partnerships for the Goals\r"
     ]
    },
    {
     "name": "stderr",
     "output_type": "stream",
     "text": [
      "\n",
      "\n",
      "  0%|                                                                                                                                 | 0/69 [00:00<?, ?it/s]\u001b[A/home/sarawalk/sdgs_py38/lib/python3.8/site-packages/bicm/graph_classes.py:1113: RuntimeWarning: invalid value encountered in divide\n",
      "  probs = node_xy * neighbor_xy / ((1 + node_xy) * (1 + neighbor_xy))\n",
      "/home/sarawalk/sdgs_py38/lib/python3.8/site-packages/bicm/graph_classes.py:1113: RuntimeWarning: invalid value encountered in divide\n",
      "  probs = node_xy * neighbor_xy / ((1 + node_xy) * (1 + neighbor_xy))\n",
      "/home/sarawalk/sdgs_py38/lib/python3.8/site-packages/bicm/graph_classes.py:1113: RuntimeWarning: invalid value encountered in divide\n",
      "  probs = node_xy * neighbor_xy / ((1 + node_xy) * (1 + neighbor_xy))\n",
      "/home/sarawalk/sdgs_py38/lib/python3.8/site-packages/bicm/graph_classes.py:1113: RuntimeWarning: invalid value encountered in divide\n",
      "  probs = node_xy * neighbor_xy / ((1 + node_xy) * (1 + neighbor_xy))\n",
      "\n",
      "100%|███████████████████████████████████████████████████████████████████████████████████████████████████████████████████████| 69/69 [00:00<00:00, 541.33it/s]\u001b[A\n"
     ]
    },
    {
     "name": "stdout",
     "output_type": "stream",
     "text": [
      "No V-motifs will be validated. Try increasing alpha\n"
     ]
    },
    {
     "name": "stderr",
     "output_type": "stream",
     "text": [
      "\n",
      "  0%|                                                                                                                                  | 0/8 [00:00<?, ?it/s]\u001b[A/home/sarawalk/sdgs_py38/lib/python3.8/site-packages/bicm/graph_classes.py:1113: RuntimeWarning: invalid value encountered in divide\n",
      "  probs = node_xy * neighbor_xy / ((1 + node_xy) * (1 + neighbor_xy))\n",
      "/home/sarawalk/sdgs_py38/lib/python3.8/site-packages/bicm/graph_classes.py:1113: RuntimeWarning: invalid value encountered in divide\n",
      "  probs = node_xy * neighbor_xy / ((1 + node_xy) * (1 + neighbor_xy))\n",
      "/home/sarawalk/sdgs_py38/lib/python3.8/site-packages/bicm/graph_classes.py:1113: RuntimeWarning: invalid value encountered in divide\n",
      "  probs = node_xy * neighbor_xy / ((1 + node_xy) * (1 + neighbor_xy))\n",
      "\n",
      " 62%|████████████████████████████████████████████████████████████████████████████▎                                             | 5/8 [00:00<00:00, 48.86it/s]\u001b[A/home/sarawalk/sdgs_py38/lib/python3.8/site-packages/bicm/graph_classes.py:1113: RuntimeWarning: invalid value encountered in divide\n",
      "  probs = node_xy * neighbor_xy / ((1 + node_xy) * (1 + neighbor_xy))\n",
      "100%|██████████████████████████████████████████████████████████████████████████████████████████████████████████████████████████| 8/8 [00:00<00:00, 54.97it/s]\n"
     ]
    },
    {
     "name": "stdout",
     "output_type": "stream",
     "text": [
      "No V-motifs will be validated. Try increasing alpha\n",
      "\n",
      "                      WARNING: this system has at least a node that is disconnected or connected to all nodes\n",
      "                       of the opposite layer. This may cause some convergence issues.\n",
      "                      Please use the full mode providing a biadjacency matrix or an edgelist,\n",
      "                       or clean your data from these nodes. \n",
      "                      \n",
      "2023 Utilities SDG 1: No Poverty\r"
     ]
    },
    {
     "name": "stderr",
     "output_type": "stream",
     "text": [
      "\n",
      "  0%|                                                                                                                                 | 0/93 [00:00<?, ?it/s]\u001b[A/home/sarawalk/sdgs_py38/lib/python3.8/site-packages/bicm/graph_classes.py:1113: RuntimeWarning: invalid value encountered in divide\n",
      "  probs = node_xy * neighbor_xy / ((1 + node_xy) * (1 + neighbor_xy))\n",
      "/home/sarawalk/sdgs_py38/lib/python3.8/site-packages/bicm/graph_classes.py:1113: RuntimeWarning: invalid value encountered in divide\n",
      "  probs = node_xy * neighbor_xy / ((1 + node_xy) * (1 + neighbor_xy))\n",
      "/home/sarawalk/sdgs_py38/lib/python3.8/site-packages/bicm/graph_classes.py:1113: RuntimeWarning: invalid value encountered in divide\n",
      "  probs = node_xy * neighbor_xy / ((1 + node_xy) * (1 + neighbor_xy))\n",
      "/home/sarawalk/sdgs_py38/lib/python3.8/site-packages/bicm/graph_classes.py:1113: RuntimeWarning: invalid value encountered in divide\n",
      "  probs = node_xy * neighbor_xy / ((1 + node_xy) * (1 + neighbor_xy))\n",
      "\n",
      " 52%|█████████████████████████████████████████████████████████████▍                                                         | 48/93 [00:00<00:00, 437.11it/s]\u001b[A\n",
      "100%|███████████████████████████████████████████████████████████████████████████████████████████████████████████████████████| 93/93 [00:00<00:00, 355.16it/s]\u001b[A\n"
     ]
    },
    {
     "name": "stdout",
     "output_type": "stream",
     "text": [
      "No V-motifs will be validated. Try increasing alpha\n"
     ]
    },
    {
     "name": "stderr",
     "output_type": "stream",
     "text": [
      "\n",
      "  0%|                                                                                                                                  | 0/7 [00:00<?, ?it/s]\u001b[A/home/sarawalk/sdgs_py38/lib/python3.8/site-packages/bicm/graph_classes.py:1113: RuntimeWarning: invalid value encountered in divide\n",
      "  probs = node_xy * neighbor_xy / ((1 + node_xy) * (1 + neighbor_xy))\n",
      "/home/sarawalk/sdgs_py38/lib/python3.8/site-packages/bicm/graph_classes.py:1113: RuntimeWarning: invalid value encountered in divide\n",
      "  probs = node_xy * neighbor_xy / ((1 + node_xy) * (1 + neighbor_xy))\n",
      "/home/sarawalk/sdgs_py38/lib/python3.8/site-packages/bicm/graph_classes.py:1113: RuntimeWarning: invalid value encountered in divide\n",
      "  probs = node_xy * neighbor_xy / ((1 + node_xy) * (1 + neighbor_xy))\n",
      "/home/sarawalk/sdgs_py38/lib/python3.8/site-packages/bicm/graph_classes.py:1113: RuntimeWarning: invalid value encountered in divide\n",
      "  probs = node_xy * neighbor_xy / ((1 + node_xy) * (1 + neighbor_xy))\n",
      "\n",
      "100%|██████████████████████████████████████████████████████████████████████████████████████████████████████████████████████████| 7/7 [00:00<00:00, 39.33it/s]\u001b[A\n"
     ]
    },
    {
     "name": "stdout",
     "output_type": "stream",
     "text": [
      "No V-motifs will be validated. Try increasing alpha\n",
      "\n",
      "                      WARNING: this system has at least a node that is disconnected or connected to all nodes\n",
      "                       of the opposite layer. This may cause some convergence issues.\n",
      "                      Please use the full mode providing a biadjacency matrix or an edgelist,\n",
      "                       or clean your data from these nodes. \n",
      "                      \n",
      "2023 Utilities SDG 3: Good Health and Well-being\r"
     ]
    },
    {
     "name": "stderr",
     "output_type": "stream",
     "text": [
      "\n",
      "  0%|                                                                                                                                 | 0/93 [00:00<?, ?it/s]\u001b[A/home/sarawalk/sdgs_py38/lib/python3.8/site-packages/bicm/graph_classes.py:1113: RuntimeWarning: invalid value encountered in divide\n",
      "  probs = node_xy * neighbor_xy / ((1 + node_xy) * (1 + neighbor_xy))\n",
      "/home/sarawalk/sdgs_py38/lib/python3.8/site-packages/bicm/graph_classes.py:1113: RuntimeWarning: invalid value encountered in divide\n",
      "  probs = node_xy * neighbor_xy / ((1 + node_xy) * (1 + neighbor_xy))\n",
      "/home/sarawalk/sdgs_py38/lib/python3.8/site-packages/bicm/graph_classes.py:1113: RuntimeWarning: invalid value encountered in divide\n",
      "  probs = node_xy * neighbor_xy / ((1 + node_xy) * (1 + neighbor_xy))\n",
      "/home/sarawalk/sdgs_py38/lib/python3.8/site-packages/bicm/graph_classes.py:1113: RuntimeWarning: invalid value encountered in divide\n",
      "  probs = node_xy * neighbor_xy / ((1 + node_xy) * (1 + neighbor_xy))\n",
      "\n",
      " 45%|█████████████████████████████████████████████████████▋                                                                 | 42/93 [00:00<00:00, 378.80it/s]\u001b[A\n",
      "100%|███████████████████████████████████████████████████████████████████████████████████████████████████████████████████████| 93/93 [00:00<00:00, 326.74it/s]\u001b[A\n"
     ]
    },
    {
     "name": "stdout",
     "output_type": "stream",
     "text": [
      "No V-motifs will be validated. Try increasing alpha\n"
     ]
    },
    {
     "name": "stderr",
     "output_type": "stream",
     "text": [
      "\n",
      "  0%|                                                                                                                                  | 0/7 [00:00<?, ?it/s]\u001b[A/home/sarawalk/sdgs_py38/lib/python3.8/site-packages/bicm/graph_classes.py:1113: RuntimeWarning: invalid value encountered in divide\n",
      "  probs = node_xy * neighbor_xy / ((1 + node_xy) * (1 + neighbor_xy))\n",
      "/home/sarawalk/sdgs_py38/lib/python3.8/site-packages/bicm/graph_classes.py:1113: RuntimeWarning: invalid value encountered in divide\n",
      "  probs = node_xy * neighbor_xy / ((1 + node_xy) * (1 + neighbor_xy))\n",
      "/home/sarawalk/sdgs_py38/lib/python3.8/site-packages/bicm/graph_classes.py:1113: RuntimeWarning: invalid value encountered in divide\n",
      "  probs = node_xy * neighbor_xy / ((1 + node_xy) * (1 + neighbor_xy))\n",
      "/home/sarawalk/sdgs_py38/lib/python3.8/site-packages/bicm/graph_classes.py:1113: RuntimeWarning: invalid value encountered in divide\n",
      "  probs = node_xy * neighbor_xy / ((1 + node_xy) * (1 + neighbor_xy))\n",
      "\n",
      "100%|██████████████████████████████████████████████████████████████████████████████████████████████████████████████████████████| 7/7 [00:00<00:00, 44.66it/s]\u001b[A\n"
     ]
    },
    {
     "name": "stdout",
     "output_type": "stream",
     "text": [
      "No V-motifs will be validated. Try increasing alpha\n",
      "\n",
      "                      WARNING: this system has at least a node that is disconnected or connected to all nodes\n",
      "                       of the opposite layer. This may cause some convergence issues.\n",
      "                      Please use the full mode providing a biadjacency matrix or an edgelist,\n",
      "                       or clean your data from these nodes. \n",
      "                      \n",
      "2023 Utilities SDG 4: Quality Education\r"
     ]
    },
    {
     "name": "stderr",
     "output_type": "stream",
     "text": [
      "\n",
      "  0%|                                                                                                                                 | 0/93 [00:00<?, ?it/s]\u001b[A/home/sarawalk/sdgs_py38/lib/python3.8/site-packages/bicm/graph_classes.py:1113: RuntimeWarning: invalid value encountered in divide\n",
      "  probs = node_xy * neighbor_xy / ((1 + node_xy) * (1 + neighbor_xy))\n",
      "/home/sarawalk/sdgs_py38/lib/python3.8/site-packages/bicm/graph_classes.py:1113: RuntimeWarning: invalid value encountered in divide\n",
      "  probs = node_xy * neighbor_xy / ((1 + node_xy) * (1 + neighbor_xy))\n",
      "/home/sarawalk/sdgs_py38/lib/python3.8/site-packages/bicm/graph_classes.py:1113: RuntimeWarning: invalid value encountered in divide\n",
      "  probs = node_xy * neighbor_xy / ((1 + node_xy) * (1 + neighbor_xy))\n",
      "/home/sarawalk/sdgs_py38/lib/python3.8/site-packages/bicm/graph_classes.py:1113: RuntimeWarning: invalid value encountered in divide\n",
      "  probs = node_xy * neighbor_xy / ((1 + node_xy) * (1 + neighbor_xy))\n",
      "\n",
      " 52%|█████████████████████████████████████████████████████████████▍                                                         | 48/93 [00:00<00:00, 413.71it/s]\u001b[A\n",
      "100%|███████████████████████████████████████████████████████████████████████████████████████████████████████████████████████| 93/93 [00:00<00:00, 349.48it/s]\u001b[A\n"
     ]
    },
    {
     "name": "stdout",
     "output_type": "stream",
     "text": [
      "No V-motifs will be validated. Try increasing alpha\n"
     ]
    },
    {
     "name": "stderr",
     "output_type": "stream",
     "text": [
      "\n",
      "  0%|                                                                                                                                  | 0/7 [00:00<?, ?it/s]\u001b[A/home/sarawalk/sdgs_py38/lib/python3.8/site-packages/bicm/graph_classes.py:1113: RuntimeWarning: invalid value encountered in divide\n",
      "  probs = node_xy * neighbor_xy / ((1 + node_xy) * (1 + neighbor_xy))\n",
      "/home/sarawalk/sdgs_py38/lib/python3.8/site-packages/bicm/graph_classes.py:1113: RuntimeWarning: invalid value encountered in divide\n",
      "  probs = node_xy * neighbor_xy / ((1 + node_xy) * (1 + neighbor_xy))\n",
      "/home/sarawalk/sdgs_py38/lib/python3.8/site-packages/bicm/graph_classes.py:1113: RuntimeWarning: invalid value encountered in divide\n",
      "  probs = node_xy * neighbor_xy / ((1 + node_xy) * (1 + neighbor_xy))\n",
      "\n",
      " 57%|█████████████████████████████████████████████████████████████████████▋                                                    | 4/7 [00:00<00:00, 39.81it/s]\u001b[A/home/sarawalk/sdgs_py38/lib/python3.8/site-packages/bicm/graph_classes.py:1113: RuntimeWarning: invalid value encountered in divide\n",
      "  probs = node_xy * neighbor_xy / ((1 + node_xy) * (1 + neighbor_xy))\n",
      "100%|██████████████████████████████████████████████████████████████████████████████████████████████████████████████████████████| 7/7 [00:00<00:00, 42.29it/s]\n"
     ]
    },
    {
     "name": "stdout",
     "output_type": "stream",
     "text": [
      "No V-motifs will be validated. Try increasing alpha\n",
      "\n",
      "                      WARNING: this system has at least a node that is disconnected or connected to all nodes\n",
      "                       of the opposite layer. This may cause some convergence issues.\n",
      "                      Please use the full mode providing a biadjacency matrix or an edgelist,\n",
      "                       or clean your data from these nodes. \n",
      "                      \n",
      "2023 Utilities SDG 5: Gender Equality\r"
     ]
    },
    {
     "name": "stderr",
     "output_type": "stream",
     "text": [
      "\n",
      "  0%|                                                                                                                                 | 0/93 [00:00<?, ?it/s]\u001b[A/home/sarawalk/sdgs_py38/lib/python3.8/site-packages/bicm/graph_classes.py:1113: RuntimeWarning: invalid value encountered in divide\n",
      "  probs = node_xy * neighbor_xy / ((1 + node_xy) * (1 + neighbor_xy))\n",
      "/home/sarawalk/sdgs_py38/lib/python3.8/site-packages/bicm/graph_classes.py:1113: RuntimeWarning: invalid value encountered in divide\n",
      "  probs = node_xy * neighbor_xy / ((1 + node_xy) * (1 + neighbor_xy))\n",
      "/home/sarawalk/sdgs_py38/lib/python3.8/site-packages/bicm/graph_classes.py:1113: RuntimeWarning: invalid value encountered in divide\n",
      "  probs = node_xy * neighbor_xy / ((1 + node_xy) * (1 + neighbor_xy))\n",
      "/home/sarawalk/sdgs_py38/lib/python3.8/site-packages/bicm/graph_classes.py:1113: RuntimeWarning: invalid value encountered in divide\n",
      "  probs = node_xy * neighbor_xy / ((1 + node_xy) * (1 + neighbor_xy))\n",
      "\n",
      " 45%|█████████████████████████████████████████████████████▋                                                                 | 42/93 [00:00<00:00, 412.65it/s]\u001b[A\n",
      "100%|███████████████████████████████████████████████████████████████████████████████████████████████████████████████████████| 93/93 [00:00<00:00, 374.00it/s]\u001b[A\n"
     ]
    },
    {
     "name": "stdout",
     "output_type": "stream",
     "text": [
      "No V-motifs will be validated. Try increasing alpha\n"
     ]
    },
    {
     "name": "stderr",
     "output_type": "stream",
     "text": [
      "\n",
      "  0%|                                                                                                                                  | 0/7 [00:00<?, ?it/s]\u001b[A/home/sarawalk/sdgs_py38/lib/python3.8/site-packages/bicm/graph_classes.py:1113: RuntimeWarning: invalid value encountered in divide\n",
      "  probs = node_xy * neighbor_xy / ((1 + node_xy) * (1 + neighbor_xy))\n",
      "/home/sarawalk/sdgs_py38/lib/python3.8/site-packages/bicm/graph_classes.py:1113: RuntimeWarning: invalid value encountered in divide\n",
      "  probs = node_xy * neighbor_xy / ((1 + node_xy) * (1 + neighbor_xy))\n",
      "/home/sarawalk/sdgs_py38/lib/python3.8/site-packages/bicm/graph_classes.py:1113: RuntimeWarning: invalid value encountered in divide\n",
      "  probs = node_xy * neighbor_xy / ((1 + node_xy) * (1 + neighbor_xy))\n",
      "\n",
      " 71%|███████████████████████████████████████████████████████████████████████████████████████▏                                  | 5/7 [00:00<00:00, 46.29it/s]\u001b[A/home/sarawalk/sdgs_py38/lib/python3.8/site-packages/bicm/graph_classes.py:1113: RuntimeWarning: invalid value encountered in divide\n",
      "  probs = node_xy * neighbor_xy / ((1 + node_xy) * (1 + neighbor_xy))\n",
      "100%|██████████████████████████████████████████████████████████████████████████████████████████████████████████████████████████| 7/7 [00:00<00:00, 44.59it/s]\n"
     ]
    },
    {
     "name": "stdout",
     "output_type": "stream",
     "text": [
      "No V-motifs will be validated. Try increasing alpha\n",
      "\n",
      "                      WARNING: this system has at least a node that is disconnected or connected to all nodes\n",
      "                       of the opposite layer. This may cause some convergence issues.\n",
      "                      Please use the full mode providing a biadjacency matrix or an edgelist,\n",
      "                       or clean your data from these nodes. \n",
      "                      \n",
      "2023 Utilities SDG 6: Clean Water and Sanitation\r"
     ]
    },
    {
     "name": "stderr",
     "output_type": "stream",
     "text": [
      "\n",
      "  0%|                                                                                                                                 | 0/93 [00:00<?, ?it/s]\u001b[A/home/sarawalk/sdgs_py38/lib/python3.8/site-packages/bicm/graph_classes.py:1113: RuntimeWarning: invalid value encountered in divide\n",
      "  probs = node_xy * neighbor_xy / ((1 + node_xy) * (1 + neighbor_xy))\n",
      "/home/sarawalk/sdgs_py38/lib/python3.8/site-packages/bicm/graph_classes.py:1113: RuntimeWarning: invalid value encountered in divide\n",
      "  probs = node_xy * neighbor_xy / ((1 + node_xy) * (1 + neighbor_xy))\n",
      "/home/sarawalk/sdgs_py38/lib/python3.8/site-packages/bicm/graph_classes.py:1113: RuntimeWarning: invalid value encountered in divide\n",
      "  probs = node_xy * neighbor_xy / ((1 + node_xy) * (1 + neighbor_xy))\n",
      "/home/sarawalk/sdgs_py38/lib/python3.8/site-packages/bicm/graph_classes.py:1113: RuntimeWarning: invalid value encountered in divide\n",
      "  probs = node_xy * neighbor_xy / ((1 + node_xy) * (1 + neighbor_xy))\n",
      "\n",
      " 52%|█████████████████████████████████████████████████████████████▍                                                         | 48/93 [00:00<00:00, 446.08it/s]\u001b[A\n",
      "100%|███████████████████████████████████████████████████████████████████████████████████████████████████████████████████████| 93/93 [00:00<00:00, 349.10it/s]\u001b[A\n"
     ]
    },
    {
     "name": "stdout",
     "output_type": "stream",
     "text": [
      "No V-motifs will be validated. Try increasing alpha\n"
     ]
    },
    {
     "name": "stderr",
     "output_type": "stream",
     "text": [
      "\n",
      "  0%|                                                                                                                                  | 0/7 [00:00<?, ?it/s]\u001b[A/home/sarawalk/sdgs_py38/lib/python3.8/site-packages/bicm/graph_classes.py:1113: RuntimeWarning: invalid value encountered in divide\n",
      "  probs = node_xy * neighbor_xy / ((1 + node_xy) * (1 + neighbor_xy))\n",
      "/home/sarawalk/sdgs_py38/lib/python3.8/site-packages/bicm/graph_classes.py:1113: RuntimeWarning: invalid value encountered in divide\n",
      "  probs = node_xy * neighbor_xy / ((1 + node_xy) * (1 + neighbor_xy))\n",
      "/home/sarawalk/sdgs_py38/lib/python3.8/site-packages/bicm/graph_classes.py:1113: RuntimeWarning: invalid value encountered in divide\n",
      "  probs = node_xy * neighbor_xy / ((1 + node_xy) * (1 + neighbor_xy))\n",
      "/home/sarawalk/sdgs_py38/lib/python3.8/site-packages/bicm/graph_classes.py:1113: RuntimeWarning: invalid value encountered in divide\n",
      "  probs = node_xy * neighbor_xy / ((1 + node_xy) * (1 + neighbor_xy))\n",
      "\n",
      "100%|██████████████████████████████████████████████████████████████████████████████████████████████████████████████████████████| 7/7 [00:00<00:00, 39.58it/s]\u001b[A\n"
     ]
    },
    {
     "name": "stdout",
     "output_type": "stream",
     "text": [
      "No V-motifs will be validated. Try increasing alpha\n",
      "\n",
      "                      WARNING: this system has at least a node that is disconnected or connected to all nodes\n",
      "                       of the opposite layer. This may cause some convergence issues.\n",
      "                      Please use the full mode providing a biadjacency matrix or an edgelist,\n",
      "                       or clean your data from these nodes. \n",
      "                      \n",
      "2023 Utilities SDG 7: Affordable and Clean Energy\r"
     ]
    },
    {
     "name": "stderr",
     "output_type": "stream",
     "text": [
      "\n",
      "  0%|                                                                                                                                 | 0/93 [00:00<?, ?it/s]\u001b[A/home/sarawalk/sdgs_py38/lib/python3.8/site-packages/bicm/graph_classes.py:1113: RuntimeWarning: invalid value encountered in divide\n",
      "  probs = node_xy * neighbor_xy / ((1 + node_xy) * (1 + neighbor_xy))\n",
      "/home/sarawalk/sdgs_py38/lib/python3.8/site-packages/bicm/graph_classes.py:1113: RuntimeWarning: invalid value encountered in divide\n",
      "  probs = node_xy * neighbor_xy / ((1 + node_xy) * (1 + neighbor_xy))\n",
      "/home/sarawalk/sdgs_py38/lib/python3.8/site-packages/bicm/graph_classes.py:1113: RuntimeWarning: invalid value encountered in divide\n",
      "  probs = node_xy * neighbor_xy / ((1 + node_xy) * (1 + neighbor_xy))\n",
      "/home/sarawalk/sdgs_py38/lib/python3.8/site-packages/bicm/graph_classes.py:1113: RuntimeWarning: invalid value encountered in divide\n",
      "  probs = node_xy * neighbor_xy / ((1 + node_xy) * (1 + neighbor_xy))\n",
      "\n",
      " 52%|█████████████████████████████████████████████████████████████▍                                                         | 48/93 [00:00<00:00, 437.38it/s]\u001b[A\n",
      "100%|███████████████████████████████████████████████████████████████████████████████████████████████████████████████████████| 93/93 [00:00<00:00, 401.35it/s]\u001b[A\n"
     ]
    },
    {
     "name": "stdout",
     "output_type": "stream",
     "text": [
      "No V-motifs will be validated. Try increasing alpha\n"
     ]
    },
    {
     "name": "stderr",
     "output_type": "stream",
     "text": [
      "\n",
      "  0%|                                                                                                                                  | 0/7 [00:00<?, ?it/s]\u001b[A/home/sarawalk/sdgs_py38/lib/python3.8/site-packages/bicm/graph_classes.py:1113: RuntimeWarning: invalid value encountered in divide\n",
      "  probs = node_xy * neighbor_xy / ((1 + node_xy) * (1 + neighbor_xy))\n",
      "/home/sarawalk/sdgs_py38/lib/python3.8/site-packages/bicm/graph_classes.py:1113: RuntimeWarning: invalid value encountered in divide\n",
      "  probs = node_xy * neighbor_xy / ((1 + node_xy) * (1 + neighbor_xy))\n",
      "/home/sarawalk/sdgs_py38/lib/python3.8/site-packages/bicm/graph_classes.py:1113: RuntimeWarning: invalid value encountered in divide\n",
      "  probs = node_xy * neighbor_xy / ((1 + node_xy) * (1 + neighbor_xy))\n",
      "\n",
      "/home/sarawalk/sdgs_py38/lib/python3.8/site-packages/bicm/graph_classes.py:1113: RuntimeWarning: invalid value encountered in divide\n",
      "  probs = node_xy * neighbor_xy / ((1 + node_xy) * (1 + neighbor_xy))\n",
      "100%|██████████████████████████████████████████████████████████████████████████████████████████████████████████████████████████| 7/7 [00:00<00:00, 38.18it/s]\u001b[A\n"
     ]
    },
    {
     "name": "stdout",
     "output_type": "stream",
     "text": [
      "No V-motifs will be validated. Try increasing alpha\n",
      "\n",
      "                      WARNING: this system has at least a node that is disconnected or connected to all nodes\n",
      "                       of the opposite layer. This may cause some convergence issues.\n",
      "                      Please use the full mode providing a biadjacency matrix or an edgelist,\n",
      "                       or clean your data from these nodes. \n",
      "                      \n",
      "2023 Utilities SDG 8: Decent Work and Economic Growth\r"
     ]
    },
    {
     "name": "stderr",
     "output_type": "stream",
     "text": [
      "\n",
      "  0%|                                                                                                                                 | 0/93 [00:00<?, ?it/s]\u001b[A/home/sarawalk/sdgs_py38/lib/python3.8/site-packages/bicm/graph_classes.py:1113: RuntimeWarning: invalid value encountered in divide\n",
      "  probs = node_xy * neighbor_xy / ((1 + node_xy) * (1 + neighbor_xy))\n",
      "/home/sarawalk/sdgs_py38/lib/python3.8/site-packages/bicm/graph_classes.py:1113: RuntimeWarning: invalid value encountered in divide\n",
      "  probs = node_xy * neighbor_xy / ((1 + node_xy) * (1 + neighbor_xy))\n",
      "/home/sarawalk/sdgs_py38/lib/python3.8/site-packages/bicm/graph_classes.py:1113: RuntimeWarning: invalid value encountered in divide\n",
      "  probs = node_xy * neighbor_xy / ((1 + node_xy) * (1 + neighbor_xy))\n",
      "/home/sarawalk/sdgs_py38/lib/python3.8/site-packages/bicm/graph_classes.py:1113: RuntimeWarning: invalid value encountered in divide\n",
      "  probs = node_xy * neighbor_xy / ((1 + node_xy) * (1 + neighbor_xy))\n",
      "\n",
      " 52%|█████████████████████████████████████████████████████████████▍                                                         | 48/93 [00:00<00:00, 448.65it/s]\u001b[A\n",
      "100%|███████████████████████████████████████████████████████████████████████████████████████████████████████████████████████| 93/93 [00:00<00:00, 377.57it/s]\u001b[A\n"
     ]
    },
    {
     "name": "stdout",
     "output_type": "stream",
     "text": [
      "No V-motifs will be validated. Try increasing alpha\n"
     ]
    },
    {
     "name": "stderr",
     "output_type": "stream",
     "text": [
      "\n",
      "  0%|                                                                                                                                  | 0/7 [00:00<?, ?it/s]\u001b[A/home/sarawalk/sdgs_py38/lib/python3.8/site-packages/bicm/graph_classes.py:1113: RuntimeWarning: invalid value encountered in divide\n",
      "  probs = node_xy * neighbor_xy / ((1 + node_xy) * (1 + neighbor_xy))\n",
      "/home/sarawalk/sdgs_py38/lib/python3.8/site-packages/bicm/graph_classes.py:1113: RuntimeWarning: invalid value encountered in divide\n",
      "  probs = node_xy * neighbor_xy / ((1 + node_xy) * (1 + neighbor_xy))\n",
      "/home/sarawalk/sdgs_py38/lib/python3.8/site-packages/bicm/graph_classes.py:1113: RuntimeWarning: invalid value encountered in divide\n",
      "  probs = node_xy * neighbor_xy / ((1 + node_xy) * (1 + neighbor_xy))\n",
      "/home/sarawalk/sdgs_py38/lib/python3.8/site-packages/bicm/graph_classes.py:1113: RuntimeWarning: invalid value encountered in divide\n",
      "  probs = node_xy * neighbor_xy / ((1 + node_xy) * (1 + neighbor_xy))\n",
      "\n",
      "100%|██████████████████████████████████████████████████████████████████████████████████████████████████████████████████████████| 7/7 [00:00<00:00, 42.36it/s]\u001b[A\n"
     ]
    },
    {
     "name": "stdout",
     "output_type": "stream",
     "text": [
      "No V-motifs will be validated. Try increasing alpha\n",
      "\n",
      "                      WARNING: this system has at least a node that is disconnected or connected to all nodes\n",
      "                       of the opposite layer. This may cause some convergence issues.\n",
      "                      Please use the full mode providing a biadjacency matrix or an edgelist,\n",
      "                       or clean your data from these nodes. \n",
      "                      \n",
      "2023 Utilities SDG 9: Industry, Innovation, and Infrastructure\r"
     ]
    },
    {
     "name": "stderr",
     "output_type": "stream",
     "text": [
      "\n",
      "  0%|                                                                                                                                 | 0/93 [00:00<?, ?it/s]\u001b[A/home/sarawalk/sdgs_py38/lib/python3.8/site-packages/bicm/graph_classes.py:1113: RuntimeWarning: invalid value encountered in divide\n",
      "  probs = node_xy * neighbor_xy / ((1 + node_xy) * (1 + neighbor_xy))\n",
      "/home/sarawalk/sdgs_py38/lib/python3.8/site-packages/bicm/graph_classes.py:1113: RuntimeWarning: invalid value encountered in divide\n",
      "  probs = node_xy * neighbor_xy / ((1 + node_xy) * (1 + neighbor_xy))\n",
      "/home/sarawalk/sdgs_py38/lib/python3.8/site-packages/bicm/graph_classes.py:1113: RuntimeWarning: invalid value encountered in divide\n",
      "  probs = node_xy * neighbor_xy / ((1 + node_xy) * (1 + neighbor_xy))\n",
      "/home/sarawalk/sdgs_py38/lib/python3.8/site-packages/bicm/graph_classes.py:1113: RuntimeWarning: invalid value encountered in divide\n",
      "  probs = node_xy * neighbor_xy / ((1 + node_xy) * (1 + neighbor_xy))\n",
      "\n",
      "100%|███████████████████████████████████████████████████████████████████████████████████████████████████████████████████████| 93/93 [00:00<00:00, 365.90it/s]\u001b[A\n"
     ]
    },
    {
     "name": "stdout",
     "output_type": "stream",
     "text": [
      "No V-motifs will be validated. Try increasing alpha\n"
     ]
    },
    {
     "name": "stderr",
     "output_type": "stream",
     "text": [
      "\n",
      "  0%|                                                                                                                                  | 0/7 [00:00<?, ?it/s]\u001b[A/home/sarawalk/sdgs_py38/lib/python3.8/site-packages/bicm/graph_classes.py:1113: RuntimeWarning: invalid value encountered in divide\n",
      "  probs = node_xy * neighbor_xy / ((1 + node_xy) * (1 + neighbor_xy))\n",
      "/home/sarawalk/sdgs_py38/lib/python3.8/site-packages/bicm/graph_classes.py:1113: RuntimeWarning: invalid value encountered in divide\n",
      "  probs = node_xy * neighbor_xy / ((1 + node_xy) * (1 + neighbor_xy))\n",
      "/home/sarawalk/sdgs_py38/lib/python3.8/site-packages/bicm/graph_classes.py:1113: RuntimeWarning: invalid value encountered in divide\n",
      "  probs = node_xy * neighbor_xy / ((1 + node_xy) * (1 + neighbor_xy))\n",
      "\n",
      " 57%|█████████████████████████████████████████████████████████████████████▋                                                    | 4/7 [00:00<00:00, 38.56it/s]/home/sarawalk/sdgs_py38/lib/python3.8/site-packages/bicm/graph_classes.py:1113: RuntimeWarning: invalid value encountered in divide\n",
      "  probs = node_xy * neighbor_xy / ((1 + node_xy) * (1 + neighbor_xy))\n",
      "100%|██████████████████████████████████████████████████████████████████████████████████████████████████████████████████████████| 7/7 [00:00<00:00, 36.56it/s]\n"
     ]
    },
    {
     "name": "stdout",
     "output_type": "stream",
     "text": [
      "No V-motifs will be validated. Try increasing alpha\n",
      "\n",
      "                      WARNING: this system has at least a node that is disconnected or connected to all nodes\n",
      "                       of the opposite layer. This may cause some convergence issues.\n",
      "                      Please use the full mode providing a biadjacency matrix or an edgelist,\n",
      "                       or clean your data from these nodes. \n",
      "                      \n",
      "2023 Utilities SDG 10: Reduced Inequality\r"
     ]
    },
    {
     "name": "stderr",
     "output_type": "stream",
     "text": [
      "\n",
      "  0%|                                                                                                                                 | 0/93 [00:00<?, ?it/s]\u001b[A/home/sarawalk/sdgs_py38/lib/python3.8/site-packages/bicm/graph_classes.py:1113: RuntimeWarning: invalid value encountered in divide\n",
      "  probs = node_xy * neighbor_xy / ((1 + node_xy) * (1 + neighbor_xy))\n",
      "/home/sarawalk/sdgs_py38/lib/python3.8/site-packages/bicm/graph_classes.py:1113: RuntimeWarning: invalid value encountered in divide\n",
      "  probs = node_xy * neighbor_xy / ((1 + node_xy) * (1 + neighbor_xy))\n",
      "/home/sarawalk/sdgs_py38/lib/python3.8/site-packages/bicm/graph_classes.py:1113: RuntimeWarning: invalid value encountered in divide\n",
      "  probs = node_xy * neighbor_xy / ((1 + node_xy) * (1 + neighbor_xy))\n",
      "/home/sarawalk/sdgs_py38/lib/python3.8/site-packages/bicm/graph_classes.py:1113: RuntimeWarning: invalid value encountered in divide\n",
      "  probs = node_xy * neighbor_xy / ((1 + node_xy) * (1 + neighbor_xy))\n",
      "\n",
      " 45%|█████████████████████████████████████████████████████▋                                                                 | 42/93 [00:00<00:00, 393.61it/s]\u001b[A\n",
      "100%|███████████████████████████████████████████████████████████████████████████████████████████████████████████████████████| 93/93 [00:00<00:00, 374.34it/s]\u001b[A\n"
     ]
    },
    {
     "name": "stdout",
     "output_type": "stream",
     "text": [
      "No V-motifs will be validated. Try increasing alpha\n"
     ]
    },
    {
     "name": "stderr",
     "output_type": "stream",
     "text": [
      "\n",
      "  0%|                                                                                                                                  | 0/7 [00:00<?, ?it/s]\u001b[A/home/sarawalk/sdgs_py38/lib/python3.8/site-packages/bicm/graph_classes.py:1113: RuntimeWarning: invalid value encountered in divide\n",
      "  probs = node_xy * neighbor_xy / ((1 + node_xy) * (1 + neighbor_xy))\n",
      "/home/sarawalk/sdgs_py38/lib/python3.8/site-packages/bicm/graph_classes.py:1113: RuntimeWarning: invalid value encountered in divide\n",
      "  probs = node_xy * neighbor_xy / ((1 + node_xy) * (1 + neighbor_xy))\n",
      "/home/sarawalk/sdgs_py38/lib/python3.8/site-packages/bicm/graph_classes.py:1113: RuntimeWarning: invalid value encountered in divide\n",
      "  probs = node_xy * neighbor_xy / ((1 + node_xy) * (1 + neighbor_xy))\n",
      "/home/sarawalk/sdgs_py38/lib/python3.8/site-packages/bicm/graph_classes.py:1113: RuntimeWarning: invalid value encountered in divide\n",
      "  probs = node_xy * neighbor_xy / ((1 + node_xy) * (1 + neighbor_xy))\n",
      "\n",
      "100%|██████████████████████████████████████████████████████████████████████████████████████████████████████████████████████████| 7/7 [00:00<00:00, 40.34it/s]\u001b[A\n"
     ]
    },
    {
     "name": "stdout",
     "output_type": "stream",
     "text": [
      "No V-motifs will be validated. Try increasing alpha\n",
      "\n",
      "                      WARNING: this system has at least a node that is disconnected or connected to all nodes\n",
      "                       of the opposite layer. This may cause some convergence issues.\n",
      "                      Please use the full mode providing a biadjacency matrix or an edgelist,\n",
      "                       or clean your data from these nodes. \n",
      "                      \n",
      "2023 Utilities SDG 11: Sustainable Cities and Communities\r"
     ]
    },
    {
     "name": "stderr",
     "output_type": "stream",
     "text": [
      "\n",
      "  0%|                                                                                                                                 | 0/93 [00:00<?, ?it/s]\u001b[A/home/sarawalk/sdgs_py38/lib/python3.8/site-packages/bicm/graph_classes.py:1113: RuntimeWarning: invalid value encountered in divide\n",
      "  probs = node_xy * neighbor_xy / ((1 + node_xy) * (1 + neighbor_xy))\n",
      "/home/sarawalk/sdgs_py38/lib/python3.8/site-packages/bicm/graph_classes.py:1113: RuntimeWarning: invalid value encountered in divide\n",
      "  probs = node_xy * neighbor_xy / ((1 + node_xy) * (1 + neighbor_xy))\n",
      "/home/sarawalk/sdgs_py38/lib/python3.8/site-packages/bicm/graph_classes.py:1113: RuntimeWarning: invalid value encountered in divide\n",
      "  probs = node_xy * neighbor_xy / ((1 + node_xy) * (1 + neighbor_xy))\n",
      "/home/sarawalk/sdgs_py38/lib/python3.8/site-packages/bicm/graph_classes.py:1113: RuntimeWarning: invalid value encountered in divide\n",
      "  probs = node_xy * neighbor_xy / ((1 + node_xy) * (1 + neighbor_xy))\n",
      "\n",
      " 52%|█████████████████████████████████████████████████████████████▍                                                         | 48/93 [00:00<00:00, 423.28it/s]\u001b[A\n",
      "100%|███████████████████████████████████████████████████████████████████████████████████████████████████████████████████████| 93/93 [00:00<00:00, 371.20it/s]\u001b[A\n"
     ]
    },
    {
     "name": "stdout",
     "output_type": "stream",
     "text": [
      "No V-motifs will be validated. Try increasing alpha\n"
     ]
    },
    {
     "name": "stderr",
     "output_type": "stream",
     "text": [
      "\n",
      "  0%|                                                                                                                                  | 0/7 [00:00<?, ?it/s]\u001b[A/home/sarawalk/sdgs_py38/lib/python3.8/site-packages/bicm/graph_classes.py:1113: RuntimeWarning: invalid value encountered in divide\n",
      "  probs = node_xy * neighbor_xy / ((1 + node_xy) * (1 + neighbor_xy))\n",
      "/home/sarawalk/sdgs_py38/lib/python3.8/site-packages/bicm/graph_classes.py:1113: RuntimeWarning: invalid value encountered in divide\n",
      "  probs = node_xy * neighbor_xy / ((1 + node_xy) * (1 + neighbor_xy))\n",
      "/home/sarawalk/sdgs_py38/lib/python3.8/site-packages/bicm/graph_classes.py:1113: RuntimeWarning: invalid value encountered in divide\n",
      "  probs = node_xy * neighbor_xy / ((1 + node_xy) * (1 + neighbor_xy))\n",
      "\n",
      "/home/sarawalk/sdgs_py38/lib/python3.8/site-packages/bicm/graph_classes.py:1113: RuntimeWarning: invalid value encountered in divide\n",
      "  probs = node_xy * neighbor_xy / ((1 + node_xy) * (1 + neighbor_xy))\n",
      "100%|██████████████████████████████████████████████████████████████████████████████████████████████████████████████████████████| 7/7 [00:00<00:00, 41.15it/s]\u001b[A\n"
     ]
    },
    {
     "name": "stdout",
     "output_type": "stream",
     "text": [
      "No V-motifs will be validated. Try increasing alpha\n",
      "\n",
      "                      WARNING: this system has at least a node that is disconnected or connected to all nodes\n",
      "                       of the opposite layer. This may cause some convergence issues.\n",
      "                      Please use the full mode providing a biadjacency matrix or an edgelist,\n",
      "                       or clean your data from these nodes. \n",
      "                      \n",
      "2023 Utilities SDG 12: Responsible Consumption and Production\r"
     ]
    },
    {
     "name": "stderr",
     "output_type": "stream",
     "text": [
      "\n",
      "  0%|                                                                                                                                 | 0/93 [00:00<?, ?it/s]\u001b[A/home/sarawalk/sdgs_py38/lib/python3.8/site-packages/bicm/graph_classes.py:1113: RuntimeWarning: invalid value encountered in divide\n",
      "  probs = node_xy * neighbor_xy / ((1 + node_xy) * (1 + neighbor_xy))\n",
      "/home/sarawalk/sdgs_py38/lib/python3.8/site-packages/bicm/graph_classes.py:1113: RuntimeWarning: invalid value encountered in divide\n",
      "  probs = node_xy * neighbor_xy / ((1 + node_xy) * (1 + neighbor_xy))\n",
      "/home/sarawalk/sdgs_py38/lib/python3.8/site-packages/bicm/graph_classes.py:1113: RuntimeWarning: invalid value encountered in divide\n",
      "  probs = node_xy * neighbor_xy / ((1 + node_xy) * (1 + neighbor_xy))\n",
      "/home/sarawalk/sdgs_py38/lib/python3.8/site-packages/bicm/graph_classes.py:1113: RuntimeWarning: invalid value encountered in divide\n",
      "  probs = node_xy * neighbor_xy / ((1 + node_xy) * (1 + neighbor_xy))\n",
      "\n",
      "100%|███████████████████████████████████████████████████████████████████████████████████████████████████████████████████████| 93/93 [00:00<00:00, 387.27it/s]\u001b[A\n"
     ]
    },
    {
     "name": "stdout",
     "output_type": "stream",
     "text": [
      "No V-motifs will be validated. Try increasing alpha\n"
     ]
    },
    {
     "name": "stderr",
     "output_type": "stream",
     "text": [
      "\n",
      "  0%|                                                                                                                                  | 0/7 [00:00<?, ?it/s]\u001b[A/home/sarawalk/sdgs_py38/lib/python3.8/site-packages/bicm/graph_classes.py:1113: RuntimeWarning: invalid value encountered in divide\n",
      "  probs = node_xy * neighbor_xy / ((1 + node_xy) * (1 + neighbor_xy))\n",
      "/home/sarawalk/sdgs_py38/lib/python3.8/site-packages/bicm/graph_classes.py:1113: RuntimeWarning: invalid value encountered in divide\n",
      "  probs = node_xy * neighbor_xy / ((1 + node_xy) * (1 + neighbor_xy))\n",
      "/home/sarawalk/sdgs_py38/lib/python3.8/site-packages/bicm/graph_classes.py:1113: RuntimeWarning: invalid value encountered in divide\n",
      "  probs = node_xy * neighbor_xy / ((1 + node_xy) * (1 + neighbor_xy))\n",
      "/home/sarawalk/sdgs_py38/lib/python3.8/site-packages/bicm/graph_classes.py:1113: RuntimeWarning: invalid value encountered in divide\n",
      "  probs = node_xy * neighbor_xy / ((1 + node_xy) * (1 + neighbor_xy))\n",
      "\n",
      "100%|██████████████████████████████████████████████████████████████████████████████████████████████████████████████████████████| 7/7 [00:00<00:00, 40.89it/s]\u001b[A\n"
     ]
    },
    {
     "name": "stdout",
     "output_type": "stream",
     "text": [
      "No V-motifs will be validated. Try increasing alpha\n",
      "\n",
      "                      WARNING: this system has at least a node that is disconnected or connected to all nodes\n",
      "                       of the opposite layer. This may cause some convergence issues.\n",
      "                      Please use the full mode providing a biadjacency matrix or an edgelist,\n",
      "                       or clean your data from these nodes. \n",
      "                      \n",
      "2023 Utilities SDG 13: Climate Action\r"
     ]
    },
    {
     "name": "stderr",
     "output_type": "stream",
     "text": [
      "\n",
      "  0%|                                                                                                                                 | 0/93 [00:00<?, ?it/s]\u001b[A/home/sarawalk/sdgs_py38/lib/python3.8/site-packages/bicm/graph_classes.py:1113: RuntimeWarning: invalid value encountered in divide\n",
      "  probs = node_xy * neighbor_xy / ((1 + node_xy) * (1 + neighbor_xy))\n",
      "/home/sarawalk/sdgs_py38/lib/python3.8/site-packages/bicm/graph_classes.py:1113: RuntimeWarning: invalid value encountered in divide\n",
      "  probs = node_xy * neighbor_xy / ((1 + node_xy) * (1 + neighbor_xy))\n",
      "/home/sarawalk/sdgs_py38/lib/python3.8/site-packages/bicm/graph_classes.py:1113: RuntimeWarning: invalid value encountered in divide\n",
      "  probs = node_xy * neighbor_xy / ((1 + node_xy) * (1 + neighbor_xy))\n",
      "/home/sarawalk/sdgs_py38/lib/python3.8/site-packages/bicm/graph_classes.py:1113: RuntimeWarning: invalid value encountered in divide\n",
      "  probs = node_xy * neighbor_xy / ((1 + node_xy) * (1 + neighbor_xy))\n",
      "\n",
      " 52%|█████████████████████████████████████████████████████████████▍                                                         | 48/93 [00:00<00:00, 391.82it/s]\u001b[A\n",
      "100%|███████████████████████████████████████████████████████████████████████████████████████████████████████████████████████| 93/93 [00:00<00:00, 329.61it/s]\u001b[A\n"
     ]
    },
    {
     "name": "stdout",
     "output_type": "stream",
     "text": [
      "No V-motifs will be validated. Try increasing alpha\n"
     ]
    },
    {
     "name": "stderr",
     "output_type": "stream",
     "text": [
      "\n",
      "  0%|                                                                                                                                  | 0/7 [00:00<?, ?it/s]\u001b[A/home/sarawalk/sdgs_py38/lib/python3.8/site-packages/bicm/graph_classes.py:1113: RuntimeWarning: invalid value encountered in divide\n",
      "  probs = node_xy * neighbor_xy / ((1 + node_xy) * (1 + neighbor_xy))\n",
      "/home/sarawalk/sdgs_py38/lib/python3.8/site-packages/bicm/graph_classes.py:1113: RuntimeWarning: invalid value encountered in divide\n",
      "  probs = node_xy * neighbor_xy / ((1 + node_xy) * (1 + neighbor_xy))\n",
      "/home/sarawalk/sdgs_py38/lib/python3.8/site-packages/bicm/graph_classes.py:1113: RuntimeWarning: invalid value encountered in divide\n",
      "  probs = node_xy * neighbor_xy / ((1 + node_xy) * (1 + neighbor_xy))\n",
      "/home/sarawalk/sdgs_py38/lib/python3.8/site-packages/bicm/graph_classes.py:1113: RuntimeWarning: invalid value encountered in divide\n",
      "  probs = node_xy * neighbor_xy / ((1 + node_xy) * (1 + neighbor_xy))\n",
      "\n",
      "100%|██████████████████████████████████████████████████████████████████████████████████████████████████████████████████████████| 7/7 [00:00<00:00, 41.21it/s]\u001b[A\n"
     ]
    },
    {
     "name": "stdout",
     "output_type": "stream",
     "text": [
      "No V-motifs will be validated. Try increasing alpha\n",
      "\n",
      "                      WARNING: this system has at least a node that is disconnected or connected to all nodes\n",
      "                       of the opposite layer. This may cause some convergence issues.\n",
      "                      Please use the full mode providing a biadjacency matrix or an edgelist,\n",
      "                       or clean your data from these nodes. \n",
      "                      \n",
      "2023 Utilities SDG 14: Life Below Water\r"
     ]
    },
    {
     "name": "stderr",
     "output_type": "stream",
     "text": [
      "\n",
      "  0%|                                                                                                                                 | 0/93 [00:00<?, ?it/s]\u001b[A/home/sarawalk/sdgs_py38/lib/python3.8/site-packages/bicm/graph_classes.py:1113: RuntimeWarning: invalid value encountered in divide\n",
      "  probs = node_xy * neighbor_xy / ((1 + node_xy) * (1 + neighbor_xy))\n",
      "/home/sarawalk/sdgs_py38/lib/python3.8/site-packages/bicm/graph_classes.py:1113: RuntimeWarning: invalid value encountered in divide\n",
      "  probs = node_xy * neighbor_xy / ((1 + node_xy) * (1 + neighbor_xy))\n",
      "/home/sarawalk/sdgs_py38/lib/python3.8/site-packages/bicm/graph_classes.py:1113: RuntimeWarning: invalid value encountered in divide\n",
      "  probs = node_xy * neighbor_xy / ((1 + node_xy) * (1 + neighbor_xy))\n",
      "/home/sarawalk/sdgs_py38/lib/python3.8/site-packages/bicm/graph_classes.py:1113: RuntimeWarning: invalid value encountered in divide\n",
      "  probs = node_xy * neighbor_xy / ((1 + node_xy) * (1 + neighbor_xy))\n",
      "\n",
      " 52%|█████████████████████████████████████████████████████████████▍                                                         | 48/93 [00:00<00:00, 385.19it/s]\u001b[A\n",
      "100%|███████████████████████████████████████████████████████████████████████████████████████████████████████████████████████| 93/93 [00:00<00:00, 358.31it/s]\u001b[A\n"
     ]
    },
    {
     "name": "stdout",
     "output_type": "stream",
     "text": [
      "No V-motifs will be validated. Try increasing alpha\n"
     ]
    },
    {
     "name": "stderr",
     "output_type": "stream",
     "text": [
      "\n",
      "  0%|                                                                                                                                  | 0/7 [00:00<?, ?it/s]\u001b[A/home/sarawalk/sdgs_py38/lib/python3.8/site-packages/bicm/graph_classes.py:1113: RuntimeWarning: invalid value encountered in divide\n",
      "  probs = node_xy * neighbor_xy / ((1 + node_xy) * (1 + neighbor_xy))\n",
      "/home/sarawalk/sdgs_py38/lib/python3.8/site-packages/bicm/graph_classes.py:1113: RuntimeWarning: invalid value encountered in divide\n",
      "  probs = node_xy * neighbor_xy / ((1 + node_xy) * (1 + neighbor_xy))\n",
      "/home/sarawalk/sdgs_py38/lib/python3.8/site-packages/bicm/graph_classes.py:1113: RuntimeWarning: invalid value encountered in divide\n",
      "  probs = node_xy * neighbor_xy / ((1 + node_xy) * (1 + neighbor_xy))\n",
      "\n",
      " 57%|█████████████████████████████████████████████████████████████████████▋                                                    | 4/7 [00:00<00:00, 39.06it/s]\u001b[A/home/sarawalk/sdgs_py38/lib/python3.8/site-packages/bicm/graph_classes.py:1113: RuntimeWarning: invalid value encountered in divide\n",
      "  probs = node_xy * neighbor_xy / ((1 + node_xy) * (1 + neighbor_xy))\n",
      "100%|██████████████████████████████████████████████████████████████████████████████████████████████████████████████████████████| 7/7 [00:00<00:00, 37.97it/s]\n"
     ]
    },
    {
     "name": "stdout",
     "output_type": "stream",
     "text": [
      "No V-motifs will be validated. Try increasing alpha\n",
      "\n",
      "                      WARNING: this system has at least a node that is disconnected or connected to all nodes\n",
      "                       of the opposite layer. This may cause some convergence issues.\n",
      "                      Please use the full mode providing a biadjacency matrix or an edgelist,\n",
      "                       or clean your data from these nodes. \n",
      "                      \n",
      "2023 Utilities SDG 15: Life on Land\r"
     ]
    },
    {
     "name": "stderr",
     "output_type": "stream",
     "text": [
      "\n",
      "  0%|                                                                                                                                 | 0/93 [00:00<?, ?it/s]\u001b[A/home/sarawalk/sdgs_py38/lib/python3.8/site-packages/bicm/graph_classes.py:1113: RuntimeWarning: invalid value encountered in divide\n",
      "  probs = node_xy * neighbor_xy / ((1 + node_xy) * (1 + neighbor_xy))\n",
      "/home/sarawalk/sdgs_py38/lib/python3.8/site-packages/bicm/graph_classes.py:1113: RuntimeWarning: invalid value encountered in divide\n",
      "  probs = node_xy * neighbor_xy / ((1 + node_xy) * (1 + neighbor_xy))\n",
      "/home/sarawalk/sdgs_py38/lib/python3.8/site-packages/bicm/graph_classes.py:1113: RuntimeWarning: invalid value encountered in divide\n",
      "  probs = node_xy * neighbor_xy / ((1 + node_xy) * (1 + neighbor_xy))\n",
      "/home/sarawalk/sdgs_py38/lib/python3.8/site-packages/bicm/graph_classes.py:1113: RuntimeWarning: invalid value encountered in divide\n",
      "  probs = node_xy * neighbor_xy / ((1 + node_xy) * (1 + neighbor_xy))\n",
      "\n",
      " 45%|█████████████████████████████████████████████████████▋                                                                 | 42/93 [00:00<00:00, 413.30it/s]\u001b[A\n",
      "100%|███████████████████████████████████████████████████████████████████████████████████████████████████████████████████████| 93/93 [00:00<00:00, 393.81it/s]\u001b[A\n"
     ]
    },
    {
     "name": "stdout",
     "output_type": "stream",
     "text": [
      "No V-motifs will be validated. Try increasing alpha\n"
     ]
    },
    {
     "name": "stderr",
     "output_type": "stream",
     "text": [
      "\n",
      "  0%|                                                                                                                                  | 0/7 [00:00<?, ?it/s]\u001b[A/home/sarawalk/sdgs_py38/lib/python3.8/site-packages/bicm/graph_classes.py:1113: RuntimeWarning: invalid value encountered in divide\n",
      "  probs = node_xy * neighbor_xy / ((1 + node_xy) * (1 + neighbor_xy))\n",
      "/home/sarawalk/sdgs_py38/lib/python3.8/site-packages/bicm/graph_classes.py:1113: RuntimeWarning: invalid value encountered in divide\n",
      "  probs = node_xy * neighbor_xy / ((1 + node_xy) * (1 + neighbor_xy))\n",
      "/home/sarawalk/sdgs_py38/lib/python3.8/site-packages/bicm/graph_classes.py:1113: RuntimeWarning: invalid value encountered in divide\n",
      "  probs = node_xy * neighbor_xy / ((1 + node_xy) * (1 + neighbor_xy))\n",
      "/home/sarawalk/sdgs_py38/lib/python3.8/site-packages/bicm/graph_classes.py:1113: RuntimeWarning: invalid value encountered in divide\n",
      "  probs = node_xy * neighbor_xy / ((1 + node_xy) * (1 + neighbor_xy))\n",
      "\n",
      "100%|██████████████████████████████████████████████████████████████████████████████████████████████████████████████████████████| 7/7 [00:00<00:00, 43.02it/s]\u001b[A\n"
     ]
    },
    {
     "name": "stdout",
     "output_type": "stream",
     "text": [
      "No V-motifs will be validated. Try increasing alpha\n",
      "\n",
      "                      WARNING: this system has at least a node that is disconnected or connected to all nodes\n",
      "                       of the opposite layer. This may cause some convergence issues.\n",
      "                      Please use the full mode providing a biadjacency matrix or an edgelist,\n",
      "                       or clean your data from these nodes. \n",
      "                      \n",
      "2023 Utilities SDG 16: Peace, Justice, and Strong Institutions\r"
     ]
    },
    {
     "name": "stderr",
     "output_type": "stream",
     "text": [
      "\n",
      "  0%|                                                                                                                                 | 0/93 [00:00<?, ?it/s]\u001b[A/home/sarawalk/sdgs_py38/lib/python3.8/site-packages/bicm/graph_classes.py:1113: RuntimeWarning: invalid value encountered in divide\n",
      "  probs = node_xy * neighbor_xy / ((1 + node_xy) * (1 + neighbor_xy))\n",
      "/home/sarawalk/sdgs_py38/lib/python3.8/site-packages/bicm/graph_classes.py:1113: RuntimeWarning: invalid value encountered in divide\n",
      "  probs = node_xy * neighbor_xy / ((1 + node_xy) * (1 + neighbor_xy))\n",
      "/home/sarawalk/sdgs_py38/lib/python3.8/site-packages/bicm/graph_classes.py:1113: RuntimeWarning: invalid value encountered in divide\n",
      "  probs = node_xy * neighbor_xy / ((1 + node_xy) * (1 + neighbor_xy))\n",
      "/home/sarawalk/sdgs_py38/lib/python3.8/site-packages/bicm/graph_classes.py:1113: RuntimeWarning: invalid value encountered in divide\n",
      "  probs = node_xy * neighbor_xy / ((1 + node_xy) * (1 + neighbor_xy))\n",
      "\n",
      " 52%|█████████████████████████████████████████████████████████████▍                                                         | 48/93 [00:00<00:00, 414.73it/s]\u001b[A\n",
      "100%|███████████████████████████████████████████████████████████████████████████████████████████████████████████████████████| 93/93 [00:00<00:00, 375.96it/s]\u001b[A\n"
     ]
    },
    {
     "name": "stdout",
     "output_type": "stream",
     "text": [
      "No V-motifs will be validated. Try increasing alpha\n"
     ]
    },
    {
     "name": "stderr",
     "output_type": "stream",
     "text": [
      "\n",
      "  0%|                                                                                                                                  | 0/7 [00:00<?, ?it/s]\u001b[A/home/sarawalk/sdgs_py38/lib/python3.8/site-packages/bicm/graph_classes.py:1113: RuntimeWarning: invalid value encountered in divide\n",
      "  probs = node_xy * neighbor_xy / ((1 + node_xy) * (1 + neighbor_xy))\n",
      "/home/sarawalk/sdgs_py38/lib/python3.8/site-packages/bicm/graph_classes.py:1113: RuntimeWarning: invalid value encountered in divide\n",
      "  probs = node_xy * neighbor_xy / ((1 + node_xy) * (1 + neighbor_xy))\n",
      "/home/sarawalk/sdgs_py38/lib/python3.8/site-packages/bicm/graph_classes.py:1113: RuntimeWarning: invalid value encountered in divide\n",
      "  probs = node_xy * neighbor_xy / ((1 + node_xy) * (1 + neighbor_xy))\n",
      "/home/sarawalk/sdgs_py38/lib/python3.8/site-packages/bicm/graph_classes.py:1113: RuntimeWarning: invalid value encountered in divide\n",
      "  probs = node_xy * neighbor_xy / ((1 + node_xy) * (1 + neighbor_xy))\n",
      "\n",
      "100%|██████████████████████████████████████████████████████████████████████████████████████████████████████████████████████████| 7/7 [00:00<00:00, 41.37it/s]\u001b[A\n"
     ]
    },
    {
     "name": "stdout",
     "output_type": "stream",
     "text": [
      "No V-motifs will be validated. Try increasing alpha\n",
      "\n",
      "                      WARNING: this system has at least a node that is disconnected or connected to all nodes\n",
      "                       of the opposite layer. This may cause some convergence issues.\n",
      "                      Please use the full mode providing a biadjacency matrix or an edgelist,\n",
      "                       or clean your data from these nodes. \n",
      "                      \n",
      "2023 Utilities SDG 17: Partnerships for the Goals\r"
     ]
    },
    {
     "name": "stderr",
     "output_type": "stream",
     "text": [
      "\n",
      "  0%|                                                                                                                                 | 0/93 [00:00<?, ?it/s]\u001b[A/home/sarawalk/sdgs_py38/lib/python3.8/site-packages/bicm/graph_classes.py:1113: RuntimeWarning: invalid value encountered in divide\n",
      "  probs = node_xy * neighbor_xy / ((1 + node_xy) * (1 + neighbor_xy))\n",
      "/home/sarawalk/sdgs_py38/lib/python3.8/site-packages/bicm/graph_classes.py:1113: RuntimeWarning: invalid value encountered in divide\n",
      "  probs = node_xy * neighbor_xy / ((1 + node_xy) * (1 + neighbor_xy))\n",
      "/home/sarawalk/sdgs_py38/lib/python3.8/site-packages/bicm/graph_classes.py:1113: RuntimeWarning: invalid value encountered in divide\n",
      "  probs = node_xy * neighbor_xy / ((1 + node_xy) * (1 + neighbor_xy))\n",
      "/home/sarawalk/sdgs_py38/lib/python3.8/site-packages/bicm/graph_classes.py:1113: RuntimeWarning: invalid value encountered in divide\n",
      "  probs = node_xy * neighbor_xy / ((1 + node_xy) * (1 + neighbor_xy))\n",
      "\n",
      " 45%|█████████████████████████████████████████████████████▋                                                                 | 42/93 [00:00<00:00, 379.29it/s]\u001b[A\n",
      "100%|███████████████████████████████████████████████████████████████████████████████████████████████████████████████████████| 93/93 [00:00<00:00, 358.54it/s]\u001b[A\n"
     ]
    },
    {
     "name": "stdout",
     "output_type": "stream",
     "text": [
      "No V-motifs will be validated. Try increasing alpha\n"
     ]
    },
    {
     "name": "stderr",
     "output_type": "stream",
     "text": [
      "\n",
      "  0%|                                                                                                                                  | 0/7 [00:00<?, ?it/s]\u001b[A/home/sarawalk/sdgs_py38/lib/python3.8/site-packages/bicm/graph_classes.py:1113: RuntimeWarning: invalid value encountered in divide\n",
      "  probs = node_xy * neighbor_xy / ((1 + node_xy) * (1 + neighbor_xy))\n",
      "/home/sarawalk/sdgs_py38/lib/python3.8/site-packages/bicm/graph_classes.py:1113: RuntimeWarning: invalid value encountered in divide\n",
      "  probs = node_xy * neighbor_xy / ((1 + node_xy) * (1 + neighbor_xy))\n",
      "/home/sarawalk/sdgs_py38/lib/python3.8/site-packages/bicm/graph_classes.py:1113: RuntimeWarning: invalid value encountered in divide\n",
      "  probs = node_xy * neighbor_xy / ((1 + node_xy) * (1 + neighbor_xy))\n",
      "/home/sarawalk/sdgs_py38/lib/python3.8/site-packages/bicm/graph_classes.py:1113: RuntimeWarning: invalid value encountered in divide\n",
      "  probs = node_xy * neighbor_xy / ((1 + node_xy) * (1 + neighbor_xy))\n",
      "\n",
      "100%|██████████████████████████████████████████████████████████████████████████████████████████████████████████████████████████| 7/7 [00:00<00:00, 41.77it/s]\u001b[A\n"
     ]
    },
    {
     "name": "stdout",
     "output_type": "stream",
     "text": [
      "No V-motifs will be validated. Try increasing alpha\n"
     ]
    }
   ],
   "source": [
    "val_ids_counter=0\n",
    "val_toks_counter=0\n",
    "\n",
    "for year in tqdm(sdg_melt_dict.keys()):\n",
    "    for sector in sdg_melt_dict[year].keys():\n",
    "        _sdgs=sdg_melt_dict[year][sector].keys()\n",
    "        for _sdg in _sdgs:\n",
    "            sentences=list(sdg_melt_dict[year][sector][sdg].values())\n",
    "            if len(sentences)>1:\n",
    "                cacca=melt(sentences)\n",
    "                cacca.get_bicm(print_error=False)\n",
    "                print(year, sector, _sdg, end='\\r')\n",
    "                token_proj=cacca.MyGraph.get_cols_projection(alpha=0.05)\n",
    "                id_proj=cacca.MyGraph.get_rows_projection(alpha=0.05)\n",
    "                if len(id_proj.keys())>0:\n",
    "                    val_ids_counter+=1\n",
    "                    sdg_melt_dict[year][sector][_sdg]['val_ids']=id_proj\n",
    "                if len(token_proj.keys())>0:\n",
    "                    val_toks_counter+=1\n",
    "                    sdg_melt_dict[year][sector][_sdg]['val_toks']=token_proj"
   ]
  },
  {
   "cell_type": "code",
   "execution_count": 27,
   "id": "fff67427",
   "metadata": {
    "ExecuteTime": {
     "end_time": "2024-06-26T09:43:23.968293Z",
     "start_time": "2024-06-26T09:43:23.959299Z"
    }
   },
   "outputs": [
    {
     "data": {
      "text/plain": [
       "0"
      ]
     },
     "execution_count": 27,
     "metadata": {},
     "output_type": "execute_result"
    }
   ],
   "source": [
    "val_ids_counter"
   ]
  },
  {
   "cell_type": "code",
   "execution_count": 28,
   "id": "e4ceba6e",
   "metadata": {
    "ExecuteTime": {
     "end_time": "2024-06-26T09:43:24.085792Z",
     "start_time": "2024-06-26T09:43:23.971794Z"
    }
   },
   "outputs": [
    {
     "data": {
      "text/plain": [
       "0"
      ]
     },
     "execution_count": 28,
     "metadata": {},
     "output_type": "execute_result"
    }
   ],
   "source": [
    "val_toks_counter"
   ]
  },
  {
   "cell_type": "markdown",
   "id": "03ff38d5",
   "metadata": {},
   "source": [
    "No V-motif validated."
   ]
  },
  {
   "cell_type": "markdown",
   "id": "6db853c3",
   "metadata": {},
   "source": [
    "### We can live without any validation"
   ]
  },
  {
   "cell_type": "markdown",
   "id": "4d0f97c1",
   "metadata": {},
   "source": [
    "It is hard, but it can be done. "
   ]
  },
  {
   "cell_type": "code",
   "execution_count": 29,
   "id": "d81649fa",
   "metadata": {
    "ExecuteTime": {
     "end_time": "2024-06-26T09:43:50.182730Z",
     "start_time": "2024-06-26T09:43:50.174815Z"
    }
   },
   "outputs": [],
   "source": [
    "def biad_list_inverter(biad_list):\n",
    "    inv_biad_list={}\n",
    "    for key in biad_list:\n",
    "        new_keys=biad_list[key]\n",
    "        for new_key in new_keys:\n",
    "            if new_key not in inv_biad_list.keys():\n",
    "                inv_biad_list[new_key]=[]\n",
    "            inv_biad_list[new_key].append(key)\n",
    "    return inv_biad_list"
   ]
  },
  {
   "cell_type": "code",
   "execution_count": 30,
   "id": "e3118487",
   "metadata": {
    "ExecuteTime": {
     "end_time": "2024-06-26T09:43:50.587509Z",
     "start_time": "2024-06-26T09:43:50.575163Z"
    }
   },
   "outputs": [
    {
     "data": {
      "text/plain": [
       "dict_keys(['SDG 3: Good Health and Well-being', 'SDG 4: Quality Education', 'SDG 5: Gender Equality', 'SDG 6: Clean Water and Sanitation', 'SDG 7: Affordable and Clean Energy', 'SDG 8: Decent Work and Economic Growth', 'SDG 9: Industry, Innovation, and Infrastructure', 'SDG 10: Reduced Inequality', 'SDG 11: Sustainable Cities and Communities', 'SDG 12: Responsible Consumption and Production', 'SDG 13: Climate Action', 'SDG 14: Life Below Water', 'SDG 15: Life on Land', 'SDG 16: Peace, Justice, and Strong Institutions', 'SDG 17: Partnerships for the Goals'])"
      ]
     },
     "execution_count": 30,
     "metadata": {},
     "output_type": "execute_result"
    }
   ],
   "source": [
    "sdg_melt_dict[2015]['Energy'].keys()"
   ]
  },
  {
   "cell_type": "code",
   "execution_count": 96,
   "id": "6bda3c81",
   "metadata": {
    "ExecuteTime": {
     "end_time": "2024-06-26T11:14:30.962799Z",
     "start_time": "2024-06-26T11:14:27.779841Z"
    }
   },
   "outputs": [
    {
     "data": {
      "application/vnd.jupyter.widget-view+json": {
       "model_id": "47823607748c49618aa298a576a7450c",
       "version_major": 2,
       "version_minor": 0
      },
      "text/plain": [
       "  0%|          | 0/9 [00:00<?, ?it/s]"
      ]
     },
     "metadata": {},
     "output_type": "display_data"
    }
   ],
   "source": [
    "token_dict={}\n",
    "for year in tqdm(sdg_melt_dict.keys()):\n",
    "    for sector in sdg_melt_dict[year].keys():\n",
    "        _sdgs=sdg_melt_dict[year][sector].keys()\n",
    "        for _sdg in _sdgs:\n",
    "            if _sdg not in token_dict.keys():\n",
    "                token_dict[_sdg]={}\n",
    "            if sector not in token_dict[_sdg].keys():\n",
    "                token_dict[_sdg][sector]={}\n",
    "            sentences=list(sdg_melt_dict[year][sector][_sdg].values())\n",
    "            if len(sentences)>1:\n",
    "                cacca=melt(sentences)\n",
    "                aux=biad_list_inverter(cacca.biadj_list)\n",
    "                out={k: len(v) for k, v in sorted(aux.items(), key=lambda item: len(item[1]), reverse=True) if len(v)/len(sentences)>=0.75 and len(sentences)>=4}\n",
    "                #out={k:v/len(sentences) for k, v in aux.items() if v/len(sentences)>=0.75 and v>2}\n",
    "                if out!={}:\n",
    "                    token_dict[_sdg][sector][year]=out\n",
    "            if token_dict[_sdg][sector]=={}:\n",
    "                del token_dict[_sdg][sector]\n",
    "        "
   ]
  },
  {
   "cell_type": "code",
   "execution_count": 97,
   "id": "a5028b64",
   "metadata": {
    "ExecuteTime": {
     "end_time": "2024-06-26T11:14:31.798645Z",
     "start_time": "2024-06-26T11:14:31.793380Z"
    }
   },
   "outputs": [],
   "source": [
    "ordered_token_dict={sdg: token_dict[sdg] for sdg in sdgs}"
   ]
  },
  {
   "cell_type": "markdown",
   "id": "637dd9dc",
   "metadata": {},
   "source": [
    "#### Save me!"
   ]
  },
  {
   "cell_type": "code",
   "execution_count": 98,
   "id": "c5cfeac2",
   "metadata": {
    "ExecuteTime": {
     "end_time": "2024-06-26T11:14:32.587555Z",
     "start_time": "2024-06-26T11:14:32.572602Z"
    }
   },
   "outputs": [],
   "source": [
    "with open ('./data/token_dict_norm.pickle', 'wb') as f:\n",
    "    pickle.dump(ordered_token_dict, f)"
   ]
  },
  {
   "cell_type": "markdown",
   "id": "da381de0",
   "metadata": {},
   "source": [
    "#### Ready for LaTex?"
   ]
  },
  {
   "cell_type": "code",
   "execution_count": 99,
   "id": "85dd2abd",
   "metadata": {
    "ExecuteTime": {
     "end_time": "2024-06-26T11:14:33.450467Z",
     "start_time": "2024-06-26T11:14:33.440569Z"
    }
   },
   "outputs": [
    {
     "data": {
      "text/plain": [
       "{2021: {'aim': 4,\n",
       "  'custom': 4,\n",
       "  'provid': 4,\n",
       "  'support': 4,\n",
       "  'water': 4,\n",
       "  'afford': 3,\n",
       "  'financi': 3,\n",
       "  'highlight': 3,\n",
       "  'poverti': 3,\n",
       "  'vulner': 3},\n",
       " 2022: {'custom': 4, 'afford': 3, 'scheme': 3, 'support': 3, 'water': 3}}"
      ]
     },
     "execution_count": 99,
     "metadata": {},
     "output_type": "execute_result"
    }
   ],
   "source": [
    "ordered_token_dict['SDG 1: No Poverty']['Utilities']"
   ]
  },
  {
   "cell_type": "code",
   "execution_count": 80,
   "id": "34705357",
   "metadata": {
    "ExecuteTime": {
     "end_time": "2024-06-26T11:01:07.708415Z",
     "start_time": "2024-06-26T11:01:07.684303Z"
    }
   },
   "outputs": [
    {
     "name": "stdout",
     "output_type": "stream",
     "text": [
      "\\begin{tabular}{llll}\n",
      "\\hline\n",
      " SDG   & token     & occurrences   & token   \\\\\n",
      "\\hline\n",
      " pay   & aim       & custom        & custom  \\\\\n",
      "       & custom    & afford        & support \\\\\n",
      "       & provid    & scheme        &         \\\\\n",
      "       & support   & support       &         \\\\\n",
      "       & water     & water         &         \\\\\n",
      "       & afford    &               &         \\\\\n",
      "       & financi   &               &         \\\\\n",
      "       & highlight &               &         \\\\\n",
      "       & poverti   &               &         \\\\\n",
      "       & vulner    &               &         \\\\\n",
      "\\hline\n",
      "\\end{tabular}\n"
     ]
    }
   ],
   "source": [
    "print(tabulate(ordered_token_dict['SDG 1: No Poverty']['Utilities'], tablefmt='latex', headers=headers))"
   ]
  },
  {
   "cell_type": "code",
   "execution_count": 100,
   "id": "8824bda7",
   "metadata": {
    "ExecuteTime": {
     "end_time": "2024-06-26T11:14:47.574756Z",
     "start_time": "2024-06-26T11:14:47.568635Z"
    }
   },
   "outputs": [],
   "source": [
    "headers=['SDG']\n",
    "for year in range(2015, 2024):\n",
    "    headers.append('token')\n",
    "    headers.append('occurrences')"
   ]
  },
  {
   "cell_type": "code",
   "execution_count": 82,
   "id": "8ead9948",
   "metadata": {
    "ExecuteTime": {
     "end_time": "2024-06-26T11:03:32.572655Z",
     "start_time": "2024-06-26T11:03:32.566313Z"
    }
   },
   "outputs": [],
   "source": [
    "tables4latex={}\n",
    "for sector in ['Energy', 'Utilities']:\n",
    "    tables4latex[sector]=[]   "
   ]
  },
  {
   "cell_type": "code",
   "execution_count": 83,
   "id": "912a59af",
   "metadata": {
    "ExecuteTime": {
     "end_time": "2024-06-26T11:04:00.456597Z",
     "start_time": "2024-06-26T11:04:00.445822Z"
    }
   },
   "outputs": [
    {
     "data": {
      "text/plain": [
       "{2020: {'pay': 3},\n",
       " 2021: {'aim': 4,\n",
       "  'custom': 4,\n",
       "  'provid': 4,\n",
       "  'support': 4,\n",
       "  'water': 4,\n",
       "  'afford': 3,\n",
       "  'financi': 3,\n",
       "  'highlight': 3,\n",
       "  'poverti': 3,\n",
       "  'vulner': 3},\n",
       " 2022: {'custom': 4, 'afford': 3, 'scheme': 3, 'support': 3, 'water': 3},\n",
       " 2023: {'custom': 3, 'support': 3}}"
      ]
     },
     "execution_count": 83,
     "metadata": {},
     "output_type": "execute_result"
    }
   ],
   "source": [
    "ordered_token_dict['SDG 1: No Poverty']['Utilities']"
   ]
  },
  {
   "cell_type": "code",
   "execution_count": null,
   "id": "7c239b84",
   "metadata": {},
   "outputs": [],
   "source": [
    "for sdg in sdgs:\n",
    "    for sector in ['Energy', 'Utilities']:\n",
    "        my_years=list(ordered_token_dict[sdg][sector].keys())\n",
    "        max_length=max([len(v.keys()) for v in ordered_token_dict[sdg][sector].values()]\n",
    "        "
   ]
  },
  {
   "cell_type": "code",
   "execution_count": 84,
   "id": "a1ccc022",
   "metadata": {
    "ExecuteTime": {
     "end_time": "2024-06-26T11:06:08.525873Z",
     "start_time": "2024-06-26T11:06:08.517673Z"
    }
   },
   "outputs": [],
   "source": [
    "sdg=sdgs[0]\n",
    "sector='Utilities'"
   ]
  },
  {
   "cell_type": "code",
   "execution_count": 86,
   "id": "d9aa9972",
   "metadata": {
    "ExecuteTime": {
     "end_time": "2024-06-26T11:06:25.645539Z",
     "start_time": "2024-06-26T11:06:25.640385Z"
    }
   },
   "outputs": [],
   "source": [
    "my_years=list(ordered_token_dict[sdg][sector].keys())"
   ]
  },
  {
   "cell_type": "code",
   "execution_count": 87,
   "id": "db0bcb7f",
   "metadata": {
    "ExecuteTime": {
     "end_time": "2024-06-26T11:06:28.724760Z",
     "start_time": "2024-06-26T11:06:28.712232Z"
    }
   },
   "outputs": [
    {
     "data": {
      "text/plain": [
       "[2020, 2021, 2022, 2023]"
      ]
     },
     "execution_count": 87,
     "metadata": {},
     "output_type": "execute_result"
    }
   ],
   "source": [
    "my_years"
   ]
  },
  {
   "cell_type": "code",
   "execution_count": 88,
   "id": "ea2e09b7",
   "metadata": {
    "ExecuteTime": {
     "end_time": "2024-06-26T11:06:30.429389Z",
     "start_time": "2024-06-26T11:06:30.424245Z"
    }
   },
   "outputs": [],
   "source": [
    "max_length=max([len(v.keys()) for v in ordered_token_dict[sdg][sector].values()])"
   ]
  },
  {
   "cell_type": "code",
   "execution_count": 89,
   "id": "a9c67745",
   "metadata": {
    "ExecuteTime": {
     "end_time": "2024-06-26T11:06:33.367163Z",
     "start_time": "2024-06-26T11:06:33.357221Z"
    }
   },
   "outputs": [
    {
     "data": {
      "text/plain": [
       "10"
      ]
     },
     "execution_count": 89,
     "metadata": {},
     "output_type": "execute_result"
    }
   ],
   "source": [
    "max_length"
   ]
  },
  {
   "cell_type": "code",
   "execution_count": 91,
   "id": "4c770316",
   "metadata": {
    "ExecuteTime": {
     "end_time": "2024-06-26T11:11:13.569494Z",
     "start_time": "2024-06-26T11:11:13.556543Z"
    }
   },
   "outputs": [
    {
     "data": {
      "text/plain": [
       "1"
      ]
     },
     "execution_count": 91,
     "metadata": {},
     "output_type": "execute_result"
    }
   ],
   "source": [
    "len(ordered_token_dict[sdg][sector][2020])"
   ]
  },
  {
   "cell_type": "code",
   "execution_count": null,
   "id": "9b9f6b8a",
   "metadata": {},
   "outputs": [],
   "source": [
    "new_ordered_token_dict={}\n",
    "for sector in ['Energy', 'Utilities']:\n",
    "    new_ordered_token_dict[sector]"
   ]
  },
  {
   "cell_type": "code",
   "execution_count": 106,
   "id": "89dd1fed",
   "metadata": {
    "ExecuteTime": {
     "end_time": "2024-06-26T12:52:33.225381Z",
     "start_time": "2024-06-26T12:52:33.182820Z"
    }
   },
   "outputs": [
    {
     "ename": "TypeError",
     "evalue": "'dict_keys' object is not subscriptable",
     "output_type": "error",
     "traceback": [
      "\u001b[0;31m---------------------------------------------------------------------------\u001b[0m",
      "\u001b[0;31mTypeError\u001b[0m                                 Traceback (most recent call last)",
      "Cell \u001b[0;32mIn[106], line 1\u001b[0m\n\u001b[0;32m----> 1\u001b[0m \u001b[43mordered_token_dict\u001b[49m\u001b[43m[\u001b[49m\u001b[43msdg\u001b[49m\u001b[43m]\u001b[49m\u001b[43m[\u001b[49m\u001b[43msector\u001b[49m\u001b[43m]\u001b[49m\u001b[43m[\u001b[49m\u001b[38;5;241;43m2022\u001b[39;49m\u001b[43m]\u001b[49m\u001b[38;5;241;43m.\u001b[39;49m\u001b[43mkeys\u001b[49m\u001b[43m(\u001b[49m\u001b[43m)\u001b[49m\u001b[43m[\u001b[49m\u001b[38;5;241;43m0\u001b[39;49m\u001b[43m]\u001b[49m\n",
      "\u001b[0;31mTypeError\u001b[0m: 'dict_keys' object is not subscriptable"
     ]
    }
   ],
   "source": [
    "ordered_token_dict[sdg][sector][2022].keys()[0]"
   ]
  },
  {
   "cell_type": "code",
   "execution_count": 297,
   "id": "6cd11cfc",
   "metadata": {
    "ExecuteTime": {
     "end_time": "2024-06-26T13:50:03.279214Z",
     "start_time": "2024-06-26T13:50:03.273970Z"
    }
   },
   "outputs": [],
   "source": [
    "sector='Energy'"
   ]
  },
  {
   "cell_type": "code",
   "execution_count": 298,
   "id": "32bd16ab",
   "metadata": {
    "ExecuteTime": {
     "end_time": "2024-06-26T13:50:04.462241Z",
     "start_time": "2024-06-26T13:50:04.454645Z"
    }
   },
   "outputs": [],
   "source": [
    "min_year=2024\n",
    "for sdg in sdgs:\n",
    "    if sector in ordered_token_dict[sdg].keys():\n",
    "        my_min_year=min(ordered_token_dict[sdg][sector].keys())\n",
    "        if min_year>my_min_year:\n",
    "            min_year=my_min_year"
   ]
  },
  {
   "cell_type": "code",
   "execution_count": 299,
   "id": "6a44d258",
   "metadata": {
    "ExecuteTime": {
     "end_time": "2024-06-26T13:50:11.959667Z",
     "start_time": "2024-06-26T13:50:11.951104Z"
    }
   },
   "outputs": [
    {
     "data": {
      "text/plain": [
       "2019"
      ]
     },
     "execution_count": 299,
     "metadata": {},
     "output_type": "execute_result"
    }
   ],
   "source": [
    "min_year"
   ]
  },
  {
   "cell_type": "code",
   "execution_count": 374,
   "id": "f81c8872",
   "metadata": {
    "ExecuteTime": {
     "end_time": "2024-06-26T14:08:46.610196Z",
     "start_time": "2024-06-26T14:08:46.597149Z"
    }
   },
   "outputs": [],
   "source": [
    "sdg=sdgs[16]"
   ]
  },
  {
   "cell_type": "code",
   "execution_count": 375,
   "id": "b446639f",
   "metadata": {
    "ExecuteTime": {
     "end_time": "2024-06-26T14:08:47.028623Z",
     "start_time": "2024-06-26T14:08:47.019118Z"
    }
   },
   "outputs": [
    {
     "data": {
      "text/plain": [
       "True"
      ]
     },
     "execution_count": 375,
     "metadata": {},
     "output_type": "execute_result"
    }
   ],
   "source": [
    "not ordered_token_dict[sdg]=={} and sector in ordered_token_dict[sdg].keys()"
   ]
  },
  {
   "cell_type": "code",
   "execution_count": 376,
   "id": "ff34c026",
   "metadata": {
    "ExecuteTime": {
     "end_time": "2024-06-26T14:08:47.473626Z",
     "start_time": "2024-06-26T14:08:47.467391Z"
    }
   },
   "outputs": [],
   "source": [
    "my_years=list(ordered_token_dict[sdg][sector].keys())\n",
    "max_length=max([len(v.keys()) for v in ordered_token_dict[sdg][sector].values()])"
   ]
  },
  {
   "cell_type": "code",
   "execution_count": 377,
   "id": "1ff5e6f8",
   "metadata": {
    "ExecuteTime": {
     "end_time": "2024-06-26T14:08:47.909039Z",
     "start_time": "2024-06-26T14:08:47.897557Z"
    }
   },
   "outputs": [],
   "source": [
    "table=[]\n",
    "for i in range(max_length):\n",
    "    if i==0:\n",
    "        aux=[sdg]\n",
    "    else:\n",
    "        aux=['']\n",
    "    for year in range(min_year, 2024):\n",
    "        if year not in my_years:\n",
    "            # the token\n",
    "            aux.append('')\n",
    "            # the occurrence\n",
    "            aux.append('')\n",
    "        else:\n",
    "            year_dict=ordered_token_dict[sdg][sector][year]\n",
    "            if i<len(year_dict.keys()):\n",
    "                key_i=list(ordered_token_dict[sdg][sector][year].keys())[i]\n",
    "                # the token\n",
    "                aux.append(key_i)\n",
    "                # the occurrence\n",
    "                aux.append(ordered_token_dict[sdg][sector][year][key_i])\n",
    "            else:\n",
    "                # the token\n",
    "                aux.append('')\n",
    "                # the occurrence\n",
    "                aux.append('')\n",
    "    table.append(aux)"
   ]
  },
  {
   "cell_type": "code",
   "execution_count": 378,
   "id": "807fd570",
   "metadata": {
    "ExecuteTime": {
     "end_time": "2024-06-26T14:08:48.408851Z",
     "start_time": "2024-06-26T14:08:48.398857Z"
    }
   },
   "outputs": [
    {
     "name": "stdout",
     "output_type": "stream",
     "text": [
      "\\begin{tabular}{llllrlrlllr}\n",
      "\\hline\n",
      " SDG                                & token       & occurrences   & token       &   occurrences & token       &   occurrences & token       & occurrences   & token       &   occurrences \\\\\n",
      "\\hline\n",
      " SDG 17: Partnerships for the Goals & collabor    & 6             & collabor    &             6 & collabor    &             8 & collabor    & 9             & collabor    &             8 \\\\\n",
      "                                    & partnership & 6             & partnership &             6 & partnership &             8 & partnership & 9             & partnership &             8 \\\\\n",
      "                                    & sustain     & 6             & sustain     &             6 & sustain     &             8 & sustain     & 9             & sustain     &             8 \\\\\n",
      "                                    & address     & 5             & achiev      &             5 & engag       &             7 & engag       & 8             & engag       &             7 \\\\\n",
      "                                    & challeng    & 5             & goal        &             5 & summari     &             7 & summari     & 8             & summari     &             7 \\\\\n",
      "                                    &             &               & report      &             5 & achiev      &             6 & achiev      & 7             & achiev      &             6 \\\\\n",
      "                                    &             &               & engag       &             5 & goal        &             6 & goal        & 7             & goal        &             6 \\\\\n",
      "                                    &             &               & summari     &             5 & report      &             6 &             &               & report      &             6 \\\\\n",
      "\\hline\n",
      "\\end{tabular}\n"
     ]
    }
   ],
   "source": [
    "print(tabulate(table, tablefmt='latex', headers=headers))"
   ]
  },
  {
   "cell_type": "code",
   "execution_count": null,
   "id": "07f08b90",
   "metadata": {},
   "outputs": [],
   "source": []
  }
 ],
 "metadata": {
  "kernelspec": {
   "display_name": "Python 3 (ipykernel)",
   "language": "python",
   "name": "python3"
  },
  "language_info": {
   "codemirror_mode": {
    "name": "ipython",
    "version": 3
   },
   "file_extension": ".py",
   "mimetype": "text/x-python",
   "name": "python",
   "nbconvert_exporter": "python",
   "pygments_lexer": "ipython3",
   "version": "3.8.10"
  },
  "notify_time": "5",
  "toc": {
   "base_numbering": 1,
   "nav_menu": {},
   "number_sections": true,
   "sideBar": true,
   "skip_h1_title": false,
   "title_cell": "Table of Contents",
   "title_sidebar": "Contents",
   "toc_cell": false,
   "toc_position": {
    "height": "752px",
    "left": "57px",
    "top": "202px",
    "width": "288px"
   },
   "toc_section_display": true,
   "toc_window_display": true
  }
 },
 "nbformat": 4,
 "nbformat_minor": 5
}
