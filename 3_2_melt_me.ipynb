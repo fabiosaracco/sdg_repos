{
 "cells": [
  {
   "cell_type": "markdown",
   "id": "de05ac57",
   "metadata": {},
   "source": [
    "# Intro"
   ]
  },
  {
   "cell_type": "markdown",
   "id": "0e7f70ff",
   "metadata": {},
   "source": [
    "## Load"
   ]
  },
  {
   "cell_type": "markdown",
   "id": "735f36fa",
   "metadata": {},
   "source": [
    "### Standards"
   ]
  },
  {
   "cell_type": "code",
   "execution_count": 1,
   "id": "e34abd81",
   "metadata": {
    "ExecuteTime": {
     "end_time": "2024-06-25T10:43:59.385222Z",
     "start_time": "2024-06-25T10:43:59.042474Z"
    }
   },
   "outputs": [],
   "source": [
    "import os, sys, pickle\n",
    "import numpy as np\n",
    "from tqdm.notebook import trange, tqdm\n",
    "import re"
   ]
  },
  {
   "cell_type": "code",
   "execution_count": 2,
   "id": "e0699709",
   "metadata": {
    "ExecuteTime": {
     "end_time": "2024-06-25T10:44:00.282233Z",
     "start_time": "2024-06-25T10:43:59.391241Z"
    }
   },
   "outputs": [],
   "source": [
    "import matplotlib.pyplot as plt\n",
    "plt.rcParams['axes.linewidth'] = 2\n",
    "plt.rcParams['xtick.major.size'] = 10\n",
    "plt.rcParams['xtick.major.width'] = 2\n",
    "plt.rcParams['ytick.major.size'] = 10\n",
    "plt.rcParams['ytick.major.width'] = 2\n",
    "\n",
    "plt.rcParams['xtick.labelsize'] = 14\n",
    "plt.rcParams['ytick.labelsize'] = 14\n",
    "\n",
    "plt.rcParams['xtick.minor.size'] = 5\n",
    "plt.rcParams['xtick.minor.width'] = 1\n",
    "plt.rcParams['ytick.minor.size'] = 5\n",
    "plt.rcParams['ytick.minor.width'] = 1\n"
   ]
  },
  {
   "cell_type": "code",
   "execution_count": 3,
   "id": "a1923006",
   "metadata": {
    "ExecuteTime": {
     "end_time": "2024-06-25T10:44:00.310655Z",
     "start_time": "2024-06-25T10:44:00.286565Z"
    }
   },
   "outputs": [],
   "source": [
    "from multiprocess import Pool"
   ]
  },
  {
   "cell_type": "code",
   "execution_count": 4,
   "id": "91a10739",
   "metadata": {
    "ExecuteTime": {
     "end_time": "2024-06-25T10:44:00.742401Z",
     "start_time": "2024-06-25T10:44:00.313912Z"
    }
   },
   "outputs": [],
   "source": [
    "from numba.core.errors import NumbaExperimentalFeatureWarning\n",
    "import warnings\n",
    "\n",
    "warnings.simplefilter('ignore', category=NumbaExperimentalFeatureWarning)"
   ]
  },
  {
   "cell_type": "code",
   "execution_count": 5,
   "id": "3eb3a798",
   "metadata": {
    "ExecuteTime": {
     "end_time": "2024-06-25T10:44:00.755829Z",
     "start_time": "2024-06-25T10:44:00.748169Z"
    }
   },
   "outputs": [],
   "source": [
    "from importlib.metadata import version "
   ]
  },
  {
   "cell_type": "markdown",
   "id": "de4d8b06",
   "metadata": {},
   "source": [
    "### Homemade modules"
   ]
  },
  {
   "cell_type": "code",
   "execution_count": 6,
   "id": "db08b6ab",
   "metadata": {
    "ExecuteTime": {
     "end_time": "2024-06-25T10:44:05.536282Z",
     "start_time": "2024-06-25T10:44:00.759693Z"
    }
   },
   "outputs": [
    {
     "name": "stderr",
     "output_type": "stream",
     "text": [
      "[nltk_data] Downloading package stopwords to\n",
      "[nltk_data]     /home/sarawalk/nltk_data...\n",
      "[nltk_data]   Package stopwords is already up-to-date!\n",
      "[nltk_data] Downloading package punkt to /home/sarawalk/nltk_data...\n",
      "[nltk_data]   Package punkt is already up-to-date!\n"
     ]
    }
   ],
   "source": [
    "from tesste import tesste\n",
    "from ppp import ppp\n",
    "from readers_and_converters import file2text, text2dict, text2vec\n",
    "from melt import melt"
   ]
  },
  {
   "cell_type": "code",
   "execution_count": 7,
   "id": "618fe2c4",
   "metadata": {
    "ExecuteTime": {
     "end_time": "2024-06-25T10:44:05.568144Z",
     "start_time": "2024-06-25T10:44:05.541517Z"
    }
   },
   "outputs": [
    {
     "data": {
      "text/plain": [
       "'0.1.2.1'"
      ]
     },
     "execution_count": 7,
     "metadata": {},
     "output_type": "execute_result"
    }
   ],
   "source": [
    "version('melt')"
   ]
  },
  {
   "cell_type": "markdown",
   "id": "e3b143ca",
   "metadata": {},
   "source": [
    "## Stoopid infos"
   ]
  },
  {
   "cell_type": "code",
   "execution_count": 8,
   "id": "018c14a6",
   "metadata": {
    "ExecuteTime": {
     "end_time": "2024-06-25T10:44:05.658515Z",
     "start_time": "2024-06-25T10:44:05.572164Z"
    }
   },
   "outputs": [],
   "source": [
    "L_SDGS=17"
   ]
  },
  {
   "cell_type": "markdown",
   "id": "b4f2af5a",
   "metadata": {},
   "source": [
    "## Stoopid functions"
   ]
  },
  {
   "cell_type": "code",
   "execution_count": 9,
   "id": "043b7c62",
   "metadata": {
    "ExecuteTime": {
     "end_time": "2024-06-25T10:44:05.750069Z",
     "start_time": "2024-06-25T10:44:05.670720Z"
    }
   },
   "outputs": [],
   "source": [
    "def a_fdr(alpha, pval_vec):\n",
    "    ord_pvs=np.sort(pval_vec)\n",
    "    lopvs=len(ord_pvs)\n",
    "    if lopvs>0:\n",
    "        fdr_tests=ord_pvs[ord_pvs<=alpha/lopvs*(1+np.arange(lopvs))]\n",
    "        if len(fdr_tests)>0:\n",
    "            return fdr_tests[-1]\n",
    "        else:\n",
    "            return 0\n",
    "    return 0"
   ]
  },
  {
   "cell_type": "markdown",
   "id": "daad65a3",
   "metadata": {},
   "source": [
    "# Data"
   ]
  },
  {
   "cell_type": "code",
   "execution_count": 22,
   "id": "1f775c65",
   "metadata": {
    "ExecuteTime": {
     "end_time": "2024-06-25T13:22:38.104777Z",
     "start_time": "2024-06-25T13:22:38.099287Z"
    }
   },
   "outputs": [],
   "source": [
    "with open('./data/sdgs.pickle', 'rb') as f:\n",
    "    sdgs=pickle.load(f)"
   ]
  },
  {
   "cell_type": "code",
   "execution_count": 10,
   "id": "0d01929f",
   "metadata": {
    "ExecuteTime": {
     "end_time": "2024-06-25T10:44:05.881598Z",
     "start_time": "2024-06-25T10:44:05.754285Z"
    }
   },
   "outputs": [],
   "source": [
    "with open ('./data/sdgs_dict.pickle', 'rb') as f:\n",
    "    sdgs_dict=pickle.load(f)"
   ]
  },
  {
   "cell_type": "code",
   "execution_count": 136,
   "id": "16519346",
   "metadata": {
    "ExecuteTime": {
     "end_time": "2024-06-25T14:50:42.198047Z",
     "start_time": "2024-06-25T14:50:42.191028Z"
    }
   },
   "outputs": [],
   "source": [
    "with open ('./data/energy_utilities_texts.pickle', 'rb') as f:\n",
    "    text_dict=pickle.load(f)"
   ]
  },
  {
   "cell_type": "markdown",
   "id": "20822e31",
   "metadata": {},
   "source": [
    "# Melting the text from ChatGPT"
   ]
  },
  {
   "cell_type": "markdown",
   "id": "3dbc74b0",
   "metadata": {},
   "source": [
    "## Entire text"
   ]
  },
  {
   "cell_type": "markdown",
   "id": "ef0000d5",
   "metadata": {},
   "source": [
    "### Some preprocessing"
   ]
  },
  {
   "cell_type": "code",
   "execution_count": 42,
   "id": "1b1ce895",
   "metadata": {
    "ExecuteTime": {
     "end_time": "2024-06-25T14:06:26.560023Z",
     "start_time": "2024-06-25T14:06:26.527316Z"
    }
   },
   "outputs": [
    {
     "data": {
      "application/vnd.jupyter.widget-view+json": {
       "model_id": "dfe59327ce9a451aa92628381fff70aa",
       "version_major": 2,
       "version_minor": 0
      },
      "text/plain": [
       "  0%|          | 0/9 [00:00<?, ?it/s]"
      ]
     },
     "metadata": {},
     "output_type": "display_data"
    }
   ],
   "source": [
    "all_texts={}\n",
    "for year in trange(2015, 2024):\n",
    "    all_texts[year]={}\n",
    "    for sector in sdgs_dict[year].keys():\n",
    "        all_texts[year][sector]={}\n",
    "        _texts=[]\n",
    "        for firm in sdgs_dict[year][sector].keys():\n",
    "            _text=''\n",
    "            for sdg in sdgs_dict[year][sector][firm].keys():\n",
    "                _text+=' '+sdgs_dict[year][sector][firm][sdg].replace('\\u200b', '')\n",
    "            _texts.append(_text)\n",
    "        all_texts[year][sector]['firms']=list(sdgs_dict[year][sector].keys())\n",
    "        all_texts[year][sector]['texts']=_texts"
   ]
  },
  {
   "cell_type": "markdown",
   "id": "2e32b5e2",
   "metadata": {
    "ExecuteTime": {
     "end_time": "2024-06-25T10:06:17.498736Z",
     "start_time": "2024-06-25T10:06:17.475724Z"
    }
   },
   "source": [
    "### Each year"
   ]
  },
  {
   "cell_type": "code",
   "execution_count": 45,
   "id": "c8bda31a",
   "metadata": {
    "ExecuteTime": {
     "end_time": "2024-06-25T14:09:10.339246Z",
     "start_time": "2024-06-25T14:08:01.176295Z"
    }
   },
   "outputs": [
    {
     "data": {
      "application/vnd.jupyter.widget-view+json": {
       "model_id": "64602767bb964edf80b3bcbeeb73e623",
       "version_major": 2,
       "version_minor": 0
      },
      "text/plain": [
       "  0%|          | 0/9 [00:00<?, ?it/s]"
      ]
     },
     "metadata": {},
     "output_type": "display_data"
    },
    {
     "name": "stdout",
     "output_type": "stream",
     "text": [
      "Energy 2015\n",
      "\n",
      "                      WARNING: this system has at least a node that is disconnected or connected to all nodes\n",
      "                       of the opposite layer. This may cause some convergence issues.\n",
      "                      Please use the full mode providing a biadjacency matrix or an edgelist,\n",
      "                       or clean your data from these nodes. \n",
      "                      \n"
     ]
    },
    {
     "name": "stderr",
     "output_type": "stream",
     "text": [
      "\n",
      "\n",
      "  0%|                                                                                                                                | 0/232 [00:00<?, ?it/s]\u001b[A\u001b[A/home/sarawalk/sdgs_py38/lib/python3.8/site-packages/bicm/graph_classes.py:1113: RuntimeWarning: invalid value encountered in divide\n",
      "  probs = node_xy * neighbor_xy / ((1 + node_xy) * (1 + neighbor_xy))\n",
      "/home/sarawalk/sdgs_py38/lib/python3.8/site-packages/bicm/graph_classes.py:1113: RuntimeWarning: invalid value encountered in divide\n",
      "  probs = node_xy * neighbor_xy / ((1 + node_xy) * (1 + neighbor_xy))\n",
      "/home/sarawalk/sdgs_py38/lib/python3.8/site-packages/bicm/graph_classes.py:1113: RuntimeWarning: invalid value encountered in divide\n",
      "  probs = node_xy * neighbor_xy / ((1 + node_xy) * (1 + neighbor_xy))\n",
      "/home/sarawalk/sdgs_py38/lib/python3.8/site-packages/bicm/graph_classes.py:1113: RuntimeWarning: invalid value encountered in divide\n",
      "  probs = node_xy * neighbor_xy / ((1 + node_xy) * (1 + neighbor_xy))\n",
      "\n",
      "\n",
      " 32%|██████████████████████████████████████▏                                                                               | 75/232 [00:00<00:01, 151.14it/s]\u001b[A\u001b[A\n",
      "\n",
      " 52%|████████████████████████████████████████████████████████████▌                                                        | 120/232 [00:00<00:00, 201.05it/s]\u001b[A\u001b[A\n",
      "\n",
      " 63%|█████████████████████████████████████████████████████████████████████████▋                                           | 146/232 [00:00<00:00, 169.35it/s]\u001b[A\u001b[A\n",
      "\n",
      "100%|█████████████████████████████████████████████████████████████████████████████████████████████████████████████████████| 232/232 [00:01<00:00, 227.59it/s]\u001b[A\u001b[A\n"
     ]
    },
    {
     "name": "stdout",
     "output_type": "stream",
     "text": [
      "No V-motifs will be validated. Try increasing alpha\n"
     ]
    },
    {
     "name": "stderr",
     "output_type": "stream",
     "text": [
      "\n",
      "\n",
      "  0%|                                                                                                                                  | 0/2 [00:00<?, ?it/s]\u001b[A\u001b[A\n",
      "\n",
      " 50%|█████████████████████████████████████████████████████████████                                                             | 1/2 [00:00<00:00,  6.84it/s]\u001b[A\u001b[A/home/sarawalk/sdgs_py38/lib/python3.8/site-packages/bicm/graph_classes.py:1113: RuntimeWarning: invalid value encountered in divide\n",
      "  probs = node_xy * neighbor_xy / ((1 + node_xy) * (1 + neighbor_xy))\n",
      "\n",
      "\n",
      "100%|██████████████████████████████████████████████████████████████████████████████████████████████████████████████████████████| 2/2 [00:00<00:00,  7.22it/s]\u001b[A\u001b[A\n"
     ]
    },
    {
     "name": "stdout",
     "output_type": "stream",
     "text": [
      "No V-motifs will be validated. Try increasing alpha\n",
      "Energy 2016\n",
      "\n",
      "                      WARNING: this system has at least a node that is disconnected or connected to all nodes\n",
      "                       of the opposite layer. This may cause some convergence issues.\n",
      "                      Please use the full mode providing a biadjacency matrix or an edgelist,\n",
      "                       or clean your data from these nodes. \n",
      "                      \n"
     ]
    },
    {
     "name": "stderr",
     "output_type": "stream",
     "text": [
      "\n",
      "\n",
      "  0%|                                                                                                                                | 0/256 [00:00<?, ?it/s]\u001b[A\u001b[A/home/sarawalk/sdgs_py38/lib/python3.8/site-packages/bicm/graph_classes.py:1113: RuntimeWarning: invalid value encountered in divide\n",
      "  probs = node_xy * neighbor_xy / ((1 + node_xy) * (1 + neighbor_xy))\n",
      "/home/sarawalk/sdgs_py38/lib/python3.8/site-packages/bicm/graph_classes.py:1113: RuntimeWarning: invalid value encountered in divide\n",
      "  probs = node_xy * neighbor_xy / ((1 + node_xy) * (1 + neighbor_xy))\n",
      "/home/sarawalk/sdgs_py38/lib/python3.8/site-packages/bicm/graph_classes.py:1113: RuntimeWarning: invalid value encountered in divide\n",
      "  probs = node_xy * neighbor_xy / ((1 + node_xy) * (1 + neighbor_xy))\n",
      "/home/sarawalk/sdgs_py38/lib/python3.8/site-packages/bicm/graph_classes.py:1113: RuntimeWarning: invalid value encountered in divide\n",
      "  probs = node_xy * neighbor_xy / ((1 + node_xy) * (1 + neighbor_xy))\n",
      "\n",
      "\n",
      " 31%|████████████████████████████████████▉                                                                                 | 80/256 [00:00<00:01, 137.10it/s]\u001b[A\u001b[A\n",
      "\n",
      " 56%|█████████████████████████████████████████████████████████████████▊                                                   | 144/256 [00:00<00:00, 173.92it/s]\u001b[A\u001b[A\n",
      "\n",
      " 75%|███████████████████████████████████████████████████████████████████████████████████████▊                             | 192/256 [00:00<00:00, 221.05it/s]\u001b[A\u001b[A\n",
      "\n",
      "100%|█████████████████████████████████████████████████████████████████████████████████████████████████████████████████████| 256/256 [00:01<00:00, 169.88it/s]\u001b[A\u001b[A\n"
     ]
    },
    {
     "name": "stdout",
     "output_type": "stream",
     "text": [
      "No V-motifs will be validated. Try increasing alpha\n"
     ]
    },
    {
     "name": "stderr",
     "output_type": "stream",
     "text": [
      "\n",
      "\n",
      "  0%|                                                                                                                                  | 0/2 [00:00<?, ?it/s]\u001b[A\u001b[A\n",
      "\n",
      " 50%|█████████████████████████████████████████████████████████████                                                             | 1/2 [00:00<00:00,  5.70it/s]\u001b[A\u001b[A/home/sarawalk/sdgs_py38/lib/python3.8/site-packages/bicm/graph_classes.py:1113: RuntimeWarning: invalid value encountered in divide\n",
      "  probs = node_xy * neighbor_xy / ((1 + node_xy) * (1 + neighbor_xy))\n",
      "\n",
      "\n",
      "100%|██████████████████████████████████████████████████████████████████████████████████████████████████████████████████████████| 2/2 [00:00<00:00,  5.87it/s]\u001b[A\u001b[A\n"
     ]
    },
    {
     "name": "stdout",
     "output_type": "stream",
     "text": [
      "No V-motifs will be validated. Try increasing alpha\n",
      "Utilities 2016\n",
      "\n",
      "                      WARNING: this system has at least a node that is disconnected or connected to all nodes\n",
      "                       of the opposite layer. This may cause some convergence issues.\n",
      "                      Please use the full mode providing a biadjacency matrix or an edgelist,\n",
      "                       or clean your data from these nodes. \n",
      "                      \n"
     ]
    },
    {
     "name": "stderr",
     "output_type": "stream",
     "text": [
      "\n",
      "\n",
      "  0%|                                                                                                                                | 0/256 [00:00<?, ?it/s]\u001b[A\u001b[A/home/sarawalk/sdgs_py38/lib/python3.8/site-packages/bicm/graph_classes.py:1113: RuntimeWarning: invalid value encountered in divide\n",
      "  probs = node_xy * neighbor_xy / ((1 + node_xy) * (1 + neighbor_xy))\n",
      "/home/sarawalk/sdgs_py38/lib/python3.8/site-packages/bicm/graph_classes.py:1113: RuntimeWarning: invalid value encountered in divide\n",
      "  probs = node_xy * neighbor_xy / ((1 + node_xy) * (1 + neighbor_xy))\n",
      "/home/sarawalk/sdgs_py38/lib/python3.8/site-packages/bicm/graph_classes.py:1113: RuntimeWarning: invalid value encountered in divide\n",
      "  probs = node_xy * neighbor_xy / ((1 + node_xy) * (1 + neighbor_xy))\n",
      "/home/sarawalk/sdgs_py38/lib/python3.8/site-packages/bicm/graph_classes.py:1113: RuntimeWarning: invalid value encountered in divide\n",
      "  probs = node_xy * neighbor_xy / ((1 + node_xy) * (1 + neighbor_xy))\n",
      "\n",
      "\n",
      " 31%|████████████████████████████████████▉                                                                                 | 80/256 [00:00<00:01, 131.38it/s]\u001b[A\u001b[A\n",
      "\n",
      " 38%|████████████████████████████████████████████▎                                                                         | 96/256 [00:00<00:01, 125.62it/s]\u001b[A\u001b[A\n",
      "\n",
      " 50%|██████████████████████████████████████████████████████████▌                                                          | 128/256 [00:01<00:01, 112.51it/s]\u001b[A\u001b[A\n",
      "\n",
      " 62%|█████████████████████████████████████████████████████████████████████████▏                                           | 160/256 [00:01<00:00, 137.88it/s]\u001b[A\u001b[A\n",
      "\n",
      "100%|█████████████████████████████████████████████████████████████████████████████████████████████████████████████████████| 256/256 [00:01<00:00, 169.22it/s]\u001b[A\u001b[A\n"
     ]
    },
    {
     "name": "stdout",
     "output_type": "stream",
     "text": [
      "No V-motifs will be validated. Try increasing alpha\n"
     ]
    },
    {
     "name": "stderr",
     "output_type": "stream",
     "text": [
      "\n",
      "\n",
      "  0%|                                                                                                                                  | 0/2 [00:00<?, ?it/s]\u001b[A\u001b[A\n",
      "\n",
      " 50%|█████████████████████████████████████████████████████████████                                                             | 1/2 [00:00<00:00,  5.98it/s]\u001b[A\u001b[A/home/sarawalk/sdgs_py38/lib/python3.8/site-packages/bicm/graph_classes.py:1113: RuntimeWarning: invalid value encountered in divide\n",
      "  probs = node_xy * neighbor_xy / ((1 + node_xy) * (1 + neighbor_xy))\n",
      "\n",
      "\n",
      "100%|██████████████████████████████████████████████████████████████████████████████████████████████████████████████████████████| 2/2 [00:00<00:00,  6.12it/s]\u001b[A\u001b[A\n"
     ]
    },
    {
     "name": "stdout",
     "output_type": "stream",
     "text": [
      "No V-motifs will be validated. Try increasing alpha\n",
      "Energy 2017\n",
      "\n",
      "                      WARNING: this system has at least a node that is disconnected or connected to all nodes\n",
      "                       of the opposite layer. This may cause some convergence issues.\n",
      "                      Please use the full mode providing a biadjacency matrix or an edgelist,\n",
      "                       or clean your data from these nodes. \n",
      "                      \n"
     ]
    },
    {
     "name": "stderr",
     "output_type": "stream",
     "text": [
      "\n",
      "\n",
      "  0%|                                                                                                                                | 0/264 [00:00<?, ?it/s]\u001b[A\u001b[A/home/sarawalk/sdgs_py38/lib/python3.8/site-packages/bicm/graph_classes.py:1113: RuntimeWarning: invalid value encountered in divide\n",
      "  probs = node_xy * neighbor_xy / ((1 + node_xy) * (1 + neighbor_xy))\n",
      "/home/sarawalk/sdgs_py38/lib/python3.8/site-packages/bicm/graph_classes.py:1113: RuntimeWarning: invalid value encountered in divide\n",
      "  probs = node_xy * neighbor_xy / ((1 + node_xy) * (1 + neighbor_xy))\n",
      "/home/sarawalk/sdgs_py38/lib/python3.8/site-packages/bicm/graph_classes.py:1113: RuntimeWarning: invalid value encountered in divide\n",
      "  probs = node_xy * neighbor_xy / ((1 + node_xy) * (1 + neighbor_xy))\n",
      "/home/sarawalk/sdgs_py38/lib/python3.8/site-packages/bicm/graph_classes.py:1113: RuntimeWarning: invalid value encountered in divide\n",
      "  probs = node_xy * neighbor_xy / ((1 + node_xy) * (1 + neighbor_xy))\n",
      "\n",
      "\n",
      " 32%|█████████████████████████████████████▉                                                                                | 85/264 [00:00<00:01, 153.46it/s]\u001b[A\u001b[A\n",
      "\n",
      " 39%|█████████████████████████████████████████████▏                                                                       | 102/264 [00:00<00:01, 147.10it/s]\u001b[A\u001b[A\n",
      "\n",
      " 58%|███████████████████████████████████████████████████████████████████▊                                                 | 153/264 [00:00<00:00, 169.12it/s]\u001b[A\u001b[A\n",
      "\n",
      " 77%|██████████████████████████████████████████████████████████████████████████████████████████▍                          | 204/264 [00:01<00:00, 228.17it/s]\u001b[A\u001b[A\n",
      "\n",
      "100%|█████████████████████████████████████████████████████████████████████████████████████████████████████████████████████| 264/264 [00:01<00:00, 187.32it/s]\u001b[A\u001b[A\n"
     ]
    },
    {
     "name": "stdout",
     "output_type": "stream",
     "text": [
      "No V-motifs will be validated. Try increasing alpha\n"
     ]
    },
    {
     "name": "stderr",
     "output_type": "stream",
     "text": [
      "\n",
      "\n",
      "  0%|                                                                                                                                  | 0/2 [00:00<?, ?it/s]\u001b[A\u001b[A\n",
      "\n",
      " 50%|█████████████████████████████████████████████████████████████                                                             | 1/2 [00:00<00:00,  5.73it/s]\u001b[A\u001b[A/home/sarawalk/sdgs_py38/lib/python3.8/site-packages/bicm/graph_classes.py:1113: RuntimeWarning: invalid value encountered in divide\n",
      "  probs = node_xy * neighbor_xy / ((1 + node_xy) * (1 + neighbor_xy))\n",
      "\n",
      "\n",
      "100%|██████████████████████████████████████████████████████████████████████████████████████████████████████████████████████████| 2/2 [00:00<00:00,  5.97it/s]\u001b[A\u001b[A\n"
     ]
    },
    {
     "name": "stdout",
     "output_type": "stream",
     "text": [
      "No V-motifs will be validated. Try increasing alpha\n",
      "Utilities 2017\n",
      "\n",
      "                      WARNING: this system has at least a node that is disconnected or connected to all nodes\n",
      "                       of the opposite layer. This may cause some convergence issues.\n",
      "                      Please use the full mode providing a biadjacency matrix or an edgelist,\n",
      "                       or clean your data from these nodes. \n",
      "                      \n"
     ]
    },
    {
     "name": "stderr",
     "output_type": "stream",
     "text": [
      "\n",
      "\n",
      "  0%|                                                                                                                                | 0/276 [00:00<?, ?it/s]\u001b[A\u001b[A/home/sarawalk/sdgs_py38/lib/python3.8/site-packages/bicm/graph_classes.py:1113: RuntimeWarning: invalid value encountered in divide\n",
      "  probs = node_xy * neighbor_xy / ((1 + node_xy) * (1 + neighbor_xy))\n",
      "/home/sarawalk/sdgs_py38/lib/python3.8/site-packages/bicm/graph_classes.py:1113: RuntimeWarning: invalid value encountered in divide\n",
      "  probs = node_xy * neighbor_xy / ((1 + node_xy) * (1 + neighbor_xy))\n",
      "/home/sarawalk/sdgs_py38/lib/python3.8/site-packages/bicm/graph_classes.py:1113: RuntimeWarning: invalid value encountered in divide\n",
      "  probs = node_xy * neighbor_xy / ((1 + node_xy) * (1 + neighbor_xy))\n",
      "/home/sarawalk/sdgs_py38/lib/python3.8/site-packages/bicm/graph_classes.py:1113: RuntimeWarning: invalid value encountered in divide\n",
      "  probs = node_xy * neighbor_xy / ((1 + node_xy) * (1 + neighbor_xy))\n",
      "\n",
      "\n",
      " 33%|██████████████████████████████████████▍                                                                               | 90/276 [00:00<00:01, 148.44it/s]\u001b[A\u001b[A\n",
      "\n",
      " 39%|█████████████████████████████████████████████▊                                                                       | 108/276 [00:00<00:01, 132.88it/s]\u001b[A\u001b[A\n",
      "\n",
      " 52%|█████████████████████████████████████████████████████████████                                                        | 144/276 [00:00<00:00, 150.46it/s]\u001b[A\u001b[A\n",
      "\n",
      " 85%|███████████████████████████████████████████████████████████████████████████████████████████████████▏                 | 234/276 [00:01<00:00, 187.26it/s]\u001b[A\u001b[A\n",
      "\n",
      "100%|█████████████████████████████████████████████████████████████████████████████████████████████████████████████████████| 276/276 [00:01<00:00, 176.24it/s]\u001b[A\u001b[A\n"
     ]
    },
    {
     "name": "stdout",
     "output_type": "stream",
     "text": [
      "No V-motifs will be validated. Try increasing alpha\n"
     ]
    },
    {
     "name": "stderr",
     "output_type": "stream",
     "text": [
      "\n",
      "\n",
      "  0%|                                                                                                                                  | 0/3 [00:00<?, ?it/s]\u001b[A\u001b[A\n",
      "\n",
      " 33%|████████████████████████████████████████▋                                                                                 | 1/3 [00:00<00:00,  5.83it/s]\u001b[A\u001b[A/home/sarawalk/sdgs_py38/lib/python3.8/site-packages/bicm/graph_classes.py:1113: RuntimeWarning: invalid value encountered in divide\n",
      "  probs = node_xy * neighbor_xy / ((1 + node_xy) * (1 + neighbor_xy))\n",
      "\n",
      "\n",
      " 67%|█████████████████████████████████████████████████████████████████████████████████▎                                        | 2/3 [00:00<00:00,  6.41it/s]\u001b[A\u001b[A/home/sarawalk/sdgs_py38/lib/python3.8/site-packages/bicm/graph_classes.py:1113: RuntimeWarning: invalid value encountered in divide\n",
      "  probs = node_xy * neighbor_xy / ((1 + node_xy) * (1 + neighbor_xy))\n",
      "\n",
      "\n",
      "100%|██████████████████████████████████████████████████████████████████████████████████████████████████████████████████████████| 3/3 [00:00<00:00,  6.16it/s]\u001b[A\u001b[A\n"
     ]
    },
    {
     "name": "stdout",
     "output_type": "stream",
     "text": [
      "No V-motifs will be validated. Try increasing alpha\n",
      "Energy 2018\n"
     ]
    },
    {
     "name": "stderr",
     "output_type": "stream",
     "text": [
      "\n",
      "\n",
      "  0%|                                                                                                                                | 0/254 [00:00<?, ?it/s]\u001b[A\u001b[A\n",
      "\n",
      " 31%|█████████████████████████████████████▍                                                                                 | 80/254 [00:01<00:02, 79.31it/s]\u001b[A\u001b[A\n",
      "\n",
      " 44%|████████████████████████████████████████████████████                                                                  | 112/254 [00:01<00:01, 94.96it/s]\u001b[A\u001b[A\n",
      "\n",
      " 50%|███████████████████████████████████████████████████████████▍                                                          | 128/254 [00:01<00:01, 93.87it/s]\u001b[A\u001b[A\n",
      "\n",
      " 57%|██████████████████████████████████████████████████████████████████▉                                                   | 144/254 [00:01<00:01, 77.90it/s]\u001b[A\u001b[A\n",
      "\n",
      " 76%|████████████████████████████████████████████████████████████████████████████████████████▍                            | 192/254 [00:01<00:00, 126.67it/s]\u001b[A\u001b[A\n",
      "\n",
      " 88%|███████████████████████████████████████████████████████████████████████████████████████████████████████▏             | 224/254 [00:02<00:00, 148.46it/s]\u001b[A\u001b[A\n",
      "\n",
      "100%|█████████████████████████████████████████████████████████████████████████████████████████████████████████████████████| 254/254 [00:02<00:00, 116.75it/s]\u001b[A\u001b[A\n"
     ]
    },
    {
     "name": "stdout",
     "output_type": "stream",
     "text": [
      "No V-motifs will be validated. Try increasing alpha\n"
     ]
    },
    {
     "name": "stderr",
     "output_type": "stream",
     "text": [
      "\n",
      "\n",
      "  0%|                                                                                                                                  | 0/3 [00:00<?, ?it/s]\u001b[A\u001b[A\n",
      "\n",
      " 33%|████████████████████████████████████████▋                                                                                 | 1/3 [00:00<00:00,  6.21it/s]\u001b[A\u001b[A\n",
      "\n",
      " 67%|█████████████████████████████████████████████████████████████████████████████████▎                                        | 2/3 [00:00<00:00,  5.90it/s]\u001b[A\u001b[A\n",
      "\n",
      "100%|██████████████████████████████████████████████████████████████████████████████████████████████████████████████████████████| 3/3 [00:00<00:00,  6.10it/s]\u001b[A\u001b[A\n"
     ]
    },
    {
     "name": "stdout",
     "output_type": "stream",
     "text": [
      "No V-motifs will be validated. Try increasing alpha\n",
      "Utilities 2018\n",
      "\n",
      "                      WARNING: this system has at least a node that is disconnected or connected to all nodes\n",
      "                       of the opposite layer. This may cause some convergence issues.\n",
      "                      Please use the full mode providing a biadjacency matrix or an edgelist,\n",
      "                       or clean your data from these nodes. \n",
      "                      \n"
     ]
    },
    {
     "name": "stderr",
     "output_type": "stream",
     "text": [
      "\n",
      "\n",
      "  0%|                                                                                                                                | 0/396 [00:00<?, ?it/s]\u001b[A\u001b[A/home/sarawalk/sdgs_py38/lib/python3.8/site-packages/bicm/graph_classes.py:1113: RuntimeWarning: invalid value encountered in divide\n",
      "  probs = node_xy * neighbor_xy / ((1 + node_xy) * (1 + neighbor_xy))\n",
      "/home/sarawalk/sdgs_py38/lib/python3.8/site-packages/bicm/graph_classes.py:1113: RuntimeWarning: invalid value encountered in divide\n",
      "  probs = node_xy * neighbor_xy / ((1 + node_xy) * (1 + neighbor_xy))\n",
      "/home/sarawalk/sdgs_py38/lib/python3.8/site-packages/bicm/graph_classes.py:1113: RuntimeWarning: invalid value encountered in divide\n",
      "  probs = node_xy * neighbor_xy / ((1 + node_xy) * (1 + neighbor_xy))\n",
      "/home/sarawalk/sdgs_py38/lib/python3.8/site-packages/bicm/graph_classes.py:1113: RuntimeWarning: invalid value encountered in divide\n",
      "  probs = node_xy * neighbor_xy / ((1 + node_xy) * (1 + neighbor_xy))\n",
      "\n",
      "\n",
      " 32%|█████████████████████████████████████▏                                                                                | 125/396 [00:01<00:03, 85.80it/s]\u001b[A\u001b[A\n",
      "\n",
      " 38%|████████████████████████████████████████████▋                                                                         | 150/396 [00:01<00:02, 84.30it/s]\u001b[A\u001b[A\n",
      "\n",
      " 44%|████████████████████████████████████████████████████▏                                                                 | 175/396 [00:01<00:02, 93.98it/s]\u001b[A\u001b[A\n",
      "\n",
      " 51%|███████████████████████████████████████████████████████████                                                          | 200/396 [00:02<00:01, 100.26it/s]\u001b[A\u001b[A\n",
      "\n",
      " 57%|██████████████████████████████████████████████████████████████████▍                                                  | 225/396 [00:02<00:01, 105.95it/s]\u001b[A\u001b[A\n",
      "\n",
      " 69%|█████████████████████████████████████████████████████████████████████████████████▎                                   | 275/396 [00:02<00:00, 151.36it/s]\u001b[A\u001b[A\n",
      "\n",
      " 82%|████████████████████████████████████████████████████████████████████████████████████████████████                     | 325/396 [00:02<00:00, 141.34it/s]\u001b[A\u001b[A\n",
      "\n",
      " 88%|███████████████████████████████████████████████████████████████████████████████████████████████████████▍             | 350/396 [00:03<00:00, 136.40it/s]\u001b[A\u001b[A\n",
      "\n",
      "100%|█████████████████████████████████████████████████████████████████████████████████████████████████████████████████████| 396/396 [00:03<00:00, 114.47it/s]\u001b[A\u001b[A\n"
     ]
    },
    {
     "name": "stdout",
     "output_type": "stream",
     "text": [
      "No V-motifs will be validated. Try increasing alpha\n"
     ]
    },
    {
     "name": "stderr",
     "output_type": "stream",
     "text": [
      "\n",
      "\n",
      "  0%|                                                                                                                                  | 0/4 [00:00<?, ?it/s]\u001b[A\u001b[A\n",
      "\n",
      " 25%|██████████████████████████████▌                                                                                           | 1/4 [00:00<00:00,  3.55it/s]\u001b[A\u001b[A/home/sarawalk/sdgs_py38/lib/python3.8/site-packages/bicm/graph_classes.py:1113: RuntimeWarning: invalid value encountered in divide\n",
      "  probs = node_xy * neighbor_xy / ((1 + node_xy) * (1 + neighbor_xy))\n",
      "\n",
      "\n",
      " 50%|█████████████████████████████████████████████████████████████                                                             | 2/4 [00:00<00:00,  3.73it/s]\u001b[A\u001b[A/home/sarawalk/sdgs_py38/lib/python3.8/site-packages/bicm/graph_classes.py:1113: RuntimeWarning: invalid value encountered in divide\n",
      "  probs = node_xy * neighbor_xy / ((1 + node_xy) * (1 + neighbor_xy))\n",
      "\n",
      "\n",
      " 75%|███████████████████████████████████████████████████████████████████████████████████████████▌                              | 3/4 [00:00<00:00,  3.79it/s]\u001b[A\u001b[A/home/sarawalk/sdgs_py38/lib/python3.8/site-packages/bicm/graph_classes.py:1113: RuntimeWarning: invalid value encountered in divide\n",
      "  probs = node_xy * neighbor_xy / ((1 + node_xy) * (1 + neighbor_xy))\n",
      "\n",
      "\n",
      "100%|██████████████████████████████████████████████████████████████████████████████████████████████████████████████████████████| 4/4 [00:01<00:00,  3.75it/s]\u001b[A\u001b[A"
     ]
    },
    {
     "name": "stdout",
     "output_type": "stream",
     "text": [
      "No V-motifs will be validated. Try increasing alpha\n",
      "Energy 2019\n"
     ]
    },
    {
     "name": "stderr",
     "output_type": "stream",
     "text": [
      "\n",
      "\n",
      "\n",
      "  0%|                                                                                                                                | 0/252 [00:00<?, ?it/s]\u001b[A\u001b[A\n",
      "\n",
      " 32%|█████████████████████████████████████▊                                                                                 | 80/252 [00:00<00:02, 81.83it/s]\u001b[A\u001b[A\n",
      "\n",
      " 44%|████████████████████████████████████████████████████▍                                                                 | 112/252 [00:01<00:01, 93.82it/s]\u001b[A\u001b[A\n",
      "\n",
      " 57%|███████████████████████████████████████████████████████████████████▍                                                  | 144/252 [00:01<00:01, 86.78it/s]\u001b[A\u001b[A\n",
      "\n",
      " 70%|█████████████████████████████████████████████████████████████████████████████████▋                                   | 176/252 [00:01<00:00, 112.91it/s]\u001b[A\u001b[A\n",
      "\n",
      " 83%|████████████████████████████████████████████████████████████████████████████████████████████████▌                    | 208/252 [00:01<00:00, 131.74it/s]\u001b[A\u001b[A\n",
      "\n",
      "100%|█████████████████████████████████████████████████████████████████████████████████████████████████████████████████████| 252/252 [00:02<00:00, 115.29it/s]\u001b[A\u001b[A\n"
     ]
    },
    {
     "name": "stdout",
     "output_type": "stream",
     "text": [
      "No V-motifs will be validated. Try increasing alpha\n"
     ]
    },
    {
     "name": "stderr",
     "output_type": "stream",
     "text": [
      "\n",
      "\n",
      "  0%|                                                                                                                                  | 0/6 [00:00<?, ?it/s]\u001b[A\u001b[A\n",
      "\n",
      " 17%|████████████████████▎                                                                                                     | 1/6 [00:00<00:00,  6.04it/s]\u001b[A\u001b[A\n",
      "\n",
      " 33%|████████████████████████████████████████▋                                                                                 | 2/6 [00:00<00:00,  6.29it/s]\u001b[A\u001b[A\n",
      "\n",
      " 50%|█████████████████████████████████████████████████████████████                                                             | 3/6 [00:00<00:00,  6.07it/s]\u001b[A\u001b[A\n",
      "\n",
      " 67%|█████████████████████████████████████████████████████████████████████████████████▎                                        | 4/6 [00:00<00:00,  6.23it/s]\u001b[A\u001b[A\n",
      "\n",
      " 83%|█████████████████████████████████████████████████████████████████████████████████████████████████████▋                    | 5/6 [00:00<00:00,  5.73it/s]\u001b[A\u001b[A\n",
      "\n",
      "100%|██████████████████████████████████████████████████████████████████████████████████████████████████████████████████████████| 6/6 [00:01<00:00,  5.96it/s]\u001b[A\u001b[A\n"
     ]
    },
    {
     "name": "stdout",
     "output_type": "stream",
     "text": [
      "No V-motifs will be validated. Try increasing alpha\n",
      "Utilities 2019\n",
      "\n",
      "                      WARNING: this system has at least a node that is disconnected or connected to all nodes\n",
      "                       of the opposite layer. This may cause some convergence issues.\n",
      "                      Please use the full mode providing a biadjacency matrix or an edgelist,\n",
      "                       or clean your data from these nodes. \n",
      "                      \n"
     ]
    },
    {
     "name": "stderr",
     "output_type": "stream",
     "text": [
      "\n",
      "\n",
      "  0%|                                                                                                                                | 0/368 [00:00<?, ?it/s]\u001b[A\u001b[A/home/sarawalk/sdgs_py38/lib/python3.8/site-packages/bicm/graph_classes.py:1113: RuntimeWarning: invalid value encountered in divide\n",
      "  probs = node_xy * neighbor_xy / ((1 + node_xy) * (1 + neighbor_xy))\n",
      "/home/sarawalk/sdgs_py38/lib/python3.8/site-packages/bicm/graph_classes.py:1113: RuntimeWarning: invalid value encountered in divide\n",
      "  probs = node_xy * neighbor_xy / ((1 + node_xy) * (1 + neighbor_xy))\n",
      "/home/sarawalk/sdgs_py38/lib/python3.8/site-packages/bicm/graph_classes.py:1113: RuntimeWarning: invalid value encountered in divide\n",
      "  probs = node_xy * neighbor_xy / ((1 + node_xy) * (1 + neighbor_xy))\n",
      "/home/sarawalk/sdgs_py38/lib/python3.8/site-packages/bicm/graph_classes.py:1113: RuntimeWarning: invalid value encountered in divide\n",
      "  probs = node_xy * neighbor_xy / ((1 + node_xy) * (1 + neighbor_xy))\n",
      "\n",
      "\n",
      " 31%|████████████████████████████████████▌                                                                                | 115/368 [00:00<00:01, 142.78it/s]\u001b[A\u001b[A\n",
      "\n",
      " 38%|████████████████████████████████████████████▎                                                                         | 138/368 [00:01<00:02, 97.28it/s]\u001b[A\u001b[A\n",
      "\n",
      " 44%|███████████████████████████████████████████████████▏                                                                 | 161/368 [00:01<00:01, 110.94it/s]\u001b[A\u001b[A\n",
      "\n",
      " 50%|██████████████████████████████████████████████████████████▌                                                          | 184/368 [00:01<00:01, 125.02it/s]\u001b[A\u001b[A\n",
      "\n",
      " 62%|█████████████████████████████████████████████████████████████████████████▏                                           | 230/368 [00:01<00:00, 166.39it/s]\u001b[A\u001b[A\n",
      "\n",
      " 69%|████████████████████████████████████████████████████████████████████████████████▍                                    | 253/368 [00:02<00:00, 119.51it/s]\u001b[A\u001b[A\n",
      "\n",
      " 81%|███████████████████████████████████████████████████████████████████████████████████████████████                      | 299/368 [00:02<00:00, 157.43it/s]\u001b[A\u001b[A\n",
      "\n",
      " 88%|██████████████████████████████████████████████████████████████████████████████████████████████████████▍              | 322/368 [00:02<00:00, 141.61it/s]\u001b[A\u001b[A\n",
      "\n",
      " 94%|█████████████████████████████████████████████████████████████████████████████████████████████████████████████▋       | 345/368 [00:02<00:00, 149.87it/s]\u001b[A\u001b[A\n",
      "\n",
      "100%|█████████████████████████████████████████████████████████████████████████████████████████████████████████████████████| 368/368 [00:02<00:00, 130.96it/s]\u001b[A\u001b[A\n"
     ]
    },
    {
     "name": "stdout",
     "output_type": "stream",
     "text": [
      "No V-motifs will be validated. Try increasing alpha\n"
     ]
    },
    {
     "name": "stderr",
     "output_type": "stream",
     "text": [
      "\n",
      "\n",
      "  0%|                                                                                                                                  | 0/4 [00:00<?, ?it/s]\u001b[A\u001b[A\n",
      "\n",
      " 25%|██████████████████████████████▌                                                                                           | 1/4 [00:00<00:00,  4.61it/s]\u001b[A\u001b[A/home/sarawalk/sdgs_py38/lib/python3.8/site-packages/bicm/graph_classes.py:1113: RuntimeWarning: invalid value encountered in divide\n",
      "  probs = node_xy * neighbor_xy / ((1 + node_xy) * (1 + neighbor_xy))\n",
      "\n",
      "\n",
      " 50%|█████████████████████████████████████████████████████████████                                                             | 2/4 [00:00<00:00,  4.79it/s]\u001b[A\u001b[A/home/sarawalk/sdgs_py38/lib/python3.8/site-packages/bicm/graph_classes.py:1113: RuntimeWarning: invalid value encountered in divide\n",
      "  probs = node_xy * neighbor_xy / ((1 + node_xy) * (1 + neighbor_xy))\n",
      "\n",
      "\n",
      " 75%|███████████████████████████████████████████████████████████████████████████████████████████▌                              | 3/4 [00:00<00:00,  4.85it/s]\u001b[A\u001b[A/home/sarawalk/sdgs_py38/lib/python3.8/site-packages/bicm/graph_classes.py:1113: RuntimeWarning: invalid value encountered in divide\n",
      "  probs = node_xy * neighbor_xy / ((1 + node_xy) * (1 + neighbor_xy))\n",
      "\n",
      "\n",
      "100%|██████████████████████████████████████████████████████████████████████████████████████████████████████████████████████████| 4/4 [00:00<00:00,  4.82it/s]\u001b[A\u001b[A"
     ]
    },
    {
     "name": "stdout",
     "output_type": "stream",
     "text": [
      "No V-motifs will be validated. Try increasing alpha\n",
      "Energy 2020\n"
     ]
    },
    {
     "name": "stderr",
     "output_type": "stream",
     "text": [
      "\n",
      "\n",
      "\n",
      "  0%|                                                                                                                                | 0/174 [00:00<?, ?it/s]\u001b[A\u001b[A\n",
      "\n",
      " 32%|█████████████████████████████████████▌                                                                                 | 55/174 [00:00<00:01, 92.51it/s]\u001b[A\u001b[A\n",
      "\n",
      " 51%|███████████████████████████████████████████████████████████▋                                                          | 88/174 [00:00<00:00, 137.17it/s]\u001b[A\u001b[A\n",
      "\n",
      " 64%|███████████████████████████████████████████████████████████████████████████▎                                          | 111/174 [00:01<00:00, 98.97it/s]\u001b[A\u001b[A\n",
      "\n",
      "100%|█████████████████████████████████████████████████████████████████████████████████████████████████████████████████████| 174/174 [00:01<00:00, 129.13it/s]\u001b[A\u001b[A"
     ]
    },
    {
     "name": "stdout",
     "output_type": "stream",
     "text": [
      "No V-motifs will be validated. Try increasing alpha\n"
     ]
    },
    {
     "name": "stderr",
     "output_type": "stream",
     "text": [
      "\n",
      "\n",
      "\n",
      "  0%|                                                                                                                                  | 0/6 [00:00<?, ?it/s]\u001b[A\u001b[A\n",
      "\n",
      " 33%|████████████████████████████████████████▋                                                                                 | 2/6 [00:00<00:00, 11.50it/s]\u001b[A\u001b[A\n",
      "\n",
      " 67%|█████████████████████████████████████████████████████████████████████████████████▎                                        | 4/6 [00:00<00:00, 12.19it/s]\u001b[A\u001b[A\n",
      "\n",
      "100%|██████████████████████████████████████████████████████████████████████████████████████████████████████████████████████████| 6/6 [00:00<00:00, 12.32it/s]\u001b[A\u001b[A\n"
     ]
    },
    {
     "name": "stdout",
     "output_type": "stream",
     "text": [
      "No V-motifs will be validated. Try increasing alpha\n",
      "Utilities 2020\n",
      "\n",
      "                      WARNING: this system has at least a node that is disconnected or connected to all nodes\n",
      "                       of the opposite layer. This may cause some convergence issues.\n",
      "                      Please use the full mode providing a biadjacency matrix or an edgelist,\n",
      "                       or clean your data from these nodes. \n",
      "                      \n"
     ]
    },
    {
     "name": "stderr",
     "output_type": "stream",
     "text": [
      "\n",
      "\n",
      "  0%|                                                                                                                                | 0/521 [00:00<?, ?it/s]\u001b[A\u001b[A/home/sarawalk/sdgs_py38/lib/python3.8/site-packages/bicm/graph_classes.py:1113: RuntimeWarning: invalid value encountered in divide\n",
      "  probs = node_xy * neighbor_xy / ((1 + node_xy) * (1 + neighbor_xy))\n",
      "/home/sarawalk/sdgs_py38/lib/python3.8/site-packages/bicm/graph_classes.py:1113: RuntimeWarning: invalid value encountered in divide\n",
      "  probs = node_xy * neighbor_xy / ((1 + node_xy) * (1 + neighbor_xy))\n",
      "\n",
      "\n",
      " 25%|█████████████████████████████▍                                                                                      | 132/521 [00:00<00:00, 1291.01it/s]\u001b[A\u001b[A/home/sarawalk/sdgs_py38/lib/python3.8/site-packages/bicm/graph_classes.py:1113: RuntimeWarning: invalid value encountered in divide\n",
      "  probs = node_xy * neighbor_xy / ((1 + node_xy) * (1 + neighbor_xy))\n",
      "/home/sarawalk/sdgs_py38/lib/python3.8/site-packages/bicm/graph_classes.py:1113: RuntimeWarning: invalid value encountered in divide\n",
      "  probs = node_xy * neighbor_xy / ((1 + node_xy) * (1 + neighbor_xy))\n",
      "\n",
      "\n",
      " 50%|██████████████████████████████████████████████████████████▊                                                          | 262/521 [00:01<00:02, 125.66it/s]\u001b[A\u001b[A\n",
      "\n",
      " 61%|███████████████████████████████████████████████████████████████████████▊                                             | 320/521 [00:02<00:01, 103.06it/s]\u001b[A\u001b[A\n",
      "\n",
      " 68%|███████████████████████████████████████████████████████████████████████████████▋                                     | 355/521 [00:02<00:01, 104.85it/s]\u001b[A\u001b[A\n",
      "\n",
      " 73%|██████████████████████████████████████████████████████████████████████████████████████▎                               | 381/521 [00:03<00:01, 82.39it/s]\u001b[A\u001b[A\n",
      "\n",
      " 77%|██████████████████████████████████████████████████████████████████████████████████████████▎                           | 399/521 [00:03<00:01, 78.91it/s]\u001b[A\u001b[A\n",
      "\n",
      " 82%|█████████████████████████████████████████████████████████████████████████████████████████████████▏                    | 429/521 [00:04<00:01, 90.01it/s]\u001b[A\u001b[A\n",
      "\n",
      "100%|█████████████████████████████████████████████████████████████████████████████████████████████████████████████████████| 521/521 [00:04<00:00, 108.54it/s]\u001b[A\u001b[A\n"
     ]
    },
    {
     "name": "stdout",
     "output_type": "stream",
     "text": [
      "No V-motifs will be validated. Try increasing alpha\n"
     ]
    },
    {
     "name": "stderr",
     "output_type": "stream",
     "text": [
      "\n",
      "\n",
      "  0%|                                                                                                                                  | 0/6 [00:00<?, ?it/s]\u001b[A\u001b[A\n",
      "\n",
      " 17%|████████████████████▎                                                                                                     | 1/6 [00:00<00:02,  2.48it/s]\u001b[A\u001b[A/home/sarawalk/sdgs_py38/lib/python3.8/site-packages/bicm/graph_classes.py:1113: RuntimeWarning: invalid value encountered in divide\n",
      "  probs = node_xy * neighbor_xy / ((1 + node_xy) * (1 + neighbor_xy))\n",
      "\n",
      "\n",
      " 33%|████████████████████████████████████████▋                                                                                 | 2/6 [00:00<00:01,  2.61it/s]\u001b[A\u001b[A/home/sarawalk/sdgs_py38/lib/python3.8/site-packages/bicm/graph_classes.py:1113: RuntimeWarning: invalid value encountered in divide\n",
      "  probs = node_xy * neighbor_xy / ((1 + node_xy) * (1 + neighbor_xy))\n",
      "\n",
      "\n",
      " 50%|█████████████████████████████████████████████████████████████                                                             | 3/6 [00:01<00:01,  2.64it/s]\u001b[A\u001b[A/home/sarawalk/sdgs_py38/lib/python3.8/site-packages/bicm/graph_classes.py:1113: RuntimeWarning: invalid value encountered in divide\n",
      "  probs = node_xy * neighbor_xy / ((1 + node_xy) * (1 + neighbor_xy))\n",
      "\n",
      "\n",
      " 67%|█████████████████████████████████████████████████████████████████████████████████▎                                        | 4/6 [00:01<00:00,  2.59it/s]\u001b[A\u001b[A/home/sarawalk/sdgs_py38/lib/python3.8/site-packages/bicm/graph_classes.py:1113: RuntimeWarning: invalid value encountered in divide\n",
      "  probs = node_xy * neighbor_xy / ((1 + node_xy) * (1 + neighbor_xy))\n",
      "\n",
      "\n",
      " 83%|█████████████████████████████████████████████████████████████████████████████████████████████████████▋                    | 5/6 [00:01<00:00,  2.63it/s]\u001b[A\u001b[A\n",
      "\n",
      "100%|██████████████████████████████████████████████████████████████████████████████████████████████████████████████████████████| 6/6 [00:02<00:00,  2.63it/s]\u001b[A\u001b[A"
     ]
    },
    {
     "name": "stdout",
     "output_type": "stream",
     "text": [
      "No V-motifs will be validated. Try increasing alpha\n",
      "Energy 2021\n"
     ]
    },
    {
     "name": "stderr",
     "output_type": "stream",
     "text": [
      "\n",
      "\n",
      "\n",
      "  0%|                                                                                                                                | 0/174 [00:00<?, ?it/s]\u001b[A\u001b[A\n",
      "\n",
      " 32%|█████████████████████████████████████▌                                                                                 | 55/174 [00:00<00:01, 90.89it/s]\u001b[A\u001b[A\n",
      "\n",
      " 44%|████████████████████████████████████████████████████▏                                                                 | 77/174 [00:00<00:00, 101.24it/s]\u001b[A\u001b[A\n",
      "\n",
      " 57%|███████████████████████████████████████████████████████████████████▋                                                   | 99/174 [00:01<00:00, 85.25it/s]\u001b[A\u001b[A\n",
      "\n",
      " 76%|████████████████████████████████████████████████████████████████████████████████████████▊                            | 132/174 [00:01<00:00, 111.14it/s]\u001b[A\u001b[A\n",
      "\n",
      "100%|█████████████████████████████████████████████████████████████████████████████████████████████████████████████████████| 174/174 [00:01<00:00, 118.41it/s]\u001b[A\u001b[A\n"
     ]
    },
    {
     "name": "stdout",
     "output_type": "stream",
     "text": [
      "No V-motifs will be validated. Try increasing alpha\n"
     ]
    },
    {
     "name": "stderr",
     "output_type": "stream",
     "text": [
      "\n",
      "\n",
      "  0%|                                                                                                                                  | 0/8 [00:00<?, ?it/s]\u001b[A\u001b[A\n",
      "\n",
      " 12%|███████████████▎                                                                                                          | 1/8 [00:00<00:00,  9.53it/s]\u001b[A\u001b[A\n",
      "\n",
      " 38%|█████████████████████████████████████████████▊                                                                            | 3/8 [00:00<00:00, 10.72it/s]\u001b[A\u001b[A\n",
      "\n",
      " 62%|████████████████████████████████████████████████████████████████████████████▎                                             | 5/8 [00:00<00:00, 10.90it/s]\u001b[A\u001b[A\n",
      "\n",
      "100%|██████████████████████████████████████████████████████████████████████████████████████████████████████████████████████████| 8/8 [00:00<00:00, 10.87it/s]\u001b[A\u001b[A\n"
     ]
    },
    {
     "name": "stdout",
     "output_type": "stream",
     "text": [
      "No V-motifs will be validated. Try increasing alpha\n",
      "Utilities 2021\n",
      "\n",
      "                      WARNING: this system has at least a node that is disconnected or connected to all nodes\n",
      "                       of the opposite layer. This may cause some convergence issues.\n",
      "                      Please use the full mode providing a biadjacency matrix or an edgelist,\n",
      "                       or clean your data from these nodes. \n",
      "                      \n"
     ]
    },
    {
     "name": "stderr",
     "output_type": "stream",
     "text": [
      "\n",
      "\n",
      "  0%|                                                                                                                                | 0/389 [00:00<?, ?it/s]\u001b[A\u001b[A/home/sarawalk/sdgs_py38/lib/python3.8/site-packages/bicm/graph_classes.py:1113: RuntimeWarning: invalid value encountered in divide\n",
      "  probs = node_xy * neighbor_xy / ((1 + node_xy) * (1 + neighbor_xy))\n",
      "/home/sarawalk/sdgs_py38/lib/python3.8/site-packages/bicm/graph_classes.py:1113: RuntimeWarning: invalid value encountered in divide\n",
      "  probs = node_xy * neighbor_xy / ((1 + node_xy) * (1 + neighbor_xy))\n",
      "/home/sarawalk/sdgs_py38/lib/python3.8/site-packages/bicm/graph_classes.py:1113: RuntimeWarning: invalid value encountered in divide\n",
      "  probs = node_xy * neighbor_xy / ((1 + node_xy) * (1 + neighbor_xy))\n",
      "/home/sarawalk/sdgs_py38/lib/python3.8/site-packages/bicm/graph_classes.py:1113: RuntimeWarning: invalid value encountered in divide\n",
      "  probs = node_xy * neighbor_xy / ((1 + node_xy) * (1 + neighbor_xy))\n",
      "\n",
      "\n",
      " 32%|█████████████████████████████████████▌                                                                               | 125/389 [00:01<00:02, 106.35it/s]\u001b[A\u001b[A\n",
      "\n",
      " 39%|█████████████████████████████████████████████▌                                                                        | 150/389 [00:01<00:02, 90.81it/s]\u001b[A\u001b[A\n",
      "\n",
      " 45%|█████████████████████████████████████████████████████                                                                 | 175/389 [00:01<00:02, 98.82it/s]\u001b[A\u001b[A\n",
      "\n",
      " 51%|████████████████████████████████████████████████████████████▏                                                        | 200/389 [00:01<00:01, 111.35it/s]\u001b[A\u001b[A\n",
      "\n",
      " 58%|████████████████████████████████████████████████████████████████████▎                                                 | 225/389 [00:02<00:01, 83.51it/s]\u001b[A\u001b[A\n",
      "\n",
      " 71%|███████████████████████████████████████████████████████████████████████████████████▍                                  | 275/389 [00:02<00:01, 97.42it/s]\u001b[A\u001b[A\n",
      "\n",
      " 77%|███████████████████████████████████████████████████████████████████████████████████████████                           | 300/389 [00:03<00:00, 89.78it/s]\u001b[A\u001b[A\n",
      "\n",
      "100%|█████████████████████████████████████████████████████████████████████████████████████████████████████████████████████| 389/389 [00:03<00:00, 106.78it/s]\u001b[A\u001b[A\n"
     ]
    },
    {
     "name": "stdout",
     "output_type": "stream",
     "text": [
      "No V-motifs will be validated. Try increasing alpha\n"
     ]
    },
    {
     "name": "stderr",
     "output_type": "stream",
     "text": [
      "\n",
      "\n",
      "  0%|                                                                                                                                  | 0/6 [00:00<?, ?it/s]\u001b[A\u001b[A\n",
      "\n",
      " 17%|████████████████████▎                                                                                                     | 1/6 [00:00<00:01,  3.45it/s]\u001b[A\u001b[A/home/sarawalk/sdgs_py38/lib/python3.8/site-packages/bicm/graph_classes.py:1113: RuntimeWarning: invalid value encountered in divide\n",
      "  probs = node_xy * neighbor_xy / ((1 + node_xy) * (1 + neighbor_xy))\n",
      "\n",
      "\n",
      " 33%|████████████████████████████████████████▋                                                                                 | 2/6 [00:00<00:01,  3.64it/s]\u001b[A\u001b[A/home/sarawalk/sdgs_py38/lib/python3.8/site-packages/bicm/graph_classes.py:1113: RuntimeWarning: invalid value encountered in divide\n",
      "  probs = node_xy * neighbor_xy / ((1 + node_xy) * (1 + neighbor_xy))\n",
      "\n",
      "\n",
      " 50%|█████████████████████████████████████████████████████████████                                                             | 3/6 [00:00<00:00,  3.74it/s]\u001b[A\u001b[A/home/sarawalk/sdgs_py38/lib/python3.8/site-packages/bicm/graph_classes.py:1113: RuntimeWarning: invalid value encountered in divide\n",
      "  probs = node_xy * neighbor_xy / ((1 + node_xy) * (1 + neighbor_xy))\n",
      "\n",
      "\n",
      " 67%|█████████████████████████████████████████████████████████████████████████████████▎                                        | 4/6 [00:01<00:00,  3.75it/s]\u001b[A\u001b[A/home/sarawalk/sdgs_py38/lib/python3.8/site-packages/bicm/graph_classes.py:1113: RuntimeWarning: invalid value encountered in divide\n",
      "  probs = node_xy * neighbor_xy / ((1 + node_xy) * (1 + neighbor_xy))\n",
      "\n",
      "\n",
      " 83%|█████████████████████████████████████████████████████████████████████████████████████████████████████▋                    | 5/6 [00:01<00:00,  3.78it/s]\u001b[A\u001b[A\n",
      "\n",
      "100%|██████████████████████████████████████████████████████████████████████████████████████████████████████████████████████████| 6/6 [00:01<00:00,  3.73it/s]\u001b[A\u001b[A"
     ]
    },
    {
     "name": "stdout",
     "output_type": "stream",
     "text": [
      "No V-motifs will be validated. Try increasing alpha\n",
      "Energy 2022\n"
     ]
    },
    {
     "name": "stderr",
     "output_type": "stream",
     "text": [
      "\n",
      "\n",
      "\n",
      "  0%|                                                                                                                                | 0/173 [00:00<?, ?it/s]\u001b[A\u001b[A\n",
      "\n",
      " 32%|█████████████████████████████████████▊                                                                                 | 55/173 [00:00<00:01, 95.41it/s]\u001b[A\u001b[A\n",
      "\n",
      " 51%|████████████████████████████████████████████████████████████▌                                                          | 88/173 [00:00<00:00, 90.63it/s]\u001b[A\u001b[A\n",
      "\n",
      " 64%|██████████████████████████████████████████████████████████████████████████▍                                          | 110/173 [00:01<00:00, 109.67it/s]\u001b[A\u001b[A\n",
      "\n",
      " 76%|█████████████████████████████████████████████████████████████████████████████████████████▎                           | 132/173 [00:01<00:00, 103.83it/s]\u001b[A\u001b[A\n",
      "\n",
      "100%|█████████████████████████████████████████████████████████████████████████████████████████████████████████████████████| 173/173 [00:01<00:00, 119.87it/s]\u001b[A\u001b[A\n"
     ]
    },
    {
     "name": "stdout",
     "output_type": "stream",
     "text": [
      "No V-motifs will be validated. Try increasing alpha\n"
     ]
    },
    {
     "name": "stderr",
     "output_type": "stream",
     "text": [
      "\n",
      "\n",
      "  0%|                                                                                                                                  | 0/9 [00:00<?, ?it/s]\u001b[A\u001b[A\n",
      "\n",
      " 11%|█████████████▌                                                                                                            | 1/9 [00:00<00:00,  9.26it/s]\u001b[A\u001b[A\n",
      "\n",
      " 33%|████████████████████████████████████████▋                                                                                 | 3/9 [00:00<00:00, 11.05it/s]\u001b[A\u001b[A\n",
      "\n",
      " 56%|███████████████████████████████████████████████████████████████████▊                                                      | 5/9 [00:00<00:00, 11.51it/s]\u001b[A\u001b[A\n",
      "\n",
      " 78%|██████████████████████████████████████████████████████████████████████████████████████████████▉                           | 7/9 [00:00<00:00, 11.77it/s]\u001b[A\u001b[A\n",
      "\n",
      "100%|██████████████████████████████████████████████████████████████████████████████████████████████████████████████████████████| 9/9 [00:00<00:00, 11.50it/s]\u001b[A\u001b[A\n"
     ]
    },
    {
     "name": "stdout",
     "output_type": "stream",
     "text": [
      "No V-motifs will be validated. Try increasing alpha\n",
      "Utilities 2022\n",
      "\n",
      "                      WARNING: this system has at least a node that is disconnected or connected to all nodes\n",
      "                       of the opposite layer. This may cause some convergence issues.\n",
      "                      Please use the full mode providing a biadjacency matrix or an edgelist,\n",
      "                       or clean your data from these nodes. \n",
      "                      \n"
     ]
    },
    {
     "name": "stderr",
     "output_type": "stream",
     "text": [
      "\n",
      "\n",
      "  0%|                                                                                                                                | 0/420 [00:00<?, ?it/s]\u001b[A\u001b[A/home/sarawalk/sdgs_py38/lib/python3.8/site-packages/bicm/graph_classes.py:1113: RuntimeWarning: invalid value encountered in divide\n",
      "  probs = node_xy * neighbor_xy / ((1 + node_xy) * (1 + neighbor_xy))\n",
      "/home/sarawalk/sdgs_py38/lib/python3.8/site-packages/bicm/graph_classes.py:1113: RuntimeWarning: invalid value encountered in divide\n",
      "  probs = node_xy * neighbor_xy / ((1 + node_xy) * (1 + neighbor_xy))\n",
      "/home/sarawalk/sdgs_py38/lib/python3.8/site-packages/bicm/graph_classes.py:1113: RuntimeWarning: invalid value encountered in divide\n",
      "  probs = node_xy * neighbor_xy / ((1 + node_xy) * (1 + neighbor_xy))\n",
      "/home/sarawalk/sdgs_py38/lib/python3.8/site-packages/bicm/graph_classes.py:1113: RuntimeWarning: invalid value encountered in divide\n",
      "  probs = node_xy * neighbor_xy / ((1 + node_xy) * (1 + neighbor_xy))\n",
      "\n",
      "\n",
      " 32%|█████████████████████████████████████▌                                                                               | 135/420 [00:01<00:02, 135.08it/s]\u001b[A\u001b[A\n",
      "\n",
      " 39%|█████████████████████████████████████████████▏                                                                       | 162/420 [00:01<00:02, 125.10it/s]\u001b[A\u001b[A\n",
      "\n",
      " 45%|████████████████████████████████████████████████████▋                                                                | 189/420 [00:01<00:01, 130.38it/s]\u001b[A\u001b[A\n",
      "\n",
      " 51%|████████████████████████████████████████████████████████████▋                                                         | 216/420 [00:02<00:02, 86.93it/s]\u001b[A\u001b[A\n",
      "\n",
      " 64%|███████████████████████████████████████████████████████████████████████████▏                                         | 270/420 [00:02<00:01, 120.48it/s]\u001b[A\u001b[A\n",
      "\n",
      " 71%|██████████████████████████████████████████████████████████████████████████████████▋                                  | 297/420 [00:02<00:01, 115.55it/s]\u001b[A\u001b[A\n",
      "\n",
      " 84%|█████████████████████████████████████████████████████████████████████████████████████████████████▊                   | 351/420 [00:02<00:00, 139.65it/s]\u001b[A\u001b[A\n",
      "\n",
      " 90%|█████████████████████████████████████████████████████████████████████████████████████████████████████████▎           | 378/420 [00:03<00:00, 130.48it/s]\u001b[A\u001b[A\n",
      "\n",
      "100%|█████████████████████████████████████████████████████████████████████████████████████████████████████████████████████| 420/420 [00:03<00:00, 127.47it/s]\u001b[A\u001b[A\n"
     ]
    },
    {
     "name": "stdout",
     "output_type": "stream",
     "text": [
      "No V-motifs will be validated. Try increasing alpha\n"
     ]
    },
    {
     "name": "stderr",
     "output_type": "stream",
     "text": [
      "\n",
      "\n",
      "  0%|                                                                                                                                  | 0/6 [00:00<?, ?it/s]\u001b[A\u001b[A\n",
      "\n",
      " 17%|████████████████████▎                                                                                                     | 1/6 [00:00<00:01,  2.99it/s]\u001b[A\u001b[A/home/sarawalk/sdgs_py38/lib/python3.8/site-packages/bicm/graph_classes.py:1113: RuntimeWarning: invalid value encountered in divide\n",
      "  probs = node_xy * neighbor_xy / ((1 + node_xy) * (1 + neighbor_xy))\n",
      "\n",
      "\n",
      " 33%|████████████████████████████████████████▋                                                                                 | 2/6 [00:00<00:01,  3.10it/s]\u001b[A\u001b[A/home/sarawalk/sdgs_py38/lib/python3.8/site-packages/bicm/graph_classes.py:1113: RuntimeWarning: invalid value encountered in divide\n",
      "  probs = node_xy * neighbor_xy / ((1 + node_xy) * (1 + neighbor_xy))\n",
      "\n",
      "\n",
      " 50%|█████████████████████████████████████████████████████████████                                                             | 3/6 [00:00<00:00,  3.33it/s]\u001b[A\u001b[A/home/sarawalk/sdgs_py38/lib/python3.8/site-packages/bicm/graph_classes.py:1113: RuntimeWarning: invalid value encountered in divide\n",
      "  probs = node_xy * neighbor_xy / ((1 + node_xy) * (1 + neighbor_xy))\n",
      "\n",
      "\n",
      " 67%|█████████████████████████████████████████████████████████████████████████████████▎                                        | 4/6 [00:01<00:00,  3.40it/s]\u001b[A\u001b[A/home/sarawalk/sdgs_py38/lib/python3.8/site-packages/bicm/graph_classes.py:1113: RuntimeWarning: invalid value encountered in divide\n",
      "  probs = node_xy * neighbor_xy / ((1 + node_xy) * (1 + neighbor_xy))\n",
      "\n",
      "\n",
      " 83%|█████████████████████████████████████████████████████████████████████████████████████████████████████▋                    | 5/6 [00:01<00:00,  3.54it/s]\u001b[A\u001b[A\n",
      "\n",
      "100%|██████████████████████████████████████████████████████████████████████████████████████████████████████████████████████████| 6/6 [00:01<00:00,  3.49it/s]\u001b[A\u001b[A"
     ]
    },
    {
     "name": "stdout",
     "output_type": "stream",
     "text": [
      "No V-motifs will be validated. Try increasing alpha\n",
      "Energy 2023\n"
     ]
    },
    {
     "name": "stderr",
     "output_type": "stream",
     "text": [
      "\n",
      "\n",
      "\n",
      "  0%|                                                                                                                                | 0/174 [00:00<?, ?it/s]\u001b[A\u001b[A\n",
      "\n",
      " 32%|█████████████████████████████████████▌                                                                                 | 55/174 [00:00<00:01, 89.25it/s]\u001b[A\u001b[A\n",
      "\n",
      " 44%|████████████████████████████████████████████████████▏                                                                 | 77/174 [00:00<00:00, 101.22it/s]\u001b[A\u001b[A\n",
      "\n",
      " 51%|████████████████████████████████████████████████████████████▊                                                          | 89/174 [00:00<00:00, 99.98it/s]\u001b[A\u001b[A\n",
      "\n",
      " 57%|███████████████████████████████████████████████████████████████████▊                                                  | 100/174 [00:01<00:00, 81.76it/s]\u001b[A\u001b[A\n",
      "\n",
      " 76%|████████████████████████████████████████████████████████████████████████████████████████▊                            | 132/174 [00:01<00:00, 110.96it/s]\u001b[A\u001b[A\n",
      "\n",
      "100%|█████████████████████████████████████████████████████████████████████████████████████████████████████████████████████| 174/174 [00:01<00:00, 118.72it/s]\u001b[A\u001b[A\n"
     ]
    },
    {
     "name": "stdout",
     "output_type": "stream",
     "text": [
      "No V-motifs will be validated. Try increasing alpha\n"
     ]
    },
    {
     "name": "stderr",
     "output_type": "stream",
     "text": [
      "\n",
      "\n",
      "  0%|                                                                                                                                  | 0/8 [00:00<?, ?it/s]\u001b[A\u001b[A\n",
      "\n",
      " 12%|███████████████▎                                                                                                          | 1/8 [00:00<00:00,  8.11it/s]\u001b[A\u001b[A\n",
      "\n",
      " 38%|█████████████████████████████████████████████▊                                                                            | 3/8 [00:00<00:00, 10.41it/s]\u001b[A\u001b[A\n",
      "\n",
      " 62%|████████████████████████████████████████████████████████████████████████████▎                                             | 5/8 [00:00<00:00, 11.14it/s]\u001b[A\u001b[A\n",
      "\n",
      "100%|██████████████████████████████████████████████████████████████████████████████████████████████████████████████████████████| 8/8 [00:00<00:00, 11.11it/s]\u001b[A\u001b[A\n"
     ]
    },
    {
     "name": "stdout",
     "output_type": "stream",
     "text": [
      "No V-motifs will be validated. Try increasing alpha\n",
      "Utilities 2023\n",
      "\n",
      "                      WARNING: this system has at least a node that is disconnected or connected to all nodes\n",
      "                       of the opposite layer. This may cause some convergence issues.\n",
      "                      Please use the full mode providing a biadjacency matrix or an edgelist,\n",
      "                       or clean your data from these nodes. \n",
      "                      \n"
     ]
    },
    {
     "name": "stderr",
     "output_type": "stream",
     "text": [
      "\n",
      "\n",
      "  0%|                                                                                                                                | 0/480 [00:00<?, ?it/s]\u001b[A\u001b[A/home/sarawalk/sdgs_py38/lib/python3.8/site-packages/bicm/graph_classes.py:1113: RuntimeWarning: invalid value encountered in divide\n",
      "  probs = node_xy * neighbor_xy / ((1 + node_xy) * (1 + neighbor_xy))\n",
      "/home/sarawalk/sdgs_py38/lib/python3.8/site-packages/bicm/graph_classes.py:1113: RuntimeWarning: invalid value encountered in divide\n",
      "  probs = node_xy * neighbor_xy / ((1 + node_xy) * (1 + neighbor_xy))\n",
      "/home/sarawalk/sdgs_py38/lib/python3.8/site-packages/bicm/graph_classes.py:1113: RuntimeWarning: invalid value encountered in divide\n",
      "  probs = node_xy * neighbor_xy / ((1 + node_xy) * (1 + neighbor_xy))\n",
      "/home/sarawalk/sdgs_py38/lib/python3.8/site-packages/bicm/graph_classes.py:1113: RuntimeWarning: invalid value encountered in divide\n",
      "  probs = node_xy * neighbor_xy / ((1 + node_xy) * (1 + neighbor_xy))\n",
      "\n",
      "\n",
      " 31%|████████████████████████████████████▌                                                                                | 150/480 [00:01<00:02, 149.08it/s]\u001b[A\u001b[A\n",
      "\n",
      " 38%|████████████████████████████████████████████▎                                                                         | 180/480 [00:01<00:03, 98.45it/s]\u001b[A\u001b[A\n",
      "\n",
      " 44%|███████████████████████████████████████████████████▏                                                                 | 210/480 [00:01<00:02, 108.34it/s]\u001b[A\u001b[A\n",
      "\n",
      " 50%|███████████████████████████████████████████████████████████                                                           | 240/480 [00:02<00:03, 79.36it/s]\u001b[A\u001b[A\n",
      "\n",
      " 62%|█████████████████████████████████████████████████████████████████████████▏                                           | 300/480 [00:02<00:01, 106.71it/s]\u001b[A\u001b[A\n",
      "\n",
      " 69%|████████████████████████████████████████████████████████████████████████████████▍                                    | 330/480 [00:03<00:01, 104.73it/s]\u001b[A\u001b[A\n",
      "\n",
      " 75%|███████████████████████████████████████████████████████████████████████████████████████▊                             | 360/480 [00:03<00:01, 111.84it/s]\u001b[A\u001b[A\n",
      "\n",
      " 81%|███████████████████████████████████████████████████████████████████████████████████████████████▉                      | 390/480 [00:04<00:01, 76.55it/s]\u001b[A\u001b[A\n",
      "\n",
      "100%|█████████████████████████████████████████████████████████████████████████████████████████████████████████████████████| 480/480 [00:04<00:00, 112.57it/s]\u001b[A\u001b[A\n"
     ]
    },
    {
     "name": "stdout",
     "output_type": "stream",
     "text": [
      "No V-motifs will be validated. Try increasing alpha\n"
     ]
    },
    {
     "name": "stderr",
     "output_type": "stream",
     "text": [
      "\n",
      "\n",
      "  0%|                                                                                                                                  | 0/8 [00:00<?, ?it/s]\u001b[A\u001b[A\n",
      "\n",
      " 12%|███████████████▎                                                                                                          | 1/8 [00:00<00:02,  2.71it/s]\u001b[A\u001b[A/home/sarawalk/sdgs_py38/lib/python3.8/site-packages/bicm/graph_classes.py:1113: RuntimeWarning: invalid value encountered in divide\n",
      "  probs = node_xy * neighbor_xy / ((1 + node_xy) * (1 + neighbor_xy))\n",
      "\n",
      "\n",
      " 25%|██████████████████████████████▌                                                                                           | 2/8 [00:00<00:02,  2.90it/s]\u001b[A\u001b[A/home/sarawalk/sdgs_py38/lib/python3.8/site-packages/bicm/graph_classes.py:1113: RuntimeWarning: invalid value encountered in divide\n",
      "  probs = node_xy * neighbor_xy / ((1 + node_xy) * (1 + neighbor_xy))\n",
      "\n",
      "\n",
      " 38%|█████████████████████████████████████████████▊                                                                            | 3/8 [00:01<00:01,  2.87it/s]\u001b[A\u001b[A/home/sarawalk/sdgs_py38/lib/python3.8/site-packages/bicm/graph_classes.py:1113: RuntimeWarning: invalid value encountered in divide\n",
      "  probs = node_xy * neighbor_xy / ((1 + node_xy) * (1 + neighbor_xy))\n",
      "\n",
      "\n",
      " 50%|█████████████████████████████████████████████████████████████                                                             | 4/8 [00:01<00:01,  2.94it/s]\u001b[A\u001b[A/home/sarawalk/sdgs_py38/lib/python3.8/site-packages/bicm/graph_classes.py:1113: RuntimeWarning: invalid value encountered in divide\n",
      "  probs = node_xy * neighbor_xy / ((1 + node_xy) * (1 + neighbor_xy))\n",
      "\n",
      "\n",
      " 62%|████████████████████████████████████████████████████████████████████████████▎                                             | 5/8 [00:01<00:01,  2.96it/s]\u001b[A\u001b[A\n",
      "\n",
      " 75%|███████████████████████████████████████████████████████████████████████████████████████████▌                              | 6/8 [00:02<00:00,  2.89it/s]\u001b[A\u001b[A\n",
      "\n",
      " 88%|██████████████████████████████████████████████████████████████████████████████████████████████████████████▊               | 7/8 [00:02<00:00,  2.92it/s]\u001b[A\u001b[A\n",
      "\n",
      "100%|██████████████████████████████████████████████████████████████████████████████████████████████████████████████████████████| 8/8 [00:02<00:00,  2.90it/s]\u001b[A\u001b[A"
     ]
    },
    {
     "name": "stdout",
     "output_type": "stream",
     "text": [
      "No V-motifs will be validated. Try increasing alpha\n"
     ]
    },
    {
     "name": "stderr",
     "output_type": "stream",
     "text": [
      "\n"
     ]
    }
   ],
   "source": [
    "melt_dict={}\n",
    "val_ids_counter=0\n",
    "val_toks_counter=0\n",
    "for year in tqdm(all_texts.keys()):\n",
    "    melt_dict[year]={}\n",
    "    for sector in all_texts[year].keys():\n",
    "        if len(all_texts[year][sector]['texts'])>1:\n",
    "            cacca=melt(all_texts[year][sector]['texts'])\n",
    "            print(sector, year)\n",
    "            cacca.get_bicm(print_error=False)\n",
    "            token_proj=cacca.MyGraph.get_cols_projection(alpha=0.05)\n",
    "            id_proj=cacca.MyGraph.get_rows_projection(alpha=0.05)\n",
    "            if len(id_proj.keys())>0:\n",
    "                val_ids_counter+=1\n",
    "                melt_dict[year][sector]['val_ids']=id_proj\n",
    "            if len(token_proj.keys())>0:\n",
    "                val_toks_counter+=1\n",
    "                melt_dict[year][sector]['val_toks']=token_proj"
   ]
  },
  {
   "cell_type": "code",
   "execution_count": 47,
   "id": "12a2b994",
   "metadata": {
    "ExecuteTime": {
     "end_time": "2024-06-25T14:09:17.398965Z",
     "start_time": "2024-06-25T14:09:17.389917Z"
    }
   },
   "outputs": [
    {
     "data": {
      "text/plain": [
       "0"
      ]
     },
     "execution_count": 47,
     "metadata": {},
     "output_type": "execute_result"
    }
   ],
   "source": [
    "val_ids_counter"
   ]
  },
  {
   "cell_type": "code",
   "execution_count": 48,
   "id": "12fb52bb",
   "metadata": {
    "ExecuteTime": {
     "end_time": "2024-06-25T14:09:17.759326Z",
     "start_time": "2024-06-25T14:09:17.750963Z"
    }
   },
   "outputs": [
    {
     "data": {
      "text/plain": [
       "0"
      ]
     },
     "execution_count": 48,
     "metadata": {},
     "output_type": "execute_result"
    }
   ],
   "source": [
    "val_toks_counter"
   ]
  },
  {
   "cell_type": "markdown",
   "id": "3cb3dd7b",
   "metadata": {
    "ExecuteTime": {
     "end_time": "2024-06-25T10:46:17.464171Z",
     "start_time": "2024-06-25T10:46:17.459945Z"
    }
   },
   "source": [
    "No V-motif is validated. "
   ]
  },
  {
   "cell_type": "code",
   "execution_count": 49,
   "id": "cc4460ed",
   "metadata": {
    "ExecuteTime": {
     "end_time": "2024-06-25T14:09:20.201145Z",
     "start_time": "2024-06-25T14:09:20.196425Z"
    }
   },
   "outputs": [],
   "source": [
    "del melt_dict"
   ]
  },
  {
   "cell_type": "markdown",
   "id": "6e16d890",
   "metadata": {},
   "source": [
    "## Melt each SDG"
   ]
  },
  {
   "cell_type": "markdown",
   "id": "863d61df",
   "metadata": {
    "ExecuteTime": {
     "end_time": "2024-06-25T10:06:17.498736Z",
     "start_time": "2024-06-25T10:06:17.475724Z"
    }
   },
   "source": [
    "### Each SDG"
   ]
  },
  {
   "cell_type": "code",
   "execution_count": 50,
   "id": "fcf9724b",
   "metadata": {
    "ExecuteTime": {
     "end_time": "2024-06-25T14:09:50.547782Z",
     "start_time": "2024-06-25T14:09:50.538931Z"
    }
   },
   "outputs": [
    {
     "data": {
      "text/plain": [
       "dict_keys(['01_NATIONAL_GRID_PLC', '02_SSE_PLC', '03_SEVERN_TRENT_PLC', '04_UNITED_UTILITIES_GROUP_PLC', '05_CENTRICA_PLC', '06_DRAX_GROUP_PLC', '07_PENNON_GROUP_PLC', '08_RENEWI_PLC'])"
      ]
     },
     "execution_count": 50,
     "metadata": {},
     "output_type": "execute_result"
    }
   ],
   "source": [
    "sdgs_dict[year][sector].keys()"
   ]
  },
  {
   "cell_type": "code",
   "execution_count": 51,
   "id": "c73653d5",
   "metadata": {
    "ExecuteTime": {
     "end_time": "2024-06-25T14:09:50.983206Z",
     "start_time": "2024-06-25T14:09:50.936745Z"
    }
   },
   "outputs": [
    {
     "data": {
      "application/vnd.jupyter.widget-view+json": {
       "model_id": "192dec94f72b4589849e98541ce14adf",
       "version_major": 2,
       "version_minor": 0
      },
      "text/plain": [
       "  0%|          | 0/9 [00:00<?, ?it/s]"
      ]
     },
     "metadata": {},
     "output_type": "display_data"
    }
   ],
   "source": [
    "sdg_melt_dict={}\n",
    "for year in tqdm(sdgs_dict.keys()):\n",
    "    sdg_melt_dict[year]={}\n",
    "    for sector in sdgs_dict[year].keys():\n",
    "        sdg_melt_dict[year][sector]={}\n",
    "        firms=list(sdgs_dict[year][sector].keys())\n",
    "        for sdg in sdgs:\n",
    "            sdg_melt_dict[year][sector][sdg]={}\n",
    "            for firm in firms:\n",
    "                if sdg in sdgs_dict[year][sector][firm].keys():\n",
    "                    sdg_melt_dict[year][sector][sdg][firm]=sdgs_dict[year][sector][firm][sdg].replace('\\u200b', '')\n",
    "            if sdg_melt_dict[year][sector][sdg]=={}:\n",
    "                del sdg_melt_dict[year][sector][sdg]"
   ]
  },
  {
   "cell_type": "code",
   "execution_count": 53,
   "id": "65a08a6d",
   "metadata": {
    "ExecuteTime": {
     "end_time": "2024-06-25T14:11:31.584560Z",
     "start_time": "2024-06-25T14:10:02.885979Z"
    }
   },
   "outputs": [
    {
     "data": {
      "application/vnd.jupyter.widget-view+json": {
       "model_id": "f594597e0b394a67820b5ce97f08652c",
       "version_major": 2,
       "version_minor": 0
      },
      "text/plain": [
       "  0%|          | 0/9 [00:00<?, ?it/s]"
      ]
     },
     "metadata": {},
     "output_type": "display_data"
    },
    {
     "name": "stdout",
     "output_type": "stream",
     "text": [
      "\n",
      "                      WARNING: this system has at least a node that is disconnected or connected to all nodes\n",
      "                       of the opposite layer. This may cause some convergence issues.\n",
      "                      Please use the full mode providing a biadjacency matrix or an edgelist,\n",
      "                       or clean your data from these nodes. \n",
      "                      \n",
      "2015 Energy SDG 3: Good Health and Well-being\r"
     ]
    },
    {
     "name": "stderr",
     "output_type": "stream",
     "text": [
      "\n",
      "\n",
      "  0%|                                                                                                                                 | 0/30 [00:00<?, ?it/s]\u001b[A\u001b[A/home/sarawalk/sdgs_py38/lib/python3.8/site-packages/bicm/graph_classes.py:1113: RuntimeWarning: invalid value encountered in divide\n",
      "  probs = node_xy * neighbor_xy / ((1 + node_xy) * (1 + neighbor_xy))\n",
      "/home/sarawalk/sdgs_py38/lib/python3.8/site-packages/bicm/graph_classes.py:1113: RuntimeWarning: invalid value encountered in divide\n",
      "  probs = node_xy * neighbor_xy / ((1 + node_xy) * (1 + neighbor_xy))\n",
      "/home/sarawalk/sdgs_py38/lib/python3.8/site-packages/bicm/graph_classes.py:1113: RuntimeWarning: invalid value encountered in divide\n",
      "  probs = node_xy * neighbor_xy / ((1 + node_xy) * (1 + neighbor_xy))\n",
      "/home/sarawalk/sdgs_py38/lib/python3.8/site-packages/bicm/graph_classes.py:1113: RuntimeWarning: invalid value encountered in divide\n",
      "  probs = node_xy * neighbor_xy / ((1 + node_xy) * (1 + neighbor_xy))\n",
      "100%|███████████████████████████████████████████████████████████████████████████████████████████████████████████████████████| 30/30 [00:00<00:00, 912.53it/s]"
     ]
    },
    {
     "name": "stdout",
     "output_type": "stream",
     "text": [
      "No V-motifs will be validated. Try increasing alpha\n"
     ]
    },
    {
     "name": "stderr",
     "output_type": "stream",
     "text": [
      "\n",
      "\n",
      "\n",
      "100%|█████████████████████████████████████████████████████████████████████████████████████████████████████████████████████████| 2/2 [00:00<00:00, 119.65it/s]\u001b[A\u001b[A/home/sarawalk/sdgs_py38/lib/python3.8/site-packages/bicm/graph_classes.py:1113: RuntimeWarning: invalid value encountered in divide\n",
      "  probs = node_xy * neighbor_xy / ((1 + node_xy) * (1 + neighbor_xy))\n",
      "\n"
     ]
    },
    {
     "name": "stdout",
     "output_type": "stream",
     "text": [
      "No V-motifs will be validated. Try increasing alpha\n",
      "\n",
      "                      WARNING: this system has at least a node that is disconnected or connected to all nodes\n",
      "                       of the opposite layer. This may cause some convergence issues.\n",
      "                      Please use the full mode providing a biadjacency matrix or an edgelist,\n",
      "                       or clean your data from these nodes. \n",
      "                      \n",
      "2015 Energy SDG 4: Quality Education\r"
     ]
    },
    {
     "name": "stderr",
     "output_type": "stream",
     "text": [
      "\n",
      "\n",
      "  0%|                                                                                                                                 | 0/30 [00:00<?, ?it/s]\u001b[A\u001b[A/home/sarawalk/sdgs_py38/lib/python3.8/site-packages/bicm/graph_classes.py:1113: RuntimeWarning: invalid value encountered in divide\n",
      "  probs = node_xy * neighbor_xy / ((1 + node_xy) * (1 + neighbor_xy))\n",
      "/home/sarawalk/sdgs_py38/lib/python3.8/site-packages/bicm/graph_classes.py:1113: RuntimeWarning: invalid value encountered in divide\n",
      "  probs = node_xy * neighbor_xy / ((1 + node_xy) * (1 + neighbor_xy))\n",
      "/home/sarawalk/sdgs_py38/lib/python3.8/site-packages/bicm/graph_classes.py:1113: RuntimeWarning: invalid value encountered in divide\n",
      "  probs = node_xy * neighbor_xy / ((1 + node_xy) * (1 + neighbor_xy))\n",
      "/home/sarawalk/sdgs_py38/lib/python3.8/site-packages/bicm/graph_classes.py:1113: RuntimeWarning: invalid value encountered in divide\n",
      "  probs = node_xy * neighbor_xy / ((1 + node_xy) * (1 + neighbor_xy))\n",
      "100%|███████████████████████████████████████████████████████████████████████████████████████████████████████████████████████| 30/30 [00:00<00:00, 854.80it/s]\n"
     ]
    },
    {
     "name": "stdout",
     "output_type": "stream",
     "text": [
      "No V-motifs will be validated. Try increasing alpha\n"
     ]
    },
    {
     "name": "stderr",
     "output_type": "stream",
     "text": [
      "\n",
      "\n",
      "100%|█████████████████████████████████████████████████████████████████████████████████████████████████████████████████████████| 2/2 [00:00<00:00, 160.15it/s]\u001b[A\u001b[A/home/sarawalk/sdgs_py38/lib/python3.8/site-packages/bicm/graph_classes.py:1113: RuntimeWarning: invalid value encountered in divide\n",
      "  probs = node_xy * neighbor_xy / ((1 + node_xy) * (1 + neighbor_xy))\n"
     ]
    },
    {
     "name": "stdout",
     "output_type": "stream",
     "text": [
      "No V-motifs will be validated. Try increasing alpha\n",
      "\n",
      "                      WARNING: this system has at least a node that is disconnected or connected to all nodes\n",
      "                       of the opposite layer. This may cause some convergence issues.\n",
      "                      Please use the full mode providing a biadjacency matrix or an edgelist,\n",
      "                       or clean your data from these nodes. \n",
      "                      \n",
      "2015 Energy SDG 5: Gender Equality\r"
     ]
    },
    {
     "name": "stderr",
     "output_type": "stream",
     "text": [
      "\n",
      "\n",
      "\n",
      "  0%|                                                                                                                                 | 0/30 [00:00<?, ?it/s]\u001b[A\u001b[A/home/sarawalk/sdgs_py38/lib/python3.8/site-packages/bicm/graph_classes.py:1113: RuntimeWarning: invalid value encountered in divide\n",
      "  probs = node_xy * neighbor_xy / ((1 + node_xy) * (1 + neighbor_xy))\n",
      "/home/sarawalk/sdgs_py38/lib/python3.8/site-packages/bicm/graph_classes.py:1113: RuntimeWarning: invalid value encountered in divide\n",
      "  probs = node_xy * neighbor_xy / ((1 + node_xy) * (1 + neighbor_xy))\n",
      "/home/sarawalk/sdgs_py38/lib/python3.8/site-packages/bicm/graph_classes.py:1113: RuntimeWarning: invalid value encountered in divide\n",
      "  probs = node_xy * neighbor_xy / ((1 + node_xy) * (1 + neighbor_xy))\n",
      "/home/sarawalk/sdgs_py38/lib/python3.8/site-packages/bicm/graph_classes.py:1113: RuntimeWarning: invalid value encountered in divide\n",
      "  probs = node_xy * neighbor_xy / ((1 + node_xy) * (1 + neighbor_xy))\n",
      "100%|███████████████████████████████████████████████████████████████████████████████████████████████████████████████████████| 30/30 [00:00<00:00, 909.56it/s]"
     ]
    },
    {
     "name": "stdout",
     "output_type": "stream",
     "text": [
      "No V-motifs will be validated. Try increasing alpha\n"
     ]
    },
    {
     "name": "stderr",
     "output_type": "stream",
     "text": [
      "\n",
      "\n",
      "\n",
      "100%|█████████████████████████████████████████████████████████████████████████████████████████████████████████████████████████| 2/2 [00:00<00:00, 140.70it/s]\u001b[A\u001b[A/home/sarawalk/sdgs_py38/lib/python3.8/site-packages/bicm/graph_classes.py:1113: RuntimeWarning: invalid value encountered in divide\n",
      "  probs = node_xy * neighbor_xy / ((1 + node_xy) * (1 + neighbor_xy))\n"
     ]
    },
    {
     "name": "stdout",
     "output_type": "stream",
     "text": [
      "No V-motifs will be validated. Try increasing alpha\n",
      "\n",
      "                      WARNING: this system has at least a node that is disconnected or connected to all nodes\n",
      "                       of the opposite layer. This may cause some convergence issues.\n",
      "                      Please use the full mode providing a biadjacency matrix or an edgelist,\n",
      "                       or clean your data from these nodes. \n",
      "                      \n",
      "2015 Energy SDG 6: Clean Water and Sanitation\r"
     ]
    },
    {
     "name": "stderr",
     "output_type": "stream",
     "text": [
      "\n",
      "\n",
      "\n",
      "  0%|                                                                                                                                 | 0/30 [00:00<?, ?it/s]\u001b[A\u001b[A/home/sarawalk/sdgs_py38/lib/python3.8/site-packages/bicm/graph_classes.py:1113: RuntimeWarning: invalid value encountered in divide\n",
      "  probs = node_xy * neighbor_xy / ((1 + node_xy) * (1 + neighbor_xy))\n",
      "/home/sarawalk/sdgs_py38/lib/python3.8/site-packages/bicm/graph_classes.py:1113: RuntimeWarning: invalid value encountered in divide\n",
      "  probs = node_xy * neighbor_xy / ((1 + node_xy) * (1 + neighbor_xy))\n",
      "/home/sarawalk/sdgs_py38/lib/python3.8/site-packages/bicm/graph_classes.py:1113: RuntimeWarning: invalid value encountered in divide\n",
      "  probs = node_xy * neighbor_xy / ((1 + node_xy) * (1 + neighbor_xy))\n",
      "/home/sarawalk/sdgs_py38/lib/python3.8/site-packages/bicm/graph_classes.py:1113: RuntimeWarning: invalid value encountered in divide\n",
      "  probs = node_xy * neighbor_xy / ((1 + node_xy) * (1 + neighbor_xy))\n",
      "100%|███████████████████████████████████████████████████████████████████████████████████████████████████████████████████████| 30/30 [00:00<00:00, 907.32it/s]"
     ]
    },
    {
     "name": "stdout",
     "output_type": "stream",
     "text": [
      "No V-motifs will be validated. Try increasing alpha\n"
     ]
    },
    {
     "name": "stderr",
     "output_type": "stream",
     "text": [
      "\n",
      "\n",
      "\n",
      "100%|█████████████████████████████████████████████████████████████████████████████████████████████████████████████████████████| 2/2 [00:00<00:00, 216.94it/s]\u001b[A\u001b[A/home/sarawalk/sdgs_py38/lib/python3.8/site-packages/bicm/graph_classes.py:1113: RuntimeWarning: invalid value encountered in divide\n",
      "  probs = node_xy * neighbor_xy / ((1 + node_xy) * (1 + neighbor_xy))\n"
     ]
    },
    {
     "name": "stdout",
     "output_type": "stream",
     "text": [
      "No V-motifs will be validated. Try increasing alpha\n",
      "\n",
      "                      WARNING: this system has at least a node that is disconnected or connected to all nodes\n",
      "                       of the opposite layer. This may cause some convergence issues.\n",
      "                      Please use the full mode providing a biadjacency matrix or an edgelist,\n",
      "                       or clean your data from these nodes. \n",
      "                      \n",
      "2015 Energy SDG 7: Affordable and Clean Energy\r"
     ]
    },
    {
     "name": "stderr",
     "output_type": "stream",
     "text": [
      "\n",
      "\n",
      "\n",
      "  0%|                                                                                                                                 | 0/30 [00:00<?, ?it/s]\u001b[A\u001b[A/home/sarawalk/sdgs_py38/lib/python3.8/site-packages/bicm/graph_classes.py:1113: RuntimeWarning: invalid value encountered in divide\n",
      "  probs = node_xy * neighbor_xy / ((1 + node_xy) * (1 + neighbor_xy))\n",
      "/home/sarawalk/sdgs_py38/lib/python3.8/site-packages/bicm/graph_classes.py:1113: RuntimeWarning: invalid value encountered in divide\n",
      "  probs = node_xy * neighbor_xy / ((1 + node_xy) * (1 + neighbor_xy))\n",
      "/home/sarawalk/sdgs_py38/lib/python3.8/site-packages/bicm/graph_classes.py:1113: RuntimeWarning: invalid value encountered in divide\n",
      "  probs = node_xy * neighbor_xy / ((1 + node_xy) * (1 + neighbor_xy))\n",
      "/home/sarawalk/sdgs_py38/lib/python3.8/site-packages/bicm/graph_classes.py:1113: RuntimeWarning: invalid value encountered in divide\n",
      "  probs = node_xy * neighbor_xy / ((1 + node_xy) * (1 + neighbor_xy))\n",
      "100%|███████████████████████████████████████████████████████████████████████████████████████████████████████████████████████| 30/30 [00:00<00:00, 903.15it/s]"
     ]
    },
    {
     "name": "stdout",
     "output_type": "stream",
     "text": [
      "No V-motifs will be validated. Try increasing alpha\n"
     ]
    },
    {
     "name": "stderr",
     "output_type": "stream",
     "text": [
      "\n",
      "\n",
      "\n",
      "100%|█████████████████████████████████████████████████████████████████████████████████████████████████████████████████████████| 2/2 [00:00<00:00, 262.03it/s]\u001b[A\u001b[A/home/sarawalk/sdgs_py38/lib/python3.8/site-packages/bicm/graph_classes.py:1113: RuntimeWarning: invalid value encountered in divide\n",
      "  probs = node_xy * neighbor_xy / ((1 + node_xy) * (1 + neighbor_xy))\n"
     ]
    },
    {
     "name": "stdout",
     "output_type": "stream",
     "text": [
      "No V-motifs will be validated. Try increasing alpha\n",
      "\n",
      "                      WARNING: this system has at least a node that is disconnected or connected to all nodes\n",
      "                       of the opposite layer. This may cause some convergence issues.\n",
      "                      Please use the full mode providing a biadjacency matrix or an edgelist,\n",
      "                       or clean your data from these nodes. \n",
      "                      \n",
      "2015 Energy SDG 8: Decent Work and Economic Growth\r"
     ]
    },
    {
     "name": "stderr",
     "output_type": "stream",
     "text": [
      "\n",
      "\n",
      "\n",
      "  0%|                                                                                                                                 | 0/30 [00:00<?, ?it/s]\u001b[A\u001b[A/home/sarawalk/sdgs_py38/lib/python3.8/site-packages/bicm/graph_classes.py:1113: RuntimeWarning: invalid value encountered in divide\n",
      "  probs = node_xy * neighbor_xy / ((1 + node_xy) * (1 + neighbor_xy))\n",
      "/home/sarawalk/sdgs_py38/lib/python3.8/site-packages/bicm/graph_classes.py:1113: RuntimeWarning: invalid value encountered in divide\n",
      "  probs = node_xy * neighbor_xy / ((1 + node_xy) * (1 + neighbor_xy))\n",
      "/home/sarawalk/sdgs_py38/lib/python3.8/site-packages/bicm/graph_classes.py:1113: RuntimeWarning: invalid value encountered in divide\n",
      "  probs = node_xy * neighbor_xy / ((1 + node_xy) * (1 + neighbor_xy))\n",
      "/home/sarawalk/sdgs_py38/lib/python3.8/site-packages/bicm/graph_classes.py:1113: RuntimeWarning: invalid value encountered in divide\n",
      "  probs = node_xy * neighbor_xy / ((1 + node_xy) * (1 + neighbor_xy))\n",
      "100%|███████████████████████████████████████████████████████████████████████████████████████████████████████████████████████| 30/30 [00:00<00:00, 701.85it/s]\n"
     ]
    },
    {
     "name": "stdout",
     "output_type": "stream",
     "text": [
      "No V-motifs will be validated. Try increasing alpha\n"
     ]
    },
    {
     "name": "stderr",
     "output_type": "stream",
     "text": [
      "\n",
      "\n",
      "100%|█████████████████████████████████████████████████████████████████████████████████████████████████████████████████████████| 2/2 [00:00<00:00, 229.75it/s]\u001b[A\u001b[A/home/sarawalk/sdgs_py38/lib/python3.8/site-packages/bicm/graph_classes.py:1113: RuntimeWarning: invalid value encountered in divide\n",
      "  probs = node_xy * neighbor_xy / ((1 + node_xy) * (1 + neighbor_xy))\n",
      "\n"
     ]
    },
    {
     "name": "stdout",
     "output_type": "stream",
     "text": [
      "No V-motifs will be validated. Try increasing alpha\n",
      "\n",
      "                      WARNING: this system has at least a node that is disconnected or connected to all nodes\n",
      "                       of the opposite layer. This may cause some convergence issues.\n",
      "                      Please use the full mode providing a biadjacency matrix or an edgelist,\n",
      "                       or clean your data from these nodes. \n",
      "                      \n",
      "2015 Energy SDG 9: Industry, Innovation, and Infrastructure\r"
     ]
    },
    {
     "name": "stderr",
     "output_type": "stream",
     "text": [
      "\n",
      "\n",
      "  0%|                                                                                                                                 | 0/30 [00:00<?, ?it/s]\u001b[A\u001b[A/home/sarawalk/sdgs_py38/lib/python3.8/site-packages/bicm/graph_classes.py:1113: RuntimeWarning: invalid value encountered in divide\n",
      "  probs = node_xy * neighbor_xy / ((1 + node_xy) * (1 + neighbor_xy))\n",
      "/home/sarawalk/sdgs_py38/lib/python3.8/site-packages/bicm/graph_classes.py:1113: RuntimeWarning: invalid value encountered in divide\n",
      "  probs = node_xy * neighbor_xy / ((1 + node_xy) * (1 + neighbor_xy))\n",
      "/home/sarawalk/sdgs_py38/lib/python3.8/site-packages/bicm/graph_classes.py:1113: RuntimeWarning: invalid value encountered in divide\n",
      "  probs = node_xy * neighbor_xy / ((1 + node_xy) * (1 + neighbor_xy))\n",
      "/home/sarawalk/sdgs_py38/lib/python3.8/site-packages/bicm/graph_classes.py:1113: RuntimeWarning: invalid value encountered in divide\n",
      "  probs = node_xy * neighbor_xy / ((1 + node_xy) * (1 + neighbor_xy))\n",
      "100%|███████████████████████████████████████████████████████████████████████████████████████████████████████████████████████| 30/30 [00:00<00:00, 870.88it/s]"
     ]
    },
    {
     "name": "stdout",
     "output_type": "stream",
     "text": [
      "No V-motifs will be validated. Try increasing alpha\n"
     ]
    },
    {
     "name": "stderr",
     "output_type": "stream",
     "text": [
      "\n",
      "\n",
      "\n",
      "  0%|                                                                                                                                  | 0/2 [00:00<?, ?it/s]\u001b[A\u001b[A/home/sarawalk/sdgs_py38/lib/python3.8/site-packages/bicm/graph_classes.py:1113: RuntimeWarning: invalid value encountered in divide\n",
      "  probs = node_xy * neighbor_xy / ((1 + node_xy) * (1 + neighbor_xy))\n",
      "100%|█████████████████████████████████████████████████████████████████████████████████████████████████████████████████████████| 2/2 [00:00<00:00, 146.82it/s]"
     ]
    },
    {
     "name": "stdout",
     "output_type": "stream",
     "text": [
      "No V-motifs will be validated. Try increasing alpha\n",
      "\n",
      "                      WARNING: this system has at least a node that is disconnected or connected to all nodes\n",
      "                       of the opposite layer. This may cause some convergence issues.\n",
      "                      Please use the full mode providing a biadjacency matrix or an edgelist,\n",
      "                       or clean your data from these nodes. \n",
      "                      \n",
      "2015 Energy SDG 10: Reduced Inequality\r"
     ]
    },
    {
     "name": "stderr",
     "output_type": "stream",
     "text": [
      "\n",
      "\n",
      "\n",
      "  0%|                                                                                                                                 | 0/30 [00:00<?, ?it/s]\u001b[A\u001b[A/home/sarawalk/sdgs_py38/lib/python3.8/site-packages/bicm/graph_classes.py:1113: RuntimeWarning: invalid value encountered in divide\n",
      "  probs = node_xy * neighbor_xy / ((1 + node_xy) * (1 + neighbor_xy))\n",
      "/home/sarawalk/sdgs_py38/lib/python3.8/site-packages/bicm/graph_classes.py:1113: RuntimeWarning: invalid value encountered in divide\n",
      "  probs = node_xy * neighbor_xy / ((1 + node_xy) * (1 + neighbor_xy))\n",
      "/home/sarawalk/sdgs_py38/lib/python3.8/site-packages/bicm/graph_classes.py:1113: RuntimeWarning: invalid value encountered in divide\n",
      "  probs = node_xy * neighbor_xy / ((1 + node_xy) * (1 + neighbor_xy))\n",
      "100%|███████████████████████████████████████████████████████████████████████████████████████████████████████████████████████| 30/30 [00:00<00:00, 864.23it/s]/home/sarawalk/sdgs_py38/lib/python3.8/site-packages/bicm/graph_classes.py:1113: RuntimeWarning: invalid value encountered in divide\n",
      "  probs = node_xy * neighbor_xy / ((1 + node_xy) * (1 + neighbor_xy))\n"
     ]
    },
    {
     "name": "stdout",
     "output_type": "stream",
     "text": [
      "No V-motifs will be validated. Try increasing alpha\n"
     ]
    },
    {
     "name": "stderr",
     "output_type": "stream",
     "text": [
      "\n",
      "\n",
      "\n",
      "100%|█████████████████████████████████████████████████████████████████████████████████████████████████████████████████████████| 2/2 [00:00<00:00, 253.57it/s]\u001b[A\u001b[A/home/sarawalk/sdgs_py38/lib/python3.8/site-packages/bicm/graph_classes.py:1113: RuntimeWarning: invalid value encountered in divide\n",
      "  probs = node_xy * neighbor_xy / ((1 + node_xy) * (1 + neighbor_xy))\n"
     ]
    },
    {
     "name": "stdout",
     "output_type": "stream",
     "text": [
      "No V-motifs will be validated. Try increasing alpha\n",
      "\n",
      "                      WARNING: this system has at least a node that is disconnected or connected to all nodes\n",
      "                       of the opposite layer. This may cause some convergence issues.\n",
      "                      Please use the full mode providing a biadjacency matrix or an edgelist,\n",
      "                       or clean your data from these nodes. \n",
      "                      \n",
      "2015 Energy SDG 11: Sustainable Cities and Communities\r"
     ]
    },
    {
     "name": "stderr",
     "output_type": "stream",
     "text": [
      "\n",
      "\n",
      "\n",
      "  0%|                                                                                                                                 | 0/30 [00:00<?, ?it/s]\u001b[A\u001b[A/home/sarawalk/sdgs_py38/lib/python3.8/site-packages/bicm/graph_classes.py:1113: RuntimeWarning: invalid value encountered in divide\n",
      "  probs = node_xy * neighbor_xy / ((1 + node_xy) * (1 + neighbor_xy))\n",
      "/home/sarawalk/sdgs_py38/lib/python3.8/site-packages/bicm/graph_classes.py:1113: RuntimeWarning: invalid value encountered in divide\n",
      "  probs = node_xy * neighbor_xy / ((1 + node_xy) * (1 + neighbor_xy))\n",
      "/home/sarawalk/sdgs_py38/lib/python3.8/site-packages/bicm/graph_classes.py:1113: RuntimeWarning: invalid value encountered in divide\n",
      "  probs = node_xy * neighbor_xy / ((1 + node_xy) * (1 + neighbor_xy))\n",
      "/home/sarawalk/sdgs_py38/lib/python3.8/site-packages/bicm/graph_classes.py:1113: RuntimeWarning: invalid value encountered in divide\n",
      "  probs = node_xy * neighbor_xy / ((1 + node_xy) * (1 + neighbor_xy))\n",
      "100%|███████████████████████████████████████████████████████████████████████████████████████████████████████████████████████| 30/30 [00:00<00:00, 869.12it/s]"
     ]
    },
    {
     "name": "stdout",
     "output_type": "stream",
     "text": [
      "No V-motifs will be validated. Try increasing alpha\n"
     ]
    },
    {
     "name": "stderr",
     "output_type": "stream",
     "text": [
      "\n",
      "\n",
      "\n",
      "100%|█████████████████████████████████████████████████████████████████████████████████████████████████████████████████████████| 2/2 [00:00<00:00, 207.38it/s]\u001b[A\u001b[A/home/sarawalk/sdgs_py38/lib/python3.8/site-packages/bicm/graph_classes.py:1113: RuntimeWarning: invalid value encountered in divide\n",
      "  probs = node_xy * neighbor_xy / ((1 + node_xy) * (1 + neighbor_xy))\n"
     ]
    },
    {
     "name": "stdout",
     "output_type": "stream",
     "text": [
      "No V-motifs will be validated. Try increasing alpha\n",
      "\n",
      "                      WARNING: this system has at least a node that is disconnected or connected to all nodes\n",
      "                       of the opposite layer. This may cause some convergence issues.\n",
      "                      Please use the full mode providing a biadjacency matrix or an edgelist,\n",
      "                       or clean your data from these nodes. \n",
      "                      \n",
      "2015 Energy SDG 12: Responsible Consumption and Production\r"
     ]
    },
    {
     "name": "stderr",
     "output_type": "stream",
     "text": [
      "\n",
      "\n",
      "\n",
      "  0%|                                                                                                                                 | 0/30 [00:00<?, ?it/s]\u001b[A\u001b[A/home/sarawalk/sdgs_py38/lib/python3.8/site-packages/bicm/graph_classes.py:1113: RuntimeWarning: invalid value encountered in divide\n",
      "  probs = node_xy * neighbor_xy / ((1 + node_xy) * (1 + neighbor_xy))\n",
      "/home/sarawalk/sdgs_py38/lib/python3.8/site-packages/bicm/graph_classes.py:1113: RuntimeWarning: invalid value encountered in divide\n",
      "  probs = node_xy * neighbor_xy / ((1 + node_xy) * (1 + neighbor_xy))\n",
      "/home/sarawalk/sdgs_py38/lib/python3.8/site-packages/bicm/graph_classes.py:1113: RuntimeWarning: invalid value encountered in divide\n",
      "  probs = node_xy * neighbor_xy / ((1 + node_xy) * (1 + neighbor_xy))\n",
      "/home/sarawalk/sdgs_py38/lib/python3.8/site-packages/bicm/graph_classes.py:1113: RuntimeWarning: invalid value encountered in divide\n",
      "  probs = node_xy * neighbor_xy / ((1 + node_xy) * (1 + neighbor_xy))\n",
      "100%|███████████████████████████████████████████████████████████████████████████████████████████████████████████████████████| 30/30 [00:00<00:00, 891.78it/s]"
     ]
    },
    {
     "name": "stdout",
     "output_type": "stream",
     "text": [
      "No V-motifs will be validated. Try increasing alpha\n"
     ]
    },
    {
     "name": "stderr",
     "output_type": "stream",
     "text": [
      "\n",
      "\n",
      "\n",
      "100%|█████████████████████████████████████████████████████████████████████████████████████████████████████████████████████████| 2/2 [00:00<00:00, 156.38it/s]\u001b[A\u001b[A/home/sarawalk/sdgs_py38/lib/python3.8/site-packages/bicm/graph_classes.py:1113: RuntimeWarning: invalid value encountered in divide\n",
      "  probs = node_xy * neighbor_xy / ((1 + node_xy) * (1 + neighbor_xy))\n"
     ]
    },
    {
     "name": "stdout",
     "output_type": "stream",
     "text": [
      "No V-motifs will be validated. Try increasing alpha\n",
      "\n",
      "                      WARNING: this system has at least a node that is disconnected or connected to all nodes\n",
      "                       of the opposite layer. This may cause some convergence issues.\n",
      "                      Please use the full mode providing a biadjacency matrix or an edgelist,\n",
      "                       or clean your data from these nodes. \n",
      "                      \n",
      "2015 Energy SDG 13: Climate Action\r"
     ]
    },
    {
     "name": "stderr",
     "output_type": "stream",
     "text": [
      "\n",
      "\n",
      "\n",
      "  0%|                                                                                                                                 | 0/30 [00:00<?, ?it/s]\u001b[A\u001b[A/home/sarawalk/sdgs_py38/lib/python3.8/site-packages/bicm/graph_classes.py:1113: RuntimeWarning: invalid value encountered in divide\n",
      "  probs = node_xy * neighbor_xy / ((1 + node_xy) * (1 + neighbor_xy))\n",
      "/home/sarawalk/sdgs_py38/lib/python3.8/site-packages/bicm/graph_classes.py:1113: RuntimeWarning: invalid value encountered in divide\n",
      "  probs = node_xy * neighbor_xy / ((1 + node_xy) * (1 + neighbor_xy))\n",
      "/home/sarawalk/sdgs_py38/lib/python3.8/site-packages/bicm/graph_classes.py:1113: RuntimeWarning: invalid value encountered in divide\n",
      "  probs = node_xy * neighbor_xy / ((1 + node_xy) * (1 + neighbor_xy))\n",
      "/home/sarawalk/sdgs_py38/lib/python3.8/site-packages/bicm/graph_classes.py:1113: RuntimeWarning: invalid value encountered in divide\n",
      "  probs = node_xy * neighbor_xy / ((1 + node_xy) * (1 + neighbor_xy))\n",
      "100%|███████████████████████████████████████████████████████████████████████████████████████████████████████████████████████| 30/30 [00:00<00:00, 816.69it/s]"
     ]
    },
    {
     "name": "stdout",
     "output_type": "stream",
     "text": [
      "No V-motifs will be validated. Try increasing alpha\n"
     ]
    },
    {
     "name": "stderr",
     "output_type": "stream",
     "text": [
      "\n",
      "\n",
      "\n",
      "  0%|                                                                                                                                  | 0/2 [00:00<?, ?it/s]\u001b[A\u001b[A/home/sarawalk/sdgs_py38/lib/python3.8/site-packages/bicm/graph_classes.py:1113: RuntimeWarning: invalid value encountered in divide\n",
      "  probs = node_xy * neighbor_xy / ((1 + node_xy) * (1 + neighbor_xy))\n",
      "100%|█████████████████████████████████████████████████████████████████████████████████████████████████████████████████████████| 2/2 [00:00<00:00, 147.62it/s]"
     ]
    },
    {
     "name": "stdout",
     "output_type": "stream",
     "text": [
      "No V-motifs will be validated. Try increasing alpha\n",
      "\n",
      "                      WARNING: this system has at least a node that is disconnected or connected to all nodes\n",
      "                       of the opposite layer. This may cause some convergence issues.\n",
      "                      Please use the full mode providing a biadjacency matrix or an edgelist,\n",
      "                       or clean your data from these nodes. \n",
      "                      \n",
      "2015 Energy SDG 14: Life Below Water\r"
     ]
    },
    {
     "name": "stderr",
     "output_type": "stream",
     "text": [
      "\n",
      "\n",
      "\n",
      "  0%|                                                                                                                                 | 0/30 [00:00<?, ?it/s]\u001b[A\u001b[A/home/sarawalk/sdgs_py38/lib/python3.8/site-packages/bicm/graph_classes.py:1113: RuntimeWarning: invalid value encountered in divide\n",
      "  probs = node_xy * neighbor_xy / ((1 + node_xy) * (1 + neighbor_xy))\n",
      "/home/sarawalk/sdgs_py38/lib/python3.8/site-packages/bicm/graph_classes.py:1113: RuntimeWarning: invalid value encountered in divide\n",
      "  probs = node_xy * neighbor_xy / ((1 + node_xy) * (1 + neighbor_xy))\n",
      "/home/sarawalk/sdgs_py38/lib/python3.8/site-packages/bicm/graph_classes.py:1113: RuntimeWarning: invalid value encountered in divide\n",
      "  probs = node_xy * neighbor_xy / ((1 + node_xy) * (1 + neighbor_xy))\n",
      "/home/sarawalk/sdgs_py38/lib/python3.8/site-packages/bicm/graph_classes.py:1113: RuntimeWarning: invalid value encountered in divide\n",
      "  probs = node_xy * neighbor_xy / ((1 + node_xy) * (1 + neighbor_xy))\n",
      "100%|███████████████████████████████████████████████████████████████████████████████████████████████████████████████████████| 30/30 [00:00<00:00, 861.83it/s]"
     ]
    },
    {
     "name": "stdout",
     "output_type": "stream",
     "text": [
      "No V-motifs will be validated. Try increasing alpha\n"
     ]
    },
    {
     "name": "stderr",
     "output_type": "stream",
     "text": [
      "\n",
      "\n",
      "\n",
      "100%|█████████████████████████████████████████████████████████████████████████████████████████████████████████████████████████| 2/2 [00:00<00:00, 210.99it/s]\u001b[A\u001b[A/home/sarawalk/sdgs_py38/lib/python3.8/site-packages/bicm/graph_classes.py:1113: RuntimeWarning: invalid value encountered in divide\n",
      "  probs = node_xy * neighbor_xy / ((1 + node_xy) * (1 + neighbor_xy))\n"
     ]
    },
    {
     "name": "stdout",
     "output_type": "stream",
     "text": [
      "No V-motifs will be validated. Try increasing alpha\n",
      "\n",
      "                      WARNING: this system has at least a node that is disconnected or connected to all nodes\n",
      "                       of the opposite layer. This may cause some convergence issues.\n",
      "                      Please use the full mode providing a biadjacency matrix or an edgelist,\n",
      "                       or clean your data from these nodes. \n",
      "                      \n",
      "2015 Energy SDG 15: Life on Land\r"
     ]
    },
    {
     "name": "stderr",
     "output_type": "stream",
     "text": [
      "\n",
      "\n",
      "\n",
      "  0%|                                                                                                                                 | 0/30 [00:00<?, ?it/s]\u001b[A\u001b[A/home/sarawalk/sdgs_py38/lib/python3.8/site-packages/bicm/graph_classes.py:1113: RuntimeWarning: invalid value encountered in divide\n",
      "  probs = node_xy * neighbor_xy / ((1 + node_xy) * (1 + neighbor_xy))\n",
      "/home/sarawalk/sdgs_py38/lib/python3.8/site-packages/bicm/graph_classes.py:1113: RuntimeWarning: invalid value encountered in divide\n",
      "  probs = node_xy * neighbor_xy / ((1 + node_xy) * (1 + neighbor_xy))\n",
      "/home/sarawalk/sdgs_py38/lib/python3.8/site-packages/bicm/graph_classes.py:1113: RuntimeWarning: invalid value encountered in divide\n",
      "  probs = node_xy * neighbor_xy / ((1 + node_xy) * (1 + neighbor_xy))\n",
      "/home/sarawalk/sdgs_py38/lib/python3.8/site-packages/bicm/graph_classes.py:1113: RuntimeWarning: invalid value encountered in divide\n",
      "  probs = node_xy * neighbor_xy / ((1 + node_xy) * (1 + neighbor_xy))\n",
      "100%|███████████████████████████████████████████████████████████████████████████████████████████████████████████████████████| 30/30 [00:00<00:00, 945.98it/s]"
     ]
    },
    {
     "name": "stdout",
     "output_type": "stream",
     "text": [
      "No V-motifs will be validated. Try increasing alpha\n"
     ]
    },
    {
     "name": "stderr",
     "output_type": "stream",
     "text": [
      "\n",
      "\n",
      "\n",
      "100%|█████████████████████████████████████████████████████████████████████████████████████████████████████████████████████████| 2/2 [00:00<00:00, 226.44it/s]\u001b[A\u001b[A/home/sarawalk/sdgs_py38/lib/python3.8/site-packages/bicm/graph_classes.py:1113: RuntimeWarning: invalid value encountered in divide\n",
      "  probs = node_xy * neighbor_xy / ((1 + node_xy) * (1 + neighbor_xy))\n"
     ]
    },
    {
     "name": "stdout",
     "output_type": "stream",
     "text": [
      "No V-motifs will be validated. Try increasing alpha\n",
      "\n",
      "                      WARNING: this system has at least a node that is disconnected or connected to all nodes\n",
      "                       of the opposite layer. This may cause some convergence issues.\n",
      "                      Please use the full mode providing a biadjacency matrix or an edgelist,\n",
      "                       or clean your data from these nodes. \n",
      "                      \n",
      "2015 Energy SDG 16: Peace, Justice, and Strong Institutions\r"
     ]
    },
    {
     "name": "stderr",
     "output_type": "stream",
     "text": [
      "\n",
      "\n",
      "\n",
      "  0%|                                                                                                                                 | 0/30 [00:00<?, ?it/s]\u001b[A\u001b[A/home/sarawalk/sdgs_py38/lib/python3.8/site-packages/bicm/graph_classes.py:1113: RuntimeWarning: invalid value encountered in divide\n",
      "  probs = node_xy * neighbor_xy / ((1 + node_xy) * (1 + neighbor_xy))\n",
      "/home/sarawalk/sdgs_py38/lib/python3.8/site-packages/bicm/graph_classes.py:1113: RuntimeWarning: invalid value encountered in divide\n",
      "  probs = node_xy * neighbor_xy / ((1 + node_xy) * (1 + neighbor_xy))\n",
      "/home/sarawalk/sdgs_py38/lib/python3.8/site-packages/bicm/graph_classes.py:1113: RuntimeWarning: invalid value encountered in divide\n",
      "  probs = node_xy * neighbor_xy / ((1 + node_xy) * (1 + neighbor_xy))\n",
      "/home/sarawalk/sdgs_py38/lib/python3.8/site-packages/bicm/graph_classes.py:1113: RuntimeWarning: invalid value encountered in divide\n",
      "  probs = node_xy * neighbor_xy / ((1 + node_xy) * (1 + neighbor_xy))\n",
      "100%|███████████████████████████████████████████████████████████████████████████████████████████████████████████████████████| 30/30 [00:00<00:00, 953.37it/s]"
     ]
    },
    {
     "name": "stdout",
     "output_type": "stream",
     "text": [
      "No V-motifs will be validated. Try increasing alpha\n"
     ]
    },
    {
     "name": "stderr",
     "output_type": "stream",
     "text": [
      "\n",
      "\n",
      "\n",
      "100%|█████████████████████████████████████████████████████████████████████████████████████████████████████████████████████████| 2/2 [00:00<00:00, 157.44it/s]\u001b[A\u001b[A/home/sarawalk/sdgs_py38/lib/python3.8/site-packages/bicm/graph_classes.py:1113: RuntimeWarning: invalid value encountered in divide\n",
      "  probs = node_xy * neighbor_xy / ((1 + node_xy) * (1 + neighbor_xy))\n",
      "\n"
     ]
    },
    {
     "name": "stdout",
     "output_type": "stream",
     "text": [
      "No V-motifs will be validated. Try increasing alpha\n",
      "\n",
      "                      WARNING: this system has at least a node that is disconnected or connected to all nodes\n",
      "                       of the opposite layer. This may cause some convergence issues.\n",
      "                      Please use the full mode providing a biadjacency matrix or an edgelist,\n",
      "                       or clean your data from these nodes. \n",
      "                      \n",
      "2015 Energy SDG 17: Partnerships for the Goals\r"
     ]
    },
    {
     "name": "stderr",
     "output_type": "stream",
     "text": [
      "\n",
      "\n",
      "  0%|                                                                                                                                 | 0/30 [00:00<?, ?it/s]\u001b[A\u001b[A/home/sarawalk/sdgs_py38/lib/python3.8/site-packages/bicm/graph_classes.py:1113: RuntimeWarning: invalid value encountered in divide\n",
      "  probs = node_xy * neighbor_xy / ((1 + node_xy) * (1 + neighbor_xy))\n",
      "/home/sarawalk/sdgs_py38/lib/python3.8/site-packages/bicm/graph_classes.py:1113: RuntimeWarning: invalid value encountered in divide\n",
      "  probs = node_xy * neighbor_xy / ((1 + node_xy) * (1 + neighbor_xy))\n",
      "/home/sarawalk/sdgs_py38/lib/python3.8/site-packages/bicm/graph_classes.py:1113: RuntimeWarning: invalid value encountered in divide\n",
      "  probs = node_xy * neighbor_xy / ((1 + node_xy) * (1 + neighbor_xy))\n",
      "/home/sarawalk/sdgs_py38/lib/python3.8/site-packages/bicm/graph_classes.py:1113: RuntimeWarning: invalid value encountered in divide\n",
      "  probs = node_xy * neighbor_xy / ((1 + node_xy) * (1 + neighbor_xy))\n",
      "100%|███████████████████████████████████████████████████████████████████████████████████████████████████████████████████████| 30/30 [00:00<00:00, 796.37it/s]\n"
     ]
    },
    {
     "name": "stdout",
     "output_type": "stream",
     "text": [
      "No V-motifs will be validated. Try increasing alpha\n"
     ]
    },
    {
     "name": "stderr",
     "output_type": "stream",
     "text": [
      "\n",
      "\n",
      "100%|█████████████████████████████████████████████████████████████████████████████████████████████████████████████████████████| 2/2 [00:00<00:00, 188.83it/s]\u001b[A\u001b[A/home/sarawalk/sdgs_py38/lib/python3.8/site-packages/bicm/graph_classes.py:1113: RuntimeWarning: invalid value encountered in divide\n",
      "  probs = node_xy * neighbor_xy / ((1 + node_xy) * (1 + neighbor_xy))\n"
     ]
    },
    {
     "name": "stdout",
     "output_type": "stream",
     "text": [
      "No V-motifs will be validated. Try increasing alpha\n",
      "\n",
      "                      WARNING: this system has at least a node that is disconnected or connected to all nodes\n",
      "                       of the opposite layer. This may cause some convergence issues.\n",
      "                      Please use the full mode providing a biadjacency matrix or an edgelist,\n",
      "                       or clean your data from these nodes. \n",
      "                      \n",
      "2016 Energy SDG 1: No Poverty\r"
     ]
    },
    {
     "name": "stderr",
     "output_type": "stream",
     "text": [
      "\n",
      "\n",
      "\n",
      "  0%|                                                                                                                                 | 0/37 [00:00<?, ?it/s]\u001b[A\u001b[A/home/sarawalk/sdgs_py38/lib/python3.8/site-packages/bicm/graph_classes.py:1113: RuntimeWarning: invalid value encountered in divide\n",
      "  probs = node_xy * neighbor_xy / ((1 + node_xy) * (1 + neighbor_xy))\n",
      "/home/sarawalk/sdgs_py38/lib/python3.8/site-packages/bicm/graph_classes.py:1113: RuntimeWarning: invalid value encountered in divide\n",
      "  probs = node_xy * neighbor_xy / ((1 + node_xy) * (1 + neighbor_xy))\n",
      "/home/sarawalk/sdgs_py38/lib/python3.8/site-packages/bicm/graph_classes.py:1113: RuntimeWarning: invalid value encountered in divide\n",
      "  probs = node_xy * neighbor_xy / ((1 + node_xy) * (1 + neighbor_xy))\n",
      "100%|██████████████████████████████████████████████████████████████████████████████████████████████████████████████████████| 37/37 [00:00<00:00, 1067.39it/s]/home/sarawalk/sdgs_py38/lib/python3.8/site-packages/bicm/graph_classes.py:1113: RuntimeWarning: invalid value encountered in divide\n",
      "  probs = node_xy * neighbor_xy / ((1 + node_xy) * (1 + neighbor_xy))\n",
      "\n"
     ]
    },
    {
     "name": "stdout",
     "output_type": "stream",
     "text": [
      "No V-motifs will be validated. Try increasing alpha\n"
     ]
    },
    {
     "name": "stderr",
     "output_type": "stream",
     "text": [
      "\n",
      "\n",
      "  0%|                                                                                                                                  | 0/2 [00:00<?, ?it/s]\u001b[A\u001b[A/home/sarawalk/sdgs_py38/lib/python3.8/site-packages/bicm/graph_classes.py:1113: RuntimeWarning: invalid value encountered in divide\n",
      "  probs = node_xy * neighbor_xy / ((1 + node_xy) * (1 + neighbor_xy))\n",
      "100%|█████████████████████████████████████████████████████████████████████████████████████████████████████████████████████████| 2/2 [00:00<00:00, 121.43it/s]\n"
     ]
    },
    {
     "name": "stdout",
     "output_type": "stream",
     "text": [
      "No V-motifs will be validated. Try increasing alpha\n",
      "\n",
      "                      WARNING: this system has at least a node that is disconnected or connected to all nodes\n",
      "                       of the opposite layer. This may cause some convergence issues.\n",
      "                      Please use the full mode providing a biadjacency matrix or an edgelist,\n",
      "                       or clean your data from these nodes. \n",
      "                      \n",
      "2016 Energy SDG 3: Good Health and Well-being\r"
     ]
    },
    {
     "name": "stderr",
     "output_type": "stream",
     "text": [
      "\n",
      "\n",
      "  0%|                                                                                                                                 | 0/37 [00:00<?, ?it/s]\u001b[A\u001b[A/home/sarawalk/sdgs_py38/lib/python3.8/site-packages/bicm/graph_classes.py:1113: RuntimeWarning: invalid value encountered in divide\n",
      "  probs = node_xy * neighbor_xy / ((1 + node_xy) * (1 + neighbor_xy))\n",
      "/home/sarawalk/sdgs_py38/lib/python3.8/site-packages/bicm/graph_classes.py:1113: RuntimeWarning: invalid value encountered in divide\n",
      "  probs = node_xy * neighbor_xy / ((1 + node_xy) * (1 + neighbor_xy))\n",
      "100%|██████████████████████████████████████████████████████████████████████████████████████████████████████████████████████| 37/37 [00:00<00:00, 1002.07it/s]/home/sarawalk/sdgs_py38/lib/python3.8/site-packages/bicm/graph_classes.py:1113: RuntimeWarning: invalid value encountered in divide\n",
      "  probs = node_xy * neighbor_xy / ((1 + node_xy) * (1 + neighbor_xy))\n",
      "/home/sarawalk/sdgs_py38/lib/python3.8/site-packages/bicm/graph_classes.py:1113: RuntimeWarning: invalid value encountered in divide\n",
      "  probs = node_xy * neighbor_xy / ((1 + node_xy) * (1 + neighbor_xy))\n",
      "\n"
     ]
    },
    {
     "name": "stdout",
     "output_type": "stream",
     "text": [
      "No V-motifs will be validated. Try increasing alpha\n"
     ]
    },
    {
     "name": "stderr",
     "output_type": "stream",
     "text": [
      "\n",
      "\n",
      "100%|█████████████████████████████████████████████████████████████████████████████████████████████████████████████████████████| 2/2 [00:00<00:00, 184.38it/s]\u001b[A\u001b[A/home/sarawalk/sdgs_py38/lib/python3.8/site-packages/bicm/graph_classes.py:1113: RuntimeWarning: invalid value encountered in divide\n",
      "  probs = node_xy * neighbor_xy / ((1 + node_xy) * (1 + neighbor_xy))\n",
      "\n"
     ]
    },
    {
     "name": "stdout",
     "output_type": "stream",
     "text": [
      "No V-motifs will be validated. Try increasing alpha\n",
      "\n",
      "                      WARNING: this system has at least a node that is disconnected or connected to all nodes\n",
      "                       of the opposite layer. This may cause some convergence issues.\n",
      "                      Please use the full mode providing a biadjacency matrix or an edgelist,\n",
      "                       or clean your data from these nodes. \n",
      "                      \n",
      "2016 Energy SDG 4: Quality Education\r"
     ]
    },
    {
     "name": "stderr",
     "output_type": "stream",
     "text": [
      "\n",
      "\n",
      "  0%|                                                                                                                                 | 0/37 [00:00<?, ?it/s]\u001b[A\u001b[A/home/sarawalk/sdgs_py38/lib/python3.8/site-packages/bicm/graph_classes.py:1113: RuntimeWarning: invalid value encountered in divide\n",
      "  probs = node_xy * neighbor_xy / ((1 + node_xy) * (1 + neighbor_xy))\n",
      "/home/sarawalk/sdgs_py38/lib/python3.8/site-packages/bicm/graph_classes.py:1113: RuntimeWarning: invalid value encountered in divide\n",
      "  probs = node_xy * neighbor_xy / ((1 + node_xy) * (1 + neighbor_xy))\n",
      "100%|██████████████████████████████████████████████████████████████████████████████████████████████████████████████████████| 37/37 [00:00<00:00, 1009.46it/s]/home/sarawalk/sdgs_py38/lib/python3.8/site-packages/bicm/graph_classes.py:1113: RuntimeWarning: invalid value encountered in divide\n",
      "  probs = node_xy * neighbor_xy / ((1 + node_xy) * (1 + neighbor_xy))\n",
      "/home/sarawalk/sdgs_py38/lib/python3.8/site-packages/bicm/graph_classes.py:1113: RuntimeWarning: invalid value encountered in divide\n",
      "  probs = node_xy * neighbor_xy / ((1 + node_xy) * (1 + neighbor_xy))\n",
      "\n"
     ]
    },
    {
     "name": "stdout",
     "output_type": "stream",
     "text": [
      "No V-motifs will be validated. Try increasing alpha\n"
     ]
    },
    {
     "name": "stderr",
     "output_type": "stream",
     "text": [
      "\n",
      "\n",
      "100%|█████████████████████████████████████████████████████████████████████████████████████████████████████████████████████████| 2/2 [00:00<00:00, 114.62it/s]\u001b[A\u001b[A\n",
      "/home/sarawalk/sdgs_py38/lib/python3.8/site-packages/bicm/graph_classes.py:1113: RuntimeWarning: invalid value encountered in divide\n",
      "  probs = node_xy * neighbor_xy / ((1 + node_xy) * (1 + neighbor_xy))\n"
     ]
    },
    {
     "name": "stdout",
     "output_type": "stream",
     "text": [
      "No V-motifs will be validated. Try increasing alpha\n",
      "\n",
      "                      WARNING: this system has at least a node that is disconnected or connected to all nodes\n",
      "                       of the opposite layer. This may cause some convergence issues.\n",
      "                      Please use the full mode providing a biadjacency matrix or an edgelist,\n",
      "                       or clean your data from these nodes. \n",
      "                      \n",
      "2016 Energy SDG 5: Gender Equality\r"
     ]
    },
    {
     "name": "stderr",
     "output_type": "stream",
     "text": [
      "\n",
      "\n",
      "  0%|                                                                                                                                 | 0/37 [00:00<?, ?it/s]\u001b[A\u001b[A/home/sarawalk/sdgs_py38/lib/python3.8/site-packages/bicm/graph_classes.py:1113: RuntimeWarning: invalid value encountered in divide\n",
      "  probs = node_xy * neighbor_xy / ((1 + node_xy) * (1 + neighbor_xy))\n",
      "/home/sarawalk/sdgs_py38/lib/python3.8/site-packages/bicm/graph_classes.py:1113: RuntimeWarning: invalid value encountered in divide\n",
      "  probs = node_xy * neighbor_xy / ((1 + node_xy) * (1 + neighbor_xy))\n",
      "/home/sarawalk/sdgs_py38/lib/python3.8/site-packages/bicm/graph_classes.py:1113: RuntimeWarning: invalid value encountered in divide\n",
      "  probs = node_xy * neighbor_xy / ((1 + node_xy) * (1 + neighbor_xy))\n",
      "100%|███████████████████████████████████████████████████████████████████████████████████████████████████████████████████████| 37/37 [00:00<00:00, 948.51it/s]/home/sarawalk/sdgs_py38/lib/python3.8/site-packages/bicm/graph_classes.py:1113: RuntimeWarning: invalid value encountered in divide\n",
      "  probs = node_xy * neighbor_xy / ((1 + node_xy) * (1 + neighbor_xy))\n"
     ]
    },
    {
     "name": "stdout",
     "output_type": "stream",
     "text": [
      "No V-motifs will be validated. Try increasing alpha\n"
     ]
    },
    {
     "name": "stderr",
     "output_type": "stream",
     "text": [
      "\n",
      "\n",
      "\n",
      "100%|█████████████████████████████████████████████████████████████████████████████████████████████████████████████████████████| 2/2 [00:00<00:00, 169.90it/s]\u001b[A\u001b[A/home/sarawalk/sdgs_py38/lib/python3.8/site-packages/bicm/graph_classes.py:1113: RuntimeWarning: invalid value encountered in divide\n",
      "  probs = node_xy * neighbor_xy / ((1 + node_xy) * (1 + neighbor_xy))\n",
      "\n"
     ]
    },
    {
     "name": "stdout",
     "output_type": "stream",
     "text": [
      "No V-motifs will be validated. Try increasing alpha\n",
      "\n",
      "                      WARNING: this system has at least a node that is disconnected or connected to all nodes\n",
      "                       of the opposite layer. This may cause some convergence issues.\n",
      "                      Please use the full mode providing a biadjacency matrix or an edgelist,\n",
      "                       or clean your data from these nodes. \n",
      "                      \n",
      "2016 Energy SDG 6: Clean Water and Sanitation\r"
     ]
    },
    {
     "name": "stderr",
     "output_type": "stream",
     "text": [
      "\n",
      "\n",
      "  0%|                                                                                                                                 | 0/37 [00:00<?, ?it/s]\u001b[A\u001b[A/home/sarawalk/sdgs_py38/lib/python3.8/site-packages/bicm/graph_classes.py:1113: RuntimeWarning: invalid value encountered in divide\n",
      "  probs = node_xy * neighbor_xy / ((1 + node_xy) * (1 + neighbor_xy))\n",
      "/home/sarawalk/sdgs_py38/lib/python3.8/site-packages/bicm/graph_classes.py:1113: RuntimeWarning: invalid value encountered in divide\n",
      "  probs = node_xy * neighbor_xy / ((1 + node_xy) * (1 + neighbor_xy))\n",
      "/home/sarawalk/sdgs_py38/lib/python3.8/site-packages/bicm/graph_classes.py:1113: RuntimeWarning: invalid value encountered in divide\n",
      "  probs = node_xy * neighbor_xy / ((1 + node_xy) * (1 + neighbor_xy))\n",
      "/home/sarawalk/sdgs_py38/lib/python3.8/site-packages/bicm/graph_classes.py:1113: RuntimeWarning: invalid value encountered in divide\n",
      "  probs = node_xy * neighbor_xy / ((1 + node_xy) * (1 + neighbor_xy))\n",
      "100%|███████████████████████████████████████████████████████████████████████████████████████████████████████████████████████| 37/37 [00:00<00:00, 908.95it/s]\n"
     ]
    },
    {
     "name": "stdout",
     "output_type": "stream",
     "text": [
      "No V-motifs will be validated. Try increasing alpha\n"
     ]
    },
    {
     "name": "stderr",
     "output_type": "stream",
     "text": [
      "\n",
      "\n",
      "100%|█████████████████████████████████████████████████████████████████████████████████████████████████████████████████████████| 2/2 [00:00<00:00, 178.69it/s]\u001b[A\u001b[A/home/sarawalk/sdgs_py38/lib/python3.8/site-packages/bicm/graph_classes.py:1113: RuntimeWarning: invalid value encountered in divide\n",
      "  probs = node_xy * neighbor_xy / ((1 + node_xy) * (1 + neighbor_xy))\n",
      "\n"
     ]
    },
    {
     "name": "stdout",
     "output_type": "stream",
     "text": [
      "No V-motifs will be validated. Try increasing alpha\n",
      "\n",
      "                      WARNING: this system has at least a node that is disconnected or connected to all nodes\n",
      "                       of the opposite layer. This may cause some convergence issues.\n",
      "                      Please use the full mode providing a biadjacency matrix or an edgelist,\n",
      "                       or clean your data from these nodes. \n",
      "                      \n",
      "2016 Energy SDG 7: Affordable and Clean Energy\r"
     ]
    },
    {
     "name": "stderr",
     "output_type": "stream",
     "text": [
      "\n",
      "\n",
      "  0%|                                                                                                                                 | 0/37 [00:00<?, ?it/s]\u001b[A\u001b[A/home/sarawalk/sdgs_py38/lib/python3.8/site-packages/bicm/graph_classes.py:1113: RuntimeWarning: invalid value encountered in divide\n",
      "  probs = node_xy * neighbor_xy / ((1 + node_xy) * (1 + neighbor_xy))\n",
      "/home/sarawalk/sdgs_py38/lib/python3.8/site-packages/bicm/graph_classes.py:1113: RuntimeWarning: invalid value encountered in divide\n",
      "  probs = node_xy * neighbor_xy / ((1 + node_xy) * (1 + neighbor_xy))\n",
      "/home/sarawalk/sdgs_py38/lib/python3.8/site-packages/bicm/graph_classes.py:1113: RuntimeWarning: invalid value encountered in divide\n",
      "  probs = node_xy * neighbor_xy / ((1 + node_xy) * (1 + neighbor_xy))\n",
      "/home/sarawalk/sdgs_py38/lib/python3.8/site-packages/bicm/graph_classes.py:1113: RuntimeWarning: invalid value encountered in divide\n",
      "  probs = node_xy * neighbor_xy / ((1 + node_xy) * (1 + neighbor_xy))\n",
      "100%|██████████████████████████████████████████████████████████████████████████████████████████████████████████████████████| 37/37 [00:00<00:00, 1118.41it/s]\n"
     ]
    },
    {
     "name": "stdout",
     "output_type": "stream",
     "text": [
      "No V-motifs will be validated. Try increasing alpha\n"
     ]
    },
    {
     "name": "stderr",
     "output_type": "stream",
     "text": [
      "\n",
      "\n",
      "  0%|                                                                                                                                  | 0/2 [00:00<?, ?it/s]\u001b[A\u001b[A/home/sarawalk/sdgs_py38/lib/python3.8/site-packages/bicm/graph_classes.py:1113: RuntimeWarning: invalid value encountered in divide\n",
      "  probs = node_xy * neighbor_xy / ((1 + node_xy) * (1 + neighbor_xy))\n",
      "100%|█████████████████████████████████████████████████████████████████████████████████████████████████████████████████████████| 2/2 [00:00<00:00, 113.37it/s]\n"
     ]
    },
    {
     "name": "stdout",
     "output_type": "stream",
     "text": [
      "No V-motifs will be validated. Try increasing alpha\n",
      "\n",
      "                      WARNING: this system has at least a node that is disconnected or connected to all nodes\n",
      "                       of the opposite layer. This may cause some convergence issues.\n",
      "                      Please use the full mode providing a biadjacency matrix or an edgelist,\n",
      "                       or clean your data from these nodes. \n",
      "                      \n",
      "2016 Energy SDG 8: Decent Work and Economic Growth\r"
     ]
    },
    {
     "name": "stderr",
     "output_type": "stream",
     "text": [
      "\n",
      "\n",
      "  0%|                                                                                                                                 | 0/37 [00:00<?, ?it/s]\u001b[A\u001b[A/home/sarawalk/sdgs_py38/lib/python3.8/site-packages/bicm/graph_classes.py:1113: RuntimeWarning: invalid value encountered in divide\n",
      "  probs = node_xy * neighbor_xy / ((1 + node_xy) * (1 + neighbor_xy))\n",
      "/home/sarawalk/sdgs_py38/lib/python3.8/site-packages/bicm/graph_classes.py:1113: RuntimeWarning: invalid value encountered in divide\n",
      "  probs = node_xy * neighbor_xy / ((1 + node_xy) * (1 + neighbor_xy))\n",
      "/home/sarawalk/sdgs_py38/lib/python3.8/site-packages/bicm/graph_classes.py:1113: RuntimeWarning: invalid value encountered in divide\n",
      "  probs = node_xy * neighbor_xy / ((1 + node_xy) * (1 + neighbor_xy))\n",
      "/home/sarawalk/sdgs_py38/lib/python3.8/site-packages/bicm/graph_classes.py:1113: RuntimeWarning: invalid value encountered in divide\n",
      "  probs = node_xy * neighbor_xy / ((1 + node_xy) * (1 + neighbor_xy))\n",
      "100%|██████████████████████████████████████████████████████████████████████████████████████████████████████████████████████| 37/37 [00:00<00:00, 1165.04it/s]\n"
     ]
    },
    {
     "name": "stdout",
     "output_type": "stream",
     "text": [
      "No V-motifs will be validated. Try increasing alpha\n"
     ]
    },
    {
     "name": "stderr",
     "output_type": "stream",
     "text": [
      "\n",
      "\n",
      "100%|█████████████████████████████████████████████████████████████████████████████████████████████████████████████████████████| 2/2 [00:00<00:00, 181.39it/s]\u001b[A\u001b[A/home/sarawalk/sdgs_py38/lib/python3.8/site-packages/bicm/graph_classes.py:1113: RuntimeWarning: invalid value encountered in divide\n",
      "  probs = node_xy * neighbor_xy / ((1 + node_xy) * (1 + neighbor_xy))\n"
     ]
    },
    {
     "name": "stdout",
     "output_type": "stream",
     "text": [
      "No V-motifs will be validated. Try increasing alpha\n",
      "\n",
      "                      WARNING: this system has at least a node that is disconnected or connected to all nodes\n",
      "                       of the opposite layer. This may cause some convergence issues.\n",
      "                      Please use the full mode providing a biadjacency matrix or an edgelist,\n",
      "                       or clean your data from these nodes. \n",
      "                      \n",
      "2016 Energy SDG 9: Industry, Innovation, and Infrastructure\r"
     ]
    },
    {
     "name": "stderr",
     "output_type": "stream",
     "text": [
      "\n",
      "\n",
      "\n",
      "  0%|                                                                                                                                 | 0/37 [00:00<?, ?it/s]\u001b[A\u001b[A/home/sarawalk/sdgs_py38/lib/python3.8/site-packages/bicm/graph_classes.py:1113: RuntimeWarning: invalid value encountered in divide\n",
      "  probs = node_xy * neighbor_xy / ((1 + node_xy) * (1 + neighbor_xy))\n",
      "/home/sarawalk/sdgs_py38/lib/python3.8/site-packages/bicm/graph_classes.py:1113: RuntimeWarning: invalid value encountered in divide\n",
      "  probs = node_xy * neighbor_xy / ((1 + node_xy) * (1 + neighbor_xy))\n",
      "/home/sarawalk/sdgs_py38/lib/python3.8/site-packages/bicm/graph_classes.py:1113: RuntimeWarning: invalid value encountered in divide\n",
      "  probs = node_xy * neighbor_xy / ((1 + node_xy) * (1 + neighbor_xy))\n",
      "/home/sarawalk/sdgs_py38/lib/python3.8/site-packages/bicm/graph_classes.py:1113: RuntimeWarning: invalid value encountered in divide\n",
      "  probs = node_xy * neighbor_xy / ((1 + node_xy) * (1 + neighbor_xy))\n",
      "100%|███████████████████████████████████████████████████████████████████████████████████████████████████████████████████████| 37/37 [00:00<00:00, 983.35it/s]\n"
     ]
    },
    {
     "name": "stdout",
     "output_type": "stream",
     "text": [
      "No V-motifs will be validated. Try increasing alpha\n"
     ]
    },
    {
     "name": "stderr",
     "output_type": "stream",
     "text": [
      "\n",
      "\n",
      "100%|█████████████████████████████████████████████████████████████████████████████████████████████████████████████████████████| 2/2 [00:00<00:00, 201.36it/s]\u001b[A\u001b[A/home/sarawalk/sdgs_py38/lib/python3.8/site-packages/bicm/graph_classes.py:1113: RuntimeWarning: invalid value encountered in divide\n",
      "  probs = node_xy * neighbor_xy / ((1 + node_xy) * (1 + neighbor_xy))\n",
      "\n"
     ]
    },
    {
     "name": "stdout",
     "output_type": "stream",
     "text": [
      "No V-motifs will be validated. Try increasing alpha\n",
      "\n",
      "                      WARNING: this system has at least a node that is disconnected or connected to all nodes\n",
      "                       of the opposite layer. This may cause some convergence issues.\n",
      "                      Please use the full mode providing a biadjacency matrix or an edgelist,\n",
      "                       or clean your data from these nodes. \n",
      "                      \n",
      "2016 Energy SDG 10: Reduced Inequality\r"
     ]
    },
    {
     "name": "stderr",
     "output_type": "stream",
     "text": [
      "\n",
      "\n",
      "  0%|                                                                                                                                 | 0/37 [00:00<?, ?it/s]\u001b[A\u001b[A/home/sarawalk/sdgs_py38/lib/python3.8/site-packages/bicm/graph_classes.py:1113: RuntimeWarning: invalid value encountered in divide\n",
      "  probs = node_xy * neighbor_xy / ((1 + node_xy) * (1 + neighbor_xy))\n",
      "/home/sarawalk/sdgs_py38/lib/python3.8/site-packages/bicm/graph_classes.py:1113: RuntimeWarning: invalid value encountered in divide\n",
      "  probs = node_xy * neighbor_xy / ((1 + node_xy) * (1 + neighbor_xy))\n",
      "/home/sarawalk/sdgs_py38/lib/python3.8/site-packages/bicm/graph_classes.py:1113: RuntimeWarning: invalid value encountered in divide\n",
      "  probs = node_xy * neighbor_xy / ((1 + node_xy) * (1 + neighbor_xy))\n",
      "/home/sarawalk/sdgs_py38/lib/python3.8/site-packages/bicm/graph_classes.py:1113: RuntimeWarning: invalid value encountered in divide\n",
      "  probs = node_xy * neighbor_xy / ((1 + node_xy) * (1 + neighbor_xy))\n",
      "100%|██████████████████████████████████████████████████████████████████████████████████████████████████████████████████████| 37/37 [00:00<00:00, 1067.71it/s]"
     ]
    },
    {
     "name": "stdout",
     "output_type": "stream",
     "text": [
      "No V-motifs will be validated. Try increasing alpha\n"
     ]
    },
    {
     "name": "stderr",
     "output_type": "stream",
     "text": [
      "\n",
      "\n",
      "\n",
      "  0%|                                                                                                                                  | 0/2 [00:00<?, ?it/s]\u001b[A\u001b[A/home/sarawalk/sdgs_py38/lib/python3.8/site-packages/bicm/graph_classes.py:1113: RuntimeWarning: invalid value encountered in divide\n",
      "  probs = node_xy * neighbor_xy / ((1 + node_xy) * (1 + neighbor_xy))\n",
      "100%|█████████████████████████████████████████████████████████████████████████████████████████████████████████████████████████| 2/2 [00:00<00:00, 121.86it/s]\n"
     ]
    },
    {
     "name": "stdout",
     "output_type": "stream",
     "text": [
      "No V-motifs will be validated. Try increasing alpha\n",
      "\n",
      "                      WARNING: this system has at least a node that is disconnected or connected to all nodes\n",
      "                       of the opposite layer. This may cause some convergence issues.\n",
      "                      Please use the full mode providing a biadjacency matrix or an edgelist,\n",
      "                       or clean your data from these nodes. \n",
      "                      \n",
      "2016 Energy SDG 11: Sustainable Cities and Communities\r"
     ]
    },
    {
     "name": "stderr",
     "output_type": "stream",
     "text": [
      "\n",
      "\n",
      "  0%|                                                                                                                                 | 0/37 [00:00<?, ?it/s]\u001b[A\u001b[A/home/sarawalk/sdgs_py38/lib/python3.8/site-packages/bicm/graph_classes.py:1113: RuntimeWarning: invalid value encountered in divide\n",
      "  probs = node_xy * neighbor_xy / ((1 + node_xy) * (1 + neighbor_xy))\n",
      "/home/sarawalk/sdgs_py38/lib/python3.8/site-packages/bicm/graph_classes.py:1113: RuntimeWarning: invalid value encountered in divide\n",
      "  probs = node_xy * neighbor_xy / ((1 + node_xy) * (1 + neighbor_xy))\n",
      "/home/sarawalk/sdgs_py38/lib/python3.8/site-packages/bicm/graph_classes.py:1113: RuntimeWarning: invalid value encountered in divide\n",
      "  probs = node_xy * neighbor_xy / ((1 + node_xy) * (1 + neighbor_xy))\n",
      "/home/sarawalk/sdgs_py38/lib/python3.8/site-packages/bicm/graph_classes.py:1113: RuntimeWarning: invalid value encountered in divide\n",
      "  probs = node_xy * neighbor_xy / ((1 + node_xy) * (1 + neighbor_xy))\n",
      "100%|███████████████████████████████████████████████████████████████████████████████████████████████████████████████████████| 37/37 [00:00<00:00, 943.70it/s]\n"
     ]
    },
    {
     "name": "stdout",
     "output_type": "stream",
     "text": [
      "No V-motifs will be validated. Try increasing alpha\n"
     ]
    },
    {
     "name": "stderr",
     "output_type": "stream",
     "text": [
      "\n",
      "\n",
      "100%|█████████████████████████████████████████████████████████████████████████████████████████████████████████████████████████| 2/2 [00:00<00:00, 161.61it/s]\u001b[A\u001b[A/home/sarawalk/sdgs_py38/lib/python3.8/site-packages/bicm/graph_classes.py:1113: RuntimeWarning: invalid value encountered in divide\n",
      "  probs = node_xy * neighbor_xy / ((1 + node_xy) * (1 + neighbor_xy))\n",
      "\n"
     ]
    },
    {
     "name": "stdout",
     "output_type": "stream",
     "text": [
      "No V-motifs will be validated. Try increasing alpha\n",
      "\n",
      "                      WARNING: this system has at least a node that is disconnected or connected to all nodes\n",
      "                       of the opposite layer. This may cause some convergence issues.\n",
      "                      Please use the full mode providing a biadjacency matrix or an edgelist,\n",
      "                       or clean your data from these nodes. \n",
      "                      \n",
      "2016 Energy SDG 12: Responsible Consumption and Production\r"
     ]
    },
    {
     "name": "stderr",
     "output_type": "stream",
     "text": [
      "\n",
      "\n",
      "  0%|                                                                                                                                 | 0/37 [00:00<?, ?it/s]\u001b[A\u001b[A/home/sarawalk/sdgs_py38/lib/python3.8/site-packages/bicm/graph_classes.py:1113: RuntimeWarning: invalid value encountered in divide\n",
      "  probs = node_xy * neighbor_xy / ((1 + node_xy) * (1 + neighbor_xy))\n",
      "/home/sarawalk/sdgs_py38/lib/python3.8/site-packages/bicm/graph_classes.py:1113: RuntimeWarning: invalid value encountered in divide\n",
      "  probs = node_xy * neighbor_xy / ((1 + node_xy) * (1 + neighbor_xy))\n",
      "/home/sarawalk/sdgs_py38/lib/python3.8/site-packages/bicm/graph_classes.py:1113: RuntimeWarning: invalid value encountered in divide\n",
      "  probs = node_xy * neighbor_xy / ((1 + node_xy) * (1 + neighbor_xy))\n",
      "/home/sarawalk/sdgs_py38/lib/python3.8/site-packages/bicm/graph_classes.py:1113: RuntimeWarning: invalid value encountered in divide\n",
      "  probs = node_xy * neighbor_xy / ((1 + node_xy) * (1 + neighbor_xy))\n",
      "100%|██████████████████████████████████████████████████████████████████████████████████████████████████████████████████████| 37/37 [00:00<00:00, 1152.44it/s]\n"
     ]
    },
    {
     "name": "stdout",
     "output_type": "stream",
     "text": [
      "No V-motifs will be validated. Try increasing alpha\n"
     ]
    },
    {
     "name": "stderr",
     "output_type": "stream",
     "text": [
      "\n",
      "\n",
      "100%|█████████████████████████████████████████████████████████████████████████████████████████████████████████████████████████| 2/2 [00:00<00:00, 104.93it/s]\u001b[A\u001b[A/home/sarawalk/sdgs_py38/lib/python3.8/site-packages/bicm/graph_classes.py:1113: RuntimeWarning: invalid value encountered in divide\n",
      "  probs = node_xy * neighbor_xy / ((1 + node_xy) * (1 + neighbor_xy))\n",
      "\n"
     ]
    },
    {
     "name": "stdout",
     "output_type": "stream",
     "text": [
      "No V-motifs will be validated. Try increasing alpha\n",
      "\n",
      "                      WARNING: this system has at least a node that is disconnected or connected to all nodes\n",
      "                       of the opposite layer. This may cause some convergence issues.\n",
      "                      Please use the full mode providing a biadjacency matrix or an edgelist,\n",
      "                       or clean your data from these nodes. \n",
      "                      \n",
      "2016 Energy SDG 13: Climate Action\r"
     ]
    },
    {
     "name": "stderr",
     "output_type": "stream",
     "text": [
      "\n",
      "\n",
      "  0%|                                                                                                                                 | 0/37 [00:00<?, ?it/s]\u001b[A\u001b[A/home/sarawalk/sdgs_py38/lib/python3.8/site-packages/bicm/graph_classes.py:1113: RuntimeWarning: invalid value encountered in divide\n",
      "  probs = node_xy * neighbor_xy / ((1 + node_xy) * (1 + neighbor_xy))\n",
      "/home/sarawalk/sdgs_py38/lib/python3.8/site-packages/bicm/graph_classes.py:1113: RuntimeWarning: invalid value encountered in divide\n",
      "  probs = node_xy * neighbor_xy / ((1 + node_xy) * (1 + neighbor_xy))\n",
      "/home/sarawalk/sdgs_py38/lib/python3.8/site-packages/bicm/graph_classes.py:1113: RuntimeWarning: invalid value encountered in divide\n",
      "  probs = node_xy * neighbor_xy / ((1 + node_xy) * (1 + neighbor_xy))\n",
      "/home/sarawalk/sdgs_py38/lib/python3.8/site-packages/bicm/graph_classes.py:1113: RuntimeWarning: invalid value encountered in divide\n",
      "  probs = node_xy * neighbor_xy / ((1 + node_xy) * (1 + neighbor_xy))\n",
      "100%|██████████████████████████████████████████████████████████████████████████████████████████████████████████████████████| 37/37 [00:00<00:00, 1033.34it/s]\n"
     ]
    },
    {
     "name": "stdout",
     "output_type": "stream",
     "text": [
      "No V-motifs will be validated. Try increasing alpha\n"
     ]
    },
    {
     "name": "stderr",
     "output_type": "stream",
     "text": [
      "\n",
      "\n",
      "100%|█████████████████████████████████████████████████████████████████████████████████████████████████████████████████████████| 2/2 [00:00<00:00, 163.25it/s]\u001b[A\u001b[A/home/sarawalk/sdgs_py38/lib/python3.8/site-packages/bicm/graph_classes.py:1113: RuntimeWarning: invalid value encountered in divide\n",
      "  probs = node_xy * neighbor_xy / ((1 + node_xy) * (1 + neighbor_xy))\n",
      "\n"
     ]
    },
    {
     "name": "stdout",
     "output_type": "stream",
     "text": [
      "No V-motifs will be validated. Try increasing alpha\n",
      "\n",
      "                      WARNING: this system has at least a node that is disconnected or connected to all nodes\n",
      "                       of the opposite layer. This may cause some convergence issues.\n",
      "                      Please use the full mode providing a biadjacency matrix or an edgelist,\n",
      "                       or clean your data from these nodes. \n",
      "                      \n",
      "2016 Energy SDG 14: Life Below Water\r"
     ]
    },
    {
     "name": "stderr",
     "output_type": "stream",
     "text": [
      "\n",
      "\n",
      "  0%|                                                                                                                                 | 0/37 [00:00<?, ?it/s]\u001b[A\u001b[A/home/sarawalk/sdgs_py38/lib/python3.8/site-packages/bicm/graph_classes.py:1113: RuntimeWarning: invalid value encountered in divide\n",
      "  probs = node_xy * neighbor_xy / ((1 + node_xy) * (1 + neighbor_xy))\n",
      "/home/sarawalk/sdgs_py38/lib/python3.8/site-packages/bicm/graph_classes.py:1113: RuntimeWarning: invalid value encountered in divide\n",
      "  probs = node_xy * neighbor_xy / ((1 + node_xy) * (1 + neighbor_xy))\n",
      "/home/sarawalk/sdgs_py38/lib/python3.8/site-packages/bicm/graph_classes.py:1113: RuntimeWarning: invalid value encountered in divide\n",
      "  probs = node_xy * neighbor_xy / ((1 + node_xy) * (1 + neighbor_xy))\n",
      "/home/sarawalk/sdgs_py38/lib/python3.8/site-packages/bicm/graph_classes.py:1113: RuntimeWarning: invalid value encountered in divide\n",
      "  probs = node_xy * neighbor_xy / ((1 + node_xy) * (1 + neighbor_xy))\n",
      "100%|██████████████████████████████████████████████████████████████████████████████████████████████████████████████████████| 37/37 [00:00<00:00, 1167.06it/s]"
     ]
    },
    {
     "name": "stdout",
     "output_type": "stream",
     "text": [
      "No V-motifs will be validated. Try increasing alpha\n"
     ]
    },
    {
     "name": "stderr",
     "output_type": "stream",
     "text": [
      "\n",
      "\n",
      "\n",
      "  0%|                                                                                                                                  | 0/2 [00:00<?, ?it/s]\u001b[A\u001b[A/home/sarawalk/sdgs_py38/lib/python3.8/site-packages/bicm/graph_classes.py:1113: RuntimeWarning: invalid value encountered in divide\n",
      "  probs = node_xy * neighbor_xy / ((1 + node_xy) * (1 + neighbor_xy))\n",
      "100%|█████████████████████████████████████████████████████████████████████████████████████████████████████████████████████████| 2/2 [00:00<00:00, 115.71it/s]\n"
     ]
    },
    {
     "name": "stdout",
     "output_type": "stream",
     "text": [
      "No V-motifs will be validated. Try increasing alpha\n",
      "\n",
      "                      WARNING: this system has at least a node that is disconnected or connected to all nodes\n",
      "                       of the opposite layer. This may cause some convergence issues.\n",
      "                      Please use the full mode providing a biadjacency matrix or an edgelist,\n",
      "                       or clean your data from these nodes. \n",
      "                      \n",
      "2016 Energy SDG 15: Life on Land\r"
     ]
    },
    {
     "name": "stderr",
     "output_type": "stream",
     "text": [
      "\n",
      "\n",
      "  0%|                                                                                                                                 | 0/37 [00:00<?, ?it/s]\u001b[A\u001b[A/home/sarawalk/sdgs_py38/lib/python3.8/site-packages/bicm/graph_classes.py:1113: RuntimeWarning: invalid value encountered in divide\n",
      "  probs = node_xy * neighbor_xy / ((1 + node_xy) * (1 + neighbor_xy))\n",
      "/home/sarawalk/sdgs_py38/lib/python3.8/site-packages/bicm/graph_classes.py:1113: RuntimeWarning: invalid value encountered in divide\n",
      "  probs = node_xy * neighbor_xy / ((1 + node_xy) * (1 + neighbor_xy))\n",
      "/home/sarawalk/sdgs_py38/lib/python3.8/site-packages/bicm/graph_classes.py:1113: RuntimeWarning: invalid value encountered in divide\n",
      "  probs = node_xy * neighbor_xy / ((1 + node_xy) * (1 + neighbor_xy))\n",
      "/home/sarawalk/sdgs_py38/lib/python3.8/site-packages/bicm/graph_classes.py:1113: RuntimeWarning: invalid value encountered in divide\n",
      "  probs = node_xy * neighbor_xy / ((1 + node_xy) * (1 + neighbor_xy))\n",
      "100%|██████████████████████████████████████████████████████████████████████████████████████████████████████████████████████| 37/37 [00:00<00:00, 1187.82it/s]"
     ]
    },
    {
     "name": "stdout",
     "output_type": "stream",
     "text": [
      "No V-motifs will be validated. Try increasing alpha\n"
     ]
    },
    {
     "name": "stderr",
     "output_type": "stream",
     "text": [
      "\n",
      "\n",
      "\n",
      "  0%|                                                                                                                                  | 0/2 [00:00<?, ?it/s]\u001b[A\u001b[A/home/sarawalk/sdgs_py38/lib/python3.8/site-packages/bicm/graph_classes.py:1113: RuntimeWarning: invalid value encountered in divide\n",
      "  probs = node_xy * neighbor_xy / ((1 + node_xy) * (1 + neighbor_xy))\n",
      "100%|█████████████████████████████████████████████████████████████████████████████████████████████████████████████████████████| 2/2 [00:00<00:00, 121.88it/s]\n"
     ]
    },
    {
     "name": "stdout",
     "output_type": "stream",
     "text": [
      "No V-motifs will be validated. Try increasing alpha\n",
      "\n",
      "                      WARNING: this system has at least a node that is disconnected or connected to all nodes\n",
      "                       of the opposite layer. This may cause some convergence issues.\n",
      "                      Please use the full mode providing a biadjacency matrix or an edgelist,\n",
      "                       or clean your data from these nodes. \n",
      "                      \n",
      "2016 Energy SDG 16: Peace, Justice, and Strong Institutions\r"
     ]
    },
    {
     "name": "stderr",
     "output_type": "stream",
     "text": [
      "\n",
      "\n",
      "  0%|                                                                                                                                 | 0/37 [00:00<?, ?it/s]\u001b[A\u001b[A/home/sarawalk/sdgs_py38/lib/python3.8/site-packages/bicm/graph_classes.py:1113: RuntimeWarning: invalid value encountered in divide\n",
      "  probs = node_xy * neighbor_xy / ((1 + node_xy) * (1 + neighbor_xy))\n",
      "/home/sarawalk/sdgs_py38/lib/python3.8/site-packages/bicm/graph_classes.py:1113: RuntimeWarning: invalid value encountered in divide\n",
      "  probs = node_xy * neighbor_xy / ((1 + node_xy) * (1 + neighbor_xy))\n",
      "/home/sarawalk/sdgs_py38/lib/python3.8/site-packages/bicm/graph_classes.py:1113: RuntimeWarning: invalid value encountered in divide\n",
      "  probs = node_xy * neighbor_xy / ((1 + node_xy) * (1 + neighbor_xy))\n",
      "/home/sarawalk/sdgs_py38/lib/python3.8/site-packages/bicm/graph_classes.py:1113: RuntimeWarning: invalid value encountered in divide\n",
      "  probs = node_xy * neighbor_xy / ((1 + node_xy) * (1 + neighbor_xy))\n",
      "100%|██████████████████████████████████████████████████████████████████████████████████████████████████████████████████████| 37/37 [00:00<00:00, 1075.60it/s]\n"
     ]
    },
    {
     "name": "stdout",
     "output_type": "stream",
     "text": [
      "No V-motifs will be validated. Try increasing alpha\n"
     ]
    },
    {
     "name": "stderr",
     "output_type": "stream",
     "text": [
      "\n",
      "\n",
      "  0%|                                                                                                                                  | 0/2 [00:00<?, ?it/s]\u001b[A\u001b[A/home/sarawalk/sdgs_py38/lib/python3.8/site-packages/bicm/graph_classes.py:1113: RuntimeWarning: invalid value encountered in divide\n",
      "  probs = node_xy * neighbor_xy / ((1 + node_xy) * (1 + neighbor_xy))\n",
      "100%|█████████████████████████████████████████████████████████████████████████████████████████████████████████████████████████| 2/2 [00:00<00:00, 124.71it/s]\n"
     ]
    },
    {
     "name": "stdout",
     "output_type": "stream",
     "text": [
      "No V-motifs will be validated. Try increasing alpha\n",
      "\n",
      "                      WARNING: this system has at least a node that is disconnected or connected to all nodes\n",
      "                       of the opposite layer. This may cause some convergence issues.\n",
      "                      Please use the full mode providing a biadjacency matrix or an edgelist,\n",
      "                       or clean your data from these nodes. \n",
      "                      \n",
      "2016 Energy SDG 17: Partnerships for the Goals\r"
     ]
    },
    {
     "name": "stderr",
     "output_type": "stream",
     "text": [
      "\n",
      "\n",
      "  0%|                                                                                                                                 | 0/37 [00:00<?, ?it/s]\u001b[A\u001b[A/home/sarawalk/sdgs_py38/lib/python3.8/site-packages/bicm/graph_classes.py:1113: RuntimeWarning: invalid value encountered in divide\n",
      "  probs = node_xy * neighbor_xy / ((1 + node_xy) * (1 + neighbor_xy))\n",
      "/home/sarawalk/sdgs_py38/lib/python3.8/site-packages/bicm/graph_classes.py:1113: RuntimeWarning: invalid value encountered in divide\n",
      "  probs = node_xy * neighbor_xy / ((1 + node_xy) * (1 + neighbor_xy))\n",
      "/home/sarawalk/sdgs_py38/lib/python3.8/site-packages/bicm/graph_classes.py:1113: RuntimeWarning: invalid value encountered in divide\n",
      "  probs = node_xy * neighbor_xy / ((1 + node_xy) * (1 + neighbor_xy))\n",
      "/home/sarawalk/sdgs_py38/lib/python3.8/site-packages/bicm/graph_classes.py:1113: RuntimeWarning: invalid value encountered in divide\n",
      "  probs = node_xy * neighbor_xy / ((1 + node_xy) * (1 + neighbor_xy))\n",
      "100%|███████████████████████████████████████████████████████████████████████████████████████████████████████████████████████| 37/37 [00:00<00:00, 945.37it/s]\n"
     ]
    },
    {
     "name": "stdout",
     "output_type": "stream",
     "text": [
      "No V-motifs will be validated. Try increasing alpha\n"
     ]
    },
    {
     "name": "stderr",
     "output_type": "stream",
     "text": [
      "\n",
      "\n",
      "100%|█████████████████████████████████████████████████████████████████████████████████████████████████████████████████████████| 2/2 [00:00<00:00, 184.24it/s]\u001b[A\u001b[A/home/sarawalk/sdgs_py38/lib/python3.8/site-packages/bicm/graph_classes.py:1113: RuntimeWarning: invalid value encountered in divide\n",
      "  probs = node_xy * neighbor_xy / ((1 + node_xy) * (1 + neighbor_xy))\n",
      "\n"
     ]
    },
    {
     "name": "stdout",
     "output_type": "stream",
     "text": [
      "No V-motifs will be validated. Try increasing alpha\n",
      "\n",
      "                      WARNING: this system has at least a node that is disconnected or connected to all nodes\n",
      "                       of the opposite layer. This may cause some convergence issues.\n",
      "                      Please use the full mode providing a biadjacency matrix or an edgelist,\n",
      "                       or clean your data from these nodes. \n",
      "                      \n",
      "2016 Utilities SDG 1: No Poverty\r"
     ]
    },
    {
     "name": "stderr",
     "output_type": "stream",
     "text": [
      "\n",
      "\n",
      "  0%|                                                                                                                                 | 0/30 [00:00<?, ?it/s]\u001b[A\u001b[A/home/sarawalk/sdgs_py38/lib/python3.8/site-packages/bicm/graph_classes.py:1113: RuntimeWarning: invalid value encountered in divide\n",
      "  probs = node_xy * neighbor_xy / ((1 + node_xy) * (1 + neighbor_xy))\n",
      "/home/sarawalk/sdgs_py38/lib/python3.8/site-packages/bicm/graph_classes.py:1113: RuntimeWarning: invalid value encountered in divide\n",
      "  probs = node_xy * neighbor_xy / ((1 + node_xy) * (1 + neighbor_xy))\n",
      "/home/sarawalk/sdgs_py38/lib/python3.8/site-packages/bicm/graph_classes.py:1113: RuntimeWarning: invalid value encountered in divide\n",
      "  probs = node_xy * neighbor_xy / ((1 + node_xy) * (1 + neighbor_xy))\n",
      "100%|███████████████████████████████████████████████████████████████████████████████████████████████████████████████████████| 30/30 [00:00<00:00, 927.94it/s]/home/sarawalk/sdgs_py38/lib/python3.8/site-packages/bicm/graph_classes.py:1113: RuntimeWarning: invalid value encountered in divide\n",
      "  probs = node_xy * neighbor_xy / ((1 + node_xy) * (1 + neighbor_xy))\n"
     ]
    },
    {
     "name": "stdout",
     "output_type": "stream",
     "text": [
      "No V-motifs will be validated. Try increasing alpha\n"
     ]
    },
    {
     "name": "stderr",
     "output_type": "stream",
     "text": [
      "\n",
      "\n",
      "\n",
      "100%|█████████████████████████████████████████████████████████████████████████████████████████████████████████████████████████| 2/2 [00:00<00:00, 201.37it/s]\u001b[A\u001b[A/home/sarawalk/sdgs_py38/lib/python3.8/site-packages/bicm/graph_classes.py:1113: RuntimeWarning: invalid value encountered in divide\n",
      "  probs = node_xy * neighbor_xy / ((1 + node_xy) * (1 + neighbor_xy))\n"
     ]
    },
    {
     "name": "stdout",
     "output_type": "stream",
     "text": [
      "No V-motifs will be validated. Try increasing alpha\n",
      "\n",
      "                      WARNING: this system has at least a node that is disconnected or connected to all nodes\n",
      "                       of the opposite layer. This may cause some convergence issues.\n",
      "                      Please use the full mode providing a biadjacency matrix or an edgelist,\n",
      "                       or clean your data from these nodes. \n",
      "                      \n",
      "2016 Utilities SDG 3: Good Health and Well-being\r"
     ]
    },
    {
     "name": "stderr",
     "output_type": "stream",
     "text": [
      "\n",
      "\n",
      "\n",
      "  0%|                                                                                                                                 | 0/30 [00:00<?, ?it/s]\u001b[A\u001b[A/home/sarawalk/sdgs_py38/lib/python3.8/site-packages/bicm/graph_classes.py:1113: RuntimeWarning: invalid value encountered in divide\n",
      "  probs = node_xy * neighbor_xy / ((1 + node_xy) * (1 + neighbor_xy))\n",
      "/home/sarawalk/sdgs_py38/lib/python3.8/site-packages/bicm/graph_classes.py:1113: RuntimeWarning: invalid value encountered in divide\n",
      "  probs = node_xy * neighbor_xy / ((1 + node_xy) * (1 + neighbor_xy))\n",
      "/home/sarawalk/sdgs_py38/lib/python3.8/site-packages/bicm/graph_classes.py:1113: RuntimeWarning: invalid value encountered in divide\n",
      "  probs = node_xy * neighbor_xy / ((1 + node_xy) * (1 + neighbor_xy))\n",
      "/home/sarawalk/sdgs_py38/lib/python3.8/site-packages/bicm/graph_classes.py:1113: RuntimeWarning: invalid value encountered in divide\n",
      "  probs = node_xy * neighbor_xy / ((1 + node_xy) * (1 + neighbor_xy))\n",
      "100%|██████████████████████████████████████████████████████████████████████████████████████████████████████████████████████| 30/30 [00:00<00:00, 1011.28it/s]"
     ]
    },
    {
     "name": "stdout",
     "output_type": "stream",
     "text": [
      "No V-motifs will be validated. Try increasing alpha\n"
     ]
    },
    {
     "name": "stderr",
     "output_type": "stream",
     "text": [
      "\n",
      "\n",
      "\n",
      "100%|█████████████████████████████████████████████████████████████████████████████████████████████████████████████████████████| 2/2 [00:00<00:00, 219.87it/s]\u001b[A\u001b[A/home/sarawalk/sdgs_py38/lib/python3.8/site-packages/bicm/graph_classes.py:1113: RuntimeWarning: invalid value encountered in divide\n",
      "  probs = node_xy * neighbor_xy / ((1 + node_xy) * (1 + neighbor_xy))\n"
     ]
    },
    {
     "name": "stdout",
     "output_type": "stream",
     "text": [
      "No V-motifs will be validated. Try increasing alpha\n",
      "\n",
      "                      WARNING: this system has at least a node that is disconnected or connected to all nodes\n",
      "                       of the opposite layer. This may cause some convergence issues.\n",
      "                      Please use the full mode providing a biadjacency matrix or an edgelist,\n",
      "                       or clean your data from these nodes. \n",
      "                      \n",
      "2016 Utilities SDG 4: Quality Education\r"
     ]
    },
    {
     "name": "stderr",
     "output_type": "stream",
     "text": [
      "\n",
      "\n",
      "\n",
      "  0%|                                                                                                                                 | 0/30 [00:00<?, ?it/s]\u001b[A\u001b[A/home/sarawalk/sdgs_py38/lib/python3.8/site-packages/bicm/graph_classes.py:1113: RuntimeWarning: invalid value encountered in divide\n",
      "  probs = node_xy * neighbor_xy / ((1 + node_xy) * (1 + neighbor_xy))\n",
      "/home/sarawalk/sdgs_py38/lib/python3.8/site-packages/bicm/graph_classes.py:1113: RuntimeWarning: invalid value encountered in divide\n",
      "  probs = node_xy * neighbor_xy / ((1 + node_xy) * (1 + neighbor_xy))\n",
      "/home/sarawalk/sdgs_py38/lib/python3.8/site-packages/bicm/graph_classes.py:1113: RuntimeWarning: invalid value encountered in divide\n",
      "  probs = node_xy * neighbor_xy / ((1 + node_xy) * (1 + neighbor_xy))\n",
      "/home/sarawalk/sdgs_py38/lib/python3.8/site-packages/bicm/graph_classes.py:1113: RuntimeWarning: invalid value encountered in divide\n",
      "  probs = node_xy * neighbor_xy / ((1 + node_xy) * (1 + neighbor_xy))\n",
      "100%|██████████████████████████████████████████████████████████████████████████████████████████████████████████████████████| 30/30 [00:00<00:00, 1073.45it/s]"
     ]
    },
    {
     "name": "stdout",
     "output_type": "stream",
     "text": [
      "No V-motifs will be validated. Try increasing alpha\n"
     ]
    },
    {
     "name": "stderr",
     "output_type": "stream",
     "text": [
      "\n",
      "\n",
      "\n",
      "100%|█████████████████████████████████████████████████████████████████████████████████████████████████████████████████████████| 2/2 [00:00<00:00, 163.28it/s]\u001b[A\u001b[A/home/sarawalk/sdgs_py38/lib/python3.8/site-packages/bicm/graph_classes.py:1113: RuntimeWarning: invalid value encountered in divide\n",
      "  probs = node_xy * neighbor_xy / ((1 + node_xy) * (1 + neighbor_xy))\n"
     ]
    },
    {
     "name": "stdout",
     "output_type": "stream",
     "text": [
      "No V-motifs will be validated. Try increasing alpha\n",
      "\n",
      "                      WARNING: this system has at least a node that is disconnected or connected to all nodes\n",
      "                       of the opposite layer. This may cause some convergence issues.\n",
      "                      Please use the full mode providing a biadjacency matrix or an edgelist,\n",
      "                       or clean your data from these nodes. \n",
      "                      \n",
      "2016 Utilities SDG 5: Gender Equality\r"
     ]
    },
    {
     "name": "stderr",
     "output_type": "stream",
     "text": [
      "\n",
      "\n",
      "\n",
      "  0%|                                                                                                                                 | 0/30 [00:00<?, ?it/s]\u001b[A\u001b[A/home/sarawalk/sdgs_py38/lib/python3.8/site-packages/bicm/graph_classes.py:1113: RuntimeWarning: invalid value encountered in divide\n",
      "  probs = node_xy * neighbor_xy / ((1 + node_xy) * (1 + neighbor_xy))\n",
      "/home/sarawalk/sdgs_py38/lib/python3.8/site-packages/bicm/graph_classes.py:1113: RuntimeWarning: invalid value encountered in divide\n",
      "  probs = node_xy * neighbor_xy / ((1 + node_xy) * (1 + neighbor_xy))\n",
      "/home/sarawalk/sdgs_py38/lib/python3.8/site-packages/bicm/graph_classes.py:1113: RuntimeWarning: invalid value encountered in divide\n",
      "  probs = node_xy * neighbor_xy / ((1 + node_xy) * (1 + neighbor_xy))\n",
      "/home/sarawalk/sdgs_py38/lib/python3.8/site-packages/bicm/graph_classes.py:1113: RuntimeWarning: invalid value encountered in divide\n",
      "  probs = node_xy * neighbor_xy / ((1 + node_xy) * (1 + neighbor_xy))\n",
      "100%|██████████████████████████████████████████████████████████████████████████████████████████████████████████████████████| 30/30 [00:00<00:00, 1116.52it/s]"
     ]
    },
    {
     "name": "stdout",
     "output_type": "stream",
     "text": [
      "No V-motifs will be validated. Try increasing alpha\n"
     ]
    },
    {
     "name": "stderr",
     "output_type": "stream",
     "text": [
      "\n",
      "\n",
      "\n",
      "100%|█████████████████████████████████████████████████████████████████████████████████████████████████████████████████████████| 2/2 [00:00<00:00, 185.65it/s]\u001b[A\u001b[A/home/sarawalk/sdgs_py38/lib/python3.8/site-packages/bicm/graph_classes.py:1113: RuntimeWarning: invalid value encountered in divide\n",
      "  probs = node_xy * neighbor_xy / ((1 + node_xy) * (1 + neighbor_xy))\n"
     ]
    },
    {
     "name": "stdout",
     "output_type": "stream",
     "text": [
      "No V-motifs will be validated. Try increasing alpha\n",
      "\n",
      "                      WARNING: this system has at least a node that is disconnected or connected to all nodes\n",
      "                       of the opposite layer. This may cause some convergence issues.\n",
      "                      Please use the full mode providing a biadjacency matrix or an edgelist,\n",
      "                       or clean your data from these nodes. \n",
      "                      \n",
      "2016 Utilities SDG 7: Affordable and Clean Energy\r"
     ]
    },
    {
     "name": "stderr",
     "output_type": "stream",
     "text": [
      "\n",
      "\n",
      "\n",
      "  0%|                                                                                                                                 | 0/30 [00:00<?, ?it/s]\u001b[A\u001b[A/home/sarawalk/sdgs_py38/lib/python3.8/site-packages/bicm/graph_classes.py:1113: RuntimeWarning: invalid value encountered in divide\n",
      "  probs = node_xy * neighbor_xy / ((1 + node_xy) * (1 + neighbor_xy))\n",
      "/home/sarawalk/sdgs_py38/lib/python3.8/site-packages/bicm/graph_classes.py:1113: RuntimeWarning: invalid value encountered in divide\n",
      "  probs = node_xy * neighbor_xy / ((1 + node_xy) * (1 + neighbor_xy))\n",
      "/home/sarawalk/sdgs_py38/lib/python3.8/site-packages/bicm/graph_classes.py:1113: RuntimeWarning: invalid value encountered in divide\n",
      "  probs = node_xy * neighbor_xy / ((1 + node_xy) * (1 + neighbor_xy))\n",
      "/home/sarawalk/sdgs_py38/lib/python3.8/site-packages/bicm/graph_classes.py:1113: RuntimeWarning: invalid value encountered in divide\n",
      "  probs = node_xy * neighbor_xy / ((1 + node_xy) * (1 + neighbor_xy))\n",
      "100%|██████████████████████████████████████████████████████████████████████████████████████████████████████████████████████| 30/30 [00:00<00:00, 1032.10it/s]"
     ]
    },
    {
     "name": "stdout",
     "output_type": "stream",
     "text": [
      "No V-motifs will be validated. Try increasing alpha\n"
     ]
    },
    {
     "name": "stderr",
     "output_type": "stream",
     "text": [
      "\n",
      "\n",
      "\n",
      "100%|█████████████████████████████████████████████████████████████████████████████████████████████████████████████████████████| 2/2 [00:00<00:00, 135.09it/s]\u001b[A\u001b[A/home/sarawalk/sdgs_py38/lib/python3.8/site-packages/bicm/graph_classes.py:1113: RuntimeWarning: invalid value encountered in divide\n",
      "  probs = node_xy * neighbor_xy / ((1 + node_xy) * (1 + neighbor_xy))\n"
     ]
    },
    {
     "name": "stdout",
     "output_type": "stream",
     "text": [
      "No V-motifs will be validated. Try increasing alpha\n",
      "\n",
      "                      WARNING: this system has at least a node that is disconnected or connected to all nodes\n",
      "                       of the opposite layer. This may cause some convergence issues.\n",
      "                      Please use the full mode providing a biadjacency matrix or an edgelist,\n",
      "                       or clean your data from these nodes. \n",
      "                      \n",
      "2016 Utilities SDG 8: Decent Work and Economic Growth\r"
     ]
    },
    {
     "name": "stderr",
     "output_type": "stream",
     "text": [
      "\n",
      "\n",
      "\n",
      "  0%|                                                                                                                                 | 0/30 [00:00<?, ?it/s]\u001b[A\u001b[A/home/sarawalk/sdgs_py38/lib/python3.8/site-packages/bicm/graph_classes.py:1113: RuntimeWarning: invalid value encountered in divide\n",
      "  probs = node_xy * neighbor_xy / ((1 + node_xy) * (1 + neighbor_xy))\n",
      "/home/sarawalk/sdgs_py38/lib/python3.8/site-packages/bicm/graph_classes.py:1113: RuntimeWarning: invalid value encountered in divide\n",
      "  probs = node_xy * neighbor_xy / ((1 + node_xy) * (1 + neighbor_xy))\n",
      "/home/sarawalk/sdgs_py38/lib/python3.8/site-packages/bicm/graph_classes.py:1113: RuntimeWarning: invalid value encountered in divide\n",
      "  probs = node_xy * neighbor_xy / ((1 + node_xy) * (1 + neighbor_xy))\n",
      "/home/sarawalk/sdgs_py38/lib/python3.8/site-packages/bicm/graph_classes.py:1113: RuntimeWarning: invalid value encountered in divide\n",
      "  probs = node_xy * neighbor_xy / ((1 + node_xy) * (1 + neighbor_xy))\n",
      "100%|██████████████████████████████████████████████████████████████████████████████████████████████████████████████████████| 30/30 [00:00<00:00, 1027.20it/s]"
     ]
    },
    {
     "name": "stdout",
     "output_type": "stream",
     "text": [
      "No V-motifs will be validated. Try increasing alpha\n"
     ]
    },
    {
     "name": "stderr",
     "output_type": "stream",
     "text": [
      "\n",
      "\n",
      "\n",
      "100%|█████████████████████████████████████████████████████████████████████████████████████████████████████████████████████████| 2/2 [00:00<00:00, 165.82it/s]\u001b[A\u001b[A/home/sarawalk/sdgs_py38/lib/python3.8/site-packages/bicm/graph_classes.py:1113: RuntimeWarning: invalid value encountered in divide\n",
      "  probs = node_xy * neighbor_xy / ((1 + node_xy) * (1 + neighbor_xy))\n",
      "\n"
     ]
    },
    {
     "name": "stdout",
     "output_type": "stream",
     "text": [
      "No V-motifs will be validated. Try increasing alpha\n",
      "\n",
      "                      WARNING: this system has at least a node that is disconnected or connected to all nodes\n",
      "                       of the opposite layer. This may cause some convergence issues.\n",
      "                      Please use the full mode providing a biadjacency matrix or an edgelist,\n",
      "                       or clean your data from these nodes. \n",
      "                      \n",
      "2016 Utilities SDG 9: Industry, Innovation, and Infrastructure\r"
     ]
    },
    {
     "name": "stderr",
     "output_type": "stream",
     "text": [
      "\n",
      "\n",
      "  0%|                                                                                                                                 | 0/30 [00:00<?, ?it/s]\u001b[A\u001b[A/home/sarawalk/sdgs_py38/lib/python3.8/site-packages/bicm/graph_classes.py:1113: RuntimeWarning: invalid value encountered in divide\n",
      "  probs = node_xy * neighbor_xy / ((1 + node_xy) * (1 + neighbor_xy))\n",
      "/home/sarawalk/sdgs_py38/lib/python3.8/site-packages/bicm/graph_classes.py:1113: RuntimeWarning: invalid value encountered in divide\n",
      "  probs = node_xy * neighbor_xy / ((1 + node_xy) * (1 + neighbor_xy))\n",
      "/home/sarawalk/sdgs_py38/lib/python3.8/site-packages/bicm/graph_classes.py:1113: RuntimeWarning: invalid value encountered in divide\n",
      "  probs = node_xy * neighbor_xy / ((1 + node_xy) * (1 + neighbor_xy))\n",
      "/home/sarawalk/sdgs_py38/lib/python3.8/site-packages/bicm/graph_classes.py:1113: RuntimeWarning: invalid value encountered in divide\n",
      "  probs = node_xy * neighbor_xy / ((1 + node_xy) * (1 + neighbor_xy))\n",
      "100%|██████████████████████████████████████████████████████████████████████████████████████████████████████████████████████| 30/30 [00:00<00:00, 1214.95it/s]\n"
     ]
    },
    {
     "name": "stdout",
     "output_type": "stream",
     "text": [
      "No V-motifs will be validated. Try increasing alpha\n"
     ]
    },
    {
     "name": "stderr",
     "output_type": "stream",
     "text": [
      "\n",
      "\n",
      "100%|█████████████████████████████████████████████████████████████████████████████████████████████████████████████████████████| 2/2 [00:00<00:00, 178.42it/s]\u001b[A\u001b[A/home/sarawalk/sdgs_py38/lib/python3.8/site-packages/bicm/graph_classes.py:1113: RuntimeWarning: invalid value encountered in divide\n",
      "  probs = node_xy * neighbor_xy / ((1 + node_xy) * (1 + neighbor_xy))\n",
      "\n"
     ]
    },
    {
     "name": "stdout",
     "output_type": "stream",
     "text": [
      "No V-motifs will be validated. Try increasing alpha\n",
      "\n",
      "                      WARNING: this system has at least a node that is disconnected or connected to all nodes\n",
      "                       of the opposite layer. This may cause some convergence issues.\n",
      "                      Please use the full mode providing a biadjacency matrix or an edgelist,\n",
      "                       or clean your data from these nodes. \n",
      "                      \n",
      "2016 Utilities SDG 10: Reduced Inequality\r"
     ]
    },
    {
     "name": "stderr",
     "output_type": "stream",
     "text": [
      "\n",
      "\n",
      "  0%|                                                                                                                                 | 0/30 [00:00<?, ?it/s]\u001b[A\u001b[A/home/sarawalk/sdgs_py38/lib/python3.8/site-packages/bicm/graph_classes.py:1113: RuntimeWarning: invalid value encountered in divide\n",
      "  probs = node_xy * neighbor_xy / ((1 + node_xy) * (1 + neighbor_xy))\n",
      "/home/sarawalk/sdgs_py38/lib/python3.8/site-packages/bicm/graph_classes.py:1113: RuntimeWarning: invalid value encountered in divide\n",
      "  probs = node_xy * neighbor_xy / ((1 + node_xy) * (1 + neighbor_xy))\n",
      "/home/sarawalk/sdgs_py38/lib/python3.8/site-packages/bicm/graph_classes.py:1113: RuntimeWarning: invalid value encountered in divide\n",
      "  probs = node_xy * neighbor_xy / ((1 + node_xy) * (1 + neighbor_xy))\n",
      "/home/sarawalk/sdgs_py38/lib/python3.8/site-packages/bicm/graph_classes.py:1113: RuntimeWarning: invalid value encountered in divide\n",
      "  probs = node_xy * neighbor_xy / ((1 + node_xy) * (1 + neighbor_xy))\n",
      "100%|███████████████████████████████████████████████████████████████████████████████████████████████████████████████████████| 30/30 [00:00<00:00, 927.96it/s]"
     ]
    },
    {
     "name": "stdout",
     "output_type": "stream",
     "text": [
      "No V-motifs will be validated. Try increasing alpha\n"
     ]
    },
    {
     "name": "stderr",
     "output_type": "stream",
     "text": [
      "\n",
      "\n",
      "\n",
      "100%|█████████████████████████████████████████████████████████████████████████████████████████████████████████████████████████| 2/2 [00:00<00:00, 132.04it/s]\u001b[A\u001b[A/home/sarawalk/sdgs_py38/lib/python3.8/site-packages/bicm/graph_classes.py:1113: RuntimeWarning: invalid value encountered in divide\n",
      "  probs = node_xy * neighbor_xy / ((1 + node_xy) * (1 + neighbor_xy))\n",
      "\n"
     ]
    },
    {
     "name": "stdout",
     "output_type": "stream",
     "text": [
      "No V-motifs will be validated. Try increasing alpha\n",
      "\n",
      "                      WARNING: this system has at least a node that is disconnected or connected to all nodes\n",
      "                       of the opposite layer. This may cause some convergence issues.\n",
      "                      Please use the full mode providing a biadjacency matrix or an edgelist,\n",
      "                       or clean your data from these nodes. \n",
      "                      \n",
      "2016 Utilities SDG 11: Sustainable Cities and Communities\r"
     ]
    },
    {
     "name": "stderr",
     "output_type": "stream",
     "text": [
      "\n",
      "\n",
      "  0%|                                                                                                                                 | 0/30 [00:00<?, ?it/s]\u001b[A\u001b[A/home/sarawalk/sdgs_py38/lib/python3.8/site-packages/bicm/graph_classes.py:1113: RuntimeWarning: invalid value encountered in divide\n",
      "  probs = node_xy * neighbor_xy / ((1 + node_xy) * (1 + neighbor_xy))\n",
      "/home/sarawalk/sdgs_py38/lib/python3.8/site-packages/bicm/graph_classes.py:1113: RuntimeWarning: invalid value encountered in divide\n",
      "  probs = node_xy * neighbor_xy / ((1 + node_xy) * (1 + neighbor_xy))\n",
      "/home/sarawalk/sdgs_py38/lib/python3.8/site-packages/bicm/graph_classes.py:1113: RuntimeWarning: invalid value encountered in divide\n",
      "  probs = node_xy * neighbor_xy / ((1 + node_xy) * (1 + neighbor_xy))\n",
      "/home/sarawalk/sdgs_py38/lib/python3.8/site-packages/bicm/graph_classes.py:1113: RuntimeWarning: invalid value encountered in divide\n",
      "  probs = node_xy * neighbor_xy / ((1 + node_xy) * (1 + neighbor_xy))\n",
      "100%|███████████████████████████████████████████████████████████████████████████████████████████████████████████████████████| 30/30 [00:00<00:00, 761.33it/s]"
     ]
    },
    {
     "name": "stdout",
     "output_type": "stream",
     "text": [
      "No V-motifs will be validated. Try increasing alpha\n"
     ]
    },
    {
     "name": "stderr",
     "output_type": "stream",
     "text": [
      "\n",
      "\n",
      "\n",
      "100%|█████████████████████████████████████████████████████████████████████████████████████████████████████████████████████████| 2/2 [00:00<00:00, 226.83it/s]\u001b[A\u001b[A/home/sarawalk/sdgs_py38/lib/python3.8/site-packages/bicm/graph_classes.py:1113: RuntimeWarning: invalid value encountered in divide\n",
      "  probs = node_xy * neighbor_xy / ((1 + node_xy) * (1 + neighbor_xy))\n"
     ]
    },
    {
     "name": "stdout",
     "output_type": "stream",
     "text": [
      "No V-motifs will be validated. Try increasing alpha\n",
      "\n",
      "                      WARNING: this system has at least a node that is disconnected or connected to all nodes\n",
      "                       of the opposite layer. This may cause some convergence issues.\n",
      "                      Please use the full mode providing a biadjacency matrix or an edgelist,\n",
      "                       or clean your data from these nodes. \n",
      "                      \n",
      "2016 Utilities SDG 12: Responsible Consumption and Production\r"
     ]
    },
    {
     "name": "stderr",
     "output_type": "stream",
     "text": [
      "\n",
      "\n",
      "\n",
      "  0%|                                                                                                                                 | 0/30 [00:00<?, ?it/s]\u001b[A\u001b[A/home/sarawalk/sdgs_py38/lib/python3.8/site-packages/bicm/graph_classes.py:1113: RuntimeWarning: invalid value encountered in divide\n",
      "  probs = node_xy * neighbor_xy / ((1 + node_xy) * (1 + neighbor_xy))\n",
      "/home/sarawalk/sdgs_py38/lib/python3.8/site-packages/bicm/graph_classes.py:1113: RuntimeWarning: invalid value encountered in divide\n",
      "  probs = node_xy * neighbor_xy / ((1 + node_xy) * (1 + neighbor_xy))\n",
      "/home/sarawalk/sdgs_py38/lib/python3.8/site-packages/bicm/graph_classes.py:1113: RuntimeWarning: invalid value encountered in divide\n",
      "  probs = node_xy * neighbor_xy / ((1 + node_xy) * (1 + neighbor_xy))\n",
      "/home/sarawalk/sdgs_py38/lib/python3.8/site-packages/bicm/graph_classes.py:1113: RuntimeWarning: invalid value encountered in divide\n",
      "  probs = node_xy * neighbor_xy / ((1 + node_xy) * (1 + neighbor_xy))\n",
      "100%|███████████████████████████████████████████████████████████████████████████████████████████████████████████████████████| 30/30 [00:00<00:00, 970.41it/s]"
     ]
    },
    {
     "name": "stdout",
     "output_type": "stream",
     "text": [
      "No V-motifs will be validated. Try increasing alpha\n"
     ]
    },
    {
     "name": "stderr",
     "output_type": "stream",
     "text": [
      "\n",
      "\n",
      "\n",
      "100%|█████████████████████████████████████████████████████████████████████████████████████████████████████████████████████████| 2/2 [00:00<00:00, 155.42it/s]\u001b[A\u001b[A/home/sarawalk/sdgs_py38/lib/python3.8/site-packages/bicm/graph_classes.py:1113: RuntimeWarning: invalid value encountered in divide\n",
      "  probs = node_xy * neighbor_xy / ((1 + node_xy) * (1 + neighbor_xy))\n"
     ]
    },
    {
     "name": "stdout",
     "output_type": "stream",
     "text": [
      "No V-motifs will be validated. Try increasing alpha\n",
      "\n",
      "                      WARNING: this system has at least a node that is disconnected or connected to all nodes\n",
      "                       of the opposite layer. This may cause some convergence issues.\n",
      "                      Please use the full mode providing a biadjacency matrix or an edgelist,\n",
      "                       or clean your data from these nodes. \n",
      "                      \n",
      "2016 Utilities SDG 13: Climate Action\r"
     ]
    },
    {
     "name": "stderr",
     "output_type": "stream",
     "text": [
      "\n",
      "\n",
      "\n",
      "  0%|                                                                                                                                 | 0/30 [00:00<?, ?it/s]\u001b[A\u001b[A/home/sarawalk/sdgs_py38/lib/python3.8/site-packages/bicm/graph_classes.py:1113: RuntimeWarning: invalid value encountered in divide\n",
      "  probs = node_xy * neighbor_xy / ((1 + node_xy) * (1 + neighbor_xy))\n",
      "/home/sarawalk/sdgs_py38/lib/python3.8/site-packages/bicm/graph_classes.py:1113: RuntimeWarning: invalid value encountered in divide\n",
      "  probs = node_xy * neighbor_xy / ((1 + node_xy) * (1 + neighbor_xy))\n",
      "/home/sarawalk/sdgs_py38/lib/python3.8/site-packages/bicm/graph_classes.py:1113: RuntimeWarning: invalid value encountered in divide\n",
      "  probs = node_xy * neighbor_xy / ((1 + node_xy) * (1 + neighbor_xy))\n",
      "/home/sarawalk/sdgs_py38/lib/python3.8/site-packages/bicm/graph_classes.py:1113: RuntimeWarning: invalid value encountered in divide\n",
      "  probs = node_xy * neighbor_xy / ((1 + node_xy) * (1 + neighbor_xy))\n",
      "100%|██████████████████████████████████████████████████████████████████████████████████████████████████████████████████████| 30/30 [00:00<00:00, 1045.16it/s]"
     ]
    },
    {
     "name": "stdout",
     "output_type": "stream",
     "text": [
      "No V-motifs will be validated. Try increasing alpha\n"
     ]
    },
    {
     "name": "stderr",
     "output_type": "stream",
     "text": [
      "\n",
      "\n",
      "\n",
      "100%|█████████████████████████████████████████████████████████████████████████████████████████████████████████████████████████| 2/2 [00:00<00:00, 200.40it/s]\u001b[A\u001b[A/home/sarawalk/sdgs_py38/lib/python3.8/site-packages/bicm/graph_classes.py:1113: RuntimeWarning: invalid value encountered in divide\n",
      "  probs = node_xy * neighbor_xy / ((1 + node_xy) * (1 + neighbor_xy))\n"
     ]
    },
    {
     "name": "stdout",
     "output_type": "stream",
     "text": [
      "No V-motifs will be validated. Try increasing alpha\n",
      "\n",
      "                      WARNING: this system has at least a node that is disconnected or connected to all nodes\n",
      "                       of the opposite layer. This may cause some convergence issues.\n",
      "                      Please use the full mode providing a biadjacency matrix or an edgelist,\n",
      "                       or clean your data from these nodes. \n",
      "                      \n",
      "2016 Utilities SDG 14: Life Below Water\r"
     ]
    },
    {
     "name": "stderr",
     "output_type": "stream",
     "text": [
      "\n",
      "\n",
      "\n",
      "  0%|                                                                                                                                 | 0/30 [00:00<?, ?it/s]\u001b[A\u001b[A/home/sarawalk/sdgs_py38/lib/python3.8/site-packages/bicm/graph_classes.py:1113: RuntimeWarning: invalid value encountered in divide\n",
      "  probs = node_xy * neighbor_xy / ((1 + node_xy) * (1 + neighbor_xy))\n",
      "/home/sarawalk/sdgs_py38/lib/python3.8/site-packages/bicm/graph_classes.py:1113: RuntimeWarning: invalid value encountered in divide\n",
      "  probs = node_xy * neighbor_xy / ((1 + node_xy) * (1 + neighbor_xy))\n",
      "/home/sarawalk/sdgs_py38/lib/python3.8/site-packages/bicm/graph_classes.py:1113: RuntimeWarning: invalid value encountered in divide\n",
      "  probs = node_xy * neighbor_xy / ((1 + node_xy) * (1 + neighbor_xy))\n",
      "100%|███████████████████████████████████████████████████████████████████████████████████████████████████████████████████████| 30/30 [00:00<00:00, 912.35it/s]/home/sarawalk/sdgs_py38/lib/python3.8/site-packages/bicm/graph_classes.py:1113: RuntimeWarning: invalid value encountered in divide\n",
      "  probs = node_xy * neighbor_xy / ((1 + node_xy) * (1 + neighbor_xy))\n"
     ]
    },
    {
     "name": "stdout",
     "output_type": "stream",
     "text": [
      "No V-motifs will be validated. Try increasing alpha\n"
     ]
    },
    {
     "name": "stderr",
     "output_type": "stream",
     "text": [
      "\n",
      "\n",
      "\n",
      "100%|█████████████████████████████████████████████████████████████████████████████████████████████████████████████████████████| 2/2 [00:00<00:00, 138.53it/s]\u001b[A\u001b[A/home/sarawalk/sdgs_py38/lib/python3.8/site-packages/bicm/graph_classes.py:1113: RuntimeWarning: invalid value encountered in divide\n",
      "  probs = node_xy * neighbor_xy / ((1 + node_xy) * (1 + neighbor_xy))\n"
     ]
    },
    {
     "name": "stdout",
     "output_type": "stream",
     "text": [
      "No V-motifs will be validated. Try increasing alpha\n",
      "\n",
      "                      WARNING: this system has at least a node that is disconnected or connected to all nodes\n",
      "                       of the opposite layer. This may cause some convergence issues.\n",
      "                      Please use the full mode providing a biadjacency matrix or an edgelist,\n",
      "                       or clean your data from these nodes. \n",
      "                      \n",
      "2016 Utilities SDG 15: Life on Land\r"
     ]
    },
    {
     "name": "stderr",
     "output_type": "stream",
     "text": [
      "\n",
      "\n",
      "\n",
      "  0%|                                                                                                                                 | 0/30 [00:00<?, ?it/s]\u001b[A\u001b[A/home/sarawalk/sdgs_py38/lib/python3.8/site-packages/bicm/graph_classes.py:1113: RuntimeWarning: invalid value encountered in divide\n",
      "  probs = node_xy * neighbor_xy / ((1 + node_xy) * (1 + neighbor_xy))\n",
      "/home/sarawalk/sdgs_py38/lib/python3.8/site-packages/bicm/graph_classes.py:1113: RuntimeWarning: invalid value encountered in divide\n",
      "  probs = node_xy * neighbor_xy / ((1 + node_xy) * (1 + neighbor_xy))\n",
      "/home/sarawalk/sdgs_py38/lib/python3.8/site-packages/bicm/graph_classes.py:1113: RuntimeWarning: invalid value encountered in divide\n",
      "  probs = node_xy * neighbor_xy / ((1 + node_xy) * (1 + neighbor_xy))\n",
      "/home/sarawalk/sdgs_py38/lib/python3.8/site-packages/bicm/graph_classes.py:1113: RuntimeWarning: invalid value encountered in divide\n",
      "  probs = node_xy * neighbor_xy / ((1 + node_xy) * (1 + neighbor_xy))\n",
      "100%|██████████████████████████████████████████████████████████████████████████████████████████████████████████████████████| 30/30 [00:00<00:00, 1002.02it/s]"
     ]
    },
    {
     "name": "stdout",
     "output_type": "stream",
     "text": [
      "No V-motifs will be validated. Try increasing alpha\n"
     ]
    },
    {
     "name": "stderr",
     "output_type": "stream",
     "text": [
      "\n",
      "\n",
      "\n",
      "100%|█████████████████████████████████████████████████████████████████████████████████████████████████████████████████████████| 2/2 [00:00<00:00, 151.03it/s]\u001b[A\u001b[A/home/sarawalk/sdgs_py38/lib/python3.8/site-packages/bicm/graph_classes.py:1113: RuntimeWarning: invalid value encountered in divide\n",
      "  probs = node_xy * neighbor_xy / ((1 + node_xy) * (1 + neighbor_xy))\n",
      "\n"
     ]
    },
    {
     "name": "stdout",
     "output_type": "stream",
     "text": [
      "No V-motifs will be validated. Try increasing alpha\n",
      "\n",
      "                      WARNING: this system has at least a node that is disconnected or connected to all nodes\n",
      "                       of the opposite layer. This may cause some convergence issues.\n",
      "                      Please use the full mode providing a biadjacency matrix or an edgelist,\n",
      "                       or clean your data from these nodes. \n",
      "                      \n",
      "2016 Utilities SDG 16: Peace, Justice, and Strong Institutions\r"
     ]
    },
    {
     "name": "stderr",
     "output_type": "stream",
     "text": [
      "\n",
      "\n",
      "  0%|                                                                                                                                 | 0/30 [00:00<?, ?it/s]\u001b[A\u001b[A/home/sarawalk/sdgs_py38/lib/python3.8/site-packages/bicm/graph_classes.py:1113: RuntimeWarning: invalid value encountered in divide\n",
      "  probs = node_xy * neighbor_xy / ((1 + node_xy) * (1 + neighbor_xy))\n",
      "/home/sarawalk/sdgs_py38/lib/python3.8/site-packages/bicm/graph_classes.py:1113: RuntimeWarning: invalid value encountered in divide\n",
      "  probs = node_xy * neighbor_xy / ((1 + node_xy) * (1 + neighbor_xy))\n",
      "/home/sarawalk/sdgs_py38/lib/python3.8/site-packages/bicm/graph_classes.py:1113: RuntimeWarning: invalid value encountered in divide\n",
      "  probs = node_xy * neighbor_xy / ((1 + node_xy) * (1 + neighbor_xy))\n",
      "/home/sarawalk/sdgs_py38/lib/python3.8/site-packages/bicm/graph_classes.py:1113: RuntimeWarning: invalid value encountered in divide\n",
      "  probs = node_xy * neighbor_xy / ((1 + node_xy) * (1 + neighbor_xy))\n",
      "100%|███████████████████████████████████████████████████████████████████████████████████████████████████████████████████████| 30/30 [00:00<00:00, 984.70it/s]"
     ]
    },
    {
     "name": "stdout",
     "output_type": "stream",
     "text": [
      "No V-motifs will be validated. Try increasing alpha\n"
     ]
    },
    {
     "name": "stderr",
     "output_type": "stream",
     "text": [
      "\n",
      "\n",
      "\n",
      "100%|█████████████████████████████████████████████████████████████████████████████████████████████████████████████████████████| 2/2 [00:00<00:00, 173.75it/s]\u001b[A\u001b[A/home/sarawalk/sdgs_py38/lib/python3.8/site-packages/bicm/graph_classes.py:1113: RuntimeWarning: invalid value encountered in divide\n",
      "  probs = node_xy * neighbor_xy / ((1 + node_xy) * (1 + neighbor_xy))\n"
     ]
    },
    {
     "name": "stdout",
     "output_type": "stream",
     "text": [
      "No V-motifs will be validated. Try increasing alpha\n",
      "\n",
      "                      WARNING: this system has at least a node that is disconnected or connected to all nodes\n",
      "                       of the opposite layer. This may cause some convergence issues.\n",
      "                      Please use the full mode providing a biadjacency matrix or an edgelist,\n",
      "                       or clean your data from these nodes. \n",
      "                      \n",
      "2016 Utilities SDG 17: Partnerships for the Goals\r"
     ]
    },
    {
     "name": "stderr",
     "output_type": "stream",
     "text": [
      "\n",
      "\n",
      "\n",
      "  0%|                                                                                                                                 | 0/30 [00:00<?, ?it/s]\u001b[A\u001b[A/home/sarawalk/sdgs_py38/lib/python3.8/site-packages/bicm/graph_classes.py:1113: RuntimeWarning: invalid value encountered in divide\n",
      "  probs = node_xy * neighbor_xy / ((1 + node_xy) * (1 + neighbor_xy))\n",
      "/home/sarawalk/sdgs_py38/lib/python3.8/site-packages/bicm/graph_classes.py:1113: RuntimeWarning: invalid value encountered in divide\n",
      "  probs = node_xy * neighbor_xy / ((1 + node_xy) * (1 + neighbor_xy))\n",
      "100%|███████████████████████████████████████████████████████████████████████████████████████████████████████████████████████| 30/30 [00:00<00:00, 960.35it/s]/home/sarawalk/sdgs_py38/lib/python3.8/site-packages/bicm/graph_classes.py:1113: RuntimeWarning: invalid value encountered in divide\n",
      "  probs = node_xy * neighbor_xy / ((1 + node_xy) * (1 + neighbor_xy))\n",
      "/home/sarawalk/sdgs_py38/lib/python3.8/site-packages/bicm/graph_classes.py:1113: RuntimeWarning: invalid value encountered in divide\n",
      "  probs = node_xy * neighbor_xy / ((1 + node_xy) * (1 + neighbor_xy))\n",
      "\n"
     ]
    },
    {
     "name": "stdout",
     "output_type": "stream",
     "text": [
      "No V-motifs will be validated. Try increasing alpha\n"
     ]
    },
    {
     "name": "stderr",
     "output_type": "stream",
     "text": [
      "\n",
      "\n",
      "100%|█████████████████████████████████████████████████████████████████████████████████████████████████████████████████████████| 2/2 [00:00<00:00, 253.00it/s]\u001b[A\u001b[A/home/sarawalk/sdgs_py38/lib/python3.8/site-packages/bicm/graph_classes.py:1113: RuntimeWarning: invalid value encountered in divide\n",
      "  probs = node_xy * neighbor_xy / ((1 + node_xy) * (1 + neighbor_xy))\n",
      "\n"
     ]
    },
    {
     "name": "stdout",
     "output_type": "stream",
     "text": [
      "No V-motifs will be validated. Try increasing alpha\n",
      "\n",
      "                      WARNING: this system has at least a node that is disconnected or connected to all nodes\n",
      "                       of the opposite layer. This may cause some convergence issues.\n",
      "                      Please use the full mode providing a biadjacency matrix or an edgelist,\n",
      "                       or clean your data from these nodes. \n",
      "                      \n",
      "2017 Energy SDG 1: No Poverty\r"
     ]
    },
    {
     "name": "stderr",
     "output_type": "stream",
     "text": [
      "\n",
      "\n",
      "  0%|                                                                                                                                 | 0/38 [00:00<?, ?it/s]\u001b[A\u001b[A/home/sarawalk/sdgs_py38/lib/python3.8/site-packages/bicm/graph_classes.py:1113: RuntimeWarning: invalid value encountered in divide\n",
      "  probs = node_xy * neighbor_xy / ((1 + node_xy) * (1 + neighbor_xy))\n",
      "/home/sarawalk/sdgs_py38/lib/python3.8/site-packages/bicm/graph_classes.py:1113: RuntimeWarning: invalid value encountered in divide\n",
      "  probs = node_xy * neighbor_xy / ((1 + node_xy) * (1 + neighbor_xy))\n",
      "/home/sarawalk/sdgs_py38/lib/python3.8/site-packages/bicm/graph_classes.py:1113: RuntimeWarning: invalid value encountered in divide\n",
      "  probs = node_xy * neighbor_xy / ((1 + node_xy) * (1 + neighbor_xy))\n",
      "/home/sarawalk/sdgs_py38/lib/python3.8/site-packages/bicm/graph_classes.py:1113: RuntimeWarning: invalid value encountered in divide\n",
      "  probs = node_xy * neighbor_xy / ((1 + node_xy) * (1 + neighbor_xy))\n",
      "100%|██████████████████████████████████████████████████████████████████████████████████████████████████████████████████████| 38/38 [00:00<00:00, 1089.69it/s]\n"
     ]
    },
    {
     "name": "stdout",
     "output_type": "stream",
     "text": [
      "No V-motifs will be validated. Try increasing alpha\n"
     ]
    },
    {
     "name": "stderr",
     "output_type": "stream",
     "text": [
      "\n",
      "\n",
      "  0%|                                                                                                                                  | 0/2 [00:00<?, ?it/s]\u001b[A\u001b[A/home/sarawalk/sdgs_py38/lib/python3.8/site-packages/bicm/graph_classes.py:1113: RuntimeWarning: invalid value encountered in divide\n",
      "  probs = node_xy * neighbor_xy / ((1 + node_xy) * (1 + neighbor_xy))\n",
      "100%|█████████████████████████████████████████████████████████████████████████████████████████████████████████████████████████| 2/2 [00:00<00:00, 134.58it/s]\n"
     ]
    },
    {
     "name": "stdout",
     "output_type": "stream",
     "text": [
      "No V-motifs will be validated. Try increasing alpha\n",
      "\n",
      "                      WARNING: this system has at least a node that is disconnected or connected to all nodes\n",
      "                       of the opposite layer. This may cause some convergence issues.\n",
      "                      Please use the full mode providing a biadjacency matrix or an edgelist,\n",
      "                       or clean your data from these nodes. \n",
      "                      \n",
      "2017 Energy SDG 3: Good Health and Well-being\r"
     ]
    },
    {
     "name": "stderr",
     "output_type": "stream",
     "text": [
      "\n",
      "\n",
      "  0%|                                                                                                                                 | 0/38 [00:00<?, ?it/s]\u001b[A\u001b[A/home/sarawalk/sdgs_py38/lib/python3.8/site-packages/bicm/graph_classes.py:1113: RuntimeWarning: invalid value encountered in divide\n",
      "  probs = node_xy * neighbor_xy / ((1 + node_xy) * (1 + neighbor_xy))\n",
      "/home/sarawalk/sdgs_py38/lib/python3.8/site-packages/bicm/graph_classes.py:1113: RuntimeWarning: invalid value encountered in divide\n",
      "  probs = node_xy * neighbor_xy / ((1 + node_xy) * (1 + neighbor_xy))\n",
      "/home/sarawalk/sdgs_py38/lib/python3.8/site-packages/bicm/graph_classes.py:1113: RuntimeWarning: invalid value encountered in divide\n",
      "  probs = node_xy * neighbor_xy / ((1 + node_xy) * (1 + neighbor_xy))\n",
      "/home/sarawalk/sdgs_py38/lib/python3.8/site-packages/bicm/graph_classes.py:1113: RuntimeWarning: invalid value encountered in divide\n",
      "  probs = node_xy * neighbor_xy / ((1 + node_xy) * (1 + neighbor_xy))\n",
      "100%|███████████████████████████████████████████████████████████████████████████████████████████████████████████████████████| 38/38 [00:00<00:00, 919.47it/s]\n"
     ]
    },
    {
     "name": "stdout",
     "output_type": "stream",
     "text": [
      "No V-motifs will be validated. Try increasing alpha\n"
     ]
    },
    {
     "name": "stderr",
     "output_type": "stream",
     "text": [
      "\n",
      "\n",
      "100%|█████████████████████████████████████████████████████████████████████████████████████████████████████████████████████████| 2/2 [00:00<00:00, 181.27it/s]\u001b[A\u001b[A/home/sarawalk/sdgs_py38/lib/python3.8/site-packages/bicm/graph_classes.py:1113: RuntimeWarning: invalid value encountered in divide\n",
      "  probs = node_xy * neighbor_xy / ((1 + node_xy) * (1 + neighbor_xy))\n",
      "\n"
     ]
    },
    {
     "name": "stdout",
     "output_type": "stream",
     "text": [
      "No V-motifs will be validated. Try increasing alpha\n",
      "\n",
      "                      WARNING: this system has at least a node that is disconnected or connected to all nodes\n",
      "                       of the opposite layer. This may cause some convergence issues.\n",
      "                      Please use the full mode providing a biadjacency matrix or an edgelist,\n",
      "                       or clean your data from these nodes. \n",
      "                      \n",
      "2017 Energy SDG 4: Quality Education\r"
     ]
    },
    {
     "name": "stderr",
     "output_type": "stream",
     "text": [
      "\n",
      "\n",
      "  0%|                                                                                                                                 | 0/38 [00:00<?, ?it/s]\u001b[A\u001b[A/home/sarawalk/sdgs_py38/lib/python3.8/site-packages/bicm/graph_classes.py:1113: RuntimeWarning: invalid value encountered in divide\n",
      "  probs = node_xy * neighbor_xy / ((1 + node_xy) * (1 + neighbor_xy))\n",
      "/home/sarawalk/sdgs_py38/lib/python3.8/site-packages/bicm/graph_classes.py:1113: RuntimeWarning: invalid value encountered in divide\n",
      "  probs = node_xy * neighbor_xy / ((1 + node_xy) * (1 + neighbor_xy))\n",
      "/home/sarawalk/sdgs_py38/lib/python3.8/site-packages/bicm/graph_classes.py:1113: RuntimeWarning: invalid value encountered in divide\n",
      "  probs = node_xy * neighbor_xy / ((1 + node_xy) * (1 + neighbor_xy))\n",
      "/home/sarawalk/sdgs_py38/lib/python3.8/site-packages/bicm/graph_classes.py:1113: RuntimeWarning: invalid value encountered in divide\n",
      "  probs = node_xy * neighbor_xy / ((1 + node_xy) * (1 + neighbor_xy))\n",
      "100%|██████████████████████████████████████████████████████████████████████████████████████████████████████████████████████| 38/38 [00:00<00:00, 1060.98it/s]"
     ]
    },
    {
     "name": "stdout",
     "output_type": "stream",
     "text": [
      "No V-motifs will be validated. Try increasing alpha\n"
     ]
    },
    {
     "name": "stderr",
     "output_type": "stream",
     "text": [
      "\n",
      "\n",
      "\n",
      "100%|█████████████████████████████████████████████████████████████████████████████████████████████████████████████████████████| 2/2 [00:00<00:00, 163.30it/s]\u001b[A\u001b[A/home/sarawalk/sdgs_py38/lib/python3.8/site-packages/bicm/graph_classes.py:1113: RuntimeWarning: invalid value encountered in divide\n",
      "  probs = node_xy * neighbor_xy / ((1 + node_xy) * (1 + neighbor_xy))\n",
      "\n"
     ]
    },
    {
     "name": "stdout",
     "output_type": "stream",
     "text": [
      "No V-motifs will be validated. Try increasing alpha\n",
      "\n",
      "                      WARNING: this system has at least a node that is disconnected or connected to all nodes\n",
      "                       of the opposite layer. This may cause some convergence issues.\n",
      "                      Please use the full mode providing a biadjacency matrix or an edgelist,\n",
      "                       or clean your data from these nodes. \n",
      "                      \n",
      "2017 Energy SDG 5: Gender Equality\r"
     ]
    },
    {
     "name": "stderr",
     "output_type": "stream",
     "text": [
      "\n",
      "\n",
      "  0%|                                                                                                                                 | 0/38 [00:00<?, ?it/s]\u001b[A\u001b[A/home/sarawalk/sdgs_py38/lib/python3.8/site-packages/bicm/graph_classes.py:1113: RuntimeWarning: invalid value encountered in divide\n",
      "  probs = node_xy * neighbor_xy / ((1 + node_xy) * (1 + neighbor_xy))\n",
      "/home/sarawalk/sdgs_py38/lib/python3.8/site-packages/bicm/graph_classes.py:1113: RuntimeWarning: invalid value encountered in divide\n",
      "  probs = node_xy * neighbor_xy / ((1 + node_xy) * (1 + neighbor_xy))\n",
      "/home/sarawalk/sdgs_py38/lib/python3.8/site-packages/bicm/graph_classes.py:1113: RuntimeWarning: invalid value encountered in divide\n",
      "  probs = node_xy * neighbor_xy / ((1 + node_xy) * (1 + neighbor_xy))\n",
      "/home/sarawalk/sdgs_py38/lib/python3.8/site-packages/bicm/graph_classes.py:1113: RuntimeWarning: invalid value encountered in divide\n",
      "  probs = node_xy * neighbor_xy / ((1 + node_xy) * (1 + neighbor_xy))\n",
      "100%|██████████████████████████████████████████████████████████████████████████████████████████████████████████████████████| 38/38 [00:00<00:00, 1019.15it/s]\n"
     ]
    },
    {
     "name": "stdout",
     "output_type": "stream",
     "text": [
      "No V-motifs will be validated. Try increasing alpha\n"
     ]
    },
    {
     "name": "stderr",
     "output_type": "stream",
     "text": [
      "\n",
      "\n",
      "100%|█████████████████████████████████████████████████████████████████████████████████████████████████████████████████████████| 2/2 [00:00<00:00, 172.38it/s]\u001b[A\u001b[A/home/sarawalk/sdgs_py38/lib/python3.8/site-packages/bicm/graph_classes.py:1113: RuntimeWarning: invalid value encountered in divide\n",
      "  probs = node_xy * neighbor_xy / ((1 + node_xy) * (1 + neighbor_xy))\n",
      "\n"
     ]
    },
    {
     "name": "stdout",
     "output_type": "stream",
     "text": [
      "No V-motifs will be validated. Try increasing alpha\n",
      "\n",
      "                      WARNING: this system has at least a node that is disconnected or connected to all nodes\n",
      "                       of the opposite layer. This may cause some convergence issues.\n",
      "                      Please use the full mode providing a biadjacency matrix or an edgelist,\n",
      "                       or clean your data from these nodes. \n",
      "                      \n",
      "2017 Energy SDG 6: Clean Water and Sanitation\r"
     ]
    },
    {
     "name": "stderr",
     "output_type": "stream",
     "text": [
      "\n",
      "\n",
      "  0%|                                                                                                                                 | 0/38 [00:00<?, ?it/s]\u001b[A\u001b[A/home/sarawalk/sdgs_py38/lib/python3.8/site-packages/bicm/graph_classes.py:1113: RuntimeWarning: invalid value encountered in divide\n",
      "  probs = node_xy * neighbor_xy / ((1 + node_xy) * (1 + neighbor_xy))\n",
      "/home/sarawalk/sdgs_py38/lib/python3.8/site-packages/bicm/graph_classes.py:1113: RuntimeWarning: invalid value encountered in divide\n",
      "  probs = node_xy * neighbor_xy / ((1 + node_xy) * (1 + neighbor_xy))\n",
      "/home/sarawalk/sdgs_py38/lib/python3.8/site-packages/bicm/graph_classes.py:1113: RuntimeWarning: invalid value encountered in divide\n",
      "  probs = node_xy * neighbor_xy / ((1 + node_xy) * (1 + neighbor_xy))\n",
      "/home/sarawalk/sdgs_py38/lib/python3.8/site-packages/bicm/graph_classes.py:1113: RuntimeWarning: invalid value encountered in divide\n",
      "  probs = node_xy * neighbor_xy / ((1 + node_xy) * (1 + neighbor_xy))\n",
      "100%|██████████████████████████████████████████████████████████████████████████████████████████████████████████████████████| 38/38 [00:00<00:00, 1182.02it/s]"
     ]
    },
    {
     "name": "stdout",
     "output_type": "stream",
     "text": [
      "No V-motifs will be validated. Try increasing alpha\n"
     ]
    },
    {
     "name": "stderr",
     "output_type": "stream",
     "text": [
      "\n",
      "\n",
      "\n",
      "100%|█████████████████████████████████████████████████████████████████████████████████████████████████████████████████████████| 2/2 [00:00<00:00, 158.61it/s]\u001b[A\u001b[A/home/sarawalk/sdgs_py38/lib/python3.8/site-packages/bicm/graph_classes.py:1113: RuntimeWarning: invalid value encountered in divide\n",
      "  probs = node_xy * neighbor_xy / ((1 + node_xy) * (1 + neighbor_xy))\n",
      "\n"
     ]
    },
    {
     "name": "stdout",
     "output_type": "stream",
     "text": [
      "No V-motifs will be validated. Try increasing alpha\n",
      "\n",
      "                      WARNING: this system has at least a node that is disconnected or connected to all nodes\n",
      "                       of the opposite layer. This may cause some convergence issues.\n",
      "                      Please use the full mode providing a biadjacency matrix or an edgelist,\n",
      "                       or clean your data from these nodes. \n",
      "                      \n",
      "2017 Energy SDG 7: Affordable and Clean Energy\r"
     ]
    },
    {
     "name": "stderr",
     "output_type": "stream",
     "text": [
      "\n",
      "\n",
      "  0%|                                                                                                                                 | 0/38 [00:00<?, ?it/s]\u001b[A\u001b[A/home/sarawalk/sdgs_py38/lib/python3.8/site-packages/bicm/graph_classes.py:1113: RuntimeWarning: invalid value encountered in divide\n",
      "  probs = node_xy * neighbor_xy / ((1 + node_xy) * (1 + neighbor_xy))\n",
      "/home/sarawalk/sdgs_py38/lib/python3.8/site-packages/bicm/graph_classes.py:1113: RuntimeWarning: invalid value encountered in divide\n",
      "  probs = node_xy * neighbor_xy / ((1 + node_xy) * (1 + neighbor_xy))\n",
      "/home/sarawalk/sdgs_py38/lib/python3.8/site-packages/bicm/graph_classes.py:1113: RuntimeWarning: invalid value encountered in divide\n",
      "  probs = node_xy * neighbor_xy / ((1 + node_xy) * (1 + neighbor_xy))\n",
      "/home/sarawalk/sdgs_py38/lib/python3.8/site-packages/bicm/graph_classes.py:1113: RuntimeWarning: invalid value encountered in divide\n",
      "  probs = node_xy * neighbor_xy / ((1 + node_xy) * (1 + neighbor_xy))\n",
      "100%|██████████████████████████████████████████████████████████████████████████████████████████████████████████████████████| 38/38 [00:00<00:00, 1113.95it/s]"
     ]
    },
    {
     "name": "stdout",
     "output_type": "stream",
     "text": [
      "No V-motifs will be validated. Try increasing alpha\n"
     ]
    },
    {
     "name": "stderr",
     "output_type": "stream",
     "text": [
      "\n",
      "\n",
      "\n",
      "100%|█████████████████████████████████████████████████████████████████████████████████████████████████████████████████████████| 2/2 [00:00<00:00, 146.92it/s]\u001b[A\u001b[A/home/sarawalk/sdgs_py38/lib/python3.8/site-packages/bicm/graph_classes.py:1113: RuntimeWarning: invalid value encountered in divide\n",
      "  probs = node_xy * neighbor_xy / ((1 + node_xy) * (1 + neighbor_xy))\n",
      "\n"
     ]
    },
    {
     "name": "stdout",
     "output_type": "stream",
     "text": [
      "No V-motifs will be validated. Try increasing alpha\n",
      "\n",
      "                      WARNING: this system has at least a node that is disconnected or connected to all nodes\n",
      "                       of the opposite layer. This may cause some convergence issues.\n",
      "                      Please use the full mode providing a biadjacency matrix or an edgelist,\n",
      "                       or clean your data from these nodes. \n",
      "                      \n",
      "2017 Energy SDG 8: Decent Work and Economic Growth\r"
     ]
    },
    {
     "name": "stderr",
     "output_type": "stream",
     "text": [
      "\n",
      "\n",
      "  0%|                                                                                                                                 | 0/38 [00:00<?, ?it/s]\u001b[A\u001b[A/home/sarawalk/sdgs_py38/lib/python3.8/site-packages/bicm/graph_classes.py:1113: RuntimeWarning: invalid value encountered in divide\n",
      "  probs = node_xy * neighbor_xy / ((1 + node_xy) * (1 + neighbor_xy))\n",
      "/home/sarawalk/sdgs_py38/lib/python3.8/site-packages/bicm/graph_classes.py:1113: RuntimeWarning: invalid value encountered in divide\n",
      "  probs = node_xy * neighbor_xy / ((1 + node_xy) * (1 + neighbor_xy))\n",
      "/home/sarawalk/sdgs_py38/lib/python3.8/site-packages/bicm/graph_classes.py:1113: RuntimeWarning: invalid value encountered in divide\n",
      "  probs = node_xy * neighbor_xy / ((1 + node_xy) * (1 + neighbor_xy))\n",
      "100%|███████████████████████████████████████████████████████████████████████████████████████████████████████████████████████| 38/38 [00:00<00:00, 666.17it/s]/home/sarawalk/sdgs_py38/lib/python3.8/site-packages/bicm/graph_classes.py:1113: RuntimeWarning: invalid value encountered in divide\n",
      "  probs = node_xy * neighbor_xy / ((1 + node_xy) * (1 + neighbor_xy))\n",
      "\n"
     ]
    },
    {
     "name": "stdout",
     "output_type": "stream",
     "text": [
      "No V-motifs will be validated. Try increasing alpha\n"
     ]
    },
    {
     "name": "stderr",
     "output_type": "stream",
     "text": [
      "\n",
      "\n",
      "100%|█████████████████████████████████████████████████████████████████████████████████████████████████████████████████████████| 2/2 [00:00<00:00, 123.87it/s]\u001b[A\u001b[A/home/sarawalk/sdgs_py38/lib/python3.8/site-packages/bicm/graph_classes.py:1113: RuntimeWarning: invalid value encountered in divide\n",
      "  probs = node_xy * neighbor_xy / ((1 + node_xy) * (1 + neighbor_xy))\n",
      "\n"
     ]
    },
    {
     "name": "stdout",
     "output_type": "stream",
     "text": [
      "No V-motifs will be validated. Try increasing alpha\n",
      "\n",
      "                      WARNING: this system has at least a node that is disconnected or connected to all nodes\n",
      "                       of the opposite layer. This may cause some convergence issues.\n",
      "                      Please use the full mode providing a biadjacency matrix or an edgelist,\n",
      "                       or clean your data from these nodes. \n",
      "                      \n",
      "2017 Energy SDG 9: Industry, Innovation, and Infrastructure\r"
     ]
    },
    {
     "name": "stderr",
     "output_type": "stream",
     "text": [
      "\n",
      "\n",
      "  0%|                                                                                                                                 | 0/38 [00:00<?, ?it/s]\u001b[A\u001b[A/home/sarawalk/sdgs_py38/lib/python3.8/site-packages/bicm/graph_classes.py:1113: RuntimeWarning: invalid value encountered in divide\n",
      "  probs = node_xy * neighbor_xy / ((1 + node_xy) * (1 + neighbor_xy))\n",
      "/home/sarawalk/sdgs_py38/lib/python3.8/site-packages/bicm/graph_classes.py:1113: RuntimeWarning: invalid value encountered in divide\n",
      "  probs = node_xy * neighbor_xy / ((1 + node_xy) * (1 + neighbor_xy))\n",
      "100%|███████████████████████████████████████████████████████████████████████████████████████████████████████████████████████| 38/38 [00:00<00:00, 858.08it/s]/home/sarawalk/sdgs_py38/lib/python3.8/site-packages/bicm/graph_classes.py:1113: RuntimeWarning: invalid value encountered in divide\n",
      "  probs = node_xy * neighbor_xy / ((1 + node_xy) * (1 + neighbor_xy))\n",
      "/home/sarawalk/sdgs_py38/lib/python3.8/site-packages/bicm/graph_classes.py:1113: RuntimeWarning: invalid value encountered in divide\n",
      "  probs = node_xy * neighbor_xy / ((1 + node_xy) * (1 + neighbor_xy))\n",
      "\n"
     ]
    },
    {
     "name": "stdout",
     "output_type": "stream",
     "text": [
      "No V-motifs will be validated. Try increasing alpha\n"
     ]
    },
    {
     "name": "stderr",
     "output_type": "stream",
     "text": [
      "\n",
      "\n",
      "100%|█████████████████████████████████████████████████████████████████████████████████████████████████████████████████████████| 2/2 [00:00<00:00, 132.99it/s]\u001b[A\u001b[A/home/sarawalk/sdgs_py38/lib/python3.8/site-packages/bicm/graph_classes.py:1113: RuntimeWarning: invalid value encountered in divide\n",
      "  probs = node_xy * neighbor_xy / ((1 + node_xy) * (1 + neighbor_xy))\n",
      "\n"
     ]
    },
    {
     "name": "stdout",
     "output_type": "stream",
     "text": [
      "No V-motifs will be validated. Try increasing alpha\n",
      "\n",
      "                      WARNING: this system has at least a node that is disconnected or connected to all nodes\n",
      "                       of the opposite layer. This may cause some convergence issues.\n",
      "                      Please use the full mode providing a biadjacency matrix or an edgelist,\n",
      "                       or clean your data from these nodes. \n",
      "                      \n",
      "2017 Energy SDG 10: Reduced Inequality\r"
     ]
    },
    {
     "name": "stderr",
     "output_type": "stream",
     "text": [
      "\n",
      "\n",
      "  0%|                                                                                                                                 | 0/38 [00:00<?, ?it/s]\u001b[A\u001b[A/home/sarawalk/sdgs_py38/lib/python3.8/site-packages/bicm/graph_classes.py:1113: RuntimeWarning: invalid value encountered in divide\n",
      "  probs = node_xy * neighbor_xy / ((1 + node_xy) * (1 + neighbor_xy))\n",
      "/home/sarawalk/sdgs_py38/lib/python3.8/site-packages/bicm/graph_classes.py:1113: RuntimeWarning: invalid value encountered in divide\n",
      "  probs = node_xy * neighbor_xy / ((1 + node_xy) * (1 + neighbor_xy))\n",
      "/home/sarawalk/sdgs_py38/lib/python3.8/site-packages/bicm/graph_classes.py:1113: RuntimeWarning: invalid value encountered in divide\n",
      "  probs = node_xy * neighbor_xy / ((1 + node_xy) * (1 + neighbor_xy))\n",
      "100%|███████████████████████████████████████████████████████████████████████████████████████████████████████████████████████| 38/38 [00:00<00:00, 985.87it/s]/home/sarawalk/sdgs_py38/lib/python3.8/site-packages/bicm/graph_classes.py:1113: RuntimeWarning: invalid value encountered in divide\n",
      "  probs = node_xy * neighbor_xy / ((1 + node_xy) * (1 + neighbor_xy))\n",
      "\n"
     ]
    },
    {
     "name": "stdout",
     "output_type": "stream",
     "text": [
      "No V-motifs will be validated. Try increasing alpha\n"
     ]
    },
    {
     "name": "stderr",
     "output_type": "stream",
     "text": [
      "\n",
      "\n",
      "100%|█████████████████████████████████████████████████████████████████████████████████████████████████████████████████████████| 2/2 [00:00<00:00, 157.86it/s]\u001b[A\u001b[A\n",
      "/home/sarawalk/sdgs_py38/lib/python3.8/site-packages/bicm/graph_classes.py:1113: RuntimeWarning: invalid value encountered in divide\n",
      "  probs = node_xy * neighbor_xy / ((1 + node_xy) * (1 + neighbor_xy))\n"
     ]
    },
    {
     "name": "stdout",
     "output_type": "stream",
     "text": [
      "No V-motifs will be validated. Try increasing alpha\n",
      "\n",
      "                      WARNING: this system has at least a node that is disconnected or connected to all nodes\n",
      "                       of the opposite layer. This may cause some convergence issues.\n",
      "                      Please use the full mode providing a biadjacency matrix or an edgelist,\n",
      "                       or clean your data from these nodes. \n",
      "                      \n",
      "2017 Energy SDG 11: Sustainable Cities and Communities\r"
     ]
    },
    {
     "name": "stderr",
     "output_type": "stream",
     "text": [
      "\n",
      "\n",
      "  0%|                                                                                                                                 | 0/38 [00:00<?, ?it/s]\u001b[A\u001b[A/home/sarawalk/sdgs_py38/lib/python3.8/site-packages/bicm/graph_classes.py:1113: RuntimeWarning: invalid value encountered in divide\n",
      "  probs = node_xy * neighbor_xy / ((1 + node_xy) * (1 + neighbor_xy))\n",
      "/home/sarawalk/sdgs_py38/lib/python3.8/site-packages/bicm/graph_classes.py:1113: RuntimeWarning: invalid value encountered in divide\n",
      "  probs = node_xy * neighbor_xy / ((1 + node_xy) * (1 + neighbor_xy))\n",
      "/home/sarawalk/sdgs_py38/lib/python3.8/site-packages/bicm/graph_classes.py:1113: RuntimeWarning: invalid value encountered in divide\n",
      "  probs = node_xy * neighbor_xy / ((1 + node_xy) * (1 + neighbor_xy))\n",
      "/home/sarawalk/sdgs_py38/lib/python3.8/site-packages/bicm/graph_classes.py:1113: RuntimeWarning: invalid value encountered in divide\n",
      "  probs = node_xy * neighbor_xy / ((1 + node_xy) * (1 + neighbor_xy))\n",
      "100%|██████████████████████████████████████████████████████████████████████████████████████████████████████████████████████| 38/38 [00:00<00:00, 1008.64it/s]\n"
     ]
    },
    {
     "name": "stdout",
     "output_type": "stream",
     "text": [
      "No V-motifs will be validated. Try increasing alpha\n"
     ]
    },
    {
     "name": "stderr",
     "output_type": "stream",
     "text": [
      "\n",
      "\n",
      "100%|█████████████████████████████████████████████████████████████████████████████████████████████████████████████████████████| 2/2 [00:00<00:00, 120.01it/s]\u001b[A\u001b[A/home/sarawalk/sdgs_py38/lib/python3.8/site-packages/bicm/graph_classes.py:1113: RuntimeWarning: invalid value encountered in divide\n",
      "  probs = node_xy * neighbor_xy / ((1 + node_xy) * (1 + neighbor_xy))\n",
      "\n"
     ]
    },
    {
     "name": "stdout",
     "output_type": "stream",
     "text": [
      "No V-motifs will be validated. Try increasing alpha\n",
      "\n",
      "                      WARNING: this system has at least a node that is disconnected or connected to all nodes\n",
      "                       of the opposite layer. This may cause some convergence issues.\n",
      "                      Please use the full mode providing a biadjacency matrix or an edgelist,\n",
      "                       or clean your data from these nodes. \n",
      "                      \n",
      "2017 Energy SDG 12: Responsible Consumption and Production\r"
     ]
    },
    {
     "name": "stderr",
     "output_type": "stream",
     "text": [
      "\n",
      "\n",
      "  0%|                                                                                                                                 | 0/38 [00:00<?, ?it/s]\u001b[A\u001b[A/home/sarawalk/sdgs_py38/lib/python3.8/site-packages/bicm/graph_classes.py:1113: RuntimeWarning: invalid value encountered in divide\n",
      "  probs = node_xy * neighbor_xy / ((1 + node_xy) * (1 + neighbor_xy))\n",
      "/home/sarawalk/sdgs_py38/lib/python3.8/site-packages/bicm/graph_classes.py:1113: RuntimeWarning: invalid value encountered in divide\n",
      "  probs = node_xy * neighbor_xy / ((1 + node_xy) * (1 + neighbor_xy))\n",
      "/home/sarawalk/sdgs_py38/lib/python3.8/site-packages/bicm/graph_classes.py:1113: RuntimeWarning: invalid value encountered in divide\n",
      "  probs = node_xy * neighbor_xy / ((1 + node_xy) * (1 + neighbor_xy))\n",
      "/home/sarawalk/sdgs_py38/lib/python3.8/site-packages/bicm/graph_classes.py:1113: RuntimeWarning: invalid value encountered in divide\n",
      "  probs = node_xy * neighbor_xy / ((1 + node_xy) * (1 + neighbor_xy))\n",
      "100%|██████████████████████████████████████████████████████████████████████████████████████████████████████████████████████| 38/38 [00:00<00:00, 1071.54it/s]\n"
     ]
    },
    {
     "name": "stdout",
     "output_type": "stream",
     "text": [
      "No V-motifs will be validated. Try increasing alpha\n"
     ]
    },
    {
     "name": "stderr",
     "output_type": "stream",
     "text": [
      "\n",
      "\n",
      "100%|█████████████████████████████████████████████████████████████████████████████████████████████████████████████████████████| 2/2 [00:00<00:00, 158.26it/s]\u001b[A\u001b[A/home/sarawalk/sdgs_py38/lib/python3.8/site-packages/bicm/graph_classes.py:1113: RuntimeWarning: invalid value encountered in divide\n",
      "  probs = node_xy * neighbor_xy / ((1 + node_xy) * (1 + neighbor_xy))\n",
      "\n"
     ]
    },
    {
     "name": "stdout",
     "output_type": "stream",
     "text": [
      "No V-motifs will be validated. Try increasing alpha\n",
      "\n",
      "                      WARNING: this system has at least a node that is disconnected or connected to all nodes\n",
      "                       of the opposite layer. This may cause some convergence issues.\n",
      "                      Please use the full mode providing a biadjacency matrix or an edgelist,\n",
      "                       or clean your data from these nodes. \n",
      "                      \n",
      "2017 Energy SDG 13: Climate Action\r"
     ]
    },
    {
     "name": "stderr",
     "output_type": "stream",
     "text": [
      "\n",
      "\n",
      "  0%|                                                                                                                                 | 0/38 [00:00<?, ?it/s]\u001b[A\u001b[A/home/sarawalk/sdgs_py38/lib/python3.8/site-packages/bicm/graph_classes.py:1113: RuntimeWarning: invalid value encountered in divide\n",
      "  probs = node_xy * neighbor_xy / ((1 + node_xy) * (1 + neighbor_xy))\n",
      "/home/sarawalk/sdgs_py38/lib/python3.8/site-packages/bicm/graph_classes.py:1113: RuntimeWarning: invalid value encountered in divide\n",
      "  probs = node_xy * neighbor_xy / ((1 + node_xy) * (1 + neighbor_xy))\n",
      "/home/sarawalk/sdgs_py38/lib/python3.8/site-packages/bicm/graph_classes.py:1113: RuntimeWarning: invalid value encountered in divide\n",
      "  probs = node_xy * neighbor_xy / ((1 + node_xy) * (1 + neighbor_xy))\n",
      "/home/sarawalk/sdgs_py38/lib/python3.8/site-packages/bicm/graph_classes.py:1113: RuntimeWarning: invalid value encountered in divide\n",
      "  probs = node_xy * neighbor_xy / ((1 + node_xy) * (1 + neighbor_xy))\n",
      "100%|██████████████████████████████████████████████████████████████████████████████████████████████████████████████████████| 38/38 [00:00<00:00, 1142.13it/s]\n"
     ]
    },
    {
     "name": "stdout",
     "output_type": "stream",
     "text": [
      "No V-motifs will be validated. Try increasing alpha\n"
     ]
    },
    {
     "name": "stderr",
     "output_type": "stream",
     "text": [
      "\n",
      "\n",
      "100%|█████████████████████████████████████████████████████████████████████████████████████████████████████████████████████████| 2/2 [00:00<00:00, 162.37it/s]\u001b[A\u001b[A/home/sarawalk/sdgs_py38/lib/python3.8/site-packages/bicm/graph_classes.py:1113: RuntimeWarning: invalid value encountered in divide\n",
      "  probs = node_xy * neighbor_xy / ((1 + node_xy) * (1 + neighbor_xy))\n",
      "\n"
     ]
    },
    {
     "name": "stdout",
     "output_type": "stream",
     "text": [
      "No V-motifs will be validated. Try increasing alpha\n",
      "\n",
      "                      WARNING: this system has at least a node that is disconnected or connected to all nodes\n",
      "                       of the opposite layer. This may cause some convergence issues.\n",
      "                      Please use the full mode providing a biadjacency matrix or an edgelist,\n",
      "                       or clean your data from these nodes. \n",
      "                      \n",
      "2017 Energy SDG 14: Life Below Water\r"
     ]
    },
    {
     "name": "stderr",
     "output_type": "stream",
     "text": [
      "\n",
      "\n",
      "  0%|                                                                                                                                 | 0/38 [00:00<?, ?it/s]\u001b[A\u001b[A/home/sarawalk/sdgs_py38/lib/python3.8/site-packages/bicm/graph_classes.py:1113: RuntimeWarning: invalid value encountered in divide\n",
      "  probs = node_xy * neighbor_xy / ((1 + node_xy) * (1 + neighbor_xy))\n",
      "/home/sarawalk/sdgs_py38/lib/python3.8/site-packages/bicm/graph_classes.py:1113: RuntimeWarning: invalid value encountered in divide\n",
      "  probs = node_xy * neighbor_xy / ((1 + node_xy) * (1 + neighbor_xy))\n",
      "/home/sarawalk/sdgs_py38/lib/python3.8/site-packages/bicm/graph_classes.py:1113: RuntimeWarning: invalid value encountered in divide\n",
      "  probs = node_xy * neighbor_xy / ((1 + node_xy) * (1 + neighbor_xy))\n",
      "/home/sarawalk/sdgs_py38/lib/python3.8/site-packages/bicm/graph_classes.py:1113: RuntimeWarning: invalid value encountered in divide\n",
      "  probs = node_xy * neighbor_xy / ((1 + node_xy) * (1 + neighbor_xy))\n",
      "100%|██████████████████████████████████████████████████████████████████████████████████████████████████████████████████████| 38/38 [00:00<00:00, 1162.74it/s]\n"
     ]
    },
    {
     "name": "stdout",
     "output_type": "stream",
     "text": [
      "No V-motifs will be validated. Try increasing alpha\n"
     ]
    },
    {
     "name": "stderr",
     "output_type": "stream",
     "text": [
      "\n",
      "\n",
      "100%|█████████████████████████████████████████████████████████████████████████████████████████████████████████████████████████| 2/2 [00:00<00:00, 143.56it/s]\u001b[A\u001b[A/home/sarawalk/sdgs_py38/lib/python3.8/site-packages/bicm/graph_classes.py:1113: RuntimeWarning: invalid value encountered in divide\n",
      "  probs = node_xy * neighbor_xy / ((1 + node_xy) * (1 + neighbor_xy))\n",
      "\n"
     ]
    },
    {
     "name": "stdout",
     "output_type": "stream",
     "text": [
      "No V-motifs will be validated. Try increasing alpha\n",
      "\n",
      "                      WARNING: this system has at least a node that is disconnected or connected to all nodes\n",
      "                       of the opposite layer. This may cause some convergence issues.\n",
      "                      Please use the full mode providing a biadjacency matrix or an edgelist,\n",
      "                       or clean your data from these nodes. \n",
      "                      \n",
      "2017 Energy SDG 15: Life on Land\r"
     ]
    },
    {
     "name": "stderr",
     "output_type": "stream",
     "text": [
      "\n",
      "\n",
      "  0%|                                                                                                                                 | 0/38 [00:00<?, ?it/s]\u001b[A\u001b[A/home/sarawalk/sdgs_py38/lib/python3.8/site-packages/bicm/graph_classes.py:1113: RuntimeWarning: invalid value encountered in divide\n",
      "  probs = node_xy * neighbor_xy / ((1 + node_xy) * (1 + neighbor_xy))\n",
      "/home/sarawalk/sdgs_py38/lib/python3.8/site-packages/bicm/graph_classes.py:1113: RuntimeWarning: invalid value encountered in divide\n",
      "  probs = node_xy * neighbor_xy / ((1 + node_xy) * (1 + neighbor_xy))\n",
      "/home/sarawalk/sdgs_py38/lib/python3.8/site-packages/bicm/graph_classes.py:1113: RuntimeWarning: invalid value encountered in divide\n",
      "  probs = node_xy * neighbor_xy / ((1 + node_xy) * (1 + neighbor_xy))\n",
      "/home/sarawalk/sdgs_py38/lib/python3.8/site-packages/bicm/graph_classes.py:1113: RuntimeWarning: invalid value encountered in divide\n",
      "  probs = node_xy * neighbor_xy / ((1 + node_xy) * (1 + neighbor_xy))\n",
      "100%|███████████████████████████████████████████████████████████████████████████████████████████████████████████████████████| 38/38 [00:00<00:00, 946.78it/s]\n"
     ]
    },
    {
     "name": "stdout",
     "output_type": "stream",
     "text": [
      "No V-motifs will be validated. Try increasing alpha\n"
     ]
    },
    {
     "name": "stderr",
     "output_type": "stream",
     "text": [
      "\n",
      "\n",
      "100%|█████████████████████████████████████████████████████████████████████████████████████████████████████████████████████████| 2/2 [00:00<00:00, 125.07it/s]\u001b[A\u001b[A/home/sarawalk/sdgs_py38/lib/python3.8/site-packages/bicm/graph_classes.py:1113: RuntimeWarning: invalid value encountered in divide\n",
      "  probs = node_xy * neighbor_xy / ((1 + node_xy) * (1 + neighbor_xy))\n",
      "\n"
     ]
    },
    {
     "name": "stdout",
     "output_type": "stream",
     "text": [
      "No V-motifs will be validated. Try increasing alpha\n",
      "\n",
      "                      WARNING: this system has at least a node that is disconnected or connected to all nodes\n",
      "                       of the opposite layer. This may cause some convergence issues.\n",
      "                      Please use the full mode providing a biadjacency matrix or an edgelist,\n",
      "                       or clean your data from these nodes. \n",
      "                      \n",
      "2017 Energy SDG 16: Peace, Justice, and Strong Institutions\r"
     ]
    },
    {
     "name": "stderr",
     "output_type": "stream",
     "text": [
      "\n",
      "\n",
      "  0%|                                                                                                                                 | 0/38 [00:00<?, ?it/s]\u001b[A\u001b[A/home/sarawalk/sdgs_py38/lib/python3.8/site-packages/bicm/graph_classes.py:1113: RuntimeWarning: invalid value encountered in divide\n",
      "  probs = node_xy * neighbor_xy / ((1 + node_xy) * (1 + neighbor_xy))\n",
      "/home/sarawalk/sdgs_py38/lib/python3.8/site-packages/bicm/graph_classes.py:1113: RuntimeWarning: invalid value encountered in divide\n",
      "  probs = node_xy * neighbor_xy / ((1 + node_xy) * (1 + neighbor_xy))\n",
      "/home/sarawalk/sdgs_py38/lib/python3.8/site-packages/bicm/graph_classes.py:1113: RuntimeWarning: invalid value encountered in divide\n",
      "  probs = node_xy * neighbor_xy / ((1 + node_xy) * (1 + neighbor_xy))\n",
      "/home/sarawalk/sdgs_py38/lib/python3.8/site-packages/bicm/graph_classes.py:1113: RuntimeWarning: invalid value encountered in divide\n",
      "  probs = node_xy * neighbor_xy / ((1 + node_xy) * (1 + neighbor_xy))\n",
      "100%|██████████████████████████████████████████████████████████████████████████████████████████████████████████████████████| 38/38 [00:00<00:00, 1108.09it/s]\n"
     ]
    },
    {
     "name": "stdout",
     "output_type": "stream",
     "text": [
      "No V-motifs will be validated. Try increasing alpha\n"
     ]
    },
    {
     "name": "stderr",
     "output_type": "stream",
     "text": [
      "\n",
      "\n",
      "  0%|                                                                                                                                  | 0/2 [00:00<?, ?it/s]\u001b[A\u001b[A/home/sarawalk/sdgs_py38/lib/python3.8/site-packages/bicm/graph_classes.py:1113: RuntimeWarning: invalid value encountered in divide\n",
      "  probs = node_xy * neighbor_xy / ((1 + node_xy) * (1 + neighbor_xy))\n",
      "100%|█████████████████████████████████████████████████████████████████████████████████████████████████████████████████████████| 2/2 [00:00<00:00, 118.80it/s]\n"
     ]
    },
    {
     "name": "stdout",
     "output_type": "stream",
     "text": [
      "No V-motifs will be validated. Try increasing alpha\n",
      "\n",
      "                      WARNING: this system has at least a node that is disconnected or connected to all nodes\n",
      "                       of the opposite layer. This may cause some convergence issues.\n",
      "                      Please use the full mode providing a biadjacency matrix or an edgelist,\n",
      "                       or clean your data from these nodes. \n",
      "                      \n",
      "2017 Energy SDG 17: Partnerships for the Goals\r"
     ]
    },
    {
     "name": "stderr",
     "output_type": "stream",
     "text": [
      "\n",
      "\n",
      "  0%|                                                                                                                                 | 0/38 [00:00<?, ?it/s]\u001b[A\u001b[A/home/sarawalk/sdgs_py38/lib/python3.8/site-packages/bicm/graph_classes.py:1113: RuntimeWarning: invalid value encountered in divide\n",
      "  probs = node_xy * neighbor_xy / ((1 + node_xy) * (1 + neighbor_xy))\n",
      "/home/sarawalk/sdgs_py38/lib/python3.8/site-packages/bicm/graph_classes.py:1113: RuntimeWarning: invalid value encountered in divide\n",
      "  probs = node_xy * neighbor_xy / ((1 + node_xy) * (1 + neighbor_xy))\n",
      "/home/sarawalk/sdgs_py38/lib/python3.8/site-packages/bicm/graph_classes.py:1113: RuntimeWarning: invalid value encountered in divide\n",
      "  probs = node_xy * neighbor_xy / ((1 + node_xy) * (1 + neighbor_xy))\n",
      "/home/sarawalk/sdgs_py38/lib/python3.8/site-packages/bicm/graph_classes.py:1113: RuntimeWarning: invalid value encountered in divide\n",
      "  probs = node_xy * neighbor_xy / ((1 + node_xy) * (1 + neighbor_xy))\n",
      "100%|██████████████████████████████████████████████████████████████████████████████████████████████████████████████████████| 38/38 [00:00<00:00, 1091.99it/s]\n"
     ]
    },
    {
     "name": "stdout",
     "output_type": "stream",
     "text": [
      "No V-motifs will be validated. Try increasing alpha\n"
     ]
    },
    {
     "name": "stderr",
     "output_type": "stream",
     "text": [
      "\n",
      "\n",
      "100%|█████████████████████████████████████████████████████████████████████████████████████████████████████████████████████████| 2/2 [00:00<00:00, 158.44it/s]\u001b[A\u001b[A/home/sarawalk/sdgs_py38/lib/python3.8/site-packages/bicm/graph_classes.py:1113: RuntimeWarning: invalid value encountered in divide\n",
      "  probs = node_xy * neighbor_xy / ((1 + node_xy) * (1 + neighbor_xy))\n",
      "\n"
     ]
    },
    {
     "name": "stdout",
     "output_type": "stream",
     "text": [
      "No V-motifs will be validated. Try increasing alpha\n",
      "\n",
      "                      WARNING: this system has at least a node that is disconnected or connected to all nodes\n",
      "                       of the opposite layer. This may cause some convergence issues.\n",
      "                      Please use the full mode providing a biadjacency matrix or an edgelist,\n",
      "                       or clean your data from these nodes. \n",
      "                      \n",
      "2017 Utilities SDG 1: No Poverty\r"
     ]
    },
    {
     "name": "stderr",
     "output_type": "stream",
     "text": [
      "\n",
      "\n",
      "  0%|                                                                                                                                 | 0/37 [00:00<?, ?it/s]\u001b[A\u001b[A/home/sarawalk/sdgs_py38/lib/python3.8/site-packages/bicm/graph_classes.py:1113: RuntimeWarning: invalid value encountered in divide\n",
      "  probs = node_xy * neighbor_xy / ((1 + node_xy) * (1 + neighbor_xy))\n",
      "/home/sarawalk/sdgs_py38/lib/python3.8/site-packages/bicm/graph_classes.py:1113: RuntimeWarning: invalid value encountered in divide\n",
      "  probs = node_xy * neighbor_xy / ((1 + node_xy) * (1 + neighbor_xy))\n",
      "100%|██████████████████████████████████████████████████████████████████████████████████████████████████████████████████████| 37/37 [00:00<00:00, 1548.04it/s]/home/sarawalk/sdgs_py38/lib/python3.8/site-packages/bicm/graph_classes.py:1113: RuntimeWarning: invalid value encountered in divide\n",
      "  probs = node_xy * neighbor_xy / ((1 + node_xy) * (1 + neighbor_xy))\n",
      "/home/sarawalk/sdgs_py38/lib/python3.8/site-packages/bicm/graph_classes.py:1113: RuntimeWarning: invalid value encountered in divide\n",
      "  probs = node_xy * neighbor_xy / ((1 + node_xy) * (1 + neighbor_xy))\n",
      "\n"
     ]
    },
    {
     "name": "stdout",
     "output_type": "stream",
     "text": [
      "No V-motifs will be validated. Try increasing alpha\n"
     ]
    },
    {
     "name": "stderr",
     "output_type": "stream",
     "text": [
      "\n",
      "\n",
      "  0%|                                                                                                                                  | 0/3 [00:00<?, ?it/s]\u001b[A\u001b[A/home/sarawalk/sdgs_py38/lib/python3.8/site-packages/bicm/graph_classes.py:1113: RuntimeWarning: invalid value encountered in divide\n",
      "  probs = node_xy * neighbor_xy / ((1 + node_xy) * (1 + neighbor_xy))\n",
      "/home/sarawalk/sdgs_py38/lib/python3.8/site-packages/bicm/graph_classes.py:1113: RuntimeWarning: invalid value encountered in divide\n",
      "  probs = node_xy * neighbor_xy / ((1 + node_xy) * (1 + neighbor_xy))\n",
      "100%|█████████████████████████████████████████████████████████████████████████████████████████████████████████████████████████| 3/3 [00:00<00:00, 123.17it/s]\n"
     ]
    },
    {
     "name": "stdout",
     "output_type": "stream",
     "text": [
      "No V-motifs will be validated. Try increasing alpha\n",
      "\n",
      "                      WARNING: this system has at least a node that is disconnected or connected to all nodes\n",
      "                       of the opposite layer. This may cause some convergence issues.\n",
      "                      Please use the full mode providing a biadjacency matrix or an edgelist,\n",
      "                       or clean your data from these nodes. \n",
      "                      \n",
      "2017 Utilities SDG 3: Good Health and Well-being\r"
     ]
    },
    {
     "name": "stderr",
     "output_type": "stream",
     "text": [
      "\n",
      "\n",
      "  0%|                                                                                                                                 | 0/37 [00:00<?, ?it/s]\u001b[A\u001b[A/home/sarawalk/sdgs_py38/lib/python3.8/site-packages/bicm/graph_classes.py:1113: RuntimeWarning: invalid value encountered in divide\n",
      "  probs = node_xy * neighbor_xy / ((1 + node_xy) * (1 + neighbor_xy))\n",
      "/home/sarawalk/sdgs_py38/lib/python3.8/site-packages/bicm/graph_classes.py:1113: RuntimeWarning: invalid value encountered in divide\n",
      "  probs = node_xy * neighbor_xy / ((1 + node_xy) * (1 + neighbor_xy))\n",
      "/home/sarawalk/sdgs_py38/lib/python3.8/site-packages/bicm/graph_classes.py:1113: RuntimeWarning: invalid value encountered in divide\n",
      "  probs = node_xy * neighbor_xy / ((1 + node_xy) * (1 + neighbor_xy))\n",
      "/home/sarawalk/sdgs_py38/lib/python3.8/site-packages/bicm/graph_classes.py:1113: RuntimeWarning: invalid value encountered in divide\n",
      "  probs = node_xy * neighbor_xy / ((1 + node_xy) * (1 + neighbor_xy))\n",
      "100%|██████████████████████████████████████████████████████████████████████████████████████████████████████████████████████| 37/37 [00:00<00:00, 1159.89it/s]\n"
     ]
    },
    {
     "name": "stdout",
     "output_type": "stream",
     "text": [
      "No V-motifs will be validated. Try increasing alpha\n"
     ]
    },
    {
     "name": "stderr",
     "output_type": "stream",
     "text": [
      "\n",
      "\n",
      "  0%|                                                                                                                                  | 0/3 [00:00<?, ?it/s]\u001b[A\u001b[A/home/sarawalk/sdgs_py38/lib/python3.8/site-packages/bicm/graph_classes.py:1113: RuntimeWarning: invalid value encountered in divide\n",
      "  probs = node_xy * neighbor_xy / ((1 + node_xy) * (1 + neighbor_xy))\n",
      "100%|█████████████████████████████████████████████████████████████████████████████████████████████████████████████████████████| 3/3 [00:00<00:00, 190.50it/s]/home/sarawalk/sdgs_py38/lib/python3.8/site-packages/bicm/graph_classes.py:1113: RuntimeWarning: invalid value encountered in divide\n",
      "  probs = node_xy * neighbor_xy / ((1 + node_xy) * (1 + neighbor_xy))\n",
      "\n"
     ]
    },
    {
     "name": "stdout",
     "output_type": "stream",
     "text": [
      "No V-motifs will be validated. Try increasing alpha\n",
      "\n",
      "                      WARNING: this system has at least a node that is disconnected or connected to all nodes\n",
      "                       of the opposite layer. This may cause some convergence issues.\n",
      "                      Please use the full mode providing a biadjacency matrix or an edgelist,\n",
      "                       or clean your data from these nodes. \n",
      "                      \n",
      "2017 Utilities SDG 4: Quality Education\r"
     ]
    },
    {
     "name": "stderr",
     "output_type": "stream",
     "text": [
      "\n",
      "\n",
      "  0%|                                                                                                                                 | 0/37 [00:00<?, ?it/s]\u001b[A\u001b[A/home/sarawalk/sdgs_py38/lib/python3.8/site-packages/bicm/graph_classes.py:1113: RuntimeWarning: invalid value encountered in divide\n",
      "  probs = node_xy * neighbor_xy / ((1 + node_xy) * (1 + neighbor_xy))\n",
      "/home/sarawalk/sdgs_py38/lib/python3.8/site-packages/bicm/graph_classes.py:1113: RuntimeWarning: invalid value encountered in divide\n",
      "  probs = node_xy * neighbor_xy / ((1 + node_xy) * (1 + neighbor_xy))\n",
      "/home/sarawalk/sdgs_py38/lib/python3.8/site-packages/bicm/graph_classes.py:1113: RuntimeWarning: invalid value encountered in divide\n",
      "  probs = node_xy * neighbor_xy / ((1 + node_xy) * (1 + neighbor_xy))\n",
      "/home/sarawalk/sdgs_py38/lib/python3.8/site-packages/bicm/graph_classes.py:1113: RuntimeWarning: invalid value encountered in divide\n",
      "  probs = node_xy * neighbor_xy / ((1 + node_xy) * (1 + neighbor_xy))\n",
      "100%|██████████████████████████████████████████████████████████████████████████████████████████████████████████████████████| 37/37 [00:00<00:00, 1484.41it/s]\n"
     ]
    },
    {
     "name": "stdout",
     "output_type": "stream",
     "text": [
      "No V-motifs will be validated. Try increasing alpha\n"
     ]
    },
    {
     "name": "stderr",
     "output_type": "stream",
     "text": [
      "\n",
      "\n",
      "  0%|                                                                                                                                  | 0/3 [00:00<?, ?it/s]\u001b[A\u001b[A/home/sarawalk/sdgs_py38/lib/python3.8/site-packages/bicm/graph_classes.py:1113: RuntimeWarning: invalid value encountered in divide\n",
      "  probs = node_xy * neighbor_xy / ((1 + node_xy) * (1 + neighbor_xy))\n",
      "/home/sarawalk/sdgs_py38/lib/python3.8/site-packages/bicm/graph_classes.py:1113: RuntimeWarning: invalid value encountered in divide\n",
      "  probs = node_xy * neighbor_xy / ((1 + node_xy) * (1 + neighbor_xy))\n",
      "100%|█████████████████████████████████████████████████████████████████████████████████████████████████████████████████████████| 3/3 [00:00<00:00, 143.87it/s]\n"
     ]
    },
    {
     "name": "stdout",
     "output_type": "stream",
     "text": [
      "No V-motifs will be validated. Try increasing alpha\n",
      "\n",
      "                      WARNING: this system has at least a node that is disconnected or connected to all nodes\n",
      "                       of the opposite layer. This may cause some convergence issues.\n",
      "                      Please use the full mode providing a biadjacency matrix or an edgelist,\n",
      "                       or clean your data from these nodes. \n",
      "                      \n",
      "2017 Utilities SDG 5: Gender Equality\r"
     ]
    },
    {
     "name": "stderr",
     "output_type": "stream",
     "text": [
      "\n",
      "\n",
      "  0%|                                                                                                                                 | 0/37 [00:00<?, ?it/s]\u001b[A\u001b[A/home/sarawalk/sdgs_py38/lib/python3.8/site-packages/bicm/graph_classes.py:1113: RuntimeWarning: invalid value encountered in divide\n",
      "  probs = node_xy * neighbor_xy / ((1 + node_xy) * (1 + neighbor_xy))\n",
      "/home/sarawalk/sdgs_py38/lib/python3.8/site-packages/bicm/graph_classes.py:1113: RuntimeWarning: invalid value encountered in divide\n",
      "  probs = node_xy * neighbor_xy / ((1 + node_xy) * (1 + neighbor_xy))\n",
      "/home/sarawalk/sdgs_py38/lib/python3.8/site-packages/bicm/graph_classes.py:1113: RuntimeWarning: invalid value encountered in divide\n",
      "  probs = node_xy * neighbor_xy / ((1 + node_xy) * (1 + neighbor_xy))\n",
      "/home/sarawalk/sdgs_py38/lib/python3.8/site-packages/bicm/graph_classes.py:1113: RuntimeWarning: invalid value encountered in divide\n",
      "  probs = node_xy * neighbor_xy / ((1 + node_xy) * (1 + neighbor_xy))\n",
      "100%|██████████████████████████████████████████████████████████████████████████████████████████████████████████████████████| 37/37 [00:00<00:00, 1473.47it/s]\n"
     ]
    },
    {
     "name": "stdout",
     "output_type": "stream",
     "text": [
      "No V-motifs will be validated. Try increasing alpha\n"
     ]
    },
    {
     "name": "stderr",
     "output_type": "stream",
     "text": [
      "\n",
      "\n",
      "100%|█████████████████████████████████████████████████████████████████████████████████████████████████████████████████████████| 3/3 [00:00<00:00, 178.44it/s]\u001b[A\u001b[A/home/sarawalk/sdgs_py38/lib/python3.8/site-packages/bicm/graph_classes.py:1113: RuntimeWarning: invalid value encountered in divide\n",
      "  probs = node_xy * neighbor_xy / ((1 + node_xy) * (1 + neighbor_xy))\n",
      "/home/sarawalk/sdgs_py38/lib/python3.8/site-packages/bicm/graph_classes.py:1113: RuntimeWarning: invalid value encountered in divide\n",
      "  probs = node_xy * neighbor_xy / ((1 + node_xy) * (1 + neighbor_xy))\n",
      "\n"
     ]
    },
    {
     "name": "stdout",
     "output_type": "stream",
     "text": [
      "No V-motifs will be validated. Try increasing alpha\n",
      "\n",
      "                      WARNING: this system has at least a node that is disconnected or connected to all nodes\n",
      "                       of the opposite layer. This may cause some convergence issues.\n",
      "                      Please use the full mode providing a biadjacency matrix or an edgelist,\n",
      "                       or clean your data from these nodes. \n",
      "                      \n",
      "2017 Utilities SDG 6: Clean Water and Sanitation\r"
     ]
    },
    {
     "name": "stderr",
     "output_type": "stream",
     "text": [
      "\n",
      "\n",
      "  0%|                                                                                                                                 | 0/37 [00:00<?, ?it/s]\u001b[A\u001b[A/home/sarawalk/sdgs_py38/lib/python3.8/site-packages/bicm/graph_classes.py:1113: RuntimeWarning: invalid value encountered in divide\n",
      "  probs = node_xy * neighbor_xy / ((1 + node_xy) * (1 + neighbor_xy))\n",
      "/home/sarawalk/sdgs_py38/lib/python3.8/site-packages/bicm/graph_classes.py:1113: RuntimeWarning: invalid value encountered in divide\n",
      "  probs = node_xy * neighbor_xy / ((1 + node_xy) * (1 + neighbor_xy))\n",
      "/home/sarawalk/sdgs_py38/lib/python3.8/site-packages/bicm/graph_classes.py:1113: RuntimeWarning: invalid value encountered in divide\n",
      "  probs = node_xy * neighbor_xy / ((1 + node_xy) * (1 + neighbor_xy))\n",
      "/home/sarawalk/sdgs_py38/lib/python3.8/site-packages/bicm/graph_classes.py:1113: RuntimeWarning: invalid value encountered in divide\n",
      "  probs = node_xy * neighbor_xy / ((1 + node_xy) * (1 + neighbor_xy))\n",
      "100%|██████████████████████████████████████████████████████████████████████████████████████████████████████████████████████| 37/37 [00:00<00:00, 1238.78it/s]\n"
     ]
    },
    {
     "name": "stdout",
     "output_type": "stream",
     "text": [
      "No V-motifs will be validated. Try increasing alpha\n"
     ]
    },
    {
     "name": "stderr",
     "output_type": "stream",
     "text": [
      "\n",
      "\n",
      "  0%|                                                                                                                                  | 0/3 [00:00<?, ?it/s]\u001b[A\u001b[A/home/sarawalk/sdgs_py38/lib/python3.8/site-packages/bicm/graph_classes.py:1113: RuntimeWarning: invalid value encountered in divide\n",
      "  probs = node_xy * neighbor_xy / ((1 + node_xy) * (1 + neighbor_xy))\n",
      "100%|█████████████████████████████████████████████████████████████████████████████████████████████████████████████████████████| 3/3 [00:00<00:00, 141.88it/s]/home/sarawalk/sdgs_py38/lib/python3.8/site-packages/bicm/graph_classes.py:1113: RuntimeWarning: invalid value encountered in divide\n",
      "  probs = node_xy * neighbor_xy / ((1 + node_xy) * (1 + neighbor_xy))\n",
      "\n"
     ]
    },
    {
     "name": "stdout",
     "output_type": "stream",
     "text": [
      "No V-motifs will be validated. Try increasing alpha\n",
      "\n",
      "                      WARNING: this system has at least a node that is disconnected or connected to all nodes\n",
      "                       of the opposite layer. This may cause some convergence issues.\n",
      "                      Please use the full mode providing a biadjacency matrix or an edgelist,\n",
      "                       or clean your data from these nodes. \n",
      "                      \n",
      "2017 Utilities SDG 7: Affordable and Clean Energy\r"
     ]
    },
    {
     "name": "stderr",
     "output_type": "stream",
     "text": [
      "\n",
      "\n",
      "  0%|                                                                                                                                 | 0/37 [00:00<?, ?it/s]\u001b[A\u001b[A/home/sarawalk/sdgs_py38/lib/python3.8/site-packages/bicm/graph_classes.py:1113: RuntimeWarning: invalid value encountered in divide\n",
      "  probs = node_xy * neighbor_xy / ((1 + node_xy) * (1 + neighbor_xy))\n",
      "/home/sarawalk/sdgs_py38/lib/python3.8/site-packages/bicm/graph_classes.py:1113: RuntimeWarning: invalid value encountered in divide\n",
      "  probs = node_xy * neighbor_xy / ((1 + node_xy) * (1 + neighbor_xy))\n",
      "/home/sarawalk/sdgs_py38/lib/python3.8/site-packages/bicm/graph_classes.py:1113: RuntimeWarning: invalid value encountered in divide\n",
      "  probs = node_xy * neighbor_xy / ((1 + node_xy) * (1 + neighbor_xy))\n",
      "/home/sarawalk/sdgs_py38/lib/python3.8/site-packages/bicm/graph_classes.py:1113: RuntimeWarning: invalid value encountered in divide\n",
      "  probs = node_xy * neighbor_xy / ((1 + node_xy) * (1 + neighbor_xy))\n",
      "100%|██████████████████████████████████████████████████████████████████████████████████████████████████████████████████████| 37/37 [00:00<00:00, 1363.14it/s]\n"
     ]
    },
    {
     "name": "stdout",
     "output_type": "stream",
     "text": [
      "No V-motifs will be validated. Try increasing alpha\n"
     ]
    },
    {
     "name": "stderr",
     "output_type": "stream",
     "text": [
      "\n",
      "\n",
      "  0%|                                                                                                                                  | 0/3 [00:00<?, ?it/s]\u001b[A\u001b[A/home/sarawalk/sdgs_py38/lib/python3.8/site-packages/bicm/graph_classes.py:1113: RuntimeWarning: invalid value encountered in divide\n",
      "  probs = node_xy * neighbor_xy / ((1 + node_xy) * (1 + neighbor_xy))\n",
      "/home/sarawalk/sdgs_py38/lib/python3.8/site-packages/bicm/graph_classes.py:1113: RuntimeWarning: invalid value encountered in divide\n",
      "  probs = node_xy * neighbor_xy / ((1 + node_xy) * (1 + neighbor_xy))\n",
      "100%|█████████████████████████████████████████████████████████████████████████████████████████████████████████████████████████| 3/3 [00:00<00:00, 139.76it/s]\n"
     ]
    },
    {
     "name": "stdout",
     "output_type": "stream",
     "text": [
      "No V-motifs will be validated. Try increasing alpha\n",
      "\n",
      "                      WARNING: this system has at least a node that is disconnected or connected to all nodes\n",
      "                       of the opposite layer. This may cause some convergence issues.\n",
      "                      Please use the full mode providing a biadjacency matrix or an edgelist,\n",
      "                       or clean your data from these nodes. \n",
      "                      \n",
      "2017 Utilities SDG 8: Decent Work and Economic Growth\r"
     ]
    },
    {
     "name": "stderr",
     "output_type": "stream",
     "text": [
      "\n",
      "\n",
      "  0%|                                                                                                                                 | 0/37 [00:00<?, ?it/s]\u001b[A\u001b[A/home/sarawalk/sdgs_py38/lib/python3.8/site-packages/bicm/graph_classes.py:1113: RuntimeWarning: invalid value encountered in divide\n",
      "  probs = node_xy * neighbor_xy / ((1 + node_xy) * (1 + neighbor_xy))\n",
      "/home/sarawalk/sdgs_py38/lib/python3.8/site-packages/bicm/graph_classes.py:1113: RuntimeWarning: invalid value encountered in divide\n",
      "  probs = node_xy * neighbor_xy / ((1 + node_xy) * (1 + neighbor_xy))\n",
      "/home/sarawalk/sdgs_py38/lib/python3.8/site-packages/bicm/graph_classes.py:1113: RuntimeWarning: invalid value encountered in divide\n",
      "  probs = node_xy * neighbor_xy / ((1 + node_xy) * (1 + neighbor_xy))\n",
      "/home/sarawalk/sdgs_py38/lib/python3.8/site-packages/bicm/graph_classes.py:1113: RuntimeWarning: invalid value encountered in divide\n",
      "  probs = node_xy * neighbor_xy / ((1 + node_xy) * (1 + neighbor_xy))\n",
      "100%|██████████████████████████████████████████████████████████████████████████████████████████████████████████████████████| 37/37 [00:00<00:00, 1421.86it/s]\n"
     ]
    },
    {
     "name": "stdout",
     "output_type": "stream",
     "text": [
      "No V-motifs will be validated. Try increasing alpha\n"
     ]
    },
    {
     "name": "stderr",
     "output_type": "stream",
     "text": [
      "\n",
      "\n",
      "  0%|                                                                                                                                  | 0/3 [00:00<?, ?it/s]\u001b[A\u001b[A/home/sarawalk/sdgs_py38/lib/python3.8/site-packages/bicm/graph_classes.py:1113: RuntimeWarning: invalid value encountered in divide\n",
      "  probs = node_xy * neighbor_xy / ((1 + node_xy) * (1 + neighbor_xy))\n",
      "/home/sarawalk/sdgs_py38/lib/python3.8/site-packages/bicm/graph_classes.py:1113: RuntimeWarning: invalid value encountered in divide\n",
      "  probs = node_xy * neighbor_xy / ((1 + node_xy) * (1 + neighbor_xy))\n",
      "100%|█████████████████████████████████████████████████████████████████████████████████████████████████████████████████████████| 3/3 [00:00<00:00, 162.68it/s]\n"
     ]
    },
    {
     "name": "stdout",
     "output_type": "stream",
     "text": [
      "No V-motifs will be validated. Try increasing alpha\n",
      "\n",
      "                      WARNING: this system has at least a node that is disconnected or connected to all nodes\n",
      "                       of the opposite layer. This may cause some convergence issues.\n",
      "                      Please use the full mode providing a biadjacency matrix or an edgelist,\n",
      "                       or clean your data from these nodes. \n",
      "                      \n",
      "2017 Utilities SDG 9: Industry, Innovation, and Infrastructure\r"
     ]
    },
    {
     "name": "stderr",
     "output_type": "stream",
     "text": [
      "\n",
      "\n",
      "  0%|                                                                                                                                 | 0/37 [00:00<?, ?it/s]\u001b[A\u001b[A/home/sarawalk/sdgs_py38/lib/python3.8/site-packages/bicm/graph_classes.py:1113: RuntimeWarning: invalid value encountered in divide\n",
      "  probs = node_xy * neighbor_xy / ((1 + node_xy) * (1 + neighbor_xy))\n",
      "/home/sarawalk/sdgs_py38/lib/python3.8/site-packages/bicm/graph_classes.py:1113: RuntimeWarning: invalid value encountered in divide\n",
      "  probs = node_xy * neighbor_xy / ((1 + node_xy) * (1 + neighbor_xy))\n",
      "/home/sarawalk/sdgs_py38/lib/python3.8/site-packages/bicm/graph_classes.py:1113: RuntimeWarning: invalid value encountered in divide\n",
      "  probs = node_xy * neighbor_xy / ((1 + node_xy) * (1 + neighbor_xy))\n",
      "/home/sarawalk/sdgs_py38/lib/python3.8/site-packages/bicm/graph_classes.py:1113: RuntimeWarning: invalid value encountered in divide\n",
      "  probs = node_xy * neighbor_xy / ((1 + node_xy) * (1 + neighbor_xy))\n",
      "100%|██████████████████████████████████████████████████████████████████████████████████████████████████████████████████████| 37/37 [00:00<00:00, 1391.69it/s]\n"
     ]
    },
    {
     "name": "stdout",
     "output_type": "stream",
     "text": [
      "No V-motifs will be validated. Try increasing alpha\n"
     ]
    },
    {
     "name": "stderr",
     "output_type": "stream",
     "text": [
      "\n",
      "\n",
      "  0%|                                                                                                                                  | 0/3 [00:00<?, ?it/s]\u001b[A\u001b[A/home/sarawalk/sdgs_py38/lib/python3.8/site-packages/bicm/graph_classes.py:1113: RuntimeWarning: invalid value encountered in divide\n",
      "  probs = node_xy * neighbor_xy / ((1 + node_xy) * (1 + neighbor_xy))\n",
      "100%|█████████████████████████████████████████████████████████████████████████████████████████████████████████████████████████| 3/3 [00:00<00:00, 231.59it/s]/home/sarawalk/sdgs_py38/lib/python3.8/site-packages/bicm/graph_classes.py:1113: RuntimeWarning: invalid value encountered in divide\n",
      "  probs = node_xy * neighbor_xy / ((1 + node_xy) * (1 + neighbor_xy))\n",
      "\n"
     ]
    },
    {
     "name": "stdout",
     "output_type": "stream",
     "text": [
      "No V-motifs will be validated. Try increasing alpha\n",
      "\n",
      "                      WARNING: this system has at least a node that is disconnected or connected to all nodes\n",
      "                       of the opposite layer. This may cause some convergence issues.\n",
      "                      Please use the full mode providing a biadjacency matrix or an edgelist,\n",
      "                       or clean your data from these nodes. \n",
      "                      \n",
      "2017 Utilities SDG 10: Reduced Inequality\r"
     ]
    },
    {
     "name": "stderr",
     "output_type": "stream",
     "text": [
      "\n",
      "\n",
      "  0%|                                                                                                                                 | 0/37 [00:00<?, ?it/s]\u001b[A\u001b[A/home/sarawalk/sdgs_py38/lib/python3.8/site-packages/bicm/graph_classes.py:1113: RuntimeWarning: invalid value encountered in divide\n",
      "  probs = node_xy * neighbor_xy / ((1 + node_xy) * (1 + neighbor_xy))\n",
      "/home/sarawalk/sdgs_py38/lib/python3.8/site-packages/bicm/graph_classes.py:1113: RuntimeWarning: invalid value encountered in divide\n",
      "  probs = node_xy * neighbor_xy / ((1 + node_xy) * (1 + neighbor_xy))\n",
      "/home/sarawalk/sdgs_py38/lib/python3.8/site-packages/bicm/graph_classes.py:1113: RuntimeWarning: invalid value encountered in divide\n",
      "  probs = node_xy * neighbor_xy / ((1 + node_xy) * (1 + neighbor_xy))\n",
      "100%|██████████████████████████████████████████████████████████████████████████████████████████████████████████████████████| 37/37 [00:00<00:00, 1515.08it/s]/home/sarawalk/sdgs_py38/lib/python3.8/site-packages/bicm/graph_classes.py:1113: RuntimeWarning: invalid value encountered in divide\n",
      "  probs = node_xy * neighbor_xy / ((1 + node_xy) * (1 + neighbor_xy))\n",
      "\n"
     ]
    },
    {
     "name": "stdout",
     "output_type": "stream",
     "text": [
      "No V-motifs will be validated. Try increasing alpha\n"
     ]
    },
    {
     "name": "stderr",
     "output_type": "stream",
     "text": [
      "\n",
      "\n",
      "  0%|                                                                                                                                  | 0/3 [00:00<?, ?it/s]\u001b[A\u001b[A/home/sarawalk/sdgs_py38/lib/python3.8/site-packages/bicm/graph_classes.py:1113: RuntimeWarning: invalid value encountered in divide\n",
      "  probs = node_xy * neighbor_xy / ((1 + node_xy) * (1 + neighbor_xy))\n",
      "100%|█████████████████████████████████████████████████████████████████████████████████████████████████████████████████████████| 3/3 [00:00<00:00, 223.01it/s]/home/sarawalk/sdgs_py38/lib/python3.8/site-packages/bicm/graph_classes.py:1113: RuntimeWarning: invalid value encountered in divide\n",
      "  probs = node_xy * neighbor_xy / ((1 + node_xy) * (1 + neighbor_xy))\n",
      "\n"
     ]
    },
    {
     "name": "stdout",
     "output_type": "stream",
     "text": [
      "No V-motifs will be validated. Try increasing alpha\n",
      "\n",
      "                      WARNING: this system has at least a node that is disconnected or connected to all nodes\n",
      "                       of the opposite layer. This may cause some convergence issues.\n",
      "                      Please use the full mode providing a biadjacency matrix or an edgelist,\n",
      "                       or clean your data from these nodes. \n",
      "                      \n",
      "2017 Utilities SDG 11: Sustainable Cities and Communities\r"
     ]
    },
    {
     "name": "stderr",
     "output_type": "stream",
     "text": [
      "\n",
      "\n",
      "  0%|                                                                                                                                 | 0/37 [00:00<?, ?it/s]\u001b[A\u001b[A/home/sarawalk/sdgs_py38/lib/python3.8/site-packages/bicm/graph_classes.py:1113: RuntimeWarning: invalid value encountered in divide\n",
      "  probs = node_xy * neighbor_xy / ((1 + node_xy) * (1 + neighbor_xy))\n",
      "/home/sarawalk/sdgs_py38/lib/python3.8/site-packages/bicm/graph_classes.py:1113: RuntimeWarning: invalid value encountered in divide\n",
      "  probs = node_xy * neighbor_xy / ((1 + node_xy) * (1 + neighbor_xy))\n",
      "100%|██████████████████████████████████████████████████████████████████████████████████████████████████████████████████████| 37/37 [00:00<00:00, 1429.34it/s]/home/sarawalk/sdgs_py38/lib/python3.8/site-packages/bicm/graph_classes.py:1113: RuntimeWarning: invalid value encountered in divide\n",
      "  probs = node_xy * neighbor_xy / ((1 + node_xy) * (1 + neighbor_xy))\n",
      "/home/sarawalk/sdgs_py38/lib/python3.8/site-packages/bicm/graph_classes.py:1113: RuntimeWarning: invalid value encountered in divide\n",
      "  probs = node_xy * neighbor_xy / ((1 + node_xy) * (1 + neighbor_xy))\n",
      "\n"
     ]
    },
    {
     "name": "stdout",
     "output_type": "stream",
     "text": [
      "No V-motifs will be validated. Try increasing alpha\n"
     ]
    },
    {
     "name": "stderr",
     "output_type": "stream",
     "text": [
      "\n",
      "\n",
      "  0%|                                                                                                                                  | 0/3 [00:00<?, ?it/s]\u001b[A\u001b[A/home/sarawalk/sdgs_py38/lib/python3.8/site-packages/bicm/graph_classes.py:1113: RuntimeWarning: invalid value encountered in divide\n",
      "  probs = node_xy * neighbor_xy / ((1 + node_xy) * (1 + neighbor_xy))\n",
      "100%|█████████████████████████████████████████████████████████████████████████████████████████████████████████████████████████| 3/3 [00:00<00:00, 204.43it/s]/home/sarawalk/sdgs_py38/lib/python3.8/site-packages/bicm/graph_classes.py:1113: RuntimeWarning: invalid value encountered in divide\n",
      "  probs = node_xy * neighbor_xy / ((1 + node_xy) * (1 + neighbor_xy))\n",
      "\n"
     ]
    },
    {
     "name": "stdout",
     "output_type": "stream",
     "text": [
      "No V-motifs will be validated. Try increasing alpha\n",
      "\n",
      "                      WARNING: this system has at least a node that is disconnected or connected to all nodes\n",
      "                       of the opposite layer. This may cause some convergence issues.\n",
      "                      Please use the full mode providing a biadjacency matrix or an edgelist,\n",
      "                       or clean your data from these nodes. \n",
      "                      \n",
      "2017 Utilities SDG 12: Responsible Consumption and Production\r"
     ]
    },
    {
     "name": "stderr",
     "output_type": "stream",
     "text": [
      "\n",
      "\n",
      "  0%|                                                                                                                                 | 0/37 [00:00<?, ?it/s]\u001b[A\u001b[A/home/sarawalk/sdgs_py38/lib/python3.8/site-packages/bicm/graph_classes.py:1113: RuntimeWarning: invalid value encountered in divide\n",
      "  probs = node_xy * neighbor_xy / ((1 + node_xy) * (1 + neighbor_xy))\n",
      "/home/sarawalk/sdgs_py38/lib/python3.8/site-packages/bicm/graph_classes.py:1113: RuntimeWarning: invalid value encountered in divide\n",
      "  probs = node_xy * neighbor_xy / ((1 + node_xy) * (1 + neighbor_xy))\n",
      "/home/sarawalk/sdgs_py38/lib/python3.8/site-packages/bicm/graph_classes.py:1113: RuntimeWarning: invalid value encountered in divide\n",
      "  probs = node_xy * neighbor_xy / ((1 + node_xy) * (1 + neighbor_xy))\n",
      "100%|██████████████████████████████████████████████████████████████████████████████████████████████████████████████████████| 37/37 [00:00<00:00, 1644.42it/s]/home/sarawalk/sdgs_py38/lib/python3.8/site-packages/bicm/graph_classes.py:1113: RuntimeWarning: invalid value encountered in divide\n",
      "  probs = node_xy * neighbor_xy / ((1 + node_xy) * (1 + neighbor_xy))\n",
      "\n"
     ]
    },
    {
     "name": "stdout",
     "output_type": "stream",
     "text": [
      "No V-motifs will be validated. Try increasing alpha\n"
     ]
    },
    {
     "name": "stderr",
     "output_type": "stream",
     "text": [
      "\n",
      "\n",
      "  0%|                                                                                                                                  | 0/3 [00:00<?, ?it/s]\u001b[A\u001b[A/home/sarawalk/sdgs_py38/lib/python3.8/site-packages/bicm/graph_classes.py:1113: RuntimeWarning: invalid value encountered in divide\n",
      "  probs = node_xy * neighbor_xy / ((1 + node_xy) * (1 + neighbor_xy))\n",
      "/home/sarawalk/sdgs_py38/lib/python3.8/site-packages/bicm/graph_classes.py:1113: RuntimeWarning: invalid value encountered in divide\n",
      "  probs = node_xy * neighbor_xy / ((1 + node_xy) * (1 + neighbor_xy))\n",
      "100%|█████████████████████████████████████████████████████████████████████████████████████████████████████████████████████████| 3/3 [00:00<00:00, 131.76it/s]\n"
     ]
    },
    {
     "name": "stdout",
     "output_type": "stream",
     "text": [
      "No V-motifs will be validated. Try increasing alpha\n",
      "\n",
      "                      WARNING: this system has at least a node that is disconnected or connected to all nodes\n",
      "                       of the opposite layer. This may cause some convergence issues.\n",
      "                      Please use the full mode providing a biadjacency matrix or an edgelist,\n",
      "                       or clean your data from these nodes. \n",
      "                      \n",
      "2017 Utilities SDG 13: Climate Action\r"
     ]
    },
    {
     "name": "stderr",
     "output_type": "stream",
     "text": [
      "\n",
      "\n",
      "  0%|                                                                                                                                 | 0/37 [00:00<?, ?it/s]\u001b[A\u001b[A/home/sarawalk/sdgs_py38/lib/python3.8/site-packages/bicm/graph_classes.py:1113: RuntimeWarning: invalid value encountered in divide\n",
      "  probs = node_xy * neighbor_xy / ((1 + node_xy) * (1 + neighbor_xy))\n",
      "/home/sarawalk/sdgs_py38/lib/python3.8/site-packages/bicm/graph_classes.py:1113: RuntimeWarning: invalid value encountered in divide\n",
      "  probs = node_xy * neighbor_xy / ((1 + node_xy) * (1 + neighbor_xy))\n",
      "/home/sarawalk/sdgs_py38/lib/python3.8/site-packages/bicm/graph_classes.py:1113: RuntimeWarning: invalid value encountered in divide\n",
      "  probs = node_xy * neighbor_xy / ((1 + node_xy) * (1 + neighbor_xy))\n",
      "100%|██████████████████████████████████████████████████████████████████████████████████████████████████████████████████████| 37/37 [00:00<00:00, 1437.48it/s]/home/sarawalk/sdgs_py38/lib/python3.8/site-packages/bicm/graph_classes.py:1113: RuntimeWarning: invalid value encountered in divide\n",
      "  probs = node_xy * neighbor_xy / ((1 + node_xy) * (1 + neighbor_xy))\n",
      "\n"
     ]
    },
    {
     "name": "stdout",
     "output_type": "stream",
     "text": [
      "No V-motifs will be validated. Try increasing alpha\n"
     ]
    },
    {
     "name": "stderr",
     "output_type": "stream",
     "text": [
      "\n",
      "\n",
      "  0%|                                                                                                                                  | 0/3 [00:00<?, ?it/s]\u001b[A\u001b[A/home/sarawalk/sdgs_py38/lib/python3.8/site-packages/bicm/graph_classes.py:1113: RuntimeWarning: invalid value encountered in divide\n",
      "  probs = node_xy * neighbor_xy / ((1 + node_xy) * (1 + neighbor_xy))\n",
      "/home/sarawalk/sdgs_py38/lib/python3.8/site-packages/bicm/graph_classes.py:1113: RuntimeWarning: invalid value encountered in divide\n",
      "  probs = node_xy * neighbor_xy / ((1 + node_xy) * (1 + neighbor_xy))\n",
      "100%|█████████████████████████████████████████████████████████████████████████████████████████████████████████████████████████| 3/3 [00:00<00:00, 167.21it/s]\n"
     ]
    },
    {
     "name": "stdout",
     "output_type": "stream",
     "text": [
      "No V-motifs will be validated. Try increasing alpha\n",
      "\n",
      "                      WARNING: this system has at least a node that is disconnected or connected to all nodes\n",
      "                       of the opposite layer. This may cause some convergence issues.\n",
      "                      Please use the full mode providing a biadjacency matrix or an edgelist,\n",
      "                       or clean your data from these nodes. \n",
      "                      \n",
      "2017 Utilities SDG 14: Life Below Water\r"
     ]
    },
    {
     "name": "stderr",
     "output_type": "stream",
     "text": [
      "\n",
      "\n",
      "  0%|                                                                                                                                 | 0/37 [00:00<?, ?it/s]\u001b[A\u001b[A/home/sarawalk/sdgs_py38/lib/python3.8/site-packages/bicm/graph_classes.py:1113: RuntimeWarning: invalid value encountered in divide\n",
      "  probs = node_xy * neighbor_xy / ((1 + node_xy) * (1 + neighbor_xy))\n",
      "/home/sarawalk/sdgs_py38/lib/python3.8/site-packages/bicm/graph_classes.py:1113: RuntimeWarning: invalid value encountered in divide\n",
      "  probs = node_xy * neighbor_xy / ((1 + node_xy) * (1 + neighbor_xy))\n",
      "/home/sarawalk/sdgs_py38/lib/python3.8/site-packages/bicm/graph_classes.py:1113: RuntimeWarning: invalid value encountered in divide\n",
      "  probs = node_xy * neighbor_xy / ((1 + node_xy) * (1 + neighbor_xy))\n",
      "/home/sarawalk/sdgs_py38/lib/python3.8/site-packages/bicm/graph_classes.py:1113: RuntimeWarning: invalid value encountered in divide\n",
      "  probs = node_xy * neighbor_xy / ((1 + node_xy) * (1 + neighbor_xy))\n",
      "100%|██████████████████████████████████████████████████████████████████████████████████████████████████████████████████████| 37/37 [00:00<00:00, 1371.77it/s]\n"
     ]
    },
    {
     "name": "stdout",
     "output_type": "stream",
     "text": [
      "No V-motifs will be validated. Try increasing alpha\n"
     ]
    },
    {
     "name": "stderr",
     "output_type": "stream",
     "text": [
      "\n",
      "\n",
      "  0%|                                                                                                                                  | 0/3 [00:00<?, ?it/s]\u001b[A\u001b[A/home/sarawalk/sdgs_py38/lib/python3.8/site-packages/bicm/graph_classes.py:1113: RuntimeWarning: invalid value encountered in divide\n",
      "  probs = node_xy * neighbor_xy / ((1 + node_xy) * (1 + neighbor_xy))\n",
      "100%|█████████████████████████████████████████████████████████████████████████████████████████████████████████████████████████| 3/3 [00:00<00:00, 175.25it/s]/home/sarawalk/sdgs_py38/lib/python3.8/site-packages/bicm/graph_classes.py:1113: RuntimeWarning: invalid value encountered in divide\n",
      "  probs = node_xy * neighbor_xy / ((1 + node_xy) * (1 + neighbor_xy))\n",
      "\n"
     ]
    },
    {
     "name": "stdout",
     "output_type": "stream",
     "text": [
      "No V-motifs will be validated. Try increasing alpha\n",
      "\n",
      "                      WARNING: this system has at least a node that is disconnected or connected to all nodes\n",
      "                       of the opposite layer. This may cause some convergence issues.\n",
      "                      Please use the full mode providing a biadjacency matrix or an edgelist,\n",
      "                       or clean your data from these nodes. \n",
      "                      \n",
      "2017 Utilities SDG 15: Life on Land\r"
     ]
    },
    {
     "name": "stderr",
     "output_type": "stream",
     "text": [
      "\n",
      "\n",
      "  0%|                                                                                                                                 | 0/37 [00:00<?, ?it/s]\u001b[A\u001b[A/home/sarawalk/sdgs_py38/lib/python3.8/site-packages/bicm/graph_classes.py:1113: RuntimeWarning: invalid value encountered in divide\n",
      "  probs = node_xy * neighbor_xy / ((1 + node_xy) * (1 + neighbor_xy))\n",
      "/home/sarawalk/sdgs_py38/lib/python3.8/site-packages/bicm/graph_classes.py:1113: RuntimeWarning: invalid value encountered in divide\n",
      "  probs = node_xy * neighbor_xy / ((1 + node_xy) * (1 + neighbor_xy))\n",
      "/home/sarawalk/sdgs_py38/lib/python3.8/site-packages/bicm/graph_classes.py:1113: RuntimeWarning: invalid value encountered in divide\n",
      "  probs = node_xy * neighbor_xy / ((1 + node_xy) * (1 + neighbor_xy))\n",
      "100%|██████████████████████████████████████████████████████████████████████████████████████████████████████████████████████| 37/37 [00:00<00:00, 1206.79it/s]/home/sarawalk/sdgs_py38/lib/python3.8/site-packages/bicm/graph_classes.py:1113: RuntimeWarning: invalid value encountered in divide\n",
      "  probs = node_xy * neighbor_xy / ((1 + node_xy) * (1 + neighbor_xy))\n",
      "\n"
     ]
    },
    {
     "name": "stdout",
     "output_type": "stream",
     "text": [
      "No V-motifs will be validated. Try increasing alpha\n"
     ]
    },
    {
     "name": "stderr",
     "output_type": "stream",
     "text": [
      "\n",
      "\n",
      "  0%|                                                                                                                                  | 0/3 [00:00<?, ?it/s]\u001b[A\u001b[A/home/sarawalk/sdgs_py38/lib/python3.8/site-packages/bicm/graph_classes.py:1113: RuntimeWarning: invalid value encountered in divide\n",
      "  probs = node_xy * neighbor_xy / ((1 + node_xy) * (1 + neighbor_xy))\n",
      "/home/sarawalk/sdgs_py38/lib/python3.8/site-packages/bicm/graph_classes.py:1113: RuntimeWarning: invalid value encountered in divide\n",
      "  probs = node_xy * neighbor_xy / ((1 + node_xy) * (1 + neighbor_xy))\n",
      "100%|█████████████████████████████████████████████████████████████████████████████████████████████████████████████████████████| 3/3 [00:00<00:00, 149.03it/s]\n"
     ]
    },
    {
     "name": "stdout",
     "output_type": "stream",
     "text": [
      "No V-motifs will be validated. Try increasing alpha\n",
      "\n",
      "                      WARNING: this system has at least a node that is disconnected or connected to all nodes\n",
      "                       of the opposite layer. This may cause some convergence issues.\n",
      "                      Please use the full mode providing a biadjacency matrix or an edgelist,\n",
      "                       or clean your data from these nodes. \n",
      "                      \n",
      "2017 Utilities SDG 16: Peace, Justice, and Strong Institutions\r"
     ]
    },
    {
     "name": "stderr",
     "output_type": "stream",
     "text": [
      "\n",
      "\n",
      "  0%|                                                                                                                                 | 0/37 [00:00<?, ?it/s]\u001b[A\u001b[A/home/sarawalk/sdgs_py38/lib/python3.8/site-packages/bicm/graph_classes.py:1113: RuntimeWarning: invalid value encountered in divide\n",
      "  probs = node_xy * neighbor_xy / ((1 + node_xy) * (1 + neighbor_xy))\n",
      "/home/sarawalk/sdgs_py38/lib/python3.8/site-packages/bicm/graph_classes.py:1113: RuntimeWarning: invalid value encountered in divide\n",
      "  probs = node_xy * neighbor_xy / ((1 + node_xy) * (1 + neighbor_xy))\n",
      "/home/sarawalk/sdgs_py38/lib/python3.8/site-packages/bicm/graph_classes.py:1113: RuntimeWarning: invalid value encountered in divide\n",
      "  probs = node_xy * neighbor_xy / ((1 + node_xy) * (1 + neighbor_xy))\n",
      "/home/sarawalk/sdgs_py38/lib/python3.8/site-packages/bicm/graph_classes.py:1113: RuntimeWarning: invalid value encountered in divide\n",
      "  probs = node_xy * neighbor_xy / ((1 + node_xy) * (1 + neighbor_xy))\n",
      "100%|██████████████████████████████████████████████████████████████████████████████████████████████████████████████████████| 37/37 [00:00<00:00, 1168.11it/s]\n"
     ]
    },
    {
     "name": "stdout",
     "output_type": "stream",
     "text": [
      "No V-motifs will be validated. Try increasing alpha\n"
     ]
    },
    {
     "name": "stderr",
     "output_type": "stream",
     "text": [
      "\n",
      "\n",
      "  0%|                                                                                                                                  | 0/3 [00:00<?, ?it/s]\u001b[A\u001b[A/home/sarawalk/sdgs_py38/lib/python3.8/site-packages/bicm/graph_classes.py:1113: RuntimeWarning: invalid value encountered in divide\n",
      "  probs = node_xy * neighbor_xy / ((1 + node_xy) * (1 + neighbor_xy))\n",
      "/home/sarawalk/sdgs_py38/lib/python3.8/site-packages/bicm/graph_classes.py:1113: RuntimeWarning: invalid value encountered in divide\n",
      "  probs = node_xy * neighbor_xy / ((1 + node_xy) * (1 + neighbor_xy))\n",
      "100%|█████████████████████████████████████████████████████████████████████████████████████████████████████████████████████████| 3/3 [00:00<00:00, 155.34it/s]\n"
     ]
    },
    {
     "name": "stdout",
     "output_type": "stream",
     "text": [
      "No V-motifs will be validated. Try increasing alpha\n",
      "\n",
      "                      WARNING: this system has at least a node that is disconnected or connected to all nodes\n",
      "                       of the opposite layer. This may cause some convergence issues.\n",
      "                      Please use the full mode providing a biadjacency matrix or an edgelist,\n",
      "                       or clean your data from these nodes. \n",
      "                      \n",
      "2017 Utilities SDG 17: Partnerships for the Goals\r"
     ]
    },
    {
     "name": "stderr",
     "output_type": "stream",
     "text": [
      "\n",
      "\n",
      "  0%|                                                                                                                                 | 0/37 [00:00<?, ?it/s]\u001b[A\u001b[A/home/sarawalk/sdgs_py38/lib/python3.8/site-packages/bicm/graph_classes.py:1113: RuntimeWarning: invalid value encountered in divide\n",
      "  probs = node_xy * neighbor_xy / ((1 + node_xy) * (1 + neighbor_xy))\n",
      "/home/sarawalk/sdgs_py38/lib/python3.8/site-packages/bicm/graph_classes.py:1113: RuntimeWarning: invalid value encountered in divide\n",
      "  probs = node_xy * neighbor_xy / ((1 + node_xy) * (1 + neighbor_xy))\n",
      "/home/sarawalk/sdgs_py38/lib/python3.8/site-packages/bicm/graph_classes.py:1113: RuntimeWarning: invalid value encountered in divide\n",
      "  probs = node_xy * neighbor_xy / ((1 + node_xy) * (1 + neighbor_xy))\n",
      "/home/sarawalk/sdgs_py38/lib/python3.8/site-packages/bicm/graph_classes.py:1113: RuntimeWarning: invalid value encountered in divide\n",
      "  probs = node_xy * neighbor_xy / ((1 + node_xy) * (1 + neighbor_xy))\n",
      "100%|██████████████████████████████████████████████████████████████████████████████████████████████████████████████████████| 37/37 [00:00<00:00, 1208.48it/s]\n"
     ]
    },
    {
     "name": "stdout",
     "output_type": "stream",
     "text": [
      "No V-motifs will be validated. Try increasing alpha\n"
     ]
    },
    {
     "name": "stderr",
     "output_type": "stream",
     "text": [
      "\n",
      "\n",
      "  0%|                                                                                                                                  | 0/3 [00:00<?, ?it/s]\u001b[A\u001b[A/home/sarawalk/sdgs_py38/lib/python3.8/site-packages/bicm/graph_classes.py:1113: RuntimeWarning: invalid value encountered in divide\n",
      "  probs = node_xy * neighbor_xy / ((1 + node_xy) * (1 + neighbor_xy))\n",
      "100%|█████████████████████████████████████████████████████████████████████████████████████████████████████████████████████████| 3/3 [00:00<00:00, 196.56it/s]/home/sarawalk/sdgs_py38/lib/python3.8/site-packages/bicm/graph_classes.py:1113: RuntimeWarning: invalid value encountered in divide\n",
      "  probs = node_xy * neighbor_xy / ((1 + node_xy) * (1 + neighbor_xy))\n",
      "\n"
     ]
    },
    {
     "name": "stdout",
     "output_type": "stream",
     "text": [
      "No V-motifs will be validated. Try increasing alpha\n",
      "2018 Energy SDG 1: No Poverty\r"
     ]
    },
    {
     "name": "stderr",
     "output_type": "stream",
     "text": [
      "\n",
      "\n",
      "100%|███████████████████████████████████████████████████████████████████████████████████████████████████████████████████████| 39/39 [00:00<00:00, 843.71it/s]\u001b[A\u001b[A\n"
     ]
    },
    {
     "name": "stdout",
     "output_type": "stream",
     "text": [
      "No V-motifs will be validated. Try increasing alpha\n"
     ]
    },
    {
     "name": "stderr",
     "output_type": "stream",
     "text": [
      "\n",
      "\n",
      "100%|█████████████████████████████████████████████████████████████████████████████████████████████████████████████████████████| 3/3 [00:00<00:00, 152.65it/s]\u001b[A\u001b[A\n"
     ]
    },
    {
     "name": "stdout",
     "output_type": "stream",
     "text": [
      "No V-motifs will be validated. Try increasing alpha\n",
      "2018 Energy SDG 3: Good Health and Well-being\r"
     ]
    },
    {
     "name": "stderr",
     "output_type": "stream",
     "text": [
      "\n",
      "\n",
      "100%|███████████████████████████████████████████████████████████████████████████████████████████████████████████████████████| 39/39 [00:00<00:00, 745.27it/s]\u001b[A\u001b[A\n"
     ]
    },
    {
     "name": "stdout",
     "output_type": "stream",
     "text": [
      "No V-motifs will be validated. Try increasing alpha\n"
     ]
    },
    {
     "name": "stderr",
     "output_type": "stream",
     "text": [
      "\n",
      "\n",
      "100%|█████████████████████████████████████████████████████████████████████████████████████████████████████████████████████████| 3/3 [00:00<00:00, 128.13it/s]\u001b[A\u001b[A"
     ]
    },
    {
     "name": "stdout",
     "output_type": "stream",
     "text": [
      "No V-motifs will be validated. Try increasing alpha\n",
      "2018 Energy SDG 4: Quality Education\r"
     ]
    },
    {
     "name": "stderr",
     "output_type": "stream",
     "text": [
      "\n",
      "\n",
      "\n",
      "100%|███████████████████████████████████████████████████████████████████████████████████████████████████████████████████████| 39/39 [00:00<00:00, 861.41it/s]\u001b[A\u001b[A\n"
     ]
    },
    {
     "name": "stdout",
     "output_type": "stream",
     "text": [
      "No V-motifs will be validated. Try increasing alpha\n"
     ]
    },
    {
     "name": "stderr",
     "output_type": "stream",
     "text": [
      "\n",
      "\n",
      "100%|█████████████████████████████████████████████████████████████████████████████████████████████████████████████████████████| 3/3 [00:00<00:00, 142.02it/s]\u001b[A\u001b[A\n"
     ]
    },
    {
     "name": "stdout",
     "output_type": "stream",
     "text": [
      "No V-motifs will be validated. Try increasing alpha\n",
      "2018 Energy SDG 5: Gender Equality\r"
     ]
    },
    {
     "name": "stderr",
     "output_type": "stream",
     "text": [
      "\n",
      "\n",
      "100%|███████████████████████████████████████████████████████████████████████████████████████████████████████████████████████| 39/39 [00:00<00:00, 763.61it/s]\u001b[A\u001b[A\n"
     ]
    },
    {
     "name": "stdout",
     "output_type": "stream",
     "text": [
      "No V-motifs will be validated. Try increasing alpha\n"
     ]
    },
    {
     "name": "stderr",
     "output_type": "stream",
     "text": [
      "\n",
      "\n",
      "100%|█████████████████████████████████████████████████████████████████████████████████████████████████████████████████████████| 3/3 [00:00<00:00, 174.49it/s]\u001b[A\u001b[A\n"
     ]
    },
    {
     "name": "stdout",
     "output_type": "stream",
     "text": [
      "No V-motifs will be validated. Try increasing alpha\n",
      "2018 Energy SDG 6: Clean Water and Sanitation\r"
     ]
    },
    {
     "name": "stderr",
     "output_type": "stream",
     "text": [
      "\n",
      "\n",
      "100%|███████████████████████████████████████████████████████████████████████████████████████████████████████████████████████| 39/39 [00:00<00:00, 817.52it/s]\u001b[A\u001b[A\n"
     ]
    },
    {
     "name": "stdout",
     "output_type": "stream",
     "text": [
      "No V-motifs will be validated. Try increasing alpha\n"
     ]
    },
    {
     "name": "stderr",
     "output_type": "stream",
     "text": [
      "\n",
      "\n",
      "100%|█████████████████████████████████████████████████████████████████████████████████████████████████████████████████████████| 3/3 [00:00<00:00, 150.33it/s]\u001b[A\u001b[A"
     ]
    },
    {
     "name": "stdout",
     "output_type": "stream",
     "text": [
      "No V-motifs will be validated. Try increasing alpha\n",
      "2018 Energy SDG 7: Affordable and Clean Energy\r"
     ]
    },
    {
     "name": "stderr",
     "output_type": "stream",
     "text": [
      "\n",
      "\n",
      "\n",
      "100%|███████████████████████████████████████████████████████████████████████████████████████████████████████████████████████| 39/39 [00:00<00:00, 783.68it/s]\u001b[A\u001b[A\n"
     ]
    },
    {
     "name": "stdout",
     "output_type": "stream",
     "text": [
      "No V-motifs will be validated. Try increasing alpha\n"
     ]
    },
    {
     "name": "stderr",
     "output_type": "stream",
     "text": [
      "\n",
      "\n",
      "100%|█████████████████████████████████████████████████████████████████████████████████████████████████████████████████████████| 3/3 [00:00<00:00, 122.04it/s]\u001b[A\u001b[A\n"
     ]
    },
    {
     "name": "stdout",
     "output_type": "stream",
     "text": [
      "No V-motifs will be validated. Try increasing alpha\n",
      "2018 Energy SDG 8: Decent Work and Economic Growth\r"
     ]
    },
    {
     "name": "stderr",
     "output_type": "stream",
     "text": [
      "\n",
      "\n",
      "100%|███████████████████████████████████████████████████████████████████████████████████████████████████████████████████████| 39/39 [00:00<00:00, 720.49it/s]\u001b[A\u001b[A\n"
     ]
    },
    {
     "name": "stdout",
     "output_type": "stream",
     "text": [
      "No V-motifs will be validated. Try increasing alpha\n"
     ]
    },
    {
     "name": "stderr",
     "output_type": "stream",
     "text": [
      "\n",
      "\n",
      "100%|█████████████████████████████████████████████████████████████████████████████████████████████████████████████████████████| 3/3 [00:00<00:00, 192.35it/s]\u001b[A\u001b[A\n"
     ]
    },
    {
     "name": "stdout",
     "output_type": "stream",
     "text": [
      "No V-motifs will be validated. Try increasing alpha\n",
      "2018 Energy SDG 9: Industry, Innovation, and Infrastructure\r"
     ]
    },
    {
     "name": "stderr",
     "output_type": "stream",
     "text": [
      "\n",
      "\n",
      "100%|███████████████████████████████████████████████████████████████████████████████████████████████████████████████████████| 39/39 [00:00<00:00, 801.22it/s]\u001b[A\u001b[A\n"
     ]
    },
    {
     "name": "stdout",
     "output_type": "stream",
     "text": [
      "No V-motifs will be validated. Try increasing alpha\n"
     ]
    },
    {
     "name": "stderr",
     "output_type": "stream",
     "text": [
      "\n",
      "\n",
      "100%|█████████████████████████████████████████████████████████████████████████████████████████████████████████████████████████| 3/3 [00:00<00:00, 130.36it/s]\u001b[A\u001b[A\n"
     ]
    },
    {
     "name": "stdout",
     "output_type": "stream",
     "text": [
      "No V-motifs will be validated. Try increasing alpha\n",
      "2018 Energy SDG 10: Reduced Inequality\r"
     ]
    },
    {
     "name": "stderr",
     "output_type": "stream",
     "text": [
      "\n",
      "\n",
      "100%|███████████████████████████████████████████████████████████████████████████████████████████████████████████████████████| 39/39 [00:00<00:00, 857.69it/s]\u001b[A\u001b[A\n"
     ]
    },
    {
     "name": "stdout",
     "output_type": "stream",
     "text": [
      "No V-motifs will be validated. Try increasing alpha\n"
     ]
    },
    {
     "name": "stderr",
     "output_type": "stream",
     "text": [
      "\n",
      "\n",
      "100%|█████████████████████████████████████████████████████████████████████████████████████████████████████████████████████████| 3/3 [00:00<00:00, 143.07it/s]\u001b[A\u001b[A\n"
     ]
    },
    {
     "name": "stdout",
     "output_type": "stream",
     "text": [
      "No V-motifs will be validated. Try increasing alpha\n",
      "2018 Energy SDG 11: Sustainable Cities and Communities\r"
     ]
    },
    {
     "name": "stderr",
     "output_type": "stream",
     "text": [
      "\n",
      "\n",
      "100%|███████████████████████████████████████████████████████████████████████████████████████████████████████████████████████| 39/39 [00:00<00:00, 892.00it/s]\u001b[A\u001b[A\n"
     ]
    },
    {
     "name": "stdout",
     "output_type": "stream",
     "text": [
      "No V-motifs will be validated. Try increasing alpha\n"
     ]
    },
    {
     "name": "stderr",
     "output_type": "stream",
     "text": [
      "\n",
      "\n",
      "100%|█████████████████████████████████████████████████████████████████████████████████████████████████████████████████████████| 3/3 [00:00<00:00, 194.87it/s]\u001b[A\u001b[A\n"
     ]
    },
    {
     "name": "stdout",
     "output_type": "stream",
     "text": [
      "No V-motifs will be validated. Try increasing alpha\n",
      "2018 Energy SDG 12: Responsible Consumption and Production\r"
     ]
    },
    {
     "name": "stderr",
     "output_type": "stream",
     "text": [
      "\n",
      "\n",
      "100%|███████████████████████████████████████████████████████████████████████████████████████████████████████████████████████| 39/39 [00:00<00:00, 885.38it/s]\u001b[A\u001b[A\n"
     ]
    },
    {
     "name": "stdout",
     "output_type": "stream",
     "text": [
      "No V-motifs will be validated. Try increasing alpha\n"
     ]
    },
    {
     "name": "stderr",
     "output_type": "stream",
     "text": [
      "\n",
      "\n",
      "100%|█████████████████████████████████████████████████████████████████████████████████████████████████████████████████████████| 3/3 [00:00<00:00, 216.06it/s]\u001b[A\u001b[A\n"
     ]
    },
    {
     "name": "stdout",
     "output_type": "stream",
     "text": [
      "No V-motifs will be validated. Try increasing alpha\n",
      "2018 Energy SDG 13: Climate Action\r"
     ]
    },
    {
     "name": "stderr",
     "output_type": "stream",
     "text": [
      "\n",
      "\n",
      "100%|███████████████████████████████████████████████████████████████████████████████████████████████████████████████████████| 39/39 [00:00<00:00, 855.90it/s]\u001b[A\u001b[A\n"
     ]
    },
    {
     "name": "stdout",
     "output_type": "stream",
     "text": [
      "No V-motifs will be validated. Try increasing alpha\n"
     ]
    },
    {
     "name": "stderr",
     "output_type": "stream",
     "text": [
      "\n",
      "\n",
      "100%|█████████████████████████████████████████████████████████████████████████████████████████████████████████████████████████| 3/3 [00:00<00:00, 193.90it/s]\u001b[A\u001b[A\n"
     ]
    },
    {
     "name": "stdout",
     "output_type": "stream",
     "text": [
      "No V-motifs will be validated. Try increasing alpha\n",
      "2018 Energy SDG 14: Life Below Water\r"
     ]
    },
    {
     "name": "stderr",
     "output_type": "stream",
     "text": [
      "\n",
      "\n",
      "100%|███████████████████████████████████████████████████████████████████████████████████████████████████████████████████████| 39/39 [00:00<00:00, 771.19it/s]\u001b[A\u001b[A\n"
     ]
    },
    {
     "name": "stdout",
     "output_type": "stream",
     "text": [
      "No V-motifs will be validated. Try increasing alpha\n"
     ]
    },
    {
     "name": "stderr",
     "output_type": "stream",
     "text": [
      "\n",
      "\n",
      "100%|█████████████████████████████████████████████████████████████████████████████████████████████████████████████████████████| 3/3 [00:00<00:00, 122.70it/s]\u001b[A\u001b[A\n"
     ]
    },
    {
     "name": "stdout",
     "output_type": "stream",
     "text": [
      "No V-motifs will be validated. Try increasing alpha\n",
      "2018 Energy SDG 15: Life on Land\r"
     ]
    },
    {
     "name": "stderr",
     "output_type": "stream",
     "text": [
      "\n",
      "\n",
      "100%|███████████████████████████████████████████████████████████████████████████████████████████████████████████████████████| 39/39 [00:00<00:00, 852.55it/s]\u001b[A\u001b[A\n"
     ]
    },
    {
     "name": "stdout",
     "output_type": "stream",
     "text": [
      "No V-motifs will be validated. Try increasing alpha\n"
     ]
    },
    {
     "name": "stderr",
     "output_type": "stream",
     "text": [
      "\n",
      "\n",
      "100%|█████████████████████████████████████████████████████████████████████████████████████████████████████████████████████████| 3/3 [00:00<00:00, 212.93it/s]\u001b[A\u001b[A\n"
     ]
    },
    {
     "name": "stdout",
     "output_type": "stream",
     "text": [
      "No V-motifs will be validated. Try increasing alpha\n",
      "2018 Energy SDG 16: Peace, Justice, and Strong Institutions\r"
     ]
    },
    {
     "name": "stderr",
     "output_type": "stream",
     "text": [
      "\n",
      "\n",
      "100%|███████████████████████████████████████████████████████████████████████████████████████████████████████████████████████| 39/39 [00:00<00:00, 903.03it/s]\u001b[A\u001b[A\n"
     ]
    },
    {
     "name": "stdout",
     "output_type": "stream",
     "text": [
      "No V-motifs will be validated. Try increasing alpha\n"
     ]
    },
    {
     "name": "stderr",
     "output_type": "stream",
     "text": [
      "\n",
      "\n",
      "100%|█████████████████████████████████████████████████████████████████████████████████████████████████████████████████████████| 3/3 [00:00<00:00, 144.50it/s]\u001b[A\u001b[A\n"
     ]
    },
    {
     "name": "stdout",
     "output_type": "stream",
     "text": [
      "No V-motifs will be validated. Try increasing alpha\n",
      "2018 Energy SDG 17: Partnerships for the Goals\r"
     ]
    },
    {
     "name": "stderr",
     "output_type": "stream",
     "text": [
      "\n",
      "\n",
      "100%|███████████████████████████████████████████████████████████████████████████████████████████████████████████████████████| 39/39 [00:00<00:00, 743.54it/s]\u001b[A\u001b[A\n"
     ]
    },
    {
     "name": "stdout",
     "output_type": "stream",
     "text": [
      "No V-motifs will be validated. Try increasing alpha\n"
     ]
    },
    {
     "name": "stderr",
     "output_type": "stream",
     "text": [
      "\n",
      "\n",
      "100%|█████████████████████████████████████████████████████████████████████████████████████████████████████████████████████████| 3/3 [00:00<00:00, 190.38it/s]\u001b[A\u001b[A\n"
     ]
    },
    {
     "name": "stdout",
     "output_type": "stream",
     "text": [
      "No V-motifs will be validated. Try increasing alpha\n",
      "2018 Utilities SDG 1: No Poverty\r"
     ]
    },
    {
     "name": "stderr",
     "output_type": "stream",
     "text": [
      "\n",
      "\n",
      "100%|███████████████████████████████████████████████████████████████████████████████████████████████████████████████████████| 62/62 [00:00<00:00, 966.13it/s]\u001b[A\u001b[A\n"
     ]
    },
    {
     "name": "stdout",
     "output_type": "stream",
     "text": [
      "No V-motifs will be validated. Try increasing alpha\n"
     ]
    },
    {
     "name": "stderr",
     "output_type": "stream",
     "text": [
      "\n",
      "\n",
      "100%|██████████████████████████████████████████████████████████████████████████████████████████████████████████████████████████| 4/4 [00:00<00:00, 99.90it/s]\u001b[A\u001b[A\n"
     ]
    },
    {
     "name": "stdout",
     "output_type": "stream",
     "text": [
      "No V-motifs will be validated. Try increasing alpha\n",
      "2018 Utilities SDG 3: Good Health and Well-being\r"
     ]
    },
    {
     "name": "stderr",
     "output_type": "stream",
     "text": [
      "\n",
      "\n",
      "100%|███████████████████████████████████████████████████████████████████████████████████████████████████████████████████████| 62/62 [00:00<00:00, 991.27it/s]\u001b[A\u001b[A\n"
     ]
    },
    {
     "name": "stdout",
     "output_type": "stream",
     "text": [
      "No V-motifs will be validated. Try increasing alpha\n"
     ]
    },
    {
     "name": "stderr",
     "output_type": "stream",
     "text": [
      "\n",
      "\n",
      "100%|█████████████████████████████████████████████████████████████████████████████████████████████████████████████████████████| 4/4 [00:00<00:00, 151.49it/s]\u001b[A\u001b[A"
     ]
    },
    {
     "name": "stdout",
     "output_type": "stream",
     "text": [
      "No V-motifs will be validated. Try increasing alpha\n",
      "2018 Utilities SDG 4: Quality Education\r"
     ]
    },
    {
     "name": "stderr",
     "output_type": "stream",
     "text": [
      "\n",
      "\n",
      "\n",
      "100%|██████████████████████████████████████████████████████████████████████████████████████████████████████████████████████| 62/62 [00:00<00:00, 1027.75it/s]\u001b[A\u001b[A\n"
     ]
    },
    {
     "name": "stdout",
     "output_type": "stream",
     "text": [
      "No V-motifs will be validated. Try increasing alpha\n"
     ]
    },
    {
     "name": "stderr",
     "output_type": "stream",
     "text": [
      "\n",
      "\n",
      "100%|██████████████████████████████████████████████████████████████████████████████████████████████████████████████████████████| 4/4 [00:00<00:00, 96.21it/s]\u001b[A\u001b[A\n"
     ]
    },
    {
     "name": "stdout",
     "output_type": "stream",
     "text": [
      "No V-motifs will be validated. Try increasing alpha\n",
      "2018 Utilities SDG 5: Gender Equality\r"
     ]
    },
    {
     "name": "stderr",
     "output_type": "stream",
     "text": [
      "\n",
      "\n",
      "100%|███████████████████████████████████████████████████████████████████████████████████████████████████████████████████████| 62/62 [00:00<00:00, 705.88it/s]\u001b[A\u001b[A"
     ]
    },
    {
     "name": "stdout",
     "output_type": "stream",
     "text": [
      "No V-motifs will be validated. Try increasing alpha\n"
     ]
    },
    {
     "name": "stderr",
     "output_type": "stream",
     "text": [
      "\n",
      "\n",
      "\n",
      "100%|█████████████████████████████████████████████████████████████████████████████████████████████████████████████████████████| 4/4 [00:00<00:00, 145.25it/s]\u001b[A\u001b[A"
     ]
    },
    {
     "name": "stdout",
     "output_type": "stream",
     "text": [
      "No V-motifs will be validated. Try increasing alpha\n",
      "2018 Utilities SDG 6: Clean Water and Sanitation\r"
     ]
    },
    {
     "name": "stderr",
     "output_type": "stream",
     "text": [
      "\n",
      "\n",
      "\n",
      "100%|██████████████████████████████████████████████████████████████████████████████████████████████████████████████████████| 62/62 [00:00<00:00, 1095.63it/s]\u001b[A\u001b[A\n"
     ]
    },
    {
     "name": "stdout",
     "output_type": "stream",
     "text": [
      "No V-motifs will be validated. Try increasing alpha\n"
     ]
    },
    {
     "name": "stderr",
     "output_type": "stream",
     "text": [
      "\n",
      "\n",
      "100%|█████████████████████████████████████████████████████████████████████████████████████████████████████████████████████████| 4/4 [00:00<00:00, 157.15it/s]\u001b[A\u001b[A"
     ]
    },
    {
     "name": "stdout",
     "output_type": "stream",
     "text": [
      "No V-motifs will be validated. Try increasing alpha\n",
      "2018 Utilities SDG 7: Affordable and Clean Energy\r"
     ]
    },
    {
     "name": "stderr",
     "output_type": "stream",
     "text": [
      "\n",
      "\n",
      "\n",
      "100%|██████████████████████████████████████████████████████████████████████████████████████████████████████████████████████| 62/62 [00:00<00:00, 1031.20it/s]\u001b[A\u001b[A\n"
     ]
    },
    {
     "name": "stdout",
     "output_type": "stream",
     "text": [
      "No V-motifs will be validated. Try increasing alpha\n"
     ]
    },
    {
     "name": "stderr",
     "output_type": "stream",
     "text": [
      "\n",
      "\n",
      "100%|█████████████████████████████████████████████████████████████████████████████████████████████████████████████████████████| 4/4 [00:00<00:00, 141.60it/s]\u001b[A\u001b[A\n"
     ]
    },
    {
     "name": "stdout",
     "output_type": "stream",
     "text": [
      "No V-motifs will be validated. Try increasing alpha\n",
      "2018 Utilities SDG 8: Decent Work and Economic Growth\r"
     ]
    },
    {
     "name": "stderr",
     "output_type": "stream",
     "text": [
      "\n",
      "\n",
      "100%|███████████████████████████████████████████████████████████████████████████████████████████████████████████████████████| 62/62 [00:00<00:00, 998.96it/s]\u001b[A\u001b[A\n"
     ]
    },
    {
     "name": "stdout",
     "output_type": "stream",
     "text": [
      "No V-motifs will be validated. Try increasing alpha\n"
     ]
    },
    {
     "name": "stderr",
     "output_type": "stream",
     "text": [
      "\n",
      "\n",
      "100%|█████████████████████████████████████████████████████████████████████████████████████████████████████████████████████████| 4/4 [00:00<00:00, 143.59it/s]\u001b[A\u001b[A\n"
     ]
    },
    {
     "name": "stdout",
     "output_type": "stream",
     "text": [
      "No V-motifs will be validated. Try increasing alpha\n",
      "2018 Utilities SDG 9: Industry, Innovation, and Infrastructure\r"
     ]
    },
    {
     "name": "stderr",
     "output_type": "stream",
     "text": [
      "\n",
      "\n",
      "100%|██████████████████████████████████████████████████████████████████████████████████████████████████████████████████████| 62/62 [00:00<00:00, 1125.37it/s]\u001b[A\u001b[A\n"
     ]
    },
    {
     "name": "stdout",
     "output_type": "stream",
     "text": [
      "No V-motifs will be validated. Try increasing alpha\n"
     ]
    },
    {
     "name": "stderr",
     "output_type": "stream",
     "text": [
      "\n",
      "\n",
      "100%|█████████████████████████████████████████████████████████████████████████████████████████████████████████████████████████| 4/4 [00:00<00:00, 127.93it/s]\u001b[A\u001b[A"
     ]
    },
    {
     "name": "stdout",
     "output_type": "stream",
     "text": [
      "No V-motifs will be validated. Try increasing alpha\n",
      "2018 Utilities SDG 10: Reduced Inequality\r"
     ]
    },
    {
     "name": "stderr",
     "output_type": "stream",
     "text": [
      "\n",
      "\n",
      "\n",
      "100%|██████████████████████████████████████████████████████████████████████████████████████████████████████████████████████| 62/62 [00:00<00:00, 1042.61it/s]\u001b[A\u001b[A\n"
     ]
    },
    {
     "name": "stdout",
     "output_type": "stream",
     "text": [
      "No V-motifs will be validated. Try increasing alpha\n"
     ]
    },
    {
     "name": "stderr",
     "output_type": "stream",
     "text": [
      "\n",
      "\n",
      "100%|█████████████████████████████████████████████████████████████████████████████████████████████████████████████████████████| 4/4 [00:00<00:00, 107.87it/s]\u001b[A\u001b[A\n"
     ]
    },
    {
     "name": "stdout",
     "output_type": "stream",
     "text": [
      "No V-motifs will be validated. Try increasing alpha\n",
      "2018 Utilities SDG 11: Sustainable Cities and Communities\r"
     ]
    },
    {
     "name": "stderr",
     "output_type": "stream",
     "text": [
      "\n",
      "\n",
      "100%|███████████████████████████████████████████████████████████████████████████████████████████████████████████████████████| 62/62 [00:00<00:00, 926.50it/s]\u001b[A\u001b[A\n"
     ]
    },
    {
     "name": "stdout",
     "output_type": "stream",
     "text": [
      "No V-motifs will be validated. Try increasing alpha\n"
     ]
    },
    {
     "name": "stderr",
     "output_type": "stream",
     "text": [
      "\n",
      "\n",
      "100%|█████████████████████████████████████████████████████████████████████████████████████████████████████████████████████████| 4/4 [00:00<00:00, 130.32it/s]\u001b[A\u001b[A\n"
     ]
    },
    {
     "name": "stdout",
     "output_type": "stream",
     "text": [
      "No V-motifs will be validated. Try increasing alpha\n",
      "2018 Utilities SDG 12: Responsible Consumption and Production\r"
     ]
    },
    {
     "name": "stderr",
     "output_type": "stream",
     "text": [
      "\n",
      "\n",
      "100%|███████████████████████████████████████████████████████████████████████████████████████████████████████████████████████| 62/62 [00:00<00:00, 926.60it/s]\u001b[A\u001b[A\n"
     ]
    },
    {
     "name": "stdout",
     "output_type": "stream",
     "text": [
      "No V-motifs will be validated. Try increasing alpha\n"
     ]
    },
    {
     "name": "stderr",
     "output_type": "stream",
     "text": [
      "\n",
      "\n",
      "100%|█████████████████████████████████████████████████████████████████████████████████████████████████████████████████████████| 4/4 [00:00<00:00, 108.14it/s]\u001b[A\u001b[A\n"
     ]
    },
    {
     "name": "stdout",
     "output_type": "stream",
     "text": [
      "No V-motifs will be validated. Try increasing alpha\n",
      "2018 Utilities SDG 13: Climate Action\r"
     ]
    },
    {
     "name": "stderr",
     "output_type": "stream",
     "text": [
      "\n",
      "\n",
      "100%|██████████████████████████████████████████████████████████████████████████████████████████████████████████████████████| 62/62 [00:00<00:00, 1057.81it/s]\u001b[A\u001b[A\n"
     ]
    },
    {
     "name": "stdout",
     "output_type": "stream",
     "text": [
      "No V-motifs will be validated. Try increasing alpha\n"
     ]
    },
    {
     "name": "stderr",
     "output_type": "stream",
     "text": [
      "\n",
      "\n",
      "100%|█████████████████████████████████████████████████████████████████████████████████████████████████████████████████████████| 4/4 [00:00<00:00, 108.29it/s]\u001b[A\u001b[A\n"
     ]
    },
    {
     "name": "stdout",
     "output_type": "stream",
     "text": [
      "No V-motifs will be validated. Try increasing alpha\n",
      "2018 Utilities SDG 14: Life Below Water\r"
     ]
    },
    {
     "name": "stderr",
     "output_type": "stream",
     "text": [
      "\n",
      "\n",
      "100%|███████████████████████████████████████████████████████████████████████████████████████████████████████████████████████| 62/62 [00:00<00:00, 962.98it/s]\u001b[A\u001b[A\n"
     ]
    },
    {
     "name": "stdout",
     "output_type": "stream",
     "text": [
      "No V-motifs will be validated. Try increasing alpha\n"
     ]
    },
    {
     "name": "stderr",
     "output_type": "stream",
     "text": [
      "\n",
      "\n",
      "100%|█████████████████████████████████████████████████████████████████████████████████████████████████████████████████████████| 4/4 [00:00<00:00, 104.12it/s]\u001b[A\u001b[A\n"
     ]
    },
    {
     "name": "stdout",
     "output_type": "stream",
     "text": [
      "No V-motifs will be validated. Try increasing alpha\n",
      "2018 Utilities SDG 15: Life on Land\r"
     ]
    },
    {
     "name": "stderr",
     "output_type": "stream",
     "text": [
      "\n",
      "\n",
      "100%|███████████████████████████████████████████████████████████████████████████████████████████████████████████████████████| 62/62 [00:00<00:00, 933.11it/s]\u001b[A\u001b[A\n"
     ]
    },
    {
     "name": "stdout",
     "output_type": "stream",
     "text": [
      "No V-motifs will be validated. Try increasing alpha\n"
     ]
    },
    {
     "name": "stderr",
     "output_type": "stream",
     "text": [
      "\n",
      "\n",
      "100%|█████████████████████████████████████████████████████████████████████████████████████████████████████████████████████████| 4/4 [00:00<00:00, 145.84it/s]\u001b[A\u001b[A"
     ]
    },
    {
     "name": "stdout",
     "output_type": "stream",
     "text": [
      "No V-motifs will be validated. Try increasing alpha\n",
      "2018 Utilities SDG 16: Peace, Justice, and Strong Institutions\r"
     ]
    },
    {
     "name": "stderr",
     "output_type": "stream",
     "text": [
      "\n",
      "\n",
      "\n",
      "100%|███████████████████████████████████████████████████████████████████████████████████████████████████████████████████████| 62/62 [00:00<00:00, 970.14it/s]\u001b[A\u001b[A\n"
     ]
    },
    {
     "name": "stdout",
     "output_type": "stream",
     "text": [
      "No V-motifs will be validated. Try increasing alpha\n"
     ]
    },
    {
     "name": "stderr",
     "output_type": "stream",
     "text": [
      "\n",
      "\n",
      "100%|█████████████████████████████████████████████████████████████████████████████████████████████████████████████████████████| 4/4 [00:00<00:00, 101.96it/s]\u001b[A\u001b[A\n"
     ]
    },
    {
     "name": "stdout",
     "output_type": "stream",
     "text": [
      "No V-motifs will be validated. Try increasing alpha\n",
      "2018 Utilities SDG 17: Partnerships for the Goals\r"
     ]
    },
    {
     "name": "stderr",
     "output_type": "stream",
     "text": [
      "\n",
      "\n",
      "100%|███████████████████████████████████████████████████████████████████████████████████████████████████████████████████████| 62/62 [00:00<00:00, 948.88it/s]\u001b[A\u001b[A\n"
     ]
    },
    {
     "name": "stdout",
     "output_type": "stream",
     "text": [
      "No V-motifs will be validated. Try increasing alpha\n"
     ]
    },
    {
     "name": "stderr",
     "output_type": "stream",
     "text": [
      "\n",
      "\n",
      "100%|█████████████████████████████████████████████████████████████████████████████████████████████████████████████████████████| 4/4 [00:00<00:00, 159.04it/s]\u001b[A\u001b[A"
     ]
    },
    {
     "name": "stdout",
     "output_type": "stream",
     "text": [
      "No V-motifs will be validated. Try increasing alpha\n",
      "2019 Energy SDG 1: No Poverty\r"
     ]
    },
    {
     "name": "stderr",
     "output_type": "stream",
     "text": [
      "\n",
      "\n",
      "\n",
      "100%|███████████████████████████████████████████████████████████████████████████████████████████████████████████████████████| 39/39 [00:00<00:00, 778.08it/s]\u001b[A\u001b[A\n"
     ]
    },
    {
     "name": "stdout",
     "output_type": "stream",
     "text": [
      "No V-motifs will be validated. Try increasing alpha\n"
     ]
    },
    {
     "name": "stderr",
     "output_type": "stream",
     "text": [
      "\n",
      "\n",
      "100%|█████████████████████████████████████████████████████████████████████████████████████████████████████████████████████████| 6/6 [00:00<00:00, 155.68it/s]\u001b[A\u001b[A\n"
     ]
    },
    {
     "name": "stdout",
     "output_type": "stream",
     "text": [
      "No V-motifs will be validated. Try increasing alpha\n",
      "2019 Energy SDG 2: Zero Hunger\r"
     ]
    },
    {
     "name": "stderr",
     "output_type": "stream",
     "text": [
      "\n",
      "\n",
      "100%|███████████████████████████████████████████████████████████████████████████████████████████████████████████████████████| 39/39 [00:00<00:00, 690.12it/s]\u001b[A\u001b[A\n"
     ]
    },
    {
     "name": "stdout",
     "output_type": "stream",
     "text": [
      "No V-motifs will be validated. Try increasing alpha\n"
     ]
    },
    {
     "name": "stderr",
     "output_type": "stream",
     "text": [
      "\n",
      "\n",
      "100%|█████████████████████████████████████████████████████████████████████████████████████████████████████████████████████████| 6/6 [00:00<00:00, 166.89it/s]\u001b[A\u001b[A\n"
     ]
    },
    {
     "name": "stdout",
     "output_type": "stream",
     "text": [
      "No V-motifs will be validated. Try increasing alpha\n",
      "2019 Energy SDG 3: Good Health and Well-being\r"
     ]
    },
    {
     "name": "stderr",
     "output_type": "stream",
     "text": [
      "\n",
      "\n",
      "100%|███████████████████████████████████████████████████████████████████████████████████████████████████████████████████████| 39/39 [00:00<00:00, 692.87it/s]\u001b[A\u001b[A\n"
     ]
    },
    {
     "name": "stdout",
     "output_type": "stream",
     "text": [
      "No V-motifs will be validated. Try increasing alpha\n"
     ]
    },
    {
     "name": "stderr",
     "output_type": "stream",
     "text": [
      "\n",
      "\n",
      "100%|█████████████████████████████████████████████████████████████████████████████████████████████████████████████████████████| 6/6 [00:00<00:00, 133.41it/s]\u001b[A\u001b[A\n"
     ]
    },
    {
     "name": "stdout",
     "output_type": "stream",
     "text": [
      "No V-motifs will be validated. Try increasing alpha\n",
      "2019 Energy SDG 4: Quality Education\r"
     ]
    },
    {
     "name": "stderr",
     "output_type": "stream",
     "text": [
      "\n",
      "\n",
      "100%|███████████████████████████████████████████████████████████████████████████████████████████████████████████████████████| 39/39 [00:00<00:00, 821.61it/s]\u001b[A\u001b[A"
     ]
    },
    {
     "name": "stdout",
     "output_type": "stream",
     "text": [
      "No V-motifs will be validated. Try increasing alpha\n"
     ]
    },
    {
     "name": "stderr",
     "output_type": "stream",
     "text": [
      "\n",
      "\n",
      "\n",
      "100%|█████████████████████████████████████████████████████████████████████████████████████████████████████████████████████████| 6/6 [00:00<00:00, 145.03it/s]\u001b[A\u001b[A"
     ]
    },
    {
     "name": "stdout",
     "output_type": "stream",
     "text": [
      "No V-motifs will be validated. Try increasing alpha\n",
      "2019 Energy SDG 5: Gender Equality\r"
     ]
    },
    {
     "name": "stderr",
     "output_type": "stream",
     "text": [
      "\n",
      "\n",
      "\n",
      "100%|███████████████████████████████████████████████████████████████████████████████████████████████████████████████████████| 39/39 [00:00<00:00, 822.30it/s]\u001b[A\u001b[A\n"
     ]
    },
    {
     "name": "stdout",
     "output_type": "stream",
     "text": [
      "No V-motifs will be validated. Try increasing alpha\n"
     ]
    },
    {
     "name": "stderr",
     "output_type": "stream",
     "text": [
      "\n",
      "\n",
      "100%|█████████████████████████████████████████████████████████████████████████████████████████████████████████████████████████| 6/6 [00:00<00:00, 146.07it/s]\u001b[A\u001b[A"
     ]
    },
    {
     "name": "stdout",
     "output_type": "stream",
     "text": [
      "No V-motifs will be validated. Try increasing alpha\n",
      "2019 Energy SDG 6: Clean Water and Sanitation\r"
     ]
    },
    {
     "name": "stderr",
     "output_type": "stream",
     "text": [
      "\n",
      "\n",
      "\n",
      "100%|███████████████████████████████████████████████████████████████████████████████████████████████████████████████████████| 39/39 [00:00<00:00, 861.55it/s]\u001b[A\u001b[A\n"
     ]
    },
    {
     "name": "stdout",
     "output_type": "stream",
     "text": [
      "No V-motifs will be validated. Try increasing alpha\n"
     ]
    },
    {
     "name": "stderr",
     "output_type": "stream",
     "text": [
      "\n",
      "\n",
      "100%|█████████████████████████████████████████████████████████████████████████████████████████████████████████████████████████| 6/6 [00:00<00:00, 149.81it/s]\u001b[A\u001b[A"
     ]
    },
    {
     "name": "stdout",
     "output_type": "stream",
     "text": [
      "No V-motifs will be validated. Try increasing alpha\n",
      "2019 Energy SDG 7: Affordable and Clean Energy\r"
     ]
    },
    {
     "name": "stderr",
     "output_type": "stream",
     "text": [
      "\n",
      "\n",
      "\n",
      "100%|███████████████████████████████████████████████████████████████████████████████████████████████████████████████████████| 39/39 [00:00<00:00, 621.25it/s]\u001b[A\u001b[A\n"
     ]
    },
    {
     "name": "stdout",
     "output_type": "stream",
     "text": [
      "No V-motifs will be validated. Try increasing alpha\n"
     ]
    },
    {
     "name": "stderr",
     "output_type": "stream",
     "text": [
      "\n",
      "\n",
      "100%|█████████████████████████████████████████████████████████████████████████████████████████████████████████████████████████| 6/6 [00:00<00:00, 117.98it/s]\u001b[A\u001b[A\n"
     ]
    },
    {
     "name": "stdout",
     "output_type": "stream",
     "text": [
      "No V-motifs will be validated. Try increasing alpha\n",
      "2019 Energy SDG 8: Decent Work and Economic Growth\r"
     ]
    },
    {
     "name": "stderr",
     "output_type": "stream",
     "text": [
      "\n",
      "\n",
      "100%|███████████████████████████████████████████████████████████████████████████████████████████████████████████████████████| 39/39 [00:00<00:00, 829.36it/s]\u001b[A\u001b[A\n"
     ]
    },
    {
     "name": "stdout",
     "output_type": "stream",
     "text": [
      "No V-motifs will be validated. Try increasing alpha\n"
     ]
    },
    {
     "name": "stderr",
     "output_type": "stream",
     "text": [
      "\n",
      "\n",
      "100%|█████████████████████████████████████████████████████████████████████████████████████████████████████████████████████████| 6/6 [00:00<00:00, 166.41it/s]\u001b[A\u001b[A"
     ]
    },
    {
     "name": "stdout",
     "output_type": "stream",
     "text": [
      "No V-motifs will be validated. Try increasing alpha\n",
      "2019 Energy SDG 9: Industry, Innovation, and Infrastructure\r"
     ]
    },
    {
     "name": "stderr",
     "output_type": "stream",
     "text": [
      "\n",
      "\n",
      "\n",
      "100%|███████████████████████████████████████████████████████████████████████████████████████████████████████████████████████| 39/39 [00:00<00:00, 842.74it/s]\u001b[A\u001b[A\n"
     ]
    },
    {
     "name": "stdout",
     "output_type": "stream",
     "text": [
      "No V-motifs will be validated. Try increasing alpha\n"
     ]
    },
    {
     "name": "stderr",
     "output_type": "stream",
     "text": [
      "\n",
      "\n",
      "100%|█████████████████████████████████████████████████████████████████████████████████████████████████████████████████████████| 6/6 [00:00<00:00, 181.42it/s]\u001b[A\u001b[A\n"
     ]
    },
    {
     "name": "stdout",
     "output_type": "stream",
     "text": [
      "No V-motifs will be validated. Try increasing alpha\n",
      "2019 Energy SDG 10: Reduced Inequality\r"
     ]
    },
    {
     "name": "stderr",
     "output_type": "stream",
     "text": [
      "\n",
      "\n",
      "100%|███████████████████████████████████████████████████████████████████████████████████████████████████████████████████████| 39/39 [00:00<00:00, 906.85it/s]\u001b[A\u001b[A\n"
     ]
    },
    {
     "name": "stdout",
     "output_type": "stream",
     "text": [
      "No V-motifs will be validated. Try increasing alpha\n"
     ]
    },
    {
     "name": "stderr",
     "output_type": "stream",
     "text": [
      "\n",
      "\n",
      "100%|█████████████████████████████████████████████████████████████████████████████████████████████████████████████████████████| 6/6 [00:00<00:00, 171.45it/s]\u001b[A\u001b[A"
     ]
    },
    {
     "name": "stdout",
     "output_type": "stream",
     "text": [
      "No V-motifs will be validated. Try increasing alpha\n",
      "2019 Energy SDG 11: Sustainable Cities and Communities\r"
     ]
    },
    {
     "name": "stderr",
     "output_type": "stream",
     "text": [
      "\n",
      "\n",
      "\n",
      "100%|███████████████████████████████████████████████████████████████████████████████████████████████████████████████████████| 39/39 [00:00<00:00, 841.55it/s]\u001b[A\u001b[A\n"
     ]
    },
    {
     "name": "stdout",
     "output_type": "stream",
     "text": [
      "No V-motifs will be validated. Try increasing alpha\n"
     ]
    },
    {
     "name": "stderr",
     "output_type": "stream",
     "text": [
      "\n",
      "\n",
      "100%|█████████████████████████████████████████████████████████████████████████████████████████████████████████████████████████| 6/6 [00:00<00:00, 149.37it/s]\u001b[A\u001b[A\n"
     ]
    },
    {
     "name": "stdout",
     "output_type": "stream",
     "text": [
      "No V-motifs will be validated. Try increasing alpha\n",
      "2019 Energy SDG 12: Responsible Consumption and Production\r"
     ]
    },
    {
     "name": "stderr",
     "output_type": "stream",
     "text": [
      "\n",
      "\n",
      "100%|███████████████████████████████████████████████████████████████████████████████████████████████████████████████████████| 39/39 [00:00<00:00, 729.55it/s]\u001b[A\u001b[A\n"
     ]
    },
    {
     "name": "stdout",
     "output_type": "stream",
     "text": [
      "No V-motifs will be validated. Try increasing alpha\n"
     ]
    },
    {
     "name": "stderr",
     "output_type": "stream",
     "text": [
      "\n",
      "\n",
      "100%|█████████████████████████████████████████████████████████████████████████████████████████████████████████████████████████| 6/6 [00:00<00:00, 147.45it/s]\u001b[A\u001b[A\n"
     ]
    },
    {
     "name": "stdout",
     "output_type": "stream",
     "text": [
      "No V-motifs will be validated. Try increasing alpha\n",
      "2019 Energy SDG 13: Climate Action\r"
     ]
    },
    {
     "name": "stderr",
     "output_type": "stream",
     "text": [
      "\n",
      "\n",
      "100%|███████████████████████████████████████████████████████████████████████████████████████████████████████████████████████| 39/39 [00:00<00:00, 686.12it/s]\u001b[A\u001b[A\n"
     ]
    },
    {
     "name": "stdout",
     "output_type": "stream",
     "text": [
      "No V-motifs will be validated. Try increasing alpha\n"
     ]
    },
    {
     "name": "stderr",
     "output_type": "stream",
     "text": [
      "\n",
      "\n",
      "100%|█████████████████████████████████████████████████████████████████████████████████████████████████████████████████████████| 6/6 [00:00<00:00, 181.12it/s]\u001b[A\u001b[A"
     ]
    },
    {
     "name": "stdout",
     "output_type": "stream",
     "text": [
      "No V-motifs will be validated. Try increasing alpha\n",
      "2019 Energy SDG 14: Life Below Water\r"
     ]
    },
    {
     "name": "stderr",
     "output_type": "stream",
     "text": [
      "\n",
      "\n",
      "\n",
      "100%|███████████████████████████████████████████████████████████████████████████████████████████████████████████████████████| 39/39 [00:00<00:00, 848.16it/s]\u001b[A\u001b[A\n"
     ]
    },
    {
     "name": "stdout",
     "output_type": "stream",
     "text": [
      "No V-motifs will be validated. Try increasing alpha\n"
     ]
    },
    {
     "name": "stderr",
     "output_type": "stream",
     "text": [
      "\n",
      "\n",
      "100%|█████████████████████████████████████████████████████████████████████████████████████████████████████████████████████████| 6/6 [00:00<00:00, 167.44it/s]\u001b[A\u001b[A"
     ]
    },
    {
     "name": "stdout",
     "output_type": "stream",
     "text": [
      "No V-motifs will be validated. Try increasing alpha\n",
      "2019 Energy SDG 15: Life on Land\r"
     ]
    },
    {
     "name": "stderr",
     "output_type": "stream",
     "text": [
      "\n",
      "\n",
      "\n",
      "100%|███████████████████████████████████████████████████████████████████████████████████████████████████████████████████████| 39/39 [00:00<00:00, 882.48it/s]\u001b[A\u001b[A\n"
     ]
    },
    {
     "name": "stdout",
     "output_type": "stream",
     "text": [
      "No V-motifs will be validated. Try increasing alpha\n"
     ]
    },
    {
     "name": "stderr",
     "output_type": "stream",
     "text": [
      "\n",
      "\n",
      "100%|█████████████████████████████████████████████████████████████████████████████████████████████████████████████████████████| 6/6 [00:00<00:00, 162.94it/s]\u001b[A\u001b[A"
     ]
    },
    {
     "name": "stdout",
     "output_type": "stream",
     "text": [
      "No V-motifs will be validated. Try increasing alpha\n",
      "2019 Energy SDG 16: Peace, Justice, and Strong Institutions\r"
     ]
    },
    {
     "name": "stderr",
     "output_type": "stream",
     "text": [
      "\n",
      "\n",
      "\n",
      "100%|███████████████████████████████████████████████████████████████████████████████████████████████████████████████████████| 39/39 [00:00<00:00, 859.99it/s]\u001b[A\u001b[A\n"
     ]
    },
    {
     "name": "stdout",
     "output_type": "stream",
     "text": [
      "No V-motifs will be validated. Try increasing alpha\n"
     ]
    },
    {
     "name": "stderr",
     "output_type": "stream",
     "text": [
      "\n",
      "\n",
      "100%|█████████████████████████████████████████████████████████████████████████████████████████████████████████████████████████| 6/6 [00:00<00:00, 164.52it/s]\u001b[A\u001b[A"
     ]
    },
    {
     "name": "stdout",
     "output_type": "stream",
     "text": [
      "No V-motifs will be validated. Try increasing alpha\n",
      "2019 Energy SDG 17: Partnerships for the Goals\r"
     ]
    },
    {
     "name": "stderr",
     "output_type": "stream",
     "text": [
      "\n",
      "\n",
      "\n",
      "100%|███████████████████████████████████████████████████████████████████████████████████████████████████████████████████████| 39/39 [00:00<00:00, 550.54it/s]\u001b[A\u001b[A\n"
     ]
    },
    {
     "name": "stdout",
     "output_type": "stream",
     "text": [
      "No V-motifs will be validated. Try increasing alpha\n"
     ]
    },
    {
     "name": "stderr",
     "output_type": "stream",
     "text": [
      "\n",
      "\n",
      "100%|█████████████████████████████████████████████████████████████████████████████████████████████████████████████████████████| 6/6 [00:00<00:00, 116.51it/s]\u001b[A\u001b[A"
     ]
    },
    {
     "name": "stdout",
     "output_type": "stream",
     "text": [
      "No V-motifs will be validated. Try increasing alpha\n",
      "2019 Utilities SDG 1: No Poverty\r"
     ]
    },
    {
     "name": "stderr",
     "output_type": "stream",
     "text": [
      "\n",
      "\n",
      "\n",
      "100%|███████████████████████████████████████████████████████████████████████████████████████████████████████████████████████| 62/62 [00:00<00:00, 968.68it/s]\u001b[A\u001b[A\n"
     ]
    },
    {
     "name": "stdout",
     "output_type": "stream",
     "text": [
      "No V-motifs will be validated. Try increasing alpha\n"
     ]
    },
    {
     "name": "stderr",
     "output_type": "stream",
     "text": [
      "\n",
      "\n",
      "100%|█████████████████████████████████████████████████████████████████████████████████████████████████████████████████████████| 4/4 [00:00<00:00, 107.69it/s]\u001b[A\u001b[A\n"
     ]
    },
    {
     "name": "stdout",
     "output_type": "stream",
     "text": [
      "No V-motifs will be validated. Try increasing alpha\n",
      "2019 Utilities SDG 3: Good Health and Well-being\r"
     ]
    },
    {
     "name": "stderr",
     "output_type": "stream",
     "text": [
      "\n",
      "\n",
      "100%|██████████████████████████████████████████████████████████████████████████████████████████████████████████████████████| 62/62 [00:00<00:00, 1067.87it/s]\u001b[A\u001b[A\n"
     ]
    },
    {
     "name": "stdout",
     "output_type": "stream",
     "text": [
      "No V-motifs will be validated. Try increasing alpha\n"
     ]
    },
    {
     "name": "stderr",
     "output_type": "stream",
     "text": [
      "\n",
      "\n",
      "100%|█████████████████████████████████████████████████████████████████████████████████████████████████████████████████████████| 4/4 [00:00<00:00, 113.10it/s]\u001b[A\u001b[A\n"
     ]
    },
    {
     "name": "stdout",
     "output_type": "stream",
     "text": [
      "No V-motifs will be validated. Try increasing alpha\n",
      "2019 Utilities SDG 4: Quality Education\r"
     ]
    },
    {
     "name": "stderr",
     "output_type": "stream",
     "text": [
      "\n",
      "\n",
      "100%|███████████████████████████████████████████████████████████████████████████████████████████████████████████████████████| 62/62 [00:00<00:00, 951.89it/s]\u001b[A\u001b[A\n"
     ]
    },
    {
     "name": "stdout",
     "output_type": "stream",
     "text": [
      "No V-motifs will be validated. Try increasing alpha\n"
     ]
    },
    {
     "name": "stderr",
     "output_type": "stream",
     "text": [
      "\n",
      "\n",
      "100%|█████████████████████████████████████████████████████████████████████████████████████████████████████████████████████████| 4/4 [00:00<00:00, 102.93it/s]\u001b[A\u001b[A\n"
     ]
    },
    {
     "name": "stdout",
     "output_type": "stream",
     "text": [
      "No V-motifs will be validated. Try increasing alpha\n",
      "2019 Utilities SDG 5: Gender Equality\r"
     ]
    },
    {
     "name": "stderr",
     "output_type": "stream",
     "text": [
      "\n",
      "\n",
      "100%|███████████████████████████████████████████████████████████████████████████████████████████████████████████████████████| 62/62 [00:00<00:00, 819.62it/s]\u001b[A\u001b[A\n"
     ]
    },
    {
     "name": "stdout",
     "output_type": "stream",
     "text": [
      "No V-motifs will be validated. Try increasing alpha\n"
     ]
    },
    {
     "name": "stderr",
     "output_type": "stream",
     "text": [
      "\n",
      "\n",
      "100%|█████████████████████████████████████████████████████████████████████████████████████████████████████████████████████████| 4/4 [00:00<00:00, 145.82it/s]\u001b[A\u001b[A\n"
     ]
    },
    {
     "name": "stdout",
     "output_type": "stream",
     "text": [
      "No V-motifs will be validated. Try increasing alpha\n",
      "2019 Utilities SDG 6: Clean Water and Sanitation\r"
     ]
    },
    {
     "name": "stderr",
     "output_type": "stream",
     "text": [
      "\n",
      "\n",
      "100%|██████████████████████████████████████████████████████████████████████████████████████████████████████████████████████| 62/62 [00:00<00:00, 1130.37it/s]\u001b[A\u001b[A\n"
     ]
    },
    {
     "name": "stdout",
     "output_type": "stream",
     "text": [
      "No V-motifs will be validated. Try increasing alpha\n"
     ]
    },
    {
     "name": "stderr",
     "output_type": "stream",
     "text": [
      "\n",
      "\n",
      "100%|█████████████████████████████████████████████████████████████████████████████████████████████████████████████████████████| 4/4 [00:00<00:00, 133.67it/s]\u001b[A\u001b[A"
     ]
    },
    {
     "name": "stdout",
     "output_type": "stream",
     "text": [
      "No V-motifs will be validated. Try increasing alpha\n",
      "2019 Utilities SDG 7: Affordable and Clean Energy\r"
     ]
    },
    {
     "name": "stderr",
     "output_type": "stream",
     "text": [
      "\n",
      "\n",
      "\n",
      "100%|██████████████████████████████████████████████████████████████████████████████████████████████████████████████████████| 62/62 [00:00<00:00, 1179.48it/s]\u001b[A\u001b[A\n"
     ]
    },
    {
     "name": "stdout",
     "output_type": "stream",
     "text": [
      "No V-motifs will be validated. Try increasing alpha\n"
     ]
    },
    {
     "name": "stderr",
     "output_type": "stream",
     "text": [
      "\n",
      "\n",
      "100%|█████████████████████████████████████████████████████████████████████████████████████████████████████████████████████████| 4/4 [00:00<00:00, 127.16it/s]\u001b[A\u001b[A\n"
     ]
    },
    {
     "name": "stdout",
     "output_type": "stream",
     "text": [
      "No V-motifs will be validated. Try increasing alpha\n",
      "2019 Utilities SDG 8: Decent Work and Economic Growth\r"
     ]
    },
    {
     "name": "stderr",
     "output_type": "stream",
     "text": [
      "\n",
      "\n",
      "100%|███████████████████████████████████████████████████████████████████████████████████████████████████████████████████████| 62/62 [00:00<00:00, 996.17it/s]\u001b[A\u001b[A\n"
     ]
    },
    {
     "name": "stdout",
     "output_type": "stream",
     "text": [
      "No V-motifs will be validated. Try increasing alpha\n"
     ]
    },
    {
     "name": "stderr",
     "output_type": "stream",
     "text": [
      "\n",
      "\n",
      "100%|█████████████████████████████████████████████████████████████████████████████████████████████████████████████████████████| 4/4 [00:00<00:00, 148.38it/s]\u001b[A\u001b[A\n"
     ]
    },
    {
     "name": "stdout",
     "output_type": "stream",
     "text": [
      "No V-motifs will be validated. Try increasing alpha\n",
      "2019 Utilities SDG 9: Industry, Innovation, and Infrastructure\r"
     ]
    },
    {
     "name": "stderr",
     "output_type": "stream",
     "text": [
      "\n",
      "\n",
      "100%|███████████████████████████████████████████████████████████████████████████████████████████████████████████████████████| 62/62 [00:00<00:00, 945.31it/s]\u001b[A\u001b[A\n"
     ]
    },
    {
     "name": "stdout",
     "output_type": "stream",
     "text": [
      "No V-motifs will be validated. Try increasing alpha\n"
     ]
    },
    {
     "name": "stderr",
     "output_type": "stream",
     "text": [
      "\n",
      "\n",
      "100%|██████████████████████████████████████████████████████████████████████████████████████████████████████████████████████████| 4/4 [00:00<00:00, 97.42it/s]\u001b[A\u001b[A\n"
     ]
    },
    {
     "name": "stdout",
     "output_type": "stream",
     "text": [
      "No V-motifs will be validated. Try increasing alpha\n",
      "2019 Utilities SDG 10: Reduced Inequality\r"
     ]
    },
    {
     "name": "stderr",
     "output_type": "stream",
     "text": [
      "\n",
      "\n",
      "100%|██████████████████████████████████████████████████████████████████████████████████████████████████████████████████████| 62/62 [00:00<00:00, 1012.00it/s]\u001b[A\u001b[A\n"
     ]
    },
    {
     "name": "stdout",
     "output_type": "stream",
     "text": [
      "No V-motifs will be validated. Try increasing alpha\n"
     ]
    },
    {
     "name": "stderr",
     "output_type": "stream",
     "text": [
      "\n",
      "\n",
      "100%|█████████████████████████████████████████████████████████████████████████████████████████████████████████████████████████| 4/4 [00:00<00:00, 135.23it/s]\u001b[A\u001b[A\n"
     ]
    },
    {
     "name": "stdout",
     "output_type": "stream",
     "text": [
      "No V-motifs will be validated. Try increasing alpha\n",
      "2019 Utilities SDG 11: Sustainable Cities and Communities\r"
     ]
    },
    {
     "name": "stderr",
     "output_type": "stream",
     "text": [
      "\n",
      "\n",
      "100%|██████████████████████████████████████████████████████████████████████████████████████████████████████████████████████| 62/62 [00:00<00:00, 1125.54it/s]\u001b[A\u001b[A\n"
     ]
    },
    {
     "name": "stdout",
     "output_type": "stream",
     "text": [
      "No V-motifs will be validated. Try increasing alpha\n"
     ]
    },
    {
     "name": "stderr",
     "output_type": "stream",
     "text": [
      "\n",
      "\n",
      "100%|██████████████████████████████████████████████████████████████████████████████████████████████████████████████████████████| 4/4 [00:00<00:00, 99.76it/s]\u001b[A\u001b[A\n"
     ]
    },
    {
     "name": "stdout",
     "output_type": "stream",
     "text": [
      "No V-motifs will be validated. Try increasing alpha\n",
      "2019 Utilities SDG 12: Responsible Consumption and Production\r"
     ]
    },
    {
     "name": "stderr",
     "output_type": "stream",
     "text": [
      "\n",
      "\n",
      "100%|███████████████████████████████████████████████████████████████████████████████████████████████████████████████████████| 62/62 [00:00<00:00, 677.31it/s]\u001b[A\u001b[A"
     ]
    },
    {
     "name": "stdout",
     "output_type": "stream",
     "text": [
      "No V-motifs will be validated. Try increasing alpha\n"
     ]
    },
    {
     "name": "stderr",
     "output_type": "stream",
     "text": [
      "\n",
      "\n",
      "\n",
      "100%|█████████████████████████████████████████████████████████████████████████████████████████████████████████████████████████| 4/4 [00:00<00:00, 155.01it/s]\u001b[A\u001b[A"
     ]
    },
    {
     "name": "stdout",
     "output_type": "stream",
     "text": [
      "No V-motifs will be validated. Try increasing alpha\n",
      "2019 Utilities SDG 13: Climate Action\r"
     ]
    },
    {
     "name": "stderr",
     "output_type": "stream",
     "text": [
      "\n",
      "\n",
      "\n",
      "100%|███████████████████████████████████████████████████████████████████████████████████████████████████████████████████████| 62/62 [00:00<00:00, 878.53it/s]\u001b[A\u001b[A\n"
     ]
    },
    {
     "name": "stdout",
     "output_type": "stream",
     "text": [
      "No V-motifs will be validated. Try increasing alpha\n"
     ]
    },
    {
     "name": "stderr",
     "output_type": "stream",
     "text": [
      "\n",
      "\n",
      "100%|██████████████████████████████████████████████████████████████████████████████████████████████████████████████████████████| 4/4 [00:00<00:00, 99.64it/s]\u001b[A\u001b[A\n"
     ]
    },
    {
     "name": "stdout",
     "output_type": "stream",
     "text": [
      "No V-motifs will be validated. Try increasing alpha\n",
      "2019 Utilities SDG 14: Life Below Water\r"
     ]
    },
    {
     "name": "stderr",
     "output_type": "stream",
     "text": [
      "\n",
      "\n",
      "100%|██████████████████████████████████████████████████████████████████████████████████████████████████████████████████████| 62/62 [00:00<00:00, 1075.50it/s]\u001b[A\u001b[A\n"
     ]
    },
    {
     "name": "stdout",
     "output_type": "stream",
     "text": [
      "No V-motifs will be validated. Try increasing alpha\n"
     ]
    },
    {
     "name": "stderr",
     "output_type": "stream",
     "text": [
      "\n",
      "\n",
      "100%|█████████████████████████████████████████████████████████████████████████████████████████████████████████████████████████| 4/4 [00:00<00:00, 132.70it/s]\u001b[A\u001b[A\n"
     ]
    },
    {
     "name": "stdout",
     "output_type": "stream",
     "text": [
      "No V-motifs will be validated. Try increasing alpha\n",
      "2019 Utilities SDG 15: Life on Land\r"
     ]
    },
    {
     "name": "stderr",
     "output_type": "stream",
     "text": [
      "\n",
      "\n",
      "100%|██████████████████████████████████████████████████████████████████████████████████████████████████████████████████████| 62/62 [00:00<00:00, 1111.29it/s]\u001b[A\u001b[A\n"
     ]
    },
    {
     "name": "stdout",
     "output_type": "stream",
     "text": [
      "No V-motifs will be validated. Try increasing alpha\n"
     ]
    },
    {
     "name": "stderr",
     "output_type": "stream",
     "text": [
      "\n",
      "\n",
      "100%|██████████████████████████████████████████████████████████████████████████████████████████████████████████████████████████| 4/4 [00:00<00:00, 99.14it/s]\u001b[A\u001b[A\n"
     ]
    },
    {
     "name": "stdout",
     "output_type": "stream",
     "text": [
      "No V-motifs will be validated. Try increasing alpha\n",
      "2019 Utilities SDG 16: Peace, Justice, and Strong Institutions\r"
     ]
    },
    {
     "name": "stderr",
     "output_type": "stream",
     "text": [
      "\n",
      "\n",
      "100%|██████████████████████████████████████████████████████████████████████████████████████████████████████████████████████| 62/62 [00:00<00:00, 1116.38it/s]\u001b[A\u001b[A\n"
     ]
    },
    {
     "name": "stdout",
     "output_type": "stream",
     "text": [
      "No V-motifs will be validated. Try increasing alpha\n"
     ]
    },
    {
     "name": "stderr",
     "output_type": "stream",
     "text": [
      "\n",
      "\n",
      "100%|██████████████████████████████████████████████████████████████████████████████████████████████████████████████████████████| 4/4 [00:00<00:00, 91.95it/s]\u001b[A\u001b[A\n"
     ]
    },
    {
     "name": "stdout",
     "output_type": "stream",
     "text": [
      "No V-motifs will be validated. Try increasing alpha\n",
      "2019 Utilities SDG 17: Partnerships for the Goals\r"
     ]
    },
    {
     "name": "stderr",
     "output_type": "stream",
     "text": [
      "\n",
      "\n",
      "100%|███████████████████████████████████████████████████████████████████████████████████████████████████████████████████████| 62/62 [00:00<00:00, 988.85it/s]\u001b[A\u001b[A\n"
     ]
    },
    {
     "name": "stdout",
     "output_type": "stream",
     "text": [
      "No V-motifs will be validated. Try increasing alpha\n"
     ]
    },
    {
     "name": "stderr",
     "output_type": "stream",
     "text": [
      "\n",
      "\n",
      "100%|█████████████████████████████████████████████████████████████████████████████████████████████████████████████████████████| 4/4 [00:00<00:00, 105.02it/s]\u001b[A\u001b[A\n"
     ]
    },
    {
     "name": "stdout",
     "output_type": "stream",
     "text": [
      "No V-motifs will be validated. Try increasing alpha\n",
      "2020 Energy SDG 1: No Poverty\r"
     ]
    },
    {
     "name": "stderr",
     "output_type": "stream",
     "text": [
      "\n",
      "\n",
      "100%|███████████████████████████████████████████████████████████████████████████████████████████████████████████████████████| 25/25 [00:00<00:00, 908.51it/s]\u001b[A\u001b[A\n"
     ]
    },
    {
     "name": "stdout",
     "output_type": "stream",
     "text": [
      "No V-motifs will be validated. Try increasing alpha\n"
     ]
    },
    {
     "name": "stderr",
     "output_type": "stream",
     "text": [
      "\n",
      "\n",
      "100%|█████████████████████████████████████████████████████████████████████████████████████████████████████████████████████████| 6/6 [00:00<00:00, 182.69it/s]\u001b[A\u001b[A\n"
     ]
    },
    {
     "name": "stdout",
     "output_type": "stream",
     "text": [
      "No V-motifs will be validated. Try increasing alpha\n",
      "2020 Energy SDG 2: Zero Hunger\r"
     ]
    },
    {
     "name": "stderr",
     "output_type": "stream",
     "text": [
      "\n",
      "\n",
      "100%|███████████████████████████████████████████████████████████████████████████████████████████████████████████████████████| 25/25 [00:00<00:00, 998.95it/s]\u001b[A\u001b[A\n"
     ]
    },
    {
     "name": "stdout",
     "output_type": "stream",
     "text": [
      "No V-motifs will be validated. Try increasing alpha\n"
     ]
    },
    {
     "name": "stderr",
     "output_type": "stream",
     "text": [
      "\n",
      "\n",
      "100%|█████████████████████████████████████████████████████████████████████████████████████████████████████████████████████████| 6/6 [00:00<00:00, 220.34it/s]\u001b[A\u001b[A"
     ]
    },
    {
     "name": "stdout",
     "output_type": "stream",
     "text": [
      "No V-motifs will be validated. Try increasing alpha\n",
      "2020 Energy SDG 3: Good Health and Well-being\r"
     ]
    },
    {
     "name": "stderr",
     "output_type": "stream",
     "text": [
      "\n",
      "\n",
      "\n",
      "100%|███████████████████████████████████████████████████████████████████████████████████████████████████████████████████████| 25/25 [00:00<00:00, 953.11it/s]\u001b[A\u001b[A\n"
     ]
    },
    {
     "name": "stdout",
     "output_type": "stream",
     "text": [
      "No V-motifs will be validated. Try increasing alpha\n"
     ]
    },
    {
     "name": "stderr",
     "output_type": "stream",
     "text": [
      "\n",
      "\n",
      "100%|█████████████████████████████████████████████████████████████████████████████████████████████████████████████████████████| 6/6 [00:00<00:00, 300.92it/s]\u001b[A\u001b[A"
     ]
    },
    {
     "name": "stdout",
     "output_type": "stream",
     "text": [
      "No V-motifs will be validated. Try increasing alpha\n",
      "2020 Energy SDG 4: Quality Education\r"
     ]
    },
    {
     "name": "stderr",
     "output_type": "stream",
     "text": [
      "\n",
      "\n",
      "\n",
      "100%|███████████████████████████████████████████████████████████████████████████████████████████████████████████████████████| 25/25 [00:00<00:00, 938.26it/s]\u001b[A\u001b[A"
     ]
    },
    {
     "name": "stdout",
     "output_type": "stream",
     "text": [
      "No V-motifs will be validated. Try increasing alpha\n"
     ]
    },
    {
     "name": "stderr",
     "output_type": "stream",
     "text": [
      "\n",
      "\n",
      "\n",
      "100%|█████████████████████████████████████████████████████████████████████████████████████████████████████████████████████████| 6/6 [00:00<00:00, 250.20it/s]\u001b[A\u001b[A"
     ]
    },
    {
     "name": "stdout",
     "output_type": "stream",
     "text": [
      "No V-motifs will be validated. Try increasing alpha\n",
      "2020 Energy SDG 5: Gender Equality\r"
     ]
    },
    {
     "name": "stderr",
     "output_type": "stream",
     "text": [
      "\n",
      "\n",
      "\n",
      "100%|███████████████████████████████████████████████████████████████████████████████████████████████████████████████████████| 25/25 [00:00<00:00, 954.34it/s]\u001b[A\u001b[A"
     ]
    },
    {
     "name": "stdout",
     "output_type": "stream",
     "text": [
      "No V-motifs will be validated. Try increasing alpha\n"
     ]
    },
    {
     "name": "stderr",
     "output_type": "stream",
     "text": [
      "\n",
      "\n",
      "\n",
      "100%|█████████████████████████████████████████████████████████████████████████████████████████████████████████████████████████| 6/6 [00:00<00:00, 249.27it/s]\u001b[A\u001b[A"
     ]
    },
    {
     "name": "stdout",
     "output_type": "stream",
     "text": [
      "No V-motifs will be validated. Try increasing alpha\n",
      "2020 Energy SDG 6: Clean Water and Sanitation\r"
     ]
    },
    {
     "name": "stderr",
     "output_type": "stream",
     "text": [
      "\n",
      "\n",
      "\n",
      "100%|███████████████████████████████████████████████████████████████████████████████████████████████████████████████████████| 25/25 [00:00<00:00, 757.18it/s]\u001b[A\u001b[A\n"
     ]
    },
    {
     "name": "stdout",
     "output_type": "stream",
     "text": [
      "No V-motifs will be validated. Try increasing alpha\n"
     ]
    },
    {
     "name": "stderr",
     "output_type": "stream",
     "text": [
      "\n",
      "\n",
      "100%|█████████████████████████████████████████████████████████████████████████████████████████████████████████████████████████| 6/6 [00:00<00:00, 249.03it/s]\u001b[A\u001b[A\n"
     ]
    },
    {
     "name": "stdout",
     "output_type": "stream",
     "text": [
      "No V-motifs will be validated. Try increasing alpha\n",
      "2020 Energy SDG 7: Affordable and Clean Energy\r"
     ]
    },
    {
     "name": "stderr",
     "output_type": "stream",
     "text": [
      "\n",
      "\n",
      "100%|███████████████████████████████████████████████████████████████████████████████████████████████████████████████████████| 25/25 [00:00<00:00, 974.38it/s]\u001b[A\u001b[A\n"
     ]
    },
    {
     "name": "stdout",
     "output_type": "stream",
     "text": [
      "No V-motifs will be validated. Try increasing alpha\n"
     ]
    },
    {
     "name": "stderr",
     "output_type": "stream",
     "text": [
      "\n",
      "\n",
      "100%|█████████████████████████████████████████████████████████████████████████████████████████████████████████████████████████| 6/6 [00:00<00:00, 276.94it/s]\u001b[A\u001b[A\n"
     ]
    },
    {
     "name": "stdout",
     "output_type": "stream",
     "text": [
      "No V-motifs will be validated. Try increasing alpha\n",
      "2020 Energy SDG 8: Decent Work and Economic Growth\r"
     ]
    },
    {
     "name": "stderr",
     "output_type": "stream",
     "text": [
      "\n",
      "\n",
      "100%|███████████████████████████████████████████████████████████████████████████████████████████████████████████████████████| 25/25 [00:00<00:00, 929.47it/s]\u001b[A\u001b[A\n"
     ]
    },
    {
     "name": "stdout",
     "output_type": "stream",
     "text": [
      "No V-motifs will be validated. Try increasing alpha\n"
     ]
    },
    {
     "name": "stderr",
     "output_type": "stream",
     "text": [
      "\n",
      "\n",
      "100%|█████████████████████████████████████████████████████████████████████████████████████████████████████████████████████████| 6/6 [00:00<00:00, 228.24it/s]\u001b[A\u001b[A\n"
     ]
    },
    {
     "name": "stdout",
     "output_type": "stream",
     "text": [
      "No V-motifs will be validated. Try increasing alpha\n",
      "2020 Energy SDG 9: Industry, Innovation, and Infrastructure\r"
     ]
    },
    {
     "name": "stderr",
     "output_type": "stream",
     "text": [
      "\n",
      "\n",
      "100%|███████████████████████████████████████████████████████████████████████████████████████████████████████████████████████| 25/25 [00:00<00:00, 940.37it/s]\u001b[A\u001b[A\n"
     ]
    },
    {
     "name": "stdout",
     "output_type": "stream",
     "text": [
      "No V-motifs will be validated. Try increasing alpha\n"
     ]
    },
    {
     "name": "stderr",
     "output_type": "stream",
     "text": [
      "\n",
      "\n",
      "100%|█████████████████████████████████████████████████████████████████████████████████████████████████████████████████████████| 6/6 [00:00<00:00, 238.61it/s]\u001b[A\u001b[A"
     ]
    },
    {
     "name": "stdout",
     "output_type": "stream",
     "text": [
      "No V-motifs will be validated. Try increasing alpha\n",
      "2020 Energy SDG 10: Reduced Inequality\r"
     ]
    },
    {
     "name": "stderr",
     "output_type": "stream",
     "text": [
      "\n",
      "\n",
      "\n",
      "100%|███████████████████████████████████████████████████████████████████████████████████████████████████████████████████████| 25/25 [00:00<00:00, 898.52it/s]\u001b[A\u001b[A\n"
     ]
    },
    {
     "name": "stdout",
     "output_type": "stream",
     "text": [
      "No V-motifs will be validated. Try increasing alpha\n"
     ]
    },
    {
     "name": "stderr",
     "output_type": "stream",
     "text": [
      "\n",
      "\n",
      "100%|█████████████████████████████████████████████████████████████████████████████████████████████████████████████████████████| 6/6 [00:00<00:00, 250.64it/s]\u001b[A\u001b[A\n"
     ]
    },
    {
     "name": "stdout",
     "output_type": "stream",
     "text": [
      "No V-motifs will be validated. Try increasing alpha\n",
      "2020 Energy SDG 11: Sustainable Cities and Communities\r"
     ]
    },
    {
     "name": "stderr",
     "output_type": "stream",
     "text": [
      "\n",
      "\n",
      "100%|███████████████████████████████████████████████████████████████████████████████████████████████████████████████████████| 25/25 [00:00<00:00, 924.25it/s]\u001b[A\u001b[A\n"
     ]
    },
    {
     "name": "stdout",
     "output_type": "stream",
     "text": [
      "No V-motifs will be validated. Try increasing alpha\n"
     ]
    },
    {
     "name": "stderr",
     "output_type": "stream",
     "text": [
      "\n",
      "\n",
      "100%|█████████████████████████████████████████████████████████████████████████████████████████████████████████████████████████| 6/6 [00:00<00:00, 280.79it/s]\u001b[A\u001b[A"
     ]
    },
    {
     "name": "stdout",
     "output_type": "stream",
     "text": [
      "No V-motifs will be validated. Try increasing alpha\n",
      "2020 Energy SDG 12: Responsible Consumption and Production\r"
     ]
    },
    {
     "name": "stderr",
     "output_type": "stream",
     "text": [
      "\n",
      "\n",
      "\n",
      "100%|███████████████████████████████████████████████████████████████████████████████████████████████████████████████████████| 25/25 [00:00<00:00, 926.20it/s]\u001b[A\u001b[A\n"
     ]
    },
    {
     "name": "stdout",
     "output_type": "stream",
     "text": [
      "No V-motifs will be validated. Try increasing alpha\n"
     ]
    },
    {
     "name": "stderr",
     "output_type": "stream",
     "text": [
      "\n",
      "\n",
      "100%|█████████████████████████████████████████████████████████████████████████████████████████████████████████████████████████| 6/6 [00:00<00:00, 210.83it/s]\u001b[A\u001b[A\n"
     ]
    },
    {
     "name": "stdout",
     "output_type": "stream",
     "text": [
      "No V-motifs will be validated. Try increasing alpha\n",
      "2020 Energy SDG 13: Climate Action\r"
     ]
    },
    {
     "name": "stderr",
     "output_type": "stream",
     "text": [
      "\n",
      "\n",
      "100%|██████████████████████████████████████████████████████████████████████████████████████████████████████████████████████| 25/25 [00:00<00:00, 1007.77it/s]\u001b[A\u001b[A\n"
     ]
    },
    {
     "name": "stdout",
     "output_type": "stream",
     "text": [
      "No V-motifs will be validated. Try increasing alpha\n"
     ]
    },
    {
     "name": "stderr",
     "output_type": "stream",
     "text": [
      "\n",
      "\n",
      "100%|█████████████████████████████████████████████████████████████████████████████████████████████████████████████████████████| 6/6 [00:00<00:00, 272.75it/s]\u001b[A\u001b[A"
     ]
    },
    {
     "name": "stdout",
     "output_type": "stream",
     "text": [
      "No V-motifs will be validated. Try increasing alpha\n",
      "2020 Energy SDG 14: Life Below Water\r"
     ]
    },
    {
     "name": "stderr",
     "output_type": "stream",
     "text": [
      "\n",
      "\n",
      "\n",
      "100%|███████████████████████████████████████████████████████████████████████████████████████████████████████████████████████| 25/25 [00:00<00:00, 911.39it/s]\u001b[A\u001b[A"
     ]
    },
    {
     "name": "stdout",
     "output_type": "stream",
     "text": [
      "No V-motifs will be validated. Try increasing alpha\n"
     ]
    },
    {
     "name": "stderr",
     "output_type": "stream",
     "text": [
      "\n",
      "\n",
      "\n",
      "100%|█████████████████████████████████████████████████████████████████████████████████████████████████████████████████████████| 6/6 [00:00<00:00, 214.85it/s]\u001b[A\u001b[A\n"
     ]
    },
    {
     "name": "stdout",
     "output_type": "stream",
     "text": [
      "No V-motifs will be validated. Try increasing alpha\n",
      "2020 Energy SDG 15: Life on Land\r"
     ]
    },
    {
     "name": "stderr",
     "output_type": "stream",
     "text": [
      "\n",
      "\n",
      "100%|███████████████████████████████████████████████████████████████████████████████████████████████████████████████████████| 25/25 [00:00<00:00, 996.02it/s]\u001b[A\u001b[A\n"
     ]
    },
    {
     "name": "stdout",
     "output_type": "stream",
     "text": [
      "No V-motifs will be validated. Try increasing alpha\n"
     ]
    },
    {
     "name": "stderr",
     "output_type": "stream",
     "text": [
      "\n",
      "\n",
      "100%|█████████████████████████████████████████████████████████████████████████████████████████████████████████████████████████| 6/6 [00:00<00:00, 240.51it/s]\u001b[A\u001b[A"
     ]
    },
    {
     "name": "stdout",
     "output_type": "stream",
     "text": [
      "No V-motifs will be validated. Try increasing alpha\n",
      "2020 Energy SDG 16: Peace, Justice, and Strong Institutions\r"
     ]
    },
    {
     "name": "stderr",
     "output_type": "stream",
     "text": [
      "\n",
      "\n",
      "\n",
      "100%|███████████████████████████████████████████████████████████████████████████████████████████████████████████████████████| 25/25 [00:00<00:00, 952.51it/s]\u001b[A\u001b[A"
     ]
    },
    {
     "name": "stdout",
     "output_type": "stream",
     "text": [
      "No V-motifs will be validated. Try increasing alpha\n"
     ]
    },
    {
     "name": "stderr",
     "output_type": "stream",
     "text": [
      "\n",
      "\n",
      "\n",
      "100%|█████████████████████████████████████████████████████████████████████████████████████████████████████████████████████████| 6/6 [00:00<00:00, 278.79it/s]\u001b[A\u001b[A"
     ]
    },
    {
     "name": "stdout",
     "output_type": "stream",
     "text": [
      "No V-motifs will be validated. Try increasing alpha\n",
      "2020 Energy SDG 17: Partnerships for the Goals\r"
     ]
    },
    {
     "name": "stderr",
     "output_type": "stream",
     "text": [
      "\n",
      "\n",
      "\n",
      "100%|███████████████████████████████████████████████████████████████████████████████████████████████████████████████████████| 25/25 [00:00<00:00, 960.83it/s]\u001b[A\u001b[A"
     ]
    },
    {
     "name": "stdout",
     "output_type": "stream",
     "text": [
      "No V-motifs will be validated. Try increasing alpha\n"
     ]
    },
    {
     "name": "stderr",
     "output_type": "stream",
     "text": [
      "\n",
      "\n",
      "\n",
      "100%|█████████████████████████████████████████████████████████████████████████████████████████████████████████████████████████| 6/6 [00:00<00:00, 273.85it/s]\u001b[A\u001b[A\n"
     ]
    },
    {
     "name": "stdout",
     "output_type": "stream",
     "text": [
      "No V-motifs will be validated. Try increasing alpha\n",
      "\n",
      "                      WARNING: this system has at least a node that is disconnected or connected to all nodes\n",
      "                       of the opposite layer. This may cause some convergence issues.\n",
      "                      Please use the full mode providing a biadjacency matrix or an edgelist,\n",
      "                       or clean your data from these nodes. \n",
      "                      \n",
      "2020 Utilities SDG 1: No Poverty\r"
     ]
    },
    {
     "name": "stderr",
     "output_type": "stream",
     "text": [
      "\n",
      "\n",
      "  0%|                                                                                                                                 | 0/93 [00:00<?, ?it/s]\u001b[A\u001b[A/home/sarawalk/sdgs_py38/lib/python3.8/site-packages/bicm/graph_classes.py:1113: RuntimeWarning: invalid value encountered in divide\n",
      "  probs = node_xy * neighbor_xy / ((1 + node_xy) * (1 + neighbor_xy))\n",
      "/home/sarawalk/sdgs_py38/lib/python3.8/site-packages/bicm/graph_classes.py:1113: RuntimeWarning: invalid value encountered in divide\n",
      "  probs = node_xy * neighbor_xy / ((1 + node_xy) * (1 + neighbor_xy))\n",
      "/home/sarawalk/sdgs_py38/lib/python3.8/site-packages/bicm/graph_classes.py:1113: RuntimeWarning: invalid value encountered in divide\n",
      "  probs = node_xy * neighbor_xy / ((1 + node_xy) * (1 + neighbor_xy))\n",
      "\n",
      "\n",
      " 71%|████████████████████████████████████████████████████████████████████████████████████▍                                  | 66/93 [00:00<00:00, 607.00it/s]\u001b[A\u001b[A/home/sarawalk/sdgs_py38/lib/python3.8/site-packages/bicm/graph_classes.py:1113: RuntimeWarning: invalid value encountered in divide\n",
      "  probs = node_xy * neighbor_xy / ((1 + node_xy) * (1 + neighbor_xy))\n",
      "100%|███████████████████████████████████████████████████████████████████████████████████████████████████████████████████████| 93/93 [00:00<00:00, 615.09it/s]\n"
     ]
    },
    {
     "name": "stdout",
     "output_type": "stream",
     "text": [
      "No V-motifs will be validated. Try increasing alpha\n"
     ]
    },
    {
     "name": "stderr",
     "output_type": "stream",
     "text": [
      "\n",
      "\n",
      "  0%|                                                                                                                                  | 0/6 [00:00<?, ?it/s]\u001b[A\u001b[A/home/sarawalk/sdgs_py38/lib/python3.8/site-packages/bicm/graph_classes.py:1113: RuntimeWarning: invalid value encountered in divide\n",
      "  probs = node_xy * neighbor_xy / ((1 + node_xy) * (1 + neighbor_xy))\n",
      "100%|██████████████████████████████████████████████████████████████████████████████████████████████████████████████████████████| 6/6 [00:00<00:00, 72.20it/s]/home/sarawalk/sdgs_py38/lib/python3.8/site-packages/bicm/graph_classes.py:1113: RuntimeWarning: invalid value encountered in divide\n",
      "  probs = node_xy * neighbor_xy / ((1 + node_xy) * (1 + neighbor_xy))\n",
      "/home/sarawalk/sdgs_py38/lib/python3.8/site-packages/bicm/graph_classes.py:1113: RuntimeWarning: invalid value encountered in divide\n",
      "  probs = node_xy * neighbor_xy / ((1 + node_xy) * (1 + neighbor_xy))\n",
      "/home/sarawalk/sdgs_py38/lib/python3.8/site-packages/bicm/graph_classes.py:1113: RuntimeWarning: invalid value encountered in divide\n",
      "  probs = node_xy * neighbor_xy / ((1 + node_xy) * (1 + neighbor_xy))\n"
     ]
    },
    {
     "name": "stdout",
     "output_type": "stream",
     "text": [
      "No V-motifs will be validated. Try increasing alpha\n",
      "\n",
      "                      WARNING: this system has at least a node that is disconnected or connected to all nodes\n",
      "                       of the opposite layer. This may cause some convergence issues.\n",
      "                      Please use the full mode providing a biadjacency matrix or an edgelist,\n",
      "                       or clean your data from these nodes. \n",
      "                      \n",
      "2020 Utilities SDG 3: Good Health and Well-being\r"
     ]
    },
    {
     "name": "stderr",
     "output_type": "stream",
     "text": [
      "\n",
      "\n",
      "\n",
      "  0%|                                                                                                                                 | 0/93 [00:00<?, ?it/s]\u001b[A\u001b[A/home/sarawalk/sdgs_py38/lib/python3.8/site-packages/bicm/graph_classes.py:1113: RuntimeWarning: invalid value encountered in divide\n",
      "  probs = node_xy * neighbor_xy / ((1 + node_xy) * (1 + neighbor_xy))\n",
      "/home/sarawalk/sdgs_py38/lib/python3.8/site-packages/bicm/graph_classes.py:1113: RuntimeWarning: invalid value encountered in divide\n",
      "  probs = node_xy * neighbor_xy / ((1 + node_xy) * (1 + neighbor_xy))\n",
      "/home/sarawalk/sdgs_py38/lib/python3.8/site-packages/bicm/graph_classes.py:1113: RuntimeWarning: invalid value encountered in divide\n",
      "  probs = node_xy * neighbor_xy / ((1 + node_xy) * (1 + neighbor_xy))\n",
      "\n",
      "\n",
      " 77%|████████████████████████████████████████████████████████████████████████████████████████████▏                          | 72/93 [00:00<00:00, 708.81it/s]/home/sarawalk/sdgs_py38/lib/python3.8/site-packages/bicm/graph_classes.py:1113: RuntimeWarning: invalid value encountered in divide\n",
      "  probs = node_xy * neighbor_xy / ((1 + node_xy) * (1 + neighbor_xy))\n",
      "100%|███████████████████████████████████████████████████████████████████████████████████████████████████████████████████████| 93/93 [00:00<00:00, 742.72it/s]\n"
     ]
    },
    {
     "name": "stdout",
     "output_type": "stream",
     "text": [
      "No V-motifs will be validated. Try increasing alpha\n"
     ]
    },
    {
     "name": "stderr",
     "output_type": "stream",
     "text": [
      "\n",
      "\n",
      "  0%|                                                                                                                                  | 0/6 [00:00<?, ?it/s]\u001b[A\u001b[A/home/sarawalk/sdgs_py38/lib/python3.8/site-packages/bicm/graph_classes.py:1113: RuntimeWarning: invalid value encountered in divide\n",
      "  probs = node_xy * neighbor_xy / ((1 + node_xy) * (1 + neighbor_xy))\n",
      "/home/sarawalk/sdgs_py38/lib/python3.8/site-packages/bicm/graph_classes.py:1113: RuntimeWarning: invalid value encountered in divide\n",
      "  probs = node_xy * neighbor_xy / ((1 + node_xy) * (1 + neighbor_xy))\n",
      "/home/sarawalk/sdgs_py38/lib/python3.8/site-packages/bicm/graph_classes.py:1113: RuntimeWarning: invalid value encountered in divide\n",
      "  probs = node_xy * neighbor_xy / ((1 + node_xy) * (1 + neighbor_xy))\n",
      "100%|██████████████████████████████████████████████████████████████████████████████████████████████████████████████████████████| 6/6 [00:00<00:00, 63.03it/s]/home/sarawalk/sdgs_py38/lib/python3.8/site-packages/bicm/graph_classes.py:1113: RuntimeWarning: invalid value encountered in divide\n",
      "  probs = node_xy * neighbor_xy / ((1 + node_xy) * (1 + neighbor_xy))\n"
     ]
    },
    {
     "name": "stdout",
     "output_type": "stream",
     "text": [
      "No V-motifs will be validated. Try increasing alpha\n",
      "\n",
      "                      WARNING: this system has at least a node that is disconnected or connected to all nodes\n",
      "                       of the opposite layer. This may cause some convergence issues.\n",
      "                      Please use the full mode providing a biadjacency matrix or an edgelist,\n",
      "                       or clean your data from these nodes. \n",
      "                      \n",
      "2020 Utilities SDG 4: Quality Education\r"
     ]
    },
    {
     "name": "stderr",
     "output_type": "stream",
     "text": [
      "\n",
      "\n",
      "\n",
      "  0%|                                                                                                                                 | 0/93 [00:00<?, ?it/s]\u001b[A\u001b[A/home/sarawalk/sdgs_py38/lib/python3.8/site-packages/bicm/graph_classes.py:1113: RuntimeWarning: invalid value encountered in divide\n",
      "  probs = node_xy * neighbor_xy / ((1 + node_xy) * (1 + neighbor_xy))\n",
      "/home/sarawalk/sdgs_py38/lib/python3.8/site-packages/bicm/graph_classes.py:1113: RuntimeWarning: invalid value encountered in divide\n",
      "  probs = node_xy * neighbor_xy / ((1 + node_xy) * (1 + neighbor_xy))\n",
      "/home/sarawalk/sdgs_py38/lib/python3.8/site-packages/bicm/graph_classes.py:1113: RuntimeWarning: invalid value encountered in divide\n",
      "  probs = node_xy * neighbor_xy / ((1 + node_xy) * (1 + neighbor_xy))\n",
      "\n",
      "\n",
      " 71%|████████████████████████████████████████████████████████████████████████████████████▍                                  | 66/93 [00:00<00:00, 627.63it/s]\u001b[A\u001b[A/home/sarawalk/sdgs_py38/lib/python3.8/site-packages/bicm/graph_classes.py:1113: RuntimeWarning: invalid value encountered in divide\n",
      "  probs = node_xy * neighbor_xy / ((1 + node_xy) * (1 + neighbor_xy))\n",
      "100%|███████████████████████████████████████████████████████████████████████████████████████████████████████████████████████| 93/93 [00:00<00:00, 687.32it/s]\n"
     ]
    },
    {
     "name": "stdout",
     "output_type": "stream",
     "text": [
      "No V-motifs will be validated. Try increasing alpha\n"
     ]
    },
    {
     "name": "stderr",
     "output_type": "stream",
     "text": [
      "\n",
      "\n",
      "  0%|                                                                                                                                  | 0/6 [00:00<?, ?it/s]\u001b[A\u001b[A/home/sarawalk/sdgs_py38/lib/python3.8/site-packages/bicm/graph_classes.py:1113: RuntimeWarning: invalid value encountered in divide\n",
      "  probs = node_xy * neighbor_xy / ((1 + node_xy) * (1 + neighbor_xy))\n",
      "/home/sarawalk/sdgs_py38/lib/python3.8/site-packages/bicm/graph_classes.py:1113: RuntimeWarning: invalid value encountered in divide\n",
      "  probs = node_xy * neighbor_xy / ((1 + node_xy) * (1 + neighbor_xy))\n",
      "/home/sarawalk/sdgs_py38/lib/python3.8/site-packages/bicm/graph_classes.py:1113: RuntimeWarning: invalid value encountered in divide\n",
      "  probs = node_xy * neighbor_xy / ((1 + node_xy) * (1 + neighbor_xy))\n",
      "/home/sarawalk/sdgs_py38/lib/python3.8/site-packages/bicm/graph_classes.py:1113: RuntimeWarning: invalid value encountered in divide\n",
      "  probs = node_xy * neighbor_xy / ((1 + node_xy) * (1 + neighbor_xy))\n",
      "100%|██████████████████████████████████████████████████████████████████████████████████████████████████████████████████████████| 6/6 [00:00<00:00, 76.57it/s]"
     ]
    },
    {
     "name": "stdout",
     "output_type": "stream",
     "text": [
      "No V-motifs will be validated. Try increasing alpha\n",
      "\n",
      "                      WARNING: this system has at least a node that is disconnected or connected to all nodes\n",
      "                       of the opposite layer. This may cause some convergence issues.\n",
      "                      Please use the full mode providing a biadjacency matrix or an edgelist,\n",
      "                       or clean your data from these nodes. \n",
      "                      \n",
      "2020 Utilities SDG 5: Gender Equality\r"
     ]
    },
    {
     "name": "stderr",
     "output_type": "stream",
     "text": [
      "\n",
      "\n",
      "\n",
      "  0%|                                                                                                                                 | 0/93 [00:00<?, ?it/s]\u001b[A\u001b[A/home/sarawalk/sdgs_py38/lib/python3.8/site-packages/bicm/graph_classes.py:1113: RuntimeWarning: invalid value encountered in divide\n",
      "  probs = node_xy * neighbor_xy / ((1 + node_xy) * (1 + neighbor_xy))\n",
      "/home/sarawalk/sdgs_py38/lib/python3.8/site-packages/bicm/graph_classes.py:1113: RuntimeWarning: invalid value encountered in divide\n",
      "  probs = node_xy * neighbor_xy / ((1 + node_xy) * (1 + neighbor_xy))\n",
      "\n",
      "\n",
      " 71%|████████████████████████████████████████████████████████████████████████████████████▍                                  | 66/93 [00:00<00:00, 647.60it/s]\u001b[A\u001b[A/home/sarawalk/sdgs_py38/lib/python3.8/site-packages/bicm/graph_classes.py:1113: RuntimeWarning: invalid value encountered in divide\n",
      "  probs = node_xy * neighbor_xy / ((1 + node_xy) * (1 + neighbor_xy))\n",
      "100%|███████████████████████████████████████████████████████████████████████████████████████████████████████████████████████| 93/93 [00:00<00:00, 658.78it/s]/home/sarawalk/sdgs_py38/lib/python3.8/site-packages/bicm/graph_classes.py:1113: RuntimeWarning: invalid value encountered in divide\n",
      "  probs = node_xy * neighbor_xy / ((1 + node_xy) * (1 + neighbor_xy))\n",
      "\n"
     ]
    },
    {
     "name": "stdout",
     "output_type": "stream",
     "text": [
      "No V-motifs will be validated. Try increasing alpha\n"
     ]
    },
    {
     "name": "stderr",
     "output_type": "stream",
     "text": [
      "\n",
      "\n",
      "  0%|                                                                                                                                  | 0/6 [00:00<?, ?it/s]\u001b[A\u001b[A/home/sarawalk/sdgs_py38/lib/python3.8/site-packages/bicm/graph_classes.py:1113: RuntimeWarning: invalid value encountered in divide\n",
      "  probs = node_xy * neighbor_xy / ((1 + node_xy) * (1 + neighbor_xy))\n",
      "/home/sarawalk/sdgs_py38/lib/python3.8/site-packages/bicm/graph_classes.py:1113: RuntimeWarning: invalid value encountered in divide\n",
      "  probs = node_xy * neighbor_xy / ((1 + node_xy) * (1 + neighbor_xy))\n",
      "/home/sarawalk/sdgs_py38/lib/python3.8/site-packages/bicm/graph_classes.py:1113: RuntimeWarning: invalid value encountered in divide\n",
      "  probs = node_xy * neighbor_xy / ((1 + node_xy) * (1 + neighbor_xy))\n",
      "100%|██████████████████████████████████████████████████████████████████████████████████████████████████████████████████████████| 6/6 [00:00<00:00, 68.24it/s]/home/sarawalk/sdgs_py38/lib/python3.8/site-packages/bicm/graph_classes.py:1113: RuntimeWarning: invalid value encountered in divide\n",
      "  probs = node_xy * neighbor_xy / ((1 + node_xy) * (1 + neighbor_xy))\n"
     ]
    },
    {
     "name": "stdout",
     "output_type": "stream",
     "text": [
      "No V-motifs will be validated. Try increasing alpha\n",
      "\n",
      "                      WARNING: this system has at least a node that is disconnected or connected to all nodes\n",
      "                       of the opposite layer. This may cause some convergence issues.\n",
      "                      Please use the full mode providing a biadjacency matrix or an edgelist,\n",
      "                       or clean your data from these nodes. \n",
      "                      \n",
      "2020 Utilities SDG 6: Clean Water and Sanitation\r"
     ]
    },
    {
     "name": "stderr",
     "output_type": "stream",
     "text": [
      "\n",
      "\n",
      "\n",
      "  0%|                                                                                                                                 | 0/93 [00:00<?, ?it/s]\u001b[A\u001b[A/home/sarawalk/sdgs_py38/lib/python3.8/site-packages/bicm/graph_classes.py:1113: RuntimeWarning: invalid value encountered in divide\n",
      "  probs = node_xy * neighbor_xy / ((1 + node_xy) * (1 + neighbor_xy))\n",
      "/home/sarawalk/sdgs_py38/lib/python3.8/site-packages/bicm/graph_classes.py:1113: RuntimeWarning: invalid value encountered in divide\n",
      "  probs = node_xy * neighbor_xy / ((1 + node_xy) * (1 + neighbor_xy))\n",
      "\n",
      "\n",
      "100%|███████████████████████████████████████████████████████████████████████████████████████████████████████████████████████| 93/93 [00:00<00:00, 711.64it/s]\u001b[A\u001b[A/home/sarawalk/sdgs_py38/lib/python3.8/site-packages/bicm/graph_classes.py:1113: RuntimeWarning: invalid value encountered in divide\n",
      "  probs = node_xy * neighbor_xy / ((1 + node_xy) * (1 + neighbor_xy))\n",
      "/home/sarawalk/sdgs_py38/lib/python3.8/site-packages/bicm/graph_classes.py:1113: RuntimeWarning: invalid value encountered in divide\n",
      "  probs = node_xy * neighbor_xy / ((1 + node_xy) * (1 + neighbor_xy))\n",
      "\n"
     ]
    },
    {
     "name": "stdout",
     "output_type": "stream",
     "text": [
      "No V-motifs will be validated. Try increasing alpha\n"
     ]
    },
    {
     "name": "stderr",
     "output_type": "stream",
     "text": [
      "\n",
      "\n",
      "  0%|                                                                                                                                  | 0/6 [00:00<?, ?it/s]\u001b[A\u001b[A/home/sarawalk/sdgs_py38/lib/python3.8/site-packages/bicm/graph_classes.py:1113: RuntimeWarning: invalid value encountered in divide\n",
      "  probs = node_xy * neighbor_xy / ((1 + node_xy) * (1 + neighbor_xy))\n",
      "/home/sarawalk/sdgs_py38/lib/python3.8/site-packages/bicm/graph_classes.py:1113: RuntimeWarning: invalid value encountered in divide\n",
      "  probs = node_xy * neighbor_xy / ((1 + node_xy) * (1 + neighbor_xy))\n",
      "/home/sarawalk/sdgs_py38/lib/python3.8/site-packages/bicm/graph_classes.py:1113: RuntimeWarning: invalid value encountered in divide\n",
      "  probs = node_xy * neighbor_xy / ((1 + node_xy) * (1 + neighbor_xy))\n",
      "100%|██████████████████████████████████████████████████████████████████████████████████████████████████████████████████████████| 6/6 [00:00<00:00, 78.92it/s]/home/sarawalk/sdgs_py38/lib/python3.8/site-packages/bicm/graph_classes.py:1113: RuntimeWarning: invalid value encountered in divide\n",
      "  probs = node_xy * neighbor_xy / ((1 + node_xy) * (1 + neighbor_xy))\n",
      "\n"
     ]
    },
    {
     "name": "stdout",
     "output_type": "stream",
     "text": [
      "No V-motifs will be validated. Try increasing alpha\n",
      "\n",
      "                      WARNING: this system has at least a node that is disconnected or connected to all nodes\n",
      "                       of the opposite layer. This may cause some convergence issues.\n",
      "                      Please use the full mode providing a biadjacency matrix or an edgelist,\n",
      "                       or clean your data from these nodes. \n",
      "                      \n",
      "2020 Utilities SDG 7: Affordable and Clean Energy\r"
     ]
    },
    {
     "name": "stderr",
     "output_type": "stream",
     "text": [
      "\n",
      "\n",
      "  0%|                                                                                                                                 | 0/93 [00:00<?, ?it/s]\u001b[A\u001b[A/home/sarawalk/sdgs_py38/lib/python3.8/site-packages/bicm/graph_classes.py:1113: RuntimeWarning: invalid value encountered in divide\n",
      "  probs = node_xy * neighbor_xy / ((1 + node_xy) * (1 + neighbor_xy))\n",
      "/home/sarawalk/sdgs_py38/lib/python3.8/site-packages/bicm/graph_classes.py:1113: RuntimeWarning: invalid value encountered in divide\n",
      "  probs = node_xy * neighbor_xy / ((1 + node_xy) * (1 + neighbor_xy))\n",
      "/home/sarawalk/sdgs_py38/lib/python3.8/site-packages/bicm/graph_classes.py:1113: RuntimeWarning: invalid value encountered in divide\n",
      "  probs = node_xy * neighbor_xy / ((1 + node_xy) * (1 + neighbor_xy))\n",
      "\n",
      "\n",
      " 77%|████████████████████████████████████████████████████████████████████████████████████████████▏                          | 72/93 [00:00<00:00, 694.75it/s]/home/sarawalk/sdgs_py38/lib/python3.8/site-packages/bicm/graph_classes.py:1113: RuntimeWarning: invalid value encountered in divide\n",
      "  probs = node_xy * neighbor_xy / ((1 + node_xy) * (1 + neighbor_xy))\n",
      "100%|███████████████████████████████████████████████████████████████████████████████████████████████████████████████████████| 93/93 [00:00<00:00, 753.53it/s]"
     ]
    },
    {
     "name": "stdout",
     "output_type": "stream",
     "text": [
      "No V-motifs will be validated. Try increasing alpha\n"
     ]
    },
    {
     "name": "stderr",
     "output_type": "stream",
     "text": [
      "\n",
      "\n",
      "\n",
      "  0%|                                                                                                                                  | 0/6 [00:00<?, ?it/s]\u001b[A\u001b[A/home/sarawalk/sdgs_py38/lib/python3.8/site-packages/bicm/graph_classes.py:1113: RuntimeWarning: invalid value encountered in divide\n",
      "  probs = node_xy * neighbor_xy / ((1 + node_xy) * (1 + neighbor_xy))\n",
      "/home/sarawalk/sdgs_py38/lib/python3.8/site-packages/bicm/graph_classes.py:1113: RuntimeWarning: invalid value encountered in divide\n",
      "  probs = node_xy * neighbor_xy / ((1 + node_xy) * (1 + neighbor_xy))\n",
      "100%|██████████████████████████████████████████████████████████████████████████████████████████████████████████████████████████| 6/6 [00:00<00:00, 88.85it/s]\n",
      "/home/sarawalk/sdgs_py38/lib/python3.8/site-packages/bicm/graph_classes.py:1113: RuntimeWarning: invalid value encountered in divide\n",
      "  probs = node_xy * neighbor_xy / ((1 + node_xy) * (1 + neighbor_xy))\n",
      "/home/sarawalk/sdgs_py38/lib/python3.8/site-packages/bicm/graph_classes.py:1113: RuntimeWarning: invalid value encountered in divide\n",
      "  probs = node_xy * neighbor_xy / ((1 + node_xy) * (1 + neighbor_xy))\n"
     ]
    },
    {
     "name": "stdout",
     "output_type": "stream",
     "text": [
      "No V-motifs will be validated. Try increasing alpha\n",
      "\n",
      "                      WARNING: this system has at least a node that is disconnected or connected to all nodes\n",
      "                       of the opposite layer. This may cause some convergence issues.\n",
      "                      Please use the full mode providing a biadjacency matrix or an edgelist,\n",
      "                       or clean your data from these nodes. \n",
      "                      \n",
      "2020 Utilities SDG 8: Decent Work and Economic Growth\r"
     ]
    },
    {
     "name": "stderr",
     "output_type": "stream",
     "text": [
      "\n",
      "\n",
      "  0%|                                                                                                                                 | 0/93 [00:00<?, ?it/s]\u001b[A\u001b[A/home/sarawalk/sdgs_py38/lib/python3.8/site-packages/bicm/graph_classes.py:1113: RuntimeWarning: invalid value encountered in divide\n",
      "  probs = node_xy * neighbor_xy / ((1 + node_xy) * (1 + neighbor_xy))\n",
      "/home/sarawalk/sdgs_py38/lib/python3.8/site-packages/bicm/graph_classes.py:1113: RuntimeWarning: invalid value encountered in divide\n",
      "  probs = node_xy * neighbor_xy / ((1 + node_xy) * (1 + neighbor_xy))\n",
      "/home/sarawalk/sdgs_py38/lib/python3.8/site-packages/bicm/graph_classes.py:1113: RuntimeWarning: invalid value encountered in divide\n",
      "  probs = node_xy * neighbor_xy / ((1 + node_xy) * (1 + neighbor_xy))\n",
      "\n",
      "\n",
      "100%|███████████████████████████████████████████████████████████████████████████████████████████████████████████████████████| 93/93 [00:00<00:00, 696.01it/s]\u001b[A\u001b[A/home/sarawalk/sdgs_py38/lib/python3.8/site-packages/bicm/graph_classes.py:1113: RuntimeWarning: invalid value encountered in divide\n",
      "  probs = node_xy * neighbor_xy / ((1 + node_xy) * (1 + neighbor_xy))\n",
      "\n"
     ]
    },
    {
     "name": "stdout",
     "output_type": "stream",
     "text": [
      "No V-motifs will be validated. Try increasing alpha\n"
     ]
    },
    {
     "name": "stderr",
     "output_type": "stream",
     "text": [
      "\n",
      "\n",
      "  0%|                                                                                                                                  | 0/6 [00:00<?, ?it/s]\u001b[A\u001b[A/home/sarawalk/sdgs_py38/lib/python3.8/site-packages/bicm/graph_classes.py:1113: RuntimeWarning: invalid value encountered in divide\n",
      "  probs = node_xy * neighbor_xy / ((1 + node_xy) * (1 + neighbor_xy))\n",
      "100%|██████████████████████████████████████████████████████████████████████████████████████████████████████████████████████████| 6/6 [00:00<00:00, 77.00it/s]/home/sarawalk/sdgs_py38/lib/python3.8/site-packages/bicm/graph_classes.py:1113: RuntimeWarning: invalid value encountered in divide\n",
      "  probs = node_xy * neighbor_xy / ((1 + node_xy) * (1 + neighbor_xy))\n",
      "/home/sarawalk/sdgs_py38/lib/python3.8/site-packages/bicm/graph_classes.py:1113: RuntimeWarning: invalid value encountered in divide\n",
      "  probs = node_xy * neighbor_xy / ((1 + node_xy) * (1 + neighbor_xy))\n",
      "/home/sarawalk/sdgs_py38/lib/python3.8/site-packages/bicm/graph_classes.py:1113: RuntimeWarning: invalid value encountered in divide\n",
      "  probs = node_xy * neighbor_xy / ((1 + node_xy) * (1 + neighbor_xy))\n"
     ]
    },
    {
     "name": "stdout",
     "output_type": "stream",
     "text": [
      "No V-motifs will be validated. Try increasing alpha\n",
      "\n",
      "                      WARNING: this system has at least a node that is disconnected or connected to all nodes\n",
      "                       of the opposite layer. This may cause some convergence issues.\n",
      "                      Please use the full mode providing a biadjacency matrix or an edgelist,\n",
      "                       or clean your data from these nodes. \n",
      "                      \n",
      "2020 Utilities SDG 9: Industry, Innovation, and Infrastructure\r"
     ]
    },
    {
     "name": "stderr",
     "output_type": "stream",
     "text": [
      "\n",
      "\n",
      "\n",
      "  0%|                                                                                                                                 | 0/93 [00:00<?, ?it/s]\u001b[A\u001b[A/home/sarawalk/sdgs_py38/lib/python3.8/site-packages/bicm/graph_classes.py:1113: RuntimeWarning: invalid value encountered in divide\n",
      "  probs = node_xy * neighbor_xy / ((1 + node_xy) * (1 + neighbor_xy))\n",
      "/home/sarawalk/sdgs_py38/lib/python3.8/site-packages/bicm/graph_classes.py:1113: RuntimeWarning: invalid value encountered in divide\n",
      "  probs = node_xy * neighbor_xy / ((1 + node_xy) * (1 + neighbor_xy))\n",
      "/home/sarawalk/sdgs_py38/lib/python3.8/site-packages/bicm/graph_classes.py:1113: RuntimeWarning: invalid value encountered in divide\n",
      "  probs = node_xy * neighbor_xy / ((1 + node_xy) * (1 + neighbor_xy))\n",
      "\n",
      "\n",
      " 71%|████████████████████████████████████████████████████████████████████████████████████▍                                  | 66/93 [00:00<00:00, 643.24it/s]\u001b[A\u001b[A/home/sarawalk/sdgs_py38/lib/python3.8/site-packages/bicm/graph_classes.py:1113: RuntimeWarning: invalid value encountered in divide\n",
      "  probs = node_xy * neighbor_xy / ((1 + node_xy) * (1 + neighbor_xy))\n",
      "100%|███████████████████████████████████████████████████████████████████████████████████████████████████████████████████████| 93/93 [00:00<00:00, 725.09it/s]\n"
     ]
    },
    {
     "name": "stdout",
     "output_type": "stream",
     "text": [
      "No V-motifs will be validated. Try increasing alpha\n"
     ]
    },
    {
     "name": "stderr",
     "output_type": "stream",
     "text": [
      "\n",
      "\n",
      "  0%|                                                                                                                                  | 0/6 [00:00<?, ?it/s]\u001b[A\u001b[A/home/sarawalk/sdgs_py38/lib/python3.8/site-packages/bicm/graph_classes.py:1113: RuntimeWarning: invalid value encountered in divide\n",
      "  probs = node_xy * neighbor_xy / ((1 + node_xy) * (1 + neighbor_xy))\n",
      "/home/sarawalk/sdgs_py38/lib/python3.8/site-packages/bicm/graph_classes.py:1113: RuntimeWarning: invalid value encountered in divide\n",
      "  probs = node_xy * neighbor_xy / ((1 + node_xy) * (1 + neighbor_xy))\n",
      "/home/sarawalk/sdgs_py38/lib/python3.8/site-packages/bicm/graph_classes.py:1113: RuntimeWarning: invalid value encountered in divide\n",
      "  probs = node_xy * neighbor_xy / ((1 + node_xy) * (1 + neighbor_xy))\n",
      "/home/sarawalk/sdgs_py38/lib/python3.8/site-packages/bicm/graph_classes.py:1113: RuntimeWarning: invalid value encountered in divide\n",
      "  probs = node_xy * neighbor_xy / ((1 + node_xy) * (1 + neighbor_xy))\n",
      "100%|██████████████████████████████████████████████████████████████████████████████████████████████████████████████████████████| 6/6 [00:00<00:00, 78.64it/s]"
     ]
    },
    {
     "name": "stdout",
     "output_type": "stream",
     "text": [
      "No V-motifs will be validated. Try increasing alpha\n",
      "\n",
      "                      WARNING: this system has at least a node that is disconnected or connected to all nodes\n",
      "                       of the opposite layer. This may cause some convergence issues.\n",
      "                      Please use the full mode providing a biadjacency matrix or an edgelist,\n",
      "                       or clean your data from these nodes. \n",
      "                      \n",
      "2020 Utilities SDG 10: Reduced Inequality\r"
     ]
    },
    {
     "name": "stderr",
     "output_type": "stream",
     "text": [
      "\n",
      "\n",
      "\n",
      "  0%|                                                                                                                                 | 0/93 [00:00<?, ?it/s]\u001b[A\u001b[A/home/sarawalk/sdgs_py38/lib/python3.8/site-packages/bicm/graph_classes.py:1113: RuntimeWarning: invalid value encountered in divide\n",
      "  probs = node_xy * neighbor_xy / ((1 + node_xy) * (1 + neighbor_xy))\n",
      "/home/sarawalk/sdgs_py38/lib/python3.8/site-packages/bicm/graph_classes.py:1113: RuntimeWarning: invalid value encountered in divide\n",
      "  probs = node_xy * neighbor_xy / ((1 + node_xy) * (1 + neighbor_xy))\n",
      "/home/sarawalk/sdgs_py38/lib/python3.8/site-packages/bicm/graph_classes.py:1113: RuntimeWarning: invalid value encountered in divide\n",
      "  probs = node_xy * neighbor_xy / ((1 + node_xy) * (1 + neighbor_xy))\n",
      "\n",
      "\n",
      " 77%|████████████████████████████████████████████████████████████████████████████████████████████▏                          | 72/93 [00:00<00:00, 704.89it/s]/home/sarawalk/sdgs_py38/lib/python3.8/site-packages/bicm/graph_classes.py:1113: RuntimeWarning: invalid value encountered in divide\n",
      "  probs = node_xy * neighbor_xy / ((1 + node_xy) * (1 + neighbor_xy))\n",
      "100%|███████████████████████████████████████████████████████████████████████████████████████████████████████████████████████| 93/93 [00:00<00:00, 769.29it/s]"
     ]
    },
    {
     "name": "stdout",
     "output_type": "stream",
     "text": [
      "No V-motifs will be validated. Try increasing alpha\n"
     ]
    },
    {
     "name": "stderr",
     "output_type": "stream",
     "text": [
      "\n",
      "\n",
      "\n",
      "  0%|                                                                                                                                  | 0/6 [00:00<?, ?it/s]\u001b[A\u001b[A/home/sarawalk/sdgs_py38/lib/python3.8/site-packages/bicm/graph_classes.py:1113: RuntimeWarning: invalid value encountered in divide\n",
      "  probs = node_xy * neighbor_xy / ((1 + node_xy) * (1 + neighbor_xy))\n",
      "/home/sarawalk/sdgs_py38/lib/python3.8/site-packages/bicm/graph_classes.py:1113: RuntimeWarning: invalid value encountered in divide\n",
      "  probs = node_xy * neighbor_xy / ((1 + node_xy) * (1 + neighbor_xy))\n",
      "/home/sarawalk/sdgs_py38/lib/python3.8/site-packages/bicm/graph_classes.py:1113: RuntimeWarning: invalid value encountered in divide\n",
      "  probs = node_xy * neighbor_xy / ((1 + node_xy) * (1 + neighbor_xy))\n",
      "/home/sarawalk/sdgs_py38/lib/python3.8/site-packages/bicm/graph_classes.py:1113: RuntimeWarning: invalid value encountered in divide\n",
      "  probs = node_xy * neighbor_xy / ((1 + node_xy) * (1 + neighbor_xy))\n",
      "100%|██████████████████████████████████████████████████████████████████████████████████████████████████████████████████████████| 6/6 [00:00<00:00, 80.57it/s]"
     ]
    },
    {
     "name": "stdout",
     "output_type": "stream",
     "text": [
      "No V-motifs will be validated. Try increasing alpha\n",
      "\n",
      "                      WARNING: this system has at least a node that is disconnected or connected to all nodes\n",
      "                       of the opposite layer. This may cause some convergence issues.\n",
      "                      Please use the full mode providing a biadjacency matrix or an edgelist,\n",
      "                       or clean your data from these nodes. \n",
      "                      \n",
      "2020 Utilities SDG 11: Sustainable Cities and Communities\r"
     ]
    },
    {
     "name": "stderr",
     "output_type": "stream",
     "text": [
      "\n",
      "\n",
      "\n",
      "  0%|                                                                                                                                 | 0/93 [00:00<?, ?it/s]\u001b[A\u001b[A/home/sarawalk/sdgs_py38/lib/python3.8/site-packages/bicm/graph_classes.py:1113: RuntimeWarning: invalid value encountered in divide\n",
      "  probs = node_xy * neighbor_xy / ((1 + node_xy) * (1 + neighbor_xy))\n",
      "/home/sarawalk/sdgs_py38/lib/python3.8/site-packages/bicm/graph_classes.py:1113: RuntimeWarning: invalid value encountered in divide\n",
      "  probs = node_xy * neighbor_xy / ((1 + node_xy) * (1 + neighbor_xy))\n",
      "/home/sarawalk/sdgs_py38/lib/python3.8/site-packages/bicm/graph_classes.py:1113: RuntimeWarning: invalid value encountered in divide\n",
      "  probs = node_xy * neighbor_xy / ((1 + node_xy) * (1 + neighbor_xy))\n",
      "\n",
      "\n",
      "/home/sarawalk/sdgs_py38/lib/python3.8/site-packages/bicm/graph_classes.py:1113: RuntimeWarning: invalid value encountered in divide\n",
      "  probs = node_xy * neighbor_xy / ((1 + node_xy) * (1 + neighbor_xy))\n",
      "100%|███████████████████████████████████████████████████████████████████████████████████████████████████████████████████████| 93/93 [00:00<00:00, 614.86it/s]\u001b[A\u001b[A\n"
     ]
    },
    {
     "name": "stdout",
     "output_type": "stream",
     "text": [
      "No V-motifs will be validated. Try increasing alpha\n"
     ]
    },
    {
     "name": "stderr",
     "output_type": "stream",
     "text": [
      "\n",
      "\n",
      "  0%|                                                                                                                                  | 0/6 [00:00<?, ?it/s]\u001b[A\u001b[A/home/sarawalk/sdgs_py38/lib/python3.8/site-packages/bicm/graph_classes.py:1113: RuntimeWarning: invalid value encountered in divide\n",
      "  probs = node_xy * neighbor_xy / ((1 + node_xy) * (1 + neighbor_xy))\n",
      "\n",
      "\n",
      "/home/sarawalk/sdgs_py38/lib/python3.8/site-packages/bicm/graph_classes.py:1113: RuntimeWarning: invalid value encountered in divide\n",
      "  probs = node_xy * neighbor_xy / ((1 + node_xy) * (1 + neighbor_xy))\n",
      "/home/sarawalk/sdgs_py38/lib/python3.8/site-packages/bicm/graph_classes.py:1113: RuntimeWarning: invalid value encountered in divide\n",
      "  probs = node_xy * neighbor_xy / ((1 + node_xy) * (1 + neighbor_xy))\n",
      "100%|██████████████████████████████████████████████████████████████████████████████████████████████████████████████████████████| 6/6 [00:00<00:00, 58.91it/s]/home/sarawalk/sdgs_py38/lib/python3.8/site-packages/bicm/graph_classes.py:1113: RuntimeWarning: invalid value encountered in divide\n",
      "  probs = node_xy * neighbor_xy / ((1 + node_xy) * (1 + neighbor_xy))\n",
      "100%|██████████████████████████████████████████████████████████████████████████████████████████████████████████████████████████| 6/6 [00:00<00:00, 55.25it/s]"
     ]
    },
    {
     "name": "stdout",
     "output_type": "stream",
     "text": [
      "No V-motifs will be validated. Try increasing alpha\n",
      "\n",
      "                      WARNING: this system has at least a node that is disconnected or connected to all nodes\n",
      "                       of the opposite layer. This may cause some convergence issues.\n",
      "                      Please use the full mode providing a biadjacency matrix or an edgelist,\n",
      "                       or clean your data from these nodes. \n",
      "                      \n",
      "2020 Utilities SDG 12: Responsible Consumption and Production\r"
     ]
    },
    {
     "name": "stderr",
     "output_type": "stream",
     "text": [
      "\n",
      "\n",
      "\n",
      "  0%|                                                                                                                                 | 0/93 [00:00<?, ?it/s]\u001b[A\u001b[A/home/sarawalk/sdgs_py38/lib/python3.8/site-packages/bicm/graph_classes.py:1113: RuntimeWarning: invalid value encountered in divide\n",
      "  probs = node_xy * neighbor_xy / ((1 + node_xy) * (1 + neighbor_xy))\n",
      "/home/sarawalk/sdgs_py38/lib/python3.8/site-packages/bicm/graph_classes.py:1113: RuntimeWarning: invalid value encountered in divide\n",
      "  probs = node_xy * neighbor_xy / ((1 + node_xy) * (1 + neighbor_xy))\n",
      "/home/sarawalk/sdgs_py38/lib/python3.8/site-packages/bicm/graph_classes.py:1113: RuntimeWarning: invalid value encountered in divide\n",
      "  probs = node_xy * neighbor_xy / ((1 + node_xy) * (1 + neighbor_xy))\n",
      "\n",
      "\n",
      " 71%|████████████████████████████████████████████████████████████████████████████████████▍                                  | 66/93 [00:00<00:00, 618.02it/s]\u001b[A\u001b[A/home/sarawalk/sdgs_py38/lib/python3.8/site-packages/bicm/graph_classes.py:1113: RuntimeWarning: invalid value encountered in divide\n",
      "  probs = node_xy * neighbor_xy / ((1 + node_xy) * (1 + neighbor_xy))\n",
      "100%|███████████████████████████████████████████████████████████████████████████████████████████████████████████████████████| 93/93 [00:00<00:00, 688.30it/s]\n"
     ]
    },
    {
     "name": "stdout",
     "output_type": "stream",
     "text": [
      "No V-motifs will be validated. Try increasing alpha\n"
     ]
    },
    {
     "name": "stderr",
     "output_type": "stream",
     "text": [
      "\n",
      "\n",
      "  0%|                                                                                                                                  | 0/6 [00:00<?, ?it/s]\u001b[A\u001b[A/home/sarawalk/sdgs_py38/lib/python3.8/site-packages/bicm/graph_classes.py:1113: RuntimeWarning: invalid value encountered in divide\n",
      "  probs = node_xy * neighbor_xy / ((1 + node_xy) * (1 + neighbor_xy))\n",
      "/home/sarawalk/sdgs_py38/lib/python3.8/site-packages/bicm/graph_classes.py:1113: RuntimeWarning: invalid value encountered in divide\n",
      "  probs = node_xy * neighbor_xy / ((1 + node_xy) * (1 + neighbor_xy))\n",
      "/home/sarawalk/sdgs_py38/lib/python3.8/site-packages/bicm/graph_classes.py:1113: RuntimeWarning: invalid value encountered in divide\n",
      "  probs = node_xy * neighbor_xy / ((1 + node_xy) * (1 + neighbor_xy))\n",
      "/home/sarawalk/sdgs_py38/lib/python3.8/site-packages/bicm/graph_classes.py:1113: RuntimeWarning: invalid value encountered in divide\n",
      "  probs = node_xy * neighbor_xy / ((1 + node_xy) * (1 + neighbor_xy))\n",
      "100%|██████████████████████████████████████████████████████████████████████████████████████████████████████████████████████████| 6/6 [00:00<00:00, 59.74it/s]"
     ]
    },
    {
     "name": "stdout",
     "output_type": "stream",
     "text": [
      "No V-motifs will be validated. Try increasing alpha\n",
      "\n",
      "                      WARNING: this system has at least a node that is disconnected or connected to all nodes\n",
      "                       of the opposite layer. This may cause some convergence issues.\n",
      "                      Please use the full mode providing a biadjacency matrix or an edgelist,\n",
      "                       or clean your data from these nodes. \n",
      "                      \n",
      "2020 Utilities SDG 13: Climate Action\r"
     ]
    },
    {
     "name": "stderr",
     "output_type": "stream",
     "text": [
      "\n",
      "\n",
      "\n",
      "  0%|                                                                                                                                 | 0/93 [00:00<?, ?it/s]\u001b[A\u001b[A/home/sarawalk/sdgs_py38/lib/python3.8/site-packages/bicm/graph_classes.py:1113: RuntimeWarning: invalid value encountered in divide\n",
      "  probs = node_xy * neighbor_xy / ((1 + node_xy) * (1 + neighbor_xy))\n",
      "/home/sarawalk/sdgs_py38/lib/python3.8/site-packages/bicm/graph_classes.py:1113: RuntimeWarning: invalid value encountered in divide\n",
      "  probs = node_xy * neighbor_xy / ((1 + node_xy) * (1 + neighbor_xy))\n",
      "\n",
      "\n",
      " 77%|████████████████████████████████████████████████████████████████████████████████████████████▏                          | 72/93 [00:00<00:00, 714.93it/s]\u001b[A\u001b[A/home/sarawalk/sdgs_py38/lib/python3.8/site-packages/bicm/graph_classes.py:1113: RuntimeWarning: invalid value encountered in divide\n",
      "  probs = node_xy * neighbor_xy / ((1 + node_xy) * (1 + neighbor_xy))\n",
      "/home/sarawalk/sdgs_py38/lib/python3.8/site-packages/bicm/graph_classes.py:1113: RuntimeWarning: invalid value encountered in divide\n",
      "  probs = node_xy * neighbor_xy / ((1 + node_xy) * (1 + neighbor_xy))\n",
      "100%|███████████████████████████████████████████████████████████████████████████████████████████████████████████████████████| 93/93 [00:00<00:00, 712.78it/s]\n"
     ]
    },
    {
     "name": "stdout",
     "output_type": "stream",
     "text": [
      "No V-motifs will be validated. Try increasing alpha\n"
     ]
    },
    {
     "name": "stderr",
     "output_type": "stream",
     "text": [
      "\n",
      "\n",
      "  0%|                                                                                                                                  | 0/6 [00:00<?, ?it/s]\u001b[A\u001b[A/home/sarawalk/sdgs_py38/lib/python3.8/site-packages/bicm/graph_classes.py:1113: RuntimeWarning: invalid value encountered in divide\n",
      "  probs = node_xy * neighbor_xy / ((1 + node_xy) * (1 + neighbor_xy))\n",
      "/home/sarawalk/sdgs_py38/lib/python3.8/site-packages/bicm/graph_classes.py:1113: RuntimeWarning: invalid value encountered in divide\n",
      "  probs = node_xy * neighbor_xy / ((1 + node_xy) * (1 + neighbor_xy))\n",
      "100%|██████████████████████████████████████████████████████████████████████████████████████████████████████████████████████████| 6/6 [00:00<00:00, 77.86it/s]\n",
      "/home/sarawalk/sdgs_py38/lib/python3.8/site-packages/bicm/graph_classes.py:1113: RuntimeWarning: invalid value encountered in divide\n",
      "  probs = node_xy * neighbor_xy / ((1 + node_xy) * (1 + neighbor_xy))\n",
      "/home/sarawalk/sdgs_py38/lib/python3.8/site-packages/bicm/graph_classes.py:1113: RuntimeWarning: invalid value encountered in divide\n",
      "  probs = node_xy * neighbor_xy / ((1 + node_xy) * (1 + neighbor_xy))\n"
     ]
    },
    {
     "name": "stdout",
     "output_type": "stream",
     "text": [
      "No V-motifs will be validated. Try increasing alpha\n",
      "\n",
      "                      WARNING: this system has at least a node that is disconnected or connected to all nodes\n",
      "                       of the opposite layer. This may cause some convergence issues.\n",
      "                      Please use the full mode providing a biadjacency matrix or an edgelist,\n",
      "                       or clean your data from these nodes. \n",
      "                      \n",
      "2020 Utilities SDG 15: Life on Land\r"
     ]
    },
    {
     "name": "stderr",
     "output_type": "stream",
     "text": [
      "\n",
      "\n",
      "  0%|                                                                                                                                 | 0/93 [00:00<?, ?it/s]\u001b[A\u001b[A/home/sarawalk/sdgs_py38/lib/python3.8/site-packages/bicm/graph_classes.py:1113: RuntimeWarning: invalid value encountered in divide\n",
      "  probs = node_xy * neighbor_xy / ((1 + node_xy) * (1 + neighbor_xy))\n",
      "/home/sarawalk/sdgs_py38/lib/python3.8/site-packages/bicm/graph_classes.py:1113: RuntimeWarning: invalid value encountered in divide\n",
      "  probs = node_xy * neighbor_xy / ((1 + node_xy) * (1 + neighbor_xy))\n",
      "/home/sarawalk/sdgs_py38/lib/python3.8/site-packages/bicm/graph_classes.py:1113: RuntimeWarning: invalid value encountered in divide\n",
      "  probs = node_xy * neighbor_xy / ((1 + node_xy) * (1 + neighbor_xy))\n",
      "\n",
      "\n",
      "/home/sarawalk/sdgs_py38/lib/python3.8/site-packages/bicm/graph_classes.py:1113: RuntimeWarning: invalid value encountered in divide\n",
      "  probs = node_xy * neighbor_xy / ((1 + node_xy) * (1 + neighbor_xy))\n",
      "100%|███████████████████████████████████████████████████████████████████████████████████████████████████████████████████████| 93/93 [00:00<00:00, 785.61it/s]\u001b[A\u001b[A\n"
     ]
    },
    {
     "name": "stdout",
     "output_type": "stream",
     "text": [
      "No V-motifs will be validated. Try increasing alpha\n"
     ]
    },
    {
     "name": "stderr",
     "output_type": "stream",
     "text": [
      "\n",
      "\n",
      "  0%|                                                                                                                                  | 0/6 [00:00<?, ?it/s]\u001b[A\u001b[A/home/sarawalk/sdgs_py38/lib/python3.8/site-packages/bicm/graph_classes.py:1113: RuntimeWarning: invalid value encountered in divide\n",
      "  probs = node_xy * neighbor_xy / ((1 + node_xy) * (1 + neighbor_xy))\n",
      "/home/sarawalk/sdgs_py38/lib/python3.8/site-packages/bicm/graph_classes.py:1113: RuntimeWarning: invalid value encountered in divide\n",
      "  probs = node_xy * neighbor_xy / ((1 + node_xy) * (1 + neighbor_xy))\n",
      "/home/sarawalk/sdgs_py38/lib/python3.8/site-packages/bicm/graph_classes.py:1113: RuntimeWarning: invalid value encountered in divide\n",
      "  probs = node_xy * neighbor_xy / ((1 + node_xy) * (1 + neighbor_xy))\n",
      "100%|██████████████████████████████████████████████████████████████████████████████████████████████████████████████████████████| 6/6 [00:00<00:00, 83.37it/s]\n"
     ]
    },
    {
     "name": "stdout",
     "output_type": "stream",
     "text": [
      "No V-motifs will be validated. Try increasing alpha\n",
      "\n",
      "                      WARNING: this system has at least a node that is disconnected or connected to all nodes\n",
      "                       of the opposite layer. This may cause some convergence issues.\n",
      "                      Please use the full mode providing a biadjacency matrix or an edgelist,\n",
      "                       or clean your data from these nodes. \n",
      "                      \n",
      "2020 Utilities SDG 16: Peace, Justice, and Strong Institutions\r"
     ]
    },
    {
     "name": "stderr",
     "output_type": "stream",
     "text": [
      "\n",
      "\n",
      "  0%|                                                                                                                                 | 0/93 [00:00<?, ?it/s]\u001b[A\u001b[A/home/sarawalk/sdgs_py38/lib/python3.8/site-packages/bicm/graph_classes.py:1113: RuntimeWarning: invalid value encountered in divide\n",
      "  probs = node_xy * neighbor_xy / ((1 + node_xy) * (1 + neighbor_xy))\n",
      "/home/sarawalk/sdgs_py38/lib/python3.8/site-packages/bicm/graph_classes.py:1113: RuntimeWarning: invalid value encountered in divide\n",
      "  probs = node_xy * neighbor_xy / ((1 + node_xy) * (1 + neighbor_xy))\n",
      "/home/sarawalk/sdgs_py38/lib/python3.8/site-packages/bicm/graph_classes.py:1113: RuntimeWarning: invalid value encountered in divide\n",
      "  probs = node_xy * neighbor_xy / ((1 + node_xy) * (1 + neighbor_xy))\n",
      "\n",
      "\n",
      " 77%|████████████████████████████████████████████████████████████████████████████████████████████▏                          | 72/93 [00:00<00:00, 669.34it/s]/home/sarawalk/sdgs_py38/lib/python3.8/site-packages/bicm/graph_classes.py:1113: RuntimeWarning: invalid value encountered in divide\n",
      "  probs = node_xy * neighbor_xy / ((1 + node_xy) * (1 + neighbor_xy))\n",
      "100%|███████████████████████████████████████████████████████████████████████████████████████████████████████████████████████| 93/93 [00:00<00:00, 729.95it/s]\n"
     ]
    },
    {
     "name": "stdout",
     "output_type": "stream",
     "text": [
      "No V-motifs will be validated. Try increasing alpha\n"
     ]
    },
    {
     "name": "stderr",
     "output_type": "stream",
     "text": [
      "\n",
      "\n",
      "  0%|                                                                                                                                  | 0/6 [00:00<?, ?it/s]\u001b[A\u001b[A/home/sarawalk/sdgs_py38/lib/python3.8/site-packages/bicm/graph_classes.py:1113: RuntimeWarning: invalid value encountered in divide\n",
      "  probs = node_xy * neighbor_xy / ((1 + node_xy) * (1 + neighbor_xy))\n",
      "/home/sarawalk/sdgs_py38/lib/python3.8/site-packages/bicm/graph_classes.py:1113: RuntimeWarning: invalid value encountered in divide\n",
      "  probs = node_xy * neighbor_xy / ((1 + node_xy) * (1 + neighbor_xy))\n",
      "100%|██████████████████████████████████████████████████████████████████████████████████████████████████████████████████████████| 6/6 [00:00<00:00, 71.10it/s]/home/sarawalk/sdgs_py38/lib/python3.8/site-packages/bicm/graph_classes.py:1113: RuntimeWarning: invalid value encountered in divide\n",
      "  probs = node_xy * neighbor_xy / ((1 + node_xy) * (1 + neighbor_xy))\n",
      "\n",
      "/home/sarawalk/sdgs_py38/lib/python3.8/site-packages/bicm/graph_classes.py:1113: RuntimeWarning: invalid value encountered in divide\n",
      "  probs = node_xy * neighbor_xy / ((1 + node_xy) * (1 + neighbor_xy))\n"
     ]
    },
    {
     "name": "stdout",
     "output_type": "stream",
     "text": [
      "No V-motifs will be validated. Try increasing alpha\n",
      "\n",
      "                      WARNING: this system has at least a node that is disconnected or connected to all nodes\n",
      "                       of the opposite layer. This may cause some convergence issues.\n",
      "                      Please use the full mode providing a biadjacency matrix or an edgelist,\n",
      "                       or clean your data from these nodes. \n",
      "                      \n",
      "2020 Utilities SDG 17: Partnerships for the Goals\r"
     ]
    },
    {
     "name": "stderr",
     "output_type": "stream",
     "text": [
      "\n",
      "\n",
      "  0%|                                                                                                                                 | 0/93 [00:00<?, ?it/s]\u001b[A\u001b[A/home/sarawalk/sdgs_py38/lib/python3.8/site-packages/bicm/graph_classes.py:1113: RuntimeWarning: invalid value encountered in divide\n",
      "  probs = node_xy * neighbor_xy / ((1 + node_xy) * (1 + neighbor_xy))\n",
      "/home/sarawalk/sdgs_py38/lib/python3.8/site-packages/bicm/graph_classes.py:1113: RuntimeWarning: invalid value encountered in divide\n",
      "  probs = node_xy * neighbor_xy / ((1 + node_xy) * (1 + neighbor_xy))\n",
      "/home/sarawalk/sdgs_py38/lib/python3.8/site-packages/bicm/graph_classes.py:1113: RuntimeWarning: invalid value encountered in divide\n",
      "  probs = node_xy * neighbor_xy / ((1 + node_xy) * (1 + neighbor_xy))\n",
      "\n",
      "\n",
      " 71%|████████████████████████████████████████████████████████████████████████████████████▍                                  | 66/93 [00:00<00:00, 642.45it/s]\u001b[A\u001b[A/home/sarawalk/sdgs_py38/lib/python3.8/site-packages/bicm/graph_classes.py:1113: RuntimeWarning: invalid value encountered in divide\n",
      "  probs = node_xy * neighbor_xy / ((1 + node_xy) * (1 + neighbor_xy))\n",
      "100%|███████████████████████████████████████████████████████████████████████████████████████████████████████████████████████| 93/93 [00:00<00:00, 714.00it/s]"
     ]
    },
    {
     "name": "stdout",
     "output_type": "stream",
     "text": [
      "No V-motifs will be validated. Try increasing alpha\n"
     ]
    },
    {
     "name": "stderr",
     "output_type": "stream",
     "text": [
      "\n",
      "\n",
      "\n",
      "  0%|                                                                                                                                  | 0/6 [00:00<?, ?it/s]\u001b[A\u001b[A/home/sarawalk/sdgs_py38/lib/python3.8/site-packages/bicm/graph_classes.py:1113: RuntimeWarning: invalid value encountered in divide\n",
      "  probs = node_xy * neighbor_xy / ((1 + node_xy) * (1 + neighbor_xy))\n",
      "/home/sarawalk/sdgs_py38/lib/python3.8/site-packages/bicm/graph_classes.py:1113: RuntimeWarning: invalid value encountered in divide\n",
      "  probs = node_xy * neighbor_xy / ((1 + node_xy) * (1 + neighbor_xy))\n",
      "/home/sarawalk/sdgs_py38/lib/python3.8/site-packages/bicm/graph_classes.py:1113: RuntimeWarning: invalid value encountered in divide\n",
      "  probs = node_xy * neighbor_xy / ((1 + node_xy) * (1 + neighbor_xy))\n",
      "/home/sarawalk/sdgs_py38/lib/python3.8/site-packages/bicm/graph_classes.py:1113: RuntimeWarning: invalid value encountered in divide\n",
      "  probs = node_xy * neighbor_xy / ((1 + node_xy) * (1 + neighbor_xy))\n",
      "100%|██████████████████████████████████████████████████████████████████████████████████████████████████████████████████████████| 6/6 [00:00<00:00, 85.07it/s]"
     ]
    },
    {
     "name": "stdout",
     "output_type": "stream",
     "text": [
      "No V-motifs will be validated. Try increasing alpha\n",
      "2021 Energy SDG 1: No Poverty\r"
     ]
    },
    {
     "name": "stderr",
     "output_type": "stream",
     "text": [
      "\n",
      "\n",
      "\n",
      "100%|███████████████████████████████████████████████████████████████████████████████████████████████████████████████████████| 25/25 [00:00<00:00, 937.52it/s]\u001b[A\u001b[A"
     ]
    },
    {
     "name": "stdout",
     "output_type": "stream",
     "text": [
      "No V-motifs will be validated. Try increasing alpha\n"
     ]
    },
    {
     "name": "stderr",
     "output_type": "stream",
     "text": [
      "\n",
      "\n",
      "\n",
      "100%|█████████████████████████████████████████████████████████████████████████████████████████████████████████████████████████| 8/8 [00:00<00:00, 242.23it/s]\u001b[A\u001b[A\n"
     ]
    },
    {
     "name": "stdout",
     "output_type": "stream",
     "text": [
      "No V-motifs will be validated. Try increasing alpha\n",
      "2021 Energy SDG 2: Zero Hunger\r"
     ]
    },
    {
     "name": "stderr",
     "output_type": "stream",
     "text": [
      "\n",
      "\n",
      "100%|███████████████████████████████████████████████████████████████████████████████████████████████████████████████████████| 25/25 [00:00<00:00, 730.54it/s]\u001b[A\u001b[A\n"
     ]
    },
    {
     "name": "stdout",
     "output_type": "stream",
     "text": [
      "No V-motifs will be validated. Try increasing alpha\n"
     ]
    },
    {
     "name": "stderr",
     "output_type": "stream",
     "text": [
      "\n",
      "\n",
      "100%|█████████████████████████████████████████████████████████████████████████████████████████████████████████████████████████| 8/8 [00:00<00:00, 259.18it/s]\u001b[A\u001b[A\n"
     ]
    },
    {
     "name": "stdout",
     "output_type": "stream",
     "text": [
      "No V-motifs will be validated. Try increasing alpha\n",
      "2021 Energy SDG 3: Good Health and Well-being\r"
     ]
    },
    {
     "name": "stderr",
     "output_type": "stream",
     "text": [
      "\n",
      "\n",
      "100%|███████████████████████████████████████████████████████████████████████████████████████████████████████████████████████| 25/25 [00:00<00:00, 935.38it/s]\u001b[A\u001b[A\n"
     ]
    },
    {
     "name": "stdout",
     "output_type": "stream",
     "text": [
      "No V-motifs will be validated. Try increasing alpha\n"
     ]
    },
    {
     "name": "stderr",
     "output_type": "stream",
     "text": [
      "\n",
      "\n",
      "100%|█████████████████████████████████████████████████████████████████████████████████████████████████████████████████████████| 8/8 [00:00<00:00, 293.94it/s]\u001b[A\u001b[A\n"
     ]
    },
    {
     "name": "stdout",
     "output_type": "stream",
     "text": [
      "No V-motifs will be validated. Try increasing alpha\n",
      "2021 Energy SDG 4: Quality Education\r"
     ]
    },
    {
     "name": "stderr",
     "output_type": "stream",
     "text": [
      "\n",
      "\n",
      "100%|███████████████████████████████████████████████████████████████████████████████████████████████████████████████████████| 25/25 [00:00<00:00, 833.33it/s]\u001b[A\u001b[A\n"
     ]
    },
    {
     "name": "stdout",
     "output_type": "stream",
     "text": [
      "No V-motifs will be validated. Try increasing alpha\n"
     ]
    },
    {
     "name": "stderr",
     "output_type": "stream",
     "text": [
      "\n",
      "\n",
      "100%|█████████████████████████████████████████████████████████████████████████████████████████████████████████████████████████| 8/8 [00:00<00:00, 257.22it/s]\u001b[A\u001b[A\n"
     ]
    },
    {
     "name": "stdout",
     "output_type": "stream",
     "text": [
      "No V-motifs will be validated. Try increasing alpha\n",
      "2021 Energy SDG 5: Gender Equality\r"
     ]
    },
    {
     "name": "stderr",
     "output_type": "stream",
     "text": [
      "\n",
      "\n",
      "100%|███████████████████████████████████████████████████████████████████████████████████████████████████████████████████████| 25/25 [00:00<00:00, 976.72it/s]\u001b[A\u001b[A\n"
     ]
    },
    {
     "name": "stdout",
     "output_type": "stream",
     "text": [
      "No V-motifs will be validated. Try increasing alpha\n"
     ]
    },
    {
     "name": "stderr",
     "output_type": "stream",
     "text": [
      "\n",
      "\n",
      "100%|█████████████████████████████████████████████████████████████████████████████████████████████████████████████████████████| 8/8 [00:00<00:00, 246.74it/s]\u001b[A\u001b[A\n"
     ]
    },
    {
     "name": "stdout",
     "output_type": "stream",
     "text": [
      "No V-motifs will be validated. Try increasing alpha\n",
      "2021 Energy SDG 6: Clean Water and Sanitation\r"
     ]
    },
    {
     "name": "stderr",
     "output_type": "stream",
     "text": [
      "\n",
      "\n",
      "100%|███████████████████████████████████████████████████████████████████████████████████████████████████████████████████████| 25/25 [00:00<00:00, 991.50it/s]\u001b[A\u001b[A\n"
     ]
    },
    {
     "name": "stdout",
     "output_type": "stream",
     "text": [
      "No V-motifs will be validated. Try increasing alpha\n"
     ]
    },
    {
     "name": "stderr",
     "output_type": "stream",
     "text": [
      "\n",
      "\n",
      "100%|█████████████████████████████████████████████████████████████████████████████████████████████████████████████████████████| 8/8 [00:00<00:00, 253.25it/s]\u001b[A\u001b[A\n"
     ]
    },
    {
     "name": "stdout",
     "output_type": "stream",
     "text": [
      "No V-motifs will be validated. Try increasing alpha\n",
      "2021 Energy SDG 7: Affordable and Clean Energy\r"
     ]
    },
    {
     "name": "stderr",
     "output_type": "stream",
     "text": [
      "\n",
      "\n",
      "100%|██████████████████████████████████████████████████████████████████████████████████████████████████████████████████████| 25/25 [00:00<00:00, 1114.59it/s]\u001b[A\u001b[A\n"
     ]
    },
    {
     "name": "stdout",
     "output_type": "stream",
     "text": [
      "No V-motifs will be validated. Try increasing alpha\n"
     ]
    },
    {
     "name": "stderr",
     "output_type": "stream",
     "text": [
      "\n",
      "\n",
      "100%|█████████████████████████████████████████████████████████████████████████████████████████████████████████████████████████| 8/8 [00:00<00:00, 287.94it/s]\u001b[A\u001b[A\n"
     ]
    },
    {
     "name": "stdout",
     "output_type": "stream",
     "text": [
      "No V-motifs will be validated. Try increasing alpha\n",
      "2021 Energy SDG 8: Decent Work and Economic Growth\r"
     ]
    },
    {
     "name": "stderr",
     "output_type": "stream",
     "text": [
      "\n",
      "\n",
      "100%|███████████████████████████████████████████████████████████████████████████████████████████████████████████████████████| 25/25 [00:00<00:00, 780.93it/s]\u001b[A\u001b[A\n"
     ]
    },
    {
     "name": "stdout",
     "output_type": "stream",
     "text": [
      "No V-motifs will be validated. Try increasing alpha\n"
     ]
    },
    {
     "name": "stderr",
     "output_type": "stream",
     "text": [
      "\n",
      "\n",
      "100%|█████████████████████████████████████████████████████████████████████████████████████████████████████████████████████████| 8/8 [00:00<00:00, 342.84it/s]\u001b[A\u001b[A\n"
     ]
    },
    {
     "name": "stdout",
     "output_type": "stream",
     "text": [
      "No V-motifs will be validated. Try increasing alpha\n",
      "2021 Energy SDG 9: Industry, Innovation, and Infrastructure\r"
     ]
    },
    {
     "name": "stderr",
     "output_type": "stream",
     "text": [
      "\n",
      "\n",
      "100%|███████████████████████████████████████████████████████████████████████████████████████████████████████████████████████| 25/25 [00:00<00:00, 879.20it/s]\u001b[A\u001b[A\n"
     ]
    },
    {
     "name": "stdout",
     "output_type": "stream",
     "text": [
      "No V-motifs will be validated. Try increasing alpha\n"
     ]
    },
    {
     "name": "stderr",
     "output_type": "stream",
     "text": [
      "\n",
      "\n",
      "100%|█████████████████████████████████████████████████████████████████████████████████████████████████████████████████████████| 8/8 [00:00<00:00, 235.28it/s]\u001b[A\u001b[A\n"
     ]
    },
    {
     "name": "stdout",
     "output_type": "stream",
     "text": [
      "No V-motifs will be validated. Try increasing alpha\n",
      "2021 Energy SDG 10: Reduced Inequality\r"
     ]
    },
    {
     "name": "stderr",
     "output_type": "stream",
     "text": [
      "\n",
      "\n",
      "100%|███████████████████████████████████████████████████████████████████████████████████████████████████████████████████████| 25/25 [00:00<00:00, 735.04it/s]\u001b[A\u001b[A\n"
     ]
    },
    {
     "name": "stdout",
     "output_type": "stream",
     "text": [
      "No V-motifs will be validated. Try increasing alpha\n"
     ]
    },
    {
     "name": "stderr",
     "output_type": "stream",
     "text": [
      "\n",
      "\n",
      "100%|█████████████████████████████████████████████████████████████████████████████████████████████████████████████████████████| 8/8 [00:00<00:00, 235.39it/s]\u001b[A\u001b[A\n"
     ]
    },
    {
     "name": "stdout",
     "output_type": "stream",
     "text": [
      "No V-motifs will be validated. Try increasing alpha\n",
      "2021 Energy SDG 11: Sustainable Cities and Communities\r"
     ]
    },
    {
     "name": "stderr",
     "output_type": "stream",
     "text": [
      "\n",
      "\n",
      "100%|███████████████████████████████████████████████████████████████████████████████████████████████████████████████████████| 25/25 [00:00<00:00, 902.23it/s]\u001b[A\u001b[A\n"
     ]
    },
    {
     "name": "stdout",
     "output_type": "stream",
     "text": [
      "No V-motifs will be validated. Try increasing alpha\n"
     ]
    },
    {
     "name": "stderr",
     "output_type": "stream",
     "text": [
      "\n",
      "\n",
      "100%|█████████████████████████████████████████████████████████████████████████████████████████████████████████████████████████| 8/8 [00:00<00:00, 354.81it/s]\u001b[A\u001b[A\n"
     ]
    },
    {
     "name": "stdout",
     "output_type": "stream",
     "text": [
      "No V-motifs will be validated. Try increasing alpha\n",
      "2021 Energy SDG 12: Responsible Consumption and Production\r"
     ]
    },
    {
     "name": "stderr",
     "output_type": "stream",
     "text": [
      "\n",
      "\n",
      "100%|███████████████████████████████████████████████████████████████████████████████████████████████████████████████████████| 25/25 [00:00<00:00, 962.12it/s]\u001b[A\u001b[A\n"
     ]
    },
    {
     "name": "stdout",
     "output_type": "stream",
     "text": [
      "No V-motifs will be validated. Try increasing alpha\n"
     ]
    },
    {
     "name": "stderr",
     "output_type": "stream",
     "text": [
      "\n",
      "\n",
      "100%|█████████████████████████████████████████████████████████████████████████████████████████████████████████████████████████| 8/8 [00:00<00:00, 342.29it/s]\u001b[A\u001b[A\n"
     ]
    },
    {
     "name": "stdout",
     "output_type": "stream",
     "text": [
      "No V-motifs will be validated. Try increasing alpha\n",
      "2021 Energy SDG 13: Climate Action\r"
     ]
    },
    {
     "name": "stderr",
     "output_type": "stream",
     "text": [
      "\n",
      "\n",
      "100%|███████████████████████████████████████████████████████████████████████████████████████████████████████████████████████| 25/25 [00:00<00:00, 908.62it/s]\u001b[A\u001b[A\n"
     ]
    },
    {
     "name": "stdout",
     "output_type": "stream",
     "text": [
      "No V-motifs will be validated. Try increasing alpha\n"
     ]
    },
    {
     "name": "stderr",
     "output_type": "stream",
     "text": [
      "\n",
      "\n",
      "100%|█████████████████████████████████████████████████████████████████████████████████████████████████████████████████████████| 8/8 [00:00<00:00, 311.07it/s]\u001b[A\u001b[A\n"
     ]
    },
    {
     "name": "stdout",
     "output_type": "stream",
     "text": [
      "No V-motifs will be validated. Try increasing alpha\n",
      "2021 Energy SDG 14: Life Below Water\r"
     ]
    },
    {
     "name": "stderr",
     "output_type": "stream",
     "text": [
      "\n",
      "\n",
      "100%|███████████████████████████████████████████████████████████████████████████████████████████████████████████████████████| 25/25 [00:00<00:00, 983.74it/s]\u001b[A\u001b[A\n"
     ]
    },
    {
     "name": "stdout",
     "output_type": "stream",
     "text": [
      "No V-motifs will be validated. Try increasing alpha\n"
     ]
    },
    {
     "name": "stderr",
     "output_type": "stream",
     "text": [
      "\n",
      "\n",
      "100%|█████████████████████████████████████████████████████████████████████████████████████████████████████████████████████████| 8/8 [00:00<00:00, 234.61it/s]\u001b[A\u001b[A\n"
     ]
    },
    {
     "name": "stdout",
     "output_type": "stream",
     "text": [
      "No V-motifs will be validated. Try increasing alpha\n",
      "2021 Energy SDG 15: Life on Land\r"
     ]
    },
    {
     "name": "stderr",
     "output_type": "stream",
     "text": [
      "\n",
      "\n",
      "100%|███████████████████████████████████████████████████████████████████████████████████████████████████████████████████████| 25/25 [00:00<00:00, 998.44it/s]\u001b[A\u001b[A\n"
     ]
    },
    {
     "name": "stdout",
     "output_type": "stream",
     "text": [
      "No V-motifs will be validated. Try increasing alpha\n"
     ]
    },
    {
     "name": "stderr",
     "output_type": "stream",
     "text": [
      "\n",
      "\n",
      "100%|█████████████████████████████████████████████████████████████████████████████████████████████████████████████████████████| 8/8 [00:00<00:00, 190.82it/s]\u001b[A\u001b[A\n"
     ]
    },
    {
     "name": "stdout",
     "output_type": "stream",
     "text": [
      "No V-motifs will be validated. Try increasing alpha\n",
      "2021 Energy SDG 16: Peace, Justice, and Strong Institutions\r"
     ]
    },
    {
     "name": "stderr",
     "output_type": "stream",
     "text": [
      "\n",
      "\n",
      "100%|███████████████████████████████████████████████████████████████████████████████████████████████████████████████████████| 25/25 [00:00<00:00, 751.42it/s]\u001b[A\u001b[A\n"
     ]
    },
    {
     "name": "stdout",
     "output_type": "stream",
     "text": [
      "No V-motifs will be validated. Try increasing alpha\n"
     ]
    },
    {
     "name": "stderr",
     "output_type": "stream",
     "text": [
      "\n",
      "\n",
      "100%|█████████████████████████████████████████████████████████████████████████████████████████████████████████████████████████| 8/8 [00:00<00:00, 313.43it/s]\u001b[A\u001b[A\n"
     ]
    },
    {
     "name": "stdout",
     "output_type": "stream",
     "text": [
      "No V-motifs will be validated. Try increasing alpha\n",
      "2021 Energy SDG 17: Partnerships for the Goals\r"
     ]
    },
    {
     "name": "stderr",
     "output_type": "stream",
     "text": [
      "\n",
      "\n",
      "100%|███████████████████████████████████████████████████████████████████████████████████████████████████████████████████████| 25/25 [00:00<00:00, 963.69it/s]\u001b[A\u001b[A\n"
     ]
    },
    {
     "name": "stdout",
     "output_type": "stream",
     "text": [
      "No V-motifs will be validated. Try increasing alpha\n"
     ]
    },
    {
     "name": "stderr",
     "output_type": "stream",
     "text": [
      "\n",
      "\n",
      "100%|█████████████████████████████████████████████████████████████████████████████████████████████████████████████████████████| 8/8 [00:00<00:00, 249.89it/s]\u001b[A\u001b[A\n"
     ]
    },
    {
     "name": "stdout",
     "output_type": "stream",
     "text": [
      "No V-motifs will be validated. Try increasing alpha\n",
      "\n",
      "                      WARNING: this system has at least a node that is disconnected or connected to all nodes\n",
      "                       of the opposite layer. This may cause some convergence issues.\n",
      "                      Please use the full mode providing a biadjacency matrix or an edgelist,\n",
      "                       or clean your data from these nodes. \n",
      "                      \n",
      "2021 Utilities SDG 1: No Poverty\r"
     ]
    },
    {
     "name": "stderr",
     "output_type": "stream",
     "text": [
      "\n",
      "\n",
      "  0%|                                                                                                                                 | 0/60 [00:00<?, ?it/s]\u001b[A\u001b[A/home/sarawalk/sdgs_py38/lib/python3.8/site-packages/bicm/graph_classes.py:1113: RuntimeWarning: invalid value encountered in divide\n",
      "  probs = node_xy * neighbor_xy / ((1 + node_xy) * (1 + neighbor_xy))\n",
      "/home/sarawalk/sdgs_py38/lib/python3.8/site-packages/bicm/graph_classes.py:1113: RuntimeWarning: invalid value encountered in divide\n",
      "  probs = node_xy * neighbor_xy / ((1 + node_xy) * (1 + neighbor_xy))\n",
      "/home/sarawalk/sdgs_py38/lib/python3.8/site-packages/bicm/graph_classes.py:1113: RuntimeWarning: invalid value encountered in divide\n",
      "  probs = node_xy * neighbor_xy / ((1 + node_xy) * (1 + neighbor_xy))\n",
      "/home/sarawalk/sdgs_py38/lib/python3.8/site-packages/bicm/graph_classes.py:1113: RuntimeWarning: invalid value encountered in divide\n",
      "  probs = node_xy * neighbor_xy / ((1 + node_xy) * (1 + neighbor_xy))\n",
      "100%|██████████████████████████████████████████████████████████████████████████████████████████████████████████████████████| 60/60 [00:00<00:00, 1016.14it/s]\n"
     ]
    },
    {
     "name": "stdout",
     "output_type": "stream",
     "text": [
      "No V-motifs will be validated. Try increasing alpha\n"
     ]
    },
    {
     "name": "stderr",
     "output_type": "stream",
     "text": [
      "\n",
      "\n",
      "  0%|                                                                                                                                  | 0/5 [00:00<?, ?it/s]\u001b[A\u001b[A/home/sarawalk/sdgs_py38/lib/python3.8/site-packages/bicm/graph_classes.py:1113: RuntimeWarning: invalid value encountered in divide\n",
      "  probs = node_xy * neighbor_xy / ((1 + node_xy) * (1 + neighbor_xy))\n",
      "/home/sarawalk/sdgs_py38/lib/python3.8/site-packages/bicm/graph_classes.py:1113: RuntimeWarning: invalid value encountered in divide\n",
      "  probs = node_xy * neighbor_xy / ((1 + node_xy) * (1 + neighbor_xy))\n",
      "100%|█████████████████████████████████████████████████████████████████████████████████████████████████████████████████████████| 5/5 [00:00<00:00, 141.22it/s]/home/sarawalk/sdgs_py38/lib/python3.8/site-packages/bicm/graph_classes.py:1113: RuntimeWarning: invalid value encountered in divide\n",
      "  probs = node_xy * neighbor_xy / ((1 + node_xy) * (1 + neighbor_xy))\n",
      "/home/sarawalk/sdgs_py38/lib/python3.8/site-packages/bicm/graph_classes.py:1113: RuntimeWarning: invalid value encountered in divide\n",
      "  probs = node_xy * neighbor_xy / ((1 + node_xy) * (1 + neighbor_xy))\n",
      "\n"
     ]
    },
    {
     "name": "stdout",
     "output_type": "stream",
     "text": [
      "No V-motifs will be validated. Try increasing alpha\n",
      "\n",
      "                      WARNING: this system has at least a node that is disconnected or connected to all nodes\n",
      "                       of the opposite layer. This may cause some convergence issues.\n",
      "                      Please use the full mode providing a biadjacency matrix or an edgelist,\n",
      "                       or clean your data from these nodes. \n",
      "                      \n",
      "2021 Utilities SDG 3: Good Health and Well-being\r"
     ]
    },
    {
     "name": "stderr",
     "output_type": "stream",
     "text": [
      "\n",
      "\n",
      "  0%|                                                                                                                                 | 0/60 [00:00<?, ?it/s]\u001b[A\u001b[A/home/sarawalk/sdgs_py38/lib/python3.8/site-packages/bicm/graph_classes.py:1113: RuntimeWarning: invalid value encountered in divide\n",
      "  probs = node_xy * neighbor_xy / ((1 + node_xy) * (1 + neighbor_xy))\n",
      "/home/sarawalk/sdgs_py38/lib/python3.8/site-packages/bicm/graph_classes.py:1113: RuntimeWarning: invalid value encountered in divide\n",
      "  probs = node_xy * neighbor_xy / ((1 + node_xy) * (1 + neighbor_xy))\n",
      "/home/sarawalk/sdgs_py38/lib/python3.8/site-packages/bicm/graph_classes.py:1113: RuntimeWarning: invalid value encountered in divide\n",
      "  probs = node_xy * neighbor_xy / ((1 + node_xy) * (1 + neighbor_xy))\n",
      "/home/sarawalk/sdgs_py38/lib/python3.8/site-packages/bicm/graph_classes.py:1113: RuntimeWarning: invalid value encountered in divide\n",
      "  probs = node_xy * neighbor_xy / ((1 + node_xy) * (1 + neighbor_xy))\n",
      "100%|██████████████████████████████████████████████████████████████████████████████████████████████████████████████████████| 60/60 [00:00<00:00, 1071.08it/s]\n"
     ]
    },
    {
     "name": "stdout",
     "output_type": "stream",
     "text": [
      "No V-motifs will be validated. Try increasing alpha\n"
     ]
    },
    {
     "name": "stderr",
     "output_type": "stream",
     "text": [
      "\n",
      "\n",
      "  0%|                                                                                                                                  | 0/5 [00:00<?, ?it/s]\u001b[A\u001b[A/home/sarawalk/sdgs_py38/lib/python3.8/site-packages/bicm/graph_classes.py:1113: RuntimeWarning: invalid value encountered in divide\n",
      "  probs = node_xy * neighbor_xy / ((1 + node_xy) * (1 + neighbor_xy))\n",
      "/home/sarawalk/sdgs_py38/lib/python3.8/site-packages/bicm/graph_classes.py:1113: RuntimeWarning: invalid value encountered in divide\n",
      "  probs = node_xy * neighbor_xy / ((1 + node_xy) * (1 + neighbor_xy))\n",
      "/home/sarawalk/sdgs_py38/lib/python3.8/site-packages/bicm/graph_classes.py:1113: RuntimeWarning: invalid value encountered in divide\n",
      "  probs = node_xy * neighbor_xy / ((1 + node_xy) * (1 + neighbor_xy))\n",
      "100%|██████████████████████████████████████████████████████████████████████████████████████████████████████████████████████████| 5/5 [00:00<00:00, 99.52it/s]/home/sarawalk/sdgs_py38/lib/python3.8/site-packages/bicm/graph_classes.py:1113: RuntimeWarning: invalid value encountered in divide\n",
      "  probs = node_xy * neighbor_xy / ((1 + node_xy) * (1 + neighbor_xy))\n",
      "\n"
     ]
    },
    {
     "name": "stdout",
     "output_type": "stream",
     "text": [
      "No V-motifs will be validated. Try increasing alpha\n",
      "\n",
      "                      WARNING: this system has at least a node that is disconnected or connected to all nodes\n",
      "                       of the opposite layer. This may cause some convergence issues.\n",
      "                      Please use the full mode providing a biadjacency matrix or an edgelist,\n",
      "                       or clean your data from these nodes. \n",
      "                      \n",
      "2021 Utilities SDG 4: Quality Education\r"
     ]
    },
    {
     "name": "stderr",
     "output_type": "stream",
     "text": [
      "\n",
      "\n",
      "  0%|                                                                                                                                 | 0/60 [00:00<?, ?it/s]\u001b[A\u001b[A/home/sarawalk/sdgs_py38/lib/python3.8/site-packages/bicm/graph_classes.py:1113: RuntimeWarning: invalid value encountered in divide\n",
      "  probs = node_xy * neighbor_xy / ((1 + node_xy) * (1 + neighbor_xy))\n",
      "/home/sarawalk/sdgs_py38/lib/python3.8/site-packages/bicm/graph_classes.py:1113: RuntimeWarning: invalid value encountered in divide\n",
      "  probs = node_xy * neighbor_xy / ((1 + node_xy) * (1 + neighbor_xy))\n",
      "/home/sarawalk/sdgs_py38/lib/python3.8/site-packages/bicm/graph_classes.py:1113: RuntimeWarning: invalid value encountered in divide\n",
      "  probs = node_xy * neighbor_xy / ((1 + node_xy) * (1 + neighbor_xy))\n",
      "/home/sarawalk/sdgs_py38/lib/python3.8/site-packages/bicm/graph_classes.py:1113: RuntimeWarning: invalid value encountered in divide\n",
      "  probs = node_xy * neighbor_xy / ((1 + node_xy) * (1 + neighbor_xy))\n",
      "100%|███████████████████████████████████████████████████████████████████████████████████████████████████████████████████████| 60/60 [00:00<00:00, 884.22it/s]\n"
     ]
    },
    {
     "name": "stdout",
     "output_type": "stream",
     "text": [
      "No V-motifs will be validated. Try increasing alpha\n"
     ]
    },
    {
     "name": "stderr",
     "output_type": "stream",
     "text": [
      "\n",
      "\n",
      "  0%|                                                                                                                                  | 0/5 [00:00<?, ?it/s]\u001b[A\u001b[A/home/sarawalk/sdgs_py38/lib/python3.8/site-packages/bicm/graph_classes.py:1113: RuntimeWarning: invalid value encountered in divide\n",
      "  probs = node_xy * neighbor_xy / ((1 + node_xy) * (1 + neighbor_xy))\n",
      "/home/sarawalk/sdgs_py38/lib/python3.8/site-packages/bicm/graph_classes.py:1113: RuntimeWarning: invalid value encountered in divide\n",
      "  probs = node_xy * neighbor_xy / ((1 + node_xy) * (1 + neighbor_xy))\n",
      "/home/sarawalk/sdgs_py38/lib/python3.8/site-packages/bicm/graph_classes.py:1113: RuntimeWarning: invalid value encountered in divide\n",
      "  probs = node_xy * neighbor_xy / ((1 + node_xy) * (1 + neighbor_xy))\n",
      "100%|██████████████████████████████████████████████████████████████████████████████████████████████████████████████████████████| 5/5 [00:00<00:00, 88.56it/s]/home/sarawalk/sdgs_py38/lib/python3.8/site-packages/bicm/graph_classes.py:1113: RuntimeWarning: invalid value encountered in divide\n",
      "  probs = node_xy * neighbor_xy / ((1 + node_xy) * (1 + neighbor_xy))\n",
      "\n"
     ]
    },
    {
     "name": "stdout",
     "output_type": "stream",
     "text": [
      "No V-motifs will be validated. Try increasing alpha\n",
      "\n",
      "                      WARNING: this system has at least a node that is disconnected or connected to all nodes\n",
      "                       of the opposite layer. This may cause some convergence issues.\n",
      "                      Please use the full mode providing a biadjacency matrix or an edgelist,\n",
      "                       or clean your data from these nodes. \n",
      "                      \n",
      "2021 Utilities SDG 5: Gender Equality\r"
     ]
    },
    {
     "name": "stderr",
     "output_type": "stream",
     "text": [
      "\n",
      "\n",
      "  0%|                                                                                                                                 | 0/60 [00:00<?, ?it/s]\u001b[A\u001b[A/home/sarawalk/sdgs_py38/lib/python3.8/site-packages/bicm/graph_classes.py:1113: RuntimeWarning: invalid value encountered in divide\n",
      "  probs = node_xy * neighbor_xy / ((1 + node_xy) * (1 + neighbor_xy))\n",
      "/home/sarawalk/sdgs_py38/lib/python3.8/site-packages/bicm/graph_classes.py:1113: RuntimeWarning: invalid value encountered in divide\n",
      "  probs = node_xy * neighbor_xy / ((1 + node_xy) * (1 + neighbor_xy))\n",
      "/home/sarawalk/sdgs_py38/lib/python3.8/site-packages/bicm/graph_classes.py:1113: RuntimeWarning: invalid value encountered in divide\n",
      "  probs = node_xy * neighbor_xy / ((1 + node_xy) * (1 + neighbor_xy))\n",
      "/home/sarawalk/sdgs_py38/lib/python3.8/site-packages/bicm/graph_classes.py:1113: RuntimeWarning: invalid value encountered in divide\n",
      "  probs = node_xy * neighbor_xy / ((1 + node_xy) * (1 + neighbor_xy))\n",
      "100%|███████████████████████████████████████████████████████████████████████████████████████████████████████████████████████| 60/60 [00:00<00:00, 949.56it/s]\n"
     ]
    },
    {
     "name": "stdout",
     "output_type": "stream",
     "text": [
      "No V-motifs will be validated. Try increasing alpha\n"
     ]
    },
    {
     "name": "stderr",
     "output_type": "stream",
     "text": [
      "\n",
      "\n",
      "  0%|                                                                                                                                  | 0/5 [00:00<?, ?it/s]\u001b[A\u001b[A/home/sarawalk/sdgs_py38/lib/python3.8/site-packages/bicm/graph_classes.py:1113: RuntimeWarning: invalid value encountered in divide\n",
      "  probs = node_xy * neighbor_xy / ((1 + node_xy) * (1 + neighbor_xy))\n",
      "/home/sarawalk/sdgs_py38/lib/python3.8/site-packages/bicm/graph_classes.py:1113: RuntimeWarning: invalid value encountered in divide\n",
      "  probs = node_xy * neighbor_xy / ((1 + node_xy) * (1 + neighbor_xy))\n",
      "100%|██████████████████████████████████████████████████████████████████████████████████████████████████████████████████████████| 5/5 [00:00<00:00, 90.17it/s]/home/sarawalk/sdgs_py38/lib/python3.8/site-packages/bicm/graph_classes.py:1113: RuntimeWarning: invalid value encountered in divide\n",
      "  probs = node_xy * neighbor_xy / ((1 + node_xy) * (1 + neighbor_xy))\n",
      "/home/sarawalk/sdgs_py38/lib/python3.8/site-packages/bicm/graph_classes.py:1113: RuntimeWarning: invalid value encountered in divide\n",
      "  probs = node_xy * neighbor_xy / ((1 + node_xy) * (1 + neighbor_xy))\n",
      "\n"
     ]
    },
    {
     "name": "stdout",
     "output_type": "stream",
     "text": [
      "No V-motifs will be validated. Try increasing alpha\n",
      "\n",
      "                      WARNING: this system has at least a node that is disconnected or connected to all nodes\n",
      "                       of the opposite layer. This may cause some convergence issues.\n",
      "                      Please use the full mode providing a biadjacency matrix or an edgelist,\n",
      "                       or clean your data from these nodes. \n",
      "                      \n",
      "2021 Utilities SDG 6: Clean Water and Sanitation\r"
     ]
    },
    {
     "name": "stderr",
     "output_type": "stream",
     "text": [
      "\n",
      "\n",
      "  0%|                                                                                                                                 | 0/60 [00:00<?, ?it/s]\u001b[A\u001b[A/home/sarawalk/sdgs_py38/lib/python3.8/site-packages/bicm/graph_classes.py:1113: RuntimeWarning: invalid value encountered in divide\n",
      "  probs = node_xy * neighbor_xy / ((1 + node_xy) * (1 + neighbor_xy))\n",
      "/home/sarawalk/sdgs_py38/lib/python3.8/site-packages/bicm/graph_classes.py:1113: RuntimeWarning: invalid value encountered in divide\n",
      "  probs = node_xy * neighbor_xy / ((1 + node_xy) * (1 + neighbor_xy))\n",
      "/home/sarawalk/sdgs_py38/lib/python3.8/site-packages/bicm/graph_classes.py:1113: RuntimeWarning: invalid value encountered in divide\n",
      "  probs = node_xy * neighbor_xy / ((1 + node_xy) * (1 + neighbor_xy))\n",
      "/home/sarawalk/sdgs_py38/lib/python3.8/site-packages/bicm/graph_classes.py:1113: RuntimeWarning: invalid value encountered in divide\n",
      "  probs = node_xy * neighbor_xy / ((1 + node_xy) * (1 + neighbor_xy))\n",
      "100%|███████████████████████████████████████████████████████████████████████████████████████████████████████████████████████| 60/60 [00:00<00:00, 847.11it/s]\n"
     ]
    },
    {
     "name": "stdout",
     "output_type": "stream",
     "text": [
      "No V-motifs will be validated. Try increasing alpha\n"
     ]
    },
    {
     "name": "stderr",
     "output_type": "stream",
     "text": [
      "\n",
      "\n",
      "  0%|                                                                                                                                  | 0/5 [00:00<?, ?it/s]\u001b[A\u001b[A/home/sarawalk/sdgs_py38/lib/python3.8/site-packages/bicm/graph_classes.py:1113: RuntimeWarning: invalid value encountered in divide\n",
      "  probs = node_xy * neighbor_xy / ((1 + node_xy) * (1 + neighbor_xy))\n",
      "/home/sarawalk/sdgs_py38/lib/python3.8/site-packages/bicm/graph_classes.py:1113: RuntimeWarning: invalid value encountered in divide\n",
      "  probs = node_xy * neighbor_xy / ((1 + node_xy) * (1 + neighbor_xy))\n",
      "/home/sarawalk/sdgs_py38/lib/python3.8/site-packages/bicm/graph_classes.py:1113: RuntimeWarning: invalid value encountered in divide\n",
      "  probs = node_xy * neighbor_xy / ((1 + node_xy) * (1 + neighbor_xy))\n",
      "/home/sarawalk/sdgs_py38/lib/python3.8/site-packages/bicm/graph_classes.py:1113: RuntimeWarning: invalid value encountered in divide\n",
      "  probs = node_xy * neighbor_xy / ((1 + node_xy) * (1 + neighbor_xy))\n",
      "100%|██████████████████████████████████████████████████████████████████████████████████████████████████████████████████████████| 5/5 [00:00<00:00, 92.14it/s]\n"
     ]
    },
    {
     "name": "stdout",
     "output_type": "stream",
     "text": [
      "No V-motifs will be validated. Try increasing alpha\n",
      "\n",
      "                      WARNING: this system has at least a node that is disconnected or connected to all nodes\n",
      "                       of the opposite layer. This may cause some convergence issues.\n",
      "                      Please use the full mode providing a biadjacency matrix or an edgelist,\n",
      "                       or clean your data from these nodes. \n",
      "                      \n",
      "2021 Utilities SDG 7: Affordable and Clean Energy\r"
     ]
    },
    {
     "name": "stderr",
     "output_type": "stream",
     "text": [
      "\n",
      "\n",
      "  0%|                                                                                                                                 | 0/60 [00:00<?, ?it/s]\u001b[A\u001b[A/home/sarawalk/sdgs_py38/lib/python3.8/site-packages/bicm/graph_classes.py:1113: RuntimeWarning: invalid value encountered in divide\n",
      "  probs = node_xy * neighbor_xy / ((1 + node_xy) * (1 + neighbor_xy))\n",
      "/home/sarawalk/sdgs_py38/lib/python3.8/site-packages/bicm/graph_classes.py:1113: RuntimeWarning: invalid value encountered in divide\n",
      "  probs = node_xy * neighbor_xy / ((1 + node_xy) * (1 + neighbor_xy))\n",
      "/home/sarawalk/sdgs_py38/lib/python3.8/site-packages/bicm/graph_classes.py:1113: RuntimeWarning: invalid value encountered in divide\n",
      "  probs = node_xy * neighbor_xy / ((1 + node_xy) * (1 + neighbor_xy))\n",
      "/home/sarawalk/sdgs_py38/lib/python3.8/site-packages/bicm/graph_classes.py:1113: RuntimeWarning: invalid value encountered in divide\n",
      "  probs = node_xy * neighbor_xy / ((1 + node_xy) * (1 + neighbor_xy))\n",
      "100%|███████████████████████████████████████████████████████████████████████████████████████████████████████████████████████| 60/60 [00:00<00:00, 915.30it/s]\n"
     ]
    },
    {
     "name": "stdout",
     "output_type": "stream",
     "text": [
      "No V-motifs will be validated. Try increasing alpha\n"
     ]
    },
    {
     "name": "stderr",
     "output_type": "stream",
     "text": [
      "\n",
      "\n",
      "  0%|                                                                                                                                  | 0/5 [00:00<?, ?it/s]\u001b[A\u001b[A/home/sarawalk/sdgs_py38/lib/python3.8/site-packages/bicm/graph_classes.py:1113: RuntimeWarning: invalid value encountered in divide\n",
      "  probs = node_xy * neighbor_xy / ((1 + node_xy) * (1 + neighbor_xy))\n",
      "/home/sarawalk/sdgs_py38/lib/python3.8/site-packages/bicm/graph_classes.py:1113: RuntimeWarning: invalid value encountered in divide\n",
      "  probs = node_xy * neighbor_xy / ((1 + node_xy) * (1 + neighbor_xy))\n",
      "/home/sarawalk/sdgs_py38/lib/python3.8/site-packages/bicm/graph_classes.py:1113: RuntimeWarning: invalid value encountered in divide\n",
      "  probs = node_xy * neighbor_xy / ((1 + node_xy) * (1 + neighbor_xy))\n",
      "/home/sarawalk/sdgs_py38/lib/python3.8/site-packages/bicm/graph_classes.py:1113: RuntimeWarning: invalid value encountered in divide\n",
      "  probs = node_xy * neighbor_xy / ((1 + node_xy) * (1 + neighbor_xy))\n",
      "100%|██████████████████████████████████████████████████████████████████████████████████████████████████████████████████████████| 5/5 [00:00<00:00, 99.44it/s]\n"
     ]
    },
    {
     "name": "stdout",
     "output_type": "stream",
     "text": [
      "No V-motifs will be validated. Try increasing alpha\n",
      "\n",
      "                      WARNING: this system has at least a node that is disconnected or connected to all nodes\n",
      "                       of the opposite layer. This may cause some convergence issues.\n",
      "                      Please use the full mode providing a biadjacency matrix or an edgelist,\n",
      "                       or clean your data from these nodes. \n",
      "                      \n",
      "2021 Utilities SDG 8: Decent Work and Economic Growth\r"
     ]
    },
    {
     "name": "stderr",
     "output_type": "stream",
     "text": [
      "\n",
      "\n",
      "  0%|                                                                                                                                 | 0/60 [00:00<?, ?it/s]\u001b[A\u001b[A/home/sarawalk/sdgs_py38/lib/python3.8/site-packages/bicm/graph_classes.py:1113: RuntimeWarning: invalid value encountered in divide\n",
      "  probs = node_xy * neighbor_xy / ((1 + node_xy) * (1 + neighbor_xy))\n",
      "/home/sarawalk/sdgs_py38/lib/python3.8/site-packages/bicm/graph_classes.py:1113: RuntimeWarning: invalid value encountered in divide\n",
      "  probs = node_xy * neighbor_xy / ((1 + node_xy) * (1 + neighbor_xy))\n",
      "/home/sarawalk/sdgs_py38/lib/python3.8/site-packages/bicm/graph_classes.py:1113: RuntimeWarning: invalid value encountered in divide\n",
      "  probs = node_xy * neighbor_xy / ((1 + node_xy) * (1 + neighbor_xy))\n",
      "/home/sarawalk/sdgs_py38/lib/python3.8/site-packages/bicm/graph_classes.py:1113: RuntimeWarning: invalid value encountered in divide\n",
      "  probs = node_xy * neighbor_xy / ((1 + node_xy) * (1 + neighbor_xy))\n",
      "100%|██████████████████████████████████████████████████████████████████████████████████████████████████████████████████████| 60/60 [00:00<00:00, 1012.05it/s]\n"
     ]
    },
    {
     "name": "stdout",
     "output_type": "stream",
     "text": [
      "No V-motifs will be validated. Try increasing alpha\n"
     ]
    },
    {
     "name": "stderr",
     "output_type": "stream",
     "text": [
      "\n",
      "\n",
      "  0%|                                                                                                                                  | 0/5 [00:00<?, ?it/s]\u001b[A\u001b[A/home/sarawalk/sdgs_py38/lib/python3.8/site-packages/bicm/graph_classes.py:1113: RuntimeWarning: invalid value encountered in divide\n",
      "  probs = node_xy * neighbor_xy / ((1 + node_xy) * (1 + neighbor_xy))\n",
      "/home/sarawalk/sdgs_py38/lib/python3.8/site-packages/bicm/graph_classes.py:1113: RuntimeWarning: invalid value encountered in divide\n",
      "  probs = node_xy * neighbor_xy / ((1 + node_xy) * (1 + neighbor_xy))\n",
      "100%|█████████████████████████████████████████████████████████████████████████████████████████████████████████████████████████| 5/5 [00:00<00:00, 136.62it/s]/home/sarawalk/sdgs_py38/lib/python3.8/site-packages/bicm/graph_classes.py:1113: RuntimeWarning: invalid value encountered in divide\n",
      "  probs = node_xy * neighbor_xy / ((1 + node_xy) * (1 + neighbor_xy))\n",
      "/home/sarawalk/sdgs_py38/lib/python3.8/site-packages/bicm/graph_classes.py:1113: RuntimeWarning: invalid value encountered in divide\n",
      "  probs = node_xy * neighbor_xy / ((1 + node_xy) * (1 + neighbor_xy))\n",
      "\n"
     ]
    },
    {
     "name": "stdout",
     "output_type": "stream",
     "text": [
      "No V-motifs will be validated. Try increasing alpha\n",
      "\n",
      "                      WARNING: this system has at least a node that is disconnected or connected to all nodes\n",
      "                       of the opposite layer. This may cause some convergence issues.\n",
      "                      Please use the full mode providing a biadjacency matrix or an edgelist,\n",
      "                       or clean your data from these nodes. \n",
      "                      \n",
      "2021 Utilities SDG 9: Industry, Innovation, and Infrastructure\r"
     ]
    },
    {
     "name": "stderr",
     "output_type": "stream",
     "text": [
      "\n",
      "\n",
      "  0%|                                                                                                                                 | 0/60 [00:00<?, ?it/s]\u001b[A\u001b[A/home/sarawalk/sdgs_py38/lib/python3.8/site-packages/bicm/graph_classes.py:1113: RuntimeWarning: invalid value encountered in divide\n",
      "  probs = node_xy * neighbor_xy / ((1 + node_xy) * (1 + neighbor_xy))\n",
      "/home/sarawalk/sdgs_py38/lib/python3.8/site-packages/bicm/graph_classes.py:1113: RuntimeWarning: invalid value encountered in divide\n",
      "  probs = node_xy * neighbor_xy / ((1 + node_xy) * (1 + neighbor_xy))\n",
      "/home/sarawalk/sdgs_py38/lib/python3.8/site-packages/bicm/graph_classes.py:1113: RuntimeWarning: invalid value encountered in divide\n",
      "  probs = node_xy * neighbor_xy / ((1 + node_xy) * (1 + neighbor_xy))\n",
      "/home/sarawalk/sdgs_py38/lib/python3.8/site-packages/bicm/graph_classes.py:1113: RuntimeWarning: invalid value encountered in divide\n",
      "  probs = node_xy * neighbor_xy / ((1 + node_xy) * (1 + neighbor_xy))\n",
      "100%|██████████████████████████████████████████████████████████████████████████████████████████████████████████████████████| 60/60 [00:00<00:00, 1039.99it/s]\n"
     ]
    },
    {
     "name": "stdout",
     "output_type": "stream",
     "text": [
      "No V-motifs will be validated. Try increasing alpha\n"
     ]
    },
    {
     "name": "stderr",
     "output_type": "stream",
     "text": [
      "\n",
      "\n",
      "  0%|                                                                                                                                  | 0/5 [00:00<?, ?it/s]\u001b[A\u001b[A/home/sarawalk/sdgs_py38/lib/python3.8/site-packages/bicm/graph_classes.py:1113: RuntimeWarning: invalid value encountered in divide\n",
      "  probs = node_xy * neighbor_xy / ((1 + node_xy) * (1 + neighbor_xy))\n",
      "/home/sarawalk/sdgs_py38/lib/python3.8/site-packages/bicm/graph_classes.py:1113: RuntimeWarning: invalid value encountered in divide\n",
      "  probs = node_xy * neighbor_xy / ((1 + node_xy) * (1 + neighbor_xy))\n",
      "/home/sarawalk/sdgs_py38/lib/python3.8/site-packages/bicm/graph_classes.py:1113: RuntimeWarning: invalid value encountered in divide\n",
      "  probs = node_xy * neighbor_xy / ((1 + node_xy) * (1 + neighbor_xy))\n",
      "100%|█████████████████████████████████████████████████████████████████████████████████████████████████████████████████████████| 5/5 [00:00<00:00, 135.51it/s]/home/sarawalk/sdgs_py38/lib/python3.8/site-packages/bicm/graph_classes.py:1113: RuntimeWarning: invalid value encountered in divide\n",
      "  probs = node_xy * neighbor_xy / ((1 + node_xy) * (1 + neighbor_xy))\n",
      "\n"
     ]
    },
    {
     "name": "stdout",
     "output_type": "stream",
     "text": [
      "No V-motifs will be validated. Try increasing alpha\n",
      "\n",
      "                      WARNING: this system has at least a node that is disconnected or connected to all nodes\n",
      "                       of the opposite layer. This may cause some convergence issues.\n",
      "                      Please use the full mode providing a biadjacency matrix or an edgelist,\n",
      "                       or clean your data from these nodes. \n",
      "                      \n",
      "2021 Utilities SDG 10: Reduced Inequality\r"
     ]
    },
    {
     "name": "stderr",
     "output_type": "stream",
     "text": [
      "\n",
      "\n",
      "  0%|                                                                                                                                 | 0/60 [00:00<?, ?it/s]\u001b[A\u001b[A/home/sarawalk/sdgs_py38/lib/python3.8/site-packages/bicm/graph_classes.py:1113: RuntimeWarning: invalid value encountered in divide\n",
      "  probs = node_xy * neighbor_xy / ((1 + node_xy) * (1 + neighbor_xy))\n",
      "/home/sarawalk/sdgs_py38/lib/python3.8/site-packages/bicm/graph_classes.py:1113: RuntimeWarning: invalid value encountered in divide\n",
      "  probs = node_xy * neighbor_xy / ((1 + node_xy) * (1 + neighbor_xy))\n",
      "/home/sarawalk/sdgs_py38/lib/python3.8/site-packages/bicm/graph_classes.py:1113: RuntimeWarning: invalid value encountered in divide\n",
      "  probs = node_xy * neighbor_xy / ((1 + node_xy) * (1 + neighbor_xy))\n",
      "/home/sarawalk/sdgs_py38/lib/python3.8/site-packages/bicm/graph_classes.py:1113: RuntimeWarning: invalid value encountered in divide\n",
      "  probs = node_xy * neighbor_xy / ((1 + node_xy) * (1 + neighbor_xy))\n",
      "100%|██████████████████████████████████████████████████████████████████████████████████████████████████████████████████████| 60/60 [00:00<00:00, 1044.76it/s]\n"
     ]
    },
    {
     "name": "stdout",
     "output_type": "stream",
     "text": [
      "No V-motifs will be validated. Try increasing alpha\n"
     ]
    },
    {
     "name": "stderr",
     "output_type": "stream",
     "text": [
      "\n",
      "\n",
      "  0%|                                                                                                                                  | 0/5 [00:00<?, ?it/s]\u001b[A\u001b[A/home/sarawalk/sdgs_py38/lib/python3.8/site-packages/bicm/graph_classes.py:1113: RuntimeWarning: invalid value encountered in divide\n",
      "  probs = node_xy * neighbor_xy / ((1 + node_xy) * (1 + neighbor_xy))\n",
      "/home/sarawalk/sdgs_py38/lib/python3.8/site-packages/bicm/graph_classes.py:1113: RuntimeWarning: invalid value encountered in divide\n",
      "  probs = node_xy * neighbor_xy / ((1 + node_xy) * (1 + neighbor_xy))\n",
      "100%|█████████████████████████████████████████████████████████████████████████████████████████████████████████████████████████| 5/5 [00:00<00:00, 128.73it/s]/home/sarawalk/sdgs_py38/lib/python3.8/site-packages/bicm/graph_classes.py:1113: RuntimeWarning: invalid value encountered in divide\n",
      "  probs = node_xy * neighbor_xy / ((1 + node_xy) * (1 + neighbor_xy))\n",
      "/home/sarawalk/sdgs_py38/lib/python3.8/site-packages/bicm/graph_classes.py:1113: RuntimeWarning: invalid value encountered in divide\n",
      "  probs = node_xy * neighbor_xy / ((1 + node_xy) * (1 + neighbor_xy))\n",
      "\n"
     ]
    },
    {
     "name": "stdout",
     "output_type": "stream",
     "text": [
      "No V-motifs will be validated. Try increasing alpha\n",
      "\n",
      "                      WARNING: this system has at least a node that is disconnected or connected to all nodes\n",
      "                       of the opposite layer. This may cause some convergence issues.\n",
      "                      Please use the full mode providing a biadjacency matrix or an edgelist,\n",
      "                       or clean your data from these nodes. \n",
      "                      \n",
      "2021 Utilities SDG 11: Sustainable Cities and Communities\r"
     ]
    },
    {
     "name": "stderr",
     "output_type": "stream",
     "text": [
      "\n",
      "\n",
      "  0%|                                                                                                                                 | 0/60 [00:00<?, ?it/s]\u001b[A\u001b[A/home/sarawalk/sdgs_py38/lib/python3.8/site-packages/bicm/graph_classes.py:1113: RuntimeWarning: invalid value encountered in divide\n",
      "  probs = node_xy * neighbor_xy / ((1 + node_xy) * (1 + neighbor_xy))\n",
      "/home/sarawalk/sdgs_py38/lib/python3.8/site-packages/bicm/graph_classes.py:1113: RuntimeWarning: invalid value encountered in divide\n",
      "  probs = node_xy * neighbor_xy / ((1 + node_xy) * (1 + neighbor_xy))\n",
      "/home/sarawalk/sdgs_py38/lib/python3.8/site-packages/bicm/graph_classes.py:1113: RuntimeWarning: invalid value encountered in divide\n",
      "  probs = node_xy * neighbor_xy / ((1 + node_xy) * (1 + neighbor_xy))\n",
      "/home/sarawalk/sdgs_py38/lib/python3.8/site-packages/bicm/graph_classes.py:1113: RuntimeWarning: invalid value encountered in divide\n",
      "  probs = node_xy * neighbor_xy / ((1 + node_xy) * (1 + neighbor_xy))\n",
      "100%|███████████████████████████████████████████████████████████████████████████████████████████████████████████████████████| 60/60 [00:00<00:00, 894.02it/s]\n"
     ]
    },
    {
     "name": "stdout",
     "output_type": "stream",
     "text": [
      "No V-motifs will be validated. Try increasing alpha\n"
     ]
    },
    {
     "name": "stderr",
     "output_type": "stream",
     "text": [
      "\n",
      "\n",
      "  0%|                                                                                                                                  | 0/5 [00:00<?, ?it/s]\u001b[A\u001b[A/home/sarawalk/sdgs_py38/lib/python3.8/site-packages/bicm/graph_classes.py:1113: RuntimeWarning: invalid value encountered in divide\n",
      "  probs = node_xy * neighbor_xy / ((1 + node_xy) * (1 + neighbor_xy))\n",
      "/home/sarawalk/sdgs_py38/lib/python3.8/site-packages/bicm/graph_classes.py:1113: RuntimeWarning: invalid value encountered in divide\n",
      "  probs = node_xy * neighbor_xy / ((1 + node_xy) * (1 + neighbor_xy))\n",
      "100%|██████████████████████████████████████████████████████████████████████████████████████████████████████████████████████████| 5/5 [00:00<00:00, 94.23it/s]/home/sarawalk/sdgs_py38/lib/python3.8/site-packages/bicm/graph_classes.py:1113: RuntimeWarning: invalid value encountered in divide\n",
      "  probs = node_xy * neighbor_xy / ((1 + node_xy) * (1 + neighbor_xy))\n",
      "/home/sarawalk/sdgs_py38/lib/python3.8/site-packages/bicm/graph_classes.py:1113: RuntimeWarning: invalid value encountered in divide\n",
      "  probs = node_xy * neighbor_xy / ((1 + node_xy) * (1 + neighbor_xy))\n",
      "\n"
     ]
    },
    {
     "name": "stdout",
     "output_type": "stream",
     "text": [
      "No V-motifs will be validated. Try increasing alpha\n",
      "\n",
      "                      WARNING: this system has at least a node that is disconnected or connected to all nodes\n",
      "                       of the opposite layer. This may cause some convergence issues.\n",
      "                      Please use the full mode providing a biadjacency matrix or an edgelist,\n",
      "                       or clean your data from these nodes. \n",
      "                      \n",
      "2021 Utilities SDG 12: Responsible Consumption and Production\r"
     ]
    },
    {
     "name": "stderr",
     "output_type": "stream",
     "text": [
      "\n",
      "\n",
      "  0%|                                                                                                                                 | 0/60 [00:00<?, ?it/s]\u001b[A\u001b[A/home/sarawalk/sdgs_py38/lib/python3.8/site-packages/bicm/graph_classes.py:1113: RuntimeWarning: invalid value encountered in divide\n",
      "  probs = node_xy * neighbor_xy / ((1 + node_xy) * (1 + neighbor_xy))\n",
      "/home/sarawalk/sdgs_py38/lib/python3.8/site-packages/bicm/graph_classes.py:1113: RuntimeWarning: invalid value encountered in divide\n",
      "  probs = node_xy * neighbor_xy / ((1 + node_xy) * (1 + neighbor_xy))\n",
      "/home/sarawalk/sdgs_py38/lib/python3.8/site-packages/bicm/graph_classes.py:1113: RuntimeWarning: invalid value encountered in divide\n",
      "  probs = node_xy * neighbor_xy / ((1 + node_xy) * (1 + neighbor_xy))\n",
      "/home/sarawalk/sdgs_py38/lib/python3.8/site-packages/bicm/graph_classes.py:1113: RuntimeWarning: invalid value encountered in divide\n",
      "  probs = node_xy * neighbor_xy / ((1 + node_xy) * (1 + neighbor_xy))\n",
      "100%|███████████████████████████████████████████████████████████████████████████████████████████████████████████████████████| 60/60 [00:00<00:00, 990.07it/s]\n"
     ]
    },
    {
     "name": "stdout",
     "output_type": "stream",
     "text": [
      "No V-motifs will be validated. Try increasing alpha\n"
     ]
    },
    {
     "name": "stderr",
     "output_type": "stream",
     "text": [
      "\n",
      "\n",
      "  0%|                                                                                                                                  | 0/5 [00:00<?, ?it/s]\u001b[A\u001b[A/home/sarawalk/sdgs_py38/lib/python3.8/site-packages/bicm/graph_classes.py:1113: RuntimeWarning: invalid value encountered in divide\n",
      "  probs = node_xy * neighbor_xy / ((1 + node_xy) * (1 + neighbor_xy))\n",
      "/home/sarawalk/sdgs_py38/lib/python3.8/site-packages/bicm/graph_classes.py:1113: RuntimeWarning: invalid value encountered in divide\n",
      "  probs = node_xy * neighbor_xy / ((1 + node_xy) * (1 + neighbor_xy))\n",
      "/home/sarawalk/sdgs_py38/lib/python3.8/site-packages/bicm/graph_classes.py:1113: RuntimeWarning: invalid value encountered in divide\n",
      "  probs = node_xy * neighbor_xy / ((1 + node_xy) * (1 + neighbor_xy))\n",
      "100%|█████████████████████████████████████████████████████████████████████████████████████████████████████████████████████████| 5/5 [00:00<00:00, 136.61it/s]/home/sarawalk/sdgs_py38/lib/python3.8/site-packages/bicm/graph_classes.py:1113: RuntimeWarning: invalid value encountered in divide\n",
      "  probs = node_xy * neighbor_xy / ((1 + node_xy) * (1 + neighbor_xy))\n",
      "\n"
     ]
    },
    {
     "name": "stdout",
     "output_type": "stream",
     "text": [
      "No V-motifs will be validated. Try increasing alpha\n",
      "\n",
      "                      WARNING: this system has at least a node that is disconnected or connected to all nodes\n",
      "                       of the opposite layer. This may cause some convergence issues.\n",
      "                      Please use the full mode providing a biadjacency matrix or an edgelist,\n",
      "                       or clean your data from these nodes. \n",
      "                      \n",
      "2021 Utilities SDG 13: Climate Action\r"
     ]
    },
    {
     "name": "stderr",
     "output_type": "stream",
     "text": [
      "\n",
      "\n",
      "  0%|                                                                                                                                 | 0/60 [00:00<?, ?it/s]\u001b[A\u001b[A/home/sarawalk/sdgs_py38/lib/python3.8/site-packages/bicm/graph_classes.py:1113: RuntimeWarning: invalid value encountered in divide\n",
      "  probs = node_xy * neighbor_xy / ((1 + node_xy) * (1 + neighbor_xy))\n",
      "/home/sarawalk/sdgs_py38/lib/python3.8/site-packages/bicm/graph_classes.py:1113: RuntimeWarning: invalid value encountered in divide\n",
      "  probs = node_xy * neighbor_xy / ((1 + node_xy) * (1 + neighbor_xy))\n",
      "/home/sarawalk/sdgs_py38/lib/python3.8/site-packages/bicm/graph_classes.py:1113: RuntimeWarning: invalid value encountered in divide\n",
      "  probs = node_xy * neighbor_xy / ((1 + node_xy) * (1 + neighbor_xy))\n",
      "/home/sarawalk/sdgs_py38/lib/python3.8/site-packages/bicm/graph_classes.py:1113: RuntimeWarning: invalid value encountered in divide\n",
      "  probs = node_xy * neighbor_xy / ((1 + node_xy) * (1 + neighbor_xy))\n",
      "100%|███████████████████████████████████████████████████████████████████████████████████████████████████████████████████████| 60/60 [00:00<00:00, 771.24it/s]\n"
     ]
    },
    {
     "name": "stdout",
     "output_type": "stream",
     "text": [
      "No V-motifs will be validated. Try increasing alpha\n"
     ]
    },
    {
     "name": "stderr",
     "output_type": "stream",
     "text": [
      "\n",
      "\n",
      "  0%|                                                                                                                                  | 0/5 [00:00<?, ?it/s]\u001b[A\u001b[A/home/sarawalk/sdgs_py38/lib/python3.8/site-packages/bicm/graph_classes.py:1113: RuntimeWarning: invalid value encountered in divide\n",
      "  probs = node_xy * neighbor_xy / ((1 + node_xy) * (1 + neighbor_xy))\n",
      "/home/sarawalk/sdgs_py38/lib/python3.8/site-packages/bicm/graph_classes.py:1113: RuntimeWarning: invalid value encountered in divide\n",
      "  probs = node_xy * neighbor_xy / ((1 + node_xy) * (1 + neighbor_xy))\n",
      "100%|██████████████████████████████████████████████████████████████████████████████████████████████████████████████████████████| 5/5 [00:00<00:00, 96.19it/s]/home/sarawalk/sdgs_py38/lib/python3.8/site-packages/bicm/graph_classes.py:1113: RuntimeWarning: invalid value encountered in divide\n",
      "  probs = node_xy * neighbor_xy / ((1 + node_xy) * (1 + neighbor_xy))\n",
      "/home/sarawalk/sdgs_py38/lib/python3.8/site-packages/bicm/graph_classes.py:1113: RuntimeWarning: invalid value encountered in divide\n",
      "  probs = node_xy * neighbor_xy / ((1 + node_xy) * (1 + neighbor_xy))\n",
      "\n"
     ]
    },
    {
     "name": "stdout",
     "output_type": "stream",
     "text": [
      "No V-motifs will be validated. Try increasing alpha\n",
      "\n",
      "                      WARNING: this system has at least a node that is disconnected or connected to all nodes\n",
      "                       of the opposite layer. This may cause some convergence issues.\n",
      "                      Please use the full mode providing a biadjacency matrix or an edgelist,\n",
      "                       or clean your data from these nodes. \n",
      "                      \n",
      "2021 Utilities SDG 14: Life Below Water\r"
     ]
    },
    {
     "name": "stderr",
     "output_type": "stream",
     "text": [
      "\n",
      "\n",
      "  0%|                                                                                                                                 | 0/60 [00:00<?, ?it/s]\u001b[A\u001b[A/home/sarawalk/sdgs_py38/lib/python3.8/site-packages/bicm/graph_classes.py:1113: RuntimeWarning: invalid value encountered in divide\n",
      "  probs = node_xy * neighbor_xy / ((1 + node_xy) * (1 + neighbor_xy))\n",
      "/home/sarawalk/sdgs_py38/lib/python3.8/site-packages/bicm/graph_classes.py:1113: RuntimeWarning: invalid value encountered in divide\n",
      "  probs = node_xy * neighbor_xy / ((1 + node_xy) * (1 + neighbor_xy))\n",
      "/home/sarawalk/sdgs_py38/lib/python3.8/site-packages/bicm/graph_classes.py:1113: RuntimeWarning: invalid value encountered in divide\n",
      "  probs = node_xy * neighbor_xy / ((1 + node_xy) * (1 + neighbor_xy))\n",
      "/home/sarawalk/sdgs_py38/lib/python3.8/site-packages/bicm/graph_classes.py:1113: RuntimeWarning: invalid value encountered in divide\n",
      "  probs = node_xy * neighbor_xy / ((1 + node_xy) * (1 + neighbor_xy))\n",
      "100%|███████████████████████████████████████████████████████████████████████████████████████████████████████████████████████| 60/60 [00:00<00:00, 956.14it/s]\n"
     ]
    },
    {
     "name": "stdout",
     "output_type": "stream",
     "text": [
      "No V-motifs will be validated. Try increasing alpha\n"
     ]
    },
    {
     "name": "stderr",
     "output_type": "stream",
     "text": [
      "\n",
      "\n",
      "  0%|                                                                                                                                  | 0/5 [00:00<?, ?it/s]\u001b[A\u001b[A/home/sarawalk/sdgs_py38/lib/python3.8/site-packages/bicm/graph_classes.py:1113: RuntimeWarning: invalid value encountered in divide\n",
      "  probs = node_xy * neighbor_xy / ((1 + node_xy) * (1 + neighbor_xy))\n",
      "/home/sarawalk/sdgs_py38/lib/python3.8/site-packages/bicm/graph_classes.py:1113: RuntimeWarning: invalid value encountered in divide\n",
      "  probs = node_xy * neighbor_xy / ((1 + node_xy) * (1 + neighbor_xy))\n",
      "100%|█████████████████████████████████████████████████████████████████████████████████████████████████████████████████████████| 5/5 [00:00<00:00, 107.21it/s]/home/sarawalk/sdgs_py38/lib/python3.8/site-packages/bicm/graph_classes.py:1113: RuntimeWarning: invalid value encountered in divide\n",
      "  probs = node_xy * neighbor_xy / ((1 + node_xy) * (1 + neighbor_xy))\n",
      "/home/sarawalk/sdgs_py38/lib/python3.8/site-packages/bicm/graph_classes.py:1113: RuntimeWarning: invalid value encountered in divide\n",
      "  probs = node_xy * neighbor_xy / ((1 + node_xy) * (1 + neighbor_xy))\n"
     ]
    },
    {
     "name": "stdout",
     "output_type": "stream",
     "text": [
      "No V-motifs will be validated. Try increasing alpha\n",
      "\n",
      "                      WARNING: this system has at least a node that is disconnected or connected to all nodes\n",
      "                       of the opposite layer. This may cause some convergence issues.\n",
      "                      Please use the full mode providing a biadjacency matrix or an edgelist,\n",
      "                       or clean your data from these nodes. \n",
      "                      \n",
      "2021 Utilities SDG 15: Life on Land\r"
     ]
    },
    {
     "name": "stderr",
     "output_type": "stream",
     "text": [
      "\n",
      "\n",
      "\n",
      "  0%|                                                                                                                                 | 0/60 [00:00<?, ?it/s]\u001b[A\u001b[A/home/sarawalk/sdgs_py38/lib/python3.8/site-packages/bicm/graph_classes.py:1113: RuntimeWarning: invalid value encountered in divide\n",
      "  probs = node_xy * neighbor_xy / ((1 + node_xy) * (1 + neighbor_xy))\n",
      "/home/sarawalk/sdgs_py38/lib/python3.8/site-packages/bicm/graph_classes.py:1113: RuntimeWarning: invalid value encountered in divide\n",
      "  probs = node_xy * neighbor_xy / ((1 + node_xy) * (1 + neighbor_xy))\n",
      "/home/sarawalk/sdgs_py38/lib/python3.8/site-packages/bicm/graph_classes.py:1113: RuntimeWarning: invalid value encountered in divide\n",
      "  probs = node_xy * neighbor_xy / ((1 + node_xy) * (1 + neighbor_xy))\n",
      "/home/sarawalk/sdgs_py38/lib/python3.8/site-packages/bicm/graph_classes.py:1113: RuntimeWarning: invalid value encountered in divide\n",
      "  probs = node_xy * neighbor_xy / ((1 + node_xy) * (1 + neighbor_xy))\n",
      "100%|███████████████████████████████████████████████████████████████████████████████████████████████████████████████████████| 60/60 [00:00<00:00, 662.40it/s]\n"
     ]
    },
    {
     "name": "stdout",
     "output_type": "stream",
     "text": [
      "No V-motifs will be validated. Try increasing alpha\n"
     ]
    },
    {
     "name": "stderr",
     "output_type": "stream",
     "text": [
      "\n",
      "\n",
      "  0%|                                                                                                                                  | 0/5 [00:00<?, ?it/s]\u001b[A\u001b[A/home/sarawalk/sdgs_py38/lib/python3.8/site-packages/bicm/graph_classes.py:1113: RuntimeWarning: invalid value encountered in divide\n",
      "  probs = node_xy * neighbor_xy / ((1 + node_xy) * (1 + neighbor_xy))\n",
      "/home/sarawalk/sdgs_py38/lib/python3.8/site-packages/bicm/graph_classes.py:1113: RuntimeWarning: invalid value encountered in divide\n",
      "  probs = node_xy * neighbor_xy / ((1 + node_xy) * (1 + neighbor_xy))\n",
      "/home/sarawalk/sdgs_py38/lib/python3.8/site-packages/bicm/graph_classes.py:1113: RuntimeWarning: invalid value encountered in divide\n",
      "  probs = node_xy * neighbor_xy / ((1 + node_xy) * (1 + neighbor_xy))\n",
      "100%|█████████████████████████████████████████████████████████████████████████████████████████████████████████████████████████| 5/5 [00:00<00:00, 114.89it/s]\n",
      "/home/sarawalk/sdgs_py38/lib/python3.8/site-packages/bicm/graph_classes.py:1113: RuntimeWarning: invalid value encountered in divide\n",
      "  probs = node_xy * neighbor_xy / ((1 + node_xy) * (1 + neighbor_xy))\n"
     ]
    },
    {
     "name": "stdout",
     "output_type": "stream",
     "text": [
      "No V-motifs will be validated. Try increasing alpha\n",
      "\n",
      "                      WARNING: this system has at least a node that is disconnected or connected to all nodes\n",
      "                       of the opposite layer. This may cause some convergence issues.\n",
      "                      Please use the full mode providing a biadjacency matrix or an edgelist,\n",
      "                       or clean your data from these nodes. \n",
      "                      \n",
      "2021 Utilities SDG 16: Peace, Justice, and Strong Institutions\r"
     ]
    },
    {
     "name": "stderr",
     "output_type": "stream",
     "text": [
      "\n",
      "\n",
      "  0%|                                                                                                                                 | 0/60 [00:00<?, ?it/s]\u001b[A\u001b[A/home/sarawalk/sdgs_py38/lib/python3.8/site-packages/bicm/graph_classes.py:1113: RuntimeWarning: invalid value encountered in divide\n",
      "  probs = node_xy * neighbor_xy / ((1 + node_xy) * (1 + neighbor_xy))\n",
      "/home/sarawalk/sdgs_py38/lib/python3.8/site-packages/bicm/graph_classes.py:1113: RuntimeWarning: invalid value encountered in divide\n",
      "  probs = node_xy * neighbor_xy / ((1 + node_xy) * (1 + neighbor_xy))\n",
      "/home/sarawalk/sdgs_py38/lib/python3.8/site-packages/bicm/graph_classes.py:1113: RuntimeWarning: invalid value encountered in divide\n",
      "  probs = node_xy * neighbor_xy / ((1 + node_xy) * (1 + neighbor_xy))\n",
      "/home/sarawalk/sdgs_py38/lib/python3.8/site-packages/bicm/graph_classes.py:1113: RuntimeWarning: invalid value encountered in divide\n",
      "  probs = node_xy * neighbor_xy / ((1 + node_xy) * (1 + neighbor_xy))\n",
      "100%|███████████████████████████████████████████████████████████████████████████████████████████████████████████████████████| 60/60 [00:00<00:00, 622.72it/s]"
     ]
    },
    {
     "name": "stdout",
     "output_type": "stream",
     "text": [
      "No V-motifs will be validated. Try increasing alpha\n"
     ]
    },
    {
     "name": "stderr",
     "output_type": "stream",
     "text": [
      "\n",
      "\n",
      "\n",
      "  0%|                                                                                                                                  | 0/5 [00:00<?, ?it/s]\u001b[A\u001b[A/home/sarawalk/sdgs_py38/lib/python3.8/site-packages/bicm/graph_classes.py:1113: RuntimeWarning: invalid value encountered in divide\n",
      "  probs = node_xy * neighbor_xy / ((1 + node_xy) * (1 + neighbor_xy))\n",
      "/home/sarawalk/sdgs_py38/lib/python3.8/site-packages/bicm/graph_classes.py:1113: RuntimeWarning: invalid value encountered in divide\n",
      "  probs = node_xy * neighbor_xy / ((1 + node_xy) * (1 + neighbor_xy))\n",
      "100%|█████████████████████████████████████████████████████████████████████████████████████████████████████████████████████████| 5/5 [00:00<00:00, 137.01it/s]\n",
      "/home/sarawalk/sdgs_py38/lib/python3.8/site-packages/bicm/graph_classes.py:1113: RuntimeWarning: invalid value encountered in divide\n",
      "  probs = node_xy * neighbor_xy / ((1 + node_xy) * (1 + neighbor_xy))\n",
      "/home/sarawalk/sdgs_py38/lib/python3.8/site-packages/bicm/graph_classes.py:1113: RuntimeWarning: invalid value encountered in divide\n",
      "  probs = node_xy * neighbor_xy / ((1 + node_xy) * (1 + neighbor_xy))\n"
     ]
    },
    {
     "name": "stdout",
     "output_type": "stream",
     "text": [
      "No V-motifs will be validated. Try increasing alpha\n",
      "\n",
      "                      WARNING: this system has at least a node that is disconnected or connected to all nodes\n",
      "                       of the opposite layer. This may cause some convergence issues.\n",
      "                      Please use the full mode providing a biadjacency matrix or an edgelist,\n",
      "                       or clean your data from these nodes. \n",
      "                      \n",
      "2021 Utilities SDG 17: Partnerships for the Goals\r"
     ]
    },
    {
     "name": "stderr",
     "output_type": "stream",
     "text": [
      "\n",
      "\n",
      "  0%|                                                                                                                                 | 0/60 [00:00<?, ?it/s]\u001b[A\u001b[A/home/sarawalk/sdgs_py38/lib/python3.8/site-packages/bicm/graph_classes.py:1113: RuntimeWarning: invalid value encountered in divide\n",
      "  probs = node_xy * neighbor_xy / ((1 + node_xy) * (1 + neighbor_xy))\n",
      "/home/sarawalk/sdgs_py38/lib/python3.8/site-packages/bicm/graph_classes.py:1113: RuntimeWarning: invalid value encountered in divide\n",
      "  probs = node_xy * neighbor_xy / ((1 + node_xy) * (1 + neighbor_xy))\n",
      "/home/sarawalk/sdgs_py38/lib/python3.8/site-packages/bicm/graph_classes.py:1113: RuntimeWarning: invalid value encountered in divide\n",
      "  probs = node_xy * neighbor_xy / ((1 + node_xy) * (1 + neighbor_xy))\n",
      "/home/sarawalk/sdgs_py38/lib/python3.8/site-packages/bicm/graph_classes.py:1113: RuntimeWarning: invalid value encountered in divide\n",
      "  probs = node_xy * neighbor_xy / ((1 + node_xy) * (1 + neighbor_xy))\n",
      "100%|███████████████████████████████████████████████████████████████████████████████████████████████████████████████████████| 60/60 [00:00<00:00, 659.69it/s]"
     ]
    },
    {
     "name": "stdout",
     "output_type": "stream",
     "text": [
      "No V-motifs will be validated. Try increasing alpha\n"
     ]
    },
    {
     "name": "stderr",
     "output_type": "stream",
     "text": [
      "\n",
      "\n",
      "\n",
      "  0%|                                                                                                                                  | 0/5 [00:00<?, ?it/s]\u001b[A\u001b[A/home/sarawalk/sdgs_py38/lib/python3.8/site-packages/bicm/graph_classes.py:1113: RuntimeWarning: invalid value encountered in divide\n",
      "  probs = node_xy * neighbor_xy / ((1 + node_xy) * (1 + neighbor_xy))\n",
      "/home/sarawalk/sdgs_py38/lib/python3.8/site-packages/bicm/graph_classes.py:1113: RuntimeWarning: invalid value encountered in divide\n",
      "  probs = node_xy * neighbor_xy / ((1 + node_xy) * (1 + neighbor_xy))\n",
      "100%|██████████████████████████████████████████████████████████████████████████████████████████████████████████████████████████| 5/5 [00:00<00:00, 97.08it/s]\n",
      "/home/sarawalk/sdgs_py38/lib/python3.8/site-packages/bicm/graph_classes.py:1113: RuntimeWarning: invalid value encountered in divide\n",
      "  probs = node_xy * neighbor_xy / ((1 + node_xy) * (1 + neighbor_xy))\n",
      "/home/sarawalk/sdgs_py38/lib/python3.8/site-packages/bicm/graph_classes.py:1113: RuntimeWarning: invalid value encountered in divide\n",
      "  probs = node_xy * neighbor_xy / ((1 + node_xy) * (1 + neighbor_xy))\n"
     ]
    },
    {
     "name": "stdout",
     "output_type": "stream",
     "text": [
      "No V-motifs will be validated. Try increasing alpha\n",
      "2022 Energy SDG 1: No Poverty\r"
     ]
    },
    {
     "name": "stderr",
     "output_type": "stream",
     "text": [
      "\n",
      "\n",
      "100%|███████████████████████████████████████████████████████████████████████████████████████████████████████████████████████| 25/25 [00:00<00:00, 905.73it/s]\u001b[A\u001b[A\n"
     ]
    },
    {
     "name": "stdout",
     "output_type": "stream",
     "text": [
      "No V-motifs will be validated. Try increasing alpha\n"
     ]
    },
    {
     "name": "stderr",
     "output_type": "stream",
     "text": [
      "\n",
      "\n",
      "100%|█████████████████████████████████████████████████████████████████████████████████████████████████████████████████████████| 9/9 [00:00<00:00, 255.61it/s]\u001b[A\u001b[A\n"
     ]
    },
    {
     "name": "stdout",
     "output_type": "stream",
     "text": [
      "No V-motifs will be validated. Try increasing alpha\n",
      "2022 Energy SDG 2: Zero Hunger\r"
     ]
    },
    {
     "name": "stderr",
     "output_type": "stream",
     "text": [
      "\n",
      "\n",
      "100%|███████████████████████████████████████████████████████████████████████████████████████████████████████████████████████| 25/25 [00:00<00:00, 954.32it/s]\u001b[A\u001b[A\n"
     ]
    },
    {
     "name": "stdout",
     "output_type": "stream",
     "text": [
      "No V-motifs will be validated. Try increasing alpha\n"
     ]
    },
    {
     "name": "stderr",
     "output_type": "stream",
     "text": [
      "\n",
      "\n",
      "100%|█████████████████████████████████████████████████████████████████████████████████████████████████████████████████████████| 9/9 [00:00<00:00, 254.68it/s]\u001b[A\u001b[A\n"
     ]
    },
    {
     "name": "stdout",
     "output_type": "stream",
     "text": [
      "No V-motifs will be validated. Try increasing alpha\n",
      "2022 Energy SDG 3: Good Health and Well-being\r"
     ]
    },
    {
     "name": "stderr",
     "output_type": "stream",
     "text": [
      "\n",
      "\n",
      "100%|███████████████████████████████████████████████████████████████████████████████████████████████████████████████████████| 25/25 [00:00<00:00, 887.78it/s]\u001b[A\u001b[A\n"
     ]
    },
    {
     "name": "stdout",
     "output_type": "stream",
     "text": [
      "No V-motifs will be validated. Try increasing alpha\n"
     ]
    },
    {
     "name": "stderr",
     "output_type": "stream",
     "text": [
      "\n",
      "\n",
      "100%|█████████████████████████████████████████████████████████████████████████████████████████████████████████████████████████| 9/9 [00:00<00:00, 220.29it/s]\u001b[A\u001b[A\n"
     ]
    },
    {
     "name": "stdout",
     "output_type": "stream",
     "text": [
      "No V-motifs will be validated. Try increasing alpha\n",
      "2022 Energy SDG 4: Quality Education\r"
     ]
    },
    {
     "name": "stderr",
     "output_type": "stream",
     "text": [
      "\n",
      "\n",
      "100%|███████████████████████████████████████████████████████████████████████████████████████████████████████████████████████| 25/25 [00:00<00:00, 915.68it/s]\u001b[A\u001b[A\n"
     ]
    },
    {
     "name": "stdout",
     "output_type": "stream",
     "text": [
      "No V-motifs will be validated. Try increasing alpha\n"
     ]
    },
    {
     "name": "stderr",
     "output_type": "stream",
     "text": [
      "\n",
      "\n",
      "100%|█████████████████████████████████████████████████████████████████████████████████████████████████████████████████████████| 9/9 [00:00<00:00, 327.86it/s]\u001b[A\u001b[A\n"
     ]
    },
    {
     "name": "stdout",
     "output_type": "stream",
     "text": [
      "No V-motifs will be validated. Try increasing alpha\n",
      "2022 Energy SDG 5: Gender Equality\r"
     ]
    },
    {
     "name": "stderr",
     "output_type": "stream",
     "text": [
      "\n",
      "\n",
      "100%|███████████████████████████████████████████████████████████████████████████████████████████████████████████████████████| 25/25 [00:00<00:00, 902.99it/s]\u001b[A\u001b[A\n"
     ]
    },
    {
     "name": "stdout",
     "output_type": "stream",
     "text": [
      "No V-motifs will be validated. Try increasing alpha\n"
     ]
    },
    {
     "name": "stderr",
     "output_type": "stream",
     "text": [
      "\n",
      "\n",
      "100%|█████████████████████████████████████████████████████████████████████████████████████████████████████████████████████████| 9/9 [00:00<00:00, 341.71it/s]\u001b[A\u001b[A\n"
     ]
    },
    {
     "name": "stdout",
     "output_type": "stream",
     "text": [
      "No V-motifs will be validated. Try increasing alpha\n",
      "2022 Energy SDG 6: Clean Water and Sanitation\r"
     ]
    },
    {
     "name": "stderr",
     "output_type": "stream",
     "text": [
      "\n",
      "\n",
      "100%|██████████████████████████████████████████████████████████████████████████████████████████████████████████████████████| 25/25 [00:00<00:00, 1025.24it/s]\u001b[A\u001b[A\n"
     ]
    },
    {
     "name": "stdout",
     "output_type": "stream",
     "text": [
      "No V-motifs will be validated. Try increasing alpha\n"
     ]
    },
    {
     "name": "stderr",
     "output_type": "stream",
     "text": [
      "\n",
      "\n",
      "100%|█████████████████████████████████████████████████████████████████████████████████████████████████████████████████████████| 9/9 [00:00<00:00, 345.98it/s]\u001b[A\u001b[A\n"
     ]
    },
    {
     "name": "stdout",
     "output_type": "stream",
     "text": [
      "No V-motifs will be validated. Try increasing alpha\n",
      "2022 Energy SDG 7: Affordable and Clean Energy\r"
     ]
    },
    {
     "name": "stderr",
     "output_type": "stream",
     "text": [
      "\n",
      "\n",
      "100%|██████████████████████████████████████████████████████████████████████████████████████████████████████████████████████| 25/25 [00:00<00:00, 1012.83it/s]\u001b[A\u001b[A\n"
     ]
    },
    {
     "name": "stdout",
     "output_type": "stream",
     "text": [
      "No V-motifs will be validated. Try increasing alpha\n"
     ]
    },
    {
     "name": "stderr",
     "output_type": "stream",
     "text": [
      "\n",
      "\n",
      "100%|█████████████████████████████████████████████████████████████████████████████████████████████████████████████████████████| 9/9 [00:00<00:00, 332.61it/s]\u001b[A\u001b[A\n"
     ]
    },
    {
     "name": "stdout",
     "output_type": "stream",
     "text": [
      "No V-motifs will be validated. Try increasing alpha\n",
      "2022 Energy SDG 8: Decent Work and Economic Growth\r"
     ]
    },
    {
     "name": "stderr",
     "output_type": "stream",
     "text": [
      "\n",
      "\n",
      "100%|███████████████████████████████████████████████████████████████████████████████████████████████████████████████████████| 25/25 [00:00<00:00, 862.89it/s]\u001b[A\u001b[A\n"
     ]
    },
    {
     "name": "stdout",
     "output_type": "stream",
     "text": [
      "No V-motifs will be validated. Try increasing alpha\n"
     ]
    },
    {
     "name": "stderr",
     "output_type": "stream",
     "text": [
      "\n",
      "\n",
      "100%|█████████████████████████████████████████████████████████████████████████████████████████████████████████████████████████| 9/9 [00:00<00:00, 364.22it/s]\u001b[A\u001b[A\n"
     ]
    },
    {
     "name": "stdout",
     "output_type": "stream",
     "text": [
      "No V-motifs will be validated. Try increasing alpha\n",
      "2022 Energy SDG 9: Industry, Innovation, and Infrastructure\r"
     ]
    },
    {
     "name": "stderr",
     "output_type": "stream",
     "text": [
      "\n",
      "\n",
      "100%|███████████████████████████████████████████████████████████████████████████████████████████████████████████████████████| 25/25 [00:00<00:00, 760.92it/s]\u001b[A\u001b[A\n"
     ]
    },
    {
     "name": "stdout",
     "output_type": "stream",
     "text": [
      "No V-motifs will be validated. Try increasing alpha\n"
     ]
    },
    {
     "name": "stderr",
     "output_type": "stream",
     "text": [
      "\n",
      "\n",
      "100%|█████████████████████████████████████████████████████████████████████████████████████████████████████████████████████████| 9/9 [00:00<00:00, 342.62it/s]\u001b[A\u001b[A\n"
     ]
    },
    {
     "name": "stdout",
     "output_type": "stream",
     "text": [
      "No V-motifs will be validated. Try increasing alpha\n",
      "2022 Energy SDG 10: Reduced Inequality\r"
     ]
    },
    {
     "name": "stderr",
     "output_type": "stream",
     "text": [
      "\n",
      "\n",
      "100%|███████████████████████████████████████████████████████████████████████████████████████████████████████████████████████| 25/25 [00:00<00:00, 967.01it/s]\u001b[A\u001b[A"
     ]
    },
    {
     "name": "stdout",
     "output_type": "stream",
     "text": [
      "No V-motifs will be validated. Try increasing alpha\n"
     ]
    },
    {
     "name": "stderr",
     "output_type": "stream",
     "text": [
      "\n",
      "\n",
      "\n",
      "100%|█████████████████████████████████████████████████████████████████████████████████████████████████████████████████████████| 9/9 [00:00<00:00, 339.33it/s]\u001b[A\u001b[A\n"
     ]
    },
    {
     "name": "stdout",
     "output_type": "stream",
     "text": [
      "No V-motifs will be validated. Try increasing alpha\n",
      "2022 Energy SDG 11: Sustainable Cities and Communities\r"
     ]
    },
    {
     "name": "stderr",
     "output_type": "stream",
     "text": [
      "\n",
      "\n",
      "100%|███████████████████████████████████████████████████████████████████████████████████████████████████████████████████████| 25/25 [00:00<00:00, 939.64it/s]\u001b[A\u001b[A\n"
     ]
    },
    {
     "name": "stdout",
     "output_type": "stream",
     "text": [
      "No V-motifs will be validated. Try increasing alpha\n"
     ]
    },
    {
     "name": "stderr",
     "output_type": "stream",
     "text": [
      "\n",
      "\n",
      "100%|█████████████████████████████████████████████████████████████████████████████████████████████████████████████████████████| 9/9 [00:00<00:00, 370.62it/s]\u001b[A\u001b[A\n"
     ]
    },
    {
     "name": "stdout",
     "output_type": "stream",
     "text": [
      "No V-motifs will be validated. Try increasing alpha\n",
      "2022 Energy SDG 12: Responsible Consumption and Production\r"
     ]
    },
    {
     "name": "stderr",
     "output_type": "stream",
     "text": [
      "\n",
      "\n",
      "100%|███████████████████████████████████████████████████████████████████████████████████████████████████████████████████████| 25/25 [00:00<00:00, 936.64it/s]\u001b[A\u001b[A\n"
     ]
    },
    {
     "name": "stdout",
     "output_type": "stream",
     "text": [
      "No V-motifs will be validated. Try increasing alpha\n"
     ]
    },
    {
     "name": "stderr",
     "output_type": "stream",
     "text": [
      "\n",
      "\n",
      "100%|█████████████████████████████████████████████████████████████████████████████████████████████████████████████████████████| 9/9 [00:00<00:00, 245.97it/s]\u001b[A\u001b[A\n"
     ]
    },
    {
     "name": "stdout",
     "output_type": "stream",
     "text": [
      "No V-motifs will be validated. Try increasing alpha\n",
      "2022 Energy SDG 13: Climate Action\r"
     ]
    },
    {
     "name": "stderr",
     "output_type": "stream",
     "text": [
      "\n",
      "\n",
      "100%|███████████████████████████████████████████████████████████████████████████████████████████████████████████████████████| 25/25 [00:00<00:00, 907.54it/s]\u001b[A\u001b[A\n"
     ]
    },
    {
     "name": "stdout",
     "output_type": "stream",
     "text": [
      "No V-motifs will be validated. Try increasing alpha\n"
     ]
    },
    {
     "name": "stderr",
     "output_type": "stream",
     "text": [
      "\n",
      "\n",
      "100%|█████████████████████████████████████████████████████████████████████████████████████████████████████████████████████████| 9/9 [00:00<00:00, 335.45it/s]\u001b[A\u001b[A\n"
     ]
    },
    {
     "name": "stdout",
     "output_type": "stream",
     "text": [
      "No V-motifs will be validated. Try increasing alpha\n",
      "2022 Energy SDG 14: Life Below Water\r"
     ]
    },
    {
     "name": "stderr",
     "output_type": "stream",
     "text": [
      "\n",
      "\n",
      "100%|███████████████████████████████████████████████████████████████████████████████████████████████████████████████████████| 25/25 [00:00<00:00, 913.43it/s]\u001b[A\u001b[A\n"
     ]
    },
    {
     "name": "stdout",
     "output_type": "stream",
     "text": [
      "No V-motifs will be validated. Try increasing alpha\n"
     ]
    },
    {
     "name": "stderr",
     "output_type": "stream",
     "text": [
      "\n",
      "\n",
      "100%|█████████████████████████████████████████████████████████████████████████████████████████████████████████████████████████| 9/9 [00:00<00:00, 265.38it/s]\u001b[A\u001b[A\n"
     ]
    },
    {
     "name": "stdout",
     "output_type": "stream",
     "text": [
      "No V-motifs will be validated. Try increasing alpha\n",
      "2022 Energy SDG 15: Life on Land\r"
     ]
    },
    {
     "name": "stderr",
     "output_type": "stream",
     "text": [
      "\n",
      "\n",
      "100%|███████████████████████████████████████████████████████████████████████████████████████████████████████████████████████| 25/25 [00:00<00:00, 929.40it/s]\u001b[A\u001b[A\n"
     ]
    },
    {
     "name": "stdout",
     "output_type": "stream",
     "text": [
      "No V-motifs will be validated. Try increasing alpha\n"
     ]
    },
    {
     "name": "stderr",
     "output_type": "stream",
     "text": [
      "\n",
      "\n",
      "100%|█████████████████████████████████████████████████████████████████████████████████████████████████████████████████████████| 9/9 [00:00<00:00, 288.59it/s]\u001b[A\u001b[A\n"
     ]
    },
    {
     "name": "stdout",
     "output_type": "stream",
     "text": [
      "No V-motifs will be validated. Try increasing alpha\n",
      "2022 Energy SDG 16: Peace, Justice, and Strong Institutions\r"
     ]
    },
    {
     "name": "stderr",
     "output_type": "stream",
     "text": [
      "\n",
      "\n",
      "100%|███████████████████████████████████████████████████████████████████████████████████████████████████████████████████████| 25/25 [00:00<00:00, 915.53it/s]\u001b[A\u001b[A\n"
     ]
    },
    {
     "name": "stdout",
     "output_type": "stream",
     "text": [
      "No V-motifs will be validated. Try increasing alpha\n"
     ]
    },
    {
     "name": "stderr",
     "output_type": "stream",
     "text": [
      "\n",
      "\n",
      "100%|█████████████████████████████████████████████████████████████████████████████████████████████████████████████████████████| 9/9 [00:00<00:00, 258.80it/s]\u001b[A\u001b[A\n"
     ]
    },
    {
     "name": "stdout",
     "output_type": "stream",
     "text": [
      "No V-motifs will be validated. Try increasing alpha\n",
      "2022 Energy SDG 17: Partnerships for the Goals\r"
     ]
    },
    {
     "name": "stderr",
     "output_type": "stream",
     "text": [
      "\n",
      "\n",
      "100%|███████████████████████████████████████████████████████████████████████████████████████████████████████████████████████| 25/25 [00:00<00:00, 812.76it/s]\u001b[A\u001b[A\n"
     ]
    },
    {
     "name": "stdout",
     "output_type": "stream",
     "text": [
      "No V-motifs will be validated. Try increasing alpha\n"
     ]
    },
    {
     "name": "stderr",
     "output_type": "stream",
     "text": [
      "\n",
      "\n",
      "100%|█████████████████████████████████████████████████████████████████████████████████████████████████████████████████████████| 9/9 [00:00<00:00, 237.43it/s]\u001b[A\u001b[A\n"
     ]
    },
    {
     "name": "stdout",
     "output_type": "stream",
     "text": [
      "No V-motifs will be validated. Try increasing alpha\n",
      "\n",
      "                      WARNING: this system has at least a node that is disconnected or connected to all nodes\n",
      "                       of the opposite layer. This may cause some convergence issues.\n",
      "                      Please use the full mode providing a biadjacency matrix or an edgelist,\n",
      "                       or clean your data from these nodes. \n",
      "                      \n",
      "2022 Utilities SDG 1: No Poverty\r"
     ]
    },
    {
     "name": "stderr",
     "output_type": "stream",
     "text": [
      "\n",
      "\n",
      "  0%|                                                                                                                                 | 0/45 [00:00<?, ?it/s]\u001b[A\u001b[A/home/sarawalk/sdgs_py38/lib/python3.8/site-packages/bicm/graph_classes.py:1113: RuntimeWarning: invalid value encountered in divide\n",
      "  probs = node_xy * neighbor_xy / ((1 + node_xy) * (1 + neighbor_xy))\n",
      "/home/sarawalk/sdgs_py38/lib/python3.8/site-packages/bicm/graph_classes.py:1113: RuntimeWarning: invalid value encountered in divide\n",
      "  probs = node_xy * neighbor_xy / ((1 + node_xy) * (1 + neighbor_xy))\n",
      "/home/sarawalk/sdgs_py38/lib/python3.8/site-packages/bicm/graph_classes.py:1113: RuntimeWarning: invalid value encountered in divide\n",
      "  probs = node_xy * neighbor_xy / ((1 + node_xy) * (1 + neighbor_xy))\n",
      "/home/sarawalk/sdgs_py38/lib/python3.8/site-packages/bicm/graph_classes.py:1113: RuntimeWarning: invalid value encountered in divide\n",
      "  probs = node_xy * neighbor_xy / ((1 + node_xy) * (1 + neighbor_xy))\n",
      "100%|███████████████████████████████████████████████████████████████████████████████████████████████████████████████████████| 45/45 [00:00<00:00, 906.99it/s]\n"
     ]
    },
    {
     "name": "stdout",
     "output_type": "stream",
     "text": [
      "No V-motifs will be validated. Try increasing alpha\n"
     ]
    },
    {
     "name": "stderr",
     "output_type": "stream",
     "text": [
      "\n",
      "\n",
      "  0%|                                                                                                                                  | 0/6 [00:00<?, ?it/s]\u001b[A\u001b[A/home/sarawalk/sdgs_py38/lib/python3.8/site-packages/bicm/graph_classes.py:1113: RuntimeWarning: invalid value encountered in divide\n",
      "  probs = node_xy * neighbor_xy / ((1 + node_xy) * (1 + neighbor_xy))\n",
      "/home/sarawalk/sdgs_py38/lib/python3.8/site-packages/bicm/graph_classes.py:1113: RuntimeWarning: invalid value encountered in divide\n",
      "  probs = node_xy * neighbor_xy / ((1 + node_xy) * (1 + neighbor_xy))\n",
      "/home/sarawalk/sdgs_py38/lib/python3.8/site-packages/bicm/graph_classes.py:1113: RuntimeWarning: invalid value encountered in divide\n",
      "  probs = node_xy * neighbor_xy / ((1 + node_xy) * (1 + neighbor_xy))\n",
      "100%|█████████████████████████████████████████████████████████████████████████████████████████████████████████████████████████| 6/6 [00:00<00:00, 180.01it/s]/home/sarawalk/sdgs_py38/lib/python3.8/site-packages/bicm/graph_classes.py:1113: RuntimeWarning: invalid value encountered in divide\n",
      "  probs = node_xy * neighbor_xy / ((1 + node_xy) * (1 + neighbor_xy))\n",
      "\n"
     ]
    },
    {
     "name": "stdout",
     "output_type": "stream",
     "text": [
      "No V-motifs will be validated. Try increasing alpha\n",
      "\n",
      "                      WARNING: this system has at least a node that is disconnected or connected to all nodes\n",
      "                       of the opposite layer. This may cause some convergence issues.\n",
      "                      Please use the full mode providing a biadjacency matrix or an edgelist,\n",
      "                       or clean your data from these nodes. \n",
      "                      \n",
      "2022 Utilities SDG 3: Good Health and Well-being\r"
     ]
    },
    {
     "name": "stderr",
     "output_type": "stream",
     "text": [
      "\n",
      "\n",
      "  0%|                                                                                                                                 | 0/45 [00:00<?, ?it/s]\u001b[A\u001b[A/home/sarawalk/sdgs_py38/lib/python3.8/site-packages/bicm/graph_classes.py:1113: RuntimeWarning: invalid value encountered in divide\n",
      "  probs = node_xy * neighbor_xy / ((1 + node_xy) * (1 + neighbor_xy))\n",
      "/home/sarawalk/sdgs_py38/lib/python3.8/site-packages/bicm/graph_classes.py:1113: RuntimeWarning: invalid value encountered in divide\n",
      "  probs = node_xy * neighbor_xy / ((1 + node_xy) * (1 + neighbor_xy))\n",
      "/home/sarawalk/sdgs_py38/lib/python3.8/site-packages/bicm/graph_classes.py:1113: RuntimeWarning: invalid value encountered in divide\n",
      "  probs = node_xy * neighbor_xy / ((1 + node_xy) * (1 + neighbor_xy))\n",
      "/home/sarawalk/sdgs_py38/lib/python3.8/site-packages/bicm/graph_classes.py:1113: RuntimeWarning: invalid value encountered in divide\n",
      "  probs = node_xy * neighbor_xy / ((1 + node_xy) * (1 + neighbor_xy))\n",
      "100%|███████████████████████████████████████████████████████████████████████████████████████████████████████████████████████| 45/45 [00:00<00:00, 924.47it/s]\n"
     ]
    },
    {
     "name": "stdout",
     "output_type": "stream",
     "text": [
      "No V-motifs will be validated. Try increasing alpha\n"
     ]
    },
    {
     "name": "stderr",
     "output_type": "stream",
     "text": [
      "\n",
      "\n",
      "  0%|                                                                                                                                  | 0/6 [00:00<?, ?it/s]\u001b[A\u001b[A/home/sarawalk/sdgs_py38/lib/python3.8/site-packages/bicm/graph_classes.py:1113: RuntimeWarning: invalid value encountered in divide\n",
      "  probs = node_xy * neighbor_xy / ((1 + node_xy) * (1 + neighbor_xy))\n",
      "100%|█████████████████████████████████████████████████████████████████████████████████████████████████████████████████████████| 6/6 [00:00<00:00, 154.96it/s]/home/sarawalk/sdgs_py38/lib/python3.8/site-packages/bicm/graph_classes.py:1113: RuntimeWarning: invalid value encountered in divide\n",
      "  probs = node_xy * neighbor_xy / ((1 + node_xy) * (1 + neighbor_xy))\n",
      "\n",
      "/home/sarawalk/sdgs_py38/lib/python3.8/site-packages/bicm/graph_classes.py:1113: RuntimeWarning: invalid value encountered in divide\n",
      "  probs = node_xy * neighbor_xy / ((1 + node_xy) * (1 + neighbor_xy))\n",
      "/home/sarawalk/sdgs_py38/lib/python3.8/site-packages/bicm/graph_classes.py:1113: RuntimeWarning: invalid value encountered in divide\n",
      "  probs = node_xy * neighbor_xy / ((1 + node_xy) * (1 + neighbor_xy))\n"
     ]
    },
    {
     "name": "stdout",
     "output_type": "stream",
     "text": [
      "No V-motifs will be validated. Try increasing alpha\n",
      "\n",
      "                      WARNING: this system has at least a node that is disconnected or connected to all nodes\n",
      "                       of the opposite layer. This may cause some convergence issues.\n",
      "                      Please use the full mode providing a biadjacency matrix or an edgelist,\n",
      "                       or clean your data from these nodes. \n",
      "                      \n",
      "2022 Utilities SDG 4: Quality Education\r"
     ]
    },
    {
     "name": "stderr",
     "output_type": "stream",
     "text": [
      "\n",
      "\n",
      "  0%|                                                                                                                                 | 0/45 [00:00<?, ?it/s]\u001b[A\u001b[A/home/sarawalk/sdgs_py38/lib/python3.8/site-packages/bicm/graph_classes.py:1113: RuntimeWarning: invalid value encountered in divide\n",
      "  probs = node_xy * neighbor_xy / ((1 + node_xy) * (1 + neighbor_xy))\n",
      "/home/sarawalk/sdgs_py38/lib/python3.8/site-packages/bicm/graph_classes.py:1113: RuntimeWarning: invalid value encountered in divide\n",
      "  probs = node_xy * neighbor_xy / ((1 + node_xy) * (1 + neighbor_xy))\n",
      "/home/sarawalk/sdgs_py38/lib/python3.8/site-packages/bicm/graph_classes.py:1113: RuntimeWarning: invalid value encountered in divide\n",
      "  probs = node_xy * neighbor_xy / ((1 + node_xy) * (1 + neighbor_xy))\n",
      "/home/sarawalk/sdgs_py38/lib/python3.8/site-packages/bicm/graph_classes.py:1113: RuntimeWarning: invalid value encountered in divide\n",
      "  probs = node_xy * neighbor_xy / ((1 + node_xy) * (1 + neighbor_xy))\n",
      "100%|███████████████████████████████████████████████████████████████████████████████████████████████████████████████████████| 45/45 [00:00<00:00, 995.08it/s]\n"
     ]
    },
    {
     "name": "stdout",
     "output_type": "stream",
     "text": [
      "No V-motifs will be validated. Try increasing alpha\n"
     ]
    },
    {
     "name": "stderr",
     "output_type": "stream",
     "text": [
      "\n",
      "\n",
      "  0%|                                                                                                                                  | 0/6 [00:00<?, ?it/s]\u001b[A\u001b[A/home/sarawalk/sdgs_py38/lib/python3.8/site-packages/bicm/graph_classes.py:1113: RuntimeWarning: invalid value encountered in divide\n",
      "  probs = node_xy * neighbor_xy / ((1 + node_xy) * (1 + neighbor_xy))\n",
      "100%|█████████████████████████████████████████████████████████████████████████████████████████████████████████████████████████| 6/6 [00:00<00:00, 196.55it/s]/home/sarawalk/sdgs_py38/lib/python3.8/site-packages/bicm/graph_classes.py:1113: RuntimeWarning: invalid value encountered in divide\n",
      "  probs = node_xy * neighbor_xy / ((1 + node_xy) * (1 + neighbor_xy))\n",
      "\n",
      "/home/sarawalk/sdgs_py38/lib/python3.8/site-packages/bicm/graph_classes.py:1113: RuntimeWarning: invalid value encountered in divide\n",
      "  probs = node_xy * neighbor_xy / ((1 + node_xy) * (1 + neighbor_xy))\n",
      "/home/sarawalk/sdgs_py38/lib/python3.8/site-packages/bicm/graph_classes.py:1113: RuntimeWarning: invalid value encountered in divide\n",
      "  probs = node_xy * neighbor_xy / ((1 + node_xy) * (1 + neighbor_xy))\n"
     ]
    },
    {
     "name": "stdout",
     "output_type": "stream",
     "text": [
      "No V-motifs will be validated. Try increasing alpha\n",
      "\n",
      "                      WARNING: this system has at least a node that is disconnected or connected to all nodes\n",
      "                       of the opposite layer. This may cause some convergence issues.\n",
      "                      Please use the full mode providing a biadjacency matrix or an edgelist,\n",
      "                       or clean your data from these nodes. \n",
      "                      \n",
      "2022 Utilities SDG 5: Gender Equality\r"
     ]
    },
    {
     "name": "stderr",
     "output_type": "stream",
     "text": [
      "\n",
      "\n",
      "  0%|                                                                                                                                 | 0/45 [00:00<?, ?it/s]\u001b[A\u001b[A/home/sarawalk/sdgs_py38/lib/python3.8/site-packages/bicm/graph_classes.py:1113: RuntimeWarning: invalid value encountered in divide\n",
      "  probs = node_xy * neighbor_xy / ((1 + node_xy) * (1 + neighbor_xy))\n",
      "/home/sarawalk/sdgs_py38/lib/python3.8/site-packages/bicm/graph_classes.py:1113: RuntimeWarning: invalid value encountered in divide\n",
      "  probs = node_xy * neighbor_xy / ((1 + node_xy) * (1 + neighbor_xy))\n",
      "/home/sarawalk/sdgs_py38/lib/python3.8/site-packages/bicm/graph_classes.py:1113: RuntimeWarning: invalid value encountered in divide\n",
      "  probs = node_xy * neighbor_xy / ((1 + node_xy) * (1 + neighbor_xy))\n",
      "/home/sarawalk/sdgs_py38/lib/python3.8/site-packages/bicm/graph_classes.py:1113: RuntimeWarning: invalid value encountered in divide\n",
      "  probs = node_xy * neighbor_xy / ((1 + node_xy) * (1 + neighbor_xy))\n",
      "100%|███████████████████████████████████████████████████████████████████████████████████████████████████████████████████████| 45/45 [00:00<00:00, 944.59it/s]\n"
     ]
    },
    {
     "name": "stdout",
     "output_type": "stream",
     "text": [
      "No V-motifs will be validated. Try increasing alpha\n"
     ]
    },
    {
     "name": "stderr",
     "output_type": "stream",
     "text": [
      "\n",
      "\n",
      "  0%|                                                                                                                                  | 0/6 [00:00<?, ?it/s]\u001b[A\u001b[A/home/sarawalk/sdgs_py38/lib/python3.8/site-packages/bicm/graph_classes.py:1113: RuntimeWarning: invalid value encountered in divide\n",
      "  probs = node_xy * neighbor_xy / ((1 + node_xy) * (1 + neighbor_xy))\n",
      "/home/sarawalk/sdgs_py38/lib/python3.8/site-packages/bicm/graph_classes.py:1113: RuntimeWarning: invalid value encountered in divide\n",
      "  probs = node_xy * neighbor_xy / ((1 + node_xy) * (1 + neighbor_xy))\n",
      "/home/sarawalk/sdgs_py38/lib/python3.8/site-packages/bicm/graph_classes.py:1113: RuntimeWarning: invalid value encountered in divide\n",
      "  probs = node_xy * neighbor_xy / ((1 + node_xy) * (1 + neighbor_xy))\n",
      "100%|█████████████████████████████████████████████████████████████████████████████████████████████████████████████████████████| 6/6 [00:00<00:00, 148.76it/s]\n",
      "/home/sarawalk/sdgs_py38/lib/python3.8/site-packages/bicm/graph_classes.py:1113: RuntimeWarning: invalid value encountered in divide\n",
      "  probs = node_xy * neighbor_xy / ((1 + node_xy) * (1 + neighbor_xy))\n"
     ]
    },
    {
     "name": "stdout",
     "output_type": "stream",
     "text": [
      "No V-motifs will be validated. Try increasing alpha\n",
      "\n",
      "                      WARNING: this system has at least a node that is disconnected or connected to all nodes\n",
      "                       of the opposite layer. This may cause some convergence issues.\n",
      "                      Please use the full mode providing a biadjacency matrix or an edgelist,\n",
      "                       or clean your data from these nodes. \n",
      "                      \n",
      "2022 Utilities SDG 6: Clean Water and Sanitation\r"
     ]
    },
    {
     "name": "stderr",
     "output_type": "stream",
     "text": [
      "\n",
      "\n",
      "  0%|                                                                                                                                 | 0/45 [00:00<?, ?it/s]\u001b[A\u001b[A/home/sarawalk/sdgs_py38/lib/python3.8/site-packages/bicm/graph_classes.py:1113: RuntimeWarning: invalid value encountered in divide\n",
      "  probs = node_xy * neighbor_xy / ((1 + node_xy) * (1 + neighbor_xy))\n",
      "/home/sarawalk/sdgs_py38/lib/python3.8/site-packages/bicm/graph_classes.py:1113: RuntimeWarning: invalid value encountered in divide\n",
      "  probs = node_xy * neighbor_xy / ((1 + node_xy) * (1 + neighbor_xy))\n",
      "/home/sarawalk/sdgs_py38/lib/python3.8/site-packages/bicm/graph_classes.py:1113: RuntimeWarning: invalid value encountered in divide\n",
      "  probs = node_xy * neighbor_xy / ((1 + node_xy) * (1 + neighbor_xy))\n",
      "/home/sarawalk/sdgs_py38/lib/python3.8/site-packages/bicm/graph_classes.py:1113: RuntimeWarning: invalid value encountered in divide\n",
      "  probs = node_xy * neighbor_xy / ((1 + node_xy) * (1 + neighbor_xy))\n",
      "100%|███████████████████████████████████████████████████████████████████████████████████████████████████████████████████████| 45/45 [00:00<00:00, 598.59it/s]\n"
     ]
    },
    {
     "name": "stdout",
     "output_type": "stream",
     "text": [
      "No V-motifs will be validated. Try increasing alpha\n"
     ]
    },
    {
     "name": "stderr",
     "output_type": "stream",
     "text": [
      "\n",
      "\n",
      "  0%|                                                                                                                                  | 0/6 [00:00<?, ?it/s]\u001b[A\u001b[A/home/sarawalk/sdgs_py38/lib/python3.8/site-packages/bicm/graph_classes.py:1113: RuntimeWarning: invalid value encountered in divide\n",
      "  probs = node_xy * neighbor_xy / ((1 + node_xy) * (1 + neighbor_xy))\n",
      "/home/sarawalk/sdgs_py38/lib/python3.8/site-packages/bicm/graph_classes.py:1113: RuntimeWarning: invalid value encountered in divide\n",
      "  probs = node_xy * neighbor_xy / ((1 + node_xy) * (1 + neighbor_xy))\n",
      "/home/sarawalk/sdgs_py38/lib/python3.8/site-packages/bicm/graph_classes.py:1113: RuntimeWarning: invalid value encountered in divide\n",
      "  probs = node_xy * neighbor_xy / ((1 + node_xy) * (1 + neighbor_xy))\n",
      "/home/sarawalk/sdgs_py38/lib/python3.8/site-packages/bicm/graph_classes.py:1113: RuntimeWarning: invalid value encountered in divide\n",
      "  probs = node_xy * neighbor_xy / ((1 + node_xy) * (1 + neighbor_xy))\n",
      "100%|█████████████████████████████████████████████████████████████████████████████████████████████████████████████████████████| 6/6 [00:00<00:00, 135.38it/s]"
     ]
    },
    {
     "name": "stdout",
     "output_type": "stream",
     "text": [
      "No V-motifs will be validated. Try increasing alpha\n",
      "\n",
      "                      WARNING: this system has at least a node that is disconnected or connected to all nodes\n",
      "                       of the opposite layer. This may cause some convergence issues.\n",
      "                      Please use the full mode providing a biadjacency matrix or an edgelist,\n",
      "                       or clean your data from these nodes. \n",
      "                      \n",
      "2022 Utilities SDG 7: Affordable and Clean Energy\r"
     ]
    },
    {
     "name": "stderr",
     "output_type": "stream",
     "text": [
      "\n",
      "\n",
      "\n",
      "  0%|                                                                                                                                 | 0/45 [00:00<?, ?it/s]\u001b[A\u001b[A/home/sarawalk/sdgs_py38/lib/python3.8/site-packages/bicm/graph_classes.py:1113: RuntimeWarning: invalid value encountered in divide\n",
      "  probs = node_xy * neighbor_xy / ((1 + node_xy) * (1 + neighbor_xy))\n",
      "/home/sarawalk/sdgs_py38/lib/python3.8/site-packages/bicm/graph_classes.py:1113: RuntimeWarning: invalid value encountered in divide\n",
      "  probs = node_xy * neighbor_xy / ((1 + node_xy) * (1 + neighbor_xy))\n",
      "/home/sarawalk/sdgs_py38/lib/python3.8/site-packages/bicm/graph_classes.py:1113: RuntimeWarning: invalid value encountered in divide\n",
      "  probs = node_xy * neighbor_xy / ((1 + node_xy) * (1 + neighbor_xy))\n",
      "/home/sarawalk/sdgs_py38/lib/python3.8/site-packages/bicm/graph_classes.py:1113: RuntimeWarning: invalid value encountered in divide\n",
      "  probs = node_xy * neighbor_xy / ((1 + node_xy) * (1 + neighbor_xy))\n",
      "100%|███████████████████████████████████████████████████████████████████████████████████████████████████████████████████████| 45/45 [00:00<00:00, 819.96it/s]\n"
     ]
    },
    {
     "name": "stdout",
     "output_type": "stream",
     "text": [
      "No V-motifs will be validated. Try increasing alpha\n"
     ]
    },
    {
     "name": "stderr",
     "output_type": "stream",
     "text": [
      "\n",
      "\n",
      "  0%|                                                                                                                                  | 0/6 [00:00<?, ?it/s]\u001b[A\u001b[A/home/sarawalk/sdgs_py38/lib/python3.8/site-packages/bicm/graph_classes.py:1113: RuntimeWarning: invalid value encountered in divide\n",
      "  probs = node_xy * neighbor_xy / ((1 + node_xy) * (1 + neighbor_xy))\n",
      "/home/sarawalk/sdgs_py38/lib/python3.8/site-packages/bicm/graph_classes.py:1113: RuntimeWarning: invalid value encountered in divide\n",
      "  probs = node_xy * neighbor_xy / ((1 + node_xy) * (1 + neighbor_xy))\n",
      "100%|█████████████████████████████████████████████████████████████████████████████████████████████████████████████████████████| 6/6 [00:00<00:00, 151.52it/s]/home/sarawalk/sdgs_py38/lib/python3.8/site-packages/bicm/graph_classes.py:1113: RuntimeWarning: invalid value encountered in divide\n",
      "  probs = node_xy * neighbor_xy / ((1 + node_xy) * (1 + neighbor_xy))\n",
      "\n",
      "/home/sarawalk/sdgs_py38/lib/python3.8/site-packages/bicm/graph_classes.py:1113: RuntimeWarning: invalid value encountered in divide\n",
      "  probs = node_xy * neighbor_xy / ((1 + node_xy) * (1 + neighbor_xy))\n"
     ]
    },
    {
     "name": "stdout",
     "output_type": "stream",
     "text": [
      "No V-motifs will be validated. Try increasing alpha\n",
      "\n",
      "                      WARNING: this system has at least a node that is disconnected or connected to all nodes\n",
      "                       of the opposite layer. This may cause some convergence issues.\n",
      "                      Please use the full mode providing a biadjacency matrix or an edgelist,\n",
      "                       or clean your data from these nodes. \n",
      "                      \n",
      "2022 Utilities SDG 8: Decent Work and Economic Growth\r"
     ]
    },
    {
     "name": "stderr",
     "output_type": "stream",
     "text": [
      "\n",
      "\n",
      "  0%|                                                                                                                                 | 0/45 [00:00<?, ?it/s]\u001b[A\u001b[A/home/sarawalk/sdgs_py38/lib/python3.8/site-packages/bicm/graph_classes.py:1113: RuntimeWarning: invalid value encountered in divide\n",
      "  probs = node_xy * neighbor_xy / ((1 + node_xy) * (1 + neighbor_xy))\n",
      "/home/sarawalk/sdgs_py38/lib/python3.8/site-packages/bicm/graph_classes.py:1113: RuntimeWarning: invalid value encountered in divide\n",
      "  probs = node_xy * neighbor_xy / ((1 + node_xy) * (1 + neighbor_xy))\n",
      "/home/sarawalk/sdgs_py38/lib/python3.8/site-packages/bicm/graph_classes.py:1113: RuntimeWarning: invalid value encountered in divide\n",
      "  probs = node_xy * neighbor_xy / ((1 + node_xy) * (1 + neighbor_xy))\n",
      "/home/sarawalk/sdgs_py38/lib/python3.8/site-packages/bicm/graph_classes.py:1113: RuntimeWarning: invalid value encountered in divide\n",
      "  probs = node_xy * neighbor_xy / ((1 + node_xy) * (1 + neighbor_xy))\n",
      "100%|███████████████████████████████████████████████████████████████████████████████████████████████████████████████████████| 45/45 [00:00<00:00, 858.63it/s]\n"
     ]
    },
    {
     "name": "stdout",
     "output_type": "stream",
     "text": [
      "No V-motifs will be validated. Try increasing alpha\n"
     ]
    },
    {
     "name": "stderr",
     "output_type": "stream",
     "text": [
      "\n",
      "\n",
      "  0%|                                                                                                                                  | 0/6 [00:00<?, ?it/s]\u001b[A\u001b[A/home/sarawalk/sdgs_py38/lib/python3.8/site-packages/bicm/graph_classes.py:1113: RuntimeWarning: invalid value encountered in divide\n",
      "  probs = node_xy * neighbor_xy / ((1 + node_xy) * (1 + neighbor_xy))\n",
      "/home/sarawalk/sdgs_py38/lib/python3.8/site-packages/bicm/graph_classes.py:1113: RuntimeWarning: invalid value encountered in divide\n",
      "  probs = node_xy * neighbor_xy / ((1 + node_xy) * (1 + neighbor_xy))\n",
      "100%|█████████████████████████████████████████████████████████████████████████████████████████████████████████████████████████| 6/6 [00:00<00:00, 174.73it/s]/home/sarawalk/sdgs_py38/lib/python3.8/site-packages/bicm/graph_classes.py:1113: RuntimeWarning: invalid value encountered in divide\n",
      "  probs = node_xy * neighbor_xy / ((1 + node_xy) * (1 + neighbor_xy))\n",
      "/home/sarawalk/sdgs_py38/lib/python3.8/site-packages/bicm/graph_classes.py:1113: RuntimeWarning: invalid value encountered in divide\n",
      "  probs = node_xy * neighbor_xy / ((1 + node_xy) * (1 + neighbor_xy))\n",
      "\n"
     ]
    },
    {
     "name": "stdout",
     "output_type": "stream",
     "text": [
      "No V-motifs will be validated. Try increasing alpha\n",
      "\n",
      "                      WARNING: this system has at least a node that is disconnected or connected to all nodes\n",
      "                       of the opposite layer. This may cause some convergence issues.\n",
      "                      Please use the full mode providing a biadjacency matrix or an edgelist,\n",
      "                       or clean your data from these nodes. \n",
      "                      \n",
      "2022 Utilities SDG 9: Industry, Innovation, and Infrastructure\r"
     ]
    },
    {
     "name": "stderr",
     "output_type": "stream",
     "text": [
      "\n",
      "\n",
      "  0%|                                                                                                                                 | 0/45 [00:00<?, ?it/s]\u001b[A\u001b[A/home/sarawalk/sdgs_py38/lib/python3.8/site-packages/bicm/graph_classes.py:1113: RuntimeWarning: invalid value encountered in divide\n",
      "  probs = node_xy * neighbor_xy / ((1 + node_xy) * (1 + neighbor_xy))\n",
      "/home/sarawalk/sdgs_py38/lib/python3.8/site-packages/bicm/graph_classes.py:1113: RuntimeWarning: invalid value encountered in divide\n",
      "  probs = node_xy * neighbor_xy / ((1 + node_xy) * (1 + neighbor_xy))\n",
      "/home/sarawalk/sdgs_py38/lib/python3.8/site-packages/bicm/graph_classes.py:1113: RuntimeWarning: invalid value encountered in divide\n",
      "  probs = node_xy * neighbor_xy / ((1 + node_xy) * (1 + neighbor_xy))\n",
      "/home/sarawalk/sdgs_py38/lib/python3.8/site-packages/bicm/graph_classes.py:1113: RuntimeWarning: invalid value encountered in divide\n",
      "  probs = node_xy * neighbor_xy / ((1 + node_xy) * (1 + neighbor_xy))\n",
      "100%|███████████████████████████████████████████████████████████████████████████████████████████████████████████████████████| 45/45 [00:00<00:00, 872.03it/s]\n"
     ]
    },
    {
     "name": "stdout",
     "output_type": "stream",
     "text": [
      "No V-motifs will be validated. Try increasing alpha\n"
     ]
    },
    {
     "name": "stderr",
     "output_type": "stream",
     "text": [
      "\n",
      "\n",
      "  0%|                                                                                                                                  | 0/6 [00:00<?, ?it/s]\u001b[A\u001b[A/home/sarawalk/sdgs_py38/lib/python3.8/site-packages/bicm/graph_classes.py:1113: RuntimeWarning: invalid value encountered in divide\n",
      "  probs = node_xy * neighbor_xy / ((1 + node_xy) * (1 + neighbor_xy))\n",
      "100%|█████████████████████████████████████████████████████████████████████████████████████████████████████████████████████████| 6/6 [00:00<00:00, 151.58it/s]/home/sarawalk/sdgs_py38/lib/python3.8/site-packages/bicm/graph_classes.py:1113: RuntimeWarning: invalid value encountered in divide\n",
      "  probs = node_xy * neighbor_xy / ((1 + node_xy) * (1 + neighbor_xy))\n",
      "\n",
      "/home/sarawalk/sdgs_py38/lib/python3.8/site-packages/bicm/graph_classes.py:1113: RuntimeWarning: invalid value encountered in divide\n",
      "  probs = node_xy * neighbor_xy / ((1 + node_xy) * (1 + neighbor_xy))\n",
      "/home/sarawalk/sdgs_py38/lib/python3.8/site-packages/bicm/graph_classes.py:1113: RuntimeWarning: invalid value encountered in divide\n",
      "  probs = node_xy * neighbor_xy / ((1 + node_xy) * (1 + neighbor_xy))\n"
     ]
    },
    {
     "name": "stdout",
     "output_type": "stream",
     "text": [
      "No V-motifs will be validated. Try increasing alpha\n",
      "\n",
      "                      WARNING: this system has at least a node that is disconnected or connected to all nodes\n",
      "                       of the opposite layer. This may cause some convergence issues.\n",
      "                      Please use the full mode providing a biadjacency matrix or an edgelist,\n",
      "                       or clean your data from these nodes. \n",
      "                      \n",
      "2022 Utilities SDG 10: Reduced Inequality\r"
     ]
    },
    {
     "name": "stderr",
     "output_type": "stream",
     "text": [
      "\n",
      "\n",
      "  0%|                                                                                                                                 | 0/45 [00:00<?, ?it/s]\u001b[A\u001b[A/home/sarawalk/sdgs_py38/lib/python3.8/site-packages/bicm/graph_classes.py:1113: RuntimeWarning: invalid value encountered in divide\n",
      "  probs = node_xy * neighbor_xy / ((1 + node_xy) * (1 + neighbor_xy))\n",
      "/home/sarawalk/sdgs_py38/lib/python3.8/site-packages/bicm/graph_classes.py:1113: RuntimeWarning: invalid value encountered in divide\n",
      "  probs = node_xy * neighbor_xy / ((1 + node_xy) * (1 + neighbor_xy))\n",
      "/home/sarawalk/sdgs_py38/lib/python3.8/site-packages/bicm/graph_classes.py:1113: RuntimeWarning: invalid value encountered in divide\n",
      "  probs = node_xy * neighbor_xy / ((1 + node_xy) * (1 + neighbor_xy))\n",
      "/home/sarawalk/sdgs_py38/lib/python3.8/site-packages/bicm/graph_classes.py:1113: RuntimeWarning: invalid value encountered in divide\n",
      "  probs = node_xy * neighbor_xy / ((1 + node_xy) * (1 + neighbor_xy))\n",
      "100%|███████████████████████████████████████████████████████████████████████████████████████████████████████████████████████| 45/45 [00:00<00:00, 789.52it/s]\n"
     ]
    },
    {
     "name": "stdout",
     "output_type": "stream",
     "text": [
      "No V-motifs will be validated. Try increasing alpha\n"
     ]
    },
    {
     "name": "stderr",
     "output_type": "stream",
     "text": [
      "\n",
      "\n",
      "  0%|                                                                                                                                  | 0/6 [00:00<?, ?it/s]\u001b[A\u001b[A/home/sarawalk/sdgs_py38/lib/python3.8/site-packages/bicm/graph_classes.py:1113: RuntimeWarning: invalid value encountered in divide\n",
      "  probs = node_xy * neighbor_xy / ((1 + node_xy) * (1 + neighbor_xy))\n",
      "/home/sarawalk/sdgs_py38/lib/python3.8/site-packages/bicm/graph_classes.py:1113: RuntimeWarning: invalid value encountered in divide\n",
      "  probs = node_xy * neighbor_xy / ((1 + node_xy) * (1 + neighbor_xy))\n",
      "100%|█████████████████████████████████████████████████████████████████████████████████████████████████████████████████████████| 6/6 [00:00<00:00, 131.93it/s]/home/sarawalk/sdgs_py38/lib/python3.8/site-packages/bicm/graph_classes.py:1113: RuntimeWarning: invalid value encountered in divide\n",
      "  probs = node_xy * neighbor_xy / ((1 + node_xy) * (1 + neighbor_xy))\n",
      "/home/sarawalk/sdgs_py38/lib/python3.8/site-packages/bicm/graph_classes.py:1113: RuntimeWarning: invalid value encountered in divide\n",
      "  probs = node_xy * neighbor_xy / ((1 + node_xy) * (1 + neighbor_xy))\n",
      "\n"
     ]
    },
    {
     "name": "stdout",
     "output_type": "stream",
     "text": [
      "No V-motifs will be validated. Try increasing alpha\n",
      "\n",
      "                      WARNING: this system has at least a node that is disconnected or connected to all nodes\n",
      "                       of the opposite layer. This may cause some convergence issues.\n",
      "                      Please use the full mode providing a biadjacency matrix or an edgelist,\n",
      "                       or clean your data from these nodes. \n",
      "                      \n",
      "2022 Utilities SDG 11: Sustainable Cities and Communities\r"
     ]
    },
    {
     "name": "stderr",
     "output_type": "stream",
     "text": [
      "\n",
      "\n",
      "  0%|                                                                                                                                 | 0/45 [00:00<?, ?it/s]\u001b[A\u001b[A/home/sarawalk/sdgs_py38/lib/python3.8/site-packages/bicm/graph_classes.py:1113: RuntimeWarning: invalid value encountered in divide\n",
      "  probs = node_xy * neighbor_xy / ((1 + node_xy) * (1 + neighbor_xy))\n",
      "/home/sarawalk/sdgs_py38/lib/python3.8/site-packages/bicm/graph_classes.py:1113: RuntimeWarning: invalid value encountered in divide\n",
      "  probs = node_xy * neighbor_xy / ((1 + node_xy) * (1 + neighbor_xy))\n",
      "/home/sarawalk/sdgs_py38/lib/python3.8/site-packages/bicm/graph_classes.py:1113: RuntimeWarning: invalid value encountered in divide\n",
      "  probs = node_xy * neighbor_xy / ((1 + node_xy) * (1 + neighbor_xy))\n",
      "/home/sarawalk/sdgs_py38/lib/python3.8/site-packages/bicm/graph_classes.py:1113: RuntimeWarning: invalid value encountered in divide\n",
      "  probs = node_xy * neighbor_xy / ((1 + node_xy) * (1 + neighbor_xy))\n",
      "100%|███████████████████████████████████████████████████████████████████████████████████████████████████████████████████████| 45/45 [00:00<00:00, 968.07it/s]\n"
     ]
    },
    {
     "name": "stdout",
     "output_type": "stream",
     "text": [
      "No V-motifs will be validated. Try increasing alpha\n"
     ]
    },
    {
     "name": "stderr",
     "output_type": "stream",
     "text": [
      "\n",
      "\n",
      "  0%|                                                                                                                                  | 0/6 [00:00<?, ?it/s]\u001b[A\u001b[A/home/sarawalk/sdgs_py38/lib/python3.8/site-packages/bicm/graph_classes.py:1113: RuntimeWarning: invalid value encountered in divide\n",
      "  probs = node_xy * neighbor_xy / ((1 + node_xy) * (1 + neighbor_xy))\n",
      "/home/sarawalk/sdgs_py38/lib/python3.8/site-packages/bicm/graph_classes.py:1113: RuntimeWarning: invalid value encountered in divide\n",
      "  probs = node_xy * neighbor_xy / ((1 + node_xy) * (1 + neighbor_xy))\n",
      "/home/sarawalk/sdgs_py38/lib/python3.8/site-packages/bicm/graph_classes.py:1113: RuntimeWarning: invalid value encountered in divide\n",
      "  probs = node_xy * neighbor_xy / ((1 + node_xy) * (1 + neighbor_xy))\n",
      "100%|█████████████████████████████████████████████████████████████████████████████████████████████████████████████████████████| 6/6 [00:00<00:00, 142.11it/s]\n",
      "/home/sarawalk/sdgs_py38/lib/python3.8/site-packages/bicm/graph_classes.py:1113: RuntimeWarning: invalid value encountered in divide\n",
      "  probs = node_xy * neighbor_xy / ((1 + node_xy) * (1 + neighbor_xy))\n"
     ]
    },
    {
     "name": "stdout",
     "output_type": "stream",
     "text": [
      "No V-motifs will be validated. Try increasing alpha\n",
      "\n",
      "                      WARNING: this system has at least a node that is disconnected or connected to all nodes\n",
      "                       of the opposite layer. This may cause some convergence issues.\n",
      "                      Please use the full mode providing a biadjacency matrix or an edgelist,\n",
      "                       or clean your data from these nodes. \n",
      "                      \n",
      "2022 Utilities SDG 12: Responsible Consumption and Production\r"
     ]
    },
    {
     "name": "stderr",
     "output_type": "stream",
     "text": [
      "\n",
      "\n",
      "  0%|                                                                                                                                 | 0/45 [00:00<?, ?it/s]\u001b[A\u001b[A/home/sarawalk/sdgs_py38/lib/python3.8/site-packages/bicm/graph_classes.py:1113: RuntimeWarning: invalid value encountered in divide\n",
      "  probs = node_xy * neighbor_xy / ((1 + node_xy) * (1 + neighbor_xy))\n",
      "/home/sarawalk/sdgs_py38/lib/python3.8/site-packages/bicm/graph_classes.py:1113: RuntimeWarning: invalid value encountered in divide\n",
      "  probs = node_xy * neighbor_xy / ((1 + node_xy) * (1 + neighbor_xy))\n",
      "/home/sarawalk/sdgs_py38/lib/python3.8/site-packages/bicm/graph_classes.py:1113: RuntimeWarning: invalid value encountered in divide\n",
      "  probs = node_xy * neighbor_xy / ((1 + node_xy) * (1 + neighbor_xy))\n",
      "100%|███████████████████████████████████████████████████████████████████████████████████████████████████████████████████████| 45/45 [00:00<00:00, 859.19it/s]\n",
      "/home/sarawalk/sdgs_py38/lib/python3.8/site-packages/bicm/graph_classes.py:1113: RuntimeWarning: invalid value encountered in divide\n",
      "  probs = node_xy * neighbor_xy / ((1 + node_xy) * (1 + neighbor_xy))\n"
     ]
    },
    {
     "name": "stdout",
     "output_type": "stream",
     "text": [
      "No V-motifs will be validated. Try increasing alpha\n"
     ]
    },
    {
     "name": "stderr",
     "output_type": "stream",
     "text": [
      "\n",
      "\n",
      "  0%|                                                                                                                                  | 0/6 [00:00<?, ?it/s]\u001b[A\u001b[A/home/sarawalk/sdgs_py38/lib/python3.8/site-packages/bicm/graph_classes.py:1113: RuntimeWarning: invalid value encountered in divide\n",
      "  probs = node_xy * neighbor_xy / ((1 + node_xy) * (1 + neighbor_xy))\n",
      "/home/sarawalk/sdgs_py38/lib/python3.8/site-packages/bicm/graph_classes.py:1113: RuntimeWarning: invalid value encountered in divide\n",
      "  probs = node_xy * neighbor_xy / ((1 + node_xy) * (1 + neighbor_xy))\n",
      "100%|█████████████████████████████████████████████████████████████████████████████████████████████████████████████████████████| 6/6 [00:00<00:00, 195.31it/s]\n",
      "/home/sarawalk/sdgs_py38/lib/python3.8/site-packages/bicm/graph_classes.py:1113: RuntimeWarning: invalid value encountered in divide\n",
      "  probs = node_xy * neighbor_xy / ((1 + node_xy) * (1 + neighbor_xy))\n",
      "/home/sarawalk/sdgs_py38/lib/python3.8/site-packages/bicm/graph_classes.py:1113: RuntimeWarning: invalid value encountered in divide\n",
      "  probs = node_xy * neighbor_xy / ((1 + node_xy) * (1 + neighbor_xy))\n"
     ]
    },
    {
     "name": "stdout",
     "output_type": "stream",
     "text": [
      "No V-motifs will be validated. Try increasing alpha\n",
      "\n",
      "                      WARNING: this system has at least a node that is disconnected or connected to all nodes\n",
      "                       of the opposite layer. This may cause some convergence issues.\n",
      "                      Please use the full mode providing a biadjacency matrix or an edgelist,\n",
      "                       or clean your data from these nodes. \n",
      "                      \n",
      "2022 Utilities SDG 13: Climate Action\r"
     ]
    },
    {
     "name": "stderr",
     "output_type": "stream",
     "text": [
      "\n",
      "\n",
      "  0%|                                                                                                                                 | 0/45 [00:00<?, ?it/s]\u001b[A\u001b[A/home/sarawalk/sdgs_py38/lib/python3.8/site-packages/bicm/graph_classes.py:1113: RuntimeWarning: invalid value encountered in divide\n",
      "  probs = node_xy * neighbor_xy / ((1 + node_xy) * (1 + neighbor_xy))\n",
      "/home/sarawalk/sdgs_py38/lib/python3.8/site-packages/bicm/graph_classes.py:1113: RuntimeWarning: invalid value encountered in divide\n",
      "  probs = node_xy * neighbor_xy / ((1 + node_xy) * (1 + neighbor_xy))\n",
      "/home/sarawalk/sdgs_py38/lib/python3.8/site-packages/bicm/graph_classes.py:1113: RuntimeWarning: invalid value encountered in divide\n",
      "  probs = node_xy * neighbor_xy / ((1 + node_xy) * (1 + neighbor_xy))\n",
      "/home/sarawalk/sdgs_py38/lib/python3.8/site-packages/bicm/graph_classes.py:1113: RuntimeWarning: invalid value encountered in divide\n",
      "  probs = node_xy * neighbor_xy / ((1 + node_xy) * (1 + neighbor_xy))\n",
      "100%|███████████████████████████████████████████████████████████████████████████████████████████████████████████████████████| 45/45 [00:00<00:00, 708.26it/s]"
     ]
    },
    {
     "name": "stdout",
     "output_type": "stream",
     "text": [
      "No V-motifs will be validated. Try increasing alpha\n"
     ]
    },
    {
     "name": "stderr",
     "output_type": "stream",
     "text": [
      "\n",
      "\n",
      "\n",
      "  0%|                                                                                                                                  | 0/6 [00:00<?, ?it/s]\u001b[A\u001b[A/home/sarawalk/sdgs_py38/lib/python3.8/site-packages/bicm/graph_classes.py:1113: RuntimeWarning: invalid value encountered in divide\n",
      "  probs = node_xy * neighbor_xy / ((1 + node_xy) * (1 + neighbor_xy))\n",
      "/home/sarawalk/sdgs_py38/lib/python3.8/site-packages/bicm/graph_classes.py:1113: RuntimeWarning: invalid value encountered in divide\n",
      "  probs = node_xy * neighbor_xy / ((1 + node_xy) * (1 + neighbor_xy))\n",
      "100%|█████████████████████████████████████████████████████████████████████████████████████████████████████████████████████████| 6/6 [00:00<00:00, 141.35it/s]/home/sarawalk/sdgs_py38/lib/python3.8/site-packages/bicm/graph_classes.py:1113: RuntimeWarning: invalid value encountered in divide\n",
      "  probs = node_xy * neighbor_xy / ((1 + node_xy) * (1 + neighbor_xy))\n",
      "/home/sarawalk/sdgs_py38/lib/python3.8/site-packages/bicm/graph_classes.py:1113: RuntimeWarning: invalid value encountered in divide\n",
      "  probs = node_xy * neighbor_xy / ((1 + node_xy) * (1 + neighbor_xy))\n",
      "\n"
     ]
    },
    {
     "name": "stdout",
     "output_type": "stream",
     "text": [
      "No V-motifs will be validated. Try increasing alpha\n",
      "\n",
      "                      WARNING: this system has at least a node that is disconnected or connected to all nodes\n",
      "                       of the opposite layer. This may cause some convergence issues.\n",
      "                      Please use the full mode providing a biadjacency matrix or an edgelist,\n",
      "                       or clean your data from these nodes. \n",
      "                      \n",
      "2022 Utilities SDG 14: Life Below Water\r"
     ]
    },
    {
     "name": "stderr",
     "output_type": "stream",
     "text": [
      "\n",
      "\n",
      "  0%|                                                                                                                                 | 0/45 [00:00<?, ?it/s]\u001b[A\u001b[A/home/sarawalk/sdgs_py38/lib/python3.8/site-packages/bicm/graph_classes.py:1113: RuntimeWarning: invalid value encountered in divide\n",
      "  probs = node_xy * neighbor_xy / ((1 + node_xy) * (1 + neighbor_xy))\n",
      "/home/sarawalk/sdgs_py38/lib/python3.8/site-packages/bicm/graph_classes.py:1113: RuntimeWarning: invalid value encountered in divide\n",
      "  probs = node_xy * neighbor_xy / ((1 + node_xy) * (1 + neighbor_xy))\n",
      "/home/sarawalk/sdgs_py38/lib/python3.8/site-packages/bicm/graph_classes.py:1113: RuntimeWarning: invalid value encountered in divide\n",
      "  probs = node_xy * neighbor_xy / ((1 + node_xy) * (1 + neighbor_xy))\n",
      "/home/sarawalk/sdgs_py38/lib/python3.8/site-packages/bicm/graph_classes.py:1113: RuntimeWarning: invalid value encountered in divide\n",
      "  probs = node_xy * neighbor_xy / ((1 + node_xy) * (1 + neighbor_xy))\n",
      "100%|███████████████████████████████████████████████████████████████████████████████████████████████████████████████████████| 45/45 [00:00<00:00, 661.17it/s]"
     ]
    },
    {
     "name": "stdout",
     "output_type": "stream",
     "text": [
      "No V-motifs will be validated. Try increasing alpha\n"
     ]
    },
    {
     "name": "stderr",
     "output_type": "stream",
     "text": [
      "\n",
      "\n",
      "\n",
      "  0%|                                                                                                                                  | 0/6 [00:00<?, ?it/s]\u001b[A\u001b[A/home/sarawalk/sdgs_py38/lib/python3.8/site-packages/bicm/graph_classes.py:1113: RuntimeWarning: invalid value encountered in divide\n",
      "  probs = node_xy * neighbor_xy / ((1 + node_xy) * (1 + neighbor_xy))\n",
      "/home/sarawalk/sdgs_py38/lib/python3.8/site-packages/bicm/graph_classes.py:1113: RuntimeWarning: invalid value encountered in divide\n",
      "  probs = node_xy * neighbor_xy / ((1 + node_xy) * (1 + neighbor_xy))\n",
      "100%|█████████████████████████████████████████████████████████████████████████████████████████████████████████████████████████| 6/6 [00:00<00:00, 134.55it/s]/home/sarawalk/sdgs_py38/lib/python3.8/site-packages/bicm/graph_classes.py:1113: RuntimeWarning: invalid value encountered in divide\n",
      "  probs = node_xy * neighbor_xy / ((1 + node_xy) * (1 + neighbor_xy))\n",
      "\n",
      "/home/sarawalk/sdgs_py38/lib/python3.8/site-packages/bicm/graph_classes.py:1113: RuntimeWarning: invalid value encountered in divide\n",
      "  probs = node_xy * neighbor_xy / ((1 + node_xy) * (1 + neighbor_xy))\n"
     ]
    },
    {
     "name": "stdout",
     "output_type": "stream",
     "text": [
      "No V-motifs will be validated. Try increasing alpha\n",
      "\n",
      "                      WARNING: this system has at least a node that is disconnected or connected to all nodes\n",
      "                       of the opposite layer. This may cause some convergence issues.\n",
      "                      Please use the full mode providing a biadjacency matrix or an edgelist,\n",
      "                       or clean your data from these nodes. \n",
      "                      \n",
      "2022 Utilities SDG 15: Life on Land\r"
     ]
    },
    {
     "name": "stderr",
     "output_type": "stream",
     "text": [
      "\n",
      "\n",
      "  0%|                                                                                                                                 | 0/45 [00:00<?, ?it/s]\u001b[A\u001b[A/home/sarawalk/sdgs_py38/lib/python3.8/site-packages/bicm/graph_classes.py:1113: RuntimeWarning: invalid value encountered in divide\n",
      "  probs = node_xy * neighbor_xy / ((1 + node_xy) * (1 + neighbor_xy))\n",
      "/home/sarawalk/sdgs_py38/lib/python3.8/site-packages/bicm/graph_classes.py:1113: RuntimeWarning: invalid value encountered in divide\n",
      "  probs = node_xy * neighbor_xy / ((1 + node_xy) * (1 + neighbor_xy))\n",
      "/home/sarawalk/sdgs_py38/lib/python3.8/site-packages/bicm/graph_classes.py:1113: RuntimeWarning: invalid value encountered in divide\n",
      "  probs = node_xy * neighbor_xy / ((1 + node_xy) * (1 + neighbor_xy))\n",
      "/home/sarawalk/sdgs_py38/lib/python3.8/site-packages/bicm/graph_classes.py:1113: RuntimeWarning: invalid value encountered in divide\n",
      "  probs = node_xy * neighbor_xy / ((1 + node_xy) * (1 + neighbor_xy))\n",
      "100%|███████████████████████████████████████████████████████████████████████████████████████████████████████████████████████| 45/45 [00:00<00:00, 665.90it/s]"
     ]
    },
    {
     "name": "stdout",
     "output_type": "stream",
     "text": [
      "No V-motifs will be validated. Try increasing alpha\n"
     ]
    },
    {
     "name": "stderr",
     "output_type": "stream",
     "text": [
      "\n",
      "\n",
      "\n",
      "  0%|                                                                                                                                  | 0/6 [00:00<?, ?it/s]\u001b[A\u001b[A/home/sarawalk/sdgs_py38/lib/python3.8/site-packages/bicm/graph_classes.py:1113: RuntimeWarning: invalid value encountered in divide\n",
      "  probs = node_xy * neighbor_xy / ((1 + node_xy) * (1 + neighbor_xy))\n",
      "/home/sarawalk/sdgs_py38/lib/python3.8/site-packages/bicm/graph_classes.py:1113: RuntimeWarning: invalid value encountered in divide\n",
      "  probs = node_xy * neighbor_xy / ((1 + node_xy) * (1 + neighbor_xy))\n",
      "/home/sarawalk/sdgs_py38/lib/python3.8/site-packages/bicm/graph_classes.py:1113: RuntimeWarning: invalid value encountered in divide\n",
      "  probs = node_xy * neighbor_xy / ((1 + node_xy) * (1 + neighbor_xy))\n",
      "/home/sarawalk/sdgs_py38/lib/python3.8/site-packages/bicm/graph_classes.py:1113: RuntimeWarning: invalid value encountered in divide\n",
      "  probs = node_xy * neighbor_xy / ((1 + node_xy) * (1 + neighbor_xy))\n",
      "100%|█████████████████████████████████████████████████████████████████████████████████████████████████████████████████████████| 6/6 [00:00<00:00, 167.37it/s]"
     ]
    },
    {
     "name": "stdout",
     "output_type": "stream",
     "text": [
      "No V-motifs will be validated. Try increasing alpha\n",
      "\n",
      "                      WARNING: this system has at least a node that is disconnected or connected to all nodes\n",
      "                       of the opposite layer. This may cause some convergence issues.\n",
      "                      Please use the full mode providing a biadjacency matrix or an edgelist,\n",
      "                       or clean your data from these nodes. \n",
      "                      \n",
      "2022 Utilities SDG 16: Peace, Justice, and Strong Institutions\r"
     ]
    },
    {
     "name": "stderr",
     "output_type": "stream",
     "text": [
      "\n",
      "\n",
      "\n",
      "  0%|                                                                                                                                 | 0/45 [00:00<?, ?it/s]\u001b[A\u001b[A/home/sarawalk/sdgs_py38/lib/python3.8/site-packages/bicm/graph_classes.py:1113: RuntimeWarning: invalid value encountered in divide\n",
      "  probs = node_xy * neighbor_xy / ((1 + node_xy) * (1 + neighbor_xy))\n",
      "/home/sarawalk/sdgs_py38/lib/python3.8/site-packages/bicm/graph_classes.py:1113: RuntimeWarning: invalid value encountered in divide\n",
      "  probs = node_xy * neighbor_xy / ((1 + node_xy) * (1 + neighbor_xy))\n",
      "/home/sarawalk/sdgs_py38/lib/python3.8/site-packages/bicm/graph_classes.py:1113: RuntimeWarning: invalid value encountered in divide\n",
      "  probs = node_xy * neighbor_xy / ((1 + node_xy) * (1 + neighbor_xy))\n",
      "/home/sarawalk/sdgs_py38/lib/python3.8/site-packages/bicm/graph_classes.py:1113: RuntimeWarning: invalid value encountered in divide\n",
      "  probs = node_xy * neighbor_xy / ((1 + node_xy) * (1 + neighbor_xy))\n",
      "100%|███████████████████████████████████████████████████████████████████████████████████████████████████████████████████████| 45/45 [00:00<00:00, 851.10it/s]\n"
     ]
    },
    {
     "name": "stdout",
     "output_type": "stream",
     "text": [
      "No V-motifs will be validated. Try increasing alpha\n"
     ]
    },
    {
     "name": "stderr",
     "output_type": "stream",
     "text": [
      "\n",
      "\n",
      "  0%|                                                                                                                                  | 0/6 [00:00<?, ?it/s]\u001b[A\u001b[A/home/sarawalk/sdgs_py38/lib/python3.8/site-packages/bicm/graph_classes.py:1113: RuntimeWarning: invalid value encountered in divide\n",
      "  probs = node_xy * neighbor_xy / ((1 + node_xy) * (1 + neighbor_xy))\n",
      "/home/sarawalk/sdgs_py38/lib/python3.8/site-packages/bicm/graph_classes.py:1113: RuntimeWarning: invalid value encountered in divide\n",
      "  probs = node_xy * neighbor_xy / ((1 + node_xy) * (1 + neighbor_xy))\n",
      "100%|█████████████████████████████████████████████████████████████████████████████████████████████████████████████████████████| 6/6 [00:00<00:00, 176.36it/s]/home/sarawalk/sdgs_py38/lib/python3.8/site-packages/bicm/graph_classes.py:1113: RuntimeWarning: invalid value encountered in divide\n",
      "  probs = node_xy * neighbor_xy / ((1 + node_xy) * (1 + neighbor_xy))\n",
      "/home/sarawalk/sdgs_py38/lib/python3.8/site-packages/bicm/graph_classes.py:1113: RuntimeWarning: invalid value encountered in divide\n",
      "  probs = node_xy * neighbor_xy / ((1 + node_xy) * (1 + neighbor_xy))\n"
     ]
    },
    {
     "name": "stdout",
     "output_type": "stream",
     "text": [
      "No V-motifs will be validated. Try increasing alpha\n",
      "\n",
      "                      WARNING: this system has at least a node that is disconnected or connected to all nodes\n",
      "                       of the opposite layer. This may cause some convergence issues.\n",
      "                      Please use the full mode providing a biadjacency matrix or an edgelist,\n",
      "                       or clean your data from these nodes. \n",
      "                      \n",
      "2022 Utilities SDG 17: Partnerships for the Goals\r"
     ]
    },
    {
     "name": "stderr",
     "output_type": "stream",
     "text": [
      "\n",
      "\n",
      "\n",
      "  0%|                                                                                                                                 | 0/45 [00:00<?, ?it/s]\u001b[A\u001b[A/home/sarawalk/sdgs_py38/lib/python3.8/site-packages/bicm/graph_classes.py:1113: RuntimeWarning: invalid value encountered in divide\n",
      "  probs = node_xy * neighbor_xy / ((1 + node_xy) * (1 + neighbor_xy))\n",
      "/home/sarawalk/sdgs_py38/lib/python3.8/site-packages/bicm/graph_classes.py:1113: RuntimeWarning: invalid value encountered in divide\n",
      "  probs = node_xy * neighbor_xy / ((1 + node_xy) * (1 + neighbor_xy))\n",
      "/home/sarawalk/sdgs_py38/lib/python3.8/site-packages/bicm/graph_classes.py:1113: RuntimeWarning: invalid value encountered in divide\n",
      "  probs = node_xy * neighbor_xy / ((1 + node_xy) * (1 + neighbor_xy))\n",
      "/home/sarawalk/sdgs_py38/lib/python3.8/site-packages/bicm/graph_classes.py:1113: RuntimeWarning: invalid value encountered in divide\n",
      "  probs = node_xy * neighbor_xy / ((1 + node_xy) * (1 + neighbor_xy))\n",
      "100%|██████████████████████████████████████████████████████████████████████████████████████████████████████████████████████| 45/45 [00:00<00:00, 1021.51it/s]\n"
     ]
    },
    {
     "name": "stdout",
     "output_type": "stream",
     "text": [
      "No V-motifs will be validated. Try increasing alpha\n"
     ]
    },
    {
     "name": "stderr",
     "output_type": "stream",
     "text": [
      "\n",
      "\n",
      "  0%|                                                                                                                                  | 0/6 [00:00<?, ?it/s]\u001b[A\u001b[A/home/sarawalk/sdgs_py38/lib/python3.8/site-packages/bicm/graph_classes.py:1113: RuntimeWarning: invalid value encountered in divide\n",
      "  probs = node_xy * neighbor_xy / ((1 + node_xy) * (1 + neighbor_xy))\n",
      "/home/sarawalk/sdgs_py38/lib/python3.8/site-packages/bicm/graph_classes.py:1113: RuntimeWarning: invalid value encountered in divide\n",
      "  probs = node_xy * neighbor_xy / ((1 + node_xy) * (1 + neighbor_xy))\n",
      "/home/sarawalk/sdgs_py38/lib/python3.8/site-packages/bicm/graph_classes.py:1113: RuntimeWarning: invalid value encountered in divide\n",
      "  probs = node_xy * neighbor_xy / ((1 + node_xy) * (1 + neighbor_xy))\n",
      "100%|█████████████████████████████████████████████████████████████████████████████████████████████████████████████████████████| 6/6 [00:00<00:00, 177.46it/s]\n",
      "/home/sarawalk/sdgs_py38/lib/python3.8/site-packages/bicm/graph_classes.py:1113: RuntimeWarning: invalid value encountered in divide\n",
      "  probs = node_xy * neighbor_xy / ((1 + node_xy) * (1 + neighbor_xy))\n"
     ]
    },
    {
     "name": "stdout",
     "output_type": "stream",
     "text": [
      "No V-motifs will be validated. Try increasing alpha\n",
      "2023 Energy SDG 1: No Poverty\r"
     ]
    },
    {
     "name": "stderr",
     "output_type": "stream",
     "text": [
      "\n",
      "\n",
      "100%|██████████████████████████████████████████████████████████████████████████████████████████████████████████████████████| 25/25 [00:00<00:00, 1035.91it/s]\u001b[A\u001b[A\n"
     ]
    },
    {
     "name": "stdout",
     "output_type": "stream",
     "text": [
      "No V-motifs will be validated. Try increasing alpha\n"
     ]
    },
    {
     "name": "stderr",
     "output_type": "stream",
     "text": [
      "\n",
      "\n",
      "100%|█████████████████████████████████████████████████████████████████████████████████████████████████████████████████████████| 8/8 [00:00<00:00, 367.27it/s]\u001b[A\u001b[A"
     ]
    },
    {
     "name": "stdout",
     "output_type": "stream",
     "text": [
      "No V-motifs will be validated. Try increasing alpha\n",
      "2023 Energy SDG 2: Zero Hunger\r"
     ]
    },
    {
     "name": "stderr",
     "output_type": "stream",
     "text": [
      "\n",
      "\n",
      "\n",
      "100%|██████████████████████████████████████████████████████████████████████████████████████████████████████████████████████| 25/25 [00:00<00:00, 1002.66it/s]\u001b[A\u001b[A"
     ]
    },
    {
     "name": "stdout",
     "output_type": "stream",
     "text": [
      "No V-motifs will be validated. Try increasing alpha\n"
     ]
    },
    {
     "name": "stderr",
     "output_type": "stream",
     "text": [
      "\n",
      "\n",
      "\n",
      "100%|█████████████████████████████████████████████████████████████████████████████████████████████████████████████████████████| 8/8 [00:00<00:00, 356.82it/s]\u001b[A\u001b[A"
     ]
    },
    {
     "name": "stdout",
     "output_type": "stream",
     "text": [
      "No V-motifs will be validated. Try increasing alpha\n",
      "2023 Energy SDG 3: Good Health and Well-being\r"
     ]
    },
    {
     "name": "stderr",
     "output_type": "stream",
     "text": [
      "\n",
      "\n",
      "\n",
      "100%|███████████████████████████████████████████████████████████████████████████████████████████████████████████████████████| 25/25 [00:00<00:00, 874.64it/s]\u001b[A\u001b[A\n"
     ]
    },
    {
     "name": "stdout",
     "output_type": "stream",
     "text": [
      "No V-motifs will be validated. Try increasing alpha\n"
     ]
    },
    {
     "name": "stderr",
     "output_type": "stream",
     "text": [
      "\n",
      "\n",
      "100%|█████████████████████████████████████████████████████████████████████████████████████████████████████████████████████████| 8/8 [00:00<00:00, 330.53it/s]\u001b[A\u001b[A\n"
     ]
    },
    {
     "name": "stdout",
     "output_type": "stream",
     "text": [
      "No V-motifs will be validated. Try increasing alpha\n",
      "2023 Energy SDG 4: Quality Education\r"
     ]
    },
    {
     "name": "stderr",
     "output_type": "stream",
     "text": [
      "\n",
      "\n",
      "100%|███████████████████████████████████████████████████████████████████████████████████████████████████████████████████████| 25/25 [00:00<00:00, 984.29it/s]\u001b[A\u001b[A"
     ]
    },
    {
     "name": "stdout",
     "output_type": "stream",
     "text": [
      "No V-motifs will be validated. Try increasing alpha\n"
     ]
    },
    {
     "name": "stderr",
     "output_type": "stream",
     "text": [
      "\n",
      "\n",
      "\n",
      "100%|█████████████████████████████████████████████████████████████████████████████████████████████████████████████████████████| 8/8 [00:00<00:00, 219.69it/s]\u001b[A\u001b[A\n"
     ]
    },
    {
     "name": "stdout",
     "output_type": "stream",
     "text": [
      "No V-motifs will be validated. Try increasing alpha\n",
      "2023 Energy SDG 5: Gender Equality\r"
     ]
    },
    {
     "name": "stderr",
     "output_type": "stream",
     "text": [
      "\n",
      "\n",
      "100%|███████████████████████████████████████████████████████████████████████████████████████████████████████████████████████| 25/25 [00:00<00:00, 957.90it/s]\u001b[A\u001b[A\n"
     ]
    },
    {
     "name": "stdout",
     "output_type": "stream",
     "text": [
      "No V-motifs will be validated. Try increasing alpha\n"
     ]
    },
    {
     "name": "stderr",
     "output_type": "stream",
     "text": [
      "\n",
      "\n",
      "100%|█████████████████████████████████████████████████████████████████████████████████████████████████████████████████████████| 8/8 [00:00<00:00, 236.47it/s]\u001b[A\u001b[A\n"
     ]
    },
    {
     "name": "stdout",
     "output_type": "stream",
     "text": [
      "No V-motifs will be validated. Try increasing alpha\n",
      "2023 Energy SDG 6: Clean Water and Sanitation\r"
     ]
    },
    {
     "name": "stderr",
     "output_type": "stream",
     "text": [
      "\n",
      "\n",
      "100%|███████████████████████████████████████████████████████████████████████████████████████████████████████████████████████| 25/25 [00:00<00:00, 967.77it/s]\u001b[A\u001b[A\n"
     ]
    },
    {
     "name": "stdout",
     "output_type": "stream",
     "text": [
      "No V-motifs will be validated. Try increasing alpha\n"
     ]
    },
    {
     "name": "stderr",
     "output_type": "stream",
     "text": [
      "\n",
      "\n",
      "100%|█████████████████████████████████████████████████████████████████████████████████████████████████████████████████████████| 8/8 [00:00<00:00, 342.25it/s]\u001b[A\u001b[A"
     ]
    },
    {
     "name": "stdout",
     "output_type": "stream",
     "text": [
      "No V-motifs will be validated. Try increasing alpha\n",
      "2023 Energy SDG 7: Affordable and Clean Energy\r"
     ]
    },
    {
     "name": "stderr",
     "output_type": "stream",
     "text": [
      "\n",
      "\n",
      "\n",
      "100%|███████████████████████████████████████████████████████████████████████████████████████████████████████████████████████| 25/25 [00:00<00:00, 964.83it/s]\u001b[A\u001b[A"
     ]
    },
    {
     "name": "stdout",
     "output_type": "stream",
     "text": [
      "No V-motifs will be validated. Try increasing alpha\n"
     ]
    },
    {
     "name": "stderr",
     "output_type": "stream",
     "text": [
      "\n",
      "\n",
      "\n",
      "100%|█████████████████████████████████████████████████████████████████████████████████████████████████████████████████████████| 8/8 [00:00<00:00, 228.10it/s]\u001b[A\u001b[A\n"
     ]
    },
    {
     "name": "stdout",
     "output_type": "stream",
     "text": [
      "No V-motifs will be validated. Try increasing alpha\n",
      "2023 Energy SDG 8: Decent Work and Economic Growth\r"
     ]
    },
    {
     "name": "stderr",
     "output_type": "stream",
     "text": [
      "\n",
      "\n",
      "100%|███████████████████████████████████████████████████████████████████████████████████████████████████████████████████████| 25/25 [00:00<00:00, 915.09it/s]\u001b[A\u001b[A\n"
     ]
    },
    {
     "name": "stdout",
     "output_type": "stream",
     "text": [
      "No V-motifs will be validated. Try increasing alpha\n"
     ]
    },
    {
     "name": "stderr",
     "output_type": "stream",
     "text": [
      "\n",
      "\n",
      "100%|█████████████████████████████████████████████████████████████████████████████████████████████████████████████████████████| 8/8 [00:00<00:00, 286.47it/s]\u001b[A\u001b[A\n"
     ]
    },
    {
     "name": "stdout",
     "output_type": "stream",
     "text": [
      "No V-motifs will be validated. Try increasing alpha\n",
      "2023 Energy SDG 9: Industry, Innovation, and Infrastructure\r"
     ]
    },
    {
     "name": "stderr",
     "output_type": "stream",
     "text": [
      "\n",
      "\n",
      "100%|██████████████████████████████████████████████████████████████████████████████████████████████████████████████████████| 25/25 [00:00<00:00, 1007.20it/s]\u001b[A\u001b[A\n"
     ]
    },
    {
     "name": "stdout",
     "output_type": "stream",
     "text": [
      "No V-motifs will be validated. Try increasing alpha\n"
     ]
    },
    {
     "name": "stderr",
     "output_type": "stream",
     "text": [
      "\n",
      "\n",
      "100%|█████████████████████████████████████████████████████████████████████████████████████████████████████████████████████████| 8/8 [00:00<00:00, 235.91it/s]\u001b[A\u001b[A\n"
     ]
    },
    {
     "name": "stdout",
     "output_type": "stream",
     "text": [
      "No V-motifs will be validated. Try increasing alpha\n",
      "2023 Energy SDG 10: Reduced Inequality\r"
     ]
    },
    {
     "name": "stderr",
     "output_type": "stream",
     "text": [
      "\n",
      "\n",
      "100%|███████████████████████████████████████████████████████████████████████████████████████████████████████████████████████| 25/25 [00:00<00:00, 931.56it/s]\u001b[A\u001b[A\n"
     ]
    },
    {
     "name": "stdout",
     "output_type": "stream",
     "text": [
      "No V-motifs will be validated. Try increasing alpha\n"
     ]
    },
    {
     "name": "stderr",
     "output_type": "stream",
     "text": [
      "\n",
      "\n",
      "100%|█████████████████████████████████████████████████████████████████████████████████████████████████████████████████████████| 8/8 [00:00<00:00, 301.74it/s]\u001b[A\u001b[A\n"
     ]
    },
    {
     "name": "stdout",
     "output_type": "stream",
     "text": [
      "No V-motifs will be validated. Try increasing alpha\n",
      "2023 Energy SDG 11: Sustainable Cities and Communities\r"
     ]
    },
    {
     "name": "stderr",
     "output_type": "stream",
     "text": [
      "\n",
      "\n",
      "100%|███████████████████████████████████████████████████████████████████████████████████████████████████████████████████████| 25/25 [00:00<00:00, 952.84it/s]\u001b[A\u001b[A\n"
     ]
    },
    {
     "name": "stdout",
     "output_type": "stream",
     "text": [
      "No V-motifs will be validated. Try increasing alpha\n"
     ]
    },
    {
     "name": "stderr",
     "output_type": "stream",
     "text": [
      "\n",
      "\n",
      "100%|█████████████████████████████████████████████████████████████████████████████████████████████████████████████████████████| 8/8 [00:00<00:00, 280.46it/s]\u001b[A\u001b[A\n"
     ]
    },
    {
     "name": "stdout",
     "output_type": "stream",
     "text": [
      "No V-motifs will be validated. Try increasing alpha\n",
      "2023 Energy SDG 12: Responsible Consumption and Production\r"
     ]
    },
    {
     "name": "stderr",
     "output_type": "stream",
     "text": [
      "\n",
      "\n",
      "100%|███████████████████████████████████████████████████████████████████████████████████████████████████████████████████████| 25/25 [00:00<00:00, 944.80it/s]\u001b[A\u001b[A\n"
     ]
    },
    {
     "name": "stdout",
     "output_type": "stream",
     "text": [
      "No V-motifs will be validated. Try increasing alpha\n"
     ]
    },
    {
     "name": "stderr",
     "output_type": "stream",
     "text": [
      "\n",
      "\n",
      "100%|█████████████████████████████████████████████████████████████████████████████████████████████████████████████████████████| 8/8 [00:00<00:00, 252.69it/s]\u001b[A\u001b[A\n"
     ]
    },
    {
     "name": "stdout",
     "output_type": "stream",
     "text": [
      "No V-motifs will be validated. Try increasing alpha\n",
      "2023 Energy SDG 13: Climate Action\r"
     ]
    },
    {
     "name": "stderr",
     "output_type": "stream",
     "text": [
      "\n",
      "\n",
      "100%|███████████████████████████████████████████████████████████████████████████████████████████████████████████████████████| 25/25 [00:00<00:00, 949.09it/s]\u001b[A\u001b[A\n"
     ]
    },
    {
     "name": "stdout",
     "output_type": "stream",
     "text": [
      "No V-motifs will be validated. Try increasing alpha\n"
     ]
    },
    {
     "name": "stderr",
     "output_type": "stream",
     "text": [
      "\n",
      "\n",
      "100%|█████████████████████████████████████████████████████████████████████████████████████████████████████████████████████████| 8/8 [00:00<00:00, 298.36it/s]\u001b[A\u001b[A\n"
     ]
    },
    {
     "name": "stdout",
     "output_type": "stream",
     "text": [
      "No V-motifs will be validated. Try increasing alpha\n",
      "2023 Energy SDG 14: Life Below Water\r"
     ]
    },
    {
     "name": "stderr",
     "output_type": "stream",
     "text": [
      "\n",
      "\n",
      "100%|███████████████████████████████████████████████████████████████████████████████████████████████████████████████████████| 25/25 [00:00<00:00, 851.57it/s]\u001b[A\u001b[A\n"
     ]
    },
    {
     "name": "stdout",
     "output_type": "stream",
     "text": [
      "No V-motifs will be validated. Try increasing alpha\n"
     ]
    },
    {
     "name": "stderr",
     "output_type": "stream",
     "text": [
      "\n",
      "\n",
      "100%|█████████████████████████████████████████████████████████████████████████████████████████████████████████████████████████| 8/8 [00:00<00:00, 258.72it/s]\u001b[A\u001b[A\n"
     ]
    },
    {
     "name": "stdout",
     "output_type": "stream",
     "text": [
      "No V-motifs will be validated. Try increasing alpha\n",
      "2023 Energy SDG 15: Life on Land\r"
     ]
    },
    {
     "name": "stderr",
     "output_type": "stream",
     "text": [
      "\n",
      "\n",
      "100%|███████████████████████████████████████████████████████████████████████████████████████████████████████████████████████| 25/25 [00:00<00:00, 903.71it/s]\u001b[A\u001b[A\n"
     ]
    },
    {
     "name": "stdout",
     "output_type": "stream",
     "text": [
      "No V-motifs will be validated. Try increasing alpha\n"
     ]
    },
    {
     "name": "stderr",
     "output_type": "stream",
     "text": [
      "\n",
      "\n",
      "100%|█████████████████████████████████████████████████████████████████████████████████████████████████████████████████████████| 8/8 [00:00<00:00, 303.26it/s]\u001b[A\u001b[A\n"
     ]
    },
    {
     "name": "stdout",
     "output_type": "stream",
     "text": [
      "No V-motifs will be validated. Try increasing alpha\n",
      "2023 Energy SDG 16: Peace, Justice, and Strong Institutions\r"
     ]
    },
    {
     "name": "stderr",
     "output_type": "stream",
     "text": [
      "\n",
      "\n",
      "100%|███████████████████████████████████████████████████████████████████████████████████████████████████████████████████████| 25/25 [00:00<00:00, 926.53it/s]\u001b[A\u001b[A\n"
     ]
    },
    {
     "name": "stdout",
     "output_type": "stream",
     "text": [
      "No V-motifs will be validated. Try increasing alpha\n"
     ]
    },
    {
     "name": "stderr",
     "output_type": "stream",
     "text": [
      "\n",
      "\n",
      "100%|█████████████████████████████████████████████████████████████████████████████████████████████████████████████████████████| 8/8 [00:00<00:00, 331.96it/s]\u001b[A\u001b[A\n"
     ]
    },
    {
     "name": "stdout",
     "output_type": "stream",
     "text": [
      "No V-motifs will be validated. Try increasing alpha\n",
      "2023 Energy SDG 17: Partnerships for the Goals\r"
     ]
    },
    {
     "name": "stderr",
     "output_type": "stream",
     "text": [
      "\n",
      "\n",
      "100%|██████████████████████████████████████████████████████████████████████████████████████████████████████████████████████| 25/25 [00:00<00:00, 1061.22it/s]\u001b[A\u001b[A\n"
     ]
    },
    {
     "name": "stdout",
     "output_type": "stream",
     "text": [
      "No V-motifs will be validated. Try increasing alpha\n"
     ]
    },
    {
     "name": "stderr",
     "output_type": "stream",
     "text": [
      "\n",
      "\n",
      "100%|█████████████████████████████████████████████████████████████████████████████████████████████████████████████████████████| 8/8 [00:00<00:00, 319.32it/s]\u001b[A\u001b[A\n"
     ]
    },
    {
     "name": "stdout",
     "output_type": "stream",
     "text": [
      "No V-motifs will be validated. Try increasing alpha\n",
      "\n",
      "                      WARNING: this system has at least a node that is disconnected or connected to all nodes\n",
      "                       of the opposite layer. This may cause some convergence issues.\n",
      "                      Please use the full mode providing a biadjacency matrix or an edgelist,\n",
      "                       or clean your data from these nodes. \n",
      "                      \n",
      "2023 Utilities SDG 1: No Poverty\r"
     ]
    },
    {
     "name": "stderr",
     "output_type": "stream",
     "text": [
      "\n",
      "\n",
      "  0%|                                                                                                                                 | 0/67 [00:00<?, ?it/s]\u001b[A\u001b[A/home/sarawalk/sdgs_py38/lib/python3.8/site-packages/bicm/graph_classes.py:1113: RuntimeWarning: invalid value encountered in divide\n",
      "  probs = node_xy * neighbor_xy / ((1 + node_xy) * (1 + neighbor_xy))\n",
      "/home/sarawalk/sdgs_py38/lib/python3.8/site-packages/bicm/graph_classes.py:1113: RuntimeWarning: invalid value encountered in divide\n",
      "  probs = node_xy * neighbor_xy / ((1 + node_xy) * (1 + neighbor_xy))\n",
      "/home/sarawalk/sdgs_py38/lib/python3.8/site-packages/bicm/graph_classes.py:1113: RuntimeWarning: invalid value encountered in divide\n",
      "  probs = node_xy * neighbor_xy / ((1 + node_xy) * (1 + neighbor_xy))\n",
      "/home/sarawalk/sdgs_py38/lib/python3.8/site-packages/bicm/graph_classes.py:1113: RuntimeWarning: invalid value encountered in divide\n",
      "  probs = node_xy * neighbor_xy / ((1 + node_xy) * (1 + neighbor_xy))\n",
      "100%|███████████████████████████████████████████████████████████████████████████████████████████████████████████████████████| 67/67 [00:00<00:00, 727.91it/s]"
     ]
    },
    {
     "name": "stdout",
     "output_type": "stream",
     "text": [
      "No V-motifs will be validated. Try increasing alpha\n"
     ]
    },
    {
     "name": "stderr",
     "output_type": "stream",
     "text": [
      "\n",
      "\n",
      "\n",
      "  0%|                                                                                                                                  | 0/7 [00:00<?, ?it/s]\u001b[A\u001b[A/home/sarawalk/sdgs_py38/lib/python3.8/site-packages/bicm/graph_classes.py:1113: RuntimeWarning: invalid value encountered in divide\n",
      "  probs = node_xy * neighbor_xy / ((1 + node_xy) * (1 + neighbor_xy))\n",
      "/home/sarawalk/sdgs_py38/lib/python3.8/site-packages/bicm/graph_classes.py:1113: RuntimeWarning: invalid value encountered in divide\n",
      "  probs = node_xy * neighbor_xy / ((1 + node_xy) * (1 + neighbor_xy))\n",
      "/home/sarawalk/sdgs_py38/lib/python3.8/site-packages/bicm/graph_classes.py:1113: RuntimeWarning: invalid value encountered in divide\n",
      "  probs = node_xy * neighbor_xy / ((1 + node_xy) * (1 + neighbor_xy))\n",
      "100%|█████████████████████████████████████████████████████████████████████████████████████████████████████████████████████████| 7/7 [00:00<00:00, 126.51it/s]/home/sarawalk/sdgs_py38/lib/python3.8/site-packages/bicm/graph_classes.py:1113: RuntimeWarning: invalid value encountered in divide\n",
      "  probs = node_xy * neighbor_xy / ((1 + node_xy) * (1 + neighbor_xy))\n",
      "\n"
     ]
    },
    {
     "name": "stdout",
     "output_type": "stream",
     "text": [
      "No V-motifs will be validated. Try increasing alpha\n",
      "\n",
      "                      WARNING: this system has at least a node that is disconnected or connected to all nodes\n",
      "                       of the opposite layer. This may cause some convergence issues.\n",
      "                      Please use the full mode providing a biadjacency matrix or an edgelist,\n",
      "                       or clean your data from these nodes. \n",
      "                      \n",
      "2023 Utilities SDG 3: Good Health and Well-being\r"
     ]
    },
    {
     "name": "stderr",
     "output_type": "stream",
     "text": [
      "\n",
      "\n",
      "  0%|                                                                                                                                 | 0/67 [00:00<?, ?it/s]\u001b[A\u001b[A/home/sarawalk/sdgs_py38/lib/python3.8/site-packages/bicm/graph_classes.py:1113: RuntimeWarning: invalid value encountered in divide\n",
      "  probs = node_xy * neighbor_xy / ((1 + node_xy) * (1 + neighbor_xy))\n",
      "/home/sarawalk/sdgs_py38/lib/python3.8/site-packages/bicm/graph_classes.py:1113: RuntimeWarning: invalid value encountered in divide\n",
      "  probs = node_xy * neighbor_xy / ((1 + node_xy) * (1 + neighbor_xy))\n",
      "/home/sarawalk/sdgs_py38/lib/python3.8/site-packages/bicm/graph_classes.py:1113: RuntimeWarning: invalid value encountered in divide\n",
      "  probs = node_xy * neighbor_xy / ((1 + node_xy) * (1 + neighbor_xy))\n",
      "/home/sarawalk/sdgs_py38/lib/python3.8/site-packages/bicm/graph_classes.py:1113: RuntimeWarning: invalid value encountered in divide\n",
      "  probs = node_xy * neighbor_xy / ((1 + node_xy) * (1 + neighbor_xy))\n",
      "100%|███████████████████████████████████████████████████████████████████████████████████████████████████████████████████████| 67/67 [00:00<00:00, 821.99it/s]\n"
     ]
    },
    {
     "name": "stdout",
     "output_type": "stream",
     "text": [
      "No V-motifs will be validated. Try increasing alpha\n"
     ]
    },
    {
     "name": "stderr",
     "output_type": "stream",
     "text": [
      "\n",
      "\n",
      "  0%|                                                                                                                                  | 0/7 [00:00<?, ?it/s]\u001b[A\u001b[A/home/sarawalk/sdgs_py38/lib/python3.8/site-packages/bicm/graph_classes.py:1113: RuntimeWarning: invalid value encountered in divide\n",
      "  probs = node_xy * neighbor_xy / ((1 + node_xy) * (1 + neighbor_xy))\n",
      "/home/sarawalk/sdgs_py38/lib/python3.8/site-packages/bicm/graph_classes.py:1113: RuntimeWarning: invalid value encountered in divide\n",
      "  probs = node_xy * neighbor_xy / ((1 + node_xy) * (1 + neighbor_xy))\n",
      "/home/sarawalk/sdgs_py38/lib/python3.8/site-packages/bicm/graph_classes.py:1113: RuntimeWarning: invalid value encountered in divide\n",
      "  probs = node_xy * neighbor_xy / ((1 + node_xy) * (1 + neighbor_xy))\n",
      "100%|█████████████████████████████████████████████████████████████████████████████████████████████████████████████████████████| 7/7 [00:00<00:00, 121.89it/s]/home/sarawalk/sdgs_py38/lib/python3.8/site-packages/bicm/graph_classes.py:1113: RuntimeWarning: invalid value encountered in divide\n",
      "  probs = node_xy * neighbor_xy / ((1 + node_xy) * (1 + neighbor_xy))\n",
      "\n"
     ]
    },
    {
     "name": "stdout",
     "output_type": "stream",
     "text": [
      "No V-motifs will be validated. Try increasing alpha\n",
      "\n",
      "                      WARNING: this system has at least a node that is disconnected or connected to all nodes\n",
      "                       of the opposite layer. This may cause some convergence issues.\n",
      "                      Please use the full mode providing a biadjacency matrix or an edgelist,\n",
      "                       or clean your data from these nodes. \n",
      "                      \n",
      "2023 Utilities SDG 4: Quality Education\r"
     ]
    },
    {
     "name": "stderr",
     "output_type": "stream",
     "text": [
      "\n",
      "\n",
      "  0%|                                                                                                                                 | 0/67 [00:00<?, ?it/s]\u001b[A\u001b[A/home/sarawalk/sdgs_py38/lib/python3.8/site-packages/bicm/graph_classes.py:1113: RuntimeWarning: invalid value encountered in divide\n",
      "  probs = node_xy * neighbor_xy / ((1 + node_xy) * (1 + neighbor_xy))\n",
      "/home/sarawalk/sdgs_py38/lib/python3.8/site-packages/bicm/graph_classes.py:1113: RuntimeWarning: invalid value encountered in divide\n",
      "  probs = node_xy * neighbor_xy / ((1 + node_xy) * (1 + neighbor_xy))\n",
      "/home/sarawalk/sdgs_py38/lib/python3.8/site-packages/bicm/graph_classes.py:1113: RuntimeWarning: invalid value encountered in divide\n",
      "  probs = node_xy * neighbor_xy / ((1 + node_xy) * (1 + neighbor_xy))\n",
      "/home/sarawalk/sdgs_py38/lib/python3.8/site-packages/bicm/graph_classes.py:1113: RuntimeWarning: invalid value encountered in divide\n",
      "  probs = node_xy * neighbor_xy / ((1 + node_xy) * (1 + neighbor_xy))\n",
      "100%|███████████████████████████████████████████████████████████████████████████████████████████████████████████████████████| 67/67 [00:00<00:00, 821.70it/s]\n"
     ]
    },
    {
     "name": "stdout",
     "output_type": "stream",
     "text": [
      "No V-motifs will be validated. Try increasing alpha\n"
     ]
    },
    {
     "name": "stderr",
     "output_type": "stream",
     "text": [
      "\n",
      "\n",
      "  0%|                                                                                                                                  | 0/7 [00:00<?, ?it/s]\u001b[A\u001b[A/home/sarawalk/sdgs_py38/lib/python3.8/site-packages/bicm/graph_classes.py:1113: RuntimeWarning: invalid value encountered in divide\n",
      "  probs = node_xy * neighbor_xy / ((1 + node_xy) * (1 + neighbor_xy))\n",
      "/home/sarawalk/sdgs_py38/lib/python3.8/site-packages/bicm/graph_classes.py:1113: RuntimeWarning: invalid value encountered in divide\n",
      "  probs = node_xy * neighbor_xy / ((1 + node_xy) * (1 + neighbor_xy))\n",
      "100%|█████████████████████████████████████████████████████████████████████████████████████████████████████████████████████████| 7/7 [00:00<00:00, 134.94it/s]/home/sarawalk/sdgs_py38/lib/python3.8/site-packages/bicm/graph_classes.py:1113: RuntimeWarning: invalid value encountered in divide\n",
      "  probs = node_xy * neighbor_xy / ((1 + node_xy) * (1 + neighbor_xy))\n",
      "/home/sarawalk/sdgs_py38/lib/python3.8/site-packages/bicm/graph_classes.py:1113: RuntimeWarning: invalid value encountered in divide\n",
      "  probs = node_xy * neighbor_xy / ((1 + node_xy) * (1 + neighbor_xy))\n",
      "\n"
     ]
    },
    {
     "name": "stdout",
     "output_type": "stream",
     "text": [
      "No V-motifs will be validated. Try increasing alpha\n",
      "\n",
      "                      WARNING: this system has at least a node that is disconnected or connected to all nodes\n",
      "                       of the opposite layer. This may cause some convergence issues.\n",
      "                      Please use the full mode providing a biadjacency matrix or an edgelist,\n",
      "                       or clean your data from these nodes. \n",
      "                      \n",
      "2023 Utilities SDG 5: Gender Equality\r"
     ]
    },
    {
     "name": "stderr",
     "output_type": "stream",
     "text": [
      "\n",
      "\n",
      "  0%|                                                                                                                                 | 0/67 [00:00<?, ?it/s]\u001b[A\u001b[A/home/sarawalk/sdgs_py38/lib/python3.8/site-packages/bicm/graph_classes.py:1113: RuntimeWarning: invalid value encountered in divide\n",
      "  probs = node_xy * neighbor_xy / ((1 + node_xy) * (1 + neighbor_xy))\n",
      "/home/sarawalk/sdgs_py38/lib/python3.8/site-packages/bicm/graph_classes.py:1113: RuntimeWarning: invalid value encountered in divide\n",
      "  probs = node_xy * neighbor_xy / ((1 + node_xy) * (1 + neighbor_xy))\n",
      "/home/sarawalk/sdgs_py38/lib/python3.8/site-packages/bicm/graph_classes.py:1113: RuntimeWarning: invalid value encountered in divide\n",
      "  probs = node_xy * neighbor_xy / ((1 + node_xy) * (1 + neighbor_xy))\n",
      "/home/sarawalk/sdgs_py38/lib/python3.8/site-packages/bicm/graph_classes.py:1113: RuntimeWarning: invalid value encountered in divide\n",
      "  probs = node_xy * neighbor_xy / ((1 + node_xy) * (1 + neighbor_xy))\n",
      "100%|███████████████████████████████████████████████████████████████████████████████████████████████████████████████████████| 67/67 [00:00<00:00, 711.06it/s]"
     ]
    },
    {
     "name": "stdout",
     "output_type": "stream",
     "text": [
      "No V-motifs will be validated. Try increasing alpha\n"
     ]
    },
    {
     "name": "stderr",
     "output_type": "stream",
     "text": [
      "\n",
      "\n",
      "\n",
      "  0%|                                                                                                                                  | 0/7 [00:00<?, ?it/s]\u001b[A\u001b[A/home/sarawalk/sdgs_py38/lib/python3.8/site-packages/bicm/graph_classes.py:1113: RuntimeWarning: invalid value encountered in divide\n",
      "  probs = node_xy * neighbor_xy / ((1 + node_xy) * (1 + neighbor_xy))\n",
      "/home/sarawalk/sdgs_py38/lib/python3.8/site-packages/bicm/graph_classes.py:1113: RuntimeWarning: invalid value encountered in divide\n",
      "  probs = node_xy * neighbor_xy / ((1 + node_xy) * (1 + neighbor_xy))\n",
      "/home/sarawalk/sdgs_py38/lib/python3.8/site-packages/bicm/graph_classes.py:1113: RuntimeWarning: invalid value encountered in divide\n",
      "  probs = node_xy * neighbor_xy / ((1 + node_xy) * (1 + neighbor_xy))\n",
      "/home/sarawalk/sdgs_py38/lib/python3.8/site-packages/bicm/graph_classes.py:1113: RuntimeWarning: invalid value encountered in divide\n",
      "  probs = node_xy * neighbor_xy / ((1 + node_xy) * (1 + neighbor_xy))\n",
      "100%|██████████████████████████████████████████████████████████████████████████████████████████████████████████████████████████| 7/7 [00:00<00:00, 93.05it/s]"
     ]
    },
    {
     "name": "stdout",
     "output_type": "stream",
     "text": [
      "No V-motifs will be validated. Try increasing alpha\n",
      "\n",
      "                      WARNING: this system has at least a node that is disconnected or connected to all nodes\n",
      "                       of the opposite layer. This may cause some convergence issues.\n",
      "                      Please use the full mode providing a biadjacency matrix or an edgelist,\n",
      "                       or clean your data from these nodes. \n",
      "                      \n",
      "2023 Utilities SDG 6: Clean Water and Sanitation\r"
     ]
    },
    {
     "name": "stderr",
     "output_type": "stream",
     "text": [
      "\n",
      "\n",
      "\n",
      "  0%|                                                                                                                                 | 0/67 [00:00<?, ?it/s]\u001b[A\u001b[A/home/sarawalk/sdgs_py38/lib/python3.8/site-packages/bicm/graph_classes.py:1113: RuntimeWarning: invalid value encountered in divide\n",
      "  probs = node_xy * neighbor_xy / ((1 + node_xy) * (1 + neighbor_xy))\n",
      "/home/sarawalk/sdgs_py38/lib/python3.8/site-packages/bicm/graph_classes.py:1113: RuntimeWarning: invalid value encountered in divide\n",
      "  probs = node_xy * neighbor_xy / ((1 + node_xy) * (1 + neighbor_xy))\n",
      "/home/sarawalk/sdgs_py38/lib/python3.8/site-packages/bicm/graph_classes.py:1113: RuntimeWarning: invalid value encountered in divide\n",
      "  probs = node_xy * neighbor_xy / ((1 + node_xy) * (1 + neighbor_xy))\n",
      "/home/sarawalk/sdgs_py38/lib/python3.8/site-packages/bicm/graph_classes.py:1113: RuntimeWarning: invalid value encountered in divide\n",
      "  probs = node_xy * neighbor_xy / ((1 + node_xy) * (1 + neighbor_xy))\n",
      "100%|███████████████████████████████████████████████████████████████████████████████████████████████████████████████████████| 67/67 [00:00<00:00, 786.13it/s]\n"
     ]
    },
    {
     "name": "stdout",
     "output_type": "stream",
     "text": [
      "No V-motifs will be validated. Try increasing alpha\n"
     ]
    },
    {
     "name": "stderr",
     "output_type": "stream",
     "text": [
      "\n",
      "\n",
      "  0%|                                                                                                                                  | 0/7 [00:00<?, ?it/s]\u001b[A\u001b[A/home/sarawalk/sdgs_py38/lib/python3.8/site-packages/bicm/graph_classes.py:1113: RuntimeWarning: invalid value encountered in divide\n",
      "  probs = node_xy * neighbor_xy / ((1 + node_xy) * (1 + neighbor_xy))\n",
      "/home/sarawalk/sdgs_py38/lib/python3.8/site-packages/bicm/graph_classes.py:1113: RuntimeWarning: invalid value encountered in divide\n",
      "  probs = node_xy * neighbor_xy / ((1 + node_xy) * (1 + neighbor_xy))\n",
      "/home/sarawalk/sdgs_py38/lib/python3.8/site-packages/bicm/graph_classes.py:1113: RuntimeWarning: invalid value encountered in divide\n",
      "  probs = node_xy * neighbor_xy / ((1 + node_xy) * (1 + neighbor_xy))\n",
      "/home/sarawalk/sdgs_py38/lib/python3.8/site-packages/bicm/graph_classes.py:1113: RuntimeWarning: invalid value encountered in divide\n",
      "  probs = node_xy * neighbor_xy / ((1 + node_xy) * (1 + neighbor_xy))\n",
      "100%|██████████████████████████████████████████████████████████████████████████████████████████████████████████████████████████| 7/7 [00:00<00:00, 78.70it/s]"
     ]
    },
    {
     "name": "stdout",
     "output_type": "stream",
     "text": [
      "No V-motifs will be validated. Try increasing alpha\n",
      "\n",
      "                      WARNING: this system has at least a node that is disconnected or connected to all nodes\n",
      "                       of the opposite layer. This may cause some convergence issues.\n",
      "                      Please use the full mode providing a biadjacency matrix or an edgelist,\n",
      "                       or clean your data from these nodes. \n",
      "                      \n",
      "2023 Utilities SDG 7: Affordable and Clean Energy\r"
     ]
    },
    {
     "name": "stderr",
     "output_type": "stream",
     "text": [
      "\n",
      "\n",
      "\n",
      "  0%|                                                                                                                                 | 0/67 [00:00<?, ?it/s]\u001b[A\u001b[A/home/sarawalk/sdgs_py38/lib/python3.8/site-packages/bicm/graph_classes.py:1113: RuntimeWarning: invalid value encountered in divide\n",
      "  probs = node_xy * neighbor_xy / ((1 + node_xy) * (1 + neighbor_xy))\n",
      "/home/sarawalk/sdgs_py38/lib/python3.8/site-packages/bicm/graph_classes.py:1113: RuntimeWarning: invalid value encountered in divide\n",
      "  probs = node_xy * neighbor_xy / ((1 + node_xy) * (1 + neighbor_xy))\n",
      "/home/sarawalk/sdgs_py38/lib/python3.8/site-packages/bicm/graph_classes.py:1113: RuntimeWarning: invalid value encountered in divide\n",
      "  probs = node_xy * neighbor_xy / ((1 + node_xy) * (1 + neighbor_xy))\n",
      "/home/sarawalk/sdgs_py38/lib/python3.8/site-packages/bicm/graph_classes.py:1113: RuntimeWarning: invalid value encountered in divide\n",
      "  probs = node_xy * neighbor_xy / ((1 + node_xy) * (1 + neighbor_xy))\n",
      "100%|███████████████████████████████████████████████████████████████████████████████████████████████████████████████████████| 67/67 [00:00<00:00, 752.12it/s]"
     ]
    },
    {
     "name": "stdout",
     "output_type": "stream",
     "text": [
      "No V-motifs will be validated. Try increasing alpha\n"
     ]
    },
    {
     "name": "stderr",
     "output_type": "stream",
     "text": [
      "\n",
      "\n",
      "\n",
      "  0%|                                                                                                                                  | 0/7 [00:00<?, ?it/s]\u001b[A\u001b[A/home/sarawalk/sdgs_py38/lib/python3.8/site-packages/bicm/graph_classes.py:1113: RuntimeWarning: invalid value encountered in divide\n",
      "  probs = node_xy * neighbor_xy / ((1 + node_xy) * (1 + neighbor_xy))\n",
      "/home/sarawalk/sdgs_py38/lib/python3.8/site-packages/bicm/graph_classes.py:1113: RuntimeWarning: invalid value encountered in divide\n",
      "  probs = node_xy * neighbor_xy / ((1 + node_xy) * (1 + neighbor_xy))\n",
      "/home/sarawalk/sdgs_py38/lib/python3.8/site-packages/bicm/graph_classes.py:1113: RuntimeWarning: invalid value encountered in divide\n",
      "  probs = node_xy * neighbor_xy / ((1 + node_xy) * (1 + neighbor_xy))\n",
      "/home/sarawalk/sdgs_py38/lib/python3.8/site-packages/bicm/graph_classes.py:1113: RuntimeWarning: invalid value encountered in divide\n",
      "  probs = node_xy * neighbor_xy / ((1 + node_xy) * (1 + neighbor_xy))\n",
      "100%|██████████████████████████████████████████████████████████████████████████████████████████████████████████████████████████| 7/7 [00:00<00:00, 91.61it/s]"
     ]
    },
    {
     "name": "stdout",
     "output_type": "stream",
     "text": [
      "No V-motifs will be validated. Try increasing alpha\n",
      "\n",
      "                      WARNING: this system has at least a node that is disconnected or connected to all nodes\n",
      "                       of the opposite layer. This may cause some convergence issues.\n",
      "                      Please use the full mode providing a biadjacency matrix or an edgelist,\n",
      "                       or clean your data from these nodes. \n",
      "                      \n",
      "2023 Utilities SDG 8: Decent Work and Economic Growth\r"
     ]
    },
    {
     "name": "stderr",
     "output_type": "stream",
     "text": [
      "\n",
      "\n",
      "\n",
      "  0%|                                                                                                                                 | 0/67 [00:00<?, ?it/s]\u001b[A\u001b[A/home/sarawalk/sdgs_py38/lib/python3.8/site-packages/bicm/graph_classes.py:1113: RuntimeWarning: invalid value encountered in divide\n",
      "  probs = node_xy * neighbor_xy / ((1 + node_xy) * (1 + neighbor_xy))\n",
      "/home/sarawalk/sdgs_py38/lib/python3.8/site-packages/bicm/graph_classes.py:1113: RuntimeWarning: invalid value encountered in divide\n",
      "  probs = node_xy * neighbor_xy / ((1 + node_xy) * (1 + neighbor_xy))\n",
      "/home/sarawalk/sdgs_py38/lib/python3.8/site-packages/bicm/graph_classes.py:1113: RuntimeWarning: invalid value encountered in divide\n",
      "  probs = node_xy * neighbor_xy / ((1 + node_xy) * (1 + neighbor_xy))\n",
      "/home/sarawalk/sdgs_py38/lib/python3.8/site-packages/bicm/graph_classes.py:1113: RuntimeWarning: invalid value encountered in divide\n",
      "  probs = node_xy * neighbor_xy / ((1 + node_xy) * (1 + neighbor_xy))\n",
      "100%|███████████████████████████████████████████████████████████████████████████████████████████████████████████████████████| 67/67 [00:00<00:00, 679.67it/s]"
     ]
    },
    {
     "name": "stdout",
     "output_type": "stream",
     "text": [
      "No V-motifs will be validated. Try increasing alpha\n"
     ]
    },
    {
     "name": "stderr",
     "output_type": "stream",
     "text": [
      "\n",
      "\n",
      "\n",
      "  0%|                                                                                                                                  | 0/7 [00:00<?, ?it/s]\u001b[A\u001b[A/home/sarawalk/sdgs_py38/lib/python3.8/site-packages/bicm/graph_classes.py:1113: RuntimeWarning: invalid value encountered in divide\n",
      "  probs = node_xy * neighbor_xy / ((1 + node_xy) * (1 + neighbor_xy))\n",
      "/home/sarawalk/sdgs_py38/lib/python3.8/site-packages/bicm/graph_classes.py:1113: RuntimeWarning: invalid value encountered in divide\n",
      "  probs = node_xy * neighbor_xy / ((1 + node_xy) * (1 + neighbor_xy))\n",
      "/home/sarawalk/sdgs_py38/lib/python3.8/site-packages/bicm/graph_classes.py:1113: RuntimeWarning: invalid value encountered in divide\n",
      "  probs = node_xy * neighbor_xy / ((1 + node_xy) * (1 + neighbor_xy))\n",
      "/home/sarawalk/sdgs_py38/lib/python3.8/site-packages/bicm/graph_classes.py:1113: RuntimeWarning: invalid value encountered in divide\n",
      "  probs = node_xy * neighbor_xy / ((1 + node_xy) * (1 + neighbor_xy))\n",
      "100%|█████████████████████████████████████████████████████████████████████████████████████████████████████████████████████████| 7/7 [00:00<00:00, 114.46it/s]\n"
     ]
    },
    {
     "name": "stdout",
     "output_type": "stream",
     "text": [
      "No V-motifs will be validated. Try increasing alpha\n",
      "\n",
      "                      WARNING: this system has at least a node that is disconnected or connected to all nodes\n",
      "                       of the opposite layer. This may cause some convergence issues.\n",
      "                      Please use the full mode providing a biadjacency matrix or an edgelist,\n",
      "                       or clean your data from these nodes. \n",
      "                      \n",
      "2023 Utilities SDG 9: Industry, Innovation, and Infrastructure\r"
     ]
    },
    {
     "name": "stderr",
     "output_type": "stream",
     "text": [
      "\n",
      "\n",
      "  0%|                                                                                                                                 | 0/67 [00:00<?, ?it/s]\u001b[A\u001b[A/home/sarawalk/sdgs_py38/lib/python3.8/site-packages/bicm/graph_classes.py:1113: RuntimeWarning: invalid value encountered in divide\n",
      "  probs = node_xy * neighbor_xy / ((1 + node_xy) * (1 + neighbor_xy))\n",
      "/home/sarawalk/sdgs_py38/lib/python3.8/site-packages/bicm/graph_classes.py:1113: RuntimeWarning: invalid value encountered in divide\n",
      "  probs = node_xy * neighbor_xy / ((1 + node_xy) * (1 + neighbor_xy))\n",
      "/home/sarawalk/sdgs_py38/lib/python3.8/site-packages/bicm/graph_classes.py:1113: RuntimeWarning: invalid value encountered in divide\n",
      "  probs = node_xy * neighbor_xy / ((1 + node_xy) * (1 + neighbor_xy))\n",
      "/home/sarawalk/sdgs_py38/lib/python3.8/site-packages/bicm/graph_classes.py:1113: RuntimeWarning: invalid value encountered in divide\n",
      "  probs = node_xy * neighbor_xy / ((1 + node_xy) * (1 + neighbor_xy))\n",
      "100%|███████████████████████████████████████████████████████████████████████████████████████████████████████████████████████| 67/67 [00:00<00:00, 790.95it/s]"
     ]
    },
    {
     "name": "stdout",
     "output_type": "stream",
     "text": [
      "No V-motifs will be validated. Try increasing alpha\n"
     ]
    },
    {
     "name": "stderr",
     "output_type": "stream",
     "text": [
      "\n",
      "\n",
      "\n",
      "  0%|                                                                                                                                  | 0/7 [00:00<?, ?it/s]\u001b[A\u001b[A/home/sarawalk/sdgs_py38/lib/python3.8/site-packages/bicm/graph_classes.py:1113: RuntimeWarning: invalid value encountered in divide\n",
      "  probs = node_xy * neighbor_xy / ((1 + node_xy) * (1 + neighbor_xy))\n",
      "/home/sarawalk/sdgs_py38/lib/python3.8/site-packages/bicm/graph_classes.py:1113: RuntimeWarning: invalid value encountered in divide\n",
      "  probs = node_xy * neighbor_xy / ((1 + node_xy) * (1 + neighbor_xy))\n",
      "100%|█████████████████████████████████████████████████████████████████████████████████████████████████████████████████████████| 7/7 [00:00<00:00, 108.85it/s]/home/sarawalk/sdgs_py38/lib/python3.8/site-packages/bicm/graph_classes.py:1113: RuntimeWarning: invalid value encountered in divide\n",
      "  probs = node_xy * neighbor_xy / ((1 + node_xy) * (1 + neighbor_xy))\n",
      "/home/sarawalk/sdgs_py38/lib/python3.8/site-packages/bicm/graph_classes.py:1113: RuntimeWarning: invalid value encountered in divide\n",
      "  probs = node_xy * neighbor_xy / ((1 + node_xy) * (1 + neighbor_xy))\n"
     ]
    },
    {
     "name": "stdout",
     "output_type": "stream",
     "text": [
      "No V-motifs will be validated. Try increasing alpha\n",
      "\n",
      "                      WARNING: this system has at least a node that is disconnected or connected to all nodes\n",
      "                       of the opposite layer. This may cause some convergence issues.\n",
      "                      Please use the full mode providing a biadjacency matrix or an edgelist,\n",
      "                       or clean your data from these nodes. \n",
      "                      \n",
      "2023 Utilities SDG 10: Reduced Inequality\r"
     ]
    },
    {
     "name": "stderr",
     "output_type": "stream",
     "text": [
      "\n",
      "\n",
      "\n",
      "  0%|                                                                                                                                 | 0/67 [00:00<?, ?it/s]\u001b[A\u001b[A/home/sarawalk/sdgs_py38/lib/python3.8/site-packages/bicm/graph_classes.py:1113: RuntimeWarning: invalid value encountered in divide\n",
      "  probs = node_xy * neighbor_xy / ((1 + node_xy) * (1 + neighbor_xy))\n",
      "/home/sarawalk/sdgs_py38/lib/python3.8/site-packages/bicm/graph_classes.py:1113: RuntimeWarning: invalid value encountered in divide\n",
      "  probs = node_xy * neighbor_xy / ((1 + node_xy) * (1 + neighbor_xy))\n",
      "/home/sarawalk/sdgs_py38/lib/python3.8/site-packages/bicm/graph_classes.py:1113: RuntimeWarning: invalid value encountered in divide\n",
      "  probs = node_xy * neighbor_xy / ((1 + node_xy) * (1 + neighbor_xy))\n",
      "/home/sarawalk/sdgs_py38/lib/python3.8/site-packages/bicm/graph_classes.py:1113: RuntimeWarning: invalid value encountered in divide\n",
      "  probs = node_xy * neighbor_xy / ((1 + node_xy) * (1 + neighbor_xy))\n",
      "\n",
      "\n",
      "100%|███████████████████████████████████████████████████████████████████████████████████████████████████████████████████████| 67/67 [00:00<00:00, 625.16it/s]\u001b[A\u001b[A"
     ]
    },
    {
     "name": "stdout",
     "output_type": "stream",
     "text": [
      "No V-motifs will be validated. Try increasing alpha\n"
     ]
    },
    {
     "name": "stderr",
     "output_type": "stream",
     "text": [
      "\n",
      "\n",
      "\n",
      "  0%|                                                                                                                                  | 0/7 [00:00<?, ?it/s]\u001b[A\u001b[A/home/sarawalk/sdgs_py38/lib/python3.8/site-packages/bicm/graph_classes.py:1113: RuntimeWarning: invalid value encountered in divide\n",
      "  probs = node_xy * neighbor_xy / ((1 + node_xy) * (1 + neighbor_xy))\n",
      "/home/sarawalk/sdgs_py38/lib/python3.8/site-packages/bicm/graph_classes.py:1113: RuntimeWarning: invalid value encountered in divide\n",
      "  probs = node_xy * neighbor_xy / ((1 + node_xy) * (1 + neighbor_xy))\n",
      "100%|██████████████████████████████████████████████████████████████████████████████████████████████████████████████████████████| 7/7 [00:00<00:00, 84.92it/s]/home/sarawalk/sdgs_py38/lib/python3.8/site-packages/bicm/graph_classes.py:1113: RuntimeWarning: invalid value encountered in divide\n",
      "  probs = node_xy * neighbor_xy / ((1 + node_xy) * (1 + neighbor_xy))\n",
      "\n",
      "/home/sarawalk/sdgs_py38/lib/python3.8/site-packages/bicm/graph_classes.py:1113: RuntimeWarning: invalid value encountered in divide\n",
      "  probs = node_xy * neighbor_xy / ((1 + node_xy) * (1 + neighbor_xy))\n"
     ]
    },
    {
     "name": "stdout",
     "output_type": "stream",
     "text": [
      "No V-motifs will be validated. Try increasing alpha\n",
      "\n",
      "                      WARNING: this system has at least a node that is disconnected or connected to all nodes\n",
      "                       of the opposite layer. This may cause some convergence issues.\n",
      "                      Please use the full mode providing a biadjacency matrix or an edgelist,\n",
      "                       or clean your data from these nodes. \n",
      "                      \n",
      "2023 Utilities SDG 11: Sustainable Cities and Communities\r"
     ]
    },
    {
     "name": "stderr",
     "output_type": "stream",
     "text": [
      "\n",
      "\n",
      "  0%|                                                                                                                                 | 0/67 [00:00<?, ?it/s]\u001b[A\u001b[A/home/sarawalk/sdgs_py38/lib/python3.8/site-packages/bicm/graph_classes.py:1113: RuntimeWarning: invalid value encountered in divide\n",
      "  probs = node_xy * neighbor_xy / ((1 + node_xy) * (1 + neighbor_xy))\n",
      "/home/sarawalk/sdgs_py38/lib/python3.8/site-packages/bicm/graph_classes.py:1113: RuntimeWarning: invalid value encountered in divide\n",
      "  probs = node_xy * neighbor_xy / ((1 + node_xy) * (1 + neighbor_xy))\n",
      "/home/sarawalk/sdgs_py38/lib/python3.8/site-packages/bicm/graph_classes.py:1113: RuntimeWarning: invalid value encountered in divide\n",
      "  probs = node_xy * neighbor_xy / ((1 + node_xy) * (1 + neighbor_xy))\n",
      "/home/sarawalk/sdgs_py38/lib/python3.8/site-packages/bicm/graph_classes.py:1113: RuntimeWarning: invalid value encountered in divide\n",
      "  probs = node_xy * neighbor_xy / ((1 + node_xy) * (1 + neighbor_xy))\n",
      "100%|███████████████████████████████████████████████████████████████████████████████████████████████████████████████████████| 67/67 [00:00<00:00, 681.86it/s]"
     ]
    },
    {
     "name": "stdout",
     "output_type": "stream",
     "text": [
      "No V-motifs will be validated. Try increasing alpha\n"
     ]
    },
    {
     "name": "stderr",
     "output_type": "stream",
     "text": [
      "\n",
      "\n",
      "\n",
      "  0%|                                                                                                                                  | 0/7 [00:00<?, ?it/s]\u001b[A\u001b[A/home/sarawalk/sdgs_py38/lib/python3.8/site-packages/bicm/graph_classes.py:1113: RuntimeWarning: invalid value encountered in divide\n",
      "  probs = node_xy * neighbor_xy / ((1 + node_xy) * (1 + neighbor_xy))\n",
      "/home/sarawalk/sdgs_py38/lib/python3.8/site-packages/bicm/graph_classes.py:1113: RuntimeWarning: invalid value encountered in divide\n",
      "  probs = node_xy * neighbor_xy / ((1 + node_xy) * (1 + neighbor_xy))\n",
      "100%|█████████████████████████████████████████████████████████████████████████████████████████████████████████████████████████| 7/7 [00:00<00:00, 122.73it/s]/home/sarawalk/sdgs_py38/lib/python3.8/site-packages/bicm/graph_classes.py:1113: RuntimeWarning: invalid value encountered in divide\n",
      "  probs = node_xy * neighbor_xy / ((1 + node_xy) * (1 + neighbor_xy))\n",
      "/home/sarawalk/sdgs_py38/lib/python3.8/site-packages/bicm/graph_classes.py:1113: RuntimeWarning: invalid value encountered in divide\n",
      "  probs = node_xy * neighbor_xy / ((1 + node_xy) * (1 + neighbor_xy))\n"
     ]
    },
    {
     "name": "stdout",
     "output_type": "stream",
     "text": [
      "No V-motifs will be validated. Try increasing alpha\n",
      "\n",
      "                      WARNING: this system has at least a node that is disconnected or connected to all nodes\n",
      "                       of the opposite layer. This may cause some convergence issues.\n",
      "                      Please use the full mode providing a biadjacency matrix or an edgelist,\n",
      "                       or clean your data from these nodes. \n",
      "                      \n",
      "2023 Utilities SDG 12: Responsible Consumption and Production\r"
     ]
    },
    {
     "name": "stderr",
     "output_type": "stream",
     "text": [
      "\n",
      "\n",
      "\n",
      "  0%|                                                                                                                                 | 0/67 [00:00<?, ?it/s]\u001b[A\u001b[A/home/sarawalk/sdgs_py38/lib/python3.8/site-packages/bicm/graph_classes.py:1113: RuntimeWarning: invalid value encountered in divide\n",
      "  probs = node_xy * neighbor_xy / ((1 + node_xy) * (1 + neighbor_xy))\n",
      "/home/sarawalk/sdgs_py38/lib/python3.8/site-packages/bicm/graph_classes.py:1113: RuntimeWarning: invalid value encountered in divide\n",
      "  probs = node_xy * neighbor_xy / ((1 + node_xy) * (1 + neighbor_xy))\n",
      "/home/sarawalk/sdgs_py38/lib/python3.8/site-packages/bicm/graph_classes.py:1113: RuntimeWarning: invalid value encountered in divide\n",
      "  probs = node_xy * neighbor_xy / ((1 + node_xy) * (1 + neighbor_xy))\n",
      "/home/sarawalk/sdgs_py38/lib/python3.8/site-packages/bicm/graph_classes.py:1113: RuntimeWarning: invalid value encountered in divide\n",
      "  probs = node_xy * neighbor_xy / ((1 + node_xy) * (1 + neighbor_xy))\n",
      "\n",
      "\n",
      "100%|███████████████████████████████████████████████████████████████████████████████████████████████████████████████████████| 67/67 [00:00<00:00, 600.64it/s]\u001b[A\u001b[A\n"
     ]
    },
    {
     "name": "stdout",
     "output_type": "stream",
     "text": [
      "No V-motifs will be validated. Try increasing alpha\n"
     ]
    },
    {
     "name": "stderr",
     "output_type": "stream",
     "text": [
      "\n",
      "\n",
      "  0%|                                                                                                                                  | 0/7 [00:00<?, ?it/s]\u001b[A\u001b[A/home/sarawalk/sdgs_py38/lib/python3.8/site-packages/bicm/graph_classes.py:1113: RuntimeWarning: invalid value encountered in divide\n",
      "  probs = node_xy * neighbor_xy / ((1 + node_xy) * (1 + neighbor_xy))\n",
      "/home/sarawalk/sdgs_py38/lib/python3.8/site-packages/bicm/graph_classes.py:1113: RuntimeWarning: invalid value encountered in divide\n",
      "  probs = node_xy * neighbor_xy / ((1 + node_xy) * (1 + neighbor_xy))\n",
      "/home/sarawalk/sdgs_py38/lib/python3.8/site-packages/bicm/graph_classes.py:1113: RuntimeWarning: invalid value encountered in divide\n",
      "  probs = node_xy * neighbor_xy / ((1 + node_xy) * (1 + neighbor_xy))\n",
      "/home/sarawalk/sdgs_py38/lib/python3.8/site-packages/bicm/graph_classes.py:1113: RuntimeWarning: invalid value encountered in divide\n",
      "  probs = node_xy * neighbor_xy / ((1 + node_xy) * (1 + neighbor_xy))\n",
      "100%|██████████████████████████████████████████████████████████████████████████████████████████████████████████████████████████| 7/7 [00:00<00:00, 88.29it/s]"
     ]
    },
    {
     "name": "stdout",
     "output_type": "stream",
     "text": [
      "No V-motifs will be validated. Try increasing alpha\n",
      "\n",
      "                      WARNING: this system has at least a node that is disconnected or connected to all nodes\n",
      "                       of the opposite layer. This may cause some convergence issues.\n",
      "                      Please use the full mode providing a biadjacency matrix or an edgelist,\n",
      "                       or clean your data from these nodes. \n",
      "                      \n",
      "2023 Utilities SDG 13: Climate Action\r"
     ]
    },
    {
     "name": "stderr",
     "output_type": "stream",
     "text": [
      "\n",
      "\n",
      "\n",
      "  0%|                                                                                                                                 | 0/67 [00:00<?, ?it/s]\u001b[A\u001b[A/home/sarawalk/sdgs_py38/lib/python3.8/site-packages/bicm/graph_classes.py:1113: RuntimeWarning: invalid value encountered in divide\n",
      "  probs = node_xy * neighbor_xy / ((1 + node_xy) * (1 + neighbor_xy))\n",
      "/home/sarawalk/sdgs_py38/lib/python3.8/site-packages/bicm/graph_classes.py:1113: RuntimeWarning: invalid value encountered in divide\n",
      "  probs = node_xy * neighbor_xy / ((1 + node_xy) * (1 + neighbor_xy))\n",
      "/home/sarawalk/sdgs_py38/lib/python3.8/site-packages/bicm/graph_classes.py:1113: RuntimeWarning: invalid value encountered in divide\n",
      "  probs = node_xy * neighbor_xy / ((1 + node_xy) * (1 + neighbor_xy))\n",
      "/home/sarawalk/sdgs_py38/lib/python3.8/site-packages/bicm/graph_classes.py:1113: RuntimeWarning: invalid value encountered in divide\n",
      "  probs = node_xy * neighbor_xy / ((1 + node_xy) * (1 + neighbor_xy))\n",
      "\n",
      "\n",
      "100%|███████████████████████████████████████████████████████████████████████████████████████████████████████████████████████| 67/67 [00:00<00:00, 557.12it/s]\u001b[A\u001b[A"
     ]
    },
    {
     "name": "stdout",
     "output_type": "stream",
     "text": [
      "No V-motifs will be validated. Try increasing alpha\n"
     ]
    },
    {
     "name": "stderr",
     "output_type": "stream",
     "text": [
      "\n",
      "\n",
      "\n",
      "  0%|                                                                                                                                  | 0/7 [00:00<?, ?it/s]\u001b[A\u001b[A/home/sarawalk/sdgs_py38/lib/python3.8/site-packages/bicm/graph_classes.py:1113: RuntimeWarning: invalid value encountered in divide\n",
      "  probs = node_xy * neighbor_xy / ((1 + node_xy) * (1 + neighbor_xy))\n",
      "/home/sarawalk/sdgs_py38/lib/python3.8/site-packages/bicm/graph_classes.py:1113: RuntimeWarning: invalid value encountered in divide\n",
      "  probs = node_xy * neighbor_xy / ((1 + node_xy) * (1 + neighbor_xy))\n",
      "/home/sarawalk/sdgs_py38/lib/python3.8/site-packages/bicm/graph_classes.py:1113: RuntimeWarning: invalid value encountered in divide\n",
      "  probs = node_xy * neighbor_xy / ((1 + node_xy) * (1 + neighbor_xy))\n",
      "100%|█████████████████████████████████████████████████████████████████████████████████████████████████████████████████████████| 7/7 [00:00<00:00, 109.44it/s]\n",
      "/home/sarawalk/sdgs_py38/lib/python3.8/site-packages/bicm/graph_classes.py:1113: RuntimeWarning: invalid value encountered in divide\n",
      "  probs = node_xy * neighbor_xy / ((1 + node_xy) * (1 + neighbor_xy))\n"
     ]
    },
    {
     "name": "stdout",
     "output_type": "stream",
     "text": [
      "No V-motifs will be validated. Try increasing alpha\n",
      "\n",
      "                      WARNING: this system has at least a node that is disconnected or connected to all nodes\n",
      "                       of the opposite layer. This may cause some convergence issues.\n",
      "                      Please use the full mode providing a biadjacency matrix or an edgelist,\n",
      "                       or clean your data from these nodes. \n",
      "                      \n",
      "2023 Utilities SDG 14: Life Below Water\r"
     ]
    },
    {
     "name": "stderr",
     "output_type": "stream",
     "text": [
      "\n",
      "\n",
      "  0%|                                                                                                                                 | 0/67 [00:00<?, ?it/s]\u001b[A\u001b[A/home/sarawalk/sdgs_py38/lib/python3.8/site-packages/bicm/graph_classes.py:1113: RuntimeWarning: invalid value encountered in divide\n",
      "  probs = node_xy * neighbor_xy / ((1 + node_xy) * (1 + neighbor_xy))\n",
      "/home/sarawalk/sdgs_py38/lib/python3.8/site-packages/bicm/graph_classes.py:1113: RuntimeWarning: invalid value encountered in divide\n",
      "  probs = node_xy * neighbor_xy / ((1 + node_xy) * (1 + neighbor_xy))\n",
      "/home/sarawalk/sdgs_py38/lib/python3.8/site-packages/bicm/graph_classes.py:1113: RuntimeWarning: invalid value encountered in divide\n",
      "  probs = node_xy * neighbor_xy / ((1 + node_xy) * (1 + neighbor_xy))\n",
      "/home/sarawalk/sdgs_py38/lib/python3.8/site-packages/bicm/graph_classes.py:1113: RuntimeWarning: invalid value encountered in divide\n",
      "  probs = node_xy * neighbor_xy / ((1 + node_xy) * (1 + neighbor_xy))\n",
      "\n",
      "\n",
      "100%|███████████████████████████████████████████████████████████████████████████████████████████████████████████████████████| 67/67 [00:00<00:00, 620.40it/s]\u001b[A\u001b[A"
     ]
    },
    {
     "name": "stdout",
     "output_type": "stream",
     "text": [
      "No V-motifs will be validated. Try increasing alpha\n"
     ]
    },
    {
     "name": "stderr",
     "output_type": "stream",
     "text": [
      "\n",
      "\n",
      "\n",
      "  0%|                                                                                                                                  | 0/7 [00:00<?, ?it/s]\u001b[A\u001b[A/home/sarawalk/sdgs_py38/lib/python3.8/site-packages/bicm/graph_classes.py:1113: RuntimeWarning: invalid value encountered in divide\n",
      "  probs = node_xy * neighbor_xy / ((1 + node_xy) * (1 + neighbor_xy))\n",
      "/home/sarawalk/sdgs_py38/lib/python3.8/site-packages/bicm/graph_classes.py:1113: RuntimeWarning: invalid value encountered in divide\n",
      "  probs = node_xy * neighbor_xy / ((1 + node_xy) * (1 + neighbor_xy))\n",
      "/home/sarawalk/sdgs_py38/lib/python3.8/site-packages/bicm/graph_classes.py:1113: RuntimeWarning: invalid value encountered in divide\n",
      "  probs = node_xy * neighbor_xy / ((1 + node_xy) * (1 + neighbor_xy))\n",
      "/home/sarawalk/sdgs_py38/lib/python3.8/site-packages/bicm/graph_classes.py:1113: RuntimeWarning: invalid value encountered in divide\n",
      "  probs = node_xy * neighbor_xy / ((1 + node_xy) * (1 + neighbor_xy))\n",
      "100%|██████████████████████████████████████████████████████████████████████████████████████████████████████████████████████████| 7/7 [00:00<00:00, 99.28it/s]\n"
     ]
    },
    {
     "name": "stdout",
     "output_type": "stream",
     "text": [
      "No V-motifs will be validated. Try increasing alpha\n",
      "\n",
      "                      WARNING: this system has at least a node that is disconnected or connected to all nodes\n",
      "                       of the opposite layer. This may cause some convergence issues.\n",
      "                      Please use the full mode providing a biadjacency matrix or an edgelist,\n",
      "                       or clean your data from these nodes. \n",
      "                      \n",
      "2023 Utilities SDG 15: Life on Land\r"
     ]
    },
    {
     "name": "stderr",
     "output_type": "stream",
     "text": [
      "\n",
      "\n",
      "  0%|                                                                                                                                 | 0/67 [00:00<?, ?it/s]\u001b[A\u001b[A/home/sarawalk/sdgs_py38/lib/python3.8/site-packages/bicm/graph_classes.py:1113: RuntimeWarning: invalid value encountered in divide\n",
      "  probs = node_xy * neighbor_xy / ((1 + node_xy) * (1 + neighbor_xy))\n",
      "/home/sarawalk/sdgs_py38/lib/python3.8/site-packages/bicm/graph_classes.py:1113: RuntimeWarning: invalid value encountered in divide\n",
      "  probs = node_xy * neighbor_xy / ((1 + node_xy) * (1 + neighbor_xy))\n",
      "/home/sarawalk/sdgs_py38/lib/python3.8/site-packages/bicm/graph_classes.py:1113: RuntimeWarning: invalid value encountered in divide\n",
      "  probs = node_xy * neighbor_xy / ((1 + node_xy) * (1 + neighbor_xy))\n",
      "/home/sarawalk/sdgs_py38/lib/python3.8/site-packages/bicm/graph_classes.py:1113: RuntimeWarning: invalid value encountered in divide\n",
      "  probs = node_xy * neighbor_xy / ((1 + node_xy) * (1 + neighbor_xy))\n",
      "100%|███████████████████████████████████████████████████████████████████████████████████████████████████████████████████████| 67/67 [00:00<00:00, 813.28it/s]"
     ]
    },
    {
     "name": "stdout",
     "output_type": "stream",
     "text": [
      "No V-motifs will be validated. Try increasing alpha\n"
     ]
    },
    {
     "name": "stderr",
     "output_type": "stream",
     "text": [
      "\n",
      "\n",
      "\n",
      "  0%|                                                                                                                                  | 0/7 [00:00<?, ?it/s]\u001b[A\u001b[A/home/sarawalk/sdgs_py38/lib/python3.8/site-packages/bicm/graph_classes.py:1113: RuntimeWarning: invalid value encountered in divide\n",
      "  probs = node_xy * neighbor_xy / ((1 + node_xy) * (1 + neighbor_xy))\n",
      "/home/sarawalk/sdgs_py38/lib/python3.8/site-packages/bicm/graph_classes.py:1113: RuntimeWarning: invalid value encountered in divide\n",
      "  probs = node_xy * neighbor_xy / ((1 + node_xy) * (1 + neighbor_xy))\n",
      "100%|██████████████████████████████████████████████████████████████████████████████████████████████████████████████████████████| 7/7 [00:00<00:00, 94.25it/s]\n",
      "/home/sarawalk/sdgs_py38/lib/python3.8/site-packages/bicm/graph_classes.py:1113: RuntimeWarning: invalid value encountered in divide\n",
      "  probs = node_xy * neighbor_xy / ((1 + node_xy) * (1 + neighbor_xy))\n",
      "/home/sarawalk/sdgs_py38/lib/python3.8/site-packages/bicm/graph_classes.py:1113: RuntimeWarning: invalid value encountered in divide\n",
      "  probs = node_xy * neighbor_xy / ((1 + node_xy) * (1 + neighbor_xy))\n"
     ]
    },
    {
     "name": "stdout",
     "output_type": "stream",
     "text": [
      "No V-motifs will be validated. Try increasing alpha\n",
      "\n",
      "                      WARNING: this system has at least a node that is disconnected or connected to all nodes\n",
      "                       of the opposite layer. This may cause some convergence issues.\n",
      "                      Please use the full mode providing a biadjacency matrix or an edgelist,\n",
      "                       or clean your data from these nodes. \n",
      "                      \n",
      "2023 Utilities SDG 16: Peace, Justice, and Strong Institutions\r"
     ]
    },
    {
     "name": "stderr",
     "output_type": "stream",
     "text": [
      "\n",
      "\n",
      "  0%|                                                                                                                                 | 0/67 [00:00<?, ?it/s]\u001b[A\u001b[A/home/sarawalk/sdgs_py38/lib/python3.8/site-packages/bicm/graph_classes.py:1113: RuntimeWarning: invalid value encountered in divide\n",
      "  probs = node_xy * neighbor_xy / ((1 + node_xy) * (1 + neighbor_xy))\n",
      "/home/sarawalk/sdgs_py38/lib/python3.8/site-packages/bicm/graph_classes.py:1113: RuntimeWarning: invalid value encountered in divide\n",
      "  probs = node_xy * neighbor_xy / ((1 + node_xy) * (1 + neighbor_xy))\n",
      "/home/sarawalk/sdgs_py38/lib/python3.8/site-packages/bicm/graph_classes.py:1113: RuntimeWarning: invalid value encountered in divide\n",
      "  probs = node_xy * neighbor_xy / ((1 + node_xy) * (1 + neighbor_xy))\n",
      "/home/sarawalk/sdgs_py38/lib/python3.8/site-packages/bicm/graph_classes.py:1113: RuntimeWarning: invalid value encountered in divide\n",
      "  probs = node_xy * neighbor_xy / ((1 + node_xy) * (1 + neighbor_xy))\n",
      "100%|███████████████████████████████████████████████████████████████████████████████████████████████████████████████████████| 67/67 [00:00<00:00, 828.89it/s]"
     ]
    },
    {
     "name": "stdout",
     "output_type": "stream",
     "text": [
      "No V-motifs will be validated. Try increasing alpha\n"
     ]
    },
    {
     "name": "stderr",
     "output_type": "stream",
     "text": [
      "\n",
      "\n",
      "\n",
      "  0%|                                                                                                                                  | 0/7 [00:00<?, ?it/s]\u001b[A\u001b[A/home/sarawalk/sdgs_py38/lib/python3.8/site-packages/bicm/graph_classes.py:1113: RuntimeWarning: invalid value encountered in divide\n",
      "  probs = node_xy * neighbor_xy / ((1 + node_xy) * (1 + neighbor_xy))\n",
      "/home/sarawalk/sdgs_py38/lib/python3.8/site-packages/bicm/graph_classes.py:1113: RuntimeWarning: invalid value encountered in divide\n",
      "  probs = node_xy * neighbor_xy / ((1 + node_xy) * (1 + neighbor_xy))\n",
      "100%|██████████████████████████████████████████████████████████████████████████████████████████████████████████████████████████| 7/7 [00:00<00:00, 91.64it/s]/home/sarawalk/sdgs_py38/lib/python3.8/site-packages/bicm/graph_classes.py:1113: RuntimeWarning: invalid value encountered in divide\n",
      "  probs = node_xy * neighbor_xy / ((1 + node_xy) * (1 + neighbor_xy))\n",
      "\n",
      "/home/sarawalk/sdgs_py38/lib/python3.8/site-packages/bicm/graph_classes.py:1113: RuntimeWarning: invalid value encountered in divide\n",
      "  probs = node_xy * neighbor_xy / ((1 + node_xy) * (1 + neighbor_xy))\n"
     ]
    },
    {
     "name": "stdout",
     "output_type": "stream",
     "text": [
      "No V-motifs will be validated. Try increasing alpha\n",
      "\n",
      "                      WARNING: this system has at least a node that is disconnected or connected to all nodes\n",
      "                       of the opposite layer. This may cause some convergence issues.\n",
      "                      Please use the full mode providing a biadjacency matrix or an edgelist,\n",
      "                       or clean your data from these nodes. \n",
      "                      \n",
      "2023 Utilities SDG 17: Partnerships for the Goals\r"
     ]
    },
    {
     "name": "stderr",
     "output_type": "stream",
     "text": [
      "\n",
      "\n",
      "  0%|                                                                                                                                 | 0/67 [00:00<?, ?it/s]\u001b[A\u001b[A/home/sarawalk/sdgs_py38/lib/python3.8/site-packages/bicm/graph_classes.py:1113: RuntimeWarning: invalid value encountered in divide\n",
      "  probs = node_xy * neighbor_xy / ((1 + node_xy) * (1 + neighbor_xy))\n",
      "/home/sarawalk/sdgs_py38/lib/python3.8/site-packages/bicm/graph_classes.py:1113: RuntimeWarning: invalid value encountered in divide\n",
      "  probs = node_xy * neighbor_xy / ((1 + node_xy) * (1 + neighbor_xy))\n",
      "/home/sarawalk/sdgs_py38/lib/python3.8/site-packages/bicm/graph_classes.py:1113: RuntimeWarning: invalid value encountered in divide\n",
      "  probs = node_xy * neighbor_xy / ((1 + node_xy) * (1 + neighbor_xy))\n",
      "/home/sarawalk/sdgs_py38/lib/python3.8/site-packages/bicm/graph_classes.py:1113: RuntimeWarning: invalid value encountered in divide\n",
      "  probs = node_xy * neighbor_xy / ((1 + node_xy) * (1 + neighbor_xy))\n",
      "100%|███████████████████████████████████████████████████████████████████████████████████████████████████████████████████████| 67/67 [00:00<00:00, 717.61it/s]"
     ]
    },
    {
     "name": "stdout",
     "output_type": "stream",
     "text": [
      "No V-motifs will be validated. Try increasing alpha\n"
     ]
    },
    {
     "name": "stderr",
     "output_type": "stream",
     "text": [
      "\n",
      "\n",
      "\n",
      "  0%|                                                                                                                                  | 0/7 [00:00<?, ?it/s]\u001b[A\u001b[A/home/sarawalk/sdgs_py38/lib/python3.8/site-packages/bicm/graph_classes.py:1113: RuntimeWarning: invalid value encountered in divide\n",
      "  probs = node_xy * neighbor_xy / ((1 + node_xy) * (1 + neighbor_xy))\n",
      "/home/sarawalk/sdgs_py38/lib/python3.8/site-packages/bicm/graph_classes.py:1113: RuntimeWarning: invalid value encountered in divide\n",
      "  probs = node_xy * neighbor_xy / ((1 + node_xy) * (1 + neighbor_xy))\n",
      "/home/sarawalk/sdgs_py38/lib/python3.8/site-packages/bicm/graph_classes.py:1113: RuntimeWarning: invalid value encountered in divide\n",
      "  probs = node_xy * neighbor_xy / ((1 + node_xy) * (1 + neighbor_xy))\n",
      "/home/sarawalk/sdgs_py38/lib/python3.8/site-packages/bicm/graph_classes.py:1113: RuntimeWarning: invalid value encountered in divide\n",
      "  probs = node_xy * neighbor_xy / ((1 + node_xy) * (1 + neighbor_xy))\n",
      "100%|██████████████████████████████████████████████████████████████████████████████████████████████████████████████████████████| 7/7 [00:00<00:00, 87.39it/s]"
     ]
    },
    {
     "name": "stdout",
     "output_type": "stream",
     "text": [
      "No V-motifs will be validated. Try increasing alpha\n"
     ]
    },
    {
     "name": "stderr",
     "output_type": "stream",
     "text": [
      "\n"
     ]
    }
   ],
   "source": [
    "val_ids_counter=0\n",
    "val_toks_counter=0\n",
    "\n",
    "for year in tqdm(sdg_melt_dict.keys()):\n",
    "    for sector in sdg_melt_dict[year].keys():\n",
    "        _sdgs=sdg_melt_dict[year][sector].keys()\n",
    "        for _sdg in _sdgs:\n",
    "            sentences=list(sdg_melt_dict[year][sector][sdg].values())\n",
    "            if len(sentences)>1:\n",
    "                cacca=melt(sentences)\n",
    "                cacca.get_bicm(print_error=False)\n",
    "                print(year, sector, _sdg, end='\\r')\n",
    "                token_proj=cacca.MyGraph.get_cols_projection(alpha=0.05)\n",
    "                id_proj=cacca.MyGraph.get_rows_projection(alpha=0.05)\n",
    "                if len(id_proj.keys())>0:\n",
    "                    val_ids_counter+=1\n",
    "                    sdg_melt_dict[year][sector][_sdg]['val_ids']=id_proj\n",
    "                if len(token_proj.keys())>0:\n",
    "                    val_toks_counter+=1\n",
    "                    sdg_melt_dict[year][sector][_sdg]['val_toks']=token_proj"
   ]
  },
  {
   "cell_type": "code",
   "execution_count": 54,
   "id": "55dd2e8b",
   "metadata": {
    "ExecuteTime": {
     "end_time": "2024-06-25T14:11:31.596867Z",
     "start_time": "2024-06-25T14:11:31.589076Z"
    }
   },
   "outputs": [
    {
     "data": {
      "text/plain": [
       "0"
      ]
     },
     "execution_count": 54,
     "metadata": {},
     "output_type": "execute_result"
    }
   ],
   "source": [
    "val_ids_counter"
   ]
  },
  {
   "cell_type": "code",
   "execution_count": 55,
   "id": "348e0611",
   "metadata": {
    "ExecuteTime": {
     "end_time": "2024-06-25T14:11:31.675047Z",
     "start_time": "2024-06-25T14:11:31.599770Z"
    }
   },
   "outputs": [
    {
     "data": {
      "text/plain": [
       "0"
      ]
     },
     "execution_count": 55,
     "metadata": {},
     "output_type": "execute_result"
    }
   ],
   "source": [
    "val_toks_counter"
   ]
  },
  {
   "cell_type": "markdown",
   "id": "6dc2b28c",
   "metadata": {},
   "source": [
    "No V-motif validated."
   ]
  },
  {
   "cell_type": "markdown",
   "id": "80d08980",
   "metadata": {},
   "source": [
    "### We can live without any validation"
   ]
  },
  {
   "cell_type": "markdown",
   "id": "85cacbf1",
   "metadata": {},
   "source": [
    "It is hard, but it can be done. "
   ]
  },
  {
   "cell_type": "code",
   "execution_count": 56,
   "id": "001d677a",
   "metadata": {
    "ExecuteTime": {
     "end_time": "2024-06-25T14:11:39.256497Z",
     "start_time": "2024-06-25T14:11:39.248260Z"
    }
   },
   "outputs": [],
   "source": [
    "def biad_list_inverter(biad_list):\n",
    "    inv_biad_list={}\n",
    "    for key in biad_list:\n",
    "        new_keys=biad_list[key]\n",
    "        for new_key in new_keys:\n",
    "            if new_key not in inv_biad_list.keys():\n",
    "                inv_biad_list[new_key]=[]\n",
    "            inv_biad_list[new_key].append(key)\n",
    "    return inv_biad_list"
   ]
  },
  {
   "cell_type": "code",
   "execution_count": 129,
   "id": "c079aed4",
   "metadata": {
    "ExecuteTime": {
     "end_time": "2024-06-25T14:47:02.598395Z",
     "start_time": "2024-06-25T14:47:02.591669Z"
    }
   },
   "outputs": [
    {
     "data": {
      "text/plain": [
       "dict_keys(['SDG 3: Good Health and Well-being', 'SDG 4: Quality Education', 'SDG 5: Gender Equality', 'SDG 6: Clean Water and Sanitation', 'SDG 7: Affordable and Clean Energy', 'SDG 8: Decent Work and Economic Growth', 'SDG 9: Industry, Innovation, and Infrastructure', 'SDG 10: Reduced Inequality', 'SDG 11: Sustainable Cities and Communities', 'SDG 12: Responsible Consumption and Production', 'SDG 13: Climate Action', 'SDG 14: Life Below Water', 'SDG 15: Life on Land', 'SDG 16: Peace, Justice, and Strong Institutions', 'SDG 17: Partnerships for the Goals'])"
      ]
     },
     "execution_count": 129,
     "metadata": {},
     "output_type": "execute_result"
    }
   ],
   "source": [
    "sdg_melt_dict[2015]['Energy'].keys()"
   ]
  },
  {
   "cell_type": "code",
   "execution_count": 131,
   "id": "5aa54bba",
   "metadata": {
    "ExecuteTime": {
     "end_time": "2024-06-25T14:48:41.942006Z",
     "start_time": "2024-06-25T14:48:40.489055Z"
    }
   },
   "outputs": [
    {
     "data": {
      "application/vnd.jupyter.widget-view+json": {
       "model_id": "ae6f367d42bc48a0a46e6aa50aa1f809",
       "version_major": 2,
       "version_minor": 0
      },
      "text/plain": [
       "  0%|          | 0/9 [00:00<?, ?it/s]"
      ]
     },
     "metadata": {},
     "output_type": "display_data"
    }
   ],
   "source": [
    "token_dict={}\n",
    "for year in tqdm(sdg_melt_dict.keys()):\n",
    "    for sector in sdg_melt_dict[year].keys():\n",
    "        _sdgs=sdg_melt_dict[year][sector].keys()\n",
    "        for _sdg in _sdgs:\n",
    "            if _sdg not in token_dict.keys():\n",
    "                token_dict[_sdg]={}\n",
    "            if sector not in token_dict[_sdg].keys():\n",
    "                token_dict[_sdg][sector]={}\n",
    "            sentences=list(sdg_melt_dict[year][sector][_sdg].values())\n",
    "            if len(sentences)>1:\n",
    "                cacca=melt(sentences)\n",
    "                aux=biad_list_inverter(cacca.biadj_list)\n",
    "                aux={k: len(v) for k, v in sorted(aux.items(), key=lambda item: len(item[1]), reverse=True)}\n",
    "                out={k:v/len(sentences) for k, v in aux.items() if v/len(sentences)>=0.75 and v>2}\n",
    "                if out!={}:\n",
    "                    token_dict[_sdg][sector][year]=out\n",
    "            if token_dict[_sdg][sector]=={}:\n",
    "                del token_dict[_sdg][sector]\n",
    "        "
   ]
  },
  {
   "cell_type": "code",
   "execution_count": 132,
   "id": "12588efa",
   "metadata": {
    "ExecuteTime": {
     "end_time": "2024-06-25T14:48:42.557712Z",
     "start_time": "2024-06-25T14:48:42.514459Z"
    }
   },
   "outputs": [
    {
     "data": {
      "text/plain": [
       "{'SDG 1: No Poverty': {'Utilities': {2020: {'pay': 1.0},\n",
       "   2021: {'aim': 1.0,\n",
       "    'custom': 1.0,\n",
       "    'provid': 1.0,\n",
       "    'support': 1.0,\n",
       "    'water': 1.0,\n",
       "    'afford': 0.75,\n",
       "    'financi': 0.75,\n",
       "    'highlight': 0.75,\n",
       "    'poverti': 0.75,\n",
       "    'vulner': 0.75},\n",
       "   2022: {'custom': 1.0,\n",
       "    'afford': 0.75,\n",
       "    'scheme': 0.75,\n",
       "    'support': 0.75,\n",
       "    'water': 0.75}}},\n",
       " 'SDG 2: Zero Hunger': {},\n",
       " 'SDG 3: Good Health and Well-being': {'Utilities': {2018: {'health': 1.0},\n",
       "   2019: {'employe': 1.0,\n",
       "    'health': 1.0,\n",
       "    'rate': 0.75,\n",
       "    'safeti': 0.75,\n",
       "    'improv': 0.75},\n",
       "   2020: {'health': 1.0,\n",
       "    'compani': 0.8333333333333334,\n",
       "    'support': 0.8333333333333334},\n",
       "   2021: {'safe': 1.0,\n",
       "    'employe': 0.8,\n",
       "    'health': 0.8,\n",
       "    'support': 0.8,\n",
       "    'work': 0.8},\n",
       "   2022: {'health': 1.0, 'safeti': 0.8333333333333334},\n",
       "   2023: {'health': 1.0, 'employe': 0.875, 'safeti': 0.875}},\n",
       "  'Energy': {2020: {'summari': 0.8333333333333334},\n",
       "   2021: {'summari': 0.875},\n",
       "   2022: {'summari': 0.8888888888888888},\n",
       "   2023: {'summari': 0.875}}},\n",
       " 'SDG 4: Quality Education': {'Utilities': {2018: {'educ': 0.75,\n",
       "    'initi': 0.75},\n",
       "   2021: {'program': 1.0},\n",
       "   2022: {'educ': 0.75},\n",
       "   2023: {'compani': 0.8, 'program': 0.8, 'educ': 0.8}},\n",
       "  'Energy': {2020: {'summari': 0.75},\n",
       "   2021: {'summari': 0.8571428571428571},\n",
       "   2022: {'summari': 0.8333333333333334},\n",
       "   2023: {'summari': 0.8333333333333334}}},\n",
       " 'SDG 5: Gender Equality': {'Utilities': {2017: {'gender': 1.0},\n",
       "   2018: {'gap': 1.0, 'gender': 1.0, 'pay': 1.0},\n",
       "   2019: {'equal': 1.0, 'gap': 1.0, 'gender': 1.0, 'pay': 1.0, 'women': 1.0},\n",
       "   2020: {'divers': 0.8, 'inclus': 0.8},\n",
       "   2021: {'equal': 1.0, 'gender': 1.0, 'women': 1.0},\n",
       "   2022: {'divers': 0.8},\n",
       "   2023: {'inclus': 0.8571428571428571}},\n",
       "  'Energy': {2020: {'summari': 0.8},\n",
       "   2021: {'summari': 0.8571428571428571},\n",
       "   2022: {'summari': 0.8571428571428571},\n",
       "   2023: {'summari': 0.8333333333333334}}},\n",
       " 'SDG 6: Clean Water and Sanitation': {'Energy': {2020: {'summari': 0.75},\n",
       "   2021: {'summari': 0.8333333333333334},\n",
       "   2022: {'summari': 0.8571428571428571},\n",
       "   2023: {'summari': 0.8571428571428571}},\n",
       "  'Utilities': {2020: {'water': 1.0},\n",
       "   2021: {'improv': 1.0,\n",
       "    'manag': 1.0,\n",
       "    'qualiti': 1.0,\n",
       "    'reduc': 1.0,\n",
       "    'treatment': 1.0,\n",
       "    'water': 1.0},\n",
       "   2022: {'enhanc': 1.0,\n",
       "    'ensur': 1.0,\n",
       "    'includ': 1.0,\n",
       "    'treatment': 1.0,\n",
       "    'water': 1.0},\n",
       "   2023: {'water': 1.0, 'includ': 0.8}}},\n",
       " 'SDG 7: Affordable and Clean Energy': {'Utilities': {2018: {'energi': 1.0,\n",
       "    'increas': 0.75,\n",
       "    'renew': 0.75,\n",
       "    'compani': 0.75},\n",
       "   2019: {'energi': 1.0},\n",
       "   2020: {'energi': 1.0, 'renew': 1.0},\n",
       "   2021: {'energi': 1.0, 'renew': 0.8333333333333334},\n",
       "   2022: {'energi': 1.0, 'renew': 0.8},\n",
       "   2023: {'energi': 1.0, 'renew': 1.0, 'compani': 0.75}},\n",
       "  'Energy': {2020: {'summari': 0.8333333333333334},\n",
       "   2021: {'summari': 0.875},\n",
       "   2022: {'summari': 0.8888888888888888},\n",
       "   2023: {'summari': 0.875}}},\n",
       " 'SDG 8: Decent Work and Economic Growth': {'Utilities': {2018: {'creat': 0.75,\n",
       "    'econom': 0.75,\n",
       "    'growth': 0.75,\n",
       "    'job': 0.75},\n",
       "   2019: {'creat': 0.75, 'focus': 0.75, 'support': 0.75, 'also': 0.75},\n",
       "   2023: {'fair': 0.8571428571428571}},\n",
       "  'Energy': {2020: {'summari': 0.8333333333333334},\n",
       "   2021: {'summari': 0.875},\n",
       "   2022: {'summari': 0.8888888888888888},\n",
       "   2023: {'summari': 0.875}}},\n",
       " 'SDG 9: Industry, Innovation, and Infrastructure': {'Utilities': {2017: {'infrastructur': 1.0,\n",
       "    'innov': 1.0,\n",
       "    'invest': 1.0},\n",
       "   2018: {'infrastructur': 1.0, 'support': 1.0},\n",
       "   2019: {'infrastructur': 1.0},\n",
       "   2020: {'invest': 1.0,\n",
       "    'develop': 0.8333333333333334,\n",
       "    'infrastructur': 0.8333333333333334,\n",
       "    'technolog': 0.8333333333333334},\n",
       "   2021: {'infrastructur': 0.8333333333333334},\n",
       "   2022: {'infrastructur': 1.0, 'invest': 1.0},\n",
       "   2023: {'infrastructur': 0.8571428571428571,\n",
       "    'technolog': 0.8571428571428571}},\n",
       "  'Energy': {2020: {'summari': 0.8333333333333334},\n",
       "   2021: {'summari': 0.875},\n",
       "   2022: {'summari': 0.8888888888888888},\n",
       "   2023: {'summari': 0.875}}},\n",
       " 'SDG 10: Reduced Inequality': {'Utilities': {2017: {'custom': 1.0,\n",
       "    'inequ': 1.0,\n",
       "    'support': 1.0,\n",
       "    'vulner': 1.0},\n",
       "   2018: {'support': 1.0,\n",
       "    'inequ': 0.75,\n",
       "    'custom': 0.75,\n",
       "    'initi': 0.75,\n",
       "    'vulner': 0.75},\n",
       "   2020: {'inclus': 1.0},\n",
       "   2022: {'compani': 0.75},\n",
       "   2023: {'inclus': 1.0,\n",
       "    'inequ': 1.0,\n",
       "    'compani': 0.8333333333333334,\n",
       "    'divers': 0.8333333333333334,\n",
       "    'support': 0.8333333333333334}},\n",
       "  'Energy': {2019: {'summari': 0.8},\n",
       "   2020: {'summari': 1.0},\n",
       "   2021: {'summari': 1.0},\n",
       "   2022: {'summari': 1.0},\n",
       "   2023: {'summari': 1.0}}},\n",
       " 'SDG 11: Sustainable Cities and Communities': {'Utilities': {2017: {'communiti': 1.0,\n",
       "    'support': 1.0},\n",
       "   2018: {'communiti': 1.0, 'develop': 1.0, 'support': 1.0},\n",
       "   2019: {'communiti': 1.0, 'initi': 1.0, 'sustain': 1.0},\n",
       "   2020: {'communiti': 0.8333333333333334,\n",
       "    'support': 0.8333333333333334,\n",
       "    'sustain': 0.8333333333333334},\n",
       "   2021: {'communiti': 0.8, 'sustain': 0.8, 'urban': 0.8},\n",
       "   2022: {'communiti': 1.0, 'support': 1.0},\n",
       "   2023: {'sustain': 0.8571428571428571}},\n",
       "  'Energy': {2020: {'summari': 0.75},\n",
       "   2021: {'summari': 0.8333333333333334},\n",
       "   2022: {'summari': 0.8333333333333334},\n",
       "   2023: {'summari': 0.8}}},\n",
       " 'SDG 12: Responsible Consumption and Production': {'Utilities': {2017: {'promot': 1.0},\n",
       "   2018: {'effici': 0.75,\n",
       "    'focus': 0.75,\n",
       "    'practic': 0.75,\n",
       "    'sustain': 0.75,\n",
       "    'product': 0.75,\n",
       "    'respons': 0.75},\n",
       "   2019: {'reduc': 0.75, 'sustain': 0.75},\n",
       "   2020: {'practic': 1.0, 'sustain': 0.8333333333333334},\n",
       "   2021: {'compani': 1.0,\n",
       "    'respons': 1.0,\n",
       "    'effici': 0.8,\n",
       "    'practic': 0.8,\n",
       "    'promot': 0.8},\n",
       "   2022: {'promot': 0.8333333333333334},\n",
       "   2023: {'wast': 0.875,\n",
       "    'effici': 0.75,\n",
       "    'practic': 0.75,\n",
       "    'respons': 0.75,\n",
       "    'sustain': 0.75}},\n",
       "  'Energy': {2020: {'summari': 0.8333333333333334},\n",
       "   2021: {'summari': 0.875},\n",
       "   2022: {'summari': 0.8888888888888888},\n",
       "   2023: {'summari': 0.875}}},\n",
       " 'SDG 13: Climate Action': {'Utilities': {2017: {'carbon': 1.0,\n",
       "    'emiss': 1.0,\n",
       "    'energi': 1.0,\n",
       "    'reduc': 1.0,\n",
       "    'renew': 1.0},\n",
       "   2018: {'carbon': 1.0, 'emiss': 1.0, 'reduc': 1.0, 'commit': 0.75},\n",
       "   2020: {'energi': 1.0,\n",
       "    'carbon': 0.8333333333333334,\n",
       "    'emiss': 0.8333333333333334,\n",
       "    'renew': 0.8333333333333334},\n",
       "   2021: {'reduc': 0.8333333333333334},\n",
       "   2022: {'emiss': 1.0,\n",
       "    'reduc': 1.0,\n",
       "    'net': 0.8333333333333334,\n",
       "    'zero': 0.8333333333333334},\n",
       "   2023: {'emiss': 0.875, 'reduc': 0.875, 'compani': 0.75, 'target': 0.75}},\n",
       "  'Energy': {2020: {'summari': 0.8333333333333334},\n",
       "   2021: {'summari': 0.875},\n",
       "   2022: {'summari': 0.8888888888888888},\n",
       "   2023: {'summari': 0.875}}},\n",
       " 'SDG 14: Life Below Water': {'Energy': {2019: {'summari': 0.75},\n",
       "   2020: {'summari': 1.0},\n",
       "   2021: {'summari': 1.0},\n",
       "   2022: {'summari': 1.0},\n",
       "   2023: {'summari': 1.0}}},\n",
       " 'SDG 15: Life on Land': {'Utilities': {2017: {'biodivers': 1.0,\n",
       "    'enhanc': 1.0,\n",
       "    'habitat': 1.0},\n",
       "   2018: {'biodivers': 1.0, 'enhanc': 1.0},\n",
       "   2020: {'biodivers': 0.8333333333333334},\n",
       "   2021: {'enhanc': 1.0,\n",
       "    'land': 1.0,\n",
       "    'biodivers': 0.75,\n",
       "    'improv': 0.75,\n",
       "    'project': 0.75},\n",
       "   2022: {'biodivers': 1.0, 'enhanc': 0.8, 'land': 0.8},\n",
       "   2023: {'biodivers': 0.75}},\n",
       "  'Energy': {2020: {'summari': 0.8333333333333334},\n",
       "   2021: {'summari': 0.8571428571428571},\n",
       "   2022: {'summari': 0.875},\n",
       "   2023: {'summari': 0.8333333333333334}}},\n",
       " 'SDG 16: Peace, Justice, and Strong Institutions': {'Energy': {2020: {'summari': 0.8333333333333334},\n",
       "   2021: {'summari': 0.875},\n",
       "   2022: {'summari': 0.8888888888888888},\n",
       "   2023: {'summari': 0.875}},\n",
       "  'Utilities': {2020: {'conduct': 1.0,\n",
       "    'ethic': 1.0,\n",
       "    'maintain': 1.0,\n",
       "    'standard': 1.0},\n",
       "   2021: {'compani': 1.0,\n",
       "    'complianc': 1.0,\n",
       "    'ensur': 0.75,\n",
       "    'ethic': 0.75,\n",
       "    'high': 0.75,\n",
       "    'maintain': 0.75,\n",
       "    'standard': 0.75,\n",
       "    'transpar': 0.75},\n",
       "   2022: {'ethic': 1.0,\n",
       "    'ensur': 0.75,\n",
       "    'transpar': 0.75,\n",
       "    'busi': 0.75,\n",
       "    'practic': 0.75},\n",
       "   2023: {'ethic': 0.8571428571428571, 'transpar': 0.8571428571428571}}},\n",
       " 'SDG 17: Partnerships for the Goals': {'Utilities': {2017: {'collabor': 1.0,\n",
       "    'communiti': 1.0,\n",
       "    'partnership': 1.0,\n",
       "    'support': 1.0,\n",
       "    'sustain': 1.0,\n",
       "    'various': 1.0},\n",
       "   2018: {'collabor': 0.75,\n",
       "    'communiti': 0.75,\n",
       "    'includ': 0.75,\n",
       "    'sustain': 0.75,\n",
       "    'partnership': 0.75},\n",
       "   2019: {'collabor': 0.75,\n",
       "    'includ': 0.75,\n",
       "    'stakehold': 0.75,\n",
       "    'various': 0.75},\n",
       "   2020: {'collabor': 1.0,\n",
       "    'stakehold': 0.8333333333333334,\n",
       "    'sustain': 0.8333333333333334,\n",
       "    'includ': 0.8333333333333334,\n",
       "    'various': 0.8333333333333334},\n",
       "   2021: {'collabor': 1.0,\n",
       "    'stakehold': 1.0,\n",
       "    'sustain': 1.0,\n",
       "    'various': 1.0,\n",
       "    'achiev': 0.8,\n",
       "    'goal': 0.8,\n",
       "    'includ': 0.8},\n",
       "   2022: {'collabor': 1.0,\n",
       "    'stakehold': 1.0,\n",
       "    'includ': 0.8333333333333334,\n",
       "    'sustain': 0.8333333333333334},\n",
       "   2023: {'collabor': 1.0,\n",
       "    'sustain': 1.0,\n",
       "    'includ': 0.8571428571428571,\n",
       "    'stakehold': 0.8571428571428571}},\n",
       "  'Energy': {2020: {'summari': 0.8333333333333334},\n",
       "   2021: {'summari': 0.875},\n",
       "   2022: {'summari': 0.8888888888888888},\n",
       "   2023: {'summari': 0.875}}}}"
      ]
     },
     "execution_count": 132,
     "metadata": {},
     "output_type": "execute_result"
    }
   ],
   "source": [
    "{sdg: token_dict[sdg] for sdg in sdgs}"
   ]
  },
  {
   "cell_type": "code",
   "execution_count": 135,
   "id": "123b641a",
   "metadata": {
    "ExecuteTime": {
     "end_time": "2024-06-25T14:49:49.219510Z",
     "start_time": "2024-06-25T14:49:49.212082Z"
    }
   },
   "outputs": [
    {
     "data": {
      "text/plain": [
       "{'01_shell': 'Shell supports sustainable urban development by investing in cleaner energy solutions and infrastructure projects that enhance urban quality of life. The report highlights initiatives that improve energy efficiency and reduce the environmental impact of cities.',\n",
       " '02_BP': 'Summary:',\n",
       " '04_energeans': 'Summary:',\n",
       " '10_DIVERSIFIED_ENERGY_COMPANY_PLC': 'Summary:'}"
      ]
     },
     "execution_count": 135,
     "metadata": {},
     "output_type": "execute_result"
    }
   ],
   "source": [
    "sdg_melt_dict[2020]['Energy']['SDG 11: Sustainable Cities and Communities']"
   ]
  },
  {
   "cell_type": "code",
   "execution_count": 189,
   "id": "83d33d3b",
   "metadata": {
    "ExecuteTime": {
     "end_time": "2024-06-25T15:11:30.476331Z",
     "start_time": "2024-06-25T15:11:30.469402Z"
    }
   },
   "outputs": [],
   "source": [
    "with open ('./data/energy_utilities_texts.pickle', 'rb') as f:\n",
    "    text_dict=pickle.load(f)"
   ]
  },
  {
   "cell_type": "code",
   "execution_count": 202,
   "id": "3f3bccd7",
   "metadata": {
    "ExecuteTime": {
     "end_time": "2024-06-25T15:16:37.230538Z",
     "start_time": "2024-06-25T15:16:37.224855Z"
    }
   },
   "outputs": [],
   "source": [
    "text_test=text_dict['Energy']['2018']['04_energeans'].split('\\n')"
   ]
  },
  {
   "cell_type": "code",
   "execution_count": 203,
   "id": "76f62e94",
   "metadata": {
    "ExecuteTime": {
     "end_time": "2024-06-25T15:16:37.769303Z",
     "start_time": "2024-06-25T15:16:37.758535Z"
    }
   },
   "outputs": [
    {
     "data": {
      "text/plain": [
       "['',\n",
       " 'Here is a summary of the Energean Sustainability Report 2018 focusing on each of the United Nations’ Sustainable Development Goals (SDGs):',\n",
       " 'SDG 1: No Poverty',\n",
       " 'Not explicitly mentioned. The report does not provide direct references to poverty alleviation programs or initiatives specific to eradicating poverty.',\n",
       " 'SDG 2: Zero Hunger',\n",
       " 'Not explicitly mentioned. There are no specific mentions of initiatives aimed directly at achieving zero hunger.',\n",
       " 'SDG 3: Good Health and Well-being',\n",
       " 'Summary:',\n",
       " 'Health, Safety, and Environment (HSE): Energean is committed to the highest standards of HSE regarding its employees, contractors, partners, and the general public. The company emphasizes health and safety management systems, personal protective equipment, and regular health and safety training.',\n",
       " 'Employee Well-being: Focus on the health and safety of employees with initiatives such as an annual health program that includes physical examinations and screenings, as well as private health insurance for employees.',\n",
       " 'SDG 4: Quality Education',\n",
       " 'Not explicitly mentioned. The report does not detail specific programs or initiatives focused on enhancing quality education.',\n",
       " 'SDG 5: Gender Equality',\n",
       " 'Summary:',\n",
       " \"Diversity and Inclusion: Energean emphasizes equal opportunity in employment and creating an inclusive work environment. The company's workforce includes diverse employees from 28 different countries, and it is committed to protecting human and labor rights, promoting fairness, and offering inclusive and equal opportunities.\",\n",
       " 'SDG 6: Clean Water and Sanitation',\n",
       " 'Summary:',\n",
       " 'Water Management: Energean adopts responsible practices for water management, ensuring compliance with water-related regulations. The company recycles and reuses water, treats produced water, and monitors discharges to protect water resources.',\n",
       " 'SDG 7: Affordable and Clean Energy',\n",
       " 'Summary:',\n",
       " \"Energy Transition: Energean focuses on gas as a cleaner energy source and is committed to energy transition. By 2021, production from the company's portfolio was projected to be more than 80% gas, contributing to cleaner energy solutions.\",\n",
       " 'SDG 8: Decent Work and Economic Growth',\n",
       " 'Summary:',\n",
       " 'Economic Contributions: Energean highlights its role in providing jobs, paying taxes, and investing in local communities. The company increased production by 45% and decreased production costs by 29% in 2018, while maintaining a focus on safety, ethics, and compliance.',\n",
       " 'Workforce Diversity: The company employs a diverse workforce and promotes inclusive employment practices.',\n",
       " 'SDG 9: Industry, Innovation, and Infrastructure',\n",
       " 'Summary:',\n",
       " 'Innovation in Energy: Energean invests in technological advancements and operational efficiencies. The company is committed to developing reserves and adding more hydrocarbons through exploration and acquisitions, with a focus on sustainable practices.',\n",
       " 'SDG 10: Reduced Inequality',\n",
       " 'Summary:',\n",
       " 'Diversity and Inclusion: Energean promotes diversity and inclusion within its workforce, ensuring equal opportunities and protecting human rights. The company emphasizes transparency, accountability, and increasing minority representation.',\n",
       " 'SDG 11: Sustainable Cities and Communities',\n",
       " 'Summary:',\n",
       " 'Community Engagement: Energean engages with local communities to ensure mutual value and sustainable benefits. The company supports local employment, invests in community initiatives, and promotes the sustainable development of surrounding societies.',\n",
       " 'SDG 12: Responsible Consumption and Production',\n",
       " 'Summary:',\n",
       " 'Responsible Waste Management: Energean adopts responsible waste management practices, including reducing, recycling, and reusing waste. The company is committed to minimizing its environmental impact and promoting sustainable production methods.',\n",
       " 'Circular Economy: The company emphasizes the importance of efficient resource use and waste management, integrating sustainability into its operations.',\n",
       " 'SDG 13: Climate Action',\n",
       " 'Summary:',\n",
       " 'Emissions Reduction: Energean achieved significant reductions in direct and indirect emissions per product tonne in 2018. The company is committed to reducing its greenhouse gas emissions and enhancing its climate resilience through various initiatives.',\n",
       " 'SDG 14: Life Below Water',\n",
       " 'Summary:',\n",
       " 'Marine Environmental Protection: Energean highlights its commitment to protecting marine ecosystems. The company conducts thorough environmental impact assessments and implements measures to prevent and respond to oil spills and other marine pollution.',\n",
       " 'SDG 15: Life on Land',\n",
       " 'Summary:',\n",
       " 'Biodiversity Protection: Energean is dedicated to protecting biodiversity and preserving ecosystems. The company conducts ecological surveys, implements wildlife management plans, and engages with stakeholders to ensure responsible environmental practices.',\n",
       " 'SDG 16: Peace, Justice, and Strong Institutions',\n",
       " 'Summary:',\n",
       " 'Ethics and Transparency: Energean emphasizes ethical business practices, transparency, and compliance with regulations. The company supports anti-corruption efforts and has established a strong governance framework.',\n",
       " 'Governance: The Board of Directors oversees health, safety, and ESG matters, ensuring strong corporate governance and accountability.',\n",
       " 'SDG 17: Partnerships for the Goals',\n",
       " 'Summary:',\n",
       " 'Collaborations and Partnerships: Energean engages in partnerships with various stakeholders, including local communities, governments, and industry associations, to achieve sustainability goals. These collaborations focus on promoting sustainable practices and addressing key industry challenges.',\n",
       " '']"
      ]
     },
     "execution_count": 203,
     "metadata": {},
     "output_type": "execute_result"
    }
   ],
   "source": [
    "text_test"
   ]
  },
  {
   "cell_type": "code",
   "execution_count": 204,
   "id": "8db97a5f",
   "metadata": {
    "ExecuteTime": {
     "end_time": "2024-06-25T15:16:43.845187Z",
     "start_time": "2024-06-25T15:16:43.838592Z"
    }
   },
   "outputs": [],
   "source": [
    "w_sdgs=[np.where(np.array(text_test)==sdg)[0][0] for sdg in sdgs]"
   ]
  },
  {
   "cell_type": "code",
   "execution_count": 208,
   "id": "89cc7ec6",
   "metadata": {
    "ExecuteTime": {
     "end_time": "2024-06-25T15:17:08.311959Z",
     "start_time": "2024-06-25T15:17:08.303505Z"
    }
   },
   "outputs": [],
   "source": [
    "new_dict={}\n",
    "for i_sdg, sdg in enumerate(sdgs):\n",
    "    if i_sdg<len(sdgs)-1:\n",
    "        my_text=text_test[w_sdgs[i_sdg]+1:w_sdgs[i_sdg+1]]\n",
    "    else:\n",
    "        my_text=text_test[w_sdgs[i_sdg]+1:]\n",
    "    if type(my_text)==list:\n",
    "        my_text=' '.join(my_text)\n",
    "    new_dict[sdg]=my_text.strip()"
   ]
  },
  {
   "cell_type": "code",
   "execution_count": 209,
   "id": "80d6c3a8",
   "metadata": {
    "ExecuteTime": {
     "end_time": "2024-06-25T15:17:08.800911Z",
     "start_time": "2024-06-25T15:17:08.792323Z"
    }
   },
   "outputs": [
    {
     "data": {
      "text/plain": [
       "'Summary: Collaborations and Partnerships: Energean engages in partnerships with various stakeholders, including local communities, governments, and industry associations, to achieve sustainability goals. These collaborations focus on promoting sustainable practices and addressing key industry challenges.'"
      ]
     },
     "execution_count": 209,
     "metadata": {},
     "output_type": "execute_result"
    }
   ],
   "source": [
    "new_dict[sdgs[-1]]"
   ]
  },
  {
   "cell_type": "code",
   "execution_count": 201,
   "id": "9808c640",
   "metadata": {
    "ExecuteTime": {
     "end_time": "2024-06-25T15:13:34.337475Z",
     "start_time": "2024-06-25T15:13:34.326256Z"
    }
   },
   "outputs": [
    {
     "data": {
      "text/plain": [
       "[True, True, True, True, True, True, True, True, True, True, True, True, True]"
      ]
     },
     "execution_count": 201,
     "metadata": {},
     "output_type": "execute_result"
    }
   ],
   "source": [
    "[new_dict[sdg]==sdgs_dict[2016]['Energy']['01_shell'][sdg] for sdg in sdgs if sdg in sdgs_dict[2016]['Energy']['01_shell'].keys()]"
   ]
  },
  {
   "cell_type": "code",
   "execution_count": 184,
   "id": "bfe1761b",
   "metadata": {
    "ExecuteTime": {
     "end_time": "2024-06-25T15:10:15.227197Z",
     "start_time": "2024-06-25T15:10:15.216500Z"
    }
   },
   "outputs": [
    {
     "data": {
      "text/plain": [
       "['',\n",
       " 'Here is a summary of the Energean Sustainability Report 2019 focusing on each of the United Nations’ Sustainable Development Goals (SDGs):',\n",
       " 'SDG 1: No Poverty',\n",
       " 'Not explicitly mentioned. The report does not provide direct references to poverty alleviation programs or initiatives specific to eradicating poverty.',\n",
       " 'SDG 2: Zero Hunger',\n",
       " 'Not explicitly mentioned. There are no specific mentions of initiatives aimed directly at achieving zero hunger.',\n",
       " 'SDG 3: Good Health and Well-being',\n",
       " 'Summary:',\n",
       " 'Health, Safety, and Environment (HSE): Energean maintained an exemplary HSE record in 2019, with one million hours free of Lost Time Incidents at Energean sites and four million man-hours at the FPSO construction yard in China. The company emphasizes a comprehensive and integrated Health and Safety Management System aligned with international standards and European safety directives.',\n",
       " 'Employee Well-being: Energean provides an annual health program, medical fitness certificates, and personal protective equipment to ensure the well-being of its employees and contractors.',\n",
       " 'SDG 4: Quality Education',\n",
       " 'Summary:',\n",
       " 'Community Education Initiatives: Energean offers internships to college students and has provided six scholarships for foreign universities in collaboration with the Bodossaki Foundation. These initiatives demonstrate a commitment to enhancing educational opportunities within local communities.',\n",
       " 'SDG 5: Gender Equality',\n",
       " 'Summary:',\n",
       " 'Diversity and Inclusion: Energean promotes gender equality through increased female participation in the Board of Directors (22%) and Senior Management (42%). The company appointed its first female Chair in 2019, showcasing its commitment to gender diversity and inclusion.',\n",
       " 'SDG 6: Clean Water and Sanitation',\n",
       " 'Summary:',\n",
       " 'Water Management: Energean reported that 89% of water withdrawn in production sites was recycled. The company is committed to water efficiency innovations, including reuse, recycling, and treating discharged wastewater to protect water resources.',\n",
       " 'SDG 7: Affordable and Clean Energy',\n",
       " 'Summary:',\n",
       " 'Energy Transition: Energean focuses on natural gas as a transition fuel, with 80% of its product portfolio being gas. The company aims to support the global fuel transition away from coal and oil, contributing to cleaner energy solutions.',\n",
       " 'SDG 8: Decent Work and Economic Growth',\n",
       " 'Summary:',\n",
       " \"Economic Contributions: Energean's operations provide significant economic value, including job creation, direct and indirect tax payments, and local social investments. The company highlights the importance of safe working conditions and offers regular training to its employees and contractors.\",\n",
       " 'SDG 9: Industry, Innovation, and Infrastructure',\n",
       " 'Summary:',\n",
       " \"Technological Advancements: Energean invests in innovative technologies and operational efficiencies. The company's flagship Karish development project in Israel progressed well, with physical completion at 72% by year-end 2019, demonstrating its commitment to infrastructure development.\",\n",
       " 'SDG 10: Reduced Inequality',\n",
       " 'Summary:',\n",
       " \"Diversity and Inclusion: Energean promotes equal opportunities, protects human rights, and emphasizes inclusive employment practices. The company's diverse workforce includes employees from 17 different countries.\",\n",
       " 'SDG 11: Sustainable Cities and Communities',\n",
       " 'Summary:',\n",
       " 'Community Engagement: Energean supports local communities through various initiatives, including providing 6,377 portions of surplus food as donations and organizing beach clean-ups. The company also engages in partnerships with local organizations to enhance community relations.',\n",
       " 'SDG 12: Responsible Consumption and Production',\n",
       " 'Summary:',\n",
       " 'Waste Management: Energean adopts responsible waste management practices, focusing on reducing, recycling, and reusing waste. The company emphasizes efficient resource use and sustainable production methods.',\n",
       " 'SDG 13: Climate Action',\n",
       " 'Summary:',\n",
       " 'Emissions Reduction: Energean set science-based carbon intensity reduction targets, aiming for a 70% reduction over 2019-2022. The company committed to net-zero greenhouse gas emissions by 2050 and is actively participating in the Carbon Disclosure Project (CDP).',\n",
       " 'SDG 14: Life Below Water',\n",
       " 'Summary:',\n",
       " \"Marine Environmental Protection: Energean collaborates with environmental bodies such as Israel's Nature and Parks Authority and Management Body of the Nestos River to protect marine ecosystems. The company implements measures to prevent marine pollution and conducts environmental impact assessments.\",\n",
       " 'SDG 15: Life on Land',\n",
       " 'Summary:',\n",
       " 'Biodiversity Protection: Energean is committed to protecting biodiversity and preserving ecosystems. The company collaborates with organizations like the Israeli Paralympic Committee and the Management Body of the Nestos River to support environmental and biodiversity conservation efforts.',\n",
       " 'SDG 16: Peace, Justice, and Strong Institutions',\n",
       " 'Summary:',\n",
       " 'Ethics and Governance: Energean emphasizes ethical business practices, transparency, and compliance with regulations. The company established a strong governance framework and linked executive pay to ESG goals to ensure accountability and integrity.',\n",
       " 'SDG 17: Partnerships for the Goals',\n",
       " 'Summary:',\n",
       " 'Collaborations and Partnerships: Energean engages in partnerships with various stakeholders, including local communities, governments, and industry associations, to achieve sustainability goals. These collaborations focus on promoting sustainable practices and addressing key industry challenges.',\n",
       " '']"
      ]
     },
     "execution_count": 184,
     "metadata": {},
     "output_type": "execute_result"
    }
   ],
   "source": [
    "text_test"
   ]
  },
  {
   "cell_type": "code",
   "execution_count": null,
   "id": "dc0618bb",
   "metadata": {},
   "outputs": [],
   "source": []
  }
 ],
 "metadata": {
  "kernelspec": {
   "display_name": "Python 3 (ipykernel)",
   "language": "python",
   "name": "python3"
  },
  "language_info": {
   "codemirror_mode": {
    "name": "ipython",
    "version": 3
   },
   "file_extension": ".py",
   "mimetype": "text/x-python",
   "name": "python",
   "nbconvert_exporter": "python",
   "pygments_lexer": "ipython3",
   "version": "3.8.10"
  },
  "notify_time": "5",
  "toc": {
   "base_numbering": 1,
   "nav_menu": {},
   "number_sections": true,
   "sideBar": true,
   "skip_h1_title": false,
   "title_cell": "Table of Contents",
   "title_sidebar": "Contents",
   "toc_cell": false,
   "toc_position": {
    "height": "calc(100% - 180px)",
    "left": "10px",
    "top": "150px",
    "width": "288px"
   },
   "toc_section_display": true,
   "toc_window_display": true
  }
 },
 "nbformat": 4,
 "nbformat_minor": 5
}
