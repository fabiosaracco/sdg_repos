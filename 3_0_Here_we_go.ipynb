{
 "cells": [
  {
   "cell_type": "markdown",
   "id": "bbde3df0",
   "metadata": {},
   "source": [
    "# Intro"
   ]
  },
  {
   "cell_type": "markdown",
   "id": "96967b9e",
   "metadata": {},
   "source": [
    "## Load"
   ]
  },
  {
   "cell_type": "markdown",
   "id": "e38afa33",
   "metadata": {},
   "source": [
    "### Standards"
   ]
  },
  {
   "cell_type": "code",
   "execution_count": 1,
   "id": "998b926f",
   "metadata": {
    "ExecuteTime": {
     "end_time": "2024-06-19T11:03:52.378997Z",
     "start_time": "2024-06-19T11:03:52.122550Z"
    }
   },
   "outputs": [],
   "source": [
    "import os, sys, pickle\n",
    "import numpy as np\n",
    "from tqdm.notebook import trange, tqdm"
   ]
  },
  {
   "cell_type": "code",
   "execution_count": 2,
   "id": "8e62a871",
   "metadata": {
    "ExecuteTime": {
     "end_time": "2024-06-19T11:03:54.941646Z",
     "start_time": "2024-06-19T11:03:54.256265Z"
    }
   },
   "outputs": [],
   "source": [
    "import matplotlib.pyplot as plt\n",
    "plt.rcParams['axes.linewidth'] = 2\n",
    "plt.rcParams['xtick.major.size'] = 10\n",
    "plt.rcParams['xtick.major.width'] = 2\n",
    "plt.rcParams['ytick.major.size'] = 10\n",
    "plt.rcParams['ytick.major.width'] = 2\n",
    "\n",
    "plt.rcParams['xtick.labelsize'] = 14\n",
    "plt.rcParams['ytick.labelsize'] = 14\n",
    "\n",
    "plt.rcParams['xtick.minor.size'] = 5\n",
    "plt.rcParams['xtick.minor.width'] = 1\n",
    "plt.rcParams['ytick.minor.size'] = 5\n",
    "plt.rcParams['ytick.minor.width'] = 1\n"
   ]
  },
  {
   "cell_type": "markdown",
   "id": "5b638d26",
   "metadata": {},
   "source": [
    "### Homemade modules"
   ]
  },
  {
   "cell_type": "code",
   "execution_count": 3,
   "id": "30942327",
   "metadata": {
    "ExecuteTime": {
     "end_time": "2024-06-19T11:04:42.837909Z",
     "start_time": "2024-06-19T11:04:39.144234Z"
    }
   },
   "outputs": [],
   "source": [
    "from tesste import tesste\n",
    "from ppp import ppp\n",
    "from readers_and_converters import file2text, text2dict, text2vec"
   ]
  },
  {
   "cell_type": "markdown",
   "id": "797da91c",
   "metadata": {},
   "source": [
    "# Starting"
   ]
  },
  {
   "cell_type": "code",
   "execution_count": 9,
   "id": "2462512b",
   "metadata": {
    "ExecuteTime": {
     "end_time": "2024-06-19T12:35:14.834963Z",
     "start_time": "2024-06-19T12:35:14.828255Z"
    }
   },
   "outputs": [],
   "source": [
    "files=[file for file in os.listdir('chatgpt_summaries/Energy/') if file.endswith('.zip')]"
   ]
  },
  {
   "cell_type": "code",
   "execution_count": 10,
   "id": "8dbc021f",
   "metadata": {
    "ExecuteTime": {
     "end_time": "2024-06-19T12:35:15.372102Z",
     "start_time": "2024-06-19T12:35:15.366985Z"
    }
   },
   "outputs": [],
   "source": [
    "files.sort()"
   ]
  },
  {
   "cell_type": "code",
   "execution_count": 20,
   "id": "ab727f53",
   "metadata": {
    "ExecuteTime": {
     "end_time": "2024-06-19T12:36:55.169496Z",
     "start_time": "2024-06-19T12:36:55.164039Z"
    }
   },
   "outputs": [],
   "source": [
    "file_to_unzip=files[-1]"
   ]
  },
  {
   "cell_type": "code",
   "execution_count": 21,
   "id": "f744cf91",
   "metadata": {
    "ExecuteTime": {
     "end_time": "2024-06-19T12:36:55.528581Z",
     "start_time": "2024-06-19T12:36:55.519603Z"
    }
   },
   "outputs": [],
   "source": [
    "    out_folder_file=file_to_unzip.split('.')[0]\n",
    "    # take the 'summaries' text out\n",
    "    out_folder_file=out_folder_file.split('_')[:-1]\n",
    "    # get two indices for the number at the beginning of the string\n",
    "    ordering=str(int(out_folder_file[0])).zfill(2)\n",
    "    # rebuilt the string without the first number\n",
    "    out_folder_file='_'.join(out_folder_file[1:])\n",
    "    # replace blanks with underscores\n",
    "    out_folder_file=out_folder_file.replace(' ', '_')\n",
    "    # add the number\n",
    "    out_folder_file=ordering+'_'+out_folder_file"
   ]
  },
  {
   "cell_type": "code",
   "execution_count": 22,
   "id": "ccd039fb",
   "metadata": {
    "ExecuteTime": {
     "end_time": "2024-06-19T12:36:55.989361Z",
     "start_time": "2024-06-19T12:36:55.982075Z"
    }
   },
   "outputs": [
    {
     "data": {
      "text/plain": [
       "'08_ASHTEAD_TECHNOLOGY_HOLDINGS_PLC'"
      ]
     },
     "execution_count": 22,
     "metadata": {},
     "output_type": "execute_result"
    }
   ],
   "source": [
    "out_folder_file"
   ]
  },
  {
   "cell_type": "code",
   "execution_count": null,
   "id": "72ff39a3",
   "metadata": {},
   "outputs": [],
   "source": []
  }
 ],
 "metadata": {
  "kernelspec": {
   "display_name": "Python 3 (ipykernel)",
   "language": "python",
   "name": "python3"
  },
  "language_info": {
   "codemirror_mode": {
    "name": "ipython",
    "version": 3
   },
   "file_extension": ".py",
   "mimetype": "text/x-python",
   "name": "python",
   "nbconvert_exporter": "python",
   "pygments_lexer": "ipython3",
   "version": "3.8.10"
  },
  "toc": {
   "base_numbering": 1,
   "nav_menu": {},
   "number_sections": true,
   "sideBar": true,
   "skip_h1_title": false,
   "title_cell": "Table of Contents",
   "title_sidebar": "Contents",
   "toc_cell": false,
   "toc_position": {
    "height": "calc(100% - 180px)",
    "left": "10px",
    "top": "150px",
    "width": "288px"
   },
   "toc_section_display": true,
   "toc_window_display": true
  }
 },
 "nbformat": 4,
 "nbformat_minor": 5
}
