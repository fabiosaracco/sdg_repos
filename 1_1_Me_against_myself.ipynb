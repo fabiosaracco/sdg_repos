{
 "cells": [
  {
   "cell_type": "markdown",
   "id": "62c709ea",
   "metadata": {},
   "source": [
    "# Intro"
   ]
  },
  {
   "cell_type": "markdown",
   "id": "23676623",
   "metadata": {},
   "source": [
    "## Load"
   ]
  },
  {
   "cell_type": "code",
   "execution_count": 1,
   "id": "16f2b7ae",
   "metadata": {
    "ExecuteTime": {
     "end_time": "2024-05-15T15:35:36.070525Z",
     "start_time": "2024-05-15T15:35:35.924937Z"
    }
   },
   "outputs": [],
   "source": [
    "import os, sys, pickle\n",
    "import numpy as np\n",
    "from tqdm.notebook import trange, tqdm"
   ]
  },
  {
   "cell_type": "code",
   "execution_count": 2,
   "id": "2ea5c45b",
   "metadata": {
    "ExecuteTime": {
     "end_time": "2024-05-15T15:35:37.669573Z",
     "start_time": "2024-05-15T15:35:36.072435Z"
    }
   },
   "outputs": [],
   "source": [
    "from tesste import tesste\n",
    "from ppp import ppp"
   ]
  },
  {
   "cell_type": "markdown",
   "id": "ae6336ea",
   "metadata": {},
   "source": [
    "## Data"
   ]
  },
  {
   "cell_type": "code",
   "execution_count": 3,
   "id": "0e40d973",
   "metadata": {
    "ExecuteTime": {
     "end_time": "2024-05-15T15:35:39.857632Z",
     "start_time": "2024-05-15T15:35:39.853599Z"
    }
   },
   "outputs": [],
   "source": [
    "reports_folder='./reports/'"
   ]
  },
  {
   "cell_type": "code",
   "execution_count": 4,
   "id": "7eae6679",
   "metadata": {
    "ExecuteTime": {
     "end_time": "2024-05-15T15:35:40.152562Z",
     "start_time": "2024-05-15T15:35:40.145474Z"
    }
   },
   "outputs": [],
   "source": [
    "bp='5_BP_PLC/'\n",
    "bp_files=os.listdir(reports_folder+bp)\n",
    "bp_files.sort()"
   ]
  },
  {
   "cell_type": "code",
   "execution_count": 5,
   "id": "7b6323fa",
   "metadata": {
    "ExecuteTime": {
     "end_time": "2024-05-15T15:35:40.400149Z",
     "start_time": "2024-05-15T15:35:40.393531Z"
    }
   },
   "outputs": [],
   "source": [
    "shell='1_Shell/'\n",
    "shell_files=os.listdir(reports_folder+shell)\n",
    "shell_files.sort()"
   ]
  },
  {
   "cell_type": "code",
   "execution_count": 6,
   "id": "d6f2a1c5",
   "metadata": {
    "ExecuteTime": {
     "end_time": "2024-05-15T15:35:40.645751Z",
     "start_time": "2024-05-15T15:35:40.641207Z"
    }
   },
   "outputs": [],
   "source": [
    "bp_files=[sh for sh in bp_files if sh.endswith('.pdf')]"
   ]
  },
  {
   "cell_type": "code",
   "execution_count": 7,
   "id": "ec84e046",
   "metadata": {
    "ExecuteTime": {
     "end_time": "2024-05-15T15:35:41.017448Z",
     "start_time": "2024-05-15T15:35:41.013565Z"
    }
   },
   "outputs": [],
   "source": [
    "shell_files=[sh for sh in shell_files if sh.endswith('.pdf')]"
   ]
  },
  {
   "cell_type": "code",
   "execution_count": 8,
   "id": "0cc74fca",
   "metadata": {
    "ExecuteTime": {
     "end_time": "2024-05-15T15:35:41.387842Z",
     "start_time": "2024-05-15T15:35:41.377241Z"
    }
   },
   "outputs": [
    {
     "data": {
      "text/plain": [
       "9"
      ]
     },
     "execution_count": 8,
     "metadata": {},
     "output_type": "execute_result"
    }
   ],
   "source": [
    "len(shell_files)"
   ]
  },
  {
   "cell_type": "markdown",
   "id": "09cae869",
   "metadata": {},
   "source": [
    "# Comparing reports from the same company for different years"
   ]
  },
  {
   "cell_type": "markdown",
   "id": "388f9e32",
   "metadata": {},
   "source": [
    "## BP"
   ]
  },
  {
   "cell_type": "markdown",
   "id": "11ee2178",
   "metadata": {},
   "source": [
    "### Load data"
   ]
  },
  {
   "cell_type": "code",
   "execution_count": 9,
   "id": "4515772a",
   "metadata": {
    "ExecuteTime": {
     "end_time": "2024-05-15T15:37:13.048626Z",
     "start_time": "2024-05-15T15:35:43.794163Z"
    }
   },
   "outputs": [
    {
     "data": {
      "application/vnd.jupyter.widget-view+json": {
       "model_id": "1b5df5f5f52c4289b24500811ac2b8e1",
       "version_major": 2,
       "version_minor": 0
      },
      "text/plain": [
       "  0%|          | 0/9 [00:00<?, ?it/s]"
      ]
     },
     "metadata": {},
     "output_type": "display_data"
    }
   ],
   "source": [
    "bp_texts=[]\n",
    "for bp_file in tqdm(bp_files):\n",
    "    bp_texts.append(ppp(reports_folder+bp+bp_file))"
   ]
  },
  {
   "cell_type": "code",
   "execution_count": 11,
   "id": "76fb473d",
   "metadata": {
    "ExecuteTime": {
     "end_time": "2024-05-15T15:37:42.400166Z",
     "start_time": "2024-05-15T15:37:42.384972Z"
    }
   },
   "outputs": [],
   "source": [
    "with open('./texts/bp.pickle','wb') as f:\n",
    "    pickle.dump(bp_texts, f)"
   ]
  },
  {
   "cell_type": "markdown",
   "id": "cf256fa7",
   "metadata": {},
   "source": [
    "### Compare embeddings"
   ]
  },
  {
   "cell_type": "code",
   "execution_count": 13,
   "id": "12c1ced4",
   "metadata": {
    "ExecuteTime": {
     "end_time": "2024-05-15T15:37:52.543033Z",
     "start_time": "2024-05-15T15:37:52.528333Z"
    }
   },
   "outputs": [],
   "source": [
    "with open('./texts/bp.pickle','rb') as f:\n",
    "    bp_texts=pickle.load(f)"
   ]
  },
  {
   "cell_type": "code",
   "execution_count": null,
   "id": "6fdf0c29",
   "metadata": {
    "ExecuteTime": {
     "start_time": "2024-05-15T15:38:14.570Z"
    }
   },
   "outputs": [
    {
     "data": {
      "application/vnd.jupyter.widget-view+json": {
       "model_id": "529c9e80ba314de0bbcb9718dc71a4b4",
       "version_major": 2,
       "version_minor": 0
      },
      "text/plain": [
       "  0%|          | 0/9 [00:00<?, ?it/s]"
      ]
     },
     "metadata": {},
     "output_type": "display_data"
    },
    {
     "data": {
      "application/vnd.jupyter.widget-view+json": {
       "model_id": "",
       "version_major": 2,
       "version_minor": 0
      },
      "text/plain": [
       "  0%|          | 0/1000 [00:00<?, ?it/s]"
      ]
     },
     "metadata": {},
     "output_type": "display_data"
    },
    {
     "name": "stderr",
     "output_type": "stream",
     "text": [
      "/Users/fabio/Documents/Lavoro/PythonFiles/sdgs_py38/lib/python3.8/site-packages/scipy/stats/_distn_infrastructure.py:2789: RuntimeWarning: invalid value encountered in scalar multiply\n",
      "  Lhat = muhat - Shat*mu\n"
     ]
    },
    {
     "data": {
      "application/vnd.jupyter.widget-view+json": {
       "model_id": "",
       "version_major": 2,
       "version_minor": 0
      },
      "text/plain": [
       "  0%|          | 0/1000 [00:00<?, ?it/s]"
      ]
     },
     "metadata": {},
     "output_type": "display_data"
    },
    {
     "data": {
      "application/vnd.jupyter.widget-view+json": {
       "model_id": "",
       "version_major": 2,
       "version_minor": 0
      },
      "text/plain": [
       "  0%|          | 0/1000 [00:00<?, ?it/s]"
      ]
     },
     "metadata": {},
     "output_type": "display_data"
    },
    {
     "data": {
      "application/vnd.jupyter.widget-view+json": {
       "model_id": "",
       "version_major": 2,
       "version_minor": 0
      },
      "text/plain": [
       "  0%|          | 0/1000 [00:00<?, ?it/s]"
      ]
     },
     "metadata": {},
     "output_type": "display_data"
    },
    {
     "data": {
      "application/vnd.jupyter.widget-view+json": {
       "model_id": "",
       "version_major": 2,
       "version_minor": 0
      },
      "text/plain": [
       "  0%|          | 0/1000 [00:00<?, ?it/s]"
      ]
     },
     "metadata": {},
     "output_type": "display_data"
    },
    {
     "data": {
      "application/vnd.jupyter.widget-view+json": {
       "model_id": "",
       "version_major": 2,
       "version_minor": 0
      },
      "text/plain": [
       "  0%|          | 0/1000 [00:00<?, ?it/s]"
      ]
     },
     "metadata": {},
     "output_type": "display_data"
    },
    {
     "data": {
      "application/vnd.jupyter.widget-view+json": {
       "model_id": "01f3ef8cbf904b7fa55835e263622bba",
       "version_major": 2,
       "version_minor": 0
      },
      "text/plain": [
       "  0%|          | 0/1000 [00:00<?, ?it/s]"
      ]
     },
     "metadata": {},
     "output_type": "display_data"
    }
   ],
   "source": [
    "pvals=[]\n",
    "cos_sims=[]\n",
    "for i, present_text in enumerate(tqdm(bp_texts)):\n",
    "    if i>0:\n",
    "        former_text=bp_texts[i-1]\n",
    "        cacca=tesste(former_text, present_text)\n",
    "        cos_sims.append(cacca.cos_sim)\n",
    "        pvals.append(cacca.pval)"
   ]
  },
  {
   "cell_type": "markdown",
   "id": "2b4e1496",
   "metadata": {},
   "source": [
    "#### Save me!"
   ]
  },
  {
   "cell_type": "code",
   "execution_count": null,
   "id": "6a806214",
   "metadata": {
    "ExecuteTime": {
     "start_time": "2024-05-15T16:05:43.395Z"
    }
   },
   "outputs": [],
   "source": [
    "bp_cspv={'cos_sims': cos_sims, 'pvals':pvals}"
   ]
  },
  {
   "cell_type": "code",
   "execution_count": null,
   "id": "680b79f0",
   "metadata": {
    "ExecuteTime": {
     "start_time": "2024-05-15T16:05:43.840Z"
    }
   },
   "outputs": [],
   "source": [
    "with open('./texts/bp_cspv.pickle','wb') as f:\n",
    "    pickle.dump(bp_cspv, f)"
   ]
  },
  {
   "cell_type": "markdown",
   "id": "10e5cf80",
   "metadata": {},
   "source": [
    "## Shell"
   ]
  },
  {
   "cell_type": "code",
   "execution_count": null,
   "id": "98ef6f25",
   "metadata": {
    "ExecuteTime": {
     "end_time": "2024-05-15T15:23:04.828457Z",
     "start_time": "2024-05-15T15:23:04.828447Z"
    }
   },
   "outputs": [],
   "source": [
    "shell_texts=[ppp(reports_folder+shell+shell_file) for shell_file in tqdm(shell_files)]"
   ]
  },
  {
   "cell_type": "code",
   "execution_count": null,
   "id": "e025757e",
   "metadata": {},
   "outputs": [],
   "source": [
    "with open('./texts/shell.pickle' 'wb') as f:\n",
    "    pickle.dump(shell_texts, f)"
   ]
  }
 ],
 "metadata": {
  "kernelspec": {
   "display_name": "Python 3 (ipykernel)",
   "language": "python",
   "name": "python3"
  },
  "language_info": {
   "codemirror_mode": {
    "name": "ipython",
    "version": 3
   },
   "file_extension": ".py",
   "mimetype": "text/x-python",
   "name": "python",
   "nbconvert_exporter": "python",
   "pygments_lexer": "ipython3",
   "version": "3.8.19"
  },
  "notify_time": "5",
  "toc": {
   "base_numbering": 1,
   "nav_menu": {},
   "number_sections": true,
   "sideBar": true,
   "skip_h1_title": false,
   "title_cell": "Table of Contents",
   "title_sidebar": "Contents",
   "toc_cell": false,
   "toc_position": {
    "height": "752px",
    "left": "72px",
    "top": "370px",
    "width": "288px"
   },
   "toc_section_display": true,
   "toc_window_display": true
  },
  "varInspector": {
   "cols": {
    "lenName": 16,
    "lenType": 16,
    "lenVar": 40
   },
   "kernels_config": {
    "python": {
     "delete_cmd_postfix": "",
     "delete_cmd_prefix": "del ",
     "library": "var_list.py",
     "varRefreshCmd": "print(var_dic_list())"
    },
    "r": {
     "delete_cmd_postfix": ") ",
     "delete_cmd_prefix": "rm(",
     "library": "var_list.r",
     "varRefreshCmd": "cat(var_dic_list()) "
    }
   },
   "types_to_exclude": [
    "module",
    "function",
    "builtin_function_or_method",
    "instance",
    "_Feature"
   ],
   "window_display": false
  }
 },
 "nbformat": 4,
 "nbformat_minor": 5
}
