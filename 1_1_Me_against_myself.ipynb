{
 "cells": [
  {
   "cell_type": "markdown",
   "id": "02195a06",
   "metadata": {},
   "source": [
    "# Intro"
   ]
  },
  {
   "cell_type": "markdown",
   "id": "215a6807",
   "metadata": {},
   "source": [
    "## Load"
   ]
  },
  {
   "cell_type": "code",
   "execution_count": 1,
   "id": "cfcf2352",
   "metadata": {
    "ExecuteTime": {
     "end_time": "2024-05-15T12:30:26.847771Z",
     "start_time": "2024-05-15T12:30:26.571804Z"
    }
   },
   "outputs": [],
   "source": [
    "import os, sys, pickle\n",
    "import numpy as np\n",
    "from tqdm.notebook import trange, tqdm"
   ]
  },
  {
   "cell_type": "code",
   "execution_count": 2,
   "id": "04c5a221",
   "metadata": {
    "ExecuteTime": {
     "end_time": "2024-05-15T12:30:30.553588Z",
     "start_time": "2024-05-15T12:30:26.852872Z"
    }
   },
   "outputs": [],
   "source": [
    "from tesste import tesste\n",
    "from ppp import ppp"
   ]
  },
  {
   "cell_type": "markdown",
   "id": "fea7c536",
   "metadata": {},
   "source": [
    "## Data"
   ]
  },
  {
   "cell_type": "code",
   "execution_count": 3,
   "id": "ccfc2a27",
   "metadata": {
    "ExecuteTime": {
     "end_time": "2024-05-15T12:30:30.561148Z",
     "start_time": "2024-05-15T12:30:30.556929Z"
    }
   },
   "outputs": [],
   "source": [
    "reports_folder='./reports/'"
   ]
  },
  {
   "cell_type": "code",
   "execution_count": 4,
   "id": "cde5b25f",
   "metadata": {
    "ExecuteTime": {
     "end_time": "2024-05-15T12:30:30.652493Z",
     "start_time": "2024-05-15T12:30:30.563888Z"
    }
   },
   "outputs": [],
   "source": [
    "bp='5_BP_PLC/'\n",
    "bp_files=os.listdir(reports_folder+bp)\n",
    "bp_files.sort()"
   ]
  },
  {
   "cell_type": "code",
   "execution_count": 5,
   "id": "773c85ef",
   "metadata": {
    "ExecuteTime": {
     "end_time": "2024-05-15T12:30:30.727969Z",
     "start_time": "2024-05-15T12:30:30.658245Z"
    }
   },
   "outputs": [],
   "source": [
    "shell='1_Shell/'\n",
    "shell_files=os.listdir(reports_folder+shell)\n",
    "shell_files.sort()"
   ]
  },
  {
   "cell_type": "code",
   "execution_count": 6,
   "id": "11c07a6e",
   "metadata": {
    "ExecuteTime": {
     "end_time": "2024-05-15T12:30:30.819351Z",
     "start_time": "2024-05-15T12:30:30.731691Z"
    }
   },
   "outputs": [],
   "source": [
    "bp_files=[sh for sh in bp_files if sh.endswith('.pdf')]"
   ]
  },
  {
   "cell_type": "code",
   "execution_count": 7,
   "id": "787a98c5",
   "metadata": {
    "ExecuteTime": {
     "end_time": "2024-05-15T12:30:30.910845Z",
     "start_time": "2024-05-15T12:30:30.822875Z"
    }
   },
   "outputs": [],
   "source": [
    "shell_files=[sh for sh in shell_files if sh.endswith('.pdf')]"
   ]
  },
  {
   "cell_type": "code",
   "execution_count": 8,
   "id": "284e474a",
   "metadata": {
    "ExecuteTime": {
     "end_time": "2024-05-15T12:30:31.048808Z",
     "start_time": "2024-05-15T12:30:30.914580Z"
    }
   },
   "outputs": [
    {
     "data": {
      "text/plain": [
       "9"
      ]
     },
     "execution_count": 8,
     "metadata": {},
     "output_type": "execute_result"
    }
   ],
   "source": [
    "len(shell_files)"
   ]
  },
  {
   "cell_type": "markdown",
   "id": "0081e78d",
   "metadata": {},
   "source": [
    "# Comparing reports from the same company for different years"
   ]
  },
  {
   "cell_type": "markdown",
   "id": "911c85a0",
   "metadata": {},
   "source": [
    "## BP"
   ]
  },
  {
   "cell_type": "code",
   "execution_count": 11,
   "id": "42af507e",
   "metadata": {
    "ExecuteTime": {
     "end_time": "2024-05-15T12:38:13.335052Z",
     "start_time": "2024-05-15T12:32:29.645378Z"
    }
   },
   "outputs": [
    {
     "data": {
      "application/vnd.jupyter.widget-view+json": {
       "model_id": "5061d89dd5cf4730a6d54053fb4f31c7",
       "version_major": 2,
       "version_minor": 0
      },
      "text/plain": [
       "  0%|          | 0/9 [00:00<?, ?it/s]"
      ]
     },
     "metadata": {},
     "output_type": "display_data"
    }
   ],
   "source": [
    "bp_texts=[]\n",
    "for bp_file in tqdm(bp_files):\n",
    "    bp_texts.append(ppp(reports_folder+bp+bp_file))"
   ]
  },
  {
   "cell_type": "markdown",
   "id": "402cc294",
   "metadata": {},
   "source": [
    "## Shell"
   ]
  },
  {
   "cell_type": "code",
   "execution_count": 9,
   "id": "d3a37e6a",
   "metadata": {
    "ExecuteTime": {
     "end_time": "2024-05-15T12:32:29.626616Z",
     "start_time": "2024-05-15T12:30:31.059755Z"
    }
   },
   "outputs": [
    {
     "data": {
      "application/vnd.jupyter.widget-view+json": {
       "model_id": "aaa88c9924b64388aa89a91b3a3252d9",
       "version_major": 2,
       "version_minor": 0
      },
      "text/plain": [
       "  0%|          | 0/9 [00:00<?, ?it/s]"
      ]
     },
     "metadata": {},
     "output_type": "display_data"
    }
   ],
   "source": [
    "shell_texts=[ppp(reports_folder+shell+shell_file) for shell_file in tqdm(shell_files)]"
   ]
  }
 ],
 "metadata": {
  "kernelspec": {
   "display_name": "Python 3 (ipykernel)",
   "language": "python",
   "name": "python3"
  },
  "language_info": {
   "codemirror_mode": {
    "name": "ipython",
    "version": 3
   },
   "file_extension": ".py",
   "mimetype": "text/x-python",
   "name": "python",
   "nbconvert_exporter": "python",
   "pygments_lexer": "ipython3",
   "version": "3.8.10"
  },
  "notify_time": "5",
  "toc": {
   "base_numbering": 1,
   "nav_menu": {},
   "number_sections": true,
   "sideBar": true,
   "skip_h1_title": false,
   "title_cell": "Table of Contents",
   "title_sidebar": "Contents",
   "toc_cell": false,
   "toc_position": {
    "height": "752px",
    "left": "72px",
    "top": "370px",
    "width": "288px"
   },
   "toc_section_display": true,
   "toc_window_display": true
  },
  "varInspector": {
   "cols": {
    "lenName": 16,
    "lenType": 16,
    "lenVar": 40
   },
   "kernels_config": {
    "python": {
     "delete_cmd_postfix": "",
     "delete_cmd_prefix": "del ",
     "library": "var_list.py",
     "varRefreshCmd": "print(var_dic_list())"
    },
    "r": {
     "delete_cmd_postfix": ") ",
     "delete_cmd_prefix": "rm(",
     "library": "var_list.r",
     "varRefreshCmd": "cat(var_dic_list()) "
    }
   },
   "types_to_exclude": [
    "module",
    "function",
    "builtin_function_or_method",
    "instance",
    "_Feature"
   ],
   "window_display": false
  }
 },
 "nbformat": 4,
 "nbformat_minor": 5
}
