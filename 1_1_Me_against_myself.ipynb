{
 "cells": [
  {
   "cell_type": "markdown",
   "id": "ee2956c2",
   "metadata": {},
   "source": [
    "# Intro"
   ]
  },
  {
   "cell_type": "markdown",
   "id": "b0ec0fdb",
   "metadata": {},
   "source": [
    "## Load"
   ]
  },
  {
   "cell_type": "code",
   "execution_count": 8,
   "id": "dba95e58",
   "metadata": {
    "ExecuteTime": {
     "end_time": "2024-05-15T08:02:43.718967Z",
     "start_time": "2024-05-15T08:02:43.714141Z"
    }
   },
   "outputs": [],
   "source": [
    "import os, sys, pickle\n",
    "import numpy as np\n",
    "from tqdm.notebook import trange, tqdm"
   ]
  },
  {
   "cell_type": "code",
   "execution_count": 9,
   "id": "cdb62485",
   "metadata": {
    "ExecuteTime": {
     "end_time": "2024-05-15T08:02:44.347081Z",
     "start_time": "2024-05-15T08:02:44.343621Z"
    }
   },
   "outputs": [],
   "source": [
    "from tesste import tesste\n",
    "from ppp import ppp"
   ]
  },
  {
   "cell_type": "markdown",
   "id": "28cfd008",
   "metadata": {},
   "source": [
    "## Data"
   ]
  },
  {
   "cell_type": "code",
   "execution_count": 10,
   "id": "f8928971",
   "metadata": {
    "ExecuteTime": {
     "end_time": "2024-05-15T08:02:44.995837Z",
     "start_time": "2024-05-15T08:02:44.991120Z"
    }
   },
   "outputs": [],
   "source": [
    "reports_folder='./reports/'"
   ]
  },
  {
   "cell_type": "code",
   "execution_count": 11,
   "id": "3073dfe1",
   "metadata": {
    "ExecuteTime": {
     "end_time": "2024-05-15T08:02:45.275021Z",
     "start_time": "2024-05-15T08:02:45.267173Z"
    }
   },
   "outputs": [],
   "source": [
    "bp='5_BP_PLC/'\n",
    "bp_files=os.listdir(reports_folder+bp)\n",
    "bp_files.sort()"
   ]
  },
  {
   "cell_type": "code",
   "execution_count": 12,
   "id": "f5bd3a74",
   "metadata": {
    "ExecuteTime": {
     "end_time": "2024-05-15T08:02:45.557631Z",
     "start_time": "2024-05-15T08:02:45.551368Z"
    }
   },
   "outputs": [],
   "source": [
    "shell='1_Shell/'\n",
    "shell_files=os.listdir(reports_folder+shell)\n",
    "shell_files.sort()"
   ]
  },
  {
   "cell_type": "markdown",
   "id": "252bd7f0",
   "metadata": {},
   "source": [
    "# Comparing reports from the same company for different years"
   ]
  },
  {
   "cell_type": "markdown",
   "id": "7523d6d2",
   "metadata": {},
   "source": [
    "## BP"
   ]
  },
  {
   "cell_type": "code",
   "execution_count": 14,
   "id": "54fefe12",
   "metadata": {
    "ExecuteTime": {
     "end_time": "2024-05-15T08:03:34.793697Z",
     "start_time": "2024-05-15T08:02:53.033602Z"
    }
   },
   "outputs": [
    {
     "data": {
      "application/vnd.jupyter.widget-view+json": {
       "model_id": "17195c6229bb464a8193856ea9f5bd36",
       "version_major": 2,
       "version_minor": 0
      },
      "text/plain": [
       "  0%|          | 0/9 [00:00<?, ?it/s]"
      ]
     },
     "metadata": {},
     "output_type": "display_data"
    },
    {
     "ename": "AssertionError",
     "evalue": "Encrypted file!",
     "output_type": "error",
     "traceback": [
      "\u001b[0;31m---------------------------------------------------------------------------\u001b[0m",
      "\u001b[0;31mAssertionError\u001b[0m                            Traceback (most recent call last)",
      "Cell \u001b[0;32mIn[14], line 1\u001b[0m\n\u001b[0;32m----> 1\u001b[0m bp_texts\u001b[38;5;241m=\u001b[39m[ppp(reports_folder\u001b[38;5;241m+\u001b[39mbp\u001b[38;5;241m+\u001b[39mbp_file) \u001b[38;5;28;01mfor\u001b[39;00m bp_file \u001b[38;5;129;01min\u001b[39;00m tqdm(bp_files)]\n",
      "Cell \u001b[0;32mIn[14], line 1\u001b[0m, in \u001b[0;36m<listcomp>\u001b[0;34m(.0)\u001b[0m\n\u001b[0;32m----> 1\u001b[0m bp_texts\u001b[38;5;241m=\u001b[39m[\u001b[43mppp\u001b[49m\u001b[43m(\u001b[49m\u001b[43mreports_folder\u001b[49m\u001b[38;5;241;43m+\u001b[39;49m\u001b[43mbp\u001b[49m\u001b[38;5;241;43m+\u001b[39;49m\u001b[43mbp_file\u001b[49m\u001b[43m)\u001b[49m \u001b[38;5;28;01mfor\u001b[39;00m bp_file \u001b[38;5;129;01min\u001b[39;00m tqdm(bp_files)]\n",
      "File \u001b[0;32m~/Documents/Lavoro/PythonFiles/sdgs_py38/sdgs/ppp.py:6\u001b[0m, in \u001b[0;36mppp\u001b[0;34m(file, page)\u001b[0m\n\u001b[1;32m      4\u001b[0m \u001b[38;5;28;01mdef\u001b[39;00m \u001b[38;5;21mppp\u001b[39m(file, page\u001b[38;5;241m=\u001b[39m\u001b[38;5;28;01mNone\u001b[39;00m):\n\u001b[1;32m      5\u001b[0m     reader \u001b[38;5;241m=\u001b[39m PdfReader(file)\n\u001b[0;32m----> 6\u001b[0m     \u001b[38;5;28;01massert\u001b[39;00m \u001b[38;5;129;01mnot\u001b[39;00m reader\u001b[38;5;241m.\u001b[39mis_encrypted, \u001b[38;5;124m'\u001b[39m\u001b[38;5;124mEncrypted file!\u001b[39m\u001b[38;5;124m'\u001b[39m\n\u001b[1;32m      7\u001b[0m     n_pages\u001b[38;5;241m=\u001b[39mreader\u001b[38;5;241m.\u001b[39mget_num_pages()\n\u001b[1;32m      8\u001b[0m     \u001b[38;5;66;03m# all pages\u001b[39;00m\n",
      "\u001b[0;31mAssertionError\u001b[0m: Encrypted file!"
     ]
    }
   ],
   "source": [
    "bp_texts=[ppp(reports_folder+bp+bp_file) for bp_file in tqdm(bp_files)]"
   ]
  },
  {
   "cell_type": "code",
   "execution_count": null,
   "id": "8a76b5aa",
   "metadata": {},
   "outputs": [],
   "source": []
  }
 ],
 "metadata": {
  "kernelspec": {
   "display_name": "Python 3 (ipykernel)",
   "language": "python",
   "name": "python3"
  },
  "language_info": {
   "codemirror_mode": {
    "name": "ipython",
    "version": 3
   },
   "file_extension": ".py",
   "mimetype": "text/x-python",
   "name": "python",
   "nbconvert_exporter": "python",
   "pygments_lexer": "ipython3",
   "version": "3.8.19"
  },
  "toc": {
   "base_numbering": 1,
   "nav_menu": {},
   "number_sections": true,
   "sideBar": true,
   "skip_h1_title": false,
   "title_cell": "Table of Contents",
   "title_sidebar": "Contents",
   "toc_cell": false,
   "toc_position": {
    "height": "calc(100% - 180px)",
    "left": "10px",
    "top": "150px",
    "width": "288px"
   },
   "toc_section_display": true,
   "toc_window_display": true
  }
 },
 "nbformat": 4,
 "nbformat_minor": 5
}
